{
 "cells": [
  {
   "cell_type": "code",
   "execution_count": 22,
   "id": "3448b8d3",
   "metadata": {},
   "outputs": [],
   "source": [
    "import pandas as pd\n",
    "import numpy as np"
   ]
  },
  {
   "cell_type": "code",
   "execution_count": 57,
   "id": "67f6bd76",
   "metadata": {},
   "outputs": [],
   "source": [
    "data_path = '../data/'\n",
    "df = pd.read_csv(data_path + 'ner_dataset.zip', encoding=\"latin1\")"
   ]
  },
  {
   "cell_type": "code",
   "execution_count": 58,
   "id": "13919a34",
   "metadata": {},
   "outputs": [
    {
     "data": {
      "text/html": [
       "<div>\n",
       "<style scoped>\n",
       "    .dataframe tbody tr th:only-of-type {\n",
       "        vertical-align: middle;\n",
       "    }\n",
       "\n",
       "    .dataframe tbody tr th {\n",
       "        vertical-align: top;\n",
       "    }\n",
       "\n",
       "    .dataframe thead th {\n",
       "        text-align: right;\n",
       "    }\n",
       "</style>\n",
       "<table border=\"1\" class=\"dataframe\">\n",
       "  <thead>\n",
       "    <tr style=\"text-align: right;\">\n",
       "      <th></th>\n",
       "      <th>0</th>\n",
       "      <th>1</th>\n",
       "      <th>2</th>\n",
       "      <th>3</th>\n",
       "      <th>4</th>\n",
       "    </tr>\n",
       "  </thead>\n",
       "  <tbody>\n",
       "    <tr>\n",
       "      <th>Sentence #</th>\n",
       "      <td>Sentence: 1</td>\n",
       "      <td>NaN</td>\n",
       "      <td>NaN</td>\n",
       "      <td>NaN</td>\n",
       "      <td>NaN</td>\n",
       "    </tr>\n",
       "    <tr>\n",
       "      <th>Word</th>\n",
       "      <td>Thousands</td>\n",
       "      <td>of</td>\n",
       "      <td>demonstrators</td>\n",
       "      <td>have</td>\n",
       "      <td>marched</td>\n",
       "    </tr>\n",
       "    <tr>\n",
       "      <th>POS</th>\n",
       "      <td>NNS</td>\n",
       "      <td>IN</td>\n",
       "      <td>NNS</td>\n",
       "      <td>VBP</td>\n",
       "      <td>VBN</td>\n",
       "    </tr>\n",
       "    <tr>\n",
       "      <th>Tag</th>\n",
       "      <td>O</td>\n",
       "      <td>O</td>\n",
       "      <td>O</td>\n",
       "      <td>O</td>\n",
       "      <td>O</td>\n",
       "    </tr>\n",
       "  </tbody>\n",
       "</table>\n",
       "</div>"
      ],
      "text/plain": [
       "                      0    1              2     3        4\n",
       "Sentence #  Sentence: 1  NaN            NaN   NaN      NaN\n",
       "Word          Thousands   of  demonstrators  have  marched\n",
       "POS                 NNS   IN            NNS   VBP      VBN\n",
       "Tag                   O    O              O     O        O"
      ]
     },
     "execution_count": 58,
     "metadata": {},
     "output_type": "execute_result"
    }
   ],
   "source": [
    "df.head().T"
   ]
  },
  {
   "cell_type": "code",
   "execution_count": 65,
   "id": "b52523ae",
   "metadata": {},
   "outputs": [],
   "source": [
    "sent_idx = df[df['Sentence #'].notna()].index.values"
   ]
  },
  {
   "cell_type": "code",
   "execution_count": 123,
   "id": "8fd15ea3",
   "metadata": {},
   "outputs": [],
   "source": [
    "class NERSentence:\n",
    "    def __init__(self, df, idx_start=0, indicator_var='Sentence #', word_var='Word'):\n",
    "        self.df = df\n",
    "        self.i = idx_start\n",
    "        self.word_var = word_var\n",
    "        \n",
    "        self.idx_all = df[df[indicator_var].notna()].index.values\n",
    "        self.idx_a = self.idx_all[self.i]\n",
    "        self.idx_b = self.idx_all[1]\n",
    "        self.i += 1\n",
    "        \n",
    "    def update_sentence_range(self):\n",
    "        self.i += 1\n",
    "        self.idx_a = self.idx_b\n",
    "        self.idx_b = self.idx_all[self.i]\n",
    "                \n",
    "    \n",
    "    def get_next_sentence(self):\n",
    "        s = ''\n",
    "        for i in range(self.idx_a, self.idx_b):\n",
    "            s = s + ' ' + df[i:i+1][self.word_var].values[0]\n",
    "            \n",
    "        self.update_sentence_range()\n",
    "    \n",
    "        return s\n"
   ]
  },
  {
   "cell_type": "code",
   "execution_count": 127,
   "id": "4e912cc5",
   "metadata": {},
   "outputs": [
    {
     "data": {
      "text/plain": [
       "' Thousands of demonstrators have marched through London to protest the war in Iraq and demand the withdrawal of British troops from that country .'"
      ]
     },
     "execution_count": 127,
     "metadata": {},
     "output_type": "execute_result"
    }
   ],
   "source": [
    "se = NERSentence(df)\n",
    "se.get_next_sentence()"
   ]
  },
  {
   "cell_type": "code",
   "execution_count": 128,
   "id": "2b997bcf",
   "metadata": {},
   "outputs": [
    {
     "data": {
      "text/plain": [
       "' Families of soldiers killed in the conflict joined the protesters who carried banners with such slogans as \" Bush Number One Terrorist \" and \" Stop the Bombings . \"'"
      ]
     },
     "execution_count": 128,
     "metadata": {},
     "output_type": "execute_result"
    }
   ],
   "source": [
    "se.get_next_sentence()"
   ]
  },
  {
   "cell_type": "code",
   "execution_count": 130,
   "id": "73f1d12d",
   "metadata": {},
   "outputs": [
    {
     "name": "stdout",
     "output_type": "stream",
     "text": [
      "2022-06-22 15:56:07,111 loading file /Users/jason/.flair/models/ner-english/4f4cdab26f24cb98b732b389e6cebc646c36f54cfd6e0b7d3b90b25656e4262f.8baa8ae8795f4df80b28e7f7b61d788ecbb057d1dc85aacb316f1bd02837a4a4\n",
      "2022-06-22 15:56:08,444 SequenceTagger predicts: Dictionary with 20 tags: <unk>, O, S-ORG, S-MISC, B-PER, E-PER, S-LOC, B-ORG, E-ORG, I-PER, S-PER, B-MISC, I-MISC, E-MISC, I-ORG, B-LOC, E-LOC, I-LOC, <START>, <STOP>\n",
      "------------\n",
      " Thousands of demonstrators have marched through London to protest the war in Iraq and demand the withdrawal of British troops from that country .\n",
      "\n",
      "Span[6:7]: \"London\" → LOC (0.9999)\n",
      "Span[12:13]: \"Iraq\" → LOC (1.0)\n",
      "Span[18:19]: \"British\" → MISC (0.9976)\n",
      "------------\n",
      " Families of soldiers killed in the conflict joined the protesters who carried banners with such slogans as \" Bush Number One Terrorist \" and \" Stop the Bombings . \"\n",
      "\n",
      "Span[18:22]: \"Bush Number One Terrorist\" → MISC (0.6677)\n",
      "Span[25:28]: \"Stop the Bombings\" → MISC (0.963)\n",
      "------------\n",
      " They marched from the Houses of Parliament to a rally in Hyde Park .\n",
      "\n",
      "Span[4:7]: \"Houses of Parliament\" → ORG (0.965)\n",
      "Span[11:13]: \"Hyde Park\" → LOC (0.9992)\n"
     ]
    }
   ],
   "source": [
    "from flair.data import Sentence\n",
    "from flair.models import SequenceTagger\n",
    "\n",
    "# load the NER tagger\n",
    "tagger = SequenceTagger.load('ner')\n",
    "\n",
    "se = NERSentence(df)\n",
    "\n",
    "for i in range(3):\n",
    "    # run NER over sentence\n",
    "    s_next = se.get_next_sentence()\n",
    "    s = Sentence(s_next)\n",
    "    tagger.predict(s)\n",
    "    print('------------\\n'+s_next+'\\n')\n",
    "    for entity in s.get_spans('ner'):\n",
    "        print(entity)"
   ]
  },
  {
   "cell_type": "code",
   "execution_count": null,
   "id": "c7ae37e7",
   "metadata": {},
   "outputs": [],
   "source": []
  }
 ],
 "metadata": {
  "kernelspec": {
   "display_name": "Python 3",
   "language": "python",
   "name": "python3"
  },
  "language_info": {
   "codemirror_mode": {
    "name": "ipython",
    "version": 3
   },
   "file_extension": ".py",
   "mimetype": "text/x-python",
   "name": "python",
   "nbconvert_exporter": "python",
   "pygments_lexer": "ipython3",
   "version": "3.8.8"
  }
 },
 "nbformat": 4,
 "nbformat_minor": 5
}
