{
 "cells": [
  {
   "cell_type": "markdown",
   "metadata": {},
   "source": [
    "### Libraries"
   ]
  },
  {
   "cell_type": "code",
   "execution_count": 9,
   "metadata": {},
   "outputs": [],
   "source": [
    "import pandas as pd\n",
    "import numpy as np \n",
    "\n",
    "from pyspark.sql import SparkSession\n",
    "from pyspark.sql import functions as F\n",
    "from pyspark.sql.types import *\n",
    "import os\n",
    "import pandas as pd\n",
    "import seaborn as sns\n",
    "import matplotlib.pyplot as plt\n",
    "#Spark version and Spark NLP version should be align"
   ]
  },
  {
   "cell_type": "markdown",
   "metadata": {},
   "source": [
    "### Data Understanding"
   ]
  },
  {
   "cell_type": "code",
   "execution_count": 10,
   "metadata": {},
   "outputs": [],
   "source": [
    "spark = SparkSession.builder\\\n",
    "    .appName(\"nlp\")\\\n",
    "    .master(\"local[*]\")\\\n",
    "    .config(\"spark.driver.memory\",\"8G\")\\\n",
    "    .config(\"spark.driver.maxResultSize\", \"0\") \\\n",
    "    .config(\"spark.kryoserializer.buffer.max\", \"2000M\")\\\n",
    "    .getOrCreate()\n",
    "\n",
    "spark.sparkContext.setLogLevel(\"ERROR\")"
   ]
  },
  {
   "cell_type": "code",
   "execution_count": 11,
   "metadata": {},
   "outputs": [],
   "source": [
    "data_path = os.environ.get(\"NEWS_DATA_PATH\")"
   ]
  },
  {
   "cell_type": "code",
   "execution_count": 4,
   "metadata": {},
   "outputs": [
    {
     "name": "stdout",
     "output_type": "stream",
     "text": [
      ",Unnamed: 0,date,year,month,day,author,title,article,url,section,publication\n",
      "0,0,2016-12-09 18:31:00,2016,12.0,9,Lee Drutman,We should take concerns about the health of liberal democracy seriously,\"This post is part of Polyarchy, an independent blog produced by the political reform program at New Am"
     ]
    }
   ],
   "source": [
    "!head -c 300 $data_path"
   ]
  },
  {
   "cell_type": "code",
   "execution_count": 5,
   "metadata": {},
   "outputs": [
    {
     "name": "stdout",
     "output_type": "stream",
     "text": [
      "comes to fitness. On another note ... it sounds like she's still working when it comes to SCOTUS biz too. Law360 notes she calls into conference chats via phone with the other robes these days.\",https://www.tmz.com/2020/04/01/ruth-bader-ginsburg-rbg-justice-working-out-gym-trainer-coronavirus/,,TMZ\n"
     ]
    }
   ],
   "source": [
    "!tail -c 300 $data_path"
   ]
  },
  {
   "cell_type": "markdown",
   "metadata": {},
   "source": [
    "The columns have to be change for a more readable names"
   ]
  },
  {
   "cell_type": "code",
   "execution_count": 85,
   "metadata": {},
   "outputs": [
    {
     "name": "stdout",
     "output_type": "stream",
     "text": [
      "8865740 /home/rjac/workspace/all-the-news-2-1/all-the-news-2-1.csv\n"
     ]
    }
   ],
   "source": [
    "!wc -l $data_path"
   ]
  },
  {
   "cell_type": "code",
   "execution_count": 12,
   "metadata": {},
   "outputs": [
    {
     "name": "stdout",
     "output_type": "stream",
     "text": [
      "Line 8865740\n"
     ]
    }
   ],
   "source": [
    "with open(data_path,'rb') as fp:\n",
    "    count=0\n",
    "    for line in fp:\n",
    "        count += 1\n",
    "    print(\"Line {}\".format(count))"
   ]
  },
  {
   "cell_type": "code",
   "execution_count": 13,
   "metadata": {},
   "outputs": [],
   "source": [
    "df = spark.read.option(\"header\",\"true\").option(\"multiline\",\"true\").csv(data_path).withColumnRenamed(\"_c0\",\"idx\").withColumnRenamed(\"Unnamed: 0\",\"idx_news\")"
   ]
  },
  {
   "cell_type": "code",
   "execution_count": 14,
   "metadata": {},
   "outputs": [
    {
     "name": "stdout",
     "output_type": "stream",
     "text": [
      "root\n",
      " |-- idx: string (nullable = true)\n",
      " |-- idx_news: string (nullable = true)\n",
      " |-- date: string (nullable = true)\n",
      " |-- year: string (nullable = true)\n",
      " |-- month: string (nullable = true)\n",
      " |-- day: string (nullable = true)\n",
      " |-- author: string (nullable = true)\n",
      " |-- title: string (nullable = true)\n",
      " |-- article: string (nullable = true)\n",
      " |-- url: string (nullable = true)\n",
      " |-- section: string (nullable = true)\n",
      " |-- publication: string (nullable = true)\n",
      "\n"
     ]
    }
   ],
   "source": [
    "df.printSchema()"
   ]
  },
  {
   "cell_type": "code",
   "execution_count": 15,
   "metadata": {},
   "outputs": [
    {
     "name": "stdout",
     "output_type": "stream",
     "text": [
      "-RECORD 0-------------------------------------------------------------------------------------------------------------------------------------------------------------\n",
      " idx         | 0                                                                                                                                                      \n",
      " idx_news    | 0                                                                                                                                                      \n",
      " date        | 2016-12-09 18:31:00                                                                                                                                    \n",
      " year        | 2016                                                                                                                                                   \n",
      " month       | 12.0                                                                                                                                                   \n",
      " day         | 9                                                                                                                                                      \n",
      " author      | Lee Drutman                                                                                                                                            \n",
      " title       | We should take concerns about the health of liberal democracy seriously                                                                                \n",
      " article     | \"This post is part of Polyarchy, an independent blog produced by the political reform program at New America, a Washington think tank devoted to de... \n",
      " url         |  however                                                                                                                                               \n",
      " section     |  several critics have jumped on Foa and Mounk for misinterpreting the data and generating unnecessary panic. Political scientist Erik Voeten           \n",
      " publication |  for example                                                                                                                                           \n",
      "-RECORD 1-------------------------------------------------------------------------------------------------------------------------------------------------------------\n",
      " idx         | 1                                                                                                                                                      \n",
      " idx_news    | 1                                                                                                                                                      \n",
      " date        | 2016-10-07 21:26:46                                                                                                                                    \n",
      " year        | 2016                                                                                                                                                   \n",
      " month       | 10.0                                                                                                                                                   \n",
      " day         | 7                                                                                                                                                      \n",
      " author      | Scott Davis                                                                                                                                            \n",
      " title       | Colts GM Ryan Grigson says Andrew Luck's contract makes it difficult to build the team                                                                 \n",
      " article     |  The Indianapolis Colts made Andrew Luck the highest-paid player in NFL history this offseason with a five-year, $122-million contract with $89 mil... \n",
      " url         | https://www.businessinsider.com/colts-gm-ryan-grigson-andrew-luck-contract-2016-10                                                                     \n",
      " section     | null                                                                                                                                                   \n",
      " publication | Business Insider                                                                                                                                       \n",
      "-RECORD 2-------------------------------------------------------------------------------------------------------------------------------------------------------------\n",
      " idx         | 2                                                                                                                                                      \n",
      " idx_news    | 2                                                                                                                                                      \n",
      " date        | 2018-01-26 00:00:00                                                                                                                                    \n",
      " year        | 2018                                                                                                                                                   \n",
      " month       | 1.0                                                                                                                                                    \n",
      " day         | 26                                                                                                                                                     \n",
      " author      | null                                                                                                                                                   \n",
      " title       | Trump denies report he ordered Mueller fired                                                                                                           \n",
      " article     | DAVOS, Switzerland (Reuters) - U.S. President Donald Trump denied a report on Friday that he had ordered Special Counsel Robert Mueller fired last ... \n",
      " url         | https://www.reuters.com/article/us-davos-meeting-trump-mueller/trump-denies-report-he-ordered-mueller-fired-idUSKBN1FF12A                              \n",
      " section     | Davos                                                                                                                                                  \n",
      " publication | Reuters                                                                                                                                                \n",
      "only showing top 3 rows\n",
      "\n"
     ]
    }
   ],
   "source": [
    "df.show(3,vertical=True,truncate=150)"
   ]
  },
  {
   "cell_type": "code",
   "execution_count": 16,
   "metadata": {},
   "outputs": [
    {
     "name": "stderr",
     "output_type": "stream",
     "text": [
      "                                                                                \r"
     ]
    },
    {
     "data": {
      "text/plain": [
       "3517272"
      ]
     },
     "execution_count": 16,
     "metadata": {},
     "output_type": "execute_result"
    }
   ],
   "source": [
    "df.count()"
   ]
  },
  {
   "cell_type": "code",
   "execution_count": 17,
   "metadata": {},
   "outputs": [],
   "source": [
    "import pyspark.sql.functions as F"
   ]
  },
  {
   "cell_type": "code",
   "execution_count": 18,
   "metadata": {},
   "outputs": [
    {
     "name": "stderr",
     "output_type": "stream",
     "text": [
      "[Stage 4:>                                                          (0 + 1) / 1]\r"
     ]
    },
    {
     "name": "stdout",
     "output_type": "stream",
     "text": [
      "+--------------------+-----+\n",
      "|                year|count|\n",
      "+--------------------+-----+\n",
      "| \"\"Atlas Obscura\"...|    1|\n",
      "| like most Androi...|    1|\n",
      "| too. In \"\"Call o...|    1|\n",
      "| Brinkley remains...|    1|\n",
      "| Will's survival ...|    1|\n",
      "| meant I was not ...|    1|\n",
      "|               beans|    4|\n",
      "| the doors are armed|    1|\n",
      "| the young spoile...|    2|\n",
      "| lots of people s...|    1|\n",
      "| 74% are in favor...|    1|\n",
      "| but extends into...|    1|\n",
      "| follow him on In...|    1|\n",
      "| your skin will p...|    1|\n",
      "| a counselor and ...|    1|\n",
      "|    once and for all|    1|\n",
      "| this cool applia...|    2|\n",
      "| \"\" Zuckerberg says.|    1|\n",
      "|   \"\" Hopkins said. |    1|\n",
      "| RDN. These food ...|    1|\n",
      "| Musk published a...|    1|\n",
      "| which can fit mo...|    1|\n",
      "|         you'll know|    1|\n",
      "|096 in 2016 and to 1|    1|\n",
      "| improvements tha...|    1|\n",
      "| his knowledge of...|    1|\n",
      "| unleashing a wav...|    1|\n",
      "| but his loyalty ...|    1|\n",
      "|    four years later|    1|\n",
      "|' and the seminal...|    1|\n",
      "| don't stop looki...|    1|\n",
      "| and the debate o...|    1|\n",
      "|   racial inequality|    1|\n",
      "| I stopped by to ...|    1|\n",
      "| torching the Jag...|    1|\n",
      "| according to Eur...|    1|\n",
      "|          professors|    1|\n",
      "|000 from the comp...|    1|\n",
      "|758 visitors with...|    1|\n",
      "|\"\" as well as Ed ...|    1|\n",
      "| the same way tha...|    1|\n",
      "| opinions are bou...|    1|\n",
      "| is again a very ...|    1|\n",
      "|https://www.refin...|    1|\n",
      "| it will look lik...|    1|\n",
      "|             genders|    2|\n",
      "| focusing especia...|    1|\n",
      "| its second-large...|    1|\n",
      "| and Candy Crush ...|    1|\n",
      "| which combined a...|    1|\n",
      "+--------------------+-----+\n",
      "only showing top 50 rows\n",
      "\n"
     ]
    },
    {
     "name": "stderr",
     "output_type": "stream",
     "text": [
      "                                                                                \r"
     ]
    }
   ],
   "source": [
    "df.groupBy(\"year\").count().show(50)"
   ]
  },
  {
   "cell_type": "code",
   "execution_count": null,
   "metadata": {},
   "outputs": [],
   "source": []
  }
 ],
 "metadata": {
  "kernelspec": {
   "display_name": "Python 3.10.4 ('nlp-pyspark-hf')",
   "language": "python",
   "name": "python3"
  },
  "language_info": {
   "codemirror_mode": {
    "name": "ipython",
    "version": 3
   },
   "file_extension": ".py",
   "mimetype": "text/x-python",
   "name": "python",
   "nbconvert_exporter": "python",
   "pygments_lexer": "ipython3",
   "version": "3.10.4"
  },
  "orig_nbformat": 4,
  "vscode": {
   "interpreter": {
    "hash": "9e718fae2162769484202c44e3e87d8c6b610ef033b2b837427352bed1d4e9a1"
   }
  }
 },
 "nbformat": 4,
 "nbformat_minor": 2
}
