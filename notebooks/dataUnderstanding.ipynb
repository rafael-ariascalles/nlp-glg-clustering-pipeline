{
 "cells": [
  {
   "cell_type": "markdown",
   "metadata": {},
   "source": [
    "##### Libraries"
   ]
  },
  {
   "cell_type": "code",
   "execution_count": 1,
   "metadata": {},
   "outputs": [],
   "source": [
    "from datasets import load_dataset,Dataset\n",
    "from datasets.features import Features,Value\n",
    "import pandas as pd\n",
    "from datetime import datetime\n",
    "from tqdm import tqdm\n",
    "import seaborn as sns\n",
    "import matplotlib.pylab as plt\n",
    "import os"
   ]
  },
  {
   "cell_type": "code",
   "execution_count": 2,
   "metadata": {},
   "outputs": [],
   "source": [
    "sns.set(rc={'figure.figsize':(18.7,11.27)})\n",
    "pd.set_option('display.float_format', lambda x: '%.3f' % x)"
   ]
  },
  {
   "cell_type": "markdown",
   "metadata": {},
   "source": [
    "##### Data Understanding"
   ]
  },
  {
   "cell_type": "code",
   "execution_count": 3,
   "metadata": {},
   "outputs": [],
   "source": [
    "data_path = os.getenv(\"NEWS_DATA_PATH\")"
   ]
  },
  {
   "cell_type": "code",
   "execution_count": 4,
   "metadata": {},
   "outputs": [
    {
     "name": "stdout",
     "output_type": "stream",
     "text": [
      ",Unnamed: 0,date,year,month,day,author,title,article,url,section,publication\n",
      "0,0,2016-12-09 18:31:00,2016,12.0,9,Lee Drutman,We should take concerns about the health of liberal democracy seriously,\"This post is part of Polyarchy, an independent blog produced by the political reform program at New Am"
     ]
    }
   ],
   "source": [
    "!head -c 300 $data_path"
   ]
  },
  {
   "cell_type": "code",
   "execution_count": 5,
   "metadata": {},
   "outputs": [
    {
     "name": "stdout",
     "output_type": "stream",
     "text": [
      "ously known for getting her sweat on. Stephen Colbert documented his attempt to keep up with her recently, and it was pretty hilarious ... she was kinda out of his league and in her own world when it comes to fitness. On another note ... it sounds like she's still working when it comes to SCOTUS biz too. Law360 notes she calls into conference chats via phone with the other robes these days.\",https://www.tmz.com/2020/04/01/ruth-bader-ginsburg-rbg-justice-working-out-gym-trainer-coronavirus/,,TMZ\n"
     ]
    }
   ],
   "source": [
    "!tail -c 500 $data_path"
   ]
  },
  {
   "cell_type": "markdown",
   "metadata": {},
   "source": [
    "The columns have to be change for a more readable names"
   ]
  },
  {
   "cell_type": "code",
   "execution_count": 6,
   "metadata": {},
   "outputs": [],
   "source": [
    "columns = [\"idx\",\"article_idx\",\"date\",\"year\",\"month\",\"day\",\"author\",\"title\",\"article\",\"url\",\"section\",\"publication\"]"
   ]
  },
  {
   "cell_type": "code",
   "execution_count": 7,
   "metadata": {},
   "outputs": [],
   "source": [
    "features_dict = Features({i: Value(\"int16\")  if i in [\"idx\",\"article_idx\"] else Value(\"string\") for i in columns})"
   ]
  },
  {
   "cell_type": "code",
   "execution_count": 8,
   "metadata": {},
   "outputs": [
    {
     "data": {
      "text/plain": [
       "{'idx': Value(dtype='int16', id=None),\n",
       " 'article_idx': Value(dtype='int16', id=None),\n",
       " 'date': Value(dtype='string', id=None),\n",
       " 'year': Value(dtype='string', id=None),\n",
       " 'month': Value(dtype='string', id=None),\n",
       " 'day': Value(dtype='string', id=None),\n",
       " 'author': Value(dtype='string', id=None),\n",
       " 'title': Value(dtype='string', id=None),\n",
       " 'article': Value(dtype='string', id=None),\n",
       " 'url': Value(dtype='string', id=None),\n",
       " 'section': Value(dtype='string', id=None),\n",
       " 'publication': Value(dtype='string', id=None)}"
      ]
     },
     "execution_count": 8,
     "metadata": {},
     "output_type": "execute_result"
    }
   ],
   "source": [
    "features_dict"
   ]
  },
  {
   "cell_type": "code",
   "execution_count": 20,
   "metadata": {},
   "outputs": [
    {
     "name": "stderr",
     "output_type": "stream",
     "text": [
      "Using custom data configuration default-743872de51535b2e\n",
      "Reusing dataset csv (/home/rjac/.cache/huggingface/datasets/csv/default-743872de51535b2e/0.0.0/433e0ccc46f9880962cc2b12065189766fbb2bee57a221866138fb9203c83519)\n"
     ]
    },
    {
     "data": {
      "application/vnd.jupyter.widget-view+json": {
       "model_id": "2eb024871e2e4dadb615e7d3d2a731e3",
       "version_major": 2,
       "version_minor": 0
      },
      "text/plain": [
       "  0%|          | 0/1 [00:00<?, ?it/s]"
      ]
     },
     "metadata": {},
     "output_type": "display_data"
    }
   ],
   "source": [
    "df = load_dataset(\"csv\",data_files=[data_path],skiprows=[0,2_324_812],column_names=columns,features=features_dict)"
   ]
  },
  {
   "cell_type": "markdown",
   "metadata": {},
   "source": [
    "##### Data Exploration"
   ]
  },
  {
   "cell_type": "markdown",
   "metadata": {},
   "source": [
    "##### Dataset"
   ]
  },
  {
   "cell_type": "markdown",
   "metadata": {},
   "source": [
    "The datasets consist of News with metada about the author,dates,title, url and the publisher. the article will be use as the main corpus."
   ]
  },
  {
   "cell_type": "code",
   "execution_count": 22,
   "metadata": {},
   "outputs": [
    {
     "data": {
      "text/plain": [
       "{'idx': [0, 1, 2],\n",
       " 'article_idx': [0, 1, 2],\n",
       " 'date': ['2016-12-09 18:31:00', '2016-10-07 21:26:46', '2018-01-26 00:00:00'],\n",
       " 'year': ['2016', '2016', '2018'],\n",
       " 'month': ['12.0', '10.0', '1.0'],\n",
       " 'day': ['9', '7', '26'],\n",
       " 'author': ['Lee Drutman', 'Scott Davis', None],\n",
       " 'title': ['We should take concerns about the health of liberal democracy seriously',\n",
       "  \"Colts GM Ryan Grigson says Andrew Luck's contract makes it difficult to build the team\",\n",
       "  'Trump denies report he ordered Mueller fired'],\n",
       " 'article': ['This post is part of Polyarchy, an independent blog produced by the political reform program at New America, a Washington think tank devoted to developing new ideas and new voices. Imagine you are an otherwise healthy 30-something who starts feeling weird. You are sometimes short of breath. You get migraines. Your feet start to swell a little. But otherwise, everything seems fine. You go to the doctor. The doctor runs some tests. She tells you,\\xa0It\\'s probably nothing, but these could be signs of a coming heart attack. You push for more certainty, but the doctor tells you she\\'s not sure. The human body is a complex system. You\\'re young and otherwise pretty healthy. There could be plenty of other explanations for what you\\'re feeling. But it is a little worrying. So just to be on the safe side, maybe you should reduce the stress in your life and eat a healthier diet. What would you do? If you\\'re a sensible person, you\\'d probably err on the side of precaution. Sure, it might be nothing to worry about, and the likelihood of a heart attack in your 30s might be low. But even a low chance is a low chance of something possibly fatal. Why take a chance, especially when the recommendations — less stress, healthier diet — are good for you either way? I offer this parable as a way of thinking about the debate that\\'s emerged over the past two weeks in response to Amanda Taub\\'s New York Times article profiling new findings by Roberto Stefan Foa and Yascha Mounk — findings that raise alarms about the fact that younger people have, over time, become less and less likely to say in surveys that it is \"essential\" to live in a democracy. Rather than share the sense of alarm, however, several critics have jumped on Foa and Mounk for misinterpreting the data and generating unnecessary panic. Political scientist Erik Voeten, for example, argued that their\\xa0analysis is misleading: \"The article by Mounk and Foa does document some small shifts in opinion on related issues. But these aren\\'t nearly as dramatic as the New York Times graph suggests.\" Similarly, Wonkblog\\'s Jeff Guo\\xa0reanalyzed the data and argued that it is \"far less alarming than\\xa0it seems.\" Foa and Mounk have responded, drawing on more analysis from their forthcoming Journal of Democracy article, which also documents increasing support among young people for \"a strong leader\" and rising support for extremism. Voeten, however, remains unimpressed, and now has more charts here suggesting the shifts are far less significant than Foa and Mounk make them out to be. \"And,\" he argues, \"it\\'s dangerous too to\\xa0tell the world that people are now ready to accept nondemocratic governance.\" For those who want to argue over how to interpret the data, you should follow the hyperlinks above. There are very reasonable points of disagreement. I don\\'t have much to add to that debate here, other than to observe that it\\'s very rare that data is unambiguous about important societal shifts before those shifts actually occur. When the data is unambiguous, it is almost always too late to do anything. The only sure sign of having a heart attack is, well, having a heart attack. Similarly, the only sure sign of a democratic collapse is, well, a democratic collapse. And whatever you think of the data analysis, there is also a mounting series of actual real-world election results that are hard to explain if support for liberal democracy is thriving. In deciding how seriously to take these findings, it\\'s also worth asking what we would do differently if we took Foa and Mounk\\'s findings seriously. How would we collectively respond? And what would be the consequences? For one, we\\'d probably invest in a lot more civic education, so that the next generation learns the basics of liberal democracy and understands why it\\'s a better system than authoritarian rule. This seems like a good idea regardless. Similarly, we might collectively invest considerable resources in making a strong public case for liberal democracy. We might also try to figure out ways to make our public institutions do more outreach to citizens to make sure they feel engaged in their democracy, and think hard about building up intermediary institutions that help people feel as though their voices are represented and taken seriously. Again, these seem like things we should be doing regardless, like reducing stress or improving the health of our diets. In my heart attack parable, if the doctor had told you that the only way to prevent a future heart attack would be to give up your job and your social life and spend the next year on strict bed rest eating only kale and chia seed salads, you might want to be a little more certain that you really were at high risk for a heart attack. After all, taking the risk seriously would impose a heavy cost on you. Other recent crises offer some examples of cases where key decision-makers did ignore warning signs, because taking those signs seriously would have imposed significant costs on them. For example, in the housing bubble of the mid-2000s, warnings were ignored because the financial industry had staked considerable investments and product lines on the myth that housing values would go up forever. To admit that housing was overvalued and that securitized mortgages were riskier than advertised would have cost investment banks dearly. But eventually, reality caught up with them, and the resulting damage was far worse than it would have been if we had paid attention to the early warning signs. Similarly, many carbon-intensive industries and fossil fuel producers pushed back on findings of climate change because taking those findings seriously would force significant changes in their industries. As a result, these industries funded doubt and uncertainty. The problem has since gotten much worse, and it has become harder to take effective action. The early scientists may have been alarmist. But we\\'d be in much better shape if we had listened to them. I would be more comforted if I could be certain that Voeten is right and Foa and Mounk are wrong. Maybe there is indeed nothing to worry about. But given the risks, as well as the recent string of election results, I\\'d rather err on the side of caution. Like the threat of a heart attack, the threat of autocracy or military rule replacing liberal democracy is pretty serious, and very difficult to recover from. I don\\'t want to take a chance. Especially when the preventive medicine consists of things we should probably be doing anyway.',\n",
       "  \" The Indianapolis Colts made Andrew Luck the highest-paid player in NFL history this offseason with a five-year, $122-million contract with $89 million guaranteed. However, they're already finding that Luck's contract is inhibiting their ability to address weaknesses on other parts of the roster, particularly on defense. On Friday, Colts GM Ryan Grigson, who is under fire for the Colts 1-3 start, said that it's difficult to build up the team's defense with Luck making so much money. According to Keefer, Grigson did point out that the Colts still have young talent they're hoping to develop on defense. However, blaming Luck's contract — which the Colts gave him — for having a weak defense (30th in defensive DVOA) is not accurate. As others have pointed out, last year's Denver Broncos paid Peyton Manning $15 million in base salary while also boasting an elite defense. Luck also takes up $18.4 million against the salary cap this year, less than $1 million more than Manning did a year ago ($17.5 million). Much of this comes from drafting successfully, which the Colts have not done as well as elite teams like the Broncos or the Patriots, for instance. Now, with the Colts handcuffed to Luck's contract, drafting is going to become especially important, as will the use of whatever money they have in free agency. It's certainly possible to build a good defense with a high-paid quarterback, but if the Colts felt that paying Luck such a high sum of money would be difficult, perhaps they should have reconsidered what the final numbers. \\n\\n\\n\\n\\n\\n\\n\\n\\n\\nThe highest-paid player on all 32 NFL teams\",\n",
       "  'DAVOS, Switzerland (Reuters) - U.S. President Donald Trump denied a report on Friday that he had ordered Special Counsel Robert Mueller fired last June, calling it “fake news”.  The New York Times reported on Thursday that Trump backed down from his order after the White House counsel threatened to resign rather than follow his directive, citing four people told of the matter.  “Fake news, folks, fake news,” Trump told reporters in Davos, when asked about the report.   Reporting by Steve Holland'],\n",
       " 'url': ['https://www.vox.com/polyarchy/2016/12/9/13898340/democracy-warning-signs',\n",
       "  'https://www.businessinsider.com/colts-gm-ryan-grigson-andrew-luck-contract-2016-10',\n",
       "  'https://www.reuters.com/article/us-davos-meeting-trump-mueller/trump-denies-report-he-ordered-mueller-fired-idUSKBN1FF12A'],\n",
       " 'section': [None, None, 'Davos'],\n",
       " 'publication': ['Vox', 'Business Insider', 'Reuters']}"
      ]
     },
     "execution_count": 22,
     "metadata": {},
     "output_type": "execute_result"
    }
   ],
   "source": [
    "df[\"train\"][0:3]"
   ]
  },
  {
   "cell_type": "markdown",
   "metadata": {},
   "source": [
    "##### Nuber of articles per date"
   ]
  },
  {
   "cell_type": "code",
   "execution_count": 25,
   "metadata": {},
   "outputs": [],
   "source": [
    "def string_to_datetime(batch):\n",
    "    \"\"\"\n",
    "    Transform string date into a datetime object. it truncates any date into 10 character string \n",
    "    assuming a date format of yyyy-mm-dd (Batch function).\n",
    "\n",
    "    Args:\n",
    "        batch (datasets.Dataset): batch dataset of the main information \n",
    "    Returns:\n",
    "        result (Dict[datetime:list]): Dictionary with list of datetime object\n",
    "    \"\"\"\n",
    "    dates = batch[\"date\"]\n",
    "    dates = [date[0:10] for date in dates]\n",
    "    dates = [datetime.strptime(date,'%Y-%m-%d') for date in dates]\n",
    "    return {\"datetime\":dates}"
   ]
  },
  {
   "cell_type": "code",
   "execution_count": 27,
   "metadata": {},
   "outputs": [
    {
     "name": "stdout",
     "output_type": "stream",
     "text": [
      "              "
     ]
    },
    {
     "data": {
      "application/vnd.jupyter.widget-view+json": {
       "model_id": "faf5fecc5f824af69248fa990f4b0ac4",
       "version_major": 2,
       "version_minor": 0
      },
      "text/plain": [
       "#2:   0%|          | 0/269 [00:00<?, ?ba/s]"
      ]
     },
     "metadata": {},
     "output_type": "display_data"
    },
    {
     "data": {
      "application/vnd.jupyter.widget-view+json": {
       "model_id": "ebc3f4109cb9483b9283a90ea990d44d",
       "version_major": 2,
       "version_minor": 0
      },
      "text/plain": [
       "#1:   0%|          | 0/269 [00:00<?, ?ba/s]"
      ]
     },
     "metadata": {},
     "output_type": "display_data"
    },
    {
     "data": {
      "application/vnd.jupyter.widget-view+json": {
       "model_id": "d79f8e5846eb4c9a99d6603504e87fef",
       "version_major": 2,
       "version_minor": 0
      },
      "text/plain": [
       "#0:   0%|          | 0/269 [00:00<?, ?ba/s]"
      ]
     },
     "metadata": {},
     "output_type": "display_data"
    },
    {
     "data": {
      "application/vnd.jupyter.widget-view+json": {
       "model_id": "80eb275576754aa193239386a523a5f0",
       "version_major": 2,
       "version_minor": 0
      },
      "text/plain": [
       "#3:   0%|          | 0/269 [00:00<?, ?ba/s]"
      ]
     },
     "metadata": {},
     "output_type": "display_data"
    },
    {
     "name": "stdout",
     "output_type": "stream",
     "text": [
      "  "
     ]
    },
    {
     "data": {
      "application/vnd.jupyter.widget-view+json": {
       "model_id": "e39e9b397360484591d7adcd125b2a49",
       "version_major": 2,
       "version_minor": 0
      },
      "text/plain": [
       "#4:   0%|          | 0/269 [00:00<?, ?ba/s]"
      ]
     },
     "metadata": {},
     "output_type": "display_data"
    },
    {
     "data": {
      "application/vnd.jupyter.widget-view+json": {
       "model_id": "51be74cd928c483788667116de533b88",
       "version_major": 2,
       "version_minor": 0
      },
      "text/plain": [
       "#5:   0%|          | 0/269 [00:00<?, ?ba/s]"
      ]
     },
     "metadata": {},
     "output_type": "display_data"
    },
    {
     "name": "stdout",
     "output_type": "stream",
     "text": [
      " "
     ]
    },
    {
     "data": {
      "application/vnd.jupyter.widget-view+json": {
       "model_id": "345e7e180e1a4e5c909446e8afae9b94",
       "version_major": 2,
       "version_minor": 0
      },
      "text/plain": [
       "#6:   0%|          | 0/269 [00:00<?, ?ba/s]"
      ]
     },
     "metadata": {},
     "output_type": "display_data"
    },
    {
     "name": "stdout",
     "output_type": "stream",
     "text": [
      " "
     ]
    },
    {
     "data": {
      "application/vnd.jupyter.widget-view+json": {
       "model_id": "eb49d37f8148486eaa14c7133d5a997f",
       "version_major": 2,
       "version_minor": 0
      },
      "text/plain": [
       "#7:   0%|          | 0/269 [00:00<?, ?ba/s]"
      ]
     },
     "metadata": {},
     "output_type": "display_data"
    },
    {
     "name": "stdout",
     "output_type": "stream",
     "text": [
      " "
     ]
    },
    {
     "data": {
      "application/vnd.jupyter.widget-view+json": {
       "model_id": "0a1e65f94cf14666be90bfb57f5a8690",
       "version_major": 2,
       "version_minor": 0
      },
      "text/plain": [
       "#8:   0%|          | 0/269 [00:00<?, ?ba/s]"
      ]
     },
     "metadata": {},
     "output_type": "display_data"
    },
    {
     "name": "stdout",
     "output_type": "stream",
     "text": [
      " "
     ]
    },
    {
     "data": {
      "application/vnd.jupyter.widget-view+json": {
       "model_id": "109f0d017db74ff39e826c11f3bfb824",
       "version_major": 2,
       "version_minor": 0
      },
      "text/plain": [
       "#9:   0%|          | 0/269 [00:00<?, ?ba/s]"
      ]
     },
     "metadata": {},
     "output_type": "display_data"
    }
   ],
   "source": [
    "df = df.map(string_to_datetime,batched=True,num_proc=10)"
   ]
  },
  {
   "cell_type": "code",
   "execution_count": 28,
   "metadata": {},
   "outputs": [
    {
     "data": {
      "text/plain": [
       "<AxesSubplot:ylabel='count'>"
      ]
     },
     "execution_count": 28,
     "metadata": {},
     "output_type": "execute_result"
    },
    {
     "data": {
      "image/png": "[encoded data removed]",
      "text/plain": [
       "<Figure size 1346.4x379.44 with 1 Axes>"
      ]
     },
     "metadata": {},
     "output_type": "display_data"
    }
   ],
   "source": [
    "sns.set(rc={'figure.figsize':(18.7,5.27)})\n",
    "sns.countplot(x=[d.year for d in df[\"train\"][\"datetime\"]])"
   ]
  },
  {
   "cell_type": "code",
   "execution_count": 30,
   "metadata": {},
   "outputs": [],
   "source": [
    "dates_of_articles = pd.DataFrame({\"dates\":df[\"train\"][\"datetime\"]})"
   ]
  },
  {
   "cell_type": "code",
   "execution_count": 40,
   "metadata": {},
   "outputs": [],
   "source": [
    "dates_of_articles[\"year\"] = dates_of_articles.dates.dt.year\n",
    "dates_of_articles[\"months\"] = dates_of_articles.dates.dt.month"
   ]
  },
  {
   "cell_type": "code",
   "execution_count": 50,
   "metadata": {},
   "outputs": [],
   "source": [
    "months_per_year = dates_of_articles.groupby([\"year\",\"months\"]).count().unstack()\n",
    "months_per_year.columns = [1,2,3,4,5,6,7,8,9,110,11,12]"
   ]
  },
  {
   "cell_type": "code",
   "execution_count": 59,
   "metadata": {},
   "outputs": [
    {
     "data": {
      "text/plain": [
       "<AxesSubplot:ylabel='year'>"
      ]
     },
     "execution_count": 59,
     "metadata": {},
     "output_type": "execute_result"
    },
    {
     "data": {
      "image/png": "[encoded data removed]",
      "text/plain": [
       "<Figure size 1346.4x379.44 with 2 Axes>"
      ]
     },
     "metadata": {},
     "output_type": "display_data"
    }
   ],
   "source": [
    "sns.heatmap(months_per_year,annot=True,fmt=\",.0f\")"
   ]
  },
  {
   "cell_type": "markdown",
   "metadata": {},
   "source": [
    "### News longer sequence"
   ]
  },
  {
   "cell_type": "code",
   "execution_count": 60,
   "metadata": {},
   "outputs": [],
   "source": [
    "def get_and_count_tokens(batch):\n",
    "    \"\"\"\n",
    "    Split the article text into tokens and count the number of it (Batch function).\n",
    "\n",
    "    Args:\n",
    "        batch (datasets.Dataset): batch dataset of the main information \n",
    "    Returns:\n",
    "        result (Dict[tokens:list,article_len:list]): Dictionary with number of token per article and the corresponding tokens\n",
    "    \"\"\"\n",
    "    articles = batch[\"article\"]\n",
    "    articles_tokens = [[] if article == None else article.split() for article in articles]\n",
    "    len_articles_token = [len(tokens) for tokens in articles_tokens ]\n",
    "    result = {\"tokens\":articles_tokens,\"article_len\":len_articles_token}\n",
    "    return result"
   ]
  },
  {
   "cell_type": "code",
   "execution_count": 61,
   "metadata": {},
   "outputs": [
    {
     "name": "stdout",
     "output_type": "stream",
     "text": [
      "               "
     ]
    },
    {
     "data": {
      "application/vnd.jupyter.widget-view+json": {
       "model_id": "23e3611749b94f80bb37e81f036a3197",
       "version_major": 2,
       "version_minor": 0
      },
      "text/plain": [
       "#0:   0%|          | 0/269 [00:00<?, ?ba/s]"
      ]
     },
     "metadata": {},
     "output_type": "display_data"
    },
    {
     "data": {
      "application/vnd.jupyter.widget-view+json": {
       "model_id": "6fbcfafc300343518baec76614d7ef64",
       "version_major": 2,
       "version_minor": 0
      },
      "text/plain": [
       "#1:   0%|          | 0/269 [00:00<?, ?ba/s]"
      ]
     },
     "metadata": {},
     "output_type": "display_data"
    },
    {
     "data": {
      "application/vnd.jupyter.widget-view+json": {
       "model_id": "d20e3674b8d949b58bc6d9903b0b5d2f",
       "version_major": 2,
       "version_minor": 0
      },
      "text/plain": [
       "#4:   0%|          | 0/269 [00:00<?, ?ba/s]"
      ]
     },
     "metadata": {},
     "output_type": "display_data"
    },
    {
     "data": {
      "application/vnd.jupyter.widget-view+json": {
       "model_id": "c654e5b589b0448d81c1e7b8c85d2822",
       "version_major": 2,
       "version_minor": 0
      },
      "text/plain": [
       "#3:   0%|          | 0/269 [00:00<?, ?ba/s]"
      ]
     },
     "metadata": {},
     "output_type": "display_data"
    },
    {
     "data": {
      "application/vnd.jupyter.widget-view+json": {
       "model_id": "79fe16ba11774d2587ff317649895ac1",
       "version_major": 2,
       "version_minor": 0
      },
      "text/plain": [
       "#2:   0%|          | 0/269 [00:00<?, ?ba/s]"
      ]
     },
     "metadata": {},
     "output_type": "display_data"
    },
    {
     "name": "stdout",
     "output_type": "stream",
     "text": [
      " "
     ]
    },
    {
     "data": {
      "application/vnd.jupyter.widget-view+json": {
       "model_id": "48a58e695c21454e8f441260c0747cdb",
       "version_major": 2,
       "version_minor": 0
      },
      "text/plain": [
       "#5:   0%|          | 0/269 [00:00<?, ?ba/s]"
      ]
     },
     "metadata": {},
     "output_type": "display_data"
    },
    {
     "name": "stdout",
     "output_type": "stream",
     "text": [
      " "
     ]
    },
    {
     "data": {
      "application/vnd.jupyter.widget-view+json": {
       "model_id": "395498f54d4a4694a4373d48a467a23e",
       "version_major": 2,
       "version_minor": 0
      },
      "text/plain": [
       "#6:   0%|          | 0/269 [00:00<?, ?ba/s]"
      ]
     },
     "metadata": {},
     "output_type": "display_data"
    },
    {
     "name": "stdout",
     "output_type": "stream",
     "text": [
      " "
     ]
    },
    {
     "data": {
      "application/vnd.jupyter.widget-view+json": {
       "model_id": "c0bf3dcd3ebf4eb5a7768a997739a74a",
       "version_major": 2,
       "version_minor": 0
      },
      "text/plain": [
       "#7:   0%|          | 0/269 [00:00<?, ?ba/s]"
      ]
     },
     "metadata": {},
     "output_type": "display_data"
    },
    {
     "name": "stdout",
     "output_type": "stream",
     "text": [
      " "
     ]
    },
    {
     "data": {
      "application/vnd.jupyter.widget-view+json": {
       "model_id": "b02d83e7aaa54fb082dd342ecc94dad8",
       "version_major": 2,
       "version_minor": 0
      },
      "text/plain": [
       "#8:   0%|          | 0/269 [00:00<?, ?ba/s]"
      ]
     },
     "metadata": {},
     "output_type": "display_data"
    },
    {
     "name": "stdout",
     "output_type": "stream",
     "text": [
      " "
     ]
    },
    {
     "data": {
      "application/vnd.jupyter.widget-view+json": {
       "model_id": "91aff39d23fa4fac9f76ff873051da77",
       "version_major": 2,
       "version_minor": 0
      },
      "text/plain": [
       "#9:   0%|          | 0/269 [00:00<?, ?ba/s]"
      ]
     },
     "metadata": {},
     "output_type": "display_data"
    }
   ],
   "source": [
    "df = df.map(get_and_count_tokens,batched=True,num_proc=10)"
   ]
  },
  {
   "cell_type": "code",
   "execution_count": 62,
   "metadata": {},
   "outputs": [
    {
     "data": {
      "text/plain": [
       "<AxesSubplot:ylabel='Count'>"
      ]
     },
     "execution_count": 62,
     "metadata": {},
     "output_type": "execute_result"
    },
    {
     "data": {
      "image/png": "[encoded data removed]",
      "text/plain": [
       "<Figure size 1346.4x307.44 with 1 Axes>"
      ]
     },
     "metadata": {},
     "output_type": "display_data"
    }
   ],
   "source": [
    "sns.set(rc={'figure.figsize':(18.7,4.27)})\n",
    "sns.histplot(x=df[\"train\"][\"article_len\"]) "
   ]
  },
  {
   "cell_type": "markdown",
   "metadata": {},
   "source": [
    "If we remove outliers (base on Boxplot Interquartile range) , we can visualize that every Article could contain from 200 to 650 words. We have news without article and longer News thatvary from 800 to 1,400 words. considering the max value is 37k words "
   ]
  },
  {
   "cell_type": "code",
   "execution_count": 27,
   "metadata": {},
   "outputs": [
    {
     "data": {
      "text/plain": [
       "<AxesSubplot:>"
      ]
     },
     "execution_count": 27,
     "metadata": {},
     "output_type": "execute_result"
    },
    {
     "data": {
      "image/png": "[encoded data removed]",
      "text/plain": [
       "<Figure size 1346.4x307.44 with 1 Axes>"
      ]
     },
     "metadata": {},
     "output_type": "display_data"
    }
   ],
   "source": [
    "sns.set(rc={'figure.figsize':(18.7,4.27)})\n",
    "sns.boxplot(x=df[\"train\"][\"article_len\"],showfliers = False) \n"
   ]
  },
  {
   "cell_type": "code",
   "execution_count": 30,
   "metadata": {},
   "outputs": [
    {
     "data": {
      "text/html": [
       "<div>\n",
       "<style scoped>\n",
       "    .dataframe tbody tr th:only-of-type {\n",
       "        vertical-align: middle;\n",
       "    }\n",
       "\n",
       "    .dataframe tbody tr th {\n",
       "        vertical-align: top;\n",
       "    }\n",
       "\n",
       "    .dataframe thead th {\n",
       "        text-align: right;\n",
       "    }\n",
       "</style>\n",
       "<table border=\"1\" class=\"dataframe\">\n",
       "  <thead>\n",
       "    <tr style=\"text-align: right;\">\n",
       "      <th></th>\n",
       "      <th>count</th>\n",
       "      <th>mean</th>\n",
       "      <th>std</th>\n",
       "      <th>min</th>\n",
       "      <th>25%</th>\n",
       "      <th>50%</th>\n",
       "      <th>75%</th>\n",
       "      <th>max</th>\n",
       "    </tr>\n",
       "  </thead>\n",
       "  <tbody>\n",
       "    <tr>\n",
       "      <th>len</th>\n",
       "      <td>2688878.000</td>\n",
       "      <td>495.779</td>\n",
       "      <td>566.953</td>\n",
       "      <td>0.000</td>\n",
       "      <td>165.000</td>\n",
       "      <td>370.000</td>\n",
       "      <td>648.000</td>\n",
       "      <td>37240.000</td>\n",
       "    </tr>\n",
       "  </tbody>\n",
       "</table>\n",
       "</div>"
      ],
      "text/plain": [
       "          count    mean     std   min     25%     50%     75%       max\n",
       "len 2688878.000 495.779 566.953 0.000 165.000 370.000 648.000 37240.000"
      ]
     },
     "execution_count": 30,
     "metadata": {},
     "output_type": "execute_result"
    }
   ],
   "source": [
    "pd.DataFrame({\"len\":df[\"train\"][\"article_len\"]}).describe().T"
   ]
  },
  {
   "cell_type": "markdown",
   "metadata": {},
   "source": [
    "##### Publication site"
   ]
  },
  {
   "cell_type": "code",
   "execution_count": null,
   "metadata": {},
   "outputs": [],
   "source": []
  },
  {
   "cell_type": "code",
   "execution_count": 37,
   "metadata": {},
   "outputs": [
    {
     "data": {
      "text/plain": [
       "<AxesSubplot:ylabel='count'>"
      ]
     },
     "execution_count": 37,
     "metadata": {},
     "output_type": "execute_result"
    },
    {
     "data": {
      "image/png": "[encoded data removed]",
      "text/plain": [
       "<Figure size 1634.4x307.44 with 1 Axes>"
      ]
     },
     "metadata": {},
     "output_type": "display_data"
    }
   ],
   "source": [
    "sns.set(rc={'figure.figsize':(22.7,4.27)})\n",
    "plt.xticks(rotation=45)\n",
    "sns.countplot(x=df[\"train\"][\"publication\"])"
   ]
  }
 ],
 "metadata": {
  "kernelspec": {
   "display_name": "Python 3.10.4 ('hf')",
   "language": "python",
   "name": "python3"
  },
  "language_info": {
   "codemirror_mode": {
    "name": "ipython",
    "version": 3
   },
   "file_extension": ".py",
   "mimetype": "text/x-python",
   "name": "python",
   "nbconvert_exporter": "python",
   "pygments_lexer": "ipython3",
   "version": "3.10.4"
  },
  "orig_nbformat": 4,
  "vscode": {
   "interpreter": {
    "hash": "33f9b881109ba50917c17d7c2a2d48fac24154ac81d48631ebdd0193db1933f7"
   }
  }
 },
 "nbformat": 4,
 "nbformat_minor": 2
}
