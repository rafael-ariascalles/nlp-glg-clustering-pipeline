{
 "cells": [
  {
   "cell_type": "markdown",
   "metadata": {},
   "source": [
    "### Libraries"
   ]
  },
  {
   "cell_type": "code",
   "execution_count": 2,
   "metadata": {},
   "outputs": [],
   "source": [
    "import pandas as pd\n",
    "import numpy as np \n",
    "\n",
    "from pyspark.sql import SparkSession\n",
    "from pyspark.sql import functions as F\n",
    "from pyspark.sql.types import *\n",
    "import os\n",
    "import pandas as pd\n",
    "import seaborn as sns\n",
    "import matplotlib.pyplot as plt\n",
    "#Spark version and Spark NLP version should be align"
   ]
  },
  {
   "cell_type": "markdown",
   "metadata": {},
   "source": [
    "### Data Understanding"
   ]
  },
  {
   "cell_type": "code",
   "execution_count": 66,
   "metadata": {},
   "outputs": [],
   "source": [
    "spark = SparkSession.builder\\\n",
    "    .appName(\"nlp\")\\\n",
    "    .master(\"local[*]\")\\\n",
    "    .config(\"spark.driver.memory\",\"8G\")\\\n",
    "    .config(\"spark.driver.maxResultSize\", \"0\") \\\n",
    "    .config(\"spark.kryoserializer.buffer.max\", \"2000M\")\\\n",
    "    .getOrCreate()\n",
    "\n",
    "spark.sparkContext.setLogLevel(\"ERROR\")"
   ]
  },
  {
   "cell_type": "code",
   "execution_count": 67,
   "metadata": {},
   "outputs": [],
   "source": [
    "data_path = os.environ.get(\"NEWS_DATA_PATH\")"
   ]
  },
  {
   "cell_type": "code",
   "execution_count": 68,
   "metadata": {},
   "outputs": [
    {
     "name": "stdout",
     "output_type": "stream",
     "text": [
      ",Unnamed: 0,date,year,month,day,author,title,article,url,section,publication\n",
      "0,0,2016-12-09 18:31:00,2016,12.0,9,Lee Drutman,We should take concerns about the health of liberal democracy seriously,\"This post is part of Polyarchy, an independent blog produced by the political reform program at New Am"
     ]
    }
   ],
   "source": [
    "!head -c 300 $data_path"
   ]
  },
  {
   "cell_type": "code",
   "execution_count": 69,
   "metadata": {},
   "outputs": [
    {
     "name": "stdout",
     "output_type": "stream",
     "text": [
      "comes to fitness. On another note ... it sounds like she's still working when it comes to SCOTUS biz too. Law360 notes she calls into conference chats via phone with the other robes these days.\",https://www.tmz.com/2020/04/01/ruth-bader-ginsburg-rbg-justice-working-out-gym-trainer-coronavirus/,,TMZ\n"
     ]
    }
   ],
   "source": [
    "!tail -c 300 $data_path"
   ]
  },
  {
   "cell_type": "markdown",
   "metadata": {},
   "source": [
    "The columns have to be change for a more readable names"
   ]
  },
  {
   "cell_type": "code",
   "execution_count": 81,
   "metadata": {},
   "outputs": [],
   "source": [
    "df = spark.read.option(\"header\",\"true\").csv(data_path).withColumnRenamed(\"_c0\",\"idx\").withColumnRenamed(\"Unnamed: 0\",\"idx_news\")"
   ]
  },
  {
   "cell_type": "code",
   "execution_count": 82,
   "metadata": {},
   "outputs": [
    {
     "name": "stdout",
     "output_type": "stream",
     "text": [
      "root\n",
      " |-- idx: string (nullable = true)\n",
      " |-- idx_news: string (nullable = true)\n",
      " |-- date: string (nullable = true)\n",
      " |-- year: string (nullable = true)\n",
      " |-- month: string (nullable = true)\n",
      " |-- day: string (nullable = true)\n",
      " |-- author: string (nullable = true)\n",
      " |-- title: string (nullable = true)\n",
      " |-- article: string (nullable = true)\n",
      " |-- url: string (nullable = true)\n",
      " |-- section: string (nullable = true)\n",
      " |-- publication: string (nullable = true)\n",
      "\n"
     ]
    }
   ],
   "source": [
    "df.printSchema()"
   ]
  },
  {
   "cell_type": "code",
   "execution_count": 83,
   "metadata": {},
   "outputs": [
    {
     "name": "stdout",
     "output_type": "stream",
     "text": [
      "-RECORD 0-------------------------------------------------------------------------------------------------------------------------------------------------------------\n",
      " idx         | 0                                                                                                                                                      \n",
      " idx_news    | 0                                                                                                                                                      \n",
      " date        | 2016-12-09 18:31:00                                                                                                                                    \n",
      " year        | 2016                                                                                                                                                   \n",
      " month       | 12.0                                                                                                                                                   \n",
      " day         | 9                                                                                                                                                      \n",
      " author      | Lee Drutman                                                                                                                                            \n",
      " title       | We should take concerns about the health of liberal democracy seriously                                                                                \n",
      " article     | \"This post is part of Polyarchy, an independent blog produced by the political reform program at New America, a Washington think tank devoted to de... \n",
      " url         |  however                                                                                                                                               \n",
      " section     |  several critics have jumped on Foa and Mounk for misinterpreting the data and generating unnecessary panic. Political scientist Erik Voeten           \n",
      " publication |  for example                                                                                                                                           \n",
      "-RECORD 1-------------------------------------------------------------------------------------------------------------------------------------------------------------\n",
      " idx         | 1                                                                                                                                                      \n",
      " idx_news    | 1                                                                                                                                                      \n",
      " date        | 2016-10-07 21:26:46                                                                                                                                    \n",
      " year        | 2016                                                                                                                                                   \n",
      " month       | 10.0                                                                                                                                                   \n",
      " day         | 7                                                                                                                                                      \n",
      " author      | Scott Davis                                                                                                                                            \n",
      " title       | Colts GM Ryan Grigson says Andrew Luck's contract makes it difficult to build the team                                                                 \n",
      " article     |  The Indianapolis Colts made Andrew Luck the highest-paid player in NFL history this offseason with a five-year, $122-million contract with $89 mil... \n",
      " url         | null                                                                                                                                                   \n",
      " section     | null                                                                                                                                                   \n",
      " publication | null                                                                                                                                                   \n",
      "-RECORD 2-------------------------------------------------------------------------------------------------------------------------------------------------------------\n",
      " idx         | The highest-paid player on all 32 NFL teams\"                                                                                                           \n",
      " idx_news    | https://www.businessinsider.com/colts-gm-ryan-grigson-andrew-luck-contract-2016-10                                                                     \n",
      " date        | null                                                                                                                                                   \n",
      " year        | Business Insider                                                                                                                                       \n",
      " month       | null                                                                                                                                                   \n",
      " day         | null                                                                                                                                                   \n",
      " author      | null                                                                                                                                                   \n",
      " title       | null                                                                                                                                                   \n",
      " article     | null                                                                                                                                                   \n",
      " url         | null                                                                                                                                                   \n",
      " section     | null                                                                                                                                                   \n",
      " publication | null                                                                                                                                                   \n",
      "only showing top 3 rows\n",
      "\n"
     ]
    }
   ],
   "source": [
    "df.show(3,vertical=True,truncate=150)"
   ]
  },
  {
   "cell_type": "code",
   "execution_count": 84,
   "metadata": {},
   "outputs": [
    {
     "name": "stderr",
     "output_type": "stream",
     "text": [
      "                                                                                \r"
     ]
    },
    {
     "data": {
      "text/plain": [
       "3858240"
      ]
     },
     "execution_count": 84,
     "metadata": {},
     "output_type": "execute_result"
    }
   ],
   "source": [
    "df.count()"
   ]
  },
  {
   "cell_type": "code",
   "execution_count": 76,
   "metadata": {},
   "outputs": [],
   "source": [
    "import pyspark.sql.functions as F"
   ]
  },
  {
   "cell_type": "code",
   "execution_count": 80,
   "metadata": {},
   "outputs": [
    {
     "name": "stderr",
     "output_type": "stream",
     "text": [
      "                                                                                \r"
     ]
    },
    {
     "name": "stdout",
     "output_type": "stream",
     "text": [
      "+--------------------+-----+\n",
      "|                year|count|\n",
      "+--------------------+-----+\n",
      "| \"\"Atlas Obscura\"...|    1|\n",
      "| like most Androi...|    1|\n",
      "| too. In \"\"Call o...|    1|\n",
      "| Brinkley remains...|    1|\n",
      "| Will's survival ...|    1|\n",
      "| but still a heal...|    1|\n",
      "| meant I was not ...|    1|\n",
      "|               beans|    6|\n",
      "| the doors are armed|    1|\n",
      "| the young spoile...|    2|\n",
      "| lots of people s...|    1|\n",
      "| 74% are in favor...|    1|\n",
      "| but extends into...|    1|\n",
      "| follow him on In...|    1|\n",
      "| your skin will p...|    1|\n",
      "| a counselor and ...|    1|\n",
      "|    once and for all|    1|\n",
      "| this cool applia...|    2|\n",
      "|                $39 |    1|\n",
      "| \"\" Zuckerberg says.|    1|\n",
      "+--------------------+-----+\n",
      "only showing top 20 rows\n",
      "\n"
     ]
    }
   ],
   "source": [
    "df.groupBy(\"year\").count().show()"
   ]
  },
  {
   "cell_type": "code",
   "execution_count": null,
   "metadata": {},
   "outputs": [],
   "source": []
  }
 ],
 "metadata": {
  "kernelspec": {
   "display_name": "Python 3.10.4 ('nlp-pyspark-hf')",
   "language": "python",
   "name": "python3"
  },
  "language_info": {
   "codemirror_mode": {
    "name": "ipython",
    "version": 3
   },
   "file_extension": ".py",
   "mimetype": "text/x-python",
   "name": "python",
   "nbconvert_exporter": "python",
   "pygments_lexer": "ipython3",
   "version": "3.10.4"
  },
  "orig_nbformat": 4,
  "vscode": {
   "interpreter": {
    "hash": "9e718fae2162769484202c44e3e87d8c6b610ef033b2b837427352bed1d4e9a1"
   }
  }
 },
 "nbformat": 4,
 "nbformat_minor": 2
}
