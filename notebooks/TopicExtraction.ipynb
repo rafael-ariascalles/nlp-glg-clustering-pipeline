{
 "cells": [
  {
   "cell_type": "code",
   "execution_count": 2,
   "metadata": {},
   "outputs": [],
   "source": [
    "from datasets import load_dataset,Dataset\n",
    "from datasets.features import Features,Value\n",
    "import pandas as pd\n",
    "from datetime import datetime\n",
    "from tqdm import tqdm\n",
    "import seaborn as sns\n",
    "import matplotlib.pylab as plt\n",
    "import os\n",
    "from datasets.utils import disable_progress_bar\n",
    "from bertopic import BERTopic\n",
    "import numpy as np"
   ]
  },
  {
   "cell_type": "code",
   "execution_count": 3,
   "metadata": {},
   "outputs": [
    {
     "name": "stderr",
     "output_type": "stream",
     "text": [
      "Using custom data configuration rjac--all-the-news-2-1-Component-one-7609e9ec7b9659ad\n",
      "Reusing dataset parquet (/home/rjac/.cache/huggingface/datasets/rjac___parquet/rjac--all-the-news-2-1-Component-one-7609e9ec7b9659ad/0.0.0/7328ef7ee03eaf3f86ae40594d46a1cec86161704e02dd19f232d81eee72ade8)\n"
     ]
    },
    {
     "data": {
      "application/vnd.jupyter.widget-view+json": {
       "model_id": "6bdb252cd4f74eec89f5deaea3c872e5",
       "version_major": 2,
       "version_minor": 0
      },
      "text/plain": [
       "  0%|          | 0/1 [00:00<?, ?it/s]"
      ]
     },
     "metadata": {},
     "output_type": "display_data"
    }
   ],
   "source": [
    "df = load_dataset(\"rjac/all-the-news-2-1-Component-one\")"
   ]
  },
  {
   "cell_type": "code",
   "execution_count": 4,
   "metadata": {},
   "outputs": [
    {
     "data": {
      "text/plain": [
       "DatasetDict({\n",
       "    train: Dataset({\n",
       "        features: ['idx', 'article_idx', 'date', 'year', 'month', 'day', 'author', 'title', 'article', 'url', 'section', 'publication'],\n",
       "        num_rows: 2688878\n",
       "    })\n",
       "})"
      ]
     },
     "execution_count": 4,
     "metadata": {},
     "output_type": "execute_result"
    }
   ],
   "source": [
    "df"
   ]
  },
  {
   "cell_type": "code",
   "execution_count": 5,
   "metadata": {},
   "outputs": [
    {
     "name": "stderr",
     "output_type": "stream",
     "text": [
      "Loading cached processed dataset at /home/rjac/.cache/huggingface/datasets/rjac___parquet/rjac--all-the-news-2-1-Component-one-7609e9ec7b9659ad/0.0.0/7328ef7ee03eaf3f86ae40594d46a1cec86161704e02dd19f232d81eee72ade8/cache-9b93078d8e5b1e6f.arrow\n"
     ]
    }
   ],
   "source": [
    "df = df.filter(lambda batch: batch[\"article\"] is not None)"
   ]
  },
  {
   "cell_type": "code",
   "execution_count": 6,
   "metadata": {},
   "outputs": [
    {
     "name": "stderr",
     "output_type": "stream",
     "text": [
      "Loading cached shuffled indices for dataset at /home/rjac/.cache/huggingface/datasets/rjac___parquet/rjac--all-the-news-2-1-Component-one-7609e9ec7b9659ad/0.0.0/7328ef7ee03eaf3f86ae40594d46a1cec86161704e02dd19f232d81eee72ade8/cache-3fd581d79b54f9d8.arrow\n"
     ]
    }
   ],
   "source": [
    "df_batch = df.shuffle(7614)[\"train\"].select(range(100_000))"
   ]
  },
  {
   "cell_type": "code",
   "execution_count": 7,
   "metadata": {},
   "outputs": [],
   "source": [
    "batch = df_batch[\"article\"]"
   ]
  },
  {
   "cell_type": "code",
   "execution_count": 8,
   "metadata": {},
   "outputs": [
    {
     "data": {
      "text/plain": [
       "100000"
      ]
     },
     "execution_count": 8,
     "metadata": {},
     "output_type": "execute_result"
    }
   ],
   "source": [
    "len(batch)"
   ]
  },
  {
   "cell_type": "code",
   "execution_count": 9,
   "metadata": {},
   "outputs": [],
   "source": [
    "topic_model = BERTopic(verbose=True)"
   ]
  },
  {
   "cell_type": "code",
   "execution_count": 10,
   "metadata": {},
   "outputs": [
    {
     "data": {
      "application/vnd.jupyter.widget-view+json": {
       "model_id": "35264e41a2824d78847af653e544181b",
       "version_major": 2,
       "version_minor": 0
      },
      "text/plain": [
       "Batches:   0%|          | 0/3125 [00:00<?, ?it/s]"
      ]
     },
     "metadata": {},
     "output_type": "display_data"
    },
    {
     "name": "stderr",
     "output_type": "stream",
     "text": [
      "2022-06-22 11:13:04,403 - BERTopic - Transformed documents to Embeddings\n",
      "2022-06-22 11:15:01,043 - BERTopic - Reduced dimensionality\n"
     ]
    },
    {
     "name": "stdout",
     "output_type": "stream",
     "text": [
      "huggingface/tokenizers: The current process just got forked, after parallelism has already been used. Disabling parallelism to avoid deadlocks...\n",
      "To disable this warning, you can either:\n",
      "\t- Avoid using `tokenizers` before the fork if possible\n",
      "\t- Explicitly set the environment variable TOKENIZERS_PARALLELISM=(true | false)\n",
      "huggingface/tokenizers: The current process just got forked, after parallelism has already been used. Disabling parallelism to avoid deadlocks...\n",
      "To disable this warning, you can either:\n",
      "\t- Avoid using `tokenizers` before the fork if possible\n",
      "\t- Explicitly set the environment variable TOKENIZERS_PARALLELISM=(true | false)\n",
      "huggingface/tokenizers: The current process just got forked, after parallelism has already been used. Disabling parallelism to avoid deadlocks...\n",
      "To disable this warning, you can either:\n",
      "\t- Avoid using `tokenizers` before the fork if possible\n",
      "\t- Explicitly set the environment variable TOKENIZERS_PARALLELISM=(true | false)\n",
      "huggingface/tokenizers: The current process just got forked, after parallelism has already been used. Disabling parallelism to avoid deadlocks...\n",
      "To disable this warning, you can either:\n",
      "\t- Avoid using `tokenizers` before the fork if possible\n",
      "\t- Explicitly set the environment variable TOKENIZERS_PARALLELISM=(true | false)\n",
      "huggingface/tokenizers: The current process just got forked, after parallelism has already been used. Disabling parallelism to avoid deadlocks...\n",
      "To disable this warning, you can either:\n",
      "\t- Avoid using `tokenizers` before the fork if possible\n",
      "\t- Explicitly set the environment variable TOKENIZERS_PARALLELISM=(true | false)\n"
     ]
    },
    {
     "name": "stderr",
     "output_type": "stream",
     "text": [
      "2022-06-22 11:15:12,890 - BERTopic - Clustered reduced embeddings\n"
     ]
    }
   ],
   "source": [
    "topics,probs = topic_model.fit_transform(batch)"
   ]
  },
  {
   "cell_type": "code",
   "execution_count": 11,
   "metadata": {},
   "outputs": [
    {
     "name": "stderr",
     "output_type": "stream",
     "text": [
      "/home/rjac/anaconda3/envs/hf/lib/python3.10/site-packages/scipy/sparse/_index.py:146: SparseEfficiencyWarning: Changing the sparsity structure of a csr_matrix is expensive. lil_matrix is more efficient.\n",
      "  self._set_arrayXarray(i, j, x)\n"
     ]
    }
   ],
   "source": [
    "topic_model.save(\"BertTopic100k\")"
   ]
  },
  {
   "cell_type": "code",
   "execution_count": 17,
   "metadata": {},
   "outputs": [],
   "source": [
    "topic_model = BERTopic.load(\"BertTopic100k\")"
   ]
  },
  {
   "cell_type": "code",
   "execution_count": 19,
   "metadata": {},
   "outputs": [
    {
     "data": {
      "application/vnd.plotly.v1+json": {
       "config": {
        "plotlyServerURL": "https://plot.ly"
       },
       "data": [
        {
         "hoverinfo": "text",
         "marker": {
          "color": "rgb(0,116,217)"
         },
         "mode": "lines",
         "type": "scatter",
         "x": [
          0,
          1.7690851110225414,
          1.7690851110225414,
          0
         ],
         "xaxis": "x",
         "y": [
          -15,
          -15,
          -25,
          -25
         ],
         "yaxis": "y"
        },
        {
         "hoverinfo": "text",
         "marker": {
          "color": "rgb(0,116,217)"
         },
         "mode": "lines",
         "type": "scatter",
         "x": [
          0,
          1.4043493829996376,
          1.4043493829996376,
          0
         ],
         "xaxis": "x",
         "y": [
          -45,
          -45,
          -55,
          -55
         ],
         "yaxis": "y"
        },
        {
         "hoverinfo": "text",
         "marker": {
          "color": "rgb(0,116,217)"
         },
         "mode": "lines",
         "type": "scatter",
         "x": [
          0,
          1.9370076942502013,
          1.9370076942502013,
          1.4043493829996376
         ],
         "xaxis": "x",
         "y": [
          -35,
          -35,
          -50,
          -50
         ],
         "yaxis": "y"
        },
        {
         "hoverinfo": "text",
         "marker": {
          "color": "rgb(0,116,217)"
         },
         "mode": "lines",
         "type": "scatter",
         "x": [
          1.7690851110225414,
          2.0152663507573476,
          2.0152663507573476,
          1.9370076942502013
         ],
         "xaxis": "x",
         "y": [
          -20,
          -20,
          -42.5,
          -42.5
         ],
         "yaxis": "y"
        },
        {
         "hoverinfo": "text",
         "marker": {
          "color": "rgb(0,116,217)"
         },
         "mode": "lines",
         "type": "scatter",
         "x": [
          0,
          2.2436277507157305,
          2.2436277507157305,
          2.0152663507573476
         ],
         "xaxis": "x",
         "y": [
          -5,
          -5,
          -31.25,
          -31.25
         ],
         "yaxis": "y"
        },
        {
         "hoverinfo": "text",
         "marker": {
          "color": "rgb(0,116,217)"
         },
         "mode": "lines",
         "type": "scatter",
         "x": [
          0,
          1.031170885181572,
          1.031170885181572,
          0
         ],
         "xaxis": "x",
         "y": [
          -75,
          -75,
          -85,
          -85
         ],
         "yaxis": "y"
        },
        {
         "hoverinfo": "text",
         "marker": {
          "color": "rgb(0,116,217)"
         },
         "mode": "lines",
         "type": "scatter",
         "x": [
          0,
          1.5537264009881455,
          1.5537264009881455,
          1.031170885181572
         ],
         "xaxis": "x",
         "y": [
          -65,
          -65,
          -80,
          -80
         ],
         "yaxis": "y"
        },
        {
         "hoverinfo": "text",
         "marker": {
          "color": "rgb(0,116,217)"
         },
         "mode": "lines",
         "type": "scatter",
         "x": [
          0,
          1.5855312096076435,
          1.5855312096076435,
          0
         ],
         "xaxis": "x",
         "y": [
          -105,
          -105,
          -115,
          -115
         ],
         "yaxis": "y"
        },
        {
         "hoverinfo": "text",
         "marker": {
          "color": "rgb(0,116,217)"
         },
         "mode": "lines",
         "type": "scatter",
         "x": [
          0,
          2.188570948729665,
          2.188570948729665,
          1.5855312096076435
         ],
         "xaxis": "x",
         "y": [
          -95,
          -95,
          -110,
          -110
         ],
         "yaxis": "y"
        },
        {
         "hoverinfo": "text",
         "marker": {
          "color": "rgb(0,116,217)"
         },
         "mode": "lines",
         "type": "scatter",
         "x": [
          1.5537264009881455,
          3.112008669069665,
          3.112008669069665,
          2.188570948729665
         ],
         "xaxis": "x",
         "y": [
          -72.5,
          -72.5,
          -102.5,
          -102.5
         ],
         "yaxis": "y"
        },
        {
         "hoverinfo": "text",
         "marker": {
          "color": "rgb(0,116,217)"
         },
         "mode": "lines",
         "type": "scatter",
         "x": [
          2.2436277507157305,
          4.069807675867115,
          4.069807675867115,
          3.112008669069665
         ],
         "xaxis": "x",
         "y": [
          -18.125,
          -18.125,
          -87.5,
          -87.5
         ],
         "yaxis": "y"
        },
        {
         "hoverinfo": "text",
         "marker": {
          "color": "rgb(0,116,217)"
         },
         "mode": "lines",
         "type": "scatter",
         "x": [
          0,
          1.5795855567486392,
          1.5795855567486392,
          0
         ],
         "xaxis": "x",
         "y": [
          -125,
          -125,
          -135,
          -135
         ],
         "yaxis": "y"
        },
        {
         "hoverinfo": "text",
         "marker": {
          "color": "rgb(0,116,217)"
         },
         "mode": "lines",
         "type": "scatter",
         "x": [
          0,
          1.2393378191741897,
          1.2393378191741897,
          0
         ],
         "xaxis": "x",
         "y": [
          -155,
          -155,
          -165,
          -165
         ],
         "yaxis": "y"
        },
        {
         "hoverinfo": "text",
         "marker": {
          "color": "rgb(0,116,217)"
         },
         "mode": "lines",
         "type": "scatter",
         "x": [
          0,
          1.7303801266708827,
          1.7303801266708827,
          1.2393378191741897
         ],
         "xaxis": "x",
         "y": [
          -145,
          -145,
          -160,
          -160
         ],
         "yaxis": "y"
        },
        {
         "hoverinfo": "text",
         "marker": {
          "color": "rgb(0,116,217)"
         },
         "mode": "lines",
         "type": "scatter",
         "x": [
          1.5795855567486392,
          2.389434282243081,
          2.389434282243081,
          1.7303801266708827
         ],
         "xaxis": "x",
         "y": [
          -130,
          -130,
          -152.5,
          -152.5
         ],
         "yaxis": "y"
        },
        {
         "hoverinfo": "text",
         "marker": {
          "color": "rgb(0,116,217)"
         },
         "mode": "lines",
         "type": "scatter",
         "x": [
          0,
          1.6291360371448875,
          1.6291360371448875,
          0
         ],
         "xaxis": "x",
         "y": [
          -175,
          -175,
          -185,
          -185
         ],
         "yaxis": "y"
        },
        {
         "hoverinfo": "text",
         "marker": {
          "color": "rgb(0,116,217)"
         },
         "mode": "lines",
         "type": "scatter",
         "x": [
          0,
          1.0662380579753015,
          1.0662380579753015,
          0
         ],
         "xaxis": "x",
         "y": [
          -205,
          -205,
          -215,
          -215
         ],
         "yaxis": "y"
        },
        {
         "hoverinfo": "text",
         "marker": {
          "color": "rgb(0,116,217)"
         },
         "mode": "lines",
         "type": "scatter",
         "x": [
          0,
          1.8397100427268211,
          1.8397100427268211,
          1.0662380579753015
         ],
         "xaxis": "x",
         "y": [
          -195,
          -195,
          -210,
          -210
         ],
         "yaxis": "y"
        },
        {
         "hoverinfo": "text",
         "marker": {
          "color": "rgb(0,116,217)"
         },
         "mode": "lines",
         "type": "scatter",
         "x": [
          1.6291360371448875,
          2.1920857560597526,
          2.1920857560597526,
          1.8397100427268211
         ],
         "xaxis": "x",
         "y": [
          -180,
          -180,
          -202.5,
          -202.5
         ],
         "yaxis": "y"
        },
        {
         "hoverinfo": "text",
         "marker": {
          "color": "rgb(0,116,217)"
         },
         "mode": "lines",
         "type": "scatter",
         "x": [
          0,
          1.1712156135103122,
          1.1712156135103122,
          0
         ],
         "xaxis": "x",
         "y": [
          -225,
          -225,
          -235,
          -235
         ],
         "yaxis": "y"
        },
        {
         "hoverinfo": "text",
         "marker": {
          "color": "rgb(0,116,217)"
         },
         "mode": "lines",
         "type": "scatter",
         "x": [
          0,
          1.1960549566932361,
          1.1960549566932361,
          0
         ],
         "xaxis": "x",
         "y": [
          -245,
          -245,
          -255,
          -255
         ],
         "yaxis": "y"
        },
        {
         "hoverinfo": "text",
         "marker": {
          "color": "rgb(0,116,217)"
         },
         "mode": "lines",
         "type": "scatter",
         "x": [
          1.1712156135103122,
          2.219009530686217,
          2.219009530686217,
          1.1960549566932361
         ],
         "xaxis": "x",
         "y": [
          -230,
          -230,
          -250,
          -250
         ],
         "yaxis": "y"
        },
        {
         "hoverinfo": "text",
         "marker": {
          "color": "rgb(0,116,217)"
         },
         "mode": "lines",
         "type": "scatter",
         "x": [
          2.1920857560597526,
          3.266052017458816,
          3.266052017458816,
          2.219009530686217
         ],
         "xaxis": "x",
         "y": [
          -191.25,
          -191.25,
          -240,
          -240
         ],
         "yaxis": "y"
        },
        {
         "hoverinfo": "text",
         "marker": {
          "color": "rgb(0,116,217)"
         },
         "mode": "lines",
         "type": "scatter",
         "x": [
          2.389434282243081,
          3.3024676344570856,
          3.3024676344570856,
          3.266052017458816
         ],
         "xaxis": "x",
         "y": [
          -141.25,
          -141.25,
          -215.625,
          -215.625
         ],
         "yaxis": "y"
        },
        {
         "hoverinfo": "text",
         "marker": {
          "color": "rgb(0,116,217)"
         },
         "mode": "lines",
         "type": "scatter",
         "x": [
          0,
          1.7234044377473157,
          1.7234044377473157,
          0
         ],
         "xaxis": "x",
         "y": [
          -275,
          -275,
          -285,
          -285
         ],
         "yaxis": "y"
        },
        {
         "hoverinfo": "text",
         "marker": {
          "color": "rgb(0,116,217)"
         },
         "mode": "lines",
         "type": "scatter",
         "x": [
          0,
          2.581442377796203,
          2.581442377796203,
          1.7234044377473157
         ],
         "xaxis": "x",
         "y": [
          -265,
          -265,
          -280,
          -280
         ],
         "yaxis": "y"
        },
        {
         "hoverinfo": "text",
         "marker": {
          "color": "rgb(0,116,217)"
         },
         "mode": "lines",
         "type": "scatter",
         "x": [
          0,
          1.0522959344869378,
          1.0522959344869378,
          0
         ],
         "xaxis": "x",
         "y": [
          -305,
          -305,
          -315,
          -315
         ],
         "yaxis": "y"
        },
        {
         "hoverinfo": "text",
         "marker": {
          "color": "rgb(0,116,217)"
         },
         "mode": "lines",
         "type": "scatter",
         "x": [
          0,
          1.8655033922178135,
          1.8655033922178135,
          1.0522959344869378
         ],
         "xaxis": "x",
         "y": [
          -295,
          -295,
          -310,
          -310
         ],
         "yaxis": "y"
        },
        {
         "hoverinfo": "text",
         "marker": {
          "color": "rgb(0,116,217)"
         },
         "mode": "lines",
         "type": "scatter",
         "x": [
          0,
          1.6452761578929647,
          1.6452761578929647,
          0
         ],
         "xaxis": "x",
         "y": [
          -335,
          -335,
          -345,
          -345
         ],
         "yaxis": "y"
        },
        {
         "hoverinfo": "text",
         "marker": {
          "color": "rgb(0,116,217)"
         },
         "mode": "lines",
         "type": "scatter",
         "x": [
          0,
          2.218104369748404,
          2.218104369748404,
          1.6452761578929647
         ],
         "xaxis": "x",
         "y": [
          -325,
          -325,
          -340,
          -340
         ],
         "yaxis": "y"
        },
        {
         "hoverinfo": "text",
         "marker": {
          "color": "rgb(0,116,217)"
         },
         "mode": "lines",
         "type": "scatter",
         "x": [
          1.8655033922178135,
          2.9691595883002027,
          2.9691595883002027,
          2.218104369748404
         ],
         "xaxis": "x",
         "y": [
          -302.5,
          -302.5,
          -332.5,
          -332.5
         ],
         "yaxis": "y"
        },
        {
         "hoverinfo": "text",
         "marker": {
          "color": "rgb(0,116,217)"
         },
         "mode": "lines",
         "type": "scatter",
         "x": [
          2.581442377796203,
          3.4545665928227867,
          3.4545665928227867,
          2.9691595883002027
         ],
         "xaxis": "x",
         "y": [
          -272.5,
          -272.5,
          -317.5,
          -317.5
         ],
         "yaxis": "y"
        },
        {
         "hoverinfo": "text",
         "marker": {
          "color": "rgb(0,116,217)"
         },
         "mode": "lines",
         "type": "scatter",
         "x": [
          3.3024676344570856,
          4.329450814452319,
          4.329450814452319,
          3.4545665928227867
         ],
         "xaxis": "x",
         "y": [
          -178.4375,
          -178.4375,
          -295,
          -295
         ],
         "yaxis": "y"
        },
        {
         "hoverinfo": "text",
         "marker": {
          "color": "rgb(0,116,217)"
         },
         "mode": "lines",
         "type": "scatter",
         "x": [
          4.069807675867115,
          5.850947533783507,
          5.850947533783507,
          4.329450814452319
         ],
         "xaxis": "x",
         "y": [
          -52.8125,
          -52.8125,
          -236.71875,
          -236.71875
         ],
         "yaxis": "y"
        },
        {
         "hoverinfo": "text",
         "marker": {
          "color": "rgb(61,153,112)"
         },
         "mode": "lines",
         "type": "scatter",
         "x": [
          0,
          0.8745502808263635,
          0.8745502808263635,
          0
         ],
         "xaxis": "x",
         "y": [
          -355,
          -355,
          -365,
          -365
         ],
         "yaxis": "y"
        },
        {
         "hoverinfo": "text",
         "marker": {
          "color": "rgb(255,65,54)"
         },
         "mode": "lines",
         "type": "scatter",
         "x": [
          0,
          0.9932151776865379,
          0.9932151776865379,
          0
         ],
         "xaxis": "x",
         "y": [
          -405,
          -405,
          -415,
          -415
         ],
         "yaxis": "y"
        },
        {
         "hoverinfo": "text",
         "marker": {
          "color": "rgb(0,116,217)"
         },
         "mode": "lines",
         "type": "scatter",
         "x": [
          0,
          1.4819172416056776,
          1.4819172416056776,
          0.9932151776865379
         ],
         "xaxis": "x",
         "y": [
          -395,
          -395,
          -410,
          -410
         ],
         "yaxis": "y"
        },
        {
         "hoverinfo": "text",
         "marker": {
          "color": "rgb(0,116,217)"
         },
         "mode": "lines",
         "type": "scatter",
         "x": [
          0,
          1.6104173000441164,
          1.6104173000441164,
          1.4819172416056776
         ],
         "xaxis": "x",
         "y": [
          -385,
          -385,
          -402.5,
          -402.5
         ],
         "yaxis": "y"
        },
        {
         "hoverinfo": "text",
         "marker": {
          "color": "rgb(0,116,217)"
         },
         "mode": "lines",
         "type": "scatter",
         "x": [
          0,
          1.7454789323434734,
          1.7454789323434734,
          1.6104173000441164
         ],
         "xaxis": "x",
         "y": [
          -375,
          -375,
          -393.75,
          -393.75
         ],
         "yaxis": "y"
        },
        {
         "hoverinfo": "text",
         "marker": {
          "color": "rgb(0,116,217)"
         },
         "mode": "lines",
         "type": "scatter",
         "x": [
          0.8745502808263635,
          1.9196125538021003,
          1.9196125538021003,
          1.7454789323434734
         ],
         "xaxis": "x",
         "y": [
          -360,
          -360,
          -384.375,
          -384.375
         ],
         "yaxis": "y"
        },
        {
         "hoverinfo": "text",
         "marker": {
          "color": "rgb(35,205,205)"
         },
         "mode": "lines",
         "type": "scatter",
         "x": [
          0,
          0.7951530603281535,
          0.7951530603281535,
          0
         ],
         "xaxis": "x",
         "y": [
          -425,
          -425,
          -435,
          -435
         ],
         "yaxis": "y"
        },
        {
         "hoverinfo": "text",
         "marker": {
          "color": "rgb(133,20,75)"
         },
         "mode": "lines",
         "type": "scatter",
         "x": [
          0,
          0.9187643159511629,
          0.9187643159511629,
          0
         ],
         "xaxis": "x",
         "y": [
          -445,
          -445,
          -455,
          -455
         ],
         "yaxis": "y"
        },
        {
         "hoverinfo": "text",
         "marker": {
          "color": "rgb(0,116,217)"
         },
         "mode": "lines",
         "type": "scatter",
         "x": [
          0.7951530603281535,
          1.9744078552589595,
          1.9744078552589595,
          0.9187643159511629
         ],
         "xaxis": "x",
         "y": [
          -430,
          -430,
          -450,
          -450
         ],
         "yaxis": "y"
        },
        {
         "hoverinfo": "text",
         "marker": {
          "color": "rgb(0,116,217)"
         },
         "mode": "lines",
         "type": "scatter",
         "x": [
          1.9196125538021003,
          2.735752234711384,
          2.735752234711384,
          1.9744078552589595
         ],
         "xaxis": "x",
         "y": [
          -372.1875,
          -372.1875,
          -440,
          -440
         ],
         "yaxis": "y"
        },
        {
         "hoverinfo": "text",
         "marker": {
          "color": "rgb(0,116,217)"
         },
         "mode": "lines",
         "type": "scatter",
         "x": [
          0,
          1.293578826169586,
          1.293578826169586,
          0
         ],
         "xaxis": "x",
         "y": [
          -465,
          -465,
          -475,
          -475
         ],
         "yaxis": "y"
        },
        {
         "hoverinfo": "text",
         "marker": {
          "color": "rgb(0,116,217)"
         },
         "mode": "lines",
         "type": "scatter",
         "x": [
          0,
          1.1788953059361351,
          1.1788953059361351,
          0
         ],
         "xaxis": "x",
         "y": [
          -485,
          -485,
          -495,
          -495
         ],
         "yaxis": "y"
        },
        {
         "hoverinfo": "text",
         "marker": {
          "color": "rgb(0,116,217)"
         },
         "mode": "lines",
         "type": "scatter",
         "x": [
          0,
          1.5365588971810733,
          1.5365588971810733,
          0
         ],
         "xaxis": "x",
         "y": [
          -505,
          -505,
          -515,
          -515
         ],
         "yaxis": "y"
        },
        {
         "hoverinfo": "text",
         "marker": {
          "color": "rgb(0,116,217)"
         },
         "mode": "lines",
         "type": "scatter",
         "x": [
          1.1788953059361351,
          2.1102827871744094,
          2.1102827871744094,
          1.5365588971810733
         ],
         "xaxis": "x",
         "y": [
          -490,
          -490,
          -510,
          -510
         ],
         "yaxis": "y"
        },
        {
         "hoverinfo": "text",
         "marker": {
          "color": "rgb(0,116,217)"
         },
         "mode": "lines",
         "type": "scatter",
         "x": [
          1.293578826169586,
          2.7896591002434423,
          2.7896591002434423,
          2.1102827871744094
         ],
         "xaxis": "x",
         "y": [
          -470,
          -470,
          -500,
          -500
         ],
         "yaxis": "y"
        },
        {
         "hoverinfo": "text",
         "marker": {
          "color": "rgb(0,116,217)"
         },
         "mode": "lines",
         "type": "scatter",
         "x": [
          0,
          1.9339981705114024,
          1.9339981705114024,
          0
         ],
         "xaxis": "x",
         "y": [
          -525,
          -525,
          -535,
          -535
         ],
         "yaxis": "y"
        },
        {
         "hoverinfo": "text",
         "marker": {
          "color": "rgb(0,116,217)"
         },
         "mode": "lines",
         "type": "scatter",
         "x": [
          0,
          1.304890727445243,
          1.304890727445243,
          0
         ],
         "xaxis": "x",
         "y": [
          -545,
          -545,
          -555,
          -555
         ],
         "yaxis": "y"
        },
        {
         "hoverinfo": "text",
         "marker": {
          "color": "rgb(0,116,217)"
         },
         "mode": "lines",
         "type": "scatter",
         "x": [
          0,
          1.3814305157644804,
          1.3814305157644804,
          0
         ],
         "xaxis": "x",
         "y": [
          -565,
          -565,
          -575,
          -575
         ],
         "yaxis": "y"
        },
        {
         "hoverinfo": "text",
         "marker": {
          "color": "rgb(0,116,217)"
         },
         "mode": "lines",
         "type": "scatter",
         "x": [
          0,
          1.8455093999145316,
          1.8455093999145316,
          0
         ],
         "xaxis": "x",
         "y": [
          -585,
          -585,
          -595,
          -595
         ],
         "yaxis": "y"
        },
        {
         "hoverinfo": "text",
         "marker": {
          "color": "rgb(0,116,217)"
         },
         "mode": "lines",
         "type": "scatter",
         "x": [
          1.3814305157644804,
          2.0393540983939356,
          2.0393540983939356,
          1.8455093999145316
         ],
         "xaxis": "x",
         "y": [
          -570,
          -570,
          -590,
          -590
         ],
         "yaxis": "y"
        },
        {
         "hoverinfo": "text",
         "marker": {
          "color": "rgb(0,116,217)"
         },
         "mode": "lines",
         "type": "scatter",
         "x": [
          1.304890727445243,
          2.306293135526304,
          2.306293135526304,
          2.0393540983939356
         ],
         "xaxis": "x",
         "y": [
          -550,
          -550,
          -580,
          -580
         ],
         "yaxis": "y"
        },
        {
         "hoverinfo": "text",
         "marker": {
          "color": "rgb(0,116,217)"
         },
         "mode": "lines",
         "type": "scatter",
         "x": [
          1.9339981705114024,
          2.887566843409518,
          2.887566843409518,
          2.306293135526304
         ],
         "xaxis": "x",
         "y": [
          -530,
          -530,
          -565,
          -565
         ],
         "yaxis": "y"
        },
        {
         "hoverinfo": "text",
         "marker": {
          "color": "rgb(0,116,217)"
         },
         "mode": "lines",
         "type": "scatter",
         "x": [
          2.7896591002434423,
          3.4029468904303926,
          3.4029468904303926,
          2.887566843409518
         ],
         "xaxis": "x",
         "y": [
          -485,
          -485,
          -547.5,
          -547.5
         ],
         "yaxis": "y"
        },
        {
         "hoverinfo": "text",
         "marker": {
          "color": "rgb(0,116,217)"
         },
         "mode": "lines",
         "type": "scatter",
         "x": [
          2.735752234711384,
          4.717478184777449,
          4.717478184777449,
          3.4029468904303926
         ],
         "xaxis": "x",
         "y": [
          -406.09375,
          -406.09375,
          -516.25,
          -516.25
         ],
         "yaxis": "y"
        },
        {
         "hoverinfo": "text",
         "marker": {
          "color": "rgb(0,116,217)"
         },
         "mode": "lines",
         "type": "scatter",
         "x": [
          0,
          1.3882486934894962,
          1.3882486934894962,
          0
         ],
         "xaxis": "x",
         "y": [
          -605,
          -605,
          -615,
          -615
         ],
         "yaxis": "y"
        },
        {
         "hoverinfo": "text",
         "marker": {
          "color": "rgb(0,116,217)"
         },
         "mode": "lines",
         "type": "scatter",
         "x": [
          0,
          1.4720685420830457,
          1.4720685420830457,
          0
         ],
         "xaxis": "x",
         "y": [
          -635,
          -635,
          -645,
          -645
         ],
         "yaxis": "y"
        },
        {
         "hoverinfo": "text",
         "marker": {
          "color": "rgb(0,116,217)"
         },
         "mode": "lines",
         "type": "scatter",
         "x": [
          0,
          1.8930887247426824,
          1.8930887247426824,
          1.4720685420830457
         ],
         "xaxis": "x",
         "y": [
          -625,
          -625,
          -640,
          -640
         ],
         "yaxis": "y"
        },
        {
         "hoverinfo": "text",
         "marker": {
          "color": "rgb(0,116,217)"
         },
         "mode": "lines",
         "type": "scatter",
         "x": [
          1.3882486934894962,
          2.213874385176897,
          2.213874385176897,
          1.8930887247426824
         ],
         "xaxis": "x",
         "y": [
          -610,
          -610,
          -632.5,
          -632.5
         ],
         "yaxis": "y"
        },
        {
         "hoverinfo": "text",
         "marker": {
          "color": "rgb(255,220,0)"
         },
         "mode": "lines",
         "type": "scatter",
         "x": [
          0,
          0.7187910218018336,
          0.7187910218018336,
          0
         ],
         "xaxis": "x",
         "y": [
          -665,
          -665,
          -675,
          -675
         ],
         "yaxis": "y"
        },
        {
         "hoverinfo": "text",
         "marker": {
          "color": "rgb(0,116,217)"
         },
         "mode": "lines",
         "type": "scatter",
         "x": [
          0,
          1.0187695597027082,
          1.0187695597027082,
          0.7187910218018336
         ],
         "xaxis": "x",
         "y": [
          -655,
          -655,
          -670,
          -670
         ],
         "yaxis": "y"
        },
        {
         "hoverinfo": "text",
         "marker": {
          "color": "rgb(40,35,35)"
         },
         "mode": "lines",
         "type": "scatter",
         "x": [
          0,
          0.5147674505138189,
          0.5147674505138189,
          0
         ],
         "xaxis": "x",
         "y": [
          -685,
          -685,
          -695,
          -695
         ],
         "yaxis": "y"
        },
        {
         "hoverinfo": "text",
         "marker": {
          "color": "rgb(0,116,217)"
         },
         "mode": "lines",
         "type": "scatter",
         "x": [
          0,
          1.4267640793012453,
          1.4267640793012453,
          0
         ],
         "xaxis": "x",
         "y": [
          -705,
          -705,
          -715,
          -715
         ],
         "yaxis": "y"
        },
        {
         "hoverinfo": "text",
         "marker": {
          "color": "rgb(0,116,217)"
         },
         "mode": "lines",
         "type": "scatter",
         "x": [
          0.5147674505138189,
          1.8806449439017854,
          1.8806449439017854,
          1.4267640793012453
         ],
         "xaxis": "x",
         "y": [
          -690,
          -690,
          -710,
          -710
         ],
         "yaxis": "y"
        },
        {
         "hoverinfo": "text",
         "marker": {
          "color": "rgb(0,116,217)"
         },
         "mode": "lines",
         "type": "scatter",
         "x": [
          1.0187695597027082,
          3.228141348219605,
          3.228141348219605,
          1.8806449439017854
         ],
         "xaxis": "x",
         "y": [
          -662.5,
          -662.5,
          -700,
          -700
         ],
         "yaxis": "y"
        },
        {
         "hoverinfo": "text",
         "marker": {
          "color": "rgb(0,116,217)"
         },
         "mode": "lines",
         "type": "scatter",
         "x": [
          2.213874385176897,
          3.6136220091292457,
          3.6136220091292457,
          3.228141348219605
         ],
         "xaxis": "x",
         "y": [
          -621.25,
          -621.25,
          -681.25,
          -681.25
         ],
         "yaxis": "y"
        },
        {
         "hoverinfo": "text",
         "marker": {
          "color": "rgb(0,116,217)"
         },
         "mode": "lines",
         "type": "scatter",
         "x": [
          0,
          1.3945006095007126,
          1.3945006095007126,
          0
         ],
         "xaxis": "x",
         "y": [
          -745,
          -745,
          -755,
          -755
         ],
         "yaxis": "y"
        },
        {
         "hoverinfo": "text",
         "marker": {
          "color": "rgb(0,116,217)"
         },
         "mode": "lines",
         "type": "scatter",
         "x": [
          0,
          1.470713381816478,
          1.470713381816478,
          1.3945006095007126
         ],
         "xaxis": "x",
         "y": [
          -735,
          -735,
          -750,
          -750
         ],
         "yaxis": "y"
        },
        {
         "hoverinfo": "text",
         "marker": {
          "color": "rgb(0,116,217)"
         },
         "mode": "lines",
         "type": "scatter",
         "x": [
          0,
          1.8297396365191894,
          1.8297396365191894,
          1.470713381816478
         ],
         "xaxis": "x",
         "y": [
          -725,
          -725,
          -742.5,
          -742.5
         ],
         "yaxis": "y"
        },
        {
         "hoverinfo": "text",
         "marker": {
          "color": "rgb(0,116,217)"
         },
         "mode": "lines",
         "type": "scatter",
         "x": [
          0,
          1.254437495568665,
          1.254437495568665,
          0
         ],
         "xaxis": "x",
         "y": [
          -765,
          -765,
          -775,
          -775
         ],
         "yaxis": "y"
        },
        {
         "hoverinfo": "text",
         "marker": {
          "color": "rgb(0,116,217)"
         },
         "mode": "lines",
         "type": "scatter",
         "x": [
          0,
          1.313255736215619,
          1.313255736215619,
          0
         ],
         "xaxis": "x",
         "y": [
          -805,
          -805,
          -815,
          -815
         ],
         "yaxis": "y"
        },
        {
         "hoverinfo": "text",
         "marker": {
          "color": "rgb(0,116,217)"
         },
         "mode": "lines",
         "type": "scatter",
         "x": [
          0,
          1.5873833132476312,
          1.5873833132476312,
          1.313255736215619
         ],
         "xaxis": "x",
         "y": [
          -795,
          -795,
          -810,
          -810
         ],
         "yaxis": "y"
        },
        {
         "hoverinfo": "text",
         "marker": {
          "color": "rgb(0,116,217)"
         },
         "mode": "lines",
         "type": "scatter",
         "x": [
          0,
          2.055776247495559,
          2.055776247495559,
          1.5873833132476312
         ],
         "xaxis": "x",
         "y": [
          -785,
          -785,
          -802.5,
          -802.5
         ],
         "yaxis": "y"
        },
        {
         "hoverinfo": "text",
         "marker": {
          "color": "rgb(0,116,217)"
         },
         "mode": "lines",
         "type": "scatter",
         "x": [
          1.254437495568665,
          2.4155859773334436,
          2.4155859773334436,
          2.055776247495559
         ],
         "xaxis": "x",
         "y": [
          -770,
          -770,
          -793.75,
          -793.75
         ],
         "yaxis": "y"
        },
        {
         "hoverinfo": "text",
         "marker": {
          "color": "rgb(0,116,217)"
         },
         "mode": "lines",
         "type": "scatter",
         "x": [
          1.8297396365191894,
          2.7489365742277982,
          2.7489365742277982,
          2.4155859773334436
         ],
         "xaxis": "x",
         "y": [
          -733.75,
          -733.75,
          -781.875,
          -781.875
         ],
         "yaxis": "y"
        },
        {
         "hoverinfo": "text",
         "marker": {
          "color": "rgb(0,116,217)"
         },
         "mode": "lines",
         "type": "scatter",
         "x": [
          0,
          1.6045180923404045,
          1.6045180923404045,
          0
         ],
         "xaxis": "x",
         "y": [
          -845,
          -845,
          -855,
          -855
         ],
         "yaxis": "y"
        },
        {
         "hoverinfo": "text",
         "marker": {
          "color": "rgb(0,116,217)"
         },
         "mode": "lines",
         "type": "scatter",
         "x": [
          0,
          1.6591112471826135,
          1.6591112471826135,
          1.6045180923404045
         ],
         "xaxis": "x",
         "y": [
          -835,
          -835,
          -850,
          -850
         ],
         "yaxis": "y"
        },
        {
         "hoverinfo": "text",
         "marker": {
          "color": "rgb(0,116,217)"
         },
         "mode": "lines",
         "type": "scatter",
         "x": [
          0,
          1.906485536149071,
          1.906485536149071,
          1.6591112471826135
         ],
         "xaxis": "x",
         "y": [
          -825,
          -825,
          -842.5,
          -842.5
         ],
         "yaxis": "y"
        },
        {
         "hoverinfo": "text",
         "marker": {
          "color": "rgb(0,116,217)"
         },
         "mode": "lines",
         "type": "scatter",
         "x": [
          0,
          1.2387601304922131,
          1.2387601304922131,
          0
         ],
         "xaxis": "x",
         "y": [
          -875,
          -875,
          -885,
          -885
         ],
         "yaxis": "y"
        },
        {
         "hoverinfo": "text",
         "marker": {
          "color": "rgb(0,116,217)"
         },
         "mode": "lines",
         "type": "scatter",
         "x": [
          0,
          1.5464804054658379,
          1.5464804054658379,
          1.2387601304922131
         ],
         "xaxis": "x",
         "y": [
          -865,
          -865,
          -880,
          -880
         ],
         "yaxis": "y"
        },
        {
         "hoverinfo": "text",
         "marker": {
          "color": "rgb(0,116,217)"
         },
         "mode": "lines",
         "type": "scatter",
         "x": [
          0,
          1.7925932727859104,
          1.7925932727859104,
          0
         ],
         "xaxis": "x",
         "y": [
          -895,
          -895,
          -905,
          -905
         ],
         "yaxis": "y"
        },
        {
         "hoverinfo": "text",
         "marker": {
          "color": "rgb(0,116,217)"
         },
         "mode": "lines",
         "type": "scatter",
         "x": [
          0,
          1.8051248497514358,
          1.8051248497514358,
          0
         ],
         "xaxis": "x",
         "y": [
          -915,
          -915,
          -925,
          -925
         ],
         "yaxis": "y"
        },
        {
         "hoverinfo": "text",
         "marker": {
          "color": "rgb(0,116,217)"
         },
         "mode": "lines",
         "type": "scatter",
         "x": [
          1.7925932727859104,
          2.144135216624459,
          2.144135216624459,
          1.8051248497514358
         ],
         "xaxis": "x",
         "y": [
          -900,
          -900,
          -920,
          -920
         ],
         "yaxis": "y"
        },
        {
         "hoverinfo": "text",
         "marker": {
          "color": "rgb(0,116,217)"
         },
         "mode": "lines",
         "type": "scatter",
         "x": [
          1.5464804054658379,
          2.5109692628159186,
          2.5109692628159186,
          2.144135216624459
         ],
         "xaxis": "x",
         "y": [
          -872.5,
          -872.5,
          -910,
          -910
         ],
         "yaxis": "y"
        },
        {
         "hoverinfo": "text",
         "marker": {
          "color": "rgb(0,116,217)"
         },
         "mode": "lines",
         "type": "scatter",
         "x": [
          1.906485536149071,
          3.0430673325956787,
          3.0430673325956787,
          2.5109692628159186
         ],
         "xaxis": "x",
         "y": [
          -833.75,
          -833.75,
          -891.25,
          -891.25
         ],
         "yaxis": "y"
        },
        {
         "hoverinfo": "text",
         "marker": {
          "color": "rgb(0,116,217)"
         },
         "mode": "lines",
         "type": "scatter",
         "x": [
          2.7489365742277982,
          3.688611500466575,
          3.688611500466575,
          3.0430673325956787
         ],
         "xaxis": "x",
         "y": [
          -757.8125,
          -757.8125,
          -862.5,
          -862.5
         ],
         "yaxis": "y"
        },
        {
         "hoverinfo": "text",
         "marker": {
          "color": "rgb(0,116,217)"
         },
         "mode": "lines",
         "type": "scatter",
         "x": [
          3.6136220091292457,
          5.066266295780716,
          5.066266295780716,
          3.688611500466575
         ],
         "xaxis": "x",
         "y": [
          -651.25,
          -651.25,
          -810.15625,
          -810.15625
         ],
         "yaxis": "y"
        },
        {
         "hoverinfo": "text",
         "marker": {
          "color": "rgb(0,116,217)"
         },
         "mode": "lines",
         "type": "scatter",
         "x": [
          4.717478184777449,
          6.722009815365189,
          6.722009815365189,
          5.066266295780716
         ],
         "xaxis": "x",
         "y": [
          -461.171875,
          -461.171875,
          -730.703125,
          -730.703125
         ],
         "yaxis": "y"
        },
        {
         "hoverinfo": "text",
         "marker": {
          "color": "rgb(0,116,217)"
         },
         "mode": "lines",
         "type": "scatter",
         "x": [
          5.850947533783507,
          11.765229850831618,
          11.765229850831618,
          6.722009815365189
         ],
         "xaxis": "x",
         "y": [
          -144.765625,
          -144.765625,
          -595.9375,
          -595.9375
         ],
         "yaxis": "y"
        },
        {
         "hoverinfo": "text",
         "marker": {
          "color": "rgb(0,116,217)"
         },
         "mode": "lines",
         "type": "scatter",
         "x": [
          0,
          1.666138475058354,
          1.666138475058354,
          0
         ],
         "xaxis": "x",
         "y": [
          -945,
          -945,
          -955,
          -955
         ],
         "yaxis": "y"
        },
        {
         "hoverinfo": "text",
         "marker": {
          "color": "rgb(0,116,217)"
         },
         "mode": "lines",
         "type": "scatter",
         "x": [
          0,
          2.2339577086582185,
          2.2339577086582185,
          1.666138475058354
         ],
         "xaxis": "x",
         "y": [
          -935,
          -935,
          -950,
          -950
         ],
         "yaxis": "y"
        },
        {
         "hoverinfo": "text",
         "marker": {
          "color": "rgb(61,153,112)"
         },
         "mode": "lines",
         "type": "scatter",
         "x": [
          0,
          0.7400463790779871,
          0.7400463790779871,
          0
         ],
         "xaxis": "x",
         "y": [
          -965,
          -965,
          -975,
          -975
         ],
         "yaxis": "y"
        },
        {
         "hoverinfo": "text",
         "marker": {
          "color": "rgb(0,116,217)"
         },
         "mode": "lines",
         "type": "scatter",
         "x": [
          0,
          1.9177367037786195,
          1.9177367037786195,
          0
         ],
         "xaxis": "x",
         "y": [
          -985,
          -985,
          -995,
          -995
         ],
         "yaxis": "y"
        },
        {
         "hoverinfo": "text",
         "marker": {
          "color": "rgb(0,116,217)"
         },
         "mode": "lines",
         "type": "scatter",
         "x": [
          0.7400463790779871,
          2.99491323001465,
          2.99491323001465,
          1.9177367037786195
         ],
         "xaxis": "x",
         "y": [
          -970,
          -970,
          -990,
          -990
         ],
         "yaxis": "y"
        },
        {
         "hoverinfo": "text",
         "marker": {
          "color": "rgb(0,116,217)"
         },
         "mode": "lines",
         "type": "scatter",
         "x": [
          2.2339577086582185,
          3.385289877598643,
          3.385289877598643,
          2.99491323001465
         ],
         "xaxis": "x",
         "y": [
          -942.5,
          -942.5,
          -980,
          -980
         ],
         "yaxis": "y"
        },
        {
         "hoverinfo": "text",
         "marker": {
          "color": "rgb(255,65,54)"
         },
         "mode": "lines",
         "type": "scatter",
         "x": [
          0,
          0.0000017879898292568235,
          0.0000017879898292568235,
          0
         ],
         "xaxis": "x",
         "y": [
          -1015,
          -1015,
          -1025,
          -1025
         ],
         "yaxis": "y"
        },
        {
         "hoverinfo": "text",
         "marker": {
          "color": "rgb(0,116,217)"
         },
         "mode": "lines",
         "type": "scatter",
         "x": [
          0,
          1.0820335674291464,
          1.0820335674291464,
          0.0000017879898292568235
         ],
         "xaxis": "x",
         "y": [
          -1005,
          -1005,
          -1020,
          -1020
         ],
         "yaxis": "y"
        },
        {
         "hoverinfo": "text",
         "marker": {
          "color": "rgb(0,116,217)"
         },
         "mode": "lines",
         "type": "scatter",
         "x": [
          0,
          1.5413295054639407,
          1.5413295054639407,
          0
         ],
         "xaxis": "x",
         "y": [
          -1055,
          -1055,
          -1065,
          -1065
         ],
         "yaxis": "y"
        },
        {
         "hoverinfo": "text",
         "marker": {
          "color": "rgb(0,116,217)"
         },
         "mode": "lines",
         "type": "scatter",
         "x": [
          0,
          1.6613871939343634,
          1.6613871939343634,
          1.5413295054639407
         ],
         "xaxis": "x",
         "y": [
          -1045,
          -1045,
          -1060,
          -1060
         ],
         "yaxis": "y"
        },
        {
         "hoverinfo": "text",
         "marker": {
          "color": "rgb(0,116,217)"
         },
         "mode": "lines",
         "type": "scatter",
         "x": [
          0,
          1.9767619341668707,
          1.9767619341668707,
          1.6613871939343634
         ],
         "xaxis": "x",
         "y": [
          -1035,
          -1035,
          -1052.5,
          -1052.5
         ],
         "yaxis": "y"
        },
        {
         "hoverinfo": "text",
         "marker": {
          "color": "rgb(0,116,217)"
         },
         "mode": "lines",
         "type": "scatter",
         "x": [
          0,
          1.6994827498520517,
          1.6994827498520517,
          0
         ],
         "xaxis": "x",
         "y": [
          -1075,
          -1075,
          -1085,
          -1085
         ],
         "yaxis": "y"
        },
        {
         "hoverinfo": "text",
         "marker": {
          "color": "rgb(0,116,217)"
         },
         "mode": "lines",
         "type": "scatter",
         "x": [
          0,
          1.624802811808605,
          1.624802811808605,
          0
         ],
         "xaxis": "x",
         "y": [
          -1095,
          -1095,
          -1105,
          -1105
         ],
         "yaxis": "y"
        },
        {
         "hoverinfo": "text",
         "marker": {
          "color": "rgb(0,116,217)"
         },
         "mode": "lines",
         "type": "scatter",
         "x": [
          0,
          1.4199024163901586,
          1.4199024163901586,
          0
         ],
         "xaxis": "x",
         "y": [
          -1135,
          -1135,
          -1145,
          -1145
         ],
         "yaxis": "y"
        },
        {
         "hoverinfo": "text",
         "marker": {
          "color": "rgb(0,116,217)"
         },
         "mode": "lines",
         "type": "scatter",
         "x": [
          0,
          1.8572853086960313,
          1.8572853086960313,
          1.4199024163901586
         ],
         "xaxis": "x",
         "y": [
          -1125,
          -1125,
          -1140,
          -1140
         ],
         "yaxis": "y"
        },
        {
         "hoverinfo": "text",
         "marker": {
          "color": "rgb(0,116,217)"
         },
         "mode": "lines",
         "type": "scatter",
         "x": [
          0,
          2.098807948096675,
          2.098807948096675,
          1.8572853086960313
         ],
         "xaxis": "x",
         "y": [
          -1115,
          -1115,
          -1132.5,
          -1132.5
         ],
         "yaxis": "y"
        },
        {
         "hoverinfo": "text",
         "marker": {
          "color": "rgb(0,116,217)"
         },
         "mode": "lines",
         "type": "scatter",
         "x": [
          1.624802811808605,
          2.476319636676194,
          2.476319636676194,
          2.098807948096675
         ],
         "xaxis": "x",
         "y": [
          -1100,
          -1100,
          -1123.75,
          -1123.75
         ],
         "yaxis": "y"
        },
        {
         "hoverinfo": "text",
         "marker": {
          "color": "rgb(0,116,217)"
         },
         "mode": "lines",
         "type": "scatter",
         "x": [
          1.6994827498520517,
          2.5680939766404443,
          2.5680939766404443,
          2.476319636676194
         ],
         "xaxis": "x",
         "y": [
          -1080,
          -1080,
          -1111.875,
          -1111.875
         ],
         "yaxis": "y"
        },
        {
         "hoverinfo": "text",
         "marker": {
          "color": "rgb(0,116,217)"
         },
         "mode": "lines",
         "type": "scatter",
         "x": [
          1.9767619341668707,
          2.8275919777207914,
          2.8275919777207914,
          2.5680939766404443
         ],
         "xaxis": "x",
         "y": [
          -1043.75,
          -1043.75,
          -1095.9375,
          -1095.9375
         ],
         "yaxis": "y"
        },
        {
         "hoverinfo": "text",
         "marker": {
          "color": "rgb(0,116,217)"
         },
         "mode": "lines",
         "type": "scatter",
         "x": [
          1.0820335674291464,
          3.022231425051251,
          3.022231425051251,
          2.8275919777207914
         ],
         "xaxis": "x",
         "y": [
          -1012.5,
          -1012.5,
          -1069.84375,
          -1069.84375
         ],
         "yaxis": "y"
        },
        {
         "hoverinfo": "text",
         "marker": {
          "color": "rgb(0,116,217)"
         },
         "mode": "lines",
         "type": "scatter",
         "x": [
          0,
          1.7534375649359728,
          1.7534375649359728,
          0
         ],
         "xaxis": "x",
         "y": [
          -1165,
          -1165,
          -1175,
          -1175
         ],
         "yaxis": "y"
        },
        {
         "hoverinfo": "text",
         "marker": {
          "color": "rgb(0,116,217)"
         },
         "mode": "lines",
         "type": "scatter",
         "x": [
          0,
          2.0497621045152132,
          2.0497621045152132,
          1.7534375649359728
         ],
         "xaxis": "x",
         "y": [
          -1155,
          -1155,
          -1170,
          -1170
         ],
         "yaxis": "y"
        },
        {
         "hoverinfo": "text",
         "marker": {
          "color": "rgb(0,116,217)"
         },
         "mode": "lines",
         "type": "scatter",
         "x": [
          0,
          1.76688756747455,
          1.76688756747455,
          0
         ],
         "xaxis": "x",
         "y": [
          -1185,
          -1185,
          -1195,
          -1195
         ],
         "yaxis": "y"
        },
        {
         "hoverinfo": "text",
         "marker": {
          "color": "rgb(0,116,217)"
         },
         "mode": "lines",
         "type": "scatter",
         "x": [
          0,
          2.019469733503593,
          2.019469733503593,
          0
         ],
         "xaxis": "x",
         "y": [
          -1205,
          -1205,
          -1215,
          -1215
         ],
         "yaxis": "y"
        },
        {
         "hoverinfo": "text",
         "marker": {
          "color": "rgb(0,116,217)"
         },
         "mode": "lines",
         "type": "scatter",
         "x": [
          1.76688756747455,
          2.4437651605178647,
          2.4437651605178647,
          2.019469733503593
         ],
         "xaxis": "x",
         "y": [
          -1190,
          -1190,
          -1210,
          -1210
         ],
         "yaxis": "y"
        },
        {
         "hoverinfo": "text",
         "marker": {
          "color": "rgb(0,116,217)"
         },
         "mode": "lines",
         "type": "scatter",
         "x": [
          2.0497621045152132,
          3.0675821271479413,
          3.0675821271479413,
          2.4437651605178647
         ],
         "xaxis": "x",
         "y": [
          -1162.5,
          -1162.5,
          -1200,
          -1200
         ],
         "yaxis": "y"
        },
        {
         "hoverinfo": "text",
         "marker": {
          "color": "rgb(0,116,217)"
         },
         "mode": "lines",
         "type": "scatter",
         "x": [
          0,
          1.648608240423123,
          1.648608240423123,
          0
         ],
         "xaxis": "x",
         "y": [
          -1255,
          -1255,
          -1265,
          -1265
         ],
         "yaxis": "y"
        },
        {
         "hoverinfo": "text",
         "marker": {
          "color": "rgb(0,116,217)"
         },
         "mode": "lines",
         "type": "scatter",
         "x": [
          0,
          1.9571487335232083,
          1.9571487335232083,
          1.648608240423123
         ],
         "xaxis": "x",
         "y": [
          -1245,
          -1245,
          -1260,
          -1260
         ],
         "yaxis": "y"
        },
        {
         "hoverinfo": "text",
         "marker": {
          "color": "rgb(0,116,217)"
         },
         "mode": "lines",
         "type": "scatter",
         "x": [
          0,
          2.2556045478783875,
          2.2556045478783875,
          1.9571487335232083
         ],
         "xaxis": "x",
         "y": [
          -1235,
          -1235,
          -1252.5,
          -1252.5
         ],
         "yaxis": "y"
        },
        {
         "hoverinfo": "text",
         "marker": {
          "color": "rgb(0,116,217)"
         },
         "mode": "lines",
         "type": "scatter",
         "x": [
          0,
          2.5785317914755703,
          2.5785317914755703,
          2.2556045478783875
         ],
         "xaxis": "x",
         "y": [
          -1225,
          -1225,
          -1243.75,
          -1243.75
         ],
         "yaxis": "y"
        },
        {
         "hoverinfo": "text",
         "marker": {
          "color": "rgb(0,116,217)"
         },
         "mode": "lines",
         "type": "scatter",
         "x": [
          0,
          1.3156144817651843,
          1.3156144817651843,
          0
         ],
         "xaxis": "x",
         "y": [
          -1275,
          -1275,
          -1285,
          -1285
         ],
         "yaxis": "y"
        },
        {
         "hoverinfo": "text",
         "marker": {
          "color": "rgb(0,116,217)"
         },
         "mode": "lines",
         "type": "scatter",
         "x": [
          0,
          2.107579847395991,
          2.107579847395991,
          0
         ],
         "xaxis": "x",
         "y": [
          -1295,
          -1295,
          -1305,
          -1305
         ],
         "yaxis": "y"
        },
        {
         "hoverinfo": "text",
         "marker": {
          "color": "rgb(0,116,217)"
         },
         "mode": "lines",
         "type": "scatter",
         "x": [
          1.3156144817651843,
          2.6135526814389003,
          2.6135526814389003,
          2.107579847395991
         ],
         "xaxis": "x",
         "y": [
          -1280,
          -1280,
          -1300,
          -1300
         ],
         "yaxis": "y"
        },
        {
         "hoverinfo": "text",
         "marker": {
          "color": "rgb(0,116,217)"
         },
         "mode": "lines",
         "type": "scatter",
         "x": [
          2.5785317914755703,
          3.1453705268696184,
          3.1453705268696184,
          2.6135526814389003
         ],
         "xaxis": "x",
         "y": [
          -1234.375,
          -1234.375,
          -1290,
          -1290
         ],
         "yaxis": "y"
        },
        {
         "hoverinfo": "text",
         "marker": {
          "color": "rgb(0,116,217)"
         },
         "mode": "lines",
         "type": "scatter",
         "x": [
          3.0675821271479413,
          3.9397875929595885,
          3.9397875929595885,
          3.1453705268696184
         ],
         "xaxis": "x",
         "y": [
          -1181.25,
          -1181.25,
          -1262.1875,
          -1262.1875
         ],
         "yaxis": "y"
        },
        {
         "hoverinfo": "text",
         "marker": {
          "color": "rgb(0,116,217)"
         },
         "mode": "lines",
         "type": "scatter",
         "x": [
          3.022231425051251,
          4.775915810842496,
          4.775915810842496,
          3.9397875929595885
         ],
         "xaxis": "x",
         "y": [
          -1041.171875,
          -1041.171875,
          -1221.71875,
          -1221.71875
         ],
         "yaxis": "y"
        },
        {
         "hoverinfo": "text",
         "marker": {
          "color": "rgb(0,116,217)"
         },
         "mode": "lines",
         "type": "scatter",
         "x": [
          3.385289877598643,
          5.810603331556095,
          5.810603331556095,
          4.775915810842496
         ],
         "xaxis": "x",
         "y": [
          -961.25,
          -961.25,
          -1131.4453125,
          -1131.4453125
         ],
         "yaxis": "y"
        },
        {
         "hoverinfo": "text",
         "marker": {
          "color": "rgb(0,116,217)"
         },
         "mode": "lines",
         "type": "scatter",
         "x": [
          0,
          1.3830294432510155,
          1.3830294432510155,
          0
         ],
         "xaxis": "x",
         "y": [
          -1325,
          -1325,
          -1335,
          -1335
         ],
         "yaxis": "y"
        },
        {
         "hoverinfo": "text",
         "marker": {
          "color": "rgb(0,116,217)"
         },
         "mode": "lines",
         "type": "scatter",
         "x": [
          0,
          1.6714624853882705,
          1.6714624853882705,
          1.3830294432510155
         ],
         "xaxis": "x",
         "y": [
          -1315,
          -1315,
          -1330,
          -1330
         ],
         "yaxis": "y"
        },
        {
         "hoverinfo": "text",
         "marker": {
          "color": "rgb(0,116,217)"
         },
         "mode": "lines",
         "type": "scatter",
         "x": [
          0,
          2.545805904856598,
          2.545805904856598,
          0
         ],
         "xaxis": "x",
         "y": [
          -1345,
          -1345,
          -1355,
          -1355
         ],
         "yaxis": "y"
        },
        {
         "hoverinfo": "text",
         "marker": {
          "color": "rgb(0,116,217)"
         },
         "mode": "lines",
         "type": "scatter",
         "x": [
          1.6714624853882705,
          3.8994088117660035,
          3.8994088117660035,
          2.545805904856598
         ],
         "xaxis": "x",
         "y": [
          -1322.5,
          -1322.5,
          -1350,
          -1350
         ],
         "yaxis": "y"
        },
        {
         "hoverinfo": "text",
         "marker": {
          "color": "rgb(0,116,217)"
         },
         "mode": "lines",
         "type": "scatter",
         "x": [
          0,
          1.6023371570159357,
          1.6023371570159357,
          0
         ],
         "xaxis": "x",
         "y": [
          -1375,
          -1375,
          -1385,
          -1385
         ],
         "yaxis": "y"
        },
        {
         "hoverinfo": "text",
         "marker": {
          "color": "rgb(0,116,217)"
         },
         "mode": "lines",
         "type": "scatter",
         "x": [
          0,
          2.0633425046642166,
          2.0633425046642166,
          1.6023371570159357
         ],
         "xaxis": "x",
         "y": [
          -1365,
          -1365,
          -1380,
          -1380
         ],
         "yaxis": "y"
        },
        {
         "hoverinfo": "text",
         "marker": {
          "color": "rgb(0,116,217)"
         },
         "mode": "lines",
         "type": "scatter",
         "x": [
          0,
          1.6161664282073123,
          1.6161664282073123,
          0
         ],
         "xaxis": "x",
         "y": [
          -1395,
          -1395,
          -1405,
          -1405
         ],
         "yaxis": "y"
        },
        {
         "hoverinfo": "text",
         "marker": {
          "color": "rgb(0,116,217)"
         },
         "mode": "lines",
         "type": "scatter",
         "x": [
          0,
          1.9647183328944917,
          1.9647183328944917,
          0
         ],
         "xaxis": "x",
         "y": [
          -1415,
          -1415,
          -1425,
          -1425
         ],
         "yaxis": "y"
        },
        {
         "hoverinfo": "text",
         "marker": {
          "color": "rgb(0,116,217)"
         },
         "mode": "lines",
         "type": "scatter",
         "x": [
          1.6161664282073123,
          3.279378517397248,
          3.279378517397248,
          1.9647183328944917
         ],
         "xaxis": "x",
         "y": [
          -1400,
          -1400,
          -1420,
          -1420
         ],
         "yaxis": "y"
        },
        {
         "hoverinfo": "text",
         "marker": {
          "color": "rgb(0,116,217)"
         },
         "mode": "lines",
         "type": "scatter",
         "x": [
          2.0633425046642166,
          4.406474621499638,
          4.406474621499638,
          3.279378517397248
         ],
         "xaxis": "x",
         "y": [
          -1372.5,
          -1372.5,
          -1410,
          -1410
         ],
         "yaxis": "y"
        },
        {
         "hoverinfo": "text",
         "marker": {
          "color": "rgb(0,116,217)"
         },
         "mode": "lines",
         "type": "scatter",
         "x": [
          0,
          1.8538170556143951,
          1.8538170556143951,
          0
         ],
         "xaxis": "x",
         "y": [
          -1445,
          -1445,
          -1455,
          -1455
         ],
         "yaxis": "y"
        },
        {
         "hoverinfo": "text",
         "marker": {
          "color": "rgb(0,116,217)"
         },
         "mode": "lines",
         "type": "scatter",
         "x": [
          0,
          2.2109939669305367,
          2.2109939669305367,
          1.8538170556143951
         ],
         "xaxis": "x",
         "y": [
          -1435,
          -1435,
          -1450,
          -1450
         ],
         "yaxis": "y"
        },
        {
         "hoverinfo": "text",
         "marker": {
          "color": "rgb(0,116,217)"
         },
         "mode": "lines",
         "type": "scatter",
         "x": [
          0,
          1.7482924309021646,
          1.7482924309021646,
          0
         ],
         "xaxis": "x",
         "y": [
          -1465,
          -1465,
          -1475,
          -1475
         ],
         "yaxis": "y"
        },
        {
         "hoverinfo": "text",
         "marker": {
          "color": "rgb(0,116,217)"
         },
         "mode": "lines",
         "type": "scatter",
         "x": [
          0,
          1.8544840210108402,
          1.8544840210108402,
          0
         ],
         "xaxis": "x",
         "y": [
          -1485,
          -1485,
          -1495,
          -1495
         ],
         "yaxis": "y"
        },
        {
         "hoverinfo": "text",
         "marker": {
          "color": "rgb(0,116,217)"
         },
         "mode": "lines",
         "type": "scatter",
         "x": [
          1.7482924309021646,
          2.0574074169421,
          2.0574074169421,
          1.8544840210108402
         ],
         "xaxis": "x",
         "y": [
          -1470,
          -1470,
          -1490,
          -1490
         ],
         "yaxis": "y"
        },
        {
         "hoverinfo": "text",
         "marker": {
          "color": "rgb(0,116,217)"
         },
         "mode": "lines",
         "type": "scatter",
         "x": [
          0,
          1.6642708921540261,
          1.6642708921540261,
          0
         ],
         "xaxis": "x",
         "y": [
          -1505,
          -1505,
          -1515,
          -1515
         ],
         "yaxis": "y"
        },
        {
         "hoverinfo": "text",
         "marker": {
          "color": "rgb(0,116,217)"
         },
         "mode": "lines",
         "type": "scatter",
         "x": [
          0,
          2.0257318335802665,
          2.0257318335802665,
          0
         ],
         "xaxis": "x",
         "y": [
          -1525,
          -1525,
          -1535,
          -1535
         ],
         "yaxis": "y"
        },
        {
         "hoverinfo": "text",
         "marker": {
          "color": "rgb(0,116,217)"
         },
         "mode": "lines",
         "type": "scatter",
         "x": [
          1.6642708921540261,
          2.27618515575489,
          2.27618515575489,
          2.0257318335802665
         ],
         "xaxis": "x",
         "y": [
          -1510,
          -1510,
          -1530,
          -1530
         ],
         "yaxis": "y"
        },
        {
         "hoverinfo": "text",
         "marker": {
          "color": "rgb(0,116,217)"
         },
         "mode": "lines",
         "type": "scatter",
         "x": [
          2.0574074169421,
          2.8454083726657453,
          2.8454083726657453,
          2.27618515575489
         ],
         "xaxis": "x",
         "y": [
          -1480,
          -1480,
          -1520,
          -1520
         ],
         "yaxis": "y"
        },
        {
         "hoverinfo": "text",
         "marker": {
          "color": "rgb(0,116,217)"
         },
         "mode": "lines",
         "type": "scatter",
         "x": [
          2.2109939669305367,
          3.0624339449098845,
          3.0624339449098845,
          2.8454083726657453
         ],
         "xaxis": "x",
         "y": [
          -1442.5,
          -1442.5,
          -1500,
          -1500
         ],
         "yaxis": "y"
        },
        {
         "hoverinfo": "text",
         "marker": {
          "color": "rgb(0,116,217)"
         },
         "mode": "lines",
         "type": "scatter",
         "x": [
          0,
          1.4576073773907197,
          1.4576073773907197,
          0
         ],
         "xaxis": "x",
         "y": [
          -1565,
          -1565,
          -1575,
          -1575
         ],
         "yaxis": "y"
        },
        {
         "hoverinfo": "text",
         "marker": {
          "color": "rgb(0,116,217)"
         },
         "mode": "lines",
         "type": "scatter",
         "x": [
          0,
          1.9567860358496434,
          1.9567860358496434,
          1.4576073773907197
         ],
         "xaxis": "x",
         "y": [
          -1555,
          -1555,
          -1570,
          -1570
         ],
         "yaxis": "y"
        },
        {
         "hoverinfo": "text",
         "marker": {
          "color": "rgb(0,116,217)"
         },
         "mode": "lines",
         "type": "scatter",
         "x": [
          0,
          2.1228801399878545,
          2.1228801399878545,
          1.9567860358496434
         ],
         "xaxis": "x",
         "y": [
          -1545,
          -1545,
          -1562.5,
          -1562.5
         ],
         "yaxis": "y"
        },
        {
         "hoverinfo": "text",
         "marker": {
          "color": "rgb(0,116,217)"
         },
         "mode": "lines",
         "type": "scatter",
         "x": [
          0,
          2.259953249372243,
          2.259953249372243,
          0
         ],
         "xaxis": "x",
         "y": [
          -1585,
          -1585,
          -1595,
          -1595
         ],
         "yaxis": "y"
        },
        {
         "hoverinfo": "text",
         "marker": {
          "color": "rgb(0,116,217)"
         },
         "mode": "lines",
         "type": "scatter",
         "x": [
          2.1228801399878545,
          3.1933157447428546,
          3.1933157447428546,
          2.259953249372243
         ],
         "xaxis": "x",
         "y": [
          -1553.75,
          -1553.75,
          -1590,
          -1590
         ],
         "yaxis": "y"
        },
        {
         "hoverinfo": "text",
         "marker": {
          "color": "rgb(0,116,217)"
         },
         "mode": "lines",
         "type": "scatter",
         "x": [
          3.0624339449098845,
          3.9931952157104718,
          3.9931952157104718,
          3.1933157447428546
         ],
         "xaxis": "x",
         "y": [
          -1471.25,
          -1471.25,
          -1571.875,
          -1571.875
         ],
         "yaxis": "y"
        },
        {
         "hoverinfo": "text",
         "marker": {
          "color": "rgb(0,116,217)"
         },
         "mode": "lines",
         "type": "scatter",
         "x": [
          0,
          1.2557658449583962,
          1.2557658449583962,
          0
         ],
         "xaxis": "x",
         "y": [
          -1625,
          -1625,
          -1635,
          -1635
         ],
         "yaxis": "y"
        },
        {
         "hoverinfo": "text",
         "marker": {
          "color": "rgb(0,116,217)"
         },
         "mode": "lines",
         "type": "scatter",
         "x": [
          0,
          1.4248634819065245,
          1.4248634819065245,
          1.2557658449583962
         ],
         "xaxis": "x",
         "y": [
          -1615,
          -1615,
          -1630,
          -1630
         ],
         "yaxis": "y"
        },
        {
         "hoverinfo": "text",
         "marker": {
          "color": "rgb(0,116,217)"
         },
         "mode": "lines",
         "type": "scatter",
         "x": [
          0,
          1.7258297693629379,
          1.7258297693629379,
          1.4248634819065245
         ],
         "xaxis": "x",
         "y": [
          -1605,
          -1605,
          -1622.5,
          -1622.5
         ],
         "yaxis": "y"
        },
        {
         "hoverinfo": "text",
         "marker": {
          "color": "rgb(0,116,217)"
         },
         "mode": "lines",
         "type": "scatter",
         "x": [
          0,
          1.3821855880081506,
          1.3821855880081506,
          0
         ],
         "xaxis": "x",
         "y": [
          -1665,
          -1665,
          -1675,
          -1675
         ],
         "yaxis": "y"
        },
        {
         "hoverinfo": "text",
         "marker": {
          "color": "rgb(0,116,217)"
         },
         "mode": "lines",
         "type": "scatter",
         "x": [
          0,
          2.209490387290251,
          2.209490387290251,
          1.3821855880081506
         ],
         "xaxis": "x",
         "y": [
          -1655,
          -1655,
          -1670,
          -1670
         ],
         "yaxis": "y"
        },
        {
         "hoverinfo": "text",
         "marker": {
          "color": "rgb(0,116,217)"
         },
         "mode": "lines",
         "type": "scatter",
         "x": [
          0,
          2.4088638948724523,
          2.4088638948724523,
          2.209490387290251
         ],
         "xaxis": "x",
         "y": [
          -1645,
          -1645,
          -1662.5,
          -1662.5
         ],
         "yaxis": "y"
        },
        {
         "hoverinfo": "text",
         "marker": {
          "color": "rgb(0,116,217)"
         },
         "mode": "lines",
         "type": "scatter",
         "x": [
          1.7258297693629379,
          3.2034508394525862,
          3.2034508394525862,
          2.4088638948724523
         ],
         "xaxis": "x",
         "y": [
          -1613.75,
          -1613.75,
          -1653.75,
          -1653.75
         ],
         "yaxis": "y"
        },
        {
         "hoverinfo": "text",
         "marker": {
          "color": "rgb(0,116,217)"
         },
         "mode": "lines",
         "type": "scatter",
         "x": [
          0,
          1.276105163246228,
          1.276105163246228,
          0
         ],
         "xaxis": "x",
         "y": [
          -1695,
          -1695,
          -1705,
          -1705
         ],
         "yaxis": "y"
        },
        {
         "hoverinfo": "text",
         "marker": {
          "color": "rgb(0,116,217)"
         },
         "mode": "lines",
         "type": "scatter",
         "x": [
          0,
          1.6687701238402883,
          1.6687701238402883,
          1.276105163246228
         ],
         "xaxis": "x",
         "y": [
          -1685,
          -1685,
          -1700,
          -1700
         ],
         "yaxis": "y"
        },
        {
         "hoverinfo": "text",
         "marker": {
          "color": "rgb(0,116,217)"
         },
         "mode": "lines",
         "type": "scatter",
         "x": [
          0,
          1.4505832601938582,
          1.4505832601938582,
          0
         ],
         "xaxis": "x",
         "y": [
          -1715,
          -1715,
          -1725,
          -1725
         ],
         "yaxis": "y"
        },
        {
         "hoverinfo": "text",
         "marker": {
          "color": "rgb(0,116,217)"
         },
         "mode": "lines",
         "type": "scatter",
         "x": [
          0,
          1.3602351171055258,
          1.3602351171055258,
          0
         ],
         "xaxis": "x",
         "y": [
          -1745,
          -1745,
          -1755,
          -1755
         ],
         "yaxis": "y"
        },
        {
         "hoverinfo": "text",
         "marker": {
          "color": "rgb(0,116,217)"
         },
         "mode": "lines",
         "type": "scatter",
         "x": [
          0,
          2.095169815993727,
          2.095169815993727,
          1.3602351171055258
         ],
         "xaxis": "x",
         "y": [
          -1735,
          -1735,
          -1750,
          -1750
         ],
         "yaxis": "y"
        },
        {
         "hoverinfo": "text",
         "marker": {
          "color": "rgb(0,116,217)"
         },
         "mode": "lines",
         "type": "scatter",
         "x": [
          1.4505832601938582,
          2.6560540230314365,
          2.6560540230314365,
          2.095169815993727
         ],
         "xaxis": "x",
         "y": [
          -1720,
          -1720,
          -1742.5,
          -1742.5
         ],
         "yaxis": "y"
        },
        {
         "hoverinfo": "text",
         "marker": {
          "color": "rgb(0,116,217)"
         },
         "mode": "lines",
         "type": "scatter",
         "x": [
          1.6687701238402883,
          3.520840594496657,
          3.520840594496657,
          2.6560540230314365
         ],
         "xaxis": "x",
         "y": [
          -1692.5,
          -1692.5,
          -1731.25,
          -1731.25
         ],
         "yaxis": "y"
        },
        {
         "hoverinfo": "text",
         "marker": {
          "color": "rgb(0,116,217)"
         },
         "mode": "lines",
         "type": "scatter",
         "x": [
          3.2034508394525862,
          4.381297603725211,
          4.381297603725211,
          3.520840594496657
         ],
         "xaxis": "x",
         "y": [
          -1633.75,
          -1633.75,
          -1711.875,
          -1711.875
         ],
         "yaxis": "y"
        },
        {
         "hoverinfo": "text",
         "marker": {
          "color": "rgb(0,116,217)"
         },
         "mode": "lines",
         "type": "scatter",
         "x": [
          3.9931952157104718,
          5.057729085661105,
          5.057729085661105,
          4.381297603725211
         ],
         "xaxis": "x",
         "y": [
          -1521.5625,
          -1521.5625,
          -1672.8125,
          -1672.8125
         ],
         "yaxis": "y"
        },
        {
         "hoverinfo": "text",
         "marker": {
          "color": "rgb(0,116,217)"
         },
         "mode": "lines",
         "type": "scatter",
         "x": [
          4.406474621499638,
          5.295670289713078,
          5.295670289713078,
          5.057729085661105
         ],
         "xaxis": "x",
         "y": [
          -1391.25,
          -1391.25,
          -1597.1875,
          -1597.1875
         ],
         "yaxis": "y"
        },
        {
         "hoverinfo": "text",
         "marker": {
          "color": "rgb(0,116,217)"
         },
         "mode": "lines",
         "type": "scatter",
         "x": [
          3.8994088117660035,
          8.29245412199855,
          8.29245412199855,
          5.295670289713078
         ],
         "xaxis": "x",
         "y": [
          -1336.25,
          -1336.25,
          -1494.21875,
          -1494.21875
         ],
         "yaxis": "y"
        },
        {
         "hoverinfo": "text",
         "marker": {
          "color": "rgb(0,116,217)"
         },
         "mode": "lines",
         "type": "scatter",
         "x": [
          5.810603331556095,
          9.942333360899914,
          9.942333360899914,
          8.29245412199855
         ],
         "xaxis": "x",
         "y": [
          -1046.34765625,
          -1046.34765625,
          -1415.234375,
          -1415.234375
         ],
         "yaxis": "y"
        },
        {
         "hoverinfo": "text",
         "marker": {
          "color": "rgb(0,116,217)"
         },
         "mode": "lines",
         "type": "scatter",
         "x": [
          0,
          1.3037594036789277,
          1.3037594036789277,
          0
         ],
         "xaxis": "x",
         "y": [
          -1775,
          -1775,
          -1785,
          -1785
         ],
         "yaxis": "y"
        },
        {
         "hoverinfo": "text",
         "marker": {
          "color": "rgb(0,116,217)"
         },
         "mode": "lines",
         "type": "scatter",
         "x": [
          0,
          1.5539707485277798,
          1.5539707485277798,
          1.3037594036789277
         ],
         "xaxis": "x",
         "y": [
          -1765,
          -1765,
          -1780,
          -1780
         ],
         "yaxis": "y"
        },
        {
         "hoverinfo": "text",
         "marker": {
          "color": "rgb(0,116,217)"
         },
         "mode": "lines",
         "type": "scatter",
         "x": [
          0,
          1.07564788270559,
          1.07564788270559,
          0
         ],
         "xaxis": "x",
         "y": [
          -1815,
          -1815,
          -1825,
          -1825
         ],
         "yaxis": "y"
        },
        {
         "hoverinfo": "text",
         "marker": {
          "color": "rgb(0,116,217)"
         },
         "mode": "lines",
         "type": "scatter",
         "x": [
          0,
          1.2780429423196251,
          1.2780429423196251,
          1.07564788270559
         ],
         "xaxis": "x",
         "y": [
          -1805,
          -1805,
          -1820,
          -1820
         ],
         "yaxis": "y"
        },
        {
         "hoverinfo": "text",
         "marker": {
          "color": "rgb(0,116,217)"
         },
         "mode": "lines",
         "type": "scatter",
         "x": [
          0,
          1.5943699122554356,
          1.5943699122554356,
          1.2780429423196251
         ],
         "xaxis": "x",
         "y": [
          -1795,
          -1795,
          -1812.5,
          -1812.5
         ],
         "yaxis": "y"
        },
        {
         "hoverinfo": "text",
         "marker": {
          "color": "rgb(0,116,217)"
         },
         "mode": "lines",
         "type": "scatter",
         "x": [
          1.5539707485277798,
          2.7323677679032103,
          2.7323677679032103,
          1.5943699122554356
         ],
         "xaxis": "x",
         "y": [
          -1772.5,
          -1772.5,
          -1803.75,
          -1803.75
         ],
         "yaxis": "y"
        },
        {
         "hoverinfo": "text",
         "marker": {
          "color": "rgb(0,116,217)"
         },
         "mode": "lines",
         "type": "scatter",
         "x": [
          0,
          1.3180608925287645,
          1.3180608925287645,
          0
         ],
         "xaxis": "x",
         "y": [
          -1835,
          -1835,
          -1845,
          -1845
         ],
         "yaxis": "y"
        },
        {
         "hoverinfo": "text",
         "marker": {
          "color": "rgb(0,116,217)"
         },
         "mode": "lines",
         "type": "scatter",
         "x": [
          0,
          1.754097178567103,
          1.754097178567103,
          0
         ],
         "xaxis": "x",
         "y": [
          -1855,
          -1855,
          -1865,
          -1865
         ],
         "yaxis": "y"
        },
        {
         "hoverinfo": "text",
         "marker": {
          "color": "rgb(0,116,217)"
         },
         "mode": "lines",
         "type": "scatter",
         "x": [
          1.3180608925287645,
          2.242950872411852,
          2.242950872411852,
          1.754097178567103
         ],
         "xaxis": "x",
         "y": [
          -1840,
          -1840,
          -1860,
          -1860
         ],
         "yaxis": "y"
        },
        {
         "hoverinfo": "text",
         "marker": {
          "color": "rgb(0,116,217)"
         },
         "mode": "lines",
         "type": "scatter",
         "x": [
          0,
          1.3511185850873808,
          1.3511185850873808,
          0
         ],
         "xaxis": "x",
         "y": [
          -1875,
          -1875,
          -1885,
          -1885
         ],
         "yaxis": "y"
        },
        {
         "hoverinfo": "text",
         "marker": {
          "color": "rgb(0,116,217)"
         },
         "mode": "lines",
         "type": "scatter",
         "x": [
          0,
          1.5953776464253433,
          1.5953776464253433,
          0
         ],
         "xaxis": "x",
         "y": [
          -1895,
          -1895,
          -1905,
          -1905
         ],
         "yaxis": "y"
        },
        {
         "hoverinfo": "text",
         "marker": {
          "color": "rgb(0,116,217)"
         },
         "mode": "lines",
         "type": "scatter",
         "x": [
          0,
          1.1467675108821977,
          1.1467675108821977,
          0
         ],
         "xaxis": "x",
         "y": [
          -1925,
          -1925,
          -1935,
          -1935
         ],
         "yaxis": "y"
        },
        {
         "hoverinfo": "text",
         "marker": {
          "color": "rgb(0,116,217)"
         },
         "mode": "lines",
         "type": "scatter",
         "x": [
          0,
          1.627003218994314,
          1.627003218994314,
          1.1467675108821977
         ],
         "xaxis": "x",
         "y": [
          -1915,
          -1915,
          -1930,
          -1930
         ],
         "yaxis": "y"
        },
        {
         "hoverinfo": "text",
         "marker": {
          "color": "rgb(0,116,217)"
         },
         "mode": "lines",
         "type": "scatter",
         "x": [
          1.5953776464253433,
          2.3626751942490776,
          2.3626751942490776,
          1.627003218994314
         ],
         "xaxis": "x",
         "y": [
          -1900,
          -1900,
          -1922.5,
          -1922.5
         ],
         "yaxis": "y"
        },
        {
         "hoverinfo": "text",
         "marker": {
          "color": "rgb(0,116,217)"
         },
         "mode": "lines",
         "type": "scatter",
         "x": [
          1.3511185850873808,
          2.635489894102187,
          2.635489894102187,
          2.3626751942490776
         ],
         "xaxis": "x",
         "y": [
          -1880,
          -1880,
          -1911.25,
          -1911.25
         ],
         "yaxis": "y"
        },
        {
         "hoverinfo": "text",
         "marker": {
          "color": "rgb(0,116,217)"
         },
         "mode": "lines",
         "type": "scatter",
         "x": [
          2.242950872411852,
          2.963644499789439,
          2.963644499789439,
          2.635489894102187
         ],
         "xaxis": "x",
         "y": [
          -1850,
          -1850,
          -1895.625,
          -1895.625
         ],
         "yaxis": "y"
        },
        {
         "hoverinfo": "text",
         "marker": {
          "color": "rgb(0,116,217)"
         },
         "mode": "lines",
         "type": "scatter",
         "x": [
          2.7323677679032103,
          3.8520081133029493,
          3.8520081133029493,
          2.963644499789439
         ],
         "xaxis": "x",
         "y": [
          -1788.125,
          -1788.125,
          -1872.8125,
          -1872.8125
         ],
         "yaxis": "y"
        },
        {
         "hoverinfo": "text",
         "marker": {
          "color": "rgb(0,116,217)"
         },
         "mode": "lines",
         "type": "scatter",
         "x": [
          0,
          1.2437787504465196,
          1.2437787504465196,
          0
         ],
         "xaxis": "x",
         "y": [
          -1955,
          -1955,
          -1965,
          -1965
         ],
         "yaxis": "y"
        },
        {
         "hoverinfo": "text",
         "marker": {
          "color": "rgb(0,116,217)"
         },
         "mode": "lines",
         "type": "scatter",
         "x": [
          0,
          1.4103729995898047,
          1.4103729995898047,
          1.2437787504465196
         ],
         "xaxis": "x",
         "y": [
          -1945,
          -1945,
          -1960,
          -1960
         ],
         "yaxis": "y"
        },
        {
         "hoverinfo": "text",
         "marker": {
          "color": "rgb(35,205,205)"
         },
         "mode": "lines",
         "type": "scatter",
         "x": [
          0,
          0.9431194146965437,
          0.9431194146965437,
          0
         ],
         "xaxis": "x",
         "y": [
          -1975,
          -1975,
          -1985,
          -1985
         ],
         "yaxis": "y"
        },
        {
         "hoverinfo": "text",
         "marker": {
          "color": "rgb(0,116,217)"
         },
         "mode": "lines",
         "type": "scatter",
         "x": [
          0,
          1.4775609769134082,
          1.4775609769134082,
          0
         ],
         "xaxis": "x",
         "y": [
          -1995,
          -1995,
          -2005,
          -2005
         ],
         "yaxis": "y"
        },
        {
         "hoverinfo": "text",
         "marker": {
          "color": "rgb(0,116,217)"
         },
         "mode": "lines",
         "type": "scatter",
         "x": [
          0.9431194146965437,
          1.7247605909833847,
          1.7247605909833847,
          1.4775609769134082
         ],
         "xaxis": "x",
         "y": [
          -1980,
          -1980,
          -2000,
          -2000
         ],
         "yaxis": "y"
        },
        {
         "hoverinfo": "text",
         "marker": {
          "color": "rgb(0,116,217)"
         },
         "mode": "lines",
         "type": "scatter",
         "x": [
          0,
          1.5924959348741594,
          1.5924959348741594,
          0
         ],
         "xaxis": "x",
         "y": [
          -2015,
          -2015,
          -2025,
          -2025
         ],
         "yaxis": "y"
        },
        {
         "hoverinfo": "text",
         "marker": {
          "color": "rgb(0,116,217)"
         },
         "mode": "lines",
         "type": "scatter",
         "x": [
          0,
          1.7339619791470164,
          1.7339619791470164,
          0
         ],
         "xaxis": "x",
         "y": [
          -2045,
          -2045,
          -2055,
          -2055
         ],
         "yaxis": "y"
        },
        {
         "hoverinfo": "text",
         "marker": {
          "color": "rgb(0,116,217)"
         },
         "mode": "lines",
         "type": "scatter",
         "x": [
          0,
          2.102313596743524,
          2.102313596743524,
          1.7339619791470164
         ],
         "xaxis": "x",
         "y": [
          -2035,
          -2035,
          -2050,
          -2050
         ],
         "yaxis": "y"
        },
        {
         "hoverinfo": "text",
         "marker": {
          "color": "rgb(0,116,217)"
         },
         "mode": "lines",
         "type": "scatter",
         "x": [
          1.5924959348741594,
          2.641299374465485,
          2.641299374465485,
          2.102313596743524
         ],
         "xaxis": "x",
         "y": [
          -2020,
          -2020,
          -2042.5,
          -2042.5
         ],
         "yaxis": "y"
        },
        {
         "hoverinfo": "text",
         "marker": {
          "color": "rgb(0,116,217)"
         },
         "mode": "lines",
         "type": "scatter",
         "x": [
          1.7247605909833847,
          3.1490927545956637,
          3.1490927545956637,
          2.641299374465485
         ],
         "xaxis": "x",
         "y": [
          -1990,
          -1990,
          -2031.25,
          -2031.25
         ],
         "yaxis": "y"
        },
        {
         "hoverinfo": "text",
         "marker": {
          "color": "rgb(0,116,217)"
         },
         "mode": "lines",
         "type": "scatter",
         "x": [
          1.4103729995898047,
          3.9368332818938434,
          3.9368332818938434,
          3.1490927545956637
         ],
         "xaxis": "x",
         "y": [
          -1952.5,
          -1952.5,
          -2010.625,
          -2010.625
         ],
         "yaxis": "y"
        },
        {
         "hoverinfo": "text",
         "marker": {
          "color": "rgb(0,116,217)"
         },
         "mode": "lines",
         "type": "scatter",
         "x": [
          3.8520081133029493,
          5.045055550192717,
          5.045055550192717,
          3.9368332818938434
         ],
         "xaxis": "x",
         "y": [
          -1830.46875,
          -1830.46875,
          -1981.5625,
          -1981.5625
         ],
         "yaxis": "y"
        },
        {
         "hoverinfo": "text",
         "marker": {
          "color": "rgb(0,116,217)"
         },
         "mode": "lines",
         "type": "scatter",
         "x": [
          0,
          1.4110992789052734,
          1.4110992789052734,
          0
         ],
         "xaxis": "x",
         "y": [
          -2065,
          -2065,
          -2075,
          -2075
         ],
         "yaxis": "y"
        },
        {
         "hoverinfo": "text",
         "marker": {
          "color": "rgb(61,153,112)"
         },
         "mode": "lines",
         "type": "scatter",
         "x": [
          0,
          0.8570019803970255,
          0.8570019803970255,
          0
         ],
         "xaxis": "x",
         "y": [
          -2085,
          -2085,
          -2095,
          -2095
         ],
         "yaxis": "y"
        },
        {
         "hoverinfo": "text",
         "marker": {
          "color": "rgb(0,116,217)"
         },
         "mode": "lines",
         "type": "scatter",
         "x": [
          0,
          1.0920692225657298,
          1.0920692225657298,
          0
         ],
         "xaxis": "x",
         "y": [
          -2105,
          -2105,
          -2115,
          -2115
         ],
         "yaxis": "y"
        },
        {
         "hoverinfo": "text",
         "marker": {
          "color": "rgb(0,116,217)"
         },
         "mode": "lines",
         "type": "scatter",
         "x": [
          0.8570019803970255,
          1.7266888149030102,
          1.7266888149030102,
          1.0920692225657298
         ],
         "xaxis": "x",
         "y": [
          -2090,
          -2090,
          -2110,
          -2110
         ],
         "yaxis": "y"
        },
        {
         "hoverinfo": "text",
         "marker": {
          "color": "rgb(0,116,217)"
         },
         "mode": "lines",
         "type": "scatter",
         "x": [
          1.4110992789052734,
          2.235021523830914,
          2.235021523830914,
          1.7266888149030102
         ],
         "xaxis": "x",
         "y": [
          -2070,
          -2070,
          -2100,
          -2100
         ],
         "yaxis": "y"
        },
        {
         "hoverinfo": "text",
         "marker": {
          "color": "rgb(255,65,54)"
         },
         "mode": "lines",
         "type": "scatter",
         "x": [
          0,
          0.9696789890239237,
          0.9696789890239237,
          0
         ],
         "xaxis": "x",
         "y": [
          -2135,
          -2135,
          -2145,
          -2145
         ],
         "yaxis": "y"
        },
        {
         "hoverinfo": "text",
         "marker": {
          "color": "rgb(0,116,217)"
         },
         "mode": "lines",
         "type": "scatter",
         "x": [
          0,
          1.6046227251331877,
          1.6046227251331877,
          0.9696789890239237
         ],
         "xaxis": "x",
         "y": [
          -2125,
          -2125,
          -2140,
          -2140
         ],
         "yaxis": "y"
        },
        {
         "hoverinfo": "text",
         "marker": {
          "color": "rgb(0,116,217)"
         },
         "mode": "lines",
         "type": "scatter",
         "x": [
          0,
          1.571010642945351,
          1.571010642945351,
          0
         ],
         "xaxis": "x",
         "y": [
          -2165,
          -2165,
          -2175,
          -2175
         ],
         "yaxis": "y"
        },
        {
         "hoverinfo": "text",
         "marker": {
          "color": "rgb(0,116,217)"
         },
         "mode": "lines",
         "type": "scatter",
         "x": [
          0,
          1.8040935538730416,
          1.8040935538730416,
          1.571010642945351
         ],
         "xaxis": "x",
         "y": [
          -2155,
          -2155,
          -2170,
          -2170
         ],
         "yaxis": "y"
        },
        {
         "hoverinfo": "text",
         "marker": {
          "color": "rgb(0,116,217)"
         },
         "mode": "lines",
         "type": "scatter",
         "x": [
          0,
          1.857021661491981,
          1.857021661491981,
          0
         ],
         "xaxis": "x",
         "y": [
          -2185,
          -2185,
          -2195,
          -2195
         ],
         "yaxis": "y"
        },
        {
         "hoverinfo": "text",
         "marker": {
          "color": "rgb(0,116,217)"
         },
         "mode": "lines",
         "type": "scatter",
         "x": [
          1.8040935538730416,
          2.1970935602272865,
          2.1970935602272865,
          1.857021661491981
         ],
         "xaxis": "x",
         "y": [
          -2162.5,
          -2162.5,
          -2190,
          -2190
         ],
         "yaxis": "y"
        },
        {
         "hoverinfo": "text",
         "marker": {
          "color": "rgb(0,116,217)"
         },
         "mode": "lines",
         "type": "scatter",
         "x": [
          1.6046227251331877,
          3.130499645946454,
          3.130499645946454,
          2.1970935602272865
         ],
         "xaxis": "x",
         "y": [
          -2132.5,
          -2132.5,
          -2176.25,
          -2176.25
         ],
         "yaxis": "y"
        },
        {
         "hoverinfo": "text",
         "marker": {
          "color": "rgb(0,116,217)"
         },
         "mode": "lines",
         "type": "scatter",
         "x": [
          2.235021523830914,
          3.583996889751635,
          3.583996889751635,
          3.130499645946454
         ],
         "xaxis": "x",
         "y": [
          -2085,
          -2085,
          -2154.375,
          -2154.375
         ],
         "yaxis": "y"
        },
        {
         "hoverinfo": "text",
         "marker": {
          "color": "rgb(0,116,217)"
         },
         "mode": "lines",
         "type": "scatter",
         "x": [
          0,
          1.7030093097399277,
          1.7030093097399277,
          0
         ],
         "xaxis": "x",
         "y": [
          -2225,
          -2225,
          -2235,
          -2235
         ],
         "yaxis": "y"
        },
        {
         "hoverinfo": "text",
         "marker": {
          "color": "rgb(0,116,217)"
         },
         "mode": "lines",
         "type": "scatter",
         "x": [
          0,
          1.8134351046352912,
          1.8134351046352912,
          1.7030093097399277
         ],
         "xaxis": "x",
         "y": [
          -2215,
          -2215,
          -2230,
          -2230
         ],
         "yaxis": "y"
        },
        {
         "hoverinfo": "text",
         "marker": {
          "color": "rgb(0,116,217)"
         },
         "mode": "lines",
         "type": "scatter",
         "x": [
          0,
          1.98251672202227,
          1.98251672202227,
          1.8134351046352912
         ],
         "xaxis": "x",
         "y": [
          -2205,
          -2205,
          -2222.5,
          -2222.5
         ],
         "yaxis": "y"
        },
        {
         "hoverinfo": "text",
         "marker": {
          "color": "rgb(0,116,217)"
         },
         "mode": "lines",
         "type": "scatter",
         "x": [
          0,
          2.057558657117355,
          2.057558657117355,
          0
         ],
         "xaxis": "x",
         "y": [
          -2245,
          -2245,
          -2255,
          -2255
         ],
         "yaxis": "y"
        },
        {
         "hoverinfo": "text",
         "marker": {
          "color": "rgb(0,116,217)"
         },
         "mode": "lines",
         "type": "scatter",
         "x": [
          0,
          1.7076579422716924,
          1.7076579422716924,
          0
         ],
         "xaxis": "x",
         "y": [
          -2265,
          -2265,
          -2275,
          -2275
         ],
         "yaxis": "y"
        },
        {
         "hoverinfo": "text",
         "marker": {
          "color": "rgb(0,116,217)"
         },
         "mode": "lines",
         "type": "scatter",
         "x": [
          0,
          1.7039571949528756,
          1.7039571949528756,
          0
         ],
         "xaxis": "x",
         "y": [
          -2295,
          -2295,
          -2305,
          -2305
         ],
         "yaxis": "y"
        },
        {
         "hoverinfo": "text",
         "marker": {
          "color": "rgb(0,116,217)"
         },
         "mode": "lines",
         "type": "scatter",
         "x": [
          0,
          1.7800417386939194,
          1.7800417386939194,
          1.7039571949528756
         ],
         "xaxis": "x",
         "y": [
          -2285,
          -2285,
          -2300,
          -2300
         ],
         "yaxis": "y"
        },
        {
         "hoverinfo": "text",
         "marker": {
          "color": "rgb(0,116,217)"
         },
         "mode": "lines",
         "type": "scatter",
         "x": [
          1.7076579422716924,
          2.067934527909457,
          2.067934527909457,
          1.7800417386939194
         ],
         "xaxis": "x",
         "y": [
          -2270,
          -2270,
          -2292.5,
          -2292.5
         ],
         "yaxis": "y"
        },
        {
         "hoverinfo": "text",
         "marker": {
          "color": "rgb(0,116,217)"
         },
         "mode": "lines",
         "type": "scatter",
         "x": [
          2.057558657117355,
          2.450127356212719,
          2.450127356212719,
          2.067934527909457
         ],
         "xaxis": "x",
         "y": [
          -2250,
          -2250,
          -2281.25,
          -2281.25
         ],
         "yaxis": "y"
        },
        {
         "hoverinfo": "text",
         "marker": {
          "color": "rgb(0,116,217)"
         },
         "mode": "lines",
         "type": "scatter",
         "x": [
          1.98251672202227,
          2.719801089208492,
          2.719801089208492,
          2.450127356212719
         ],
         "xaxis": "x",
         "y": [
          -2213.75,
          -2213.75,
          -2265.625,
          -2265.625
         ],
         "yaxis": "y"
        },
        {
         "hoverinfo": "text",
         "marker": {
          "color": "rgb(0,116,217)"
         },
         "mode": "lines",
         "type": "scatter",
         "x": [
          0,
          1.9052069571630683,
          1.9052069571630683,
          0
         ],
         "xaxis": "x",
         "y": [
          -2325,
          -2325,
          -2335,
          -2335
         ],
         "yaxis": "y"
        },
        {
         "hoverinfo": "text",
         "marker": {
          "color": "rgb(0,116,217)"
         },
         "mode": "lines",
         "type": "scatter",
         "x": [
          0,
          1.9167344856071789,
          1.9167344856071789,
          1.9052069571630683
         ],
         "xaxis": "x",
         "y": [
          -2315,
          -2315,
          -2330,
          -2330
         ],
         "yaxis": "y"
        },
        {
         "hoverinfo": "text",
         "marker": {
          "color": "rgb(0,116,217)"
         },
         "mode": "lines",
         "type": "scatter",
         "x": [
          0,
          1.4708053472210139,
          1.4708053472210139,
          0
         ],
         "xaxis": "x",
         "y": [
          -2365,
          -2365,
          -2375,
          -2375
         ],
         "yaxis": "y"
        },
        {
         "hoverinfo": "text",
         "marker": {
          "color": "rgb(0,116,217)"
         },
         "mode": "lines",
         "type": "scatter",
         "x": [
          0,
          1.7360453538888987,
          1.7360453538888987,
          1.4708053472210139
         ],
         "xaxis": "x",
         "y": [
          -2355,
          -2355,
          -2370,
          -2370
         ],
         "yaxis": "y"
        },
        {
         "hoverinfo": "text",
         "marker": {
          "color": "rgb(0,116,217)"
         },
         "mode": "lines",
         "type": "scatter",
         "x": [
          0,
          2.0597797638640105,
          2.0597797638640105,
          1.7360453538888987
         ],
         "xaxis": "x",
         "y": [
          -2345,
          -2345,
          -2362.5,
          -2362.5
         ],
         "yaxis": "y"
        },
        {
         "hoverinfo": "text",
         "marker": {
          "color": "rgb(0,116,217)"
         },
         "mode": "lines",
         "type": "scatter",
         "x": [
          1.9167344856071789,
          2.740059193481467,
          2.740059193481467,
          2.0597797638640105
         ],
         "xaxis": "x",
         "y": [
          -2322.5,
          -2322.5,
          -2353.75,
          -2353.75
         ],
         "yaxis": "y"
        },
        {
         "hoverinfo": "text",
         "marker": {
          "color": "rgb(0,116,217)"
         },
         "mode": "lines",
         "type": "scatter",
         "x": [
          2.719801089208492,
          3.8366266191918235,
          3.8366266191918235,
          2.740059193481467
         ],
         "xaxis": "x",
         "y": [
          -2239.6875,
          -2239.6875,
          -2338.125,
          -2338.125
         ],
         "yaxis": "y"
        },
        {
         "hoverinfo": "text",
         "marker": {
          "color": "rgb(0,116,217)"
         },
         "mode": "lines",
         "type": "scatter",
         "x": [
          3.583996889751635,
          4.113910545878341,
          4.113910545878341,
          3.8366266191918235
         ],
         "xaxis": "x",
         "y": [
          -2119.6875,
          -2119.6875,
          -2288.90625,
          -2288.90625
         ],
         "yaxis": "y"
        },
        {
         "hoverinfo": "text",
         "marker": {
          "color": "rgb(0,116,217)"
         },
         "mode": "lines",
         "type": "scatter",
         "x": [
          0,
          1.286988527728794,
          1.286988527728794,
          0
         ],
         "xaxis": "x",
         "y": [
          -2385,
          -2385,
          -2395,
          -2395
         ],
         "yaxis": "y"
        },
        {
         "hoverinfo": "text",
         "marker": {
          "color": "rgb(0,116,217)"
         },
         "mode": "lines",
         "type": "scatter",
         "x": [
          0,
          1.6008987624543665,
          1.6008987624543665,
          0
         ],
         "xaxis": "x",
         "y": [
          -2405,
          -2405,
          -2415,
          -2415
         ],
         "yaxis": "y"
        },
        {
         "hoverinfo": "text",
         "marker": {
          "color": "rgb(0,116,217)"
         },
         "mode": "lines",
         "type": "scatter",
         "x": [
          1.286988527728794,
          2.1807416417980567,
          2.1807416417980567,
          1.6008987624543665
         ],
         "xaxis": "x",
         "y": [
          -2390,
          -2390,
          -2410,
          -2410
         ],
         "yaxis": "y"
        },
        {
         "hoverinfo": "text",
         "marker": {
          "color": "rgb(0,116,217)"
         },
         "mode": "lines",
         "type": "scatter",
         "x": [
          0,
          1.4434518898001614,
          1.4434518898001614,
          0
         ],
         "xaxis": "x",
         "y": [
          -2425,
          -2425,
          -2435,
          -2435
         ],
         "yaxis": "y"
        },
        {
         "hoverinfo": "text",
         "marker": {
          "color": "rgb(0,116,217)"
         },
         "mode": "lines",
         "type": "scatter",
         "x": [
          0,
          1.7347442072418133,
          1.7347442072418133,
          0
         ],
         "xaxis": "x",
         "y": [
          -2445,
          -2445,
          -2455,
          -2455
         ],
         "yaxis": "y"
        },
        {
         "hoverinfo": "text",
         "marker": {
          "color": "rgb(0,116,217)"
         },
         "mode": "lines",
         "type": "scatter",
         "x": [
          1.4434518898001614,
          2.7088725485756138,
          2.7088725485756138,
          1.7347442072418133
         ],
         "xaxis": "x",
         "y": [
          -2430,
          -2430,
          -2450,
          -2450
         ],
         "yaxis": "y"
        },
        {
         "hoverinfo": "text",
         "marker": {
          "color": "rgb(0,116,217)"
         },
         "mode": "lines",
         "type": "scatter",
         "x": [
          2.1807416417980567,
          3.1935961128451673,
          3.1935961128451673,
          2.7088725485756138
         ],
         "xaxis": "x",
         "y": [
          -2400,
          -2400,
          -2440,
          -2440
         ],
         "yaxis": "y"
        },
        {
         "hoverinfo": "text",
         "marker": {
          "color": "rgb(0,116,217)"
         },
         "mode": "lines",
         "type": "scatter",
         "x": [
          0,
          1.2935795511229702,
          1.2935795511229702,
          0
         ],
         "xaxis": "x",
         "y": [
          -2485,
          -2485,
          -2495,
          -2495
         ],
         "yaxis": "y"
        },
        {
         "hoverinfo": "text",
         "marker": {
          "color": "rgb(0,116,217)"
         },
         "mode": "lines",
         "type": "scatter",
         "x": [
          0,
          1.6053907085221564,
          1.6053907085221564,
          1.2935795511229702
         ],
         "xaxis": "x",
         "y": [
          -2475,
          -2475,
          -2490,
          -2490
         ],
         "yaxis": "y"
        },
        {
         "hoverinfo": "text",
         "marker": {
          "color": "rgb(0,116,217)"
         },
         "mode": "lines",
         "type": "scatter",
         "x": [
          0,
          2.0118073309278013,
          2.0118073309278013,
          1.6053907085221564
         ],
         "xaxis": "x",
         "y": [
          -2465,
          -2465,
          -2482.5,
          -2482.5
         ],
         "yaxis": "y"
        },
        {
         "hoverinfo": "text",
         "marker": {
          "color": "rgb(0,116,217)"
         },
         "mode": "lines",
         "type": "scatter",
         "x": [
          0,
          1.0825350620132488,
          1.0825350620132488,
          0
         ],
         "xaxis": "x",
         "y": [
          -2505,
          -2505,
          -2515,
          -2515
         ],
         "yaxis": "y"
        },
        {
         "hoverinfo": "text",
         "marker": {
          "color": "rgb(0,116,217)"
         },
         "mode": "lines",
         "type": "scatter",
         "x": [
          0,
          1.7747121557706116,
          1.7747121557706116,
          0
         ],
         "xaxis": "x",
         "y": [
          -2535,
          -2535,
          -2545,
          -2545
         ],
         "yaxis": "y"
        },
        {
         "hoverinfo": "text",
         "marker": {
          "color": "rgb(0,116,217)"
         },
         "mode": "lines",
         "type": "scatter",
         "x": [
          0,
          2.2294176201261635,
          2.2294176201261635,
          1.7747121557706116
         ],
         "xaxis": "x",
         "y": [
          -2525,
          -2525,
          -2540,
          -2540
         ],
         "yaxis": "y"
        },
        {
         "hoverinfo": "text",
         "marker": {
          "color": "rgb(0,116,217)"
         },
         "mode": "lines",
         "type": "scatter",
         "x": [
          1.0825350620132488,
          2.846792581780588,
          2.846792581780588,
          2.2294176201261635
         ],
         "xaxis": "x",
         "y": [
          -2510,
          -2510,
          -2532.5,
          -2532.5
         ],
         "yaxis": "y"
        },
        {
         "hoverinfo": "text",
         "marker": {
          "color": "rgb(0,116,217)"
         },
         "mode": "lines",
         "type": "scatter",
         "x": [
          2.0118073309278013,
          3.3671813095105967,
          3.3671813095105967,
          2.846792581780588
         ],
         "xaxis": "x",
         "y": [
          -2473.75,
          -2473.75,
          -2521.25,
          -2521.25
         ],
         "yaxis": "y"
        },
        {
         "hoverinfo": "text",
         "marker": {
          "color": "rgb(0,116,217)"
         },
         "mode": "lines",
         "type": "scatter",
         "x": [
          0,
          1.753596019496187,
          1.753596019496187,
          0
         ],
         "xaxis": "x",
         "y": [
          -2585,
          -2585,
          -2595,
          -2595
         ],
         "yaxis": "y"
        },
        {
         "hoverinfo": "text",
         "marker": {
          "color": "rgb(0,116,217)"
         },
         "mode": "lines",
         "type": "scatter",
         "x": [
          0,
          1.8205539775006245,
          1.8205539775006245,
          0
         ],
         "xaxis": "x",
         "y": [
          -2605,
          -2605,
          -2615,
          -2615
         ],
         "yaxis": "y"
        },
        {
         "hoverinfo": "text",
         "marker": {
          "color": "rgb(0,116,217)"
         },
         "mode": "lines",
         "type": "scatter",
         "x": [
          1.753596019496187,
          1.93987903720444,
          1.93987903720444,
          1.8205539775006245
         ],
         "xaxis": "x",
         "y": [
          -2590,
          -2590,
          -2610,
          -2610
         ],
         "yaxis": "y"
        },
        {
         "hoverinfo": "text",
         "marker": {
          "color": "rgb(0,116,217)"
         },
         "mode": "lines",
         "type": "scatter",
         "x": [
          0,
          2.0859149411342317,
          2.0859149411342317,
          1.93987903720444
         ],
         "xaxis": "x",
         "y": [
          -2575,
          -2575,
          -2600,
          -2600
         ],
         "yaxis": "y"
        },
        {
         "hoverinfo": "text",
         "marker": {
          "color": "rgb(0,116,217)"
         },
         "mode": "lines",
         "type": "scatter",
         "x": [
          0,
          2.1746463162129697,
          2.1746463162129697,
          2.0859149411342317
         ],
         "xaxis": "x",
         "y": [
          -2565,
          -2565,
          -2587.5,
          -2587.5
         ],
         "yaxis": "y"
        },
        {
         "hoverinfo": "text",
         "marker": {
          "color": "rgb(0,116,217)"
         },
         "mode": "lines",
         "type": "scatter",
         "x": [
          0,
          2.3464654279777295,
          2.3464654279777295,
          2.1746463162129697
         ],
         "xaxis": "x",
         "y": [
          -2555,
          -2555,
          -2576.25,
          -2576.25
         ],
         "yaxis": "y"
        },
        {
         "hoverinfo": "text",
         "marker": {
          "color": "rgb(0,116,217)"
         },
         "mode": "lines",
         "type": "scatter",
         "x": [
          0,
          1.4896480029197061,
          1.4896480029197061,
          0
         ],
         "xaxis": "x",
         "y": [
          -2635,
          -2635,
          -2645,
          -2645
         ],
         "yaxis": "y"
        },
        {
         "hoverinfo": "text",
         "marker": {
          "color": "rgb(0,116,217)"
         },
         "mode": "lines",
         "type": "scatter",
         "x": [
          0,
          1.7820065026164902,
          1.7820065026164902,
          1.4896480029197061
         ],
         "xaxis": "x",
         "y": [
          -2625,
          -2625,
          -2640,
          -2640
         ],
         "yaxis": "y"
        },
        {
         "hoverinfo": "text",
         "marker": {
          "color": "rgb(0,116,217)"
         },
         "mode": "lines",
         "type": "scatter",
         "x": [
          0,
          2.0125329637666485,
          2.0125329637666485,
          0
         ],
         "xaxis": "x",
         "y": [
          -2655,
          -2655,
          -2665,
          -2665
         ],
         "yaxis": "y"
        },
        {
         "hoverinfo": "text",
         "marker": {
          "color": "rgb(0,116,217)"
         },
         "mode": "lines",
         "type": "scatter",
         "x": [
          0,
          1.8250753427883375,
          1.8250753427883375,
          0
         ],
         "xaxis": "x",
         "y": [
          -2685,
          -2685,
          -2695,
          -2695
         ],
         "yaxis": "y"
        },
        {
         "hoverinfo": "text",
         "marker": {
          "color": "rgb(0,116,217)"
         },
         "mode": "lines",
         "type": "scatter",
         "x": [
          0,
          2.2888394081845616,
          2.2888394081845616,
          1.8250753427883375
         ],
         "xaxis": "x",
         "y": [
          -2675,
          -2675,
          -2690,
          -2690
         ],
         "yaxis": "y"
        },
        {
         "hoverinfo": "text",
         "marker": {
          "color": "rgb(0,116,217)"
         },
         "mode": "lines",
         "type": "scatter",
         "x": [
          2.0125329637666485,
          2.512019210599847,
          2.512019210599847,
          2.2888394081845616
         ],
         "xaxis": "x",
         "y": [
          -2660,
          -2660,
          -2682.5,
          -2682.5
         ],
         "yaxis": "y"
        },
        {
         "hoverinfo": "text",
         "marker": {
          "color": "rgb(0,116,217)"
         },
         "mode": "lines",
         "type": "scatter",
         "x": [
          1.7820065026164902,
          2.7907538232905442,
          2.7907538232905442,
          2.512019210599847
         ],
         "xaxis": "x",
         "y": [
          -2632.5,
          -2632.5,
          -2671.25,
          -2671.25
         ],
         "yaxis": "y"
        },
        {
         "hoverinfo": "text",
         "marker": {
          "color": "rgb(0,116,217)"
         },
         "mode": "lines",
         "type": "scatter",
         "x": [
          0,
          1.496417756207321,
          1.496417756207321,
          0
         ],
         "xaxis": "x",
         "y": [
          -2715,
          -2715,
          -2725,
          -2725
         ],
         "yaxis": "y"
        },
        {
         "hoverinfo": "text",
         "marker": {
          "color": "rgb(0,116,217)"
         },
         "mode": "lines",
         "type": "scatter",
         "x": [
          0,
          1.873754039031174,
          1.873754039031174,
          1.496417756207321
         ],
         "xaxis": "x",
         "y": [
          -2705,
          -2705,
          -2720,
          -2720
         ],
         "yaxis": "y"
        },
        {
         "hoverinfo": "text",
         "marker": {
          "color": "rgb(0,116,217)"
         },
         "mode": "lines",
         "type": "scatter",
         "x": [
          0,
          1.6413643959476445,
          1.6413643959476445,
          0
         ],
         "xaxis": "x",
         "y": [
          -2735,
          -2735,
          -2745,
          -2745
         ],
         "yaxis": "y"
        },
        {
         "hoverinfo": "text",
         "marker": {
          "color": "rgb(0,116,217)"
         },
         "mode": "lines",
         "type": "scatter",
         "x": [
          0,
          1.8645424723675703,
          1.8645424723675703,
          0
         ],
         "xaxis": "x",
         "y": [
          -2755,
          -2755,
          -2765,
          -2765
         ],
         "yaxis": "y"
        },
        {
         "hoverinfo": "text",
         "marker": {
          "color": "rgb(0,116,217)"
         },
         "mode": "lines",
         "type": "scatter",
         "x": [
          0,
          1.6922678546469891,
          1.6922678546469891,
          0
         ],
         "xaxis": "x",
         "y": [
          -2785,
          -2785,
          -2795,
          -2795
         ],
         "yaxis": "y"
        },
        {
         "hoverinfo": "text",
         "marker": {
          "color": "rgb(0,116,217)"
         },
         "mode": "lines",
         "type": "scatter",
         "x": [
          0,
          2.0679142198838423,
          2.0679142198838423,
          1.6922678546469891
         ],
         "xaxis": "x",
         "y": [
          -2775,
          -2775,
          -2790,
          -2790
         ],
         "yaxis": "y"
        },
        {
         "hoverinfo": "text",
         "marker": {
          "color": "rgb(0,116,217)"
         },
         "mode": "lines",
         "type": "scatter",
         "x": [
          1.8645424723675703,
          2.280778263703422,
          2.280778263703422,
          2.0679142198838423
         ],
         "xaxis": "x",
         "y": [
          -2760,
          -2760,
          -2782.5,
          -2782.5
         ],
         "yaxis": "y"
        },
        {
         "hoverinfo": "text",
         "marker": {
          "color": "rgb(0,116,217)"
         },
         "mode": "lines",
         "type": "scatter",
         "x": [
          1.6413643959476445,
          2.604947666485457,
          2.604947666485457,
          2.280778263703422
         ],
         "xaxis": "x",
         "y": [
          -2740,
          -2740,
          -2771.25,
          -2771.25
         ],
         "yaxis": "y"
        },
        {
         "hoverinfo": "text",
         "marker": {
          "color": "rgb(0,116,217)"
         },
         "mode": "lines",
         "type": "scatter",
         "x": [
          1.873754039031174,
          3.012696299879675,
          3.012696299879675,
          2.604947666485457
         ],
         "xaxis": "x",
         "y": [
          -2712.5,
          -2712.5,
          -2755.625,
          -2755.625
         ],
         "yaxis": "y"
        },
        {
         "hoverinfo": "text",
         "marker": {
          "color": "rgb(0,116,217)"
         },
         "mode": "lines",
         "type": "scatter",
         "x": [
          2.7907538232905442,
          3.6438455816226725,
          3.6438455816226725,
          3.012696299879675
         ],
         "xaxis": "x",
         "y": [
          -2651.875,
          -2651.875,
          -2734.0625,
          -2734.0625
         ],
         "yaxis": "y"
        },
        {
         "hoverinfo": "text",
         "marker": {
          "color": "rgb(0,116,217)"
         },
         "mode": "lines",
         "type": "scatter",
         "x": [
          2.3464654279777295,
          3.916532162792222,
          3.916532162792222,
          3.6438455816226725
         ],
         "xaxis": "x",
         "y": [
          -2565.625,
          -2565.625,
          -2692.96875,
          -2692.96875
         ],
         "yaxis": "y"
        },
        {
         "hoverinfo": "text",
         "marker": {
          "color": "rgb(0,116,217)"
         },
         "mode": "lines",
         "type": "scatter",
         "x": [
          3.3671813095105967,
          4.910502871528625,
          4.910502871528625,
          3.916532162792222
         ],
         "xaxis": "x",
         "y": [
          -2497.5,
          -2497.5,
          -2629.296875,
          -2629.296875
         ],
         "yaxis": "y"
        },
        {
         "hoverinfo": "text",
         "marker": {
          "color": "rgb(0,116,217)"
         },
         "mode": "lines",
         "type": "scatter",
         "x": [
          3.1935961128451673,
          5.218003079979849,
          5.218003079979849,
          4.910502871528625
         ],
         "xaxis": "x",
         "y": [
          -2420,
          -2420,
          -2563.3984375,
          -2563.3984375
         ],
         "yaxis": "y"
        },
        {
         "hoverinfo": "text",
         "marker": {
          "color": "rgb(0,116,217)"
         },
         "mode": "lines",
         "type": "scatter",
         "x": [
          4.113910545878341,
          7.253985544496605,
          7.253985544496605,
          5.218003079979849
         ],
         "xaxis": "x",
         "y": [
          -2204.296875,
          -2204.296875,
          -2491.69921875,
          -2491.69921875
         ],
         "yaxis": "y"
        },
        {
         "hoverinfo": "text",
         "marker": {
          "color": "rgb(0,116,217)"
         },
         "mode": "lines",
         "type": "scatter",
         "x": [
          5.045055550192717,
          7.794939006446908,
          7.794939006446908,
          7.253985544496605
         ],
         "xaxis": "x",
         "y": [
          -1906.015625,
          -1906.015625,
          -2347.998046875,
          -2347.998046875
         ],
         "yaxis": "y"
        },
        {
         "hoverinfo": "text",
         "marker": {
          "color": "rgb(0,116,217)"
         },
         "mode": "lines",
         "type": "scatter",
         "x": [
          0,
          1.904200587393253,
          1.904200587393253,
          0
         ],
         "xaxis": "x",
         "y": [
          -2805,
          -2805,
          -2815,
          -2815
         ],
         "yaxis": "y"
        },
        {
         "hoverinfo": "text",
         "marker": {
          "color": "rgb(0,116,217)"
         },
         "mode": "lines",
         "type": "scatter",
         "x": [
          0,
          1.7631558707835553,
          1.7631558707835553,
          0
         ],
         "xaxis": "x",
         "y": [
          -2835,
          -2835,
          -2845,
          -2845
         ],
         "yaxis": "y"
        },
        {
         "hoverinfo": "text",
         "marker": {
          "color": "rgb(0,116,217)"
         },
         "mode": "lines",
         "type": "scatter",
         "x": [
          0,
          2.12235261636073,
          2.12235261636073,
          1.7631558707835553
         ],
         "xaxis": "x",
         "y": [
          -2825,
          -2825,
          -2840,
          -2840
         ],
         "yaxis": "y"
        },
        {
         "hoverinfo": "text",
         "marker": {
          "color": "rgb(0,116,217)"
         },
         "mode": "lines",
         "type": "scatter",
         "x": [
          1.904200587393253,
          2.5321303681491028,
          2.5321303681491028,
          2.12235261636073
         ],
         "xaxis": "x",
         "y": [
          -2810,
          -2810,
          -2832.5,
          -2832.5
         ],
         "yaxis": "y"
        },
        {
         "hoverinfo": "text",
         "marker": {
          "color": "rgb(0,116,217)"
         },
         "mode": "lines",
         "type": "scatter",
         "x": [
          0,
          1.8277574733037707,
          1.8277574733037707,
          0
         ],
         "xaxis": "x",
         "y": [
          -2865,
          -2865,
          -2875,
          -2875
         ],
         "yaxis": "y"
        },
        {
         "hoverinfo": "text",
         "marker": {
          "color": "rgb(0,116,217)"
         },
         "mode": "lines",
         "type": "scatter",
         "x": [
          0,
          1.877693929806484,
          1.877693929806484,
          1.8277574733037707
         ],
         "xaxis": "x",
         "y": [
          -2855,
          -2855,
          -2870,
          -2870
         ],
         "yaxis": "y"
        },
        {
         "hoverinfo": "text",
         "marker": {
          "color": "rgb(0,116,217)"
         },
         "mode": "lines",
         "type": "scatter",
         "x": [
          0,
          1.6323661464042523,
          1.6323661464042523,
          0
         ],
         "xaxis": "x",
         "y": [
          -2885,
          -2885,
          -2895,
          -2895
         ],
         "yaxis": "y"
        },
        {
         "hoverinfo": "text",
         "marker": {
          "color": "rgb(0,116,217)"
         },
         "mode": "lines",
         "type": "scatter",
         "x": [
          0,
          1.9358115385096075,
          1.9358115385096075,
          0
         ],
         "xaxis": "x",
         "y": [
          -2905,
          -2905,
          -2915,
          -2915
         ],
         "yaxis": "y"
        },
        {
         "hoverinfo": "text",
         "marker": {
          "color": "rgb(0,116,217)"
         },
         "mode": "lines",
         "type": "scatter",
         "x": [
          1.6323661464042523,
          2.0946505720335686,
          2.0946505720335686,
          1.9358115385096075
         ],
         "xaxis": "x",
         "y": [
          -2890,
          -2890,
          -2910,
          -2910
         ],
         "yaxis": "y"
        },
        {
         "hoverinfo": "text",
         "marker": {
          "color": "rgb(0,116,217)"
         },
         "mode": "lines",
         "type": "scatter",
         "x": [
          1.877693929806484,
          2.891824250681235,
          2.891824250681235,
          2.0946505720335686
         ],
         "xaxis": "x",
         "y": [
          -2862.5,
          -2862.5,
          -2900,
          -2900
         ],
         "yaxis": "y"
        },
        {
         "hoverinfo": "text",
         "marker": {
          "color": "rgb(0,116,217)"
         },
         "mode": "lines",
         "type": "scatter",
         "x": [
          2.5321303681491028,
          3.201093317297691,
          3.201093317297691,
          2.891824250681235
         ],
         "xaxis": "x",
         "y": [
          -2821.25,
          -2821.25,
          -2881.25,
          -2881.25
         ],
         "yaxis": "y"
        },
        {
         "hoverinfo": "text",
         "marker": {
          "color": "rgb(0,116,217)"
         },
         "mode": "lines",
         "type": "scatter",
         "x": [
          0,
          2.236072775514751,
          2.236072775514751,
          0
         ],
         "xaxis": "x",
         "y": [
          -2935,
          -2935,
          -2945,
          -2945
         ],
         "yaxis": "y"
        },
        {
         "hoverinfo": "text",
         "marker": {
          "color": "rgb(0,116,217)"
         },
         "mode": "lines",
         "type": "scatter",
         "x": [
          0,
          2.511629240828853,
          2.511629240828853,
          2.236072775514751
         ],
         "xaxis": "x",
         "y": [
          -2925,
          -2925,
          -2940,
          -2940
         ],
         "yaxis": "y"
        },
        {
         "hoverinfo": "text",
         "marker": {
          "color": "rgb(0,116,217)"
         },
         "mode": "lines",
         "type": "scatter",
         "x": [
          0,
          1.5180891864444224,
          1.5180891864444224,
          0
         ],
         "xaxis": "x",
         "y": [
          -2955,
          -2955,
          -2965,
          -2965
         ],
         "yaxis": "y"
        },
        {
         "hoverinfo": "text",
         "marker": {
          "color": "rgb(0,116,217)"
         },
         "mode": "lines",
         "type": "scatter",
         "x": [
          0,
          1.7477704940620287,
          1.7477704940620287,
          0
         ],
         "xaxis": "x",
         "y": [
          -2975,
          -2975,
          -2985,
          -2985
         ],
         "yaxis": "y"
        },
        {
         "hoverinfo": "text",
         "marker": {
          "color": "rgb(0,116,217)"
         },
         "mode": "lines",
         "type": "scatter",
         "x": [
          0,
          1.6595790763640266,
          1.6595790763640266,
          0
         ],
         "xaxis": "x",
         "y": [
          -2995,
          -2995,
          -3005,
          -3005
         ],
         "yaxis": "y"
        },
        {
         "hoverinfo": "text",
         "marker": {
          "color": "rgb(0,116,217)"
         },
         "mode": "lines",
         "type": "scatter",
         "x": [
          0,
          1.816824737569663,
          1.816824737569663,
          0
         ],
         "xaxis": "x",
         "y": [
          -3015,
          -3015,
          -3025,
          -3025
         ],
         "yaxis": "y"
        },
        {
         "hoverinfo": "text",
         "marker": {
          "color": "rgb(0,116,217)"
         },
         "mode": "lines",
         "type": "scatter",
         "x": [
          1.6595790763640266,
          1.9306309349684356,
          1.9306309349684356,
          1.816824737569663
         ],
         "xaxis": "x",
         "y": [
          -3000,
          -3000,
          -3020,
          -3020
         ],
         "yaxis": "y"
        },
        {
         "hoverinfo": "text",
         "marker": {
          "color": "rgb(0,116,217)"
         },
         "mode": "lines",
         "type": "scatter",
         "x": [
          1.7477704940620287,
          2.3785895494891145,
          2.3785895494891145,
          1.9306309349684356
         ],
         "xaxis": "x",
         "y": [
          -2980,
          -2980,
          -3010,
          -3010
         ],
         "yaxis": "y"
        },
        {
         "hoverinfo": "text",
         "marker": {
          "color": "rgb(0,116,217)"
         },
         "mode": "lines",
         "type": "scatter",
         "x": [
          1.5180891864444224,
          2.8044113113362124,
          2.8044113113362124,
          2.3785895494891145
         ],
         "xaxis": "x",
         "y": [
          -2960,
          -2960,
          -2995,
          -2995
         ],
         "yaxis": "y"
        },
        {
         "hoverinfo": "text",
         "marker": {
          "color": "rgb(0,116,217)"
         },
         "mode": "lines",
         "type": "scatter",
         "x": [
          2.511629240828853,
          3.3762985063203113,
          3.3762985063203113,
          2.8044113113362124
         ],
         "xaxis": "x",
         "y": [
          -2932.5,
          -2932.5,
          -2977.5,
          -2977.5
         ],
         "yaxis": "y"
        },
        {
         "hoverinfo": "text",
         "marker": {
          "color": "rgb(0,116,217)"
         },
         "mode": "lines",
         "type": "scatter",
         "x": [
          3.201093317297691,
          4.095909333456461,
          4.095909333456461,
          3.3762985063203113
         ],
         "xaxis": "x",
         "y": [
          -2851.25,
          -2851.25,
          -2955,
          -2955
         ],
         "yaxis": "y"
        },
        {
         "hoverinfo": "text",
         "marker": {
          "color": "rgb(35,205,205)"
         },
         "mode": "lines",
         "type": "scatter",
         "x": [
          0,
          0.7445432486739012,
          0.7445432486739012,
          0
         ],
         "xaxis": "x",
         "y": [
          -3045,
          -3045,
          -3055,
          -3055
         ],
         "yaxis": "y"
        },
        {
         "hoverinfo": "text",
         "marker": {
          "color": "rgb(35,205,205)"
         },
         "mode": "lines",
         "type": "scatter",
         "x": [
          0,
          0.9194306344548527,
          0.9194306344548527,
          0.7445432486739012
         ],
         "xaxis": "x",
         "y": [
          -3035,
          -3035,
          -3050,
          -3050
         ],
         "yaxis": "y"
        },
        {
         "hoverinfo": "text",
         "marker": {
          "color": "rgb(0,116,217)"
         },
         "mode": "lines",
         "type": "scatter",
         "x": [
          0,
          1.892893791584844,
          1.892893791584844,
          0
         ],
         "xaxis": "x",
         "y": [
          -3075,
          -3075,
          -3085,
          -3085
         ],
         "yaxis": "y"
        },
        {
         "hoverinfo": "text",
         "marker": {
          "color": "rgb(0,116,217)"
         },
         "mode": "lines",
         "type": "scatter",
         "x": [
          0,
          2.015929503162123,
          2.015929503162123,
          1.892893791584844
         ],
         "xaxis": "x",
         "y": [
          -3065,
          -3065,
          -3080,
          -3080
         ],
         "yaxis": "y"
        },
        {
         "hoverinfo": "text",
         "marker": {
          "color": "rgb(0,116,217)"
         },
         "mode": "lines",
         "type": "scatter",
         "x": [
          0,
          1.0574214700999849,
          1.0574214700999849,
          0
         ],
         "xaxis": "x",
         "y": [
          -3115,
          -3115,
          -3125,
          -3125
         ],
         "yaxis": "y"
        },
        {
         "hoverinfo": "text",
         "marker": {
          "color": "rgb(0,116,217)"
         },
         "mode": "lines",
         "type": "scatter",
         "x": [
          0,
          1.3228448863888604,
          1.3228448863888604,
          1.0574214700999849
         ],
         "xaxis": "x",
         "y": [
          -3105,
          -3105,
          -3120,
          -3120
         ],
         "yaxis": "y"
        },
        {
         "hoverinfo": "text",
         "marker": {
          "color": "rgb(0,116,217)"
         },
         "mode": "lines",
         "type": "scatter",
         "x": [
          0,
          1.9964782746345324,
          1.9964782746345324,
          1.3228448863888604
         ],
         "xaxis": "x",
         "y": [
          -3095,
          -3095,
          -3112.5,
          -3112.5
         ],
         "yaxis": "y"
        },
        {
         "hoverinfo": "text",
         "marker": {
          "color": "rgb(0,116,217)"
         },
         "mode": "lines",
         "type": "scatter",
         "x": [
          0,
          1.5449214330462315,
          1.5449214330462315,
          0
         ],
         "xaxis": "x",
         "y": [
          -3135,
          -3135,
          -3145,
          -3145
         ],
         "yaxis": "y"
        },
        {
         "hoverinfo": "text",
         "marker": {
          "color": "rgb(0,116,217)"
         },
         "mode": "lines",
         "type": "scatter",
         "x": [
          0,
          1.6977733934688255,
          1.6977733934688255,
          0
         ],
         "xaxis": "x",
         "y": [
          -3155,
          -3155,
          -3165,
          -3165
         ],
         "yaxis": "y"
        },
        {
         "hoverinfo": "text",
         "marker": {
          "color": "rgb(0,116,217)"
         },
         "mode": "lines",
         "type": "scatter",
         "x": [
          1.5449214330462315,
          2.146278415634954,
          2.146278415634954,
          1.6977733934688255
         ],
         "xaxis": "x",
         "y": [
          -3140,
          -3140,
          -3160,
          -3160
         ],
         "yaxis": "y"
        },
        {
         "hoverinfo": "text",
         "marker": {
          "color": "rgb(0,116,217)"
         },
         "mode": "lines",
         "type": "scatter",
         "x": [
          0,
          2.2330847662297915,
          2.2330847662297915,
          0
         ],
         "xaxis": "x",
         "y": [
          -3175,
          -3175,
          -3185,
          -3185
         ],
         "yaxis": "y"
        },
        {
         "hoverinfo": "text",
         "marker": {
          "color": "rgb(0,116,217)"
         },
         "mode": "lines",
         "type": "scatter",
         "x": [
          2.146278415634954,
          2.6047742702692482,
          2.6047742702692482,
          2.2330847662297915
         ],
         "xaxis": "x",
         "y": [
          -3150,
          -3150,
          -3180,
          -3180
         ],
         "yaxis": "y"
        },
        {
         "hoverinfo": "text",
         "marker": {
          "color": "rgb(0,116,217)"
         },
         "mode": "lines",
         "type": "scatter",
         "x": [
          0,
          1.5555265366950006,
          1.5555265366950006,
          0
         ],
         "xaxis": "x",
         "y": [
          -3195,
          -3195,
          -3205,
          -3205
         ],
         "yaxis": "y"
        },
        {
         "hoverinfo": "text",
         "marker": {
          "color": "rgb(0,116,217)"
         },
         "mode": "lines",
         "type": "scatter",
         "x": [
          0,
          1.8700962916455068,
          1.8700962916455068,
          0
         ],
         "xaxis": "x",
         "y": [
          -3215,
          -3215,
          -3225,
          -3225
         ],
         "yaxis": "y"
        },
        {
         "hoverinfo": "text",
         "marker": {
          "color": "rgb(0,116,217)"
         },
         "mode": "lines",
         "type": "scatter",
         "x": [
          1.5555265366950006,
          2.0445093143932365,
          2.0445093143932365,
          1.8700962916455068
         ],
         "xaxis": "x",
         "y": [
          -3200,
          -3200,
          -3220,
          -3220
         ],
         "yaxis": "y"
        },
        {
         "hoverinfo": "text",
         "marker": {
          "color": "rgb(0,116,217)"
         },
         "mode": "lines",
         "type": "scatter",
         "x": [
          0,
          1.496007662862101,
          1.496007662862101,
          0
         ],
         "xaxis": "x",
         "y": [
          -3235,
          -3235,
          -3245,
          -3245
         ],
         "yaxis": "y"
        },
        {
         "hoverinfo": "text",
         "marker": {
          "color": "rgb(0,116,217)"
         },
         "mode": "lines",
         "type": "scatter",
         "x": [
          0,
          1.727069402650912,
          1.727069402650912,
          0
         ],
         "xaxis": "x",
         "y": [
          -3255,
          -3255,
          -3265,
          -3265
         ],
         "yaxis": "y"
        },
        {
         "hoverinfo": "text",
         "marker": {
          "color": "rgb(0,116,217)"
         },
         "mode": "lines",
         "type": "scatter",
         "x": [
          1.496007662862101,
          2.1023095657952746,
          2.1023095657952746,
          1.727069402650912
         ],
         "xaxis": "x",
         "y": [
          -3240,
          -3240,
          -3260,
          -3260
         ],
         "yaxis": "y"
        },
        {
         "hoverinfo": "text",
         "marker": {
          "color": "rgb(0,116,217)"
         },
         "mode": "lines",
         "type": "scatter",
         "x": [
          2.0445093143932365,
          2.8676416719118643,
          2.8676416719118643,
          2.1023095657952746
         ],
         "xaxis": "x",
         "y": [
          -3210,
          -3210,
          -3250,
          -3250
         ],
         "yaxis": "y"
        },
        {
         "hoverinfo": "text",
         "marker": {
          "color": "rgb(0,116,217)"
         },
         "mode": "lines",
         "type": "scatter",
         "x": [
          2.6047742702692482,
          3.1000028560768276,
          3.1000028560768276,
          2.8676416719118643
         ],
         "xaxis": "x",
         "y": [
          -3165,
          -3165,
          -3230,
          -3230
         ],
         "yaxis": "y"
        },
        {
         "hoverinfo": "text",
         "marker": {
          "color": "rgb(0,116,217)"
         },
         "mode": "lines",
         "type": "scatter",
         "x": [
          1.9964782746345324,
          3.309185444472347,
          3.309185444472347,
          3.1000028560768276
         ],
         "xaxis": "x",
         "y": [
          -3103.75,
          -3103.75,
          -3197.5,
          -3197.5
         ],
         "yaxis": "y"
        },
        {
         "hoverinfo": "text",
         "marker": {
          "color": "rgb(0,116,217)"
         },
         "mode": "lines",
         "type": "scatter",
         "x": [
          2.015929503162123,
          3.9480102957080594,
          3.9480102957080594,
          3.309185444472347
         ],
         "xaxis": "x",
         "y": [
          -3072.5,
          -3072.5,
          -3150.625,
          -3150.625
         ],
         "yaxis": "y"
        },
        {
         "hoverinfo": "text",
         "marker": {
          "color": "rgb(0,116,217)"
         },
         "mode": "lines",
         "type": "scatter",
         "x": [
          0.9194306344548527,
          4.143481519075273,
          4.143481519075273,
          3.9480102957080594
         ],
         "xaxis": "x",
         "y": [
          -3042.5,
          -3042.5,
          -3111.5625,
          -3111.5625
         ],
         "yaxis": "y"
        },
        {
         "hoverinfo": "text",
         "marker": {
          "color": "rgb(0,116,217)"
         },
         "mode": "lines",
         "type": "scatter",
         "x": [
          4.095909333456461,
          6.0876322796519915,
          6.0876322796519915,
          4.143481519075273
         ],
         "xaxis": "x",
         "y": [
          -2903.125,
          -2903.125,
          -3077.03125,
          -3077.03125
         ],
         "yaxis": "y"
        },
        {
         "hoverinfo": "text",
         "marker": {
          "color": "rgb(0,116,217)"
         },
         "mode": "lines",
         "type": "scatter",
         "x": [
          0,
          1.1394372121844782,
          1.1394372121844782,
          0
         ],
         "xaxis": "x",
         "y": [
          -3285,
          -3285,
          -3295,
          -3295
         ],
         "yaxis": "y"
        },
        {
         "hoverinfo": "text",
         "marker": {
          "color": "rgb(0,116,217)"
         },
         "mode": "lines",
         "type": "scatter",
         "x": [
          0,
          1.0261780023745322,
          1.0261780023745322,
          0
         ],
         "xaxis": "x",
         "y": [
          -3315,
          -3315,
          -3325,
          -3325
         ],
         "yaxis": "y"
        },
        {
         "hoverinfo": "text",
         "marker": {
          "color": "rgb(0,116,217)"
         },
         "mode": "lines",
         "type": "scatter",
         "x": [
          0,
          1.5571101261081752,
          1.5571101261081752,
          1.0261780023745322
         ],
         "xaxis": "x",
         "y": [
          -3305,
          -3305,
          -3320,
          -3320
         ],
         "yaxis": "y"
        },
        {
         "hoverinfo": "text",
         "marker": {
          "color": "rgb(0,116,217)"
         },
         "mode": "lines",
         "type": "scatter",
         "x": [
          1.1394372121844782,
          1.7129117653783372,
          1.7129117653783372,
          1.5571101261081752
         ],
         "xaxis": "x",
         "y": [
          -3290,
          -3290,
          -3312.5,
          -3312.5
         ],
         "yaxis": "y"
        },
        {
         "hoverinfo": "text",
         "marker": {
          "color": "rgb(0,116,217)"
         },
         "mode": "lines",
         "type": "scatter",
         "x": [
          0,
          2.4431312340047016,
          2.4431312340047016,
          1.7129117653783372
         ],
         "xaxis": "x",
         "y": [
          -3275,
          -3275,
          -3301.25,
          -3301.25
         ],
         "yaxis": "y"
        },
        {
         "hoverinfo": "text",
         "marker": {
          "color": "rgb(0,116,217)"
         },
         "mode": "lines",
         "type": "scatter",
         "x": [
          0,
          1.2904384891207505,
          1.2904384891207505,
          0
         ],
         "xaxis": "x",
         "y": [
          -3345,
          -3345,
          -3355,
          -3355
         ],
         "yaxis": "y"
        },
        {
         "hoverinfo": "text",
         "marker": {
          "color": "rgb(0,116,217)"
         },
         "mode": "lines",
         "type": "scatter",
         "x": [
          0,
          1.6465622047252404,
          1.6465622047252404,
          1.2904384891207505
         ],
         "xaxis": "x",
         "y": [
          -3335,
          -3335,
          -3350,
          -3350
         ],
         "yaxis": "y"
        },
        {
         "hoverinfo": "text",
         "marker": {
          "color": "rgb(0,116,217)"
         },
         "mode": "lines",
         "type": "scatter",
         "x": [
          0,
          1.538527961926845,
          1.538527961926845,
          0
         ],
         "xaxis": "x",
         "y": [
          -3375,
          -3375,
          -3385,
          -3385
         ],
         "yaxis": "y"
        },
        {
         "hoverinfo": "text",
         "marker": {
          "color": "rgb(0,116,217)"
         },
         "mode": "lines",
         "type": "scatter",
         "x": [
          0,
          1.869904591755531,
          1.869904591755531,
          1.538527961926845
         ],
         "xaxis": "x",
         "y": [
          -3365,
          -3365,
          -3380,
          -3380
         ],
         "yaxis": "y"
        },
        {
         "hoverinfo": "text",
         "marker": {
          "color": "rgb(0,116,217)"
         },
         "mode": "lines",
         "type": "scatter",
         "x": [
          1.6465622047252404,
          2.064821357934747,
          2.064821357934747,
          1.869904591755531
         ],
         "xaxis": "x",
         "y": [
          -3342.5,
          -3342.5,
          -3372.5,
          -3372.5
         ],
         "yaxis": "y"
        },
        {
         "hoverinfo": "text",
         "marker": {
          "color": "rgb(0,116,217)"
         },
         "mode": "lines",
         "type": "scatter",
         "x": [
          0,
          1.604618815354057,
          1.604618815354057,
          0
         ],
         "xaxis": "x",
         "y": [
          -3395,
          -3395,
          -3405,
          -3405
         ],
         "yaxis": "y"
        },
        {
         "hoverinfo": "text",
         "marker": {
          "color": "rgb(0,116,217)"
         },
         "mode": "lines",
         "type": "scatter",
         "x": [
          0,
          2.0612866527497804,
          2.0612866527497804,
          0
         ],
         "xaxis": "x",
         "y": [
          -3415,
          -3415,
          -3425,
          -3425
         ],
         "yaxis": "y"
        },
        {
         "hoverinfo": "text",
         "marker": {
          "color": "rgb(0,116,217)"
         },
         "mode": "lines",
         "type": "scatter",
         "x": [
          1.604618815354057,
          2.255232153972267,
          2.255232153972267,
          2.0612866527497804
         ],
         "xaxis": "x",
         "y": [
          -3400,
          -3400,
          -3420,
          -3420
         ],
         "yaxis": "y"
        },
        {
         "hoverinfo": "text",
         "marker": {
          "color": "rgb(0,116,217)"
         },
         "mode": "lines",
         "type": "scatter",
         "x": [
          2.064821357934747,
          2.552912720438634,
          2.552912720438634,
          2.255232153972267
         ],
         "xaxis": "x",
         "y": [
          -3357.5,
          -3357.5,
          -3410,
          -3410
         ],
         "yaxis": "y"
        },
        {
         "hoverinfo": "text",
         "marker": {
          "color": "rgb(0,116,217)"
         },
         "mode": "lines",
         "type": "scatter",
         "x": [
          0,
          1.8001275684350428,
          1.8001275684350428,
          0
         ],
         "xaxis": "x",
         "y": [
          -3445,
          -3445,
          -3455,
          -3455
         ],
         "yaxis": "y"
        },
        {
         "hoverinfo": "text",
         "marker": {
          "color": "rgb(0,116,217)"
         },
         "mode": "lines",
         "type": "scatter",
         "x": [
          0,
          2.0023590127411373,
          2.0023590127411373,
          1.8001275684350428
         ],
         "xaxis": "x",
         "y": [
          -3435,
          -3435,
          -3450,
          -3450
         ],
         "yaxis": "y"
        },
        {
         "hoverinfo": "text",
         "marker": {
          "color": "rgb(0,116,217)"
         },
         "mode": "lines",
         "type": "scatter",
         "x": [
          0,
          1.4764260038701678,
          1.4764260038701678,
          0
         ],
         "xaxis": "x",
         "y": [
          -3475,
          -3475,
          -3485,
          -3485
         ],
         "yaxis": "y"
        },
        {
         "hoverinfo": "text",
         "marker": {
          "color": "rgb(0,116,217)"
         },
         "mode": "lines",
         "type": "scatter",
         "x": [
          0,
          2.0509453773288966,
          2.0509453773288966,
          1.4764260038701678
         ],
         "xaxis": "x",
         "y": [
          -3465,
          -3465,
          -3480,
          -3480
         ],
         "yaxis": "y"
        },
        {
         "hoverinfo": "text",
         "marker": {
          "color": "rgb(0,116,217)"
         },
         "mode": "lines",
         "type": "scatter",
         "x": [
          2.0023590127411373,
          2.5720110838485737,
          2.5720110838485737,
          2.0509453773288966
         ],
         "xaxis": "x",
         "y": [
          -3442.5,
          -3442.5,
          -3472.5,
          -3472.5
         ],
         "yaxis": "y"
        },
        {
         "hoverinfo": "text",
         "marker": {
          "color": "rgb(0,116,217)"
         },
         "mode": "lines",
         "type": "scatter",
         "x": [
          2.552912720438634,
          4.339575553458375,
          4.339575553458375,
          2.5720110838485737
         ],
         "xaxis": "x",
         "y": [
          -3383.75,
          -3383.75,
          -3457.5,
          -3457.5
         ],
         "yaxis": "y"
        },
        {
         "hoverinfo": "text",
         "marker": {
          "color": "rgb(0,116,217)"
         },
         "mode": "lines",
         "type": "scatter",
         "x": [
          2.4431312340047016,
          4.592094983306805,
          4.592094983306805,
          4.339575553458375
         ],
         "xaxis": "x",
         "y": [
          -3288.125,
          -3288.125,
          -3420.625,
          -3420.625
         ],
         "yaxis": "y"
        },
        {
         "hoverinfo": "text",
         "marker": {
          "color": "rgb(0,116,217)"
         },
         "mode": "lines",
         "type": "scatter",
         "x": [
          0,
          1.644195958022748,
          1.644195958022748,
          0
         ],
         "xaxis": "x",
         "y": [
          -3505,
          -3505,
          -3515,
          -3515
         ],
         "yaxis": "y"
        },
        {
         "hoverinfo": "text",
         "marker": {
          "color": "rgb(0,116,217)"
         },
         "mode": "lines",
         "type": "scatter",
         "x": [
          0,
          1.8767570136189862,
          1.8767570136189862,
          1.644195958022748
         ],
         "xaxis": "x",
         "y": [
          -3495,
          -3495,
          -3510,
          -3510
         ],
         "yaxis": "y"
        },
        {
         "hoverinfo": "text",
         "marker": {
          "color": "rgb(0,116,217)"
         },
         "mode": "lines",
         "type": "scatter",
         "x": [
          0,
          1.338072925891415,
          1.338072925891415,
          0
         ],
         "xaxis": "x",
         "y": [
          -3525,
          -3525,
          -3535,
          -3535
         ],
         "yaxis": "y"
        },
        {
         "hoverinfo": "text",
         "marker": {
          "color": "rgb(0,116,217)"
         },
         "mode": "lines",
         "type": "scatter",
         "x": [
          0,
          1.9147652519251783,
          1.9147652519251783,
          0
         ],
         "xaxis": "x",
         "y": [
          -3545,
          -3545,
          -3555,
          -3555
         ],
         "yaxis": "y"
        },
        {
         "hoverinfo": "text",
         "marker": {
          "color": "rgb(0,116,217)"
         },
         "mode": "lines",
         "type": "scatter",
         "x": [
          1.338072925891415,
          2.7544561905893272,
          2.7544561905893272,
          1.9147652519251783
         ],
         "xaxis": "x",
         "y": [
          -3530,
          -3530,
          -3550,
          -3550
         ],
         "yaxis": "y"
        },
        {
         "hoverinfo": "text",
         "marker": {
          "color": "rgb(0,116,217)"
         },
         "mode": "lines",
         "type": "scatter",
         "x": [
          1.8767570136189862,
          3.313309047056463,
          3.313309047056463,
          2.7544561905893272
         ],
         "xaxis": "x",
         "y": [
          -3502.5,
          -3502.5,
          -3540,
          -3540
         ],
         "yaxis": "y"
        },
        {
         "hoverinfo": "text",
         "marker": {
          "color": "rgb(0,116,217)"
         },
         "mode": "lines",
         "type": "scatter",
         "x": [
          0,
          1.3622986343388708,
          1.3622986343388708,
          0
         ],
         "xaxis": "x",
         "y": [
          -3575,
          -3575,
          -3585,
          -3585
         ],
         "yaxis": "y"
        },
        {
         "hoverinfo": "text",
         "marker": {
          "color": "rgb(0,116,217)"
         },
         "mode": "lines",
         "type": "scatter",
         "x": [
          0,
          1.8899161465280245,
          1.8899161465280245,
          1.3622986343388708
         ],
         "xaxis": "x",
         "y": [
          -3565,
          -3565,
          -3580,
          -3580
         ],
         "yaxis": "y"
        },
        {
         "hoverinfo": "text",
         "marker": {
          "color": "rgb(0,116,217)"
         },
         "mode": "lines",
         "type": "scatter",
         "x": [
          0,
          2.129357977781408,
          2.129357977781408,
          0
         ],
         "xaxis": "x",
         "y": [
          -3605,
          -3605,
          -3615,
          -3615
         ],
         "yaxis": "y"
        },
        {
         "hoverinfo": "text",
         "marker": {
          "color": "rgb(0,116,217)"
         },
         "mode": "lines",
         "type": "scatter",
         "x": [
          0,
          2.455908699813352,
          2.455908699813352,
          2.129357977781408
         ],
         "xaxis": "x",
         "y": [
          -3595,
          -3595,
          -3610,
          -3610
         ],
         "yaxis": "y"
        },
        {
         "hoverinfo": "text",
         "marker": {
          "color": "rgb(0,116,217)"
         },
         "mode": "lines",
         "type": "scatter",
         "x": [
          1.8899161465280245,
          2.7624244531723607,
          2.7624244531723607,
          2.455908699813352
         ],
         "xaxis": "x",
         "y": [
          -3572.5,
          -3572.5,
          -3602.5,
          -3602.5
         ],
         "yaxis": "y"
        },
        {
         "hoverinfo": "text",
         "marker": {
          "color": "rgb(0,116,217)"
         },
         "mode": "lines",
         "type": "scatter",
         "x": [
          0,
          1.5395716407302167,
          1.5395716407302167,
          0
         ],
         "xaxis": "x",
         "y": [
          -3635,
          -3635,
          -3645,
          -3645
         ],
         "yaxis": "y"
        },
        {
         "hoverinfo": "text",
         "marker": {
          "color": "rgb(0,116,217)"
         },
         "mode": "lines",
         "type": "scatter",
         "x": [
          0,
          1.8888278818100246,
          1.8888278818100246,
          1.5395716407302167
         ],
         "xaxis": "x",
         "y": [
          -3625,
          -3625,
          -3640,
          -3640
         ],
         "yaxis": "y"
        },
        {
         "hoverinfo": "text",
         "marker": {
          "color": "rgb(0,116,217)"
         },
         "mode": "lines",
         "type": "scatter",
         "x": [
          0,
          1.9404912658592348,
          1.9404912658592348,
          0
         ],
         "xaxis": "x",
         "y": [
          -3655,
          -3655,
          -3665,
          -3665
         ],
         "yaxis": "y"
        },
        {
         "hoverinfo": "text",
         "marker": {
          "color": "rgb(0,116,217)"
         },
         "mode": "lines",
         "type": "scatter",
         "x": [
          1.8888278818100246,
          2.2744472108401124,
          2.2744472108401124,
          1.9404912658592348
         ],
         "xaxis": "x",
         "y": [
          -3632.5,
          -3632.5,
          -3660,
          -3660
         ],
         "yaxis": "y"
        },
        {
         "hoverinfo": "text",
         "marker": {
          "color": "rgb(0,116,217)"
         },
         "mode": "lines",
         "type": "scatter",
         "x": [
          0,
          1.6339431743172126,
          1.6339431743172126,
          0
         ],
         "xaxis": "x",
         "y": [
          -3675,
          -3675,
          -3685,
          -3685
         ],
         "yaxis": "y"
        },
        {
         "hoverinfo": "text",
         "marker": {
          "color": "rgb(0,116,217)"
         },
         "mode": "lines",
         "type": "scatter",
         "x": [
          0,
          1.7467429061981314,
          1.7467429061981314,
          0
         ],
         "xaxis": "x",
         "y": [
          -3695,
          -3695,
          -3705,
          -3705
         ],
         "yaxis": "y"
        },
        {
         "hoverinfo": "text",
         "marker": {
          "color": "rgb(0,116,217)"
         },
         "mode": "lines",
         "type": "scatter",
         "x": [
          1.6339431743172126,
          2.3358023651413613,
          2.3358023651413613,
          1.7467429061981314
         ],
         "xaxis": "x",
         "y": [
          -3680,
          -3680,
          -3700,
          -3700
         ],
         "yaxis": "y"
        },
        {
         "hoverinfo": "text",
         "marker": {
          "color": "rgb(0,116,217)"
         },
         "mode": "lines",
         "type": "scatter",
         "x": [
          2.2744472108401124,
          3.426820877363041,
          3.426820877363041,
          2.3358023651413613
         ],
         "xaxis": "x",
         "y": [
          -3646.25,
          -3646.25,
          -3690,
          -3690
         ],
         "yaxis": "y"
        },
        {
         "hoverinfo": "text",
         "marker": {
          "color": "rgb(0,116,217)"
         },
         "mode": "lines",
         "type": "scatter",
         "x": [
          2.7624244531723607,
          4.445298094985668,
          4.445298094985668,
          3.426820877363041
         ],
         "xaxis": "x",
         "y": [
          -3587.5,
          -3587.5,
          -3668.125,
          -3668.125
         ],
         "yaxis": "y"
        },
        {
         "hoverinfo": "text",
         "marker": {
          "color": "rgb(0,116,217)"
         },
         "mode": "lines",
         "type": "scatter",
         "x": [
          3.313309047056463,
          4.796681280211592,
          4.796681280211592,
          4.445298094985668
         ],
         "xaxis": "x",
         "y": [
          -3521.25,
          -3521.25,
          -3627.8125,
          -3627.8125
         ],
         "yaxis": "y"
        },
        {
         "hoverinfo": "text",
         "marker": {
          "color": "rgb(0,116,217)"
         },
         "mode": "lines",
         "type": "scatter",
         "x": [
          4.592094983306805,
          6.291115106027945,
          6.291115106027945,
          4.796681280211592
         ],
         "xaxis": "x",
         "y": [
          -3354.375,
          -3354.375,
          -3574.53125,
          -3574.53125
         ],
         "yaxis": "y"
        },
        {
         "hoverinfo": "text",
         "marker": {
          "color": "rgb(0,116,217)"
         },
         "mode": "lines",
         "type": "scatter",
         "x": [
          6.0876322796519915,
          8.371873428100487,
          8.371873428100487,
          6.291115106027945
         ],
         "xaxis": "x",
         "y": [
          -2990.078125,
          -2990.078125,
          -3464.453125,
          -3464.453125
         ],
         "yaxis": "y"
        },
        {
         "hoverinfo": "text",
         "marker": {
          "color": "rgb(0,116,217)"
         },
         "mode": "lines",
         "type": "scatter",
         "x": [
          7.794939006446908,
          11.871123541879266,
          11.871123541879266,
          8.371873428100487
         ],
         "xaxis": "x",
         "y": [
          -2127.0068359375,
          -2127.0068359375,
          -3227.265625,
          -3227.265625
         ],
         "yaxis": "y"
        },
        {
         "hoverinfo": "text",
         "marker": {
          "color": "rgb(0,116,217)"
         },
         "mode": "lines",
         "type": "scatter",
         "x": [
          9.942333360899914,
          20.446445308133693,
          20.446445308133693,
          11.871123541879266
         ],
         "xaxis": "x",
         "y": [
          -1230.791015625,
          -1230.791015625,
          -2677.13623046875,
          -2677.13623046875
         ],
         "yaxis": "y"
        },
        {
         "hoverinfo": "text",
         "marker": {
          "color": "rgb(0,116,217)"
         },
         "mode": "lines",
         "type": "scatter",
         "x": [
          11.765229850831618,
          25.995533969902155,
          25.995533969902155,
          20.446445308133693
         ],
         "xaxis": "x",
         "y": [
          -370.3515625,
          -370.3515625,
          -1953.963623046875,
          -1953.963623046875
         ],
         "yaxis": "y"
        },
        {
         "hoverinfo": "text",
         "marker": {
          "color": "rgb(0,116,217)"
         },
         "mode": "lines",
         "type": "scatter",
         "x": [
          0,
          1.3266339167958425,
          1.3266339167958425,
          0
         ],
         "xaxis": "x",
         "y": [
          -3725,
          -3725,
          -3735,
          -3735
         ],
         "yaxis": "y"
        },
        {
         "hoverinfo": "text",
         "marker": {
          "color": "rgb(0,116,217)"
         },
         "mode": "lines",
         "type": "scatter",
         "x": [
          0,
          1.5358027085967842,
          1.5358027085967842,
          1.3266339167958425
         ],
         "xaxis": "x",
         "y": [
          -3715,
          -3715,
          -3730,
          -3730
         ],
         "yaxis": "y"
        },
        {
         "hoverinfo": "text",
         "marker": {
          "color": "rgb(0,116,217)"
         },
         "mode": "lines",
         "type": "scatter",
         "x": [
          0,
          1.4245222961653192,
          1.4245222961653192,
          0
         ],
         "xaxis": "x",
         "y": [
          -3745,
          -3745,
          -3755,
          -3755
         ],
         "yaxis": "y"
        },
        {
         "hoverinfo": "text",
         "marker": {
          "color": "rgb(0,116,217)"
         },
         "mode": "lines",
         "type": "scatter",
         "x": [
          0,
          1.5812976448495866,
          1.5812976448495866,
          0
         ],
         "xaxis": "x",
         "y": [
          -3765,
          -3765,
          -3775,
          -3775
         ],
         "yaxis": "y"
        },
        {
         "hoverinfo": "text",
         "marker": {
          "color": "rgb(0,116,217)"
         },
         "mode": "lines",
         "type": "scatter",
         "x": [
          1.4245222961653192,
          1.6610749737631219,
          1.6610749737631219,
          1.5812976448495866
         ],
         "xaxis": "x",
         "y": [
          -3750,
          -3750,
          -3770,
          -3770
         ],
         "yaxis": "y"
        },
        {
         "hoverinfo": "text",
         "marker": {
          "color": "rgb(0,116,217)"
         },
         "mode": "lines",
         "type": "scatter",
         "x": [
          0,
          1.1943819780158618,
          1.1943819780158618,
          0
         ],
         "xaxis": "x",
         "y": [
          -3795,
          -3795,
          -3805,
          -3805
         ],
         "yaxis": "y"
        },
        {
         "hoverinfo": "text",
         "marker": {
          "color": "rgb(0,116,217)"
         },
         "mode": "lines",
         "type": "scatter",
         "x": [
          0,
          1.7789447760377533,
          1.7789447760377533,
          1.1943819780158618
         ],
         "xaxis": "x",
         "y": [
          -3785,
          -3785,
          -3800,
          -3800
         ],
         "yaxis": "y"
        },
        {
         "hoverinfo": "text",
         "marker": {
          "color": "rgb(0,116,217)"
         },
         "mode": "lines",
         "type": "scatter",
         "x": [
          1.6610749737631219,
          2.158146130727005,
          2.158146130727005,
          1.7789447760377533
         ],
         "xaxis": "x",
         "y": [
          -3760,
          -3760,
          -3792.5,
          -3792.5
         ],
         "yaxis": "y"
        },
        {
         "hoverinfo": "text",
         "marker": {
          "color": "rgb(0,116,217)"
         },
         "mode": "lines",
         "type": "scatter",
         "x": [
          1.5358027085967842,
          2.995149511445489,
          2.995149511445489,
          2.158146130727005
         ],
         "xaxis": "x",
         "y": [
          -3722.5,
          -3722.5,
          -3776.25,
          -3776.25
         ],
         "yaxis": "y"
        },
        {
         "hoverinfo": "text",
         "marker": {
          "color": "rgb(0,116,217)"
         },
         "mode": "lines",
         "type": "scatter",
         "x": [
          0,
          1.280122920471661,
          1.280122920471661,
          0
         ],
         "xaxis": "x",
         "y": [
          -3815,
          -3815,
          -3825,
          -3825
         ],
         "yaxis": "y"
        },
        {
         "hoverinfo": "text",
         "marker": {
          "color": "rgb(0,116,217)"
         },
         "mode": "lines",
         "type": "scatter",
         "x": [
          0,
          1.6104510902197549,
          1.6104510902197549,
          0
         ],
         "xaxis": "x",
         "y": [
          -3835,
          -3835,
          -3845,
          -3845
         ],
         "yaxis": "y"
        },
        {
         "hoverinfo": "text",
         "marker": {
          "color": "rgb(0,116,217)"
         },
         "mode": "lines",
         "type": "scatter",
         "x": [
          1.280122920471661,
          2.0054496159176876,
          2.0054496159176876,
          1.6104510902197549
         ],
         "xaxis": "x",
         "y": [
          -3820,
          -3820,
          -3840,
          -3840
         ],
         "yaxis": "y"
        },
        {
         "hoverinfo": "text",
         "marker": {
          "color": "rgb(0,116,217)"
         },
         "mode": "lines",
         "type": "scatter",
         "x": [
          0,
          1.2120203705558281,
          1.2120203705558281,
          0
         ],
         "xaxis": "x",
         "y": [
          -3865,
          -3865,
          -3875,
          -3875
         ],
         "yaxis": "y"
        },
        {
         "hoverinfo": "text",
         "marker": {
          "color": "rgb(0,116,217)"
         },
         "mode": "lines",
         "type": "scatter",
         "x": [
          0,
          1.5204198953911652,
          1.5204198953911652,
          1.2120203705558281
         ],
         "xaxis": "x",
         "y": [
          -3855,
          -3855,
          -3870,
          -3870
         ],
         "yaxis": "y"
        },
        {
         "hoverinfo": "text",
         "marker": {
          "color": "rgb(0,116,217)"
         },
         "mode": "lines",
         "type": "scatter",
         "x": [
          0,
          1.4474883963975504,
          1.4474883963975504,
          0
         ],
         "xaxis": "x",
         "y": [
          -3895,
          -3895,
          -3905,
          -3905
         ],
         "yaxis": "y"
        },
        {
         "hoverinfo": "text",
         "marker": {
          "color": "rgb(0,116,217)"
         },
         "mode": "lines",
         "type": "scatter",
         "x": [
          0,
          1.537147583149006,
          1.537147583149006,
          1.4474883963975504
         ],
         "xaxis": "x",
         "y": [
          -3885,
          -3885,
          -3900,
          -3900
         ],
         "yaxis": "y"
        },
        {
         "hoverinfo": "text",
         "marker": {
          "color": "rgb(0,116,217)"
         },
         "mode": "lines",
         "type": "scatter",
         "x": [
          0,
          1.3463234617753548,
          1.3463234617753548,
          0
         ],
         "xaxis": "x",
         "y": [
          -3915,
          -3915,
          -3925,
          -3925
         ],
         "yaxis": "y"
        },
        {
         "hoverinfo": "text",
         "marker": {
          "color": "rgb(0,116,217)"
         },
         "mode": "lines",
         "type": "scatter",
         "x": [
          0,
          1.4639126162312817,
          1.4639126162312817,
          0
         ],
         "xaxis": "x",
         "y": [
          -3935,
          -3935,
          -3945,
          -3945
         ],
         "yaxis": "y"
        },
        {
         "hoverinfo": "text",
         "marker": {
          "color": "rgb(0,116,217)"
         },
         "mode": "lines",
         "type": "scatter",
         "x": [
          1.3463234617753548,
          2.063245690485381,
          2.063245690485381,
          1.4639126162312817
         ],
         "xaxis": "x",
         "y": [
          -3920,
          -3920,
          -3940,
          -3940
         ],
         "yaxis": "y"
        },
        {
         "hoverinfo": "text",
         "marker": {
          "color": "rgb(0,116,217)"
         },
         "mode": "lines",
         "type": "scatter",
         "x": [
          1.537147583149006,
          2.168655837368043,
          2.168655837368043,
          2.063245690485381
         ],
         "xaxis": "x",
         "y": [
          -3892.5,
          -3892.5,
          -3930,
          -3930
         ],
         "yaxis": "y"
        },
        {
         "hoverinfo": "text",
         "marker": {
          "color": "rgb(0,116,217)"
         },
         "mode": "lines",
         "type": "scatter",
         "x": [
          1.5204198953911652,
          2.6178360789937827,
          2.6178360789937827,
          2.168655837368043
         ],
         "xaxis": "x",
         "y": [
          -3862.5,
          -3862.5,
          -3911.25,
          -3911.25
         ],
         "yaxis": "y"
        },
        {
         "hoverinfo": "text",
         "marker": {
          "color": "rgb(0,116,217)"
         },
         "mode": "lines",
         "type": "scatter",
         "x": [
          2.0054496159176876,
          3.2519554303043234,
          3.2519554303043234,
          2.6178360789937827
         ],
         "xaxis": "x",
         "y": [
          -3830,
          -3830,
          -3886.875,
          -3886.875
         ],
         "yaxis": "y"
        },
        {
         "hoverinfo": "text",
         "marker": {
          "color": "rgb(0,116,217)"
         },
         "mode": "lines",
         "type": "scatter",
         "x": [
          2.995149511445489,
          3.7922029901775565,
          3.7922029901775565,
          3.2519554303043234
         ],
         "xaxis": "x",
         "y": [
          -3749.375,
          -3749.375,
          -3858.4375,
          -3858.4375
         ],
         "yaxis": "y"
        },
        {
         "hoverinfo": "text",
         "marker": {
          "color": "rgb(0,116,217)"
         },
         "mode": "lines",
         "type": "scatter",
         "x": [
          0,
          1.3760677065473998,
          1.3760677065473998,
          0
         ],
         "xaxis": "x",
         "y": [
          -3955,
          -3955,
          -3965,
          -3965
         ],
         "yaxis": "y"
        },
        {
         "hoverinfo": "text",
         "marker": {
          "color": "rgb(0,116,217)"
         },
         "mode": "lines",
         "type": "scatter",
         "x": [
          0,
          1.1604739579601204,
          1.1604739579601204,
          0
         ],
         "xaxis": "x",
         "y": [
          -3975,
          -3975,
          -3985,
          -3985
         ],
         "yaxis": "y"
        },
        {
         "hoverinfo": "text",
         "marker": {
          "color": "rgb(0,116,217)"
         },
         "mode": "lines",
         "type": "scatter",
         "x": [
          0,
          1.1788190975299713,
          1.1788190975299713,
          0
         ],
         "xaxis": "x",
         "y": [
          -3995,
          -3995,
          -4005,
          -4005
         ],
         "yaxis": "y"
        },
        {
         "hoverinfo": "text",
         "marker": {
          "color": "rgb(0,116,217)"
         },
         "mode": "lines",
         "type": "scatter",
         "x": [
          1.1604739579601204,
          1.993265970722132,
          1.993265970722132,
          1.1788190975299713
         ],
         "xaxis": "x",
         "y": [
          -3980,
          -3980,
          -4000,
          -4000
         ],
         "yaxis": "y"
        },
        {
         "hoverinfo": "text",
         "marker": {
          "color": "rgb(0,116,217)"
         },
         "mode": "lines",
         "type": "scatter",
         "x": [
          1.3760677065473998,
          2.228852563205372,
          2.228852563205372,
          1.993265970722132
         ],
         "xaxis": "x",
         "y": [
          -3960,
          -3960,
          -3990,
          -3990
         ],
         "yaxis": "y"
        },
        {
         "hoverinfo": "text",
         "marker": {
          "color": "rgb(0,116,217)"
         },
         "mode": "lines",
         "type": "scatter",
         "x": [
          0,
          1.373562643906096,
          1.373562643906096,
          0
         ],
         "xaxis": "x",
         "y": [
          -4025,
          -4025,
          -4035,
          -4035
         ],
         "yaxis": "y"
        },
        {
         "hoverinfo": "text",
         "marker": {
          "color": "rgb(0,116,217)"
         },
         "mode": "lines",
         "type": "scatter",
         "x": [
          0,
          1.556542805889944,
          1.556542805889944,
          0
         ],
         "xaxis": "x",
         "y": [
          -4055,
          -4055,
          -4065,
          -4065
         ],
         "yaxis": "y"
        },
        {
         "hoverinfo": "text",
         "marker": {
          "color": "rgb(0,116,217)"
         },
         "mode": "lines",
         "type": "scatter",
         "x": [
          0,
          1.6745614902385362,
          1.6745614902385362,
          1.556542805889944
         ],
         "xaxis": "x",
         "y": [
          -4045,
          -4045,
          -4060,
          -4060
         ],
         "yaxis": "y"
        },
        {
         "hoverinfo": "text",
         "marker": {
          "color": "rgb(0,116,217)"
         },
         "mode": "lines",
         "type": "scatter",
         "x": [
          1.373562643906096,
          1.7632021446684303,
          1.7632021446684303,
          1.6745614902385362
         ],
         "xaxis": "x",
         "y": [
          -4030,
          -4030,
          -4052.5,
          -4052.5
         ],
         "yaxis": "y"
        },
        {
         "hoverinfo": "text",
         "marker": {
          "color": "rgb(0,116,217)"
         },
         "mode": "lines",
         "type": "scatter",
         "x": [
          0,
          2.2776156051772842,
          2.2776156051772842,
          1.7632021446684303
         ],
         "xaxis": "x",
         "y": [
          -4015,
          -4015,
          -4041.25,
          -4041.25
         ],
         "yaxis": "y"
        },
        {
         "hoverinfo": "text",
         "marker": {
          "color": "rgb(0,116,217)"
         },
         "mode": "lines",
         "type": "scatter",
         "x": [
          2.228852563205372,
          2.767270999937421,
          2.767270999937421,
          2.2776156051772842
         ],
         "xaxis": "x",
         "y": [
          -3975,
          -3975,
          -4028.125,
          -4028.125
         ],
         "yaxis": "y"
        },
        {
         "hoverinfo": "text",
         "marker": {
          "color": "rgb(0,116,217)"
         },
         "mode": "lines",
         "type": "scatter",
         "x": [
          0,
          1.0739980145714896,
          1.0739980145714896,
          0
         ],
         "xaxis": "x",
         "y": [
          -4075,
          -4075,
          -4085,
          -4085
         ],
         "yaxis": "y"
        },
        {
         "hoverinfo": "text",
         "marker": {
          "color": "rgb(0,116,217)"
         },
         "mode": "lines",
         "type": "scatter",
         "x": [
          0,
          1.2332909994866552,
          1.2332909994866552,
          0
         ],
         "xaxis": "x",
         "y": [
          -4095,
          -4095,
          -4105,
          -4105
         ],
         "yaxis": "y"
        },
        {
         "hoverinfo": "text",
         "marker": {
          "color": "rgb(0,116,217)"
         },
         "mode": "lines",
         "type": "scatter",
         "x": [
          1.0739980145714896,
          1.6245724999768576,
          1.6245724999768576,
          1.2332909994866552
         ],
         "xaxis": "x",
         "y": [
          -4080,
          -4080,
          -4100,
          -4100
         ],
         "yaxis": "y"
        },
        {
         "hoverinfo": "text",
         "marker": {
          "color": "rgb(0,116,217)"
         },
         "mode": "lines",
         "type": "scatter",
         "x": [
          0,
          1.5347291864397157,
          1.5347291864397157,
          0
         ],
         "xaxis": "x",
         "y": [
          -4115,
          -4115,
          -4125,
          -4125
         ],
         "yaxis": "y"
        },
        {
         "hoverinfo": "text",
         "marker": {
          "color": "rgb(0,116,217)"
         },
         "mode": "lines",
         "type": "scatter",
         "x": [
          0,
          1.4894542422333563,
          1.4894542422333563,
          0
         ],
         "xaxis": "x",
         "y": [
          -4145,
          -4145,
          -4155,
          -4155
         ],
         "yaxis": "y"
        },
        {
         "hoverinfo": "text",
         "marker": {
          "color": "rgb(0,116,217)"
         },
         "mode": "lines",
         "type": "scatter",
         "x": [
          0,
          1.752152827511562,
          1.752152827511562,
          1.4894542422333563
         ],
         "xaxis": "x",
         "y": [
          -4135,
          -4135,
          -4150,
          -4150
         ],
         "yaxis": "y"
        },
        {
         "hoverinfo": "text",
         "marker": {
          "color": "rgb(0,116,217)"
         },
         "mode": "lines",
         "type": "scatter",
         "x": [
          1.5347291864397157,
          1.9026253110979903,
          1.9026253110979903,
          1.752152827511562
         ],
         "xaxis": "x",
         "y": [
          -4120,
          -4120,
          -4142.5,
          -4142.5
         ],
         "yaxis": "y"
        },
        {
         "hoverinfo": "text",
         "marker": {
          "color": "rgb(0,116,217)"
         },
         "mode": "lines",
         "type": "scatter",
         "x": [
          1.6245724999768576,
          2.143352264161299,
          2.143352264161299,
          1.9026253110979903
         ],
         "xaxis": "x",
         "y": [
          -4090,
          -4090,
          -4131.25,
          -4131.25
         ],
         "yaxis": "y"
        },
        {
         "hoverinfo": "text",
         "marker": {
          "color": "rgb(0,116,217)"
         },
         "mode": "lines",
         "type": "scatter",
         "x": [
          0,
          1.121518153172396,
          1.121518153172396,
          0
         ],
         "xaxis": "x",
         "y": [
          -4175,
          -4175,
          -4185,
          -4185
         ],
         "yaxis": "y"
        },
        {
         "hoverinfo": "text",
         "marker": {
          "color": "rgb(0,116,217)"
         },
         "mode": "lines",
         "type": "scatter",
         "x": [
          0,
          1.2618125153056698,
          1.2618125153056698,
          1.121518153172396
         ],
         "xaxis": "x",
         "y": [
          -4165,
          -4165,
          -4180,
          -4180
         ],
         "yaxis": "y"
        },
        {
         "hoverinfo": "text",
         "marker": {
          "color": "rgb(0,116,217)"
         },
         "mode": "lines",
         "type": "scatter",
         "x": [
          0,
          1.3936972312460763,
          1.3936972312460763,
          0
         ],
         "xaxis": "x",
         "y": [
          -4195,
          -4195,
          -4205,
          -4205
         ],
         "yaxis": "y"
        },
        {
         "hoverinfo": "text",
         "marker": {
          "color": "rgb(0,116,217)"
         },
         "mode": "lines",
         "type": "scatter",
         "x": [
          1.2618125153056698,
          2.3692873460341484,
          2.3692873460341484,
          1.3936972312460763
         ],
         "xaxis": "x",
         "y": [
          -4172.5,
          -4172.5,
          -4200,
          -4200
         ],
         "yaxis": "y"
        },
        {
         "hoverinfo": "text",
         "marker": {
          "color": "rgb(0,116,217)"
         },
         "mode": "lines",
         "type": "scatter",
         "x": [
          2.143352264161299,
          2.869716568272017,
          2.869716568272017,
          2.3692873460341484
         ],
         "xaxis": "x",
         "y": [
          -4110.625,
          -4110.625,
          -4186.25,
          -4186.25
         ],
         "yaxis": "y"
        },
        {
         "hoverinfo": "text",
         "marker": {
          "color": "rgb(0,116,217)"
         },
         "mode": "lines",
         "type": "scatter",
         "x": [
          2.767270999937421,
          3.899187249923676,
          3.899187249923676,
          2.869716568272017
         ],
         "xaxis": "x",
         "y": [
          -4001.5625,
          -4001.5625,
          -4148.4375,
          -4148.4375
         ],
         "yaxis": "y"
        },
        {
         "hoverinfo": "text",
         "marker": {
          "color": "rgb(0,116,217)"
         },
         "mode": "lines",
         "type": "scatter",
         "x": [
          0,
          1.4991244896831832,
          1.4991244896831832,
          0
         ],
         "xaxis": "x",
         "y": [
          -4225,
          -4225,
          -4235,
          -4235
         ],
         "yaxis": "y"
        },
        {
         "hoverinfo": "text",
         "marker": {
          "color": "rgb(0,116,217)"
         },
         "mode": "lines",
         "type": "scatter",
         "x": [
          0,
          1.7941952285133007,
          1.7941952285133007,
          1.4991244896831832
         ],
         "xaxis": "x",
         "y": [
          -4215,
          -4215,
          -4230,
          -4230
         ],
         "yaxis": "y"
        },
        {
         "hoverinfo": "text",
         "marker": {
          "color": "rgb(133,20,75)"
         },
         "mode": "lines",
         "type": "scatter",
         "x": [
          0,
          0.9373214146386676,
          0.9373214146386676,
          0
         ],
         "xaxis": "x",
         "y": [
          -4245,
          -4245,
          -4255,
          -4255
         ],
         "yaxis": "y"
        },
        {
         "hoverinfo": "text",
         "marker": {
          "color": "rgb(0,116,217)"
         },
         "mode": "lines",
         "type": "scatter",
         "x": [
          0,
          1.210189731328635,
          1.210189731328635,
          0
         ],
         "xaxis": "x",
         "y": [
          -4265,
          -4265,
          -4275,
          -4275
         ],
         "yaxis": "y"
        },
        {
         "hoverinfo": "text",
         "marker": {
          "color": "rgb(0,116,217)"
         },
         "mode": "lines",
         "type": "scatter",
         "x": [
          0.9373214146386676,
          1.9256305664983686,
          1.9256305664983686,
          1.210189731328635
         ],
         "xaxis": "x",
         "y": [
          -4250,
          -4250,
          -4270,
          -4270
         ],
         "yaxis": "y"
        },
        {
         "hoverinfo": "text",
         "marker": {
          "color": "rgb(0,116,217)"
         },
         "mode": "lines",
         "type": "scatter",
         "x": [
          1.7941952285133007,
          2.861824019747292,
          2.861824019747292,
          1.9256305664983686
         ],
         "xaxis": "x",
         "y": [
          -4222.5,
          -4222.5,
          -4260,
          -4260
         ],
         "yaxis": "y"
        },
        {
         "hoverinfo": "text",
         "marker": {
          "color": "rgb(0,116,217)"
         },
         "mode": "lines",
         "type": "scatter",
         "x": [
          0,
          1.236592565599014,
          1.236592565599014,
          0
         ],
         "xaxis": "x",
         "y": [
          -4285,
          -4285,
          -4295,
          -4295
         ],
         "yaxis": "y"
        },
        {
         "hoverinfo": "text",
         "marker": {
          "color": "rgb(0,116,217)"
         },
         "mode": "lines",
         "type": "scatter",
         "x": [
          0,
          1.2473440457664768,
          1.2473440457664768,
          0
         ],
         "xaxis": "x",
         "y": [
          -4305,
          -4305,
          -4315,
          -4315
         ],
         "yaxis": "y"
        },
        {
         "hoverinfo": "text",
         "marker": {
          "color": "rgb(0,116,217)"
         },
         "mode": "lines",
         "type": "scatter",
         "x": [
          1.236592565599014,
          1.66081251385463,
          1.66081251385463,
          1.2473440457664768
         ],
         "xaxis": "x",
         "y": [
          -4290,
          -4290,
          -4310,
          -4310
         ],
         "yaxis": "y"
        },
        {
         "hoverinfo": "text",
         "marker": {
          "color": "rgb(0,116,217)"
         },
         "mode": "lines",
         "type": "scatter",
         "x": [
          0,
          1.505089381605259,
          1.505089381605259,
          0
         ],
         "xaxis": "x",
         "y": [
          -4335,
          -4335,
          -4345,
          -4345
         ],
         "yaxis": "y"
        },
        {
         "hoverinfo": "text",
         "marker": {
          "color": "rgb(0,116,217)"
         },
         "mode": "lines",
         "type": "scatter",
         "x": [
          0,
          1.8296489611048916,
          1.8296489611048916,
          1.505089381605259
         ],
         "xaxis": "x",
         "y": [
          -4325,
          -4325,
          -4340,
          -4340
         ],
         "yaxis": "y"
        },
        {
         "hoverinfo": "text",
         "marker": {
          "color": "rgb(0,116,217)"
         },
         "mode": "lines",
         "type": "scatter",
         "x": [
          0,
          1.6904355838822367,
          1.6904355838822367,
          0
         ],
         "xaxis": "x",
         "y": [
          -4355,
          -4355,
          -4365,
          -4365
         ],
         "yaxis": "y"
        },
        {
         "hoverinfo": "text",
         "marker": {
          "color": "rgb(0,116,217)"
         },
         "mode": "lines",
         "type": "scatter",
         "x": [
          0,
          1.6931362636277125,
          1.6931362636277125,
          0
         ],
         "xaxis": "x",
         "y": [
          -4375,
          -4375,
          -4385,
          -4385
         ],
         "yaxis": "y"
        },
        {
         "hoverinfo": "text",
         "marker": {
          "color": "rgb(0,116,217)"
         },
         "mode": "lines",
         "type": "scatter",
         "x": [
          1.6904355838822367,
          1.9801861804083432,
          1.9801861804083432,
          1.6931362636277125
         ],
         "xaxis": "x",
         "y": [
          -4360,
          -4360,
          -4380,
          -4380
         ],
         "yaxis": "y"
        },
        {
         "hoverinfo": "text",
         "marker": {
          "color": "rgb(0,116,217)"
         },
         "mode": "lines",
         "type": "scatter",
         "x": [
          1.8296489611048916,
          2.364464915322358,
          2.364464915322358,
          1.9801861804083432
         ],
         "xaxis": "x",
         "y": [
          -4332.5,
          -4332.5,
          -4370,
          -4370
         ],
         "yaxis": "y"
        },
        {
         "hoverinfo": "text",
         "marker": {
          "color": "rgb(0,116,217)"
         },
         "mode": "lines",
         "type": "scatter",
         "x": [
          0,
          1.153160136168678,
          1.153160136168678,
          0
         ],
         "xaxis": "x",
         "y": [
          -4395,
          -4395,
          -4405,
          -4405
         ],
         "yaxis": "y"
        },
        {
         "hoverinfo": "text",
         "marker": {
          "color": "rgb(0,116,217)"
         },
         "mode": "lines",
         "type": "scatter",
         "x": [
          0,
          1.4196483508325761,
          1.4196483508325761,
          0
         ],
         "xaxis": "x",
         "y": [
          -4415,
          -4415,
          -4425,
          -4425
         ],
         "yaxis": "y"
        },
        {
         "hoverinfo": "text",
         "marker": {
          "color": "rgb(0,116,217)"
         },
         "mode": "lines",
         "type": "scatter",
         "x": [
          1.153160136168678,
          1.733201901500647,
          1.733201901500647,
          1.4196483508325761
         ],
         "xaxis": "x",
         "y": [
          -4400,
          -4400,
          -4420,
          -4420
         ],
         "yaxis": "y"
        },
        {
         "hoverinfo": "text",
         "marker": {
          "color": "rgb(0,116,217)"
         },
         "mode": "lines",
         "type": "scatter",
         "x": [
          0,
          1.2664377371842794,
          1.2664377371842794,
          0
         ],
         "xaxis": "x",
         "y": [
          -4435,
          -4435,
          -4445,
          -4445
         ],
         "yaxis": "y"
        },
        {
         "hoverinfo": "text",
         "marker": {
          "color": "rgb(0,116,217)"
         },
         "mode": "lines",
         "type": "scatter",
         "x": [
          0,
          1.5372164052345514,
          1.5372164052345514,
          0
         ],
         "xaxis": "x",
         "y": [
          -4455,
          -4455,
          -4465,
          -4465
         ],
         "yaxis": "y"
        },
        {
         "hoverinfo": "text",
         "marker": {
          "color": "rgb(0,116,217)"
         },
         "mode": "lines",
         "type": "scatter",
         "x": [
          1.2664377371842794,
          2.0915534474124877,
          2.0915534474124877,
          1.5372164052345514
         ],
         "xaxis": "x",
         "y": [
          -4440,
          -4440,
          -4460,
          -4460
         ],
         "yaxis": "y"
        },
        {
         "hoverinfo": "text",
         "marker": {
          "color": "rgb(0,116,217)"
         },
         "mode": "lines",
         "type": "scatter",
         "x": [
          1.733201901500647,
          2.7539786176225447,
          2.7539786176225447,
          2.0915534474124877
         ],
         "xaxis": "x",
         "y": [
          -4410,
          -4410,
          -4450,
          -4450
         ],
         "yaxis": "y"
        },
        {
         "hoverinfo": "text",
         "marker": {
          "color": "rgb(0,116,217)"
         },
         "mode": "lines",
         "type": "scatter",
         "x": [
          2.364464915322358,
          3.0712690452300606,
          3.0712690452300606,
          2.7539786176225447
         ],
         "xaxis": "x",
         "y": [
          -4351.25,
          -4351.25,
          -4430,
          -4430
         ],
         "yaxis": "y"
        },
        {
         "hoverinfo": "text",
         "marker": {
          "color": "rgb(0,116,217)"
         },
         "mode": "lines",
         "type": "scatter",
         "x": [
          1.66081251385463,
          3.3783139504188244,
          3.3783139504188244,
          3.0712690452300606
         ],
         "xaxis": "x",
         "y": [
          -4300,
          -4300,
          -4390.625,
          -4390.625
         ],
         "yaxis": "y"
        },
        {
         "hoverinfo": "text",
         "marker": {
          "color": "rgb(0,116,217)"
         },
         "mode": "lines",
         "type": "scatter",
         "x": [
          2.861824019747292,
          4.214335522427779,
          4.214335522427779,
          3.3783139504188244
         ],
         "xaxis": "x",
         "y": [
          -4241.25,
          -4241.25,
          -4345.3125,
          -4345.3125
         ],
         "yaxis": "y"
        },
        {
         "hoverinfo": "text",
         "marker": {
          "color": "rgb(0,116,217)"
         },
         "mode": "lines",
         "type": "scatter",
         "x": [
          0,
          1.293121632762415,
          1.293121632762415,
          0
         ],
         "xaxis": "x",
         "y": [
          -4475,
          -4475,
          -4485,
          -4485
         ],
         "yaxis": "y"
        },
        {
         "hoverinfo": "text",
         "marker": {
          "color": "rgb(0,116,217)"
         },
         "mode": "lines",
         "type": "scatter",
         "x": [
          0,
          1.6271073977717727,
          1.6271073977717727,
          0
         ],
         "xaxis": "x",
         "y": [
          -4505,
          -4505,
          -4515,
          -4515
         ],
         "yaxis": "y"
        },
        {
         "hoverinfo": "text",
         "marker": {
          "color": "rgb(0,116,217)"
         },
         "mode": "lines",
         "type": "scatter",
         "x": [
          0,
          1.7655197474922757,
          1.7655197474922757,
          1.6271073977717727
         ],
         "xaxis": "x",
         "y": [
          -4495,
          -4495,
          -4510,
          -4510
         ],
         "yaxis": "y"
        },
        {
         "hoverinfo": "text",
         "marker": {
          "color": "rgb(0,116,217)"
         },
         "mode": "lines",
         "type": "scatter",
         "x": [
          1.293121632762415,
          2.1498894413002607,
          2.1498894413002607,
          1.7655197474922757
         ],
         "xaxis": "x",
         "y": [
          -4480,
          -4480,
          -4502.5,
          -4502.5
         ],
         "yaxis": "y"
        },
        {
         "hoverinfo": "text",
         "marker": {
          "color": "rgb(0,116,217)"
         },
         "mode": "lines",
         "type": "scatter",
         "x": [
          0,
          1.3865117134358995,
          1.3865117134358995,
          0
         ],
         "xaxis": "x",
         "y": [
          -4535,
          -4535,
          -4545,
          -4545
         ],
         "yaxis": "y"
        },
        {
         "hoverinfo": "text",
         "marker": {
          "color": "rgb(0,116,217)"
         },
         "mode": "lines",
         "type": "scatter",
         "x": [
          0,
          1.6709305748914327,
          1.6709305748914327,
          1.3865117134358995
         ],
         "xaxis": "x",
         "y": [
          -4525,
          -4525,
          -4540,
          -4540
         ],
         "yaxis": "y"
        },
        {
         "hoverinfo": "text",
         "marker": {
          "color": "rgb(0,116,217)"
         },
         "mode": "lines",
         "type": "scatter",
         "x": [
          0,
          1.3407328272024173,
          1.3407328272024173,
          0
         ],
         "xaxis": "x",
         "y": [
          -4555,
          -4555,
          -4565,
          -4565
         ],
         "yaxis": "y"
        },
        {
         "hoverinfo": "text",
         "marker": {
          "color": "rgb(0,116,217)"
         },
         "mode": "lines",
         "type": "scatter",
         "x": [
          0,
          1.6994699574872454,
          1.6994699574872454,
          0
         ],
         "xaxis": "x",
         "y": [
          -4575,
          -4575,
          -4585,
          -4585
         ],
         "yaxis": "y"
        },
        {
         "hoverinfo": "text",
         "marker": {
          "color": "rgb(0,116,217)"
         },
         "mode": "lines",
         "type": "scatter",
         "x": [
          1.3407328272024173,
          2.0944305095883964,
          2.0944305095883964,
          1.6994699574872454
         ],
         "xaxis": "x",
         "y": [
          -4560,
          -4560,
          -4580,
          -4580
         ],
         "yaxis": "y"
        },
        {
         "hoverinfo": "text",
         "marker": {
          "color": "rgb(0,116,217)"
         },
         "mode": "lines",
         "type": "scatter",
         "x": [
          1.6709305748914327,
          2.243231227744974,
          2.243231227744974,
          2.0944305095883964
         ],
         "xaxis": "x",
         "y": [
          -4532.5,
          -4532.5,
          -4570,
          -4570
         ],
         "yaxis": "y"
        },
        {
         "hoverinfo": "text",
         "marker": {
          "color": "rgb(0,116,217)"
         },
         "mode": "lines",
         "type": "scatter",
         "x": [
          0,
          1.6017493438924997,
          1.6017493438924997,
          0
         ],
         "xaxis": "x",
         "y": [
          -4595,
          -4595,
          -4605,
          -4605
         ],
         "yaxis": "y"
        },
        {
         "hoverinfo": "text",
         "marker": {
          "color": "rgb(0,116,217)"
         },
         "mode": "lines",
         "type": "scatter",
         "x": [
          0,
          1.5850080530461923,
          1.5850080530461923,
          0
         ],
         "xaxis": "x",
         "y": [
          -4615,
          -4615,
          -4625,
          -4625
         ],
         "yaxis": "y"
        },
        {
         "hoverinfo": "text",
         "marker": {
          "color": "rgb(0,116,217)"
         },
         "mode": "lines",
         "type": "scatter",
         "x": [
          0,
          1.3618768223030915,
          1.3618768223030915,
          0
         ],
         "xaxis": "x",
         "y": [
          -4645,
          -4645,
          -4655,
          -4655
         ],
         "yaxis": "y"
        },
        {
         "hoverinfo": "text",
         "marker": {
          "color": "rgb(0,116,217)"
         },
         "mode": "lines",
         "type": "scatter",
         "x": [
          0,
          1.6695141976901535,
          1.6695141976901535,
          1.3618768223030915
         ],
         "xaxis": "x",
         "y": [
          -4635,
          -4635,
          -4650,
          -4650
         ],
         "yaxis": "y"
        },
        {
         "hoverinfo": "text",
         "marker": {
          "color": "rgb(0,116,217)"
         },
         "mode": "lines",
         "type": "scatter",
         "x": [
          1.5850080530461923,
          1.883146543289205,
          1.883146543289205,
          1.6695141976901535
         ],
         "xaxis": "x",
         "y": [
          -4620,
          -4620,
          -4642.5,
          -4642.5
         ],
         "yaxis": "y"
        },
        {
         "hoverinfo": "text",
         "marker": {
          "color": "rgb(0,116,217)"
         },
         "mode": "lines",
         "type": "scatter",
         "x": [
          1.6017493438924997,
          2.432664711744564,
          2.432664711744564,
          1.883146543289205
         ],
         "xaxis": "x",
         "y": [
          -4600,
          -4600,
          -4631.25,
          -4631.25
         ],
         "yaxis": "y"
        },
        {
         "hoverinfo": "text",
         "marker": {
          "color": "rgb(0,116,217)"
         },
         "mode": "lines",
         "type": "scatter",
         "x": [
          0,
          1.357767156816421,
          1.357767156816421,
          0
         ],
         "xaxis": "x",
         "y": [
          -4675,
          -4675,
          -4685,
          -4685
         ],
         "yaxis": "y"
        },
        {
         "hoverinfo": "text",
         "marker": {
          "color": "rgb(0,116,217)"
         },
         "mode": "lines",
         "type": "scatter",
         "x": [
          0,
          1.7837788070979776,
          1.7837788070979776,
          1.357767156816421
         ],
         "xaxis": "x",
         "y": [
          -4665,
          -4665,
          -4680,
          -4680
         ],
         "yaxis": "y"
        },
        {
         "hoverinfo": "text",
         "marker": {
          "color": "rgb(0,116,217)"
         },
         "mode": "lines",
         "type": "scatter",
         "x": [
          0,
          1.1705258872990214,
          1.1705258872990214,
          0
         ],
         "xaxis": "x",
         "y": [
          -4725,
          -4725,
          -4735,
          -4735
         ],
         "yaxis": "y"
        },
        {
         "hoverinfo": "text",
         "marker": {
          "color": "rgb(0,116,217)"
         },
         "mode": "lines",
         "type": "scatter",
         "x": [
          0,
          1.358403934777778,
          1.358403934777778,
          1.1705258872990214
         ],
         "xaxis": "x",
         "y": [
          -4715,
          -4715,
          -4730,
          -4730
         ],
         "yaxis": "y"
        },
        {
         "hoverinfo": "text",
         "marker": {
          "color": "rgb(0,116,217)"
         },
         "mode": "lines",
         "type": "scatter",
         "x": [
          0,
          1.5318441511117,
          1.5318441511117,
          1.358403934777778
         ],
         "xaxis": "x",
         "y": [
          -4705,
          -4705,
          -4722.5,
          -4722.5
         ],
         "yaxis": "y"
        },
        {
         "hoverinfo": "text",
         "marker": {
          "color": "rgb(0,116,217)"
         },
         "mode": "lines",
         "type": "scatter",
         "x": [
          0,
          2.17322561387755,
          2.17322561387755,
          1.5318441511117
         ],
         "xaxis": "x",
         "y": [
          -4695,
          -4695,
          -4713.75,
          -4713.75
         ],
         "yaxis": "y"
        },
        {
         "hoverinfo": "text",
         "marker": {
          "color": "rgb(0,116,217)"
         },
         "mode": "lines",
         "type": "scatter",
         "x": [
          1.7837788070979776,
          2.4546457812211027,
          2.4546457812211027,
          2.17322561387755
         ],
         "xaxis": "x",
         "y": [
          -4672.5,
          -4672.5,
          -4704.375,
          -4704.375
         ],
         "yaxis": "y"
        },
        {
         "hoverinfo": "text",
         "marker": {
          "color": "rgb(0,116,217)"
         },
         "mode": "lines",
         "type": "scatter",
         "x": [
          2.432664711744564,
          2.994469388165372,
          2.994469388165372,
          2.4546457812211027
         ],
         "xaxis": "x",
         "y": [
          -4615.625,
          -4615.625,
          -4688.4375,
          -4688.4375
         ],
         "yaxis": "y"
        },
        {
         "hoverinfo": "text",
         "marker": {
          "color": "rgb(0,116,217)"
         },
         "mode": "lines",
         "type": "scatter",
         "x": [
          2.243231227744974,
          4.225829263478801,
          4.225829263478801,
          2.994469388165372
         ],
         "xaxis": "x",
         "y": [
          -4551.25,
          -4551.25,
          -4652.03125,
          -4652.03125
         ],
         "yaxis": "y"
        },
        {
         "hoverinfo": "text",
         "marker": {
          "color": "rgb(0,116,217)"
         },
         "mode": "lines",
         "type": "scatter",
         "x": [
          2.1498894413002607,
          4.531756864956056,
          4.531756864956056,
          4.225829263478801
         ],
         "xaxis": "x",
         "y": [
          -4491.25,
          -4491.25,
          -4601.640625,
          -4601.640625
         ],
         "yaxis": "y"
        },
        {
         "hoverinfo": "text",
         "marker": {
          "color": "rgb(0,116,217)"
         },
         "mode": "lines",
         "type": "scatter",
         "x": [
          4.214335522427779,
          5.298727479863523,
          5.298727479863523,
          4.531756864956056
         ],
         "xaxis": "x",
         "y": [
          -4293.28125,
          -4293.28125,
          -4546.4453125,
          -4546.4453125
         ],
         "yaxis": "y"
        },
        {
         "hoverinfo": "text",
         "marker": {
          "color": "rgb(0,116,217)"
         },
         "mode": "lines",
         "type": "scatter",
         "x": [
          3.899187249923676,
          6.132548547510324,
          6.132548547510324,
          5.298727479863523
         ],
         "xaxis": "x",
         "y": [
          -4075,
          -4075,
          -4419.86328125,
          -4419.86328125
         ],
         "yaxis": "y"
        },
        {
         "hoverinfo": "text",
         "marker": {
          "color": "rgb(0,116,217)"
         },
         "mode": "lines",
         "type": "scatter",
         "x": [
          3.7922029901775565,
          7.979235372584881,
          7.979235372584881,
          6.132548547510324
         ],
         "xaxis": "x",
         "y": [
          -3803.90625,
          -3803.90625,
          -4247.431640625,
          -4247.431640625
         ],
         "yaxis": "y"
        },
        {
         "hoverinfo": "text",
         "marker": {
          "color": "rgb(0,116,217)"
         },
         "mode": "lines",
         "type": "scatter",
         "x": [
          0,
          1.062988764829662,
          1.062988764829662,
          0
         ],
         "xaxis": "x",
         "y": [
          -4745,
          -4745,
          -4755,
          -4755
         ],
         "yaxis": "y"
        },
        {
         "hoverinfo": "text",
         "marker": {
          "color": "rgb(255,220,0)"
         },
         "mode": "lines",
         "type": "scatter",
         "x": [
          0,
          0.9852526901091863,
          0.9852526901091863,
          0
         ],
         "xaxis": "x",
         "y": [
          -4775,
          -4775,
          -4785,
          -4785
         ],
         "yaxis": "y"
        },
        {
         "hoverinfo": "text",
         "marker": {
          "color": "rgb(0,116,217)"
         },
         "mode": "lines",
         "type": "scatter",
         "x": [
          0,
          1.205358230452392,
          1.205358230452392,
          0.9852526901091863
         ],
         "xaxis": "x",
         "y": [
          -4765,
          -4765,
          -4780,
          -4780
         ],
         "yaxis": "y"
        },
        {
         "hoverinfo": "text",
         "marker": {
          "color": "rgb(0,116,217)"
         },
         "mode": "lines",
         "type": "scatter",
         "x": [
          1.062988764829662,
          1.8122909165393184,
          1.8122909165393184,
          1.205358230452392
         ],
         "xaxis": "x",
         "y": [
          -4750,
          -4750,
          -4772.5,
          -4772.5
         ],
         "yaxis": "y"
        },
        {
         "hoverinfo": "text",
         "marker": {
          "color": "rgb(0,116,217)"
         },
         "mode": "lines",
         "type": "scatter",
         "x": [
          0,
          1.273016843459875,
          1.273016843459875,
          0
         ],
         "xaxis": "x",
         "y": [
          -4805,
          -4805,
          -4815,
          -4815
         ],
         "yaxis": "y"
        },
        {
         "hoverinfo": "text",
         "marker": {
          "color": "rgb(0,116,217)"
         },
         "mode": "lines",
         "type": "scatter",
         "x": [
          0,
          1.424637673968222,
          1.424637673968222,
          1.273016843459875
         ],
         "xaxis": "x",
         "y": [
          -4795,
          -4795,
          -4810,
          -4810
         ],
         "yaxis": "y"
        },
        {
         "hoverinfo": "text",
         "marker": {
          "color": "rgb(0,116,217)"
         },
         "mode": "lines",
         "type": "scatter",
         "x": [
          0,
          1.183309693782613,
          1.183309693782613,
          0
         ],
         "xaxis": "x",
         "y": [
          -4845,
          -4845,
          -4855,
          -4855
         ],
         "yaxis": "y"
        },
        {
         "hoverinfo": "text",
         "marker": {
          "color": "rgb(0,116,217)"
         },
         "mode": "lines",
         "type": "scatter",
         "x": [
          0,
          1.2819941450325036,
          1.2819941450325036,
          1.183309693782613
         ],
         "xaxis": "x",
         "y": [
          -4835,
          -4835,
          -4850,
          -4850
         ],
         "yaxis": "y"
        },
        {
         "hoverinfo": "text",
         "marker": {
          "color": "rgb(0,116,217)"
         },
         "mode": "lines",
         "type": "scatter",
         "x": [
          0,
          1.604977513190684,
          1.604977513190684,
          1.2819941450325036
         ],
         "xaxis": "x",
         "y": [
          -4825,
          -4825,
          -4842.5,
          -4842.5
         ],
         "yaxis": "y"
        },
        {
         "hoverinfo": "text",
         "marker": {
          "color": "rgb(0,116,217)"
         },
         "mode": "lines",
         "type": "scatter",
         "x": [
          1.424637673968222,
          1.9601500166246142,
          1.9601500166246142,
          1.604977513190684
         ],
         "xaxis": "x",
         "y": [
          -4802.5,
          -4802.5,
          -4833.75,
          -4833.75
         ],
         "yaxis": "y"
        },
        {
         "hoverinfo": "text",
         "marker": {
          "color": "rgb(0,116,217)"
         },
         "mode": "lines",
         "type": "scatter",
         "x": [
          1.8122909165393184,
          2.806522783814377,
          2.806522783814377,
          1.9601500166246142
         ],
         "xaxis": "x",
         "y": [
          -4761.25,
          -4761.25,
          -4818.125,
          -4818.125
         ],
         "yaxis": "y"
        },
        {
         "hoverinfo": "text",
         "marker": {
          "color": "rgb(40,35,35)"
         },
         "mode": "lines",
         "type": "scatter",
         "x": [
          0,
          0.8439325127814267,
          0.8439325127814267,
          0
         ],
         "xaxis": "x",
         "y": [
          -4865,
          -4865,
          -4875,
          -4875
         ],
         "yaxis": "y"
        },
        {
         "hoverinfo": "text",
         "marker": {
          "color": "rgb(0,116,217)"
         },
         "mode": "lines",
         "type": "scatter",
         "x": [
          0,
          1.1350993505895706,
          1.1350993505895706,
          0
         ],
         "xaxis": "x",
         "y": [
          -4895,
          -4895,
          -4905,
          -4905
         ],
         "yaxis": "y"
        },
        {
         "hoverinfo": "text",
         "marker": {
          "color": "rgb(0,116,217)"
         },
         "mode": "lines",
         "type": "scatter",
         "x": [
          0,
          1.2685808587919278,
          1.2685808587919278,
          1.1350993505895706
         ],
         "xaxis": "x",
         "y": [
          -4885,
          -4885,
          -4900,
          -4900
         ],
         "yaxis": "y"
        },
        {
         "hoverinfo": "text",
         "marker": {
          "color": "rgb(0,116,217)"
         },
         "mode": "lines",
         "type": "scatter",
         "x": [
          0,
          1.3653587109254663,
          1.3653587109254663,
          0
         ],
         "xaxis": "x",
         "y": [
          -4915,
          -4915,
          -4925,
          -4925
         ],
         "yaxis": "y"
        },
        {
         "hoverinfo": "text",
         "marker": {
          "color": "rgb(0,116,217)"
         },
         "mode": "lines",
         "type": "scatter",
         "x": [
          1.2685808587919278,
          1.6747974936554264,
          1.6747974936554264,
          1.3653587109254663
         ],
         "xaxis": "x",
         "y": [
          -4892.5,
          -4892.5,
          -4920,
          -4920
         ],
         "yaxis": "y"
        },
        {
         "hoverinfo": "text",
         "marker": {
          "color": "rgb(0,116,217)"
         },
         "mode": "lines",
         "type": "scatter",
         "x": [
          0.8439325127814267,
          2.027305744361472,
          2.027305744361472,
          1.6747974936554264
         ],
         "xaxis": "x",
         "y": [
          -4870,
          -4870,
          -4906.25,
          -4906.25
         ],
         "yaxis": "y"
        },
        {
         "hoverinfo": "text",
         "marker": {
          "color": "rgb(61,153,112)"
         },
         "mode": "lines",
         "type": "scatter",
         "x": [
          0,
          0.950681205726281,
          0.950681205726281,
          0
         ],
         "xaxis": "x",
         "y": [
          -4935,
          -4935,
          -4945,
          -4945
         ],
         "yaxis": "y"
        },
        {
         "hoverinfo": "text",
         "marker": {
          "color": "rgb(0,116,217)"
         },
         "mode": "lines",
         "type": "scatter",
         "x": [
          0,
          1.2285801237055851,
          1.2285801237055851,
          0
         ],
         "xaxis": "x",
         "y": [
          -4955,
          -4955,
          -4965,
          -4965
         ],
         "yaxis": "y"
        },
        {
         "hoverinfo": "text",
         "marker": {
          "color": "rgb(0,116,217)"
         },
         "mode": "lines",
         "type": "scatter",
         "x": [
          0.950681205726281,
          1.7591676530724478,
          1.7591676530724478,
          1.2285801237055851
         ],
         "xaxis": "x",
         "y": [
          -4940,
          -4940,
          -4960,
          -4960
         ],
         "yaxis": "y"
        },
        {
         "hoverinfo": "text",
         "marker": {
          "color": "rgb(0,116,217)"
         },
         "mode": "lines",
         "type": "scatter",
         "x": [
          0,
          1.2949101655750708,
          1.2949101655750708,
          0
         ],
         "xaxis": "x",
         "y": [
          -4975,
          -4975,
          -4985,
          -4985
         ],
         "yaxis": "y"
        },
        {
         "hoverinfo": "text",
         "marker": {
          "color": "rgb(0,116,217)"
         },
         "mode": "lines",
         "type": "scatter",
         "x": [
          0,
          1.3881470740772603,
          1.3881470740772603,
          0
         ],
         "xaxis": "x",
         "y": [
          -4995,
          -4995,
          -5005,
          -5005
         ],
         "yaxis": "y"
        },
        {
         "hoverinfo": "text",
         "marker": {
          "color": "rgb(0,116,217)"
         },
         "mode": "lines",
         "type": "scatter",
         "x": [
          1.2949101655750708,
          1.916214519416514,
          1.916214519416514,
          1.3881470740772603
         ],
         "xaxis": "x",
         "y": [
          -4980,
          -4980,
          -5000,
          -5000
         ],
         "yaxis": "y"
        },
        {
         "hoverinfo": "text",
         "marker": {
          "color": "rgb(0,116,217)"
         },
         "mode": "lines",
         "type": "scatter",
         "x": [
          1.7591676530724478,
          2.207929520086891,
          2.207929520086891,
          1.916214519416514
         ],
         "xaxis": "x",
         "y": [
          -4950,
          -4950,
          -4990,
          -4990
         ],
         "yaxis": "y"
        },
        {
         "hoverinfo": "text",
         "marker": {
          "color": "rgb(0,116,217)"
         },
         "mode": "lines",
         "type": "scatter",
         "x": [
          2.027305744361472,
          3.195249445995882,
          3.195249445995882,
          2.207929520086891
         ],
         "xaxis": "x",
         "y": [
          -4888.125,
          -4888.125,
          -4970,
          -4970
         ],
         "yaxis": "y"
        },
        {
         "hoverinfo": "text",
         "marker": {
          "color": "rgb(0,116,217)"
         },
         "mode": "lines",
         "type": "scatter",
         "x": [
          2.806522783814377,
          3.4090462053837314,
          3.4090462053837314,
          3.195249445995882
         ],
         "xaxis": "x",
         "y": [
          -4789.6875,
          -4789.6875,
          -4929.0625,
          -4929.0625
         ],
         "yaxis": "y"
        },
        {
         "hoverinfo": "text",
         "marker": {
          "color": "rgb(0,116,217)"
         },
         "mode": "lines",
         "type": "scatter",
         "x": [
          0,
          1.2804882029043998,
          1.2804882029043998,
          0
         ],
         "xaxis": "x",
         "y": [
          -5015,
          -5015,
          -5025,
          -5025
         ],
         "yaxis": "y"
        },
        {
         "hoverinfo": "text",
         "marker": {
          "color": "rgb(255,65,54)"
         },
         "mode": "lines",
         "type": "scatter",
         "x": [
          0,
          0.7711551035857613,
          0.7711551035857613,
          0
         ],
         "xaxis": "x",
         "y": [
          -5035,
          -5035,
          -5045,
          -5045
         ],
         "yaxis": "y"
        },
        {
         "hoverinfo": "text",
         "marker": {
          "color": "rgb(0,116,217)"
         },
         "mode": "lines",
         "type": "scatter",
         "x": [
          0,
          1.05430913961716,
          1.05430913961716,
          0
         ],
         "xaxis": "x",
         "y": [
          -5055,
          -5055,
          -5065,
          -5065
         ],
         "yaxis": "y"
        },
        {
         "hoverinfo": "text",
         "marker": {
          "color": "rgb(0,116,217)"
         },
         "mode": "lines",
         "type": "scatter",
         "x": [
          0.7711551035857613,
          1.4503280259502447,
          1.4503280259502447,
          1.05430913961716
         ],
         "xaxis": "x",
         "y": [
          -5040,
          -5040,
          -5060,
          -5060
         ],
         "yaxis": "y"
        },
        {
         "hoverinfo": "text",
         "marker": {
          "color": "rgb(0,116,217)"
         },
         "mode": "lines",
         "type": "scatter",
         "x": [
          1.2804882029043998,
          1.7965649489044178,
          1.7965649489044178,
          1.4503280259502447
         ],
         "xaxis": "x",
         "y": [
          -5020,
          -5020,
          -5050,
          -5050
         ],
         "yaxis": "y"
        },
        {
         "hoverinfo": "text",
         "marker": {
          "color": "rgb(35,205,205)"
         },
         "mode": "lines",
         "type": "scatter",
         "x": [
          0,
          0.7115674850106734,
          0.7115674850106734,
          0
         ],
         "xaxis": "x",
         "y": [
          -5085,
          -5085,
          -5095,
          -5095
         ],
         "yaxis": "y"
        },
        {
         "hoverinfo": "text",
         "marker": {
          "color": "rgb(0,116,217)"
         },
         "mode": "lines",
         "type": "scatter",
         "x": [
          0,
          1.020398367396837,
          1.020398367396837,
          0.7115674850106734
         ],
         "xaxis": "x",
         "y": [
          -5075,
          -5075,
          -5090,
          -5090
         ],
         "yaxis": "y"
        },
        {
         "hoverinfo": "text",
         "marker": {
          "color": "rgb(61,153,112)"
         },
         "mode": "lines",
         "type": "scatter",
         "x": [
          0,
          0.677913367696191,
          0.677913367696191,
          0
         ],
         "xaxis": "x",
         "y": [
          -5105,
          -5105,
          -5115,
          -5115
         ],
         "yaxis": "y"
        },
        {
         "hoverinfo": "text",
         "marker": {
          "color": "rgb(255,65,54)"
         },
         "mode": "lines",
         "type": "scatter",
         "x": [
          0,
          0.8876903364075435,
          0.8876903364075435,
          0
         ],
         "xaxis": "x",
         "y": [
          -5125,
          -5125,
          -5135,
          -5135
         ],
         "yaxis": "y"
        },
        {
         "hoverinfo": "text",
         "marker": {
          "color": "rgb(35,205,205)"
         },
         "mode": "lines",
         "type": "scatter",
         "x": [
          0,
          0.7430044104381766,
          0.7430044104381766,
          0
         ],
         "xaxis": "x",
         "y": [
          -5155,
          -5155,
          -5165,
          -5165
         ],
         "yaxis": "y"
        },
        {
         "hoverinfo": "text",
         "marker": {
          "color": "rgb(0,116,217)"
         },
         "mode": "lines",
         "type": "scatter",
         "x": [
          0,
          1.0736177604188821,
          1.0736177604188821,
          0.7430044104381766
         ],
         "xaxis": "x",
         "y": [
          -5145,
          -5145,
          -5160,
          -5160
         ],
         "yaxis": "y"
        },
        {
         "hoverinfo": "text",
         "marker": {
          "color": "rgb(0,116,217)"
         },
         "mode": "lines",
         "type": "scatter",
         "x": [
          0.8876903364075435,
          1.399982493531442,
          1.399982493531442,
          1.0736177604188821
         ],
         "xaxis": "x",
         "y": [
          -5130,
          -5130,
          -5152.5,
          -5152.5
         ],
         "yaxis": "y"
        },
        {
         "hoverinfo": "text",
         "marker": {
          "color": "rgb(0,116,217)"
         },
         "mode": "lines",
         "type": "scatter",
         "x": [
          0.677913367696191,
          1.7590948285214447,
          1.7590948285214447,
          1.399982493531442
         ],
         "xaxis": "x",
         "y": [
          -5110,
          -5110,
          -5141.25,
          -5141.25
         ],
         "yaxis": "y"
        },
        {
         "hoverinfo": "text",
         "marker": {
          "color": "rgb(0,116,217)"
         },
         "mode": "lines",
         "type": "scatter",
         "x": [
          1.020398367396837,
          1.9015836821224263,
          1.9015836821224263,
          1.7590948285214447
         ],
         "xaxis": "x",
         "y": [
          -5082.5,
          -5082.5,
          -5125.625,
          -5125.625
         ],
         "yaxis": "y"
        },
        {
         "hoverinfo": "text",
         "marker": {
          "color": "rgb(0,116,217)"
         },
         "mode": "lines",
         "type": "scatter",
         "x": [
          1.7965649489044178,
          2.570001384957205,
          2.570001384957205,
          1.9015836821224263
         ],
         "xaxis": "x",
         "y": [
          -5035,
          -5035,
          -5104.0625,
          -5104.0625
         ],
         "yaxis": "y"
        },
        {
         "hoverinfo": "text",
         "marker": {
          "color": "rgb(0,116,217)"
         },
         "mode": "lines",
         "type": "scatter",
         "x": [
          0,
          1.3388209885570679,
          1.3388209885570679,
          0
         ],
         "xaxis": "x",
         "y": [
          -5175,
          -5175,
          -5185,
          -5185
         ],
         "yaxis": "y"
        },
        {
         "hoverinfo": "text",
         "marker": {
          "color": "rgb(0,116,217)"
         },
         "mode": "lines",
         "type": "scatter",
         "x": [
          0,
          1.2956367385620111,
          1.2956367385620111,
          0
         ],
         "xaxis": "x",
         "y": [
          -5195,
          -5195,
          -5205,
          -5205
         ],
         "yaxis": "y"
        },
        {
         "hoverinfo": "text",
         "marker": {
          "color": "rgb(0,116,217)"
         },
         "mode": "lines",
         "type": "scatter",
         "x": [
          0,
          1.5517433883186367,
          1.5517433883186367,
          0
         ],
         "xaxis": "x",
         "y": [
          -5215,
          -5215,
          -5225,
          -5225
         ],
         "yaxis": "y"
        },
        {
         "hoverinfo": "text",
         "marker": {
          "color": "rgb(0,116,217)"
         },
         "mode": "lines",
         "type": "scatter",
         "x": [
          1.2956367385620111,
          1.7625694143347876,
          1.7625694143347876,
          1.5517433883186367
         ],
         "xaxis": "x",
         "y": [
          -5200,
          -5200,
          -5220,
          -5220
         ],
         "yaxis": "y"
        },
        {
         "hoverinfo": "text",
         "marker": {
          "color": "rgb(0,116,217)"
         },
         "mode": "lines",
         "type": "scatter",
         "x": [
          1.3388209885570679,
          2.6284097852207458,
          2.6284097852207458,
          1.7625694143347876
         ],
         "xaxis": "x",
         "y": [
          -5180,
          -5180,
          -5210,
          -5210
         ],
         "yaxis": "y"
        },
        {
         "hoverinfo": "text",
         "marker": {
          "color": "rgb(0,116,217)"
         },
         "mode": "lines",
         "type": "scatter",
         "x": [
          2.570001384957205,
          3.341408962725785,
          3.341408962725785,
          2.6284097852207458
         ],
         "xaxis": "x",
         "y": [
          -5069.53125,
          -5069.53125,
          -5195,
          -5195
         ],
         "yaxis": "y"
        },
        {
         "hoverinfo": "text",
         "marker": {
          "color": "rgb(133,20,75)"
         },
         "mode": "lines",
         "type": "scatter",
         "x": [
          0,
          0.4965383577063936,
          0.4965383577063936,
          0
         ],
         "xaxis": "x",
         "y": [
          -5245,
          -5245,
          -5255,
          -5255
         ],
         "yaxis": "y"
        },
        {
         "hoverinfo": "text",
         "marker": {
          "color": "rgb(133,20,75)"
         },
         "mode": "lines",
         "type": "scatter",
         "x": [
          0,
          0.7275565174993901,
          0.7275565174993901,
          0.4965383577063936
         ],
         "xaxis": "x",
         "y": [
          -5235,
          -5235,
          -5250,
          -5250
         ],
         "yaxis": "y"
        },
        {
         "hoverinfo": "text",
         "marker": {
          "color": "rgb(255,220,0)"
         },
         "mode": "lines",
         "type": "scatter",
         "x": [
          0,
          0.6847172243464924,
          0.6847172243464924,
          0
         ],
         "xaxis": "x",
         "y": [
          -5265,
          -5265,
          -5275,
          -5275
         ],
         "yaxis": "y"
        },
        {
         "hoverinfo": "text",
         "marker": {
          "color": "rgb(40,35,35)"
         },
         "mode": "lines",
         "type": "scatter",
         "x": [
          0,
          0.9849723326764775,
          0.9849723326764775,
          0
         ],
         "xaxis": "x",
         "y": [
          -5295,
          -5295,
          -5305,
          -5305
         ],
         "yaxis": "y"
        },
        {
         "hoverinfo": "text",
         "marker": {
          "color": "rgb(0,116,217)"
         },
         "mode": "lines",
         "type": "scatter",
         "x": [
          0,
          1.0176560221458337,
          1.0176560221458337,
          0.9849723326764775
         ],
         "xaxis": "x",
         "y": [
          -5285,
          -5285,
          -5300,
          -5300
         ],
         "yaxis": "y"
        },
        {
         "hoverinfo": "text",
         "marker": {
          "color": "rgb(0,116,217)"
         },
         "mode": "lines",
         "type": "scatter",
         "x": [
          0.6847172243464924,
          1.5882180193303737,
          1.5882180193303737,
          1.0176560221458337
         ],
         "xaxis": "x",
         "y": [
          -5270,
          -5270,
          -5292.5,
          -5292.5
         ],
         "yaxis": "y"
        },
        {
         "hoverinfo": "text",
         "marker": {
          "color": "rgb(0,116,217)"
         },
         "mode": "lines",
         "type": "scatter",
         "x": [
          0.7275565174993901,
          1.849349316500834,
          1.849349316500834,
          1.5882180193303737
         ],
         "xaxis": "x",
         "y": [
          -5242.5,
          -5242.5,
          -5281.25,
          -5281.25
         ],
         "yaxis": "y"
        },
        {
         "hoverinfo": "text",
         "marker": {
          "color": "rgb(0,116,217)"
         },
         "mode": "lines",
         "type": "scatter",
         "x": [
          0,
          1.320938941216853,
          1.320938941216853,
          0
         ],
         "xaxis": "x",
         "y": [
          -5325,
          -5325,
          -5335,
          -5335
         ],
         "yaxis": "y"
        },
        {
         "hoverinfo": "text",
         "marker": {
          "color": "rgb(0,116,217)"
         },
         "mode": "lines",
         "type": "scatter",
         "x": [
          0,
          1.4748669108856922,
          1.4748669108856922,
          1.320938941216853
         ],
         "xaxis": "x",
         "y": [
          -5315,
          -5315,
          -5330,
          -5330
         ],
         "yaxis": "y"
        },
        {
         "hoverinfo": "text",
         "marker": {
          "color": "rgb(0,116,217)"
         },
         "mode": "lines",
         "type": "scatter",
         "x": [
          0,
          1.262757756439585,
          1.262757756439585,
          0
         ],
         "xaxis": "x",
         "y": [
          -5345,
          -5345,
          -5355,
          -5355
         ],
         "yaxis": "y"
        },
        {
         "hoverinfo": "text",
         "marker": {
          "color": "rgb(0,116,217)"
         },
         "mode": "lines",
         "type": "scatter",
         "x": [
          0,
          1.335906718428659,
          1.335906718428659,
          0
         ],
         "xaxis": "x",
         "y": [
          -5365,
          -5365,
          -5375,
          -5375
         ],
         "yaxis": "y"
        },
        {
         "hoverinfo": "text",
         "marker": {
          "color": "rgb(0,116,217)"
         },
         "mode": "lines",
         "type": "scatter",
         "x": [
          1.262757756439585,
          1.7278483225831252,
          1.7278483225831252,
          1.335906718428659
         ],
         "xaxis": "x",
         "y": [
          -5350,
          -5350,
          -5370,
          -5370
         ],
         "yaxis": "y"
        },
        {
         "hoverinfo": "text",
         "marker": {
          "color": "rgb(0,116,217)"
         },
         "mode": "lines",
         "type": "scatter",
         "x": [
          1.4748669108856922,
          1.8420535806820006,
          1.8420535806820006,
          1.7278483225831252
         ],
         "xaxis": "x",
         "y": [
          -5322.5,
          -5322.5,
          -5360,
          -5360
         ],
         "yaxis": "y"
        },
        {
         "hoverinfo": "text",
         "marker": {
          "color": "rgb(0,116,217)"
         },
         "mode": "lines",
         "type": "scatter",
         "x": [
          0,
          1.4088736347460957,
          1.4088736347460957,
          0
         ],
         "xaxis": "x",
         "y": [
          -5385,
          -5385,
          -5395,
          -5395
         ],
         "yaxis": "y"
        },
        {
         "hoverinfo": "text",
         "marker": {
          "color": "rgb(0,116,217)"
         },
         "mode": "lines",
         "type": "scatter",
         "x": [
          0,
          1.3991163625016751,
          1.3991163625016751,
          0
         ],
         "xaxis": "x",
         "y": [
          -5405,
          -5405,
          -5415,
          -5415
         ],
         "yaxis": "y"
        },
        {
         "hoverinfo": "text",
         "marker": {
          "color": "rgb(0,116,217)"
         },
         "mode": "lines",
         "type": "scatter",
         "x": [
          0,
          1.4132074528667447,
          1.4132074528667447,
          0
         ],
         "xaxis": "x",
         "y": [
          -5435,
          -5435,
          -5445,
          -5445
         ],
         "yaxis": "y"
        },
        {
         "hoverinfo": "text",
         "marker": {
          "color": "rgb(0,116,217)"
         },
         "mode": "lines",
         "type": "scatter",
         "x": [
          0,
          1.5212331252629747,
          1.5212331252629747,
          1.4132074528667447
         ],
         "xaxis": "x",
         "y": [
          -5425,
          -5425,
          -5440,
          -5440
         ],
         "yaxis": "y"
        },
        {
         "hoverinfo": "text",
         "marker": {
          "color": "rgb(0,116,217)"
         },
         "mode": "lines",
         "type": "scatter",
         "x": [
          1.3991163625016751,
          1.852585655565812,
          1.852585655565812,
          1.5212331252629747
         ],
         "xaxis": "x",
         "y": [
          -5410,
          -5410,
          -5432.5,
          -5432.5
         ],
         "yaxis": "y"
        },
        {
         "hoverinfo": "text",
         "marker": {
          "color": "rgb(0,116,217)"
         },
         "mode": "lines",
         "type": "scatter",
         "x": [
          1.4088736347460957,
          2.3559288068833184,
          2.3559288068833184,
          1.852585655565812
         ],
         "xaxis": "x",
         "y": [
          -5390,
          -5390,
          -5421.25,
          -5421.25
         ],
         "yaxis": "y"
        },
        {
         "hoverinfo": "text",
         "marker": {
          "color": "rgb(0,116,217)"
         },
         "mode": "lines",
         "type": "scatter",
         "x": [
          1.8420535806820006,
          2.403178566579069,
          2.403178566579069,
          2.3559288068833184
         ],
         "xaxis": "x",
         "y": [
          -5341.25,
          -5341.25,
          -5405.625,
          -5405.625
         ],
         "yaxis": "y"
        },
        {
         "hoverinfo": "text",
         "marker": {
          "color": "rgb(0,116,217)"
         },
         "mode": "lines",
         "type": "scatter",
         "x": [
          1.849349316500834,
          3.392317995851452,
          3.392317995851452,
          2.403178566579069
         ],
         "xaxis": "x",
         "y": [
          -5261.875,
          -5261.875,
          -5373.4375,
          -5373.4375
         ],
         "yaxis": "y"
        },
        {
         "hoverinfo": "text",
         "marker": {
          "color": "rgb(0,116,217)"
         },
         "mode": "lines",
         "type": "scatter",
         "x": [
          3.341408962725785,
          4.842805982392052,
          4.842805982392052,
          3.392317995851452
         ],
         "xaxis": "x",
         "y": [
          -5132.265625,
          -5132.265625,
          -5317.65625,
          -5317.65625
         ],
         "yaxis": "y"
        },
        {
         "hoverinfo": "text",
         "marker": {
          "color": "rgb(0,116,217)"
         },
         "mode": "lines",
         "type": "scatter",
         "x": [
          3.4090462053837314,
          5.558788127102843,
          5.558788127102843,
          4.842805982392052
         ],
         "xaxis": "x",
         "y": [
          -4859.375,
          -4859.375,
          -5224.9609375,
          -5224.9609375
         ],
         "yaxis": "y"
        },
        {
         "hoverinfo": "text",
         "marker": {
          "color": "rgb(0,116,217)"
         },
         "mode": "lines",
         "type": "scatter",
         "x": [
          0,
          1.1227383257367087,
          1.1227383257367087,
          0
         ],
         "xaxis": "x",
         "y": [
          -5455,
          -5455,
          -5465,
          -5465
         ],
         "yaxis": "y"
        },
        {
         "hoverinfo": "text",
         "marker": {
          "color": "rgb(0,116,217)"
         },
         "mode": "lines",
         "type": "scatter",
         "x": [
          0,
          1.2902421348712902,
          1.2902421348712902,
          0
         ],
         "xaxis": "x",
         "y": [
          -5475,
          -5475,
          -5485,
          -5485
         ],
         "yaxis": "y"
        },
        {
         "hoverinfo": "text",
         "marker": {
          "color": "rgb(0,116,217)"
         },
         "mode": "lines",
         "type": "scatter",
         "x": [
          1.1227383257367087,
          1.4367837594620936,
          1.4367837594620936,
          1.2902421348712902
         ],
         "xaxis": "x",
         "y": [
          -5460,
          -5460,
          -5480,
          -5480
         ],
         "yaxis": "y"
        },
        {
         "hoverinfo": "text",
         "marker": {
          "color": "rgb(0,116,217)"
         },
         "mode": "lines",
         "type": "scatter",
         "x": [
          0,
          1.2501415649791376,
          1.2501415649791376,
          0
         ],
         "xaxis": "x",
         "y": [
          -5495,
          -5495,
          -5505,
          -5505
         ],
         "yaxis": "y"
        },
        {
         "hoverinfo": "text",
         "marker": {
          "color": "rgb(61,153,112)"
         },
         "mode": "lines",
         "type": "scatter",
         "x": [
          0,
          0.6528635513192714,
          0.6528635513192714,
          0
         ],
         "xaxis": "x",
         "y": [
          -5515,
          -5515,
          -5525,
          -5525
         ],
         "yaxis": "y"
        },
        {
         "hoverinfo": "text",
         "marker": {
          "color": "rgb(0,116,217)"
         },
         "mode": "lines",
         "type": "scatter",
         "x": [
          0,
          1.1723573181321625,
          1.1723573181321625,
          0
         ],
         "xaxis": "x",
         "y": [
          -5535,
          -5535,
          -5545,
          -5545
         ],
         "yaxis": "y"
        },
        {
         "hoverinfo": "text",
         "marker": {
          "color": "rgb(0,116,217)"
         },
         "mode": "lines",
         "type": "scatter",
         "x": [
          0.6528635513192714,
          1.4967358237582946,
          1.4967358237582946,
          1.1723573181321625
         ],
         "xaxis": "x",
         "y": [
          -5520,
          -5520,
          -5540,
          -5540
         ],
         "yaxis": "y"
        },
        {
         "hoverinfo": "text",
         "marker": {
          "color": "rgb(0,116,217)"
         },
         "mode": "lines",
         "type": "scatter",
         "x": [
          1.2501415649791376,
          1.8250163563207311,
          1.8250163563207311,
          1.4967358237582946
         ],
         "xaxis": "x",
         "y": [
          -5500,
          -5500,
          -5530,
          -5530
         ],
         "yaxis": "y"
        },
        {
         "hoverinfo": "text",
         "marker": {
          "color": "rgb(0,116,217)"
         },
         "mode": "lines",
         "type": "scatter",
         "x": [
          1.4367837594620936,
          2.324967271709924,
          2.324967271709924,
          1.8250163563207311
         ],
         "xaxis": "x",
         "y": [
          -5470,
          -5470,
          -5515,
          -5515
         ],
         "yaxis": "y"
        },
        {
         "hoverinfo": "text",
         "marker": {
          "color": "rgb(0,116,217)"
         },
         "mode": "lines",
         "type": "scatter",
         "x": [
          0,
          1.3215510797738725,
          1.3215510797738725,
          0
         ],
         "xaxis": "x",
         "y": [
          -5555,
          -5555,
          -5565,
          -5565
         ],
         "yaxis": "y"
        },
        {
         "hoverinfo": "text",
         "marker": {
          "color": "rgb(0,116,217)"
         },
         "mode": "lines",
         "type": "scatter",
         "x": [
          0,
          1.5129991023869676,
          1.5129991023869676,
          0
         ],
         "xaxis": "x",
         "y": [
          -5575,
          -5575,
          -5585,
          -5585
         ],
         "yaxis": "y"
        },
        {
         "hoverinfo": "text",
         "marker": {
          "color": "rgb(0,116,217)"
         },
         "mode": "lines",
         "type": "scatter",
         "x": [
          1.3215510797738725,
          2.012603721567976,
          2.012603721567976,
          1.5129991023869676
         ],
         "xaxis": "x",
         "y": [
          -5560,
          -5560,
          -5580,
          -5580
         ],
         "yaxis": "y"
        },
        {
         "hoverinfo": "text",
         "marker": {
          "color": "rgb(0,116,217)"
         },
         "mode": "lines",
         "type": "scatter",
         "x": [
          0,
          1.4315337961489962,
          1.4315337961489962,
          0
         ],
         "xaxis": "x",
         "y": [
          -5605,
          -5605,
          -5615,
          -5615
         ],
         "yaxis": "y"
        },
        {
         "hoverinfo": "text",
         "marker": {
          "color": "rgb(0,116,217)"
         },
         "mode": "lines",
         "type": "scatter",
         "x": [
          0,
          1.6798360987030858,
          1.6798360987030858,
          1.4315337961489962
         ],
         "xaxis": "x",
         "y": [
          -5595,
          -5595,
          -5610,
          -5610
         ],
         "yaxis": "y"
        },
        {
         "hoverinfo": "text",
         "marker": {
          "color": "rgb(0,116,217)"
         },
         "mode": "lines",
         "type": "scatter",
         "x": [
          0,
          1.4281738082333646,
          1.4281738082333646,
          0
         ],
         "xaxis": "x",
         "y": [
          -5655,
          -5655,
          -5665,
          -5665
         ],
         "yaxis": "y"
        },
        {
         "hoverinfo": "text",
         "marker": {
          "color": "rgb(0,116,217)"
         },
         "mode": "lines",
         "type": "scatter",
         "x": [
          0,
          1.4468858765388848,
          1.4468858765388848,
          1.4281738082333646
         ],
         "xaxis": "x",
         "y": [
          -5645,
          -5645,
          -5660,
          -5660
         ],
         "yaxis": "y"
        },
        {
         "hoverinfo": "text",
         "marker": {
          "color": "rgb(0,116,217)"
         },
         "mode": "lines",
         "type": "scatter",
         "x": [
          0,
          1.6323248316177943,
          1.6323248316177943,
          1.4468858765388848
         ],
         "xaxis": "x",
         "y": [
          -5635,
          -5635,
          -5652.5,
          -5652.5
         ],
         "yaxis": "y"
        },
        {
         "hoverinfo": "text",
         "marker": {
          "color": "rgb(0,116,217)"
         },
         "mode": "lines",
         "type": "scatter",
         "x": [
          0,
          1.7232019463283093,
          1.7232019463283093,
          1.6323248316177943
         ],
         "xaxis": "x",
         "y": [
          -5625,
          -5625,
          -5643.75,
          -5643.75
         ],
         "yaxis": "y"
        },
        {
         "hoverinfo": "text",
         "marker": {
          "color": "rgb(0,116,217)"
         },
         "mode": "lines",
         "type": "scatter",
         "x": [
          1.6798360987030858,
          2.34567654781913,
          2.34567654781913,
          1.7232019463283093
         ],
         "xaxis": "x",
         "y": [
          -5602.5,
          -5602.5,
          -5634.375,
          -5634.375
         ],
         "yaxis": "y"
        },
        {
         "hoverinfo": "text",
         "marker": {
          "color": "rgb(0,116,217)"
         },
         "mode": "lines",
         "type": "scatter",
         "x": [
          2.012603721567976,
          2.6021682991978485,
          2.6021682991978485,
          2.34567654781913
         ],
         "xaxis": "x",
         "y": [
          -5570,
          -5570,
          -5618.4375,
          -5618.4375
         ],
         "yaxis": "y"
        },
        {
         "hoverinfo": "text",
         "marker": {
          "color": "rgb(0,116,217)"
         },
         "mode": "lines",
         "type": "scatter",
         "x": [
          0,
          1.226705618491786,
          1.226705618491786,
          0
         ],
         "xaxis": "x",
         "y": [
          -5675,
          -5675,
          -5685,
          -5685
         ],
         "yaxis": "y"
        },
        {
         "hoverinfo": "text",
         "marker": {
          "color": "rgb(0,116,217)"
         },
         "mode": "lines",
         "type": "scatter",
         "x": [
          0,
          1.2868016239827045,
          1.2868016239827045,
          0
         ],
         "xaxis": "x",
         "y": [
          -5695,
          -5695,
          -5705,
          -5705
         ],
         "yaxis": "y"
        },
        {
         "hoverinfo": "text",
         "marker": {
          "color": "rgb(0,116,217)"
         },
         "mode": "lines",
         "type": "scatter",
         "x": [
          1.226705618491786,
          1.737051129443086,
          1.737051129443086,
          1.2868016239827045
         ],
         "xaxis": "x",
         "y": [
          -5680,
          -5680,
          -5700,
          -5700
         ],
         "yaxis": "y"
        },
        {
         "hoverinfo": "text",
         "marker": {
          "color": "rgb(0,116,217)"
         },
         "mode": "lines",
         "type": "scatter",
         "x": [
          0,
          1.2747266971095694,
          1.2747266971095694,
          0
         ],
         "xaxis": "x",
         "y": [
          -5715,
          -5715,
          -5725,
          -5725
         ],
         "yaxis": "y"
        },
        {
         "hoverinfo": "text",
         "marker": {
          "color": "rgb(0,116,217)"
         },
         "mode": "lines",
         "type": "scatter",
         "x": [
          0,
          1.3358506496552283,
          1.3358506496552283,
          0
         ],
         "xaxis": "x",
         "y": [
          -5735,
          -5735,
          -5745,
          -5745
         ],
         "yaxis": "y"
        },
        {
         "hoverinfo": "text",
         "marker": {
          "color": "rgb(0,116,217)"
         },
         "mode": "lines",
         "type": "scatter",
         "x": [
          1.2747266971095694,
          1.5426767133812997,
          1.5426767133812997,
          1.3358506496552283
         ],
         "xaxis": "x",
         "y": [
          -5720,
          -5720,
          -5740,
          -5740
         ],
         "yaxis": "y"
        },
        {
         "hoverinfo": "text",
         "marker": {
          "color": "rgb(0,116,217)"
         },
         "mode": "lines",
         "type": "scatter",
         "x": [
          0,
          1.3699390374567333,
          1.3699390374567333,
          0
         ],
         "xaxis": "x",
         "y": [
          -5755,
          -5755,
          -5765,
          -5765
         ],
         "yaxis": "y"
        },
        {
         "hoverinfo": "text",
         "marker": {
          "color": "rgb(0,116,217)"
         },
         "mode": "lines",
         "type": "scatter",
         "x": [
          0,
          1.4091916275963554,
          1.4091916275963554,
          0
         ],
         "xaxis": "x",
         "y": [
          -5775,
          -5775,
          -5785,
          -5785
         ],
         "yaxis": "y"
        },
        {
         "hoverinfo": "text",
         "marker": {
          "color": "rgb(0,116,217)"
         },
         "mode": "lines",
         "type": "scatter",
         "x": [
          1.3699390374567333,
          1.580573005682675,
          1.580573005682675,
          1.4091916275963554
         ],
         "xaxis": "x",
         "y": [
          -5760,
          -5760,
          -5780,
          -5780
         ],
         "yaxis": "y"
        },
        {
         "hoverinfo": "text",
         "marker": {
          "color": "rgb(0,116,217)"
         },
         "mode": "lines",
         "type": "scatter",
         "x": [
          1.5426767133812997,
          1.804865771563674,
          1.804865771563674,
          1.580573005682675
         ],
         "xaxis": "x",
         "y": [
          -5730,
          -5730,
          -5770,
          -5770
         ],
         "yaxis": "y"
        },
        {
         "hoverinfo": "text",
         "marker": {
          "color": "rgb(0,116,217)"
         },
         "mode": "lines",
         "type": "scatter",
         "x": [
          1.737051129443086,
          1.983827272946251,
          1.983827272946251,
          1.804865771563674
         ],
         "xaxis": "x",
         "y": [
          -5690,
          -5690,
          -5750,
          -5750
         ],
         "yaxis": "y"
        },
        {
         "hoverinfo": "text",
         "marker": {
          "color": "rgb(0,116,217)"
         },
         "mode": "lines",
         "type": "scatter",
         "x": [
          0,
          1.2537300490786274,
          1.2537300490786274,
          0
         ],
         "xaxis": "x",
         "y": [
          -5795,
          -5795,
          -5805,
          -5805
         ],
         "yaxis": "y"
        },
        {
         "hoverinfo": "text",
         "marker": {
          "color": "rgb(0,116,217)"
         },
         "mode": "lines",
         "type": "scatter",
         "x": [
          0,
          1.4878102624581575,
          1.4878102624581575,
          0
         ],
         "xaxis": "x",
         "y": [
          -5815,
          -5815,
          -5825,
          -5825
         ],
         "yaxis": "y"
        },
        {
         "hoverinfo": "text",
         "marker": {
          "color": "rgb(0,116,217)"
         },
         "mode": "lines",
         "type": "scatter",
         "x": [
          1.2537300490786274,
          1.6110581915379951,
          1.6110581915379951,
          1.4878102624581575
         ],
         "xaxis": "x",
         "y": [
          -5800,
          -5800,
          -5820,
          -5820
         ],
         "yaxis": "y"
        },
        {
         "hoverinfo": "text",
         "marker": {
          "color": "rgb(0,116,217)"
         },
         "mode": "lines",
         "type": "scatter",
         "x": [
          0,
          1.1273405539172927,
          1.1273405539172927,
          0
         ],
         "xaxis": "x",
         "y": [
          -5845,
          -5845,
          -5855,
          -5855
         ],
         "yaxis": "y"
        },
        {
         "hoverinfo": "text",
         "marker": {
          "color": "rgb(0,116,217)"
         },
         "mode": "lines",
         "type": "scatter",
         "x": [
          0,
          1.3877141328570304,
          1.3877141328570304,
          0
         ],
         "xaxis": "x",
         "y": [
          -5865,
          -5865,
          -5875,
          -5875
         ],
         "yaxis": "y"
        },
        {
         "hoverinfo": "text",
         "marker": {
          "color": "rgb(0,116,217)"
         },
         "mode": "lines",
         "type": "scatter",
         "x": [
          1.1273405539172927,
          1.5128639512798197,
          1.5128639512798197,
          1.3877141328570304
         ],
         "xaxis": "x",
         "y": [
          -5850,
          -5850,
          -5870,
          -5870
         ],
         "yaxis": "y"
        },
        {
         "hoverinfo": "text",
         "marker": {
          "color": "rgb(0,116,217)"
         },
         "mode": "lines",
         "type": "scatter",
         "x": [
          0,
          1.8203259759857213,
          1.8203259759857213,
          1.5128639512798197
         ],
         "xaxis": "x",
         "y": [
          -5835,
          -5835,
          -5860,
          -5860
         ],
         "yaxis": "y"
        },
        {
         "hoverinfo": "text",
         "marker": {
          "color": "rgb(0,116,217)"
         },
         "mode": "lines",
         "type": "scatter",
         "x": [
          1.6110581915379951,
          2.13761771123648,
          2.13761771123648,
          1.8203259759857213
         ],
         "xaxis": "x",
         "y": [
          -5810,
          -5810,
          -5847.5,
          -5847.5
         ],
         "yaxis": "y"
        },
        {
         "hoverinfo": "text",
         "marker": {
          "color": "rgb(0,116,217)"
         },
         "mode": "lines",
         "type": "scatter",
         "x": [
          1.983827272946251,
          3.0547578840293577,
          3.0547578840293577,
          2.13761771123648
         ],
         "xaxis": "x",
         "y": [
          -5720,
          -5720,
          -5828.75,
          -5828.75
         ],
         "yaxis": "y"
        },
        {
         "hoverinfo": "text",
         "marker": {
          "color": "rgb(0,116,217)"
         },
         "mode": "lines",
         "type": "scatter",
         "x": [
          2.6021682991978485,
          3.3716774509284195,
          3.3716774509284195,
          3.0547578840293577
         ],
         "xaxis": "x",
         "y": [
          -5594.21875,
          -5594.21875,
          -5774.375,
          -5774.375
         ],
         "yaxis": "y"
        },
        {
         "hoverinfo": "text",
         "marker": {
          "color": "rgb(0,116,217)"
         },
         "mode": "lines",
         "type": "scatter",
         "x": [
          2.324967271709924,
          4.105606096078782,
          4.105606096078782,
          3.3716774509284195
         ],
         "xaxis": "x",
         "y": [
          -5492.5,
          -5492.5,
          -5684.296875,
          -5684.296875
         ],
         "yaxis": "y"
        },
        {
         "hoverinfo": "text",
         "marker": {
          "color": "rgb(0,116,217)"
         },
         "mode": "lines",
         "type": "scatter",
         "x": [
          0,
          1.3762671719499504,
          1.3762671719499504,
          0
         ],
         "xaxis": "x",
         "y": [
          -5895,
          -5895,
          -5905,
          -5905
         ],
         "yaxis": "y"
        },
        {
         "hoverinfo": "text",
         "marker": {
          "color": "rgb(0,116,217)"
         },
         "mode": "lines",
         "type": "scatter",
         "x": [
          0,
          1.638042034291236,
          1.638042034291236,
          1.3762671719499504
         ],
         "xaxis": "x",
         "y": [
          -5885,
          -5885,
          -5900,
          -5900
         ],
         "yaxis": "y"
        },
        {
         "hoverinfo": "text",
         "marker": {
          "color": "rgb(0,116,217)"
         },
         "mode": "lines",
         "type": "scatter",
         "x": [
          0,
          1.1387379525303387,
          1.1387379525303387,
          0
         ],
         "xaxis": "x",
         "y": [
          -5915,
          -5915,
          -5925,
          -5925
         ],
         "yaxis": "y"
        },
        {
         "hoverinfo": "text",
         "marker": {
          "color": "rgb(0,116,217)"
         },
         "mode": "lines",
         "type": "scatter",
         "x": [
          0,
          1.2231019332593607,
          1.2231019332593607,
          0
         ],
         "xaxis": "x",
         "y": [
          -5945,
          -5945,
          -5955,
          -5955
         ],
         "yaxis": "y"
        },
        {
         "hoverinfo": "text",
         "marker": {
          "color": "rgb(0,116,217)"
         },
         "mode": "lines",
         "type": "scatter",
         "x": [
          0,
          1.6264240713843348,
          1.6264240713843348,
          1.2231019332593607
         ],
         "xaxis": "x",
         "y": [
          -5935,
          -5935,
          -5950,
          -5950
         ],
         "yaxis": "y"
        },
        {
         "hoverinfo": "text",
         "marker": {
          "color": "rgb(0,116,217)"
         },
         "mode": "lines",
         "type": "scatter",
         "x": [
          1.1387379525303387,
          1.905087824443904,
          1.905087824443904,
          1.6264240713843348
         ],
         "xaxis": "x",
         "y": [
          -5920,
          -5920,
          -5942.5,
          -5942.5
         ],
         "yaxis": "y"
        },
        {
         "hoverinfo": "text",
         "marker": {
          "color": "rgb(0,116,217)"
         },
         "mode": "lines",
         "type": "scatter",
         "x": [
          1.638042034291236,
          2.185241887815342,
          2.185241887815342,
          1.905087824443904
         ],
         "xaxis": "x",
         "y": [
          -5892.5,
          -5892.5,
          -5931.25,
          -5931.25
         ],
         "yaxis": "y"
        },
        {
         "hoverinfo": "text",
         "marker": {
          "color": "rgb(0,116,217)"
         },
         "mode": "lines",
         "type": "scatter",
         "x": [
          0,
          1.4784163724991206,
          1.4784163724991206,
          0
         ],
         "xaxis": "x",
         "y": [
          -5975,
          -5975,
          -5985,
          -5985
         ],
         "yaxis": "y"
        },
        {
         "hoverinfo": "text",
         "marker": {
          "color": "rgb(0,116,217)"
         },
         "mode": "lines",
         "type": "scatter",
         "x": [
          0,
          1.7219004146371863,
          1.7219004146371863,
          1.4784163724991206
         ],
         "xaxis": "x",
         "y": [
          -5965,
          -5965,
          -5980,
          -5980
         ],
         "yaxis": "y"
        },
        {
         "hoverinfo": "text",
         "marker": {
          "color": "rgb(0,116,217)"
         },
         "mode": "lines",
         "type": "scatter",
         "x": [
          0,
          1.4830786194339094,
          1.4830786194339094,
          0
         ],
         "xaxis": "x",
         "y": [
          -5995,
          -5995,
          -6005,
          -6005
         ],
         "yaxis": "y"
        },
        {
         "hoverinfo": "text",
         "marker": {
          "color": "rgb(0,116,217)"
         },
         "mode": "lines",
         "type": "scatter",
         "x": [
          0,
          1.576419619194014,
          1.576419619194014,
          0
         ],
         "xaxis": "x",
         "y": [
          -6015,
          -6015,
          -6025,
          -6025
         ],
         "yaxis": "y"
        },
        {
         "hoverinfo": "text",
         "marker": {
          "color": "rgb(0,116,217)"
         },
         "mode": "lines",
         "type": "scatter",
         "x": [
          1.4830786194339094,
          1.9443416604096824,
          1.9443416604096824,
          1.576419619194014
         ],
         "xaxis": "x",
         "y": [
          -6000,
          -6000,
          -6020,
          -6020
         ],
         "yaxis": "y"
        },
        {
         "hoverinfo": "text",
         "marker": {
          "color": "rgb(0,116,217)"
         },
         "mode": "lines",
         "type": "scatter",
         "x": [
          1.7219004146371863,
          2.2813173978804406,
          2.2813173978804406,
          1.9443416604096824
         ],
         "xaxis": "x",
         "y": [
          -5972.5,
          -5972.5,
          -6010,
          -6010
         ],
         "yaxis": "y"
        },
        {
         "hoverinfo": "text",
         "marker": {
          "color": "rgb(0,116,217)"
         },
         "mode": "lines",
         "type": "scatter",
         "x": [
          2.185241887815342,
          2.88510407305116,
          2.88510407305116,
          2.2813173978804406
         ],
         "xaxis": "x",
         "y": [
          -5911.875,
          -5911.875,
          -5991.25,
          -5991.25
         ],
         "yaxis": "y"
        },
        {
         "hoverinfo": "text",
         "marker": {
          "color": "rgb(0,116,217)"
         },
         "mode": "lines",
         "type": "scatter",
         "x": [
          0,
          1.0585529700240464,
          1.0585529700240464,
          0
         ],
         "xaxis": "x",
         "y": [
          -6045,
          -6045,
          -6055,
          -6055
         ],
         "yaxis": "y"
        },
        {
         "hoverinfo": "text",
         "marker": {
          "color": "rgb(0,116,217)"
         },
         "mode": "lines",
         "type": "scatter",
         "x": [
          0,
          1.4459123835021013,
          1.4459123835021013,
          1.0585529700240464
         ],
         "xaxis": "x",
         "y": [
          -6035,
          -6035,
          -6050,
          -6050
         ],
         "yaxis": "y"
        },
        {
         "hoverinfo": "text",
         "marker": {
          "color": "rgb(0,116,217)"
         },
         "mode": "lines",
         "type": "scatter",
         "x": [
          0,
          1.3892320861678138,
          1.3892320861678138,
          0
         ],
         "xaxis": "x",
         "y": [
          -6065,
          -6065,
          -6075,
          -6075
         ],
         "yaxis": "y"
        },
        {
         "hoverinfo": "text",
         "marker": {
          "color": "rgb(0,116,217)"
         },
         "mode": "lines",
         "type": "scatter",
         "x": [
          0,
          1.56994147042327,
          1.56994147042327,
          0
         ],
         "xaxis": "x",
         "y": [
          -6085,
          -6085,
          -6095,
          -6095
         ],
         "yaxis": "y"
        },
        {
         "hoverinfo": "text",
         "marker": {
          "color": "rgb(0,116,217)"
         },
         "mode": "lines",
         "type": "scatter",
         "x": [
          1.3892320861678138,
          1.7518669356590233,
          1.7518669356590233,
          1.56994147042327
         ],
         "xaxis": "x",
         "y": [
          -6070,
          -6070,
          -6090,
          -6090
         ],
         "yaxis": "y"
        },
        {
         "hoverinfo": "text",
         "marker": {
          "color": "rgb(0,116,217)"
         },
         "mode": "lines",
         "type": "scatter",
         "x": [
          1.4459123835021013,
          2.1635483529002904,
          2.1635483529002904,
          1.7518669356590233
         ],
         "xaxis": "x",
         "y": [
          -6042.5,
          -6042.5,
          -6080,
          -6080
         ],
         "yaxis": "y"
        },
        {
         "hoverinfo": "text",
         "marker": {
          "color": "rgb(0,116,217)"
         },
         "mode": "lines",
         "type": "scatter",
         "x": [
          0,
          1.3572962776723352,
          1.3572962776723352,
          0
         ],
         "xaxis": "x",
         "y": [
          -6115,
          -6115,
          -6125,
          -6125
         ],
         "yaxis": "y"
        },
        {
         "hoverinfo": "text",
         "marker": {
          "color": "rgb(0,116,217)"
         },
         "mode": "lines",
         "type": "scatter",
         "x": [
          0,
          1.620207757590018,
          1.620207757590018,
          1.3572962776723352
         ],
         "xaxis": "x",
         "y": [
          -6105,
          -6105,
          -6120,
          -6120
         ],
         "yaxis": "y"
        },
        {
         "hoverinfo": "text",
         "marker": {
          "color": "rgb(0,116,217)"
         },
         "mode": "lines",
         "type": "scatter",
         "x": [
          0,
          1.5151758644446716,
          1.5151758644446716,
          0
         ],
         "xaxis": "x",
         "y": [
          -6135,
          -6135,
          -6145,
          -6145
         ],
         "yaxis": "y"
        },
        {
         "hoverinfo": "text",
         "marker": {
          "color": "rgb(0,116,217)"
         },
         "mode": "lines",
         "type": "scatter",
         "x": [
          0,
          1.513066564176961,
          1.513066564176961,
          0
         ],
         "xaxis": "x",
         "y": [
          -6165,
          -6165,
          -6175,
          -6175
         ],
         "yaxis": "y"
        },
        {
         "hoverinfo": "text",
         "marker": {
          "color": "rgb(0,116,217)"
         },
         "mode": "lines",
         "type": "scatter",
         "x": [
          0,
          1.7727196203777855,
          1.7727196203777855,
          1.513066564176961
         ],
         "xaxis": "x",
         "y": [
          -6155,
          -6155,
          -6170,
          -6170
         ],
         "yaxis": "y"
        },
        {
         "hoverinfo": "text",
         "marker": {
          "color": "rgb(0,116,217)"
         },
         "mode": "lines",
         "type": "scatter",
         "x": [
          1.5151758644446716,
          1.9864856095174457,
          1.9864856095174457,
          1.7727196203777855
         ],
         "xaxis": "x",
         "y": [
          -6140,
          -6140,
          -6162.5,
          -6162.5
         ],
         "yaxis": "y"
        },
        {
         "hoverinfo": "text",
         "marker": {
          "color": "rgb(0,116,217)"
         },
         "mode": "lines",
         "type": "scatter",
         "x": [
          1.620207757590018,
          2.2950379895154356,
          2.2950379895154356,
          1.9864856095174457
         ],
         "xaxis": "x",
         "y": [
          -6112.5,
          -6112.5,
          -6151.25,
          -6151.25
         ],
         "yaxis": "y"
        },
        {
         "hoverinfo": "text",
         "marker": {
          "color": "rgb(0,116,217)"
         },
         "mode": "lines",
         "type": "scatter",
         "x": [
          2.1635483529002904,
          3.0672820227908337,
          3.0672820227908337,
          2.2950379895154356
         ],
         "xaxis": "x",
         "y": [
          -6061.25,
          -6061.25,
          -6131.875,
          -6131.875
         ],
         "yaxis": "y"
        },
        {
         "hoverinfo": "text",
         "marker": {
          "color": "rgb(0,116,217)"
         },
         "mode": "lines",
         "type": "scatter",
         "x": [
          2.88510407305116,
          5.681662730166873,
          5.681662730166873,
          3.0672820227908337
         ],
         "xaxis": "x",
         "y": [
          -5951.5625,
          -5951.5625,
          -6096.5625,
          -6096.5625
         ],
         "yaxis": "y"
        },
        {
         "hoverinfo": "text",
         "marker": {
          "color": "rgb(0,116,217)"
         },
         "mode": "lines",
         "type": "scatter",
         "x": [
          4.105606096078782,
          6.464048254637043,
          6.464048254637043,
          5.681662730166873
         ],
         "xaxis": "x",
         "y": [
          -5588.3984375,
          -5588.3984375,
          -6024.0625,
          -6024.0625
         ],
         "yaxis": "y"
        },
        {
         "hoverinfo": "text",
         "marker": {
          "color": "rgb(0,116,217)"
         },
         "mode": "lines",
         "type": "scatter",
         "x": [
          0,
          1.4713462739057013,
          1.4713462739057013,
          0
         ],
         "xaxis": "x",
         "y": [
          -6205,
          -6205,
          -6215,
          -6215
         ],
         "yaxis": "y"
        },
        {
         "hoverinfo": "text",
         "marker": {
          "color": "rgb(0,116,217)"
         },
         "mode": "lines",
         "type": "scatter",
         "x": [
          0,
          1.6414800959364457,
          1.6414800959364457,
          1.4713462739057013
         ],
         "xaxis": "x",
         "y": [
          -6195,
          -6195,
          -6210,
          -6210
         ],
         "yaxis": "y"
        },
        {
         "hoverinfo": "text",
         "marker": {
          "color": "rgb(0,116,217)"
         },
         "mode": "lines",
         "type": "scatter",
         "x": [
          0,
          1.6570627131737166,
          1.6570627131737166,
          1.6414800959364457
         ],
         "xaxis": "x",
         "y": [
          -6185,
          -6185,
          -6202.5,
          -6202.5
         ],
         "yaxis": "y"
        },
        {
         "hoverinfo": "text",
         "marker": {
          "color": "rgb(0,116,217)"
         },
         "mode": "lines",
         "type": "scatter",
         "x": [
          0,
          1.2600378032427832,
          1.2600378032427832,
          0
         ],
         "xaxis": "x",
         "y": [
          -6245,
          -6245,
          -6255,
          -6255
         ],
         "yaxis": "y"
        },
        {
         "hoverinfo": "text",
         "marker": {
          "color": "rgb(0,116,217)"
         },
         "mode": "lines",
         "type": "scatter",
         "x": [
          0,
          1.4014532235787636,
          1.4014532235787636,
          1.2600378032427832
         ],
         "xaxis": "x",
         "y": [
          -6235,
          -6235,
          -6250,
          -6250
         ],
         "yaxis": "y"
        },
        {
         "hoverinfo": "text",
         "marker": {
          "color": "rgb(0,116,217)"
         },
         "mode": "lines",
         "type": "scatter",
         "x": [
          0,
          1.6043483686405098,
          1.6043483686405098,
          1.4014532235787636
         ],
         "xaxis": "x",
         "y": [
          -6225,
          -6225,
          -6242.5,
          -6242.5
         ],
         "yaxis": "y"
        },
        {
         "hoverinfo": "text",
         "marker": {
          "color": "rgb(0,116,217)"
         },
         "mode": "lines",
         "type": "scatter",
         "x": [
          0,
          1.2772950815594966,
          1.2772950815594966,
          0
         ],
         "xaxis": "x",
         "y": [
          -6275,
          -6275,
          -6285,
          -6285
         ],
         "yaxis": "y"
        },
        {
         "hoverinfo": "text",
         "marker": {
          "color": "rgb(0,116,217)"
         },
         "mode": "lines",
         "type": "scatter",
         "x": [
          0,
          1.5606789937276477,
          1.5606789937276477,
          1.2772950815594966
         ],
         "xaxis": "x",
         "y": [
          -6265,
          -6265,
          -6280,
          -6280
         ],
         "yaxis": "y"
        },
        {
         "hoverinfo": "text",
         "marker": {
          "color": "rgb(0,116,217)"
         },
         "mode": "lines",
         "type": "scatter",
         "x": [
          0,
          1.1946877549570831,
          1.1946877549570831,
          0
         ],
         "xaxis": "x",
         "y": [
          -6305,
          -6305,
          -6315,
          -6315
         ],
         "yaxis": "y"
        },
        {
         "hoverinfo": "text",
         "marker": {
          "color": "rgb(0,116,217)"
         },
         "mode": "lines",
         "type": "scatter",
         "x": [
          0,
          1.5716063505846587,
          1.5716063505846587,
          1.1946877549570831
         ],
         "xaxis": "x",
         "y": [
          -6295,
          -6295,
          -6310,
          -6310
         ],
         "yaxis": "y"
        },
        {
         "hoverinfo": "text",
         "marker": {
          "color": "rgb(0,116,217)"
         },
         "mode": "lines",
         "type": "scatter",
         "x": [
          1.5606789937276477,
          2.4638507943724797,
          2.4638507943724797,
          1.5716063505846587
         ],
         "xaxis": "x",
         "y": [
          -6272.5,
          -6272.5,
          -6302.5,
          -6302.5
         ],
         "yaxis": "y"
        },
        {
         "hoverinfo": "text",
         "marker": {
          "color": "rgb(0,116,217)"
         },
         "mode": "lines",
         "type": "scatter",
         "x": [
          1.6043483686405098,
          2.6212521199141885,
          2.6212521199141885,
          2.4638507943724797
         ],
         "xaxis": "x",
         "y": [
          -6233.75,
          -6233.75,
          -6287.5,
          -6287.5
         ],
         "yaxis": "y"
        },
        {
         "hoverinfo": "text",
         "marker": {
          "color": "rgb(0,116,217)"
         },
         "mode": "lines",
         "type": "scatter",
         "x": [
          1.6570627131737166,
          3.3478698344140776,
          3.3478698344140776,
          2.6212521199141885
         ],
         "xaxis": "x",
         "y": [
          -6193.75,
          -6193.75,
          -6260.625,
          -6260.625
         ],
         "yaxis": "y"
        },
        {
         "hoverinfo": "text",
         "marker": {
          "color": "rgb(0,116,217)"
         },
         "mode": "lines",
         "type": "scatter",
         "x": [
          0,
          1.4046631009932145,
          1.4046631009932145,
          0
         ],
         "xaxis": "x",
         "y": [
          -6325,
          -6325,
          -6335,
          -6335
         ],
         "yaxis": "y"
        },
        {
         "hoverinfo": "text",
         "marker": {
          "color": "rgb(0,116,217)"
         },
         "mode": "lines",
         "type": "scatter",
         "x": [
          0,
          1.3599587575023846,
          1.3599587575023846,
          0
         ],
         "xaxis": "x",
         "y": [
          -6355,
          -6355,
          -6365,
          -6365
         ],
         "yaxis": "y"
        },
        {
         "hoverinfo": "text",
         "marker": {
          "color": "rgb(0,116,217)"
         },
         "mode": "lines",
         "type": "scatter",
         "x": [
          0,
          1.7171904887657083,
          1.7171904887657083,
          1.3599587575023846
         ],
         "xaxis": "x",
         "y": [
          -6345,
          -6345,
          -6360,
          -6360
         ],
         "yaxis": "y"
        },
        {
         "hoverinfo": "text",
         "marker": {
          "color": "rgb(0,116,217)"
         },
         "mode": "lines",
         "type": "scatter",
         "x": [
          1.4046631009932145,
          1.8413862150188982,
          1.8413862150188982,
          1.7171904887657083
         ],
         "xaxis": "x",
         "y": [
          -6330,
          -6330,
          -6352.5,
          -6352.5
         ],
         "yaxis": "y"
        },
        {
         "hoverinfo": "text",
         "marker": {
          "color": "rgb(0,116,217)"
         },
         "mode": "lines",
         "type": "scatter",
         "x": [
          0,
          1.3422263175872555,
          1.3422263175872555,
          0
         ],
         "xaxis": "x",
         "y": [
          -6375,
          -6375,
          -6385,
          -6385
         ],
         "yaxis": "y"
        },
        {
         "hoverinfo": "text",
         "marker": {
          "color": "rgb(0,116,217)"
         },
         "mode": "lines",
         "type": "scatter",
         "x": [
          0,
          1.4625209545216393,
          1.4625209545216393,
          0
         ],
         "xaxis": "x",
         "y": [
          -6395,
          -6395,
          -6405,
          -6405
         ],
         "yaxis": "y"
        },
        {
         "hoverinfo": "text",
         "marker": {
          "color": "rgb(0,116,217)"
         },
         "mode": "lines",
         "type": "scatter",
         "x": [
          1.3422263175872555,
          1.7970021823893114,
          1.7970021823893114,
          1.4625209545216393
         ],
         "xaxis": "x",
         "y": [
          -6380,
          -6380,
          -6400,
          -6400
         ],
         "yaxis": "y"
        },
        {
         "hoverinfo": "text",
         "marker": {
          "color": "rgb(0,116,217)"
         },
         "mode": "lines",
         "type": "scatter",
         "x": [
          0,
          1.523833164817845,
          1.523833164817845,
          0
         ],
         "xaxis": "x",
         "y": [
          -6415,
          -6415,
          -6425,
          -6425
         ],
         "yaxis": "y"
        },
        {
         "hoverinfo": "text",
         "marker": {
          "color": "rgb(0,116,217)"
         },
         "mode": "lines",
         "type": "scatter",
         "x": [
          0,
          1.5622834298352208,
          1.5622834298352208,
          0
         ],
         "xaxis": "x",
         "y": [
          -6435,
          -6435,
          -6445,
          -6445
         ],
         "yaxis": "y"
        },
        {
         "hoverinfo": "text",
         "marker": {
          "color": "rgb(0,116,217)"
         },
         "mode": "lines",
         "type": "scatter",
         "x": [
          1.523833164817845,
          1.9252863385111492,
          1.9252863385111492,
          1.5622834298352208
         ],
         "xaxis": "x",
         "y": [
          -6420,
          -6420,
          -6440,
          -6440
         ],
         "yaxis": "y"
        },
        {
         "hoverinfo": "text",
         "marker": {
          "color": "rgb(0,116,217)"
         },
         "mode": "lines",
         "type": "scatter",
         "x": [
          1.7970021823893114,
          2.2771216092623625,
          2.2771216092623625,
          1.9252863385111492
         ],
         "xaxis": "x",
         "y": [
          -6390,
          -6390,
          -6430,
          -6430
         ],
         "yaxis": "y"
        },
        {
         "hoverinfo": "text",
         "marker": {
          "color": "rgb(0,116,217)"
         },
         "mode": "lines",
         "type": "scatter",
         "x": [
          1.8413862150188982,
          2.8004255783575784,
          2.8004255783575784,
          2.2771216092623625
         ],
         "xaxis": "x",
         "y": [
          -6341.25,
          -6341.25,
          -6410,
          -6410
         ],
         "yaxis": "y"
        },
        {
         "hoverinfo": "text",
         "marker": {
          "color": "rgb(255,65,54)"
         },
         "mode": "lines",
         "type": "scatter",
         "x": [
          0,
          0.8880269115767446,
          0.8880269115767446,
          0
         ],
         "xaxis": "x",
         "y": [
          -6455,
          -6455,
          -6465,
          -6465
         ],
         "yaxis": "y"
        },
        {
         "hoverinfo": "text",
         "marker": {
          "color": "rgb(0,116,217)"
         },
         "mode": "lines",
         "type": "scatter",
         "x": [
          0,
          1.381966499200703,
          1.381966499200703,
          0
         ],
         "xaxis": "x",
         "y": [
          -6485,
          -6485,
          -6495,
          -6495
         ],
         "yaxis": "y"
        },
        {
         "hoverinfo": "text",
         "marker": {
          "color": "rgb(0,116,217)"
         },
         "mode": "lines",
         "type": "scatter",
         "x": [
          0,
          1.8143248911151273,
          1.8143248911151273,
          1.381966499200703
         ],
         "xaxis": "x",
         "y": [
          -6475,
          -6475,
          -6490,
          -6490
         ],
         "yaxis": "y"
        },
        {
         "hoverinfo": "text",
         "marker": {
          "color": "rgb(0,116,217)"
         },
         "mode": "lines",
         "type": "scatter",
         "x": [
          0.8880269115767446,
          2.055382410668827,
          2.055382410668827,
          1.8143248911151273
         ],
         "xaxis": "x",
         "y": [
          -6460,
          -6460,
          -6482.5,
          -6482.5
         ],
         "yaxis": "y"
        },
        {
         "hoverinfo": "text",
         "marker": {
          "color": "rgb(0,116,217)"
         },
         "mode": "lines",
         "type": "scatter",
         "x": [
          0,
          1.372379104610876,
          1.372379104610876,
          0
         ],
         "xaxis": "x",
         "y": [
          -6515,
          -6515,
          -6525,
          -6525
         ],
         "yaxis": "y"
        },
        {
         "hoverinfo": "text",
         "marker": {
          "color": "rgb(0,116,217)"
         },
         "mode": "lines",
         "type": "scatter",
         "x": [
          0,
          1.7585725292626722,
          1.7585725292626722,
          1.372379104610876
         ],
         "xaxis": "x",
         "y": [
          -6505,
          -6505,
          -6520,
          -6520
         ],
         "yaxis": "y"
        },
        {
         "hoverinfo": "text",
         "marker": {
          "color": "rgb(0,116,217)"
         },
         "mode": "lines",
         "type": "scatter",
         "x": [
          0,
          1.2333384671732281,
          1.2333384671732281,
          0
         ],
         "xaxis": "x",
         "y": [
          -6535,
          -6535,
          -6545,
          -6545
         ],
         "yaxis": "y"
        },
        {
         "hoverinfo": "text",
         "marker": {
          "color": "rgb(0,116,217)"
         },
         "mode": "lines",
         "type": "scatter",
         "x": [
          0,
          1.486409379475168,
          1.486409379475168,
          0
         ],
         "xaxis": "x",
         "y": [
          -6555,
          -6555,
          -6565,
          -6565
         ],
         "yaxis": "y"
        },
        {
         "hoverinfo": "text",
         "marker": {
          "color": "rgb(0,116,217)"
         },
         "mode": "lines",
         "type": "scatter",
         "x": [
          1.2333384671732281,
          1.939417414473968,
          1.939417414473968,
          1.486409379475168
         ],
         "xaxis": "x",
         "y": [
          -6540,
          -6540,
          -6560,
          -6560
         ],
         "yaxis": "y"
        },
        {
         "hoverinfo": "text",
         "marker": {
          "color": "rgb(0,116,217)"
         },
         "mode": "lines",
         "type": "scatter",
         "x": [
          1.7585725292626722,
          2.4820841116778745,
          2.4820841116778745,
          1.939417414473968
         ],
         "xaxis": "x",
         "y": [
          -6512.5,
          -6512.5,
          -6550,
          -6550
         ],
         "yaxis": "y"
        },
        {
         "hoverinfo": "text",
         "marker": {
          "color": "rgb(0,116,217)"
         },
         "mode": "lines",
         "type": "scatter",
         "x": [
          2.055382410668827,
          3.123784192965325,
          3.123784192965325,
          2.4820841116778745
         ],
         "xaxis": "x",
         "y": [
          -6471.25,
          -6471.25,
          -6531.25,
          -6531.25
         ],
         "yaxis": "y"
        },
        {
         "hoverinfo": "text",
         "marker": {
          "color": "rgb(0,116,217)"
         },
         "mode": "lines",
         "type": "scatter",
         "x": [
          2.8004255783575784,
          4.069082780202346,
          4.069082780202346,
          3.123784192965325
         ],
         "xaxis": "x",
         "y": [
          -6375.625,
          -6375.625,
          -6501.25,
          -6501.25
         ],
         "yaxis": "y"
        },
        {
         "hoverinfo": "text",
         "marker": {
          "color": "rgb(0,116,217)"
         },
         "mode": "lines",
         "type": "scatter",
         "x": [
          3.3478698344140776,
          4.600060056849265,
          4.600060056849265,
          4.069082780202346
         ],
         "xaxis": "x",
         "y": [
          -6227.1875,
          -6227.1875,
          -6438.4375,
          -6438.4375
         ],
         "yaxis": "y"
        },
        {
         "hoverinfo": "text",
         "marker": {
          "color": "rgb(0,116,217)"
         },
         "mode": "lines",
         "type": "scatter",
         "x": [
          0,
          1.3681976256968307,
          1.3681976256968307,
          0
         ],
         "xaxis": "x",
         "y": [
          -6585,
          -6585,
          -6595,
          -6595
         ],
         "yaxis": "y"
        },
        {
         "hoverinfo": "text",
         "marker": {
          "color": "rgb(0,116,217)"
         },
         "mode": "lines",
         "type": "scatter",
         "x": [
          0,
          1.4873764344928697,
          1.4873764344928697,
          1.3681976256968307
         ],
         "xaxis": "x",
         "y": [
          -6575,
          -6575,
          -6590,
          -6590
         ],
         "yaxis": "y"
        },
        {
         "hoverinfo": "text",
         "marker": {
          "color": "rgb(0,116,217)"
         },
         "mode": "lines",
         "type": "scatter",
         "x": [
          0,
          1.4820392845752057,
          1.4820392845752057,
          0
         ],
         "xaxis": "x",
         "y": [
          -6615,
          -6615,
          -6625,
          -6625
         ],
         "yaxis": "y"
        },
        {
         "hoverinfo": "text",
         "marker": {
          "color": "rgb(0,116,217)"
         },
         "mode": "lines",
         "type": "scatter",
         "x": [
          0,
          1.7798761277842177,
          1.7798761277842177,
          1.4820392845752057
         ],
         "xaxis": "x",
         "y": [
          -6605,
          -6605,
          -6620,
          -6620
         ],
         "yaxis": "y"
        },
        {
         "hoverinfo": "text",
         "marker": {
          "color": "rgb(0,116,217)"
         },
         "mode": "lines",
         "type": "scatter",
         "x": [
          1.4873764344928697,
          2.042698336224291,
          2.042698336224291,
          1.7798761277842177
         ],
         "xaxis": "x",
         "y": [
          -6582.5,
          -6582.5,
          -6612.5,
          -6612.5
         ],
         "yaxis": "y"
        },
        {
         "hoverinfo": "text",
         "marker": {
          "color": "rgb(0,116,217)"
         },
         "mode": "lines",
         "type": "scatter",
         "x": [
          0,
          1.0846245599936204,
          1.0846245599936204,
          0
         ],
         "xaxis": "x",
         "y": [
          -6635,
          -6635,
          -6645,
          -6645
         ],
         "yaxis": "y"
        },
        {
         "hoverinfo": "text",
         "marker": {
          "color": "rgb(0,116,217)"
         },
         "mode": "lines",
         "type": "scatter",
         "x": [
          0,
          1.4221504189665979,
          1.4221504189665979,
          0
         ],
         "xaxis": "x",
         "y": [
          -6655,
          -6655,
          -6665,
          -6665
         ],
         "yaxis": "y"
        },
        {
         "hoverinfo": "text",
         "marker": {
          "color": "rgb(0,116,217)"
         },
         "mode": "lines",
         "type": "scatter",
         "x": [
          1.0846245599936204,
          1.674158264535085,
          1.674158264535085,
          1.4221504189665979
         ],
         "xaxis": "x",
         "y": [
          -6640,
          -6640,
          -6660,
          -6660
         ],
         "yaxis": "y"
        },
        {
         "hoverinfo": "text",
         "marker": {
          "color": "rgb(0,116,217)"
         },
         "mode": "lines",
         "type": "scatter",
         "x": [
          0,
          1.3864978812222297,
          1.3864978812222297,
          0
         ],
         "xaxis": "x",
         "y": [
          -6685,
          -6685,
          -6695,
          -6695
         ],
         "yaxis": "y"
        },
        {
         "hoverinfo": "text",
         "marker": {
          "color": "rgb(0,116,217)"
         },
         "mode": "lines",
         "type": "scatter",
         "x": [
          0,
          1.7201018226897014,
          1.7201018226897014,
          1.3864978812222297
         ],
         "xaxis": "x",
         "y": [
          -6675,
          -6675,
          -6690,
          -6690
         ],
         "yaxis": "y"
        },
        {
         "hoverinfo": "text",
         "marker": {
          "color": "rgb(0,116,217)"
         },
         "mode": "lines",
         "type": "scatter",
         "x": [
          1.674158264535085,
          2.052465671253171,
          2.052465671253171,
          1.7201018226897014
         ],
         "xaxis": "x",
         "y": [
          -6650,
          -6650,
          -6682.5,
          -6682.5
         ],
         "yaxis": "y"
        },
        {
         "hoverinfo": "text",
         "marker": {
          "color": "rgb(0,116,217)"
         },
         "mode": "lines",
         "type": "scatter",
         "x": [
          0,
          1.2986483637904258,
          1.2986483637904258,
          0
         ],
         "xaxis": "x",
         "y": [
          -6715,
          -6715,
          -6725,
          -6725
         ],
         "yaxis": "y"
        },
        {
         "hoverinfo": "text",
         "marker": {
          "color": "rgb(0,116,217)"
         },
         "mode": "lines",
         "type": "scatter",
         "x": [
          0,
          1.5014429367533852,
          1.5014429367533852,
          1.2986483637904258
         ],
         "xaxis": "x",
         "y": [
          -6705,
          -6705,
          -6720,
          -6720
         ],
         "yaxis": "y"
        },
        {
         "hoverinfo": "text",
         "marker": {
          "color": "rgb(0,116,217)"
         },
         "mode": "lines",
         "type": "scatter",
         "x": [
          0,
          1.5517144430747998,
          1.5517144430747998,
          0
         ],
         "xaxis": "x",
         "y": [
          -6735,
          -6735,
          -6745,
          -6745
         ],
         "yaxis": "y"
        },
        {
         "hoverinfo": "text",
         "marker": {
          "color": "rgb(0,116,217)"
         },
         "mode": "lines",
         "type": "scatter",
         "x": [
          1.5014429367533852,
          1.7137979120978488,
          1.7137979120978488,
          1.5517144430747998
         ],
         "xaxis": "x",
         "y": [
          -6712.5,
          -6712.5,
          -6740,
          -6740
         ],
         "yaxis": "y"
        },
        {
         "hoverinfo": "text",
         "marker": {
          "color": "rgb(0,116,217)"
         },
         "mode": "lines",
         "type": "scatter",
         "x": [
          0,
          1.2082300517997342,
          1.2082300517997342,
          0
         ],
         "xaxis": "x",
         "y": [
          -6755,
          -6755,
          -6765,
          -6765
         ],
         "yaxis": "y"
        },
        {
         "hoverinfo": "text",
         "marker": {
          "color": "rgb(0,116,217)"
         },
         "mode": "lines",
         "type": "scatter",
         "x": [
          0,
          1.3624219513673164,
          1.3624219513673164,
          0
         ],
         "xaxis": "x",
         "y": [
          -6785,
          -6785,
          -6795,
          -6795
         ],
         "yaxis": "y"
        },
        {
         "hoverinfo": "text",
         "marker": {
          "color": "rgb(0,116,217)"
         },
         "mode": "lines",
         "type": "scatter",
         "x": [
          0,
          1.6131995517395201,
          1.6131995517395201,
          1.3624219513673164
         ],
         "xaxis": "x",
         "y": [
          -6775,
          -6775,
          -6790,
          -6790
         ],
         "yaxis": "y"
        },
        {
         "hoverinfo": "text",
         "marker": {
          "color": "rgb(0,116,217)"
         },
         "mode": "lines",
         "type": "scatter",
         "x": [
          1.2082300517997342,
          1.8204392764675328,
          1.8204392764675328,
          1.6131995517395201
         ],
         "xaxis": "x",
         "y": [
          -6760,
          -6760,
          -6782.5,
          -6782.5
         ],
         "yaxis": "y"
        },
        {
         "hoverinfo": "text",
         "marker": {
          "color": "rgb(0,116,217)"
         },
         "mode": "lines",
         "type": "scatter",
         "x": [
          1.7137979120978488,
          2.335507380831254,
          2.335507380831254,
          1.8204392764675328
         ],
         "xaxis": "x",
         "y": [
          -6726.25,
          -6726.25,
          -6771.25,
          -6771.25
         ],
         "yaxis": "y"
        },
        {
         "hoverinfo": "text",
         "marker": {
          "color": "rgb(0,116,217)"
         },
         "mode": "lines",
         "type": "scatter",
         "x": [
          2.052465671253171,
          2.5432047304003578,
          2.5432047304003578,
          2.335507380831254
         ],
         "xaxis": "x",
         "y": [
          -6666.25,
          -6666.25,
          -6748.75,
          -6748.75
         ],
         "yaxis": "y"
        },
        {
         "hoverinfo": "text",
         "marker": {
          "color": "rgb(0,116,217)"
         },
         "mode": "lines",
         "type": "scatter",
         "x": [
          2.042698336224291,
          3.152599317631888,
          3.152599317631888,
          2.5432047304003578
         ],
         "xaxis": "x",
         "y": [
          -6597.5,
          -6597.5,
          -6707.5,
          -6707.5
         ],
         "yaxis": "y"
        },
        {
         "hoverinfo": "text",
         "marker": {
          "color": "rgb(0,116,217)"
         },
         "mode": "lines",
         "type": "scatter",
         "x": [
          0,
          1.2916788424758792,
          1.2916788424758792,
          0
         ],
         "xaxis": "x",
         "y": [
          -6805,
          -6805,
          -6815,
          -6815
         ],
         "yaxis": "y"
        },
        {
         "hoverinfo": "text",
         "marker": {
          "color": "rgb(0,116,217)"
         },
         "mode": "lines",
         "type": "scatter",
         "x": [
          0,
          1.4596813394742836,
          1.4596813394742836,
          0
         ],
         "xaxis": "x",
         "y": [
          -6825,
          -6825,
          -6835,
          -6835
         ],
         "yaxis": "y"
        },
        {
         "hoverinfo": "text",
         "marker": {
          "color": "rgb(0,116,217)"
         },
         "mode": "lines",
         "type": "scatter",
         "x": [
          1.2916788424758792,
          1.9115553749119618,
          1.9115553749119618,
          1.4596813394742836
         ],
         "xaxis": "x",
         "y": [
          -6810,
          -6810,
          -6830,
          -6830
         ],
         "yaxis": "y"
        },
        {
         "hoverinfo": "text",
         "marker": {
          "color": "rgb(0,116,217)"
         },
         "mode": "lines",
         "type": "scatter",
         "x": [
          0,
          1.3608348296732804,
          1.3608348296732804,
          0
         ],
         "xaxis": "x",
         "y": [
          -6845,
          -6845,
          -6855,
          -6855
         ],
         "yaxis": "y"
        },
        {
         "hoverinfo": "text",
         "marker": {
          "color": "rgb(0,116,217)"
         },
         "mode": "lines",
         "type": "scatter",
         "x": [
          0,
          1.1849283800805486,
          1.1849283800805486,
          0
         ],
         "xaxis": "x",
         "y": [
          -6865,
          -6865,
          -6875,
          -6875
         ],
         "yaxis": "y"
        },
        {
         "hoverinfo": "text",
         "marker": {
          "color": "rgb(0,116,217)"
         },
         "mode": "lines",
         "type": "scatter",
         "x": [
          0,
          1.4870984608121864,
          1.4870984608121864,
          0
         ],
         "xaxis": "x",
         "y": [
          -6885,
          -6885,
          -6895,
          -6895
         ],
         "yaxis": "y"
        },
        {
         "hoverinfo": "text",
         "marker": {
          "color": "rgb(0,116,217)"
         },
         "mode": "lines",
         "type": "scatter",
         "x": [
          0,
          1.5871846441672068,
          1.5871846441672068,
          0
         ],
         "xaxis": "x",
         "y": [
          -6905,
          -6905,
          -6915,
          -6915
         ],
         "yaxis": "y"
        },
        {
         "hoverinfo": "text",
         "marker": {
          "color": "rgb(0,116,217)"
         },
         "mode": "lines",
         "type": "scatter",
         "x": [
          1.4870984608121864,
          1.7649567339450765,
          1.7649567339450765,
          1.5871846441672068
         ],
         "xaxis": "x",
         "y": [
          -6890,
          -6890,
          -6910,
          -6910
         ],
         "yaxis": "y"
        },
        {
         "hoverinfo": "text",
         "marker": {
          "color": "rgb(0,116,217)"
         },
         "mode": "lines",
         "type": "scatter",
         "x": [
          1.1849283800805486,
          2.168612902505712,
          2.168612902505712,
          1.7649567339450765
         ],
         "xaxis": "x",
         "y": [
          -6870,
          -6870,
          -6900,
          -6900
         ],
         "yaxis": "y"
        },
        {
         "hoverinfo": "text",
         "marker": {
          "color": "rgb(0,116,217)"
         },
         "mode": "lines",
         "type": "scatter",
         "x": [
          1.3608348296732804,
          2.52974721253049,
          2.52974721253049,
          2.168612902505712
         ],
         "xaxis": "x",
         "y": [
          -6850,
          -6850,
          -6885,
          -6885
         ],
         "yaxis": "y"
        },
        {
         "hoverinfo": "text",
         "marker": {
          "color": "rgb(0,116,217)"
         },
         "mode": "lines",
         "type": "scatter",
         "x": [
          1.9115553749119618,
          3.2982623472114923,
          3.2982623472114923,
          2.52974721253049
         ],
         "xaxis": "x",
         "y": [
          -6820,
          -6820,
          -6867.5,
          -6867.5
         ],
         "yaxis": "y"
        },
        {
         "hoverinfo": "text",
         "marker": {
          "color": "rgb(0,116,217)"
         },
         "mode": "lines",
         "type": "scatter",
         "x": [
          3.152599317631888,
          3.794799173535883,
          3.794799173535883,
          3.2982623472114923
         ],
         "xaxis": "x",
         "y": [
          -6652.5,
          -6652.5,
          -6843.75,
          -6843.75
         ],
         "yaxis": "y"
        },
        {
         "hoverinfo": "text",
         "marker": {
          "color": "rgb(0,116,217)"
         },
         "mode": "lines",
         "type": "scatter",
         "x": [
          0,
          1.2401126969225196,
          1.2401126969225196,
          0
         ],
         "xaxis": "x",
         "y": [
          -6925,
          -6925,
          -6935,
          -6935
         ],
         "yaxis": "y"
        },
        {
         "hoverinfo": "text",
         "marker": {
          "color": "rgb(0,116,217)"
         },
         "mode": "lines",
         "type": "scatter",
         "x": [
          0,
          1.2818648503751366,
          1.2818648503751366,
          0
         ],
         "xaxis": "x",
         "y": [
          -6945,
          -6945,
          -6955,
          -6955
         ],
         "yaxis": "y"
        },
        {
         "hoverinfo": "text",
         "marker": {
          "color": "rgb(0,116,217)"
         },
         "mode": "lines",
         "type": "scatter",
         "x": [
          1.2401126969225196,
          1.6885778734862555,
          1.6885778734862555,
          1.2818648503751366
         ],
         "xaxis": "x",
         "y": [
          -6930,
          -6930,
          -6950,
          -6950
         ],
         "yaxis": "y"
        },
        {
         "hoverinfo": "text",
         "marker": {
          "color": "rgb(0,116,217)"
         },
         "mode": "lines",
         "type": "scatter",
         "x": [
          0,
          1.4584101881971006,
          1.4584101881971006,
          0
         ],
         "xaxis": "x",
         "y": [
          -6965,
          -6965,
          -6975,
          -6975
         ],
         "yaxis": "y"
        },
        {
         "hoverinfo": "text",
         "marker": {
          "color": "rgb(0,116,217)"
         },
         "mode": "lines",
         "type": "scatter",
         "x": [
          0,
          1.5083453968759042,
          1.5083453968759042,
          0
         ],
         "xaxis": "x",
         "y": [
          -6985,
          -6985,
          -6995,
          -6995
         ],
         "yaxis": "y"
        },
        {
         "hoverinfo": "text",
         "marker": {
          "color": "rgb(0,116,217)"
         },
         "mode": "lines",
         "type": "scatter",
         "x": [
          1.4584101881971006,
          2.2137642313782733,
          2.2137642313782733,
          1.5083453968759042
         ],
         "xaxis": "x",
         "y": [
          -6970,
          -6970,
          -6990,
          -6990
         ],
         "yaxis": "y"
        },
        {
         "hoverinfo": "text",
         "marker": {
          "color": "rgb(0,116,217)"
         },
         "mode": "lines",
         "type": "scatter",
         "x": [
          1.6885778734862555,
          2.8389139465751767,
          2.8389139465751767,
          2.2137642313782733
         ],
         "xaxis": "x",
         "y": [
          -6940,
          -6940,
          -6980,
          -6980
         ],
         "yaxis": "y"
        },
        {
         "hoverinfo": "text",
         "marker": {
          "color": "rgb(0,116,217)"
         },
         "mode": "lines",
         "type": "scatter",
         "x": [
          0,
          1.1432981630204966,
          1.1432981630204966,
          0
         ],
         "xaxis": "x",
         "y": [
          -7015,
          -7015,
          -7025,
          -7025
         ],
         "yaxis": "y"
        },
        {
         "hoverinfo": "text",
         "marker": {
          "color": "rgb(0,116,217)"
         },
         "mode": "lines",
         "type": "scatter",
         "x": [
          0,
          1.3702152851808984,
          1.3702152851808984,
          1.1432981630204966
         ],
         "xaxis": "x",
         "y": [
          -7005,
          -7005,
          -7020,
          -7020
         ],
         "yaxis": "y"
        },
        {
         "hoverinfo": "text",
         "marker": {
          "color": "rgb(0,116,217)"
         },
         "mode": "lines",
         "type": "scatter",
         "x": [
          0,
          1.4568738574517146,
          1.4568738574517146,
          0
         ],
         "xaxis": "x",
         "y": [
          -7045,
          -7045,
          -7055,
          -7055
         ],
         "yaxis": "y"
        },
        {
         "hoverinfo": "text",
         "marker": {
          "color": "rgb(0,116,217)"
         },
         "mode": "lines",
         "type": "scatter",
         "x": [
          0,
          1.7315204330996568,
          1.7315204330996568,
          1.4568738574517146
         ],
         "xaxis": "x",
         "y": [
          -7035,
          -7035,
          -7050,
          -7050
         ],
         "yaxis": "y"
        },
        {
         "hoverinfo": "text",
         "marker": {
          "color": "rgb(0,116,217)"
         },
         "mode": "lines",
         "type": "scatter",
         "x": [
          1.3702152851808984,
          2.5243054431088714,
          2.5243054431088714,
          1.7315204330996568
         ],
         "xaxis": "x",
         "y": [
          -7012.5,
          -7012.5,
          -7042.5,
          -7042.5
         ],
         "yaxis": "y"
        },
        {
         "hoverinfo": "text",
         "marker": {
          "color": "rgb(0,116,217)"
         },
         "mode": "lines",
         "type": "scatter",
         "x": [
          0,
          1.375244939208042,
          1.375244939208042,
          0
         ],
         "xaxis": "x",
         "y": [
          -7065,
          -7065,
          -7075,
          -7075
         ],
         "yaxis": "y"
        },
        {
         "hoverinfo": "text",
         "marker": {
          "color": "rgb(0,116,217)"
         },
         "mode": "lines",
         "type": "scatter",
         "x": [
          0,
          1.4062900921157622,
          1.4062900921157622,
          0
         ],
         "xaxis": "x",
         "y": [
          -7085,
          -7085,
          -7095,
          -7095
         ],
         "yaxis": "y"
        },
        {
         "hoverinfo": "text",
         "marker": {
          "color": "rgb(0,116,217)"
         },
         "mode": "lines",
         "type": "scatter",
         "x": [
          1.375244939208042,
          1.779376493378074,
          1.779376493378074,
          1.4062900921157622
         ],
         "xaxis": "x",
         "y": [
          -7070,
          -7070,
          -7090,
          -7090
         ],
         "yaxis": "y"
        },
        {
         "hoverinfo": "text",
         "marker": {
          "color": "rgb(0,116,217)"
         },
         "mode": "lines",
         "type": "scatter",
         "x": [
          0,
          1.5025307367937533,
          1.5025307367937533,
          0
         ],
         "xaxis": "x",
         "y": [
          -7105,
          -7105,
          -7115,
          -7115
         ],
         "yaxis": "y"
        },
        {
         "hoverinfo": "text",
         "marker": {
          "color": "rgb(0,116,217)"
         },
         "mode": "lines",
         "type": "scatter",
         "x": [
          0,
          1.4150641398496884,
          1.4150641398496884,
          0
         ],
         "xaxis": "x",
         "y": [
          -7125,
          -7125,
          -7135,
          -7135
         ],
         "yaxis": "y"
        },
        {
         "hoverinfo": "text",
         "marker": {
          "color": "rgb(0,116,217)"
         },
         "mode": "lines",
         "type": "scatter",
         "x": [
          0,
          1.5309787172192266,
          1.5309787172192266,
          0
         ],
         "xaxis": "x",
         "y": [
          -7145,
          -7145,
          -7155,
          -7155
         ],
         "yaxis": "y"
        },
        {
         "hoverinfo": "text",
         "marker": {
          "color": "rgb(0,116,217)"
         },
         "mode": "lines",
         "type": "scatter",
         "x": [
          1.4150641398496884,
          1.9010137481339786,
          1.9010137481339786,
          1.5309787172192266
         ],
         "xaxis": "x",
         "y": [
          -7130,
          -7130,
          -7150,
          -7150
         ],
         "yaxis": "y"
        },
        {
         "hoverinfo": "text",
         "marker": {
          "color": "rgb(0,116,217)"
         },
         "mode": "lines",
         "type": "scatter",
         "x": [
          1.5025307367937533,
          2.2563708034656753,
          2.2563708034656753,
          1.9010137481339786
         ],
         "xaxis": "x",
         "y": [
          -7110,
          -7110,
          -7140,
          -7140
         ],
         "yaxis": "y"
        },
        {
         "hoverinfo": "text",
         "marker": {
          "color": "rgb(0,116,217)"
         },
         "mode": "lines",
         "type": "scatter",
         "x": [
          1.779376493378074,
          3.177135159799484,
          3.177135159799484,
          2.2563708034656753
         ],
         "xaxis": "x",
         "y": [
          -7080,
          -7080,
          -7125,
          -7125
         ],
         "yaxis": "y"
        },
        {
         "hoverinfo": "text",
         "marker": {
          "color": "rgb(0,116,217)"
         },
         "mode": "lines",
         "type": "scatter",
         "x": [
          2.5243054431088714,
          3.4443337542660366,
          3.4443337542660366,
          3.177135159799484
         ],
         "xaxis": "x",
         "y": [
          -7027.5,
          -7027.5,
          -7102.5,
          -7102.5
         ],
         "yaxis": "y"
        },
        {
         "hoverinfo": "text",
         "marker": {
          "color": "rgb(0,116,217)"
         },
         "mode": "lines",
         "type": "scatter",
         "x": [
          2.8389139465751767,
          3.9997088207299254,
          3.9997088207299254,
          3.4443337542660366
         ],
         "xaxis": "x",
         "y": [
          -6960,
          -6960,
          -7065,
          -7065
         ],
         "yaxis": "y"
        },
        {
         "hoverinfo": "text",
         "marker": {
          "color": "rgb(0,116,217)"
         },
         "mode": "lines",
         "type": "scatter",
         "x": [
          3.794799173535883,
          5.046541974488877,
          5.046541974488877,
          3.9997088207299254
         ],
         "xaxis": "x",
         "y": [
          -6748.125,
          -6748.125,
          -7012.5,
          -7012.5
         ],
         "yaxis": "y"
        },
        {
         "hoverinfo": "text",
         "marker": {
          "color": "rgb(0,116,217)"
         },
         "mode": "lines",
         "type": "scatter",
         "x": [
          4.600060056849265,
          7.386213596835689,
          7.386213596835689,
          5.046541974488877
         ],
         "xaxis": "x",
         "y": [
          -6332.8125,
          -6332.8125,
          -6880.3125,
          -6880.3125
         ],
         "yaxis": "y"
        },
        {
         "hoverinfo": "text",
         "marker": {
          "color": "rgb(0,116,217)"
         },
         "mode": "lines",
         "type": "scatter",
         "x": [
          6.464048254637043,
          10.408776987642316,
          10.408776987642316,
          7.386213596835689
         ],
         "xaxis": "x",
         "y": [
          -5806.23046875,
          -5806.23046875,
          -6606.5625,
          -6606.5625
         ],
         "yaxis": "y"
        },
        {
         "hoverinfo": "text",
         "marker": {
          "color": "rgb(0,116,217)"
         },
         "mode": "lines",
         "type": "scatter",
         "x": [
          5.558788127102843,
          12.204776410621019,
          12.204776410621019,
          10.408776987642316
         ],
         "xaxis": "x",
         "y": [
          -5042.16796875,
          -5042.16796875,
          -6206.396484375,
          -6206.396484375
         ],
         "yaxis": "y"
        },
        {
         "hoverinfo": "text",
         "marker": {
          "color": "rgb(0,116,217)"
         },
         "mode": "lines",
         "type": "scatter",
         "x": [
          7.979235372584881,
          18.1024854260539,
          18.1024854260539,
          12.204776410621019
         ],
         "xaxis": "x",
         "y": [
          -4025.6689453125,
          -4025.6689453125,
          -5624.2822265625,
          -5624.2822265625
         ],
         "yaxis": "y"
        },
        {
         "hoverinfo": "text",
         "marker": {
          "color": "rgb(0,116,217)"
         },
         "mode": "lines",
         "type": "scatter",
         "x": [
          0,
          1.8132741689451273,
          1.8132741689451273,
          0
         ],
         "xaxis": "x",
         "y": [
          -7175,
          -7175,
          -7185,
          -7185
         ],
         "yaxis": "y"
        },
        {
         "hoverinfo": "text",
         "marker": {
          "color": "rgb(0,116,217)"
         },
         "mode": "lines",
         "type": "scatter",
         "x": [
          0,
          1.8650573004356792,
          1.8650573004356792,
          1.8132741689451273
         ],
         "xaxis": "x",
         "y": [
          -7165,
          -7165,
          -7180,
          -7180
         ],
         "yaxis": "y"
        },
        {
         "hoverinfo": "text",
         "marker": {
          "color": "rgb(0,116,217)"
         },
         "mode": "lines",
         "type": "scatter",
         "x": [
          0,
          1.4593856445534938,
          1.4593856445534938,
          0
         ],
         "xaxis": "x",
         "y": [
          -7205,
          -7205,
          -7215,
          -7215
         ],
         "yaxis": "y"
        },
        {
         "hoverinfo": "text",
         "marker": {
          "color": "rgb(0,116,217)"
         },
         "mode": "lines",
         "type": "scatter",
         "x": [
          0,
          1.9032387389171175,
          1.9032387389171175,
          1.4593856445534938
         ],
         "xaxis": "x",
         "y": [
          -7195,
          -7195,
          -7210,
          -7210
         ],
         "yaxis": "y"
        },
        {
         "hoverinfo": "text",
         "marker": {
          "color": "rgb(0,116,217)"
         },
         "mode": "lines",
         "type": "scatter",
         "x": [
          1.8650573004356792,
          2.257162528286791,
          2.257162528286791,
          1.9032387389171175
         ],
         "xaxis": "x",
         "y": [
          -7172.5,
          -7172.5,
          -7202.5,
          -7202.5
         ],
         "yaxis": "y"
        },
        {
         "hoverinfo": "text",
         "marker": {
          "color": "rgb(0,116,217)"
         },
         "mode": "lines",
         "type": "scatter",
         "x": [
          0,
          1.4682405245270378,
          1.4682405245270378,
          0
         ],
         "xaxis": "x",
         "y": [
          -7225,
          -7225,
          -7235,
          -7235
         ],
         "yaxis": "y"
        },
        {
         "hoverinfo": "text",
         "marker": {
          "color": "rgb(0,116,217)"
         },
         "mode": "lines",
         "type": "scatter",
         "x": [
          0,
          1.3946796506954005,
          1.3946796506954005,
          0
         ],
         "xaxis": "x",
         "y": [
          -7255,
          -7255,
          -7265,
          -7265
         ],
         "yaxis": "y"
        },
        {
         "hoverinfo": "text",
         "marker": {
          "color": "rgb(0,116,217)"
         },
         "mode": "lines",
         "type": "scatter",
         "x": [
          0,
          1.6453829963509448,
          1.6453829963509448,
          1.3946796506954005
         ],
         "xaxis": "x",
         "y": [
          -7245,
          -7245,
          -7260,
          -7260
         ],
         "yaxis": "y"
        },
        {
         "hoverinfo": "text",
         "marker": {
          "color": "rgb(0,116,217)"
         },
         "mode": "lines",
         "type": "scatter",
         "x": [
          1.4682405245270378,
          1.9793616091116177,
          1.9793616091116177,
          1.6453829963509448
         ],
         "xaxis": "x",
         "y": [
          -7230,
          -7230,
          -7252.5,
          -7252.5
         ],
         "yaxis": "y"
        },
        {
         "hoverinfo": "text",
         "marker": {
          "color": "rgb(0,116,217)"
         },
         "mode": "lines",
         "type": "scatter",
         "x": [
          0,
          1.6376350825531831,
          1.6376350825531831,
          0
         ],
         "xaxis": "x",
         "y": [
          -7275,
          -7275,
          -7285,
          -7285
         ],
         "yaxis": "y"
        },
        {
         "hoverinfo": "text",
         "marker": {
          "color": "rgb(0,116,217)"
         },
         "mode": "lines",
         "type": "scatter",
         "x": [
          0,
          1.555590161147933,
          1.555590161147933,
          0
         ],
         "xaxis": "x",
         "y": [
          -7295,
          -7295,
          -7305,
          -7305
         ],
         "yaxis": "y"
        },
        {
         "hoverinfo": "text",
         "marker": {
          "color": "rgb(0,116,217)"
         },
         "mode": "lines",
         "type": "scatter",
         "x": [
          0,
          1.4178988432104465,
          1.4178988432104465,
          0
         ],
         "xaxis": "x",
         "y": [
          -7325,
          -7325,
          -7335,
          -7335
         ],
         "yaxis": "y"
        },
        {
         "hoverinfo": "text",
         "marker": {
          "color": "rgb(0,116,217)"
         },
         "mode": "lines",
         "type": "scatter",
         "x": [
          0,
          1.6495503688533166,
          1.6495503688533166,
          1.4178988432104465
         ],
         "xaxis": "x",
         "y": [
          -7315,
          -7315,
          -7330,
          -7330
         ],
         "yaxis": "y"
        },
        {
         "hoverinfo": "text",
         "marker": {
          "color": "rgb(0,116,217)"
         },
         "mode": "lines",
         "type": "scatter",
         "x": [
          1.555590161147933,
          2.0420202681910284,
          2.0420202681910284,
          1.6495503688533166
         ],
         "xaxis": "x",
         "y": [
          -7300,
          -7300,
          -7322.5,
          -7322.5
         ],
         "yaxis": "y"
        },
        {
         "hoverinfo": "text",
         "marker": {
          "color": "rgb(0,116,217)"
         },
         "mode": "lines",
         "type": "scatter",
         "x": [
          1.6376350825531831,
          2.194717592950625,
          2.194717592950625,
          2.0420202681910284
         ],
         "xaxis": "x",
         "y": [
          -7280,
          -7280,
          -7311.25,
          -7311.25
         ],
         "yaxis": "y"
        },
        {
         "hoverinfo": "text",
         "marker": {
          "color": "rgb(0,116,217)"
         },
         "mode": "lines",
         "type": "scatter",
         "x": [
          1.9793616091116177,
          3.130480066110086,
          3.130480066110086,
          2.194717592950625
         ],
         "xaxis": "x",
         "y": [
          -7241.25,
          -7241.25,
          -7295.625,
          -7295.625
         ],
         "yaxis": "y"
        },
        {
         "hoverinfo": "text",
         "marker": {
          "color": "rgb(0,116,217)"
         },
         "mode": "lines",
         "type": "scatter",
         "x": [
          2.257162528286791,
          3.372935568941205,
          3.372935568941205,
          3.130480066110086
         ],
         "xaxis": "x",
         "y": [
          -7187.5,
          -7187.5,
          -7268.4375,
          -7268.4375
         ],
         "yaxis": "y"
        },
        {
         "hoverinfo": "text",
         "marker": {
          "color": "rgb(35,205,205)"
         },
         "mode": "lines",
         "type": "scatter",
         "x": [
          0,
          0.6527619494888539,
          0.6527619494888539,
          0
         ],
         "xaxis": "x",
         "y": [
          -7355,
          -7355,
          -7365,
          -7365
         ],
         "yaxis": "y"
        },
        {
         "hoverinfo": "text",
         "marker": {
          "color": "rgb(0,116,217)"
         },
         "mode": "lines",
         "type": "scatter",
         "x": [
          0,
          1.3981731501393742,
          1.3981731501393742,
          0.6527619494888539
         ],
         "xaxis": "x",
         "y": [
          -7345,
          -7345,
          -7360,
          -7360
         ],
         "yaxis": "y"
        },
        {
         "hoverinfo": "text",
         "marker": {
          "color": "rgb(0,116,217)"
         },
         "mode": "lines",
         "type": "scatter",
         "x": [
          0,
          1.2682793937494425,
          1.2682793937494425,
          0
         ],
         "xaxis": "x",
         "y": [
          -7385,
          -7385,
          -7395,
          -7395
         ],
         "yaxis": "y"
        },
        {
         "hoverinfo": "text",
         "marker": {
          "color": "rgb(0,116,217)"
         },
         "mode": "lines",
         "type": "scatter",
         "x": [
          0,
          1.4007154128475363,
          1.4007154128475363,
          1.2682793937494425
         ],
         "xaxis": "x",
         "y": [
          -7375,
          -7375,
          -7390,
          -7390
         ],
         "yaxis": "y"
        },
        {
         "hoverinfo": "text",
         "marker": {
          "color": "rgb(0,116,217)"
         },
         "mode": "lines",
         "type": "scatter",
         "x": [
          0,
          1.2591946365743534,
          1.2591946365743534,
          0
         ],
         "xaxis": "x",
         "y": [
          -7415,
          -7415,
          -7425,
          -7425
         ],
         "yaxis": "y"
        },
        {
         "hoverinfo": "text",
         "marker": {
          "color": "rgb(0,116,217)"
         },
         "mode": "lines",
         "type": "scatter",
         "x": [
          0,
          1.6097408395933972,
          1.6097408395933972,
          1.2591946365743534
         ],
         "xaxis": "x",
         "y": [
          -7405,
          -7405,
          -7420,
          -7420
         ],
         "yaxis": "y"
        },
        {
         "hoverinfo": "text",
         "marker": {
          "color": "rgb(0,116,217)"
         },
         "mode": "lines",
         "type": "scatter",
         "x": [
          1.4007154128475363,
          1.9327902610936518,
          1.9327902610936518,
          1.6097408395933972
         ],
         "xaxis": "x",
         "y": [
          -7382.5,
          -7382.5,
          -7412.5,
          -7412.5
         ],
         "yaxis": "y"
        },
        {
         "hoverinfo": "text",
         "marker": {
          "color": "rgb(0,116,217)"
         },
         "mode": "lines",
         "type": "scatter",
         "x": [
          1.3981731501393742,
          2.7612218050280704,
          2.7612218050280704,
          1.9327902610936518
         ],
         "xaxis": "x",
         "y": [
          -7352.5,
          -7352.5,
          -7397.5,
          -7397.5
         ],
         "yaxis": "y"
        },
        {
         "hoverinfo": "text",
         "marker": {
          "color": "rgb(61,153,112)"
         },
         "mode": "lines",
         "type": "scatter",
         "x": [
          0,
          0.93436040639088,
          0.93436040639088,
          0
         ],
         "xaxis": "x",
         "y": [
          -7435,
          -7435,
          -7445,
          -7445
         ],
         "yaxis": "y"
        },
        {
         "hoverinfo": "text",
         "marker": {
          "color": "rgb(0,116,217)"
         },
         "mode": "lines",
         "type": "scatter",
         "x": [
          0,
          1.456115922144681,
          1.456115922144681,
          0
         ],
         "xaxis": "x",
         "y": [
          -7455,
          -7455,
          -7465,
          -7465
         ],
         "yaxis": "y"
        },
        {
         "hoverinfo": "text",
         "marker": {
          "color": "rgb(0,116,217)"
         },
         "mode": "lines",
         "type": "scatter",
         "x": [
          0,
          1.5925006463249802,
          1.5925006463249802,
          0
         ],
         "xaxis": "x",
         "y": [
          -7475,
          -7475,
          -7485,
          -7485
         ],
         "yaxis": "y"
        },
        {
         "hoverinfo": "text",
         "marker": {
          "color": "rgb(0,116,217)"
         },
         "mode": "lines",
         "type": "scatter",
         "x": [
          1.456115922144681,
          1.8018730213402907,
          1.8018730213402907,
          1.5925006463249802
         ],
         "xaxis": "x",
         "y": [
          -7460,
          -7460,
          -7480,
          -7480
         ],
         "yaxis": "y"
        },
        {
         "hoverinfo": "text",
         "marker": {
          "color": "rgb(0,116,217)"
         },
         "mode": "lines",
         "type": "scatter",
         "x": [
          0,
          1.4369065823508718,
          1.4369065823508718,
          0
         ],
         "xaxis": "x",
         "y": [
          -7495,
          -7495,
          -7505,
          -7505
         ],
         "yaxis": "y"
        },
        {
         "hoverinfo": "text",
         "marker": {
          "color": "rgb(0,116,217)"
         },
         "mode": "lines",
         "type": "scatter",
         "x": [
          0,
          1.5280533839509294,
          1.5280533839509294,
          0
         ],
         "xaxis": "x",
         "y": [
          -7515,
          -7515,
          -7525,
          -7525
         ],
         "yaxis": "y"
        },
        {
         "hoverinfo": "text",
         "marker": {
          "color": "rgb(0,116,217)"
         },
         "mode": "lines",
         "type": "scatter",
         "x": [
          1.4369065823508718,
          2.090236895389315,
          2.090236895389315,
          1.5280533839509294
         ],
         "xaxis": "x",
         "y": [
          -7500,
          -7500,
          -7520,
          -7520
         ],
         "yaxis": "y"
        },
        {
         "hoverinfo": "text",
         "marker": {
          "color": "rgb(0,116,217)"
         },
         "mode": "lines",
         "type": "scatter",
         "x": [
          1.8018730213402907,
          2.5395843560208795,
          2.5395843560208795,
          2.090236895389315
         ],
         "xaxis": "x",
         "y": [
          -7470,
          -7470,
          -7510,
          -7510
         ],
         "yaxis": "y"
        },
        {
         "hoverinfo": "text",
         "marker": {
          "color": "rgb(0,116,217)"
         },
         "mode": "lines",
         "type": "scatter",
         "x": [
          0.93436040639088,
          2.6455169933672007,
          2.6455169933672007,
          2.5395843560208795
         ],
         "xaxis": "x",
         "y": [
          -7440,
          -7440,
          -7490,
          -7490
         ],
         "yaxis": "y"
        },
        {
         "hoverinfo": "text",
         "marker": {
          "color": "rgb(0,116,217)"
         },
         "mode": "lines",
         "type": "scatter",
         "x": [
          0,
          1.3919444658921876,
          1.3919444658921876,
          0
         ],
         "xaxis": "x",
         "y": [
          -7545,
          -7545,
          -7555,
          -7555
         ],
         "yaxis": "y"
        },
        {
         "hoverinfo": "text",
         "marker": {
          "color": "rgb(0,116,217)"
         },
         "mode": "lines",
         "type": "scatter",
         "x": [
          0,
          1.5453116154721303,
          1.5453116154721303,
          1.3919444658921876
         ],
         "xaxis": "x",
         "y": [
          -7535,
          -7535,
          -7550,
          -7550
         ],
         "yaxis": "y"
        },
        {
         "hoverinfo": "text",
         "marker": {
          "color": "rgb(0,116,217)"
         },
         "mode": "lines",
         "type": "scatter",
         "x": [
          0,
          1.642908510365393,
          1.642908510365393,
          0
         ],
         "xaxis": "x",
         "y": [
          -7565,
          -7565,
          -7575,
          -7575
         ],
         "yaxis": "y"
        },
        {
         "hoverinfo": "text",
         "marker": {
          "color": "rgb(0,116,217)"
         },
         "mode": "lines",
         "type": "scatter",
         "x": [
          0,
          1.6503119839776086,
          1.6503119839776086,
          0
         ],
         "xaxis": "x",
         "y": [
          -7585,
          -7585,
          -7595,
          -7595
         ],
         "yaxis": "y"
        },
        {
         "hoverinfo": "text",
         "marker": {
          "color": "rgb(0,116,217)"
         },
         "mode": "lines",
         "type": "scatter",
         "x": [
          1.642908510365393,
          2.043374684424975,
          2.043374684424975,
          1.6503119839776086
         ],
         "xaxis": "x",
         "y": [
          -7570,
          -7570,
          -7590,
          -7590
         ],
         "yaxis": "y"
        },
        {
         "hoverinfo": "text",
         "marker": {
          "color": "rgb(0,116,217)"
         },
         "mode": "lines",
         "type": "scatter",
         "x": [
          1.5453116154721303,
          2.127530441750027,
          2.127530441750027,
          2.043374684424975
         ],
         "xaxis": "x",
         "y": [
          -7542.5,
          -7542.5,
          -7580,
          -7580
         ],
         "yaxis": "y"
        },
        {
         "hoverinfo": "text",
         "marker": {
          "color": "rgb(0,116,217)"
         },
         "mode": "lines",
         "type": "scatter",
         "x": [
          0,
          1.7065990753745979,
          1.7065990753745979,
          0
         ],
         "xaxis": "x",
         "y": [
          -7605,
          -7605,
          -7615,
          -7615
         ],
         "yaxis": "y"
        },
        {
         "hoverinfo": "text",
         "marker": {
          "color": "rgb(0,116,217)"
         },
         "mode": "lines",
         "type": "scatter",
         "x": [
          0,
          1.5337214427790695,
          1.5337214427790695,
          0
         ],
         "xaxis": "x",
         "y": [
          -7625,
          -7625,
          -7635,
          -7635
         ],
         "yaxis": "y"
        },
        {
         "hoverinfo": "text",
         "marker": {
          "color": "rgb(0,116,217)"
         },
         "mode": "lines",
         "type": "scatter",
         "x": [
          0,
          1.4832207813912055,
          1.4832207813912055,
          0
         ],
         "xaxis": "x",
         "y": [
          -7655,
          -7655,
          -7665,
          -7665
         ],
         "yaxis": "y"
        },
        {
         "hoverinfo": "text",
         "marker": {
          "color": "rgb(0,116,217)"
         },
         "mode": "lines",
         "type": "scatter",
         "x": [
          0,
          1.6785394121887351,
          1.6785394121887351,
          1.4832207813912055
         ],
         "xaxis": "x",
         "y": [
          -7645,
          -7645,
          -7660,
          -7660
         ],
         "yaxis": "y"
        },
        {
         "hoverinfo": "text",
         "marker": {
          "color": "rgb(0,116,217)"
         },
         "mode": "lines",
         "type": "scatter",
         "x": [
          1.5337214427790695,
          1.8815091453501542,
          1.8815091453501542,
          1.6785394121887351
         ],
         "xaxis": "x",
         "y": [
          -7630,
          -7630,
          -7652.5,
          -7652.5
         ],
         "yaxis": "y"
        },
        {
         "hoverinfo": "text",
         "marker": {
          "color": "rgb(0,116,217)"
         },
         "mode": "lines",
         "type": "scatter",
         "x": [
          1.7065990753745979,
          1.9703008253516892,
          1.9703008253516892,
          1.8815091453501542
         ],
         "xaxis": "x",
         "y": [
          -7610,
          -7610,
          -7641.25,
          -7641.25
         ],
         "yaxis": "y"
        },
        {
         "hoverinfo": "text",
         "marker": {
          "color": "rgb(0,116,217)"
         },
         "mode": "lines",
         "type": "scatter",
         "x": [
          0,
          1.6800686200829151,
          1.6800686200829151,
          0
         ],
         "xaxis": "x",
         "y": [
          -7675,
          -7675,
          -7685,
          -7685
         ],
         "yaxis": "y"
        },
        {
         "hoverinfo": "text",
         "marker": {
          "color": "rgb(0,116,217)"
         },
         "mode": "lines",
         "type": "scatter",
         "x": [
          0,
          1.6843968763472597,
          1.6843968763472597,
          0
         ],
         "xaxis": "x",
         "y": [
          -7695,
          -7695,
          -7705,
          -7705
         ],
         "yaxis": "y"
        },
        {
         "hoverinfo": "text",
         "marker": {
          "color": "rgb(0,116,217)"
         },
         "mode": "lines",
         "type": "scatter",
         "x": [
          1.6800686200829151,
          2.0969961857879515,
          2.0969961857879515,
          1.6843968763472597
         ],
         "xaxis": "x",
         "y": [
          -7680,
          -7680,
          -7700,
          -7700
         ],
         "yaxis": "y"
        },
        {
         "hoverinfo": "text",
         "marker": {
          "color": "rgb(0,116,217)"
         },
         "mode": "lines",
         "type": "scatter",
         "x": [
          1.9703008253516892,
          2.5540106701378793,
          2.5540106701378793,
          2.0969961857879515
         ],
         "xaxis": "x",
         "y": [
          -7625.625,
          -7625.625,
          -7690,
          -7690
         ],
         "yaxis": "y"
        },
        {
         "hoverinfo": "text",
         "marker": {
          "color": "rgb(0,116,217)"
         },
         "mode": "lines",
         "type": "scatter",
         "x": [
          2.127530441750027,
          3.1323244571560003,
          3.1323244571560003,
          2.5540106701378793
         ],
         "xaxis": "x",
         "y": [
          -7561.25,
          -7561.25,
          -7657.8125,
          -7657.8125
         ],
         "yaxis": "y"
        },
        {
         "hoverinfo": "text",
         "marker": {
          "color": "rgb(0,116,217)"
         },
         "mode": "lines",
         "type": "scatter",
         "x": [
          2.6455169933672007,
          3.684492428173371,
          3.684492428173371,
          3.1323244571560003
         ],
         "xaxis": "x",
         "y": [
          -7465,
          -7465,
          -7609.53125,
          -7609.53125
         ],
         "yaxis": "y"
        },
        {
         "hoverinfo": "text",
         "marker": {
          "color": "rgb(0,116,217)"
         },
         "mode": "lines",
         "type": "scatter",
         "x": [
          2.7612218050280704,
          3.9683788133433238,
          3.9683788133433238,
          3.684492428173371
         ],
         "xaxis": "x",
         "y": [
          -7375,
          -7375,
          -7537.265625,
          -7537.265625
         ],
         "yaxis": "y"
        },
        {
         "hoverinfo": "text",
         "marker": {
          "color": "rgb(0,116,217)"
         },
         "mode": "lines",
         "type": "scatter",
         "x": [
          3.372935568941205,
          4.609946072957082,
          4.609946072957082,
          3.9683788133433238
         ],
         "xaxis": "x",
         "y": [
          -7227.96875,
          -7227.96875,
          -7456.1328125,
          -7456.1328125
         ],
         "yaxis": "y"
        },
        {
         "hoverinfo": "text",
         "marker": {
          "color": "rgb(0,116,217)"
         },
         "mode": "lines",
         "type": "scatter",
         "x": [
          0,
          1.4497519422289928,
          1.4497519422289928,
          0
         ],
         "xaxis": "x",
         "y": [
          -7715,
          -7715,
          -7725,
          -7725
         ],
         "yaxis": "y"
        },
        {
         "hoverinfo": "text",
         "marker": {
          "color": "rgb(255,65,54)"
         },
         "mode": "lines",
         "type": "scatter",
         "x": [
          0,
          0.9845473030481984,
          0.9845473030481984,
          0
         ],
         "xaxis": "x",
         "y": [
          -7735,
          -7735,
          -7745,
          -7745
         ],
         "yaxis": "y"
        },
        {
         "hoverinfo": "text",
         "marker": {
          "color": "rgb(0,116,217)"
         },
         "mode": "lines",
         "type": "scatter",
         "x": [
          0,
          1.6095383157106606,
          1.6095383157106606,
          0
         ],
         "xaxis": "x",
         "y": [
          -7755,
          -7755,
          -7765,
          -7765
         ],
         "yaxis": "y"
        },
        {
         "hoverinfo": "text",
         "marker": {
          "color": "rgb(0,116,217)"
         },
         "mode": "lines",
         "type": "scatter",
         "x": [
          0.9845473030481984,
          2.018367985240677,
          2.018367985240677,
          1.6095383157106606
         ],
         "xaxis": "x",
         "y": [
          -7740,
          -7740,
          -7760,
          -7760
         ],
         "yaxis": "y"
        },
        {
         "hoverinfo": "text",
         "marker": {
          "color": "rgb(0,116,217)"
         },
         "mode": "lines",
         "type": "scatter",
         "x": [
          1.4497519422289928,
          2.1935226331819946,
          2.1935226331819946,
          2.018367985240677
         ],
         "xaxis": "x",
         "y": [
          -7720,
          -7720,
          -7750,
          -7750
         ],
         "yaxis": "y"
        },
        {
         "hoverinfo": "text",
         "marker": {
          "color": "rgb(0,116,217)"
         },
         "mode": "lines",
         "type": "scatter",
         "x": [
          0,
          1.5436875441636613,
          1.5436875441636613,
          0
         ],
         "xaxis": "x",
         "y": [
          -7775,
          -7775,
          -7785,
          -7785
         ],
         "yaxis": "y"
        },
        {
         "hoverinfo": "text",
         "marker": {
          "color": "rgb(0,116,217)"
         },
         "mode": "lines",
         "type": "scatter",
         "x": [
          0,
          1.6308763943389748,
          1.6308763943389748,
          0
         ],
         "xaxis": "x",
         "y": [
          -7795,
          -7795,
          -7805,
          -7805
         ],
         "yaxis": "y"
        },
        {
         "hoverinfo": "text",
         "marker": {
          "color": "rgb(0,116,217)"
         },
         "mode": "lines",
         "type": "scatter",
         "x": [
          1.5436875441636613,
          1.8496942775503558,
          1.8496942775503558,
          1.6308763943389748
         ],
         "xaxis": "x",
         "y": [
          -7780,
          -7780,
          -7800,
          -7800
         ],
         "yaxis": "y"
        },
        {
         "hoverinfo": "text",
         "marker": {
          "color": "rgb(0,116,217)"
         },
         "mode": "lines",
         "type": "scatter",
         "x": [
          0,
          1.604178591029007,
          1.604178591029007,
          0
         ],
         "xaxis": "x",
         "y": [
          -7815,
          -7815,
          -7825,
          -7825
         ],
         "yaxis": "y"
        },
        {
         "hoverinfo": "text",
         "marker": {
          "color": "rgb(0,116,217)"
         },
         "mode": "lines",
         "type": "scatter",
         "x": [
          0,
          1.6394705633069564,
          1.6394705633069564,
          0
         ],
         "xaxis": "x",
         "y": [
          -7835,
          -7835,
          -7845,
          -7845
         ],
         "yaxis": "y"
        },
        {
         "hoverinfo": "text",
         "marker": {
          "color": "rgb(0,116,217)"
         },
         "mode": "lines",
         "type": "scatter",
         "x": [
          1.604178591029007,
          1.8597097328743541,
          1.8597097328743541,
          1.6394705633069564
         ],
         "xaxis": "x",
         "y": [
          -7820,
          -7820,
          -7840,
          -7840
         ],
         "yaxis": "y"
        },
        {
         "hoverinfo": "text",
         "marker": {
          "color": "rgb(0,116,217)"
         },
         "mode": "lines",
         "type": "scatter",
         "x": [
          1.8496942775503558,
          2.0990581225779827,
          2.0990581225779827,
          1.8597097328743541
         ],
         "xaxis": "x",
         "y": [
          -7790,
          -7790,
          -7830,
          -7830
         ],
         "yaxis": "y"
        },
        {
         "hoverinfo": "text",
         "marker": {
          "color": "rgb(0,116,217)"
         },
         "mode": "lines",
         "type": "scatter",
         "x": [
          0,
          1.641138262638759,
          1.641138262638759,
          0
         ],
         "xaxis": "x",
         "y": [
          -7855,
          -7855,
          -7865,
          -7865
         ],
         "yaxis": "y"
        },
        {
         "hoverinfo": "text",
         "marker": {
          "color": "rgb(0,116,217)"
         },
         "mode": "lines",
         "type": "scatter",
         "x": [
          0,
          1.5541600170576417,
          1.5541600170576417,
          0
         ],
         "xaxis": "x",
         "y": [
          -7875,
          -7875,
          -7885,
          -7885
         ],
         "yaxis": "y"
        },
        {
         "hoverinfo": "text",
         "marker": {
          "color": "rgb(0,116,217)"
         },
         "mode": "lines",
         "type": "scatter",
         "x": [
          0,
          1.3776196527512286,
          1.3776196527512286,
          0
         ],
         "xaxis": "x",
         "y": [
          -7895,
          -7895,
          -7905,
          -7905
         ],
         "yaxis": "y"
        },
        {
         "hoverinfo": "text",
         "marker": {
          "color": "rgb(0,116,217)"
         },
         "mode": "lines",
         "type": "scatter",
         "x": [
          0,
          1.619778191179756,
          1.619778191179756,
          0
         ],
         "xaxis": "x",
         "y": [
          -7915,
          -7915,
          -7925,
          -7925
         ],
         "yaxis": "y"
        },
        {
         "hoverinfo": "text",
         "marker": {
          "color": "rgb(0,116,217)"
         },
         "mode": "lines",
         "type": "scatter",
         "x": [
          1.3776196527512286,
          2.0083782991565444,
          2.0083782991565444,
          1.619778191179756
         ],
         "xaxis": "x",
         "y": [
          -7900,
          -7900,
          -7920,
          -7920
         ],
         "yaxis": "y"
        },
        {
         "hoverinfo": "text",
         "marker": {
          "color": "rgb(0,116,217)"
         },
         "mode": "lines",
         "type": "scatter",
         "x": [
          1.5541600170576417,
          2.1762227274784856,
          2.1762227274784856,
          2.0083782991565444
         ],
         "xaxis": "x",
         "y": [
          -7880,
          -7880,
          -7910,
          -7910
         ],
         "yaxis": "y"
        },
        {
         "hoverinfo": "text",
         "marker": {
          "color": "rgb(0,116,217)"
         },
         "mode": "lines",
         "type": "scatter",
         "x": [
          1.641138262638759,
          2.3405156205119173,
          2.3405156205119173,
          2.1762227274784856
         ],
         "xaxis": "x",
         "y": [
          -7860,
          -7860,
          -7895,
          -7895
         ],
         "yaxis": "y"
        },
        {
         "hoverinfo": "text",
         "marker": {
          "color": "rgb(0,116,217)"
         },
         "mode": "lines",
         "type": "scatter",
         "x": [
          2.0990581225779827,
          2.5729851723280563,
          2.5729851723280563,
          2.3405156205119173
         ],
         "xaxis": "x",
         "y": [
          -7810,
          -7810,
          -7877.5,
          -7877.5
         ],
         "yaxis": "y"
        },
        {
         "hoverinfo": "text",
         "marker": {
          "color": "rgb(0,116,217)"
         },
         "mode": "lines",
         "type": "scatter",
         "x": [
          2.1935226331819946,
          3.1908253271895974,
          3.1908253271895974,
          2.5729851723280563
         ],
         "xaxis": "x",
         "y": [
          -7735,
          -7735,
          -7843.75,
          -7843.75
         ],
         "yaxis": "y"
        },
        {
         "hoverinfo": "text",
         "marker": {
          "color": "rgb(0,116,217)"
         },
         "mode": "lines",
         "type": "scatter",
         "x": [
          0,
          1.685357999350803,
          1.685357999350803,
          0
         ],
         "xaxis": "x",
         "y": [
          -7945,
          -7945,
          -7955,
          -7955
         ],
         "yaxis": "y"
        },
        {
         "hoverinfo": "text",
         "marker": {
          "color": "rgb(0,116,217)"
         },
         "mode": "lines",
         "type": "scatter",
         "x": [
          0,
          1.8511158147538964,
          1.8511158147538964,
          1.685357999350803
         ],
         "xaxis": "x",
         "y": [
          -7935,
          -7935,
          -7950,
          -7950
         ],
         "yaxis": "y"
        },
        {
         "hoverinfo": "text",
         "marker": {
          "color": "rgb(0,116,217)"
         },
         "mode": "lines",
         "type": "scatter",
         "x": [
          0,
          1.5881745559093463,
          1.5881745559093463,
          0
         ],
         "xaxis": "x",
         "y": [
          -7965,
          -7965,
          -7975,
          -7975
         ],
         "yaxis": "y"
        },
        {
         "hoverinfo": "text",
         "marker": {
          "color": "rgb(0,116,217)"
         },
         "mode": "lines",
         "type": "scatter",
         "x": [
          0,
          1.6642101744448599,
          1.6642101744448599,
          0
         ],
         "xaxis": "x",
         "y": [
          -7985,
          -7985,
          -7995,
          -7995
         ],
         "yaxis": "y"
        },
        {
         "hoverinfo": "text",
         "marker": {
          "color": "rgb(0,116,217)"
         },
         "mode": "lines",
         "type": "scatter",
         "x": [
          0,
          1.7699841948596724,
          1.7699841948596724,
          0
         ],
         "xaxis": "x",
         "y": [
          -8005,
          -8005,
          -8015,
          -8015
         ],
         "yaxis": "y"
        },
        {
         "hoverinfo": "text",
         "marker": {
          "color": "rgb(0,116,217)"
         },
         "mode": "lines",
         "type": "scatter",
         "x": [
          1.6642101744448599,
          2.0184867016713515,
          2.0184867016713515,
          1.7699841948596724
         ],
         "xaxis": "x",
         "y": [
          -7990,
          -7990,
          -8010,
          -8010
         ],
         "yaxis": "y"
        },
        {
         "hoverinfo": "text",
         "marker": {
          "color": "rgb(0,116,217)"
         },
         "mode": "lines",
         "type": "scatter",
         "x": [
          1.5881745559093463,
          2.310555948441174,
          2.310555948441174,
          2.0184867016713515
         ],
         "xaxis": "x",
         "y": [
          -7970,
          -7970,
          -8000,
          -8000
         ],
         "yaxis": "y"
        },
        {
         "hoverinfo": "text",
         "marker": {
          "color": "rgb(0,116,217)"
         },
         "mode": "lines",
         "type": "scatter",
         "x": [
          1.8511158147538964,
          2.7098927652553657,
          2.7098927652553657,
          2.310555948441174
         ],
         "xaxis": "x",
         "y": [
          -7942.5,
          -7942.5,
          -7985,
          -7985
         ],
         "yaxis": "y"
        },
        {
         "hoverinfo": "text",
         "marker": {
          "color": "rgb(0,116,217)"
         },
         "mode": "lines",
         "type": "scatter",
         "x": [
          0,
          1.793252483007154,
          1.793252483007154,
          0
         ],
         "xaxis": "x",
         "y": [
          -8035,
          -8035,
          -8045,
          -8045
         ],
         "yaxis": "y"
        },
        {
         "hoverinfo": "text",
         "marker": {
          "color": "rgb(0,116,217)"
         },
         "mode": "lines",
         "type": "scatter",
         "x": [
          0,
          1.8655857405923746,
          1.8655857405923746,
          1.793252483007154
         ],
         "xaxis": "x",
         "y": [
          -8025,
          -8025,
          -8040,
          -8040
         ],
         "yaxis": "y"
        },
        {
         "hoverinfo": "text",
         "marker": {
          "color": "rgb(0,116,217)"
         },
         "mode": "lines",
         "type": "scatter",
         "x": [
          0,
          1.6620376630076505,
          1.6620376630076505,
          0
         ],
         "xaxis": "x",
         "y": [
          -8065,
          -8065,
          -8075,
          -8075
         ],
         "yaxis": "y"
        },
        {
         "hoverinfo": "text",
         "marker": {
          "color": "rgb(0,116,217)"
         },
         "mode": "lines",
         "type": "scatter",
         "x": [
          0,
          1.9366961589643092,
          1.9366961589643092,
          1.6620376630076505
         ],
         "xaxis": "x",
         "y": [
          -8055,
          -8055,
          -8070,
          -8070
         ],
         "yaxis": "y"
        },
        {
         "hoverinfo": "text",
         "marker": {
          "color": "rgb(0,116,217)"
         },
         "mode": "lines",
         "type": "scatter",
         "x": [
          1.8655857405923746,
          2.187480720463512,
          2.187480720463512,
          1.9366961589643092
         ],
         "xaxis": "x",
         "y": [
          -8032.5,
          -8032.5,
          -8062.5,
          -8062.5
         ],
         "yaxis": "y"
        },
        {
         "hoverinfo": "text",
         "marker": {
          "color": "rgb(0,116,217)"
         },
         "mode": "lines",
         "type": "scatter",
         "x": [
          0,
          1.4245368889285797,
          1.4245368889285797,
          0
         ],
         "xaxis": "x",
         "y": [
          -8085,
          -8085,
          -8095,
          -8095
         ],
         "yaxis": "y"
        },
        {
         "hoverinfo": "text",
         "marker": {
          "color": "rgb(0,116,217)"
         },
         "mode": "lines",
         "type": "scatter",
         "x": [
          0,
          1.5063392965310238,
          1.5063392965310238,
          0
         ],
         "xaxis": "x",
         "y": [
          -8115,
          -8115,
          -8125,
          -8125
         ],
         "yaxis": "y"
        },
        {
         "hoverinfo": "text",
         "marker": {
          "color": "rgb(0,116,217)"
         },
         "mode": "lines",
         "type": "scatter",
         "x": [
          0,
          1.9321615667562337,
          1.9321615667562337,
          1.5063392965310238
         ],
         "xaxis": "x",
         "y": [
          -8105,
          -8105,
          -8120,
          -8120
         ],
         "yaxis": "y"
        },
        {
         "hoverinfo": "text",
         "marker": {
          "color": "rgb(0,116,217)"
         },
         "mode": "lines",
         "type": "scatter",
         "x": [
          1.4245368889285797,
          2.526088997315584,
          2.526088997315584,
          1.9321615667562337
         ],
         "xaxis": "x",
         "y": [
          -8090,
          -8090,
          -8112.5,
          -8112.5
         ],
         "yaxis": "y"
        },
        {
         "hoverinfo": "text",
         "marker": {
          "color": "rgb(0,116,217)"
         },
         "mode": "lines",
         "type": "scatter",
         "x": [
          2.187480720463512,
          2.8761693700433737,
          2.8761693700433737,
          2.526088997315584
         ],
         "xaxis": "x",
         "y": [
          -8047.5,
          -8047.5,
          -8101.25,
          -8101.25
         ],
         "yaxis": "y"
        },
        {
         "hoverinfo": "text",
         "marker": {
          "color": "rgb(0,116,217)"
         },
         "mode": "lines",
         "type": "scatter",
         "x": [
          2.7098927652553657,
          3.2773208960737685,
          3.2773208960737685,
          2.8761693700433737
         ],
         "xaxis": "x",
         "y": [
          -7963.75,
          -7963.75,
          -8074.375,
          -8074.375
         ],
         "yaxis": "y"
        },
        {
         "hoverinfo": "text",
         "marker": {
          "color": "rgb(0,116,217)"
         },
         "mode": "lines",
         "type": "scatter",
         "x": [
          3.1908253271895974,
          4.287084837454643,
          4.287084837454643,
          3.2773208960737685
         ],
         "xaxis": "x",
         "y": [
          -7789.375,
          -7789.375,
          -8019.0625,
          -8019.0625
         ],
         "yaxis": "y"
        },
        {
         "hoverinfo": "text",
         "marker": {
          "color": "rgb(0,116,217)"
         },
         "mode": "lines",
         "type": "scatter",
         "x": [
          0,
          1.103115109072468,
          1.103115109072468,
          0
         ],
         "xaxis": "x",
         "y": [
          -8145,
          -8145,
          -8155,
          -8155
         ],
         "yaxis": "y"
        },
        {
         "hoverinfo": "text",
         "marker": {
          "color": "rgb(0,116,217)"
         },
         "mode": "lines",
         "type": "scatter",
         "x": [
          0,
          2.05850304952429,
          2.05850304952429,
          1.103115109072468
         ],
         "xaxis": "x",
         "y": [
          -8135,
          -8135,
          -8150,
          -8150
         ],
         "yaxis": "y"
        },
        {
         "hoverinfo": "text",
         "marker": {
          "color": "rgb(0,116,217)"
         },
         "mode": "lines",
         "type": "scatter",
         "x": [
          0,
          1.5329012608106298,
          1.5329012608106298,
          0
         ],
         "xaxis": "x",
         "y": [
          -8165,
          -8165,
          -8175,
          -8175
         ],
         "yaxis": "y"
        },
        {
         "hoverinfo": "text",
         "marker": {
          "color": "rgb(35,205,205)"
         },
         "mode": "lines",
         "type": "scatter",
         "x": [
          0,
          0.9733401808758139,
          0.9733401808758139,
          0
         ],
         "xaxis": "x",
         "y": [
          -8195,
          -8195,
          -8205,
          -8205
         ],
         "yaxis": "y"
        },
        {
         "hoverinfo": "text",
         "marker": {
          "color": "rgb(0,116,217)"
         },
         "mode": "lines",
         "type": "scatter",
         "x": [
          0,
          1.6940222658643718,
          1.6940222658643718,
          0.9733401808758139
         ],
         "xaxis": "x",
         "y": [
          -8185,
          -8185,
          -8200,
          -8200
         ],
         "yaxis": "y"
        },
        {
         "hoverinfo": "text",
         "marker": {
          "color": "rgb(0,116,217)"
         },
         "mode": "lines",
         "type": "scatter",
         "x": [
          1.5329012608106298,
          2.139713242064818,
          2.139713242064818,
          1.6940222658643718
         ],
         "xaxis": "x",
         "y": [
          -8170,
          -8170,
          -8192.5,
          -8192.5
         ],
         "yaxis": "y"
        },
        {
         "hoverinfo": "text",
         "marker": {
          "color": "rgb(0,116,217)"
         },
         "mode": "lines",
         "type": "scatter",
         "x": [
          2.05850304952429,
          2.5770775932748755,
          2.5770775932748755,
          2.139713242064818
         ],
         "xaxis": "x",
         "y": [
          -8142.5,
          -8142.5,
          -8181.25,
          -8181.25
         ],
         "yaxis": "y"
        },
        {
         "hoverinfo": "text",
         "marker": {
          "color": "rgb(0,116,217)"
         },
         "mode": "lines",
         "type": "scatter",
         "x": [
          0,
          1.6808922950962386,
          1.6808922950962386,
          0
         ],
         "xaxis": "x",
         "y": [
          -8215,
          -8215,
          -8225,
          -8225
         ],
         "yaxis": "y"
        },
        {
         "hoverinfo": "text",
         "marker": {
          "color": "rgb(0,116,217)"
         },
         "mode": "lines",
         "type": "scatter",
         "x": [
          0,
          1.2005467221897281,
          1.2005467221897281,
          0
         ],
         "xaxis": "x",
         "y": [
          -8245,
          -8245,
          -8255,
          -8255
         ],
         "yaxis": "y"
        },
        {
         "hoverinfo": "text",
         "marker": {
          "color": "rgb(0,116,217)"
         },
         "mode": "lines",
         "type": "scatter",
         "x": [
          0,
          1.8905276500760995,
          1.8905276500760995,
          1.2005467221897281
         ],
         "xaxis": "x",
         "y": [
          -8235,
          -8235,
          -8250,
          -8250
         ],
         "yaxis": "y"
        },
        {
         "hoverinfo": "text",
         "marker": {
          "color": "rgb(0,116,217)"
         },
         "mode": "lines",
         "type": "scatter",
         "x": [
          1.6808922950962386,
          2.2916298763183587,
          2.2916298763183587,
          1.8905276500760995
         ],
         "xaxis": "x",
         "y": [
          -8220,
          -8220,
          -8242.5,
          -8242.5
         ],
         "yaxis": "y"
        },
        {
         "hoverinfo": "text",
         "marker": {
          "color": "rgb(0,116,217)"
         },
         "mode": "lines",
         "type": "scatter",
         "x": [
          0,
          1.8041312371828344,
          1.8041312371828344,
          0
         ],
         "xaxis": "x",
         "y": [
          -8265,
          -8265,
          -8275,
          -8275
         ],
         "yaxis": "y"
        },
        {
         "hoverinfo": "text",
         "marker": {
          "color": "rgb(0,116,217)"
         },
         "mode": "lines",
         "type": "scatter",
         "x": [
          0,
          1.5958087576954942,
          1.5958087576954942,
          0
         ],
         "xaxis": "x",
         "y": [
          -8285,
          -8285,
          -8295,
          -8295
         ],
         "yaxis": "y"
        },
        {
         "hoverinfo": "text",
         "marker": {
          "color": "rgb(0,116,217)"
         },
         "mode": "lines",
         "type": "scatter",
         "x": [
          0,
          1.6075645898423783,
          1.6075645898423783,
          0
         ],
         "xaxis": "x",
         "y": [
          -8315,
          -8315,
          -8325,
          -8325
         ],
         "yaxis": "y"
        },
        {
         "hoverinfo": "text",
         "marker": {
          "color": "rgb(0,116,217)"
         },
         "mode": "lines",
         "type": "scatter",
         "x": [
          0,
          1.8111603846412836,
          1.8111603846412836,
          1.6075645898423783
         ],
         "xaxis": "x",
         "y": [
          -8305,
          -8305,
          -8320,
          -8320
         ],
         "yaxis": "y"
        },
        {
         "hoverinfo": "text",
         "marker": {
          "color": "rgb(0,116,217)"
         },
         "mode": "lines",
         "type": "scatter",
         "x": [
          1.5958087576954942,
          2.152290812363803,
          2.152290812363803,
          1.8111603846412836
         ],
         "xaxis": "x",
         "y": [
          -8290,
          -8290,
          -8312.5,
          -8312.5
         ],
         "yaxis": "y"
        },
        {
         "hoverinfo": "text",
         "marker": {
          "color": "rgb(0,116,217)"
         },
         "mode": "lines",
         "type": "scatter",
         "x": [
          1.8041312371828344,
          2.4750267378511746,
          2.4750267378511746,
          2.152290812363803
         ],
         "xaxis": "x",
         "y": [
          -8270,
          -8270,
          -8301.25,
          -8301.25
         ],
         "yaxis": "y"
        },
        {
         "hoverinfo": "text",
         "marker": {
          "color": "rgb(0,116,217)"
         },
         "mode": "lines",
         "type": "scatter",
         "x": [
          0,
          1.4648880484663356,
          1.4648880484663356,
          0
         ],
         "xaxis": "x",
         "y": [
          -8335,
          -8335,
          -8345,
          -8345
         ],
         "yaxis": "y"
        },
        {
         "hoverinfo": "text",
         "marker": {
          "color": "rgb(0,116,217)"
         },
         "mode": "lines",
         "type": "scatter",
         "x": [
          0,
          1.7784430585224542,
          1.7784430585224542,
          0
         ],
         "xaxis": "x",
         "y": [
          -8355,
          -8355,
          -8365,
          -8365
         ],
         "yaxis": "y"
        },
        {
         "hoverinfo": "text",
         "marker": {
          "color": "rgb(0,116,217)"
         },
         "mode": "lines",
         "type": "scatter",
         "x": [
          0,
          1.9049760894325403,
          1.9049760894325403,
          0
         ],
         "xaxis": "x",
         "y": [
          -8375,
          -8375,
          -8385,
          -8385
         ],
         "yaxis": "y"
        },
        {
         "hoverinfo": "text",
         "marker": {
          "color": "rgb(0,116,217)"
         },
         "mode": "lines",
         "type": "scatter",
         "x": [
          1.7784430585224542,
          2.2990233139486316,
          2.2990233139486316,
          1.9049760894325403
         ],
         "xaxis": "x",
         "y": [
          -8360,
          -8360,
          -8380,
          -8380
         ],
         "yaxis": "y"
        },
        {
         "hoverinfo": "text",
         "marker": {
          "color": "rgb(0,116,217)"
         },
         "mode": "lines",
         "type": "scatter",
         "x": [
          1.4648880484663356,
          2.7044655232701973,
          2.7044655232701973,
          2.2990233139486316
         ],
         "xaxis": "x",
         "y": [
          -8340,
          -8340,
          -8370,
          -8370
         ],
         "yaxis": "y"
        },
        {
         "hoverinfo": "text",
         "marker": {
          "color": "rgb(0,116,217)"
         },
         "mode": "lines",
         "type": "scatter",
         "x": [
          2.4750267378511746,
          3.0243020941105465,
          3.0243020941105465,
          2.7044655232701973
         ],
         "xaxis": "x",
         "y": [
          -8285.625,
          -8285.625,
          -8355,
          -8355
         ],
         "yaxis": "y"
        },
        {
         "hoverinfo": "text",
         "marker": {
          "color": "rgb(0,116,217)"
         },
         "mode": "lines",
         "type": "scatter",
         "x": [
          2.2916298763183587,
          3.9447362055680553,
          3.9447362055680553,
          3.0243020941105465
         ],
         "xaxis": "x",
         "y": [
          -8231.25,
          -8231.25,
          -8320.3125,
          -8320.3125
         ],
         "yaxis": "y"
        },
        {
         "hoverinfo": "text",
         "marker": {
          "color": "rgb(0,116,217)"
         },
         "mode": "lines",
         "type": "scatter",
         "x": [
          2.5770775932748755,
          4.840360594795608,
          4.840360594795608,
          3.9447362055680553
         ],
         "xaxis": "x",
         "y": [
          -8161.875,
          -8161.875,
          -8275.78125,
          -8275.78125
         ],
         "yaxis": "y"
        },
        {
         "hoverinfo": "text",
         "marker": {
          "color": "rgb(0,116,217)"
         },
         "mode": "lines",
         "type": "scatter",
         "x": [
          4.287084837454643,
          7.3836093293452185,
          7.3836093293452185,
          4.840360594795608
         ],
         "xaxis": "x",
         "y": [
          -7904.21875,
          -7904.21875,
          -8218.828125,
          -8218.828125
         ],
         "yaxis": "y"
        },
        {
         "hoverinfo": "text",
         "marker": {
          "color": "rgb(0,116,217)"
         },
         "mode": "lines",
         "type": "scatter",
         "x": [
          4.609946072957082,
          8.547207404443952,
          8.547207404443952,
          7.3836093293452185
         ],
         "xaxis": "x",
         "y": [
          -7342.05078125,
          -7342.05078125,
          -8061.5234375,
          -8061.5234375
         ],
         "yaxis": "y"
        },
        {
         "hoverinfo": "text",
         "marker": {
          "color": "rgb(0,116,217)"
         },
         "mode": "lines",
         "type": "scatter",
         "x": [
          0,
          1.0766449296866079,
          1.0766449296866079,
          0
         ],
         "xaxis": "x",
         "y": [
          -8395,
          -8395,
          -8405,
          -8405
         ],
         "yaxis": "y"
        },
        {
         "hoverinfo": "text",
         "marker": {
          "color": "rgb(0,116,217)"
         },
         "mode": "lines",
         "type": "scatter",
         "x": [
          0,
          1.2350297226511415,
          1.2350297226511415,
          0
         ],
         "xaxis": "x",
         "y": [
          -8415,
          -8415,
          -8425,
          -8425
         ],
         "yaxis": "y"
        },
        {
         "hoverinfo": "text",
         "marker": {
          "color": "rgb(0,116,217)"
         },
         "mode": "lines",
         "type": "scatter",
         "x": [
          1.0766449296866079,
          1.5795548878015333,
          1.5795548878015333,
          1.2350297226511415
         ],
         "xaxis": "x",
         "y": [
          -8400,
          -8400,
          -8420,
          -8420
         ],
         "yaxis": "y"
        },
        {
         "hoverinfo": "text",
         "marker": {
          "color": "rgb(0,116,217)"
         },
         "mode": "lines",
         "type": "scatter",
         "x": [
          0,
          1.445944208389906,
          1.445944208389906,
          0
         ],
         "xaxis": "x",
         "y": [
          -8445,
          -8445,
          -8455,
          -8455
         ],
         "yaxis": "y"
        },
        {
         "hoverinfo": "text",
         "marker": {
          "color": "rgb(0,116,217)"
         },
         "mode": "lines",
         "type": "scatter",
         "x": [
          0,
          1.6632912590410989,
          1.6632912590410989,
          1.445944208389906
         ],
         "xaxis": "x",
         "y": [
          -8435,
          -8435,
          -8450,
          -8450
         ],
         "yaxis": "y"
        },
        {
         "hoverinfo": "text",
         "marker": {
          "color": "rgb(0,116,217)"
         },
         "mode": "lines",
         "type": "scatter",
         "x": [
          1.5795548878015333,
          2.067314884607924,
          2.067314884607924,
          1.6632912590410989
         ],
         "xaxis": "x",
         "y": [
          -8410,
          -8410,
          -8442.5,
          -8442.5
         ],
         "yaxis": "y"
        },
        {
         "hoverinfo": "text",
         "marker": {
          "color": "rgb(133,20,75)"
         },
         "mode": "lines",
         "type": "scatter",
         "x": [
          0,
          0.5372299849075757,
          0.5372299849075757,
          0
         ],
         "xaxis": "x",
         "y": [
          -8475,
          -8475,
          -8485,
          -8485
         ],
         "yaxis": "y"
        },
        {
         "hoverinfo": "text",
         "marker": {
          "color": "rgb(0,116,217)"
         },
         "mode": "lines",
         "type": "scatter",
         "x": [
          0,
          1.2581952236597844,
          1.2581952236597844,
          0.5372299849075757
         ],
         "xaxis": "x",
         "y": [
          -8465,
          -8465,
          -8480,
          -8480
         ],
         "yaxis": "y"
        },
        {
         "hoverinfo": "text",
         "marker": {
          "color": "rgb(0,116,217)"
         },
         "mode": "lines",
         "type": "scatter",
         "x": [
          0,
          1.16324065087391,
          1.16324065087391,
          0
         ],
         "xaxis": "x",
         "y": [
          -8495,
          -8495,
          -8505,
          -8505
         ],
         "yaxis": "y"
        },
        {
         "hoverinfo": "text",
         "marker": {
          "color": "rgb(0,116,217)"
         },
         "mode": "lines",
         "type": "scatter",
         "x": [
          0,
          1.5603772389375437,
          1.5603772389375437,
          0
         ],
         "xaxis": "x",
         "y": [
          -8515,
          -8515,
          -8525,
          -8525
         ],
         "yaxis": "y"
        },
        {
         "hoverinfo": "text",
         "marker": {
          "color": "rgb(0,116,217)"
         },
         "mode": "lines",
         "type": "scatter",
         "x": [
          1.16324065087391,
          1.8627766342406527,
          1.8627766342406527,
          1.5603772389375437
         ],
         "xaxis": "x",
         "y": [
          -8500,
          -8500,
          -8520,
          -8520
         ],
         "yaxis": "y"
        },
        {
         "hoverinfo": "text",
         "marker": {
          "color": "rgb(0,116,217)"
         },
         "mode": "lines",
         "type": "scatter",
         "x": [
          1.2581952236597844,
          2.2661804538979315,
          2.2661804538979315,
          1.8627766342406527
         ],
         "xaxis": "x",
         "y": [
          -8472.5,
          -8472.5,
          -8510,
          -8510
         ],
         "yaxis": "y"
        },
        {
         "hoverinfo": "text",
         "marker": {
          "color": "rgb(0,116,217)"
         },
         "mode": "lines",
         "type": "scatter",
         "x": [
          2.067314884607924,
          2.830786096219298,
          2.830786096219298,
          2.2661804538979315
         ],
         "xaxis": "x",
         "y": [
          -8426.25,
          -8426.25,
          -8491.25,
          -8491.25
         ],
         "yaxis": "y"
        },
        {
         "hoverinfo": "text",
         "marker": {
          "color": "rgb(0,116,217)"
         },
         "mode": "lines",
         "type": "scatter",
         "x": [
          0,
          1.301299864709032,
          1.301299864709032,
          0
         ],
         "xaxis": "x",
         "y": [
          -8535,
          -8535,
          -8545,
          -8545
         ],
         "yaxis": "y"
        },
        {
         "hoverinfo": "text",
         "marker": {
          "color": "rgb(255,220,0)"
         },
         "mode": "lines",
         "type": "scatter",
         "x": [
          0,
          0.031679674839851166,
          0.031679674839851166,
          0
         ],
         "xaxis": "x",
         "y": [
          -8565,
          -8565,
          -8575,
          -8575
         ],
         "yaxis": "y"
        },
        {
         "hoverinfo": "text",
         "marker": {
          "color": "rgb(0,116,217)"
         },
         "mode": "lines",
         "type": "scatter",
         "x": [
          0,
          1.656629532554462,
          1.656629532554462,
          0.031679674839851166
         ],
         "xaxis": "x",
         "y": [
          -8555,
          -8555,
          -8570,
          -8570
         ],
         "yaxis": "y"
        },
        {
         "hoverinfo": "text",
         "marker": {
          "color": "rgb(0,116,217)"
         },
         "mode": "lines",
         "type": "scatter",
         "x": [
          1.301299864709032,
          1.8880079369272906,
          1.8880079369272906,
          1.656629532554462
         ],
         "xaxis": "x",
         "y": [
          -8540,
          -8540,
          -8562.5,
          -8562.5
         ],
         "yaxis": "y"
        },
        {
         "hoverinfo": "text",
         "marker": {
          "color": "rgb(0,116,217)"
         },
         "mode": "lines",
         "type": "scatter",
         "x": [
          0,
          1.4599400494197208,
          1.4599400494197208,
          0
         ],
         "xaxis": "x",
         "y": [
          -8595,
          -8595,
          -8605,
          -8605
         ],
         "yaxis": "y"
        },
        {
         "hoverinfo": "text",
         "marker": {
          "color": "rgb(0,116,217)"
         },
         "mode": "lines",
         "type": "scatter",
         "x": [
          0,
          1.5781617986316216,
          1.5781617986316216,
          1.4599400494197208
         ],
         "xaxis": "x",
         "y": [
          -8585,
          -8585,
          -8600,
          -8600
         ],
         "yaxis": "y"
        },
        {
         "hoverinfo": "text",
         "marker": {
          "color": "rgb(0,116,217)"
         },
         "mode": "lines",
         "type": "scatter",
         "x": [
          0,
          1.4730051974350753,
          1.4730051974350753,
          0
         ],
         "xaxis": "x",
         "y": [
          -8625,
          -8625,
          -8635,
          -8635
         ],
         "yaxis": "y"
        },
        {
         "hoverinfo": "text",
         "marker": {
          "color": "rgb(0,116,217)"
         },
         "mode": "lines",
         "type": "scatter",
         "x": [
          0,
          1.725305206940611,
          1.725305206940611,
          1.4730051974350753
         ],
         "xaxis": "x",
         "y": [
          -8615,
          -8615,
          -8630,
          -8630
         ],
         "yaxis": "y"
        },
        {
         "hoverinfo": "text",
         "marker": {
          "color": "rgb(0,116,217)"
         },
         "mode": "lines",
         "type": "scatter",
         "x": [
          1.5781617986316216,
          2.0949595797982656,
          2.0949595797982656,
          1.725305206940611
         ],
         "xaxis": "x",
         "y": [
          -8592.5,
          -8592.5,
          -8622.5,
          -8622.5
         ],
         "yaxis": "y"
        },
        {
         "hoverinfo": "text",
         "marker": {
          "color": "rgb(0,116,217)"
         },
         "mode": "lines",
         "type": "scatter",
         "x": [
          1.8880079369272906,
          2.9121550723082565,
          2.9121550723082565,
          2.0949595797982656
         ],
         "xaxis": "x",
         "y": [
          -8551.25,
          -8551.25,
          -8607.5,
          -8607.5
         ],
         "yaxis": "y"
        },
        {
         "hoverinfo": "text",
         "marker": {
          "color": "rgb(0,116,217)"
         },
         "mode": "lines",
         "type": "scatter",
         "x": [
          2.830786096219298,
          3.9501447954018825,
          3.9501447954018825,
          2.9121550723082565
         ],
         "xaxis": "x",
         "y": [
          -8458.75,
          -8458.75,
          -8579.375,
          -8579.375
         ],
         "yaxis": "y"
        },
        {
         "hoverinfo": "text",
         "marker": {
          "color": "rgb(0,116,217)"
         },
         "mode": "lines",
         "type": "scatter",
         "x": [
          0,
          1.1290496928664757,
          1.1290496928664757,
          0
         ],
         "xaxis": "x",
         "y": [
          -8645,
          -8645,
          -8655,
          -8655
         ],
         "yaxis": "y"
        },
        {
         "hoverinfo": "text",
         "marker": {
          "color": "rgb(0,116,217)"
         },
         "mode": "lines",
         "type": "scatter",
         "x": [
          0,
          1.1073289723452178,
          1.1073289723452178,
          0
         ],
         "xaxis": "x",
         "y": [
          -8675,
          -8675,
          -8685,
          -8685
         ],
         "yaxis": "y"
        },
        {
         "hoverinfo": "text",
         "marker": {
          "color": "rgb(0,116,217)"
         },
         "mode": "lines",
         "type": "scatter",
         "x": [
          0,
          1.3368547686727679,
          1.3368547686727679,
          1.1073289723452178
         ],
         "xaxis": "x",
         "y": [
          -8665,
          -8665,
          -8680,
          -8680
         ],
         "yaxis": "y"
        },
        {
         "hoverinfo": "text",
         "marker": {
          "color": "rgb(0,116,217)"
         },
         "mode": "lines",
         "type": "scatter",
         "x": [
          1.1290496928664757,
          1.7209214574867717,
          1.7209214574867717,
          1.3368547686727679
         ],
         "xaxis": "x",
         "y": [
          -8650,
          -8650,
          -8672.5,
          -8672.5
         ],
         "yaxis": "y"
        },
        {
         "hoverinfo": "text",
         "marker": {
          "color": "rgb(0,116,217)"
         },
         "mode": "lines",
         "type": "scatter",
         "x": [
          0,
          1.7598473934536614,
          1.7598473934536614,
          0
         ],
         "xaxis": "x",
         "y": [
          -8695,
          -8695,
          -8705,
          -8705
         ],
         "yaxis": "y"
        },
        {
         "hoverinfo": "text",
         "marker": {
          "color": "rgb(0,116,217)"
         },
         "mode": "lines",
         "type": "scatter",
         "x": [
          0,
          1.5325997910450826,
          1.5325997910450826,
          0
         ],
         "xaxis": "x",
         "y": [
          -8725,
          -8725,
          -8735,
          -8735
         ],
         "yaxis": "y"
        },
        {
         "hoverinfo": "text",
         "marker": {
          "color": "rgb(0,116,217)"
         },
         "mode": "lines",
         "type": "scatter",
         "x": [
          0,
          1.8338114164361623,
          1.8338114164361623,
          1.5325997910450826
         ],
         "xaxis": "x",
         "y": [
          -8715,
          -8715,
          -8730,
          -8730
         ],
         "yaxis": "y"
        },
        {
         "hoverinfo": "text",
         "marker": {
          "color": "rgb(0,116,217)"
         },
         "mode": "lines",
         "type": "scatter",
         "x": [
          1.7598473934536614,
          2.148470530200794,
          2.148470530200794,
          1.8338114164361623
         ],
         "xaxis": "x",
         "y": [
          -8700,
          -8700,
          -8722.5,
          -8722.5
         ],
         "yaxis": "y"
        },
        {
         "hoverinfo": "text",
         "marker": {
          "color": "rgb(0,116,217)"
         },
         "mode": "lines",
         "type": "scatter",
         "x": [
          1.7209214574867717,
          2.3313148974678413,
          2.3313148974678413,
          2.148470530200794
         ],
         "xaxis": "x",
         "y": [
          -8661.25,
          -8661.25,
          -8711.25,
          -8711.25
         ],
         "yaxis": "y"
        },
        {
         "hoverinfo": "text",
         "marker": {
          "color": "rgb(0,116,217)"
         },
         "mode": "lines",
         "type": "scatter",
         "x": [
          0,
          1.1814330401498863,
          1.1814330401498863,
          0
         ],
         "xaxis": "x",
         "y": [
          -8745,
          -8745,
          -8755,
          -8755
         ],
         "yaxis": "y"
        },
        {
         "hoverinfo": "text",
         "marker": {
          "color": "rgb(0,116,217)"
         },
         "mode": "lines",
         "type": "scatter",
         "x": [
          0,
          1.2985837497782977,
          1.2985837497782977,
          0
         ],
         "xaxis": "x",
         "y": [
          -8765,
          -8765,
          -8775,
          -8775
         ],
         "yaxis": "y"
        },
        {
         "hoverinfo": "text",
         "marker": {
          "color": "rgb(0,116,217)"
         },
         "mode": "lines",
         "type": "scatter",
         "x": [
          0,
          1.5057948057850048,
          1.5057948057850048,
          0
         ],
         "xaxis": "x",
         "y": [
          -8785,
          -8785,
          -8795,
          -8795
         ],
         "yaxis": "y"
        },
        {
         "hoverinfo": "text",
         "marker": {
          "color": "rgb(0,116,217)"
         },
         "mode": "lines",
         "type": "scatter",
         "x": [
          1.2985837497782977,
          1.892225229540818,
          1.892225229540818,
          1.5057948057850048
         ],
         "xaxis": "x",
         "y": [
          -8770,
          -8770,
          -8790,
          -8790
         ],
         "yaxis": "y"
        },
        {
         "hoverinfo": "text",
         "marker": {
          "color": "rgb(0,116,217)"
         },
         "mode": "lines",
         "type": "scatter",
         "x": [
          1.1814330401498863,
          2.420095363134379,
          2.420095363134379,
          1.892225229540818
         ],
         "xaxis": "x",
         "y": [
          -8750,
          -8750,
          -8780,
          -8780
         ],
         "yaxis": "y"
        },
        {
         "hoverinfo": "text",
         "marker": {
          "color": "rgb(0,116,217)"
         },
         "mode": "lines",
         "type": "scatter",
         "x": [
          2.3313148974678413,
          2.782088848005473,
          2.782088848005473,
          2.420095363134379
         ],
         "xaxis": "x",
         "y": [
          -8686.25,
          -8686.25,
          -8765,
          -8765
         ],
         "yaxis": "y"
        },
        {
         "hoverinfo": "text",
         "marker": {
          "color": "rgb(0,116,217)"
         },
         "mode": "lines",
         "type": "scatter",
         "x": [
          0,
          1.6182699640356362,
          1.6182699640356362,
          0
         ],
         "xaxis": "x",
         "y": [
          -8805,
          -8805,
          -8815,
          -8815
         ],
         "yaxis": "y"
        },
        {
         "hoverinfo": "text",
         "marker": {
          "color": "rgb(0,116,217)"
         },
         "mode": "lines",
         "type": "scatter",
         "x": [
          0,
          1.5833589468328877,
          1.5833589468328877,
          0
         ],
         "xaxis": "x",
         "y": [
          -8835,
          -8835,
          -8845,
          -8845
         ],
         "yaxis": "y"
        },
        {
         "hoverinfo": "text",
         "marker": {
          "color": "rgb(0,116,217)"
         },
         "mode": "lines",
         "type": "scatter",
         "x": [
          0,
          1.8480058319215606,
          1.8480058319215606,
          1.5833589468328877
         ],
         "xaxis": "x",
         "y": [
          -8825,
          -8825,
          -8840,
          -8840
         ],
         "yaxis": "y"
        },
        {
         "hoverinfo": "text",
         "marker": {
          "color": "rgb(0,116,217)"
         },
         "mode": "lines",
         "type": "scatter",
         "x": [
          1.6182699640356362,
          2.0808503656858446,
          2.0808503656858446,
          1.8480058319215606
         ],
         "xaxis": "x",
         "y": [
          -8810,
          -8810,
          -8832.5,
          -8832.5
         ],
         "yaxis": "y"
        },
        {
         "hoverinfo": "text",
         "marker": {
          "color": "rgb(40,35,35)"
         },
         "mode": "lines",
         "type": "scatter",
         "x": [
          0,
          0.9747870445331756,
          0.9747870445331756,
          0
         ],
         "xaxis": "x",
         "y": [
          -8855,
          -8855,
          -8865,
          -8865
         ],
         "yaxis": "y"
        },
        {
         "hoverinfo": "text",
         "marker": {
          "color": "rgb(0,116,217)"
         },
         "mode": "lines",
         "type": "scatter",
         "x": [
          0,
          1.2134120316088968,
          1.2134120316088968,
          0
         ],
         "xaxis": "x",
         "y": [
          -8895,
          -8895,
          -8905,
          -8905
         ],
         "yaxis": "y"
        },
        {
         "hoverinfo": "text",
         "marker": {
          "color": "rgb(0,116,217)"
         },
         "mode": "lines",
         "type": "scatter",
         "x": [
          0,
          1.5418226587059516,
          1.5418226587059516,
          1.2134120316088968
         ],
         "xaxis": "x",
         "y": [
          -8885,
          -8885,
          -8900,
          -8900
         ],
         "yaxis": "y"
        },
        {
         "hoverinfo": "text",
         "marker": {
          "color": "rgb(0,116,217)"
         },
         "mode": "lines",
         "type": "scatter",
         "x": [
          0,
          2.082130672914038,
          2.082130672914038,
          1.5418226587059516
         ],
         "xaxis": "x",
         "y": [
          -8875,
          -8875,
          -8892.5,
          -8892.5
         ],
         "yaxis": "y"
        },
        {
         "hoverinfo": "text",
         "marker": {
          "color": "rgb(0,116,217)"
         },
         "mode": "lines",
         "type": "scatter",
         "x": [
          0.9747870445331756,
          2.6420706524617743,
          2.6420706524617743,
          2.082130672914038
         ],
         "xaxis": "x",
         "y": [
          -8860,
          -8860,
          -8883.75,
          -8883.75
         ],
         "yaxis": "y"
        },
        {
         "hoverinfo": "text",
         "marker": {
          "color": "rgb(0,116,217)"
         },
         "mode": "lines",
         "type": "scatter",
         "x": [
          2.0808503656858446,
          3.3719561729409024,
          3.3719561729409024,
          2.6420706524617743
         ],
         "xaxis": "x",
         "y": [
          -8821.25,
          -8821.25,
          -8871.875,
          -8871.875
         ],
         "yaxis": "y"
        },
        {
         "hoverinfo": "text",
         "marker": {
          "color": "rgb(0,116,217)"
         },
         "mode": "lines",
         "type": "scatter",
         "x": [
          2.782088848005473,
          4.181527553605912,
          4.181527553605912,
          3.3719561729409024
         ],
         "xaxis": "x",
         "y": [
          -8725.625,
          -8725.625,
          -8846.5625,
          -8846.5625
         ],
         "yaxis": "y"
        },
        {
         "hoverinfo": "text",
         "marker": {
          "color": "rgb(0,116,217)"
         },
         "mode": "lines",
         "type": "scatter",
         "x": [
          3.9501447954018825,
          5.803345023847549,
          5.803345023847549,
          4.181527553605912
         ],
         "xaxis": "x",
         "y": [
          -8519.0625,
          -8519.0625,
          -8786.09375,
          -8786.09375
         ],
         "yaxis": "y"
        },
        {
         "hoverinfo": "text",
         "marker": {
          "color": "rgb(0,116,217)"
         },
         "mode": "lines",
         "type": "scatter",
         "x": [
          0,
          1.6351825421066595,
          1.6351825421066595,
          0
         ],
         "xaxis": "x",
         "y": [
          -8915,
          -8915,
          -8925,
          -8925
         ],
         "yaxis": "y"
        },
        {
         "hoverinfo": "text",
         "marker": {
          "color": "rgb(0,116,217)"
         },
         "mode": "lines",
         "type": "scatter",
         "x": [
          0,
          1.3704973934474756,
          1.3704973934474756,
          0
         ],
         "xaxis": "x",
         "y": [
          -8955,
          -8955,
          -8965,
          -8965
         ],
         "yaxis": "y"
        },
        {
         "hoverinfo": "text",
         "marker": {
          "color": "rgb(0,116,217)"
         },
         "mode": "lines",
         "type": "scatter",
         "x": [
          0,
          1.5344756054093855,
          1.5344756054093855,
          1.3704973934474756
         ],
         "xaxis": "x",
         "y": [
          -8945,
          -8945,
          -8960,
          -8960
         ],
         "yaxis": "y"
        },
        {
         "hoverinfo": "text",
         "marker": {
          "color": "rgb(0,116,217)"
         },
         "mode": "lines",
         "type": "scatter",
         "x": [
          0,
          1.891999008697272,
          1.891999008697272,
          1.5344756054093855
         ],
         "xaxis": "x",
         "y": [
          -8935,
          -8935,
          -8952.5,
          -8952.5
         ],
         "yaxis": "y"
        },
        {
         "hoverinfo": "text",
         "marker": {
          "color": "rgb(0,116,217)"
         },
         "mode": "lines",
         "type": "scatter",
         "x": [
          1.6351825421066595,
          1.9885628281650023,
          1.9885628281650023,
          1.891999008697272
         ],
         "xaxis": "x",
         "y": [
          -8920,
          -8920,
          -8943.75,
          -8943.75
         ],
         "yaxis": "y"
        },
        {
         "hoverinfo": "text",
         "marker": {
          "color": "rgb(0,116,217)"
         },
         "mode": "lines",
         "type": "scatter",
         "x": [
          0,
          1.0253182350200414,
          1.0253182350200414,
          0
         ],
         "xaxis": "x",
         "y": [
          -8975,
          -8975,
          -8985,
          -8985
         ],
         "yaxis": "y"
        },
        {
         "hoverinfo": "text",
         "marker": {
          "color": "rgb(0,116,217)"
         },
         "mode": "lines",
         "type": "scatter",
         "x": [
          0,
          1.5664054844717141,
          1.5664054844717141,
          0
         ],
         "xaxis": "x",
         "y": [
          -8995,
          -8995,
          -9005,
          -9005
         ],
         "yaxis": "y"
        },
        {
         "hoverinfo": "text",
         "marker": {
          "color": "rgb(0,116,217)"
         },
         "mode": "lines",
         "type": "scatter",
         "x": [
          0,
          1.597756312696476,
          1.597756312696476,
          0
         ],
         "xaxis": "x",
         "y": [
          -9015,
          -9015,
          -9025,
          -9025
         ],
         "yaxis": "y"
        },
        {
         "hoverinfo": "text",
         "marker": {
          "color": "rgb(0,116,217)"
         },
         "mode": "lines",
         "type": "scatter",
         "x": [
          0,
          1.817214095671973,
          1.817214095671973,
          0
         ],
         "xaxis": "x",
         "y": [
          -9035,
          -9035,
          -9045,
          -9045
         ],
         "yaxis": "y"
        },
        {
         "hoverinfo": "text",
         "marker": {
          "color": "rgb(0,116,217)"
         },
         "mode": "lines",
         "type": "scatter",
         "x": [
          1.597756312696476,
          1.9268612987632436,
          1.9268612987632436,
          1.817214095671973
         ],
         "xaxis": "x",
         "y": [
          -9020,
          -9020,
          -9040,
          -9040
         ],
         "yaxis": "y"
        },
        {
         "hoverinfo": "text",
         "marker": {
          "color": "rgb(0,116,217)"
         },
         "mode": "lines",
         "type": "scatter",
         "x": [
          1.5664054844717141,
          2.445272679144781,
          2.445272679144781,
          1.9268612987632436
         ],
         "xaxis": "x",
         "y": [
          -9000,
          -9000,
          -9030,
          -9030
         ],
         "yaxis": "y"
        },
        {
         "hoverinfo": "text",
         "marker": {
          "color": "rgb(0,116,217)"
         },
         "mode": "lines",
         "type": "scatter",
         "x": [
          1.0253182350200414,
          2.6649168587133145,
          2.6649168587133145,
          2.445272679144781
         ],
         "xaxis": "x",
         "y": [
          -8980,
          -8980,
          -9015,
          -9015
         ],
         "yaxis": "y"
        },
        {
         "hoverinfo": "text",
         "marker": {
          "color": "rgb(61,153,112)"
         },
         "mode": "lines",
         "type": "scatter",
         "x": [
          0,
          0.8715891397454417,
          0.8715891397454417,
          0
         ],
         "xaxis": "x",
         "y": [
          -9055,
          -9055,
          -9065,
          -9065
         ],
         "yaxis": "y"
        },
        {
         "hoverinfo": "text",
         "marker": {
          "color": "rgb(0,116,217)"
         },
         "mode": "lines",
         "type": "scatter",
         "x": [
          0,
          1.080220147488941,
          1.080220147488941,
          0
         ],
         "xaxis": "x",
         "y": [
          -9075,
          -9075,
          -9085,
          -9085
         ],
         "yaxis": "y"
        },
        {
         "hoverinfo": "text",
         "marker": {
          "color": "rgb(0,116,217)"
         },
         "mode": "lines",
         "type": "scatter",
         "x": [
          0.8715891397454417,
          1.4636914620799655,
          1.4636914620799655,
          1.080220147488941
         ],
         "xaxis": "x",
         "y": [
          -9060,
          -9060,
          -9080,
          -9080
         ],
         "yaxis": "y"
        },
        {
         "hoverinfo": "text",
         "marker": {
          "color": "rgb(0,116,217)"
         },
         "mode": "lines",
         "type": "scatter",
         "x": [
          0,
          1.5512689094226135,
          1.5512689094226135,
          0
         ],
         "xaxis": "x",
         "y": [
          -9105,
          -9105,
          -9115,
          -9115
         ],
         "yaxis": "y"
        },
        {
         "hoverinfo": "text",
         "marker": {
          "color": "rgb(0,116,217)"
         },
         "mode": "lines",
         "type": "scatter",
         "x": [
          0,
          1.9796525710235562,
          1.9796525710235562,
          1.5512689094226135
         ],
         "xaxis": "x",
         "y": [
          -9095,
          -9095,
          -9110,
          -9110
         ],
         "yaxis": "y"
        },
        {
         "hoverinfo": "text",
         "marker": {
          "color": "rgb(0,116,217)"
         },
         "mode": "lines",
         "type": "scatter",
         "x": [
          1.4636914620799655,
          2.7752733563519483,
          2.7752733563519483,
          1.9796525710235562
         ],
         "xaxis": "x",
         "y": [
          -9070,
          -9070,
          -9102.5,
          -9102.5
         ],
         "yaxis": "y"
        },
        {
         "hoverinfo": "text",
         "marker": {
          "color": "rgb(0,116,217)"
         },
         "mode": "lines",
         "type": "scatter",
         "x": [
          2.6649168587133145,
          3.0037231071589776,
          3.0037231071589776,
          2.7752733563519483
         ],
         "xaxis": "x",
         "y": [
          -8997.5,
          -8997.5,
          -9086.25,
          -9086.25
         ],
         "yaxis": "y"
        },
        {
         "hoverinfo": "text",
         "marker": {
          "color": "rgb(0,116,217)"
         },
         "mode": "lines",
         "type": "scatter",
         "x": [
          1.9885628281650023,
          3.733691858724191,
          3.733691858724191,
          3.0037231071589776
         ],
         "xaxis": "x",
         "y": [
          -8931.875,
          -8931.875,
          -9041.875,
          -9041.875
         ],
         "yaxis": "y"
        },
        {
         "hoverinfo": "text",
         "marker": {
          "color": "rgb(255,65,54)"
         },
         "mode": "lines",
         "type": "scatter",
         "x": [
          0,
          0.8483870065711212,
          0.8483870065711212,
          0
         ],
         "xaxis": "x",
         "y": [
          -9135,
          -9135,
          -9145,
          -9145
         ],
         "yaxis": "y"
        },
        {
         "hoverinfo": "text",
         "marker": {
          "color": "rgb(0,116,217)"
         },
         "mode": "lines",
         "type": "scatter",
         "x": [
          0,
          1.4710950489050387,
          1.4710950489050387,
          0.8483870065711212
         ],
         "xaxis": "x",
         "y": [
          -9125,
          -9125,
          -9140,
          -9140
         ],
         "yaxis": "y"
        },
        {
         "hoverinfo": "text",
         "marker": {
          "color": "rgb(35,205,205)"
         },
         "mode": "lines",
         "type": "scatter",
         "x": [
          0,
          0.724657740564736,
          0.724657740564736,
          0
         ],
         "xaxis": "x",
         "y": [
          -9175,
          -9175,
          -9185,
          -9185
         ],
         "yaxis": "y"
        },
        {
         "hoverinfo": "text",
         "marker": {
          "color": "rgb(0,116,217)"
         },
         "mode": "lines",
         "type": "scatter",
         "x": [
          0,
          1.2177622032008426,
          1.2177622032008426,
          0.724657740564736
         ],
         "xaxis": "x",
         "y": [
          -9165,
          -9165,
          -9180,
          -9180
         ],
         "yaxis": "y"
        },
        {
         "hoverinfo": "text",
         "marker": {
          "color": "rgb(0,116,217)"
         },
         "mode": "lines",
         "type": "scatter",
         "x": [
          0,
          1.8123340700792359,
          1.8123340700792359,
          1.2177622032008426
         ],
         "xaxis": "x",
         "y": [
          -9155,
          -9155,
          -9172.5,
          -9172.5
         ],
         "yaxis": "y"
        },
        {
         "hoverinfo": "text",
         "marker": {
          "color": "rgb(0,116,217)"
         },
         "mode": "lines",
         "type": "scatter",
         "x": [
          1.4710950489050387,
          2.2035014588217314,
          2.2035014588217314,
          1.8123340700792359
         ],
         "xaxis": "x",
         "y": [
          -9132.5,
          -9132.5,
          -9163.75,
          -9163.75
         ],
         "yaxis": "y"
        },
        {
         "hoverinfo": "text",
         "marker": {
          "color": "rgb(0,116,217)"
         },
         "mode": "lines",
         "type": "scatter",
         "x": [
          0,
          1.1852693182644396,
          1.1852693182644396,
          0
         ],
         "xaxis": "x",
         "y": [
          -9205,
          -9205,
          -9215,
          -9215
         ],
         "yaxis": "y"
        },
        {
         "hoverinfo": "text",
         "marker": {
          "color": "rgb(0,116,217)"
         },
         "mode": "lines",
         "type": "scatter",
         "x": [
          0,
          1.281035455201812,
          1.281035455201812,
          1.1852693182644396
         ],
         "xaxis": "x",
         "y": [
          -9195,
          -9195,
          -9210,
          -9210
         ],
         "yaxis": "y"
        },
        {
         "hoverinfo": "text",
         "marker": {
          "color": "rgb(0,116,217)"
         },
         "mode": "lines",
         "type": "scatter",
         "x": [
          0,
          1.4116933059691583,
          1.4116933059691583,
          0
         ],
         "xaxis": "x",
         "y": [
          -9235,
          -9235,
          -9245,
          -9245
         ],
         "yaxis": "y"
        },
        {
         "hoverinfo": "text",
         "marker": {
          "color": "rgb(0,116,217)"
         },
         "mode": "lines",
         "type": "scatter",
         "x": [
          0,
          1.6783873149125335,
          1.6783873149125335,
          1.4116933059691583
         ],
         "xaxis": "x",
         "y": [
          -9225,
          -9225,
          -9240,
          -9240
         ],
         "yaxis": "y"
        },
        {
         "hoverinfo": "text",
         "marker": {
          "color": "rgb(0,116,217)"
         },
         "mode": "lines",
         "type": "scatter",
         "x": [
          1.281035455201812,
          2.3849469881409404,
          2.3849469881409404,
          1.6783873149125335
         ],
         "xaxis": "x",
         "y": [
          -9202.5,
          -9202.5,
          -9232.5,
          -9232.5
         ],
         "yaxis": "y"
        },
        {
         "hoverinfo": "text",
         "marker": {
          "color": "rgb(0,116,217)"
         },
         "mode": "lines",
         "type": "scatter",
         "x": [
          0,
          1.4635773820374085,
          1.4635773820374085,
          0
         ],
         "xaxis": "x",
         "y": [
          -9265,
          -9265,
          -9275,
          -9275
         ],
         "yaxis": "y"
        },
        {
         "hoverinfo": "text",
         "marker": {
          "color": "rgb(0,116,217)"
         },
         "mode": "lines",
         "type": "scatter",
         "x": [
          0,
          1.6938444794951164,
          1.6938444794951164,
          1.4635773820374085
         ],
         "xaxis": "x",
         "y": [
          -9255,
          -9255,
          -9270,
          -9270
         ],
         "yaxis": "y"
        },
        {
         "hoverinfo": "text",
         "marker": {
          "color": "rgb(0,116,217)"
         },
         "mode": "lines",
         "type": "scatter",
         "x": [
          0,
          1.2137220031291334,
          1.2137220031291334,
          0
         ],
         "xaxis": "x",
         "y": [
          -9285,
          -9285,
          -9295,
          -9295
         ],
         "yaxis": "y"
        },
        {
         "hoverinfo": "text",
         "marker": {
          "color": "rgb(61,153,112)"
         },
         "mode": "lines",
         "type": "scatter",
         "x": [
          0,
          0.8361712125552718,
          0.8361712125552718,
          0
         ],
         "xaxis": "x",
         "y": [
          -9315,
          -9315,
          -9325,
          -9325
         ],
         "yaxis": "y"
        },
        {
         "hoverinfo": "text",
         "marker": {
          "color": "rgb(0,116,217)"
         },
         "mode": "lines",
         "type": "scatter",
         "x": [
          0,
          1.5887684450310466,
          1.5887684450310466,
          0.8361712125552718
         ],
         "xaxis": "x",
         "y": [
          -9305,
          -9305,
          -9320,
          -9320
         ],
         "yaxis": "y"
        },
        {
         "hoverinfo": "text",
         "marker": {
          "color": "rgb(0,116,217)"
         },
         "mode": "lines",
         "type": "scatter",
         "x": [
          1.2137220031291334,
          1.7512883802935553,
          1.7512883802935553,
          1.5887684450310466
         ],
         "xaxis": "x",
         "y": [
          -9290,
          -9290,
          -9312.5,
          -9312.5
         ],
         "yaxis": "y"
        },
        {
         "hoverinfo": "text",
         "marker": {
          "color": "rgb(0,116,217)"
         },
         "mode": "lines",
         "type": "scatter",
         "x": [
          1.6938444794951164,
          2.45289714589102,
          2.45289714589102,
          1.7512883802935553
         ],
         "xaxis": "x",
         "y": [
          -9262.5,
          -9262.5,
          -9301.25,
          -9301.25
         ],
         "yaxis": "y"
        },
        {
         "hoverinfo": "text",
         "marker": {
          "color": "rgb(0,116,217)"
         },
         "mode": "lines",
         "type": "scatter",
         "x": [
          2.3849469881409404,
          2.72195074383058,
          2.72195074383058,
          2.45289714589102
         ],
         "xaxis": "x",
         "y": [
          -9217.5,
          -9217.5,
          -9281.875,
          -9281.875
         ],
         "yaxis": "y"
        },
        {
         "hoverinfo": "text",
         "marker": {
          "color": "rgb(0,116,217)"
         },
         "mode": "lines",
         "type": "scatter",
         "x": [
          2.2035014588217314,
          4.662407065915139,
          4.662407065915139,
          2.72195074383058
         ],
         "xaxis": "x",
         "y": [
          -9148.125,
          -9148.125,
          -9249.6875,
          -9249.6875
         ],
         "yaxis": "y"
        },
        {
         "hoverinfo": "text",
         "marker": {
          "color": "rgb(0,116,217)"
         },
         "mode": "lines",
         "type": "scatter",
         "x": [
          3.733691858724191,
          6.354277302111139,
          6.354277302111139,
          4.662407065915139
         ],
         "xaxis": "x",
         "y": [
          -8986.875,
          -8986.875,
          -9198.90625,
          -9198.90625
         ],
         "yaxis": "y"
        },
        {
         "hoverinfo": "text",
         "marker": {
          "color": "rgb(0,116,217)"
         },
         "mode": "lines",
         "type": "scatter",
         "x": [
          5.803345023847549,
          7.7912889349569845,
          7.7912889349569845,
          6.354277302111139
         ],
         "xaxis": "x",
         "y": [
          -8652.578125,
          -8652.578125,
          -9092.890625,
          -9092.890625
         ],
         "yaxis": "y"
        },
        {
         "hoverinfo": "text",
         "marker": {
          "color": "rgb(255,65,54)"
         },
         "mode": "lines",
         "type": "scatter",
         "x": [
          0,
          0.9878164615708445,
          0.9878164615708445,
          0
         ],
         "xaxis": "x",
         "y": [
          -9345,
          -9345,
          -9355,
          -9355
         ],
         "yaxis": "y"
        },
        {
         "hoverinfo": "text",
         "marker": {
          "color": "rgb(0,116,217)"
         },
         "mode": "lines",
         "type": "scatter",
         "x": [
          0,
          1.3324045621702822,
          1.3324045621702822,
          0.9878164615708445
         ],
         "xaxis": "x",
         "y": [
          -9335,
          -9335,
          -9350,
          -9350
         ],
         "yaxis": "y"
        },
        {
         "hoverinfo": "text",
         "marker": {
          "color": "rgb(0,116,217)"
         },
         "mode": "lines",
         "type": "scatter",
         "x": [
          0,
          1.4628612953119213,
          1.4628612953119213,
          0
         ],
         "xaxis": "x",
         "y": [
          -9375,
          -9375,
          -9385,
          -9385
         ],
         "yaxis": "y"
        },
        {
         "hoverinfo": "text",
         "marker": {
          "color": "rgb(0,116,217)"
         },
         "mode": "lines",
         "type": "scatter",
         "x": [
          0,
          1.859501664159817,
          1.859501664159817,
          1.4628612953119213
         ],
         "xaxis": "x",
         "y": [
          -9365,
          -9365,
          -9380,
          -9380
         ],
         "yaxis": "y"
        },
        {
         "hoverinfo": "text",
         "marker": {
          "color": "rgb(0,116,217)"
         },
         "mode": "lines",
         "type": "scatter",
         "x": [
          1.3324045621702822,
          2.2780298046243503,
          2.2780298046243503,
          1.859501664159817
         ],
         "xaxis": "x",
         "y": [
          -9342.5,
          -9342.5,
          -9372.5,
          -9372.5
         ],
         "yaxis": "y"
        },
        {
         "hoverinfo": "text",
         "marker": {
          "color": "rgb(0,116,217)"
         },
         "mode": "lines",
         "type": "scatter",
         "x": [
          0,
          1.217913716003441,
          1.217913716003441,
          0
         ],
         "xaxis": "x",
         "y": [
          -9405,
          -9405,
          -9415,
          -9415
         ],
         "yaxis": "y"
        },
        {
         "hoverinfo": "text",
         "marker": {
          "color": "rgb(0,116,217)"
         },
         "mode": "lines",
         "type": "scatter",
         "x": [
          0,
          1.3782396798868648,
          1.3782396798868648,
          1.217913716003441
         ],
         "xaxis": "x",
         "y": [
          -9395,
          -9395,
          -9410,
          -9410
         ],
         "yaxis": "y"
        },
        {
         "hoverinfo": "text",
         "marker": {
          "color": "rgb(0,116,217)"
         },
         "mode": "lines",
         "type": "scatter",
         "x": [
          0,
          1.6292746725792477,
          1.6292746725792477,
          0
         ],
         "xaxis": "x",
         "y": [
          -9445,
          -9445,
          -9455,
          -9455
         ],
         "yaxis": "y"
        },
        {
         "hoverinfo": "text",
         "marker": {
          "color": "rgb(0,116,217)"
         },
         "mode": "lines",
         "type": "scatter",
         "x": [
          0,
          1.7594151365243675,
          1.7594151365243675,
          1.6292746725792477
         ],
         "xaxis": "x",
         "y": [
          -9435,
          -9435,
          -9450,
          -9450
         ],
         "yaxis": "y"
        },
        {
         "hoverinfo": "text",
         "marker": {
          "color": "rgb(0,116,217)"
         },
         "mode": "lines",
         "type": "scatter",
         "x": [
          0,
          2.0679290876478094,
          2.0679290876478094,
          1.7594151365243675
         ],
         "xaxis": "x",
         "y": [
          -9425,
          -9425,
          -9442.5,
          -9442.5
         ],
         "yaxis": "y"
        },
        {
         "hoverinfo": "text",
         "marker": {
          "color": "rgb(0,116,217)"
         },
         "mode": "lines",
         "type": "scatter",
         "x": [
          1.3782396798868648,
          2.2787729104122025,
          2.2787729104122025,
          2.0679290876478094
         ],
         "xaxis": "x",
         "y": [
          -9402.5,
          -9402.5,
          -9433.75,
          -9433.75
         ],
         "yaxis": "y"
        },
        {
         "hoverinfo": "text",
         "marker": {
          "color": "rgb(0,116,217)"
         },
         "mode": "lines",
         "type": "scatter",
         "x": [
          2.2780298046243503,
          3.1862329849140805,
          3.1862329849140805,
          2.2787729104122025
         ],
         "xaxis": "x",
         "y": [
          -9357.5,
          -9357.5,
          -9418.125,
          -9418.125
         ],
         "yaxis": "y"
        },
        {
         "hoverinfo": "text",
         "marker": {
          "color": "rgb(0,116,217)"
         },
         "mode": "lines",
         "type": "scatter",
         "x": [
          0,
          1.201228087866978,
          1.201228087866978,
          0
         ],
         "xaxis": "x",
         "y": [
          -9465,
          -9465,
          -9475,
          -9475
         ],
         "yaxis": "y"
        },
        {
         "hoverinfo": "text",
         "marker": {
          "color": "rgb(0,116,217)"
         },
         "mode": "lines",
         "type": "scatter",
         "x": [
          0,
          1.400625220303965,
          1.400625220303965,
          0
         ],
         "xaxis": "x",
         "y": [
          -9495,
          -9495,
          -9505,
          -9505
         ],
         "yaxis": "y"
        },
        {
         "hoverinfo": "text",
         "marker": {
          "color": "rgb(0,116,217)"
         },
         "mode": "lines",
         "type": "scatter",
         "x": [
          0,
          1.5345201250768568,
          1.5345201250768568,
          1.400625220303965
         ],
         "xaxis": "x",
         "y": [
          -9485,
          -9485,
          -9500,
          -9500
         ],
         "yaxis": "y"
        },
        {
         "hoverinfo": "text",
         "marker": {
          "color": "rgb(0,116,217)"
         },
         "mode": "lines",
         "type": "scatter",
         "x": [
          1.201228087866978,
          1.885713584020332,
          1.885713584020332,
          1.5345201250768568
         ],
         "xaxis": "x",
         "y": [
          -9470,
          -9470,
          -9492.5,
          -9492.5
         ],
         "yaxis": "y"
        },
        {
         "hoverinfo": "text",
         "marker": {
          "color": "rgb(0,116,217)"
         },
         "mode": "lines",
         "type": "scatter",
         "x": [
          0,
          1.2236292155477533,
          1.2236292155477533,
          0
         ],
         "xaxis": "x",
         "y": [
          -9515,
          -9515,
          -9525,
          -9525
         ],
         "yaxis": "y"
        },
        {
         "hoverinfo": "text",
         "marker": {
          "color": "rgb(0,116,217)"
         },
         "mode": "lines",
         "type": "scatter",
         "x": [
          0,
          1.2380637598719713,
          1.2380637598719713,
          0
         ],
         "xaxis": "x",
         "y": [
          -9555,
          -9555,
          -9565,
          -9565
         ],
         "yaxis": "y"
        },
        {
         "hoverinfo": "text",
         "marker": {
          "color": "rgb(0,116,217)"
         },
         "mode": "lines",
         "type": "scatter",
         "x": [
          0,
          1.5877698558211641,
          1.5877698558211641,
          1.2380637598719713
         ],
         "xaxis": "x",
         "y": [
          -9545,
          -9545,
          -9560,
          -9560
         ],
         "yaxis": "y"
        },
        {
         "hoverinfo": "text",
         "marker": {
          "color": "rgb(0,116,217)"
         },
         "mode": "lines",
         "type": "scatter",
         "x": [
          0,
          1.8400904965101597,
          1.8400904965101597,
          1.5877698558211641
         ],
         "xaxis": "x",
         "y": [
          -9535,
          -9535,
          -9552.5,
          -9552.5
         ],
         "yaxis": "y"
        },
        {
         "hoverinfo": "text",
         "marker": {
          "color": "rgb(0,116,217)"
         },
         "mode": "lines",
         "type": "scatter",
         "x": [
          1.2236292155477533,
          2.2274393988517245,
          2.2274393988517245,
          1.8400904965101597
         ],
         "xaxis": "x",
         "y": [
          -9520,
          -9520,
          -9543.75,
          -9543.75
         ],
         "yaxis": "y"
        },
        {
         "hoverinfo": "text",
         "marker": {
          "color": "rgb(0,116,217)"
         },
         "mode": "lines",
         "type": "scatter",
         "x": [
          1.885713584020332,
          2.589389744743458,
          2.589389744743458,
          2.2274393988517245
         ],
         "xaxis": "x",
         "y": [
          -9481.25,
          -9481.25,
          -9531.875,
          -9531.875
         ],
         "yaxis": "y"
        },
        {
         "hoverinfo": "text",
         "marker": {
          "color": "rgb(0,116,217)"
         },
         "mode": "lines",
         "type": "scatter",
         "x": [
          0,
          1.443207404737295,
          1.443207404737295,
          0
         ],
         "xaxis": "x",
         "y": [
          -9585,
          -9585,
          -9595,
          -9595
         ],
         "yaxis": "y"
        },
        {
         "hoverinfo": "text",
         "marker": {
          "color": "rgb(0,116,217)"
         },
         "mode": "lines",
         "type": "scatter",
         "x": [
          0,
          1.5834506533600772,
          1.5834506533600772,
          1.443207404737295
         ],
         "xaxis": "x",
         "y": [
          -9575,
          -9575,
          -9590,
          -9590
         ],
         "yaxis": "y"
        },
        {
         "hoverinfo": "text",
         "marker": {
          "color": "rgb(0,116,217)"
         },
         "mode": "lines",
         "type": "scatter",
         "x": [
          0,
          1.6603179963040289,
          1.6603179963040289,
          0
         ],
         "xaxis": "x",
         "y": [
          -9615,
          -9615,
          -9625,
          -9625
         ],
         "yaxis": "y"
        },
        {
         "hoverinfo": "text",
         "marker": {
          "color": "rgb(0,116,217)"
         },
         "mode": "lines",
         "type": "scatter",
         "x": [
          0,
          1.7568731324009765,
          1.7568731324009765,
          1.6603179963040289
         ],
         "xaxis": "x",
         "y": [
          -9605,
          -9605,
          -9620,
          -9620
         ],
         "yaxis": "y"
        },
        {
         "hoverinfo": "text",
         "marker": {
          "color": "rgb(0,116,217)"
         },
         "mode": "lines",
         "type": "scatter",
         "x": [
          1.5834506533600772,
          2.192105785454384,
          2.192105785454384,
          1.7568731324009765
         ],
         "xaxis": "x",
         "y": [
          -9582.5,
          -9582.5,
          -9612.5,
          -9612.5
         ],
         "yaxis": "y"
        },
        {
         "hoverinfo": "text",
         "marker": {
          "color": "rgb(0,116,217)"
         },
         "mode": "lines",
         "type": "scatter",
         "x": [
          0,
          1.4042252040297756,
          1.4042252040297756,
          0
         ],
         "xaxis": "x",
         "y": [
          -9635,
          -9635,
          -9645,
          -9645
         ],
         "yaxis": "y"
        },
        {
         "hoverinfo": "text",
         "marker": {
          "color": "rgb(0,116,217)"
         },
         "mode": "lines",
         "type": "scatter",
         "x": [
          0,
          1.2777885926264927,
          1.2777885926264927,
          0
         ],
         "xaxis": "x",
         "y": [
          -9665,
          -9665,
          -9675,
          -9675
         ],
         "yaxis": "y"
        },
        {
         "hoverinfo": "text",
         "marker": {
          "color": "rgb(0,116,217)"
         },
         "mode": "lines",
         "type": "scatter",
         "x": [
          0,
          1.6389581588710302,
          1.6389581588710302,
          1.2777885926264927
         ],
         "xaxis": "x",
         "y": [
          -9655,
          -9655,
          -9670,
          -9670
         ],
         "yaxis": "y"
        },
        {
         "hoverinfo": "text",
         "marker": {
          "color": "rgb(0,116,217)"
         },
         "mode": "lines",
         "type": "scatter",
         "x": [
          1.4042252040297756,
          1.832859115562029,
          1.832859115562029,
          1.6389581588710302
         ],
         "xaxis": "x",
         "y": [
          -9640,
          -9640,
          -9662.5,
          -9662.5
         ],
         "yaxis": "y"
        },
        {
         "hoverinfo": "text",
         "marker": {
          "color": "rgb(35,205,205)"
         },
         "mode": "lines",
         "type": "scatter",
         "x": [
          0,
          0.9417745776104075,
          0.9417745776104075,
          0
         ],
         "xaxis": "x",
         "y": [
          -9695,
          -9695,
          -9705,
          -9705
         ],
         "yaxis": "y"
        },
        {
         "hoverinfo": "text",
         "marker": {
          "color": "rgb(0,116,217)"
         },
         "mode": "lines",
         "type": "scatter",
         "x": [
          0,
          1.2652159417543585,
          1.2652159417543585,
          0.9417745776104075
         ],
         "xaxis": "x",
         "y": [
          -9685,
          -9685,
          -9700,
          -9700
         ],
         "yaxis": "y"
        },
        {
         "hoverinfo": "text",
         "marker": {
          "color": "rgb(0,116,217)"
         },
         "mode": "lines",
         "type": "scatter",
         "x": [
          0,
          1.0453908308574968,
          1.0453908308574968,
          0
         ],
         "xaxis": "x",
         "y": [
          -9735,
          -9735,
          -9745,
          -9745
         ],
         "yaxis": "y"
        },
        {
         "hoverinfo": "text",
         "marker": {
          "color": "rgb(0,116,217)"
         },
         "mode": "lines",
         "type": "scatter",
         "x": [
          0,
          1.2835628631235756,
          1.2835628631235756,
          1.0453908308574968
         ],
         "xaxis": "x",
         "y": [
          -9725,
          -9725,
          -9740,
          -9740
         ],
         "yaxis": "y"
        },
        {
         "hoverinfo": "text",
         "marker": {
          "color": "rgb(0,116,217)"
         },
         "mode": "lines",
         "type": "scatter",
         "x": [
          0,
          1.8229756373877564,
          1.8229756373877564,
          1.2835628631235756
         ],
         "xaxis": "x",
         "y": [
          -9715,
          -9715,
          -9732.5,
          -9732.5
         ],
         "yaxis": "y"
        },
        {
         "hoverinfo": "text",
         "marker": {
          "color": "rgb(0,116,217)"
         },
         "mode": "lines",
         "type": "scatter",
         "x": [
          1.2652159417543585,
          2.2571641845986643,
          2.2571641845986643,
          1.8229756373877564
         ],
         "xaxis": "x",
         "y": [
          -9692.5,
          -9692.5,
          -9723.75,
          -9723.75
         ],
         "yaxis": "y"
        },
        {
         "hoverinfo": "text",
         "marker": {
          "color": "rgb(0,116,217)"
         },
         "mode": "lines",
         "type": "scatter",
         "x": [
          1.832859115562029,
          2.3908921156152925,
          2.3908921156152925,
          2.2571641845986643
         ],
         "xaxis": "x",
         "y": [
          -9651.25,
          -9651.25,
          -9708.125,
          -9708.125
         ],
         "yaxis": "y"
        },
        {
         "hoverinfo": "text",
         "marker": {
          "color": "rgb(0,116,217)"
         },
         "mode": "lines",
         "type": "scatter",
         "x": [
          2.192105785454384,
          2.9972822225942815,
          2.9972822225942815,
          2.3908921156152925
         ],
         "xaxis": "x",
         "y": [
          -9597.5,
          -9597.5,
          -9679.6875,
          -9679.6875
         ],
         "yaxis": "y"
        },
        {
         "hoverinfo": "text",
         "marker": {
          "color": "rgb(0,116,217)"
         },
         "mode": "lines",
         "type": "scatter",
         "x": [
          2.589389744743458,
          4.139697662976696,
          4.139697662976696,
          2.9972822225942815
         ],
         "xaxis": "x",
         "y": [
          -9506.5625,
          -9506.5625,
          -9638.59375,
          -9638.59375
         ],
         "yaxis": "y"
        },
        {
         "hoverinfo": "text",
         "marker": {
          "color": "rgb(0,116,217)"
         },
         "mode": "lines",
         "type": "scatter",
         "x": [
          3.1862329849140805,
          5.042296365473464,
          5.042296365473464,
          4.139697662976696
         ],
         "xaxis": "x",
         "y": [
          -9387.8125,
          -9387.8125,
          -9572.578125,
          -9572.578125
         ],
         "yaxis": "y"
        },
        {
         "hoverinfo": "text",
         "marker": {
          "color": "rgb(0,116,217)"
         },
         "mode": "lines",
         "type": "scatter",
         "x": [
          0,
          1.2064821807930317,
          1.2064821807930317,
          0
         ],
         "xaxis": "x",
         "y": [
          -9755,
          -9755,
          -9765,
          -9765
         ],
         "yaxis": "y"
        },
        {
         "hoverinfo": "text",
         "marker": {
          "color": "rgb(0,116,217)"
         },
         "mode": "lines",
         "type": "scatter",
         "x": [
          0,
          1.4506767557179658,
          1.4506767557179658,
          0
         ],
         "xaxis": "x",
         "y": [
          -9775,
          -9775,
          -9785,
          -9785
         ],
         "yaxis": "y"
        },
        {
         "hoverinfo": "text",
         "marker": {
          "color": "rgb(0,116,217)"
         },
         "mode": "lines",
         "type": "scatter",
         "x": [
          0,
          1.5126385061052714,
          1.5126385061052714,
          0
         ],
         "xaxis": "x",
         "y": [
          -9795,
          -9795,
          -9805,
          -9805
         ],
         "yaxis": "y"
        },
        {
         "hoverinfo": "text",
         "marker": {
          "color": "rgb(0,116,217)"
         },
         "mode": "lines",
         "type": "scatter",
         "x": [
          1.4506767557179658,
          2.2474129512676897,
          2.2474129512676897,
          1.5126385061052714
         ],
         "xaxis": "x",
         "y": [
          -9780,
          -9780,
          -9800,
          -9800
         ],
         "yaxis": "y"
        },
        {
         "hoverinfo": "text",
         "marker": {
          "color": "rgb(0,116,217)"
         },
         "mode": "lines",
         "type": "scatter",
         "x": [
          1.2064821807930317,
          2.616022528195667,
          2.616022528195667,
          2.2474129512676897
         ],
         "xaxis": "x",
         "y": [
          -9760,
          -9760,
          -9790,
          -9790
         ],
         "yaxis": "y"
        },
        {
         "hoverinfo": "text",
         "marker": {
          "color": "rgb(0,116,217)"
         },
         "mode": "lines",
         "type": "scatter",
         "x": [
          0,
          1.2517920920836585,
          1.2517920920836585,
          0
         ],
         "xaxis": "x",
         "y": [
          -9815,
          -9815,
          -9825,
          -9825
         ],
         "yaxis": "y"
        },
        {
         "hoverinfo": "text",
         "marker": {
          "color": "rgb(0,116,217)"
         },
         "mode": "lines",
         "type": "scatter",
         "x": [
          0,
          1.4324938662244144,
          1.4324938662244144,
          0
         ],
         "xaxis": "x",
         "y": [
          -9835,
          -9835,
          -9845,
          -9845
         ],
         "yaxis": "y"
        },
        {
         "hoverinfo": "text",
         "marker": {
          "color": "rgb(0,116,217)"
         },
         "mode": "lines",
         "type": "scatter",
         "x": [
          1.2517920920836585,
          2.0728847528817207,
          2.0728847528817207,
          1.4324938662244144
         ],
         "xaxis": "x",
         "y": [
          -9820,
          -9820,
          -9840,
          -9840
         ],
         "yaxis": "y"
        },
        {
         "hoverinfo": "text",
         "marker": {
          "color": "rgb(0,116,217)"
         },
         "mode": "lines",
         "type": "scatter",
         "x": [
          0,
          1.7315824516301117,
          1.7315824516301117,
          0
         ],
         "xaxis": "x",
         "y": [
          -9855,
          -9855,
          -9865,
          -9865
         ],
         "yaxis": "y"
        },
        {
         "hoverinfo": "text",
         "marker": {
          "color": "rgb(0,116,217)"
         },
         "mode": "lines",
         "type": "scatter",
         "x": [
          0,
          1.786843709901866,
          1.786843709901866,
          0
         ],
         "xaxis": "x",
         "y": [
          -9875,
          -9875,
          -9885,
          -9885
         ],
         "yaxis": "y"
        },
        {
         "hoverinfo": "text",
         "marker": {
          "color": "rgb(0,116,217)"
         },
         "mode": "lines",
         "type": "scatter",
         "x": [
          1.7315824516301117,
          2.0436176399648978,
          2.0436176399648978,
          1.786843709901866
         ],
         "xaxis": "x",
         "y": [
          -9860,
          -9860,
          -9880,
          -9880
         ],
         "yaxis": "y"
        },
        {
         "hoverinfo": "text",
         "marker": {
          "color": "rgb(0,116,217)"
         },
         "mode": "lines",
         "type": "scatter",
         "x": [
          0,
          1.7075231950760374,
          1.7075231950760374,
          0
         ],
         "xaxis": "x",
         "y": [
          -9895,
          -9895,
          -9905,
          -9905
         ],
         "yaxis": "y"
        },
        {
         "hoverinfo": "text",
         "marker": {
          "color": "rgb(0,116,217)"
         },
         "mode": "lines",
         "type": "scatter",
         "x": [
          0,
          1.8356883946024742,
          1.8356883946024742,
          0
         ],
         "xaxis": "x",
         "y": [
          -9915,
          -9915,
          -9925,
          -9925
         ],
         "yaxis": "y"
        },
        {
         "hoverinfo": "text",
         "marker": {
          "color": "rgb(0,116,217)"
         },
         "mode": "lines",
         "type": "scatter",
         "x": [
          1.7075231950760374,
          2.088039873539486,
          2.088039873539486,
          1.8356883946024742
         ],
         "xaxis": "x",
         "y": [
          -9900,
          -9900,
          -9920,
          -9920
         ],
         "yaxis": "y"
        },
        {
         "hoverinfo": "text",
         "marker": {
          "color": "rgb(0,116,217)"
         },
         "mode": "lines",
         "type": "scatter",
         "x": [
          2.0436176399648978,
          2.5946524755831457,
          2.5946524755831457,
          2.088039873539486
         ],
         "xaxis": "x",
         "y": [
          -9870,
          -9870,
          -9910,
          -9910
         ],
         "yaxis": "y"
        },
        {
         "hoverinfo": "text",
         "marker": {
          "color": "rgb(0,116,217)"
         },
         "mode": "lines",
         "type": "scatter",
         "x": [
          2.0728847528817207,
          2.922766515931719,
          2.922766515931719,
          2.5946524755831457
         ],
         "xaxis": "x",
         "y": [
          -9830,
          -9830,
          -9890,
          -9890
         ],
         "yaxis": "y"
        },
        {
         "hoverinfo": "text",
         "marker": {
          "color": "rgb(0,116,217)"
         },
         "mode": "lines",
         "type": "scatter",
         "x": [
          2.616022528195667,
          3.214283424424695,
          3.214283424424695,
          2.922766515931719
         ],
         "xaxis": "x",
         "y": [
          -9775,
          -9775,
          -9860,
          -9860
         ],
         "yaxis": "y"
        },
        {
         "hoverinfo": "text",
         "marker": {
          "color": "rgb(0,116,217)"
         },
         "mode": "lines",
         "type": "scatter",
         "x": [
          0,
          1.200796288118749,
          1.200796288118749,
          0
         ],
         "xaxis": "x",
         "y": [
          -9945,
          -9945,
          -9955,
          -9955
         ],
         "yaxis": "y"
        },
        {
         "hoverinfo": "text",
         "marker": {
          "color": "rgb(0,116,217)"
         },
         "mode": "lines",
         "type": "scatter",
         "x": [
          0,
          1.311471394423454,
          1.311471394423454,
          1.200796288118749
         ],
         "xaxis": "x",
         "y": [
          -9935,
          -9935,
          -9950,
          -9950
         ],
         "yaxis": "y"
        },
        {
         "hoverinfo": "text",
         "marker": {
          "color": "rgb(0,116,217)"
         },
         "mode": "lines",
         "type": "scatter",
         "x": [
          0,
          1.1791006448249832,
          1.1791006448249832,
          0
         ],
         "xaxis": "x",
         "y": [
          -9975,
          -9975,
          -9985,
          -9985
         ],
         "yaxis": "y"
        },
        {
         "hoverinfo": "text",
         "marker": {
          "color": "rgb(0,116,217)"
         },
         "mode": "lines",
         "type": "scatter",
         "x": [
          0,
          1.7010250906586046,
          1.7010250906586046,
          1.1791006448249832
         ],
         "xaxis": "x",
         "y": [
          -9965,
          -9965,
          -9980,
          -9980
         ],
         "yaxis": "y"
        },
        {
         "hoverinfo": "text",
         "marker": {
          "color": "rgb(0,116,217)"
         },
         "mode": "lines",
         "type": "scatter",
         "x": [
          1.311471394423454,
          2.1207534658895835,
          2.1207534658895835,
          1.7010250906586046
         ],
         "xaxis": "x",
         "y": [
          -9942.5,
          -9942.5,
          -9972.5,
          -9972.5
         ],
         "yaxis": "y"
        },
        {
         "hoverinfo": "text",
         "marker": {
          "color": "rgb(0,116,217)"
         },
         "mode": "lines",
         "type": "scatter",
         "x": [
          0,
          1.4195669352527056,
          1.4195669352527056,
          0
         ],
         "xaxis": "x",
         "y": [
          -10005,
          -10005,
          -10015,
          -10015
         ],
         "yaxis": "y"
        },
        {
         "hoverinfo": "text",
         "marker": {
          "color": "rgb(0,116,217)"
         },
         "mode": "lines",
         "type": "scatter",
         "x": [
          0,
          1.532270181410719,
          1.532270181410719,
          1.4195669352527056
         ],
         "xaxis": "x",
         "y": [
          -9995,
          -9995,
          -10010,
          -10010
         ],
         "yaxis": "y"
        },
        {
         "hoverinfo": "text",
         "marker": {
          "color": "rgb(0,116,217)"
         },
         "mode": "lines",
         "type": "scatter",
         "x": [
          0,
          1.2933627406426185,
          1.2933627406426185,
          0
         ],
         "xaxis": "x",
         "y": [
          -10035,
          -10035,
          -10045,
          -10045
         ],
         "yaxis": "y"
        },
        {
         "hoverinfo": "text",
         "marker": {
          "color": "rgb(0,116,217)"
         },
         "mode": "lines",
         "type": "scatter",
         "x": [
          0,
          1.6755774703401773,
          1.6755774703401773,
          1.2933627406426185
         ],
         "xaxis": "x",
         "y": [
          -10025,
          -10025,
          -10040,
          -10040
         ],
         "yaxis": "y"
        },
        {
         "hoverinfo": "text",
         "marker": {
          "color": "rgb(0,116,217)"
         },
         "mode": "lines",
         "type": "scatter",
         "x": [
          1.532270181410719,
          2.3176906833695723,
          2.3176906833695723,
          1.6755774703401773
         ],
         "xaxis": "x",
         "y": [
          -10002.5,
          -10002.5,
          -10032.5,
          -10032.5
         ],
         "yaxis": "y"
        },
        {
         "hoverinfo": "text",
         "marker": {
          "color": "rgb(0,116,217)"
         },
         "mode": "lines",
         "type": "scatter",
         "x": [
          0,
          1.4103245981325174,
          1.4103245981325174,
          0
         ],
         "xaxis": "x",
         "y": [
          -10065,
          -10065,
          -10075,
          -10075
         ],
         "yaxis": "y"
        },
        {
         "hoverinfo": "text",
         "marker": {
          "color": "rgb(0,116,217)"
         },
         "mode": "lines",
         "type": "scatter",
         "x": [
          0,
          1.5505790703975744,
          1.5505790703975744,
          0
         ],
         "xaxis": "x",
         "y": [
          -10085,
          -10085,
          -10095,
          -10095
         ],
         "yaxis": "y"
        },
        {
         "hoverinfo": "text",
         "marker": {
          "color": "rgb(0,116,217)"
         },
         "mode": "lines",
         "type": "scatter",
         "x": [
          1.4103245981325174,
          1.5935061915564974,
          1.5935061915564974,
          1.5505790703975744
         ],
         "xaxis": "x",
         "y": [
          -10070,
          -10070,
          -10090,
          -10090
         ],
         "yaxis": "y"
        },
        {
         "hoverinfo": "text",
         "marker": {
          "color": "rgb(0,116,217)"
         },
         "mode": "lines",
         "type": "scatter",
         "x": [
          0,
          1.7707575035399656,
          1.7707575035399656,
          1.5935061915564974
         ],
         "xaxis": "x",
         "y": [
          -10055,
          -10055,
          -10080,
          -10080
         ],
         "yaxis": "y"
        },
        {
         "hoverinfo": "text",
         "marker": {
          "color": "rgb(0,116,217)"
         },
         "mode": "lines",
         "type": "scatter",
         "x": [
          0,
          1.472033833821073,
          1.472033833821073,
          0
         ],
         "xaxis": "x",
         "y": [
          -10115,
          -10115,
          -10125,
          -10125
         ],
         "yaxis": "y"
        },
        {
         "hoverinfo": "text",
         "marker": {
          "color": "rgb(0,116,217)"
         },
         "mode": "lines",
         "type": "scatter",
         "x": [
          0,
          1.8421146602932172,
          1.8421146602932172,
          1.472033833821073
         ],
         "xaxis": "x",
         "y": [
          -10105,
          -10105,
          -10120,
          -10120
         ],
         "yaxis": "y"
        },
        {
         "hoverinfo": "text",
         "marker": {
          "color": "rgb(0,116,217)"
         },
         "mode": "lines",
         "type": "scatter",
         "x": [
          1.7707575035399656,
          2.4189073435127444,
          2.4189073435127444,
          1.8421146602932172
         ],
         "xaxis": "x",
         "y": [
          -10067.5,
          -10067.5,
          -10112.5,
          -10112.5
         ],
         "yaxis": "y"
        },
        {
         "hoverinfo": "text",
         "marker": {
          "color": "rgb(0,116,217)"
         },
         "mode": "lines",
         "type": "scatter",
         "x": [
          2.3176906833695723,
          3.2873517472880724,
          3.2873517472880724,
          2.4189073435127444
         ],
         "xaxis": "x",
         "y": [
          -10017.5,
          -10017.5,
          -10090,
          -10090
         ],
         "yaxis": "y"
        },
        {
         "hoverinfo": "text",
         "marker": {
          "color": "rgb(0,116,217)"
         },
         "mode": "lines",
         "type": "scatter",
         "x": [
          2.1207534658895835,
          3.5145788317308586,
          3.5145788317308586,
          3.2873517472880724
         ],
         "xaxis": "x",
         "y": [
          -9957.5,
          -9957.5,
          -10053.75,
          -10053.75
         ],
         "yaxis": "y"
        },
        {
         "hoverinfo": "text",
         "marker": {
          "color": "rgb(0,116,217)"
         },
         "mode": "lines",
         "type": "scatter",
         "x": [
          0,
          1.7395401125565964,
          1.7395401125565964,
          0
         ],
         "xaxis": "x",
         "y": [
          -10135,
          -10135,
          -10145,
          -10145
         ],
         "yaxis": "y"
        },
        {
         "hoverinfo": "text",
         "marker": {
          "color": "rgb(0,116,217)"
         },
         "mode": "lines",
         "type": "scatter",
         "x": [
          0,
          1.5305620812868768,
          1.5305620812868768,
          0
         ],
         "xaxis": "x",
         "y": [
          -10165,
          -10165,
          -10175,
          -10175
         ],
         "yaxis": "y"
        },
        {
         "hoverinfo": "text",
         "marker": {
          "color": "rgb(0,116,217)"
         },
         "mode": "lines",
         "type": "scatter",
         "x": [
          0,
          1.8971690515545068,
          1.8971690515545068,
          1.5305620812868768
         ],
         "xaxis": "x",
         "y": [
          -10155,
          -10155,
          -10170,
          -10170
         ],
         "yaxis": "y"
        },
        {
         "hoverinfo": "text",
         "marker": {
          "color": "rgb(0,116,217)"
         },
         "mode": "lines",
         "type": "scatter",
         "x": [
          1.7395401125565964,
          1.9732503617197068,
          1.9732503617197068,
          1.8971690515545068
         ],
         "xaxis": "x",
         "y": [
          -10140,
          -10140,
          -10162.5,
          -10162.5
         ],
         "yaxis": "y"
        },
        {
         "hoverinfo": "text",
         "marker": {
          "color": "rgb(0,116,217)"
         },
         "mode": "lines",
         "type": "scatter",
         "x": [
          0,
          1.4112401452898515,
          1.4112401452898515,
          0
         ],
         "xaxis": "x",
         "y": [
          -10195,
          -10195,
          -10205,
          -10205
         ],
         "yaxis": "y"
        },
        {
         "hoverinfo": "text",
         "marker": {
          "color": "rgb(0,116,217)"
         },
         "mode": "lines",
         "type": "scatter",
         "x": [
          0,
          1.5583979486884314,
          1.5583979486884314,
          1.4112401452898515
         ],
         "xaxis": "x",
         "y": [
          -10185,
          -10185,
          -10200,
          -10200
         ],
         "yaxis": "y"
        },
        {
         "hoverinfo": "text",
         "marker": {
          "color": "rgb(0,116,217)"
         },
         "mode": "lines",
         "type": "scatter",
         "x": [
          0,
          1.71646465636555,
          1.71646465636555,
          0
         ],
         "xaxis": "x",
         "y": [
          -10215,
          -10215,
          -10225,
          -10225
         ],
         "yaxis": "y"
        },
        {
         "hoverinfo": "text",
         "marker": {
          "color": "rgb(0,116,217)"
         },
         "mode": "lines",
         "type": "scatter",
         "x": [
          1.5583979486884314,
          2.0115061507493492,
          2.0115061507493492,
          1.71646465636555
         ],
         "xaxis": "x",
         "y": [
          -10192.5,
          -10192.5,
          -10220,
          -10220
         ],
         "yaxis": "y"
        },
        {
         "hoverinfo": "text",
         "marker": {
          "color": "rgb(0,116,217)"
         },
         "mode": "lines",
         "type": "scatter",
         "x": [
          1.9732503617197068,
          2.7947741032952584,
          2.7947741032952584,
          2.0115061507493492
         ],
         "xaxis": "x",
         "y": [
          -10151.25,
          -10151.25,
          -10206.25,
          -10206.25
         ],
         "yaxis": "y"
        },
        {
         "hoverinfo": "text",
         "marker": {
          "color": "rgb(0,116,217)"
         },
         "mode": "lines",
         "type": "scatter",
         "x": [
          0,
          1.566500947676535,
          1.566500947676535,
          0
         ],
         "xaxis": "x",
         "y": [
          -10245,
          -10245,
          -10255,
          -10255
         ],
         "yaxis": "y"
        },
        {
         "hoverinfo": "text",
         "marker": {
          "color": "rgb(0,116,217)"
         },
         "mode": "lines",
         "type": "scatter",
         "x": [
          0,
          1.6431151041430916,
          1.6431151041430916,
          1.566500947676535
         ],
         "xaxis": "x",
         "y": [
          -10235,
          -10235,
          -10250,
          -10250
         ],
         "yaxis": "y"
        },
        {
         "hoverinfo": "text",
         "marker": {
          "color": "rgb(0,116,217)"
         },
         "mode": "lines",
         "type": "scatter",
         "x": [
          0,
          1.6175822655955434,
          1.6175822655955434,
          0
         ],
         "xaxis": "x",
         "y": [
          -10265,
          -10265,
          -10275,
          -10275
         ],
         "yaxis": "y"
        },
        {
         "hoverinfo": "text",
         "marker": {
          "color": "rgb(0,116,217)"
         },
         "mode": "lines",
         "type": "scatter",
         "x": [
          0,
          1.391039033746459,
          1.391039033746459,
          0
         ],
         "xaxis": "x",
         "y": [
          -10295,
          -10295,
          -10305,
          -10305
         ],
         "yaxis": "y"
        },
        {
         "hoverinfo": "text",
         "marker": {
          "color": "rgb(0,116,217)"
         },
         "mode": "lines",
         "type": "scatter",
         "x": [
          0,
          1.9282998981159731,
          1.9282998981159731,
          1.391039033746459
         ],
         "xaxis": "x",
         "y": [
          -10285,
          -10285,
          -10300,
          -10300
         ],
         "yaxis": "y"
        },
        {
         "hoverinfo": "text",
         "marker": {
          "color": "rgb(0,116,217)"
         },
         "mode": "lines",
         "type": "scatter",
         "x": [
          1.6175822655955434,
          1.9946511533921014,
          1.9946511533921014,
          1.9282998981159731
         ],
         "xaxis": "x",
         "y": [
          -10270,
          -10270,
          -10292.5,
          -10292.5
         ],
         "yaxis": "y"
        },
        {
         "hoverinfo": "text",
         "marker": {
          "color": "rgb(0,116,217)"
         },
         "mode": "lines",
         "type": "scatter",
         "x": [
          1.6431151041430916,
          2.150505994850652,
          2.150505994850652,
          1.9946511533921014
         ],
         "xaxis": "x",
         "y": [
          -10242.5,
          -10242.5,
          -10281.25,
          -10281.25
         ],
         "yaxis": "y"
        },
        {
         "hoverinfo": "text",
         "marker": {
          "color": "rgb(0,116,217)"
         },
         "mode": "lines",
         "type": "scatter",
         "x": [
          0,
          1.3758713279295427,
          1.3758713279295427,
          0
         ],
         "xaxis": "x",
         "y": [
          -10315,
          -10315,
          -10325,
          -10325
         ],
         "yaxis": "y"
        },
        {
         "hoverinfo": "text",
         "marker": {
          "color": "rgb(0,116,217)"
         },
         "mode": "lines",
         "type": "scatter",
         "x": [
          0,
          1.5579598197144218,
          1.5579598197144218,
          0
         ],
         "xaxis": "x",
         "y": [
          -10335,
          -10335,
          -10345,
          -10345
         ],
         "yaxis": "y"
        },
        {
         "hoverinfo": "text",
         "marker": {
          "color": "rgb(0,116,217)"
         },
         "mode": "lines",
         "type": "scatter",
         "x": [
          0,
          1.3062944920182435,
          1.3062944920182435,
          0
         ],
         "xaxis": "x",
         "y": [
          -10355,
          -10355,
          -10365,
          -10365
         ],
         "yaxis": "y"
        },
        {
         "hoverinfo": "text",
         "marker": {
          "color": "rgb(0,116,217)"
         },
         "mode": "lines",
         "type": "scatter",
         "x": [
          0,
          1.4582579456704872,
          1.4582579456704872,
          0
         ],
         "xaxis": "x",
         "y": [
          -10385,
          -10385,
          -10395,
          -10395
         ],
         "yaxis": "y"
        },
        {
         "hoverinfo": "text",
         "marker": {
          "color": "rgb(0,116,217)"
         },
         "mode": "lines",
         "type": "scatter",
         "x": [
          0,
          1.7632471510337215,
          1.7632471510337215,
          1.4582579456704872
         ],
         "xaxis": "x",
         "y": [
          -10375,
          -10375,
          -10390,
          -10390
         ],
         "yaxis": "y"
        },
        {
         "hoverinfo": "text",
         "marker": {
          "color": "rgb(0,116,217)"
         },
         "mode": "lines",
         "type": "scatter",
         "x": [
          1.3062944920182435,
          2.247746290049745,
          2.247746290049745,
          1.7632471510337215
         ],
         "xaxis": "x",
         "y": [
          -10360,
          -10360,
          -10382.5,
          -10382.5
         ],
         "yaxis": "y"
        },
        {
         "hoverinfo": "text",
         "marker": {
          "color": "rgb(0,116,217)"
         },
         "mode": "lines",
         "type": "scatter",
         "x": [
          1.5579598197144218,
          2.493048132988653,
          2.493048132988653,
          2.247746290049745
         ],
         "xaxis": "x",
         "y": [
          -10340,
          -10340,
          -10371.25,
          -10371.25
         ],
         "yaxis": "y"
        },
        {
         "hoverinfo": "text",
         "marker": {
          "color": "rgb(0,116,217)"
         },
         "mode": "lines",
         "type": "scatter",
         "x": [
          1.3758713279295427,
          2.729843643997186,
          2.729843643997186,
          2.493048132988653
         ],
         "xaxis": "x",
         "y": [
          -10320,
          -10320,
          -10355.625,
          -10355.625
         ],
         "yaxis": "y"
        },
        {
         "hoverinfo": "text",
         "marker": {
          "color": "rgb(0,116,217)"
         },
         "mode": "lines",
         "type": "scatter",
         "x": [
          2.150505994850652,
          2.983789803907759,
          2.983789803907759,
          2.729843643997186
         ],
         "xaxis": "x",
         "y": [
          -10261.875,
          -10261.875,
          -10337.8125,
          -10337.8125
         ],
         "yaxis": "y"
        },
        {
         "hoverinfo": "text",
         "marker": {
          "color": "rgb(0,116,217)"
         },
         "mode": "lines",
         "type": "scatter",
         "x": [
          2.7947741032952584,
          3.7782505148002974,
          3.7782505148002974,
          2.983789803907759
         ],
         "xaxis": "x",
         "y": [
          -10178.75,
          -10178.75,
          -10299.84375,
          -10299.84375
         ],
         "yaxis": "y"
        },
        {
         "hoverinfo": "text",
         "marker": {
          "color": "rgb(0,116,217)"
         },
         "mode": "lines",
         "type": "scatter",
         "x": [
          3.5145788317308586,
          5.91119885946916,
          5.91119885946916,
          3.7782505148002974
         ],
         "xaxis": "x",
         "y": [
          -10005.625,
          -10005.625,
          -10239.296875,
          -10239.296875
         ],
         "yaxis": "y"
        },
        {
         "hoverinfo": "text",
         "marker": {
          "color": "rgb(0,116,217)"
         },
         "mode": "lines",
         "type": "scatter",
         "x": [
          3.214283424424695,
          6.173348653052126,
          6.173348653052126,
          5.91119885946916
         ],
         "xaxis": "x",
         "y": [
          -9817.5,
          -9817.5,
          -10122.4609375,
          -10122.4609375
         ],
         "yaxis": "y"
        },
        {
         "hoverinfo": "text",
         "marker": {
          "color": "rgb(0,116,217)"
         },
         "mode": "lines",
         "type": "scatter",
         "x": [
          5.042296365473464,
          7.096027552268936,
          7.096027552268936,
          6.173348653052126
         ],
         "xaxis": "x",
         "y": [
          -9480.1953125,
          -9480.1953125,
          -9969.98046875,
          -9969.98046875
         ],
         "yaxis": "y"
        },
        {
         "hoverinfo": "text",
         "marker": {
          "color": "rgb(0,116,217)"
         },
         "mode": "lines",
         "type": "scatter",
         "x": [
          0,
          1.3730296322994757,
          1.3730296322994757,
          0
         ],
         "xaxis": "x",
         "y": [
          -10425,
          -10425,
          -10435,
          -10435
         ],
         "yaxis": "y"
        },
        {
         "hoverinfo": "text",
         "marker": {
          "color": "rgb(0,116,217)"
         },
         "mode": "lines",
         "type": "scatter",
         "x": [
          0,
          1.6449042975002284,
          1.6449042975002284,
          1.3730296322994757
         ],
         "xaxis": "x",
         "y": [
          -10415,
          -10415,
          -10430,
          -10430
         ],
         "yaxis": "y"
        },
        {
         "hoverinfo": "text",
         "marker": {
          "color": "rgb(0,116,217)"
         },
         "mode": "lines",
         "type": "scatter",
         "x": [
          0,
          2.058112341896063,
          2.058112341896063,
          1.6449042975002284
         ],
         "xaxis": "x",
         "y": [
          -10405,
          -10405,
          -10422.5,
          -10422.5
         ],
         "yaxis": "y"
        },
        {
         "hoverinfo": "text",
         "marker": {
          "color": "rgb(0,116,217)"
         },
         "mode": "lines",
         "type": "scatter",
         "x": [
          0,
          1.2005904929364888,
          1.2005904929364888,
          0
         ],
         "xaxis": "x",
         "y": [
          -10445,
          -10445,
          -10455,
          -10455
         ],
         "yaxis": "y"
        },
        {
         "hoverinfo": "text",
         "marker": {
          "color": "rgb(0,116,217)"
         },
         "mode": "lines",
         "type": "scatter",
         "x": [
          0,
          1.1625161943043538,
          1.1625161943043538,
          0
         ],
         "xaxis": "x",
         "y": [
          -10465,
          -10465,
          -10475,
          -10475
         ],
         "yaxis": "y"
        },
        {
         "hoverinfo": "text",
         "marker": {
          "color": "rgb(0,116,217)"
         },
         "mode": "lines",
         "type": "scatter",
         "x": [
          0,
          1.5810561181796832,
          1.5810561181796832,
          0
         ],
         "xaxis": "x",
         "y": [
          -10485,
          -10485,
          -10495,
          -10495
         ],
         "yaxis": "y"
        },
        {
         "hoverinfo": "text",
         "marker": {
          "color": "rgb(0,116,217)"
         },
         "mode": "lines",
         "type": "scatter",
         "x": [
          1.1625161943043538,
          1.924179621261374,
          1.924179621261374,
          1.5810561181796832
         ],
         "xaxis": "x",
         "y": [
          -10470,
          -10470,
          -10490,
          -10490
         ],
         "yaxis": "y"
        },
        {
         "hoverinfo": "text",
         "marker": {
          "color": "rgb(0,116,217)"
         },
         "mode": "lines",
         "type": "scatter",
         "x": [
          1.2005904929364888,
          2.335393748226082,
          2.335393748226082,
          1.924179621261374
         ],
         "xaxis": "x",
         "y": [
          -10450,
          -10450,
          -10480,
          -10480
         ],
         "yaxis": "y"
        },
        {
         "hoverinfo": "text",
         "marker": {
          "color": "rgb(0,116,217)"
         },
         "mode": "lines",
         "type": "scatter",
         "x": [
          2.058112341896063,
          3.467211300227209,
          3.467211300227209,
          2.335393748226082
         ],
         "xaxis": "x",
         "y": [
          -10413.75,
          -10413.75,
          -10465,
          -10465
         ],
         "yaxis": "y"
        },
        {
         "hoverinfo": "text",
         "marker": {
          "color": "rgb(0,116,217)"
         },
         "mode": "lines",
         "type": "scatter",
         "x": [
          0,
          1.3269226785192996,
          1.3269226785192996,
          0
         ],
         "xaxis": "x",
         "y": [
          -10505,
          -10505,
          -10515,
          -10515
         ],
         "yaxis": "y"
        },
        {
         "hoverinfo": "text",
         "marker": {
          "color": "rgb(133,20,75)"
         },
         "mode": "lines",
         "type": "scatter",
         "x": [
          0,
          0.9778265076121709,
          0.9778265076121709,
          0
         ],
         "xaxis": "x",
         "y": [
          -10545,
          -10545,
          -10555,
          -10555
         ],
         "yaxis": "y"
        },
        {
         "hoverinfo": "text",
         "marker": {
          "color": "rgb(0,116,217)"
         },
         "mode": "lines",
         "type": "scatter",
         "x": [
          0,
          1.3883239651425117,
          1.3883239651425117,
          0.9778265076121709
         ],
         "xaxis": "x",
         "y": [
          -10535,
          -10535,
          -10550,
          -10550
         ],
         "yaxis": "y"
        },
        {
         "hoverinfo": "text",
         "marker": {
          "color": "rgb(0,116,217)"
         },
         "mode": "lines",
         "type": "scatter",
         "x": [
          0,
          1.6796152532645758,
          1.6796152532645758,
          1.3883239651425117
         ],
         "xaxis": "x",
         "y": [
          -10525,
          -10525,
          -10542.5,
          -10542.5
         ],
         "yaxis": "y"
        },
        {
         "hoverinfo": "text",
         "marker": {
          "color": "rgb(0,116,217)"
         },
         "mode": "lines",
         "type": "scatter",
         "x": [
          1.3269226785192996,
          1.8794863886038682,
          1.8794863886038682,
          1.6796152532645758
         ],
         "xaxis": "x",
         "y": [
          -10510,
          -10510,
          -10533.75,
          -10533.75
         ],
         "yaxis": "y"
        },
        {
         "hoverinfo": "text",
         "marker": {
          "color": "rgb(0,116,217)"
         },
         "mode": "lines",
         "type": "scatter",
         "x": [
          0,
          1.7370736225177847,
          1.7370736225177847,
          0
         ],
         "xaxis": "x",
         "y": [
          -10575,
          -10575,
          -10585,
          -10585
         ],
         "yaxis": "y"
        },
        {
         "hoverinfo": "text",
         "marker": {
          "color": "rgb(0,116,217)"
         },
         "mode": "lines",
         "type": "scatter",
         "x": [
          0,
          2.0056163160569374,
          2.0056163160569374,
          1.7370736225177847
         ],
         "xaxis": "x",
         "y": [
          -10565,
          -10565,
          -10580,
          -10580
         ],
         "yaxis": "y"
        },
        {
         "hoverinfo": "text",
         "marker": {
          "color": "rgb(0,116,217)"
         },
         "mode": "lines",
         "type": "scatter",
         "x": [
          1.8794863886038682,
          2.67975074695391,
          2.67975074695391,
          2.0056163160569374
         ],
         "xaxis": "x",
         "y": [
          -10521.875,
          -10521.875,
          -10572.5,
          -10572.5
         ],
         "yaxis": "y"
        },
        {
         "hoverinfo": "text",
         "marker": {
          "color": "rgb(0,116,217)"
         },
         "mode": "lines",
         "type": "scatter",
         "x": [
          0,
          1.2703609860798872,
          1.2703609860798872,
          0
         ],
         "xaxis": "x",
         "y": [
          -10595,
          -10595,
          -10605,
          -10605
         ],
         "yaxis": "y"
        },
        {
         "hoverinfo": "text",
         "marker": {
          "color": "rgb(0,116,217)"
         },
         "mode": "lines",
         "type": "scatter",
         "x": [
          0,
          1.1299437673217512,
          1.1299437673217512,
          0
         ],
         "xaxis": "x",
         "y": [
          -10615,
          -10615,
          -10625,
          -10625
         ],
         "yaxis": "y"
        },
        {
         "hoverinfo": "text",
         "marker": {
          "color": "rgb(0,116,217)"
         },
         "mode": "lines",
         "type": "scatter",
         "x": [
          0,
          1.4828110931568161,
          1.4828110931568161,
          0
         ],
         "xaxis": "x",
         "y": [
          -10635,
          -10635,
          -10645,
          -10645
         ],
         "yaxis": "y"
        },
        {
         "hoverinfo": "text",
         "marker": {
          "color": "rgb(0,116,217)"
         },
         "mode": "lines",
         "type": "scatter",
         "x": [
          1.1299437673217512,
          1.5373602205853487,
          1.5373602205853487,
          1.4828110931568161
         ],
         "xaxis": "x",
         "y": [
          -10620,
          -10620,
          -10640,
          -10640
         ],
         "yaxis": "y"
        },
        {
         "hoverinfo": "text",
         "marker": {
          "color": "rgb(0,116,217)"
         },
         "mode": "lines",
         "type": "scatter",
         "x": [
          1.2703609860798872,
          1.9362874591619654,
          1.9362874591619654,
          1.5373602205853487
         ],
         "xaxis": "x",
         "y": [
          -10600,
          -10600,
          -10630,
          -10630
         ],
         "yaxis": "y"
        },
        {
         "hoverinfo": "text",
         "marker": {
          "color": "rgb(0,116,217)"
         },
         "mode": "lines",
         "type": "scatter",
         "x": [
          0,
          1.0023552029149794,
          1.0023552029149794,
          0
         ],
         "xaxis": "x",
         "y": [
          -10655,
          -10655,
          -10665,
          -10665
         ],
         "yaxis": "y"
        },
        {
         "hoverinfo": "text",
         "marker": {
          "color": "rgb(0,116,217)"
         },
         "mode": "lines",
         "type": "scatter",
         "x": [
          0,
          1.1815105738909457,
          1.1815105738909457,
          0
         ],
         "xaxis": "x",
         "y": [
          -10675,
          -10675,
          -10685,
          -10685
         ],
         "yaxis": "y"
        },
        {
         "hoverinfo": "text",
         "marker": {
          "color": "rgb(0,116,217)"
         },
         "mode": "lines",
         "type": "scatter",
         "x": [
          1.0023552029149794,
          2.160856965116199,
          2.160856965116199,
          1.1815105738909457
         ],
         "xaxis": "x",
         "y": [
          -10660,
          -10660,
          -10680,
          -10680
         ],
         "yaxis": "y"
        },
        {
         "hoverinfo": "text",
         "marker": {
          "color": "rgb(0,116,217)"
         },
         "mode": "lines",
         "type": "scatter",
         "x": [
          1.9362874591619654,
          2.699725581636323,
          2.699725581636323,
          2.160856965116199
         ],
         "xaxis": "x",
         "y": [
          -10615,
          -10615,
          -10670,
          -10670
         ],
         "yaxis": "y"
        },
        {
         "hoverinfo": "text",
         "marker": {
          "color": "rgb(0,116,217)"
         },
         "mode": "lines",
         "type": "scatter",
         "x": [
          2.67975074695391,
          3.6020789459466345,
          3.6020789459466345,
          2.699725581636323
         ],
         "xaxis": "x",
         "y": [
          -10547.1875,
          -10547.1875,
          -10642.5,
          -10642.5
         ],
         "yaxis": "y"
        },
        {
         "hoverinfo": "text",
         "marker": {
          "color": "rgb(255,220,0)"
         },
         "mode": "lines",
         "type": "scatter",
         "x": [
          0,
          0.7920172708862624,
          0.7920172708862624,
          0
         ],
         "xaxis": "x",
         "y": [
          -10705,
          -10705,
          -10715,
          -10715
         ],
         "yaxis": "y"
        },
        {
         "hoverinfo": "text",
         "marker": {
          "color": "rgb(0,116,217)"
         },
         "mode": "lines",
         "type": "scatter",
         "x": [
          0,
          1.6697441717572552,
          1.6697441717572552,
          0.7920172708862624
         ],
         "xaxis": "x",
         "y": [
          -10695,
          -10695,
          -10710,
          -10710
         ],
         "yaxis": "y"
        },
        {
         "hoverinfo": "text",
         "marker": {
          "color": "rgb(0,116,217)"
         },
         "mode": "lines",
         "type": "scatter",
         "x": [
          0,
          1.4029481078060488,
          1.4029481078060488,
          0
         ],
         "xaxis": "x",
         "y": [
          -10735,
          -10735,
          -10745,
          -10745
         ],
         "yaxis": "y"
        },
        {
         "hoverinfo": "text",
         "marker": {
          "color": "rgb(0,116,217)"
         },
         "mode": "lines",
         "type": "scatter",
         "x": [
          0,
          1.6179522109405629,
          1.6179522109405629,
          1.4029481078060488
         ],
         "xaxis": "x",
         "y": [
          -10725,
          -10725,
          -10740,
          -10740
         ],
         "yaxis": "y"
        },
        {
         "hoverinfo": "text",
         "marker": {
          "color": "rgb(0,116,217)"
         },
         "mode": "lines",
         "type": "scatter",
         "x": [
          0,
          1.1087079770084143,
          1.1087079770084143,
          0
         ],
         "xaxis": "x",
         "y": [
          -10755,
          -10755,
          -10765,
          -10765
         ],
         "yaxis": "y"
        },
        {
         "hoverinfo": "text",
         "marker": {
          "color": "rgb(0,116,217)"
         },
         "mode": "lines",
         "type": "scatter",
         "x": [
          0,
          1.1464098347191305,
          1.1464098347191305,
          0
         ],
         "xaxis": "x",
         "y": [
          -10775,
          -10775,
          -10785,
          -10785
         ],
         "yaxis": "y"
        },
        {
         "hoverinfo": "text",
         "marker": {
          "color": "rgb(0,116,217)"
         },
         "mode": "lines",
         "type": "scatter",
         "x": [
          1.1087079770084143,
          1.6542416439791052,
          1.6542416439791052,
          1.1464098347191305
         ],
         "xaxis": "x",
         "y": [
          -10760,
          -10760,
          -10780,
          -10780
         ],
         "yaxis": "y"
        },
        {
         "hoverinfo": "text",
         "marker": {
          "color": "rgb(0,116,217)"
         },
         "mode": "lines",
         "type": "scatter",
         "x": [
          1.6179522109405629,
          2.4354518793899964,
          2.4354518793899964,
          1.6542416439791052
         ],
         "xaxis": "x",
         "y": [
          -10732.5,
          -10732.5,
          -10770,
          -10770
         ],
         "yaxis": "y"
        },
        {
         "hoverinfo": "text",
         "marker": {
          "color": "rgb(0,116,217)"
         },
         "mode": "lines",
         "type": "scatter",
         "x": [
          1.6697441717572552,
          2.700863447994564,
          2.700863447994564,
          2.4354518793899964
         ],
         "xaxis": "x",
         "y": [
          -10702.5,
          -10702.5,
          -10751.25,
          -10751.25
         ],
         "yaxis": "y"
        },
        {
         "hoverinfo": "text",
         "marker": {
          "color": "rgb(0,116,217)"
         },
         "mode": "lines",
         "type": "scatter",
         "x": [
          0,
          1.3454549480209892,
          1.3454549480209892,
          0
         ],
         "xaxis": "x",
         "y": [
          -10825,
          -10825,
          -10835,
          -10835
         ],
         "yaxis": "y"
        },
        {
         "hoverinfo": "text",
         "marker": {
          "color": "rgb(0,116,217)"
         },
         "mode": "lines",
         "type": "scatter",
         "x": [
          0,
          1.4440643978368664,
          1.4440643978368664,
          1.3454549480209892
         ],
         "xaxis": "x",
         "y": [
          -10815,
          -10815,
          -10830,
          -10830
         ],
         "yaxis": "y"
        },
        {
         "hoverinfo": "text",
         "marker": {
          "color": "rgb(0,116,217)"
         },
         "mode": "lines",
         "type": "scatter",
         "x": [
          0,
          1.5665455921715252,
          1.5665455921715252,
          1.4440643978368664
         ],
         "xaxis": "x",
         "y": [
          -10805,
          -10805,
          -10822.5,
          -10822.5
         ],
         "yaxis": "y"
        },
        {
         "hoverinfo": "text",
         "marker": {
          "color": "rgb(0,116,217)"
         },
         "mode": "lines",
         "type": "scatter",
         "x": [
          0,
          1.9988077926932317,
          1.9988077926932317,
          1.5665455921715252
         ],
         "xaxis": "x",
         "y": [
          -10795,
          -10795,
          -10813.75,
          -10813.75
         ],
         "yaxis": "y"
        },
        {
         "hoverinfo": "text",
         "marker": {
          "color": "rgb(0,116,217)"
         },
         "mode": "lines",
         "type": "scatter",
         "x": [
          0,
          1.4239911124816662,
          1.4239911124816662,
          0
         ],
         "xaxis": "x",
         "y": [
          -10855,
          -10855,
          -10865,
          -10865
         ],
         "yaxis": "y"
        },
        {
         "hoverinfo": "text",
         "marker": {
          "color": "rgb(0,116,217)"
         },
         "mode": "lines",
         "type": "scatter",
         "x": [
          0,
          1.7980393716737035,
          1.7980393716737035,
          1.4239911124816662
         ],
         "xaxis": "x",
         "y": [
          -10845,
          -10845,
          -10860,
          -10860
         ],
         "yaxis": "y"
        },
        {
         "hoverinfo": "text",
         "marker": {
          "color": "rgb(0,116,217)"
         },
         "mode": "lines",
         "type": "scatter",
         "x": [
          0,
          1.185736080897706,
          1.185736080897706,
          0
         ],
         "xaxis": "x",
         "y": [
          -10875,
          -10875,
          -10885,
          -10885
         ],
         "yaxis": "y"
        },
        {
         "hoverinfo": "text",
         "marker": {
          "color": "rgb(0,116,217)"
         },
         "mode": "lines",
         "type": "scatter",
         "x": [
          0,
          1.461636216032538,
          1.461636216032538,
          0
         ],
         "xaxis": "x",
         "y": [
          -10905,
          -10905,
          -10915,
          -10915
         ],
         "yaxis": "y"
        },
        {
         "hoverinfo": "text",
         "marker": {
          "color": "rgb(0,116,217)"
         },
         "mode": "lines",
         "type": "scatter",
         "x": [
          0,
          1.6163866471873412,
          1.6163866471873412,
          1.461636216032538
         ],
         "xaxis": "x",
         "y": [
          -10895,
          -10895,
          -10910,
          -10910
         ],
         "yaxis": "y"
        },
        {
         "hoverinfo": "text",
         "marker": {
          "color": "rgb(0,116,217)"
         },
         "mode": "lines",
         "type": "scatter",
         "x": [
          1.185736080897706,
          1.9119359003298,
          1.9119359003298,
          1.6163866471873412
         ],
         "xaxis": "x",
         "y": [
          -10880,
          -10880,
          -10902.5,
          -10902.5
         ],
         "yaxis": "y"
        },
        {
         "hoverinfo": "text",
         "marker": {
          "color": "rgb(0,116,217)"
         },
         "mode": "lines",
         "type": "scatter",
         "x": [
          1.7980393716737035,
          2.371315779938247,
          2.371315779938247,
          1.9119359003298
         ],
         "xaxis": "x",
         "y": [
          -10852.5,
          -10852.5,
          -10891.25,
          -10891.25
         ],
         "yaxis": "y"
        },
        {
         "hoverinfo": "text",
         "marker": {
          "color": "rgb(0,116,217)"
         },
         "mode": "lines",
         "type": "scatter",
         "x": [
          1.9988077926932317,
          3.173319465337939,
          3.173319465337939,
          2.371315779938247
         ],
         "xaxis": "x",
         "y": [
          -10804.375,
          -10804.375,
          -10871.875,
          -10871.875
         ],
         "yaxis": "y"
        },
        {
         "hoverinfo": "text",
         "marker": {
          "color": "rgb(0,116,217)"
         },
         "mode": "lines",
         "type": "scatter",
         "x": [
          2.700863447994564,
          3.867575964132533,
          3.867575964132533,
          3.173319465337939
         ],
         "xaxis": "x",
         "y": [
          -10726.875,
          -10726.875,
          -10838.125,
          -10838.125
         ],
         "yaxis": "y"
        },
        {
         "hoverinfo": "text",
         "marker": {
          "color": "rgb(0,116,217)"
         },
         "mode": "lines",
         "type": "scatter",
         "x": [
          3.6020789459466345,
          4.789867627626733,
          4.789867627626733,
          3.867575964132533
         ],
         "xaxis": "x",
         "y": [
          -10594.84375,
          -10594.84375,
          -10782.5,
          -10782.5
         ],
         "yaxis": "y"
        },
        {
         "hoverinfo": "text",
         "marker": {
          "color": "rgb(0,116,217)"
         },
         "mode": "lines",
         "type": "scatter",
         "x": [
          3.467211300227209,
          5.396233821680459,
          5.396233821680459,
          4.789867627626733
         ],
         "xaxis": "x",
         "y": [
          -10439.375,
          -10439.375,
          -10688.671875,
          -10688.671875
         ],
         "yaxis": "y"
        },
        {
         "hoverinfo": "text",
         "marker": {
          "color": "rgb(40,35,35)"
         },
         "mode": "lines",
         "type": "scatter",
         "x": [
          0,
          0.8429750819121765,
          0.8429750819121765,
          0
         ],
         "xaxis": "x",
         "y": [
          -10935,
          -10935,
          -10945,
          -10945
         ],
         "yaxis": "y"
        },
        {
         "hoverinfo": "text",
         "marker": {
          "color": "rgb(0,116,217)"
         },
         "mode": "lines",
         "type": "scatter",
         "x": [
          0,
          1.107085173395809,
          1.107085173395809,
          0.8429750819121765
         ],
         "xaxis": "x",
         "y": [
          -10925,
          -10925,
          -10940,
          -10940
         ],
         "yaxis": "y"
        },
        {
         "hoverinfo": "text",
         "marker": {
          "color": "rgb(0,116,217)"
         },
         "mode": "lines",
         "type": "scatter",
         "x": [
          0,
          1.432699569158985,
          1.432699569158985,
          0
         ],
         "xaxis": "x",
         "y": [
          -10955,
          -10955,
          -10965,
          -10965
         ],
         "yaxis": "y"
        },
        {
         "hoverinfo": "text",
         "marker": {
          "color": "rgb(0,116,217)"
         },
         "mode": "lines",
         "type": "scatter",
         "x": [
          1.107085173395809,
          2.027270218763824,
          2.027270218763824,
          1.432699569158985
         ],
         "xaxis": "x",
         "y": [
          -10932.5,
          -10932.5,
          -10960,
          -10960
         ],
         "yaxis": "y"
        },
        {
         "hoverinfo": "text",
         "marker": {
          "color": "rgb(61,153,112)"
         },
         "mode": "lines",
         "type": "scatter",
         "x": [
          0,
          0.9986063005265262,
          0.9986063005265262,
          0
         ],
         "xaxis": "x",
         "y": [
          -10985,
          -10985,
          -10995,
          -10995
         ],
         "yaxis": "y"
        },
        {
         "hoverinfo": "text",
         "marker": {
          "color": "rgb(0,116,217)"
         },
         "mode": "lines",
         "type": "scatter",
         "x": [
          0,
          1.0168335564667892,
          1.0168335564667892,
          0
         ],
         "xaxis": "x",
         "y": [
          -11015,
          -11015,
          -11025,
          -11025
         ],
         "yaxis": "y"
        },
        {
         "hoverinfo": "text",
         "marker": {
          "color": "rgb(0,116,217)"
         },
         "mode": "lines",
         "type": "scatter",
         "x": [
          0,
          1.4228030909114167,
          1.4228030909114167,
          1.0168335564667892
         ],
         "xaxis": "x",
         "y": [
          -11005,
          -11005,
          -11020,
          -11020
         ],
         "yaxis": "y"
        },
        {
         "hoverinfo": "text",
         "marker": {
          "color": "rgb(0,116,217)"
         },
         "mode": "lines",
         "type": "scatter",
         "x": [
          0.9986063005265262,
          1.6445895642871997,
          1.6445895642871997,
          1.4228030909114167
         ],
         "xaxis": "x",
         "y": [
          -10990,
          -10990,
          -11012.5,
          -11012.5
         ],
         "yaxis": "y"
        },
        {
         "hoverinfo": "text",
         "marker": {
          "color": "rgb(0,116,217)"
         },
         "mode": "lines",
         "type": "scatter",
         "x": [
          0,
          2.1348297228513187,
          2.1348297228513187,
          1.6445895642871997
         ],
         "xaxis": "x",
         "y": [
          -10975,
          -10975,
          -11001.25,
          -11001.25
         ],
         "yaxis": "y"
        },
        {
         "hoverinfo": "text",
         "marker": {
          "color": "rgb(0,116,217)"
         },
         "mode": "lines",
         "type": "scatter",
         "x": [
          2.027270218763824,
          2.901865145077236,
          2.901865145077236,
          2.1348297228513187
         ],
         "xaxis": "x",
         "y": [
          -10946.25,
          -10946.25,
          -10988.125,
          -10988.125
         ],
         "yaxis": "y"
        },
        {
         "hoverinfo": "text",
         "marker": {
          "color": "rgb(0,116,217)"
         },
         "mode": "lines",
         "type": "scatter",
         "x": [
          0,
          1.257514396858386,
          1.257514396858386,
          0
         ],
         "xaxis": "x",
         "y": [
          -11035,
          -11035,
          -11045,
          -11045
         ],
         "yaxis": "y"
        },
        {
         "hoverinfo": "text",
         "marker": {
          "color": "rgb(0,116,217)"
         },
         "mode": "lines",
         "type": "scatter",
         "x": [
          0,
          1.0614875012499092,
          1.0614875012499092,
          0
         ],
         "xaxis": "x",
         "y": [
          -11065,
          -11065,
          -11075,
          -11075
         ],
         "yaxis": "y"
        },
        {
         "hoverinfo": "text",
         "marker": {
          "color": "rgb(0,116,217)"
         },
         "mode": "lines",
         "type": "scatter",
         "x": [
          0,
          1.3980333914540863,
          1.3980333914540863,
          1.0614875012499092
         ],
         "xaxis": "x",
         "y": [
          -11055,
          -11055,
          -11070,
          -11070
         ],
         "yaxis": "y"
        },
        {
         "hoverinfo": "text",
         "marker": {
          "color": "rgb(0,116,217)"
         },
         "mode": "lines",
         "type": "scatter",
         "x": [
          1.257514396858386,
          2.004126659064617,
          2.004126659064617,
          1.3980333914540863
         ],
         "xaxis": "x",
         "y": [
          -11040,
          -11040,
          -11062.5,
          -11062.5
         ],
         "yaxis": "y"
        },
        {
         "hoverinfo": "text",
         "marker": {
          "color": "rgb(255,65,54)"
         },
         "mode": "lines",
         "type": "scatter",
         "x": [
          0,
          0.9147357846458418,
          0.9147357846458418,
          0
         ],
         "xaxis": "x",
         "y": [
          -11105,
          -11105,
          -11115,
          -11115
         ],
         "yaxis": "y"
        },
        {
         "hoverinfo": "text",
         "marker": {
          "color": "rgb(0,116,217)"
         },
         "mode": "lines",
         "type": "scatter",
         "x": [
          0,
          1.351355014365364,
          1.351355014365364,
          0.9147357846458418
         ],
         "xaxis": "x",
         "y": [
          -11095,
          -11095,
          -11110,
          -11110
         ],
         "yaxis": "y"
        },
        {
         "hoverinfo": "text",
         "marker": {
          "color": "rgb(0,116,217)"
         },
         "mode": "lines",
         "type": "scatter",
         "x": [
          0,
          1.7366950081998656,
          1.7366950081998656,
          1.351355014365364
         ],
         "xaxis": "x",
         "y": [
          -11085,
          -11085,
          -11102.5,
          -11102.5
         ],
         "yaxis": "y"
        },
        {
         "hoverinfo": "text",
         "marker": {
          "color": "rgb(35,205,205)"
         },
         "mode": "lines",
         "type": "scatter",
         "x": [
          0,
          0.8713919971577877,
          0.8713919971577877,
          0
         ],
         "xaxis": "x",
         "y": [
          -11125,
          -11125,
          -11135,
          -11135
         ],
         "yaxis": "y"
        },
        {
         "hoverinfo": "text",
         "marker": {
          "color": "rgb(0,116,217)"
         },
         "mode": "lines",
         "type": "scatter",
         "x": [
          0,
          1.1052880277751227,
          1.1052880277751227,
          0
         ],
         "xaxis": "x",
         "y": [
          -11155,
          -11155,
          -11165,
          -11165
         ],
         "yaxis": "y"
        },
        {
         "hoverinfo": "text",
         "marker": {
          "color": "rgb(0,116,217)"
         },
         "mode": "lines",
         "type": "scatter",
         "x": [
          0,
          1.4431234704792055,
          1.4431234704792055,
          1.1052880277751227
         ],
         "xaxis": "x",
         "y": [
          -11145,
          -11145,
          -11160,
          -11160
         ],
         "yaxis": "y"
        },
        {
         "hoverinfo": "text",
         "marker": {
          "color": "rgb(0,116,217)"
         },
         "mode": "lines",
         "type": "scatter",
         "x": [
          0.8713919971577877,
          1.9063450402927515,
          1.9063450402927515,
          1.4431234704792055
         ],
         "xaxis": "x",
         "y": [
          -11130,
          -11130,
          -11152.5,
          -11152.5
         ],
         "yaxis": "y"
        },
        {
         "hoverinfo": "text",
         "marker": {
          "color": "rgb(0,116,217)"
         },
         "mode": "lines",
         "type": "scatter",
         "x": [
          1.7366950081998656,
          2.395896548402784,
          2.395896548402784,
          1.9063450402927515
         ],
         "xaxis": "x",
         "y": [
          -11093.75,
          -11093.75,
          -11141.25,
          -11141.25
         ],
         "yaxis": "y"
        },
        {
         "hoverinfo": "text",
         "marker": {
          "color": "rgb(0,116,217)"
         },
         "mode": "lines",
         "type": "scatter",
         "x": [
          2.004126659064617,
          3.105917384995441,
          3.105917384995441,
          2.395896548402784
         ],
         "xaxis": "x",
         "y": [
          -11051.25,
          -11051.25,
          -11117.5,
          -11117.5
         ],
         "yaxis": "y"
        },
        {
         "hoverinfo": "text",
         "marker": {
          "color": "rgb(0,116,217)"
         },
         "mode": "lines",
         "type": "scatter",
         "x": [
          2.901865145077236,
          6.919342314219935,
          6.919342314219935,
          3.105917384995441
         ],
         "xaxis": "x",
         "y": [
          -10967.1875,
          -10967.1875,
          -11084.375,
          -11084.375
         ],
         "yaxis": "y"
        },
        {
         "hoverinfo": "text",
         "marker": {
          "color": "rgb(0,116,217)"
         },
         "mode": "lines",
         "type": "scatter",
         "x": [
          5.396233821680459,
          9.88855762824686,
          9.88855762824686,
          6.919342314219935
         ],
         "xaxis": "x",
         "y": [
          -10564.0234375,
          -10564.0234375,
          -11025.78125,
          -11025.78125
         ],
         "yaxis": "y"
        },
        {
         "hoverinfo": "text",
         "marker": {
          "color": "rgb(0,116,217)"
         },
         "mode": "lines",
         "type": "scatter",
         "x": [
          7.096027552268936,
          12.081432010668799,
          12.081432010668799,
          9.88855762824686
         ],
         "xaxis": "x",
         "y": [
          -9725.087890625,
          -9725.087890625,
          -10794.90234375,
          -10794.90234375
         ],
         "yaxis": "y"
        },
        {
         "hoverinfo": "text",
         "marker": {
          "color": "rgb(0,116,217)"
         },
         "mode": "lines",
         "type": "scatter",
         "x": [
          7.7912889349569845,
          13.220563979766895,
          13.220563979766895,
          12.081432010668799
         ],
         "xaxis": "x",
         "y": [
          -8872.734375,
          -8872.734375,
          -10259.9951171875,
          -10259.9951171875
         ],
         "yaxis": "y"
        },
        {
         "hoverinfo": "text",
         "marker": {
          "color": "rgb(0,116,217)"
         },
         "mode": "lines",
         "type": "scatter",
         "x": [
          8.547207404443952,
          18.732551797769492,
          18.732551797769492,
          13.220563979766895
         ],
         "xaxis": "x",
         "y": [
          -7701.787109375,
          -7701.787109375,
          -9566.36474609375,
          -9566.36474609375
         ],
         "yaxis": "y"
        },
        {
         "hoverinfo": "text",
         "marker": {
          "color": "rgb(0,116,217)"
         },
         "mode": "lines",
         "type": "scatter",
         "x": [
          18.1024854260539,
          30.809342481943283,
          30.809342481943283,
          18.732551797769492
         ],
         "xaxis": "x",
         "y": [
          -4824.9755859375,
          -4824.9755859375,
          -8634.075927734375,
          -8634.075927734375
         ],
         "yaxis": "y"
        },
        {
         "hoverinfo": "text",
         "marker": {
          "color": "rgb(0,116,217)"
         },
         "mode": "lines",
         "type": "scatter",
         "x": [
          25.995533969902155,
          56.78511202655897,
          56.78511202655897,
          30.809342481943283
         ],
         "xaxis": "x",
         "y": [
          -1162.1575927734375,
          -1162.1575927734375,
          -6729.5257568359375,
          -6729.5257568359375
         ],
         "yaxis": "y"
        }
       ],
       "layout": {
        "autosize": false,
        "height": 16955,
        "hoverlabel": {
         "bgcolor": "white",
         "font": {
          "family": "Rockwell",
          "size": 16
         }
        },
        "hovermode": "closest",
        "plot_bgcolor": "#ECEFF1",
        "showlegend": false,
        "template": {
         "data": {
          "bar": [
           {
            "error_x": {
             "color": "#2a3f5f"
            },
            "error_y": {
             "color": "#2a3f5f"
            },
            "marker": {
             "line": {
              "color": "white",
              "width": 0.5
             },
             "pattern": {
              "fillmode": "overlay",
              "size": 10,
              "solidity": 0.2
             }
            },
            "type": "bar"
           }
          ],
          "barpolar": [
           {
            "marker": {
             "line": {
              "color": "white",
              "width": 0.5
             },
             "pattern": {
              "fillmode": "overlay",
              "size": 10,
              "solidity": 0.2
             }
            },
            "type": "barpolar"
           }
          ],
          "carpet": [
           {
            "aaxis": {
             "endlinecolor": "#2a3f5f",
             "gridcolor": "#C8D4E3",
             "linecolor": "#C8D4E3",
             "minorgridcolor": "#C8D4E3",
             "startlinecolor": "#2a3f5f"
            },
            "baxis": {
             "endlinecolor": "#2a3f5f",
             "gridcolor": "#C8D4E3",
             "linecolor": "#C8D4E3",
             "minorgridcolor": "#C8D4E3",
             "startlinecolor": "#2a3f5f"
            },
            "type": "carpet"
           }
          ],
          "choropleth": [
           {
            "colorbar": {
             "outlinewidth": 0,
             "ticks": ""
            },
            "type": "choropleth"
           }
          ],
          "contour": [
           {
            "colorbar": {
             "outlinewidth": 0,
             "ticks": ""
            },
            "colorscale": [
             [
              0,
              "#0d0887"
             ],
             [
              0.1111111111111111,
              "#46039f"
             ],
             [
              0.2222222222222222,
              "#7201a8"
             ],
             [
              0.3333333333333333,
              "#9c179e"
             ],
             [
              0.4444444444444444,
              "#bd3786"
             ],
             [
              0.5555555555555556,
              "#d8576b"
             ],
             [
              0.6666666666666666,
              "#ed7953"
             ],
             [
              0.7777777777777778,
              "#fb9f3a"
             ],
             [
              0.8888888888888888,
              "#fdca26"
             ],
             [
              1,
              "#f0f921"
             ]
            ],
            "type": "contour"
           }
          ],
          "contourcarpet": [
           {
            "colorbar": {
             "outlinewidth": 0,
             "ticks": ""
            },
            "type": "contourcarpet"
           }
          ],
          "heatmap": [
           {
            "colorbar": {
             "outlinewidth": 0,
             "ticks": ""
            },
            "colorscale": [
             [
              0,
              "#0d0887"
             ],
             [
              0.1111111111111111,
              "#46039f"
             ],
             [
              0.2222222222222222,
              "#7201a8"
             ],
             [
              0.3333333333333333,
              "#9c179e"
             ],
             [
              0.4444444444444444,
              "#bd3786"
             ],
             [
              0.5555555555555556,
              "#d8576b"
             ],
             [
              0.6666666666666666,
              "#ed7953"
             ],
             [
              0.7777777777777778,
              "#fb9f3a"
             ],
             [
              0.8888888888888888,
              "#fdca26"
             ],
             [
              1,
              "#f0f921"
             ]
            ],
            "type": "heatmap"
           }
          ],
          "heatmapgl": [
           {
            "colorbar": {
             "outlinewidth": 0,
             "ticks": ""
            },
            "colorscale": [
             [
              0,
              "#0d0887"
             ],
             [
              0.1111111111111111,
              "#46039f"
             ],
             [
              0.2222222222222222,
              "#7201a8"
             ],
             [
              0.3333333333333333,
              "#9c179e"
             ],
             [
              0.4444444444444444,
              "#bd3786"
             ],
             [
              0.5555555555555556,
              "#d8576b"
             ],
             [
              0.6666666666666666,
              "#ed7953"
             ],
             [
              0.7777777777777778,
              "#fb9f3a"
             ],
             [
              0.8888888888888888,
              "#fdca26"
             ],
             [
              1,
              "#f0f921"
             ]
            ],
            "type": "heatmapgl"
           }
          ],
          "histogram": [
           {
            "marker": {
             "pattern": {
              "fillmode": "overlay",
              "size": 10,
              "solidity": 0.2
             }
            },
            "type": "histogram"
           }
          ],
          "histogram2d": [
           {
            "colorbar": {
             "outlinewidth": 0,
             "ticks": ""
            },
            "colorscale": [
             [
              0,
              "#0d0887"
             ],
             [
              0.1111111111111111,
              "#46039f"
             ],
             [
              0.2222222222222222,
              "#7201a8"
             ],
             [
              0.3333333333333333,
              "#9c179e"
             ],
             [
              0.4444444444444444,
              "#bd3786"
             ],
             [
              0.5555555555555556,
              "#d8576b"
             ],
             [
              0.6666666666666666,
              "#ed7953"
             ],
             [
              0.7777777777777778,
              "#fb9f3a"
             ],
             [
              0.8888888888888888,
              "#fdca26"
             ],
             [
              1,
              "#f0f921"
             ]
            ],
            "type": "histogram2d"
           }
          ],
          "histogram2dcontour": [
           {
            "colorbar": {
             "outlinewidth": 0,
             "ticks": ""
            },
            "colorscale": [
             [
              0,
              "#0d0887"
             ],
             [
              0.1111111111111111,
              "#46039f"
             ],
             [
              0.2222222222222222,
              "#7201a8"
             ],
             [
              0.3333333333333333,
              "#9c179e"
             ],
             [
              0.4444444444444444,
              "#bd3786"
             ],
             [
              0.5555555555555556,
              "#d8576b"
             ],
             [
              0.6666666666666666,
              "#ed7953"
             ],
             [
              0.7777777777777778,
              "#fb9f3a"
             ],
             [
              0.8888888888888888,
              "#fdca26"
             ],
             [
              1,
              "#f0f921"
             ]
            ],
            "type": "histogram2dcontour"
           }
          ],
          "mesh3d": [
           {
            "colorbar": {
             "outlinewidth": 0,
             "ticks": ""
            },
            "type": "mesh3d"
           }
          ],
          "parcoords": [
           {
            "line": {
             "colorbar": {
              "outlinewidth": 0,
              "ticks": ""
             }
            },
            "type": "parcoords"
           }
          ],
          "pie": [
           {
            "automargin": true,
            "type": "pie"
           }
          ],
          "scatter": [
           {
            "fillpattern": {
             "fillmode": "overlay",
             "size": 10,
             "solidity": 0.2
            },
            "type": "scatter"
           }
          ],
          "scatter3d": [
           {
            "line": {
             "colorbar": {
              "outlinewidth": 0,
              "ticks": ""
             }
            },
            "marker": {
             "colorbar": {
              "outlinewidth": 0,
              "ticks": ""
             }
            },
            "type": "scatter3d"
           }
          ],
          "scattercarpet": [
           {
            "marker": {
             "colorbar": {
              "outlinewidth": 0,
              "ticks": ""
             }
            },
            "type": "scattercarpet"
           }
          ],
          "scattergeo": [
           {
            "marker": {
             "colorbar": {
              "outlinewidth": 0,
              "ticks": ""
             }
            },
            "type": "scattergeo"
           }
          ],
          "scattergl": [
           {
            "marker": {
             "colorbar": {
              "outlinewidth": 0,
              "ticks": ""
             }
            },
            "type": "scattergl"
           }
          ],
          "scattermapbox": [
           {
            "marker": {
             "colorbar": {
              "outlinewidth": 0,
              "ticks": ""
             }
            },
            "type": "scattermapbox"
           }
          ],
          "scatterpolar": [
           {
            "marker": {
             "colorbar": {
              "outlinewidth": 0,
              "ticks": ""
             }
            },
            "type": "scatterpolar"
           }
          ],
          "scatterpolargl": [
           {
            "marker": {
             "colorbar": {
              "outlinewidth": 0,
              "ticks": ""
             }
            },
            "type": "scatterpolargl"
           }
          ],
          "scatterternary": [
           {
            "marker": {
             "colorbar": {
              "outlinewidth": 0,
              "ticks": ""
             }
            },
            "type": "scatterternary"
           }
          ],
          "surface": [
           {
            "colorbar": {
             "outlinewidth": 0,
             "ticks": ""
            },
            "colorscale": [
             [
              0,
              "#0d0887"
             ],
             [
              0.1111111111111111,
              "#46039f"
             ],
             [
              0.2222222222222222,
              "#7201a8"
             ],
             [
              0.3333333333333333,
              "#9c179e"
             ],
             [
              0.4444444444444444,
              "#bd3786"
             ],
             [
              0.5555555555555556,
              "#d8576b"
             ],
             [
              0.6666666666666666,
              "#ed7953"
             ],
             [
              0.7777777777777778,
              "#fb9f3a"
             ],
             [
              0.8888888888888888,
              "#fdca26"
             ],
             [
              1,
              "#f0f921"
             ]
            ],
            "type": "surface"
           }
          ],
          "table": [
           {
            "cells": {
             "fill": {
              "color": "#EBF0F8"
             },
             "line": {
              "color": "white"
             }
            },
            "header": {
             "fill": {
              "color": "#C8D4E3"
             },
             "line": {
              "color": "white"
             }
            },
            "type": "table"
           }
          ]
         },
         "layout": {
          "annotationdefaults": {
           "arrowcolor": "#2a3f5f",
           "arrowhead": 0,
           "arrowwidth": 1
          },
          "autotypenumbers": "strict",
          "coloraxis": {
           "colorbar": {
            "outlinewidth": 0,
            "ticks": ""
           }
          },
          "colorscale": {
           "diverging": [
            [
             0,
             "#8e0152"
            ],
            [
             0.1,
             "#c51b7d"
            ],
            [
             0.2,
             "#de77ae"
            ],
            [
             0.3,
             "#f1b6da"
            ],
            [
             0.4,
             "#fde0ef"
            ],
            [
             0.5,
             "#f7f7f7"
            ],
            [
             0.6,
             "#e6f5d0"
            ],
            [
             0.7,
             "#b8e186"
            ],
            [
             0.8,
             "#7fbc41"
            ],
            [
             0.9,
             "#4d9221"
            ],
            [
             1,
             "#276419"
            ]
           ],
           "sequential": [
            [
             0,
             "#0d0887"
            ],
            [
             0.1111111111111111,
             "#46039f"
            ],
            [
             0.2222222222222222,
             "#7201a8"
            ],
            [
             0.3333333333333333,
             "#9c179e"
            ],
            [
             0.4444444444444444,
             "#bd3786"
            ],
            [
             0.5555555555555556,
             "#d8576b"
            ],
            [
             0.6666666666666666,
             "#ed7953"
            ],
            [
             0.7777777777777778,
             "#fb9f3a"
            ],
            [
             0.8888888888888888,
             "#fdca26"
            ],
            [
             1,
             "#f0f921"
            ]
           ],
           "sequentialminus": [
            [
             0,
             "#0d0887"
            ],
            [
             0.1111111111111111,
             "#46039f"
            ],
            [
             0.2222222222222222,
             "#7201a8"
            ],
            [
             0.3333333333333333,
             "#9c179e"
            ],
            [
             0.4444444444444444,
             "#bd3786"
            ],
            [
             0.5555555555555556,
             "#d8576b"
            ],
            [
             0.6666666666666666,
             "#ed7953"
            ],
            [
             0.7777777777777778,
             "#fb9f3a"
            ],
            [
             0.8888888888888888,
             "#fdca26"
            ],
            [
             1,
             "#f0f921"
            ]
           ]
          },
          "colorway": [
           "#636efa",
           "#EF553B",
           "#00cc96",
           "#ab63fa",
           "#FFA15A",
           "#19d3f3",
           "#FF6692",
           "#B6E880",
           "#FF97FF",
           "#FECB52"
          ],
          "font": {
           "color": "#2a3f5f"
          },
          "geo": {
           "bgcolor": "white",
           "lakecolor": "white",
           "landcolor": "white",
           "showlakes": true,
           "showland": true,
           "subunitcolor": "#C8D4E3"
          },
          "hoverlabel": {
           "align": "left"
          },
          "hovermode": "closest",
          "mapbox": {
           "style": "light"
          },
          "paper_bgcolor": "white",
          "plot_bgcolor": "white",
          "polar": {
           "angularaxis": {
            "gridcolor": "#EBF0F8",
            "linecolor": "#EBF0F8",
            "ticks": ""
           },
           "bgcolor": "white",
           "radialaxis": {
            "gridcolor": "#EBF0F8",
            "linecolor": "#EBF0F8",
            "ticks": ""
           }
          },
          "scene": {
           "xaxis": {
            "backgroundcolor": "white",
            "gridcolor": "#DFE8F3",
            "gridwidth": 2,
            "linecolor": "#EBF0F8",
            "showbackground": true,
            "ticks": "",
            "zerolinecolor": "#EBF0F8"
           },
           "yaxis": {
            "backgroundcolor": "white",
            "gridcolor": "#DFE8F3",
            "gridwidth": 2,
            "linecolor": "#EBF0F8",
            "showbackground": true,
            "ticks": "",
            "zerolinecolor": "#EBF0F8"
           },
           "zaxis": {
            "backgroundcolor": "white",
            "gridcolor": "#DFE8F3",
            "gridwidth": 2,
            "linecolor": "#EBF0F8",
            "showbackground": true,
            "ticks": "",
            "zerolinecolor": "#EBF0F8"
           }
          },
          "shapedefaults": {
           "line": {
            "color": "#2a3f5f"
           }
          },
          "ternary": {
           "aaxis": {
            "gridcolor": "#DFE8F3",
            "linecolor": "#A2B1C6",
            "ticks": ""
           },
           "baxis": {
            "gridcolor": "#DFE8F3",
            "linecolor": "#A2B1C6",
            "ticks": ""
           },
           "bgcolor": "white",
           "caxis": {
            "gridcolor": "#DFE8F3",
            "linecolor": "#A2B1C6",
            "ticks": ""
           }
          },
          "title": {
           "x": 0.05
          },
          "xaxis": {
           "automargin": true,
           "gridcolor": "#EBF0F8",
           "linecolor": "#EBF0F8",
           "ticks": "",
           "title": {
            "standoff": 15
           },
           "zerolinecolor": "#EBF0F8",
           "zerolinewidth": 2
          },
          "yaxis": {
           "automargin": true,
           "gridcolor": "#EBF0F8",
           "linecolor": "#EBF0F8",
           "ticks": "",
           "title": {
            "standoff": 15
           },
           "zerolinecolor": "#EBF0F8",
           "zerolinewidth": 2
          }
         }
        },
        "title": {
         "font": {
          "color": "Black",
          "size": 22
         },
         "text": "<b>Hierarchical Clustering",
         "x": 0.5,
         "xanchor": "center",
         "yanchor": "top"
        },
        "width": 1000,
        "xaxis": {
         "mirror": "allticks",
         "rangemode": "tozero",
         "showgrid": false,
         "showline": true,
         "showticklabels": true,
         "ticks": "outside",
         "type": "linear",
         "zeroline": false
        },
        "yaxis": {
         "mirror": "allticks",
         "range": [
          -11170,
          0
         ],
         "rangemode": "tozero",
         "showgrid": false,
         "showline": true,
         "showticklabels": true,
         "tickmode": "array",
         "ticks": "outside",
         "ticktext": [
          "230_1mdb_najib_mahathir",
          "189_duterte_philippines_phi...",
          "321_mugabe_zimbabwe_mnangagwa",
          "705_sri_lanka_rajapaksa",
          "781_widodo_jokowi_indonesias",
          "889_kenyatta_morenoocampo_o...",
          "934_nazarbayev_aliyev_soviet",
          "84_putin_russia_russian",
          "179_russian_ukraine_moscow",
          "1066_zelenskiy_kolomoisky_p...",
          "220_polish_zlotys_polands",
          "568_orban_hungary_fidesz",
          "385_crimea_ukraine_ukrainian",
          "413_cyprus_turkey_turkish",
          "106_syrian_aleppo_syria",
          "184_turkey_turkish_syria",
          "752_kurdish_kurds_kirkuk",
          "250_bouteflika_algeria_algi...",
          "770_abiy_eritrea_ethiopia",
          "209_sudan_sudans_kiir",
          "387_egypts_egyptian_egypt",
          "406_sisi_egypt_egyptian",
          "369_pakistan_sharif_pakistans",
          "535_pakistan_kashmir_india",
          "26_saudi_dubai_aramco",
          "915_saudi_arabia_bahraini",
          "142_cuba_cuban_havana",
          "442_kosovo_bosnian_serb",
          "552_burundian_burundi_congo",
          "625_qatar_arab_doha",
          "232_lebanon_lebanons_hariri",
          "914_hezbollah_lebanon_leban...",
          "367_holocaust_jews_jewish",
          "55_israel_palestinian_pales...",
          "492_gaza_hamas_israeli",
          "792_syrian_ceasefire_lavrov",
          "910_syria_syrian_assad",
          "449_tripoli_libya_haftar",
          "814_sinai_militants_egyptian",
          "1063_refugees_syrians_bushra",
          "182_mosul_iraqi_isis",
          "746_isis_syria_aljayab",
          "42_iran_nuclear_sanctions",
          "610_irans_iran_iranian",
          "464_saudi_yemen_arabia",
          "511_saudi_iran_arabia",
          "351_nato_sanger_defense",
          "1115_nato_baltic_poland",
          "96_turkish_erdogan_turkey",
          "459_pkk_turkey_turkish",
          "143_lira_turkish_turkeys",
          "739_turkey_s400_ankara",
          "416_catalan_catalonia_puigd...",
          "1020_scotland_scottish_stur...",
          "412_caravan_guatemala_asylum",
          "443_mexico_mexican_tariffs",
          "285_migrants_libya_boat",
          "694_greece_migrants_lesbos",
          "114_greece_greeces_greek",
          "1024_asylum_migrants_refugees",
          "58_hong_kong_protesters",
          "921_cathay_hong_kong",
          "150_hong_kong_listing",
          "117_tencent_alibaba_baidu",
          "311_liu_chinese_hu",
          "410_korea_korean_kim",
          "8_korea_north_korean",
          "683_north_korean_korea",
          "595_taiwan_tsai_taiwans",
          "773_taiwan_tsai_china",
          "149_sea_china_taiwan",
          "468_south_japan_korean",
          "192_nigeria_buhari_nigerias",
          "92_saudi_khashoggi_prince",
          "178_yemen_houthis_houthi",
          "601_mogadishu_somalia_shabaab",
          "349_delhi_india_hindu",
          "646_modi_bjp_hindu",
          "707_xinjiang_uighurs_uighur",
          "542_nauru_jakarta_indonesia",
          "284_rohingya_myanmar_suu",
          "1074_bangladesh_dhaka_islamic",
          "384_nassar_gymnastics_nassars",
          "444_rahami_bomb_bombs",
          "374_nakesha_diary_nakeshas",
          "1052_khan_khizr_khans",
          "588_baht_thailand_thai",
          "494_thaksin_thai_junta",
          "559_cambodia_hun_phnom",
          "308_palm_indonesia_malaysia",
          "748_eskom_ramaphosa_rand",
          "395_sri_rupee_rupees",
          "437_shillings_shilling_kenya",
          "223_drone_drones_dji",
          "45_flight_plane_passengers",
          "177_airbus_aircraft_jets",
          "152_uber_drivers_lyft",
          "403_lyft_uber_lyfts",
          "1017_harleydavidson_motorcy...",
          "1116_bikes_bike_ebikes",
          "90_tagclick_html5_browser",
          "599_javascript_oops_browser",
          "905_javascript_oops_browser",
          "651_charging_charger_usbc",
          "508_ps4_playstation_xbox",
          "71_vr_oculus_virtual",
          "745_gopro_hero_hero7",
          "615_satellites_satellite_sp...",
          "698_maps_google_map",
          "99_5g_tmobile_sprint",
          "108_huawei_5g_equipment",
          "36_malware_hackers_kaspersky",
          "970_pinterest_pins_pin",
          "961_dropbox_dropboxs_revenue",
          "981_linkedin_microsoft_micr...",
          "111_headphones_earbuds_airp...",
          "74_fitbit_watch_smartwatch",
          "81_spotify_music_streaming",
          "433_qualcomm_nokia_qualcomms",
          "518_patent_patents_virnetx",
          "583_qualcomm_broadcom_nxp",
          "844_quantum_qubits_computing",
          "49_bitcoin_cryptocurrency_b...",
          "740_equifax_breach_credit",
          "604_password_passwords_auth...",
          "493_whatsapp_encryption_mes...",
          "880_vpn_vpns_wifi",
          "1008_edt_pm_est",
          "1040_customercarenytimescom...",
          "269_airbnb_hosts_homesharing",
          "952_tickets_ticket_ticketma...",
          "673_antibiotics_antibiotic_...",
          "222_measles_vaccine_vaccines",
          "386_hiv_aids_syphilis",
          "643_no__",
          "1043_breakingviews_wwwbreak...",
          "21_tax_taxes_deduction",
          "253_returns_tax_irs",
          "275_yield_10year_yields",
          "522_biofuels_ethanol_refiners",
          "807_epa_methane_emissions",
          "761_chernobyl_radiation_rea...",
          "874_fukushima_tepco_reactors",
          "504_wedding_weddings_bride",
          "105_orchestra_opera_music",
          "157_ballet_dance_dancers",
          "597_valentines_flowers_roses",
          "878_menstrual_tampons_tampon",
          "237_shoes_shoe_sneakers",
          "1030_nail_nails_polish",
          "303_sleep_asleep_bed",
          "859_anxiety_anxious_disorders",
          "415_emoji_unicode_emojis",
          "1009_hyperloop_hyperloops_t...",
          "551_climbers_everest_climbing",
          "414_earthquake_quake_earthq...",
          "334_snow_weather_storm",
          "695_tornado_tornadoes_flood...",
          "396_farmers_farm_agriculture",
          "653_homeless_homelessness_h...",
          "147_tobacco_ecigarettes_vap...",
          "68_opioid_drug_addiction",
          "154_marijuana_cannabis_recr...",
          "938_psilocybin_psychedelics...",
          "812_valeant_valeants_pearson",
          "487_wine_wines_grapes",
          "110_coffee_starbucks_brew",
          "199_beer_drink_bourbon",
          "166_zika_virus_microcephaly",
          "274_ebola_malaria_outbreak",
          "819_flu_influenza_h3n2",
          "833_fat_fats_saturated",
          "891_sweeteners_sugar_saccha...",
          "109_abortion_abortions_clin...",
          "715_embryos_crispr_gene",
          "1082_enzymes_eugenics_ginkgo",
          "198_abortion_parenthood_roe",
          "735_breastfeeding_breast_milk",
          "1011_births_birth_fertility",
          "2_drug_patients_drugs",
          "830_patients_ai_autism",
          "340_cancer_breast_cells",
          "544_cancer_patients_colon",
          "898_flu_poultry_bird",
          "1045_swine_fever_pigs",
          "4_coronavirus_virus_outbreak",
          "362_romaine_recall_lettuce",
          "30_gun_nra_guns",
          "1044_shootings_gun_mass",
          "697_cannabis_marijuana_canopy",
          "731_vaping_lung_acetate",
          "890_alcohol_drinking_breast",
          "871_suicide_prevention_suic...",
          "892_death_dying_junipero",
          "188_climate_warming_change",
          "847_climate_green_energy",
          "1092_climate_carbon_emissions",
          "411_exercise_weight_bone",
          "567_workout_weight_body",
          "741_obesity_aspirin_cardiov...",
          "864_fasting_keto_eating",
          "187_plastic_plastics_straws",
          "541_milk_labeling_gmo",
          "841_pedestrians_traffic_fat...",
          "85_robot_robots_robotics",
          "946_lego_bricks_goldin",
          "168_tinder_dating_match",
          "259_sex_orgasm_partner",
          "66_women_female_gender",
          "309_women_female_candidates",
          "129_transgender_gender_bath...",
          "357_pride_gay_stonewall",
          "736_hazing_fraternity_stanf...",
          "582_students_schools_spiegel",
          "858_students_school_schools",
          "1065_dominos_pizza_delivery",
          "851_apron_blue_aprons",
          "1058_mattress_casper_foam",
          "380_cruise_ship_passengers",
          "738_hotels_starwood_hilton",
          "101_spacex_rocket_falcon",
          "821_trek_star_spock",
          "249_musk_tesla_musks",
          "788_boring_tunnel_musk",
          "162_subway_train_byford",
          "652_lottery_jackpot_powerball",
          "620_vacuum_dyson_robot",
          "702_nest_cam_camera",
          "903_rigs_drilling_rig",
          "566_scooters_scooter_bird",
          "840_caterpillar_deere_umpleby",
          "29_marvel_movie_spiderman",
          "124_swift_swifts_taylor",
          "1090_overwatch_lcio_goats",
          "772_disney_disneyland_parks",
          "64_theater_broadway_musical",
          "1_art_museum_artists",
          "11_book_novel_books",
          "245_mcdonalds_burger_homeco...",
          "723_taco_meatloaf_hamburgers",
          "13_cooking_recipe_restaurant",
          "831_blender_kitchenaid_mixer",
          "710_chipotle_queso_chipotles",
          "1104_taco_tacos_bell",
          "233_wheat_corn_soybeans",
          "959_argentina_soybeans_grains",
          "404_amazon_bezos_amazons",
          "483_sears_lampert_esl",
          "60_amazon_walmart_stores",
          "732_macys_stores_malls",
          "474_wynn_casino_resorts",
          "1060_casinos_casino_gambling",
          "1007_walgreens_rite_pharmacy",
          "333_ikea_furniture_inter",
          "972_hotels_hotel_rooms",
          "445_cramer_stock_mad",
          "942_bloomberg_bloombergs_ma...",
          "35_venture_startup_startups",
          "293_wework_neumann_weworks",
          "490_ge_ges_welch",
          "296_pruitt_epa_pruitts",
          "968_frc_kpmg_auditing",
          "947_slack_workspace_slacks",
          "408_snapchat_snap_snapchats",
          "479_snap_snaps_snapchat",
          "576_tiktok_tiktoks_bytedance",
          "870_zte_ztes_compliance",
          "360_epstein_epsteins_acosta",
          "836_yeah_think_you",
          "976_temperature_warmest_deg...",
          "971_nike_nikes_revenue",
          "10_fashion_wear_dress",
          "728_armour_lululemon_plank",
          "751_takata_inflators_airbags",
          "999_arcelormittal_ilva_steel",
          "549_libra_cryptocurrency_fa...",
          "769_jewelry_neuwirth_eleuteri",
          "135_bayer_monsanto_glyphosate",
          "607_tattoo_tattoos_lukas",
          "619_dna_23andme_genetic",
          "388_cosby_constand_cosbys",
          "754_winfrey_oprah_winfreys",
          "980_deadpool_reynolds_wade",
          "59_thrones_jon_cersei",
          "381_cyrus_miley_hemsworth",
          "205_bieber_justin_hailey",
          "56_bachelor_bachelorette_pa...",
          "988_carey_mariah_careys",
          "843_bowie_bowies_blackstar",
          "866_meek_mill_meeks",
          "865_sesame_muppets_henson",
          "1110_timberlake_timberlakes...",
          "501_cricket_rugby_players",
          "53_ufc_fight_mcgregor",
          "762_ali_alis_muhammad",
          "63_graduated_grooms_brides",
          "144_wedding_graduated_married",
          "3_innings_inning_runs",
          "12_yards_nfl_quarterback",
          "24_tennis_federer_match",
          "992_trebek_jeopardy_alex",
          "623_pitt_jolie_angelina",
          "725_derby_horse_jockey",
          "785_pope_francis_vatican",
          "383_priests_abuse_vatican",
          "982_pope_vatican_francis",
          "776_kushner_kushners_jared",
          "451_bannon_bannons_breitbart",
          "775_kasich_kasichs_ohio",
          "717_voters_undecided_democr...",
          "977_pelosi_caucus_pelosis",
          "80_sanders_clinton_bernie",
          "185_clinton_clintons_hillary",
          "133_manafort_manaforts_gates",
          "298_flynn_flynns_kislyak",
          "212_tillerson_tillersons_rex",
          "215_assange_wikileaks_manning",
          "532_trudeau_trudeaus_scheer",
          "587_netanyahu_gantz_likud",
          "787_flake_harwood_jeff",
          "837_corker_flake_corkers",
          "514_franken_frankens_tweeden",
          "600_pence_pences_mike",
          "54_cruz_rubio_ted",
          "190_mccain_mccains_arizona",
          "664_christie_christies_jersey",
          "928_schultz_starbucks_schul...",
          "793_solar_solarstorage_energy",
          "83_planets_telescope_earth",
          "572_eclipse_moon_solar",
          "540_mars_rover_martian",
          "446_space_nasa_astronauts",
          "657_apollo_moon_lunar",
          "593_ivory_rhino_rhinos",
          "370_dinosaurs_dinosaur_spec...",
          "701_homo_bones_dna",
          "1054_tuna_seafood_fish",
          "22_dog_dogs_pet",
          "528_bear_bears_polar",
          "315_shark_whales_whale",
          "867_coral_reefs_reef",
          "419_zoo_giraffe_zoos",
          "943_pandas_panda_zoo",
          "488_monsoon_rains_farmers",
          "78_hurricane_storm_winds",
          "91_fire_fires_wildfires",
          "318_lava_volcano_hawaii",
          "363_tsunami_typhoon_quake",
          "825_eruption_island_volcano",
          "246_evangelical_immigration...",
          "602_asylum_immigration_pers...",
          "1033_immigration_undocument...",
          "69_taliban_afghan_afghanistan",
          "678_afghanistan_taliban_afg...",
          "376_detainees_guantnamo_gua...",
          "839_vietjet_hanoi_vietnams",
          "816_harvard_admissions_harv...",
          "546_teachers_teacher_strike",
          "1077_campus_speech_campuses",
          "755_gerrymandering_district...",
          "505_veterans_va_military",
          "1106_disabilities_ada_disab...",
          "453_romney_utah_hatch",
          "299_iowa_caucus_caucuses",
          "1012_wisconsin_walker_dallet",
          "176_confederate_charlottesv...",
          "1049_klobuchar_klobuchars_n...",
          "316_execution_executions_de...",
          "461_prison_prisoners_inmates",
          "65_kavanaugh_kavanaughs_brett",
          "868_whistleblower_complaint...",
          "19_tariffs_china_trade",
          "204_growth_chinas_pmi",
          "276_japans_exports_economy",
          "486_german_economy_growth",
          "534_equivalence_eu_britain",
          "302_ubs_swiss_suisse",
          "882_italys_budget_italy",
          "675_barclays_sfo_jenkins",
          "305_anz_westpac_australias",
          "371_rba_australias_australia",
          "118_yuan_pboc_lending",
          "393_rupees_dhfl_pnb",
          "394_rbi_rajan_rupees",
          "608_flipkart_ecommerce_india",
          "254_tax_ireland_digital",
          "401_frankfurt_eu_brexit",
          "696_britain_eu_migration",
          "778_euro_zone_gdp",
          "164_ecb_ecbs_euro",
          "301_banks_euro_ecb",
          "27_pounds_britains_tesco",
          "221_boe_carney_inflation",
          "116_deutsche_bank_commerzbank",
          "638_pct_eurshr_german",
          "172_le_macron_pen",
          "1047_macron_french_europe",
          "699_brussels_albert_king",
          "822_brussels_laachraoui_bel...",
          "564_aker_norwegian_bp",
          "708_norways_fund_norwegian",
          "560_swiss_francs_zurich",
          "257_danske_laundering_eston...",
          "1029_banka_slovenias_ljublj...",
          "1078_pis_polands_warsaw",
          "612_privatbank_kiev_ukraines",
          "706_babis_zeman_czech",
          "279_reais_sa_paulo",
          "724_reais_temer_brasilia",
          "200_bolsonaro_brazils_temer",
          "1095_brazils_ibge_brazilian",
          "722_avianca_gol_brasil",
          "1103_dos_santos_angola",
          "288_petrobras_oil_petroleo",
          "671_farc_colombia_peace",
          "743_mexico_mexican_mexicos",
          "932_boldrini_segre_italian",
          "62_italian_dei_euros",
          "1075_italys_ciampi_salvini",
          "338_spanish_euros_ibex",
          "521_peso_inflation_latin",
          "450_meng_extradition_mengs",
          "930_trudeau_g7_canada",
          "1027_canadians_canada_refugee",
          "231_canadian_canada_canadas",
          "627_canadian_cibc_canadas",
          "139_alberta_pipeline_canadian",
          "704_lumber_softwood_steel",
          "76_roubles_rusal_moscow",
          "484_skripal_salisbury_nerve",
          "553_russia_putin_russian",
          "789_sanctions_russia_chabad",
          "879_saudi_arabia_guardianship",
          "217_tanker_iran_strait",
          "480_plane_iran_iranian",
          "283_chemical_assad_syria",
          "591_treaty_nuclear_russia",
          "611_telegram_internet_durov",
          "885_noc_libyas_ports",
          "579_macron_1968_protests",
          "734_paris_french_police",
          "136_attack_police_london",
          "681_charlottesville_violenc...",
          "5_brexit_eu_britain",
          "251_visit_khan_london",
          "216_spd_merkel_afd",
          "356_german_germany_berlin",
          "838_jet_airline_carrier",
          "862_mh370_search_plane",
          "1108_etihad_airline_flybe",
          "555_lufthansa_eurowings_ber...",
          "1021_alitalia_lufthansa_fer...",
          "342_boj_kuroda_bojs",
          "679_abe_fiscal_yen",
          "912_abe_ldp_abes",
          "247_nikkei_topix_yen",
          "586_nikkei_kobe_steel",
          "452_ghosn_nissan_ghosns",
          "716_abe_emperor_japan",
          "958_russian_navy_aircraft",
          "979_hiroshima_sailors_mccain",
          "609_submarine_australia_faro",
          "614_land_rights_thomson",
          "500_rupiah_bi_indonesias",
          "933_cave_rescue_boys",
          "1039_kyaw_myanmar_wa",
          "931_korea_north_xi",
          "421_park_choi_seoul",
          "901_bok_koreas_lee",
          "1062_zika_rio_games",
          "409_zuma_anc_zumas",
          "328_boko_haram_nigeria",
          "634_rand_africas_johannesburg",
          "650_saa_rand_denel",
          "589_dividend_headline_undis...",
          "733_accounting_headline_bei...",
          "482_passive_sec_filing",
          "260_compensation_fy_sec",
          "692_financing_sec_text",
          "596_tribune_gannett_digital",
          "353_vox_sentences_wrapup",
          "801_files_shelf_sec",
          "120_fraud_sec_madoff",
          "886_directors_board_sec",
          "32_eikon_text_coverage",
          "67_notes_facility_revolving",
          "61_eur_fy_euros",
          "439_h1_eur_euros",
          "194_ibes_eikon_pharmaceutic...",
          "203_hy_attributable_versus",
          "261_offering_common_announces",
          "405_ffo_per_share",
          "798_ounces_freeportmcmoran_...",
          "93_dollar_index_markets",
          "435_hksin_percent_dollar",
          "227_points_nasdaq_composite",
          "757_futures_dow_sp",
          "633_barrels_hedge_managers",
          "1003_crude_oil_stocks",
          "447_hedge_fund_marcato",
          "1114_fed_mester_markets",
          "337_yen_headline_beijing",
          "366_wonshare_convertible_bo...",
          "43_eikon_text_coverage",
          "170_gdynia_newsroom_eikon",
          "368_zlotys_bonds_gdynia",
          "563_dividend_gdynia_fy",
          "691_resume_newsroom_kong",
          "637_newsroom_pending_halt",
          "828_newsroom_ltd_co",
          "365_ltd_co_purchaser",
          "543_ltd_eikon_trading",
          "849_contract_headline_korean",
          "1050_ltd_headline_co",
          "430_elects_ltd_text",
          "481_headline_co_text",
          "489_headline_beijing_shares",
          "719_swift_bangladesh_heist",
          "936_belt_obor_road",
          "955_refinery_neches_tceq",
          "1112_plant_refinery_polyeth...",
          "382_silicon_thiel_valley",
          "896_gm_plant_lordstown",
          "159_yuan_net_fy",
          "606_h1_yuan_profit",
          "1072_h1_yuan_fy",
          "271_yuan_yy_renminbi",
          "1111_yuan_renminbi_chinese",
          "964_yuan_renminbi_land",
          "38_yuan_co_ltd",
          "332_yuan_bonds_renminbi",
          "516_kkr_blackstone_equity",
          "454_bac_intc_googl",
          "662_q1_qtrly_mboed",
          "815_seng_index_hang",
          "1094_jv_co_headline",
          "312_riyals_dinars_versus",
          "343_luxury_lvmh_hm",
          "358_tpp_trade_japan",
          "998_sharp_yen_display",
          "631_crown_inflation_euro",
          "918_euros_puma_sales",
          "883_heps_rand_cents",
          "206_appointed_bank_head",
          "1041_sunak_javid_spending",
          "417_goldblum_dafoe_mccarthys",
          "1098_ozark_byrdes_camino",
          "726_andrus_monica_violence",
          "1064_promises_executive_trump",
          "201_perino_gutfeld_watters",
          "375_kelly_trump_tape",
          "463_commentator_thatthe_2020",
          "632_commentator_hilltv_bernie",
          "398_biden_decriminalizing_c...",
          "1100_patrick_sanders_rosend...",
          "455_hotel_turnberry_prestwick",
          "636_golf_maralago_senecal",
          "469_brf_brazilian_meat",
          "585_soccer_cup_womens",
          "570_inbev_ab_sabmiller",
          "348_chilling_colbert_willia...",
          "984_schlitterbahn_ride_slide",
          "720_tour_froome_rider",
          "515_pge_aliso_gas",
          "834_furious_fast_dom",
          "294_fire_grenfell_blaze",
          "802_saipov_truck_attack",
          "130_fishoutofwater_minhajs_...",
          "148_housewives_vanderpump_l...",
          "344_buffett_becky_berkshire",
          "495_becky_buffett_quick",
          "422_harassment_conyers_sexual",
          "990_persky_turner_recall",
          "272_kelly_porter_priebus",
          "425_huffman_admissions_loug...",
          "1048_pelosi_edt_impeachment",
          "1079_guess_munck_dapper",
          "341_ailes_fox_carlson",
          "894_cbs_odonnell_anchor",
          "426_howwhere_rockettes_book...",
          "680_guess_warped_posin",
          "234_fake_press_enemy",
          "1089_tv_zan_ryff",
          "146_parkland_school_shooting",
          "226_gilmore_episode_randall",
          "277_comedy_gillis_riddle",
          "196_film_movie_wigfield",
          "805_music_songs_petty",
          "1019_copper_matamoros_workers",
          "87_nafta_mexico_usmca",
          "666_panama_mossack_fonseca",
          "513_european_kurz_parliament",
          "808_party_pirate_sweden",
          "1057_shithole_haiti_durbin",
          "48_wall_border_shutdown",
          "95_ban_order_travel",
          "654_italia_tim_telecom",
          "235_5star_salvini_pd",
          "462_ubs_french_swiss",
          "817_nabiullina_central_infl...",
          "923_southeast_gojek_carousell",
          "1053_malpass_g7_georgieva",
          "1076_gas_delek_leviathan",
          "477_booker_clayton_nigatu",
          "845_luke_elektra_danny",
          "1107_loring_luke_lukes",
          "236_giggling_innuendo_scors...",
          "711_lopez_rodriguez_wicks",
          "499_spicer_scaramucci_press",
          "782_hamze_tito_94107",
          "407_guzmn_cartel_chapo",
          "613_rajoy_podemos_socialists",
          "1059_duarte_nieto_mexican",
          "763_pension_brazils_reais",
          "1099_jbs_batista_brazils",
          "128_ukraine_sondland_impeac...",
          "1028_starbucks_dorvilias_bo...",
          "1083_kobach_colyer_blankens...",
          "290_emails_email_clintons",
          "538_election_machines_voting",
          "498_hacked_dnc_hack",
          "510_surveillance_702_intell...",
          "925_mandate_obamacare_uncon...",
          "47_impeachment_trial_witnes...",
          "791_subpoena_mazars_vance",
          "953_reform_sentencing_prison",
          "72_daca_dreamers_immigration",
          "57_children_separated_border",
          "547_sanctuary_immigration_e...",
          "893_ad_immigration_latino",
          "558_district_democrats_dist...",
          "1070_voter_voting_kobach",
          "496_snap_farm_poverty",
          "965_men_gap_women",
          "512_gm_uaw_strike",
          "379_defense_budget_spending",
          "924_aumf_authorization_mili...",
          "854_suicide_reasons_13",
          "1109_violent_games_violence",
          "0_police_officers_shooting",
          "326_cops_dui_tmz",
          "390_transgender_military_se...",
          "712_womens_march_wruble",
          "846_schools_blasio_school",
          "996_devos_olympics_special",
          "243_biden_sanders_warren",
          "729_biden_sanders_coronavirus",
          "208_mattis_shanahan_defense",
          "527_recount_florida_nelson",
          "911_absentee_ballots_dowless",
          "994_russian_cyber_hacking",
          "282_nunes_memo_fbi",
          "945_fbi_dossier_informant",
          "470_practitioner_insights_w...",
          "974_emoluments_clause_gorod",
          "571_appointed_executive_ltd",
          "1087_council_charlottesvill...",
          "954_kronovi_tsm_cloud9",
          "278_sek_ab_gdynia",
          "475_zlotys_sa_gdynia",
          "850_avaloq_parvus_pincus",
          "966_ozobot_po32_barbie",
          "1071_christgau_music_minus",
          "244_puzzle_clue_crossword",
          "1014_differences_hint_snaps",
          "313_approval_poll_rating",
          "835_hillharrisx_poll_voters",
          "354_pythons_snakes_eagle",
          "530_depp_amber_johnny",
          "1113_wonder_gadot_woman",
          "617_leave_paid_maternity",
          "759_ad_bowl_super",
          "1023_ht_alum_rep",
          "561_gift_amazon_gifts",
          "920_consumer_confidence_con...",
          "331_editor_times_newsroom",
          "685_transcript_cnn_student",
          "389_redstone_viacom_cbs",
          "181_et9_peoplecom_peopletv",
          "186_rebroadcast_est_reallife",
          "160_bedrooms_room_square",
          "361_anastasiia_home_apartment",
          "517_cities_property_prices",
          "669_price_median_broker",
          "256_ai_alphago_learning",
          "672_ai_artificial_ng",
          "485_hotel_expandable_chevron",
          "827_fyre_festival_mcfarland",
          "258_disrupt_startup_techcru...",
          "978_axios_brevity_newsletters",
          "713_scripts_pharmacy_express",
          "1096_ubi_jobs_talent",
          "677_app_wechat_zao",
          "991_peoplecn_encyclopaedia_...",
          "531_tumblr_check_website",
          "686_yahoo_internet_barlow",
          "536_amazon_hq2_amazons",
          "554_jedi_contract_amazon",
          "577_huawei_chinese_theft",
          "913_lg_samsung_vietnam",
          "300_coronavirus_zika_package",
          "420_coronavirus_virus_outbr...",
          "1018_coronavirus_amazon_emp...",
          "684_sncf_pension_cgt",
          "126_covid19_eur_gdansk",
          "539_coronavirus_euros_outbr...",
          "537_nord_gas_pipeline",
          "628_pipeline_druzhba_oil",
          "402_drilling_interior_offsh...",
          "902_tullow_exploration_exxon",
          "950_grab_tan_uber",
          "1032_lilium_aircraft_flying",
          "594_auto_production_factories",
          "926_skoda_registrations_del...",
          "197_fiat_renault_chrysler",
          "842_nissan_brexit_carmakers",
          "929_sinn_fein_fianna",
          "578_turnbull_australia_aust...",
          "1031_kennedy_kennedys_vanocur",
          "1084_jewish_synagogue_kadar",
          "590_icahn_sandridge_occiden...",
          "876_king_steve_kings",
          "756_teresa_giudice_joe",
          "895_miss_pageant_betty",
          "986_ivanka_unwantedivanka_g20",
          "373_lady_melania_flotus",
          "441_obama_michelle_lady",
          "476_omar_omars_ilhan",
          "1046_raniere_nxivm_mack",
          "803_yovanovitch_parnas_amba...",
          "1105_lewandowski_corey_lewa...",
          "823_cuomo_nixon_wfp",
          "161_blasio_mayor_cuomo",
          "985_parnas_bondy_giuliani",
          "562_steyer_biden_fundraising",
          "472_biden_bidens_joe",
          "881_biden_bidens_warren",
          "796_wasserman_schultz_dnc",
          "169_clinton_libertarian_vot...",
          "790_debate_candidates_debates",
          "963_pelosi_shutdown_hammill",
          "82_obama_trump_speech",
          "509_bush_bushs_barbara",
          "112_moore_alabama_moores",
          "1034_moore_cain_fed",
          "263_avenatti_daniels_cohen",
          "810_gaga_cooper_bradley",
          "156_cohen_cohens_daniels",
          "909_franklin_aretha_franklins",
          "153_court_supreme_garland",
          "640_warren_warrens_elizabeth",
          "605_ginsburg_justice_ginsbu...",
          "987_menendez_melgen_melgens",
          "33_weinstein_sexual_harassm...",
          "132_comey_fbi_strzok",
          "239_barr_mueller_muellers",
          "557_intelligence_cia_brennan",
          "688_nielsen_dhs_nielsens",
          "329_mueller_rosenstein_coun...",
          "658_orr_cheney_credit",
          "314_stone_stones_roger",
          "1088_wiggins_armstrong_arms...",
          "350_ryan_speaker_ryans",
          "983_lewis_boggs_rights",
          "811_bees_hayes_syngenta",
          "346_negan_rick_walking",
          "1010_shulkin_veterans_va",
          "916_martinez_ortiz_patrol",
          "1093_obrador_lopez_clouthier",
          "603_gallagher_navy_seals",
          "993_vicons_vicon_verine",
          "506_grande_ariana_grandes",
          "1073_tiffany_lvmh_lvmhs",
          "23_royal_prince_meghan",
          "438_prince_princes_paisley",
          "280_beyonc_beyoncs_lemonade",
          "888_rhapsody_mercury_bohemian",
          "1000_clooney_amal_george",
          "1025_hadid_bella_gigi",
          "641_joanna_gaines_chip",
          "824_manigault_newman_omarosa",
          "703_dassey_avery_halbach",
          "1037_robson_jackson_safechuck",
          "721_perry_katy_bloom",
          "799_simpson_oj_nicole",
          "210_kanye_drake_west",
          "565_kardashian_robbery_kim",
          "663_gawker_denton_hogan",
          "800_kemp_abrams_georgia",
          "267_colbert_kimmel_griffin",
          "465_roseanne_barr_jarrett",
          "378_kelly_kellys_aaliyah",
          "418_wwe_wrestling_holm",
          "252_wells_fargo_sloan",
          "758_riverdale_archie_jughead",
          "904_handmaids_tale_gilead",
          "507_potter_rowling_beasts",
          "948_tarot_witches_ouijazilla",
          "529_smollett_jussie_smolletts",
          "967_manson_houten_mansons",
          "434_ocasiocortez_crowley_oc...",
          "569_theranos_holmes_bloodte...",
          "939_adele_alaina_karaoke",
          "750_aniston_theroux_jennifer",
          "786_mediaset_vivendi_medias...",
          "573_lovato_demi_sober",
          "165_pokmon_pokemon_niantic",
          "265_cardi_minaj_rapper",
          "648_gomez_selena_kidney",
          "826_hernandez_hernandezs_je...",
          "25_kardashian_jenner_kylie",
          "644_jonas_chopra_nick",
          "937_tatum_dewan_channing",
          "753_morales_bolivia_bolivias",
          "113_puerto_rico_hurricane",
          "319_puerto_rico_ricos",
          "107_pemex_mexicos_mexico",
          "122_macri_argentina_argenti...",
          "524_santiago_fujimori_vizca...",
          "104_maduro_venezuela_venezu...",
          "151_pdvsa_venezuela_venezue...",
          "167_doping_antidoping_wada",
          "173_anthem_nfl_kaepernick",
          "28_olympic_olympics_medal",
          "213_ioc_tokyo_olympic",
          "956_postponed_outbreak_tour...",
          "774_lithium_albemarle_chile",
          "1055_ice_arctic_antarctica",
          "310_buttigieg_bend_pete",
          "491_thunberg_climate_greta",
          "1068_arpaio_pardon_sheriff",
          "436_orourke_orourkes_beto",
          "765_ossoff_handel_ossoffs",
          "744_fifa_soccer_fifas",
          "906_futebol_lisboa_falcao",
          "897_salon_salons_hambrecht",
          "969_carrefour_bompard_carre...",
          "345_de_que_en",
          "771_cathedral_notre_dame",
          "97_stoxx_stocks_percent",
          "255_bhp_index_benchmark",
          "292_shanghai_index_csi300",
          "448_sptsx_toronto_index",
          "766_ipo_sec_adial",
          "661_cnbc_et_fed",
          "1035_pct_0830_prior",
          "41_sp_dow_500",
          "242_sp_nasdaq_500",
          "687_sp_nasdaq_dow",
          "183_dividend_exright_headline",
          "295_dividend_quarterly_eikon",
          "621_facebook_facebooks_stock",
          "1004_imf_forecast_growth",
          "533_notified_acquire_feb",
          "919_closure_date_exdividend",
          "399_4k_smart_tv",
          "37_hill_20006_2026288500",
          "163_hill_2026288503_2026288...",
          "9_ibes_earnings_per",
          "503_baht_pcl_versus",
          "777_rgt_qtrly_bhd",
          "211_ftse_index_100",
          "336_nse_bse_index",
          "502_tsx_sptsx_index",
          "440_auction_treasury_bills",
          "584_bonds_obligation_refina...",
          "202_retirement_credit_savings",
          "428_spending_budget_earmarks",
          "466_budget_spending_debt",
          "123_card_cards_credit",
          "764_bonds_itraxx_ifr",
          "138_donors_pac_donations",
          "327_funds_outflows_inflows",
          "995_blackrock_fink_sustaina...",
          "355_shopping_thanksgiving_d...",
          "818_target_stores_shipt",
          "270_banks_doddfrank_volcker",
          "304_cfpb_payday_springleaf",
          "709_education_students_loan",
          "949_doordash_wage_minimum",
          "832_freddie_fannie_mortgage",
          "1069_monzo_revolut_banks",
          "629_bezos_mackenzie_spielberg",
          "286_fed_powell_yellen",
          "727_mnuchin_ross_treasury",
          "423_sessions_attorney_recuse",
          "718_sessions_jeff_attorney",
          "525_cramer_cramers_madcapcn...",
          "520_moodys_rating_sp",
          "155_fitch_rating_ratings",
          "975_fitch_ratings_rating",
          "471_infrastructure_roads_br...",
          "742_freelancers_drivers_uber",
          "50_steel_tariffs_aluminum",
          "907_inventories_orders_goods",
          "855_ism_construction_manufa...",
          "857_productivity_scaleups_e...",
          "6_obamacare_care_health",
          "556_medicare_singlepayer_in...",
          "1042_noble_nobles_coal",
          "1097_billionaires_oxfam_wea...",
          "372_arbitration_unions_janus",
          "624_job_resume_hiring",
          "392_census_citizenship_ques...",
          "899_h1b_visa_workers",
          "174_labor_jobs_unemployment",
          "1013_wage_minimum_altour",
          "581_unemployment_claims_labor",
          "676_overtime_salary_rule",
          "352_metro_housing_rent",
          "141_mortgage_housing_homes",
          "193_student_college_loan",
          "306_yuan_currency_midpoint",
          "497_yen_dollar_boj",
          "1081_yen_dollar_trade",
          "70_sterling_pound_brexit",
          "618_euro_dollar_currency",
          "238_dollar_currencies_yen",
          "872_dollar_fed_euro",
          "1026_repo_repurchase_repos",
          "639_repurchase_repurchased_...",
          "767_repurchase_authorizatio...",
          "137_jpmorgan_goldman_dimon",
          "760_softbank_fund_softbanks",
          "795_bancorp_income_q4",
          "467_jgb_yield_10year",
          "119_rupees_versus_consol",
          "323_yields_bond_euro",
          "145_cents_share_estimates",
          "647_gdp_quarter_pace",
          "642_funds_etf_etfs",
          "40_fed_inflation_feds",
          "730_fed_sheet_balance",
          "103_nintendo_mario_switch",
          "75_game_games_gears",
          "432_fortnite_royale_ea",
          "875_drone_drones_indiegogo",
          "317_ar_hololens_augmented",
          "1038_stadia_gaming_xcloud",
          "7_points_nba_rebounds",
          "14_points_scored_yards",
          "17_goal_scored_goals",
          "79_formula_prix_race",
          "52_cup_manchester_league",
          "77_golf_woods_pga",
          "887_sports_baseball_nfl",
          "180_disney_fox_iger",
          "660_disney_streaming_wars",
          "667_christmas_holiday_movie",
          "39_film_movie_movies",
          "1101_films_netflix_film",
          "46_oscars_awards_academy",
          "690_emmys_emmy_comedy",
          "98_wars_star_jedi",
          "1005_dancing_dance_burke",
          "214_peaks_season_twin",
          "1102_stranger_season_things",
          "922_melania_wore_dress",
          "20_hair_skin_makeup",
          "424_fatshaming_body_fat",
          "598_talc_asbestos_jj",
          "266_opioid_purdue_insys",
          "1056_spade_kate_spades",
          "400_hospital_carromero_bdd",
          "927_addyi_vr_livia",
          "957_sex_fostasesta_decrimin...",
          "431_samesex_marriage_gay",
          "665_intersex_gender_hanne",
          "320_pm_my_am",
          "171_your_you_boss",
          "860_breakup_relationship_dr...",
          "877_millennials_steakumm_ge...",
          "1016_parents_parenting_my",
          "15_baby_pregnancy_mom",
          "1085_mom_moms_jewishbeyonce",
          "273_harvey_hurricane_houston",
          "670_refinery_gulf_storm",
          "229_pollution_air_smog",
          "324_climate_paris_emissions",
          "339_indigenous_bolsonaro_de...",
          "550_fires_bushfires_australia",
          "519_protesters_antifa_rally",
          "1006_extinction_rebellion_c...",
          "575_marines_marine_corps",
          "649_parade_memorial_fireworks",
          "545_monument_monuments_ears",
          "682_bundy_refuge_occupiers",
          "460_ski_beach_trees",
          "700_drought_fao_rains",
          "768_northam_fairfax_virginia",
          "856_carson_housing_hud",
          "325_pipeline_dakota_sioux",
          "749_native_cherokee_tribal",
          "900_gasoil_refining_fuel",
          "127_permian_shale_oil",
          "794_crude_refiners_oil",
          "783_exxon_schneiderman_clim...",
          "44_crude_oil_barrel",
          "264_opec_bpd_oil",
          "134_water_flint_drinking",
          "297_coal_perry_energy",
          "848_water_rule_epa",
          "94_wind_edf_energy",
          "809_rosatom_nuclear_plant",
          "829_nuclear_weapons_npt",
          "207_lng_gas_helium",
          "804_coal_thermal_tonnes",
          "997_steel_rebar_tonnes",
          "335_mining_mine_mines",
          "1086_rare_earths_minerals",
          "115_lme_copper_nickel",
          "51_gold_ounce_palladium",
          "228_salt_minutes_cup",
          "218_kraft_heinz_nestle",
          "1091_glencore_glencores_gla...",
          "630_thyssenkrupp_steel_tata",
          "1002_unilever_unilevers_pit...",
          "1015_ackman_pershing_valeant",
          "944_dairy_milk_fonterra",
          "262_meat_plantbased_burger",
          "322_pork_cattle_hog",
          "175_crowns_swedish_danish",
          "869_salmon_crowns_tonnes",
          "1080_davos_forum_thunberg",
          "616_viceland_desus_mero",
          "940_westworld_dolores_hosts",
          "377_lira_versus_liras",
          "580_vale_dam_tailings",
          "88_moon_venus_mercury",
          "523_drag_queens_rupaul",
          "1036_princess_queen_guitaut",
          "224_uber_kalanick_ubers",
          "674_waymo_uber_levandowski",
          "797_capesize_panamax_supramax",
          "962_atlantia_autostrade_mot...",
          "191_zlotys_versus_sa",
          "806_zinke_zinkes_interior",
          "813_hyperallergic_nectar_ad...",
          "626_didi_mobike_ridehailing",
          "1067_oi_ois_pharol",
          "820_toshiba_westinghouse_bain",
          "478_dell_hpe_amd",
          "34_laptop_pro_macbook",
          "427_windows_microsoft_update",
          "225_youtube_videos_creators",
          "248_netflix_streaming_netfl...",
          "645_att_sling_directv",
          "853_hulu_tv_hulus",
          "240_att_warner_merger",
          "908_robocalls_caller_calls",
          "102_neutrality_fcc_pai",
          "289_privacy_data_gdpr",
          "100_cloud_aws_microsoft",
          "89_google_googles_software",
          "659_privacy_google_cookies",
          "780_amp_google_web",
          "526_mtn_safaricom_nigeria",
          "219_vodafone_mobile_telecoms",
          "693_yahoo_verizon_yahoos",
          "195_encryption_apple_iphone",
          "917_id_face_iphone",
          "714_skype_zyl_google",
          "973_apps_app_unabridged",
          "281_bots_bot_phones",
          "397_apple_tv_roku",
          "364_apple_apples_iphone",
          "689_apple_cook_recycling",
          "16_iphone_galaxy_phone",
          "429_samsung_electronics_chip",
          "86_facebook_zuckerberg_zitt...",
          "359_twitter_dorsey_twitters",
          "935_twitter_verification_tw...",
          "951_influencers_influencer_...",
          "473_tweets_twitter_filter",
          "1022_tweets_280_characters",
          "31_facebook_ads_facebooks",
          "784_creators_facebook_content",
          "291_instagram_instagrams_us...",
          "622_messenger_facebook_app",
          "941_bts_kpop_korean",
          "18_album_band_music",
          "884_lorde_song_antonoff",
          "241_wayne_lil_feat",
          "391_grammy_album_winner",
          "656_alert_hawaii_alerts",
          "125_alexa_echo_amazon",
          "960_sonos_echo_speakers",
          "287_facial_recognition_tech...",
          "1051_headshots_headshot_sel...",
          "779_graph_comma_students",
          "457_bundle_skills_courses",
          "655_prompts_picture_prompt",
          "873_airlines_boeing_comac",
          "140_boeing_737_max",
          "458_boeing_max_737",
          "330_lockheed_f35_jets",
          "668_bombardier_rail_cseries",
          "747_egyptair_egyptian_plane",
          "548_airports_airlines_laptops",
          "989_flights_airlines_airline",
          "1061_southwest_mechanics_ai...",
          "307_ryanair_pilots_oleary",
          "347_airlines_airline_sabre",
          "737_tesla_shanghai_model",
          "1001_cybertruck_tesla_musk",
          "852_tesla_solar_solarcity",
          "121_tesla_model_teslas",
          "456_autopilot_tesla_crash",
          "592_standards_automakers_em...",
          "863_vehicles_toyota_yy",
          "131_vehicles_sales_ford",
          "861_selfdriving_autonomous_...",
          "268_volkswagen_vw_diesel",
          "635_vw_volkswagen_diess",
          "574_recall_vehicles_chrysler",
          "73_electric_car_cars",
          "158_selfdriving_autonomous_..."
         ],
         "tickvals": [
          -5,
          -15,
          -25,
          -35,
          -45,
          -55,
          -65,
          -75,
          -85,
          -95,
          -105,
          -115,
          -125,
          -135,
          -145,
          -155,
          -165,
          -175,
          -185,
          -195,
          -205,
          -215,
          -225,
          -235,
          -245,
          -255,
          -265,
          -275,
          -285,
          -295,
          -305,
          -315,
          -325,
          -335,
          -345,
          -355,
          -365,
          -375,
          -385,
          -395,
          -405,
          -415,
          -425,
          -435,
          -445,
          -455,
          -465,
          -475,
          -485,
          -495,
          -505,
          -515,
          -525,
          -535,
          -545,
          -555,
          -565,
          -575,
          -585,
          -595,
          -605,
          -615,
          -625,
          -635,
          -645,
          -655,
          -665,
          -675,
          -685,
          -695,
          -705,
          -715,
          -725,
          -735,
          -745,
          -755,
          -765,
          -775,
          -785,
          -795,
          -805,
          -815,
          -825,
          -835,
          -845,
          -855,
          -865,
          -875,
          -885,
          -895,
          -905,
          -915,
          -925,
          -935,
          -945,
          -955,
          -965,
          -975,
          -985,
          -995,
          -1005,
          -1015,
          -1025,
          -1035,
          -1045,
          -1055,
          -1065,
          -1075,
          -1085,
          -1095,
          -1105,
          -1115,
          -1125,
          -1135,
          -1145,
          -1155,
          -1165,
          -1175,
          -1185,
          -1195,
          -1205,
          -1215,
          -1225,
          -1235,
          -1245,
          -1255,
          -1265,
          -1275,
          -1285,
          -1295,
          -1305,
          -1315,
          -1325,
          -1335,
          -1345,
          -1355,
          -1365,
          -1375,
          -1385,
          -1395,
          -1405,
          -1415,
          -1425,
          -1435,
          -1445,
          -1455,
          -1465,
          -1475,
          -1485,
          -1495,
          -1505,
          -1515,
          -1525,
          -1535,
          -1545,
          -1555,
          -1565,
          -1575,
          -1585,
          -1595,
          -1605,
          -1615,
          -1625,
          -1635,
          -1645,
          -1655,
          -1665,
          -1675,
          -1685,
          -1695,
          -1705,
          -1715,
          -1725,
          -1735,
          -1745,
          -1755,
          -1765,
          -1775,
          -1785,
          -1795,
          -1805,
          -1815,
          -1825,
          -1835,
          -1845,
          -1855,
          -1865,
          -1875,
          -1885,
          -1895,
          -1905,
          -1915,
          -1925,
          -1935,
          -1945,
          -1955,
          -1965,
          -1975,
          -1985,
          -1995,
          -2005,
          -2015,
          -2025,
          -2035,
          -2045,
          -2055,
          -2065,
          -2075,
          -2085,
          -2095,
          -2105,
          -2115,
          -2125,
          -2135,
          -2145,
          -2155,
          -2165,
          -2175,
          -2185,
          -2195,
          -2205,
          -2215,
          -2225,
          -2235,
          -2245,
          -2255,
          -2265,
          -2275,
          -2285,
          -2295,
          -2305,
          -2315,
          -2325,
          -2335,
          -2345,
          -2355,
          -2365,
          -2375,
          -2385,
          -2395,
          -2405,
          -2415,
          -2425,
          -2435,
          -2445,
          -2455,
          -2465,
          -2475,
          -2485,
          -2495,
          -2505,
          -2515,
          -2525,
          -2535,
          -2545,
          -2555,
          -2565,
          -2575,
          -2585,
          -2595,
          -2605,
          -2615,
          -2625,
          -2635,
          -2645,
          -2655,
          -2665,
          -2675,
          -2685,
          -2695,
          -2705,
          -2715,
          -2725,
          -2735,
          -2745,
          -2755,
          -2765,
          -2775,
          -2785,
          -2795,
          -2805,
          -2815,
          -2825,
          -2835,
          -2845,
          -2855,
          -2865,
          -2875,
          -2885,
          -2895,
          -2905,
          -2915,
          -2925,
          -2935,
          -2945,
          -2955,
          -2965,
          -2975,
          -2985,
          -2995,
          -3005,
          -3015,
          -3025,
          -3035,
          -3045,
          -3055,
          -3065,
          -3075,
          -3085,
          -3095,
          -3105,
          -3115,
          -3125,
          -3135,
          -3145,
          -3155,
          -3165,
          -3175,
          -3185,
          -3195,
          -3205,
          -3215,
          -3225,
          -3235,
          -3245,
          -3255,
          -3265,
          -3275,
          -3285,
          -3295,
          -3305,
          -3315,
          -3325,
          -3335,
          -3345,
          -3355,
          -3365,
          -3375,
          -3385,
          -3395,
          -3405,
          -3415,
          -3425,
          -3435,
          -3445,
          -3455,
          -3465,
          -3475,
          -3485,
          -3495,
          -3505,
          -3515,
          -3525,
          -3535,
          -3545,
          -3555,
          -3565,
          -3575,
          -3585,
          -3595,
          -3605,
          -3615,
          -3625,
          -3635,
          -3645,
          -3655,
          -3665,
          -3675,
          -3685,
          -3695,
          -3705,
          -3715,
          -3725,
          -3735,
          -3745,
          -3755,
          -3765,
          -3775,
          -3785,
          -3795,
          -3805,
          -3815,
          -3825,
          -3835,
          -3845,
          -3855,
          -3865,
          -3875,
          -3885,
          -3895,
          -3905,
          -3915,
          -3925,
          -3935,
          -3945,
          -3955,
          -3965,
          -3975,
          -3985,
          -3995,
          -4005,
          -4015,
          -4025,
          -4035,
          -4045,
          -4055,
          -4065,
          -4075,
          -4085,
          -4095,
          -4105,
          -4115,
          -4125,
          -4135,
          -4145,
          -4155,
          -4165,
          -4175,
          -4185,
          -4195,
          -4205,
          -4215,
          -4225,
          -4235,
          -4245,
          -4255,
          -4265,
          -4275,
          -4285,
          -4295,
          -4305,
          -4315,
          -4325,
          -4335,
          -4345,
          -4355,
          -4365,
          -4375,
          -4385,
          -4395,
          -4405,
          -4415,
          -4425,
          -4435,
          -4445,
          -4455,
          -4465,
          -4475,
          -4485,
          -4495,
          -4505,
          -4515,
          -4525,
          -4535,
          -4545,
          -4555,
          -4565,
          -4575,
          -4585,
          -4595,
          -4605,
          -4615,
          -4625,
          -4635,
          -4645,
          -4655,
          -4665,
          -4675,
          -4685,
          -4695,
          -4705,
          -4715,
          -4725,
          -4735,
          -4745,
          -4755,
          -4765,
          -4775,
          -4785,
          -4795,
          -4805,
          -4815,
          -4825,
          -4835,
          -4845,
          -4855,
          -4865,
          -4875,
          -4885,
          -4895,
          -4905,
          -4915,
          -4925,
          -4935,
          -4945,
          -4955,
          -4965,
          -4975,
          -4985,
          -4995,
          -5005,
          -5015,
          -5025,
          -5035,
          -5045,
          -5055,
          -5065,
          -5075,
          -5085,
          -5095,
          -5105,
          -5115,
          -5125,
          -5135,
          -5145,
          -5155,
          -5165,
          -5175,
          -5185,
          -5195,
          -5205,
          -5215,
          -5225,
          -5235,
          -5245,
          -5255,
          -5265,
          -5275,
          -5285,
          -5295,
          -5305,
          -5315,
          -5325,
          -5335,
          -5345,
          -5355,
          -5365,
          -5375,
          -5385,
          -5395,
          -5405,
          -5415,
          -5425,
          -5435,
          -5445,
          -5455,
          -5465,
          -5475,
          -5485,
          -5495,
          -5505,
          -5515,
          -5525,
          -5535,
          -5545,
          -5555,
          -5565,
          -5575,
          -5585,
          -5595,
          -5605,
          -5615,
          -5625,
          -5635,
          -5645,
          -5655,
          -5665,
          -5675,
          -5685,
          -5695,
          -5705,
          -5715,
          -5725,
          -5735,
          -5745,
          -5755,
          -5765,
          -5775,
          -5785,
          -5795,
          -5805,
          -5815,
          -5825,
          -5835,
          -5845,
          -5855,
          -5865,
          -5875,
          -5885,
          -5895,
          -5905,
          -5915,
          -5925,
          -5935,
          -5945,
          -5955,
          -5965,
          -5975,
          -5985,
          -5995,
          -6005,
          -6015,
          -6025,
          -6035,
          -6045,
          -6055,
          -6065,
          -6075,
          -6085,
          -6095,
          -6105,
          -6115,
          -6125,
          -6135,
          -6145,
          -6155,
          -6165,
          -6175,
          -6185,
          -6195,
          -6205,
          -6215,
          -6225,
          -6235,
          -6245,
          -6255,
          -6265,
          -6275,
          -6285,
          -6295,
          -6305,
          -6315,
          -6325,
          -6335,
          -6345,
          -6355,
          -6365,
          -6375,
          -6385,
          -6395,
          -6405,
          -6415,
          -6425,
          -6435,
          -6445,
          -6455,
          -6465,
          -6475,
          -6485,
          -6495,
          -6505,
          -6515,
          -6525,
          -6535,
          -6545,
          -6555,
          -6565,
          -6575,
          -6585,
          -6595,
          -6605,
          -6615,
          -6625,
          -6635,
          -6645,
          -6655,
          -6665,
          -6675,
          -6685,
          -6695,
          -6705,
          -6715,
          -6725,
          -6735,
          -6745,
          -6755,
          -6765,
          -6775,
          -6785,
          -6795,
          -6805,
          -6815,
          -6825,
          -6835,
          -6845,
          -6855,
          -6865,
          -6875,
          -6885,
          -6895,
          -6905,
          -6915,
          -6925,
          -6935,
          -6945,
          -6955,
          -6965,
          -6975,
          -6985,
          -6995,
          -7005,
          -7015,
          -7025,
          -7035,
          -7045,
          -7055,
          -7065,
          -7075,
          -7085,
          -7095,
          -7105,
          -7115,
          -7125,
          -7135,
          -7145,
          -7155,
          -7165,
          -7175,
          -7185,
          -7195,
          -7205,
          -7215,
          -7225,
          -7235,
          -7245,
          -7255,
          -7265,
          -7275,
          -7285,
          -7295,
          -7305,
          -7315,
          -7325,
          -7335,
          -7345,
          -7355,
          -7365,
          -7375,
          -7385,
          -7395,
          -7405,
          -7415,
          -7425,
          -7435,
          -7445,
          -7455,
          -7465,
          -7475,
          -7485,
          -7495,
          -7505,
          -7515,
          -7525,
          -7535,
          -7545,
          -7555,
          -7565,
          -7575,
          -7585,
          -7595,
          -7605,
          -7615,
          -7625,
          -7635,
          -7645,
          -7655,
          -7665,
          -7675,
          -7685,
          -7695,
          -7705,
          -7715,
          -7725,
          -7735,
          -7745,
          -7755,
          -7765,
          -7775,
          -7785,
          -7795,
          -7805,
          -7815,
          -7825,
          -7835,
          -7845,
          -7855,
          -7865,
          -7875,
          -7885,
          -7895,
          -7905,
          -7915,
          -7925,
          -7935,
          -7945,
          -7955,
          -7965,
          -7975,
          -7985,
          -7995,
          -8005,
          -8015,
          -8025,
          -8035,
          -8045,
          -8055,
          -8065,
          -8075,
          -8085,
          -8095,
          -8105,
          -8115,
          -8125,
          -8135,
          -8145,
          -8155,
          -8165,
          -8175,
          -8185,
          -8195,
          -8205,
          -8215,
          -8225,
          -8235,
          -8245,
          -8255,
          -8265,
          -8275,
          -8285,
          -8295,
          -8305,
          -8315,
          -8325,
          -8335,
          -8345,
          -8355,
          -8365,
          -8375,
          -8385,
          -8395,
          -8405,
          -8415,
          -8425,
          -8435,
          -8445,
          -8455,
          -8465,
          -8475,
          -8485,
          -8495,
          -8505,
          -8515,
          -8525,
          -8535,
          -8545,
          -8555,
          -8565,
          -8575,
          -8585,
          -8595,
          -8605,
          -8615,
          -8625,
          -8635,
          -8645,
          -8655,
          -8665,
          -8675,
          -8685,
          -8695,
          -8705,
          -8715,
          -8725,
          -8735,
          -8745,
          -8755,
          -8765,
          -8775,
          -8785,
          -8795,
          -8805,
          -8815,
          -8825,
          -8835,
          -8845,
          -8855,
          -8865,
          -8875,
          -8885,
          -8895,
          -8905,
          -8915,
          -8925,
          -8935,
          -8945,
          -8955,
          -8965,
          -8975,
          -8985,
          -8995,
          -9005,
          -9015,
          -9025,
          -9035,
          -9045,
          -9055,
          -9065,
          -9075,
          -9085,
          -9095,
          -9105,
          -9115,
          -9125,
          -9135,
          -9145,
          -9155,
          -9165,
          -9175,
          -9185,
          -9195,
          -9205,
          -9215,
          -9225,
          -9235,
          -9245,
          -9255,
          -9265,
          -9275,
          -9285,
          -9295,
          -9305,
          -9315,
          -9325,
          -9335,
          -9345,
          -9355,
          -9365,
          -9375,
          -9385,
          -9395,
          -9405,
          -9415,
          -9425,
          -9435,
          -9445,
          -9455,
          -9465,
          -9475,
          -9485,
          -9495,
          -9505,
          -9515,
          -9525,
          -9535,
          -9545,
          -9555,
          -9565,
          -9575,
          -9585,
          -9595,
          -9605,
          -9615,
          -9625,
          -9635,
          -9645,
          -9655,
          -9665,
          -9675,
          -9685,
          -9695,
          -9705,
          -9715,
          -9725,
          -9735,
          -9745,
          -9755,
          -9765,
          -9775,
          -9785,
          -9795,
          -9805,
          -9815,
          -9825,
          -9835,
          -9845,
          -9855,
          -9865,
          -9875,
          -9885,
          -9895,
          -9905,
          -9915,
          -9925,
          -9935,
          -9945,
          -9955,
          -9965,
          -9975,
          -9985,
          -9995,
          -10005,
          -10015,
          -10025,
          -10035,
          -10045,
          -10055,
          -10065,
          -10075,
          -10085,
          -10095,
          -10105,
          -10115,
          -10125,
          -10135,
          -10145,
          -10155,
          -10165,
          -10175,
          -10185,
          -10195,
          -10205,
          -10215,
          -10225,
          -10235,
          -10245,
          -10255,
          -10265,
          -10275,
          -10285,
          -10295,
          -10305,
          -10315,
          -10325,
          -10335,
          -10345,
          -10355,
          -10365,
          -10375,
          -10385,
          -10395,
          -10405,
          -10415,
          -10425,
          -10435,
          -10445,
          -10455,
          -10465,
          -10475,
          -10485,
          -10495,
          -10505,
          -10515,
          -10525,
          -10535,
          -10545,
          -10555,
          -10565,
          -10575,
          -10585,
          -10595,
          -10605,
          -10615,
          -10625,
          -10635,
          -10645,
          -10655,
          -10665,
          -10675,
          -10685,
          -10695,
          -10705,
          -10715,
          -10725,
          -10735,
          -10745,
          -10755,
          -10765,
          -10775,
          -10785,
          -10795,
          -10805,
          -10815,
          -10825,
          -10835,
          -10845,
          -10855,
          -10865,
          -10875,
          -10885,
          -10895,
          -10905,
          -10915,
          -10925,
          -10935,
          -10945,
          -10955,
          -10965,
          -10975,
          -10985,
          -10995,
          -11005,
          -11015,
          -11025,
          -11035,
          -11045,
          -11055,
          -11065,
          -11075,
          -11085,
          -11095,
          -11105,
          -11115,
          -11125,
          -11135,
          -11145,
          -11155,
          -11165
         ],
         "type": "linear",
         "zeroline": false
        }
       }
      },
      "text/html": [
       "<div>                            <div id=\"92f6d7dc-5267-4aae-84fd-f155ae8ce1e7\" class=\"plotly-graph-div\" style=\"height:16955px; width:1000px;\"></div>            <script type=\"text/javascript\">                require([\"plotly\"], function(Plotly) {                    window.PLOTLYENV=window.PLOTLYENV || {};                                    if (document.getElementById(\"92f6d7dc-5267-4aae-84fd-f155ae8ce1e7\")) {                    Plotly.newPlot(                        \"92f6d7dc-5267-4aae-84fd-f155ae8ce1e7\",                        [{\"hoverinfo\":\"text\",\"marker\":{\"color\":\"rgb(0,116,217)\"},\"mode\":\"lines\",\"x\":[0.0,1.7690851110225414,1.7690851110225414,0.0],\"xaxis\":\"x\",\"y\":[-15.0,-15.0,-25.0,-25.0],\"yaxis\":\"y\",\"type\":\"scatter\"},{\"hoverinfo\":\"text\",\"marker\":{\"color\":\"rgb(0,116,217)\"},\"mode\":\"lines\",\"x\":[0.0,1.4043493829996376,1.4043493829996376,0.0],\"xaxis\":\"x\",\"y\":[-45.0,-45.0,-55.0,-55.0],\"yaxis\":\"y\",\"type\":\"scatter\"},{\"hoverinfo\":\"text\",\"marker\":{\"color\":\"rgb(0,116,217)\"},\"mode\":\"lines\",\"x\":[0.0,1.9370076942502013,1.9370076942502013,1.4043493829996376],\"xaxis\":\"x\",\"y\":[-35.0,-35.0,-50.0,-50.0],\"yaxis\":\"y\",\"type\":\"scatter\"},{\"hoverinfo\":\"text\",\"marker\":{\"color\":\"rgb(0,116,217)\"},\"mode\":\"lines\",\"x\":[1.7690851110225414,2.0152663507573476,2.0152663507573476,1.9370076942502013],\"xaxis\":\"x\",\"y\":[-20.0,-20.0,-42.5,-42.5],\"yaxis\":\"y\",\"type\":\"scatter\"},{\"hoverinfo\":\"text\",\"marker\":{\"color\":\"rgb(0,116,217)\"},\"mode\":\"lines\",\"x\":[0.0,2.2436277507157305,2.2436277507157305,2.0152663507573476],\"xaxis\":\"x\",\"y\":[-5.0,-5.0,-31.25,-31.25],\"yaxis\":\"y\",\"type\":\"scatter\"},{\"hoverinfo\":\"text\",\"marker\":{\"color\":\"rgb(0,116,217)\"},\"mode\":\"lines\",\"x\":[0.0,1.031170885181572,1.031170885181572,0.0],\"xaxis\":\"x\",\"y\":[-75.0,-75.0,-85.0,-85.0],\"yaxis\":\"y\",\"type\":\"scatter\"},{\"hoverinfo\":\"text\",\"marker\":{\"color\":\"rgb(0,116,217)\"},\"mode\":\"lines\",\"x\":[0.0,1.5537264009881455,1.5537264009881455,1.031170885181572],\"xaxis\":\"x\",\"y\":[-65.0,-65.0,-80.0,-80.0],\"yaxis\":\"y\",\"type\":\"scatter\"},{\"hoverinfo\":\"text\",\"marker\":{\"color\":\"rgb(0,116,217)\"},\"mode\":\"lines\",\"x\":[0.0,1.5855312096076435,1.5855312096076435,0.0],\"xaxis\":\"x\",\"y\":[-105.0,-105.0,-115.0,-115.0],\"yaxis\":\"y\",\"type\":\"scatter\"},{\"hoverinfo\":\"text\",\"marker\":{\"color\":\"rgb(0,116,217)\"},\"mode\":\"lines\",\"x\":[0.0,2.188570948729665,2.188570948729665,1.5855312096076435],\"xaxis\":\"x\",\"y\":[-95.0,-95.0,-110.0,-110.0],\"yaxis\":\"y\",\"type\":\"scatter\"},{\"hoverinfo\":\"text\",\"marker\":{\"color\":\"rgb(0,116,217)\"},\"mode\":\"lines\",\"x\":[1.5537264009881455,3.112008669069665,3.112008669069665,2.188570948729665],\"xaxis\":\"x\",\"y\":[-72.5,-72.5,-102.5,-102.5],\"yaxis\":\"y\",\"type\":\"scatter\"},{\"hoverinfo\":\"text\",\"marker\":{\"color\":\"rgb(0,116,217)\"},\"mode\":\"lines\",\"x\":[2.2436277507157305,4.069807675867115,4.069807675867115,3.112008669069665],\"xaxis\":\"x\",\"y\":[-18.125,-18.125,-87.5,-87.5],\"yaxis\":\"y\",\"type\":\"scatter\"},{\"hoverinfo\":\"text\",\"marker\":{\"color\":\"rgb(0,116,217)\"},\"mode\":\"lines\",\"x\":[0.0,1.5795855567486392,1.5795855567486392,0.0],\"xaxis\":\"x\",\"y\":[-125.0,-125.0,-135.0,-135.0],\"yaxis\":\"y\",\"type\":\"scatter\"},{\"hoverinfo\":\"text\",\"marker\":{\"color\":\"rgb(0,116,217)\"},\"mode\":\"lines\",\"x\":[0.0,1.2393378191741897,1.2393378191741897,0.0],\"xaxis\":\"x\",\"y\":[-155.0,-155.0,-165.0,-165.0],\"yaxis\":\"y\",\"type\":\"scatter\"},{\"hoverinfo\":\"text\",\"marker\":{\"color\":\"rgb(0,116,217)\"},\"mode\":\"lines\",\"x\":[0.0,1.7303801266708827,1.7303801266708827,1.2393378191741897],\"xaxis\":\"x\",\"y\":[-145.0,-145.0,-160.0,-160.0],\"yaxis\":\"y\",\"type\":\"scatter\"},{\"hoverinfo\":\"text\",\"marker\":{\"color\":\"rgb(0,116,217)\"},\"mode\":\"lines\",\"x\":[1.5795855567486392,2.389434282243081,2.389434282243081,1.7303801266708827],\"xaxis\":\"x\",\"y\":[-130.0,-130.0,-152.5,-152.5],\"yaxis\":\"y\",\"type\":\"scatter\"},{\"hoverinfo\":\"text\",\"marker\":{\"color\":\"rgb(0,116,217)\"},\"mode\":\"lines\",\"x\":[0.0,1.6291360371448875,1.6291360371448875,0.0],\"xaxis\":\"x\",\"y\":[-175.0,-175.0,-185.0,-185.0],\"yaxis\":\"y\",\"type\":\"scatter\"},{\"hoverinfo\":\"text\",\"marker\":{\"color\":\"rgb(0,116,217)\"},\"mode\":\"lines\",\"x\":[0.0,1.0662380579753015,1.0662380579753015,0.0],\"xaxis\":\"x\",\"y\":[-205.0,-205.0,-215.0,-215.0],\"yaxis\":\"y\",\"type\":\"scatter\"},{\"hoverinfo\":\"text\",\"marker\":{\"color\":\"rgb(0,116,217)\"},\"mode\":\"lines\",\"x\":[0.0,1.8397100427268211,1.8397100427268211,1.0662380579753015],\"xaxis\":\"x\",\"y\":[-195.0,-195.0,-210.0,-210.0],\"yaxis\":\"y\",\"type\":\"scatter\"},{\"hoverinfo\":\"text\",\"marker\":{\"color\":\"rgb(0,116,217)\"},\"mode\":\"lines\",\"x\":[1.6291360371448875,2.1920857560597526,2.1920857560597526,1.8397100427268211],\"xaxis\":\"x\",\"y\":[-180.0,-180.0,-202.5,-202.5],\"yaxis\":\"y\",\"type\":\"scatter\"},{\"hoverinfo\":\"text\",\"marker\":{\"color\":\"rgb(0,116,217)\"},\"mode\":\"lines\",\"x\":[0.0,1.1712156135103122,1.1712156135103122,0.0],\"xaxis\":\"x\",\"y\":[-225.0,-225.0,-235.0,-235.0],\"yaxis\":\"y\",\"type\":\"scatter\"},{\"hoverinfo\":\"text\",\"marker\":{\"color\":\"rgb(0,116,217)\"},\"mode\":\"lines\",\"x\":[0.0,1.1960549566932361,1.1960549566932361,0.0],\"xaxis\":\"x\",\"y\":[-245.0,-245.0,-255.0,-255.0],\"yaxis\":\"y\",\"type\":\"scatter\"},{\"hoverinfo\":\"text\",\"marker\":{\"color\":\"rgb(0,116,217)\"},\"mode\":\"lines\",\"x\":[1.1712156135103122,2.219009530686217,2.219009530686217,1.1960549566932361],\"xaxis\":\"x\",\"y\":[-230.0,-230.0,-250.0,-250.0],\"yaxis\":\"y\",\"type\":\"scatter\"},{\"hoverinfo\":\"text\",\"marker\":{\"color\":\"rgb(0,116,217)\"},\"mode\":\"lines\",\"x\":[2.1920857560597526,3.266052017458816,3.266052017458816,2.219009530686217],\"xaxis\":\"x\",\"y\":[-191.25,-191.25,-240.0,-240.0],\"yaxis\":\"y\",\"type\":\"scatter\"},{\"hoverinfo\":\"text\",\"marker\":{\"color\":\"rgb(0,116,217)\"},\"mode\":\"lines\",\"x\":[2.389434282243081,3.3024676344570856,3.3024676344570856,3.266052017458816],\"xaxis\":\"x\",\"y\":[-141.25,-141.25,-215.625,-215.625],\"yaxis\":\"y\",\"type\":\"scatter\"},{\"hoverinfo\":\"text\",\"marker\":{\"color\":\"rgb(0,116,217)\"},\"mode\":\"lines\",\"x\":[0.0,1.7234044377473157,1.7234044377473157,0.0],\"xaxis\":\"x\",\"y\":[-275.0,-275.0,-285.0,-285.0],\"yaxis\":\"y\",\"type\":\"scatter\"},{\"hoverinfo\":\"text\",\"marker\":{\"color\":\"rgb(0,116,217)\"},\"mode\":\"lines\",\"x\":[0.0,2.581442377796203,2.581442377796203,1.7234044377473157],\"xaxis\":\"x\",\"y\":[-265.0,-265.0,-280.0,-280.0],\"yaxis\":\"y\",\"type\":\"scatter\"},{\"hoverinfo\":\"text\",\"marker\":{\"color\":\"rgb(0,116,217)\"},\"mode\":\"lines\",\"x\":[0.0,1.0522959344869378,1.0522959344869378,0.0],\"xaxis\":\"x\",\"y\":[-305.0,-305.0,-315.0,-315.0],\"yaxis\":\"y\",\"type\":\"scatter\"},{\"hoverinfo\":\"text\",\"marker\":{\"color\":\"rgb(0,116,217)\"},\"mode\":\"lines\",\"x\":[0.0,1.8655033922178135,1.8655033922178135,1.0522959344869378],\"xaxis\":\"x\",\"y\":[-295.0,-295.0,-310.0,-310.0],\"yaxis\":\"y\",\"type\":\"scatter\"},{\"hoverinfo\":\"text\",\"marker\":{\"color\":\"rgb(0,116,217)\"},\"mode\":\"lines\",\"x\":[0.0,1.6452761578929647,1.6452761578929647,0.0],\"xaxis\":\"x\",\"y\":[-335.0,-335.0,-345.0,-345.0],\"yaxis\":\"y\",\"type\":\"scatter\"},{\"hoverinfo\":\"text\",\"marker\":{\"color\":\"rgb(0,116,217)\"},\"mode\":\"lines\",\"x\":[0.0,2.218104369748404,2.218104369748404,1.6452761578929647],\"xaxis\":\"x\",\"y\":[-325.0,-325.0,-340.0,-340.0],\"yaxis\":\"y\",\"type\":\"scatter\"},{\"hoverinfo\":\"text\",\"marker\":{\"color\":\"rgb(0,116,217)\"},\"mode\":\"lines\",\"x\":[1.8655033922178135,2.9691595883002027,2.9691595883002027,2.218104369748404],\"xaxis\":\"x\",\"y\":[-302.5,-302.5,-332.5,-332.5],\"yaxis\":\"y\",\"type\":\"scatter\"},{\"hoverinfo\":\"text\",\"marker\":{\"color\":\"rgb(0,116,217)\"},\"mode\":\"lines\",\"x\":[2.581442377796203,3.4545665928227867,3.4545665928227867,2.9691595883002027],\"xaxis\":\"x\",\"y\":[-272.5,-272.5,-317.5,-317.5],\"yaxis\":\"y\",\"type\":\"scatter\"},{\"hoverinfo\":\"text\",\"marker\":{\"color\":\"rgb(0,116,217)\"},\"mode\":\"lines\",\"x\":[3.3024676344570856,4.329450814452319,4.329450814452319,3.4545665928227867],\"xaxis\":\"x\",\"y\":[-178.4375,-178.4375,-295.0,-295.0],\"yaxis\":\"y\",\"type\":\"scatter\"},{\"hoverinfo\":\"text\",\"marker\":{\"color\":\"rgb(0,116,217)\"},\"mode\":\"lines\",\"x\":[4.069807675867115,5.850947533783507,5.850947533783507,4.329450814452319],\"xaxis\":\"x\",\"y\":[-52.8125,-52.8125,-236.71875,-236.71875],\"yaxis\":\"y\",\"type\":\"scatter\"},{\"hoverinfo\":\"text\",\"marker\":{\"color\":\"rgb(61,153,112)\"},\"mode\":\"lines\",\"x\":[0.0,0.8745502808263635,0.8745502808263635,0.0],\"xaxis\":\"x\",\"y\":[-355.0,-355.0,-365.0,-365.0],\"yaxis\":\"y\",\"type\":\"scatter\"},{\"hoverinfo\":\"text\",\"marker\":{\"color\":\"rgb(255,65,54)\"},\"mode\":\"lines\",\"x\":[0.0,0.9932151776865379,0.9932151776865379,0.0],\"xaxis\":\"x\",\"y\":[-405.0,-405.0,-415.0,-415.0],\"yaxis\":\"y\",\"type\":\"scatter\"},{\"hoverinfo\":\"text\",\"marker\":{\"color\":\"rgb(0,116,217)\"},\"mode\":\"lines\",\"x\":[0.0,1.4819172416056776,1.4819172416056776,0.9932151776865379],\"xaxis\":\"x\",\"y\":[-395.0,-395.0,-410.0,-410.0],\"yaxis\":\"y\",\"type\":\"scatter\"},{\"hoverinfo\":\"text\",\"marker\":{\"color\":\"rgb(0,116,217)\"},\"mode\":\"lines\",\"x\":[0.0,1.6104173000441164,1.6104173000441164,1.4819172416056776],\"xaxis\":\"x\",\"y\":[-385.0,-385.0,-402.5,-402.5],\"yaxis\":\"y\",\"type\":\"scatter\"},{\"hoverinfo\":\"text\",\"marker\":{\"color\":\"rgb(0,116,217)\"},\"mode\":\"lines\",\"x\":[0.0,1.7454789323434734,1.7454789323434734,1.6104173000441164],\"xaxis\":\"x\",\"y\":[-375.0,-375.0,-393.75,-393.75],\"yaxis\":\"y\",\"type\":\"scatter\"},{\"hoverinfo\":\"text\",\"marker\":{\"color\":\"rgb(0,116,217)\"},\"mode\":\"lines\",\"x\":[0.8745502808263635,1.9196125538021003,1.9196125538021003,1.7454789323434734],\"xaxis\":\"x\",\"y\":[-360.0,-360.0,-384.375,-384.375],\"yaxis\":\"y\",\"type\":\"scatter\"},{\"hoverinfo\":\"text\",\"marker\":{\"color\":\"rgb(35,205,205)\"},\"mode\":\"lines\",\"x\":[0.0,0.7951530603281535,0.7951530603281535,0.0],\"xaxis\":\"x\",\"y\":[-425.0,-425.0,-435.0,-435.0],\"yaxis\":\"y\",\"type\":\"scatter\"},{\"hoverinfo\":\"text\",\"marker\":{\"color\":\"rgb(133,20,75)\"},\"mode\":\"lines\",\"x\":[0.0,0.9187643159511629,0.9187643159511629,0.0],\"xaxis\":\"x\",\"y\":[-445.0,-445.0,-455.0,-455.0],\"yaxis\":\"y\",\"type\":\"scatter\"},{\"hoverinfo\":\"text\",\"marker\":{\"color\":\"rgb(0,116,217)\"},\"mode\":\"lines\",\"x\":[0.7951530603281535,1.9744078552589595,1.9744078552589595,0.9187643159511629],\"xaxis\":\"x\",\"y\":[-430.0,-430.0,-450.0,-450.0],\"yaxis\":\"y\",\"type\":\"scatter\"},{\"hoverinfo\":\"text\",\"marker\":{\"color\":\"rgb(0,116,217)\"},\"mode\":\"lines\",\"x\":[1.9196125538021003,2.735752234711384,2.735752234711384,1.9744078552589595],\"xaxis\":\"x\",\"y\":[-372.1875,-372.1875,-440.0,-440.0],\"yaxis\":\"y\",\"type\":\"scatter\"},{\"hoverinfo\":\"text\",\"marker\":{\"color\":\"rgb(0,116,217)\"},\"mode\":\"lines\",\"x\":[0.0,1.293578826169586,1.293578826169586,0.0],\"xaxis\":\"x\",\"y\":[-465.0,-465.0,-475.0,-475.0],\"yaxis\":\"y\",\"type\":\"scatter\"},{\"hoverinfo\":\"text\",\"marker\":{\"color\":\"rgb(0,116,217)\"},\"mode\":\"lines\",\"x\":[0.0,1.1788953059361351,1.1788953059361351,0.0],\"xaxis\":\"x\",\"y\":[-485.0,-485.0,-495.0,-495.0],\"yaxis\":\"y\",\"type\":\"scatter\"},{\"hoverinfo\":\"text\",\"marker\":{\"color\":\"rgb(0,116,217)\"},\"mode\":\"lines\",\"x\":[0.0,1.5365588971810733,1.5365588971810733,0.0],\"xaxis\":\"x\",\"y\":[-505.0,-505.0,-515.0,-515.0],\"yaxis\":\"y\",\"type\":\"scatter\"},{\"hoverinfo\":\"text\",\"marker\":{\"color\":\"rgb(0,116,217)\"},\"mode\":\"lines\",\"x\":[1.1788953059361351,2.1102827871744094,2.1102827871744094,1.5365588971810733],\"xaxis\":\"x\",\"y\":[-490.0,-490.0,-510.0,-510.0],\"yaxis\":\"y\",\"type\":\"scatter\"},{\"hoverinfo\":\"text\",\"marker\":{\"color\":\"rgb(0,116,217)\"},\"mode\":\"lines\",\"x\":[1.293578826169586,2.7896591002434423,2.7896591002434423,2.1102827871744094],\"xaxis\":\"x\",\"y\":[-470.0,-470.0,-500.0,-500.0],\"yaxis\":\"y\",\"type\":\"scatter\"},{\"hoverinfo\":\"text\",\"marker\":{\"color\":\"rgb(0,116,217)\"},\"mode\":\"lines\",\"x\":[0.0,1.9339981705114024,1.9339981705114024,0.0],\"xaxis\":\"x\",\"y\":[-525.0,-525.0,-535.0,-535.0],\"yaxis\":\"y\",\"type\":\"scatter\"},{\"hoverinfo\":\"text\",\"marker\":{\"color\":\"rgb(0,116,217)\"},\"mode\":\"lines\",\"x\":[0.0,1.304890727445243,1.304890727445243,0.0],\"xaxis\":\"x\",\"y\":[-545.0,-545.0,-555.0,-555.0],\"yaxis\":\"y\",\"type\":\"scatter\"},{\"hoverinfo\":\"text\",\"marker\":{\"color\":\"rgb(0,116,217)\"},\"mode\":\"lines\",\"x\":[0.0,1.3814305157644804,1.3814305157644804,0.0],\"xaxis\":\"x\",\"y\":[-565.0,-565.0,-575.0,-575.0],\"yaxis\":\"y\",\"type\":\"scatter\"},{\"hoverinfo\":\"text\",\"marker\":{\"color\":\"rgb(0,116,217)\"},\"mode\":\"lines\",\"x\":[0.0,1.8455093999145316,1.8455093999145316,0.0],\"xaxis\":\"x\",\"y\":[-585.0,-585.0,-595.0,-595.0],\"yaxis\":\"y\",\"type\":\"scatter\"},{\"hoverinfo\":\"text\",\"marker\":{\"color\":\"rgb(0,116,217)\"},\"mode\":\"lines\",\"x\":[1.3814305157644804,2.0393540983939356,2.0393540983939356,1.8455093999145316],\"xaxis\":\"x\",\"y\":[-570.0,-570.0,-590.0,-590.0],\"yaxis\":\"y\",\"type\":\"scatter\"},{\"hoverinfo\":\"text\",\"marker\":{\"color\":\"rgb(0,116,217)\"},\"mode\":\"lines\",\"x\":[1.304890727445243,2.306293135526304,2.306293135526304,2.0393540983939356],\"xaxis\":\"x\",\"y\":[-550.0,-550.0,-580.0,-580.0],\"yaxis\":\"y\",\"type\":\"scatter\"},{\"hoverinfo\":\"text\",\"marker\":{\"color\":\"rgb(0,116,217)\"},\"mode\":\"lines\",\"x\":[1.9339981705114024,2.887566843409518,2.887566843409518,2.306293135526304],\"xaxis\":\"x\",\"y\":[-530.0,-530.0,-565.0,-565.0],\"yaxis\":\"y\",\"type\":\"scatter\"},{\"hoverinfo\":\"text\",\"marker\":{\"color\":\"rgb(0,116,217)\"},\"mode\":\"lines\",\"x\":[2.7896591002434423,3.4029468904303926,3.4029468904303926,2.887566843409518],\"xaxis\":\"x\",\"y\":[-485.0,-485.0,-547.5,-547.5],\"yaxis\":\"y\",\"type\":\"scatter\"},{\"hoverinfo\":\"text\",\"marker\":{\"color\":\"rgb(0,116,217)\"},\"mode\":\"lines\",\"x\":[2.735752234711384,4.717478184777449,4.717478184777449,3.4029468904303926],\"xaxis\":\"x\",\"y\":[-406.09375,-406.09375,-516.25,-516.25],\"yaxis\":\"y\",\"type\":\"scatter\"},{\"hoverinfo\":\"text\",\"marker\":{\"color\":\"rgb(0,116,217)\"},\"mode\":\"lines\",\"x\":[0.0,1.3882486934894962,1.3882486934894962,0.0],\"xaxis\":\"x\",\"y\":[-605.0,-605.0,-615.0,-615.0],\"yaxis\":\"y\",\"type\":\"scatter\"},{\"hoverinfo\":\"text\",\"marker\":{\"color\":\"rgb(0,116,217)\"},\"mode\":\"lines\",\"x\":[0.0,1.4720685420830457,1.4720685420830457,0.0],\"xaxis\":\"x\",\"y\":[-635.0,-635.0,-645.0,-645.0],\"yaxis\":\"y\",\"type\":\"scatter\"},{\"hoverinfo\":\"text\",\"marker\":{\"color\":\"rgb(0,116,217)\"},\"mode\":\"lines\",\"x\":[0.0,1.8930887247426824,1.8930887247426824,1.4720685420830457],\"xaxis\":\"x\",\"y\":[-625.0,-625.0,-640.0,-640.0],\"yaxis\":\"y\",\"type\":\"scatter\"},{\"hoverinfo\":\"text\",\"marker\":{\"color\":\"rgb(0,116,217)\"},\"mode\":\"lines\",\"x\":[1.3882486934894962,2.213874385176897,2.213874385176897,1.8930887247426824],\"xaxis\":\"x\",\"y\":[-610.0,-610.0,-632.5,-632.5],\"yaxis\":\"y\",\"type\":\"scatter\"},{\"hoverinfo\":\"text\",\"marker\":{\"color\":\"rgb(255,220,0)\"},\"mode\":\"lines\",\"x\":[0.0,0.7187910218018336,0.7187910218018336,0.0],\"xaxis\":\"x\",\"y\":[-665.0,-665.0,-675.0,-675.0],\"yaxis\":\"y\",\"type\":\"scatter\"},{\"hoverinfo\":\"text\",\"marker\":{\"color\":\"rgb(0,116,217)\"},\"mode\":\"lines\",\"x\":[0.0,1.0187695597027082,1.0187695597027082,0.7187910218018336],\"xaxis\":\"x\",\"y\":[-655.0,-655.0,-670.0,-670.0],\"yaxis\":\"y\",\"type\":\"scatter\"},{\"hoverinfo\":\"text\",\"marker\":{\"color\":\"rgb(40,35,35)\"},\"mode\":\"lines\",\"x\":[0.0,0.5147674505138189,0.5147674505138189,0.0],\"xaxis\":\"x\",\"y\":[-685.0,-685.0,-695.0,-695.0],\"yaxis\":\"y\",\"type\":\"scatter\"},{\"hoverinfo\":\"text\",\"marker\":{\"color\":\"rgb(0,116,217)\"},\"mode\":\"lines\",\"x\":[0.0,1.4267640793012453,1.4267640793012453,0.0],\"xaxis\":\"x\",\"y\":[-705.0,-705.0,-715.0,-715.0],\"yaxis\":\"y\",\"type\":\"scatter\"},{\"hoverinfo\":\"text\",\"marker\":{\"color\":\"rgb(0,116,217)\"},\"mode\":\"lines\",\"x\":[0.5147674505138189,1.8806449439017854,1.8806449439017854,1.4267640793012453],\"xaxis\":\"x\",\"y\":[-690.0,-690.0,-710.0,-710.0],\"yaxis\":\"y\",\"type\":\"scatter\"},{\"hoverinfo\":\"text\",\"marker\":{\"color\":\"rgb(0,116,217)\"},\"mode\":\"lines\",\"x\":[1.0187695597027082,3.228141348219605,3.228141348219605,1.8806449439017854],\"xaxis\":\"x\",\"y\":[-662.5,-662.5,-700.0,-700.0],\"yaxis\":\"y\",\"type\":\"scatter\"},{\"hoverinfo\":\"text\",\"marker\":{\"color\":\"rgb(0,116,217)\"},\"mode\":\"lines\",\"x\":[2.213874385176897,3.6136220091292457,3.6136220091292457,3.228141348219605],\"xaxis\":\"x\",\"y\":[-621.25,-621.25,-681.25,-681.25],\"yaxis\":\"y\",\"type\":\"scatter\"},{\"hoverinfo\":\"text\",\"marker\":{\"color\":\"rgb(0,116,217)\"},\"mode\":\"lines\",\"x\":[0.0,1.3945006095007126,1.3945006095007126,0.0],\"xaxis\":\"x\",\"y\":[-745.0,-745.0,-755.0,-755.0],\"yaxis\":\"y\",\"type\":\"scatter\"},{\"hoverinfo\":\"text\",\"marker\":{\"color\":\"rgb(0,116,217)\"},\"mode\":\"lines\",\"x\":[0.0,1.470713381816478,1.470713381816478,1.3945006095007126],\"xaxis\":\"x\",\"y\":[-735.0,-735.0,-750.0,-750.0],\"yaxis\":\"y\",\"type\":\"scatter\"},{\"hoverinfo\":\"text\",\"marker\":{\"color\":\"rgb(0,116,217)\"},\"mode\":\"lines\",\"x\":[0.0,1.8297396365191894,1.8297396365191894,1.470713381816478],\"xaxis\":\"x\",\"y\":[-725.0,-725.0,-742.5,-742.5],\"yaxis\":\"y\",\"type\":\"scatter\"},{\"hoverinfo\":\"text\",\"marker\":{\"color\":\"rgb(0,116,217)\"},\"mode\":\"lines\",\"x\":[0.0,1.254437495568665,1.254437495568665,0.0],\"xaxis\":\"x\",\"y\":[-765.0,-765.0,-775.0,-775.0],\"yaxis\":\"y\",\"type\":\"scatter\"},{\"hoverinfo\":\"text\",\"marker\":{\"color\":\"rgb(0,116,217)\"},\"mode\":\"lines\",\"x\":[0.0,1.313255736215619,1.313255736215619,0.0],\"xaxis\":\"x\",\"y\":[-805.0,-805.0,-815.0,-815.0],\"yaxis\":\"y\",\"type\":\"scatter\"},{\"hoverinfo\":\"text\",\"marker\":{\"color\":\"rgb(0,116,217)\"},\"mode\":\"lines\",\"x\":[0.0,1.5873833132476312,1.5873833132476312,1.313255736215619],\"xaxis\":\"x\",\"y\":[-795.0,-795.0,-810.0,-810.0],\"yaxis\":\"y\",\"type\":\"scatter\"},{\"hoverinfo\":\"text\",\"marker\":{\"color\":\"rgb(0,116,217)\"},\"mode\":\"lines\",\"x\":[0.0,2.055776247495559,2.055776247495559,1.5873833132476312],\"xaxis\":\"x\",\"y\":[-785.0,-785.0,-802.5,-802.5],\"yaxis\":\"y\",\"type\":\"scatter\"},{\"hoverinfo\":\"text\",\"marker\":{\"color\":\"rgb(0,116,217)\"},\"mode\":\"lines\",\"x\":[1.254437495568665,2.4155859773334436,2.4155859773334436,2.055776247495559],\"xaxis\":\"x\",\"y\":[-770.0,-770.0,-793.75,-793.75],\"yaxis\":\"y\",\"type\":\"scatter\"},{\"hoverinfo\":\"text\",\"marker\":{\"color\":\"rgb(0,116,217)\"},\"mode\":\"lines\",\"x\":[1.8297396365191894,2.7489365742277982,2.7489365742277982,2.4155859773334436],\"xaxis\":\"x\",\"y\":[-733.75,-733.75,-781.875,-781.875],\"yaxis\":\"y\",\"type\":\"scatter\"},{\"hoverinfo\":\"text\",\"marker\":{\"color\":\"rgb(0,116,217)\"},\"mode\":\"lines\",\"x\":[0.0,1.6045180923404045,1.6045180923404045,0.0],\"xaxis\":\"x\",\"y\":[-845.0,-845.0,-855.0,-855.0],\"yaxis\":\"y\",\"type\":\"scatter\"},{\"hoverinfo\":\"text\",\"marker\":{\"color\":\"rgb(0,116,217)\"},\"mode\":\"lines\",\"x\":[0.0,1.6591112471826135,1.6591112471826135,1.6045180923404045],\"xaxis\":\"x\",\"y\":[-835.0,-835.0,-850.0,-850.0],\"yaxis\":\"y\",\"type\":\"scatter\"},{\"hoverinfo\":\"text\",\"marker\":{\"color\":\"rgb(0,116,217)\"},\"mode\":\"lines\",\"x\":[0.0,1.906485536149071,1.906485536149071,1.6591112471826135],\"xaxis\":\"x\",\"y\":[-825.0,-825.0,-842.5,-842.5],\"yaxis\":\"y\",\"type\":\"scatter\"},{\"hoverinfo\":\"text\",\"marker\":{\"color\":\"rgb(0,116,217)\"},\"mode\":\"lines\",\"x\":[0.0,1.2387601304922131,1.2387601304922131,0.0],\"xaxis\":\"x\",\"y\":[-875.0,-875.0,-885.0,-885.0],\"yaxis\":\"y\",\"type\":\"scatter\"},{\"hoverinfo\":\"text\",\"marker\":{\"color\":\"rgb(0,116,217)\"},\"mode\":\"lines\",\"x\":[0.0,1.5464804054658379,1.5464804054658379,1.2387601304922131],\"xaxis\":\"x\",\"y\":[-865.0,-865.0,-880.0,-880.0],\"yaxis\":\"y\",\"type\":\"scatter\"},{\"hoverinfo\":\"text\",\"marker\":{\"color\":\"rgb(0,116,217)\"},\"mode\":\"lines\",\"x\":[0.0,1.7925932727859104,1.7925932727859104,0.0],\"xaxis\":\"x\",\"y\":[-895.0,-895.0,-905.0,-905.0],\"yaxis\":\"y\",\"type\":\"scatter\"},{\"hoverinfo\":\"text\",\"marker\":{\"color\":\"rgb(0,116,217)\"},\"mode\":\"lines\",\"x\":[0.0,1.8051248497514358,1.8051248497514358,0.0],\"xaxis\":\"x\",\"y\":[-915.0,-915.0,-925.0,-925.0],\"yaxis\":\"y\",\"type\":\"scatter\"},{\"hoverinfo\":\"text\",\"marker\":{\"color\":\"rgb(0,116,217)\"},\"mode\":\"lines\",\"x\":[1.7925932727859104,2.144135216624459,2.144135216624459,1.8051248497514358],\"xaxis\":\"x\",\"y\":[-900.0,-900.0,-920.0,-920.0],\"yaxis\":\"y\",\"type\":\"scatter\"},{\"hoverinfo\":\"text\",\"marker\":{\"color\":\"rgb(0,116,217)\"},\"mode\":\"lines\",\"x\":[1.5464804054658379,2.5109692628159186,2.5109692628159186,2.144135216624459],\"xaxis\":\"x\",\"y\":[-872.5,-872.5,-910.0,-910.0],\"yaxis\":\"y\",\"type\":\"scatter\"},{\"hoverinfo\":\"text\",\"marker\":{\"color\":\"rgb(0,116,217)\"},\"mode\":\"lines\",\"x\":[1.906485536149071,3.0430673325956787,3.0430673325956787,2.5109692628159186],\"xaxis\":\"x\",\"y\":[-833.75,-833.75,-891.25,-891.25],\"yaxis\":\"y\",\"type\":\"scatter\"},{\"hoverinfo\":\"text\",\"marker\":{\"color\":\"rgb(0,116,217)\"},\"mode\":\"lines\",\"x\":[2.7489365742277982,3.688611500466575,3.688611500466575,3.0430673325956787],\"xaxis\":\"x\",\"y\":[-757.8125,-757.8125,-862.5,-862.5],\"yaxis\":\"y\",\"type\":\"scatter\"},{\"hoverinfo\":\"text\",\"marker\":{\"color\":\"rgb(0,116,217)\"},\"mode\":\"lines\",\"x\":[3.6136220091292457,5.066266295780716,5.066266295780716,3.688611500466575],\"xaxis\":\"x\",\"y\":[-651.25,-651.25,-810.15625,-810.15625],\"yaxis\":\"y\",\"type\":\"scatter\"},{\"hoverinfo\":\"text\",\"marker\":{\"color\":\"rgb(0,116,217)\"},\"mode\":\"lines\",\"x\":[4.717478184777449,6.722009815365189,6.722009815365189,5.066266295780716],\"xaxis\":\"x\",\"y\":[-461.171875,-461.171875,-730.703125,-730.703125],\"yaxis\":\"y\",\"type\":\"scatter\"},{\"hoverinfo\":\"text\",\"marker\":{\"color\":\"rgb(0,116,217)\"},\"mode\":\"lines\",\"x\":[5.850947533783507,11.765229850831618,11.765229850831618,6.722009815365189],\"xaxis\":\"x\",\"y\":[-144.765625,-144.765625,-595.9375,-595.9375],\"yaxis\":\"y\",\"type\":\"scatter\"},{\"hoverinfo\":\"text\",\"marker\":{\"color\":\"rgb(0,116,217)\"},\"mode\":\"lines\",\"x\":[0.0,1.666138475058354,1.666138475058354,0.0],\"xaxis\":\"x\",\"y\":[-945.0,-945.0,-955.0,-955.0],\"yaxis\":\"y\",\"type\":\"scatter\"},{\"hoverinfo\":\"text\",\"marker\":{\"color\":\"rgb(0,116,217)\"},\"mode\":\"lines\",\"x\":[0.0,2.2339577086582185,2.2339577086582185,1.666138475058354],\"xaxis\":\"x\",\"y\":[-935.0,-935.0,-950.0,-950.0],\"yaxis\":\"y\",\"type\":\"scatter\"},{\"hoverinfo\":\"text\",\"marker\":{\"color\":\"rgb(61,153,112)\"},\"mode\":\"lines\",\"x\":[0.0,0.7400463790779871,0.7400463790779871,0.0],\"xaxis\":\"x\",\"y\":[-965.0,-965.0,-975.0,-975.0],\"yaxis\":\"y\",\"type\":\"scatter\"},{\"hoverinfo\":\"text\",\"marker\":{\"color\":\"rgb(0,116,217)\"},\"mode\":\"lines\",\"x\":[0.0,1.9177367037786195,1.9177367037786195,0.0],\"xaxis\":\"x\",\"y\":[-985.0,-985.0,-995.0,-995.0],\"yaxis\":\"y\",\"type\":\"scatter\"},{\"hoverinfo\":\"text\",\"marker\":{\"color\":\"rgb(0,116,217)\"},\"mode\":\"lines\",\"x\":[0.7400463790779871,2.99491323001465,2.99491323001465,1.9177367037786195],\"xaxis\":\"x\",\"y\":[-970.0,-970.0,-990.0,-990.0],\"yaxis\":\"y\",\"type\":\"scatter\"},{\"hoverinfo\":\"text\",\"marker\":{\"color\":\"rgb(0,116,217)\"},\"mode\":\"lines\",\"x\":[2.2339577086582185,3.385289877598643,3.385289877598643,2.99491323001465],\"xaxis\":\"x\",\"y\":[-942.5,-942.5,-980.0,-980.0],\"yaxis\":\"y\",\"type\":\"scatter\"},{\"hoverinfo\":\"text\",\"marker\":{\"color\":\"rgb(255,65,54)\"},\"mode\":\"lines\",\"x\":[0.0,1.7879898292568235e-06,1.7879898292568235e-06,0.0],\"xaxis\":\"x\",\"y\":[-1015.0,-1015.0,-1025.0,-1025.0],\"yaxis\":\"y\",\"type\":\"scatter\"},{\"hoverinfo\":\"text\",\"marker\":{\"color\":\"rgb(0,116,217)\"},\"mode\":\"lines\",\"x\":[0.0,1.0820335674291464,1.0820335674291464,1.7879898292568235e-06],\"xaxis\":\"x\",\"y\":[-1005.0,-1005.0,-1020.0,-1020.0],\"yaxis\":\"y\",\"type\":\"scatter\"},{\"hoverinfo\":\"text\",\"marker\":{\"color\":\"rgb(0,116,217)\"},\"mode\":\"lines\",\"x\":[0.0,1.5413295054639407,1.5413295054639407,0.0],\"xaxis\":\"x\",\"y\":[-1055.0,-1055.0,-1065.0,-1065.0],\"yaxis\":\"y\",\"type\":\"scatter\"},{\"hoverinfo\":\"text\",\"marker\":{\"color\":\"rgb(0,116,217)\"},\"mode\":\"lines\",\"x\":[0.0,1.6613871939343634,1.6613871939343634,1.5413295054639407],\"xaxis\":\"x\",\"y\":[-1045.0,-1045.0,-1060.0,-1060.0],\"yaxis\":\"y\",\"type\":\"scatter\"},{\"hoverinfo\":\"text\",\"marker\":{\"color\":\"rgb(0,116,217)\"},\"mode\":\"lines\",\"x\":[0.0,1.9767619341668707,1.9767619341668707,1.6613871939343634],\"xaxis\":\"x\",\"y\":[-1035.0,-1035.0,-1052.5,-1052.5],\"yaxis\":\"y\",\"type\":\"scatter\"},{\"hoverinfo\":\"text\",\"marker\":{\"color\":\"rgb(0,116,217)\"},\"mode\":\"lines\",\"x\":[0.0,1.6994827498520517,1.6994827498520517,0.0],\"xaxis\":\"x\",\"y\":[-1075.0,-1075.0,-1085.0,-1085.0],\"yaxis\":\"y\",\"type\":\"scatter\"},{\"hoverinfo\":\"text\",\"marker\":{\"color\":\"rgb(0,116,217)\"},\"mode\":\"lines\",\"x\":[0.0,1.624802811808605,1.624802811808605,0.0],\"xaxis\":\"x\",\"y\":[-1095.0,-1095.0,-1105.0,-1105.0],\"yaxis\":\"y\",\"type\":\"scatter\"},{\"hoverinfo\":\"text\",\"marker\":{\"color\":\"rgb(0,116,217)\"},\"mode\":\"lines\",\"x\":[0.0,1.4199024163901586,1.4199024163901586,0.0],\"xaxis\":\"x\",\"y\":[-1135.0,-1135.0,-1145.0,-1145.0],\"yaxis\":\"y\",\"type\":\"scatter\"},{\"hoverinfo\":\"text\",\"marker\":{\"color\":\"rgb(0,116,217)\"},\"mode\":\"lines\",\"x\":[0.0,1.8572853086960313,1.8572853086960313,1.4199024163901586],\"xaxis\":\"x\",\"y\":[-1125.0,-1125.0,-1140.0,-1140.0],\"yaxis\":\"y\",\"type\":\"scatter\"},{\"hoverinfo\":\"text\",\"marker\":{\"color\":\"rgb(0,116,217)\"},\"mode\":\"lines\",\"x\":[0.0,2.098807948096675,2.098807948096675,1.8572853086960313],\"xaxis\":\"x\",\"y\":[-1115.0,-1115.0,-1132.5,-1132.5],\"yaxis\":\"y\",\"type\":\"scatter\"},{\"hoverinfo\":\"text\",\"marker\":{\"color\":\"rgb(0,116,217)\"},\"mode\":\"lines\",\"x\":[1.624802811808605,2.476319636676194,2.476319636676194,2.098807948096675],\"xaxis\":\"x\",\"y\":[-1100.0,-1100.0,-1123.75,-1123.75],\"yaxis\":\"y\",\"type\":\"scatter\"},{\"hoverinfo\":\"text\",\"marker\":{\"color\":\"rgb(0,116,217)\"},\"mode\":\"lines\",\"x\":[1.6994827498520517,2.5680939766404443,2.5680939766404443,2.476319636676194],\"xaxis\":\"x\",\"y\":[-1080.0,-1080.0,-1111.875,-1111.875],\"yaxis\":\"y\",\"type\":\"scatter\"},{\"hoverinfo\":\"text\",\"marker\":{\"color\":\"rgb(0,116,217)\"},\"mode\":\"lines\",\"x\":[1.9767619341668707,2.8275919777207914,2.8275919777207914,2.5680939766404443],\"xaxis\":\"x\",\"y\":[-1043.75,-1043.75,-1095.9375,-1095.9375],\"yaxis\":\"y\",\"type\":\"scatter\"},{\"hoverinfo\":\"text\",\"marker\":{\"color\":\"rgb(0,116,217)\"},\"mode\":\"lines\",\"x\":[1.0820335674291464,3.022231425051251,3.022231425051251,2.8275919777207914],\"xaxis\":\"x\",\"y\":[-1012.5,-1012.5,-1069.84375,-1069.84375],\"yaxis\":\"y\",\"type\":\"scatter\"},{\"hoverinfo\":\"text\",\"marker\":{\"color\":\"rgb(0,116,217)\"},\"mode\":\"lines\",\"x\":[0.0,1.7534375649359728,1.7534375649359728,0.0],\"xaxis\":\"x\",\"y\":[-1165.0,-1165.0,-1175.0,-1175.0],\"yaxis\":\"y\",\"type\":\"scatter\"},{\"hoverinfo\":\"text\",\"marker\":{\"color\":\"rgb(0,116,217)\"},\"mode\":\"lines\",\"x\":[0.0,2.0497621045152132,2.0497621045152132,1.7534375649359728],\"xaxis\":\"x\",\"y\":[-1155.0,-1155.0,-1170.0,-1170.0],\"yaxis\":\"y\",\"type\":\"scatter\"},{\"hoverinfo\":\"text\",\"marker\":{\"color\":\"rgb(0,116,217)\"},\"mode\":\"lines\",\"x\":[0.0,1.76688756747455,1.76688756747455,0.0],\"xaxis\":\"x\",\"y\":[-1185.0,-1185.0,-1195.0,-1195.0],\"yaxis\":\"y\",\"type\":\"scatter\"},{\"hoverinfo\":\"text\",\"marker\":{\"color\":\"rgb(0,116,217)\"},\"mode\":\"lines\",\"x\":[0.0,2.019469733503593,2.019469733503593,0.0],\"xaxis\":\"x\",\"y\":[-1205.0,-1205.0,-1215.0,-1215.0],\"yaxis\":\"y\",\"type\":\"scatter\"},{\"hoverinfo\":\"text\",\"marker\":{\"color\":\"rgb(0,116,217)\"},\"mode\":\"lines\",\"x\":[1.76688756747455,2.4437651605178647,2.4437651605178647,2.019469733503593],\"xaxis\":\"x\",\"y\":[-1190.0,-1190.0,-1210.0,-1210.0],\"yaxis\":\"y\",\"type\":\"scatter\"},{\"hoverinfo\":\"text\",\"marker\":{\"color\":\"rgb(0,116,217)\"},\"mode\":\"lines\",\"x\":[2.0497621045152132,3.0675821271479413,3.0675821271479413,2.4437651605178647],\"xaxis\":\"x\",\"y\":[-1162.5,-1162.5,-1200.0,-1200.0],\"yaxis\":\"y\",\"type\":\"scatter\"},{\"hoverinfo\":\"text\",\"marker\":{\"color\":\"rgb(0,116,217)\"},\"mode\":\"lines\",\"x\":[0.0,1.648608240423123,1.648608240423123,0.0],\"xaxis\":\"x\",\"y\":[-1255.0,-1255.0,-1265.0,-1265.0],\"yaxis\":\"y\",\"type\":\"scatter\"},{\"hoverinfo\":\"text\",\"marker\":{\"color\":\"rgb(0,116,217)\"},\"mode\":\"lines\",\"x\":[0.0,1.9571487335232083,1.9571487335232083,1.648608240423123],\"xaxis\":\"x\",\"y\":[-1245.0,-1245.0,-1260.0,-1260.0],\"yaxis\":\"y\",\"type\":\"scatter\"},{\"hoverinfo\":\"text\",\"marker\":{\"color\":\"rgb(0,116,217)\"},\"mode\":\"lines\",\"x\":[0.0,2.2556045478783875,2.2556045478783875,1.9571487335232083],\"xaxis\":\"x\",\"y\":[-1235.0,-1235.0,-1252.5,-1252.5],\"yaxis\":\"y\",\"type\":\"scatter\"},{\"hoverinfo\":\"text\",\"marker\":{\"color\":\"rgb(0,116,217)\"},\"mode\":\"lines\",\"x\":[0.0,2.5785317914755703,2.5785317914755703,2.2556045478783875],\"xaxis\":\"x\",\"y\":[-1225.0,-1225.0,-1243.75,-1243.75],\"yaxis\":\"y\",\"type\":\"scatter\"},{\"hoverinfo\":\"text\",\"marker\":{\"color\":\"rgb(0,116,217)\"},\"mode\":\"lines\",\"x\":[0.0,1.3156144817651843,1.3156144817651843,0.0],\"xaxis\":\"x\",\"y\":[-1275.0,-1275.0,-1285.0,-1285.0],\"yaxis\":\"y\",\"type\":\"scatter\"},{\"hoverinfo\":\"text\",\"marker\":{\"color\":\"rgb(0,116,217)\"},\"mode\":\"lines\",\"x\":[0.0,2.107579847395991,2.107579847395991,0.0],\"xaxis\":\"x\",\"y\":[-1295.0,-1295.0,-1305.0,-1305.0],\"yaxis\":\"y\",\"type\":\"scatter\"},{\"hoverinfo\":\"text\",\"marker\":{\"color\":\"rgb(0,116,217)\"},\"mode\":\"lines\",\"x\":[1.3156144817651843,2.6135526814389003,2.6135526814389003,2.107579847395991],\"xaxis\":\"x\",\"y\":[-1280.0,-1280.0,-1300.0,-1300.0],\"yaxis\":\"y\",\"type\":\"scatter\"},{\"hoverinfo\":\"text\",\"marker\":{\"color\":\"rgb(0,116,217)\"},\"mode\":\"lines\",\"x\":[2.5785317914755703,3.1453705268696184,3.1453705268696184,2.6135526814389003],\"xaxis\":\"x\",\"y\":[-1234.375,-1234.375,-1290.0,-1290.0],\"yaxis\":\"y\",\"type\":\"scatter\"},{\"hoverinfo\":\"text\",\"marker\":{\"color\":\"rgb(0,116,217)\"},\"mode\":\"lines\",\"x\":[3.0675821271479413,3.9397875929595885,3.9397875929595885,3.1453705268696184],\"xaxis\":\"x\",\"y\":[-1181.25,-1181.25,-1262.1875,-1262.1875],\"yaxis\":\"y\",\"type\":\"scatter\"},{\"hoverinfo\":\"text\",\"marker\":{\"color\":\"rgb(0,116,217)\"},\"mode\":\"lines\",\"x\":[3.022231425051251,4.775915810842496,4.775915810842496,3.9397875929595885],\"xaxis\":\"x\",\"y\":[-1041.171875,-1041.171875,-1221.71875,-1221.71875],\"yaxis\":\"y\",\"type\":\"scatter\"},{\"hoverinfo\":\"text\",\"marker\":{\"color\":\"rgb(0,116,217)\"},\"mode\":\"lines\",\"x\":[3.385289877598643,5.810603331556095,5.810603331556095,4.775915810842496],\"xaxis\":\"x\",\"y\":[-961.25,-961.25,-1131.4453125,-1131.4453125],\"yaxis\":\"y\",\"type\":\"scatter\"},{\"hoverinfo\":\"text\",\"marker\":{\"color\":\"rgb(0,116,217)\"},\"mode\":\"lines\",\"x\":[0.0,1.3830294432510155,1.3830294432510155,0.0],\"xaxis\":\"x\",\"y\":[-1325.0,-1325.0,-1335.0,-1335.0],\"yaxis\":\"y\",\"type\":\"scatter\"},{\"hoverinfo\":\"text\",\"marker\":{\"color\":\"rgb(0,116,217)\"},\"mode\":\"lines\",\"x\":[0.0,1.6714624853882705,1.6714624853882705,1.3830294432510155],\"xaxis\":\"x\",\"y\":[-1315.0,-1315.0,-1330.0,-1330.0],\"yaxis\":\"y\",\"type\":\"scatter\"},{\"hoverinfo\":\"text\",\"marker\":{\"color\":\"rgb(0,116,217)\"},\"mode\":\"lines\",\"x\":[0.0,2.545805904856598,2.545805904856598,0.0],\"xaxis\":\"x\",\"y\":[-1345.0,-1345.0,-1355.0,-1355.0],\"yaxis\":\"y\",\"type\":\"scatter\"},{\"hoverinfo\":\"text\",\"marker\":{\"color\":\"rgb(0,116,217)\"},\"mode\":\"lines\",\"x\":[1.6714624853882705,3.8994088117660035,3.8994088117660035,2.545805904856598],\"xaxis\":\"x\",\"y\":[-1322.5,-1322.5,-1350.0,-1350.0],\"yaxis\":\"y\",\"type\":\"scatter\"},{\"hoverinfo\":\"text\",\"marker\":{\"color\":\"rgb(0,116,217)\"},\"mode\":\"lines\",\"x\":[0.0,1.6023371570159357,1.6023371570159357,0.0],\"xaxis\":\"x\",\"y\":[-1375.0,-1375.0,-1385.0,-1385.0],\"yaxis\":\"y\",\"type\":\"scatter\"},{\"hoverinfo\":\"text\",\"marker\":{\"color\":\"rgb(0,116,217)\"},\"mode\":\"lines\",\"x\":[0.0,2.0633425046642166,2.0633425046642166,1.6023371570159357],\"xaxis\":\"x\",\"y\":[-1365.0,-1365.0,-1380.0,-1380.0],\"yaxis\":\"y\",\"type\":\"scatter\"},{\"hoverinfo\":\"text\",\"marker\":{\"color\":\"rgb(0,116,217)\"},\"mode\":\"lines\",\"x\":[0.0,1.6161664282073123,1.6161664282073123,0.0],\"xaxis\":\"x\",\"y\":[-1395.0,-1395.0,-1405.0,-1405.0],\"yaxis\":\"y\",\"type\":\"scatter\"},{\"hoverinfo\":\"text\",\"marker\":{\"color\":\"rgb(0,116,217)\"},\"mode\":\"lines\",\"x\":[0.0,1.9647183328944917,1.9647183328944917,0.0],\"xaxis\":\"x\",\"y\":[-1415.0,-1415.0,-1425.0,-1425.0],\"yaxis\":\"y\",\"type\":\"scatter\"},{\"hoverinfo\":\"text\",\"marker\":{\"color\":\"rgb(0,116,217)\"},\"mode\":\"lines\",\"x\":[1.6161664282073123,3.279378517397248,3.279378517397248,1.9647183328944917],\"xaxis\":\"x\",\"y\":[-1400.0,-1400.0,-1420.0,-1420.0],\"yaxis\":\"y\",\"type\":\"scatter\"},{\"hoverinfo\":\"text\",\"marker\":{\"color\":\"rgb(0,116,217)\"},\"mode\":\"lines\",\"x\":[2.0633425046642166,4.406474621499638,4.406474621499638,3.279378517397248],\"xaxis\":\"x\",\"y\":[-1372.5,-1372.5,-1410.0,-1410.0],\"yaxis\":\"y\",\"type\":\"scatter\"},{\"hoverinfo\":\"text\",\"marker\":{\"color\":\"rgb(0,116,217)\"},\"mode\":\"lines\",\"x\":[0.0,1.8538170556143951,1.8538170556143951,0.0],\"xaxis\":\"x\",\"y\":[-1445.0,-1445.0,-1455.0,-1455.0],\"yaxis\":\"y\",\"type\":\"scatter\"},{\"hoverinfo\":\"text\",\"marker\":{\"color\":\"rgb(0,116,217)\"},\"mode\":\"lines\",\"x\":[0.0,2.2109939669305367,2.2109939669305367,1.8538170556143951],\"xaxis\":\"x\",\"y\":[-1435.0,-1435.0,-1450.0,-1450.0],\"yaxis\":\"y\",\"type\":\"scatter\"},{\"hoverinfo\":\"text\",\"marker\":{\"color\":\"rgb(0,116,217)\"},\"mode\":\"lines\",\"x\":[0.0,1.7482924309021646,1.7482924309021646,0.0],\"xaxis\":\"x\",\"y\":[-1465.0,-1465.0,-1475.0,-1475.0],\"yaxis\":\"y\",\"type\":\"scatter\"},{\"hoverinfo\":\"text\",\"marker\":{\"color\":\"rgb(0,116,217)\"},\"mode\":\"lines\",\"x\":[0.0,1.8544840210108402,1.8544840210108402,0.0],\"xaxis\":\"x\",\"y\":[-1485.0,-1485.0,-1495.0,-1495.0],\"yaxis\":\"y\",\"type\":\"scatter\"},{\"hoverinfo\":\"text\",\"marker\":{\"color\":\"rgb(0,116,217)\"},\"mode\":\"lines\",\"x\":[1.7482924309021646,2.0574074169421,2.0574074169421,1.8544840210108402],\"xaxis\":\"x\",\"y\":[-1470.0,-1470.0,-1490.0,-1490.0],\"yaxis\":\"y\",\"type\":\"scatter\"},{\"hoverinfo\":\"text\",\"marker\":{\"color\":\"rgb(0,116,217)\"},\"mode\":\"lines\",\"x\":[0.0,1.6642708921540261,1.6642708921540261,0.0],\"xaxis\":\"x\",\"y\":[-1505.0,-1505.0,-1515.0,-1515.0],\"yaxis\":\"y\",\"type\":\"scatter\"},{\"hoverinfo\":\"text\",\"marker\":{\"color\":\"rgb(0,116,217)\"},\"mode\":\"lines\",\"x\":[0.0,2.0257318335802665,2.0257318335802665,0.0],\"xaxis\":\"x\",\"y\":[-1525.0,-1525.0,-1535.0,-1535.0],\"yaxis\":\"y\",\"type\":\"scatter\"},{\"hoverinfo\":\"text\",\"marker\":{\"color\":\"rgb(0,116,217)\"},\"mode\":\"lines\",\"x\":[1.6642708921540261,2.27618515575489,2.27618515575489,2.0257318335802665],\"xaxis\":\"x\",\"y\":[-1510.0,-1510.0,-1530.0,-1530.0],\"yaxis\":\"y\",\"type\":\"scatter\"},{\"hoverinfo\":\"text\",\"marker\":{\"color\":\"rgb(0,116,217)\"},\"mode\":\"lines\",\"x\":[2.0574074169421,2.8454083726657453,2.8454083726657453,2.27618515575489],\"xaxis\":\"x\",\"y\":[-1480.0,-1480.0,-1520.0,-1520.0],\"yaxis\":\"y\",\"type\":\"scatter\"},{\"hoverinfo\":\"text\",\"marker\":{\"color\":\"rgb(0,116,217)\"},\"mode\":\"lines\",\"x\":[2.2109939669305367,3.0624339449098845,3.0624339449098845,2.8454083726657453],\"xaxis\":\"x\",\"y\":[-1442.5,-1442.5,-1500.0,-1500.0],\"yaxis\":\"y\",\"type\":\"scatter\"},{\"hoverinfo\":\"text\",\"marker\":{\"color\":\"rgb(0,116,217)\"},\"mode\":\"lines\",\"x\":[0.0,1.4576073773907197,1.4576073773907197,0.0],\"xaxis\":\"x\",\"y\":[-1565.0,-1565.0,-1575.0,-1575.0],\"yaxis\":\"y\",\"type\":\"scatter\"},{\"hoverinfo\":\"text\",\"marker\":{\"color\":\"rgb(0,116,217)\"},\"mode\":\"lines\",\"x\":[0.0,1.9567860358496434,1.9567860358496434,1.4576073773907197],\"xaxis\":\"x\",\"y\":[-1555.0,-1555.0,-1570.0,-1570.0],\"yaxis\":\"y\",\"type\":\"scatter\"},{\"hoverinfo\":\"text\",\"marker\":{\"color\":\"rgb(0,116,217)\"},\"mode\":\"lines\",\"x\":[0.0,2.1228801399878545,2.1228801399878545,1.9567860358496434],\"xaxis\":\"x\",\"y\":[-1545.0,-1545.0,-1562.5,-1562.5],\"yaxis\":\"y\",\"type\":\"scatter\"},{\"hoverinfo\":\"text\",\"marker\":{\"color\":\"rgb(0,116,217)\"},\"mode\":\"lines\",\"x\":[0.0,2.259953249372243,2.259953249372243,0.0],\"xaxis\":\"x\",\"y\":[-1585.0,-1585.0,-1595.0,-1595.0],\"yaxis\":\"y\",\"type\":\"scatter\"},{\"hoverinfo\":\"text\",\"marker\":{\"color\":\"rgb(0,116,217)\"},\"mode\":\"lines\",\"x\":[2.1228801399878545,3.1933157447428546,3.1933157447428546,2.259953249372243],\"xaxis\":\"x\",\"y\":[-1553.75,-1553.75,-1590.0,-1590.0],\"yaxis\":\"y\",\"type\":\"scatter\"},{\"hoverinfo\":\"text\",\"marker\":{\"color\":\"rgb(0,116,217)\"},\"mode\":\"lines\",\"x\":[3.0624339449098845,3.9931952157104718,3.9931952157104718,3.1933157447428546],\"xaxis\":\"x\",\"y\":[-1471.25,-1471.25,-1571.875,-1571.875],\"yaxis\":\"y\",\"type\":\"scatter\"},{\"hoverinfo\":\"text\",\"marker\":{\"color\":\"rgb(0,116,217)\"},\"mode\":\"lines\",\"x\":[0.0,1.2557658449583962,1.2557658449583962,0.0],\"xaxis\":\"x\",\"y\":[-1625.0,-1625.0,-1635.0,-1635.0],\"yaxis\":\"y\",\"type\":\"scatter\"},{\"hoverinfo\":\"text\",\"marker\":{\"color\":\"rgb(0,116,217)\"},\"mode\":\"lines\",\"x\":[0.0,1.4248634819065245,1.4248634819065245,1.2557658449583962],\"xaxis\":\"x\",\"y\":[-1615.0,-1615.0,-1630.0,-1630.0],\"yaxis\":\"y\",\"type\":\"scatter\"},{\"hoverinfo\":\"text\",\"marker\":{\"color\":\"rgb(0,116,217)\"},\"mode\":\"lines\",\"x\":[0.0,1.7258297693629379,1.7258297693629379,1.4248634819065245],\"xaxis\":\"x\",\"y\":[-1605.0,-1605.0,-1622.5,-1622.5],\"yaxis\":\"y\",\"type\":\"scatter\"},{\"hoverinfo\":\"text\",\"marker\":{\"color\":\"rgb(0,116,217)\"},\"mode\":\"lines\",\"x\":[0.0,1.3821855880081506,1.3821855880081506,0.0],\"xaxis\":\"x\",\"y\":[-1665.0,-1665.0,-1675.0,-1675.0],\"yaxis\":\"y\",\"type\":\"scatter\"},{\"hoverinfo\":\"text\",\"marker\":{\"color\":\"rgb(0,116,217)\"},\"mode\":\"lines\",\"x\":[0.0,2.209490387290251,2.209490387290251,1.3821855880081506],\"xaxis\":\"x\",\"y\":[-1655.0,-1655.0,-1670.0,-1670.0],\"yaxis\":\"y\",\"type\":\"scatter\"},{\"hoverinfo\":\"text\",\"marker\":{\"color\":\"rgb(0,116,217)\"},\"mode\":\"lines\",\"x\":[0.0,2.4088638948724523,2.4088638948724523,2.209490387290251],\"xaxis\":\"x\",\"y\":[-1645.0,-1645.0,-1662.5,-1662.5],\"yaxis\":\"y\",\"type\":\"scatter\"},{\"hoverinfo\":\"text\",\"marker\":{\"color\":\"rgb(0,116,217)\"},\"mode\":\"lines\",\"x\":[1.7258297693629379,3.2034508394525862,3.2034508394525862,2.4088638948724523],\"xaxis\":\"x\",\"y\":[-1613.75,-1613.75,-1653.75,-1653.75],\"yaxis\":\"y\",\"type\":\"scatter\"},{\"hoverinfo\":\"text\",\"marker\":{\"color\":\"rgb(0,116,217)\"},\"mode\":\"lines\",\"x\":[0.0,1.276105163246228,1.276105163246228,0.0],\"xaxis\":\"x\",\"y\":[-1695.0,-1695.0,-1705.0,-1705.0],\"yaxis\":\"y\",\"type\":\"scatter\"},{\"hoverinfo\":\"text\",\"marker\":{\"color\":\"rgb(0,116,217)\"},\"mode\":\"lines\",\"x\":[0.0,1.6687701238402883,1.6687701238402883,1.276105163246228],\"xaxis\":\"x\",\"y\":[-1685.0,-1685.0,-1700.0,-1700.0],\"yaxis\":\"y\",\"type\":\"scatter\"},{\"hoverinfo\":\"text\",\"marker\":{\"color\":\"rgb(0,116,217)\"},\"mode\":\"lines\",\"x\":[0.0,1.4505832601938582,1.4505832601938582,0.0],\"xaxis\":\"x\",\"y\":[-1715.0,-1715.0,-1725.0,-1725.0],\"yaxis\":\"y\",\"type\":\"scatter\"},{\"hoverinfo\":\"text\",\"marker\":{\"color\":\"rgb(0,116,217)\"},\"mode\":\"lines\",\"x\":[0.0,1.3602351171055258,1.3602351171055258,0.0],\"xaxis\":\"x\",\"y\":[-1745.0,-1745.0,-1755.0,-1755.0],\"yaxis\":\"y\",\"type\":\"scatter\"},{\"hoverinfo\":\"text\",\"marker\":{\"color\":\"rgb(0,116,217)\"},\"mode\":\"lines\",\"x\":[0.0,2.095169815993727,2.095169815993727,1.3602351171055258],\"xaxis\":\"x\",\"y\":[-1735.0,-1735.0,-1750.0,-1750.0],\"yaxis\":\"y\",\"type\":\"scatter\"},{\"hoverinfo\":\"text\",\"marker\":{\"color\":\"rgb(0,116,217)\"},\"mode\":\"lines\",\"x\":[1.4505832601938582,2.6560540230314365,2.6560540230314365,2.095169815993727],\"xaxis\":\"x\",\"y\":[-1720.0,-1720.0,-1742.5,-1742.5],\"yaxis\":\"y\",\"type\":\"scatter\"},{\"hoverinfo\":\"text\",\"marker\":{\"color\":\"rgb(0,116,217)\"},\"mode\":\"lines\",\"x\":[1.6687701238402883,3.520840594496657,3.520840594496657,2.6560540230314365],\"xaxis\":\"x\",\"y\":[-1692.5,-1692.5,-1731.25,-1731.25],\"yaxis\":\"y\",\"type\":\"scatter\"},{\"hoverinfo\":\"text\",\"marker\":{\"color\":\"rgb(0,116,217)\"},\"mode\":\"lines\",\"x\":[3.2034508394525862,4.381297603725211,4.381297603725211,3.520840594496657],\"xaxis\":\"x\",\"y\":[-1633.75,-1633.75,-1711.875,-1711.875],\"yaxis\":\"y\",\"type\":\"scatter\"},{\"hoverinfo\":\"text\",\"marker\":{\"color\":\"rgb(0,116,217)\"},\"mode\":\"lines\",\"x\":[3.9931952157104718,5.057729085661105,5.057729085661105,4.381297603725211],\"xaxis\":\"x\",\"y\":[-1521.5625,-1521.5625,-1672.8125,-1672.8125],\"yaxis\":\"y\",\"type\":\"scatter\"},{\"hoverinfo\":\"text\",\"marker\":{\"color\":\"rgb(0,116,217)\"},\"mode\":\"lines\",\"x\":[4.406474621499638,5.295670289713078,5.295670289713078,5.057729085661105],\"xaxis\":\"x\",\"y\":[-1391.25,-1391.25,-1597.1875,-1597.1875],\"yaxis\":\"y\",\"type\":\"scatter\"},{\"hoverinfo\":\"text\",\"marker\":{\"color\":\"rgb(0,116,217)\"},\"mode\":\"lines\",\"x\":[3.8994088117660035,8.29245412199855,8.29245412199855,5.295670289713078],\"xaxis\":\"x\",\"y\":[-1336.25,-1336.25,-1494.21875,-1494.21875],\"yaxis\":\"y\",\"type\":\"scatter\"},{\"hoverinfo\":\"text\",\"marker\":{\"color\":\"rgb(0,116,217)\"},\"mode\":\"lines\",\"x\":[5.810603331556095,9.942333360899914,9.942333360899914,8.29245412199855],\"xaxis\":\"x\",\"y\":[-1046.34765625,-1046.34765625,-1415.234375,-1415.234375],\"yaxis\":\"y\",\"type\":\"scatter\"},{\"hoverinfo\":\"text\",\"marker\":{\"color\":\"rgb(0,116,217)\"},\"mode\":\"lines\",\"x\":[0.0,1.3037594036789277,1.3037594036789277,0.0],\"xaxis\":\"x\",\"y\":[-1775.0,-1775.0,-1785.0,-1785.0],\"yaxis\":\"y\",\"type\":\"scatter\"},{\"hoverinfo\":\"text\",\"marker\":{\"color\":\"rgb(0,116,217)\"},\"mode\":\"lines\",\"x\":[0.0,1.5539707485277798,1.5539707485277798,1.3037594036789277],\"xaxis\":\"x\",\"y\":[-1765.0,-1765.0,-1780.0,-1780.0],\"yaxis\":\"y\",\"type\":\"scatter\"},{\"hoverinfo\":\"text\",\"marker\":{\"color\":\"rgb(0,116,217)\"},\"mode\":\"lines\",\"x\":[0.0,1.07564788270559,1.07564788270559,0.0],\"xaxis\":\"x\",\"y\":[-1815.0,-1815.0,-1825.0,-1825.0],\"yaxis\":\"y\",\"type\":\"scatter\"},{\"hoverinfo\":\"text\",\"marker\":{\"color\":\"rgb(0,116,217)\"},\"mode\":\"lines\",\"x\":[0.0,1.2780429423196251,1.2780429423196251,1.07564788270559],\"xaxis\":\"x\",\"y\":[-1805.0,-1805.0,-1820.0,-1820.0],\"yaxis\":\"y\",\"type\":\"scatter\"},{\"hoverinfo\":\"text\",\"marker\":{\"color\":\"rgb(0,116,217)\"},\"mode\":\"lines\",\"x\":[0.0,1.5943699122554356,1.5943699122554356,1.2780429423196251],\"xaxis\":\"x\",\"y\":[-1795.0,-1795.0,-1812.5,-1812.5],\"yaxis\":\"y\",\"type\":\"scatter\"},{\"hoverinfo\":\"text\",\"marker\":{\"color\":\"rgb(0,116,217)\"},\"mode\":\"lines\",\"x\":[1.5539707485277798,2.7323677679032103,2.7323677679032103,1.5943699122554356],\"xaxis\":\"x\",\"y\":[-1772.5,-1772.5,-1803.75,-1803.75],\"yaxis\":\"y\",\"type\":\"scatter\"},{\"hoverinfo\":\"text\",\"marker\":{\"color\":\"rgb(0,116,217)\"},\"mode\":\"lines\",\"x\":[0.0,1.3180608925287645,1.3180608925287645,0.0],\"xaxis\":\"x\",\"y\":[-1835.0,-1835.0,-1845.0,-1845.0],\"yaxis\":\"y\",\"type\":\"scatter\"},{\"hoverinfo\":\"text\",\"marker\":{\"color\":\"rgb(0,116,217)\"},\"mode\":\"lines\",\"x\":[0.0,1.754097178567103,1.754097178567103,0.0],\"xaxis\":\"x\",\"y\":[-1855.0,-1855.0,-1865.0,-1865.0],\"yaxis\":\"y\",\"type\":\"scatter\"},{\"hoverinfo\":\"text\",\"marker\":{\"color\":\"rgb(0,116,217)\"},\"mode\":\"lines\",\"x\":[1.3180608925287645,2.242950872411852,2.242950872411852,1.754097178567103],\"xaxis\":\"x\",\"y\":[-1840.0,-1840.0,-1860.0,-1860.0],\"yaxis\":\"y\",\"type\":\"scatter\"},{\"hoverinfo\":\"text\",\"marker\":{\"color\":\"rgb(0,116,217)\"},\"mode\":\"lines\",\"x\":[0.0,1.3511185850873808,1.3511185850873808,0.0],\"xaxis\":\"x\",\"y\":[-1875.0,-1875.0,-1885.0,-1885.0],\"yaxis\":\"y\",\"type\":\"scatter\"},{\"hoverinfo\":\"text\",\"marker\":{\"color\":\"rgb(0,116,217)\"},\"mode\":\"lines\",\"x\":[0.0,1.5953776464253433,1.5953776464253433,0.0],\"xaxis\":\"x\",\"y\":[-1895.0,-1895.0,-1905.0,-1905.0],\"yaxis\":\"y\",\"type\":\"scatter\"},{\"hoverinfo\":\"text\",\"marker\":{\"color\":\"rgb(0,116,217)\"},\"mode\":\"lines\",\"x\":[0.0,1.1467675108821977,1.1467675108821977,0.0],\"xaxis\":\"x\",\"y\":[-1925.0,-1925.0,-1935.0,-1935.0],\"yaxis\":\"y\",\"type\":\"scatter\"},{\"hoverinfo\":\"text\",\"marker\":{\"color\":\"rgb(0,116,217)\"},\"mode\":\"lines\",\"x\":[0.0,1.627003218994314,1.627003218994314,1.1467675108821977],\"xaxis\":\"x\",\"y\":[-1915.0,-1915.0,-1930.0,-1930.0],\"yaxis\":\"y\",\"type\":\"scatter\"},{\"hoverinfo\":\"text\",\"marker\":{\"color\":\"rgb(0,116,217)\"},\"mode\":\"lines\",\"x\":[1.5953776464253433,2.3626751942490776,2.3626751942490776,1.627003218994314],\"xaxis\":\"x\",\"y\":[-1900.0,-1900.0,-1922.5,-1922.5],\"yaxis\":\"y\",\"type\":\"scatter\"},{\"hoverinfo\":\"text\",\"marker\":{\"color\":\"rgb(0,116,217)\"},\"mode\":\"lines\",\"x\":[1.3511185850873808,2.635489894102187,2.635489894102187,2.3626751942490776],\"xaxis\":\"x\",\"y\":[-1880.0,-1880.0,-1911.25,-1911.25],\"yaxis\":\"y\",\"type\":\"scatter\"},{\"hoverinfo\":\"text\",\"marker\":{\"color\":\"rgb(0,116,217)\"},\"mode\":\"lines\",\"x\":[2.242950872411852,2.963644499789439,2.963644499789439,2.635489894102187],\"xaxis\":\"x\",\"y\":[-1850.0,-1850.0,-1895.625,-1895.625],\"yaxis\":\"y\",\"type\":\"scatter\"},{\"hoverinfo\":\"text\",\"marker\":{\"color\":\"rgb(0,116,217)\"},\"mode\":\"lines\",\"x\":[2.7323677679032103,3.8520081133029493,3.8520081133029493,2.963644499789439],\"xaxis\":\"x\",\"y\":[-1788.125,-1788.125,-1872.8125,-1872.8125],\"yaxis\":\"y\",\"type\":\"scatter\"},{\"hoverinfo\":\"text\",\"marker\":{\"color\":\"rgb(0,116,217)\"},\"mode\":\"lines\",\"x\":[0.0,1.2437787504465196,1.2437787504465196,0.0],\"xaxis\":\"x\",\"y\":[-1955.0,-1955.0,-1965.0,-1965.0],\"yaxis\":\"y\",\"type\":\"scatter\"},{\"hoverinfo\":\"text\",\"marker\":{\"color\":\"rgb(0,116,217)\"},\"mode\":\"lines\",\"x\":[0.0,1.4103729995898047,1.4103729995898047,1.2437787504465196],\"xaxis\":\"x\",\"y\":[-1945.0,-1945.0,-1960.0,-1960.0],\"yaxis\":\"y\",\"type\":\"scatter\"},{\"hoverinfo\":\"text\",\"marker\":{\"color\":\"rgb(35,205,205)\"},\"mode\":\"lines\",\"x\":[0.0,0.9431194146965437,0.9431194146965437,0.0],\"xaxis\":\"x\",\"y\":[-1975.0,-1975.0,-1985.0,-1985.0],\"yaxis\":\"y\",\"type\":\"scatter\"},{\"hoverinfo\":\"text\",\"marker\":{\"color\":\"rgb(0,116,217)\"},\"mode\":\"lines\",\"x\":[0.0,1.4775609769134082,1.4775609769134082,0.0],\"xaxis\":\"x\",\"y\":[-1995.0,-1995.0,-2005.0,-2005.0],\"yaxis\":\"y\",\"type\":\"scatter\"},{\"hoverinfo\":\"text\",\"marker\":{\"color\":\"rgb(0,116,217)\"},\"mode\":\"lines\",\"x\":[0.9431194146965437,1.7247605909833847,1.7247605909833847,1.4775609769134082],\"xaxis\":\"x\",\"y\":[-1980.0,-1980.0,-2000.0,-2000.0],\"yaxis\":\"y\",\"type\":\"scatter\"},{\"hoverinfo\":\"text\",\"marker\":{\"color\":\"rgb(0,116,217)\"},\"mode\":\"lines\",\"x\":[0.0,1.5924959348741594,1.5924959348741594,0.0],\"xaxis\":\"x\",\"y\":[-2015.0,-2015.0,-2025.0,-2025.0],\"yaxis\":\"y\",\"type\":\"scatter\"},{\"hoverinfo\":\"text\",\"marker\":{\"color\":\"rgb(0,116,217)\"},\"mode\":\"lines\",\"x\":[0.0,1.7339619791470164,1.7339619791470164,0.0],\"xaxis\":\"x\",\"y\":[-2045.0,-2045.0,-2055.0,-2055.0],\"yaxis\":\"y\",\"type\":\"scatter\"},{\"hoverinfo\":\"text\",\"marker\":{\"color\":\"rgb(0,116,217)\"},\"mode\":\"lines\",\"x\":[0.0,2.102313596743524,2.102313596743524,1.7339619791470164],\"xaxis\":\"x\",\"y\":[-2035.0,-2035.0,-2050.0,-2050.0],\"yaxis\":\"y\",\"type\":\"scatter\"},{\"hoverinfo\":\"text\",\"marker\":{\"color\":\"rgb(0,116,217)\"},\"mode\":\"lines\",\"x\":[1.5924959348741594,2.641299374465485,2.641299374465485,2.102313596743524],\"xaxis\":\"x\",\"y\":[-2020.0,-2020.0,-2042.5,-2042.5],\"yaxis\":\"y\",\"type\":\"scatter\"},{\"hoverinfo\":\"text\",\"marker\":{\"color\":\"rgb(0,116,217)\"},\"mode\":\"lines\",\"x\":[1.7247605909833847,3.1490927545956637,3.1490927545956637,2.641299374465485],\"xaxis\":\"x\",\"y\":[-1990.0,-1990.0,-2031.25,-2031.25],\"yaxis\":\"y\",\"type\":\"scatter\"},{\"hoverinfo\":\"text\",\"marker\":{\"color\":\"rgb(0,116,217)\"},\"mode\":\"lines\",\"x\":[1.4103729995898047,3.9368332818938434,3.9368332818938434,3.1490927545956637],\"xaxis\":\"x\",\"y\":[-1952.5,-1952.5,-2010.625,-2010.625],\"yaxis\":\"y\",\"type\":\"scatter\"},{\"hoverinfo\":\"text\",\"marker\":{\"color\":\"rgb(0,116,217)\"},\"mode\":\"lines\",\"x\":[3.8520081133029493,5.045055550192717,5.045055550192717,3.9368332818938434],\"xaxis\":\"x\",\"y\":[-1830.46875,-1830.46875,-1981.5625,-1981.5625],\"yaxis\":\"y\",\"type\":\"scatter\"},{\"hoverinfo\":\"text\",\"marker\":{\"color\":\"rgb(0,116,217)\"},\"mode\":\"lines\",\"x\":[0.0,1.4110992789052734,1.4110992789052734,0.0],\"xaxis\":\"x\",\"y\":[-2065.0,-2065.0,-2075.0,-2075.0],\"yaxis\":\"y\",\"type\":\"scatter\"},{\"hoverinfo\":\"text\",\"marker\":{\"color\":\"rgb(61,153,112)\"},\"mode\":\"lines\",\"x\":[0.0,0.8570019803970255,0.8570019803970255,0.0],\"xaxis\":\"x\",\"y\":[-2085.0,-2085.0,-2095.0,-2095.0],\"yaxis\":\"y\",\"type\":\"scatter\"},{\"hoverinfo\":\"text\",\"marker\":{\"color\":\"rgb(0,116,217)\"},\"mode\":\"lines\",\"x\":[0.0,1.0920692225657298,1.0920692225657298,0.0],\"xaxis\":\"x\",\"y\":[-2105.0,-2105.0,-2115.0,-2115.0],\"yaxis\":\"y\",\"type\":\"scatter\"},{\"hoverinfo\":\"text\",\"marker\":{\"color\":\"rgb(0,116,217)\"},\"mode\":\"lines\",\"x\":[0.8570019803970255,1.7266888149030102,1.7266888149030102,1.0920692225657298],\"xaxis\":\"x\",\"y\":[-2090.0,-2090.0,-2110.0,-2110.0],\"yaxis\":\"y\",\"type\":\"scatter\"},{\"hoverinfo\":\"text\",\"marker\":{\"color\":\"rgb(0,116,217)\"},\"mode\":\"lines\",\"x\":[1.4110992789052734,2.235021523830914,2.235021523830914,1.7266888149030102],\"xaxis\":\"x\",\"y\":[-2070.0,-2070.0,-2100.0,-2100.0],\"yaxis\":\"y\",\"type\":\"scatter\"},{\"hoverinfo\":\"text\",\"marker\":{\"color\":\"rgb(255,65,54)\"},\"mode\":\"lines\",\"x\":[0.0,0.9696789890239237,0.9696789890239237,0.0],\"xaxis\":\"x\",\"y\":[-2135.0,-2135.0,-2145.0,-2145.0],\"yaxis\":\"y\",\"type\":\"scatter\"},{\"hoverinfo\":\"text\",\"marker\":{\"color\":\"rgb(0,116,217)\"},\"mode\":\"lines\",\"x\":[0.0,1.6046227251331877,1.6046227251331877,0.9696789890239237],\"xaxis\":\"x\",\"y\":[-2125.0,-2125.0,-2140.0,-2140.0],\"yaxis\":\"y\",\"type\":\"scatter\"},{\"hoverinfo\":\"text\",\"marker\":{\"color\":\"rgb(0,116,217)\"},\"mode\":\"lines\",\"x\":[0.0,1.571010642945351,1.571010642945351,0.0],\"xaxis\":\"x\",\"y\":[-2165.0,-2165.0,-2175.0,-2175.0],\"yaxis\":\"y\",\"type\":\"scatter\"},{\"hoverinfo\":\"text\",\"marker\":{\"color\":\"rgb(0,116,217)\"},\"mode\":\"lines\",\"x\":[0.0,1.8040935538730416,1.8040935538730416,1.571010642945351],\"xaxis\":\"x\",\"y\":[-2155.0,-2155.0,-2170.0,-2170.0],\"yaxis\":\"y\",\"type\":\"scatter\"},{\"hoverinfo\":\"text\",\"marker\":{\"color\":\"rgb(0,116,217)\"},\"mode\":\"lines\",\"x\":[0.0,1.857021661491981,1.857021661491981,0.0],\"xaxis\":\"x\",\"y\":[-2185.0,-2185.0,-2195.0,-2195.0],\"yaxis\":\"y\",\"type\":\"scatter\"},{\"hoverinfo\":\"text\",\"marker\":{\"color\":\"rgb(0,116,217)\"},\"mode\":\"lines\",\"x\":[1.8040935538730416,2.1970935602272865,2.1970935602272865,1.857021661491981],\"xaxis\":\"x\",\"y\":[-2162.5,-2162.5,-2190.0,-2190.0],\"yaxis\":\"y\",\"type\":\"scatter\"},{\"hoverinfo\":\"text\",\"marker\":{\"color\":\"rgb(0,116,217)\"},\"mode\":\"lines\",\"x\":[1.6046227251331877,3.130499645946454,3.130499645946454,2.1970935602272865],\"xaxis\":\"x\",\"y\":[-2132.5,-2132.5,-2176.25,-2176.25],\"yaxis\":\"y\",\"type\":\"scatter\"},{\"hoverinfo\":\"text\",\"marker\":{\"color\":\"rgb(0,116,217)\"},\"mode\":\"lines\",\"x\":[2.235021523830914,3.583996889751635,3.583996889751635,3.130499645946454],\"xaxis\":\"x\",\"y\":[-2085.0,-2085.0,-2154.375,-2154.375],\"yaxis\":\"y\",\"type\":\"scatter\"},{\"hoverinfo\":\"text\",\"marker\":{\"color\":\"rgb(0,116,217)\"},\"mode\":\"lines\",\"x\":[0.0,1.7030093097399277,1.7030093097399277,0.0],\"xaxis\":\"x\",\"y\":[-2225.0,-2225.0,-2235.0,-2235.0],\"yaxis\":\"y\",\"type\":\"scatter\"},{\"hoverinfo\":\"text\",\"marker\":{\"color\":\"rgb(0,116,217)\"},\"mode\":\"lines\",\"x\":[0.0,1.8134351046352912,1.8134351046352912,1.7030093097399277],\"xaxis\":\"x\",\"y\":[-2215.0,-2215.0,-2230.0,-2230.0],\"yaxis\":\"y\",\"type\":\"scatter\"},{\"hoverinfo\":\"text\",\"marker\":{\"color\":\"rgb(0,116,217)\"},\"mode\":\"lines\",\"x\":[0.0,1.98251672202227,1.98251672202227,1.8134351046352912],\"xaxis\":\"x\",\"y\":[-2205.0,-2205.0,-2222.5,-2222.5],\"yaxis\":\"y\",\"type\":\"scatter\"},{\"hoverinfo\":\"text\",\"marker\":{\"color\":\"rgb(0,116,217)\"},\"mode\":\"lines\",\"x\":[0.0,2.057558657117355,2.057558657117355,0.0],\"xaxis\":\"x\",\"y\":[-2245.0,-2245.0,-2255.0,-2255.0],\"yaxis\":\"y\",\"type\":\"scatter\"},{\"hoverinfo\":\"text\",\"marker\":{\"color\":\"rgb(0,116,217)\"},\"mode\":\"lines\",\"x\":[0.0,1.7076579422716924,1.7076579422716924,0.0],\"xaxis\":\"x\",\"y\":[-2265.0,-2265.0,-2275.0,-2275.0],\"yaxis\":\"y\",\"type\":\"scatter\"},{\"hoverinfo\":\"text\",\"marker\":{\"color\":\"rgb(0,116,217)\"},\"mode\":\"lines\",\"x\":[0.0,1.7039571949528756,1.7039571949528756,0.0],\"xaxis\":\"x\",\"y\":[-2295.0,-2295.0,-2305.0,-2305.0],\"yaxis\":\"y\",\"type\":\"scatter\"},{\"hoverinfo\":\"text\",\"marker\":{\"color\":\"rgb(0,116,217)\"},\"mode\":\"lines\",\"x\":[0.0,1.7800417386939194,1.7800417386939194,1.7039571949528756],\"xaxis\":\"x\",\"y\":[-2285.0,-2285.0,-2300.0,-2300.0],\"yaxis\":\"y\",\"type\":\"scatter\"},{\"hoverinfo\":\"text\",\"marker\":{\"color\":\"rgb(0,116,217)\"},\"mode\":\"lines\",\"x\":[1.7076579422716924,2.067934527909457,2.067934527909457,1.7800417386939194],\"xaxis\":\"x\",\"y\":[-2270.0,-2270.0,-2292.5,-2292.5],\"yaxis\":\"y\",\"type\":\"scatter\"},{\"hoverinfo\":\"text\",\"marker\":{\"color\":\"rgb(0,116,217)\"},\"mode\":\"lines\",\"x\":[2.057558657117355,2.450127356212719,2.450127356212719,2.067934527909457],\"xaxis\":\"x\",\"y\":[-2250.0,-2250.0,-2281.25,-2281.25],\"yaxis\":\"y\",\"type\":\"scatter\"},{\"hoverinfo\":\"text\",\"marker\":{\"color\":\"rgb(0,116,217)\"},\"mode\":\"lines\",\"x\":[1.98251672202227,2.719801089208492,2.719801089208492,2.450127356212719],\"xaxis\":\"x\",\"y\":[-2213.75,-2213.75,-2265.625,-2265.625],\"yaxis\":\"y\",\"type\":\"scatter\"},{\"hoverinfo\":\"text\",\"marker\":{\"color\":\"rgb(0,116,217)\"},\"mode\":\"lines\",\"x\":[0.0,1.9052069571630683,1.9052069571630683,0.0],\"xaxis\":\"x\",\"y\":[-2325.0,-2325.0,-2335.0,-2335.0],\"yaxis\":\"y\",\"type\":\"scatter\"},{\"hoverinfo\":\"text\",\"marker\":{\"color\":\"rgb(0,116,217)\"},\"mode\":\"lines\",\"x\":[0.0,1.9167344856071789,1.9167344856071789,1.9052069571630683],\"xaxis\":\"x\",\"y\":[-2315.0,-2315.0,-2330.0,-2330.0],\"yaxis\":\"y\",\"type\":\"scatter\"},{\"hoverinfo\":\"text\",\"marker\":{\"color\":\"rgb(0,116,217)\"},\"mode\":\"lines\",\"x\":[0.0,1.4708053472210139,1.4708053472210139,0.0],\"xaxis\":\"x\",\"y\":[-2365.0,-2365.0,-2375.0,-2375.0],\"yaxis\":\"y\",\"type\":\"scatter\"},{\"hoverinfo\":\"text\",\"marker\":{\"color\":\"rgb(0,116,217)\"},\"mode\":\"lines\",\"x\":[0.0,1.7360453538888987,1.7360453538888987,1.4708053472210139],\"xaxis\":\"x\",\"y\":[-2355.0,-2355.0,-2370.0,-2370.0],\"yaxis\":\"y\",\"type\":\"scatter\"},{\"hoverinfo\":\"text\",\"marker\":{\"color\":\"rgb(0,116,217)\"},\"mode\":\"lines\",\"x\":[0.0,2.0597797638640105,2.0597797638640105,1.7360453538888987],\"xaxis\":\"x\",\"y\":[-2345.0,-2345.0,-2362.5,-2362.5],\"yaxis\":\"y\",\"type\":\"scatter\"},{\"hoverinfo\":\"text\",\"marker\":{\"color\":\"rgb(0,116,217)\"},\"mode\":\"lines\",\"x\":[1.9167344856071789,2.740059193481467,2.740059193481467,2.0597797638640105],\"xaxis\":\"x\",\"y\":[-2322.5,-2322.5,-2353.75,-2353.75],\"yaxis\":\"y\",\"type\":\"scatter\"},{\"hoverinfo\":\"text\",\"marker\":{\"color\":\"rgb(0,116,217)\"},\"mode\":\"lines\",\"x\":[2.719801089208492,3.8366266191918235,3.8366266191918235,2.740059193481467],\"xaxis\":\"x\",\"y\":[-2239.6875,-2239.6875,-2338.125,-2338.125],\"yaxis\":\"y\",\"type\":\"scatter\"},{\"hoverinfo\":\"text\",\"marker\":{\"color\":\"rgb(0,116,217)\"},\"mode\":\"lines\",\"x\":[3.583996889751635,4.113910545878341,4.113910545878341,3.8366266191918235],\"xaxis\":\"x\",\"y\":[-2119.6875,-2119.6875,-2288.90625,-2288.90625],\"yaxis\":\"y\",\"type\":\"scatter\"},{\"hoverinfo\":\"text\",\"marker\":{\"color\":\"rgb(0,116,217)\"},\"mode\":\"lines\",\"x\":[0.0,1.286988527728794,1.286988527728794,0.0],\"xaxis\":\"x\",\"y\":[-2385.0,-2385.0,-2395.0,-2395.0],\"yaxis\":\"y\",\"type\":\"scatter\"},{\"hoverinfo\":\"text\",\"marker\":{\"color\":\"rgb(0,116,217)\"},\"mode\":\"lines\",\"x\":[0.0,1.6008987624543665,1.6008987624543665,0.0],\"xaxis\":\"x\",\"y\":[-2405.0,-2405.0,-2415.0,-2415.0],\"yaxis\":\"y\",\"type\":\"scatter\"},{\"hoverinfo\":\"text\",\"marker\":{\"color\":\"rgb(0,116,217)\"},\"mode\":\"lines\",\"x\":[1.286988527728794,2.1807416417980567,2.1807416417980567,1.6008987624543665],\"xaxis\":\"x\",\"y\":[-2390.0,-2390.0,-2410.0,-2410.0],\"yaxis\":\"y\",\"type\":\"scatter\"},{\"hoverinfo\":\"text\",\"marker\":{\"color\":\"rgb(0,116,217)\"},\"mode\":\"lines\",\"x\":[0.0,1.4434518898001614,1.4434518898001614,0.0],\"xaxis\":\"x\",\"y\":[-2425.0,-2425.0,-2435.0,-2435.0],\"yaxis\":\"y\",\"type\":\"scatter\"},{\"hoverinfo\":\"text\",\"marker\":{\"color\":\"rgb(0,116,217)\"},\"mode\":\"lines\",\"x\":[0.0,1.7347442072418133,1.7347442072418133,0.0],\"xaxis\":\"x\",\"y\":[-2445.0,-2445.0,-2455.0,-2455.0],\"yaxis\":\"y\",\"type\":\"scatter\"},{\"hoverinfo\":\"text\",\"marker\":{\"color\":\"rgb(0,116,217)\"},\"mode\":\"lines\",\"x\":[1.4434518898001614,2.7088725485756138,2.7088725485756138,1.7347442072418133],\"xaxis\":\"x\",\"y\":[-2430.0,-2430.0,-2450.0,-2450.0],\"yaxis\":\"y\",\"type\":\"scatter\"},{\"hoverinfo\":\"text\",\"marker\":{\"color\":\"rgb(0,116,217)\"},\"mode\":\"lines\",\"x\":[2.1807416417980567,3.1935961128451673,3.1935961128451673,2.7088725485756138],\"xaxis\":\"x\",\"y\":[-2400.0,-2400.0,-2440.0,-2440.0],\"yaxis\":\"y\",\"type\":\"scatter\"},{\"hoverinfo\":\"text\",\"marker\":{\"color\":\"rgb(0,116,217)\"},\"mode\":\"lines\",\"x\":[0.0,1.2935795511229702,1.2935795511229702,0.0],\"xaxis\":\"x\",\"y\":[-2485.0,-2485.0,-2495.0,-2495.0],\"yaxis\":\"y\",\"type\":\"scatter\"},{\"hoverinfo\":\"text\",\"marker\":{\"color\":\"rgb(0,116,217)\"},\"mode\":\"lines\",\"x\":[0.0,1.6053907085221564,1.6053907085221564,1.2935795511229702],\"xaxis\":\"x\",\"y\":[-2475.0,-2475.0,-2490.0,-2490.0],\"yaxis\":\"y\",\"type\":\"scatter\"},{\"hoverinfo\":\"text\",\"marker\":{\"color\":\"rgb(0,116,217)\"},\"mode\":\"lines\",\"x\":[0.0,2.0118073309278013,2.0118073309278013,1.6053907085221564],\"xaxis\":\"x\",\"y\":[-2465.0,-2465.0,-2482.5,-2482.5],\"yaxis\":\"y\",\"type\":\"scatter\"},{\"hoverinfo\":\"text\",\"marker\":{\"color\":\"rgb(0,116,217)\"},\"mode\":\"lines\",\"x\":[0.0,1.0825350620132488,1.0825350620132488,0.0],\"xaxis\":\"x\",\"y\":[-2505.0,-2505.0,-2515.0,-2515.0],\"yaxis\":\"y\",\"type\":\"scatter\"},{\"hoverinfo\":\"text\",\"marker\":{\"color\":\"rgb(0,116,217)\"},\"mode\":\"lines\",\"x\":[0.0,1.7747121557706116,1.7747121557706116,0.0],\"xaxis\":\"x\",\"y\":[-2535.0,-2535.0,-2545.0,-2545.0],\"yaxis\":\"y\",\"type\":\"scatter\"},{\"hoverinfo\":\"text\",\"marker\":{\"color\":\"rgb(0,116,217)\"},\"mode\":\"lines\",\"x\":[0.0,2.2294176201261635,2.2294176201261635,1.7747121557706116],\"xaxis\":\"x\",\"y\":[-2525.0,-2525.0,-2540.0,-2540.0],\"yaxis\":\"y\",\"type\":\"scatter\"},{\"hoverinfo\":\"text\",\"marker\":{\"color\":\"rgb(0,116,217)\"},\"mode\":\"lines\",\"x\":[1.0825350620132488,2.846792581780588,2.846792581780588,2.2294176201261635],\"xaxis\":\"x\",\"y\":[-2510.0,-2510.0,-2532.5,-2532.5],\"yaxis\":\"y\",\"type\":\"scatter\"},{\"hoverinfo\":\"text\",\"marker\":{\"color\":\"rgb(0,116,217)\"},\"mode\":\"lines\",\"x\":[2.0118073309278013,3.3671813095105967,3.3671813095105967,2.846792581780588],\"xaxis\":\"x\",\"y\":[-2473.75,-2473.75,-2521.25,-2521.25],\"yaxis\":\"y\",\"type\":\"scatter\"},{\"hoverinfo\":\"text\",\"marker\":{\"color\":\"rgb(0,116,217)\"},\"mode\":\"lines\",\"x\":[0.0,1.753596019496187,1.753596019496187,0.0],\"xaxis\":\"x\",\"y\":[-2585.0,-2585.0,-2595.0,-2595.0],\"yaxis\":\"y\",\"type\":\"scatter\"},{\"hoverinfo\":\"text\",\"marker\":{\"color\":\"rgb(0,116,217)\"},\"mode\":\"lines\",\"x\":[0.0,1.8205539775006245,1.8205539775006245,0.0],\"xaxis\":\"x\",\"y\":[-2605.0,-2605.0,-2615.0,-2615.0],\"yaxis\":\"y\",\"type\":\"scatter\"},{\"hoverinfo\":\"text\",\"marker\":{\"color\":\"rgb(0,116,217)\"},\"mode\":\"lines\",\"x\":[1.753596019496187,1.93987903720444,1.93987903720444,1.8205539775006245],\"xaxis\":\"x\",\"y\":[-2590.0,-2590.0,-2610.0,-2610.0],\"yaxis\":\"y\",\"type\":\"scatter\"},{\"hoverinfo\":\"text\",\"marker\":{\"color\":\"rgb(0,116,217)\"},\"mode\":\"lines\",\"x\":[0.0,2.0859149411342317,2.0859149411342317,1.93987903720444],\"xaxis\":\"x\",\"y\":[-2575.0,-2575.0,-2600.0,-2600.0],\"yaxis\":\"y\",\"type\":\"scatter\"},{\"hoverinfo\":\"text\",\"marker\":{\"color\":\"rgb(0,116,217)\"},\"mode\":\"lines\",\"x\":[0.0,2.1746463162129697,2.1746463162129697,2.0859149411342317],\"xaxis\":\"x\",\"y\":[-2565.0,-2565.0,-2587.5,-2587.5],\"yaxis\":\"y\",\"type\":\"scatter\"},{\"hoverinfo\":\"text\",\"marker\":{\"color\":\"rgb(0,116,217)\"},\"mode\":\"lines\",\"x\":[0.0,2.3464654279777295,2.3464654279777295,2.1746463162129697],\"xaxis\":\"x\",\"y\":[-2555.0,-2555.0,-2576.25,-2576.25],\"yaxis\":\"y\",\"type\":\"scatter\"},{\"hoverinfo\":\"text\",\"marker\":{\"color\":\"rgb(0,116,217)\"},\"mode\":\"lines\",\"x\":[0.0,1.4896480029197061,1.4896480029197061,0.0],\"xaxis\":\"x\",\"y\":[-2635.0,-2635.0,-2645.0,-2645.0],\"yaxis\":\"y\",\"type\":\"scatter\"},{\"hoverinfo\":\"text\",\"marker\":{\"color\":\"rgb(0,116,217)\"},\"mode\":\"lines\",\"x\":[0.0,1.7820065026164902,1.7820065026164902,1.4896480029197061],\"xaxis\":\"x\",\"y\":[-2625.0,-2625.0,-2640.0,-2640.0],\"yaxis\":\"y\",\"type\":\"scatter\"},{\"hoverinfo\":\"text\",\"marker\":{\"color\":\"rgb(0,116,217)\"},\"mode\":\"lines\",\"x\":[0.0,2.0125329637666485,2.0125329637666485,0.0],\"xaxis\":\"x\",\"y\":[-2655.0,-2655.0,-2665.0,-2665.0],\"yaxis\":\"y\",\"type\":\"scatter\"},{\"hoverinfo\":\"text\",\"marker\":{\"color\":\"rgb(0,116,217)\"},\"mode\":\"lines\",\"x\":[0.0,1.8250753427883375,1.8250753427883375,0.0],\"xaxis\":\"x\",\"y\":[-2685.0,-2685.0,-2695.0,-2695.0],\"yaxis\":\"y\",\"type\":\"scatter\"},{\"hoverinfo\":\"text\",\"marker\":{\"color\":\"rgb(0,116,217)\"},\"mode\":\"lines\",\"x\":[0.0,2.2888394081845616,2.2888394081845616,1.8250753427883375],\"xaxis\":\"x\",\"y\":[-2675.0,-2675.0,-2690.0,-2690.0],\"yaxis\":\"y\",\"type\":\"scatter\"},{\"hoverinfo\":\"text\",\"marker\":{\"color\":\"rgb(0,116,217)\"},\"mode\":\"lines\",\"x\":[2.0125329637666485,2.512019210599847,2.512019210599847,2.2888394081845616],\"xaxis\":\"x\",\"y\":[-2660.0,-2660.0,-2682.5,-2682.5],\"yaxis\":\"y\",\"type\":\"scatter\"},{\"hoverinfo\":\"text\",\"marker\":{\"color\":\"rgb(0,116,217)\"},\"mode\":\"lines\",\"x\":[1.7820065026164902,2.7907538232905442,2.7907538232905442,2.512019210599847],\"xaxis\":\"x\",\"y\":[-2632.5,-2632.5,-2671.25,-2671.25],\"yaxis\":\"y\",\"type\":\"scatter\"},{\"hoverinfo\":\"text\",\"marker\":{\"color\":\"rgb(0,116,217)\"},\"mode\":\"lines\",\"x\":[0.0,1.496417756207321,1.496417756207321,0.0],\"xaxis\":\"x\",\"y\":[-2715.0,-2715.0,-2725.0,-2725.0],\"yaxis\":\"y\",\"type\":\"scatter\"},{\"hoverinfo\":\"text\",\"marker\":{\"color\":\"rgb(0,116,217)\"},\"mode\":\"lines\",\"x\":[0.0,1.873754039031174,1.873754039031174,1.496417756207321],\"xaxis\":\"x\",\"y\":[-2705.0,-2705.0,-2720.0,-2720.0],\"yaxis\":\"y\",\"type\":\"scatter\"},{\"hoverinfo\":\"text\",\"marker\":{\"color\":\"rgb(0,116,217)\"},\"mode\":\"lines\",\"x\":[0.0,1.6413643959476445,1.6413643959476445,0.0],\"xaxis\":\"x\",\"y\":[-2735.0,-2735.0,-2745.0,-2745.0],\"yaxis\":\"y\",\"type\":\"scatter\"},{\"hoverinfo\":\"text\",\"marker\":{\"color\":\"rgb(0,116,217)\"},\"mode\":\"lines\",\"x\":[0.0,1.8645424723675703,1.8645424723675703,0.0],\"xaxis\":\"x\",\"y\":[-2755.0,-2755.0,-2765.0,-2765.0],\"yaxis\":\"y\",\"type\":\"scatter\"},{\"hoverinfo\":\"text\",\"marker\":{\"color\":\"rgb(0,116,217)\"},\"mode\":\"lines\",\"x\":[0.0,1.6922678546469891,1.6922678546469891,0.0],\"xaxis\":\"x\",\"y\":[-2785.0,-2785.0,-2795.0,-2795.0],\"yaxis\":\"y\",\"type\":\"scatter\"},{\"hoverinfo\":\"text\",\"marker\":{\"color\":\"rgb(0,116,217)\"},\"mode\":\"lines\",\"x\":[0.0,2.0679142198838423,2.0679142198838423,1.6922678546469891],\"xaxis\":\"x\",\"y\":[-2775.0,-2775.0,-2790.0,-2790.0],\"yaxis\":\"y\",\"type\":\"scatter\"},{\"hoverinfo\":\"text\",\"marker\":{\"color\":\"rgb(0,116,217)\"},\"mode\":\"lines\",\"x\":[1.8645424723675703,2.280778263703422,2.280778263703422,2.0679142198838423],\"xaxis\":\"x\",\"y\":[-2760.0,-2760.0,-2782.5,-2782.5],\"yaxis\":\"y\",\"type\":\"scatter\"},{\"hoverinfo\":\"text\",\"marker\":{\"color\":\"rgb(0,116,217)\"},\"mode\":\"lines\",\"x\":[1.6413643959476445,2.604947666485457,2.604947666485457,2.280778263703422],\"xaxis\":\"x\",\"y\":[-2740.0,-2740.0,-2771.25,-2771.25],\"yaxis\":\"y\",\"type\":\"scatter\"},{\"hoverinfo\":\"text\",\"marker\":{\"color\":\"rgb(0,116,217)\"},\"mode\":\"lines\",\"x\":[1.873754039031174,3.012696299879675,3.012696299879675,2.604947666485457],\"xaxis\":\"x\",\"y\":[-2712.5,-2712.5,-2755.625,-2755.625],\"yaxis\":\"y\",\"type\":\"scatter\"},{\"hoverinfo\":\"text\",\"marker\":{\"color\":\"rgb(0,116,217)\"},\"mode\":\"lines\",\"x\":[2.7907538232905442,3.6438455816226725,3.6438455816226725,3.012696299879675],\"xaxis\":\"x\",\"y\":[-2651.875,-2651.875,-2734.0625,-2734.0625],\"yaxis\":\"y\",\"type\":\"scatter\"},{\"hoverinfo\":\"text\",\"marker\":{\"color\":\"rgb(0,116,217)\"},\"mode\":\"lines\",\"x\":[2.3464654279777295,3.916532162792222,3.916532162792222,3.6438455816226725],\"xaxis\":\"x\",\"y\":[-2565.625,-2565.625,-2692.96875,-2692.96875],\"yaxis\":\"y\",\"type\":\"scatter\"},{\"hoverinfo\":\"text\",\"marker\":{\"color\":\"rgb(0,116,217)\"},\"mode\":\"lines\",\"x\":[3.3671813095105967,4.910502871528625,4.910502871528625,3.916532162792222],\"xaxis\":\"x\",\"y\":[-2497.5,-2497.5,-2629.296875,-2629.296875],\"yaxis\":\"y\",\"type\":\"scatter\"},{\"hoverinfo\":\"text\",\"marker\":{\"color\":\"rgb(0,116,217)\"},\"mode\":\"lines\",\"x\":[3.1935961128451673,5.218003079979849,5.218003079979849,4.910502871528625],\"xaxis\":\"x\",\"y\":[-2420.0,-2420.0,-2563.3984375,-2563.3984375],\"yaxis\":\"y\",\"type\":\"scatter\"},{\"hoverinfo\":\"text\",\"marker\":{\"color\":\"rgb(0,116,217)\"},\"mode\":\"lines\",\"x\":[4.113910545878341,7.253985544496605,7.253985544496605,5.218003079979849],\"xaxis\":\"x\",\"y\":[-2204.296875,-2204.296875,-2491.69921875,-2491.69921875],\"yaxis\":\"y\",\"type\":\"scatter\"},{\"hoverinfo\":\"text\",\"marker\":{\"color\":\"rgb(0,116,217)\"},\"mode\":\"lines\",\"x\":[5.045055550192717,7.794939006446908,7.794939006446908,7.253985544496605],\"xaxis\":\"x\",\"y\":[-1906.015625,-1906.015625,-2347.998046875,-2347.998046875],\"yaxis\":\"y\",\"type\":\"scatter\"},{\"hoverinfo\":\"text\",\"marker\":{\"color\":\"rgb(0,116,217)\"},\"mode\":\"lines\",\"x\":[0.0,1.904200587393253,1.904200587393253,0.0],\"xaxis\":\"x\",\"y\":[-2805.0,-2805.0,-2815.0,-2815.0],\"yaxis\":\"y\",\"type\":\"scatter\"},{\"hoverinfo\":\"text\",\"marker\":{\"color\":\"rgb(0,116,217)\"},\"mode\":\"lines\",\"x\":[0.0,1.7631558707835553,1.7631558707835553,0.0],\"xaxis\":\"x\",\"y\":[-2835.0,-2835.0,-2845.0,-2845.0],\"yaxis\":\"y\",\"type\":\"scatter\"},{\"hoverinfo\":\"text\",\"marker\":{\"color\":\"rgb(0,116,217)\"},\"mode\":\"lines\",\"x\":[0.0,2.12235261636073,2.12235261636073,1.7631558707835553],\"xaxis\":\"x\",\"y\":[-2825.0,-2825.0,-2840.0,-2840.0],\"yaxis\":\"y\",\"type\":\"scatter\"},{\"hoverinfo\":\"text\",\"marker\":{\"color\":\"rgb(0,116,217)\"},\"mode\":\"lines\",\"x\":[1.904200587393253,2.5321303681491028,2.5321303681491028,2.12235261636073],\"xaxis\":\"x\",\"y\":[-2810.0,-2810.0,-2832.5,-2832.5],\"yaxis\":\"y\",\"type\":\"scatter\"},{\"hoverinfo\":\"text\",\"marker\":{\"color\":\"rgb(0,116,217)\"},\"mode\":\"lines\",\"x\":[0.0,1.8277574733037707,1.8277574733037707,0.0],\"xaxis\":\"x\",\"y\":[-2865.0,-2865.0,-2875.0,-2875.0],\"yaxis\":\"y\",\"type\":\"scatter\"},{\"hoverinfo\":\"text\",\"marker\":{\"color\":\"rgb(0,116,217)\"},\"mode\":\"lines\",\"x\":[0.0,1.877693929806484,1.877693929806484,1.8277574733037707],\"xaxis\":\"x\",\"y\":[-2855.0,-2855.0,-2870.0,-2870.0],\"yaxis\":\"y\",\"type\":\"scatter\"},{\"hoverinfo\":\"text\",\"marker\":{\"color\":\"rgb(0,116,217)\"},\"mode\":\"lines\",\"x\":[0.0,1.6323661464042523,1.6323661464042523,0.0],\"xaxis\":\"x\",\"y\":[-2885.0,-2885.0,-2895.0,-2895.0],\"yaxis\":\"y\",\"type\":\"scatter\"},{\"hoverinfo\":\"text\",\"marker\":{\"color\":\"rgb(0,116,217)\"},\"mode\":\"lines\",\"x\":[0.0,1.9358115385096075,1.9358115385096075,0.0],\"xaxis\":\"x\",\"y\":[-2905.0,-2905.0,-2915.0,-2915.0],\"yaxis\":\"y\",\"type\":\"scatter\"},{\"hoverinfo\":\"text\",\"marker\":{\"color\":\"rgb(0,116,217)\"},\"mode\":\"lines\",\"x\":[1.6323661464042523,2.0946505720335686,2.0946505720335686,1.9358115385096075],\"xaxis\":\"x\",\"y\":[-2890.0,-2890.0,-2910.0,-2910.0],\"yaxis\":\"y\",\"type\":\"scatter\"},{\"hoverinfo\":\"text\",\"marker\":{\"color\":\"rgb(0,116,217)\"},\"mode\":\"lines\",\"x\":[1.877693929806484,2.891824250681235,2.891824250681235,2.0946505720335686],\"xaxis\":\"x\",\"y\":[-2862.5,-2862.5,-2900.0,-2900.0],\"yaxis\":\"y\",\"type\":\"scatter\"},{\"hoverinfo\":\"text\",\"marker\":{\"color\":\"rgb(0,116,217)\"},\"mode\":\"lines\",\"x\":[2.5321303681491028,3.201093317297691,3.201093317297691,2.891824250681235],\"xaxis\":\"x\",\"y\":[-2821.25,-2821.25,-2881.25,-2881.25],\"yaxis\":\"y\",\"type\":\"scatter\"},{\"hoverinfo\":\"text\",\"marker\":{\"color\":\"rgb(0,116,217)\"},\"mode\":\"lines\",\"x\":[0.0,2.236072775514751,2.236072775514751,0.0],\"xaxis\":\"x\",\"y\":[-2935.0,-2935.0,-2945.0,-2945.0],\"yaxis\":\"y\",\"type\":\"scatter\"},{\"hoverinfo\":\"text\",\"marker\":{\"color\":\"rgb(0,116,217)\"},\"mode\":\"lines\",\"x\":[0.0,2.511629240828853,2.511629240828853,2.236072775514751],\"xaxis\":\"x\",\"y\":[-2925.0,-2925.0,-2940.0,-2940.0],\"yaxis\":\"y\",\"type\":\"scatter\"},{\"hoverinfo\":\"text\",\"marker\":{\"color\":\"rgb(0,116,217)\"},\"mode\":\"lines\",\"x\":[0.0,1.5180891864444224,1.5180891864444224,0.0],\"xaxis\":\"x\",\"y\":[-2955.0,-2955.0,-2965.0,-2965.0],\"yaxis\":\"y\",\"type\":\"scatter\"},{\"hoverinfo\":\"text\",\"marker\":{\"color\":\"rgb(0,116,217)\"},\"mode\":\"lines\",\"x\":[0.0,1.7477704940620287,1.7477704940620287,0.0],\"xaxis\":\"x\",\"y\":[-2975.0,-2975.0,-2985.0,-2985.0],\"yaxis\":\"y\",\"type\":\"scatter\"},{\"hoverinfo\":\"text\",\"marker\":{\"color\":\"rgb(0,116,217)\"},\"mode\":\"lines\",\"x\":[0.0,1.6595790763640266,1.6595790763640266,0.0],\"xaxis\":\"x\",\"y\":[-2995.0,-2995.0,-3005.0,-3005.0],\"yaxis\":\"y\",\"type\":\"scatter\"},{\"hoverinfo\":\"text\",\"marker\":{\"color\":\"rgb(0,116,217)\"},\"mode\":\"lines\",\"x\":[0.0,1.816824737569663,1.816824737569663,0.0],\"xaxis\":\"x\",\"y\":[-3015.0,-3015.0,-3025.0,-3025.0],\"yaxis\":\"y\",\"type\":\"scatter\"},{\"hoverinfo\":\"text\",\"marker\":{\"color\":\"rgb(0,116,217)\"},\"mode\":\"lines\",\"x\":[1.6595790763640266,1.9306309349684356,1.9306309349684356,1.816824737569663],\"xaxis\":\"x\",\"y\":[-3000.0,-3000.0,-3020.0,-3020.0],\"yaxis\":\"y\",\"type\":\"scatter\"},{\"hoverinfo\":\"text\",\"marker\":{\"color\":\"rgb(0,116,217)\"},\"mode\":\"lines\",\"x\":[1.7477704940620287,2.3785895494891145,2.3785895494891145,1.9306309349684356],\"xaxis\":\"x\",\"y\":[-2980.0,-2980.0,-3010.0,-3010.0],\"yaxis\":\"y\",\"type\":\"scatter\"},{\"hoverinfo\":\"text\",\"marker\":{\"color\":\"rgb(0,116,217)\"},\"mode\":\"lines\",\"x\":[1.5180891864444224,2.8044113113362124,2.8044113113362124,2.3785895494891145],\"xaxis\":\"x\",\"y\":[-2960.0,-2960.0,-2995.0,-2995.0],\"yaxis\":\"y\",\"type\":\"scatter\"},{\"hoverinfo\":\"text\",\"marker\":{\"color\":\"rgb(0,116,217)\"},\"mode\":\"lines\",\"x\":[2.511629240828853,3.3762985063203113,3.3762985063203113,2.8044113113362124],\"xaxis\":\"x\",\"y\":[-2932.5,-2932.5,-2977.5,-2977.5],\"yaxis\":\"y\",\"type\":\"scatter\"},{\"hoverinfo\":\"text\",\"marker\":{\"color\":\"rgb(0,116,217)\"},\"mode\":\"lines\",\"x\":[3.201093317297691,4.095909333456461,4.095909333456461,3.3762985063203113],\"xaxis\":\"x\",\"y\":[-2851.25,-2851.25,-2955.0,-2955.0],\"yaxis\":\"y\",\"type\":\"scatter\"},{\"hoverinfo\":\"text\",\"marker\":{\"color\":\"rgb(35,205,205)\"},\"mode\":\"lines\",\"x\":[0.0,0.7445432486739012,0.7445432486739012,0.0],\"xaxis\":\"x\",\"y\":[-3045.0,-3045.0,-3055.0,-3055.0],\"yaxis\":\"y\",\"type\":\"scatter\"},{\"hoverinfo\":\"text\",\"marker\":{\"color\":\"rgb(35,205,205)\"},\"mode\":\"lines\",\"x\":[0.0,0.9194306344548527,0.9194306344548527,0.7445432486739012],\"xaxis\":\"x\",\"y\":[-3035.0,-3035.0,-3050.0,-3050.0],\"yaxis\":\"y\",\"type\":\"scatter\"},{\"hoverinfo\":\"text\",\"marker\":{\"color\":\"rgb(0,116,217)\"},\"mode\":\"lines\",\"x\":[0.0,1.892893791584844,1.892893791584844,0.0],\"xaxis\":\"x\",\"y\":[-3075.0,-3075.0,-3085.0,-3085.0],\"yaxis\":\"y\",\"type\":\"scatter\"},{\"hoverinfo\":\"text\",\"marker\":{\"color\":\"rgb(0,116,217)\"},\"mode\":\"lines\",\"x\":[0.0,2.015929503162123,2.015929503162123,1.892893791584844],\"xaxis\":\"x\",\"y\":[-3065.0,-3065.0,-3080.0,-3080.0],\"yaxis\":\"y\",\"type\":\"scatter\"},{\"hoverinfo\":\"text\",\"marker\":{\"color\":\"rgb(0,116,217)\"},\"mode\":\"lines\",\"x\":[0.0,1.0574214700999849,1.0574214700999849,0.0],\"xaxis\":\"x\",\"y\":[-3115.0,-3115.0,-3125.0,-3125.0],\"yaxis\":\"y\",\"type\":\"scatter\"},{\"hoverinfo\":\"text\",\"marker\":{\"color\":\"rgb(0,116,217)\"},\"mode\":\"lines\",\"x\":[0.0,1.3228448863888604,1.3228448863888604,1.0574214700999849],\"xaxis\":\"x\",\"y\":[-3105.0,-3105.0,-3120.0,-3120.0],\"yaxis\":\"y\",\"type\":\"scatter\"},{\"hoverinfo\":\"text\",\"marker\":{\"color\":\"rgb(0,116,217)\"},\"mode\":\"lines\",\"x\":[0.0,1.9964782746345324,1.9964782746345324,1.3228448863888604],\"xaxis\":\"x\",\"y\":[-3095.0,-3095.0,-3112.5,-3112.5],\"yaxis\":\"y\",\"type\":\"scatter\"},{\"hoverinfo\":\"text\",\"marker\":{\"color\":\"rgb(0,116,217)\"},\"mode\":\"lines\",\"x\":[0.0,1.5449214330462315,1.5449214330462315,0.0],\"xaxis\":\"x\",\"y\":[-3135.0,-3135.0,-3145.0,-3145.0],\"yaxis\":\"y\",\"type\":\"scatter\"},{\"hoverinfo\":\"text\",\"marker\":{\"color\":\"rgb(0,116,217)\"},\"mode\":\"lines\",\"x\":[0.0,1.6977733934688255,1.6977733934688255,0.0],\"xaxis\":\"x\",\"y\":[-3155.0,-3155.0,-3165.0,-3165.0],\"yaxis\":\"y\",\"type\":\"scatter\"},{\"hoverinfo\":\"text\",\"marker\":{\"color\":\"rgb(0,116,217)\"},\"mode\":\"lines\",\"x\":[1.5449214330462315,2.146278415634954,2.146278415634954,1.6977733934688255],\"xaxis\":\"x\",\"y\":[-3140.0,-3140.0,-3160.0,-3160.0],\"yaxis\":\"y\",\"type\":\"scatter\"},{\"hoverinfo\":\"text\",\"marker\":{\"color\":\"rgb(0,116,217)\"},\"mode\":\"lines\",\"x\":[0.0,2.2330847662297915,2.2330847662297915,0.0],\"xaxis\":\"x\",\"y\":[-3175.0,-3175.0,-3185.0,-3185.0],\"yaxis\":\"y\",\"type\":\"scatter\"},{\"hoverinfo\":\"text\",\"marker\":{\"color\":\"rgb(0,116,217)\"},\"mode\":\"lines\",\"x\":[2.146278415634954,2.6047742702692482,2.6047742702692482,2.2330847662297915],\"xaxis\":\"x\",\"y\":[-3150.0,-3150.0,-3180.0,-3180.0],\"yaxis\":\"y\",\"type\":\"scatter\"},{\"hoverinfo\":\"text\",\"marker\":{\"color\":\"rgb(0,116,217)\"},\"mode\":\"lines\",\"x\":[0.0,1.5555265366950006,1.5555265366950006,0.0],\"xaxis\":\"x\",\"y\":[-3195.0,-3195.0,-3205.0,-3205.0],\"yaxis\":\"y\",\"type\":\"scatter\"},{\"hoverinfo\":\"text\",\"marker\":{\"color\":\"rgb(0,116,217)\"},\"mode\":\"lines\",\"x\":[0.0,1.8700962916455068,1.8700962916455068,0.0],\"xaxis\":\"x\",\"y\":[-3215.0,-3215.0,-3225.0,-3225.0],\"yaxis\":\"y\",\"type\":\"scatter\"},{\"hoverinfo\":\"text\",\"marker\":{\"color\":\"rgb(0,116,217)\"},\"mode\":\"lines\",\"x\":[1.5555265366950006,2.0445093143932365,2.0445093143932365,1.8700962916455068],\"xaxis\":\"x\",\"y\":[-3200.0,-3200.0,-3220.0,-3220.0],\"yaxis\":\"y\",\"type\":\"scatter\"},{\"hoverinfo\":\"text\",\"marker\":{\"color\":\"rgb(0,116,217)\"},\"mode\":\"lines\",\"x\":[0.0,1.496007662862101,1.496007662862101,0.0],\"xaxis\":\"x\",\"y\":[-3235.0,-3235.0,-3245.0,-3245.0],\"yaxis\":\"y\",\"type\":\"scatter\"},{\"hoverinfo\":\"text\",\"marker\":{\"color\":\"rgb(0,116,217)\"},\"mode\":\"lines\",\"x\":[0.0,1.727069402650912,1.727069402650912,0.0],\"xaxis\":\"x\",\"y\":[-3255.0,-3255.0,-3265.0,-3265.0],\"yaxis\":\"y\",\"type\":\"scatter\"},{\"hoverinfo\":\"text\",\"marker\":{\"color\":\"rgb(0,116,217)\"},\"mode\":\"lines\",\"x\":[1.496007662862101,2.1023095657952746,2.1023095657952746,1.727069402650912],\"xaxis\":\"x\",\"y\":[-3240.0,-3240.0,-3260.0,-3260.0],\"yaxis\":\"y\",\"type\":\"scatter\"},{\"hoverinfo\":\"text\",\"marker\":{\"color\":\"rgb(0,116,217)\"},\"mode\":\"lines\",\"x\":[2.0445093143932365,2.8676416719118643,2.8676416719118643,2.1023095657952746],\"xaxis\":\"x\",\"y\":[-3210.0,-3210.0,-3250.0,-3250.0],\"yaxis\":\"y\",\"type\":\"scatter\"},{\"hoverinfo\":\"text\",\"marker\":{\"color\":\"rgb(0,116,217)\"},\"mode\":\"lines\",\"x\":[2.6047742702692482,3.1000028560768276,3.1000028560768276,2.8676416719118643],\"xaxis\":\"x\",\"y\":[-3165.0,-3165.0,-3230.0,-3230.0],\"yaxis\":\"y\",\"type\":\"scatter\"},{\"hoverinfo\":\"text\",\"marker\":{\"color\":\"rgb(0,116,217)\"},\"mode\":\"lines\",\"x\":[1.9964782746345324,3.309185444472347,3.309185444472347,3.1000028560768276],\"xaxis\":\"x\",\"y\":[-3103.75,-3103.75,-3197.5,-3197.5],\"yaxis\":\"y\",\"type\":\"scatter\"},{\"hoverinfo\":\"text\",\"marker\":{\"color\":\"rgb(0,116,217)\"},\"mode\":\"lines\",\"x\":[2.015929503162123,3.9480102957080594,3.9480102957080594,3.309185444472347],\"xaxis\":\"x\",\"y\":[-3072.5,-3072.5,-3150.625,-3150.625],\"yaxis\":\"y\",\"type\":\"scatter\"},{\"hoverinfo\":\"text\",\"marker\":{\"color\":\"rgb(0,116,217)\"},\"mode\":\"lines\",\"x\":[0.9194306344548527,4.143481519075273,4.143481519075273,3.9480102957080594],\"xaxis\":\"x\",\"y\":[-3042.5,-3042.5,-3111.5625,-3111.5625],\"yaxis\":\"y\",\"type\":\"scatter\"},{\"hoverinfo\":\"text\",\"marker\":{\"color\":\"rgb(0,116,217)\"},\"mode\":\"lines\",\"x\":[4.095909333456461,6.0876322796519915,6.0876322796519915,4.143481519075273],\"xaxis\":\"x\",\"y\":[-2903.125,-2903.125,-3077.03125,-3077.03125],\"yaxis\":\"y\",\"type\":\"scatter\"},{\"hoverinfo\":\"text\",\"marker\":{\"color\":\"rgb(0,116,217)\"},\"mode\":\"lines\",\"x\":[0.0,1.1394372121844782,1.1394372121844782,0.0],\"xaxis\":\"x\",\"y\":[-3285.0,-3285.0,-3295.0,-3295.0],\"yaxis\":\"y\",\"type\":\"scatter\"},{\"hoverinfo\":\"text\",\"marker\":{\"color\":\"rgb(0,116,217)\"},\"mode\":\"lines\",\"x\":[0.0,1.0261780023745322,1.0261780023745322,0.0],\"xaxis\":\"x\",\"y\":[-3315.0,-3315.0,-3325.0,-3325.0],\"yaxis\":\"y\",\"type\":\"scatter\"},{\"hoverinfo\":\"text\",\"marker\":{\"color\":\"rgb(0,116,217)\"},\"mode\":\"lines\",\"x\":[0.0,1.5571101261081752,1.5571101261081752,1.0261780023745322],\"xaxis\":\"x\",\"y\":[-3305.0,-3305.0,-3320.0,-3320.0],\"yaxis\":\"y\",\"type\":\"scatter\"},{\"hoverinfo\":\"text\",\"marker\":{\"color\":\"rgb(0,116,217)\"},\"mode\":\"lines\",\"x\":[1.1394372121844782,1.7129117653783372,1.7129117653783372,1.5571101261081752],\"xaxis\":\"x\",\"y\":[-3290.0,-3290.0,-3312.5,-3312.5],\"yaxis\":\"y\",\"type\":\"scatter\"},{\"hoverinfo\":\"text\",\"marker\":{\"color\":\"rgb(0,116,217)\"},\"mode\":\"lines\",\"x\":[0.0,2.4431312340047016,2.4431312340047016,1.7129117653783372],\"xaxis\":\"x\",\"y\":[-3275.0,-3275.0,-3301.25,-3301.25],\"yaxis\":\"y\",\"type\":\"scatter\"},{\"hoverinfo\":\"text\",\"marker\":{\"color\":\"rgb(0,116,217)\"},\"mode\":\"lines\",\"x\":[0.0,1.2904384891207505,1.2904384891207505,0.0],\"xaxis\":\"x\",\"y\":[-3345.0,-3345.0,-3355.0,-3355.0],\"yaxis\":\"y\",\"type\":\"scatter\"},{\"hoverinfo\":\"text\",\"marker\":{\"color\":\"rgb(0,116,217)\"},\"mode\":\"lines\",\"x\":[0.0,1.6465622047252404,1.6465622047252404,1.2904384891207505],\"xaxis\":\"x\",\"y\":[-3335.0,-3335.0,-3350.0,-3350.0],\"yaxis\":\"y\",\"type\":\"scatter\"},{\"hoverinfo\":\"text\",\"marker\":{\"color\":\"rgb(0,116,217)\"},\"mode\":\"lines\",\"x\":[0.0,1.538527961926845,1.538527961926845,0.0],\"xaxis\":\"x\",\"y\":[-3375.0,-3375.0,-3385.0,-3385.0],\"yaxis\":\"y\",\"type\":\"scatter\"},{\"hoverinfo\":\"text\",\"marker\":{\"color\":\"rgb(0,116,217)\"},\"mode\":\"lines\",\"x\":[0.0,1.869904591755531,1.869904591755531,1.538527961926845],\"xaxis\":\"x\",\"y\":[-3365.0,-3365.0,-3380.0,-3380.0],\"yaxis\":\"y\",\"type\":\"scatter\"},{\"hoverinfo\":\"text\",\"marker\":{\"color\":\"rgb(0,116,217)\"},\"mode\":\"lines\",\"x\":[1.6465622047252404,2.064821357934747,2.064821357934747,1.869904591755531],\"xaxis\":\"x\",\"y\":[-3342.5,-3342.5,-3372.5,-3372.5],\"yaxis\":\"y\",\"type\":\"scatter\"},{\"hoverinfo\":\"text\",\"marker\":{\"color\":\"rgb(0,116,217)\"},\"mode\":\"lines\",\"x\":[0.0,1.604618815354057,1.604618815354057,0.0],\"xaxis\":\"x\",\"y\":[-3395.0,-3395.0,-3405.0,-3405.0],\"yaxis\":\"y\",\"type\":\"scatter\"},{\"hoverinfo\":\"text\",\"marker\":{\"color\":\"rgb(0,116,217)\"},\"mode\":\"lines\",\"x\":[0.0,2.0612866527497804,2.0612866527497804,0.0],\"xaxis\":\"x\",\"y\":[-3415.0,-3415.0,-3425.0,-3425.0],\"yaxis\":\"y\",\"type\":\"scatter\"},{\"hoverinfo\":\"text\",\"marker\":{\"color\":\"rgb(0,116,217)\"},\"mode\":\"lines\",\"x\":[1.604618815354057,2.255232153972267,2.255232153972267,2.0612866527497804],\"xaxis\":\"x\",\"y\":[-3400.0,-3400.0,-3420.0,-3420.0],\"yaxis\":\"y\",\"type\":\"scatter\"},{\"hoverinfo\":\"text\",\"marker\":{\"color\":\"rgb(0,116,217)\"},\"mode\":\"lines\",\"x\":[2.064821357934747,2.552912720438634,2.552912720438634,2.255232153972267],\"xaxis\":\"x\",\"y\":[-3357.5,-3357.5,-3410.0,-3410.0],\"yaxis\":\"y\",\"type\":\"scatter\"},{\"hoverinfo\":\"text\",\"marker\":{\"color\":\"rgb(0,116,217)\"},\"mode\":\"lines\",\"x\":[0.0,1.8001275684350428,1.8001275684350428,0.0],\"xaxis\":\"x\",\"y\":[-3445.0,-3445.0,-3455.0,-3455.0],\"yaxis\":\"y\",\"type\":\"scatter\"},{\"hoverinfo\":\"text\",\"marker\":{\"color\":\"rgb(0,116,217)\"},\"mode\":\"lines\",\"x\":[0.0,2.0023590127411373,2.0023590127411373,1.8001275684350428],\"xaxis\":\"x\",\"y\":[-3435.0,-3435.0,-3450.0,-3450.0],\"yaxis\":\"y\",\"type\":\"scatter\"},{\"hoverinfo\":\"text\",\"marker\":{\"color\":\"rgb(0,116,217)\"},\"mode\":\"lines\",\"x\":[0.0,1.4764260038701678,1.4764260038701678,0.0],\"xaxis\":\"x\",\"y\":[-3475.0,-3475.0,-3485.0,-3485.0],\"yaxis\":\"y\",\"type\":\"scatter\"},{\"hoverinfo\":\"text\",\"marker\":{\"color\":\"rgb(0,116,217)\"},\"mode\":\"lines\",\"x\":[0.0,2.0509453773288966,2.0509453773288966,1.4764260038701678],\"xaxis\":\"x\",\"y\":[-3465.0,-3465.0,-3480.0,-3480.0],\"yaxis\":\"y\",\"type\":\"scatter\"},{\"hoverinfo\":\"text\",\"marker\":{\"color\":\"rgb(0,116,217)\"},\"mode\":\"lines\",\"x\":[2.0023590127411373,2.5720110838485737,2.5720110838485737,2.0509453773288966],\"xaxis\":\"x\",\"y\":[-3442.5,-3442.5,-3472.5,-3472.5],\"yaxis\":\"y\",\"type\":\"scatter\"},{\"hoverinfo\":\"text\",\"marker\":{\"color\":\"rgb(0,116,217)\"},\"mode\":\"lines\",\"x\":[2.552912720438634,4.339575553458375,4.339575553458375,2.5720110838485737],\"xaxis\":\"x\",\"y\":[-3383.75,-3383.75,-3457.5,-3457.5],\"yaxis\":\"y\",\"type\":\"scatter\"},{\"hoverinfo\":\"text\",\"marker\":{\"color\":\"rgb(0,116,217)\"},\"mode\":\"lines\",\"x\":[2.4431312340047016,4.592094983306805,4.592094983306805,4.339575553458375],\"xaxis\":\"x\",\"y\":[-3288.125,-3288.125,-3420.625,-3420.625],\"yaxis\":\"y\",\"type\":\"scatter\"},{\"hoverinfo\":\"text\",\"marker\":{\"color\":\"rgb(0,116,217)\"},\"mode\":\"lines\",\"x\":[0.0,1.644195958022748,1.644195958022748,0.0],\"xaxis\":\"x\",\"y\":[-3505.0,-3505.0,-3515.0,-3515.0],\"yaxis\":\"y\",\"type\":\"scatter\"},{\"hoverinfo\":\"text\",\"marker\":{\"color\":\"rgb(0,116,217)\"},\"mode\":\"lines\",\"x\":[0.0,1.8767570136189862,1.8767570136189862,1.644195958022748],\"xaxis\":\"x\",\"y\":[-3495.0,-3495.0,-3510.0,-3510.0],\"yaxis\":\"y\",\"type\":\"scatter\"},{\"hoverinfo\":\"text\",\"marker\":{\"color\":\"rgb(0,116,217)\"},\"mode\":\"lines\",\"x\":[0.0,1.338072925891415,1.338072925891415,0.0],\"xaxis\":\"x\",\"y\":[-3525.0,-3525.0,-3535.0,-3535.0],\"yaxis\":\"y\",\"type\":\"scatter\"},{\"hoverinfo\":\"text\",\"marker\":{\"color\":\"rgb(0,116,217)\"},\"mode\":\"lines\",\"x\":[0.0,1.9147652519251783,1.9147652519251783,0.0],\"xaxis\":\"x\",\"y\":[-3545.0,-3545.0,-3555.0,-3555.0],\"yaxis\":\"y\",\"type\":\"scatter\"},{\"hoverinfo\":\"text\",\"marker\":{\"color\":\"rgb(0,116,217)\"},\"mode\":\"lines\",\"x\":[1.338072925891415,2.7544561905893272,2.7544561905893272,1.9147652519251783],\"xaxis\":\"x\",\"y\":[-3530.0,-3530.0,-3550.0,-3550.0],\"yaxis\":\"y\",\"type\":\"scatter\"},{\"hoverinfo\":\"text\",\"marker\":{\"color\":\"rgb(0,116,217)\"},\"mode\":\"lines\",\"x\":[1.8767570136189862,3.313309047056463,3.313309047056463,2.7544561905893272],\"xaxis\":\"x\",\"y\":[-3502.5,-3502.5,-3540.0,-3540.0],\"yaxis\":\"y\",\"type\":\"scatter\"},{\"hoverinfo\":\"text\",\"marker\":{\"color\":\"rgb(0,116,217)\"},\"mode\":\"lines\",\"x\":[0.0,1.3622986343388708,1.3622986343388708,0.0],\"xaxis\":\"x\",\"y\":[-3575.0,-3575.0,-3585.0,-3585.0],\"yaxis\":\"y\",\"type\":\"scatter\"},{\"hoverinfo\":\"text\",\"marker\":{\"color\":\"rgb(0,116,217)\"},\"mode\":\"lines\",\"x\":[0.0,1.8899161465280245,1.8899161465280245,1.3622986343388708],\"xaxis\":\"x\",\"y\":[-3565.0,-3565.0,-3580.0,-3580.0],\"yaxis\":\"y\",\"type\":\"scatter\"},{\"hoverinfo\":\"text\",\"marker\":{\"color\":\"rgb(0,116,217)\"},\"mode\":\"lines\",\"x\":[0.0,2.129357977781408,2.129357977781408,0.0],\"xaxis\":\"x\",\"y\":[-3605.0,-3605.0,-3615.0,-3615.0],\"yaxis\":\"y\",\"type\":\"scatter\"},{\"hoverinfo\":\"text\",\"marker\":{\"color\":\"rgb(0,116,217)\"},\"mode\":\"lines\",\"x\":[0.0,2.455908699813352,2.455908699813352,2.129357977781408],\"xaxis\":\"x\",\"y\":[-3595.0,-3595.0,-3610.0,-3610.0],\"yaxis\":\"y\",\"type\":\"scatter\"},{\"hoverinfo\":\"text\",\"marker\":{\"color\":\"rgb(0,116,217)\"},\"mode\":\"lines\",\"x\":[1.8899161465280245,2.7624244531723607,2.7624244531723607,2.455908699813352],\"xaxis\":\"x\",\"y\":[-3572.5,-3572.5,-3602.5,-3602.5],\"yaxis\":\"y\",\"type\":\"scatter\"},{\"hoverinfo\":\"text\",\"marker\":{\"color\":\"rgb(0,116,217)\"},\"mode\":\"lines\",\"x\":[0.0,1.5395716407302167,1.5395716407302167,0.0],\"xaxis\":\"x\",\"y\":[-3635.0,-3635.0,-3645.0,-3645.0],\"yaxis\":\"y\",\"type\":\"scatter\"},{\"hoverinfo\":\"text\",\"marker\":{\"color\":\"rgb(0,116,217)\"},\"mode\":\"lines\",\"x\":[0.0,1.8888278818100246,1.8888278818100246,1.5395716407302167],\"xaxis\":\"x\",\"y\":[-3625.0,-3625.0,-3640.0,-3640.0],\"yaxis\":\"y\",\"type\":\"scatter\"},{\"hoverinfo\":\"text\",\"marker\":{\"color\":\"rgb(0,116,217)\"},\"mode\":\"lines\",\"x\":[0.0,1.9404912658592348,1.9404912658592348,0.0],\"xaxis\":\"x\",\"y\":[-3655.0,-3655.0,-3665.0,-3665.0],\"yaxis\":\"y\",\"type\":\"scatter\"},{\"hoverinfo\":\"text\",\"marker\":{\"color\":\"rgb(0,116,217)\"},\"mode\":\"lines\",\"x\":[1.8888278818100246,2.2744472108401124,2.2744472108401124,1.9404912658592348],\"xaxis\":\"x\",\"y\":[-3632.5,-3632.5,-3660.0,-3660.0],\"yaxis\":\"y\",\"type\":\"scatter\"},{\"hoverinfo\":\"text\",\"marker\":{\"color\":\"rgb(0,116,217)\"},\"mode\":\"lines\",\"x\":[0.0,1.6339431743172126,1.6339431743172126,0.0],\"xaxis\":\"x\",\"y\":[-3675.0,-3675.0,-3685.0,-3685.0],\"yaxis\":\"y\",\"type\":\"scatter\"},{\"hoverinfo\":\"text\",\"marker\":{\"color\":\"rgb(0,116,217)\"},\"mode\":\"lines\",\"x\":[0.0,1.7467429061981314,1.7467429061981314,0.0],\"xaxis\":\"x\",\"y\":[-3695.0,-3695.0,-3705.0,-3705.0],\"yaxis\":\"y\",\"type\":\"scatter\"},{\"hoverinfo\":\"text\",\"marker\":{\"color\":\"rgb(0,116,217)\"},\"mode\":\"lines\",\"x\":[1.6339431743172126,2.3358023651413613,2.3358023651413613,1.7467429061981314],\"xaxis\":\"x\",\"y\":[-3680.0,-3680.0,-3700.0,-3700.0],\"yaxis\":\"y\",\"type\":\"scatter\"},{\"hoverinfo\":\"text\",\"marker\":{\"color\":\"rgb(0,116,217)\"},\"mode\":\"lines\",\"x\":[2.2744472108401124,3.426820877363041,3.426820877363041,2.3358023651413613],\"xaxis\":\"x\",\"y\":[-3646.25,-3646.25,-3690.0,-3690.0],\"yaxis\":\"y\",\"type\":\"scatter\"},{\"hoverinfo\":\"text\",\"marker\":{\"color\":\"rgb(0,116,217)\"},\"mode\":\"lines\",\"x\":[2.7624244531723607,4.445298094985668,4.445298094985668,3.426820877363041],\"xaxis\":\"x\",\"y\":[-3587.5,-3587.5,-3668.125,-3668.125],\"yaxis\":\"y\",\"type\":\"scatter\"},{\"hoverinfo\":\"text\",\"marker\":{\"color\":\"rgb(0,116,217)\"},\"mode\":\"lines\",\"x\":[3.313309047056463,4.796681280211592,4.796681280211592,4.445298094985668],\"xaxis\":\"x\",\"y\":[-3521.25,-3521.25,-3627.8125,-3627.8125],\"yaxis\":\"y\",\"type\":\"scatter\"},{\"hoverinfo\":\"text\",\"marker\":{\"color\":\"rgb(0,116,217)\"},\"mode\":\"lines\",\"x\":[4.592094983306805,6.291115106027945,6.291115106027945,4.796681280211592],\"xaxis\":\"x\",\"y\":[-3354.375,-3354.375,-3574.53125,-3574.53125],\"yaxis\":\"y\",\"type\":\"scatter\"},{\"hoverinfo\":\"text\",\"marker\":{\"color\":\"rgb(0,116,217)\"},\"mode\":\"lines\",\"x\":[6.0876322796519915,8.371873428100487,8.371873428100487,6.291115106027945],\"xaxis\":\"x\",\"y\":[-2990.078125,-2990.078125,-3464.453125,-3464.453125],\"yaxis\":\"y\",\"type\":\"scatter\"},{\"hoverinfo\":\"text\",\"marker\":{\"color\":\"rgb(0,116,217)\"},\"mode\":\"lines\",\"x\":[7.794939006446908,11.871123541879266,11.871123541879266,8.371873428100487],\"xaxis\":\"x\",\"y\":[-2127.0068359375,-2127.0068359375,-3227.265625,-3227.265625],\"yaxis\":\"y\",\"type\":\"scatter\"},{\"hoverinfo\":\"text\",\"marker\":{\"color\":\"rgb(0,116,217)\"},\"mode\":\"lines\",\"x\":[9.942333360899914,20.446445308133693,20.446445308133693,11.871123541879266],\"xaxis\":\"x\",\"y\":[-1230.791015625,-1230.791015625,-2677.13623046875,-2677.13623046875],\"yaxis\":\"y\",\"type\":\"scatter\"},{\"hoverinfo\":\"text\",\"marker\":{\"color\":\"rgb(0,116,217)\"},\"mode\":\"lines\",\"x\":[11.765229850831618,25.995533969902155,25.995533969902155,20.446445308133693],\"xaxis\":\"x\",\"y\":[-370.3515625,-370.3515625,-1953.963623046875,-1953.963623046875],\"yaxis\":\"y\",\"type\":\"scatter\"},{\"hoverinfo\":\"text\",\"marker\":{\"color\":\"rgb(0,116,217)\"},\"mode\":\"lines\",\"x\":[0.0,1.3266339167958425,1.3266339167958425,0.0],\"xaxis\":\"x\",\"y\":[-3725.0,-3725.0,-3735.0,-3735.0],\"yaxis\":\"y\",\"type\":\"scatter\"},{\"hoverinfo\":\"text\",\"marker\":{\"color\":\"rgb(0,116,217)\"},\"mode\":\"lines\",\"x\":[0.0,1.5358027085967842,1.5358027085967842,1.3266339167958425],\"xaxis\":\"x\",\"y\":[-3715.0,-3715.0,-3730.0,-3730.0],\"yaxis\":\"y\",\"type\":\"scatter\"},{\"hoverinfo\":\"text\",\"marker\":{\"color\":\"rgb(0,116,217)\"},\"mode\":\"lines\",\"x\":[0.0,1.4245222961653192,1.4245222961653192,0.0],\"xaxis\":\"x\",\"y\":[-3745.0,-3745.0,-3755.0,-3755.0],\"yaxis\":\"y\",\"type\":\"scatter\"},{\"hoverinfo\":\"text\",\"marker\":{\"color\":\"rgb(0,116,217)\"},\"mode\":\"lines\",\"x\":[0.0,1.5812976448495866,1.5812976448495866,0.0],\"xaxis\":\"x\",\"y\":[-3765.0,-3765.0,-3775.0,-3775.0],\"yaxis\":\"y\",\"type\":\"scatter\"},{\"hoverinfo\":\"text\",\"marker\":{\"color\":\"rgb(0,116,217)\"},\"mode\":\"lines\",\"x\":[1.4245222961653192,1.6610749737631219,1.6610749737631219,1.5812976448495866],\"xaxis\":\"x\",\"y\":[-3750.0,-3750.0,-3770.0,-3770.0],\"yaxis\":\"y\",\"type\":\"scatter\"},{\"hoverinfo\":\"text\",\"marker\":{\"color\":\"rgb(0,116,217)\"},\"mode\":\"lines\",\"x\":[0.0,1.1943819780158618,1.1943819780158618,0.0],\"xaxis\":\"x\",\"y\":[-3795.0,-3795.0,-3805.0,-3805.0],\"yaxis\":\"y\",\"type\":\"scatter\"},{\"hoverinfo\":\"text\",\"marker\":{\"color\":\"rgb(0,116,217)\"},\"mode\":\"lines\",\"x\":[0.0,1.7789447760377533,1.7789447760377533,1.1943819780158618],\"xaxis\":\"x\",\"y\":[-3785.0,-3785.0,-3800.0,-3800.0],\"yaxis\":\"y\",\"type\":\"scatter\"},{\"hoverinfo\":\"text\",\"marker\":{\"color\":\"rgb(0,116,217)\"},\"mode\":\"lines\",\"x\":[1.6610749737631219,2.158146130727005,2.158146130727005,1.7789447760377533],\"xaxis\":\"x\",\"y\":[-3760.0,-3760.0,-3792.5,-3792.5],\"yaxis\":\"y\",\"type\":\"scatter\"},{\"hoverinfo\":\"text\",\"marker\":{\"color\":\"rgb(0,116,217)\"},\"mode\":\"lines\",\"x\":[1.5358027085967842,2.995149511445489,2.995149511445489,2.158146130727005],\"xaxis\":\"x\",\"y\":[-3722.5,-3722.5,-3776.25,-3776.25],\"yaxis\":\"y\",\"type\":\"scatter\"},{\"hoverinfo\":\"text\",\"marker\":{\"color\":\"rgb(0,116,217)\"},\"mode\":\"lines\",\"x\":[0.0,1.280122920471661,1.280122920471661,0.0],\"xaxis\":\"x\",\"y\":[-3815.0,-3815.0,-3825.0,-3825.0],\"yaxis\":\"y\",\"type\":\"scatter\"},{\"hoverinfo\":\"text\",\"marker\":{\"color\":\"rgb(0,116,217)\"},\"mode\":\"lines\",\"x\":[0.0,1.6104510902197549,1.6104510902197549,0.0],\"xaxis\":\"x\",\"y\":[-3835.0,-3835.0,-3845.0,-3845.0],\"yaxis\":\"y\",\"type\":\"scatter\"},{\"hoverinfo\":\"text\",\"marker\":{\"color\":\"rgb(0,116,217)\"},\"mode\":\"lines\",\"x\":[1.280122920471661,2.0054496159176876,2.0054496159176876,1.6104510902197549],\"xaxis\":\"x\",\"y\":[-3820.0,-3820.0,-3840.0,-3840.0],\"yaxis\":\"y\",\"type\":\"scatter\"},{\"hoverinfo\":\"text\",\"marker\":{\"color\":\"rgb(0,116,217)\"},\"mode\":\"lines\",\"x\":[0.0,1.2120203705558281,1.2120203705558281,0.0],\"xaxis\":\"x\",\"y\":[-3865.0,-3865.0,-3875.0,-3875.0],\"yaxis\":\"y\",\"type\":\"scatter\"},{\"hoverinfo\":\"text\",\"marker\":{\"color\":\"rgb(0,116,217)\"},\"mode\":\"lines\",\"x\":[0.0,1.5204198953911652,1.5204198953911652,1.2120203705558281],\"xaxis\":\"x\",\"y\":[-3855.0,-3855.0,-3870.0,-3870.0],\"yaxis\":\"y\",\"type\":\"scatter\"},{\"hoverinfo\":\"text\",\"marker\":{\"color\":\"rgb(0,116,217)\"},\"mode\":\"lines\",\"x\":[0.0,1.4474883963975504,1.4474883963975504,0.0],\"xaxis\":\"x\",\"y\":[-3895.0,-3895.0,-3905.0,-3905.0],\"yaxis\":\"y\",\"type\":\"scatter\"},{\"hoverinfo\":\"text\",\"marker\":{\"color\":\"rgb(0,116,217)\"},\"mode\":\"lines\",\"x\":[0.0,1.537147583149006,1.537147583149006,1.4474883963975504],\"xaxis\":\"x\",\"y\":[-3885.0,-3885.0,-3900.0,-3900.0],\"yaxis\":\"y\",\"type\":\"scatter\"},{\"hoverinfo\":\"text\",\"marker\":{\"color\":\"rgb(0,116,217)\"},\"mode\":\"lines\",\"x\":[0.0,1.3463234617753548,1.3463234617753548,0.0],\"xaxis\":\"x\",\"y\":[-3915.0,-3915.0,-3925.0,-3925.0],\"yaxis\":\"y\",\"type\":\"scatter\"},{\"hoverinfo\":\"text\",\"marker\":{\"color\":\"rgb(0,116,217)\"},\"mode\":\"lines\",\"x\":[0.0,1.4639126162312817,1.4639126162312817,0.0],\"xaxis\":\"x\",\"y\":[-3935.0,-3935.0,-3945.0,-3945.0],\"yaxis\":\"y\",\"type\":\"scatter\"},{\"hoverinfo\":\"text\",\"marker\":{\"color\":\"rgb(0,116,217)\"},\"mode\":\"lines\",\"x\":[1.3463234617753548,2.063245690485381,2.063245690485381,1.4639126162312817],\"xaxis\":\"x\",\"y\":[-3920.0,-3920.0,-3940.0,-3940.0],\"yaxis\":\"y\",\"type\":\"scatter\"},{\"hoverinfo\":\"text\",\"marker\":{\"color\":\"rgb(0,116,217)\"},\"mode\":\"lines\",\"x\":[1.537147583149006,2.168655837368043,2.168655837368043,2.063245690485381],\"xaxis\":\"x\",\"y\":[-3892.5,-3892.5,-3930.0,-3930.0],\"yaxis\":\"y\",\"type\":\"scatter\"},{\"hoverinfo\":\"text\",\"marker\":{\"color\":\"rgb(0,116,217)\"},\"mode\":\"lines\",\"x\":[1.5204198953911652,2.6178360789937827,2.6178360789937827,2.168655837368043],\"xaxis\":\"x\",\"y\":[-3862.5,-3862.5,-3911.25,-3911.25],\"yaxis\":\"y\",\"type\":\"scatter\"},{\"hoverinfo\":\"text\",\"marker\":{\"color\":\"rgb(0,116,217)\"},\"mode\":\"lines\",\"x\":[2.0054496159176876,3.2519554303043234,3.2519554303043234,2.6178360789937827],\"xaxis\":\"x\",\"y\":[-3830.0,-3830.0,-3886.875,-3886.875],\"yaxis\":\"y\",\"type\":\"scatter\"},{\"hoverinfo\":\"text\",\"marker\":{\"color\":\"rgb(0,116,217)\"},\"mode\":\"lines\",\"x\":[2.995149511445489,3.7922029901775565,3.7922029901775565,3.2519554303043234],\"xaxis\":\"x\",\"y\":[-3749.375,-3749.375,-3858.4375,-3858.4375],\"yaxis\":\"y\",\"type\":\"scatter\"},{\"hoverinfo\":\"text\",\"marker\":{\"color\":\"rgb(0,116,217)\"},\"mode\":\"lines\",\"x\":[0.0,1.3760677065473998,1.3760677065473998,0.0],\"xaxis\":\"x\",\"y\":[-3955.0,-3955.0,-3965.0,-3965.0],\"yaxis\":\"y\",\"type\":\"scatter\"},{\"hoverinfo\":\"text\",\"marker\":{\"color\":\"rgb(0,116,217)\"},\"mode\":\"lines\",\"x\":[0.0,1.1604739579601204,1.1604739579601204,0.0],\"xaxis\":\"x\",\"y\":[-3975.0,-3975.0,-3985.0,-3985.0],\"yaxis\":\"y\",\"type\":\"scatter\"},{\"hoverinfo\":\"text\",\"marker\":{\"color\":\"rgb(0,116,217)\"},\"mode\":\"lines\",\"x\":[0.0,1.1788190975299713,1.1788190975299713,0.0],\"xaxis\":\"x\",\"y\":[-3995.0,-3995.0,-4005.0,-4005.0],\"yaxis\":\"y\",\"type\":\"scatter\"},{\"hoverinfo\":\"text\",\"marker\":{\"color\":\"rgb(0,116,217)\"},\"mode\":\"lines\",\"x\":[1.1604739579601204,1.993265970722132,1.993265970722132,1.1788190975299713],\"xaxis\":\"x\",\"y\":[-3980.0,-3980.0,-4000.0,-4000.0],\"yaxis\":\"y\",\"type\":\"scatter\"},{\"hoverinfo\":\"text\",\"marker\":{\"color\":\"rgb(0,116,217)\"},\"mode\":\"lines\",\"x\":[1.3760677065473998,2.228852563205372,2.228852563205372,1.993265970722132],\"xaxis\":\"x\",\"y\":[-3960.0,-3960.0,-3990.0,-3990.0],\"yaxis\":\"y\",\"type\":\"scatter\"},{\"hoverinfo\":\"text\",\"marker\":{\"color\":\"rgb(0,116,217)\"},\"mode\":\"lines\",\"x\":[0.0,1.373562643906096,1.373562643906096,0.0],\"xaxis\":\"x\",\"y\":[-4025.0,-4025.0,-4035.0,-4035.0],\"yaxis\":\"y\",\"type\":\"scatter\"},{\"hoverinfo\":\"text\",\"marker\":{\"color\":\"rgb(0,116,217)\"},\"mode\":\"lines\",\"x\":[0.0,1.556542805889944,1.556542805889944,0.0],\"xaxis\":\"x\",\"y\":[-4055.0,-4055.0,-4065.0,-4065.0],\"yaxis\":\"y\",\"type\":\"scatter\"},{\"hoverinfo\":\"text\",\"marker\":{\"color\":\"rgb(0,116,217)\"},\"mode\":\"lines\",\"x\":[0.0,1.6745614902385362,1.6745614902385362,1.556542805889944],\"xaxis\":\"x\",\"y\":[-4045.0,-4045.0,-4060.0,-4060.0],\"yaxis\":\"y\",\"type\":\"scatter\"},{\"hoverinfo\":\"text\",\"marker\":{\"color\":\"rgb(0,116,217)\"},\"mode\":\"lines\",\"x\":[1.373562643906096,1.7632021446684303,1.7632021446684303,1.6745614902385362],\"xaxis\":\"x\",\"y\":[-4030.0,-4030.0,-4052.5,-4052.5],\"yaxis\":\"y\",\"type\":\"scatter\"},{\"hoverinfo\":\"text\",\"marker\":{\"color\":\"rgb(0,116,217)\"},\"mode\":\"lines\",\"x\":[0.0,2.2776156051772842,2.2776156051772842,1.7632021446684303],\"xaxis\":\"x\",\"y\":[-4015.0,-4015.0,-4041.25,-4041.25],\"yaxis\":\"y\",\"type\":\"scatter\"},{\"hoverinfo\":\"text\",\"marker\":{\"color\":\"rgb(0,116,217)\"},\"mode\":\"lines\",\"x\":[2.228852563205372,2.767270999937421,2.767270999937421,2.2776156051772842],\"xaxis\":\"x\",\"y\":[-3975.0,-3975.0,-4028.125,-4028.125],\"yaxis\":\"y\",\"type\":\"scatter\"},{\"hoverinfo\":\"text\",\"marker\":{\"color\":\"rgb(0,116,217)\"},\"mode\":\"lines\",\"x\":[0.0,1.0739980145714896,1.0739980145714896,0.0],\"xaxis\":\"x\",\"y\":[-4075.0,-4075.0,-4085.0,-4085.0],\"yaxis\":\"y\",\"type\":\"scatter\"},{\"hoverinfo\":\"text\",\"marker\":{\"color\":\"rgb(0,116,217)\"},\"mode\":\"lines\",\"x\":[0.0,1.2332909994866552,1.2332909994866552,0.0],\"xaxis\":\"x\",\"y\":[-4095.0,-4095.0,-4105.0,-4105.0],\"yaxis\":\"y\",\"type\":\"scatter\"},{\"hoverinfo\":\"text\",\"marker\":{\"color\":\"rgb(0,116,217)\"},\"mode\":\"lines\",\"x\":[1.0739980145714896,1.6245724999768576,1.6245724999768576,1.2332909994866552],\"xaxis\":\"x\",\"y\":[-4080.0,-4080.0,-4100.0,-4100.0],\"yaxis\":\"y\",\"type\":\"scatter\"},{\"hoverinfo\":\"text\",\"marker\":{\"color\":\"rgb(0,116,217)\"},\"mode\":\"lines\",\"x\":[0.0,1.5347291864397157,1.5347291864397157,0.0],\"xaxis\":\"x\",\"y\":[-4115.0,-4115.0,-4125.0,-4125.0],\"yaxis\":\"y\",\"type\":\"scatter\"},{\"hoverinfo\":\"text\",\"marker\":{\"color\":\"rgb(0,116,217)\"},\"mode\":\"lines\",\"x\":[0.0,1.4894542422333563,1.4894542422333563,0.0],\"xaxis\":\"x\",\"y\":[-4145.0,-4145.0,-4155.0,-4155.0],\"yaxis\":\"y\",\"type\":\"scatter\"},{\"hoverinfo\":\"text\",\"marker\":{\"color\":\"rgb(0,116,217)\"},\"mode\":\"lines\",\"x\":[0.0,1.752152827511562,1.752152827511562,1.4894542422333563],\"xaxis\":\"x\",\"y\":[-4135.0,-4135.0,-4150.0,-4150.0],\"yaxis\":\"y\",\"type\":\"scatter\"},{\"hoverinfo\":\"text\",\"marker\":{\"color\":\"rgb(0,116,217)\"},\"mode\":\"lines\",\"x\":[1.5347291864397157,1.9026253110979903,1.9026253110979903,1.752152827511562],\"xaxis\":\"x\",\"y\":[-4120.0,-4120.0,-4142.5,-4142.5],\"yaxis\":\"y\",\"type\":\"scatter\"},{\"hoverinfo\":\"text\",\"marker\":{\"color\":\"rgb(0,116,217)\"},\"mode\":\"lines\",\"x\":[1.6245724999768576,2.143352264161299,2.143352264161299,1.9026253110979903],\"xaxis\":\"x\",\"y\":[-4090.0,-4090.0,-4131.25,-4131.25],\"yaxis\":\"y\",\"type\":\"scatter\"},{\"hoverinfo\":\"text\",\"marker\":{\"color\":\"rgb(0,116,217)\"},\"mode\":\"lines\",\"x\":[0.0,1.121518153172396,1.121518153172396,0.0],\"xaxis\":\"x\",\"y\":[-4175.0,-4175.0,-4185.0,-4185.0],\"yaxis\":\"y\",\"type\":\"scatter\"},{\"hoverinfo\":\"text\",\"marker\":{\"color\":\"rgb(0,116,217)\"},\"mode\":\"lines\",\"x\":[0.0,1.2618125153056698,1.2618125153056698,1.121518153172396],\"xaxis\":\"x\",\"y\":[-4165.0,-4165.0,-4180.0,-4180.0],\"yaxis\":\"y\",\"type\":\"scatter\"},{\"hoverinfo\":\"text\",\"marker\":{\"color\":\"rgb(0,116,217)\"},\"mode\":\"lines\",\"x\":[0.0,1.3936972312460763,1.3936972312460763,0.0],\"xaxis\":\"x\",\"y\":[-4195.0,-4195.0,-4205.0,-4205.0],\"yaxis\":\"y\",\"type\":\"scatter\"},{\"hoverinfo\":\"text\",\"marker\":{\"color\":\"rgb(0,116,217)\"},\"mode\":\"lines\",\"x\":[1.2618125153056698,2.3692873460341484,2.3692873460341484,1.3936972312460763],\"xaxis\":\"x\",\"y\":[-4172.5,-4172.5,-4200.0,-4200.0],\"yaxis\":\"y\",\"type\":\"scatter\"},{\"hoverinfo\":\"text\",\"marker\":{\"color\":\"rgb(0,116,217)\"},\"mode\":\"lines\",\"x\":[2.143352264161299,2.869716568272017,2.869716568272017,2.3692873460341484],\"xaxis\":\"x\",\"y\":[-4110.625,-4110.625,-4186.25,-4186.25],\"yaxis\":\"y\",\"type\":\"scatter\"},{\"hoverinfo\":\"text\",\"marker\":{\"color\":\"rgb(0,116,217)\"},\"mode\":\"lines\",\"x\":[2.767270999937421,3.899187249923676,3.899187249923676,2.869716568272017],\"xaxis\":\"x\",\"y\":[-4001.5625,-4001.5625,-4148.4375,-4148.4375],\"yaxis\":\"y\",\"type\":\"scatter\"},{\"hoverinfo\":\"text\",\"marker\":{\"color\":\"rgb(0,116,217)\"},\"mode\":\"lines\",\"x\":[0.0,1.4991244896831832,1.4991244896831832,0.0],\"xaxis\":\"x\",\"y\":[-4225.0,-4225.0,-4235.0,-4235.0],\"yaxis\":\"y\",\"type\":\"scatter\"},{\"hoverinfo\":\"text\",\"marker\":{\"color\":\"rgb(0,116,217)\"},\"mode\":\"lines\",\"x\":[0.0,1.7941952285133007,1.7941952285133007,1.4991244896831832],\"xaxis\":\"x\",\"y\":[-4215.0,-4215.0,-4230.0,-4230.0],\"yaxis\":\"y\",\"type\":\"scatter\"},{\"hoverinfo\":\"text\",\"marker\":{\"color\":\"rgb(133,20,75)\"},\"mode\":\"lines\",\"x\":[0.0,0.9373214146386676,0.9373214146386676,0.0],\"xaxis\":\"x\",\"y\":[-4245.0,-4245.0,-4255.0,-4255.0],\"yaxis\":\"y\",\"type\":\"scatter\"},{\"hoverinfo\":\"text\",\"marker\":{\"color\":\"rgb(0,116,217)\"},\"mode\":\"lines\",\"x\":[0.0,1.210189731328635,1.210189731328635,0.0],\"xaxis\":\"x\",\"y\":[-4265.0,-4265.0,-4275.0,-4275.0],\"yaxis\":\"y\",\"type\":\"scatter\"},{\"hoverinfo\":\"text\",\"marker\":{\"color\":\"rgb(0,116,217)\"},\"mode\":\"lines\",\"x\":[0.9373214146386676,1.9256305664983686,1.9256305664983686,1.210189731328635],\"xaxis\":\"x\",\"y\":[-4250.0,-4250.0,-4270.0,-4270.0],\"yaxis\":\"y\",\"type\":\"scatter\"},{\"hoverinfo\":\"text\",\"marker\":{\"color\":\"rgb(0,116,217)\"},\"mode\":\"lines\",\"x\":[1.7941952285133007,2.861824019747292,2.861824019747292,1.9256305664983686],\"xaxis\":\"x\",\"y\":[-4222.5,-4222.5,-4260.0,-4260.0],\"yaxis\":\"y\",\"type\":\"scatter\"},{\"hoverinfo\":\"text\",\"marker\":{\"color\":\"rgb(0,116,217)\"},\"mode\":\"lines\",\"x\":[0.0,1.236592565599014,1.236592565599014,0.0],\"xaxis\":\"x\",\"y\":[-4285.0,-4285.0,-4295.0,-4295.0],\"yaxis\":\"y\",\"type\":\"scatter\"},{\"hoverinfo\":\"text\",\"marker\":{\"color\":\"rgb(0,116,217)\"},\"mode\":\"lines\",\"x\":[0.0,1.2473440457664768,1.2473440457664768,0.0],\"xaxis\":\"x\",\"y\":[-4305.0,-4305.0,-4315.0,-4315.0],\"yaxis\":\"y\",\"type\":\"scatter\"},{\"hoverinfo\":\"text\",\"marker\":{\"color\":\"rgb(0,116,217)\"},\"mode\":\"lines\",\"x\":[1.236592565599014,1.66081251385463,1.66081251385463,1.2473440457664768],\"xaxis\":\"x\",\"y\":[-4290.0,-4290.0,-4310.0,-4310.0],\"yaxis\":\"y\",\"type\":\"scatter\"},{\"hoverinfo\":\"text\",\"marker\":{\"color\":\"rgb(0,116,217)\"},\"mode\":\"lines\",\"x\":[0.0,1.505089381605259,1.505089381605259,0.0],\"xaxis\":\"x\",\"y\":[-4335.0,-4335.0,-4345.0,-4345.0],\"yaxis\":\"y\",\"type\":\"scatter\"},{\"hoverinfo\":\"text\",\"marker\":{\"color\":\"rgb(0,116,217)\"},\"mode\":\"lines\",\"x\":[0.0,1.8296489611048916,1.8296489611048916,1.505089381605259],\"xaxis\":\"x\",\"y\":[-4325.0,-4325.0,-4340.0,-4340.0],\"yaxis\":\"y\",\"type\":\"scatter\"},{\"hoverinfo\":\"text\",\"marker\":{\"color\":\"rgb(0,116,217)\"},\"mode\":\"lines\",\"x\":[0.0,1.6904355838822367,1.6904355838822367,0.0],\"xaxis\":\"x\",\"y\":[-4355.0,-4355.0,-4365.0,-4365.0],\"yaxis\":\"y\",\"type\":\"scatter\"},{\"hoverinfo\":\"text\",\"marker\":{\"color\":\"rgb(0,116,217)\"},\"mode\":\"lines\",\"x\":[0.0,1.6931362636277125,1.6931362636277125,0.0],\"xaxis\":\"x\",\"y\":[-4375.0,-4375.0,-4385.0,-4385.0],\"yaxis\":\"y\",\"type\":\"scatter\"},{\"hoverinfo\":\"text\",\"marker\":{\"color\":\"rgb(0,116,217)\"},\"mode\":\"lines\",\"x\":[1.6904355838822367,1.9801861804083432,1.9801861804083432,1.6931362636277125],\"xaxis\":\"x\",\"y\":[-4360.0,-4360.0,-4380.0,-4380.0],\"yaxis\":\"y\",\"type\":\"scatter\"},{\"hoverinfo\":\"text\",\"marker\":{\"color\":\"rgb(0,116,217)\"},\"mode\":\"lines\",\"x\":[1.8296489611048916,2.364464915322358,2.364464915322358,1.9801861804083432],\"xaxis\":\"x\",\"y\":[-4332.5,-4332.5,-4370.0,-4370.0],\"yaxis\":\"y\",\"type\":\"scatter\"},{\"hoverinfo\":\"text\",\"marker\":{\"color\":\"rgb(0,116,217)\"},\"mode\":\"lines\",\"x\":[0.0,1.153160136168678,1.153160136168678,0.0],\"xaxis\":\"x\",\"y\":[-4395.0,-4395.0,-4405.0,-4405.0],\"yaxis\":\"y\",\"type\":\"scatter\"},{\"hoverinfo\":\"text\",\"marker\":{\"color\":\"rgb(0,116,217)\"},\"mode\":\"lines\",\"x\":[0.0,1.4196483508325761,1.4196483508325761,0.0],\"xaxis\":\"x\",\"y\":[-4415.0,-4415.0,-4425.0,-4425.0],\"yaxis\":\"y\",\"type\":\"scatter\"},{\"hoverinfo\":\"text\",\"marker\":{\"color\":\"rgb(0,116,217)\"},\"mode\":\"lines\",\"x\":[1.153160136168678,1.733201901500647,1.733201901500647,1.4196483508325761],\"xaxis\":\"x\",\"y\":[-4400.0,-4400.0,-4420.0,-4420.0],\"yaxis\":\"y\",\"type\":\"scatter\"},{\"hoverinfo\":\"text\",\"marker\":{\"color\":\"rgb(0,116,217)\"},\"mode\":\"lines\",\"x\":[0.0,1.2664377371842794,1.2664377371842794,0.0],\"xaxis\":\"x\",\"y\":[-4435.0,-4435.0,-4445.0,-4445.0],\"yaxis\":\"y\",\"type\":\"scatter\"},{\"hoverinfo\":\"text\",\"marker\":{\"color\":\"rgb(0,116,217)\"},\"mode\":\"lines\",\"x\":[0.0,1.5372164052345514,1.5372164052345514,0.0],\"xaxis\":\"x\",\"y\":[-4455.0,-4455.0,-4465.0,-4465.0],\"yaxis\":\"y\",\"type\":\"scatter\"},{\"hoverinfo\":\"text\",\"marker\":{\"color\":\"rgb(0,116,217)\"},\"mode\":\"lines\",\"x\":[1.2664377371842794,2.0915534474124877,2.0915534474124877,1.5372164052345514],\"xaxis\":\"x\",\"y\":[-4440.0,-4440.0,-4460.0,-4460.0],\"yaxis\":\"y\",\"type\":\"scatter\"},{\"hoverinfo\":\"text\",\"marker\":{\"color\":\"rgb(0,116,217)\"},\"mode\":\"lines\",\"x\":[1.733201901500647,2.7539786176225447,2.7539786176225447,2.0915534474124877],\"xaxis\":\"x\",\"y\":[-4410.0,-4410.0,-4450.0,-4450.0],\"yaxis\":\"y\",\"type\":\"scatter\"},{\"hoverinfo\":\"text\",\"marker\":{\"color\":\"rgb(0,116,217)\"},\"mode\":\"lines\",\"x\":[2.364464915322358,3.0712690452300606,3.0712690452300606,2.7539786176225447],\"xaxis\":\"x\",\"y\":[-4351.25,-4351.25,-4430.0,-4430.0],\"yaxis\":\"y\",\"type\":\"scatter\"},{\"hoverinfo\":\"text\",\"marker\":{\"color\":\"rgb(0,116,217)\"},\"mode\":\"lines\",\"x\":[1.66081251385463,3.3783139504188244,3.3783139504188244,3.0712690452300606],\"xaxis\":\"x\",\"y\":[-4300.0,-4300.0,-4390.625,-4390.625],\"yaxis\":\"y\",\"type\":\"scatter\"},{\"hoverinfo\":\"text\",\"marker\":{\"color\":\"rgb(0,116,217)\"},\"mode\":\"lines\",\"x\":[2.861824019747292,4.214335522427779,4.214335522427779,3.3783139504188244],\"xaxis\":\"x\",\"y\":[-4241.25,-4241.25,-4345.3125,-4345.3125],\"yaxis\":\"y\",\"type\":\"scatter\"},{\"hoverinfo\":\"text\",\"marker\":{\"color\":\"rgb(0,116,217)\"},\"mode\":\"lines\",\"x\":[0.0,1.293121632762415,1.293121632762415,0.0],\"xaxis\":\"x\",\"y\":[-4475.0,-4475.0,-4485.0,-4485.0],\"yaxis\":\"y\",\"type\":\"scatter\"},{\"hoverinfo\":\"text\",\"marker\":{\"color\":\"rgb(0,116,217)\"},\"mode\":\"lines\",\"x\":[0.0,1.6271073977717727,1.6271073977717727,0.0],\"xaxis\":\"x\",\"y\":[-4505.0,-4505.0,-4515.0,-4515.0],\"yaxis\":\"y\",\"type\":\"scatter\"},{\"hoverinfo\":\"text\",\"marker\":{\"color\":\"rgb(0,116,217)\"},\"mode\":\"lines\",\"x\":[0.0,1.7655197474922757,1.7655197474922757,1.6271073977717727],\"xaxis\":\"x\",\"y\":[-4495.0,-4495.0,-4510.0,-4510.0],\"yaxis\":\"y\",\"type\":\"scatter\"},{\"hoverinfo\":\"text\",\"marker\":{\"color\":\"rgb(0,116,217)\"},\"mode\":\"lines\",\"x\":[1.293121632762415,2.1498894413002607,2.1498894413002607,1.7655197474922757],\"xaxis\":\"x\",\"y\":[-4480.0,-4480.0,-4502.5,-4502.5],\"yaxis\":\"y\",\"type\":\"scatter\"},{\"hoverinfo\":\"text\",\"marker\":{\"color\":\"rgb(0,116,217)\"},\"mode\":\"lines\",\"x\":[0.0,1.3865117134358995,1.3865117134358995,0.0],\"xaxis\":\"x\",\"y\":[-4535.0,-4535.0,-4545.0,-4545.0],\"yaxis\":\"y\",\"type\":\"scatter\"},{\"hoverinfo\":\"text\",\"marker\":{\"color\":\"rgb(0,116,217)\"},\"mode\":\"lines\",\"x\":[0.0,1.6709305748914327,1.6709305748914327,1.3865117134358995],\"xaxis\":\"x\",\"y\":[-4525.0,-4525.0,-4540.0,-4540.0],\"yaxis\":\"y\",\"type\":\"scatter\"},{\"hoverinfo\":\"text\",\"marker\":{\"color\":\"rgb(0,116,217)\"},\"mode\":\"lines\",\"x\":[0.0,1.3407328272024173,1.3407328272024173,0.0],\"xaxis\":\"x\",\"y\":[-4555.0,-4555.0,-4565.0,-4565.0],\"yaxis\":\"y\",\"type\":\"scatter\"},{\"hoverinfo\":\"text\",\"marker\":{\"color\":\"rgb(0,116,217)\"},\"mode\":\"lines\",\"x\":[0.0,1.6994699574872454,1.6994699574872454,0.0],\"xaxis\":\"x\",\"y\":[-4575.0,-4575.0,-4585.0,-4585.0],\"yaxis\":\"y\",\"type\":\"scatter\"},{\"hoverinfo\":\"text\",\"marker\":{\"color\":\"rgb(0,116,217)\"},\"mode\":\"lines\",\"x\":[1.3407328272024173,2.0944305095883964,2.0944305095883964,1.6994699574872454],\"xaxis\":\"x\",\"y\":[-4560.0,-4560.0,-4580.0,-4580.0],\"yaxis\":\"y\",\"type\":\"scatter\"},{\"hoverinfo\":\"text\",\"marker\":{\"color\":\"rgb(0,116,217)\"},\"mode\":\"lines\",\"x\":[1.6709305748914327,2.243231227744974,2.243231227744974,2.0944305095883964],\"xaxis\":\"x\",\"y\":[-4532.5,-4532.5,-4570.0,-4570.0],\"yaxis\":\"y\",\"type\":\"scatter\"},{\"hoverinfo\":\"text\",\"marker\":{\"color\":\"rgb(0,116,217)\"},\"mode\":\"lines\",\"x\":[0.0,1.6017493438924997,1.6017493438924997,0.0],\"xaxis\":\"x\",\"y\":[-4595.0,-4595.0,-4605.0,-4605.0],\"yaxis\":\"y\",\"type\":\"scatter\"},{\"hoverinfo\":\"text\",\"marker\":{\"color\":\"rgb(0,116,217)\"},\"mode\":\"lines\",\"x\":[0.0,1.5850080530461923,1.5850080530461923,0.0],\"xaxis\":\"x\",\"y\":[-4615.0,-4615.0,-4625.0,-4625.0],\"yaxis\":\"y\",\"type\":\"scatter\"},{\"hoverinfo\":\"text\",\"marker\":{\"color\":\"rgb(0,116,217)\"},\"mode\":\"lines\",\"x\":[0.0,1.3618768223030915,1.3618768223030915,0.0],\"xaxis\":\"x\",\"y\":[-4645.0,-4645.0,-4655.0,-4655.0],\"yaxis\":\"y\",\"type\":\"scatter\"},{\"hoverinfo\":\"text\",\"marker\":{\"color\":\"rgb(0,116,217)\"},\"mode\":\"lines\",\"x\":[0.0,1.6695141976901535,1.6695141976901535,1.3618768223030915],\"xaxis\":\"x\",\"y\":[-4635.0,-4635.0,-4650.0,-4650.0],\"yaxis\":\"y\",\"type\":\"scatter\"},{\"hoverinfo\":\"text\",\"marker\":{\"color\":\"rgb(0,116,217)\"},\"mode\":\"lines\",\"x\":[1.5850080530461923,1.883146543289205,1.883146543289205,1.6695141976901535],\"xaxis\":\"x\",\"y\":[-4620.0,-4620.0,-4642.5,-4642.5],\"yaxis\":\"y\",\"type\":\"scatter\"},{\"hoverinfo\":\"text\",\"marker\":{\"color\":\"rgb(0,116,217)\"},\"mode\":\"lines\",\"x\":[1.6017493438924997,2.432664711744564,2.432664711744564,1.883146543289205],\"xaxis\":\"x\",\"y\":[-4600.0,-4600.0,-4631.25,-4631.25],\"yaxis\":\"y\",\"type\":\"scatter\"},{\"hoverinfo\":\"text\",\"marker\":{\"color\":\"rgb(0,116,217)\"},\"mode\":\"lines\",\"x\":[0.0,1.357767156816421,1.357767156816421,0.0],\"xaxis\":\"x\",\"y\":[-4675.0,-4675.0,-4685.0,-4685.0],\"yaxis\":\"y\",\"type\":\"scatter\"},{\"hoverinfo\":\"text\",\"marker\":{\"color\":\"rgb(0,116,217)\"},\"mode\":\"lines\",\"x\":[0.0,1.7837788070979776,1.7837788070979776,1.357767156816421],\"xaxis\":\"x\",\"y\":[-4665.0,-4665.0,-4680.0,-4680.0],\"yaxis\":\"y\",\"type\":\"scatter\"},{\"hoverinfo\":\"text\",\"marker\":{\"color\":\"rgb(0,116,217)\"},\"mode\":\"lines\",\"x\":[0.0,1.1705258872990214,1.1705258872990214,0.0],\"xaxis\":\"x\",\"y\":[-4725.0,-4725.0,-4735.0,-4735.0],\"yaxis\":\"y\",\"type\":\"scatter\"},{\"hoverinfo\":\"text\",\"marker\":{\"color\":\"rgb(0,116,217)\"},\"mode\":\"lines\",\"x\":[0.0,1.358403934777778,1.358403934777778,1.1705258872990214],\"xaxis\":\"x\",\"y\":[-4715.0,-4715.0,-4730.0,-4730.0],\"yaxis\":\"y\",\"type\":\"scatter\"},{\"hoverinfo\":\"text\",\"marker\":{\"color\":\"rgb(0,116,217)\"},\"mode\":\"lines\",\"x\":[0.0,1.5318441511117,1.5318441511117,1.358403934777778],\"xaxis\":\"x\",\"y\":[-4705.0,-4705.0,-4722.5,-4722.5],\"yaxis\":\"y\",\"type\":\"scatter\"},{\"hoverinfo\":\"text\",\"marker\":{\"color\":\"rgb(0,116,217)\"},\"mode\":\"lines\",\"x\":[0.0,2.17322561387755,2.17322561387755,1.5318441511117],\"xaxis\":\"x\",\"y\":[-4695.0,-4695.0,-4713.75,-4713.75],\"yaxis\":\"y\",\"type\":\"scatter\"},{\"hoverinfo\":\"text\",\"marker\":{\"color\":\"rgb(0,116,217)\"},\"mode\":\"lines\",\"x\":[1.7837788070979776,2.4546457812211027,2.4546457812211027,2.17322561387755],\"xaxis\":\"x\",\"y\":[-4672.5,-4672.5,-4704.375,-4704.375],\"yaxis\":\"y\",\"type\":\"scatter\"},{\"hoverinfo\":\"text\",\"marker\":{\"color\":\"rgb(0,116,217)\"},\"mode\":\"lines\",\"x\":[2.432664711744564,2.994469388165372,2.994469388165372,2.4546457812211027],\"xaxis\":\"x\",\"y\":[-4615.625,-4615.625,-4688.4375,-4688.4375],\"yaxis\":\"y\",\"type\":\"scatter\"},{\"hoverinfo\":\"text\",\"marker\":{\"color\":\"rgb(0,116,217)\"},\"mode\":\"lines\",\"x\":[2.243231227744974,4.225829263478801,4.225829263478801,2.994469388165372],\"xaxis\":\"x\",\"y\":[-4551.25,-4551.25,-4652.03125,-4652.03125],\"yaxis\":\"y\",\"type\":\"scatter\"},{\"hoverinfo\":\"text\",\"marker\":{\"color\":\"rgb(0,116,217)\"},\"mode\":\"lines\",\"x\":[2.1498894413002607,4.531756864956056,4.531756864956056,4.225829263478801],\"xaxis\":\"x\",\"y\":[-4491.25,-4491.25,-4601.640625,-4601.640625],\"yaxis\":\"y\",\"type\":\"scatter\"},{\"hoverinfo\":\"text\",\"marker\":{\"color\":\"rgb(0,116,217)\"},\"mode\":\"lines\",\"x\":[4.214335522427779,5.298727479863523,5.298727479863523,4.531756864956056],\"xaxis\":\"x\",\"y\":[-4293.28125,-4293.28125,-4546.4453125,-4546.4453125],\"yaxis\":\"y\",\"type\":\"scatter\"},{\"hoverinfo\":\"text\",\"marker\":{\"color\":\"rgb(0,116,217)\"},\"mode\":\"lines\",\"x\":[3.899187249923676,6.132548547510324,6.132548547510324,5.298727479863523],\"xaxis\":\"x\",\"y\":[-4075.0,-4075.0,-4419.86328125,-4419.86328125],\"yaxis\":\"y\",\"type\":\"scatter\"},{\"hoverinfo\":\"text\",\"marker\":{\"color\":\"rgb(0,116,217)\"},\"mode\":\"lines\",\"x\":[3.7922029901775565,7.979235372584881,7.979235372584881,6.132548547510324],\"xaxis\":\"x\",\"y\":[-3803.90625,-3803.90625,-4247.431640625,-4247.431640625],\"yaxis\":\"y\",\"type\":\"scatter\"},{\"hoverinfo\":\"text\",\"marker\":{\"color\":\"rgb(0,116,217)\"},\"mode\":\"lines\",\"x\":[0.0,1.062988764829662,1.062988764829662,0.0],\"xaxis\":\"x\",\"y\":[-4745.0,-4745.0,-4755.0,-4755.0],\"yaxis\":\"y\",\"type\":\"scatter\"},{\"hoverinfo\":\"text\",\"marker\":{\"color\":\"rgb(255,220,0)\"},\"mode\":\"lines\",\"x\":[0.0,0.9852526901091863,0.9852526901091863,0.0],\"xaxis\":\"x\",\"y\":[-4775.0,-4775.0,-4785.0,-4785.0],\"yaxis\":\"y\",\"type\":\"scatter\"},{\"hoverinfo\":\"text\",\"marker\":{\"color\":\"rgb(0,116,217)\"},\"mode\":\"lines\",\"x\":[0.0,1.205358230452392,1.205358230452392,0.9852526901091863],\"xaxis\":\"x\",\"y\":[-4765.0,-4765.0,-4780.0,-4780.0],\"yaxis\":\"y\",\"type\":\"scatter\"},{\"hoverinfo\":\"text\",\"marker\":{\"color\":\"rgb(0,116,217)\"},\"mode\":\"lines\",\"x\":[1.062988764829662,1.8122909165393184,1.8122909165393184,1.205358230452392],\"xaxis\":\"x\",\"y\":[-4750.0,-4750.0,-4772.5,-4772.5],\"yaxis\":\"y\",\"type\":\"scatter\"},{\"hoverinfo\":\"text\",\"marker\":{\"color\":\"rgb(0,116,217)\"},\"mode\":\"lines\",\"x\":[0.0,1.273016843459875,1.273016843459875,0.0],\"xaxis\":\"x\",\"y\":[-4805.0,-4805.0,-4815.0,-4815.0],\"yaxis\":\"y\",\"type\":\"scatter\"},{\"hoverinfo\":\"text\",\"marker\":{\"color\":\"rgb(0,116,217)\"},\"mode\":\"lines\",\"x\":[0.0,1.424637673968222,1.424637673968222,1.273016843459875],\"xaxis\":\"x\",\"y\":[-4795.0,-4795.0,-4810.0,-4810.0],\"yaxis\":\"y\",\"type\":\"scatter\"},{\"hoverinfo\":\"text\",\"marker\":{\"color\":\"rgb(0,116,217)\"},\"mode\":\"lines\",\"x\":[0.0,1.183309693782613,1.183309693782613,0.0],\"xaxis\":\"x\",\"y\":[-4845.0,-4845.0,-4855.0,-4855.0],\"yaxis\":\"y\",\"type\":\"scatter\"},{\"hoverinfo\":\"text\",\"marker\":{\"color\":\"rgb(0,116,217)\"},\"mode\":\"lines\",\"x\":[0.0,1.2819941450325036,1.2819941450325036,1.183309693782613],\"xaxis\":\"x\",\"y\":[-4835.0,-4835.0,-4850.0,-4850.0],\"yaxis\":\"y\",\"type\":\"scatter\"},{\"hoverinfo\":\"text\",\"marker\":{\"color\":\"rgb(0,116,217)\"},\"mode\":\"lines\",\"x\":[0.0,1.604977513190684,1.604977513190684,1.2819941450325036],\"xaxis\":\"x\",\"y\":[-4825.0,-4825.0,-4842.5,-4842.5],\"yaxis\":\"y\",\"type\":\"scatter\"},{\"hoverinfo\":\"text\",\"marker\":{\"color\":\"rgb(0,116,217)\"},\"mode\":\"lines\",\"x\":[1.424637673968222,1.9601500166246142,1.9601500166246142,1.604977513190684],\"xaxis\":\"x\",\"y\":[-4802.5,-4802.5,-4833.75,-4833.75],\"yaxis\":\"y\",\"type\":\"scatter\"},{\"hoverinfo\":\"text\",\"marker\":{\"color\":\"rgb(0,116,217)\"},\"mode\":\"lines\",\"x\":[1.8122909165393184,2.806522783814377,2.806522783814377,1.9601500166246142],\"xaxis\":\"x\",\"y\":[-4761.25,-4761.25,-4818.125,-4818.125],\"yaxis\":\"y\",\"type\":\"scatter\"},{\"hoverinfo\":\"text\",\"marker\":{\"color\":\"rgb(40,35,35)\"},\"mode\":\"lines\",\"x\":[0.0,0.8439325127814267,0.8439325127814267,0.0],\"xaxis\":\"x\",\"y\":[-4865.0,-4865.0,-4875.0,-4875.0],\"yaxis\":\"y\",\"type\":\"scatter\"},{\"hoverinfo\":\"text\",\"marker\":{\"color\":\"rgb(0,116,217)\"},\"mode\":\"lines\",\"x\":[0.0,1.1350993505895706,1.1350993505895706,0.0],\"xaxis\":\"x\",\"y\":[-4895.0,-4895.0,-4905.0,-4905.0],\"yaxis\":\"y\",\"type\":\"scatter\"},{\"hoverinfo\":\"text\",\"marker\":{\"color\":\"rgb(0,116,217)\"},\"mode\":\"lines\",\"x\":[0.0,1.2685808587919278,1.2685808587919278,1.1350993505895706],\"xaxis\":\"x\",\"y\":[-4885.0,-4885.0,-4900.0,-4900.0],\"yaxis\":\"y\",\"type\":\"scatter\"},{\"hoverinfo\":\"text\",\"marker\":{\"color\":\"rgb(0,116,217)\"},\"mode\":\"lines\",\"x\":[0.0,1.3653587109254663,1.3653587109254663,0.0],\"xaxis\":\"x\",\"y\":[-4915.0,-4915.0,-4925.0,-4925.0],\"yaxis\":\"y\",\"type\":\"scatter\"},{\"hoverinfo\":\"text\",\"marker\":{\"color\":\"rgb(0,116,217)\"},\"mode\":\"lines\",\"x\":[1.2685808587919278,1.6747974936554264,1.6747974936554264,1.3653587109254663],\"xaxis\":\"x\",\"y\":[-4892.5,-4892.5,-4920.0,-4920.0],\"yaxis\":\"y\",\"type\":\"scatter\"},{\"hoverinfo\":\"text\",\"marker\":{\"color\":\"rgb(0,116,217)\"},\"mode\":\"lines\",\"x\":[0.8439325127814267,2.027305744361472,2.027305744361472,1.6747974936554264],\"xaxis\":\"x\",\"y\":[-4870.0,-4870.0,-4906.25,-4906.25],\"yaxis\":\"y\",\"type\":\"scatter\"},{\"hoverinfo\":\"text\",\"marker\":{\"color\":\"rgb(61,153,112)\"},\"mode\":\"lines\",\"x\":[0.0,0.950681205726281,0.950681205726281,0.0],\"xaxis\":\"x\",\"y\":[-4935.0,-4935.0,-4945.0,-4945.0],\"yaxis\":\"y\",\"type\":\"scatter\"},{\"hoverinfo\":\"text\",\"marker\":{\"color\":\"rgb(0,116,217)\"},\"mode\":\"lines\",\"x\":[0.0,1.2285801237055851,1.2285801237055851,0.0],\"xaxis\":\"x\",\"y\":[-4955.0,-4955.0,-4965.0,-4965.0],\"yaxis\":\"y\",\"type\":\"scatter\"},{\"hoverinfo\":\"text\",\"marker\":{\"color\":\"rgb(0,116,217)\"},\"mode\":\"lines\",\"x\":[0.950681205726281,1.7591676530724478,1.7591676530724478,1.2285801237055851],\"xaxis\":\"x\",\"y\":[-4940.0,-4940.0,-4960.0,-4960.0],\"yaxis\":\"y\",\"type\":\"scatter\"},{\"hoverinfo\":\"text\",\"marker\":{\"color\":\"rgb(0,116,217)\"},\"mode\":\"lines\",\"x\":[0.0,1.2949101655750708,1.2949101655750708,0.0],\"xaxis\":\"x\",\"y\":[-4975.0,-4975.0,-4985.0,-4985.0],\"yaxis\":\"y\",\"type\":\"scatter\"},{\"hoverinfo\":\"text\",\"marker\":{\"color\":\"rgb(0,116,217)\"},\"mode\":\"lines\",\"x\":[0.0,1.3881470740772603,1.3881470740772603,0.0],\"xaxis\":\"x\",\"y\":[-4995.0,-4995.0,-5005.0,-5005.0],\"yaxis\":\"y\",\"type\":\"scatter\"},{\"hoverinfo\":\"text\",\"marker\":{\"color\":\"rgb(0,116,217)\"},\"mode\":\"lines\",\"x\":[1.2949101655750708,1.916214519416514,1.916214519416514,1.3881470740772603],\"xaxis\":\"x\",\"y\":[-4980.0,-4980.0,-5000.0,-5000.0],\"yaxis\":\"y\",\"type\":\"scatter\"},{\"hoverinfo\":\"text\",\"marker\":{\"color\":\"rgb(0,116,217)\"},\"mode\":\"lines\",\"x\":[1.7591676530724478,2.207929520086891,2.207929520086891,1.916214519416514],\"xaxis\":\"x\",\"y\":[-4950.0,-4950.0,-4990.0,-4990.0],\"yaxis\":\"y\",\"type\":\"scatter\"},{\"hoverinfo\":\"text\",\"marker\":{\"color\":\"rgb(0,116,217)\"},\"mode\":\"lines\",\"x\":[2.027305744361472,3.195249445995882,3.195249445995882,2.207929520086891],\"xaxis\":\"x\",\"y\":[-4888.125,-4888.125,-4970.0,-4970.0],\"yaxis\":\"y\",\"type\":\"scatter\"},{\"hoverinfo\":\"text\",\"marker\":{\"color\":\"rgb(0,116,217)\"},\"mode\":\"lines\",\"x\":[2.806522783814377,3.4090462053837314,3.4090462053837314,3.195249445995882],\"xaxis\":\"x\",\"y\":[-4789.6875,-4789.6875,-4929.0625,-4929.0625],\"yaxis\":\"y\",\"type\":\"scatter\"},{\"hoverinfo\":\"text\",\"marker\":{\"color\":\"rgb(0,116,217)\"},\"mode\":\"lines\",\"x\":[0.0,1.2804882029043998,1.2804882029043998,0.0],\"xaxis\":\"x\",\"y\":[-5015.0,-5015.0,-5025.0,-5025.0],\"yaxis\":\"y\",\"type\":\"scatter\"},{\"hoverinfo\":\"text\",\"marker\":{\"color\":\"rgb(255,65,54)\"},\"mode\":\"lines\",\"x\":[0.0,0.7711551035857613,0.7711551035857613,0.0],\"xaxis\":\"x\",\"y\":[-5035.0,-5035.0,-5045.0,-5045.0],\"yaxis\":\"y\",\"type\":\"scatter\"},{\"hoverinfo\":\"text\",\"marker\":{\"color\":\"rgb(0,116,217)\"},\"mode\":\"lines\",\"x\":[0.0,1.05430913961716,1.05430913961716,0.0],\"xaxis\":\"x\",\"y\":[-5055.0,-5055.0,-5065.0,-5065.0],\"yaxis\":\"y\",\"type\":\"scatter\"},{\"hoverinfo\":\"text\",\"marker\":{\"color\":\"rgb(0,116,217)\"},\"mode\":\"lines\",\"x\":[0.7711551035857613,1.4503280259502447,1.4503280259502447,1.05430913961716],\"xaxis\":\"x\",\"y\":[-5040.0,-5040.0,-5060.0,-5060.0],\"yaxis\":\"y\",\"type\":\"scatter\"},{\"hoverinfo\":\"text\",\"marker\":{\"color\":\"rgb(0,116,217)\"},\"mode\":\"lines\",\"x\":[1.2804882029043998,1.7965649489044178,1.7965649489044178,1.4503280259502447],\"xaxis\":\"x\",\"y\":[-5020.0,-5020.0,-5050.0,-5050.0],\"yaxis\":\"y\",\"type\":\"scatter\"},{\"hoverinfo\":\"text\",\"marker\":{\"color\":\"rgb(35,205,205)\"},\"mode\":\"lines\",\"x\":[0.0,0.7115674850106734,0.7115674850106734,0.0],\"xaxis\":\"x\",\"y\":[-5085.0,-5085.0,-5095.0,-5095.0],\"yaxis\":\"y\",\"type\":\"scatter\"},{\"hoverinfo\":\"text\",\"marker\":{\"color\":\"rgb(0,116,217)\"},\"mode\":\"lines\",\"x\":[0.0,1.020398367396837,1.020398367396837,0.7115674850106734],\"xaxis\":\"x\",\"y\":[-5075.0,-5075.0,-5090.0,-5090.0],\"yaxis\":\"y\",\"type\":\"scatter\"},{\"hoverinfo\":\"text\",\"marker\":{\"color\":\"rgb(61,153,112)\"},\"mode\":\"lines\",\"x\":[0.0,0.677913367696191,0.677913367696191,0.0],\"xaxis\":\"x\",\"y\":[-5105.0,-5105.0,-5115.0,-5115.0],\"yaxis\":\"y\",\"type\":\"scatter\"},{\"hoverinfo\":\"text\",\"marker\":{\"color\":\"rgb(255,65,54)\"},\"mode\":\"lines\",\"x\":[0.0,0.8876903364075435,0.8876903364075435,0.0],\"xaxis\":\"x\",\"y\":[-5125.0,-5125.0,-5135.0,-5135.0],\"yaxis\":\"y\",\"type\":\"scatter\"},{\"hoverinfo\":\"text\",\"marker\":{\"color\":\"rgb(35,205,205)\"},\"mode\":\"lines\",\"x\":[0.0,0.7430044104381766,0.7430044104381766,0.0],\"xaxis\":\"x\",\"y\":[-5155.0,-5155.0,-5165.0,-5165.0],\"yaxis\":\"y\",\"type\":\"scatter\"},{\"hoverinfo\":\"text\",\"marker\":{\"color\":\"rgb(0,116,217)\"},\"mode\":\"lines\",\"x\":[0.0,1.0736177604188821,1.0736177604188821,0.7430044104381766],\"xaxis\":\"x\",\"y\":[-5145.0,-5145.0,-5160.0,-5160.0],\"yaxis\":\"y\",\"type\":\"scatter\"},{\"hoverinfo\":\"text\",\"marker\":{\"color\":\"rgb(0,116,217)\"},\"mode\":\"lines\",\"x\":[0.8876903364075435,1.399982493531442,1.399982493531442,1.0736177604188821],\"xaxis\":\"x\",\"y\":[-5130.0,-5130.0,-5152.5,-5152.5],\"yaxis\":\"y\",\"type\":\"scatter\"},{\"hoverinfo\":\"text\",\"marker\":{\"color\":\"rgb(0,116,217)\"},\"mode\":\"lines\",\"x\":[0.677913367696191,1.7590948285214447,1.7590948285214447,1.399982493531442],\"xaxis\":\"x\",\"y\":[-5110.0,-5110.0,-5141.25,-5141.25],\"yaxis\":\"y\",\"type\":\"scatter\"},{\"hoverinfo\":\"text\",\"marker\":{\"color\":\"rgb(0,116,217)\"},\"mode\":\"lines\",\"x\":[1.020398367396837,1.9015836821224263,1.9015836821224263,1.7590948285214447],\"xaxis\":\"x\",\"y\":[-5082.5,-5082.5,-5125.625,-5125.625],\"yaxis\":\"y\",\"type\":\"scatter\"},{\"hoverinfo\":\"text\",\"marker\":{\"color\":\"rgb(0,116,217)\"},\"mode\":\"lines\",\"x\":[1.7965649489044178,2.570001384957205,2.570001384957205,1.9015836821224263],\"xaxis\":\"x\",\"y\":[-5035.0,-5035.0,-5104.0625,-5104.0625],\"yaxis\":\"y\",\"type\":\"scatter\"},{\"hoverinfo\":\"text\",\"marker\":{\"color\":\"rgb(0,116,217)\"},\"mode\":\"lines\",\"x\":[0.0,1.3388209885570679,1.3388209885570679,0.0],\"xaxis\":\"x\",\"y\":[-5175.0,-5175.0,-5185.0,-5185.0],\"yaxis\":\"y\",\"type\":\"scatter\"},{\"hoverinfo\":\"text\",\"marker\":{\"color\":\"rgb(0,116,217)\"},\"mode\":\"lines\",\"x\":[0.0,1.2956367385620111,1.2956367385620111,0.0],\"xaxis\":\"x\",\"y\":[-5195.0,-5195.0,-5205.0,-5205.0],\"yaxis\":\"y\",\"type\":\"scatter\"},{\"hoverinfo\":\"text\",\"marker\":{\"color\":\"rgb(0,116,217)\"},\"mode\":\"lines\",\"x\":[0.0,1.5517433883186367,1.5517433883186367,0.0],\"xaxis\":\"x\",\"y\":[-5215.0,-5215.0,-5225.0,-5225.0],\"yaxis\":\"y\",\"type\":\"scatter\"},{\"hoverinfo\":\"text\",\"marker\":{\"color\":\"rgb(0,116,217)\"},\"mode\":\"lines\",\"x\":[1.2956367385620111,1.7625694143347876,1.7625694143347876,1.5517433883186367],\"xaxis\":\"x\",\"y\":[-5200.0,-5200.0,-5220.0,-5220.0],\"yaxis\":\"y\",\"type\":\"scatter\"},{\"hoverinfo\":\"text\",\"marker\":{\"color\":\"rgb(0,116,217)\"},\"mode\":\"lines\",\"x\":[1.3388209885570679,2.6284097852207458,2.6284097852207458,1.7625694143347876],\"xaxis\":\"x\",\"y\":[-5180.0,-5180.0,-5210.0,-5210.0],\"yaxis\":\"y\",\"type\":\"scatter\"},{\"hoverinfo\":\"text\",\"marker\":{\"color\":\"rgb(0,116,217)\"},\"mode\":\"lines\",\"x\":[2.570001384957205,3.341408962725785,3.341408962725785,2.6284097852207458],\"xaxis\":\"x\",\"y\":[-5069.53125,-5069.53125,-5195.0,-5195.0],\"yaxis\":\"y\",\"type\":\"scatter\"},{\"hoverinfo\":\"text\",\"marker\":{\"color\":\"rgb(133,20,75)\"},\"mode\":\"lines\",\"x\":[0.0,0.4965383577063936,0.4965383577063936,0.0],\"xaxis\":\"x\",\"y\":[-5245.0,-5245.0,-5255.0,-5255.0],\"yaxis\":\"y\",\"type\":\"scatter\"},{\"hoverinfo\":\"text\",\"marker\":{\"color\":\"rgb(133,20,75)\"},\"mode\":\"lines\",\"x\":[0.0,0.7275565174993901,0.7275565174993901,0.4965383577063936],\"xaxis\":\"x\",\"y\":[-5235.0,-5235.0,-5250.0,-5250.0],\"yaxis\":\"y\",\"type\":\"scatter\"},{\"hoverinfo\":\"text\",\"marker\":{\"color\":\"rgb(255,220,0)\"},\"mode\":\"lines\",\"x\":[0.0,0.6847172243464924,0.6847172243464924,0.0],\"xaxis\":\"x\",\"y\":[-5265.0,-5265.0,-5275.0,-5275.0],\"yaxis\":\"y\",\"type\":\"scatter\"},{\"hoverinfo\":\"text\",\"marker\":{\"color\":\"rgb(40,35,35)\"},\"mode\":\"lines\",\"x\":[0.0,0.9849723326764775,0.9849723326764775,0.0],\"xaxis\":\"x\",\"y\":[-5295.0,-5295.0,-5305.0,-5305.0],\"yaxis\":\"y\",\"type\":\"scatter\"},{\"hoverinfo\":\"text\",\"marker\":{\"color\":\"rgb(0,116,217)\"},\"mode\":\"lines\",\"x\":[0.0,1.0176560221458337,1.0176560221458337,0.9849723326764775],\"xaxis\":\"x\",\"y\":[-5285.0,-5285.0,-5300.0,-5300.0],\"yaxis\":\"y\",\"type\":\"scatter\"},{\"hoverinfo\":\"text\",\"marker\":{\"color\":\"rgb(0,116,217)\"},\"mode\":\"lines\",\"x\":[0.6847172243464924,1.5882180193303737,1.5882180193303737,1.0176560221458337],\"xaxis\":\"x\",\"y\":[-5270.0,-5270.0,-5292.5,-5292.5],\"yaxis\":\"y\",\"type\":\"scatter\"},{\"hoverinfo\":\"text\",\"marker\":{\"color\":\"rgb(0,116,217)\"},\"mode\":\"lines\",\"x\":[0.7275565174993901,1.849349316500834,1.849349316500834,1.5882180193303737],\"xaxis\":\"x\",\"y\":[-5242.5,-5242.5,-5281.25,-5281.25],\"yaxis\":\"y\",\"type\":\"scatter\"},{\"hoverinfo\":\"text\",\"marker\":{\"color\":\"rgb(0,116,217)\"},\"mode\":\"lines\",\"x\":[0.0,1.320938941216853,1.320938941216853,0.0],\"xaxis\":\"x\",\"y\":[-5325.0,-5325.0,-5335.0,-5335.0],\"yaxis\":\"y\",\"type\":\"scatter\"},{\"hoverinfo\":\"text\",\"marker\":{\"color\":\"rgb(0,116,217)\"},\"mode\":\"lines\",\"x\":[0.0,1.4748669108856922,1.4748669108856922,1.320938941216853],\"xaxis\":\"x\",\"y\":[-5315.0,-5315.0,-5330.0,-5330.0],\"yaxis\":\"y\",\"type\":\"scatter\"},{\"hoverinfo\":\"text\",\"marker\":{\"color\":\"rgb(0,116,217)\"},\"mode\":\"lines\",\"x\":[0.0,1.262757756439585,1.262757756439585,0.0],\"xaxis\":\"x\",\"y\":[-5345.0,-5345.0,-5355.0,-5355.0],\"yaxis\":\"y\",\"type\":\"scatter\"},{\"hoverinfo\":\"text\",\"marker\":{\"color\":\"rgb(0,116,217)\"},\"mode\":\"lines\",\"x\":[0.0,1.335906718428659,1.335906718428659,0.0],\"xaxis\":\"x\",\"y\":[-5365.0,-5365.0,-5375.0,-5375.0],\"yaxis\":\"y\",\"type\":\"scatter\"},{\"hoverinfo\":\"text\",\"marker\":{\"color\":\"rgb(0,116,217)\"},\"mode\":\"lines\",\"x\":[1.262757756439585,1.7278483225831252,1.7278483225831252,1.335906718428659],\"xaxis\":\"x\",\"y\":[-5350.0,-5350.0,-5370.0,-5370.0],\"yaxis\":\"y\",\"type\":\"scatter\"},{\"hoverinfo\":\"text\",\"marker\":{\"color\":\"rgb(0,116,217)\"},\"mode\":\"lines\",\"x\":[1.4748669108856922,1.8420535806820006,1.8420535806820006,1.7278483225831252],\"xaxis\":\"x\",\"y\":[-5322.5,-5322.5,-5360.0,-5360.0],\"yaxis\":\"y\",\"type\":\"scatter\"},{\"hoverinfo\":\"text\",\"marker\":{\"color\":\"rgb(0,116,217)\"},\"mode\":\"lines\",\"x\":[0.0,1.4088736347460957,1.4088736347460957,0.0],\"xaxis\":\"x\",\"y\":[-5385.0,-5385.0,-5395.0,-5395.0],\"yaxis\":\"y\",\"type\":\"scatter\"},{\"hoverinfo\":\"text\",\"marker\":{\"color\":\"rgb(0,116,217)\"},\"mode\":\"lines\",\"x\":[0.0,1.3991163625016751,1.3991163625016751,0.0],\"xaxis\":\"x\",\"y\":[-5405.0,-5405.0,-5415.0,-5415.0],\"yaxis\":\"y\",\"type\":\"scatter\"},{\"hoverinfo\":\"text\",\"marker\":{\"color\":\"rgb(0,116,217)\"},\"mode\":\"lines\",\"x\":[0.0,1.4132074528667447,1.4132074528667447,0.0],\"xaxis\":\"x\",\"y\":[-5435.0,-5435.0,-5445.0,-5445.0],\"yaxis\":\"y\",\"type\":\"scatter\"},{\"hoverinfo\":\"text\",\"marker\":{\"color\":\"rgb(0,116,217)\"},\"mode\":\"lines\",\"x\":[0.0,1.5212331252629747,1.5212331252629747,1.4132074528667447],\"xaxis\":\"x\",\"y\":[-5425.0,-5425.0,-5440.0,-5440.0],\"yaxis\":\"y\",\"type\":\"scatter\"},{\"hoverinfo\":\"text\",\"marker\":{\"color\":\"rgb(0,116,217)\"},\"mode\":\"lines\",\"x\":[1.3991163625016751,1.852585655565812,1.852585655565812,1.5212331252629747],\"xaxis\":\"x\",\"y\":[-5410.0,-5410.0,-5432.5,-5432.5],\"yaxis\":\"y\",\"type\":\"scatter\"},{\"hoverinfo\":\"text\",\"marker\":{\"color\":\"rgb(0,116,217)\"},\"mode\":\"lines\",\"x\":[1.4088736347460957,2.3559288068833184,2.3559288068833184,1.852585655565812],\"xaxis\":\"x\",\"y\":[-5390.0,-5390.0,-5421.25,-5421.25],\"yaxis\":\"y\",\"type\":\"scatter\"},{\"hoverinfo\":\"text\",\"marker\":{\"color\":\"rgb(0,116,217)\"},\"mode\":\"lines\",\"x\":[1.8420535806820006,2.403178566579069,2.403178566579069,2.3559288068833184],\"xaxis\":\"x\",\"y\":[-5341.25,-5341.25,-5405.625,-5405.625],\"yaxis\":\"y\",\"type\":\"scatter\"},{\"hoverinfo\":\"text\",\"marker\":{\"color\":\"rgb(0,116,217)\"},\"mode\":\"lines\",\"x\":[1.849349316500834,3.392317995851452,3.392317995851452,2.403178566579069],\"xaxis\":\"x\",\"y\":[-5261.875,-5261.875,-5373.4375,-5373.4375],\"yaxis\":\"y\",\"type\":\"scatter\"},{\"hoverinfo\":\"text\",\"marker\":{\"color\":\"rgb(0,116,217)\"},\"mode\":\"lines\",\"x\":[3.341408962725785,4.842805982392052,4.842805982392052,3.392317995851452],\"xaxis\":\"x\",\"y\":[-5132.265625,-5132.265625,-5317.65625,-5317.65625],\"yaxis\":\"y\",\"type\":\"scatter\"},{\"hoverinfo\":\"text\",\"marker\":{\"color\":\"rgb(0,116,217)\"},\"mode\":\"lines\",\"x\":[3.4090462053837314,5.558788127102843,5.558788127102843,4.842805982392052],\"xaxis\":\"x\",\"y\":[-4859.375,-4859.375,-5224.9609375,-5224.9609375],\"yaxis\":\"y\",\"type\":\"scatter\"},{\"hoverinfo\":\"text\",\"marker\":{\"color\":\"rgb(0,116,217)\"},\"mode\":\"lines\",\"x\":[0.0,1.1227383257367087,1.1227383257367087,0.0],\"xaxis\":\"x\",\"y\":[-5455.0,-5455.0,-5465.0,-5465.0],\"yaxis\":\"y\",\"type\":\"scatter\"},{\"hoverinfo\":\"text\",\"marker\":{\"color\":\"rgb(0,116,217)\"},\"mode\":\"lines\",\"x\":[0.0,1.2902421348712902,1.2902421348712902,0.0],\"xaxis\":\"x\",\"y\":[-5475.0,-5475.0,-5485.0,-5485.0],\"yaxis\":\"y\",\"type\":\"scatter\"},{\"hoverinfo\":\"text\",\"marker\":{\"color\":\"rgb(0,116,217)\"},\"mode\":\"lines\",\"x\":[1.1227383257367087,1.4367837594620936,1.4367837594620936,1.2902421348712902],\"xaxis\":\"x\",\"y\":[-5460.0,-5460.0,-5480.0,-5480.0],\"yaxis\":\"y\",\"type\":\"scatter\"},{\"hoverinfo\":\"text\",\"marker\":{\"color\":\"rgb(0,116,217)\"},\"mode\":\"lines\",\"x\":[0.0,1.2501415649791376,1.2501415649791376,0.0],\"xaxis\":\"x\",\"y\":[-5495.0,-5495.0,-5505.0,-5505.0],\"yaxis\":\"y\",\"type\":\"scatter\"},{\"hoverinfo\":\"text\",\"marker\":{\"color\":\"rgb(61,153,112)\"},\"mode\":\"lines\",\"x\":[0.0,0.6528635513192714,0.6528635513192714,0.0],\"xaxis\":\"x\",\"y\":[-5515.0,-5515.0,-5525.0,-5525.0],\"yaxis\":\"y\",\"type\":\"scatter\"},{\"hoverinfo\":\"text\",\"marker\":{\"color\":\"rgb(0,116,217)\"},\"mode\":\"lines\",\"x\":[0.0,1.1723573181321625,1.1723573181321625,0.0],\"xaxis\":\"x\",\"y\":[-5535.0,-5535.0,-5545.0,-5545.0],\"yaxis\":\"y\",\"type\":\"scatter\"},{\"hoverinfo\":\"text\",\"marker\":{\"color\":\"rgb(0,116,217)\"},\"mode\":\"lines\",\"x\":[0.6528635513192714,1.4967358237582946,1.4967358237582946,1.1723573181321625],\"xaxis\":\"x\",\"y\":[-5520.0,-5520.0,-5540.0,-5540.0],\"yaxis\":\"y\",\"type\":\"scatter\"},{\"hoverinfo\":\"text\",\"marker\":{\"color\":\"rgb(0,116,217)\"},\"mode\":\"lines\",\"x\":[1.2501415649791376,1.8250163563207311,1.8250163563207311,1.4967358237582946],\"xaxis\":\"x\",\"y\":[-5500.0,-5500.0,-5530.0,-5530.0],\"yaxis\":\"y\",\"type\":\"scatter\"},{\"hoverinfo\":\"text\",\"marker\":{\"color\":\"rgb(0,116,217)\"},\"mode\":\"lines\",\"x\":[1.4367837594620936,2.324967271709924,2.324967271709924,1.8250163563207311],\"xaxis\":\"x\",\"y\":[-5470.0,-5470.0,-5515.0,-5515.0],\"yaxis\":\"y\",\"type\":\"scatter\"},{\"hoverinfo\":\"text\",\"marker\":{\"color\":\"rgb(0,116,217)\"},\"mode\":\"lines\",\"x\":[0.0,1.3215510797738725,1.3215510797738725,0.0],\"xaxis\":\"x\",\"y\":[-5555.0,-5555.0,-5565.0,-5565.0],\"yaxis\":\"y\",\"type\":\"scatter\"},{\"hoverinfo\":\"text\",\"marker\":{\"color\":\"rgb(0,116,217)\"},\"mode\":\"lines\",\"x\":[0.0,1.5129991023869676,1.5129991023869676,0.0],\"xaxis\":\"x\",\"y\":[-5575.0,-5575.0,-5585.0,-5585.0],\"yaxis\":\"y\",\"type\":\"scatter\"},{\"hoverinfo\":\"text\",\"marker\":{\"color\":\"rgb(0,116,217)\"},\"mode\":\"lines\",\"x\":[1.3215510797738725,2.012603721567976,2.012603721567976,1.5129991023869676],\"xaxis\":\"x\",\"y\":[-5560.0,-5560.0,-5580.0,-5580.0],\"yaxis\":\"y\",\"type\":\"scatter\"},{\"hoverinfo\":\"text\",\"marker\":{\"color\":\"rgb(0,116,217)\"},\"mode\":\"lines\",\"x\":[0.0,1.4315337961489962,1.4315337961489962,0.0],\"xaxis\":\"x\",\"y\":[-5605.0,-5605.0,-5615.0,-5615.0],\"yaxis\":\"y\",\"type\":\"scatter\"},{\"hoverinfo\":\"text\",\"marker\":{\"color\":\"rgb(0,116,217)\"},\"mode\":\"lines\",\"x\":[0.0,1.6798360987030858,1.6798360987030858,1.4315337961489962],\"xaxis\":\"x\",\"y\":[-5595.0,-5595.0,-5610.0,-5610.0],\"yaxis\":\"y\",\"type\":\"scatter\"},{\"hoverinfo\":\"text\",\"marker\":{\"color\":\"rgb(0,116,217)\"},\"mode\":\"lines\",\"x\":[0.0,1.4281738082333646,1.4281738082333646,0.0],\"xaxis\":\"x\",\"y\":[-5655.0,-5655.0,-5665.0,-5665.0],\"yaxis\":\"y\",\"type\":\"scatter\"},{\"hoverinfo\":\"text\",\"marker\":{\"color\":\"rgb(0,116,217)\"},\"mode\":\"lines\",\"x\":[0.0,1.4468858765388848,1.4468858765388848,1.4281738082333646],\"xaxis\":\"x\",\"y\":[-5645.0,-5645.0,-5660.0,-5660.0],\"yaxis\":\"y\",\"type\":\"scatter\"},{\"hoverinfo\":\"text\",\"marker\":{\"color\":\"rgb(0,116,217)\"},\"mode\":\"lines\",\"x\":[0.0,1.6323248316177943,1.6323248316177943,1.4468858765388848],\"xaxis\":\"x\",\"y\":[-5635.0,-5635.0,-5652.5,-5652.5],\"yaxis\":\"y\",\"type\":\"scatter\"},{\"hoverinfo\":\"text\",\"marker\":{\"color\":\"rgb(0,116,217)\"},\"mode\":\"lines\",\"x\":[0.0,1.7232019463283093,1.7232019463283093,1.6323248316177943],\"xaxis\":\"x\",\"y\":[-5625.0,-5625.0,-5643.75,-5643.75],\"yaxis\":\"y\",\"type\":\"scatter\"},{\"hoverinfo\":\"text\",\"marker\":{\"color\":\"rgb(0,116,217)\"},\"mode\":\"lines\",\"x\":[1.6798360987030858,2.34567654781913,2.34567654781913,1.7232019463283093],\"xaxis\":\"x\",\"y\":[-5602.5,-5602.5,-5634.375,-5634.375],\"yaxis\":\"y\",\"type\":\"scatter\"},{\"hoverinfo\":\"text\",\"marker\":{\"color\":\"rgb(0,116,217)\"},\"mode\":\"lines\",\"x\":[2.012603721567976,2.6021682991978485,2.6021682991978485,2.34567654781913],\"xaxis\":\"x\",\"y\":[-5570.0,-5570.0,-5618.4375,-5618.4375],\"yaxis\":\"y\",\"type\":\"scatter\"},{\"hoverinfo\":\"text\",\"marker\":{\"color\":\"rgb(0,116,217)\"},\"mode\":\"lines\",\"x\":[0.0,1.226705618491786,1.226705618491786,0.0],\"xaxis\":\"x\",\"y\":[-5675.0,-5675.0,-5685.0,-5685.0],\"yaxis\":\"y\",\"type\":\"scatter\"},{\"hoverinfo\":\"text\",\"marker\":{\"color\":\"rgb(0,116,217)\"},\"mode\":\"lines\",\"x\":[0.0,1.2868016239827045,1.2868016239827045,0.0],\"xaxis\":\"x\",\"y\":[-5695.0,-5695.0,-5705.0,-5705.0],\"yaxis\":\"y\",\"type\":\"scatter\"},{\"hoverinfo\":\"text\",\"marker\":{\"color\":\"rgb(0,116,217)\"},\"mode\":\"lines\",\"x\":[1.226705618491786,1.737051129443086,1.737051129443086,1.2868016239827045],\"xaxis\":\"x\",\"y\":[-5680.0,-5680.0,-5700.0,-5700.0],\"yaxis\":\"y\",\"type\":\"scatter\"},{\"hoverinfo\":\"text\",\"marker\":{\"color\":\"rgb(0,116,217)\"},\"mode\":\"lines\",\"x\":[0.0,1.2747266971095694,1.2747266971095694,0.0],\"xaxis\":\"x\",\"y\":[-5715.0,-5715.0,-5725.0,-5725.0],\"yaxis\":\"y\",\"type\":\"scatter\"},{\"hoverinfo\":\"text\",\"marker\":{\"color\":\"rgb(0,116,217)\"},\"mode\":\"lines\",\"x\":[0.0,1.3358506496552283,1.3358506496552283,0.0],\"xaxis\":\"x\",\"y\":[-5735.0,-5735.0,-5745.0,-5745.0],\"yaxis\":\"y\",\"type\":\"scatter\"},{\"hoverinfo\":\"text\",\"marker\":{\"color\":\"rgb(0,116,217)\"},\"mode\":\"lines\",\"x\":[1.2747266971095694,1.5426767133812997,1.5426767133812997,1.3358506496552283],\"xaxis\":\"x\",\"y\":[-5720.0,-5720.0,-5740.0,-5740.0],\"yaxis\":\"y\",\"type\":\"scatter\"},{\"hoverinfo\":\"text\",\"marker\":{\"color\":\"rgb(0,116,217)\"},\"mode\":\"lines\",\"x\":[0.0,1.3699390374567333,1.3699390374567333,0.0],\"xaxis\":\"x\",\"y\":[-5755.0,-5755.0,-5765.0,-5765.0],\"yaxis\":\"y\",\"type\":\"scatter\"},{\"hoverinfo\":\"text\",\"marker\":{\"color\":\"rgb(0,116,217)\"},\"mode\":\"lines\",\"x\":[0.0,1.4091916275963554,1.4091916275963554,0.0],\"xaxis\":\"x\",\"y\":[-5775.0,-5775.0,-5785.0,-5785.0],\"yaxis\":\"y\",\"type\":\"scatter\"},{\"hoverinfo\":\"text\",\"marker\":{\"color\":\"rgb(0,116,217)\"},\"mode\":\"lines\",\"x\":[1.3699390374567333,1.580573005682675,1.580573005682675,1.4091916275963554],\"xaxis\":\"x\",\"y\":[-5760.0,-5760.0,-5780.0,-5780.0],\"yaxis\":\"y\",\"type\":\"scatter\"},{\"hoverinfo\":\"text\",\"marker\":{\"color\":\"rgb(0,116,217)\"},\"mode\":\"lines\",\"x\":[1.5426767133812997,1.804865771563674,1.804865771563674,1.580573005682675],\"xaxis\":\"x\",\"y\":[-5730.0,-5730.0,-5770.0,-5770.0],\"yaxis\":\"y\",\"type\":\"scatter\"},{\"hoverinfo\":\"text\",\"marker\":{\"color\":\"rgb(0,116,217)\"},\"mode\":\"lines\",\"x\":[1.737051129443086,1.983827272946251,1.983827272946251,1.804865771563674],\"xaxis\":\"x\",\"y\":[-5690.0,-5690.0,-5750.0,-5750.0],\"yaxis\":\"y\",\"type\":\"scatter\"},{\"hoverinfo\":\"text\",\"marker\":{\"color\":\"rgb(0,116,217)\"},\"mode\":\"lines\",\"x\":[0.0,1.2537300490786274,1.2537300490786274,0.0],\"xaxis\":\"x\",\"y\":[-5795.0,-5795.0,-5805.0,-5805.0],\"yaxis\":\"y\",\"type\":\"scatter\"},{\"hoverinfo\":\"text\",\"marker\":{\"color\":\"rgb(0,116,217)\"},\"mode\":\"lines\",\"x\":[0.0,1.4878102624581575,1.4878102624581575,0.0],\"xaxis\":\"x\",\"y\":[-5815.0,-5815.0,-5825.0,-5825.0],\"yaxis\":\"y\",\"type\":\"scatter\"},{\"hoverinfo\":\"text\",\"marker\":{\"color\":\"rgb(0,116,217)\"},\"mode\":\"lines\",\"x\":[1.2537300490786274,1.6110581915379951,1.6110581915379951,1.4878102624581575],\"xaxis\":\"x\",\"y\":[-5800.0,-5800.0,-5820.0,-5820.0],\"yaxis\":\"y\",\"type\":\"scatter\"},{\"hoverinfo\":\"text\",\"marker\":{\"color\":\"rgb(0,116,217)\"},\"mode\":\"lines\",\"x\":[0.0,1.1273405539172927,1.1273405539172927,0.0],\"xaxis\":\"x\",\"y\":[-5845.0,-5845.0,-5855.0,-5855.0],\"yaxis\":\"y\",\"type\":\"scatter\"},{\"hoverinfo\":\"text\",\"marker\":{\"color\":\"rgb(0,116,217)\"},\"mode\":\"lines\",\"x\":[0.0,1.3877141328570304,1.3877141328570304,0.0],\"xaxis\":\"x\",\"y\":[-5865.0,-5865.0,-5875.0,-5875.0],\"yaxis\":\"y\",\"type\":\"scatter\"},{\"hoverinfo\":\"text\",\"marker\":{\"color\":\"rgb(0,116,217)\"},\"mode\":\"lines\",\"x\":[1.1273405539172927,1.5128639512798197,1.5128639512798197,1.3877141328570304],\"xaxis\":\"x\",\"y\":[-5850.0,-5850.0,-5870.0,-5870.0],\"yaxis\":\"y\",\"type\":\"scatter\"},{\"hoverinfo\":\"text\",\"marker\":{\"color\":\"rgb(0,116,217)\"},\"mode\":\"lines\",\"x\":[0.0,1.8203259759857213,1.8203259759857213,1.5128639512798197],\"xaxis\":\"x\",\"y\":[-5835.0,-5835.0,-5860.0,-5860.0],\"yaxis\":\"y\",\"type\":\"scatter\"},{\"hoverinfo\":\"text\",\"marker\":{\"color\":\"rgb(0,116,217)\"},\"mode\":\"lines\",\"x\":[1.6110581915379951,2.13761771123648,2.13761771123648,1.8203259759857213],\"xaxis\":\"x\",\"y\":[-5810.0,-5810.0,-5847.5,-5847.5],\"yaxis\":\"y\",\"type\":\"scatter\"},{\"hoverinfo\":\"text\",\"marker\":{\"color\":\"rgb(0,116,217)\"},\"mode\":\"lines\",\"x\":[1.983827272946251,3.0547578840293577,3.0547578840293577,2.13761771123648],\"xaxis\":\"x\",\"y\":[-5720.0,-5720.0,-5828.75,-5828.75],\"yaxis\":\"y\",\"type\":\"scatter\"},{\"hoverinfo\":\"text\",\"marker\":{\"color\":\"rgb(0,116,217)\"},\"mode\":\"lines\",\"x\":[2.6021682991978485,3.3716774509284195,3.3716774509284195,3.0547578840293577],\"xaxis\":\"x\",\"y\":[-5594.21875,-5594.21875,-5774.375,-5774.375],\"yaxis\":\"y\",\"type\":\"scatter\"},{\"hoverinfo\":\"text\",\"marker\":{\"color\":\"rgb(0,116,217)\"},\"mode\":\"lines\",\"x\":[2.324967271709924,4.105606096078782,4.105606096078782,3.3716774509284195],\"xaxis\":\"x\",\"y\":[-5492.5,-5492.5,-5684.296875,-5684.296875],\"yaxis\":\"y\",\"type\":\"scatter\"},{\"hoverinfo\":\"text\",\"marker\":{\"color\":\"rgb(0,116,217)\"},\"mode\":\"lines\",\"x\":[0.0,1.3762671719499504,1.3762671719499504,0.0],\"xaxis\":\"x\",\"y\":[-5895.0,-5895.0,-5905.0,-5905.0],\"yaxis\":\"y\",\"type\":\"scatter\"},{\"hoverinfo\":\"text\",\"marker\":{\"color\":\"rgb(0,116,217)\"},\"mode\":\"lines\",\"x\":[0.0,1.638042034291236,1.638042034291236,1.3762671719499504],\"xaxis\":\"x\",\"y\":[-5885.0,-5885.0,-5900.0,-5900.0],\"yaxis\":\"y\",\"type\":\"scatter\"},{\"hoverinfo\":\"text\",\"marker\":{\"color\":\"rgb(0,116,217)\"},\"mode\":\"lines\",\"x\":[0.0,1.1387379525303387,1.1387379525303387,0.0],\"xaxis\":\"x\",\"y\":[-5915.0,-5915.0,-5925.0,-5925.0],\"yaxis\":\"y\",\"type\":\"scatter\"},{\"hoverinfo\":\"text\",\"marker\":{\"color\":\"rgb(0,116,217)\"},\"mode\":\"lines\",\"x\":[0.0,1.2231019332593607,1.2231019332593607,0.0],\"xaxis\":\"x\",\"y\":[-5945.0,-5945.0,-5955.0,-5955.0],\"yaxis\":\"y\",\"type\":\"scatter\"},{\"hoverinfo\":\"text\",\"marker\":{\"color\":\"rgb(0,116,217)\"},\"mode\":\"lines\",\"x\":[0.0,1.6264240713843348,1.6264240713843348,1.2231019332593607],\"xaxis\":\"x\",\"y\":[-5935.0,-5935.0,-5950.0,-5950.0],\"yaxis\":\"y\",\"type\":\"scatter\"},{\"hoverinfo\":\"text\",\"marker\":{\"color\":\"rgb(0,116,217)\"},\"mode\":\"lines\",\"x\":[1.1387379525303387,1.905087824443904,1.905087824443904,1.6264240713843348],\"xaxis\":\"x\",\"y\":[-5920.0,-5920.0,-5942.5,-5942.5],\"yaxis\":\"y\",\"type\":\"scatter\"},{\"hoverinfo\":\"text\",\"marker\":{\"color\":\"rgb(0,116,217)\"},\"mode\":\"lines\",\"x\":[1.638042034291236,2.185241887815342,2.185241887815342,1.905087824443904],\"xaxis\":\"x\",\"y\":[-5892.5,-5892.5,-5931.25,-5931.25],\"yaxis\":\"y\",\"type\":\"scatter\"},{\"hoverinfo\":\"text\",\"marker\":{\"color\":\"rgb(0,116,217)\"},\"mode\":\"lines\",\"x\":[0.0,1.4784163724991206,1.4784163724991206,0.0],\"xaxis\":\"x\",\"y\":[-5975.0,-5975.0,-5985.0,-5985.0],\"yaxis\":\"y\",\"type\":\"scatter\"},{\"hoverinfo\":\"text\",\"marker\":{\"color\":\"rgb(0,116,217)\"},\"mode\":\"lines\",\"x\":[0.0,1.7219004146371863,1.7219004146371863,1.4784163724991206],\"xaxis\":\"x\",\"y\":[-5965.0,-5965.0,-5980.0,-5980.0],\"yaxis\":\"y\",\"type\":\"scatter\"},{\"hoverinfo\":\"text\",\"marker\":{\"color\":\"rgb(0,116,217)\"},\"mode\":\"lines\",\"x\":[0.0,1.4830786194339094,1.4830786194339094,0.0],\"xaxis\":\"x\",\"y\":[-5995.0,-5995.0,-6005.0,-6005.0],\"yaxis\":\"y\",\"type\":\"scatter\"},{\"hoverinfo\":\"text\",\"marker\":{\"color\":\"rgb(0,116,217)\"},\"mode\":\"lines\",\"x\":[0.0,1.576419619194014,1.576419619194014,0.0],\"xaxis\":\"x\",\"y\":[-6015.0,-6015.0,-6025.0,-6025.0],\"yaxis\":\"y\",\"type\":\"scatter\"},{\"hoverinfo\":\"text\",\"marker\":{\"color\":\"rgb(0,116,217)\"},\"mode\":\"lines\",\"x\":[1.4830786194339094,1.9443416604096824,1.9443416604096824,1.576419619194014],\"xaxis\":\"x\",\"y\":[-6000.0,-6000.0,-6020.0,-6020.0],\"yaxis\":\"y\",\"type\":\"scatter\"},{\"hoverinfo\":\"text\",\"marker\":{\"color\":\"rgb(0,116,217)\"},\"mode\":\"lines\",\"x\":[1.7219004146371863,2.2813173978804406,2.2813173978804406,1.9443416604096824],\"xaxis\":\"x\",\"y\":[-5972.5,-5972.5,-6010.0,-6010.0],\"yaxis\":\"y\",\"type\":\"scatter\"},{\"hoverinfo\":\"text\",\"marker\":{\"color\":\"rgb(0,116,217)\"},\"mode\":\"lines\",\"x\":[2.185241887815342,2.88510407305116,2.88510407305116,2.2813173978804406],\"xaxis\":\"x\",\"y\":[-5911.875,-5911.875,-5991.25,-5991.25],\"yaxis\":\"y\",\"type\":\"scatter\"},{\"hoverinfo\":\"text\",\"marker\":{\"color\":\"rgb(0,116,217)\"},\"mode\":\"lines\",\"x\":[0.0,1.0585529700240464,1.0585529700240464,0.0],\"xaxis\":\"x\",\"y\":[-6045.0,-6045.0,-6055.0,-6055.0],\"yaxis\":\"y\",\"type\":\"scatter\"},{\"hoverinfo\":\"text\",\"marker\":{\"color\":\"rgb(0,116,217)\"},\"mode\":\"lines\",\"x\":[0.0,1.4459123835021013,1.4459123835021013,1.0585529700240464],\"xaxis\":\"x\",\"y\":[-6035.0,-6035.0,-6050.0,-6050.0],\"yaxis\":\"y\",\"type\":\"scatter\"},{\"hoverinfo\":\"text\",\"marker\":{\"color\":\"rgb(0,116,217)\"},\"mode\":\"lines\",\"x\":[0.0,1.3892320861678138,1.3892320861678138,0.0],\"xaxis\":\"x\",\"y\":[-6065.0,-6065.0,-6075.0,-6075.0],\"yaxis\":\"y\",\"type\":\"scatter\"},{\"hoverinfo\":\"text\",\"marker\":{\"color\":\"rgb(0,116,217)\"},\"mode\":\"lines\",\"x\":[0.0,1.56994147042327,1.56994147042327,0.0],\"xaxis\":\"x\",\"y\":[-6085.0,-6085.0,-6095.0,-6095.0],\"yaxis\":\"y\",\"type\":\"scatter\"},{\"hoverinfo\":\"text\",\"marker\":{\"color\":\"rgb(0,116,217)\"},\"mode\":\"lines\",\"x\":[1.3892320861678138,1.7518669356590233,1.7518669356590233,1.56994147042327],\"xaxis\":\"x\",\"y\":[-6070.0,-6070.0,-6090.0,-6090.0],\"yaxis\":\"y\",\"type\":\"scatter\"},{\"hoverinfo\":\"text\",\"marker\":{\"color\":\"rgb(0,116,217)\"},\"mode\":\"lines\",\"x\":[1.4459123835021013,2.1635483529002904,2.1635483529002904,1.7518669356590233],\"xaxis\":\"x\",\"y\":[-6042.5,-6042.5,-6080.0,-6080.0],\"yaxis\":\"y\",\"type\":\"scatter\"},{\"hoverinfo\":\"text\",\"marker\":{\"color\":\"rgb(0,116,217)\"},\"mode\":\"lines\",\"x\":[0.0,1.3572962776723352,1.3572962776723352,0.0],\"xaxis\":\"x\",\"y\":[-6115.0,-6115.0,-6125.0,-6125.0],\"yaxis\":\"y\",\"type\":\"scatter\"},{\"hoverinfo\":\"text\",\"marker\":{\"color\":\"rgb(0,116,217)\"},\"mode\":\"lines\",\"x\":[0.0,1.620207757590018,1.620207757590018,1.3572962776723352],\"xaxis\":\"x\",\"y\":[-6105.0,-6105.0,-6120.0,-6120.0],\"yaxis\":\"y\",\"type\":\"scatter\"},{\"hoverinfo\":\"text\",\"marker\":{\"color\":\"rgb(0,116,217)\"},\"mode\":\"lines\",\"x\":[0.0,1.5151758644446716,1.5151758644446716,0.0],\"xaxis\":\"x\",\"y\":[-6135.0,-6135.0,-6145.0,-6145.0],\"yaxis\":\"y\",\"type\":\"scatter\"},{\"hoverinfo\":\"text\",\"marker\":{\"color\":\"rgb(0,116,217)\"},\"mode\":\"lines\",\"x\":[0.0,1.513066564176961,1.513066564176961,0.0],\"xaxis\":\"x\",\"y\":[-6165.0,-6165.0,-6175.0,-6175.0],\"yaxis\":\"y\",\"type\":\"scatter\"},{\"hoverinfo\":\"text\",\"marker\":{\"color\":\"rgb(0,116,217)\"},\"mode\":\"lines\",\"x\":[0.0,1.7727196203777855,1.7727196203777855,1.513066564176961],\"xaxis\":\"x\",\"y\":[-6155.0,-6155.0,-6170.0,-6170.0],\"yaxis\":\"y\",\"type\":\"scatter\"},{\"hoverinfo\":\"text\",\"marker\":{\"color\":\"rgb(0,116,217)\"},\"mode\":\"lines\",\"x\":[1.5151758644446716,1.9864856095174457,1.9864856095174457,1.7727196203777855],\"xaxis\":\"x\",\"y\":[-6140.0,-6140.0,-6162.5,-6162.5],\"yaxis\":\"y\",\"type\":\"scatter\"},{\"hoverinfo\":\"text\",\"marker\":{\"color\":\"rgb(0,116,217)\"},\"mode\":\"lines\",\"x\":[1.620207757590018,2.2950379895154356,2.2950379895154356,1.9864856095174457],\"xaxis\":\"x\",\"y\":[-6112.5,-6112.5,-6151.25,-6151.25],\"yaxis\":\"y\",\"type\":\"scatter\"},{\"hoverinfo\":\"text\",\"marker\":{\"color\":\"rgb(0,116,217)\"},\"mode\":\"lines\",\"x\":[2.1635483529002904,3.0672820227908337,3.0672820227908337,2.2950379895154356],\"xaxis\":\"x\",\"y\":[-6061.25,-6061.25,-6131.875,-6131.875],\"yaxis\":\"y\",\"type\":\"scatter\"},{\"hoverinfo\":\"text\",\"marker\":{\"color\":\"rgb(0,116,217)\"},\"mode\":\"lines\",\"x\":[2.88510407305116,5.681662730166873,5.681662730166873,3.0672820227908337],\"xaxis\":\"x\",\"y\":[-5951.5625,-5951.5625,-6096.5625,-6096.5625],\"yaxis\":\"y\",\"type\":\"scatter\"},{\"hoverinfo\":\"text\",\"marker\":{\"color\":\"rgb(0,116,217)\"},\"mode\":\"lines\",\"x\":[4.105606096078782,6.464048254637043,6.464048254637043,5.681662730166873],\"xaxis\":\"x\",\"y\":[-5588.3984375,-5588.3984375,-6024.0625,-6024.0625],\"yaxis\":\"y\",\"type\":\"scatter\"},{\"hoverinfo\":\"text\",\"marker\":{\"color\":\"rgb(0,116,217)\"},\"mode\":\"lines\",\"x\":[0.0,1.4713462739057013,1.4713462739057013,0.0],\"xaxis\":\"x\",\"y\":[-6205.0,-6205.0,-6215.0,-6215.0],\"yaxis\":\"y\",\"type\":\"scatter\"},{\"hoverinfo\":\"text\",\"marker\":{\"color\":\"rgb(0,116,217)\"},\"mode\":\"lines\",\"x\":[0.0,1.6414800959364457,1.6414800959364457,1.4713462739057013],\"xaxis\":\"x\",\"y\":[-6195.0,-6195.0,-6210.0,-6210.0],\"yaxis\":\"y\",\"type\":\"scatter\"},{\"hoverinfo\":\"text\",\"marker\":{\"color\":\"rgb(0,116,217)\"},\"mode\":\"lines\",\"x\":[0.0,1.6570627131737166,1.6570627131737166,1.6414800959364457],\"xaxis\":\"x\",\"y\":[-6185.0,-6185.0,-6202.5,-6202.5],\"yaxis\":\"y\",\"type\":\"scatter\"},{\"hoverinfo\":\"text\",\"marker\":{\"color\":\"rgb(0,116,217)\"},\"mode\":\"lines\",\"x\":[0.0,1.2600378032427832,1.2600378032427832,0.0],\"xaxis\":\"x\",\"y\":[-6245.0,-6245.0,-6255.0,-6255.0],\"yaxis\":\"y\",\"type\":\"scatter\"},{\"hoverinfo\":\"text\",\"marker\":{\"color\":\"rgb(0,116,217)\"},\"mode\":\"lines\",\"x\":[0.0,1.4014532235787636,1.4014532235787636,1.2600378032427832],\"xaxis\":\"x\",\"y\":[-6235.0,-6235.0,-6250.0,-6250.0],\"yaxis\":\"y\",\"type\":\"scatter\"},{\"hoverinfo\":\"text\",\"marker\":{\"color\":\"rgb(0,116,217)\"},\"mode\":\"lines\",\"x\":[0.0,1.6043483686405098,1.6043483686405098,1.4014532235787636],\"xaxis\":\"x\",\"y\":[-6225.0,-6225.0,-6242.5,-6242.5],\"yaxis\":\"y\",\"type\":\"scatter\"},{\"hoverinfo\":\"text\",\"marker\":{\"color\":\"rgb(0,116,217)\"},\"mode\":\"lines\",\"x\":[0.0,1.2772950815594966,1.2772950815594966,0.0],\"xaxis\":\"x\",\"y\":[-6275.0,-6275.0,-6285.0,-6285.0],\"yaxis\":\"y\",\"type\":\"scatter\"},{\"hoverinfo\":\"text\",\"marker\":{\"color\":\"rgb(0,116,217)\"},\"mode\":\"lines\",\"x\":[0.0,1.5606789937276477,1.5606789937276477,1.2772950815594966],\"xaxis\":\"x\",\"y\":[-6265.0,-6265.0,-6280.0,-6280.0],\"yaxis\":\"y\",\"type\":\"scatter\"},{\"hoverinfo\":\"text\",\"marker\":{\"color\":\"rgb(0,116,217)\"},\"mode\":\"lines\",\"x\":[0.0,1.1946877549570831,1.1946877549570831,0.0],\"xaxis\":\"x\",\"y\":[-6305.0,-6305.0,-6315.0,-6315.0],\"yaxis\":\"y\",\"type\":\"scatter\"},{\"hoverinfo\":\"text\",\"marker\":{\"color\":\"rgb(0,116,217)\"},\"mode\":\"lines\",\"x\":[0.0,1.5716063505846587,1.5716063505846587,1.1946877549570831],\"xaxis\":\"x\",\"y\":[-6295.0,-6295.0,-6310.0,-6310.0],\"yaxis\":\"y\",\"type\":\"scatter\"},{\"hoverinfo\":\"text\",\"marker\":{\"color\":\"rgb(0,116,217)\"},\"mode\":\"lines\",\"x\":[1.5606789937276477,2.4638507943724797,2.4638507943724797,1.5716063505846587],\"xaxis\":\"x\",\"y\":[-6272.5,-6272.5,-6302.5,-6302.5],\"yaxis\":\"y\",\"type\":\"scatter\"},{\"hoverinfo\":\"text\",\"marker\":{\"color\":\"rgb(0,116,217)\"},\"mode\":\"lines\",\"x\":[1.6043483686405098,2.6212521199141885,2.6212521199141885,2.4638507943724797],\"xaxis\":\"x\",\"y\":[-6233.75,-6233.75,-6287.5,-6287.5],\"yaxis\":\"y\",\"type\":\"scatter\"},{\"hoverinfo\":\"text\",\"marker\":{\"color\":\"rgb(0,116,217)\"},\"mode\":\"lines\",\"x\":[1.6570627131737166,3.3478698344140776,3.3478698344140776,2.6212521199141885],\"xaxis\":\"x\",\"y\":[-6193.75,-6193.75,-6260.625,-6260.625],\"yaxis\":\"y\",\"type\":\"scatter\"},{\"hoverinfo\":\"text\",\"marker\":{\"color\":\"rgb(0,116,217)\"},\"mode\":\"lines\",\"x\":[0.0,1.4046631009932145,1.4046631009932145,0.0],\"xaxis\":\"x\",\"y\":[-6325.0,-6325.0,-6335.0,-6335.0],\"yaxis\":\"y\",\"type\":\"scatter\"},{\"hoverinfo\":\"text\",\"marker\":{\"color\":\"rgb(0,116,217)\"},\"mode\":\"lines\",\"x\":[0.0,1.3599587575023846,1.3599587575023846,0.0],\"xaxis\":\"x\",\"y\":[-6355.0,-6355.0,-6365.0,-6365.0],\"yaxis\":\"y\",\"type\":\"scatter\"},{\"hoverinfo\":\"text\",\"marker\":{\"color\":\"rgb(0,116,217)\"},\"mode\":\"lines\",\"x\":[0.0,1.7171904887657083,1.7171904887657083,1.3599587575023846],\"xaxis\":\"x\",\"y\":[-6345.0,-6345.0,-6360.0,-6360.0],\"yaxis\":\"y\",\"type\":\"scatter\"},{\"hoverinfo\":\"text\",\"marker\":{\"color\":\"rgb(0,116,217)\"},\"mode\":\"lines\",\"x\":[1.4046631009932145,1.8413862150188982,1.8413862150188982,1.7171904887657083],\"xaxis\":\"x\",\"y\":[-6330.0,-6330.0,-6352.5,-6352.5],\"yaxis\":\"y\",\"type\":\"scatter\"},{\"hoverinfo\":\"text\",\"marker\":{\"color\":\"rgb(0,116,217)\"},\"mode\":\"lines\",\"x\":[0.0,1.3422263175872555,1.3422263175872555,0.0],\"xaxis\":\"x\",\"y\":[-6375.0,-6375.0,-6385.0,-6385.0],\"yaxis\":\"y\",\"type\":\"scatter\"},{\"hoverinfo\":\"text\",\"marker\":{\"color\":\"rgb(0,116,217)\"},\"mode\":\"lines\",\"x\":[0.0,1.4625209545216393,1.4625209545216393,0.0],\"xaxis\":\"x\",\"y\":[-6395.0,-6395.0,-6405.0,-6405.0],\"yaxis\":\"y\",\"type\":\"scatter\"},{\"hoverinfo\":\"text\",\"marker\":{\"color\":\"rgb(0,116,217)\"},\"mode\":\"lines\",\"x\":[1.3422263175872555,1.7970021823893114,1.7970021823893114,1.4625209545216393],\"xaxis\":\"x\",\"y\":[-6380.0,-6380.0,-6400.0,-6400.0],\"yaxis\":\"y\",\"type\":\"scatter\"},{\"hoverinfo\":\"text\",\"marker\":{\"color\":\"rgb(0,116,217)\"},\"mode\":\"lines\",\"x\":[0.0,1.523833164817845,1.523833164817845,0.0],\"xaxis\":\"x\",\"y\":[-6415.0,-6415.0,-6425.0,-6425.0],\"yaxis\":\"y\",\"type\":\"scatter\"},{\"hoverinfo\":\"text\",\"marker\":{\"color\":\"rgb(0,116,217)\"},\"mode\":\"lines\",\"x\":[0.0,1.5622834298352208,1.5622834298352208,0.0],\"xaxis\":\"x\",\"y\":[-6435.0,-6435.0,-6445.0,-6445.0],\"yaxis\":\"y\",\"type\":\"scatter\"},{\"hoverinfo\":\"text\",\"marker\":{\"color\":\"rgb(0,116,217)\"},\"mode\":\"lines\",\"x\":[1.523833164817845,1.9252863385111492,1.9252863385111492,1.5622834298352208],\"xaxis\":\"x\",\"y\":[-6420.0,-6420.0,-6440.0,-6440.0],\"yaxis\":\"y\",\"type\":\"scatter\"},{\"hoverinfo\":\"text\",\"marker\":{\"color\":\"rgb(0,116,217)\"},\"mode\":\"lines\",\"x\":[1.7970021823893114,2.2771216092623625,2.2771216092623625,1.9252863385111492],\"xaxis\":\"x\",\"y\":[-6390.0,-6390.0,-6430.0,-6430.0],\"yaxis\":\"y\",\"type\":\"scatter\"},{\"hoverinfo\":\"text\",\"marker\":{\"color\":\"rgb(0,116,217)\"},\"mode\":\"lines\",\"x\":[1.8413862150188982,2.8004255783575784,2.8004255783575784,2.2771216092623625],\"xaxis\":\"x\",\"y\":[-6341.25,-6341.25,-6410.0,-6410.0],\"yaxis\":\"y\",\"type\":\"scatter\"},{\"hoverinfo\":\"text\",\"marker\":{\"color\":\"rgb(255,65,54)\"},\"mode\":\"lines\",\"x\":[0.0,0.8880269115767446,0.8880269115767446,0.0],\"xaxis\":\"x\",\"y\":[-6455.0,-6455.0,-6465.0,-6465.0],\"yaxis\":\"y\",\"type\":\"scatter\"},{\"hoverinfo\":\"text\",\"marker\":{\"color\":\"rgb(0,116,217)\"},\"mode\":\"lines\",\"x\":[0.0,1.381966499200703,1.381966499200703,0.0],\"xaxis\":\"x\",\"y\":[-6485.0,-6485.0,-6495.0,-6495.0],\"yaxis\":\"y\",\"type\":\"scatter\"},{\"hoverinfo\":\"text\",\"marker\":{\"color\":\"rgb(0,116,217)\"},\"mode\":\"lines\",\"x\":[0.0,1.8143248911151273,1.8143248911151273,1.381966499200703],\"xaxis\":\"x\",\"y\":[-6475.0,-6475.0,-6490.0,-6490.0],\"yaxis\":\"y\",\"type\":\"scatter\"},{\"hoverinfo\":\"text\",\"marker\":{\"color\":\"rgb(0,116,217)\"},\"mode\":\"lines\",\"x\":[0.8880269115767446,2.055382410668827,2.055382410668827,1.8143248911151273],\"xaxis\":\"x\",\"y\":[-6460.0,-6460.0,-6482.5,-6482.5],\"yaxis\":\"y\",\"type\":\"scatter\"},{\"hoverinfo\":\"text\",\"marker\":{\"color\":\"rgb(0,116,217)\"},\"mode\":\"lines\",\"x\":[0.0,1.372379104610876,1.372379104610876,0.0],\"xaxis\":\"x\",\"y\":[-6515.0,-6515.0,-6525.0,-6525.0],\"yaxis\":\"y\",\"type\":\"scatter\"},{\"hoverinfo\":\"text\",\"marker\":{\"color\":\"rgb(0,116,217)\"},\"mode\":\"lines\",\"x\":[0.0,1.7585725292626722,1.7585725292626722,1.372379104610876],\"xaxis\":\"x\",\"y\":[-6505.0,-6505.0,-6520.0,-6520.0],\"yaxis\":\"y\",\"type\":\"scatter\"},{\"hoverinfo\":\"text\",\"marker\":{\"color\":\"rgb(0,116,217)\"},\"mode\":\"lines\",\"x\":[0.0,1.2333384671732281,1.2333384671732281,0.0],\"xaxis\":\"x\",\"y\":[-6535.0,-6535.0,-6545.0,-6545.0],\"yaxis\":\"y\",\"type\":\"scatter\"},{\"hoverinfo\":\"text\",\"marker\":{\"color\":\"rgb(0,116,217)\"},\"mode\":\"lines\",\"x\":[0.0,1.486409379475168,1.486409379475168,0.0],\"xaxis\":\"x\",\"y\":[-6555.0,-6555.0,-6565.0,-6565.0],\"yaxis\":\"y\",\"type\":\"scatter\"},{\"hoverinfo\":\"text\",\"marker\":{\"color\":\"rgb(0,116,217)\"},\"mode\":\"lines\",\"x\":[1.2333384671732281,1.939417414473968,1.939417414473968,1.486409379475168],\"xaxis\":\"x\",\"y\":[-6540.0,-6540.0,-6560.0,-6560.0],\"yaxis\":\"y\",\"type\":\"scatter\"},{\"hoverinfo\":\"text\",\"marker\":{\"color\":\"rgb(0,116,217)\"},\"mode\":\"lines\",\"x\":[1.7585725292626722,2.4820841116778745,2.4820841116778745,1.939417414473968],\"xaxis\":\"x\",\"y\":[-6512.5,-6512.5,-6550.0,-6550.0],\"yaxis\":\"y\",\"type\":\"scatter\"},{\"hoverinfo\":\"text\",\"marker\":{\"color\":\"rgb(0,116,217)\"},\"mode\":\"lines\",\"x\":[2.055382410668827,3.123784192965325,3.123784192965325,2.4820841116778745],\"xaxis\":\"x\",\"y\":[-6471.25,-6471.25,-6531.25,-6531.25],\"yaxis\":\"y\",\"type\":\"scatter\"},{\"hoverinfo\":\"text\",\"marker\":{\"color\":\"rgb(0,116,217)\"},\"mode\":\"lines\",\"x\":[2.8004255783575784,4.069082780202346,4.069082780202346,3.123784192965325],\"xaxis\":\"x\",\"y\":[-6375.625,-6375.625,-6501.25,-6501.25],\"yaxis\":\"y\",\"type\":\"scatter\"},{\"hoverinfo\":\"text\",\"marker\":{\"color\":\"rgb(0,116,217)\"},\"mode\":\"lines\",\"x\":[3.3478698344140776,4.600060056849265,4.600060056849265,4.069082780202346],\"xaxis\":\"x\",\"y\":[-6227.1875,-6227.1875,-6438.4375,-6438.4375],\"yaxis\":\"y\",\"type\":\"scatter\"},{\"hoverinfo\":\"text\",\"marker\":{\"color\":\"rgb(0,116,217)\"},\"mode\":\"lines\",\"x\":[0.0,1.3681976256968307,1.3681976256968307,0.0],\"xaxis\":\"x\",\"y\":[-6585.0,-6585.0,-6595.0,-6595.0],\"yaxis\":\"y\",\"type\":\"scatter\"},{\"hoverinfo\":\"text\",\"marker\":{\"color\":\"rgb(0,116,217)\"},\"mode\":\"lines\",\"x\":[0.0,1.4873764344928697,1.4873764344928697,1.3681976256968307],\"xaxis\":\"x\",\"y\":[-6575.0,-6575.0,-6590.0,-6590.0],\"yaxis\":\"y\",\"type\":\"scatter\"},{\"hoverinfo\":\"text\",\"marker\":{\"color\":\"rgb(0,116,217)\"},\"mode\":\"lines\",\"x\":[0.0,1.4820392845752057,1.4820392845752057,0.0],\"xaxis\":\"x\",\"y\":[-6615.0,-6615.0,-6625.0,-6625.0],\"yaxis\":\"y\",\"type\":\"scatter\"},{\"hoverinfo\":\"text\",\"marker\":{\"color\":\"rgb(0,116,217)\"},\"mode\":\"lines\",\"x\":[0.0,1.7798761277842177,1.7798761277842177,1.4820392845752057],\"xaxis\":\"x\",\"y\":[-6605.0,-6605.0,-6620.0,-6620.0],\"yaxis\":\"y\",\"type\":\"scatter\"},{\"hoverinfo\":\"text\",\"marker\":{\"color\":\"rgb(0,116,217)\"},\"mode\":\"lines\",\"x\":[1.4873764344928697,2.042698336224291,2.042698336224291,1.7798761277842177],\"xaxis\":\"x\",\"y\":[-6582.5,-6582.5,-6612.5,-6612.5],\"yaxis\":\"y\",\"type\":\"scatter\"},{\"hoverinfo\":\"text\",\"marker\":{\"color\":\"rgb(0,116,217)\"},\"mode\":\"lines\",\"x\":[0.0,1.0846245599936204,1.0846245599936204,0.0],\"xaxis\":\"x\",\"y\":[-6635.0,-6635.0,-6645.0,-6645.0],\"yaxis\":\"y\",\"type\":\"scatter\"},{\"hoverinfo\":\"text\",\"marker\":{\"color\":\"rgb(0,116,217)\"},\"mode\":\"lines\",\"x\":[0.0,1.4221504189665979,1.4221504189665979,0.0],\"xaxis\":\"x\",\"y\":[-6655.0,-6655.0,-6665.0,-6665.0],\"yaxis\":\"y\",\"type\":\"scatter\"},{\"hoverinfo\":\"text\",\"marker\":{\"color\":\"rgb(0,116,217)\"},\"mode\":\"lines\",\"x\":[1.0846245599936204,1.674158264535085,1.674158264535085,1.4221504189665979],\"xaxis\":\"x\",\"y\":[-6640.0,-6640.0,-6660.0,-6660.0],\"yaxis\":\"y\",\"type\":\"scatter\"},{\"hoverinfo\":\"text\",\"marker\":{\"color\":\"rgb(0,116,217)\"},\"mode\":\"lines\",\"x\":[0.0,1.3864978812222297,1.3864978812222297,0.0],\"xaxis\":\"x\",\"y\":[-6685.0,-6685.0,-6695.0,-6695.0],\"yaxis\":\"y\",\"type\":\"scatter\"},{\"hoverinfo\":\"text\",\"marker\":{\"color\":\"rgb(0,116,217)\"},\"mode\":\"lines\",\"x\":[0.0,1.7201018226897014,1.7201018226897014,1.3864978812222297],\"xaxis\":\"x\",\"y\":[-6675.0,-6675.0,-6690.0,-6690.0],\"yaxis\":\"y\",\"type\":\"scatter\"},{\"hoverinfo\":\"text\",\"marker\":{\"color\":\"rgb(0,116,217)\"},\"mode\":\"lines\",\"x\":[1.674158264535085,2.052465671253171,2.052465671253171,1.7201018226897014],\"xaxis\":\"x\",\"y\":[-6650.0,-6650.0,-6682.5,-6682.5],\"yaxis\":\"y\",\"type\":\"scatter\"},{\"hoverinfo\":\"text\",\"marker\":{\"color\":\"rgb(0,116,217)\"},\"mode\":\"lines\",\"x\":[0.0,1.2986483637904258,1.2986483637904258,0.0],\"xaxis\":\"x\",\"y\":[-6715.0,-6715.0,-6725.0,-6725.0],\"yaxis\":\"y\",\"type\":\"scatter\"},{\"hoverinfo\":\"text\",\"marker\":{\"color\":\"rgb(0,116,217)\"},\"mode\":\"lines\",\"x\":[0.0,1.5014429367533852,1.5014429367533852,1.2986483637904258],\"xaxis\":\"x\",\"y\":[-6705.0,-6705.0,-6720.0,-6720.0],\"yaxis\":\"y\",\"type\":\"scatter\"},{\"hoverinfo\":\"text\",\"marker\":{\"color\":\"rgb(0,116,217)\"},\"mode\":\"lines\",\"x\":[0.0,1.5517144430747998,1.5517144430747998,0.0],\"xaxis\":\"x\",\"y\":[-6735.0,-6735.0,-6745.0,-6745.0],\"yaxis\":\"y\",\"type\":\"scatter\"},{\"hoverinfo\":\"text\",\"marker\":{\"color\":\"rgb(0,116,217)\"},\"mode\":\"lines\",\"x\":[1.5014429367533852,1.7137979120978488,1.7137979120978488,1.5517144430747998],\"xaxis\":\"x\",\"y\":[-6712.5,-6712.5,-6740.0,-6740.0],\"yaxis\":\"y\",\"type\":\"scatter\"},{\"hoverinfo\":\"text\",\"marker\":{\"color\":\"rgb(0,116,217)\"},\"mode\":\"lines\",\"x\":[0.0,1.2082300517997342,1.2082300517997342,0.0],\"xaxis\":\"x\",\"y\":[-6755.0,-6755.0,-6765.0,-6765.0],\"yaxis\":\"y\",\"type\":\"scatter\"},{\"hoverinfo\":\"text\",\"marker\":{\"color\":\"rgb(0,116,217)\"},\"mode\":\"lines\",\"x\":[0.0,1.3624219513673164,1.3624219513673164,0.0],\"xaxis\":\"x\",\"y\":[-6785.0,-6785.0,-6795.0,-6795.0],\"yaxis\":\"y\",\"type\":\"scatter\"},{\"hoverinfo\":\"text\",\"marker\":{\"color\":\"rgb(0,116,217)\"},\"mode\":\"lines\",\"x\":[0.0,1.6131995517395201,1.6131995517395201,1.3624219513673164],\"xaxis\":\"x\",\"y\":[-6775.0,-6775.0,-6790.0,-6790.0],\"yaxis\":\"y\",\"type\":\"scatter\"},{\"hoverinfo\":\"text\",\"marker\":{\"color\":\"rgb(0,116,217)\"},\"mode\":\"lines\",\"x\":[1.2082300517997342,1.8204392764675328,1.8204392764675328,1.6131995517395201],\"xaxis\":\"x\",\"y\":[-6760.0,-6760.0,-6782.5,-6782.5],\"yaxis\":\"y\",\"type\":\"scatter\"},{\"hoverinfo\":\"text\",\"marker\":{\"color\":\"rgb(0,116,217)\"},\"mode\":\"lines\",\"x\":[1.7137979120978488,2.335507380831254,2.335507380831254,1.8204392764675328],\"xaxis\":\"x\",\"y\":[-6726.25,-6726.25,-6771.25,-6771.25],\"yaxis\":\"y\",\"type\":\"scatter\"},{\"hoverinfo\":\"text\",\"marker\":{\"color\":\"rgb(0,116,217)\"},\"mode\":\"lines\",\"x\":[2.052465671253171,2.5432047304003578,2.5432047304003578,2.335507380831254],\"xaxis\":\"x\",\"y\":[-6666.25,-6666.25,-6748.75,-6748.75],\"yaxis\":\"y\",\"type\":\"scatter\"},{\"hoverinfo\":\"text\",\"marker\":{\"color\":\"rgb(0,116,217)\"},\"mode\":\"lines\",\"x\":[2.042698336224291,3.152599317631888,3.152599317631888,2.5432047304003578],\"xaxis\":\"x\",\"y\":[-6597.5,-6597.5,-6707.5,-6707.5],\"yaxis\":\"y\",\"type\":\"scatter\"},{\"hoverinfo\":\"text\",\"marker\":{\"color\":\"rgb(0,116,217)\"},\"mode\":\"lines\",\"x\":[0.0,1.2916788424758792,1.2916788424758792,0.0],\"xaxis\":\"x\",\"y\":[-6805.0,-6805.0,-6815.0,-6815.0],\"yaxis\":\"y\",\"type\":\"scatter\"},{\"hoverinfo\":\"text\",\"marker\":{\"color\":\"rgb(0,116,217)\"},\"mode\":\"lines\",\"x\":[0.0,1.4596813394742836,1.4596813394742836,0.0],\"xaxis\":\"x\",\"y\":[-6825.0,-6825.0,-6835.0,-6835.0],\"yaxis\":\"y\",\"type\":\"scatter\"},{\"hoverinfo\":\"text\",\"marker\":{\"color\":\"rgb(0,116,217)\"},\"mode\":\"lines\",\"x\":[1.2916788424758792,1.9115553749119618,1.9115553749119618,1.4596813394742836],\"xaxis\":\"x\",\"y\":[-6810.0,-6810.0,-6830.0,-6830.0],\"yaxis\":\"y\",\"type\":\"scatter\"},{\"hoverinfo\":\"text\",\"marker\":{\"color\":\"rgb(0,116,217)\"},\"mode\":\"lines\",\"x\":[0.0,1.3608348296732804,1.3608348296732804,0.0],\"xaxis\":\"x\",\"y\":[-6845.0,-6845.0,-6855.0,-6855.0],\"yaxis\":\"y\",\"type\":\"scatter\"},{\"hoverinfo\":\"text\",\"marker\":{\"color\":\"rgb(0,116,217)\"},\"mode\":\"lines\",\"x\":[0.0,1.1849283800805486,1.1849283800805486,0.0],\"xaxis\":\"x\",\"y\":[-6865.0,-6865.0,-6875.0,-6875.0],\"yaxis\":\"y\",\"type\":\"scatter\"},{\"hoverinfo\":\"text\",\"marker\":{\"color\":\"rgb(0,116,217)\"},\"mode\":\"lines\",\"x\":[0.0,1.4870984608121864,1.4870984608121864,0.0],\"xaxis\":\"x\",\"y\":[-6885.0,-6885.0,-6895.0,-6895.0],\"yaxis\":\"y\",\"type\":\"scatter\"},{\"hoverinfo\":\"text\",\"marker\":{\"color\":\"rgb(0,116,217)\"},\"mode\":\"lines\",\"x\":[0.0,1.5871846441672068,1.5871846441672068,0.0],\"xaxis\":\"x\",\"y\":[-6905.0,-6905.0,-6915.0,-6915.0],\"yaxis\":\"y\",\"type\":\"scatter\"},{\"hoverinfo\":\"text\",\"marker\":{\"color\":\"rgb(0,116,217)\"},\"mode\":\"lines\",\"x\":[1.4870984608121864,1.7649567339450765,1.7649567339450765,1.5871846441672068],\"xaxis\":\"x\",\"y\":[-6890.0,-6890.0,-6910.0,-6910.0],\"yaxis\":\"y\",\"type\":\"scatter\"},{\"hoverinfo\":\"text\",\"marker\":{\"color\":\"rgb(0,116,217)\"},\"mode\":\"lines\",\"x\":[1.1849283800805486,2.168612902505712,2.168612902505712,1.7649567339450765],\"xaxis\":\"x\",\"y\":[-6870.0,-6870.0,-6900.0,-6900.0],\"yaxis\":\"y\",\"type\":\"scatter\"},{\"hoverinfo\":\"text\",\"marker\":{\"color\":\"rgb(0,116,217)\"},\"mode\":\"lines\",\"x\":[1.3608348296732804,2.52974721253049,2.52974721253049,2.168612902505712],\"xaxis\":\"x\",\"y\":[-6850.0,-6850.0,-6885.0,-6885.0],\"yaxis\":\"y\",\"type\":\"scatter\"},{\"hoverinfo\":\"text\",\"marker\":{\"color\":\"rgb(0,116,217)\"},\"mode\":\"lines\",\"x\":[1.9115553749119618,3.2982623472114923,3.2982623472114923,2.52974721253049],\"xaxis\":\"x\",\"y\":[-6820.0,-6820.0,-6867.5,-6867.5],\"yaxis\":\"y\",\"type\":\"scatter\"},{\"hoverinfo\":\"text\",\"marker\":{\"color\":\"rgb(0,116,217)\"},\"mode\":\"lines\",\"x\":[3.152599317631888,3.794799173535883,3.794799173535883,3.2982623472114923],\"xaxis\":\"x\",\"y\":[-6652.5,-6652.5,-6843.75,-6843.75],\"yaxis\":\"y\",\"type\":\"scatter\"},{\"hoverinfo\":\"text\",\"marker\":{\"color\":\"rgb(0,116,217)\"},\"mode\":\"lines\",\"x\":[0.0,1.2401126969225196,1.2401126969225196,0.0],\"xaxis\":\"x\",\"y\":[-6925.0,-6925.0,-6935.0,-6935.0],\"yaxis\":\"y\",\"type\":\"scatter\"},{\"hoverinfo\":\"text\",\"marker\":{\"color\":\"rgb(0,116,217)\"},\"mode\":\"lines\",\"x\":[0.0,1.2818648503751366,1.2818648503751366,0.0],\"xaxis\":\"x\",\"y\":[-6945.0,-6945.0,-6955.0,-6955.0],\"yaxis\":\"y\",\"type\":\"scatter\"},{\"hoverinfo\":\"text\",\"marker\":{\"color\":\"rgb(0,116,217)\"},\"mode\":\"lines\",\"x\":[1.2401126969225196,1.6885778734862555,1.6885778734862555,1.2818648503751366],\"xaxis\":\"x\",\"y\":[-6930.0,-6930.0,-6950.0,-6950.0],\"yaxis\":\"y\",\"type\":\"scatter\"},{\"hoverinfo\":\"text\",\"marker\":{\"color\":\"rgb(0,116,217)\"},\"mode\":\"lines\",\"x\":[0.0,1.4584101881971006,1.4584101881971006,0.0],\"xaxis\":\"x\",\"y\":[-6965.0,-6965.0,-6975.0,-6975.0],\"yaxis\":\"y\",\"type\":\"scatter\"},{\"hoverinfo\":\"text\",\"marker\":{\"color\":\"rgb(0,116,217)\"},\"mode\":\"lines\",\"x\":[0.0,1.5083453968759042,1.5083453968759042,0.0],\"xaxis\":\"x\",\"y\":[-6985.0,-6985.0,-6995.0,-6995.0],\"yaxis\":\"y\",\"type\":\"scatter\"},{\"hoverinfo\":\"text\",\"marker\":{\"color\":\"rgb(0,116,217)\"},\"mode\":\"lines\",\"x\":[1.4584101881971006,2.2137642313782733,2.2137642313782733,1.5083453968759042],\"xaxis\":\"x\",\"y\":[-6970.0,-6970.0,-6990.0,-6990.0],\"yaxis\":\"y\",\"type\":\"scatter\"},{\"hoverinfo\":\"text\",\"marker\":{\"color\":\"rgb(0,116,217)\"},\"mode\":\"lines\",\"x\":[1.6885778734862555,2.8389139465751767,2.8389139465751767,2.2137642313782733],\"xaxis\":\"x\",\"y\":[-6940.0,-6940.0,-6980.0,-6980.0],\"yaxis\":\"y\",\"type\":\"scatter\"},{\"hoverinfo\":\"text\",\"marker\":{\"color\":\"rgb(0,116,217)\"},\"mode\":\"lines\",\"x\":[0.0,1.1432981630204966,1.1432981630204966,0.0],\"xaxis\":\"x\",\"y\":[-7015.0,-7015.0,-7025.0,-7025.0],\"yaxis\":\"y\",\"type\":\"scatter\"},{\"hoverinfo\":\"text\",\"marker\":{\"color\":\"rgb(0,116,217)\"},\"mode\":\"lines\",\"x\":[0.0,1.3702152851808984,1.3702152851808984,1.1432981630204966],\"xaxis\":\"x\",\"y\":[-7005.0,-7005.0,-7020.0,-7020.0],\"yaxis\":\"y\",\"type\":\"scatter\"},{\"hoverinfo\":\"text\",\"marker\":{\"color\":\"rgb(0,116,217)\"},\"mode\":\"lines\",\"x\":[0.0,1.4568738574517146,1.4568738574517146,0.0],\"xaxis\":\"x\",\"y\":[-7045.0,-7045.0,-7055.0,-7055.0],\"yaxis\":\"y\",\"type\":\"scatter\"},{\"hoverinfo\":\"text\",\"marker\":{\"color\":\"rgb(0,116,217)\"},\"mode\":\"lines\",\"x\":[0.0,1.7315204330996568,1.7315204330996568,1.4568738574517146],\"xaxis\":\"x\",\"y\":[-7035.0,-7035.0,-7050.0,-7050.0],\"yaxis\":\"y\",\"type\":\"scatter\"},{\"hoverinfo\":\"text\",\"marker\":{\"color\":\"rgb(0,116,217)\"},\"mode\":\"lines\",\"x\":[1.3702152851808984,2.5243054431088714,2.5243054431088714,1.7315204330996568],\"xaxis\":\"x\",\"y\":[-7012.5,-7012.5,-7042.5,-7042.5],\"yaxis\":\"y\",\"type\":\"scatter\"},{\"hoverinfo\":\"text\",\"marker\":{\"color\":\"rgb(0,116,217)\"},\"mode\":\"lines\",\"x\":[0.0,1.375244939208042,1.375244939208042,0.0],\"xaxis\":\"x\",\"y\":[-7065.0,-7065.0,-7075.0,-7075.0],\"yaxis\":\"y\",\"type\":\"scatter\"},{\"hoverinfo\":\"text\",\"marker\":{\"color\":\"rgb(0,116,217)\"},\"mode\":\"lines\",\"x\":[0.0,1.4062900921157622,1.4062900921157622,0.0],\"xaxis\":\"x\",\"y\":[-7085.0,-7085.0,-7095.0,-7095.0],\"yaxis\":\"y\",\"type\":\"scatter\"},{\"hoverinfo\":\"text\",\"marker\":{\"color\":\"rgb(0,116,217)\"},\"mode\":\"lines\",\"x\":[1.375244939208042,1.779376493378074,1.779376493378074,1.4062900921157622],\"xaxis\":\"x\",\"y\":[-7070.0,-7070.0,-7090.0,-7090.0],\"yaxis\":\"y\",\"type\":\"scatter\"},{\"hoverinfo\":\"text\",\"marker\":{\"color\":\"rgb(0,116,217)\"},\"mode\":\"lines\",\"x\":[0.0,1.5025307367937533,1.5025307367937533,0.0],\"xaxis\":\"x\",\"y\":[-7105.0,-7105.0,-7115.0,-7115.0],\"yaxis\":\"y\",\"type\":\"scatter\"},{\"hoverinfo\":\"text\",\"marker\":{\"color\":\"rgb(0,116,217)\"},\"mode\":\"lines\",\"x\":[0.0,1.4150641398496884,1.4150641398496884,0.0],\"xaxis\":\"x\",\"y\":[-7125.0,-7125.0,-7135.0,-7135.0],\"yaxis\":\"y\",\"type\":\"scatter\"},{\"hoverinfo\":\"text\",\"marker\":{\"color\":\"rgb(0,116,217)\"},\"mode\":\"lines\",\"x\":[0.0,1.5309787172192266,1.5309787172192266,0.0],\"xaxis\":\"x\",\"y\":[-7145.0,-7145.0,-7155.0,-7155.0],\"yaxis\":\"y\",\"type\":\"scatter\"},{\"hoverinfo\":\"text\",\"marker\":{\"color\":\"rgb(0,116,217)\"},\"mode\":\"lines\",\"x\":[1.4150641398496884,1.9010137481339786,1.9010137481339786,1.5309787172192266],\"xaxis\":\"x\",\"y\":[-7130.0,-7130.0,-7150.0,-7150.0],\"yaxis\":\"y\",\"type\":\"scatter\"},{\"hoverinfo\":\"text\",\"marker\":{\"color\":\"rgb(0,116,217)\"},\"mode\":\"lines\",\"x\":[1.5025307367937533,2.2563708034656753,2.2563708034656753,1.9010137481339786],\"xaxis\":\"x\",\"y\":[-7110.0,-7110.0,-7140.0,-7140.0],\"yaxis\":\"y\",\"type\":\"scatter\"},{\"hoverinfo\":\"text\",\"marker\":{\"color\":\"rgb(0,116,217)\"},\"mode\":\"lines\",\"x\":[1.779376493378074,3.177135159799484,3.177135159799484,2.2563708034656753],\"xaxis\":\"x\",\"y\":[-7080.0,-7080.0,-7125.0,-7125.0],\"yaxis\":\"y\",\"type\":\"scatter\"},{\"hoverinfo\":\"text\",\"marker\":{\"color\":\"rgb(0,116,217)\"},\"mode\":\"lines\",\"x\":[2.5243054431088714,3.4443337542660366,3.4443337542660366,3.177135159799484],\"xaxis\":\"x\",\"y\":[-7027.5,-7027.5,-7102.5,-7102.5],\"yaxis\":\"y\",\"type\":\"scatter\"},{\"hoverinfo\":\"text\",\"marker\":{\"color\":\"rgb(0,116,217)\"},\"mode\":\"lines\",\"x\":[2.8389139465751767,3.9997088207299254,3.9997088207299254,3.4443337542660366],\"xaxis\":\"x\",\"y\":[-6960.0,-6960.0,-7065.0,-7065.0],\"yaxis\":\"y\",\"type\":\"scatter\"},{\"hoverinfo\":\"text\",\"marker\":{\"color\":\"rgb(0,116,217)\"},\"mode\":\"lines\",\"x\":[3.794799173535883,5.046541974488877,5.046541974488877,3.9997088207299254],\"xaxis\":\"x\",\"y\":[-6748.125,-6748.125,-7012.5,-7012.5],\"yaxis\":\"y\",\"type\":\"scatter\"},{\"hoverinfo\":\"text\",\"marker\":{\"color\":\"rgb(0,116,217)\"},\"mode\":\"lines\",\"x\":[4.600060056849265,7.386213596835689,7.386213596835689,5.046541974488877],\"xaxis\":\"x\",\"y\":[-6332.8125,-6332.8125,-6880.3125,-6880.3125],\"yaxis\":\"y\",\"type\":\"scatter\"},{\"hoverinfo\":\"text\",\"marker\":{\"color\":\"rgb(0,116,217)\"},\"mode\":\"lines\",\"x\":[6.464048254637043,10.408776987642316,10.408776987642316,7.386213596835689],\"xaxis\":\"x\",\"y\":[-5806.23046875,-5806.23046875,-6606.5625,-6606.5625],\"yaxis\":\"y\",\"type\":\"scatter\"},{\"hoverinfo\":\"text\",\"marker\":{\"color\":\"rgb(0,116,217)\"},\"mode\":\"lines\",\"x\":[5.558788127102843,12.204776410621019,12.204776410621019,10.408776987642316],\"xaxis\":\"x\",\"y\":[-5042.16796875,-5042.16796875,-6206.396484375,-6206.396484375],\"yaxis\":\"y\",\"type\":\"scatter\"},{\"hoverinfo\":\"text\",\"marker\":{\"color\":\"rgb(0,116,217)\"},\"mode\":\"lines\",\"x\":[7.979235372584881,18.1024854260539,18.1024854260539,12.204776410621019],\"xaxis\":\"x\",\"y\":[-4025.6689453125,-4025.6689453125,-5624.2822265625,-5624.2822265625],\"yaxis\":\"y\",\"type\":\"scatter\"},{\"hoverinfo\":\"text\",\"marker\":{\"color\":\"rgb(0,116,217)\"},\"mode\":\"lines\",\"x\":[0.0,1.8132741689451273,1.8132741689451273,0.0],\"xaxis\":\"x\",\"y\":[-7175.0,-7175.0,-7185.0,-7185.0],\"yaxis\":\"y\",\"type\":\"scatter\"},{\"hoverinfo\":\"text\",\"marker\":{\"color\":\"rgb(0,116,217)\"},\"mode\":\"lines\",\"x\":[0.0,1.8650573004356792,1.8650573004356792,1.8132741689451273],\"xaxis\":\"x\",\"y\":[-7165.0,-7165.0,-7180.0,-7180.0],\"yaxis\":\"y\",\"type\":\"scatter\"},{\"hoverinfo\":\"text\",\"marker\":{\"color\":\"rgb(0,116,217)\"},\"mode\":\"lines\",\"x\":[0.0,1.4593856445534938,1.4593856445534938,0.0],\"xaxis\":\"x\",\"y\":[-7205.0,-7205.0,-7215.0,-7215.0],\"yaxis\":\"y\",\"type\":\"scatter\"},{\"hoverinfo\":\"text\",\"marker\":{\"color\":\"rgb(0,116,217)\"},\"mode\":\"lines\",\"x\":[0.0,1.9032387389171175,1.9032387389171175,1.4593856445534938],\"xaxis\":\"x\",\"y\":[-7195.0,-7195.0,-7210.0,-7210.0],\"yaxis\":\"y\",\"type\":\"scatter\"},{\"hoverinfo\":\"text\",\"marker\":{\"color\":\"rgb(0,116,217)\"},\"mode\":\"lines\",\"x\":[1.8650573004356792,2.257162528286791,2.257162528286791,1.9032387389171175],\"xaxis\":\"x\",\"y\":[-7172.5,-7172.5,-7202.5,-7202.5],\"yaxis\":\"y\",\"type\":\"scatter\"},{\"hoverinfo\":\"text\",\"marker\":{\"color\":\"rgb(0,116,217)\"},\"mode\":\"lines\",\"x\":[0.0,1.4682405245270378,1.4682405245270378,0.0],\"xaxis\":\"x\",\"y\":[-7225.0,-7225.0,-7235.0,-7235.0],\"yaxis\":\"y\",\"type\":\"scatter\"},{\"hoverinfo\":\"text\",\"marker\":{\"color\":\"rgb(0,116,217)\"},\"mode\":\"lines\",\"x\":[0.0,1.3946796506954005,1.3946796506954005,0.0],\"xaxis\":\"x\",\"y\":[-7255.0,-7255.0,-7265.0,-7265.0],\"yaxis\":\"y\",\"type\":\"scatter\"},{\"hoverinfo\":\"text\",\"marker\":{\"color\":\"rgb(0,116,217)\"},\"mode\":\"lines\",\"x\":[0.0,1.6453829963509448,1.6453829963509448,1.3946796506954005],\"xaxis\":\"x\",\"y\":[-7245.0,-7245.0,-7260.0,-7260.0],\"yaxis\":\"y\",\"type\":\"scatter\"},{\"hoverinfo\":\"text\",\"marker\":{\"color\":\"rgb(0,116,217)\"},\"mode\":\"lines\",\"x\":[1.4682405245270378,1.9793616091116177,1.9793616091116177,1.6453829963509448],\"xaxis\":\"x\",\"y\":[-7230.0,-7230.0,-7252.5,-7252.5],\"yaxis\":\"y\",\"type\":\"scatter\"},{\"hoverinfo\":\"text\",\"marker\":{\"color\":\"rgb(0,116,217)\"},\"mode\":\"lines\",\"x\":[0.0,1.6376350825531831,1.6376350825531831,0.0],\"xaxis\":\"x\",\"y\":[-7275.0,-7275.0,-7285.0,-7285.0],\"yaxis\":\"y\",\"type\":\"scatter\"},{\"hoverinfo\":\"text\",\"marker\":{\"color\":\"rgb(0,116,217)\"},\"mode\":\"lines\",\"x\":[0.0,1.555590161147933,1.555590161147933,0.0],\"xaxis\":\"x\",\"y\":[-7295.0,-7295.0,-7305.0,-7305.0],\"yaxis\":\"y\",\"type\":\"scatter\"},{\"hoverinfo\":\"text\",\"marker\":{\"color\":\"rgb(0,116,217)\"},\"mode\":\"lines\",\"x\":[0.0,1.4178988432104465,1.4178988432104465,0.0],\"xaxis\":\"x\",\"y\":[-7325.0,-7325.0,-7335.0,-7335.0],\"yaxis\":\"y\",\"type\":\"scatter\"},{\"hoverinfo\":\"text\",\"marker\":{\"color\":\"rgb(0,116,217)\"},\"mode\":\"lines\",\"x\":[0.0,1.6495503688533166,1.6495503688533166,1.4178988432104465],\"xaxis\":\"x\",\"y\":[-7315.0,-7315.0,-7330.0,-7330.0],\"yaxis\":\"y\",\"type\":\"scatter\"},{\"hoverinfo\":\"text\",\"marker\":{\"color\":\"rgb(0,116,217)\"},\"mode\":\"lines\",\"x\":[1.555590161147933,2.0420202681910284,2.0420202681910284,1.6495503688533166],\"xaxis\":\"x\",\"y\":[-7300.0,-7300.0,-7322.5,-7322.5],\"yaxis\":\"y\",\"type\":\"scatter\"},{\"hoverinfo\":\"text\",\"marker\":{\"color\":\"rgb(0,116,217)\"},\"mode\":\"lines\",\"x\":[1.6376350825531831,2.194717592950625,2.194717592950625,2.0420202681910284],\"xaxis\":\"x\",\"y\":[-7280.0,-7280.0,-7311.25,-7311.25],\"yaxis\":\"y\",\"type\":\"scatter\"},{\"hoverinfo\":\"text\",\"marker\":{\"color\":\"rgb(0,116,217)\"},\"mode\":\"lines\",\"x\":[1.9793616091116177,3.130480066110086,3.130480066110086,2.194717592950625],\"xaxis\":\"x\",\"y\":[-7241.25,-7241.25,-7295.625,-7295.625],\"yaxis\":\"y\",\"type\":\"scatter\"},{\"hoverinfo\":\"text\",\"marker\":{\"color\":\"rgb(0,116,217)\"},\"mode\":\"lines\",\"x\":[2.257162528286791,3.372935568941205,3.372935568941205,3.130480066110086],\"xaxis\":\"x\",\"y\":[-7187.5,-7187.5,-7268.4375,-7268.4375],\"yaxis\":\"y\",\"type\":\"scatter\"},{\"hoverinfo\":\"text\",\"marker\":{\"color\":\"rgb(35,205,205)\"},\"mode\":\"lines\",\"x\":[0.0,0.6527619494888539,0.6527619494888539,0.0],\"xaxis\":\"x\",\"y\":[-7355.0,-7355.0,-7365.0,-7365.0],\"yaxis\":\"y\",\"type\":\"scatter\"},{\"hoverinfo\":\"text\",\"marker\":{\"color\":\"rgb(0,116,217)\"},\"mode\":\"lines\",\"x\":[0.0,1.3981731501393742,1.3981731501393742,0.6527619494888539],\"xaxis\":\"x\",\"y\":[-7345.0,-7345.0,-7360.0,-7360.0],\"yaxis\":\"y\",\"type\":\"scatter\"},{\"hoverinfo\":\"text\",\"marker\":{\"color\":\"rgb(0,116,217)\"},\"mode\":\"lines\",\"x\":[0.0,1.2682793937494425,1.2682793937494425,0.0],\"xaxis\":\"x\",\"y\":[-7385.0,-7385.0,-7395.0,-7395.0],\"yaxis\":\"y\",\"type\":\"scatter\"},{\"hoverinfo\":\"text\",\"marker\":{\"color\":\"rgb(0,116,217)\"},\"mode\":\"lines\",\"x\":[0.0,1.4007154128475363,1.4007154128475363,1.2682793937494425],\"xaxis\":\"x\",\"y\":[-7375.0,-7375.0,-7390.0,-7390.0],\"yaxis\":\"y\",\"type\":\"scatter\"},{\"hoverinfo\":\"text\",\"marker\":{\"color\":\"rgb(0,116,217)\"},\"mode\":\"lines\",\"x\":[0.0,1.2591946365743534,1.2591946365743534,0.0],\"xaxis\":\"x\",\"y\":[-7415.0,-7415.0,-7425.0,-7425.0],\"yaxis\":\"y\",\"type\":\"scatter\"},{\"hoverinfo\":\"text\",\"marker\":{\"color\":\"rgb(0,116,217)\"},\"mode\":\"lines\",\"x\":[0.0,1.6097408395933972,1.6097408395933972,1.2591946365743534],\"xaxis\":\"x\",\"y\":[-7405.0,-7405.0,-7420.0,-7420.0],\"yaxis\":\"y\",\"type\":\"scatter\"},{\"hoverinfo\":\"text\",\"marker\":{\"color\":\"rgb(0,116,217)\"},\"mode\":\"lines\",\"x\":[1.4007154128475363,1.9327902610936518,1.9327902610936518,1.6097408395933972],\"xaxis\":\"x\",\"y\":[-7382.5,-7382.5,-7412.5,-7412.5],\"yaxis\":\"y\",\"type\":\"scatter\"},{\"hoverinfo\":\"text\",\"marker\":{\"color\":\"rgb(0,116,217)\"},\"mode\":\"lines\",\"x\":[1.3981731501393742,2.7612218050280704,2.7612218050280704,1.9327902610936518],\"xaxis\":\"x\",\"y\":[-7352.5,-7352.5,-7397.5,-7397.5],\"yaxis\":\"y\",\"type\":\"scatter\"},{\"hoverinfo\":\"text\",\"marker\":{\"color\":\"rgb(61,153,112)\"},\"mode\":\"lines\",\"x\":[0.0,0.93436040639088,0.93436040639088,0.0],\"xaxis\":\"x\",\"y\":[-7435.0,-7435.0,-7445.0,-7445.0],\"yaxis\":\"y\",\"type\":\"scatter\"},{\"hoverinfo\":\"text\",\"marker\":{\"color\":\"rgb(0,116,217)\"},\"mode\":\"lines\",\"x\":[0.0,1.456115922144681,1.456115922144681,0.0],\"xaxis\":\"x\",\"y\":[-7455.0,-7455.0,-7465.0,-7465.0],\"yaxis\":\"y\",\"type\":\"scatter\"},{\"hoverinfo\":\"text\",\"marker\":{\"color\":\"rgb(0,116,217)\"},\"mode\":\"lines\",\"x\":[0.0,1.5925006463249802,1.5925006463249802,0.0],\"xaxis\":\"x\",\"y\":[-7475.0,-7475.0,-7485.0,-7485.0],\"yaxis\":\"y\",\"type\":\"scatter\"},{\"hoverinfo\":\"text\",\"marker\":{\"color\":\"rgb(0,116,217)\"},\"mode\":\"lines\",\"x\":[1.456115922144681,1.8018730213402907,1.8018730213402907,1.5925006463249802],\"xaxis\":\"x\",\"y\":[-7460.0,-7460.0,-7480.0,-7480.0],\"yaxis\":\"y\",\"type\":\"scatter\"},{\"hoverinfo\":\"text\",\"marker\":{\"color\":\"rgb(0,116,217)\"},\"mode\":\"lines\",\"x\":[0.0,1.4369065823508718,1.4369065823508718,0.0],\"xaxis\":\"x\",\"y\":[-7495.0,-7495.0,-7505.0,-7505.0],\"yaxis\":\"y\",\"type\":\"scatter\"},{\"hoverinfo\":\"text\",\"marker\":{\"color\":\"rgb(0,116,217)\"},\"mode\":\"lines\",\"x\":[0.0,1.5280533839509294,1.5280533839509294,0.0],\"xaxis\":\"x\",\"y\":[-7515.0,-7515.0,-7525.0,-7525.0],\"yaxis\":\"y\",\"type\":\"scatter\"},{\"hoverinfo\":\"text\",\"marker\":{\"color\":\"rgb(0,116,217)\"},\"mode\":\"lines\",\"x\":[1.4369065823508718,2.090236895389315,2.090236895389315,1.5280533839509294],\"xaxis\":\"x\",\"y\":[-7500.0,-7500.0,-7520.0,-7520.0],\"yaxis\":\"y\",\"type\":\"scatter\"},{\"hoverinfo\":\"text\",\"marker\":{\"color\":\"rgb(0,116,217)\"},\"mode\":\"lines\",\"x\":[1.8018730213402907,2.5395843560208795,2.5395843560208795,2.090236895389315],\"xaxis\":\"x\",\"y\":[-7470.0,-7470.0,-7510.0,-7510.0],\"yaxis\":\"y\",\"type\":\"scatter\"},{\"hoverinfo\":\"text\",\"marker\":{\"color\":\"rgb(0,116,217)\"},\"mode\":\"lines\",\"x\":[0.93436040639088,2.6455169933672007,2.6455169933672007,2.5395843560208795],\"xaxis\":\"x\",\"y\":[-7440.0,-7440.0,-7490.0,-7490.0],\"yaxis\":\"y\",\"type\":\"scatter\"},{\"hoverinfo\":\"text\",\"marker\":{\"color\":\"rgb(0,116,217)\"},\"mode\":\"lines\",\"x\":[0.0,1.3919444658921876,1.3919444658921876,0.0],\"xaxis\":\"x\",\"y\":[-7545.0,-7545.0,-7555.0,-7555.0],\"yaxis\":\"y\",\"type\":\"scatter\"},{\"hoverinfo\":\"text\",\"marker\":{\"color\":\"rgb(0,116,217)\"},\"mode\":\"lines\",\"x\":[0.0,1.5453116154721303,1.5453116154721303,1.3919444658921876],\"xaxis\":\"x\",\"y\":[-7535.0,-7535.0,-7550.0,-7550.0],\"yaxis\":\"y\",\"type\":\"scatter\"},{\"hoverinfo\":\"text\",\"marker\":{\"color\":\"rgb(0,116,217)\"},\"mode\":\"lines\",\"x\":[0.0,1.642908510365393,1.642908510365393,0.0],\"xaxis\":\"x\",\"y\":[-7565.0,-7565.0,-7575.0,-7575.0],\"yaxis\":\"y\",\"type\":\"scatter\"},{\"hoverinfo\":\"text\",\"marker\":{\"color\":\"rgb(0,116,217)\"},\"mode\":\"lines\",\"x\":[0.0,1.6503119839776086,1.6503119839776086,0.0],\"xaxis\":\"x\",\"y\":[-7585.0,-7585.0,-7595.0,-7595.0],\"yaxis\":\"y\",\"type\":\"scatter\"},{\"hoverinfo\":\"text\",\"marker\":{\"color\":\"rgb(0,116,217)\"},\"mode\":\"lines\",\"x\":[1.642908510365393,2.043374684424975,2.043374684424975,1.6503119839776086],\"xaxis\":\"x\",\"y\":[-7570.0,-7570.0,-7590.0,-7590.0],\"yaxis\":\"y\",\"type\":\"scatter\"},{\"hoverinfo\":\"text\",\"marker\":{\"color\":\"rgb(0,116,217)\"},\"mode\":\"lines\",\"x\":[1.5453116154721303,2.127530441750027,2.127530441750027,2.043374684424975],\"xaxis\":\"x\",\"y\":[-7542.5,-7542.5,-7580.0,-7580.0],\"yaxis\":\"y\",\"type\":\"scatter\"},{\"hoverinfo\":\"text\",\"marker\":{\"color\":\"rgb(0,116,217)\"},\"mode\":\"lines\",\"x\":[0.0,1.7065990753745979,1.7065990753745979,0.0],\"xaxis\":\"x\",\"y\":[-7605.0,-7605.0,-7615.0,-7615.0],\"yaxis\":\"y\",\"type\":\"scatter\"},{\"hoverinfo\":\"text\",\"marker\":{\"color\":\"rgb(0,116,217)\"},\"mode\":\"lines\",\"x\":[0.0,1.5337214427790695,1.5337214427790695,0.0],\"xaxis\":\"x\",\"y\":[-7625.0,-7625.0,-7635.0,-7635.0],\"yaxis\":\"y\",\"type\":\"scatter\"},{\"hoverinfo\":\"text\",\"marker\":{\"color\":\"rgb(0,116,217)\"},\"mode\":\"lines\",\"x\":[0.0,1.4832207813912055,1.4832207813912055,0.0],\"xaxis\":\"x\",\"y\":[-7655.0,-7655.0,-7665.0,-7665.0],\"yaxis\":\"y\",\"type\":\"scatter\"},{\"hoverinfo\":\"text\",\"marker\":{\"color\":\"rgb(0,116,217)\"},\"mode\":\"lines\",\"x\":[0.0,1.6785394121887351,1.6785394121887351,1.4832207813912055],\"xaxis\":\"x\",\"y\":[-7645.0,-7645.0,-7660.0,-7660.0],\"yaxis\":\"y\",\"type\":\"scatter\"},{\"hoverinfo\":\"text\",\"marker\":{\"color\":\"rgb(0,116,217)\"},\"mode\":\"lines\",\"x\":[1.5337214427790695,1.8815091453501542,1.8815091453501542,1.6785394121887351],\"xaxis\":\"x\",\"y\":[-7630.0,-7630.0,-7652.5,-7652.5],\"yaxis\":\"y\",\"type\":\"scatter\"},{\"hoverinfo\":\"text\",\"marker\":{\"color\":\"rgb(0,116,217)\"},\"mode\":\"lines\",\"x\":[1.7065990753745979,1.9703008253516892,1.9703008253516892,1.8815091453501542],\"xaxis\":\"x\",\"y\":[-7610.0,-7610.0,-7641.25,-7641.25],\"yaxis\":\"y\",\"type\":\"scatter\"},{\"hoverinfo\":\"text\",\"marker\":{\"color\":\"rgb(0,116,217)\"},\"mode\":\"lines\",\"x\":[0.0,1.6800686200829151,1.6800686200829151,0.0],\"xaxis\":\"x\",\"y\":[-7675.0,-7675.0,-7685.0,-7685.0],\"yaxis\":\"y\",\"type\":\"scatter\"},{\"hoverinfo\":\"text\",\"marker\":{\"color\":\"rgb(0,116,217)\"},\"mode\":\"lines\",\"x\":[0.0,1.6843968763472597,1.6843968763472597,0.0],\"xaxis\":\"x\",\"y\":[-7695.0,-7695.0,-7705.0,-7705.0],\"yaxis\":\"y\",\"type\":\"scatter\"},{\"hoverinfo\":\"text\",\"marker\":{\"color\":\"rgb(0,116,217)\"},\"mode\":\"lines\",\"x\":[1.6800686200829151,2.0969961857879515,2.0969961857879515,1.6843968763472597],\"xaxis\":\"x\",\"y\":[-7680.0,-7680.0,-7700.0,-7700.0],\"yaxis\":\"y\",\"type\":\"scatter\"},{\"hoverinfo\":\"text\",\"marker\":{\"color\":\"rgb(0,116,217)\"},\"mode\":\"lines\",\"x\":[1.9703008253516892,2.5540106701378793,2.5540106701378793,2.0969961857879515],\"xaxis\":\"x\",\"y\":[-7625.625,-7625.625,-7690.0,-7690.0],\"yaxis\":\"y\",\"type\":\"scatter\"},{\"hoverinfo\":\"text\",\"marker\":{\"color\":\"rgb(0,116,217)\"},\"mode\":\"lines\",\"x\":[2.127530441750027,3.1323244571560003,3.1323244571560003,2.5540106701378793],\"xaxis\":\"x\",\"y\":[-7561.25,-7561.25,-7657.8125,-7657.8125],\"yaxis\":\"y\",\"type\":\"scatter\"},{\"hoverinfo\":\"text\",\"marker\":{\"color\":\"rgb(0,116,217)\"},\"mode\":\"lines\",\"x\":[2.6455169933672007,3.684492428173371,3.684492428173371,3.1323244571560003],\"xaxis\":\"x\",\"y\":[-7465.0,-7465.0,-7609.53125,-7609.53125],\"yaxis\":\"y\",\"type\":\"scatter\"},{\"hoverinfo\":\"text\",\"marker\":{\"color\":\"rgb(0,116,217)\"},\"mode\":\"lines\",\"x\":[2.7612218050280704,3.9683788133433238,3.9683788133433238,3.684492428173371],\"xaxis\":\"x\",\"y\":[-7375.0,-7375.0,-7537.265625,-7537.265625],\"yaxis\":\"y\",\"type\":\"scatter\"},{\"hoverinfo\":\"text\",\"marker\":{\"color\":\"rgb(0,116,217)\"},\"mode\":\"lines\",\"x\":[3.372935568941205,4.609946072957082,4.609946072957082,3.9683788133433238],\"xaxis\":\"x\",\"y\":[-7227.96875,-7227.96875,-7456.1328125,-7456.1328125],\"yaxis\":\"y\",\"type\":\"scatter\"},{\"hoverinfo\":\"text\",\"marker\":{\"color\":\"rgb(0,116,217)\"},\"mode\":\"lines\",\"x\":[0.0,1.4497519422289928,1.4497519422289928,0.0],\"xaxis\":\"x\",\"y\":[-7715.0,-7715.0,-7725.0,-7725.0],\"yaxis\":\"y\",\"type\":\"scatter\"},{\"hoverinfo\":\"text\",\"marker\":{\"color\":\"rgb(255,65,54)\"},\"mode\":\"lines\",\"x\":[0.0,0.9845473030481984,0.9845473030481984,0.0],\"xaxis\":\"x\",\"y\":[-7735.0,-7735.0,-7745.0,-7745.0],\"yaxis\":\"y\",\"type\":\"scatter\"},{\"hoverinfo\":\"text\",\"marker\":{\"color\":\"rgb(0,116,217)\"},\"mode\":\"lines\",\"x\":[0.0,1.6095383157106606,1.6095383157106606,0.0],\"xaxis\":\"x\",\"y\":[-7755.0,-7755.0,-7765.0,-7765.0],\"yaxis\":\"y\",\"type\":\"scatter\"},{\"hoverinfo\":\"text\",\"marker\":{\"color\":\"rgb(0,116,217)\"},\"mode\":\"lines\",\"x\":[0.9845473030481984,2.018367985240677,2.018367985240677,1.6095383157106606],\"xaxis\":\"x\",\"y\":[-7740.0,-7740.0,-7760.0,-7760.0],\"yaxis\":\"y\",\"type\":\"scatter\"},{\"hoverinfo\":\"text\",\"marker\":{\"color\":\"rgb(0,116,217)\"},\"mode\":\"lines\",\"x\":[1.4497519422289928,2.1935226331819946,2.1935226331819946,2.018367985240677],\"xaxis\":\"x\",\"y\":[-7720.0,-7720.0,-7750.0,-7750.0],\"yaxis\":\"y\",\"type\":\"scatter\"},{\"hoverinfo\":\"text\",\"marker\":{\"color\":\"rgb(0,116,217)\"},\"mode\":\"lines\",\"x\":[0.0,1.5436875441636613,1.5436875441636613,0.0],\"xaxis\":\"x\",\"y\":[-7775.0,-7775.0,-7785.0,-7785.0],\"yaxis\":\"y\",\"type\":\"scatter\"},{\"hoverinfo\":\"text\",\"marker\":{\"color\":\"rgb(0,116,217)\"},\"mode\":\"lines\",\"x\":[0.0,1.6308763943389748,1.6308763943389748,0.0],\"xaxis\":\"x\",\"y\":[-7795.0,-7795.0,-7805.0,-7805.0],\"yaxis\":\"y\",\"type\":\"scatter\"},{\"hoverinfo\":\"text\",\"marker\":{\"color\":\"rgb(0,116,217)\"},\"mode\":\"lines\",\"x\":[1.5436875441636613,1.8496942775503558,1.8496942775503558,1.6308763943389748],\"xaxis\":\"x\",\"y\":[-7780.0,-7780.0,-7800.0,-7800.0],\"yaxis\":\"y\",\"type\":\"scatter\"},{\"hoverinfo\":\"text\",\"marker\":{\"color\":\"rgb(0,116,217)\"},\"mode\":\"lines\",\"x\":[0.0,1.604178591029007,1.604178591029007,0.0],\"xaxis\":\"x\",\"y\":[-7815.0,-7815.0,-7825.0,-7825.0],\"yaxis\":\"y\",\"type\":\"scatter\"},{\"hoverinfo\":\"text\",\"marker\":{\"color\":\"rgb(0,116,217)\"},\"mode\":\"lines\",\"x\":[0.0,1.6394705633069564,1.6394705633069564,0.0],\"xaxis\":\"x\",\"y\":[-7835.0,-7835.0,-7845.0,-7845.0],\"yaxis\":\"y\",\"type\":\"scatter\"},{\"hoverinfo\":\"text\",\"marker\":{\"color\":\"rgb(0,116,217)\"},\"mode\":\"lines\",\"x\":[1.604178591029007,1.8597097328743541,1.8597097328743541,1.6394705633069564],\"xaxis\":\"x\",\"y\":[-7820.0,-7820.0,-7840.0,-7840.0],\"yaxis\":\"y\",\"type\":\"scatter\"},{\"hoverinfo\":\"text\",\"marker\":{\"color\":\"rgb(0,116,217)\"},\"mode\":\"lines\",\"x\":[1.8496942775503558,2.0990581225779827,2.0990581225779827,1.8597097328743541],\"xaxis\":\"x\",\"y\":[-7790.0,-7790.0,-7830.0,-7830.0],\"yaxis\":\"y\",\"type\":\"scatter\"},{\"hoverinfo\":\"text\",\"marker\":{\"color\":\"rgb(0,116,217)\"},\"mode\":\"lines\",\"x\":[0.0,1.641138262638759,1.641138262638759,0.0],\"xaxis\":\"x\",\"y\":[-7855.0,-7855.0,-7865.0,-7865.0],\"yaxis\":\"y\",\"type\":\"scatter\"},{\"hoverinfo\":\"text\",\"marker\":{\"color\":\"rgb(0,116,217)\"},\"mode\":\"lines\",\"x\":[0.0,1.5541600170576417,1.5541600170576417,0.0],\"xaxis\":\"x\",\"y\":[-7875.0,-7875.0,-7885.0,-7885.0],\"yaxis\":\"y\",\"type\":\"scatter\"},{\"hoverinfo\":\"text\",\"marker\":{\"color\":\"rgb(0,116,217)\"},\"mode\":\"lines\",\"x\":[0.0,1.3776196527512286,1.3776196527512286,0.0],\"xaxis\":\"x\",\"y\":[-7895.0,-7895.0,-7905.0,-7905.0],\"yaxis\":\"y\",\"type\":\"scatter\"},{\"hoverinfo\":\"text\",\"marker\":{\"color\":\"rgb(0,116,217)\"},\"mode\":\"lines\",\"x\":[0.0,1.619778191179756,1.619778191179756,0.0],\"xaxis\":\"x\",\"y\":[-7915.0,-7915.0,-7925.0,-7925.0],\"yaxis\":\"y\",\"type\":\"scatter\"},{\"hoverinfo\":\"text\",\"marker\":{\"color\":\"rgb(0,116,217)\"},\"mode\":\"lines\",\"x\":[1.3776196527512286,2.0083782991565444,2.0083782991565444,1.619778191179756],\"xaxis\":\"x\",\"y\":[-7900.0,-7900.0,-7920.0,-7920.0],\"yaxis\":\"y\",\"type\":\"scatter\"},{\"hoverinfo\":\"text\",\"marker\":{\"color\":\"rgb(0,116,217)\"},\"mode\":\"lines\",\"x\":[1.5541600170576417,2.1762227274784856,2.1762227274784856,2.0083782991565444],\"xaxis\":\"x\",\"y\":[-7880.0,-7880.0,-7910.0,-7910.0],\"yaxis\":\"y\",\"type\":\"scatter\"},{\"hoverinfo\":\"text\",\"marker\":{\"color\":\"rgb(0,116,217)\"},\"mode\":\"lines\",\"x\":[1.641138262638759,2.3405156205119173,2.3405156205119173,2.1762227274784856],\"xaxis\":\"x\",\"y\":[-7860.0,-7860.0,-7895.0,-7895.0],\"yaxis\":\"y\",\"type\":\"scatter\"},{\"hoverinfo\":\"text\",\"marker\":{\"color\":\"rgb(0,116,217)\"},\"mode\":\"lines\",\"x\":[2.0990581225779827,2.5729851723280563,2.5729851723280563,2.3405156205119173],\"xaxis\":\"x\",\"y\":[-7810.0,-7810.0,-7877.5,-7877.5],\"yaxis\":\"y\",\"type\":\"scatter\"},{\"hoverinfo\":\"text\",\"marker\":{\"color\":\"rgb(0,116,217)\"},\"mode\":\"lines\",\"x\":[2.1935226331819946,3.1908253271895974,3.1908253271895974,2.5729851723280563],\"xaxis\":\"x\",\"y\":[-7735.0,-7735.0,-7843.75,-7843.75],\"yaxis\":\"y\",\"type\":\"scatter\"},{\"hoverinfo\":\"text\",\"marker\":{\"color\":\"rgb(0,116,217)\"},\"mode\":\"lines\",\"x\":[0.0,1.685357999350803,1.685357999350803,0.0],\"xaxis\":\"x\",\"y\":[-7945.0,-7945.0,-7955.0,-7955.0],\"yaxis\":\"y\",\"type\":\"scatter\"},{\"hoverinfo\":\"text\",\"marker\":{\"color\":\"rgb(0,116,217)\"},\"mode\":\"lines\",\"x\":[0.0,1.8511158147538964,1.8511158147538964,1.685357999350803],\"xaxis\":\"x\",\"y\":[-7935.0,-7935.0,-7950.0,-7950.0],\"yaxis\":\"y\",\"type\":\"scatter\"},{\"hoverinfo\":\"text\",\"marker\":{\"color\":\"rgb(0,116,217)\"},\"mode\":\"lines\",\"x\":[0.0,1.5881745559093463,1.5881745559093463,0.0],\"xaxis\":\"x\",\"y\":[-7965.0,-7965.0,-7975.0,-7975.0],\"yaxis\":\"y\",\"type\":\"scatter\"},{\"hoverinfo\":\"text\",\"marker\":{\"color\":\"rgb(0,116,217)\"},\"mode\":\"lines\",\"x\":[0.0,1.6642101744448599,1.6642101744448599,0.0],\"xaxis\":\"x\",\"y\":[-7985.0,-7985.0,-7995.0,-7995.0],\"yaxis\":\"y\",\"type\":\"scatter\"},{\"hoverinfo\":\"text\",\"marker\":{\"color\":\"rgb(0,116,217)\"},\"mode\":\"lines\",\"x\":[0.0,1.7699841948596724,1.7699841948596724,0.0],\"xaxis\":\"x\",\"y\":[-8005.0,-8005.0,-8015.0,-8015.0],\"yaxis\":\"y\",\"type\":\"scatter\"},{\"hoverinfo\":\"text\",\"marker\":{\"color\":\"rgb(0,116,217)\"},\"mode\":\"lines\",\"x\":[1.6642101744448599,2.0184867016713515,2.0184867016713515,1.7699841948596724],\"xaxis\":\"x\",\"y\":[-7990.0,-7990.0,-8010.0,-8010.0],\"yaxis\":\"y\",\"type\":\"scatter\"},{\"hoverinfo\":\"text\",\"marker\":{\"color\":\"rgb(0,116,217)\"},\"mode\":\"lines\",\"x\":[1.5881745559093463,2.310555948441174,2.310555948441174,2.0184867016713515],\"xaxis\":\"x\",\"y\":[-7970.0,-7970.0,-8000.0,-8000.0],\"yaxis\":\"y\",\"type\":\"scatter\"},{\"hoverinfo\":\"text\",\"marker\":{\"color\":\"rgb(0,116,217)\"},\"mode\":\"lines\",\"x\":[1.8511158147538964,2.7098927652553657,2.7098927652553657,2.310555948441174],\"xaxis\":\"x\",\"y\":[-7942.5,-7942.5,-7985.0,-7985.0],\"yaxis\":\"y\",\"type\":\"scatter\"},{\"hoverinfo\":\"text\",\"marker\":{\"color\":\"rgb(0,116,217)\"},\"mode\":\"lines\",\"x\":[0.0,1.793252483007154,1.793252483007154,0.0],\"xaxis\":\"x\",\"y\":[-8035.0,-8035.0,-8045.0,-8045.0],\"yaxis\":\"y\",\"type\":\"scatter\"},{\"hoverinfo\":\"text\",\"marker\":{\"color\":\"rgb(0,116,217)\"},\"mode\":\"lines\",\"x\":[0.0,1.8655857405923746,1.8655857405923746,1.793252483007154],\"xaxis\":\"x\",\"y\":[-8025.0,-8025.0,-8040.0,-8040.0],\"yaxis\":\"y\",\"type\":\"scatter\"},{\"hoverinfo\":\"text\",\"marker\":{\"color\":\"rgb(0,116,217)\"},\"mode\":\"lines\",\"x\":[0.0,1.6620376630076505,1.6620376630076505,0.0],\"xaxis\":\"x\",\"y\":[-8065.0,-8065.0,-8075.0,-8075.0],\"yaxis\":\"y\",\"type\":\"scatter\"},{\"hoverinfo\":\"text\",\"marker\":{\"color\":\"rgb(0,116,217)\"},\"mode\":\"lines\",\"x\":[0.0,1.9366961589643092,1.9366961589643092,1.6620376630076505],\"xaxis\":\"x\",\"y\":[-8055.0,-8055.0,-8070.0,-8070.0],\"yaxis\":\"y\",\"type\":\"scatter\"},{\"hoverinfo\":\"text\",\"marker\":{\"color\":\"rgb(0,116,217)\"},\"mode\":\"lines\",\"x\":[1.8655857405923746,2.187480720463512,2.187480720463512,1.9366961589643092],\"xaxis\":\"x\",\"y\":[-8032.5,-8032.5,-8062.5,-8062.5],\"yaxis\":\"y\",\"type\":\"scatter\"},{\"hoverinfo\":\"text\",\"marker\":{\"color\":\"rgb(0,116,217)\"},\"mode\":\"lines\",\"x\":[0.0,1.4245368889285797,1.4245368889285797,0.0],\"xaxis\":\"x\",\"y\":[-8085.0,-8085.0,-8095.0,-8095.0],\"yaxis\":\"y\",\"type\":\"scatter\"},{\"hoverinfo\":\"text\",\"marker\":{\"color\":\"rgb(0,116,217)\"},\"mode\":\"lines\",\"x\":[0.0,1.5063392965310238,1.5063392965310238,0.0],\"xaxis\":\"x\",\"y\":[-8115.0,-8115.0,-8125.0,-8125.0],\"yaxis\":\"y\",\"type\":\"scatter\"},{\"hoverinfo\":\"text\",\"marker\":{\"color\":\"rgb(0,116,217)\"},\"mode\":\"lines\",\"x\":[0.0,1.9321615667562337,1.9321615667562337,1.5063392965310238],\"xaxis\":\"x\",\"y\":[-8105.0,-8105.0,-8120.0,-8120.0],\"yaxis\":\"y\",\"type\":\"scatter\"},{\"hoverinfo\":\"text\",\"marker\":{\"color\":\"rgb(0,116,217)\"},\"mode\":\"lines\",\"x\":[1.4245368889285797,2.526088997315584,2.526088997315584,1.9321615667562337],\"xaxis\":\"x\",\"y\":[-8090.0,-8090.0,-8112.5,-8112.5],\"yaxis\":\"y\",\"type\":\"scatter\"},{\"hoverinfo\":\"text\",\"marker\":{\"color\":\"rgb(0,116,217)\"},\"mode\":\"lines\",\"x\":[2.187480720463512,2.8761693700433737,2.8761693700433737,2.526088997315584],\"xaxis\":\"x\",\"y\":[-8047.5,-8047.5,-8101.25,-8101.25],\"yaxis\":\"y\",\"type\":\"scatter\"},{\"hoverinfo\":\"text\",\"marker\":{\"color\":\"rgb(0,116,217)\"},\"mode\":\"lines\",\"x\":[2.7098927652553657,3.2773208960737685,3.2773208960737685,2.8761693700433737],\"xaxis\":\"x\",\"y\":[-7963.75,-7963.75,-8074.375,-8074.375],\"yaxis\":\"y\",\"type\":\"scatter\"},{\"hoverinfo\":\"text\",\"marker\":{\"color\":\"rgb(0,116,217)\"},\"mode\":\"lines\",\"x\":[3.1908253271895974,4.287084837454643,4.287084837454643,3.2773208960737685],\"xaxis\":\"x\",\"y\":[-7789.375,-7789.375,-8019.0625,-8019.0625],\"yaxis\":\"y\",\"type\":\"scatter\"},{\"hoverinfo\":\"text\",\"marker\":{\"color\":\"rgb(0,116,217)\"},\"mode\":\"lines\",\"x\":[0.0,1.103115109072468,1.103115109072468,0.0],\"xaxis\":\"x\",\"y\":[-8145.0,-8145.0,-8155.0,-8155.0],\"yaxis\":\"y\",\"type\":\"scatter\"},{\"hoverinfo\":\"text\",\"marker\":{\"color\":\"rgb(0,116,217)\"},\"mode\":\"lines\",\"x\":[0.0,2.05850304952429,2.05850304952429,1.103115109072468],\"xaxis\":\"x\",\"y\":[-8135.0,-8135.0,-8150.0,-8150.0],\"yaxis\":\"y\",\"type\":\"scatter\"},{\"hoverinfo\":\"text\",\"marker\":{\"color\":\"rgb(0,116,217)\"},\"mode\":\"lines\",\"x\":[0.0,1.5329012608106298,1.5329012608106298,0.0],\"xaxis\":\"x\",\"y\":[-8165.0,-8165.0,-8175.0,-8175.0],\"yaxis\":\"y\",\"type\":\"scatter\"},{\"hoverinfo\":\"text\",\"marker\":{\"color\":\"rgb(35,205,205)\"},\"mode\":\"lines\",\"x\":[0.0,0.9733401808758139,0.9733401808758139,0.0],\"xaxis\":\"x\",\"y\":[-8195.0,-8195.0,-8205.0,-8205.0],\"yaxis\":\"y\",\"type\":\"scatter\"},{\"hoverinfo\":\"text\",\"marker\":{\"color\":\"rgb(0,116,217)\"},\"mode\":\"lines\",\"x\":[0.0,1.6940222658643718,1.6940222658643718,0.9733401808758139],\"xaxis\":\"x\",\"y\":[-8185.0,-8185.0,-8200.0,-8200.0],\"yaxis\":\"y\",\"type\":\"scatter\"},{\"hoverinfo\":\"text\",\"marker\":{\"color\":\"rgb(0,116,217)\"},\"mode\":\"lines\",\"x\":[1.5329012608106298,2.139713242064818,2.139713242064818,1.6940222658643718],\"xaxis\":\"x\",\"y\":[-8170.0,-8170.0,-8192.5,-8192.5],\"yaxis\":\"y\",\"type\":\"scatter\"},{\"hoverinfo\":\"text\",\"marker\":{\"color\":\"rgb(0,116,217)\"},\"mode\":\"lines\",\"x\":[2.05850304952429,2.5770775932748755,2.5770775932748755,2.139713242064818],\"xaxis\":\"x\",\"y\":[-8142.5,-8142.5,-8181.25,-8181.25],\"yaxis\":\"y\",\"type\":\"scatter\"},{\"hoverinfo\":\"text\",\"marker\":{\"color\":\"rgb(0,116,217)\"},\"mode\":\"lines\",\"x\":[0.0,1.6808922950962386,1.6808922950962386,0.0],\"xaxis\":\"x\",\"y\":[-8215.0,-8215.0,-8225.0,-8225.0],\"yaxis\":\"y\",\"type\":\"scatter\"},{\"hoverinfo\":\"text\",\"marker\":{\"color\":\"rgb(0,116,217)\"},\"mode\":\"lines\",\"x\":[0.0,1.2005467221897281,1.2005467221897281,0.0],\"xaxis\":\"x\",\"y\":[-8245.0,-8245.0,-8255.0,-8255.0],\"yaxis\":\"y\",\"type\":\"scatter\"},{\"hoverinfo\":\"text\",\"marker\":{\"color\":\"rgb(0,116,217)\"},\"mode\":\"lines\",\"x\":[0.0,1.8905276500760995,1.8905276500760995,1.2005467221897281],\"xaxis\":\"x\",\"y\":[-8235.0,-8235.0,-8250.0,-8250.0],\"yaxis\":\"y\",\"type\":\"scatter\"},{\"hoverinfo\":\"text\",\"marker\":{\"color\":\"rgb(0,116,217)\"},\"mode\":\"lines\",\"x\":[1.6808922950962386,2.2916298763183587,2.2916298763183587,1.8905276500760995],\"xaxis\":\"x\",\"y\":[-8220.0,-8220.0,-8242.5,-8242.5],\"yaxis\":\"y\",\"type\":\"scatter\"},{\"hoverinfo\":\"text\",\"marker\":{\"color\":\"rgb(0,116,217)\"},\"mode\":\"lines\",\"x\":[0.0,1.8041312371828344,1.8041312371828344,0.0],\"xaxis\":\"x\",\"y\":[-8265.0,-8265.0,-8275.0,-8275.0],\"yaxis\":\"y\",\"type\":\"scatter\"},{\"hoverinfo\":\"text\",\"marker\":{\"color\":\"rgb(0,116,217)\"},\"mode\":\"lines\",\"x\":[0.0,1.5958087576954942,1.5958087576954942,0.0],\"xaxis\":\"x\",\"y\":[-8285.0,-8285.0,-8295.0,-8295.0],\"yaxis\":\"y\",\"type\":\"scatter\"},{\"hoverinfo\":\"text\",\"marker\":{\"color\":\"rgb(0,116,217)\"},\"mode\":\"lines\",\"x\":[0.0,1.6075645898423783,1.6075645898423783,0.0],\"xaxis\":\"x\",\"y\":[-8315.0,-8315.0,-8325.0,-8325.0],\"yaxis\":\"y\",\"type\":\"scatter\"},{\"hoverinfo\":\"text\",\"marker\":{\"color\":\"rgb(0,116,217)\"},\"mode\":\"lines\",\"x\":[0.0,1.8111603846412836,1.8111603846412836,1.6075645898423783],\"xaxis\":\"x\",\"y\":[-8305.0,-8305.0,-8320.0,-8320.0],\"yaxis\":\"y\",\"type\":\"scatter\"},{\"hoverinfo\":\"text\",\"marker\":{\"color\":\"rgb(0,116,217)\"},\"mode\":\"lines\",\"x\":[1.5958087576954942,2.152290812363803,2.152290812363803,1.8111603846412836],\"xaxis\":\"x\",\"y\":[-8290.0,-8290.0,-8312.5,-8312.5],\"yaxis\":\"y\",\"type\":\"scatter\"},{\"hoverinfo\":\"text\",\"marker\":{\"color\":\"rgb(0,116,217)\"},\"mode\":\"lines\",\"x\":[1.8041312371828344,2.4750267378511746,2.4750267378511746,2.152290812363803],\"xaxis\":\"x\",\"y\":[-8270.0,-8270.0,-8301.25,-8301.25],\"yaxis\":\"y\",\"type\":\"scatter\"},{\"hoverinfo\":\"text\",\"marker\":{\"color\":\"rgb(0,116,217)\"},\"mode\":\"lines\",\"x\":[0.0,1.4648880484663356,1.4648880484663356,0.0],\"xaxis\":\"x\",\"y\":[-8335.0,-8335.0,-8345.0,-8345.0],\"yaxis\":\"y\",\"type\":\"scatter\"},{\"hoverinfo\":\"text\",\"marker\":{\"color\":\"rgb(0,116,217)\"},\"mode\":\"lines\",\"x\":[0.0,1.7784430585224542,1.7784430585224542,0.0],\"xaxis\":\"x\",\"y\":[-8355.0,-8355.0,-8365.0,-8365.0],\"yaxis\":\"y\",\"type\":\"scatter\"},{\"hoverinfo\":\"text\",\"marker\":{\"color\":\"rgb(0,116,217)\"},\"mode\":\"lines\",\"x\":[0.0,1.9049760894325403,1.9049760894325403,0.0],\"xaxis\":\"x\",\"y\":[-8375.0,-8375.0,-8385.0,-8385.0],\"yaxis\":\"y\",\"type\":\"scatter\"},{\"hoverinfo\":\"text\",\"marker\":{\"color\":\"rgb(0,116,217)\"},\"mode\":\"lines\",\"x\":[1.7784430585224542,2.2990233139486316,2.2990233139486316,1.9049760894325403],\"xaxis\":\"x\",\"y\":[-8360.0,-8360.0,-8380.0,-8380.0],\"yaxis\":\"y\",\"type\":\"scatter\"},{\"hoverinfo\":\"text\",\"marker\":{\"color\":\"rgb(0,116,217)\"},\"mode\":\"lines\",\"x\":[1.4648880484663356,2.7044655232701973,2.7044655232701973,2.2990233139486316],\"xaxis\":\"x\",\"y\":[-8340.0,-8340.0,-8370.0,-8370.0],\"yaxis\":\"y\",\"type\":\"scatter\"},{\"hoverinfo\":\"text\",\"marker\":{\"color\":\"rgb(0,116,217)\"},\"mode\":\"lines\",\"x\":[2.4750267378511746,3.0243020941105465,3.0243020941105465,2.7044655232701973],\"xaxis\":\"x\",\"y\":[-8285.625,-8285.625,-8355.0,-8355.0],\"yaxis\":\"y\",\"type\":\"scatter\"},{\"hoverinfo\":\"text\",\"marker\":{\"color\":\"rgb(0,116,217)\"},\"mode\":\"lines\",\"x\":[2.2916298763183587,3.9447362055680553,3.9447362055680553,3.0243020941105465],\"xaxis\":\"x\",\"y\":[-8231.25,-8231.25,-8320.3125,-8320.3125],\"yaxis\":\"y\",\"type\":\"scatter\"},{\"hoverinfo\":\"text\",\"marker\":{\"color\":\"rgb(0,116,217)\"},\"mode\":\"lines\",\"x\":[2.5770775932748755,4.840360594795608,4.840360594795608,3.9447362055680553],\"xaxis\":\"x\",\"y\":[-8161.875,-8161.875,-8275.78125,-8275.78125],\"yaxis\":\"y\",\"type\":\"scatter\"},{\"hoverinfo\":\"text\",\"marker\":{\"color\":\"rgb(0,116,217)\"},\"mode\":\"lines\",\"x\":[4.287084837454643,7.3836093293452185,7.3836093293452185,4.840360594795608],\"xaxis\":\"x\",\"y\":[-7904.21875,-7904.21875,-8218.828125,-8218.828125],\"yaxis\":\"y\",\"type\":\"scatter\"},{\"hoverinfo\":\"text\",\"marker\":{\"color\":\"rgb(0,116,217)\"},\"mode\":\"lines\",\"x\":[4.609946072957082,8.547207404443952,8.547207404443952,7.3836093293452185],\"xaxis\":\"x\",\"y\":[-7342.05078125,-7342.05078125,-8061.5234375,-8061.5234375],\"yaxis\":\"y\",\"type\":\"scatter\"},{\"hoverinfo\":\"text\",\"marker\":{\"color\":\"rgb(0,116,217)\"},\"mode\":\"lines\",\"x\":[0.0,1.0766449296866079,1.0766449296866079,0.0],\"xaxis\":\"x\",\"y\":[-8395.0,-8395.0,-8405.0,-8405.0],\"yaxis\":\"y\",\"type\":\"scatter\"},{\"hoverinfo\":\"text\",\"marker\":{\"color\":\"rgb(0,116,217)\"},\"mode\":\"lines\",\"x\":[0.0,1.2350297226511415,1.2350297226511415,0.0],\"xaxis\":\"x\",\"y\":[-8415.0,-8415.0,-8425.0,-8425.0],\"yaxis\":\"y\",\"type\":\"scatter\"},{\"hoverinfo\":\"text\",\"marker\":{\"color\":\"rgb(0,116,217)\"},\"mode\":\"lines\",\"x\":[1.0766449296866079,1.5795548878015333,1.5795548878015333,1.2350297226511415],\"xaxis\":\"x\",\"y\":[-8400.0,-8400.0,-8420.0,-8420.0],\"yaxis\":\"y\",\"type\":\"scatter\"},{\"hoverinfo\":\"text\",\"marker\":{\"color\":\"rgb(0,116,217)\"},\"mode\":\"lines\",\"x\":[0.0,1.445944208389906,1.445944208389906,0.0],\"xaxis\":\"x\",\"y\":[-8445.0,-8445.0,-8455.0,-8455.0],\"yaxis\":\"y\",\"type\":\"scatter\"},{\"hoverinfo\":\"text\",\"marker\":{\"color\":\"rgb(0,116,217)\"},\"mode\":\"lines\",\"x\":[0.0,1.6632912590410989,1.6632912590410989,1.445944208389906],\"xaxis\":\"x\",\"y\":[-8435.0,-8435.0,-8450.0,-8450.0],\"yaxis\":\"y\",\"type\":\"scatter\"},{\"hoverinfo\":\"text\",\"marker\":{\"color\":\"rgb(0,116,217)\"},\"mode\":\"lines\",\"x\":[1.5795548878015333,2.067314884607924,2.067314884607924,1.6632912590410989],\"xaxis\":\"x\",\"y\":[-8410.0,-8410.0,-8442.5,-8442.5],\"yaxis\":\"y\",\"type\":\"scatter\"},{\"hoverinfo\":\"text\",\"marker\":{\"color\":\"rgb(133,20,75)\"},\"mode\":\"lines\",\"x\":[0.0,0.5372299849075757,0.5372299849075757,0.0],\"xaxis\":\"x\",\"y\":[-8475.0,-8475.0,-8485.0,-8485.0],\"yaxis\":\"y\",\"type\":\"scatter\"},{\"hoverinfo\":\"text\",\"marker\":{\"color\":\"rgb(0,116,217)\"},\"mode\":\"lines\",\"x\":[0.0,1.2581952236597844,1.2581952236597844,0.5372299849075757],\"xaxis\":\"x\",\"y\":[-8465.0,-8465.0,-8480.0,-8480.0],\"yaxis\":\"y\",\"type\":\"scatter\"},{\"hoverinfo\":\"text\",\"marker\":{\"color\":\"rgb(0,116,217)\"},\"mode\":\"lines\",\"x\":[0.0,1.16324065087391,1.16324065087391,0.0],\"xaxis\":\"x\",\"y\":[-8495.0,-8495.0,-8505.0,-8505.0],\"yaxis\":\"y\",\"type\":\"scatter\"},{\"hoverinfo\":\"text\",\"marker\":{\"color\":\"rgb(0,116,217)\"},\"mode\":\"lines\",\"x\":[0.0,1.5603772389375437,1.5603772389375437,0.0],\"xaxis\":\"x\",\"y\":[-8515.0,-8515.0,-8525.0,-8525.0],\"yaxis\":\"y\",\"type\":\"scatter\"},{\"hoverinfo\":\"text\",\"marker\":{\"color\":\"rgb(0,116,217)\"},\"mode\":\"lines\",\"x\":[1.16324065087391,1.8627766342406527,1.8627766342406527,1.5603772389375437],\"xaxis\":\"x\",\"y\":[-8500.0,-8500.0,-8520.0,-8520.0],\"yaxis\":\"y\",\"type\":\"scatter\"},{\"hoverinfo\":\"text\",\"marker\":{\"color\":\"rgb(0,116,217)\"},\"mode\":\"lines\",\"x\":[1.2581952236597844,2.2661804538979315,2.2661804538979315,1.8627766342406527],\"xaxis\":\"x\",\"y\":[-8472.5,-8472.5,-8510.0,-8510.0],\"yaxis\":\"y\",\"type\":\"scatter\"},{\"hoverinfo\":\"text\",\"marker\":{\"color\":\"rgb(0,116,217)\"},\"mode\":\"lines\",\"x\":[2.067314884607924,2.830786096219298,2.830786096219298,2.2661804538979315],\"xaxis\":\"x\",\"y\":[-8426.25,-8426.25,-8491.25,-8491.25],\"yaxis\":\"y\",\"type\":\"scatter\"},{\"hoverinfo\":\"text\",\"marker\":{\"color\":\"rgb(0,116,217)\"},\"mode\":\"lines\",\"x\":[0.0,1.301299864709032,1.301299864709032,0.0],\"xaxis\":\"x\",\"y\":[-8535.0,-8535.0,-8545.0,-8545.0],\"yaxis\":\"y\",\"type\":\"scatter\"},{\"hoverinfo\":\"text\",\"marker\":{\"color\":\"rgb(255,220,0)\"},\"mode\":\"lines\",\"x\":[0.0,0.031679674839851166,0.031679674839851166,0.0],\"xaxis\":\"x\",\"y\":[-8565.0,-8565.0,-8575.0,-8575.0],\"yaxis\":\"y\",\"type\":\"scatter\"},{\"hoverinfo\":\"text\",\"marker\":{\"color\":\"rgb(0,116,217)\"},\"mode\":\"lines\",\"x\":[0.0,1.656629532554462,1.656629532554462,0.031679674839851166],\"xaxis\":\"x\",\"y\":[-8555.0,-8555.0,-8570.0,-8570.0],\"yaxis\":\"y\",\"type\":\"scatter\"},{\"hoverinfo\":\"text\",\"marker\":{\"color\":\"rgb(0,116,217)\"},\"mode\":\"lines\",\"x\":[1.301299864709032,1.8880079369272906,1.8880079369272906,1.656629532554462],\"xaxis\":\"x\",\"y\":[-8540.0,-8540.0,-8562.5,-8562.5],\"yaxis\":\"y\",\"type\":\"scatter\"},{\"hoverinfo\":\"text\",\"marker\":{\"color\":\"rgb(0,116,217)\"},\"mode\":\"lines\",\"x\":[0.0,1.4599400494197208,1.4599400494197208,0.0],\"xaxis\":\"x\",\"y\":[-8595.0,-8595.0,-8605.0,-8605.0],\"yaxis\":\"y\",\"type\":\"scatter\"},{\"hoverinfo\":\"text\",\"marker\":{\"color\":\"rgb(0,116,217)\"},\"mode\":\"lines\",\"x\":[0.0,1.5781617986316216,1.5781617986316216,1.4599400494197208],\"xaxis\":\"x\",\"y\":[-8585.0,-8585.0,-8600.0,-8600.0],\"yaxis\":\"y\",\"type\":\"scatter\"},{\"hoverinfo\":\"text\",\"marker\":{\"color\":\"rgb(0,116,217)\"},\"mode\":\"lines\",\"x\":[0.0,1.4730051974350753,1.4730051974350753,0.0],\"xaxis\":\"x\",\"y\":[-8625.0,-8625.0,-8635.0,-8635.0],\"yaxis\":\"y\",\"type\":\"scatter\"},{\"hoverinfo\":\"text\",\"marker\":{\"color\":\"rgb(0,116,217)\"},\"mode\":\"lines\",\"x\":[0.0,1.725305206940611,1.725305206940611,1.4730051974350753],\"xaxis\":\"x\",\"y\":[-8615.0,-8615.0,-8630.0,-8630.0],\"yaxis\":\"y\",\"type\":\"scatter\"},{\"hoverinfo\":\"text\",\"marker\":{\"color\":\"rgb(0,116,217)\"},\"mode\":\"lines\",\"x\":[1.5781617986316216,2.0949595797982656,2.0949595797982656,1.725305206940611],\"xaxis\":\"x\",\"y\":[-8592.5,-8592.5,-8622.5,-8622.5],\"yaxis\":\"y\",\"type\":\"scatter\"},{\"hoverinfo\":\"text\",\"marker\":{\"color\":\"rgb(0,116,217)\"},\"mode\":\"lines\",\"x\":[1.8880079369272906,2.9121550723082565,2.9121550723082565,2.0949595797982656],\"xaxis\":\"x\",\"y\":[-8551.25,-8551.25,-8607.5,-8607.5],\"yaxis\":\"y\",\"type\":\"scatter\"},{\"hoverinfo\":\"text\",\"marker\":{\"color\":\"rgb(0,116,217)\"},\"mode\":\"lines\",\"x\":[2.830786096219298,3.9501447954018825,3.9501447954018825,2.9121550723082565],\"xaxis\":\"x\",\"y\":[-8458.75,-8458.75,-8579.375,-8579.375],\"yaxis\":\"y\",\"type\":\"scatter\"},{\"hoverinfo\":\"text\",\"marker\":{\"color\":\"rgb(0,116,217)\"},\"mode\":\"lines\",\"x\":[0.0,1.1290496928664757,1.1290496928664757,0.0],\"xaxis\":\"x\",\"y\":[-8645.0,-8645.0,-8655.0,-8655.0],\"yaxis\":\"y\",\"type\":\"scatter\"},{\"hoverinfo\":\"text\",\"marker\":{\"color\":\"rgb(0,116,217)\"},\"mode\":\"lines\",\"x\":[0.0,1.1073289723452178,1.1073289723452178,0.0],\"xaxis\":\"x\",\"y\":[-8675.0,-8675.0,-8685.0,-8685.0],\"yaxis\":\"y\",\"type\":\"scatter\"},{\"hoverinfo\":\"text\",\"marker\":{\"color\":\"rgb(0,116,217)\"},\"mode\":\"lines\",\"x\":[0.0,1.3368547686727679,1.3368547686727679,1.1073289723452178],\"xaxis\":\"x\",\"y\":[-8665.0,-8665.0,-8680.0,-8680.0],\"yaxis\":\"y\",\"type\":\"scatter\"},{\"hoverinfo\":\"text\",\"marker\":{\"color\":\"rgb(0,116,217)\"},\"mode\":\"lines\",\"x\":[1.1290496928664757,1.7209214574867717,1.7209214574867717,1.3368547686727679],\"xaxis\":\"x\",\"y\":[-8650.0,-8650.0,-8672.5,-8672.5],\"yaxis\":\"y\",\"type\":\"scatter\"},{\"hoverinfo\":\"text\",\"marker\":{\"color\":\"rgb(0,116,217)\"},\"mode\":\"lines\",\"x\":[0.0,1.7598473934536614,1.7598473934536614,0.0],\"xaxis\":\"x\",\"y\":[-8695.0,-8695.0,-8705.0,-8705.0],\"yaxis\":\"y\",\"type\":\"scatter\"},{\"hoverinfo\":\"text\",\"marker\":{\"color\":\"rgb(0,116,217)\"},\"mode\":\"lines\",\"x\":[0.0,1.5325997910450826,1.5325997910450826,0.0],\"xaxis\":\"x\",\"y\":[-8725.0,-8725.0,-8735.0,-8735.0],\"yaxis\":\"y\",\"type\":\"scatter\"},{\"hoverinfo\":\"text\",\"marker\":{\"color\":\"rgb(0,116,217)\"},\"mode\":\"lines\",\"x\":[0.0,1.8338114164361623,1.8338114164361623,1.5325997910450826],\"xaxis\":\"x\",\"y\":[-8715.0,-8715.0,-8730.0,-8730.0],\"yaxis\":\"y\",\"type\":\"scatter\"},{\"hoverinfo\":\"text\",\"marker\":{\"color\":\"rgb(0,116,217)\"},\"mode\":\"lines\",\"x\":[1.7598473934536614,2.148470530200794,2.148470530200794,1.8338114164361623],\"xaxis\":\"x\",\"y\":[-8700.0,-8700.0,-8722.5,-8722.5],\"yaxis\":\"y\",\"type\":\"scatter\"},{\"hoverinfo\":\"text\",\"marker\":{\"color\":\"rgb(0,116,217)\"},\"mode\":\"lines\",\"x\":[1.7209214574867717,2.3313148974678413,2.3313148974678413,2.148470530200794],\"xaxis\":\"x\",\"y\":[-8661.25,-8661.25,-8711.25,-8711.25],\"yaxis\":\"y\",\"type\":\"scatter\"},{\"hoverinfo\":\"text\",\"marker\":{\"color\":\"rgb(0,116,217)\"},\"mode\":\"lines\",\"x\":[0.0,1.1814330401498863,1.1814330401498863,0.0],\"xaxis\":\"x\",\"y\":[-8745.0,-8745.0,-8755.0,-8755.0],\"yaxis\":\"y\",\"type\":\"scatter\"},{\"hoverinfo\":\"text\",\"marker\":{\"color\":\"rgb(0,116,217)\"},\"mode\":\"lines\",\"x\":[0.0,1.2985837497782977,1.2985837497782977,0.0],\"xaxis\":\"x\",\"y\":[-8765.0,-8765.0,-8775.0,-8775.0],\"yaxis\":\"y\",\"type\":\"scatter\"},{\"hoverinfo\":\"text\",\"marker\":{\"color\":\"rgb(0,116,217)\"},\"mode\":\"lines\",\"x\":[0.0,1.5057948057850048,1.5057948057850048,0.0],\"xaxis\":\"x\",\"y\":[-8785.0,-8785.0,-8795.0,-8795.0],\"yaxis\":\"y\",\"type\":\"scatter\"},{\"hoverinfo\":\"text\",\"marker\":{\"color\":\"rgb(0,116,217)\"},\"mode\":\"lines\",\"x\":[1.2985837497782977,1.892225229540818,1.892225229540818,1.5057948057850048],\"xaxis\":\"x\",\"y\":[-8770.0,-8770.0,-8790.0,-8790.0],\"yaxis\":\"y\",\"type\":\"scatter\"},{\"hoverinfo\":\"text\",\"marker\":{\"color\":\"rgb(0,116,217)\"},\"mode\":\"lines\",\"x\":[1.1814330401498863,2.420095363134379,2.420095363134379,1.892225229540818],\"xaxis\":\"x\",\"y\":[-8750.0,-8750.0,-8780.0,-8780.0],\"yaxis\":\"y\",\"type\":\"scatter\"},{\"hoverinfo\":\"text\",\"marker\":{\"color\":\"rgb(0,116,217)\"},\"mode\":\"lines\",\"x\":[2.3313148974678413,2.782088848005473,2.782088848005473,2.420095363134379],\"xaxis\":\"x\",\"y\":[-8686.25,-8686.25,-8765.0,-8765.0],\"yaxis\":\"y\",\"type\":\"scatter\"},{\"hoverinfo\":\"text\",\"marker\":{\"color\":\"rgb(0,116,217)\"},\"mode\":\"lines\",\"x\":[0.0,1.6182699640356362,1.6182699640356362,0.0],\"xaxis\":\"x\",\"y\":[-8805.0,-8805.0,-8815.0,-8815.0],\"yaxis\":\"y\",\"type\":\"scatter\"},{\"hoverinfo\":\"text\",\"marker\":{\"color\":\"rgb(0,116,217)\"},\"mode\":\"lines\",\"x\":[0.0,1.5833589468328877,1.5833589468328877,0.0],\"xaxis\":\"x\",\"y\":[-8835.0,-8835.0,-8845.0,-8845.0],\"yaxis\":\"y\",\"type\":\"scatter\"},{\"hoverinfo\":\"text\",\"marker\":{\"color\":\"rgb(0,116,217)\"},\"mode\":\"lines\",\"x\":[0.0,1.8480058319215606,1.8480058319215606,1.5833589468328877],\"xaxis\":\"x\",\"y\":[-8825.0,-8825.0,-8840.0,-8840.0],\"yaxis\":\"y\",\"type\":\"scatter\"},{\"hoverinfo\":\"text\",\"marker\":{\"color\":\"rgb(0,116,217)\"},\"mode\":\"lines\",\"x\":[1.6182699640356362,2.0808503656858446,2.0808503656858446,1.8480058319215606],\"xaxis\":\"x\",\"y\":[-8810.0,-8810.0,-8832.5,-8832.5],\"yaxis\":\"y\",\"type\":\"scatter\"},{\"hoverinfo\":\"text\",\"marker\":{\"color\":\"rgb(40,35,35)\"},\"mode\":\"lines\",\"x\":[0.0,0.9747870445331756,0.9747870445331756,0.0],\"xaxis\":\"x\",\"y\":[-8855.0,-8855.0,-8865.0,-8865.0],\"yaxis\":\"y\",\"type\":\"scatter\"},{\"hoverinfo\":\"text\",\"marker\":{\"color\":\"rgb(0,116,217)\"},\"mode\":\"lines\",\"x\":[0.0,1.2134120316088968,1.2134120316088968,0.0],\"xaxis\":\"x\",\"y\":[-8895.0,-8895.0,-8905.0,-8905.0],\"yaxis\":\"y\",\"type\":\"scatter\"},{\"hoverinfo\":\"text\",\"marker\":{\"color\":\"rgb(0,116,217)\"},\"mode\":\"lines\",\"x\":[0.0,1.5418226587059516,1.5418226587059516,1.2134120316088968],\"xaxis\":\"x\",\"y\":[-8885.0,-8885.0,-8900.0,-8900.0],\"yaxis\":\"y\",\"type\":\"scatter\"},{\"hoverinfo\":\"text\",\"marker\":{\"color\":\"rgb(0,116,217)\"},\"mode\":\"lines\",\"x\":[0.0,2.082130672914038,2.082130672914038,1.5418226587059516],\"xaxis\":\"x\",\"y\":[-8875.0,-8875.0,-8892.5,-8892.5],\"yaxis\":\"y\",\"type\":\"scatter\"},{\"hoverinfo\":\"text\",\"marker\":{\"color\":\"rgb(0,116,217)\"},\"mode\":\"lines\",\"x\":[0.9747870445331756,2.6420706524617743,2.6420706524617743,2.082130672914038],\"xaxis\":\"x\",\"y\":[-8860.0,-8860.0,-8883.75,-8883.75],\"yaxis\":\"y\",\"type\":\"scatter\"},{\"hoverinfo\":\"text\",\"marker\":{\"color\":\"rgb(0,116,217)\"},\"mode\":\"lines\",\"x\":[2.0808503656858446,3.3719561729409024,3.3719561729409024,2.6420706524617743],\"xaxis\":\"x\",\"y\":[-8821.25,-8821.25,-8871.875,-8871.875],\"yaxis\":\"y\",\"type\":\"scatter\"},{\"hoverinfo\":\"text\",\"marker\":{\"color\":\"rgb(0,116,217)\"},\"mode\":\"lines\",\"x\":[2.782088848005473,4.181527553605912,4.181527553605912,3.3719561729409024],\"xaxis\":\"x\",\"y\":[-8725.625,-8725.625,-8846.5625,-8846.5625],\"yaxis\":\"y\",\"type\":\"scatter\"},{\"hoverinfo\":\"text\",\"marker\":{\"color\":\"rgb(0,116,217)\"},\"mode\":\"lines\",\"x\":[3.9501447954018825,5.803345023847549,5.803345023847549,4.181527553605912],\"xaxis\":\"x\",\"y\":[-8519.0625,-8519.0625,-8786.09375,-8786.09375],\"yaxis\":\"y\",\"type\":\"scatter\"},{\"hoverinfo\":\"text\",\"marker\":{\"color\":\"rgb(0,116,217)\"},\"mode\":\"lines\",\"x\":[0.0,1.6351825421066595,1.6351825421066595,0.0],\"xaxis\":\"x\",\"y\":[-8915.0,-8915.0,-8925.0,-8925.0],\"yaxis\":\"y\",\"type\":\"scatter\"},{\"hoverinfo\":\"text\",\"marker\":{\"color\":\"rgb(0,116,217)\"},\"mode\":\"lines\",\"x\":[0.0,1.3704973934474756,1.3704973934474756,0.0],\"xaxis\":\"x\",\"y\":[-8955.0,-8955.0,-8965.0,-8965.0],\"yaxis\":\"y\",\"type\":\"scatter\"},{\"hoverinfo\":\"text\",\"marker\":{\"color\":\"rgb(0,116,217)\"},\"mode\":\"lines\",\"x\":[0.0,1.5344756054093855,1.5344756054093855,1.3704973934474756],\"xaxis\":\"x\",\"y\":[-8945.0,-8945.0,-8960.0,-8960.0],\"yaxis\":\"y\",\"type\":\"scatter\"},{\"hoverinfo\":\"text\",\"marker\":{\"color\":\"rgb(0,116,217)\"},\"mode\":\"lines\",\"x\":[0.0,1.891999008697272,1.891999008697272,1.5344756054093855],\"xaxis\":\"x\",\"y\":[-8935.0,-8935.0,-8952.5,-8952.5],\"yaxis\":\"y\",\"type\":\"scatter\"},{\"hoverinfo\":\"text\",\"marker\":{\"color\":\"rgb(0,116,217)\"},\"mode\":\"lines\",\"x\":[1.6351825421066595,1.9885628281650023,1.9885628281650023,1.891999008697272],\"xaxis\":\"x\",\"y\":[-8920.0,-8920.0,-8943.75,-8943.75],\"yaxis\":\"y\",\"type\":\"scatter\"},{\"hoverinfo\":\"text\",\"marker\":{\"color\":\"rgb(0,116,217)\"},\"mode\":\"lines\",\"x\":[0.0,1.0253182350200414,1.0253182350200414,0.0],\"xaxis\":\"x\",\"y\":[-8975.0,-8975.0,-8985.0,-8985.0],\"yaxis\":\"y\",\"type\":\"scatter\"},{\"hoverinfo\":\"text\",\"marker\":{\"color\":\"rgb(0,116,217)\"},\"mode\":\"lines\",\"x\":[0.0,1.5664054844717141,1.5664054844717141,0.0],\"xaxis\":\"x\",\"y\":[-8995.0,-8995.0,-9005.0,-9005.0],\"yaxis\":\"y\",\"type\":\"scatter\"},{\"hoverinfo\":\"text\",\"marker\":{\"color\":\"rgb(0,116,217)\"},\"mode\":\"lines\",\"x\":[0.0,1.597756312696476,1.597756312696476,0.0],\"xaxis\":\"x\",\"y\":[-9015.0,-9015.0,-9025.0,-9025.0],\"yaxis\":\"y\",\"type\":\"scatter\"},{\"hoverinfo\":\"text\",\"marker\":{\"color\":\"rgb(0,116,217)\"},\"mode\":\"lines\",\"x\":[0.0,1.817214095671973,1.817214095671973,0.0],\"xaxis\":\"x\",\"y\":[-9035.0,-9035.0,-9045.0,-9045.0],\"yaxis\":\"y\",\"type\":\"scatter\"},{\"hoverinfo\":\"text\",\"marker\":{\"color\":\"rgb(0,116,217)\"},\"mode\":\"lines\",\"x\":[1.597756312696476,1.9268612987632436,1.9268612987632436,1.817214095671973],\"xaxis\":\"x\",\"y\":[-9020.0,-9020.0,-9040.0,-9040.0],\"yaxis\":\"y\",\"type\":\"scatter\"},{\"hoverinfo\":\"text\",\"marker\":{\"color\":\"rgb(0,116,217)\"},\"mode\":\"lines\",\"x\":[1.5664054844717141,2.445272679144781,2.445272679144781,1.9268612987632436],\"xaxis\":\"x\",\"y\":[-9000.0,-9000.0,-9030.0,-9030.0],\"yaxis\":\"y\",\"type\":\"scatter\"},{\"hoverinfo\":\"text\",\"marker\":{\"color\":\"rgb(0,116,217)\"},\"mode\":\"lines\",\"x\":[1.0253182350200414,2.6649168587133145,2.6649168587133145,2.445272679144781],\"xaxis\":\"x\",\"y\":[-8980.0,-8980.0,-9015.0,-9015.0],\"yaxis\":\"y\",\"type\":\"scatter\"},{\"hoverinfo\":\"text\",\"marker\":{\"color\":\"rgb(61,153,112)\"},\"mode\":\"lines\",\"x\":[0.0,0.8715891397454417,0.8715891397454417,0.0],\"xaxis\":\"x\",\"y\":[-9055.0,-9055.0,-9065.0,-9065.0],\"yaxis\":\"y\",\"type\":\"scatter\"},{\"hoverinfo\":\"text\",\"marker\":{\"color\":\"rgb(0,116,217)\"},\"mode\":\"lines\",\"x\":[0.0,1.080220147488941,1.080220147488941,0.0],\"xaxis\":\"x\",\"y\":[-9075.0,-9075.0,-9085.0,-9085.0],\"yaxis\":\"y\",\"type\":\"scatter\"},{\"hoverinfo\":\"text\",\"marker\":{\"color\":\"rgb(0,116,217)\"},\"mode\":\"lines\",\"x\":[0.8715891397454417,1.4636914620799655,1.4636914620799655,1.080220147488941],\"xaxis\":\"x\",\"y\":[-9060.0,-9060.0,-9080.0,-9080.0],\"yaxis\":\"y\",\"type\":\"scatter\"},{\"hoverinfo\":\"text\",\"marker\":{\"color\":\"rgb(0,116,217)\"},\"mode\":\"lines\",\"x\":[0.0,1.5512689094226135,1.5512689094226135,0.0],\"xaxis\":\"x\",\"y\":[-9105.0,-9105.0,-9115.0,-9115.0],\"yaxis\":\"y\",\"type\":\"scatter\"},{\"hoverinfo\":\"text\",\"marker\":{\"color\":\"rgb(0,116,217)\"},\"mode\":\"lines\",\"x\":[0.0,1.9796525710235562,1.9796525710235562,1.5512689094226135],\"xaxis\":\"x\",\"y\":[-9095.0,-9095.0,-9110.0,-9110.0],\"yaxis\":\"y\",\"type\":\"scatter\"},{\"hoverinfo\":\"text\",\"marker\":{\"color\":\"rgb(0,116,217)\"},\"mode\":\"lines\",\"x\":[1.4636914620799655,2.7752733563519483,2.7752733563519483,1.9796525710235562],\"xaxis\":\"x\",\"y\":[-9070.0,-9070.0,-9102.5,-9102.5],\"yaxis\":\"y\",\"type\":\"scatter\"},{\"hoverinfo\":\"text\",\"marker\":{\"color\":\"rgb(0,116,217)\"},\"mode\":\"lines\",\"x\":[2.6649168587133145,3.0037231071589776,3.0037231071589776,2.7752733563519483],\"xaxis\":\"x\",\"y\":[-8997.5,-8997.5,-9086.25,-9086.25],\"yaxis\":\"y\",\"type\":\"scatter\"},{\"hoverinfo\":\"text\",\"marker\":{\"color\":\"rgb(0,116,217)\"},\"mode\":\"lines\",\"x\":[1.9885628281650023,3.733691858724191,3.733691858724191,3.0037231071589776],\"xaxis\":\"x\",\"y\":[-8931.875,-8931.875,-9041.875,-9041.875],\"yaxis\":\"y\",\"type\":\"scatter\"},{\"hoverinfo\":\"text\",\"marker\":{\"color\":\"rgb(255,65,54)\"},\"mode\":\"lines\",\"x\":[0.0,0.8483870065711212,0.8483870065711212,0.0],\"xaxis\":\"x\",\"y\":[-9135.0,-9135.0,-9145.0,-9145.0],\"yaxis\":\"y\",\"type\":\"scatter\"},{\"hoverinfo\":\"text\",\"marker\":{\"color\":\"rgb(0,116,217)\"},\"mode\":\"lines\",\"x\":[0.0,1.4710950489050387,1.4710950489050387,0.8483870065711212],\"xaxis\":\"x\",\"y\":[-9125.0,-9125.0,-9140.0,-9140.0],\"yaxis\":\"y\",\"type\":\"scatter\"},{\"hoverinfo\":\"text\",\"marker\":{\"color\":\"rgb(35,205,205)\"},\"mode\":\"lines\",\"x\":[0.0,0.724657740564736,0.724657740564736,0.0],\"xaxis\":\"x\",\"y\":[-9175.0,-9175.0,-9185.0,-9185.0],\"yaxis\":\"y\",\"type\":\"scatter\"},{\"hoverinfo\":\"text\",\"marker\":{\"color\":\"rgb(0,116,217)\"},\"mode\":\"lines\",\"x\":[0.0,1.2177622032008426,1.2177622032008426,0.724657740564736],\"xaxis\":\"x\",\"y\":[-9165.0,-9165.0,-9180.0,-9180.0],\"yaxis\":\"y\",\"type\":\"scatter\"},{\"hoverinfo\":\"text\",\"marker\":{\"color\":\"rgb(0,116,217)\"},\"mode\":\"lines\",\"x\":[0.0,1.8123340700792359,1.8123340700792359,1.2177622032008426],\"xaxis\":\"x\",\"y\":[-9155.0,-9155.0,-9172.5,-9172.5],\"yaxis\":\"y\",\"type\":\"scatter\"},{\"hoverinfo\":\"text\",\"marker\":{\"color\":\"rgb(0,116,217)\"},\"mode\":\"lines\",\"x\":[1.4710950489050387,2.2035014588217314,2.2035014588217314,1.8123340700792359],\"xaxis\":\"x\",\"y\":[-9132.5,-9132.5,-9163.75,-9163.75],\"yaxis\":\"y\",\"type\":\"scatter\"},{\"hoverinfo\":\"text\",\"marker\":{\"color\":\"rgb(0,116,217)\"},\"mode\":\"lines\",\"x\":[0.0,1.1852693182644396,1.1852693182644396,0.0],\"xaxis\":\"x\",\"y\":[-9205.0,-9205.0,-9215.0,-9215.0],\"yaxis\":\"y\",\"type\":\"scatter\"},{\"hoverinfo\":\"text\",\"marker\":{\"color\":\"rgb(0,116,217)\"},\"mode\":\"lines\",\"x\":[0.0,1.281035455201812,1.281035455201812,1.1852693182644396],\"xaxis\":\"x\",\"y\":[-9195.0,-9195.0,-9210.0,-9210.0],\"yaxis\":\"y\",\"type\":\"scatter\"},{\"hoverinfo\":\"text\",\"marker\":{\"color\":\"rgb(0,116,217)\"},\"mode\":\"lines\",\"x\":[0.0,1.4116933059691583,1.4116933059691583,0.0],\"xaxis\":\"x\",\"y\":[-9235.0,-9235.0,-9245.0,-9245.0],\"yaxis\":\"y\",\"type\":\"scatter\"},{\"hoverinfo\":\"text\",\"marker\":{\"color\":\"rgb(0,116,217)\"},\"mode\":\"lines\",\"x\":[0.0,1.6783873149125335,1.6783873149125335,1.4116933059691583],\"xaxis\":\"x\",\"y\":[-9225.0,-9225.0,-9240.0,-9240.0],\"yaxis\":\"y\",\"type\":\"scatter\"},{\"hoverinfo\":\"text\",\"marker\":{\"color\":\"rgb(0,116,217)\"},\"mode\":\"lines\",\"x\":[1.281035455201812,2.3849469881409404,2.3849469881409404,1.6783873149125335],\"xaxis\":\"x\",\"y\":[-9202.5,-9202.5,-9232.5,-9232.5],\"yaxis\":\"y\",\"type\":\"scatter\"},{\"hoverinfo\":\"text\",\"marker\":{\"color\":\"rgb(0,116,217)\"},\"mode\":\"lines\",\"x\":[0.0,1.4635773820374085,1.4635773820374085,0.0],\"xaxis\":\"x\",\"y\":[-9265.0,-9265.0,-9275.0,-9275.0],\"yaxis\":\"y\",\"type\":\"scatter\"},{\"hoverinfo\":\"text\",\"marker\":{\"color\":\"rgb(0,116,217)\"},\"mode\":\"lines\",\"x\":[0.0,1.6938444794951164,1.6938444794951164,1.4635773820374085],\"xaxis\":\"x\",\"y\":[-9255.0,-9255.0,-9270.0,-9270.0],\"yaxis\":\"y\",\"type\":\"scatter\"},{\"hoverinfo\":\"text\",\"marker\":{\"color\":\"rgb(0,116,217)\"},\"mode\":\"lines\",\"x\":[0.0,1.2137220031291334,1.2137220031291334,0.0],\"xaxis\":\"x\",\"y\":[-9285.0,-9285.0,-9295.0,-9295.0],\"yaxis\":\"y\",\"type\":\"scatter\"},{\"hoverinfo\":\"text\",\"marker\":{\"color\":\"rgb(61,153,112)\"},\"mode\":\"lines\",\"x\":[0.0,0.8361712125552718,0.8361712125552718,0.0],\"xaxis\":\"x\",\"y\":[-9315.0,-9315.0,-9325.0,-9325.0],\"yaxis\":\"y\",\"type\":\"scatter\"},{\"hoverinfo\":\"text\",\"marker\":{\"color\":\"rgb(0,116,217)\"},\"mode\":\"lines\",\"x\":[0.0,1.5887684450310466,1.5887684450310466,0.8361712125552718],\"xaxis\":\"x\",\"y\":[-9305.0,-9305.0,-9320.0,-9320.0],\"yaxis\":\"y\",\"type\":\"scatter\"},{\"hoverinfo\":\"text\",\"marker\":{\"color\":\"rgb(0,116,217)\"},\"mode\":\"lines\",\"x\":[1.2137220031291334,1.7512883802935553,1.7512883802935553,1.5887684450310466],\"xaxis\":\"x\",\"y\":[-9290.0,-9290.0,-9312.5,-9312.5],\"yaxis\":\"y\",\"type\":\"scatter\"},{\"hoverinfo\":\"text\",\"marker\":{\"color\":\"rgb(0,116,217)\"},\"mode\":\"lines\",\"x\":[1.6938444794951164,2.45289714589102,2.45289714589102,1.7512883802935553],\"xaxis\":\"x\",\"y\":[-9262.5,-9262.5,-9301.25,-9301.25],\"yaxis\":\"y\",\"type\":\"scatter\"},{\"hoverinfo\":\"text\",\"marker\":{\"color\":\"rgb(0,116,217)\"},\"mode\":\"lines\",\"x\":[2.3849469881409404,2.72195074383058,2.72195074383058,2.45289714589102],\"xaxis\":\"x\",\"y\":[-9217.5,-9217.5,-9281.875,-9281.875],\"yaxis\":\"y\",\"type\":\"scatter\"},{\"hoverinfo\":\"text\",\"marker\":{\"color\":\"rgb(0,116,217)\"},\"mode\":\"lines\",\"x\":[2.2035014588217314,4.662407065915139,4.662407065915139,2.72195074383058],\"xaxis\":\"x\",\"y\":[-9148.125,-9148.125,-9249.6875,-9249.6875],\"yaxis\":\"y\",\"type\":\"scatter\"},{\"hoverinfo\":\"text\",\"marker\":{\"color\":\"rgb(0,116,217)\"},\"mode\":\"lines\",\"x\":[3.733691858724191,6.354277302111139,6.354277302111139,4.662407065915139],\"xaxis\":\"x\",\"y\":[-8986.875,-8986.875,-9198.90625,-9198.90625],\"yaxis\":\"y\",\"type\":\"scatter\"},{\"hoverinfo\":\"text\",\"marker\":{\"color\":\"rgb(0,116,217)\"},\"mode\":\"lines\",\"x\":[5.803345023847549,7.7912889349569845,7.7912889349569845,6.354277302111139],\"xaxis\":\"x\",\"y\":[-8652.578125,-8652.578125,-9092.890625,-9092.890625],\"yaxis\":\"y\",\"type\":\"scatter\"},{\"hoverinfo\":\"text\",\"marker\":{\"color\":\"rgb(255,65,54)\"},\"mode\":\"lines\",\"x\":[0.0,0.9878164615708445,0.9878164615708445,0.0],\"xaxis\":\"x\",\"y\":[-9345.0,-9345.0,-9355.0,-9355.0],\"yaxis\":\"y\",\"type\":\"scatter\"},{\"hoverinfo\":\"text\",\"marker\":{\"color\":\"rgb(0,116,217)\"},\"mode\":\"lines\",\"x\":[0.0,1.3324045621702822,1.3324045621702822,0.9878164615708445],\"xaxis\":\"x\",\"y\":[-9335.0,-9335.0,-9350.0,-9350.0],\"yaxis\":\"y\",\"type\":\"scatter\"},{\"hoverinfo\":\"text\",\"marker\":{\"color\":\"rgb(0,116,217)\"},\"mode\":\"lines\",\"x\":[0.0,1.4628612953119213,1.4628612953119213,0.0],\"xaxis\":\"x\",\"y\":[-9375.0,-9375.0,-9385.0,-9385.0],\"yaxis\":\"y\",\"type\":\"scatter\"},{\"hoverinfo\":\"text\",\"marker\":{\"color\":\"rgb(0,116,217)\"},\"mode\":\"lines\",\"x\":[0.0,1.859501664159817,1.859501664159817,1.4628612953119213],\"xaxis\":\"x\",\"y\":[-9365.0,-9365.0,-9380.0,-9380.0],\"yaxis\":\"y\",\"type\":\"scatter\"},{\"hoverinfo\":\"text\",\"marker\":{\"color\":\"rgb(0,116,217)\"},\"mode\":\"lines\",\"x\":[1.3324045621702822,2.2780298046243503,2.2780298046243503,1.859501664159817],\"xaxis\":\"x\",\"y\":[-9342.5,-9342.5,-9372.5,-9372.5],\"yaxis\":\"y\",\"type\":\"scatter\"},{\"hoverinfo\":\"text\",\"marker\":{\"color\":\"rgb(0,116,217)\"},\"mode\":\"lines\",\"x\":[0.0,1.217913716003441,1.217913716003441,0.0],\"xaxis\":\"x\",\"y\":[-9405.0,-9405.0,-9415.0,-9415.0],\"yaxis\":\"y\",\"type\":\"scatter\"},{\"hoverinfo\":\"text\",\"marker\":{\"color\":\"rgb(0,116,217)\"},\"mode\":\"lines\",\"x\":[0.0,1.3782396798868648,1.3782396798868648,1.217913716003441],\"xaxis\":\"x\",\"y\":[-9395.0,-9395.0,-9410.0,-9410.0],\"yaxis\":\"y\",\"type\":\"scatter\"},{\"hoverinfo\":\"text\",\"marker\":{\"color\":\"rgb(0,116,217)\"},\"mode\":\"lines\",\"x\":[0.0,1.6292746725792477,1.6292746725792477,0.0],\"xaxis\":\"x\",\"y\":[-9445.0,-9445.0,-9455.0,-9455.0],\"yaxis\":\"y\",\"type\":\"scatter\"},{\"hoverinfo\":\"text\",\"marker\":{\"color\":\"rgb(0,116,217)\"},\"mode\":\"lines\",\"x\":[0.0,1.7594151365243675,1.7594151365243675,1.6292746725792477],\"xaxis\":\"x\",\"y\":[-9435.0,-9435.0,-9450.0,-9450.0],\"yaxis\":\"y\",\"type\":\"scatter\"},{\"hoverinfo\":\"text\",\"marker\":{\"color\":\"rgb(0,116,217)\"},\"mode\":\"lines\",\"x\":[0.0,2.0679290876478094,2.0679290876478094,1.7594151365243675],\"xaxis\":\"x\",\"y\":[-9425.0,-9425.0,-9442.5,-9442.5],\"yaxis\":\"y\",\"type\":\"scatter\"},{\"hoverinfo\":\"text\",\"marker\":{\"color\":\"rgb(0,116,217)\"},\"mode\":\"lines\",\"x\":[1.3782396798868648,2.2787729104122025,2.2787729104122025,2.0679290876478094],\"xaxis\":\"x\",\"y\":[-9402.5,-9402.5,-9433.75,-9433.75],\"yaxis\":\"y\",\"type\":\"scatter\"},{\"hoverinfo\":\"text\",\"marker\":{\"color\":\"rgb(0,116,217)\"},\"mode\":\"lines\",\"x\":[2.2780298046243503,3.1862329849140805,3.1862329849140805,2.2787729104122025],\"xaxis\":\"x\",\"y\":[-9357.5,-9357.5,-9418.125,-9418.125],\"yaxis\":\"y\",\"type\":\"scatter\"},{\"hoverinfo\":\"text\",\"marker\":{\"color\":\"rgb(0,116,217)\"},\"mode\":\"lines\",\"x\":[0.0,1.201228087866978,1.201228087866978,0.0],\"xaxis\":\"x\",\"y\":[-9465.0,-9465.0,-9475.0,-9475.0],\"yaxis\":\"y\",\"type\":\"scatter\"},{\"hoverinfo\":\"text\",\"marker\":{\"color\":\"rgb(0,116,217)\"},\"mode\":\"lines\",\"x\":[0.0,1.400625220303965,1.400625220303965,0.0],\"xaxis\":\"x\",\"y\":[-9495.0,-9495.0,-9505.0,-9505.0],\"yaxis\":\"y\",\"type\":\"scatter\"},{\"hoverinfo\":\"text\",\"marker\":{\"color\":\"rgb(0,116,217)\"},\"mode\":\"lines\",\"x\":[0.0,1.5345201250768568,1.5345201250768568,1.400625220303965],\"xaxis\":\"x\",\"y\":[-9485.0,-9485.0,-9500.0,-9500.0],\"yaxis\":\"y\",\"type\":\"scatter\"},{\"hoverinfo\":\"text\",\"marker\":{\"color\":\"rgb(0,116,217)\"},\"mode\":\"lines\",\"x\":[1.201228087866978,1.885713584020332,1.885713584020332,1.5345201250768568],\"xaxis\":\"x\",\"y\":[-9470.0,-9470.0,-9492.5,-9492.5],\"yaxis\":\"y\",\"type\":\"scatter\"},{\"hoverinfo\":\"text\",\"marker\":{\"color\":\"rgb(0,116,217)\"},\"mode\":\"lines\",\"x\":[0.0,1.2236292155477533,1.2236292155477533,0.0],\"xaxis\":\"x\",\"y\":[-9515.0,-9515.0,-9525.0,-9525.0],\"yaxis\":\"y\",\"type\":\"scatter\"},{\"hoverinfo\":\"text\",\"marker\":{\"color\":\"rgb(0,116,217)\"},\"mode\":\"lines\",\"x\":[0.0,1.2380637598719713,1.2380637598719713,0.0],\"xaxis\":\"x\",\"y\":[-9555.0,-9555.0,-9565.0,-9565.0],\"yaxis\":\"y\",\"type\":\"scatter\"},{\"hoverinfo\":\"text\",\"marker\":{\"color\":\"rgb(0,116,217)\"},\"mode\":\"lines\",\"x\":[0.0,1.5877698558211641,1.5877698558211641,1.2380637598719713],\"xaxis\":\"x\",\"y\":[-9545.0,-9545.0,-9560.0,-9560.0],\"yaxis\":\"y\",\"type\":\"scatter\"},{\"hoverinfo\":\"text\",\"marker\":{\"color\":\"rgb(0,116,217)\"},\"mode\":\"lines\",\"x\":[0.0,1.8400904965101597,1.8400904965101597,1.5877698558211641],\"xaxis\":\"x\",\"y\":[-9535.0,-9535.0,-9552.5,-9552.5],\"yaxis\":\"y\",\"type\":\"scatter\"},{\"hoverinfo\":\"text\",\"marker\":{\"color\":\"rgb(0,116,217)\"},\"mode\":\"lines\",\"x\":[1.2236292155477533,2.2274393988517245,2.2274393988517245,1.8400904965101597],\"xaxis\":\"x\",\"y\":[-9520.0,-9520.0,-9543.75,-9543.75],\"yaxis\":\"y\",\"type\":\"scatter\"},{\"hoverinfo\":\"text\",\"marker\":{\"color\":\"rgb(0,116,217)\"},\"mode\":\"lines\",\"x\":[1.885713584020332,2.589389744743458,2.589389744743458,2.2274393988517245],\"xaxis\":\"x\",\"y\":[-9481.25,-9481.25,-9531.875,-9531.875],\"yaxis\":\"y\",\"type\":\"scatter\"},{\"hoverinfo\":\"text\",\"marker\":{\"color\":\"rgb(0,116,217)\"},\"mode\":\"lines\",\"x\":[0.0,1.443207404737295,1.443207404737295,0.0],\"xaxis\":\"x\",\"y\":[-9585.0,-9585.0,-9595.0,-9595.0],\"yaxis\":\"y\",\"type\":\"scatter\"},{\"hoverinfo\":\"text\",\"marker\":{\"color\":\"rgb(0,116,217)\"},\"mode\":\"lines\",\"x\":[0.0,1.5834506533600772,1.5834506533600772,1.443207404737295],\"xaxis\":\"x\",\"y\":[-9575.0,-9575.0,-9590.0,-9590.0],\"yaxis\":\"y\",\"type\":\"scatter\"},{\"hoverinfo\":\"text\",\"marker\":{\"color\":\"rgb(0,116,217)\"},\"mode\":\"lines\",\"x\":[0.0,1.6603179963040289,1.6603179963040289,0.0],\"xaxis\":\"x\",\"y\":[-9615.0,-9615.0,-9625.0,-9625.0],\"yaxis\":\"y\",\"type\":\"scatter\"},{\"hoverinfo\":\"text\",\"marker\":{\"color\":\"rgb(0,116,217)\"},\"mode\":\"lines\",\"x\":[0.0,1.7568731324009765,1.7568731324009765,1.6603179963040289],\"xaxis\":\"x\",\"y\":[-9605.0,-9605.0,-9620.0,-9620.0],\"yaxis\":\"y\",\"type\":\"scatter\"},{\"hoverinfo\":\"text\",\"marker\":{\"color\":\"rgb(0,116,217)\"},\"mode\":\"lines\",\"x\":[1.5834506533600772,2.192105785454384,2.192105785454384,1.7568731324009765],\"xaxis\":\"x\",\"y\":[-9582.5,-9582.5,-9612.5,-9612.5],\"yaxis\":\"y\",\"type\":\"scatter\"},{\"hoverinfo\":\"text\",\"marker\":{\"color\":\"rgb(0,116,217)\"},\"mode\":\"lines\",\"x\":[0.0,1.4042252040297756,1.4042252040297756,0.0],\"xaxis\":\"x\",\"y\":[-9635.0,-9635.0,-9645.0,-9645.0],\"yaxis\":\"y\",\"type\":\"scatter\"},{\"hoverinfo\":\"text\",\"marker\":{\"color\":\"rgb(0,116,217)\"},\"mode\":\"lines\",\"x\":[0.0,1.2777885926264927,1.2777885926264927,0.0],\"xaxis\":\"x\",\"y\":[-9665.0,-9665.0,-9675.0,-9675.0],\"yaxis\":\"y\",\"type\":\"scatter\"},{\"hoverinfo\":\"text\",\"marker\":{\"color\":\"rgb(0,116,217)\"},\"mode\":\"lines\",\"x\":[0.0,1.6389581588710302,1.6389581588710302,1.2777885926264927],\"xaxis\":\"x\",\"y\":[-9655.0,-9655.0,-9670.0,-9670.0],\"yaxis\":\"y\",\"type\":\"scatter\"},{\"hoverinfo\":\"text\",\"marker\":{\"color\":\"rgb(0,116,217)\"},\"mode\":\"lines\",\"x\":[1.4042252040297756,1.832859115562029,1.832859115562029,1.6389581588710302],\"xaxis\":\"x\",\"y\":[-9640.0,-9640.0,-9662.5,-9662.5],\"yaxis\":\"y\",\"type\":\"scatter\"},{\"hoverinfo\":\"text\",\"marker\":{\"color\":\"rgb(35,205,205)\"},\"mode\":\"lines\",\"x\":[0.0,0.9417745776104075,0.9417745776104075,0.0],\"xaxis\":\"x\",\"y\":[-9695.0,-9695.0,-9705.0,-9705.0],\"yaxis\":\"y\",\"type\":\"scatter\"},{\"hoverinfo\":\"text\",\"marker\":{\"color\":\"rgb(0,116,217)\"},\"mode\":\"lines\",\"x\":[0.0,1.2652159417543585,1.2652159417543585,0.9417745776104075],\"xaxis\":\"x\",\"y\":[-9685.0,-9685.0,-9700.0,-9700.0],\"yaxis\":\"y\",\"type\":\"scatter\"},{\"hoverinfo\":\"text\",\"marker\":{\"color\":\"rgb(0,116,217)\"},\"mode\":\"lines\",\"x\":[0.0,1.0453908308574968,1.0453908308574968,0.0],\"xaxis\":\"x\",\"y\":[-9735.0,-9735.0,-9745.0,-9745.0],\"yaxis\":\"y\",\"type\":\"scatter\"},{\"hoverinfo\":\"text\",\"marker\":{\"color\":\"rgb(0,116,217)\"},\"mode\":\"lines\",\"x\":[0.0,1.2835628631235756,1.2835628631235756,1.0453908308574968],\"xaxis\":\"x\",\"y\":[-9725.0,-9725.0,-9740.0,-9740.0],\"yaxis\":\"y\",\"type\":\"scatter\"},{\"hoverinfo\":\"text\",\"marker\":{\"color\":\"rgb(0,116,217)\"},\"mode\":\"lines\",\"x\":[0.0,1.8229756373877564,1.8229756373877564,1.2835628631235756],\"xaxis\":\"x\",\"y\":[-9715.0,-9715.0,-9732.5,-9732.5],\"yaxis\":\"y\",\"type\":\"scatter\"},{\"hoverinfo\":\"text\",\"marker\":{\"color\":\"rgb(0,116,217)\"},\"mode\":\"lines\",\"x\":[1.2652159417543585,2.2571641845986643,2.2571641845986643,1.8229756373877564],\"xaxis\":\"x\",\"y\":[-9692.5,-9692.5,-9723.75,-9723.75],\"yaxis\":\"y\",\"type\":\"scatter\"},{\"hoverinfo\":\"text\",\"marker\":{\"color\":\"rgb(0,116,217)\"},\"mode\":\"lines\",\"x\":[1.832859115562029,2.3908921156152925,2.3908921156152925,2.2571641845986643],\"xaxis\":\"x\",\"y\":[-9651.25,-9651.25,-9708.125,-9708.125],\"yaxis\":\"y\",\"type\":\"scatter\"},{\"hoverinfo\":\"text\",\"marker\":{\"color\":\"rgb(0,116,217)\"},\"mode\":\"lines\",\"x\":[2.192105785454384,2.9972822225942815,2.9972822225942815,2.3908921156152925],\"xaxis\":\"x\",\"y\":[-9597.5,-9597.5,-9679.6875,-9679.6875],\"yaxis\":\"y\",\"type\":\"scatter\"},{\"hoverinfo\":\"text\",\"marker\":{\"color\":\"rgb(0,116,217)\"},\"mode\":\"lines\",\"x\":[2.589389744743458,4.139697662976696,4.139697662976696,2.9972822225942815],\"xaxis\":\"x\",\"y\":[-9506.5625,-9506.5625,-9638.59375,-9638.59375],\"yaxis\":\"y\",\"type\":\"scatter\"},{\"hoverinfo\":\"text\",\"marker\":{\"color\":\"rgb(0,116,217)\"},\"mode\":\"lines\",\"x\":[3.1862329849140805,5.042296365473464,5.042296365473464,4.139697662976696],\"xaxis\":\"x\",\"y\":[-9387.8125,-9387.8125,-9572.578125,-9572.578125],\"yaxis\":\"y\",\"type\":\"scatter\"},{\"hoverinfo\":\"text\",\"marker\":{\"color\":\"rgb(0,116,217)\"},\"mode\":\"lines\",\"x\":[0.0,1.2064821807930317,1.2064821807930317,0.0],\"xaxis\":\"x\",\"y\":[-9755.0,-9755.0,-9765.0,-9765.0],\"yaxis\":\"y\",\"type\":\"scatter\"},{\"hoverinfo\":\"text\",\"marker\":{\"color\":\"rgb(0,116,217)\"},\"mode\":\"lines\",\"x\":[0.0,1.4506767557179658,1.4506767557179658,0.0],\"xaxis\":\"x\",\"y\":[-9775.0,-9775.0,-9785.0,-9785.0],\"yaxis\":\"y\",\"type\":\"scatter\"},{\"hoverinfo\":\"text\",\"marker\":{\"color\":\"rgb(0,116,217)\"},\"mode\":\"lines\",\"x\":[0.0,1.5126385061052714,1.5126385061052714,0.0],\"xaxis\":\"x\",\"y\":[-9795.0,-9795.0,-9805.0,-9805.0],\"yaxis\":\"y\",\"type\":\"scatter\"},{\"hoverinfo\":\"text\",\"marker\":{\"color\":\"rgb(0,116,217)\"},\"mode\":\"lines\",\"x\":[1.4506767557179658,2.2474129512676897,2.2474129512676897,1.5126385061052714],\"xaxis\":\"x\",\"y\":[-9780.0,-9780.0,-9800.0,-9800.0],\"yaxis\":\"y\",\"type\":\"scatter\"},{\"hoverinfo\":\"text\",\"marker\":{\"color\":\"rgb(0,116,217)\"},\"mode\":\"lines\",\"x\":[1.2064821807930317,2.616022528195667,2.616022528195667,2.2474129512676897],\"xaxis\":\"x\",\"y\":[-9760.0,-9760.0,-9790.0,-9790.0],\"yaxis\":\"y\",\"type\":\"scatter\"},{\"hoverinfo\":\"text\",\"marker\":{\"color\":\"rgb(0,116,217)\"},\"mode\":\"lines\",\"x\":[0.0,1.2517920920836585,1.2517920920836585,0.0],\"xaxis\":\"x\",\"y\":[-9815.0,-9815.0,-9825.0,-9825.0],\"yaxis\":\"y\",\"type\":\"scatter\"},{\"hoverinfo\":\"text\",\"marker\":{\"color\":\"rgb(0,116,217)\"},\"mode\":\"lines\",\"x\":[0.0,1.4324938662244144,1.4324938662244144,0.0],\"xaxis\":\"x\",\"y\":[-9835.0,-9835.0,-9845.0,-9845.0],\"yaxis\":\"y\",\"type\":\"scatter\"},{\"hoverinfo\":\"text\",\"marker\":{\"color\":\"rgb(0,116,217)\"},\"mode\":\"lines\",\"x\":[1.2517920920836585,2.0728847528817207,2.0728847528817207,1.4324938662244144],\"xaxis\":\"x\",\"y\":[-9820.0,-9820.0,-9840.0,-9840.0],\"yaxis\":\"y\",\"type\":\"scatter\"},{\"hoverinfo\":\"text\",\"marker\":{\"color\":\"rgb(0,116,217)\"},\"mode\":\"lines\",\"x\":[0.0,1.7315824516301117,1.7315824516301117,0.0],\"xaxis\":\"x\",\"y\":[-9855.0,-9855.0,-9865.0,-9865.0],\"yaxis\":\"y\",\"type\":\"scatter\"},{\"hoverinfo\":\"text\",\"marker\":{\"color\":\"rgb(0,116,217)\"},\"mode\":\"lines\",\"x\":[0.0,1.786843709901866,1.786843709901866,0.0],\"xaxis\":\"x\",\"y\":[-9875.0,-9875.0,-9885.0,-9885.0],\"yaxis\":\"y\",\"type\":\"scatter\"},{\"hoverinfo\":\"text\",\"marker\":{\"color\":\"rgb(0,116,217)\"},\"mode\":\"lines\",\"x\":[1.7315824516301117,2.0436176399648978,2.0436176399648978,1.786843709901866],\"xaxis\":\"x\",\"y\":[-9860.0,-9860.0,-9880.0,-9880.0],\"yaxis\":\"y\",\"type\":\"scatter\"},{\"hoverinfo\":\"text\",\"marker\":{\"color\":\"rgb(0,116,217)\"},\"mode\":\"lines\",\"x\":[0.0,1.7075231950760374,1.7075231950760374,0.0],\"xaxis\":\"x\",\"y\":[-9895.0,-9895.0,-9905.0,-9905.0],\"yaxis\":\"y\",\"type\":\"scatter\"},{\"hoverinfo\":\"text\",\"marker\":{\"color\":\"rgb(0,116,217)\"},\"mode\":\"lines\",\"x\":[0.0,1.8356883946024742,1.8356883946024742,0.0],\"xaxis\":\"x\",\"y\":[-9915.0,-9915.0,-9925.0,-9925.0],\"yaxis\":\"y\",\"type\":\"scatter\"},{\"hoverinfo\":\"text\",\"marker\":{\"color\":\"rgb(0,116,217)\"},\"mode\":\"lines\",\"x\":[1.7075231950760374,2.088039873539486,2.088039873539486,1.8356883946024742],\"xaxis\":\"x\",\"y\":[-9900.0,-9900.0,-9920.0,-9920.0],\"yaxis\":\"y\",\"type\":\"scatter\"},{\"hoverinfo\":\"text\",\"marker\":{\"color\":\"rgb(0,116,217)\"},\"mode\":\"lines\",\"x\":[2.0436176399648978,2.5946524755831457,2.5946524755831457,2.088039873539486],\"xaxis\":\"x\",\"y\":[-9870.0,-9870.0,-9910.0,-9910.0],\"yaxis\":\"y\",\"type\":\"scatter\"},{\"hoverinfo\":\"text\",\"marker\":{\"color\":\"rgb(0,116,217)\"},\"mode\":\"lines\",\"x\":[2.0728847528817207,2.922766515931719,2.922766515931719,2.5946524755831457],\"xaxis\":\"x\",\"y\":[-9830.0,-9830.0,-9890.0,-9890.0],\"yaxis\":\"y\",\"type\":\"scatter\"},{\"hoverinfo\":\"text\",\"marker\":{\"color\":\"rgb(0,116,217)\"},\"mode\":\"lines\",\"x\":[2.616022528195667,3.214283424424695,3.214283424424695,2.922766515931719],\"xaxis\":\"x\",\"y\":[-9775.0,-9775.0,-9860.0,-9860.0],\"yaxis\":\"y\",\"type\":\"scatter\"},{\"hoverinfo\":\"text\",\"marker\":{\"color\":\"rgb(0,116,217)\"},\"mode\":\"lines\",\"x\":[0.0,1.200796288118749,1.200796288118749,0.0],\"xaxis\":\"x\",\"y\":[-9945.0,-9945.0,-9955.0,-9955.0],\"yaxis\":\"y\",\"type\":\"scatter\"},{\"hoverinfo\":\"text\",\"marker\":{\"color\":\"rgb(0,116,217)\"},\"mode\":\"lines\",\"x\":[0.0,1.311471394423454,1.311471394423454,1.200796288118749],\"xaxis\":\"x\",\"y\":[-9935.0,-9935.0,-9950.0,-9950.0],\"yaxis\":\"y\",\"type\":\"scatter\"},{\"hoverinfo\":\"text\",\"marker\":{\"color\":\"rgb(0,116,217)\"},\"mode\":\"lines\",\"x\":[0.0,1.1791006448249832,1.1791006448249832,0.0],\"xaxis\":\"x\",\"y\":[-9975.0,-9975.0,-9985.0,-9985.0],\"yaxis\":\"y\",\"type\":\"scatter\"},{\"hoverinfo\":\"text\",\"marker\":{\"color\":\"rgb(0,116,217)\"},\"mode\":\"lines\",\"x\":[0.0,1.7010250906586046,1.7010250906586046,1.1791006448249832],\"xaxis\":\"x\",\"y\":[-9965.0,-9965.0,-9980.0,-9980.0],\"yaxis\":\"y\",\"type\":\"scatter\"},{\"hoverinfo\":\"text\",\"marker\":{\"color\":\"rgb(0,116,217)\"},\"mode\":\"lines\",\"x\":[1.311471394423454,2.1207534658895835,2.1207534658895835,1.7010250906586046],\"xaxis\":\"x\",\"y\":[-9942.5,-9942.5,-9972.5,-9972.5],\"yaxis\":\"y\",\"type\":\"scatter\"},{\"hoverinfo\":\"text\",\"marker\":{\"color\":\"rgb(0,116,217)\"},\"mode\":\"lines\",\"x\":[0.0,1.4195669352527056,1.4195669352527056,0.0],\"xaxis\":\"x\",\"y\":[-10005.0,-10005.0,-10015.0,-10015.0],\"yaxis\":\"y\",\"type\":\"scatter\"},{\"hoverinfo\":\"text\",\"marker\":{\"color\":\"rgb(0,116,217)\"},\"mode\":\"lines\",\"x\":[0.0,1.532270181410719,1.532270181410719,1.4195669352527056],\"xaxis\":\"x\",\"y\":[-9995.0,-9995.0,-10010.0,-10010.0],\"yaxis\":\"y\",\"type\":\"scatter\"},{\"hoverinfo\":\"text\",\"marker\":{\"color\":\"rgb(0,116,217)\"},\"mode\":\"lines\",\"x\":[0.0,1.2933627406426185,1.2933627406426185,0.0],\"xaxis\":\"x\",\"y\":[-10035.0,-10035.0,-10045.0,-10045.0],\"yaxis\":\"y\",\"type\":\"scatter\"},{\"hoverinfo\":\"text\",\"marker\":{\"color\":\"rgb(0,116,217)\"},\"mode\":\"lines\",\"x\":[0.0,1.6755774703401773,1.6755774703401773,1.2933627406426185],\"xaxis\":\"x\",\"y\":[-10025.0,-10025.0,-10040.0,-10040.0],\"yaxis\":\"y\",\"type\":\"scatter\"},{\"hoverinfo\":\"text\",\"marker\":{\"color\":\"rgb(0,116,217)\"},\"mode\":\"lines\",\"x\":[1.532270181410719,2.3176906833695723,2.3176906833695723,1.6755774703401773],\"xaxis\":\"x\",\"y\":[-10002.5,-10002.5,-10032.5,-10032.5],\"yaxis\":\"y\",\"type\":\"scatter\"},{\"hoverinfo\":\"text\",\"marker\":{\"color\":\"rgb(0,116,217)\"},\"mode\":\"lines\",\"x\":[0.0,1.4103245981325174,1.4103245981325174,0.0],\"xaxis\":\"x\",\"y\":[-10065.0,-10065.0,-10075.0,-10075.0],\"yaxis\":\"y\",\"type\":\"scatter\"},{\"hoverinfo\":\"text\",\"marker\":{\"color\":\"rgb(0,116,217)\"},\"mode\":\"lines\",\"x\":[0.0,1.5505790703975744,1.5505790703975744,0.0],\"xaxis\":\"x\",\"y\":[-10085.0,-10085.0,-10095.0,-10095.0],\"yaxis\":\"y\",\"type\":\"scatter\"},{\"hoverinfo\":\"text\",\"marker\":{\"color\":\"rgb(0,116,217)\"},\"mode\":\"lines\",\"x\":[1.4103245981325174,1.5935061915564974,1.5935061915564974,1.5505790703975744],\"xaxis\":\"x\",\"y\":[-10070.0,-10070.0,-10090.0,-10090.0],\"yaxis\":\"y\",\"type\":\"scatter\"},{\"hoverinfo\":\"text\",\"marker\":{\"color\":\"rgb(0,116,217)\"},\"mode\":\"lines\",\"x\":[0.0,1.7707575035399656,1.7707575035399656,1.5935061915564974],\"xaxis\":\"x\",\"y\":[-10055.0,-10055.0,-10080.0,-10080.0],\"yaxis\":\"y\",\"type\":\"scatter\"},{\"hoverinfo\":\"text\",\"marker\":{\"color\":\"rgb(0,116,217)\"},\"mode\":\"lines\",\"x\":[0.0,1.472033833821073,1.472033833821073,0.0],\"xaxis\":\"x\",\"y\":[-10115.0,-10115.0,-10125.0,-10125.0],\"yaxis\":\"y\",\"type\":\"scatter\"},{\"hoverinfo\":\"text\",\"marker\":{\"color\":\"rgb(0,116,217)\"},\"mode\":\"lines\",\"x\":[0.0,1.8421146602932172,1.8421146602932172,1.472033833821073],\"xaxis\":\"x\",\"y\":[-10105.0,-10105.0,-10120.0,-10120.0],\"yaxis\":\"y\",\"type\":\"scatter\"},{\"hoverinfo\":\"text\",\"marker\":{\"color\":\"rgb(0,116,217)\"},\"mode\":\"lines\",\"x\":[1.7707575035399656,2.4189073435127444,2.4189073435127444,1.8421146602932172],\"xaxis\":\"x\",\"y\":[-10067.5,-10067.5,-10112.5,-10112.5],\"yaxis\":\"y\",\"type\":\"scatter\"},{\"hoverinfo\":\"text\",\"marker\":{\"color\":\"rgb(0,116,217)\"},\"mode\":\"lines\",\"x\":[2.3176906833695723,3.2873517472880724,3.2873517472880724,2.4189073435127444],\"xaxis\":\"x\",\"y\":[-10017.5,-10017.5,-10090.0,-10090.0],\"yaxis\":\"y\",\"type\":\"scatter\"},{\"hoverinfo\":\"text\",\"marker\":{\"color\":\"rgb(0,116,217)\"},\"mode\":\"lines\",\"x\":[2.1207534658895835,3.5145788317308586,3.5145788317308586,3.2873517472880724],\"xaxis\":\"x\",\"y\":[-9957.5,-9957.5,-10053.75,-10053.75],\"yaxis\":\"y\",\"type\":\"scatter\"},{\"hoverinfo\":\"text\",\"marker\":{\"color\":\"rgb(0,116,217)\"},\"mode\":\"lines\",\"x\":[0.0,1.7395401125565964,1.7395401125565964,0.0],\"xaxis\":\"x\",\"y\":[-10135.0,-10135.0,-10145.0,-10145.0],\"yaxis\":\"y\",\"type\":\"scatter\"},{\"hoverinfo\":\"text\",\"marker\":{\"color\":\"rgb(0,116,217)\"},\"mode\":\"lines\",\"x\":[0.0,1.5305620812868768,1.5305620812868768,0.0],\"xaxis\":\"x\",\"y\":[-10165.0,-10165.0,-10175.0,-10175.0],\"yaxis\":\"y\",\"type\":\"scatter\"},{\"hoverinfo\":\"text\",\"marker\":{\"color\":\"rgb(0,116,217)\"},\"mode\":\"lines\",\"x\":[0.0,1.8971690515545068,1.8971690515545068,1.5305620812868768],\"xaxis\":\"x\",\"y\":[-10155.0,-10155.0,-10170.0,-10170.0],\"yaxis\":\"y\",\"type\":\"scatter\"},{\"hoverinfo\":\"text\",\"marker\":{\"color\":\"rgb(0,116,217)\"},\"mode\":\"lines\",\"x\":[1.7395401125565964,1.9732503617197068,1.9732503617197068,1.8971690515545068],\"xaxis\":\"x\",\"y\":[-10140.0,-10140.0,-10162.5,-10162.5],\"yaxis\":\"y\",\"type\":\"scatter\"},{\"hoverinfo\":\"text\",\"marker\":{\"color\":\"rgb(0,116,217)\"},\"mode\":\"lines\",\"x\":[0.0,1.4112401452898515,1.4112401452898515,0.0],\"xaxis\":\"x\",\"y\":[-10195.0,-10195.0,-10205.0,-10205.0],\"yaxis\":\"y\",\"type\":\"scatter\"},{\"hoverinfo\":\"text\",\"marker\":{\"color\":\"rgb(0,116,217)\"},\"mode\":\"lines\",\"x\":[0.0,1.5583979486884314,1.5583979486884314,1.4112401452898515],\"xaxis\":\"x\",\"y\":[-10185.0,-10185.0,-10200.0,-10200.0],\"yaxis\":\"y\",\"type\":\"scatter\"},{\"hoverinfo\":\"text\",\"marker\":{\"color\":\"rgb(0,116,217)\"},\"mode\":\"lines\",\"x\":[0.0,1.71646465636555,1.71646465636555,0.0],\"xaxis\":\"x\",\"y\":[-10215.0,-10215.0,-10225.0,-10225.0],\"yaxis\":\"y\",\"type\":\"scatter\"},{\"hoverinfo\":\"text\",\"marker\":{\"color\":\"rgb(0,116,217)\"},\"mode\":\"lines\",\"x\":[1.5583979486884314,2.0115061507493492,2.0115061507493492,1.71646465636555],\"xaxis\":\"x\",\"y\":[-10192.5,-10192.5,-10220.0,-10220.0],\"yaxis\":\"y\",\"type\":\"scatter\"},{\"hoverinfo\":\"text\",\"marker\":{\"color\":\"rgb(0,116,217)\"},\"mode\":\"lines\",\"x\":[1.9732503617197068,2.7947741032952584,2.7947741032952584,2.0115061507493492],\"xaxis\":\"x\",\"y\":[-10151.25,-10151.25,-10206.25,-10206.25],\"yaxis\":\"y\",\"type\":\"scatter\"},{\"hoverinfo\":\"text\",\"marker\":{\"color\":\"rgb(0,116,217)\"},\"mode\":\"lines\",\"x\":[0.0,1.566500947676535,1.566500947676535,0.0],\"xaxis\":\"x\",\"y\":[-10245.0,-10245.0,-10255.0,-10255.0],\"yaxis\":\"y\",\"type\":\"scatter\"},{\"hoverinfo\":\"text\",\"marker\":{\"color\":\"rgb(0,116,217)\"},\"mode\":\"lines\",\"x\":[0.0,1.6431151041430916,1.6431151041430916,1.566500947676535],\"xaxis\":\"x\",\"y\":[-10235.0,-10235.0,-10250.0,-10250.0],\"yaxis\":\"y\",\"type\":\"scatter\"},{\"hoverinfo\":\"text\",\"marker\":{\"color\":\"rgb(0,116,217)\"},\"mode\":\"lines\",\"x\":[0.0,1.6175822655955434,1.6175822655955434,0.0],\"xaxis\":\"x\",\"y\":[-10265.0,-10265.0,-10275.0,-10275.0],\"yaxis\":\"y\",\"type\":\"scatter\"},{\"hoverinfo\":\"text\",\"marker\":{\"color\":\"rgb(0,116,217)\"},\"mode\":\"lines\",\"x\":[0.0,1.391039033746459,1.391039033746459,0.0],\"xaxis\":\"x\",\"y\":[-10295.0,-10295.0,-10305.0,-10305.0],\"yaxis\":\"y\",\"type\":\"scatter\"},{\"hoverinfo\":\"text\",\"marker\":{\"color\":\"rgb(0,116,217)\"},\"mode\":\"lines\",\"x\":[0.0,1.9282998981159731,1.9282998981159731,1.391039033746459],\"xaxis\":\"x\",\"y\":[-10285.0,-10285.0,-10300.0,-10300.0],\"yaxis\":\"y\",\"type\":\"scatter\"},{\"hoverinfo\":\"text\",\"marker\":{\"color\":\"rgb(0,116,217)\"},\"mode\":\"lines\",\"x\":[1.6175822655955434,1.9946511533921014,1.9946511533921014,1.9282998981159731],\"xaxis\":\"x\",\"y\":[-10270.0,-10270.0,-10292.5,-10292.5],\"yaxis\":\"y\",\"type\":\"scatter\"},{\"hoverinfo\":\"text\",\"marker\":{\"color\":\"rgb(0,116,217)\"},\"mode\":\"lines\",\"x\":[1.6431151041430916,2.150505994850652,2.150505994850652,1.9946511533921014],\"xaxis\":\"x\",\"y\":[-10242.5,-10242.5,-10281.25,-10281.25],\"yaxis\":\"y\",\"type\":\"scatter\"},{\"hoverinfo\":\"text\",\"marker\":{\"color\":\"rgb(0,116,217)\"},\"mode\":\"lines\",\"x\":[0.0,1.3758713279295427,1.3758713279295427,0.0],\"xaxis\":\"x\",\"y\":[-10315.0,-10315.0,-10325.0,-10325.0],\"yaxis\":\"y\",\"type\":\"scatter\"},{\"hoverinfo\":\"text\",\"marker\":{\"color\":\"rgb(0,116,217)\"},\"mode\":\"lines\",\"x\":[0.0,1.5579598197144218,1.5579598197144218,0.0],\"xaxis\":\"x\",\"y\":[-10335.0,-10335.0,-10345.0,-10345.0],\"yaxis\":\"y\",\"type\":\"scatter\"},{\"hoverinfo\":\"text\",\"marker\":{\"color\":\"rgb(0,116,217)\"},\"mode\":\"lines\",\"x\":[0.0,1.3062944920182435,1.3062944920182435,0.0],\"xaxis\":\"x\",\"y\":[-10355.0,-10355.0,-10365.0,-10365.0],\"yaxis\":\"y\",\"type\":\"scatter\"},{\"hoverinfo\":\"text\",\"marker\":{\"color\":\"rgb(0,116,217)\"},\"mode\":\"lines\",\"x\":[0.0,1.4582579456704872,1.4582579456704872,0.0],\"xaxis\":\"x\",\"y\":[-10385.0,-10385.0,-10395.0,-10395.0],\"yaxis\":\"y\",\"type\":\"scatter\"},{\"hoverinfo\":\"text\",\"marker\":{\"color\":\"rgb(0,116,217)\"},\"mode\":\"lines\",\"x\":[0.0,1.7632471510337215,1.7632471510337215,1.4582579456704872],\"xaxis\":\"x\",\"y\":[-10375.0,-10375.0,-10390.0,-10390.0],\"yaxis\":\"y\",\"type\":\"scatter\"},{\"hoverinfo\":\"text\",\"marker\":{\"color\":\"rgb(0,116,217)\"},\"mode\":\"lines\",\"x\":[1.3062944920182435,2.247746290049745,2.247746290049745,1.7632471510337215],\"xaxis\":\"x\",\"y\":[-10360.0,-10360.0,-10382.5,-10382.5],\"yaxis\":\"y\",\"type\":\"scatter\"},{\"hoverinfo\":\"text\",\"marker\":{\"color\":\"rgb(0,116,217)\"},\"mode\":\"lines\",\"x\":[1.5579598197144218,2.493048132988653,2.493048132988653,2.247746290049745],\"xaxis\":\"x\",\"y\":[-10340.0,-10340.0,-10371.25,-10371.25],\"yaxis\":\"y\",\"type\":\"scatter\"},{\"hoverinfo\":\"text\",\"marker\":{\"color\":\"rgb(0,116,217)\"},\"mode\":\"lines\",\"x\":[1.3758713279295427,2.729843643997186,2.729843643997186,2.493048132988653],\"xaxis\":\"x\",\"y\":[-10320.0,-10320.0,-10355.625,-10355.625],\"yaxis\":\"y\",\"type\":\"scatter\"},{\"hoverinfo\":\"text\",\"marker\":{\"color\":\"rgb(0,116,217)\"},\"mode\":\"lines\",\"x\":[2.150505994850652,2.983789803907759,2.983789803907759,2.729843643997186],\"xaxis\":\"x\",\"y\":[-10261.875,-10261.875,-10337.8125,-10337.8125],\"yaxis\":\"y\",\"type\":\"scatter\"},{\"hoverinfo\":\"text\",\"marker\":{\"color\":\"rgb(0,116,217)\"},\"mode\":\"lines\",\"x\":[2.7947741032952584,3.7782505148002974,3.7782505148002974,2.983789803907759],\"xaxis\":\"x\",\"y\":[-10178.75,-10178.75,-10299.84375,-10299.84375],\"yaxis\":\"y\",\"type\":\"scatter\"},{\"hoverinfo\":\"text\",\"marker\":{\"color\":\"rgb(0,116,217)\"},\"mode\":\"lines\",\"x\":[3.5145788317308586,5.91119885946916,5.91119885946916,3.7782505148002974],\"xaxis\":\"x\",\"y\":[-10005.625,-10005.625,-10239.296875,-10239.296875],\"yaxis\":\"y\",\"type\":\"scatter\"},{\"hoverinfo\":\"text\",\"marker\":{\"color\":\"rgb(0,116,217)\"},\"mode\":\"lines\",\"x\":[3.214283424424695,6.173348653052126,6.173348653052126,5.91119885946916],\"xaxis\":\"x\",\"y\":[-9817.5,-9817.5,-10122.4609375,-10122.4609375],\"yaxis\":\"y\",\"type\":\"scatter\"},{\"hoverinfo\":\"text\",\"marker\":{\"color\":\"rgb(0,116,217)\"},\"mode\":\"lines\",\"x\":[5.042296365473464,7.096027552268936,7.096027552268936,6.173348653052126],\"xaxis\":\"x\",\"y\":[-9480.1953125,-9480.1953125,-9969.98046875,-9969.98046875],\"yaxis\":\"y\",\"type\":\"scatter\"},{\"hoverinfo\":\"text\",\"marker\":{\"color\":\"rgb(0,116,217)\"},\"mode\":\"lines\",\"x\":[0.0,1.3730296322994757,1.3730296322994757,0.0],\"xaxis\":\"x\",\"y\":[-10425.0,-10425.0,-10435.0,-10435.0],\"yaxis\":\"y\",\"type\":\"scatter\"},{\"hoverinfo\":\"text\",\"marker\":{\"color\":\"rgb(0,116,217)\"},\"mode\":\"lines\",\"x\":[0.0,1.6449042975002284,1.6449042975002284,1.3730296322994757],\"xaxis\":\"x\",\"y\":[-10415.0,-10415.0,-10430.0,-10430.0],\"yaxis\":\"y\",\"type\":\"scatter\"},{\"hoverinfo\":\"text\",\"marker\":{\"color\":\"rgb(0,116,217)\"},\"mode\":\"lines\",\"x\":[0.0,2.058112341896063,2.058112341896063,1.6449042975002284],\"xaxis\":\"x\",\"y\":[-10405.0,-10405.0,-10422.5,-10422.5],\"yaxis\":\"y\",\"type\":\"scatter\"},{\"hoverinfo\":\"text\",\"marker\":{\"color\":\"rgb(0,116,217)\"},\"mode\":\"lines\",\"x\":[0.0,1.2005904929364888,1.2005904929364888,0.0],\"xaxis\":\"x\",\"y\":[-10445.0,-10445.0,-10455.0,-10455.0],\"yaxis\":\"y\",\"type\":\"scatter\"},{\"hoverinfo\":\"text\",\"marker\":{\"color\":\"rgb(0,116,217)\"},\"mode\":\"lines\",\"x\":[0.0,1.1625161943043538,1.1625161943043538,0.0],\"xaxis\":\"x\",\"y\":[-10465.0,-10465.0,-10475.0,-10475.0],\"yaxis\":\"y\",\"type\":\"scatter\"},{\"hoverinfo\":\"text\",\"marker\":{\"color\":\"rgb(0,116,217)\"},\"mode\":\"lines\",\"x\":[0.0,1.5810561181796832,1.5810561181796832,0.0],\"xaxis\":\"x\",\"y\":[-10485.0,-10485.0,-10495.0,-10495.0],\"yaxis\":\"y\",\"type\":\"scatter\"},{\"hoverinfo\":\"text\",\"marker\":{\"color\":\"rgb(0,116,217)\"},\"mode\":\"lines\",\"x\":[1.1625161943043538,1.924179621261374,1.924179621261374,1.5810561181796832],\"xaxis\":\"x\",\"y\":[-10470.0,-10470.0,-10490.0,-10490.0],\"yaxis\":\"y\",\"type\":\"scatter\"},{\"hoverinfo\":\"text\",\"marker\":{\"color\":\"rgb(0,116,217)\"},\"mode\":\"lines\",\"x\":[1.2005904929364888,2.335393748226082,2.335393748226082,1.924179621261374],\"xaxis\":\"x\",\"y\":[-10450.0,-10450.0,-10480.0,-10480.0],\"yaxis\":\"y\",\"type\":\"scatter\"},{\"hoverinfo\":\"text\",\"marker\":{\"color\":\"rgb(0,116,217)\"},\"mode\":\"lines\",\"x\":[2.058112341896063,3.467211300227209,3.467211300227209,2.335393748226082],\"xaxis\":\"x\",\"y\":[-10413.75,-10413.75,-10465.0,-10465.0],\"yaxis\":\"y\",\"type\":\"scatter\"},{\"hoverinfo\":\"text\",\"marker\":{\"color\":\"rgb(0,116,217)\"},\"mode\":\"lines\",\"x\":[0.0,1.3269226785192996,1.3269226785192996,0.0],\"xaxis\":\"x\",\"y\":[-10505.0,-10505.0,-10515.0,-10515.0],\"yaxis\":\"y\",\"type\":\"scatter\"},{\"hoverinfo\":\"text\",\"marker\":{\"color\":\"rgb(133,20,75)\"},\"mode\":\"lines\",\"x\":[0.0,0.9778265076121709,0.9778265076121709,0.0],\"xaxis\":\"x\",\"y\":[-10545.0,-10545.0,-10555.0,-10555.0],\"yaxis\":\"y\",\"type\":\"scatter\"},{\"hoverinfo\":\"text\",\"marker\":{\"color\":\"rgb(0,116,217)\"},\"mode\":\"lines\",\"x\":[0.0,1.3883239651425117,1.3883239651425117,0.9778265076121709],\"xaxis\":\"x\",\"y\":[-10535.0,-10535.0,-10550.0,-10550.0],\"yaxis\":\"y\",\"type\":\"scatter\"},{\"hoverinfo\":\"text\",\"marker\":{\"color\":\"rgb(0,116,217)\"},\"mode\":\"lines\",\"x\":[0.0,1.6796152532645758,1.6796152532645758,1.3883239651425117],\"xaxis\":\"x\",\"y\":[-10525.0,-10525.0,-10542.5,-10542.5],\"yaxis\":\"y\",\"type\":\"scatter\"},{\"hoverinfo\":\"text\",\"marker\":{\"color\":\"rgb(0,116,217)\"},\"mode\":\"lines\",\"x\":[1.3269226785192996,1.8794863886038682,1.8794863886038682,1.6796152532645758],\"xaxis\":\"x\",\"y\":[-10510.0,-10510.0,-10533.75,-10533.75],\"yaxis\":\"y\",\"type\":\"scatter\"},{\"hoverinfo\":\"text\",\"marker\":{\"color\":\"rgb(0,116,217)\"},\"mode\":\"lines\",\"x\":[0.0,1.7370736225177847,1.7370736225177847,0.0],\"xaxis\":\"x\",\"y\":[-10575.0,-10575.0,-10585.0,-10585.0],\"yaxis\":\"y\",\"type\":\"scatter\"},{\"hoverinfo\":\"text\",\"marker\":{\"color\":\"rgb(0,116,217)\"},\"mode\":\"lines\",\"x\":[0.0,2.0056163160569374,2.0056163160569374,1.7370736225177847],\"xaxis\":\"x\",\"y\":[-10565.0,-10565.0,-10580.0,-10580.0],\"yaxis\":\"y\",\"type\":\"scatter\"},{\"hoverinfo\":\"text\",\"marker\":{\"color\":\"rgb(0,116,217)\"},\"mode\":\"lines\",\"x\":[1.8794863886038682,2.67975074695391,2.67975074695391,2.0056163160569374],\"xaxis\":\"x\",\"y\":[-10521.875,-10521.875,-10572.5,-10572.5],\"yaxis\":\"y\",\"type\":\"scatter\"},{\"hoverinfo\":\"text\",\"marker\":{\"color\":\"rgb(0,116,217)\"},\"mode\":\"lines\",\"x\":[0.0,1.2703609860798872,1.2703609860798872,0.0],\"xaxis\":\"x\",\"y\":[-10595.0,-10595.0,-10605.0,-10605.0],\"yaxis\":\"y\",\"type\":\"scatter\"},{\"hoverinfo\":\"text\",\"marker\":{\"color\":\"rgb(0,116,217)\"},\"mode\":\"lines\",\"x\":[0.0,1.1299437673217512,1.1299437673217512,0.0],\"xaxis\":\"x\",\"y\":[-10615.0,-10615.0,-10625.0,-10625.0],\"yaxis\":\"y\",\"type\":\"scatter\"},{\"hoverinfo\":\"text\",\"marker\":{\"color\":\"rgb(0,116,217)\"},\"mode\":\"lines\",\"x\":[0.0,1.4828110931568161,1.4828110931568161,0.0],\"xaxis\":\"x\",\"y\":[-10635.0,-10635.0,-10645.0,-10645.0],\"yaxis\":\"y\",\"type\":\"scatter\"},{\"hoverinfo\":\"text\",\"marker\":{\"color\":\"rgb(0,116,217)\"},\"mode\":\"lines\",\"x\":[1.1299437673217512,1.5373602205853487,1.5373602205853487,1.4828110931568161],\"xaxis\":\"x\",\"y\":[-10620.0,-10620.0,-10640.0,-10640.0],\"yaxis\":\"y\",\"type\":\"scatter\"},{\"hoverinfo\":\"text\",\"marker\":{\"color\":\"rgb(0,116,217)\"},\"mode\":\"lines\",\"x\":[1.2703609860798872,1.9362874591619654,1.9362874591619654,1.5373602205853487],\"xaxis\":\"x\",\"y\":[-10600.0,-10600.0,-10630.0,-10630.0],\"yaxis\":\"y\",\"type\":\"scatter\"},{\"hoverinfo\":\"text\",\"marker\":{\"color\":\"rgb(0,116,217)\"},\"mode\":\"lines\",\"x\":[0.0,1.0023552029149794,1.0023552029149794,0.0],\"xaxis\":\"x\",\"y\":[-10655.0,-10655.0,-10665.0,-10665.0],\"yaxis\":\"y\",\"type\":\"scatter\"},{\"hoverinfo\":\"text\",\"marker\":{\"color\":\"rgb(0,116,217)\"},\"mode\":\"lines\",\"x\":[0.0,1.1815105738909457,1.1815105738909457,0.0],\"xaxis\":\"x\",\"y\":[-10675.0,-10675.0,-10685.0,-10685.0],\"yaxis\":\"y\",\"type\":\"scatter\"},{\"hoverinfo\":\"text\",\"marker\":{\"color\":\"rgb(0,116,217)\"},\"mode\":\"lines\",\"x\":[1.0023552029149794,2.160856965116199,2.160856965116199,1.1815105738909457],\"xaxis\":\"x\",\"y\":[-10660.0,-10660.0,-10680.0,-10680.0],\"yaxis\":\"y\",\"type\":\"scatter\"},{\"hoverinfo\":\"text\",\"marker\":{\"color\":\"rgb(0,116,217)\"},\"mode\":\"lines\",\"x\":[1.9362874591619654,2.699725581636323,2.699725581636323,2.160856965116199],\"xaxis\":\"x\",\"y\":[-10615.0,-10615.0,-10670.0,-10670.0],\"yaxis\":\"y\",\"type\":\"scatter\"},{\"hoverinfo\":\"text\",\"marker\":{\"color\":\"rgb(0,116,217)\"},\"mode\":\"lines\",\"x\":[2.67975074695391,3.6020789459466345,3.6020789459466345,2.699725581636323],\"xaxis\":\"x\",\"y\":[-10547.1875,-10547.1875,-10642.5,-10642.5],\"yaxis\":\"y\",\"type\":\"scatter\"},{\"hoverinfo\":\"text\",\"marker\":{\"color\":\"rgb(255,220,0)\"},\"mode\":\"lines\",\"x\":[0.0,0.7920172708862624,0.7920172708862624,0.0],\"xaxis\":\"x\",\"y\":[-10705.0,-10705.0,-10715.0,-10715.0],\"yaxis\":\"y\",\"type\":\"scatter\"},{\"hoverinfo\":\"text\",\"marker\":{\"color\":\"rgb(0,116,217)\"},\"mode\":\"lines\",\"x\":[0.0,1.6697441717572552,1.6697441717572552,0.7920172708862624],\"xaxis\":\"x\",\"y\":[-10695.0,-10695.0,-10710.0,-10710.0],\"yaxis\":\"y\",\"type\":\"scatter\"},{\"hoverinfo\":\"text\",\"marker\":{\"color\":\"rgb(0,116,217)\"},\"mode\":\"lines\",\"x\":[0.0,1.4029481078060488,1.4029481078060488,0.0],\"xaxis\":\"x\",\"y\":[-10735.0,-10735.0,-10745.0,-10745.0],\"yaxis\":\"y\",\"type\":\"scatter\"},{\"hoverinfo\":\"text\",\"marker\":{\"color\":\"rgb(0,116,217)\"},\"mode\":\"lines\",\"x\":[0.0,1.6179522109405629,1.6179522109405629,1.4029481078060488],\"xaxis\":\"x\",\"y\":[-10725.0,-10725.0,-10740.0,-10740.0],\"yaxis\":\"y\",\"type\":\"scatter\"},{\"hoverinfo\":\"text\",\"marker\":{\"color\":\"rgb(0,116,217)\"},\"mode\":\"lines\",\"x\":[0.0,1.1087079770084143,1.1087079770084143,0.0],\"xaxis\":\"x\",\"y\":[-10755.0,-10755.0,-10765.0,-10765.0],\"yaxis\":\"y\",\"type\":\"scatter\"},{\"hoverinfo\":\"text\",\"marker\":{\"color\":\"rgb(0,116,217)\"},\"mode\":\"lines\",\"x\":[0.0,1.1464098347191305,1.1464098347191305,0.0],\"xaxis\":\"x\",\"y\":[-10775.0,-10775.0,-10785.0,-10785.0],\"yaxis\":\"y\",\"type\":\"scatter\"},{\"hoverinfo\":\"text\",\"marker\":{\"color\":\"rgb(0,116,217)\"},\"mode\":\"lines\",\"x\":[1.1087079770084143,1.6542416439791052,1.6542416439791052,1.1464098347191305],\"xaxis\":\"x\",\"y\":[-10760.0,-10760.0,-10780.0,-10780.0],\"yaxis\":\"y\",\"type\":\"scatter\"},{\"hoverinfo\":\"text\",\"marker\":{\"color\":\"rgb(0,116,217)\"},\"mode\":\"lines\",\"x\":[1.6179522109405629,2.4354518793899964,2.4354518793899964,1.6542416439791052],\"xaxis\":\"x\",\"y\":[-10732.5,-10732.5,-10770.0,-10770.0],\"yaxis\":\"y\",\"type\":\"scatter\"},{\"hoverinfo\":\"text\",\"marker\":{\"color\":\"rgb(0,116,217)\"},\"mode\":\"lines\",\"x\":[1.6697441717572552,2.700863447994564,2.700863447994564,2.4354518793899964],\"xaxis\":\"x\",\"y\":[-10702.5,-10702.5,-10751.25,-10751.25],\"yaxis\":\"y\",\"type\":\"scatter\"},{\"hoverinfo\":\"text\",\"marker\":{\"color\":\"rgb(0,116,217)\"},\"mode\":\"lines\",\"x\":[0.0,1.3454549480209892,1.3454549480209892,0.0],\"xaxis\":\"x\",\"y\":[-10825.0,-10825.0,-10835.0,-10835.0],\"yaxis\":\"y\",\"type\":\"scatter\"},{\"hoverinfo\":\"text\",\"marker\":{\"color\":\"rgb(0,116,217)\"},\"mode\":\"lines\",\"x\":[0.0,1.4440643978368664,1.4440643978368664,1.3454549480209892],\"xaxis\":\"x\",\"y\":[-10815.0,-10815.0,-10830.0,-10830.0],\"yaxis\":\"y\",\"type\":\"scatter\"},{\"hoverinfo\":\"text\",\"marker\":{\"color\":\"rgb(0,116,217)\"},\"mode\":\"lines\",\"x\":[0.0,1.5665455921715252,1.5665455921715252,1.4440643978368664],\"xaxis\":\"x\",\"y\":[-10805.0,-10805.0,-10822.5,-10822.5],\"yaxis\":\"y\",\"type\":\"scatter\"},{\"hoverinfo\":\"text\",\"marker\":{\"color\":\"rgb(0,116,217)\"},\"mode\":\"lines\",\"x\":[0.0,1.9988077926932317,1.9988077926932317,1.5665455921715252],\"xaxis\":\"x\",\"y\":[-10795.0,-10795.0,-10813.75,-10813.75],\"yaxis\":\"y\",\"type\":\"scatter\"},{\"hoverinfo\":\"text\",\"marker\":{\"color\":\"rgb(0,116,217)\"},\"mode\":\"lines\",\"x\":[0.0,1.4239911124816662,1.4239911124816662,0.0],\"xaxis\":\"x\",\"y\":[-10855.0,-10855.0,-10865.0,-10865.0],\"yaxis\":\"y\",\"type\":\"scatter\"},{\"hoverinfo\":\"text\",\"marker\":{\"color\":\"rgb(0,116,217)\"},\"mode\":\"lines\",\"x\":[0.0,1.7980393716737035,1.7980393716737035,1.4239911124816662],\"xaxis\":\"x\",\"y\":[-10845.0,-10845.0,-10860.0,-10860.0],\"yaxis\":\"y\",\"type\":\"scatter\"},{\"hoverinfo\":\"text\",\"marker\":{\"color\":\"rgb(0,116,217)\"},\"mode\":\"lines\",\"x\":[0.0,1.185736080897706,1.185736080897706,0.0],\"xaxis\":\"x\",\"y\":[-10875.0,-10875.0,-10885.0,-10885.0],\"yaxis\":\"y\",\"type\":\"scatter\"},{\"hoverinfo\":\"text\",\"marker\":{\"color\":\"rgb(0,116,217)\"},\"mode\":\"lines\",\"x\":[0.0,1.461636216032538,1.461636216032538,0.0],\"xaxis\":\"x\",\"y\":[-10905.0,-10905.0,-10915.0,-10915.0],\"yaxis\":\"y\",\"type\":\"scatter\"},{\"hoverinfo\":\"text\",\"marker\":{\"color\":\"rgb(0,116,217)\"},\"mode\":\"lines\",\"x\":[0.0,1.6163866471873412,1.6163866471873412,1.461636216032538],\"xaxis\":\"x\",\"y\":[-10895.0,-10895.0,-10910.0,-10910.0],\"yaxis\":\"y\",\"type\":\"scatter\"},{\"hoverinfo\":\"text\",\"marker\":{\"color\":\"rgb(0,116,217)\"},\"mode\":\"lines\",\"x\":[1.185736080897706,1.9119359003298,1.9119359003298,1.6163866471873412],\"xaxis\":\"x\",\"y\":[-10880.0,-10880.0,-10902.5,-10902.5],\"yaxis\":\"y\",\"type\":\"scatter\"},{\"hoverinfo\":\"text\",\"marker\":{\"color\":\"rgb(0,116,217)\"},\"mode\":\"lines\",\"x\":[1.7980393716737035,2.371315779938247,2.371315779938247,1.9119359003298],\"xaxis\":\"x\",\"y\":[-10852.5,-10852.5,-10891.25,-10891.25],\"yaxis\":\"y\",\"type\":\"scatter\"},{\"hoverinfo\":\"text\",\"marker\":{\"color\":\"rgb(0,116,217)\"},\"mode\":\"lines\",\"x\":[1.9988077926932317,3.173319465337939,3.173319465337939,2.371315779938247],\"xaxis\":\"x\",\"y\":[-10804.375,-10804.375,-10871.875,-10871.875],\"yaxis\":\"y\",\"type\":\"scatter\"},{\"hoverinfo\":\"text\",\"marker\":{\"color\":\"rgb(0,116,217)\"},\"mode\":\"lines\",\"x\":[2.700863447994564,3.867575964132533,3.867575964132533,3.173319465337939],\"xaxis\":\"x\",\"y\":[-10726.875,-10726.875,-10838.125,-10838.125],\"yaxis\":\"y\",\"type\":\"scatter\"},{\"hoverinfo\":\"text\",\"marker\":{\"color\":\"rgb(0,116,217)\"},\"mode\":\"lines\",\"x\":[3.6020789459466345,4.789867627626733,4.789867627626733,3.867575964132533],\"xaxis\":\"x\",\"y\":[-10594.84375,-10594.84375,-10782.5,-10782.5],\"yaxis\":\"y\",\"type\":\"scatter\"},{\"hoverinfo\":\"text\",\"marker\":{\"color\":\"rgb(0,116,217)\"},\"mode\":\"lines\",\"x\":[3.467211300227209,5.396233821680459,5.396233821680459,4.789867627626733],\"xaxis\":\"x\",\"y\":[-10439.375,-10439.375,-10688.671875,-10688.671875],\"yaxis\":\"y\",\"type\":\"scatter\"},{\"hoverinfo\":\"text\",\"marker\":{\"color\":\"rgb(40,35,35)\"},\"mode\":\"lines\",\"x\":[0.0,0.8429750819121765,0.8429750819121765,0.0],\"xaxis\":\"x\",\"y\":[-10935.0,-10935.0,-10945.0,-10945.0],\"yaxis\":\"y\",\"type\":\"scatter\"},{\"hoverinfo\":\"text\",\"marker\":{\"color\":\"rgb(0,116,217)\"},\"mode\":\"lines\",\"x\":[0.0,1.107085173395809,1.107085173395809,0.8429750819121765],\"xaxis\":\"x\",\"y\":[-10925.0,-10925.0,-10940.0,-10940.0],\"yaxis\":\"y\",\"type\":\"scatter\"},{\"hoverinfo\":\"text\",\"marker\":{\"color\":\"rgb(0,116,217)\"},\"mode\":\"lines\",\"x\":[0.0,1.432699569158985,1.432699569158985,0.0],\"xaxis\":\"x\",\"y\":[-10955.0,-10955.0,-10965.0,-10965.0],\"yaxis\":\"y\",\"type\":\"scatter\"},{\"hoverinfo\":\"text\",\"marker\":{\"color\":\"rgb(0,116,217)\"},\"mode\":\"lines\",\"x\":[1.107085173395809,2.027270218763824,2.027270218763824,1.432699569158985],\"xaxis\":\"x\",\"y\":[-10932.5,-10932.5,-10960.0,-10960.0],\"yaxis\":\"y\",\"type\":\"scatter\"},{\"hoverinfo\":\"text\",\"marker\":{\"color\":\"rgb(61,153,112)\"},\"mode\":\"lines\",\"x\":[0.0,0.9986063005265262,0.9986063005265262,0.0],\"xaxis\":\"x\",\"y\":[-10985.0,-10985.0,-10995.0,-10995.0],\"yaxis\":\"y\",\"type\":\"scatter\"},{\"hoverinfo\":\"text\",\"marker\":{\"color\":\"rgb(0,116,217)\"},\"mode\":\"lines\",\"x\":[0.0,1.0168335564667892,1.0168335564667892,0.0],\"xaxis\":\"x\",\"y\":[-11015.0,-11015.0,-11025.0,-11025.0],\"yaxis\":\"y\",\"type\":\"scatter\"},{\"hoverinfo\":\"text\",\"marker\":{\"color\":\"rgb(0,116,217)\"},\"mode\":\"lines\",\"x\":[0.0,1.4228030909114167,1.4228030909114167,1.0168335564667892],\"xaxis\":\"x\",\"y\":[-11005.0,-11005.0,-11020.0,-11020.0],\"yaxis\":\"y\",\"type\":\"scatter\"},{\"hoverinfo\":\"text\",\"marker\":{\"color\":\"rgb(0,116,217)\"},\"mode\":\"lines\",\"x\":[0.9986063005265262,1.6445895642871997,1.6445895642871997,1.4228030909114167],\"xaxis\":\"x\",\"y\":[-10990.0,-10990.0,-11012.5,-11012.5],\"yaxis\":\"y\",\"type\":\"scatter\"},{\"hoverinfo\":\"text\",\"marker\":{\"color\":\"rgb(0,116,217)\"},\"mode\":\"lines\",\"x\":[0.0,2.1348297228513187,2.1348297228513187,1.6445895642871997],\"xaxis\":\"x\",\"y\":[-10975.0,-10975.0,-11001.25,-11001.25],\"yaxis\":\"y\",\"type\":\"scatter\"},{\"hoverinfo\":\"text\",\"marker\":{\"color\":\"rgb(0,116,217)\"},\"mode\":\"lines\",\"x\":[2.027270218763824,2.901865145077236,2.901865145077236,2.1348297228513187],\"xaxis\":\"x\",\"y\":[-10946.25,-10946.25,-10988.125,-10988.125],\"yaxis\":\"y\",\"type\":\"scatter\"},{\"hoverinfo\":\"text\",\"marker\":{\"color\":\"rgb(0,116,217)\"},\"mode\":\"lines\",\"x\":[0.0,1.257514396858386,1.257514396858386,0.0],\"xaxis\":\"x\",\"y\":[-11035.0,-11035.0,-11045.0,-11045.0],\"yaxis\":\"y\",\"type\":\"scatter\"},{\"hoverinfo\":\"text\",\"marker\":{\"color\":\"rgb(0,116,217)\"},\"mode\":\"lines\",\"x\":[0.0,1.0614875012499092,1.0614875012499092,0.0],\"xaxis\":\"x\",\"y\":[-11065.0,-11065.0,-11075.0,-11075.0],\"yaxis\":\"y\",\"type\":\"scatter\"},{\"hoverinfo\":\"text\",\"marker\":{\"color\":\"rgb(0,116,217)\"},\"mode\":\"lines\",\"x\":[0.0,1.3980333914540863,1.3980333914540863,1.0614875012499092],\"xaxis\":\"x\",\"y\":[-11055.0,-11055.0,-11070.0,-11070.0],\"yaxis\":\"y\",\"type\":\"scatter\"},{\"hoverinfo\":\"text\",\"marker\":{\"color\":\"rgb(0,116,217)\"},\"mode\":\"lines\",\"x\":[1.257514396858386,2.004126659064617,2.004126659064617,1.3980333914540863],\"xaxis\":\"x\",\"y\":[-11040.0,-11040.0,-11062.5,-11062.5],\"yaxis\":\"y\",\"type\":\"scatter\"},{\"hoverinfo\":\"text\",\"marker\":{\"color\":\"rgb(255,65,54)\"},\"mode\":\"lines\",\"x\":[0.0,0.9147357846458418,0.9147357846458418,0.0],\"xaxis\":\"x\",\"y\":[-11105.0,-11105.0,-11115.0,-11115.0],\"yaxis\":\"y\",\"type\":\"scatter\"},{\"hoverinfo\":\"text\",\"marker\":{\"color\":\"rgb(0,116,217)\"},\"mode\":\"lines\",\"x\":[0.0,1.351355014365364,1.351355014365364,0.9147357846458418],\"xaxis\":\"x\",\"y\":[-11095.0,-11095.0,-11110.0,-11110.0],\"yaxis\":\"y\",\"type\":\"scatter\"},{\"hoverinfo\":\"text\",\"marker\":{\"color\":\"rgb(0,116,217)\"},\"mode\":\"lines\",\"x\":[0.0,1.7366950081998656,1.7366950081998656,1.351355014365364],\"xaxis\":\"x\",\"y\":[-11085.0,-11085.0,-11102.5,-11102.5],\"yaxis\":\"y\",\"type\":\"scatter\"},{\"hoverinfo\":\"text\",\"marker\":{\"color\":\"rgb(35,205,205)\"},\"mode\":\"lines\",\"x\":[0.0,0.8713919971577877,0.8713919971577877,0.0],\"xaxis\":\"x\",\"y\":[-11125.0,-11125.0,-11135.0,-11135.0],\"yaxis\":\"y\",\"type\":\"scatter\"},{\"hoverinfo\":\"text\",\"marker\":{\"color\":\"rgb(0,116,217)\"},\"mode\":\"lines\",\"x\":[0.0,1.1052880277751227,1.1052880277751227,0.0],\"xaxis\":\"x\",\"y\":[-11155.0,-11155.0,-11165.0,-11165.0],\"yaxis\":\"y\",\"type\":\"scatter\"},{\"hoverinfo\":\"text\",\"marker\":{\"color\":\"rgb(0,116,217)\"},\"mode\":\"lines\",\"x\":[0.0,1.4431234704792055,1.4431234704792055,1.1052880277751227],\"xaxis\":\"x\",\"y\":[-11145.0,-11145.0,-11160.0,-11160.0],\"yaxis\":\"y\",\"type\":\"scatter\"},{\"hoverinfo\":\"text\",\"marker\":{\"color\":\"rgb(0,116,217)\"},\"mode\":\"lines\",\"x\":[0.8713919971577877,1.9063450402927515,1.9063450402927515,1.4431234704792055],\"xaxis\":\"x\",\"y\":[-11130.0,-11130.0,-11152.5,-11152.5],\"yaxis\":\"y\",\"type\":\"scatter\"},{\"hoverinfo\":\"text\",\"marker\":{\"color\":\"rgb(0,116,217)\"},\"mode\":\"lines\",\"x\":[1.7366950081998656,2.395896548402784,2.395896548402784,1.9063450402927515],\"xaxis\":\"x\",\"y\":[-11093.75,-11093.75,-11141.25,-11141.25],\"yaxis\":\"y\",\"type\":\"scatter\"},{\"hoverinfo\":\"text\",\"marker\":{\"color\":\"rgb(0,116,217)\"},\"mode\":\"lines\",\"x\":[2.004126659064617,3.105917384995441,3.105917384995441,2.395896548402784],\"xaxis\":\"x\",\"y\":[-11051.25,-11051.25,-11117.5,-11117.5],\"yaxis\":\"y\",\"type\":\"scatter\"},{\"hoverinfo\":\"text\",\"marker\":{\"color\":\"rgb(0,116,217)\"},\"mode\":\"lines\",\"x\":[2.901865145077236,6.919342314219935,6.919342314219935,3.105917384995441],\"xaxis\":\"x\",\"y\":[-10967.1875,-10967.1875,-11084.375,-11084.375],\"yaxis\":\"y\",\"type\":\"scatter\"},{\"hoverinfo\":\"text\",\"marker\":{\"color\":\"rgb(0,116,217)\"},\"mode\":\"lines\",\"x\":[5.396233821680459,9.88855762824686,9.88855762824686,6.919342314219935],\"xaxis\":\"x\",\"y\":[-10564.0234375,-10564.0234375,-11025.78125,-11025.78125],\"yaxis\":\"y\",\"type\":\"scatter\"},{\"hoverinfo\":\"text\",\"marker\":{\"color\":\"rgb(0,116,217)\"},\"mode\":\"lines\",\"x\":[7.096027552268936,12.081432010668799,12.081432010668799,9.88855762824686],\"xaxis\":\"x\",\"y\":[-9725.087890625,-9725.087890625,-10794.90234375,-10794.90234375],\"yaxis\":\"y\",\"type\":\"scatter\"},{\"hoverinfo\":\"text\",\"marker\":{\"color\":\"rgb(0,116,217)\"},\"mode\":\"lines\",\"x\":[7.7912889349569845,13.220563979766895,13.220563979766895,12.081432010668799],\"xaxis\":\"x\",\"y\":[-8872.734375,-8872.734375,-10259.9951171875,-10259.9951171875],\"yaxis\":\"y\",\"type\":\"scatter\"},{\"hoverinfo\":\"text\",\"marker\":{\"color\":\"rgb(0,116,217)\"},\"mode\":\"lines\",\"x\":[8.547207404443952,18.732551797769492,18.732551797769492,13.220563979766895],\"xaxis\":\"x\",\"y\":[-7701.787109375,-7701.787109375,-9566.36474609375,-9566.36474609375],\"yaxis\":\"y\",\"type\":\"scatter\"},{\"hoverinfo\":\"text\",\"marker\":{\"color\":\"rgb(0,116,217)\"},\"mode\":\"lines\",\"x\":[18.1024854260539,30.809342481943283,30.809342481943283,18.732551797769492],\"xaxis\":\"x\",\"y\":[-4824.9755859375,-4824.9755859375,-8634.075927734375,-8634.075927734375],\"yaxis\":\"y\",\"type\":\"scatter\"},{\"hoverinfo\":\"text\",\"marker\":{\"color\":\"rgb(0,116,217)\"},\"mode\":\"lines\",\"x\":[25.995533969902155,56.78511202655897,56.78511202655897,30.809342481943283],\"xaxis\":\"x\",\"y\":[-1162.1575927734375,-1162.1575927734375,-6729.5257568359375,-6729.5257568359375],\"yaxis\":\"y\",\"type\":\"scatter\"}],                        {\"autosize\":false,\"height\":16955,\"hovermode\":\"closest\",\"showlegend\":false,\"width\":1000,\"xaxis\":{\"mirror\":\"allticks\",\"rangemode\":\"tozero\",\"showgrid\":false,\"showline\":true,\"showticklabels\":true,\"ticks\":\"outside\",\"type\":\"linear\",\"zeroline\":false},\"yaxis\":{\"mirror\":\"allticks\",\"rangemode\":\"tozero\",\"showgrid\":false,\"showline\":true,\"showticklabels\":true,\"tickmode\":\"array\",\"ticks\":\"outside\",\"ticktext\":[\"230_1mdb_najib_mahathir\",\"189_duterte_philippines_phi...\",\"321_mugabe_zimbabwe_mnangagwa\",\"705_sri_lanka_rajapaksa\",\"781_widodo_jokowi_indonesias\",\"889_kenyatta_morenoocampo_o...\",\"934_nazarbayev_aliyev_soviet\",\"84_putin_russia_russian\",\"179_russian_ukraine_moscow\",\"1066_zelenskiy_kolomoisky_p...\",\"220_polish_zlotys_polands\",\"568_orban_hungary_fidesz\",\"385_crimea_ukraine_ukrainian\",\"413_cyprus_turkey_turkish\",\"106_syrian_aleppo_syria\",\"184_turkey_turkish_syria\",\"752_kurdish_kurds_kirkuk\",\"250_bouteflika_algeria_algi...\",\"770_abiy_eritrea_ethiopia\",\"209_sudan_sudans_kiir\",\"387_egypts_egyptian_egypt\",\"406_sisi_egypt_egyptian\",\"369_pakistan_sharif_pakistans\",\"535_pakistan_kashmir_india\",\"26_saudi_dubai_aramco\",\"915_saudi_arabia_bahraini\",\"142_cuba_cuban_havana\",\"442_kosovo_bosnian_serb\",\"552_burundian_burundi_congo\",\"625_qatar_arab_doha\",\"232_lebanon_lebanons_hariri\",\"914_hezbollah_lebanon_leban...\",\"367_holocaust_jews_jewish\",\"55_israel_palestinian_pales...\",\"492_gaza_hamas_israeli\",\"792_syrian_ceasefire_lavrov\",\"910_syria_syrian_assad\",\"449_tripoli_libya_haftar\",\"814_sinai_militants_egyptian\",\"1063_refugees_syrians_bushra\",\"182_mosul_iraqi_isis\",\"746_isis_syria_aljayab\",\"42_iran_nuclear_sanctions\",\"610_irans_iran_iranian\",\"464_saudi_yemen_arabia\",\"511_saudi_iran_arabia\",\"351_nato_sanger_defense\",\"1115_nato_baltic_poland\",\"96_turkish_erdogan_turkey\",\"459_pkk_turkey_turkish\",\"143_lira_turkish_turkeys\",\"739_turkey_s400_ankara\",\"416_catalan_catalonia_puigd...\",\"1020_scotland_scottish_stur...\",\"412_caravan_guatemala_asylum\",\"443_mexico_mexican_tariffs\",\"285_migrants_libya_boat\",\"694_greece_migrants_lesbos\",\"114_greece_greeces_greek\",\"1024_asylum_migrants_refugees\",\"58_hong_kong_protesters\",\"921_cathay_hong_kong\",\"150_hong_kong_listing\",\"117_tencent_alibaba_baidu\",\"311_liu_chinese_hu\",\"410_korea_korean_kim\",\"8_korea_north_korean\",\"683_north_korean_korea\",\"595_taiwan_tsai_taiwans\",\"773_taiwan_tsai_china\",\"149_sea_china_taiwan\",\"468_south_japan_korean\",\"192_nigeria_buhari_nigerias\",\"92_saudi_khashoggi_prince\",\"178_yemen_houthis_houthi\",\"601_mogadishu_somalia_shabaab\",\"349_delhi_india_hindu\",\"646_modi_bjp_hindu\",\"707_xinjiang_uighurs_uighur\",\"542_nauru_jakarta_indonesia\",\"284_rohingya_myanmar_suu\",\"1074_bangladesh_dhaka_islamic\",\"384_nassar_gymnastics_nassars\",\"444_rahami_bomb_bombs\",\"374_nakesha_diary_nakeshas\",\"1052_khan_khizr_khans\",\"588_baht_thailand_thai\",\"494_thaksin_thai_junta\",\"559_cambodia_hun_phnom\",\"308_palm_indonesia_malaysia\",\"748_eskom_ramaphosa_rand\",\"395_sri_rupee_rupees\",\"437_shillings_shilling_kenya\",\"223_drone_drones_dji\",\"45_flight_plane_passengers\",\"177_airbus_aircraft_jets\",\"152_uber_drivers_lyft\",\"403_lyft_uber_lyfts\",\"1017_harleydavidson_motorcy...\",\"1116_bikes_bike_ebikes\",\"90_tagclick_html5_browser\",\"599_javascript_oops_browser\",\"905_javascript_oops_browser\",\"651_charging_charger_usbc\",\"508_ps4_playstation_xbox\",\"71_vr_oculus_virtual\",\"745_gopro_hero_hero7\",\"615_satellites_satellite_sp...\",\"698_maps_google_map\",\"99_5g_tmobile_sprint\",\"108_huawei_5g_equipment\",\"36_malware_hackers_kaspersky\",\"970_pinterest_pins_pin\",\"961_dropbox_dropboxs_revenue\",\"981_linkedin_microsoft_micr...\",\"111_headphones_earbuds_airp...\",\"74_fitbit_watch_smartwatch\",\"81_spotify_music_streaming\",\"433_qualcomm_nokia_qualcomms\",\"518_patent_patents_virnetx\",\"583_qualcomm_broadcom_nxp\",\"844_quantum_qubits_computing\",\"49_bitcoin_cryptocurrency_b...\",\"740_equifax_breach_credit\",\"604_password_passwords_auth...\",\"493_whatsapp_encryption_mes...\",\"880_vpn_vpns_wifi\",\"1008_edt_pm_est\",\"1040_customercarenytimescom...\",\"269_airbnb_hosts_homesharing\",\"952_tickets_ticket_ticketma...\",\"673_antibiotics_antibiotic_...\",\"222_measles_vaccine_vaccines\",\"386_hiv_aids_syphilis\",\"643_no__\",\"1043_breakingviews_wwwbreak...\",\"21_tax_taxes_deduction\",\"253_returns_tax_irs\",\"275_yield_10year_yields\",\"522_biofuels_ethanol_refiners\",\"807_epa_methane_emissions\",\"761_chernobyl_radiation_rea...\",\"874_fukushima_tepco_reactors\",\"504_wedding_weddings_bride\",\"105_orchestra_opera_music\",\"157_ballet_dance_dancers\",\"597_valentines_flowers_roses\",\"878_menstrual_tampons_tampon\",\"237_shoes_shoe_sneakers\",\"1030_nail_nails_polish\",\"303_sleep_asleep_bed\",\"859_anxiety_anxious_disorders\",\"415_emoji_unicode_emojis\",\"1009_hyperloop_hyperloops_t...\",\"551_climbers_everest_climbing\",\"414_earthquake_quake_earthq...\",\"334_snow_weather_storm\",\"695_tornado_tornadoes_flood...\",\"396_farmers_farm_agriculture\",\"653_homeless_homelessness_h...\",\"147_tobacco_ecigarettes_vap...\",\"68_opioid_drug_addiction\",\"154_marijuana_cannabis_recr...\",\"938_psilocybin_psychedelics...\",\"812_valeant_valeants_pearson\",\"487_wine_wines_grapes\",\"110_coffee_starbucks_brew\",\"199_beer_drink_bourbon\",\"166_zika_virus_microcephaly\",\"274_ebola_malaria_outbreak\",\"819_flu_influenza_h3n2\",\"833_fat_fats_saturated\",\"891_sweeteners_sugar_saccha...\",\"109_abortion_abortions_clin...\",\"715_embryos_crispr_gene\",\"1082_enzymes_eugenics_ginkgo\",\"198_abortion_parenthood_roe\",\"735_breastfeeding_breast_milk\",\"1011_births_birth_fertility\",\"2_drug_patients_drugs\",\"830_patients_ai_autism\",\"340_cancer_breast_cells\",\"544_cancer_patients_colon\",\"898_flu_poultry_bird\",\"1045_swine_fever_pigs\",\"4_coronavirus_virus_outbreak\",\"362_romaine_recall_lettuce\",\"30_gun_nra_guns\",\"1044_shootings_gun_mass\",\"697_cannabis_marijuana_canopy\",\"731_vaping_lung_acetate\",\"890_alcohol_drinking_breast\",\"871_suicide_prevention_suic...\",\"892_death_dying_junipero\",\"188_climate_warming_change\",\"847_climate_green_energy\",\"1092_climate_carbon_emissions\",\"411_exercise_weight_bone\",\"567_workout_weight_body\",\"741_obesity_aspirin_cardiov...\",\"864_fasting_keto_eating\",\"187_plastic_plastics_straws\",\"541_milk_labeling_gmo\",\"841_pedestrians_traffic_fat...\",\"85_robot_robots_robotics\",\"946_lego_bricks_goldin\",\"168_tinder_dating_match\",\"259_sex_orgasm_partner\",\"66_women_female_gender\",\"309_women_female_candidates\",\"129_transgender_gender_bath...\",\"357_pride_gay_stonewall\",\"736_hazing_fraternity_stanf...\",\"582_students_schools_spiegel\",\"858_students_school_schools\",\"1065_dominos_pizza_delivery\",\"851_apron_blue_aprons\",\"1058_mattress_casper_foam\",\"380_cruise_ship_passengers\",\"738_hotels_starwood_hilton\",\"101_spacex_rocket_falcon\",\"821_trek_star_spock\",\"249_musk_tesla_musks\",\"788_boring_tunnel_musk\",\"162_subway_train_byford\",\"652_lottery_jackpot_powerball\",\"620_vacuum_dyson_robot\",\"702_nest_cam_camera\",\"903_rigs_drilling_rig\",\"566_scooters_scooter_bird\",\"840_caterpillar_deere_umpleby\",\"29_marvel_movie_spiderman\",\"124_swift_swifts_taylor\",\"1090_overwatch_lcio_goats\",\"772_disney_disneyland_parks\",\"64_theater_broadway_musical\",\"1_art_museum_artists\",\"11_book_novel_books\",\"245_mcdonalds_burger_homeco...\",\"723_taco_meatloaf_hamburgers\",\"13_cooking_recipe_restaurant\",\"831_blender_kitchenaid_mixer\",\"710_chipotle_queso_chipotles\",\"1104_taco_tacos_bell\",\"233_wheat_corn_soybeans\",\"959_argentina_soybeans_grains\",\"404_amazon_bezos_amazons\",\"483_sears_lampert_esl\",\"60_amazon_walmart_stores\",\"732_macys_stores_malls\",\"474_wynn_casino_resorts\",\"1060_casinos_casino_gambling\",\"1007_walgreens_rite_pharmacy\",\"333_ikea_furniture_inter\",\"972_hotels_hotel_rooms\",\"445_cramer_stock_mad\",\"942_bloomberg_bloombergs_ma...\",\"35_venture_startup_startups\",\"293_wework_neumann_weworks\",\"490_ge_ges_welch\",\"296_pruitt_epa_pruitts\",\"968_frc_kpmg_auditing\",\"947_slack_workspace_slacks\",\"408_snapchat_snap_snapchats\",\"479_snap_snaps_snapchat\",\"576_tiktok_tiktoks_bytedance\",\"870_zte_ztes_compliance\",\"360_epstein_epsteins_acosta\",\"836_yeah_think_you\",\"976_temperature_warmest_deg...\",\"971_nike_nikes_revenue\",\"10_fashion_wear_dress\",\"728_armour_lululemon_plank\",\"751_takata_inflators_airbags\",\"999_arcelormittal_ilva_steel\",\"549_libra_cryptocurrency_fa...\",\"769_jewelry_neuwirth_eleuteri\",\"135_bayer_monsanto_glyphosate\",\"607_tattoo_tattoos_lukas\",\"619_dna_23andme_genetic\",\"388_cosby_constand_cosbys\",\"754_winfrey_oprah_winfreys\",\"980_deadpool_reynolds_wade\",\"59_thrones_jon_cersei\",\"381_cyrus_miley_hemsworth\",\"205_bieber_justin_hailey\",\"56_bachelor_bachelorette_pa...\",\"988_carey_mariah_careys\",\"843_bowie_bowies_blackstar\",\"866_meek_mill_meeks\",\"865_sesame_muppets_henson\",\"1110_timberlake_timberlakes...\",\"501_cricket_rugby_players\",\"53_ufc_fight_mcgregor\",\"762_ali_alis_muhammad\",\"63_graduated_grooms_brides\",\"144_wedding_graduated_married\",\"3_innings_inning_runs\",\"12_yards_nfl_quarterback\",\"24_tennis_federer_match\",\"992_trebek_jeopardy_alex\",\"623_pitt_jolie_angelina\",\"725_derby_horse_jockey\",\"785_pope_francis_vatican\",\"383_priests_abuse_vatican\",\"982_pope_vatican_francis\",\"776_kushner_kushners_jared\",\"451_bannon_bannons_breitbart\",\"775_kasich_kasichs_ohio\",\"717_voters_undecided_democr...\",\"977_pelosi_caucus_pelosis\",\"80_sanders_clinton_bernie\",\"185_clinton_clintons_hillary\",\"133_manafort_manaforts_gates\",\"298_flynn_flynns_kislyak\",\"212_tillerson_tillersons_rex\",\"215_assange_wikileaks_manning\",\"532_trudeau_trudeaus_scheer\",\"587_netanyahu_gantz_likud\",\"787_flake_harwood_jeff\",\"837_corker_flake_corkers\",\"514_franken_frankens_tweeden\",\"600_pence_pences_mike\",\"54_cruz_rubio_ted\",\"190_mccain_mccains_arizona\",\"664_christie_christies_jersey\",\"928_schultz_starbucks_schul...\",\"793_solar_solarstorage_energy\",\"83_planets_telescope_earth\",\"572_eclipse_moon_solar\",\"540_mars_rover_martian\",\"446_space_nasa_astronauts\",\"657_apollo_moon_lunar\",\"593_ivory_rhino_rhinos\",\"370_dinosaurs_dinosaur_spec...\",\"701_homo_bones_dna\",\"1054_tuna_seafood_fish\",\"22_dog_dogs_pet\",\"528_bear_bears_polar\",\"315_shark_whales_whale\",\"867_coral_reefs_reef\",\"419_zoo_giraffe_zoos\",\"943_pandas_panda_zoo\",\"488_monsoon_rains_farmers\",\"78_hurricane_storm_winds\",\"91_fire_fires_wildfires\",\"318_lava_volcano_hawaii\",\"363_tsunami_typhoon_quake\",\"825_eruption_island_volcano\",\"246_evangelical_immigration...\",\"602_asylum_immigration_pers...\",\"1033_immigration_undocument...\",\"69_taliban_afghan_afghanistan\",\"678_afghanistan_taliban_afg...\",\"376_detainees_guantnamo_gua...\",\"839_vietjet_hanoi_vietnams\",\"816_harvard_admissions_harv...\",\"546_teachers_teacher_strike\",\"1077_campus_speech_campuses\",\"755_gerrymandering_district...\",\"505_veterans_va_military\",\"1106_disabilities_ada_disab...\",\"453_romney_utah_hatch\",\"299_iowa_caucus_caucuses\",\"1012_wisconsin_walker_dallet\",\"176_confederate_charlottesv...\",\"1049_klobuchar_klobuchars_n...\",\"316_execution_executions_de...\",\"461_prison_prisoners_inmates\",\"65_kavanaugh_kavanaughs_brett\",\"868_whistleblower_complaint...\",\"19_tariffs_china_trade\",\"204_growth_chinas_pmi\",\"276_japans_exports_economy\",\"486_german_economy_growth\",\"534_equivalence_eu_britain\",\"302_ubs_swiss_suisse\",\"882_italys_budget_italy\",\"675_barclays_sfo_jenkins\",\"305_anz_westpac_australias\",\"371_rba_australias_australia\",\"118_yuan_pboc_lending\",\"393_rupees_dhfl_pnb\",\"394_rbi_rajan_rupees\",\"608_flipkart_ecommerce_india\",\"254_tax_ireland_digital\",\"401_frankfurt_eu_brexit\",\"696_britain_eu_migration\",\"778_euro_zone_gdp\",\"164_ecb_ecbs_euro\",\"301_banks_euro_ecb\",\"27_pounds_britains_tesco\",\"221_boe_carney_inflation\",\"116_deutsche_bank_commerzbank\",\"638_pct_eurshr_german\",\"172_le_macron_pen\",\"1047_macron_french_europe\",\"699_brussels_albert_king\",\"822_brussels_laachraoui_bel...\",\"564_aker_norwegian_bp\",\"708_norways_fund_norwegian\",\"560_swiss_francs_zurich\",\"257_danske_laundering_eston...\",\"1029_banka_slovenias_ljublj...\",\"1078_pis_polands_warsaw\",\"612_privatbank_kiev_ukraines\",\"706_babis_zeman_czech\",\"279_reais_sa_paulo\",\"724_reais_temer_brasilia\",\"200_bolsonaro_brazils_temer\",\"1095_brazils_ibge_brazilian\",\"722_avianca_gol_brasil\",\"1103_dos_santos_angola\",\"288_petrobras_oil_petroleo\",\"671_farc_colombia_peace\",\"743_mexico_mexican_mexicos\",\"932_boldrini_segre_italian\",\"62_italian_dei_euros\",\"1075_italys_ciampi_salvini\",\"338_spanish_euros_ibex\",\"521_peso_inflation_latin\",\"450_meng_extradition_mengs\",\"930_trudeau_g7_canada\",\"1027_canadians_canada_refugee\",\"231_canadian_canada_canadas\",\"627_canadian_cibc_canadas\",\"139_alberta_pipeline_canadian\",\"704_lumber_softwood_steel\",\"76_roubles_rusal_moscow\",\"484_skripal_salisbury_nerve\",\"553_russia_putin_russian\",\"789_sanctions_russia_chabad\",\"879_saudi_arabia_guardianship\",\"217_tanker_iran_strait\",\"480_plane_iran_iranian\",\"283_chemical_assad_syria\",\"591_treaty_nuclear_russia\",\"611_telegram_internet_durov\",\"885_noc_libyas_ports\",\"579_macron_1968_protests\",\"734_paris_french_police\",\"136_attack_police_london\",\"681_charlottesville_violenc...\",\"5_brexit_eu_britain\",\"251_visit_khan_london\",\"216_spd_merkel_afd\",\"356_german_germany_berlin\",\"838_jet_airline_carrier\",\"862_mh370_search_plane\",\"1108_etihad_airline_flybe\",\"555_lufthansa_eurowings_ber...\",\"1021_alitalia_lufthansa_fer...\",\"342_boj_kuroda_bojs\",\"679_abe_fiscal_yen\",\"912_abe_ldp_abes\",\"247_nikkei_topix_yen\",\"586_nikkei_kobe_steel\",\"452_ghosn_nissan_ghosns\",\"716_abe_emperor_japan\",\"958_russian_navy_aircraft\",\"979_hiroshima_sailors_mccain\",\"609_submarine_australia_faro\",\"614_land_rights_thomson\",\"500_rupiah_bi_indonesias\",\"933_cave_rescue_boys\",\"1039_kyaw_myanmar_wa\",\"931_korea_north_xi\",\"421_park_choi_seoul\",\"901_bok_koreas_lee\",\"1062_zika_rio_games\",\"409_zuma_anc_zumas\",\"328_boko_haram_nigeria\",\"634_rand_africas_johannesburg\",\"650_saa_rand_denel\",\"589_dividend_headline_undis...\",\"733_accounting_headline_bei...\",\"482_passive_sec_filing\",\"260_compensation_fy_sec\",\"692_financing_sec_text\",\"596_tribune_gannett_digital\",\"353_vox_sentences_wrapup\",\"801_files_shelf_sec\",\"120_fraud_sec_madoff\",\"886_directors_board_sec\",\"32_eikon_text_coverage\",\"67_notes_facility_revolving\",\"61_eur_fy_euros\",\"439_h1_eur_euros\",\"194_ibes_eikon_pharmaceutic...\",\"203_hy_attributable_versus\",\"261_offering_common_announces\",\"405_ffo_per_share\",\"798_ounces_freeportmcmoran_...\",\"93_dollar_index_markets\",\"435_hksin_percent_dollar\",\"227_points_nasdaq_composite\",\"757_futures_dow_sp\",\"633_barrels_hedge_managers\",\"1003_crude_oil_stocks\",\"447_hedge_fund_marcato\",\"1114_fed_mester_markets\",\"337_yen_headline_beijing\",\"366_wonshare_convertible_bo...\",\"43_eikon_text_coverage\",\"170_gdynia_newsroom_eikon\",\"368_zlotys_bonds_gdynia\",\"563_dividend_gdynia_fy\",\"691_resume_newsroom_kong\",\"637_newsroom_pending_halt\",\"828_newsroom_ltd_co\",\"365_ltd_co_purchaser\",\"543_ltd_eikon_trading\",\"849_contract_headline_korean\",\"1050_ltd_headline_co\",\"430_elects_ltd_text\",\"481_headline_co_text\",\"489_headline_beijing_shares\",\"719_swift_bangladesh_heist\",\"936_belt_obor_road\",\"955_refinery_neches_tceq\",\"1112_plant_refinery_polyeth...\",\"382_silicon_thiel_valley\",\"896_gm_plant_lordstown\",\"159_yuan_net_fy\",\"606_h1_yuan_profit\",\"1072_h1_yuan_fy\",\"271_yuan_yy_renminbi\",\"1111_yuan_renminbi_chinese\",\"964_yuan_renminbi_land\",\"38_yuan_co_ltd\",\"332_yuan_bonds_renminbi\",\"516_kkr_blackstone_equity\",\"454_bac_intc_googl\",\"662_q1_qtrly_mboed\",\"815_seng_index_hang\",\"1094_jv_co_headline\",\"312_riyals_dinars_versus\",\"343_luxury_lvmh_hm\",\"358_tpp_trade_japan\",\"998_sharp_yen_display\",\"631_crown_inflation_euro\",\"918_euros_puma_sales\",\"883_heps_rand_cents\",\"206_appointed_bank_head\",\"1041_sunak_javid_spending\",\"417_goldblum_dafoe_mccarthys\",\"1098_ozark_byrdes_camino\",\"726_andrus_monica_violence\",\"1064_promises_executive_trump\",\"201_perino_gutfeld_watters\",\"375_kelly_trump_tape\",\"463_commentator_thatthe_2020\",\"632_commentator_hilltv_bernie\",\"398_biden_decriminalizing_c...\",\"1100_patrick_sanders_rosend...\",\"455_hotel_turnberry_prestwick\",\"636_golf_maralago_senecal\",\"469_brf_brazilian_meat\",\"585_soccer_cup_womens\",\"570_inbev_ab_sabmiller\",\"348_chilling_colbert_willia...\",\"984_schlitterbahn_ride_slide\",\"720_tour_froome_rider\",\"515_pge_aliso_gas\",\"834_furious_fast_dom\",\"294_fire_grenfell_blaze\",\"802_saipov_truck_attack\",\"130_fishoutofwater_minhajs_...\",\"148_housewives_vanderpump_l...\",\"344_buffett_becky_berkshire\",\"495_becky_buffett_quick\",\"422_harassment_conyers_sexual\",\"990_persky_turner_recall\",\"272_kelly_porter_priebus\",\"425_huffman_admissions_loug...\",\"1048_pelosi_edt_impeachment\",\"1079_guess_munck_dapper\",\"341_ailes_fox_carlson\",\"894_cbs_odonnell_anchor\",\"426_howwhere_rockettes_book...\",\"680_guess_warped_posin\",\"234_fake_press_enemy\",\"1089_tv_zan_ryff\",\"146_parkland_school_shooting\",\"226_gilmore_episode_randall\",\"277_comedy_gillis_riddle\",\"196_film_movie_wigfield\",\"805_music_songs_petty\",\"1019_copper_matamoros_workers\",\"87_nafta_mexico_usmca\",\"666_panama_mossack_fonseca\",\"513_european_kurz_parliament\",\"808_party_pirate_sweden\",\"1057_shithole_haiti_durbin\",\"48_wall_border_shutdown\",\"95_ban_order_travel\",\"654_italia_tim_telecom\",\"235_5star_salvini_pd\",\"462_ubs_french_swiss\",\"817_nabiullina_central_infl...\",\"923_southeast_gojek_carousell\",\"1053_malpass_g7_georgieva\",\"1076_gas_delek_leviathan\",\"477_booker_clayton_nigatu\",\"845_luke_elektra_danny\",\"1107_loring_luke_lukes\",\"236_giggling_innuendo_scors...\",\"711_lopez_rodriguez_wicks\",\"499_spicer_scaramucci_press\",\"782_hamze_tito_94107\",\"407_guzmn_cartel_chapo\",\"613_rajoy_podemos_socialists\",\"1059_duarte_nieto_mexican\",\"763_pension_brazils_reais\",\"1099_jbs_batista_brazils\",\"128_ukraine_sondland_impeac...\",\"1028_starbucks_dorvilias_bo...\",\"1083_kobach_colyer_blankens...\",\"290_emails_email_clintons\",\"538_election_machines_voting\",\"498_hacked_dnc_hack\",\"510_surveillance_702_intell...\",\"925_mandate_obamacare_uncon...\",\"47_impeachment_trial_witnes...\",\"791_subpoena_mazars_vance\",\"953_reform_sentencing_prison\",\"72_daca_dreamers_immigration\",\"57_children_separated_border\",\"547_sanctuary_immigration_e...\",\"893_ad_immigration_latino\",\"558_district_democrats_dist...\",\"1070_voter_voting_kobach\",\"496_snap_farm_poverty\",\"965_men_gap_women\",\"512_gm_uaw_strike\",\"379_defense_budget_spending\",\"924_aumf_authorization_mili...\",\"854_suicide_reasons_13\",\"1109_violent_games_violence\",\"0_police_officers_shooting\",\"326_cops_dui_tmz\",\"390_transgender_military_se...\",\"712_womens_march_wruble\",\"846_schools_blasio_school\",\"996_devos_olympics_special\",\"243_biden_sanders_warren\",\"729_biden_sanders_coronavirus\",\"208_mattis_shanahan_defense\",\"527_recount_florida_nelson\",\"911_absentee_ballots_dowless\",\"994_russian_cyber_hacking\",\"282_nunes_memo_fbi\",\"945_fbi_dossier_informant\",\"470_practitioner_insights_w...\",\"974_emoluments_clause_gorod\",\"571_appointed_executive_ltd\",\"1087_council_charlottesvill...\",\"954_kronovi_tsm_cloud9\",\"278_sek_ab_gdynia\",\"475_zlotys_sa_gdynia\",\"850_avaloq_parvus_pincus\",\"966_ozobot_po32_barbie\",\"1071_christgau_music_minus\",\"244_puzzle_clue_crossword\",\"1014_differences_hint_snaps\",\"313_approval_poll_rating\",\"835_hillharrisx_poll_voters\",\"354_pythons_snakes_eagle\",\"530_depp_amber_johnny\",\"1113_wonder_gadot_woman\",\"617_leave_paid_maternity\",\"759_ad_bowl_super\",\"1023_ht_alum_rep\",\"561_gift_amazon_gifts\",\"920_consumer_confidence_con...\",\"331_editor_times_newsroom\",\"685_transcript_cnn_student\",\"389_redstone_viacom_cbs\",\"181_et9_peoplecom_peopletv\",\"186_rebroadcast_est_reallife\",\"160_bedrooms_room_square\",\"361_anastasiia_home_apartment\",\"517_cities_property_prices\",\"669_price_median_broker\",\"256_ai_alphago_learning\",\"672_ai_artificial_ng\",\"485_hotel_expandable_chevron\",\"827_fyre_festival_mcfarland\",\"258_disrupt_startup_techcru...\",\"978_axios_brevity_newsletters\",\"713_scripts_pharmacy_express\",\"1096_ubi_jobs_talent\",\"677_app_wechat_zao\",\"991_peoplecn_encyclopaedia_...\",\"531_tumblr_check_website\",\"686_yahoo_internet_barlow\",\"536_amazon_hq2_amazons\",\"554_jedi_contract_amazon\",\"577_huawei_chinese_theft\",\"913_lg_samsung_vietnam\",\"300_coronavirus_zika_package\",\"420_coronavirus_virus_outbr...\",\"1018_coronavirus_amazon_emp...\",\"684_sncf_pension_cgt\",\"126_covid19_eur_gdansk\",\"539_coronavirus_euros_outbr...\",\"537_nord_gas_pipeline\",\"628_pipeline_druzhba_oil\",\"402_drilling_interior_offsh...\",\"902_tullow_exploration_exxon\",\"950_grab_tan_uber\",\"1032_lilium_aircraft_flying\",\"594_auto_production_factories\",\"926_skoda_registrations_del...\",\"197_fiat_renault_chrysler\",\"842_nissan_brexit_carmakers\",\"929_sinn_fein_fianna\",\"578_turnbull_australia_aust...\",\"1031_kennedy_kennedys_vanocur\",\"1084_jewish_synagogue_kadar\",\"590_icahn_sandridge_occiden...\",\"876_king_steve_kings\",\"756_teresa_giudice_joe\",\"895_miss_pageant_betty\",\"986_ivanka_unwantedivanka_g20\",\"373_lady_melania_flotus\",\"441_obama_michelle_lady\",\"476_omar_omars_ilhan\",\"1046_raniere_nxivm_mack\",\"803_yovanovitch_parnas_amba...\",\"1105_lewandowski_corey_lewa...\",\"823_cuomo_nixon_wfp\",\"161_blasio_mayor_cuomo\",\"985_parnas_bondy_giuliani\",\"562_steyer_biden_fundraising\",\"472_biden_bidens_joe\",\"881_biden_bidens_warren\",\"796_wasserman_schultz_dnc\",\"169_clinton_libertarian_vot...\",\"790_debate_candidates_debates\",\"963_pelosi_shutdown_hammill\",\"82_obama_trump_speech\",\"509_bush_bushs_barbara\",\"112_moore_alabama_moores\",\"1034_moore_cain_fed\",\"263_avenatti_daniels_cohen\",\"810_gaga_cooper_bradley\",\"156_cohen_cohens_daniels\",\"909_franklin_aretha_franklins\",\"153_court_supreme_garland\",\"640_warren_warrens_elizabeth\",\"605_ginsburg_justice_ginsbu...\",\"987_menendez_melgen_melgens\",\"33_weinstein_sexual_harassm...\",\"132_comey_fbi_strzok\",\"239_barr_mueller_muellers\",\"557_intelligence_cia_brennan\",\"688_nielsen_dhs_nielsens\",\"329_mueller_rosenstein_coun...\",\"658_orr_cheney_credit\",\"314_stone_stones_roger\",\"1088_wiggins_armstrong_arms...\",\"350_ryan_speaker_ryans\",\"983_lewis_boggs_rights\",\"811_bees_hayes_syngenta\",\"346_negan_rick_walking\",\"1010_shulkin_veterans_va\",\"916_martinez_ortiz_patrol\",\"1093_obrador_lopez_clouthier\",\"603_gallagher_navy_seals\",\"993_vicons_vicon_verine\",\"506_grande_ariana_grandes\",\"1073_tiffany_lvmh_lvmhs\",\"23_royal_prince_meghan\",\"438_prince_princes_paisley\",\"280_beyonc_beyoncs_lemonade\",\"888_rhapsody_mercury_bohemian\",\"1000_clooney_amal_george\",\"1025_hadid_bella_gigi\",\"641_joanna_gaines_chip\",\"824_manigault_newman_omarosa\",\"703_dassey_avery_halbach\",\"1037_robson_jackson_safechuck\",\"721_perry_katy_bloom\",\"799_simpson_oj_nicole\",\"210_kanye_drake_west\",\"565_kardashian_robbery_kim\",\"663_gawker_denton_hogan\",\"800_kemp_abrams_georgia\",\"267_colbert_kimmel_griffin\",\"465_roseanne_barr_jarrett\",\"378_kelly_kellys_aaliyah\",\"418_wwe_wrestling_holm\",\"252_wells_fargo_sloan\",\"758_riverdale_archie_jughead\",\"904_handmaids_tale_gilead\",\"507_potter_rowling_beasts\",\"948_tarot_witches_ouijazilla\",\"529_smollett_jussie_smolletts\",\"967_manson_houten_mansons\",\"434_ocasiocortez_crowley_oc...\",\"569_theranos_holmes_bloodte...\",\"939_adele_alaina_karaoke\",\"750_aniston_theroux_jennifer\",\"786_mediaset_vivendi_medias...\",\"573_lovato_demi_sober\",\"165_pokmon_pokemon_niantic\",\"265_cardi_minaj_rapper\",\"648_gomez_selena_kidney\",\"826_hernandez_hernandezs_je...\",\"25_kardashian_jenner_kylie\",\"644_jonas_chopra_nick\",\"937_tatum_dewan_channing\",\"753_morales_bolivia_bolivias\",\"113_puerto_rico_hurricane\",\"319_puerto_rico_ricos\",\"107_pemex_mexicos_mexico\",\"122_macri_argentina_argenti...\",\"524_santiago_fujimori_vizca...\",\"104_maduro_venezuela_venezu...\",\"151_pdvsa_venezuela_venezue...\",\"167_doping_antidoping_wada\",\"173_anthem_nfl_kaepernick\",\"28_olympic_olympics_medal\",\"213_ioc_tokyo_olympic\",\"956_postponed_outbreak_tour...\",\"774_lithium_albemarle_chile\",\"1055_ice_arctic_antarctica\",\"310_buttigieg_bend_pete\",\"491_thunberg_climate_greta\",\"1068_arpaio_pardon_sheriff\",\"436_orourke_orourkes_beto\",\"765_ossoff_handel_ossoffs\",\"744_fifa_soccer_fifas\",\"906_futebol_lisboa_falcao\",\"897_salon_salons_hambrecht\",\"969_carrefour_bompard_carre...\",\"345_de_que_en\",\"771_cathedral_notre_dame\",\"97_stoxx_stocks_percent\",\"255_bhp_index_benchmark\",\"292_shanghai_index_csi300\",\"448_sptsx_toronto_index\",\"766_ipo_sec_adial\",\"661_cnbc_et_fed\",\"1035_pct_0830_prior\",\"41_sp_dow_500\",\"242_sp_nasdaq_500\",\"687_sp_nasdaq_dow\",\"183_dividend_exright_headline\",\"295_dividend_quarterly_eikon\",\"621_facebook_facebooks_stock\",\"1004_imf_forecast_growth\",\"533_notified_acquire_feb\",\"919_closure_date_exdividend\",\"399_4k_smart_tv\",\"37_hill_20006_2026288500\",\"163_hill_2026288503_2026288...\",\"9_ibes_earnings_per\",\"503_baht_pcl_versus\",\"777_rgt_qtrly_bhd\",\"211_ftse_index_100\",\"336_nse_bse_index\",\"502_tsx_sptsx_index\",\"440_auction_treasury_bills\",\"584_bonds_obligation_refina...\",\"202_retirement_credit_savings\",\"428_spending_budget_earmarks\",\"466_budget_spending_debt\",\"123_card_cards_credit\",\"764_bonds_itraxx_ifr\",\"138_donors_pac_donations\",\"327_funds_outflows_inflows\",\"995_blackrock_fink_sustaina...\",\"355_shopping_thanksgiving_d...\",\"818_target_stores_shipt\",\"270_banks_doddfrank_volcker\",\"304_cfpb_payday_springleaf\",\"709_education_students_loan\",\"949_doordash_wage_minimum\",\"832_freddie_fannie_mortgage\",\"1069_monzo_revolut_banks\",\"629_bezos_mackenzie_spielberg\",\"286_fed_powell_yellen\",\"727_mnuchin_ross_treasury\",\"423_sessions_attorney_recuse\",\"718_sessions_jeff_attorney\",\"525_cramer_cramers_madcapcn...\",\"520_moodys_rating_sp\",\"155_fitch_rating_ratings\",\"975_fitch_ratings_rating\",\"471_infrastructure_roads_br...\",\"742_freelancers_drivers_uber\",\"50_steel_tariffs_aluminum\",\"907_inventories_orders_goods\",\"855_ism_construction_manufa...\",\"857_productivity_scaleups_e...\",\"6_obamacare_care_health\",\"556_medicare_singlepayer_in...\",\"1042_noble_nobles_coal\",\"1097_billionaires_oxfam_wea...\",\"372_arbitration_unions_janus\",\"624_job_resume_hiring\",\"392_census_citizenship_ques...\",\"899_h1b_visa_workers\",\"174_labor_jobs_unemployment\",\"1013_wage_minimum_altour\",\"581_unemployment_claims_labor\",\"676_overtime_salary_rule\",\"352_metro_housing_rent\",\"141_mortgage_housing_homes\",\"193_student_college_loan\",\"306_yuan_currency_midpoint\",\"497_yen_dollar_boj\",\"1081_yen_dollar_trade\",\"70_sterling_pound_brexit\",\"618_euro_dollar_currency\",\"238_dollar_currencies_yen\",\"872_dollar_fed_euro\",\"1026_repo_repurchase_repos\",\"639_repurchase_repurchased_...\",\"767_repurchase_authorizatio...\",\"137_jpmorgan_goldman_dimon\",\"760_softbank_fund_softbanks\",\"795_bancorp_income_q4\",\"467_jgb_yield_10year\",\"119_rupees_versus_consol\",\"323_yields_bond_euro\",\"145_cents_share_estimates\",\"647_gdp_quarter_pace\",\"642_funds_etf_etfs\",\"40_fed_inflation_feds\",\"730_fed_sheet_balance\",\"103_nintendo_mario_switch\",\"75_game_games_gears\",\"432_fortnite_royale_ea\",\"875_drone_drones_indiegogo\",\"317_ar_hololens_augmented\",\"1038_stadia_gaming_xcloud\",\"7_points_nba_rebounds\",\"14_points_scored_yards\",\"17_goal_scored_goals\",\"79_formula_prix_race\",\"52_cup_manchester_league\",\"77_golf_woods_pga\",\"887_sports_baseball_nfl\",\"180_disney_fox_iger\",\"660_disney_streaming_wars\",\"667_christmas_holiday_movie\",\"39_film_movie_movies\",\"1101_films_netflix_film\",\"46_oscars_awards_academy\",\"690_emmys_emmy_comedy\",\"98_wars_star_jedi\",\"1005_dancing_dance_burke\",\"214_peaks_season_twin\",\"1102_stranger_season_things\",\"922_melania_wore_dress\",\"20_hair_skin_makeup\",\"424_fatshaming_body_fat\",\"598_talc_asbestos_jj\",\"266_opioid_purdue_insys\",\"1056_spade_kate_spades\",\"400_hospital_carromero_bdd\",\"927_addyi_vr_livia\",\"957_sex_fostasesta_decrimin...\",\"431_samesex_marriage_gay\",\"665_intersex_gender_hanne\",\"320_pm_my_am\",\"171_your_you_boss\",\"860_breakup_relationship_dr...\",\"877_millennials_steakumm_ge...\",\"1016_parents_parenting_my\",\"15_baby_pregnancy_mom\",\"1085_mom_moms_jewishbeyonce\",\"273_harvey_hurricane_houston\",\"670_refinery_gulf_storm\",\"229_pollution_air_smog\",\"324_climate_paris_emissions\",\"339_indigenous_bolsonaro_de...\",\"550_fires_bushfires_australia\",\"519_protesters_antifa_rally\",\"1006_extinction_rebellion_c...\",\"575_marines_marine_corps\",\"649_parade_memorial_fireworks\",\"545_monument_monuments_ears\",\"682_bundy_refuge_occupiers\",\"460_ski_beach_trees\",\"700_drought_fao_rains\",\"768_northam_fairfax_virginia\",\"856_carson_housing_hud\",\"325_pipeline_dakota_sioux\",\"749_native_cherokee_tribal\",\"900_gasoil_refining_fuel\",\"127_permian_shale_oil\",\"794_crude_refiners_oil\",\"783_exxon_schneiderman_clim...\",\"44_crude_oil_barrel\",\"264_opec_bpd_oil\",\"134_water_flint_drinking\",\"297_coal_perry_energy\",\"848_water_rule_epa\",\"94_wind_edf_energy\",\"809_rosatom_nuclear_plant\",\"829_nuclear_weapons_npt\",\"207_lng_gas_helium\",\"804_coal_thermal_tonnes\",\"997_steel_rebar_tonnes\",\"335_mining_mine_mines\",\"1086_rare_earths_minerals\",\"115_lme_copper_nickel\",\"51_gold_ounce_palladium\",\"228_salt_minutes_cup\",\"218_kraft_heinz_nestle\",\"1091_glencore_glencores_gla...\",\"630_thyssenkrupp_steel_tata\",\"1002_unilever_unilevers_pit...\",\"1015_ackman_pershing_valeant\",\"944_dairy_milk_fonterra\",\"262_meat_plantbased_burger\",\"322_pork_cattle_hog\",\"175_crowns_swedish_danish\",\"869_salmon_crowns_tonnes\",\"1080_davos_forum_thunberg\",\"616_viceland_desus_mero\",\"940_westworld_dolores_hosts\",\"377_lira_versus_liras\",\"580_vale_dam_tailings\",\"88_moon_venus_mercury\",\"523_drag_queens_rupaul\",\"1036_princess_queen_guitaut\",\"224_uber_kalanick_ubers\",\"674_waymo_uber_levandowski\",\"797_capesize_panamax_supramax\",\"962_atlantia_autostrade_mot...\",\"191_zlotys_versus_sa\",\"806_zinke_zinkes_interior\",\"813_hyperallergic_nectar_ad...\",\"626_didi_mobike_ridehailing\",\"1067_oi_ois_pharol\",\"820_toshiba_westinghouse_bain\",\"478_dell_hpe_amd\",\"34_laptop_pro_macbook\",\"427_windows_microsoft_update\",\"225_youtube_videos_creators\",\"248_netflix_streaming_netfl...\",\"645_att_sling_directv\",\"853_hulu_tv_hulus\",\"240_att_warner_merger\",\"908_robocalls_caller_calls\",\"102_neutrality_fcc_pai\",\"289_privacy_data_gdpr\",\"100_cloud_aws_microsoft\",\"89_google_googles_software\",\"659_privacy_google_cookies\",\"780_amp_google_web\",\"526_mtn_safaricom_nigeria\",\"219_vodafone_mobile_telecoms\",\"693_yahoo_verizon_yahoos\",\"195_encryption_apple_iphone\",\"917_id_face_iphone\",\"714_skype_zyl_google\",\"973_apps_app_unabridged\",\"281_bots_bot_phones\",\"397_apple_tv_roku\",\"364_apple_apples_iphone\",\"689_apple_cook_recycling\",\"16_iphone_galaxy_phone\",\"429_samsung_electronics_chip\",\"86_facebook_zuckerberg_zitt...\",\"359_twitter_dorsey_twitters\",\"935_twitter_verification_tw...\",\"951_influencers_influencer_...\",\"473_tweets_twitter_filter\",\"1022_tweets_280_characters\",\"31_facebook_ads_facebooks\",\"784_creators_facebook_content\",\"291_instagram_instagrams_us...\",\"622_messenger_facebook_app\",\"941_bts_kpop_korean\",\"18_album_band_music\",\"884_lorde_song_antonoff\",\"241_wayne_lil_feat\",\"391_grammy_album_winner\",\"656_alert_hawaii_alerts\",\"125_alexa_echo_amazon\",\"960_sonos_echo_speakers\",\"287_facial_recognition_tech...\",\"1051_headshots_headshot_sel...\",\"779_graph_comma_students\",\"457_bundle_skills_courses\",\"655_prompts_picture_prompt\",\"873_airlines_boeing_comac\",\"140_boeing_737_max\",\"458_boeing_max_737\",\"330_lockheed_f35_jets\",\"668_bombardier_rail_cseries\",\"747_egyptair_egyptian_plane\",\"548_airports_airlines_laptops\",\"989_flights_airlines_airline\",\"1061_southwest_mechanics_ai...\",\"307_ryanair_pilots_oleary\",\"347_airlines_airline_sabre\",\"737_tesla_shanghai_model\",\"1001_cybertruck_tesla_musk\",\"852_tesla_solar_solarcity\",\"121_tesla_model_teslas\",\"456_autopilot_tesla_crash\",\"592_standards_automakers_em...\",\"863_vehicles_toyota_yy\",\"131_vehicles_sales_ford\",\"861_selfdriving_autonomous_...\",\"268_volkswagen_vw_diesel\",\"635_vw_volkswagen_diess\",\"574_recall_vehicles_chrysler\",\"73_electric_car_cars\",\"158_selfdriving_autonomous_...\"],\"tickvals\":[-5.0,-15.0,-25.0,-35.0,-45.0,-55.0,-65.0,-75.0,-85.0,-95.0,-105.0,-115.0,-125.0,-135.0,-145.0,-155.0,-165.0,-175.0,-185.0,-195.0,-205.0,-215.0,-225.0,-235.0,-245.0,-255.0,-265.0,-275.0,-285.0,-295.0,-305.0,-315.0,-325.0,-335.0,-345.0,-355.0,-365.0,-375.0,-385.0,-395.0,-405.0,-415.0,-425.0,-435.0,-445.0,-455.0,-465.0,-475.0,-485.0,-495.0,-505.0,-515.0,-525.0,-535.0,-545.0,-555.0,-565.0,-575.0,-585.0,-595.0,-605.0,-615.0,-625.0,-635.0,-645.0,-655.0,-665.0,-675.0,-685.0,-695.0,-705.0,-715.0,-725.0,-735.0,-745.0,-755.0,-765.0,-775.0,-785.0,-795.0,-805.0,-815.0,-825.0,-835.0,-845.0,-855.0,-865.0,-875.0,-885.0,-895.0,-905.0,-915.0,-925.0,-935.0,-945.0,-955.0,-965.0,-975.0,-985.0,-995.0,-1005.0,-1015.0,-1025.0,-1035.0,-1045.0,-1055.0,-1065.0,-1075.0,-1085.0,-1095.0,-1105.0,-1115.0,-1125.0,-1135.0,-1145.0,-1155.0,-1165.0,-1175.0,-1185.0,-1195.0,-1205.0,-1215.0,-1225.0,-1235.0,-1245.0,-1255.0,-1265.0,-1275.0,-1285.0,-1295.0,-1305.0,-1315.0,-1325.0,-1335.0,-1345.0,-1355.0,-1365.0,-1375.0,-1385.0,-1395.0,-1405.0,-1415.0,-1425.0,-1435.0,-1445.0,-1455.0,-1465.0,-1475.0,-1485.0,-1495.0,-1505.0,-1515.0,-1525.0,-1535.0,-1545.0,-1555.0,-1565.0,-1575.0,-1585.0,-1595.0,-1605.0,-1615.0,-1625.0,-1635.0,-1645.0,-1655.0,-1665.0,-1675.0,-1685.0,-1695.0,-1705.0,-1715.0,-1725.0,-1735.0,-1745.0,-1755.0,-1765.0,-1775.0,-1785.0,-1795.0,-1805.0,-1815.0,-1825.0,-1835.0,-1845.0,-1855.0,-1865.0,-1875.0,-1885.0,-1895.0,-1905.0,-1915.0,-1925.0,-1935.0,-1945.0,-1955.0,-1965.0,-1975.0,-1985.0,-1995.0,-2005.0,-2015.0,-2025.0,-2035.0,-2045.0,-2055.0,-2065.0,-2075.0,-2085.0,-2095.0,-2105.0,-2115.0,-2125.0,-2135.0,-2145.0,-2155.0,-2165.0,-2175.0,-2185.0,-2195.0,-2205.0,-2215.0,-2225.0,-2235.0,-2245.0,-2255.0,-2265.0,-2275.0,-2285.0,-2295.0,-2305.0,-2315.0,-2325.0,-2335.0,-2345.0,-2355.0,-2365.0,-2375.0,-2385.0,-2395.0,-2405.0,-2415.0,-2425.0,-2435.0,-2445.0,-2455.0,-2465.0,-2475.0,-2485.0,-2495.0,-2505.0,-2515.0,-2525.0,-2535.0,-2545.0,-2555.0,-2565.0,-2575.0,-2585.0,-2595.0,-2605.0,-2615.0,-2625.0,-2635.0,-2645.0,-2655.0,-2665.0,-2675.0,-2685.0,-2695.0,-2705.0,-2715.0,-2725.0,-2735.0,-2745.0,-2755.0,-2765.0,-2775.0,-2785.0,-2795.0,-2805.0,-2815.0,-2825.0,-2835.0,-2845.0,-2855.0,-2865.0,-2875.0,-2885.0,-2895.0,-2905.0,-2915.0,-2925.0,-2935.0,-2945.0,-2955.0,-2965.0,-2975.0,-2985.0,-2995.0,-3005.0,-3015.0,-3025.0,-3035.0,-3045.0,-3055.0,-3065.0,-3075.0,-3085.0,-3095.0,-3105.0,-3115.0,-3125.0,-3135.0,-3145.0,-3155.0,-3165.0,-3175.0,-3185.0,-3195.0,-3205.0,-3215.0,-3225.0,-3235.0,-3245.0,-3255.0,-3265.0,-3275.0,-3285.0,-3295.0,-3305.0,-3315.0,-3325.0,-3335.0,-3345.0,-3355.0,-3365.0,-3375.0,-3385.0,-3395.0,-3405.0,-3415.0,-3425.0,-3435.0,-3445.0,-3455.0,-3465.0,-3475.0,-3485.0,-3495.0,-3505.0,-3515.0,-3525.0,-3535.0,-3545.0,-3555.0,-3565.0,-3575.0,-3585.0,-3595.0,-3605.0,-3615.0,-3625.0,-3635.0,-3645.0,-3655.0,-3665.0,-3675.0,-3685.0,-3695.0,-3705.0,-3715.0,-3725.0,-3735.0,-3745.0,-3755.0,-3765.0,-3775.0,-3785.0,-3795.0,-3805.0,-3815.0,-3825.0,-3835.0,-3845.0,-3855.0,-3865.0,-3875.0,-3885.0,-3895.0,-3905.0,-3915.0,-3925.0,-3935.0,-3945.0,-3955.0,-3965.0,-3975.0,-3985.0,-3995.0,-4005.0,-4015.0,-4025.0,-4035.0,-4045.0,-4055.0,-4065.0,-4075.0,-4085.0,-4095.0,-4105.0,-4115.0,-4125.0,-4135.0,-4145.0,-4155.0,-4165.0,-4175.0,-4185.0,-4195.0,-4205.0,-4215.0,-4225.0,-4235.0,-4245.0,-4255.0,-4265.0,-4275.0,-4285.0,-4295.0,-4305.0,-4315.0,-4325.0,-4335.0,-4345.0,-4355.0,-4365.0,-4375.0,-4385.0,-4395.0,-4405.0,-4415.0,-4425.0,-4435.0,-4445.0,-4455.0,-4465.0,-4475.0,-4485.0,-4495.0,-4505.0,-4515.0,-4525.0,-4535.0,-4545.0,-4555.0,-4565.0,-4575.0,-4585.0,-4595.0,-4605.0,-4615.0,-4625.0,-4635.0,-4645.0,-4655.0,-4665.0,-4675.0,-4685.0,-4695.0,-4705.0,-4715.0,-4725.0,-4735.0,-4745.0,-4755.0,-4765.0,-4775.0,-4785.0,-4795.0,-4805.0,-4815.0,-4825.0,-4835.0,-4845.0,-4855.0,-4865.0,-4875.0,-4885.0,-4895.0,-4905.0,-4915.0,-4925.0,-4935.0,-4945.0,-4955.0,-4965.0,-4975.0,-4985.0,-4995.0,-5005.0,-5015.0,-5025.0,-5035.0,-5045.0,-5055.0,-5065.0,-5075.0,-5085.0,-5095.0,-5105.0,-5115.0,-5125.0,-5135.0,-5145.0,-5155.0,-5165.0,-5175.0,-5185.0,-5195.0,-5205.0,-5215.0,-5225.0,-5235.0,-5245.0,-5255.0,-5265.0,-5275.0,-5285.0,-5295.0,-5305.0,-5315.0,-5325.0,-5335.0,-5345.0,-5355.0,-5365.0,-5375.0,-5385.0,-5395.0,-5405.0,-5415.0,-5425.0,-5435.0,-5445.0,-5455.0,-5465.0,-5475.0,-5485.0,-5495.0,-5505.0,-5515.0,-5525.0,-5535.0,-5545.0,-5555.0,-5565.0,-5575.0,-5585.0,-5595.0,-5605.0,-5615.0,-5625.0,-5635.0,-5645.0,-5655.0,-5665.0,-5675.0,-5685.0,-5695.0,-5705.0,-5715.0,-5725.0,-5735.0,-5745.0,-5755.0,-5765.0,-5775.0,-5785.0,-5795.0,-5805.0,-5815.0,-5825.0,-5835.0,-5845.0,-5855.0,-5865.0,-5875.0,-5885.0,-5895.0,-5905.0,-5915.0,-5925.0,-5935.0,-5945.0,-5955.0,-5965.0,-5975.0,-5985.0,-5995.0,-6005.0,-6015.0,-6025.0,-6035.0,-6045.0,-6055.0,-6065.0,-6075.0,-6085.0,-6095.0,-6105.0,-6115.0,-6125.0,-6135.0,-6145.0,-6155.0,-6165.0,-6175.0,-6185.0,-6195.0,-6205.0,-6215.0,-6225.0,-6235.0,-6245.0,-6255.0,-6265.0,-6275.0,-6285.0,-6295.0,-6305.0,-6315.0,-6325.0,-6335.0,-6345.0,-6355.0,-6365.0,-6375.0,-6385.0,-6395.0,-6405.0,-6415.0,-6425.0,-6435.0,-6445.0,-6455.0,-6465.0,-6475.0,-6485.0,-6495.0,-6505.0,-6515.0,-6525.0,-6535.0,-6545.0,-6555.0,-6565.0,-6575.0,-6585.0,-6595.0,-6605.0,-6615.0,-6625.0,-6635.0,-6645.0,-6655.0,-6665.0,-6675.0,-6685.0,-6695.0,-6705.0,-6715.0,-6725.0,-6735.0,-6745.0,-6755.0,-6765.0,-6775.0,-6785.0,-6795.0,-6805.0,-6815.0,-6825.0,-6835.0,-6845.0,-6855.0,-6865.0,-6875.0,-6885.0,-6895.0,-6905.0,-6915.0,-6925.0,-6935.0,-6945.0,-6955.0,-6965.0,-6975.0,-6985.0,-6995.0,-7005.0,-7015.0,-7025.0,-7035.0,-7045.0,-7055.0,-7065.0,-7075.0,-7085.0,-7095.0,-7105.0,-7115.0,-7125.0,-7135.0,-7145.0,-7155.0,-7165.0,-7175.0,-7185.0,-7195.0,-7205.0,-7215.0,-7225.0,-7235.0,-7245.0,-7255.0,-7265.0,-7275.0,-7285.0,-7295.0,-7305.0,-7315.0,-7325.0,-7335.0,-7345.0,-7355.0,-7365.0,-7375.0,-7385.0,-7395.0,-7405.0,-7415.0,-7425.0,-7435.0,-7445.0,-7455.0,-7465.0,-7475.0,-7485.0,-7495.0,-7505.0,-7515.0,-7525.0,-7535.0,-7545.0,-7555.0,-7565.0,-7575.0,-7585.0,-7595.0,-7605.0,-7615.0,-7625.0,-7635.0,-7645.0,-7655.0,-7665.0,-7675.0,-7685.0,-7695.0,-7705.0,-7715.0,-7725.0,-7735.0,-7745.0,-7755.0,-7765.0,-7775.0,-7785.0,-7795.0,-7805.0,-7815.0,-7825.0,-7835.0,-7845.0,-7855.0,-7865.0,-7875.0,-7885.0,-7895.0,-7905.0,-7915.0,-7925.0,-7935.0,-7945.0,-7955.0,-7965.0,-7975.0,-7985.0,-7995.0,-8005.0,-8015.0,-8025.0,-8035.0,-8045.0,-8055.0,-8065.0,-8075.0,-8085.0,-8095.0,-8105.0,-8115.0,-8125.0,-8135.0,-8145.0,-8155.0,-8165.0,-8175.0,-8185.0,-8195.0,-8205.0,-8215.0,-8225.0,-8235.0,-8245.0,-8255.0,-8265.0,-8275.0,-8285.0,-8295.0,-8305.0,-8315.0,-8325.0,-8335.0,-8345.0,-8355.0,-8365.0,-8375.0,-8385.0,-8395.0,-8405.0,-8415.0,-8425.0,-8435.0,-8445.0,-8455.0,-8465.0,-8475.0,-8485.0,-8495.0,-8505.0,-8515.0,-8525.0,-8535.0,-8545.0,-8555.0,-8565.0,-8575.0,-8585.0,-8595.0,-8605.0,-8615.0,-8625.0,-8635.0,-8645.0,-8655.0,-8665.0,-8675.0,-8685.0,-8695.0,-8705.0,-8715.0,-8725.0,-8735.0,-8745.0,-8755.0,-8765.0,-8775.0,-8785.0,-8795.0,-8805.0,-8815.0,-8825.0,-8835.0,-8845.0,-8855.0,-8865.0,-8875.0,-8885.0,-8895.0,-8905.0,-8915.0,-8925.0,-8935.0,-8945.0,-8955.0,-8965.0,-8975.0,-8985.0,-8995.0,-9005.0,-9015.0,-9025.0,-9035.0,-9045.0,-9055.0,-9065.0,-9075.0,-9085.0,-9095.0,-9105.0,-9115.0,-9125.0,-9135.0,-9145.0,-9155.0,-9165.0,-9175.0,-9185.0,-9195.0,-9205.0,-9215.0,-9225.0,-9235.0,-9245.0,-9255.0,-9265.0,-9275.0,-9285.0,-9295.0,-9305.0,-9315.0,-9325.0,-9335.0,-9345.0,-9355.0,-9365.0,-9375.0,-9385.0,-9395.0,-9405.0,-9415.0,-9425.0,-9435.0,-9445.0,-9455.0,-9465.0,-9475.0,-9485.0,-9495.0,-9505.0,-9515.0,-9525.0,-9535.0,-9545.0,-9555.0,-9565.0,-9575.0,-9585.0,-9595.0,-9605.0,-9615.0,-9625.0,-9635.0,-9645.0,-9655.0,-9665.0,-9675.0,-9685.0,-9695.0,-9705.0,-9715.0,-9725.0,-9735.0,-9745.0,-9755.0,-9765.0,-9775.0,-9785.0,-9795.0,-9805.0,-9815.0,-9825.0,-9835.0,-9845.0,-9855.0,-9865.0,-9875.0,-9885.0,-9895.0,-9905.0,-9915.0,-9925.0,-9935.0,-9945.0,-9955.0,-9965.0,-9975.0,-9985.0,-9995.0,-10005.0,-10015.0,-10025.0,-10035.0,-10045.0,-10055.0,-10065.0,-10075.0,-10085.0,-10095.0,-10105.0,-10115.0,-10125.0,-10135.0,-10145.0,-10155.0,-10165.0,-10175.0,-10185.0,-10195.0,-10205.0,-10215.0,-10225.0,-10235.0,-10245.0,-10255.0,-10265.0,-10275.0,-10285.0,-10295.0,-10305.0,-10315.0,-10325.0,-10335.0,-10345.0,-10355.0,-10365.0,-10375.0,-10385.0,-10395.0,-10405.0,-10415.0,-10425.0,-10435.0,-10445.0,-10455.0,-10465.0,-10475.0,-10485.0,-10495.0,-10505.0,-10515.0,-10525.0,-10535.0,-10545.0,-10555.0,-10565.0,-10575.0,-10585.0,-10595.0,-10605.0,-10615.0,-10625.0,-10635.0,-10645.0,-10655.0,-10665.0,-10675.0,-10685.0,-10695.0,-10705.0,-10715.0,-10725.0,-10735.0,-10745.0,-10755.0,-10765.0,-10775.0,-10785.0,-10795.0,-10805.0,-10815.0,-10825.0,-10835.0,-10845.0,-10855.0,-10865.0,-10875.0,-10885.0,-10895.0,-10905.0,-10915.0,-10925.0,-10935.0,-10945.0,-10955.0,-10965.0,-10975.0,-10985.0,-10995.0,-11005.0,-11015.0,-11025.0,-11035.0,-11045.0,-11055.0,-11065.0,-11075.0,-11085.0,-11095.0,-11105.0,-11115.0,-11125.0,-11135.0,-11145.0,-11155.0,-11165.0],\"type\":\"linear\",\"zeroline\":false,\"range\":[-11170.0,0.0]},\"template\":{\"data\":{\"barpolar\":[{\"marker\":{\"line\":{\"color\":\"white\",\"width\":0.5},\"pattern\":{\"fillmode\":\"overlay\",\"size\":10,\"solidity\":0.2}},\"type\":\"barpolar\"}],\"bar\":[{\"error_x\":{\"color\":\"#2a3f5f\"},\"error_y\":{\"color\":\"#2a3f5f\"},\"marker\":{\"line\":{\"color\":\"white\",\"width\":0.5},\"pattern\":{\"fillmode\":\"overlay\",\"size\":10,\"solidity\":0.2}},\"type\":\"bar\"}],\"carpet\":[{\"aaxis\":{\"endlinecolor\":\"#2a3f5f\",\"gridcolor\":\"#C8D4E3\",\"linecolor\":\"#C8D4E3\",\"minorgridcolor\":\"#C8D4E3\",\"startlinecolor\":\"#2a3f5f\"},\"baxis\":{\"endlinecolor\":\"#2a3f5f\",\"gridcolor\":\"#C8D4E3\",\"linecolor\":\"#C8D4E3\",\"minorgridcolor\":\"#C8D4E3\",\"startlinecolor\":\"#2a3f5f\"},\"type\":\"carpet\"}],\"choropleth\":[{\"colorbar\":{\"outlinewidth\":0,\"ticks\":\"\"},\"type\":\"choropleth\"}],\"contourcarpet\":[{\"colorbar\":{\"outlinewidth\":0,\"ticks\":\"\"},\"type\":\"contourcarpet\"}],\"contour\":[{\"colorbar\":{\"outlinewidth\":0,\"ticks\":\"\"},\"colorscale\":[[0.0,\"#0d0887\"],[0.1111111111111111,\"#46039f\"],[0.2222222222222222,\"#7201a8\"],[0.3333333333333333,\"#9c179e\"],[0.4444444444444444,\"#bd3786\"],[0.5555555555555556,\"#d8576b\"],[0.6666666666666666,\"#ed7953\"],[0.7777777777777778,\"#fb9f3a\"],[0.8888888888888888,\"#fdca26\"],[1.0,\"#f0f921\"]],\"type\":\"contour\"}],\"heatmapgl\":[{\"colorbar\":{\"outlinewidth\":0,\"ticks\":\"\"},\"colorscale\":[[0.0,\"#0d0887\"],[0.1111111111111111,\"#46039f\"],[0.2222222222222222,\"#7201a8\"],[0.3333333333333333,\"#9c179e\"],[0.4444444444444444,\"#bd3786\"],[0.5555555555555556,\"#d8576b\"],[0.6666666666666666,\"#ed7953\"],[0.7777777777777778,\"#fb9f3a\"],[0.8888888888888888,\"#fdca26\"],[1.0,\"#f0f921\"]],\"type\":\"heatmapgl\"}],\"heatmap\":[{\"colorbar\":{\"outlinewidth\":0,\"ticks\":\"\"},\"colorscale\":[[0.0,\"#0d0887\"],[0.1111111111111111,\"#46039f\"],[0.2222222222222222,\"#7201a8\"],[0.3333333333333333,\"#9c179e\"],[0.4444444444444444,\"#bd3786\"],[0.5555555555555556,\"#d8576b\"],[0.6666666666666666,\"#ed7953\"],[0.7777777777777778,\"#fb9f3a\"],[0.8888888888888888,\"#fdca26\"],[1.0,\"#f0f921\"]],\"type\":\"heatmap\"}],\"histogram2dcontour\":[{\"colorbar\":{\"outlinewidth\":0,\"ticks\":\"\"},\"colorscale\":[[0.0,\"#0d0887\"],[0.1111111111111111,\"#46039f\"],[0.2222222222222222,\"#7201a8\"],[0.3333333333333333,\"#9c179e\"],[0.4444444444444444,\"#bd3786\"],[0.5555555555555556,\"#d8576b\"],[0.6666666666666666,\"#ed7953\"],[0.7777777777777778,\"#fb9f3a\"],[0.8888888888888888,\"#fdca26\"],[1.0,\"#f0f921\"]],\"type\":\"histogram2dcontour\"}],\"histogram2d\":[{\"colorbar\":{\"outlinewidth\":0,\"ticks\":\"\"},\"colorscale\":[[0.0,\"#0d0887\"],[0.1111111111111111,\"#46039f\"],[0.2222222222222222,\"#7201a8\"],[0.3333333333333333,\"#9c179e\"],[0.4444444444444444,\"#bd3786\"],[0.5555555555555556,\"#d8576b\"],[0.6666666666666666,\"#ed7953\"],[0.7777777777777778,\"#fb9f3a\"],[0.8888888888888888,\"#fdca26\"],[1.0,\"#f0f921\"]],\"type\":\"histogram2d\"}],\"histogram\":[{\"marker\":{\"pattern\":{\"fillmode\":\"overlay\",\"size\":10,\"solidity\":0.2}},\"type\":\"histogram\"}],\"mesh3d\":[{\"colorbar\":{\"outlinewidth\":0,\"ticks\":\"\"},\"type\":\"mesh3d\"}],\"parcoords\":[{\"line\":{\"colorbar\":{\"outlinewidth\":0,\"ticks\":\"\"}},\"type\":\"parcoords\"}],\"pie\":[{\"automargin\":true,\"type\":\"pie\"}],\"scatter3d\":[{\"line\":{\"colorbar\":{\"outlinewidth\":0,\"ticks\":\"\"}},\"marker\":{\"colorbar\":{\"outlinewidth\":0,\"ticks\":\"\"}},\"type\":\"scatter3d\"}],\"scattercarpet\":[{\"marker\":{\"colorbar\":{\"outlinewidth\":0,\"ticks\":\"\"}},\"type\":\"scattercarpet\"}],\"scattergeo\":[{\"marker\":{\"colorbar\":{\"outlinewidth\":0,\"ticks\":\"\"}},\"type\":\"scattergeo\"}],\"scattergl\":[{\"marker\":{\"colorbar\":{\"outlinewidth\":0,\"ticks\":\"\"}},\"type\":\"scattergl\"}],\"scattermapbox\":[{\"marker\":{\"colorbar\":{\"outlinewidth\":0,\"ticks\":\"\"}},\"type\":\"scattermapbox\"}],\"scatterpolargl\":[{\"marker\":{\"colorbar\":{\"outlinewidth\":0,\"ticks\":\"\"}},\"type\":\"scatterpolargl\"}],\"scatterpolar\":[{\"marker\":{\"colorbar\":{\"outlinewidth\":0,\"ticks\":\"\"}},\"type\":\"scatterpolar\"}],\"scatter\":[{\"fillpattern\":{\"fillmode\":\"overlay\",\"size\":10,\"solidity\":0.2},\"type\":\"scatter\"}],\"scatterternary\":[{\"marker\":{\"colorbar\":{\"outlinewidth\":0,\"ticks\":\"\"}},\"type\":\"scatterternary\"}],\"surface\":[{\"colorbar\":{\"outlinewidth\":0,\"ticks\":\"\"},\"colorscale\":[[0.0,\"#0d0887\"],[0.1111111111111111,\"#46039f\"],[0.2222222222222222,\"#7201a8\"],[0.3333333333333333,\"#9c179e\"],[0.4444444444444444,\"#bd3786\"],[0.5555555555555556,\"#d8576b\"],[0.6666666666666666,\"#ed7953\"],[0.7777777777777778,\"#fb9f3a\"],[0.8888888888888888,\"#fdca26\"],[1.0,\"#f0f921\"]],\"type\":\"surface\"}],\"table\":[{\"cells\":{\"fill\":{\"color\":\"#EBF0F8\"},\"line\":{\"color\":\"white\"}},\"header\":{\"fill\":{\"color\":\"#C8D4E3\"},\"line\":{\"color\":\"white\"}},\"type\":\"table\"}]},\"layout\":{\"annotationdefaults\":{\"arrowcolor\":\"#2a3f5f\",\"arrowhead\":0,\"arrowwidth\":1},\"autotypenumbers\":\"strict\",\"coloraxis\":{\"colorbar\":{\"outlinewidth\":0,\"ticks\":\"\"}},\"colorscale\":{\"diverging\":[[0,\"#8e0152\"],[0.1,\"#c51b7d\"],[0.2,\"#de77ae\"],[0.3,\"#f1b6da\"],[0.4,\"#fde0ef\"],[0.5,\"#f7f7f7\"],[0.6,\"#e6f5d0\"],[0.7,\"#b8e186\"],[0.8,\"#7fbc41\"],[0.9,\"#4d9221\"],[1,\"#276419\"]],\"sequential\":[[0.0,\"#0d0887\"],[0.1111111111111111,\"#46039f\"],[0.2222222222222222,\"#7201a8\"],[0.3333333333333333,\"#9c179e\"],[0.4444444444444444,\"#bd3786\"],[0.5555555555555556,\"#d8576b\"],[0.6666666666666666,\"#ed7953\"],[0.7777777777777778,\"#fb9f3a\"],[0.8888888888888888,\"#fdca26\"],[1.0,\"#f0f921\"]],\"sequentialminus\":[[0.0,\"#0d0887\"],[0.1111111111111111,\"#46039f\"],[0.2222222222222222,\"#7201a8\"],[0.3333333333333333,\"#9c179e\"],[0.4444444444444444,\"#bd3786\"],[0.5555555555555556,\"#d8576b\"],[0.6666666666666666,\"#ed7953\"],[0.7777777777777778,\"#fb9f3a\"],[0.8888888888888888,\"#fdca26\"],[1.0,\"#f0f921\"]]},\"colorway\":[\"#636efa\",\"#EF553B\",\"#00cc96\",\"#ab63fa\",\"#FFA15A\",\"#19d3f3\",\"#FF6692\",\"#B6E880\",\"#FF97FF\",\"#FECB52\"],\"font\":{\"color\":\"#2a3f5f\"},\"geo\":{\"bgcolor\":\"white\",\"lakecolor\":\"white\",\"landcolor\":\"white\",\"showlakes\":true,\"showland\":true,\"subunitcolor\":\"#C8D4E3\"},\"hoverlabel\":{\"align\":\"left\"},\"hovermode\":\"closest\",\"mapbox\":{\"style\":\"light\"},\"paper_bgcolor\":\"white\",\"plot_bgcolor\":\"white\",\"polar\":{\"angularaxis\":{\"gridcolor\":\"#EBF0F8\",\"linecolor\":\"#EBF0F8\",\"ticks\":\"\"},\"bgcolor\":\"white\",\"radialaxis\":{\"gridcolor\":\"#EBF0F8\",\"linecolor\":\"#EBF0F8\",\"ticks\":\"\"}},\"scene\":{\"xaxis\":{\"backgroundcolor\":\"white\",\"gridcolor\":\"#DFE8F3\",\"gridwidth\":2,\"linecolor\":\"#EBF0F8\",\"showbackground\":true,\"ticks\":\"\",\"zerolinecolor\":\"#EBF0F8\"},\"yaxis\":{\"backgroundcolor\":\"white\",\"gridcolor\":\"#DFE8F3\",\"gridwidth\":2,\"linecolor\":\"#EBF0F8\",\"showbackground\":true,\"ticks\":\"\",\"zerolinecolor\":\"#EBF0F8\"},\"zaxis\":{\"backgroundcolor\":\"white\",\"gridcolor\":\"#DFE8F3\",\"gridwidth\":2,\"linecolor\":\"#EBF0F8\",\"showbackground\":true,\"ticks\":\"\",\"zerolinecolor\":\"#EBF0F8\"}},\"shapedefaults\":{\"line\":{\"color\":\"#2a3f5f\"}},\"ternary\":{\"aaxis\":{\"gridcolor\":\"#DFE8F3\",\"linecolor\":\"#A2B1C6\",\"ticks\":\"\"},\"baxis\":{\"gridcolor\":\"#DFE8F3\",\"linecolor\":\"#A2B1C6\",\"ticks\":\"\"},\"bgcolor\":\"white\",\"caxis\":{\"gridcolor\":\"#DFE8F3\",\"linecolor\":\"#A2B1C6\",\"ticks\":\"\"}},\"title\":{\"x\":0.05},\"xaxis\":{\"automargin\":true,\"gridcolor\":\"#EBF0F8\",\"linecolor\":\"#EBF0F8\",\"ticks\":\"\",\"title\":{\"standoff\":15},\"zerolinecolor\":\"#EBF0F8\",\"zerolinewidth\":2},\"yaxis\":{\"automargin\":true,\"gridcolor\":\"#EBF0F8\",\"linecolor\":\"#EBF0F8\",\"ticks\":\"\",\"title\":{\"standoff\":15},\"zerolinecolor\":\"#EBF0F8\",\"zerolinewidth\":2}}},\"title\":{\"font\":{\"size\":22,\"color\":\"Black\"},\"text\":\"<b>Hierarchical Clustering\",\"x\":0.5,\"xanchor\":\"center\",\"yanchor\":\"top\"},\"hoverlabel\":{\"font\":{\"size\":16,\"family\":\"Rockwell\"},\"bgcolor\":\"white\"},\"plot_bgcolor\":\"#ECEFF1\"},                        {\"responsive\": true}                    ).then(function(){\n",
       "                            \n",
       "var gd = document.getElementById('92f6d7dc-5267-4aae-84fd-f155ae8ce1e7');\n",
       "var x = new MutationObserver(function (mutations, observer) {{\n",
       "        var display = window.getComputedStyle(gd).display;\n",
       "        if (!display || display === 'none') {{\n",
       "            console.log([gd, 'removed!']);\n",
       "            Plotly.purge(gd);\n",
       "            observer.disconnect();\n",
       "        }}\n",
       "}});\n",
       "\n",
       "// Listen for the removal of the full notebook cells\n",
       "var notebookContainer = gd.closest('#notebook-container');\n",
       "if (notebookContainer) {{\n",
       "    x.observe(notebookContainer, {childList: true});\n",
       "}}\n",
       "\n",
       "// Listen for the clearing of the current output cell\n",
       "var outputEl = gd.closest('.output');\n",
       "if (outputEl) {{\n",
       "    x.observe(outputEl, {childList: true});\n",
       "}}\n",
       "\n",
       "                        })                };                });            </script>        </div>"
      ]
     },
     "metadata": {},
     "output_type": "display_data"
    }
   ],
   "source": [
    "topic_model.visualize_hierarchy()"
   ]
  },
  {
   "cell_type": "code",
   "execution_count": null,
   "metadata": {},
   "outputs": [],
   "source": []
  }
 ],
 "metadata": {
  "kernelspec": {
   "display_name": "Python 3.10.4 ('hf')",
   "language": "python",
   "name": "python3"
  },
  "language_info": {
   "codemirror_mode": {
    "name": "ipython",
    "version": 3
   },
   "file_extension": ".py",
   "mimetype": "text/x-python",
   "name": "python",
   "nbconvert_exporter": "python",
   "pygments_lexer": "ipython3",
   "version": "3.10.4"
  },
  "orig_nbformat": 4,
  "vscode": {
   "interpreter": {
    "hash": "33f9b881109ba50917c17d7c2a2d48fac24154ac81d48631ebdd0193db1933f7"
   }
  }
 },
 "nbformat": 4,
 "nbformat_minor": 2
}
