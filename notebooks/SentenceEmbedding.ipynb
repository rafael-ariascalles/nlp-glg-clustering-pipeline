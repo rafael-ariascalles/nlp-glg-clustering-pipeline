{
 "cells": [
  {
   "cell_type": "code",
   "execution_count": 1,
   "metadata": {},
   "outputs": [],
   "source": [
    "from datasets import load_dataset,Dataset\n",
    "from datasets.features import Features,Value\n",
    "import pandas as pd\n",
    "from datetime import datetime\n",
    "from tqdm import tqdm\n",
    "import seaborn as sns\n",
    "import matplotlib.pylab as plt\n",
    "import os\n",
    "from datasets.utils import disable_progress_bar\n",
    "from bertopic import BERTopic\n",
    "import numpy as np\n",
    "from IPython.display import Image\n",
    "from nltk.tokenize import sent_tokenize\n",
    "from sentence_transformers import SentenceTransformer\n",
    "from sklearn.feature_extraction.text import CountVectorizer\n",
    "from datasets.load import load_from_disk"
   ]
  },
  {
   "cell_type": "code",
   "execution_count": null,
   "metadata": {},
   "outputs": [],
   "source": [
    "import nltk\n",
    "nltk.download('punkt')"
   ]
  },
  {
   "cell_type": "code",
   "execution_count": null,
   "metadata": {},
   "outputs": [],
   "source": [
    "df = load_dataset(\"rjac/all-the-news-2-1-Component-one\")\n",
    "df = df.filter(lambda batch: batch[\"article\"] is not None)"
   ]
  },
  {
   "cell_type": "code",
   "execution_count": null,
   "metadata": {},
   "outputs": [],
   "source": [
    "def paragraph_tokenizer(batch):\n",
    "    articles = batch[\"article\"]\n",
    "    article_idx = batch[\"article_idx\"]\n",
    "    years = batch[\"year\"]\n",
    "    months = batch[\"month\"]\n",
    "\n",
    "    sentence_len = 10\n",
    "\n",
    "    paragraph_list = []\n",
    "    paragraph_idx = []\n",
    "    paragraph_year = []\n",
    "    paragraph_month = []\n",
    "    paragraph_position = []\n",
    "\n",
    "    for idx,year,month, text in zip(article_idx,years,months,articles):\n",
    "        \n",
    "        sentences = sent_tokenize(text)\n",
    "        number_of_paragraphs = int(len(sentences)/sentence_len)\n",
    "\n",
    "        paragraphs = []\n",
    "\n",
    "        for i in range(number_of_paragraphs+1):\n",
    "            start = i*sentence_len\n",
    "            end = start+sentence_len\n",
    "\n",
    "            paragraph_list.append(' '.join(sentences[start:end]))\n",
    "            paragraph_idx.append(idx)\n",
    "            paragraph_year.append(year)\n",
    "            paragraph_month.append(month)\n",
    "            paragraph_position.append(i)\n",
    "            \n",
    "    return {\"article_idx\":paragraph_idx,\"year\":paragraph_year,\"month\":paragraph_month,\"paragraph_position\":paragraph_position,\"paragraph\":paragraph_list}"
   ]
  },
  {
   "cell_type": "code",
   "execution_count": null,
   "metadata": {},
   "outputs": [],
   "source": [
    "paragraph_df = df.map(paragraph_tokenizer,batched=True,num_proc=os.cpu_count(),remove_columns=df[\"train\"].column_names)"
   ]
  },
  {
   "cell_type": "code",
   "execution_count": null,
   "metadata": {},
   "outputs": [],
   "source": [
    "sentence_model = SentenceTransformer(\"all-MiniLM-L6-v2\")"
   ]
  },
  {
   "cell_type": "code",
   "execution_count": null,
   "metadata": {},
   "outputs": [],
   "source": [
    "paragraph_df = paragraph_df.map(lambda batch: {\"embedding\":sentence_model.encode(batch[\"paragraph\"])},batched=True,num_proc=1)"
   ]
  },
  {
   "cell_type": "code",
   "execution_count": null,
   "metadata": {},
   "outputs": [],
   "source": [
    "paragraph_df = paragraph_df.filter(lambda batch: [len(text)>10 for text in batch[\"paragraph\"]],batched=True,num_proc=os.cpu_count())"
   ]
  },
  {
   "cell_type": "code",
   "execution_count": null,
   "metadata": {},
   "outputs": [],
   "source": [
    "paragraph_df.push_to_hub(\"rjac/all-the-news-2-1-Component-one-sentence-embedding\",max_shard_size=\"1GB\",private=False,token=os.getenv(\"AUTH_TOKEN\"))"
   ]
  }
 ],
 "metadata": {
  "kernelspec": {
   "display_name": "Python 3.10.4 ('hf')",
   "language": "python",
   "name": "python3"
  },
  "language_info": {
   "codemirror_mode": {
    "name": "ipython",
    "version": 3
   },
   "file_extension": ".py",
   "mimetype": "text/x-python",
   "name": "python",
   "nbconvert_exporter": "python",
   "pygments_lexer": "ipython3",
   "version": "3.10.4"
  },
  "orig_nbformat": 4,
  "vscode": {
   "interpreter": {
    "hash": "33f9b881109ba50917c17d7c2a2d48fac24154ac81d48631ebdd0193db1933f7"
   }
  }
 },
 "nbformat": 4,
 "nbformat_minor": 2
}
