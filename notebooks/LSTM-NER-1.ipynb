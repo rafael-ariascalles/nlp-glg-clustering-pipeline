{
 "cells": [
  {
   "cell_type": "code",
   "execution_count": 1,
   "id": "57cfce6b",
   "metadata": {},
   "outputs": [
    {
     "name": "stdout",
     "output_type": "stream",
     "text": [
      "Tensorflow version: 2.9.1\n",
      "GPU detected: []\n"
     ]
    }
   ],
   "source": [
    "%matplotlib inline\n",
    "import matplotlib.pyplot as plt\n",
    "import pandas as pd\n",
    "import numpy as np\n",
    "np.random.seed(0)\n",
    "plt.style.use(\"ggplot\")\n",
    "\n",
    "import tensorflow as tf\n",
    "print('Tensorflow version:', tf.__version__)\n",
    "print('GPU detected:', tf.config.list_physical_devices('GPU'))"
   ]
  },
  {
   "cell_type": "code",
   "execution_count": 2,
   "id": "ffd2f805",
   "metadata": {},
   "outputs": [],
   "source": [
    "#Loading data\n",
    "data= pd.read_csv(\"https://raw.githubusercontent.com/yrnigam/Named-Entity-Recognition-NER-using-LSTMs/master/ner_dataset.csv\",encoding=\"latin1\")"
   ]
  },
  {
   "cell_type": "code",
   "execution_count": 3,
   "id": "db99bde9",
   "metadata": {},
   "outputs": [
    {
     "name": "stdout",
     "output_type": "stream",
     "text": [
      "Sentence #    1000616\n",
      "Word                0\n",
      "POS                 0\n",
      "Tag                 0\n",
      "dtype: int64\n"
     ]
    }
   ],
   "source": [
    "#Looking for null values\n",
    "print(data.isnull().sum())"
   ]
  },
  {
   "cell_type": "code",
   "execution_count": 4,
   "id": "2d638a31",
   "metadata": {},
   "outputs": [
    {
     "data": {
      "text/html": [
       "<div>\n",
       "<style scoped>\n",
       "    .dataframe tbody tr th:only-of-type {\n",
       "        vertical-align: middle;\n",
       "    }\n",
       "\n",
       "    .dataframe tbody tr th {\n",
       "        vertical-align: top;\n",
       "    }\n",
       "\n",
       "    .dataframe thead th {\n",
       "        text-align: right;\n",
       "    }\n",
       "</style>\n",
       "<table border=\"1\" class=\"dataframe\">\n",
       "  <thead>\n",
       "    <tr style=\"text-align: right;\">\n",
       "      <th></th>\n",
       "      <th>Sentence #</th>\n",
       "      <th>Word</th>\n",
       "      <th>POS</th>\n",
       "      <th>Tag</th>\n",
       "    </tr>\n",
       "  </thead>\n",
       "  <tbody>\n",
       "    <tr>\n",
       "      <th>0</th>\n",
       "      <td>Sentence: 1</td>\n",
       "      <td>Thousands</td>\n",
       "      <td>NNS</td>\n",
       "      <td>O</td>\n",
       "    </tr>\n",
       "    <tr>\n",
       "      <th>1</th>\n",
       "      <td>Sentence: 1</td>\n",
       "      <td>of</td>\n",
       "      <td>IN</td>\n",
       "      <td>O</td>\n",
       "    </tr>\n",
       "    <tr>\n",
       "      <th>2</th>\n",
       "      <td>Sentence: 1</td>\n",
       "      <td>demonstrators</td>\n",
       "      <td>NNS</td>\n",
       "      <td>O</td>\n",
       "    </tr>\n",
       "    <tr>\n",
       "      <th>3</th>\n",
       "      <td>Sentence: 1</td>\n",
       "      <td>have</td>\n",
       "      <td>VBP</td>\n",
       "      <td>O</td>\n",
       "    </tr>\n",
       "    <tr>\n",
       "      <th>4</th>\n",
       "      <td>Sentence: 1</td>\n",
       "      <td>marched</td>\n",
       "      <td>VBN</td>\n",
       "      <td>O</td>\n",
       "    </tr>\n",
       "  </tbody>\n",
       "</table>\n",
       "</div>"
      ],
      "text/plain": [
       "    Sentence #           Word  POS Tag\n",
       "0  Sentence: 1      Thousands  NNS   O\n",
       "1  Sentence: 1             of   IN   O\n",
       "2  Sentence: 1  demonstrators  NNS   O\n",
       "3  Sentence: 1           have  VBP   O\n",
       "4  Sentence: 1        marched  VBN   O"
      ]
     },
     "execution_count": 4,
     "metadata": {},
     "output_type": "execute_result"
    }
   ],
   "source": [
    "#Filling Null Values\n",
    "data = data.fillna(method='ffill')\n",
    "data.head()"
   ]
  },
  {
   "cell_type": "code",
   "execution_count": 5,
   "id": "1eb690db",
   "metadata": {},
   "outputs": [
    {
     "name": "stdout",
     "output_type": "stream",
     "text": [
      "Unique Words in corpus: 35178\n",
      "Unique Tag in corpus: 17\n"
     ]
    }
   ],
   "source": [
    "print(\"Unique Words in corpus:\",data['Word'].nunique())\n",
    "print(\"Unique Tag in corpus:\",data['Tag'].nunique())"
   ]
  },
  {
   "cell_type": "code",
   "execution_count": 6,
   "id": "0323cede",
   "metadata": {},
   "outputs": [],
   "source": [
    "from tensorflow.keras.preprocessing.sequence import pad_sequences\n",
    "from tensorflow.keras.utils import to_categorical\n",
    "\n",
    "class NERTextPrepper():\n",
    "    def __init__(self, data, max_len=50):\n",
    "        self.words = list(set(data['Word'].values))\n",
    "        self.words.append(\"ENDPAD\")\n",
    "        self.num_words = len(self.words)\n",
    "        \n",
    "        self.tags = list(set(data['Tag'].values))\n",
    "        self.num_tags = len(self.tags)\n",
    "        \n",
    "        self.word2idx =  {w : i+1 for i,w in enumerate(self.words)}\n",
    "        self.tag2idx  =  {t : i for i,t in enumerate(self.tags)}\n",
    "        \n",
    "        self.n_sent = 1 #counter\n",
    "        self.data = data\n",
    "        agg_func = lambda s:[(w,t) for w,t in zip(s['Word'].tolist(),s['Tag'].tolist())]\n",
    "        self.grouped = self.data.groupby(\"Sentence #\").apply(agg_func)\n",
    "        self.sentences = [s for s in self.grouped]\n",
    "        \n",
    "        self.max_len = 50\n",
    "        \n",
    "        self.X = [[self.word2idx[w[0]] for w in s]for s in self.sentences]\n",
    "        self.X = pad_sequences(maxlen=self.max_len , sequences=self.X, padding='post', value=self.num_words-1)\n",
    "\n",
    "        self.y = [[self.tag2idx[w[1]] for w in s]for s in self.sentences]\n",
    "        self.y = pad_sequences(maxlen=max_len , sequences=self.y, padding='post', value=self.tag2idx[\"O\"])\n",
    "        self.y = [to_categorical(i, num_classes=self.num_tags) for i in self.y]"
   ]
  },
  {
   "cell_type": "code",
   "execution_count": 7,
   "id": "96944356",
   "metadata": {},
   "outputs": [],
   "source": [
    "ner = NERTextPrepper(data)"
   ]
  },
  {
   "cell_type": "code",
   "execution_count": 8,
   "id": "1f581824",
   "metadata": {},
   "outputs": [],
   "source": [
    "from sklearn.model_selection import train_test_split\n",
    "x_train,x_test,y_train,y_test = train_test_split(ner.X, ner.y, test_size=0.1, random_state=1)"
   ]
  },
  {
   "cell_type": "code",
   "execution_count": 9,
   "id": "523c5b71",
   "metadata": {},
   "outputs": [
    {
     "name": "stdout",
     "output_type": "stream",
     "text": [
      "Model: \"model\"\n",
      "_________________________________________________________________\n",
      " Layer (type)                Output Shape              Param #   \n",
      "=================================================================\n",
      " input_1 (InputLayer)        [(None, 50)]              0         \n",
      "                                                                 \n",
      " embedding (Embedding)       (None, 50, 50)            1758950   \n",
      "                                                                 \n",
      " spatial_dropout1d (SpatialD  (None, 50, 50)           0         \n",
      " ropout1D)                                                       \n",
      "                                                                 \n",
      " bidirectional (Bidirectiona  (None, 50, 200)          120800    \n",
      " l)                                                              \n",
      "                                                                 \n",
      " time_distributed (TimeDistr  (None, 50, 17)           3417      \n",
      " ibuted)                                                         \n",
      "                                                                 \n",
      "=================================================================\n",
      "Total params: 1,883,167\n",
      "Trainable params: 1,883,167\n",
      "Non-trainable params: 0\n",
      "_________________________________________________________________\n",
      "Epoch 1/5\n",
      "540/540 [==============================] - 40s 69ms/step - loss: 0.2685 - accuracy: 0.9435 - val_loss: 0.1100 - val_accuracy: 0.9698\n",
      "Epoch 2/5\n",
      "540/540 [==============================] - 35s 65ms/step - loss: 0.0740 - accuracy: 0.9794 - val_loss: 0.0591 - val_accuracy: 0.9826\n",
      "Epoch 3/5\n",
      "540/540 [==============================] - 35s 64ms/step - loss: 0.0471 - accuracy: 0.9862 - val_loss: 0.0516 - val_accuracy: 0.9844\n",
      "Epoch 4/5\n",
      "540/540 [==============================] - 36s 66ms/step - loss: 0.0377 - accuracy: 0.9886 - val_loss: 0.0497 - val_accuracy: 0.9850\n",
      "Epoch 5/5\n",
      "540/540 [==============================] - 35s 65ms/step - loss: 0.0323 - accuracy: 0.9900 - val_loss: 0.0495 - val_accuracy: 0.9853\n"
     ]
    }
   ],
   "source": [
    "from tensorflow.keras import Model, Input\n",
    "from tensorflow.keras.layers import LSTM, Embedding, Dense\n",
    "from tensorflow.keras.layers import TimeDistributed, SpatialDropout1D, Bidirectional\n",
    "from tensorflow.keras.callbacks import ModelCheckpoint, EarlyStopping\n",
    "\n",
    "input_word = Input(shape = (ner.max_len,))\n",
    "model = Embedding(input_dim=ner.num_words,output_dim=ner.max_len,input_length=ner.max_len)(input_word)\n",
    "model = SpatialDropout1D(0.1)(model)\n",
    "model = Bidirectional(LSTM(units=100, return_sequences=True, recurrent_dropout=0.1))(model)\n",
    "out = TimeDistributed(Dense(ner.num_tags,activation='softmax'))(model)\n",
    "model = Model(input_word,out)\n",
    "model.summary()\n",
    "\n",
    "model.compile(optimizer=\"adam\",loss='categorical_crossentropy',metrics=['accuracy'])\n",
    "\n",
    "early_stopping = EarlyStopping(monitor='val_accuracy',patience=1,verbose=0,mode='max',restore_best_weights=False)\n",
    "callbacks = [early_stopping]\n",
    "\n",
    "history = model.fit(\n",
    "    x_train,np.array(y_train),\n",
    "    validation_split = 0.2,\n",
    "    batch_size = 64,\n",
    "    epochs = 5,\n",
    "    verbose = 1,\n",
    "    callbacks=callbacks\n",
    ")"
   ]
  },
  {
   "cell_type": "code",
   "execution_count": 10,
   "id": "bf21ec33",
   "metadata": {
    "scrolled": true
   },
   "outputs": [
    {
     "name": "stdout",
     "output_type": "stream",
     "text": [
      "150/150 [==============================] - 2s 10ms/step - loss: 0.0515 - accuracy: 0.9851\n"
     ]
    },
    {
     "data": {
      "text/plain": [
       "[0.051496170461177826, 0.9851084351539612]"
      ]
     },
     "execution_count": 10,
     "metadata": {},
     "output_type": "execute_result"
    }
   ],
   "source": [
    "model.evaluate(x_test, np.array(y_test))"
   ]
  },
  {
   "cell_type": "code",
   "execution_count": 11,
   "id": "9fac8e33",
   "metadata": {},
   "outputs": [
    {
     "name": "stdout",
     "output_type": "stream",
     "text": [
      "150/150 [==============================] - 2s 9ms/step\n"
     ]
    }
   ],
   "source": [
    "y_pred_probs = model.predict(np.array(x_test))"
   ]
  },
  {
   "cell_type": "code",
   "execution_count": 12,
   "id": "d1f2b51e",
   "metadata": {},
   "outputs": [],
   "source": [
    "y_true = np.argmax(np.array(y_test), axis=-1)\n",
    "y_true_flat = [item for sublist in y_true for item in sublist]\n",
    "\n",
    "y_pred = np.argmax(y_pred_probs, axis=-1)\n",
    "y_pred = [item for sublist in y_pred for item in sublist]"
   ]
  },
  {
   "cell_type": "code",
   "execution_count": 13,
   "id": "92f00359",
   "metadata": {},
   "outputs": [
    {
     "name": "stdout",
     "output_type": "stream",
     "text": [
      "              precision    recall  f1-score   support\n",
      "\n",
      "           O       0.99      1.00      1.00    223746\n",
      "       B-nat       0.00      0.00      0.00        14\n",
      "       B-eve       1.00      0.09      0.16        34\n",
      "       B-tim       0.93      0.85      0.89      2114\n",
      "       I-geo       0.83      0.74      0.78       760\n",
      "       I-eve       0.00      0.00      0.00        30\n",
      "       I-tim       0.84      0.66      0.74       684\n",
      "       B-gpe       0.95      0.94      0.95      1604\n",
      "       I-gpe       0.89      0.32      0.47        25\n",
      "       I-org       0.77      0.78      0.77      1629\n",
      "       B-org       0.78      0.71      0.75      1948\n",
      "       I-art       0.00      0.00      0.00        49\n",
      "       B-per       0.84      0.80      0.82      1651\n",
      "       B-geo       0.88      0.87      0.87      3765\n",
      "       I-per       0.88      0.81      0.84      1695\n",
      "       B-art       0.00      0.00      0.00        48\n",
      "       I-nat       0.00      0.00      0.00         4\n",
      "\n",
      "    accuracy                           0.99    239800\n",
      "   macro avg       0.62      0.50      0.53    239800\n",
      "weighted avg       0.98      0.99      0.98    239800\n",
      "\n"
     ]
    },
    {
     "name": "stderr",
     "output_type": "stream",
     "text": [
      "/Users/jason/opt/anaconda3/lib/python3.8/site-packages/sklearn/metrics/_classification.py:1318: UndefinedMetricWarning: Precision and F-score are ill-defined and being set to 0.0 in labels with no predicted samples. Use `zero_division` parameter to control this behavior.\n",
      "  _warn_prf(average, modifier, msg_start, len(result))\n",
      "/Users/jason/opt/anaconda3/lib/python3.8/site-packages/sklearn/metrics/_classification.py:1318: UndefinedMetricWarning: Precision and F-score are ill-defined and being set to 0.0 in labels with no predicted samples. Use `zero_division` parameter to control this behavior.\n",
      "  _warn_prf(average, modifier, msg_start, len(result))\n",
      "/Users/jason/opt/anaconda3/lib/python3.8/site-packages/sklearn/metrics/_classification.py:1318: UndefinedMetricWarning: Precision and F-score are ill-defined and being set to 0.0 in labels with no predicted samples. Use `zero_division` parameter to control this behavior.\n",
      "  _warn_prf(average, modifier, msg_start, len(result))\n"
     ]
    }
   ],
   "source": [
    "from sklearn.metrics import classification_report\n",
    "print(classification_report(y_true_flat, y_pred, target_names=ner.tags))"
   ]
  },
  {
   "cell_type": "code",
   "execution_count": null,
   "id": "a1a48de4",
   "metadata": {},
   "outputs": [],
   "source": []
  }
 ],
 "metadata": {
  "kernelspec": {
   "display_name": "Python 3",
   "language": "python",
   "name": "python3"
  },
  "language_info": {
   "codemirror_mode": {
    "name": "ipython",
    "version": 3
   },
   "file_extension": ".py",
   "mimetype": "text/x-python",
   "name": "python",
   "nbconvert_exporter": "python",
   "pygments_lexer": "ipython3",
   "version": "3.8.8"
  }
 },
 "nbformat": 4,
 "nbformat_minor": 5
}
