{
  "cells": [
    {
      "cell_type": "code",
      "execution_count": null,
      "metadata": {
        "colab": {
          "base_uri": "https://localhost:8080/"
        },
        "id": "1MeSOb5Qhvap",
        "outputId": "3a3ef8cb-0ceb-4b7c-a589-5a042539bef7"
      },
      "outputs": [
        {
          "name": "stdout",
          "output_type": "stream",
          "text": [
            "Your runtime has 54.8 gigabytes of available RAM\n",
            "\n",
            "You are using a high-RAM runtime!\n"
          ]
        }
      ],
      "source": [
        "from psutil import virtual_memory\n",
        "ram_gb = virtual_memory().total / 1e9\n",
        "print('Your runtime has {:.1f} gigabytes of available RAM\\n'.format(ram_gb))\n",
        "\n",
        "if ram_gb < 20:\n",
        "  print('Not using a high-RAM runtime')\n",
        "else:\n",
        "  print('You are using a high-RAM runtime!')"
      ]
    },
    {
      "cell_type": "code",
      "execution_count": null,
      "metadata": {
        "colab": {
          "base_uri": "https://localhost:8080/"
        },
        "id": "_huX0b5k58Ke",
        "outputId": "a8b31482-d864-4dc2-feef-f1f92336fdbf"
      },
      "outputs": [
        {
          "name": "stdout",
          "output_type": "stream",
          "text": [
            "Looking in indexes: https://pypi.org/simple, https://us-python.pkg.dev/colab-wheels/public/simple/\n",
            "Collecting flair\n",
            "  Downloading flair-0.11.3-py3-none-any.whl (401 kB)\n",
            "\u001b[K     |████████████████████████████████| 401 kB 13.8 MB/s \n",
            "\u001b[?25hCollecting wikipedia-api\n",
            "  Downloading Wikipedia-API-0.5.4.tar.gz (18 kB)\n",
            "Collecting bpemb>=0.3.2\n",
            "  Downloading bpemb-0.3.3-py3-none-any.whl (19 kB)\n",
            "Requirement already satisfied: tqdm>=4.26.0 in /usr/local/lib/python3.7/dist-packages (from flair) (4.64.0)\n",
            "Requirement already satisfied: gensim>=3.4.0 in /usr/local/lib/python3.7/dist-packages (from flair) (3.6.0)\n",
            "Collecting konoha<5.0.0,>=4.0.0\n",
            "  Downloading konoha-4.6.5-py3-none-any.whl (20 kB)\n",
            "Requirement already satisfied: tabulate in /usr/local/lib/python3.7/dist-packages (from flair) (0.8.10)\n",
            "Collecting janome\n",
            "  Downloading Janome-0.4.2-py2.py3-none-any.whl (19.7 MB)\n",
            "\u001b[K     |████████████████████████████████| 19.7 MB 82.4 MB/s \n",
            "\u001b[?25hCollecting hyperopt>=0.2.7\n",
            "  Downloading hyperopt-0.2.7-py2.py3-none-any.whl (1.6 MB)\n",
            "\u001b[K     |████████████████████████████████| 1.6 MB 62.0 MB/s \n",
            "\u001b[?25hRequirement already satisfied: gdown==4.4.0 in /usr/local/lib/python3.7/dist-packages (from flair) (4.4.0)\n",
            "Requirement already satisfied: torch!=1.8,>=1.5.0 in /usr/local/lib/python3.7/dist-packages (from flair) (1.12.1+cu113)\n",
            "Collecting huggingface-hub\n",
            "  Downloading huggingface_hub-0.8.1-py3-none-any.whl (101 kB)\n",
            "\u001b[K     |████████████████████████████████| 101 kB 10.0 MB/s \n",
            "\u001b[?25hCollecting deprecated>=1.2.4\n",
            "  Downloading Deprecated-1.2.13-py2.py3-none-any.whl (9.6 kB)\n",
            "Collecting sqlitedict>=1.6.0\n",
            "  Downloading sqlitedict-2.0.0.tar.gz (46 kB)\n",
            "\u001b[K     |████████████████████████████████| 46 kB 4.5 MB/s \n",
            "\u001b[?25hCollecting segtok>=1.5.7\n",
            "  Downloading segtok-1.5.11-py3-none-any.whl (24 kB)\n",
            "Collecting pptree\n",
            "  Downloading pptree-3.1.tar.gz (3.0 kB)\n",
            "Collecting ftfy\n",
            "  Downloading ftfy-6.1.1-py3-none-any.whl (53 kB)\n",
            "\u001b[K     |████████████████████████████████| 53 kB 1.7 MB/s \n",
            "\u001b[?25hCollecting transformers>=4.0.0\n",
            "  Downloading transformers-4.21.1-py3-none-any.whl (4.7 MB)\n",
            "\u001b[K     |████████████████████████████████| 4.7 MB 63.4 MB/s \n",
            "\u001b[?25hRequirement already satisfied: matplotlib>=2.2.3 in /usr/local/lib/python3.7/dist-packages (from flair) (3.2.2)\n",
            "Collecting mpld3==0.3\n",
            "  Downloading mpld3-0.3.tar.gz (788 kB)\n",
            "\u001b[K     |████████████████████████████████| 788 kB 72.5 MB/s \n",
            "\u001b[?25hRequirement already satisfied: lxml in /usr/local/lib/python3.7/dist-packages (from flair) (4.9.1)\n",
            "Collecting sentencepiece==0.1.95\n",
            "  Downloading sentencepiece-0.1.95-cp37-cp37m-manylinux2014_x86_64.whl (1.2 MB)\n",
            "\u001b[K     |████████████████████████████████| 1.2 MB 83.7 MB/s \n",
            "\u001b[?25hRequirement already satisfied: more-itertools in /usr/local/lib/python3.7/dist-packages (from flair) (8.14.0)\n",
            "Collecting conllu>=4.0\n",
            "  Downloading conllu-4.5.2-py2.py3-none-any.whl (16 kB)\n",
            "Requirement already satisfied: python-dateutil>=2.6.1 in /usr/local/lib/python3.7/dist-packages (from flair) (2.8.2)\n",
            "Requirement already satisfied: scikit-learn>=0.21.3 in /usr/local/lib/python3.7/dist-packages (from flair) (1.0.2)\n",
            "Collecting langdetect\n",
            "  Downloading langdetect-1.0.9.tar.gz (981 kB)\n",
            "\u001b[K     |████████████████████████████████| 981 kB 64.3 MB/s \n",
            "\u001b[?25hRequirement already satisfied: regex in /usr/local/lib/python3.7/dist-packages (from flair) (2022.6.2)\n",
            "Requirement already satisfied: filelock in /usr/local/lib/python3.7/dist-packages (from gdown==4.4.0->flair) (3.7.1)\n",
            "Requirement already satisfied: beautifulsoup4 in /usr/local/lib/python3.7/dist-packages (from gdown==4.4.0->flair) (4.6.3)\n",
            "Requirement already satisfied: six in /usr/local/lib/python3.7/dist-packages (from gdown==4.4.0->flair) (1.15.0)\n",
            "Requirement already satisfied: requests[socks] in /usr/local/lib/python3.7/dist-packages (from gdown==4.4.0->flair) (2.23.0)\n",
            "Requirement already satisfied: numpy in /usr/local/lib/python3.7/dist-packages (from bpemb>=0.3.2->flair) (1.21.6)\n",
            "Requirement already satisfied: wrapt<2,>=1.10 in /usr/local/lib/python3.7/dist-packages (from deprecated>=1.2.4->flair) (1.14.1)\n",
            "Requirement already satisfied: scipy>=0.18.1 in /usr/local/lib/python3.7/dist-packages (from gensim>=3.4.0->flair) (1.7.3)\n",
            "Requirement already satisfied: smart-open>=1.2.1 in /usr/local/lib/python3.7/dist-packages (from gensim>=3.4.0->flair) (5.2.1)\n",
            "Requirement already satisfied: future in /usr/local/lib/python3.7/dist-packages (from hyperopt>=0.2.7->flair) (0.16.0)\n",
            "Requirement already satisfied: networkx>=2.2 in /usr/local/lib/python3.7/dist-packages (from hyperopt>=0.2.7->flair) (2.6.3)\n",
            "Collecting py4j\n",
            "  Downloading py4j-0.10.9.7-py2.py3-none-any.whl (200 kB)\n",
            "\u001b[K     |████████████████████████████████| 200 kB 75.8 MB/s \n",
            "\u001b[?25hRequirement already satisfied: cloudpickle in /usr/local/lib/python3.7/dist-packages (from hyperopt>=0.2.7->flair) (1.3.0)\n",
            "Collecting requests\n",
            "  Downloading requests-2.28.1-py3-none-any.whl (62 kB)\n",
            "\u001b[K     |████████████████████████████████| 62 kB 1.8 MB/s \n",
            "\u001b[?25hCollecting overrides<4.0.0,>=3.0.0\n",
            "  Downloading overrides-3.1.0.tar.gz (11 kB)\n",
            "Collecting importlib-metadata<4.0.0,>=3.7.0\n",
            "  Downloading importlib_metadata-3.10.1-py3-none-any.whl (14 kB)\n",
            "Requirement already satisfied: zipp>=0.5 in /usr/local/lib/python3.7/dist-packages (from importlib-metadata<4.0.0,>=3.7.0->konoha<5.0.0,>=4.0.0->flair) (3.8.1)\n",
            "Requirement already satisfied: typing-extensions>=3.6.4 in /usr/local/lib/python3.7/dist-packages (from importlib-metadata<4.0.0,>=3.7.0->konoha<5.0.0,>=4.0.0->flair) (4.1.1)\n",
            "Requirement already satisfied: pyparsing!=2.0.4,!=2.1.2,!=2.1.6,>=2.0.1 in /usr/local/lib/python3.7/dist-packages (from matplotlib>=2.2.3->flair) (3.0.9)\n",
            "Requirement already satisfied: cycler>=0.10 in /usr/local/lib/python3.7/dist-packages (from matplotlib>=2.2.3->flair) (0.11.0)\n",
            "Requirement already satisfied: kiwisolver>=1.0.1 in /usr/local/lib/python3.7/dist-packages (from matplotlib>=2.2.3->flair) (1.4.4)\n",
            "Requirement already satisfied: certifi>=2017.4.17 in /usr/local/lib/python3.7/dist-packages (from requests->bpemb>=0.3.2->flair) (2022.6.15)\n",
            "Requirement already satisfied: charset-normalizer<3,>=2 in /usr/local/lib/python3.7/dist-packages (from requests->bpemb>=0.3.2->flair) (2.1.0)\n",
            "Requirement already satisfied: idna<4,>=2.5 in /usr/local/lib/python3.7/dist-packages (from requests->bpemb>=0.3.2->flair) (2.10)\n",
            "Requirement already satisfied: urllib3<1.27,>=1.21.1 in /usr/local/lib/python3.7/dist-packages (from requests->bpemb>=0.3.2->flair) (1.24.3)\n",
            "Requirement already satisfied: threadpoolctl>=2.0.0 in /usr/local/lib/python3.7/dist-packages (from scikit-learn>=0.21.3->flair) (3.1.0)\n",
            "Requirement already satisfied: joblib>=0.11 in /usr/local/lib/python3.7/dist-packages (from scikit-learn>=0.21.3->flair) (1.1.0)\n",
            "Collecting tokenizers!=0.11.3,<0.13,>=0.11.1\n",
            "  Downloading tokenizers-0.12.1-cp37-cp37m-manylinux_2_12_x86_64.manylinux2010_x86_64.whl (6.6 MB)\n",
            "\u001b[K     |████████████████████████████████| 6.6 MB 77.4 MB/s \n",
            "\u001b[?25hCollecting pyyaml>=5.1\n",
            "  Downloading PyYAML-6.0-cp37-cp37m-manylinux_2_5_x86_64.manylinux1_x86_64.manylinux_2_12_x86_64.manylinux2010_x86_64.whl (596 kB)\n",
            "\u001b[K     |████████████████████████████████| 596 kB 82.2 MB/s \n",
            "\u001b[?25hRequirement already satisfied: packaging>=20.0 in /usr/local/lib/python3.7/dist-packages (from transformers>=4.0.0->flair) (21.3)\n",
            "Requirement already satisfied: wcwidth>=0.2.5 in /usr/local/lib/python3.7/dist-packages (from ftfy->flair) (0.2.5)\n",
            "Requirement already satisfied: PySocks!=1.5.7,>=1.5.6 in /usr/local/lib/python3.7/dist-packages (from requests->bpemb>=0.3.2->flair) (1.7.1)\n",
            "Building wheels for collected packages: mpld3, overrides, sqlitedict, langdetect, pptree, wikipedia-api\n",
            "  Building wheel for mpld3 (setup.py) ... \u001b[?25l\u001b[?25hdone\n",
            "  Created wheel for mpld3: filename=mpld3-0.3-py3-none-any.whl size=116702 sha256=092e9ee2977cc2abfe8a242683bd34f19562983a3c377910e6c4653d2feebdf7\n",
            "  Stored in directory: /root/.cache/pip/wheels/26/70/6a/1c79e59951a41b4045497da187b2724f5659ca64033cf4548e\n",
            "  Building wheel for overrides (setup.py) ... \u001b[?25l\u001b[?25hdone\n",
            "  Created wheel for overrides: filename=overrides-3.1.0-py3-none-any.whl size=10187 sha256=8c69f26e80457e7c6c6845e1888a362a2ba3f82a89df8357c1c11f3637143c2b\n",
            "  Stored in directory: /root/.cache/pip/wheels/3a/0d/38/01a9bc6e20dcfaf0a6a7b552d03137558ba1c38aea47644682\n",
            "  Building wheel for sqlitedict (setup.py) ... \u001b[?25l\u001b[?25hdone\n",
            "  Created wheel for sqlitedict: filename=sqlitedict-2.0.0-py3-none-any.whl size=15736 sha256=9a60fa60c14a3ca4e90e2bf9d61249acc6277c282a5b9cc19a69650a9673eb27\n",
            "  Stored in directory: /root/.cache/pip/wheels/96/dd/2e/0ed4a25cb73fc30c7ea8d10b50acb7226175736067e40a7ea3\n",
            "  Building wheel for langdetect (setup.py) ... \u001b[?25l\u001b[?25hdone\n",
            "  Created wheel for langdetect: filename=langdetect-1.0.9-py3-none-any.whl size=993242 sha256=b9bd7d848527c91cf23061ad13fcd9ffe952b7f6d6437373a31eca7848306892\n",
            "  Stored in directory: /root/.cache/pip/wheels/c5/96/8a/f90c59ed25d75e50a8c10a1b1c2d4c402e4dacfa87f3aff36a\n",
            "  Building wheel for pptree (setup.py) ... \u001b[?25l\u001b[?25hdone\n",
            "  Created wheel for pptree: filename=pptree-3.1-py3-none-any.whl size=4629 sha256=8259e97fd2c064f2472240cd6679f4527e649682c3735a5a606deb5a8c0d0f09\n",
            "  Stored in directory: /root/.cache/pip/wheels/9e/e8/7d/a9c3c19b4722608a0d8b05a38c36bc3f230c43becd2a46794b\n",
            "  Building wheel for wikipedia-api (setup.py) ... \u001b[?25l\u001b[?25hdone\n",
            "  Created wheel for wikipedia-api: filename=Wikipedia_API-0.5.4-py3-none-any.whl size=13477 sha256=ff51481fc204aee567eba6e3b81b608648f7844a967d09d79ba105e9edb438e3\n",
            "  Stored in directory: /root/.cache/pip/wheels/d3/24/56/58ba93cf78be162451144e7a9889603f437976ef1ae7013d04\n",
            "Successfully built mpld3 overrides sqlitedict langdetect pptree wikipedia-api\n",
            "Installing collected packages: requests, pyyaml, importlib-metadata, tokenizers, sentencepiece, py4j, overrides, huggingface-hub, wikipedia-api, transformers, sqlitedict, segtok, pptree, mpld3, langdetect, konoha, janome, hyperopt, ftfy, deprecated, conllu, bpemb, flair\n",
            "  Attempting uninstall: requests\n",
            "    Found existing installation: requests 2.23.0\n",
            "    Uninstalling requests-2.23.0:\n",
            "      Successfully uninstalled requests-2.23.0\n",
            "  Attempting uninstall: pyyaml\n",
            "    Found existing installation: PyYAML 3.13\n",
            "    Uninstalling PyYAML-3.13:\n",
            "      Successfully uninstalled PyYAML-3.13\n",
            "  Attempting uninstall: importlib-metadata\n",
            "    Found existing installation: importlib-metadata 4.12.0\n",
            "    Uninstalling importlib-metadata-4.12.0:\n",
            "      Successfully uninstalled importlib-metadata-4.12.0\n",
            "  Attempting uninstall: hyperopt\n",
            "    Found existing installation: hyperopt 0.1.2\n",
            "    Uninstalling hyperopt-0.1.2:\n",
            "      Successfully uninstalled hyperopt-0.1.2\n",
            "\u001b[31mERROR: pip's dependency resolver does not currently take into account all the packages that are installed. This behaviour is the source of the following dependency conflicts.\n",
            "markdown 3.4.1 requires importlib-metadata>=4.4; python_version < \"3.10\", but you have importlib-metadata 3.10.1 which is incompatible.\u001b[0m\n",
            "Successfully installed bpemb-0.3.3 conllu-4.5.2 deprecated-1.2.13 flair-0.11.3 ftfy-6.1.1 huggingface-hub-0.8.1 hyperopt-0.2.7 importlib-metadata-3.10.1 janome-0.4.2 konoha-4.6.5 langdetect-1.0.9 mpld3-0.3 overrides-3.1.0 pptree-3.1 py4j-0.10.9.7 pyyaml-6.0 requests-2.28.1 segtok-1.5.11 sentencepiece-0.1.95 sqlitedict-2.0.0 tokenizers-0.12.1 transformers-4.21.1 wikipedia-api-0.5.4\n"
          ]
        }
      ],
      "source": [
        "!pip install flair"
      ]
    },
    {
      "cell_type": "code",
      "execution_count": null,
      "metadata": {
        "id": "5qXwMOJx0JEn"
      },
      "outputs": [],
      "source": [
        "from flair.data import Corpus, Sentence\n",
        "from flair.datasets import ColumnCorpus\n",
        "from flair.embeddings import WordEmbeddings, FlairEmbeddings, StackedEmbeddings\n",
        "from flair.models import SequenceTagger\n",
        "from flair.trainers import ModelTrainer"
      ]
    },
    {
      "cell_type": "code",
      "execution_count": null,
      "metadata": {
        "colab": {
          "base_uri": "https://localhost:8080/"
        },
        "id": "VAyGolma1TTU",
        "outputId": "21087ea0-22c1-43b1-a9ab-6f1340fa36ba"
      },
      "outputs": [
        {
          "name": "stdout",
          "output_type": "stream",
          "text": [
            "Mounted at /content/drive/\n"
          ]
        }
      ],
      "source": [
        "from google.colab import drive\n",
        "drive.mount('/content/drive/')"
      ]
    },
    {
      "cell_type": "code",
      "execution_count": null,
      "metadata": {
        "colab": {
          "base_uri": "https://localhost:8080/"
        },
        "id": "TVaJRBiX33jd",
        "outputId": "5fcb3042-d1d5-45b0-bc38-26197cd76143"
      },
      "outputs": [
        {
          "data": {
            "text/plain": [
              "['train.txt',\n",
              " 'test.txt',\n",
              " 'val.txt',\n",
              " 'valtrim.txt',\n",
              " 'ner_test_utf8.txt',\n",
              " 'ner_val_utf8.txt',\n",
              " 'ner_train_utf8.txt',\n",
              " 'weights.txt',\n",
              " 'training.log',\n",
              " 'best-model.pt',\n",
              " 'final-model.pt',\n",
              " 'dev.tsv',\n",
              " 'loss.tsv',\n",
              " '-resume',\n",
              " '-resume2',\n",
              " 'ner_test_utf8_mod.txt']"
            ]
          },
          "execution_count": 5,
          "metadata": {},
          "output_type": "execute_result"
        }
      ],
      "source": [
        "import os\n",
        "os.listdir('/content/drive/My Drive/fourthbrain/flair')"
      ]
    },
    {
      "cell_type": "code",
      "execution_count": null,
      "metadata": {
        "colab": {
          "base_uri": "https://localhost:8080/"
        },
        "id": "yYs-aKHw0QfI",
        "outputId": "eef9c863-d716-4007-ac98-d6a3965c3e14"
      },
      "outputs": [
        {
          "name": "stdout",
          "output_type": "stream",
          "text": [
            "2022-08-13 20:32:40,609 Reading data from /content/drive/My Drive/fourthbrain/flair\n",
            "2022-08-13 20:32:40,611 Train: /content/drive/My Drive/fourthbrain/flair/ner_train_utf8.txt\n",
            "2022-08-13 20:32:40,612 Dev: /content/drive/My Drive/fourthbrain/flair/ner_val_utf8.txt\n",
            "2022-08-13 20:32:40,614 Test: /content/drive/My Drive/fourthbrain/flair/ner_test_utf8_mod.txt\n"
          ]
        }
      ],
      "source": [
        "# define columns\n",
        "columns = {0: 'text', 1: 'ner'}\n",
        "\n",
        "# this is the folder in which train, test and dev files reside\n",
        "data_folder = '/content/drive/My Drive/fourthbrain/flair'\n",
        "\n",
        "# init a corpus using column format, data folder and the names of the train, dev and test files\n",
        "corpus: Corpus = ColumnCorpus(data_folder, columns,\n",
        "                              train_file='ner_train_utf8.txt',\n",
        "                              test_file='ner_test_utf8_mod.txt',\n",
        "                              dev_file='ner_val_utf8.txt'\n",
        "                               )"
      ]
    },
    {
      "cell_type": "code",
      "execution_count": null,
      "metadata": {
        "colab": {
          "base_uri": "https://localhost:8080/"
        },
        "id": "qU8ToUsw6v0U",
        "outputId": "0f81ccb4-78e7-425e-c4cc-d7588c81e7ba"
      },
      "outputs": [
        {
          "data": {
            "text/plain": [
              "Sentence: \"Families of soldiers killed in the conflict joined the protesters who carried banners with such slogans as \"\"\"\" Bush Number One Terrorist \"\"\"\" and \"\"\"\" Stop the Bombings .\" → [\"Bush\"/per]"
            ]
          },
          "execution_count": 7,
          "metadata": {},
          "output_type": "execute_result"
        }
      ],
      "source": [
        "corpus.train[1]"
      ]
    },
    {
      "cell_type": "code",
      "execution_count": null,
      "metadata": {
        "colab": {
          "base_uri": "https://localhost:8080/"
        },
        "id": "_WfeZ6eW0hGY",
        "outputId": "ec3ef361-2a04-47ed-baed-1efdda208336"
      },
      "outputs": [
        {
          "name": "stdout",
          "output_type": "stream",
          "text": [
            "2022-08-13 20:32:59,179 Computing label dictionary. Progress:\n"
          ]
        },
        {
          "name": "stderr",
          "output_type": "stream",
          "text": [
            "38557it [00:00, 39985.43it/s]"
          ]
        },
        {
          "name": "stdout",
          "output_type": "stream",
          "text": [
            "2022-08-13 20:33:00,200 Dictionary created for label 'ner' with 9 values: geo (seen 30258 times), tim (seen 16316 times), org (seen 16145 times), per (seen 13727 times), gpe (seen 12694 times), art (seen 321 times), eve (seen 261 times), nat (seen 155 times)\n"
          ]
        },
        {
          "name": "stderr",
          "output_type": "stream",
          "text": [
            "\n"
          ]
        }
      ],
      "source": [
        "label_type = 'ner'\n",
        "\n",
        "label_dict = corpus.make_label_dictionary(label_type=label_type)\n",
        "label_dict.add_unk = True"
      ]
    },
    {
      "cell_type": "code",
      "execution_count": null,
      "metadata": {
        "colab": {
          "base_uri": "https://localhost:8080/"
        },
        "id": "fsqaFpDGcRGa",
        "outputId": "cea1f0ca-b708-4a05-ee18-316342fa5f70"
      },
      "outputs": [
        {
          "data": {
            "text/plain": [
              "['<unk>', 'geo', 'tim', 'org', 'per', 'gpe', 'art', 'eve', 'nat']"
            ]
          },
          "execution_count": 9,
          "metadata": {},
          "output_type": "execute_result"
        }
      ],
      "source": [
        "label_dict.get_items()"
      ]
    },
    {
      "cell_type": "code",
      "execution_count": null,
      "metadata": {
        "colab": {
          "base_uri": "https://localhost:8080/"
        },
        "id": "LHD8xlJH4c2r",
        "outputId": "bda362df-0e13-4033-ab5c-5a4e701bc215"
      },
      "outputs": [
        {
          "name": "stdout",
          "output_type": "stream",
          "text": [
            "2022-08-13 20:33:00,349 https://flair.informatik.hu-berlin.de/resources/embeddings/token/en-fasttext-crawl-300d-1M.vectors.npy not found in cache, downloading to /tmp/tmpmbqqxf2c\n"
          ]
        },
        {
          "name": "stderr",
          "output_type": "stream",
          "text": [
            "100%|██████████| 1200000128/1200000128 [00:38<00:00, 31018799.28B/s]"
          ]
        },
        {
          "name": "stdout",
          "output_type": "stream",
          "text": [
            "2022-08-13 20:33:39,102 copying /tmp/tmpmbqqxf2c to cache at /root/.flair/embeddings/en-fasttext-crawl-300d-1M.vectors.npy\n"
          ]
        },
        {
          "name": "stderr",
          "output_type": "stream",
          "text": [
            "\n"
          ]
        },
        {
          "name": "stdout",
          "output_type": "stream",
          "text": [
            "2022-08-13 20:33:42,457 removing temp file /tmp/tmpmbqqxf2c\n",
            "2022-08-13 20:33:42,668 https://flair.informatik.hu-berlin.de/resources/embeddings/token/en-fasttext-crawl-300d-1M not found in cache, downloading to /tmp/tmpff0at2p7\n"
          ]
        },
        {
          "name": "stderr",
          "output_type": "stream",
          "text": [
            "100%|██████████| 39323680/39323680 [00:01<00:00, 24613924.06B/s]"
          ]
        },
        {
          "name": "stdout",
          "output_type": "stream",
          "text": [
            "2022-08-13 20:33:44,332 copying /tmp/tmpff0at2p7 to cache at /root/.flair/embeddings/en-fasttext-crawl-300d-1M\n"
          ]
        },
        {
          "name": "stderr",
          "output_type": "stream",
          "text": [
            "\n"
          ]
        },
        {
          "name": "stdout",
          "output_type": "stream",
          "text": [
            "2022-08-13 20:33:44,374 removing temp file /tmp/tmpff0at2p7\n",
            "2022-08-13 20:33:48,222 https://flair.informatik.hu-berlin.de/resources/embeddings/flair/lm-news-english-forward-1024-v0.2rc.pt not found in cache, downloading to /tmp/tmp7lokfu34\n"
          ]
        },
        {
          "name": "stderr",
          "output_type": "stream",
          "text": [
            "100%|██████████| 19689779/19689779 [00:00<00:00, 25467784.25B/s]"
          ]
        },
        {
          "name": "stdout",
          "output_type": "stream",
          "text": [
            "2022-08-13 20:33:49,063 copying /tmp/tmp7lokfu34 to cache at /root/.flair/embeddings/lm-news-english-forward-1024-v0.2rc.pt\n",
            "2022-08-13 20:33:49,087 removing temp file /tmp/tmp7lokfu34\n"
          ]
        },
        {
          "name": "stderr",
          "output_type": "stream",
          "text": [
            "\n"
          ]
        },
        {
          "name": "stdout",
          "output_type": "stream",
          "text": [
            "2022-08-13 20:33:59,821 https://flair.informatik.hu-berlin.de/resources/embeddings/flair/lm-news-english-backward-1024-v0.2rc.pt not found in cache, downloading to /tmp/tmp0g30_ld_\n"
          ]
        },
        {
          "name": "stderr",
          "output_type": "stream",
          "text": [
            "100%|██████████| 19689779/19689779 [00:00<00:00, 28398395.24B/s]"
          ]
        },
        {
          "name": "stdout",
          "output_type": "stream",
          "text": [
            "2022-08-13 20:34:00,581 copying /tmp/tmp0g30_ld_ to cache at /root/.flair/embeddings/lm-news-english-backward-1024-v0.2rc.pt\n"
          ]
        },
        {
          "name": "stderr",
          "output_type": "stream",
          "text": [
            "\n"
          ]
        },
        {
          "name": "stdout",
          "output_type": "stream",
          "text": [
            "2022-08-13 20:34:00,604 removing temp file /tmp/tmp0g30_ld_\n"
          ]
        }
      ],
      "source": [
        "embedding_types = [ WordEmbeddings('en-crawl'), FlairEmbeddings('news-forward-fast'), FlairEmbeddings('news-backward-fast')]\n",
        "embeddings = StackedEmbeddings(embeddings=embedding_types)"
      ]
    },
    {
      "cell_type": "code",
      "execution_count": null,
      "metadata": {
        "colab": {
          "base_uri": "https://localhost:8080/"
        },
        "id": "kAPqkGvQ4gHm",
        "outputId": "8b16688c-8d2d-4b9a-a191-0dc632764832"
      },
      "outputs": [
        {
          "name": "stdout",
          "output_type": "stream",
          "text": [
            "2022-08-13 20:34:00,667 SequenceTagger predicts: Dictionary with 33 tags: O, S-geo, B-geo, E-geo, I-geo, S-tim, B-tim, E-tim, I-tim, S-org, B-org, E-org, I-org, S-per, B-per, E-per, I-per, S-gpe, B-gpe, E-gpe, I-gpe, S-art, B-art, E-art, I-art, S-eve, B-eve, E-eve, I-eve, S-nat, B-nat, E-nat, I-nat\n"
          ]
        }
      ],
      "source": [
        "tagger = SequenceTagger(hidden_size=256, \n",
        "                        embeddings=embeddings, \n",
        "                        tag_dictionary=label_dict, \n",
        "                        tag_type=label_type)"
      ]
    },
    {
      "cell_type": "code",
      "execution_count": null,
      "metadata": {
        "id": "Wk_4PKoH4mwF"
      },
      "outputs": [],
      "source": [
        "trainer = ModelTrainer(tagger, corpus)"
      ]
    },
    {
      "cell_type": "code",
      "execution_count": null,
      "metadata": {
        "colab": {
          "base_uri": "https://localhost:8080/"
        },
        "id": "_TCyOI9v4n1H",
        "outputId": "ff248a27-388f-4789-c67b-b9981515b374"
      },
      "outputs": [
        {
          "name": "stdout",
          "output_type": "stream",
          "text": [
            "2022-08-13 20:34:00,772 ----------------------------------------------------------------------------------------------------\n",
            "2022-08-13 20:34:00,774 Model: \"SequenceTagger(\n",
            "  (embeddings): StackedEmbeddings(\n",
            "    (list_embedding_0): WordEmbeddings(\n",
            "      'en-crawl'\n",
            "      (embedding): Embedding(1000001, 300)\n",
            "    )\n",
            "    (list_embedding_1): FlairEmbeddings(\n",
            "      (lm): LanguageModel(\n",
            "        (drop): Dropout(p=0.25, inplace=False)\n",
            "        (encoder): Embedding(275, 100)\n",
            "        (rnn): LSTM(100, 1024)\n",
            "        (decoder): Linear(in_features=1024, out_features=275, bias=True)\n",
            "      )\n",
            "    )\n",
            "    (list_embedding_2): FlairEmbeddings(\n",
            "      (lm): LanguageModel(\n",
            "        (drop): Dropout(p=0.25, inplace=False)\n",
            "        (encoder): Embedding(275, 100)\n",
            "        (rnn): LSTM(100, 1024)\n",
            "        (decoder): Linear(in_features=1024, out_features=275, bias=True)\n",
            "      )\n",
            "    )\n",
            "  )\n",
            "  (word_dropout): WordDropout(p=0.05)\n",
            "  (locked_dropout): LockedDropout(p=0.5)\n",
            "  (embedding2nn): Linear(in_features=2348, out_features=2348, bias=True)\n",
            "  (rnn): LSTM(2348, 256, batch_first=True, bidirectional=True)\n",
            "  (linear): Linear(in_features=512, out_features=35, bias=True)\n",
            "  (loss_function): ViterbiLoss()\n",
            "  (crf): CRF()\n",
            ")\"\n",
            "2022-08-13 20:34:00,775 ----------------------------------------------------------------------------------------------------\n",
            "2022-08-13 20:34:00,776 Corpus: \"Corpus: 38557 train + 4791 dev + 4610 test sentences\"\n",
            "2022-08-13 20:34:00,779 ----------------------------------------------------------------------------------------------------\n",
            "2022-08-13 20:34:00,780 Parameters:\n",
            "2022-08-13 20:34:00,781  - learning_rate: \"0.100000\"\n",
            "2022-08-13 20:34:00,783  - mini_batch_size: \"32\"\n",
            "2022-08-13 20:34:00,786  - patience: \"3\"\n",
            "2022-08-13 20:34:00,787  - anneal_factor: \"0.5\"\n",
            "2022-08-13 20:34:00,788  - max_epochs: \"150\"\n",
            "2022-08-13 20:34:00,790  - shuffle: \"True\"\n",
            "2022-08-13 20:34:00,791  - train_with_dev: \"False\"\n",
            "2022-08-13 20:34:00,792  - batch_growth_annealing: \"False\"\n",
            "2022-08-13 20:34:00,794 ----------------------------------------------------------------------------------------------------\n",
            "2022-08-13 20:34:00,795 Model training base path: \"/content/drive/My Drive/fourthbrain/flair/ontonotes-fast\"\n",
            "2022-08-13 20:34:00,797 ----------------------------------------------------------------------------------------------------\n",
            "2022-08-13 20:34:00,801 Device: cuda:0\n",
            "2022-08-13 20:34:00,803 ----------------------------------------------------------------------------------------------------\n",
            "2022-08-13 20:34:00,805 Embeddings storage mode: cpu\n",
            "2022-08-13 20:34:00,806 ----------------------------------------------------------------------------------------------------\n",
            "2022-08-13 20:34:17,179 epoch 1 - iter 120/1205 - loss 0.59965518 - samples/sec: 234.71 - lr: 0.100000\n",
            "2022-08-13 20:34:31,733 epoch 1 - iter 240/1205 - loss 0.42700977 - samples/sec: 264.06 - lr: 0.100000\n",
            "2022-08-13 20:34:47,579 epoch 1 - iter 360/1205 - loss 0.35115042 - samples/sec: 242.52 - lr: 0.100000\n",
            "2022-08-13 20:35:02,564 epoch 1 - iter 480/1205 - loss 0.30864790 - samples/sec: 256.46 - lr: 0.100000\n",
            "2022-08-13 20:35:17,746 epoch 1 - iter 600/1205 - loss 0.27956225 - samples/sec: 253.12 - lr: 0.100000\n",
            "2022-08-13 20:35:34,238 epoch 1 - iter 720/1205 - loss 0.25985454 - samples/sec: 233.03 - lr: 0.100000\n",
            "2022-08-13 20:35:49,198 epoch 1 - iter 840/1205 - loss 0.24403512 - samples/sec: 256.88 - lr: 0.100000\n",
            "2022-08-13 20:36:04,509 epoch 1 - iter 960/1205 - loss 0.23101596 - samples/sec: 251.00 - lr: 0.100000\n",
            "2022-08-13 20:36:21,295 epoch 1 - iter 1080/1205 - loss 0.22126688 - samples/sec: 228.92 - lr: 0.100000\n",
            "2022-08-13 20:36:36,399 epoch 1 - iter 1200/1205 - loss 0.21251774 - samples/sec: 254.44 - lr: 0.100000\n",
            "2022-08-13 20:36:37,065 ----------------------------------------------------------------------------------------------------\n",
            "2022-08-13 20:36:37,067 EPOCH 1 done: loss 0.2121 - lr 0.100000\n"
          ]
        },
        {
          "name": "stderr",
          "output_type": "stream",
          "text": [
            "100%|██████████| 150/150 [00:26<00:00,  5.61it/s]"
          ]
        },
        {
          "name": "stdout",
          "output_type": "stream",
          "text": [
            "2022-08-13 20:37:03,838 Evaluating as a multi-label problem: False\n"
          ]
        },
        {
          "name": "stderr",
          "output_type": "stream",
          "text": [
            "\n"
          ]
        },
        {
          "name": "stdout",
          "output_type": "stream",
          "text": [
            "2022-08-13 20:37:03,930 DEV : loss 0.09992415457963943 - f1-score (micro avg)  0.8186\n",
            "2022-08-13 20:37:04,408 BAD EPOCHS (no improvement): 0\n",
            "2022-08-13 20:37:04,412 saving best model\n",
            "2022-08-13 20:37:11,130 ----------------------------------------------------------------------------------------------------\n",
            "2022-08-13 20:37:22,213 epoch 2 - iter 120/1205 - loss 0.12793167 - samples/sec: 358.74 - lr: 0.100000\n",
            "2022-08-13 20:37:33,397 epoch 2 - iter 240/1205 - loss 0.12440011 - samples/sec: 343.76 - lr: 0.100000\n",
            "2022-08-13 20:37:44,381 epoch 2 - iter 360/1205 - loss 0.12523273 - samples/sec: 349.99 - lr: 0.100000\n",
            "2022-08-13 20:37:55,159 epoch 2 - iter 480/1205 - loss 0.12530991 - samples/sec: 356.67 - lr: 0.100000\n",
            "2022-08-13 20:38:05,991 epoch 2 - iter 600/1205 - loss 0.12385342 - samples/sec: 354.91 - lr: 0.100000\n",
            "2022-08-13 20:38:16,817 epoch 2 - iter 720/1205 - loss 0.12246900 - samples/sec: 355.09 - lr: 0.100000\n",
            "2022-08-13 20:38:27,497 epoch 2 - iter 840/1205 - loss 0.12136236 - samples/sec: 359.96 - lr: 0.100000\n",
            "2022-08-13 20:38:38,246 epoch 2 - iter 960/1205 - loss 0.11985605 - samples/sec: 357.64 - lr: 0.100000\n",
            "2022-08-13 20:38:49,122 epoch 2 - iter 1080/1205 - loss 0.11896799 - samples/sec: 353.49 - lr: 0.100000\n",
            "2022-08-13 20:39:00,280 epoch 2 - iter 1200/1205 - loss 0.11812722 - samples/sec: 344.54 - lr: 0.100000\n",
            "2022-08-13 20:39:00,710 ----------------------------------------------------------------------------------------------------\n",
            "2022-08-13 20:39:00,712 EPOCH 2 done: loss 0.1181 - lr 0.100000\n"
          ]
        },
        {
          "name": "stderr",
          "output_type": "stream",
          "text": [
            "100%|██████████| 150/150 [00:18<00:00,  7.92it/s]\n"
          ]
        },
        {
          "name": "stdout",
          "output_type": "stream",
          "text": [
            "2022-08-13 20:39:19,698 Evaluating as a multi-label problem: False\n",
            "2022-08-13 20:39:19,791 DEV : loss 0.07995657622814178 - f1-score (micro avg)  0.8324\n",
            "2022-08-13 20:39:20,269 BAD EPOCHS (no improvement): 0\n",
            "2022-08-13 20:39:20,274 saving best model\n",
            "2022-08-13 20:39:25,317 ----------------------------------------------------------------------------------------------------\n",
            "2022-08-13 20:39:36,541 epoch 3 - iter 120/1205 - loss 0.10288843 - samples/sec: 342.62 - lr: 0.100000\n",
            "2022-08-13 20:39:47,425 epoch 3 - iter 240/1205 - loss 0.10525701 - samples/sec: 353.22 - lr: 0.100000\n",
            "2022-08-13 20:39:58,321 epoch 3 - iter 360/1205 - loss 0.10618475 - samples/sec: 352.85 - lr: 0.100000\n",
            "2022-08-13 20:40:09,254 epoch 3 - iter 480/1205 - loss 0.10599963 - samples/sec: 351.62 - lr: 0.100000\n",
            "2022-08-13 20:40:20,303 epoch 3 - iter 600/1205 - loss 0.10558818 - samples/sec: 347.94 - lr: 0.100000\n",
            "2022-08-13 20:40:30,966 epoch 3 - iter 720/1205 - loss 0.10504105 - samples/sec: 360.54 - lr: 0.100000\n",
            "2022-08-13 20:40:41,648 epoch 3 - iter 840/1205 - loss 0.10424491 - samples/sec: 359.87 - lr: 0.100000\n",
            "2022-08-13 20:40:52,367 epoch 3 - iter 960/1205 - loss 0.10379690 - samples/sec: 358.67 - lr: 0.100000\n",
            "2022-08-13 20:41:02,981 epoch 3 - iter 1080/1205 - loss 0.10339852 - samples/sec: 362.20 - lr: 0.100000\n",
            "2022-08-13 20:41:13,526 epoch 3 - iter 1200/1205 - loss 0.10330755 - samples/sec: 364.59 - lr: 0.100000\n",
            "2022-08-13 20:41:13,974 ----------------------------------------------------------------------------------------------------\n",
            "2022-08-13 20:41:13,977 EPOCH 3 done: loss 0.1033 - lr 0.100000\n"
          ]
        },
        {
          "name": "stderr",
          "output_type": "stream",
          "text": [
            "100%|██████████| 150/150 [00:21<00:00,  6.99it/s]"
          ]
        },
        {
          "name": "stdout",
          "output_type": "stream",
          "text": [
            "2022-08-13 20:41:35,485 Evaluating as a multi-label problem: False\n"
          ]
        },
        {
          "name": "stderr",
          "output_type": "stream",
          "text": [
            "\n"
          ]
        },
        {
          "name": "stdout",
          "output_type": "stream",
          "text": [
            "2022-08-13 20:41:35,576 DEV : loss 0.07152664661407471 - f1-score (micro avg)  0.8398\n",
            "2022-08-13 20:41:36,055 BAD EPOCHS (no improvement): 0\n",
            "2022-08-13 20:41:36,061 saving best model\n",
            "2022-08-13 20:41:40,590 ----------------------------------------------------------------------------------------------------\n",
            "2022-08-13 20:41:51,281 epoch 4 - iter 120/1205 - loss 0.09370648 - samples/sec: 359.73 - lr: 0.100000\n",
            "2022-08-13 20:42:02,144 epoch 4 - iter 240/1205 - loss 0.09525322 - samples/sec: 353.92 - lr: 0.100000\n",
            "2022-08-13 20:42:13,019 epoch 4 - iter 360/1205 - loss 0.09538385 - samples/sec: 353.50 - lr: 0.100000\n",
            "2022-08-13 20:42:23,742 epoch 4 - iter 480/1205 - loss 0.09586174 - samples/sec: 358.51 - lr: 0.100000\n",
            "2022-08-13 20:42:34,412 epoch 4 - iter 600/1205 - loss 0.09680075 - samples/sec: 360.31 - lr: 0.100000\n",
            "2022-08-13 20:42:45,151 epoch 4 - iter 720/1205 - loss 0.09609733 - samples/sec: 357.96 - lr: 0.100000\n",
            "2022-08-13 20:42:56,069 epoch 4 - iter 840/1205 - loss 0.09548536 - samples/sec: 352.13 - lr: 0.100000\n",
            "2022-08-13 20:43:06,888 epoch 4 - iter 960/1205 - loss 0.09481626 - samples/sec: 355.33 - lr: 0.100000\n",
            "2022-08-13 20:43:17,500 epoch 4 - iter 1080/1205 - loss 0.09460348 - samples/sec: 362.26 - lr: 0.100000\n",
            "2022-08-13 20:43:28,206 epoch 4 - iter 1200/1205 - loss 0.09483925 - samples/sec: 359.08 - lr: 0.100000\n",
            "2022-08-13 20:43:28,628 ----------------------------------------------------------------------------------------------------\n",
            "2022-08-13 20:43:28,630 EPOCH 4 done: loss 0.0949 - lr 0.100000\n"
          ]
        },
        {
          "name": "stderr",
          "output_type": "stream",
          "text": [
            "100%|██████████| 150/150 [00:19<00:00,  7.85it/s]"
          ]
        },
        {
          "name": "stdout",
          "output_type": "stream",
          "text": [
            "2022-08-13 20:43:47,795 Evaluating as a multi-label problem: False\n"
          ]
        },
        {
          "name": "stderr",
          "output_type": "stream",
          "text": [
            "\n"
          ]
        },
        {
          "name": "stdout",
          "output_type": "stream",
          "text": [
            "2022-08-13 20:43:47,884 DEV : loss 0.06745276600122452 - f1-score (micro avg)  0.8451\n",
            "2022-08-13 20:43:48,354 BAD EPOCHS (no improvement): 0\n",
            "2022-08-13 20:43:48,358 saving best model\n",
            "2022-08-13 20:43:52,845 ----------------------------------------------------------------------------------------------------\n",
            "2022-08-13 20:44:04,020 epoch 5 - iter 120/1205 - loss 0.09115910 - samples/sec: 344.12 - lr: 0.100000\n",
            "2022-08-13 20:44:15,124 epoch 5 - iter 240/1205 - loss 0.09305792 - samples/sec: 346.21 - lr: 0.100000\n",
            "2022-08-13 20:44:26,223 epoch 5 - iter 360/1205 - loss 0.09379059 - samples/sec: 346.40 - lr: 0.100000\n",
            "2022-08-13 20:44:37,190 epoch 5 - iter 480/1205 - loss 0.09295063 - samples/sec: 350.55 - lr: 0.100000\n",
            "2022-08-13 20:44:47,803 epoch 5 - iter 600/1205 - loss 0.09304987 - samples/sec: 362.21 - lr: 0.100000\n",
            "2022-08-13 20:44:58,583 epoch 5 - iter 720/1205 - loss 0.09235974 - samples/sec: 356.64 - lr: 0.100000\n",
            "2022-08-13 20:45:09,258 epoch 5 - iter 840/1205 - loss 0.09181671 - samples/sec: 360.12 - lr: 0.100000\n",
            "2022-08-13 20:45:19,825 epoch 5 - iter 960/1205 - loss 0.09135097 - samples/sec: 363.82 - lr: 0.100000\n",
            "2022-08-13 20:45:30,708 epoch 5 - iter 1080/1205 - loss 0.09117969 - samples/sec: 353.25 - lr: 0.100000\n",
            "2022-08-13 20:45:41,694 epoch 5 - iter 1200/1205 - loss 0.09116227 - samples/sec: 349.95 - lr: 0.100000\n",
            "2022-08-13 20:45:42,108 ----------------------------------------------------------------------------------------------------\n",
            "2022-08-13 20:45:42,110 EPOCH 5 done: loss 0.0911 - lr 0.100000\n"
          ]
        },
        {
          "name": "stderr",
          "output_type": "stream",
          "text": [
            "100%|██████████| 150/150 [00:21<00:00,  7.10it/s]"
          ]
        },
        {
          "name": "stdout",
          "output_type": "stream",
          "text": [
            "2022-08-13 20:46:03,278 Evaluating as a multi-label problem: False\n"
          ]
        },
        {
          "name": "stderr",
          "output_type": "stream",
          "text": [
            "\n"
          ]
        },
        {
          "name": "stdout",
          "output_type": "stream",
          "text": [
            "2022-08-13 20:46:03,370 DEV : loss 0.06392451375722885 - f1-score (micro avg)  0.8512\n",
            "2022-08-13 20:46:03,857 BAD EPOCHS (no improvement): 0\n",
            "2022-08-13 20:46:03,861 saving best model\n",
            "2022-08-13 20:46:08,600 ----------------------------------------------------------------------------------------------------\n",
            "2022-08-13 20:46:19,521 epoch 6 - iter 120/1205 - loss 0.08705206 - samples/sec: 352.13 - lr: 0.100000\n",
            "2022-08-13 20:46:30,789 epoch 6 - iter 240/1205 - loss 0.08668921 - samples/sec: 341.18 - lr: 0.100000\n",
            "2022-08-13 20:46:41,875 epoch 6 - iter 360/1205 - loss 0.08694971 - samples/sec: 346.79 - lr: 0.100000\n",
            "2022-08-13 20:46:52,640 epoch 6 - iter 480/1205 - loss 0.08767469 - samples/sec: 357.14 - lr: 0.100000\n",
            "2022-08-13 20:47:03,170 epoch 6 - iter 600/1205 - loss 0.08757197 - samples/sec: 365.10 - lr: 0.100000\n",
            "2022-08-13 20:47:13,676 epoch 6 - iter 720/1205 - loss 0.08769338 - samples/sec: 365.93 - lr: 0.100000\n",
            "2022-08-13 20:47:24,431 epoch 6 - iter 840/1205 - loss 0.08715876 - samples/sec: 357.43 - lr: 0.100000\n",
            "2022-08-13 20:47:35,265 epoch 6 - iter 960/1205 - loss 0.08711618 - samples/sec: 354.81 - lr: 0.100000\n",
            "2022-08-13 20:47:45,990 epoch 6 - iter 1080/1205 - loss 0.08742013 - samples/sec: 358.46 - lr: 0.100000\n",
            "2022-08-13 20:47:56,908 epoch 6 - iter 1200/1205 - loss 0.08741209 - samples/sec: 352.08 - lr: 0.100000\n",
            "2022-08-13 20:47:57,348 ----------------------------------------------------------------------------------------------------\n",
            "2022-08-13 20:47:57,350 EPOCH 6 done: loss 0.0874 - lr 0.100000\n"
          ]
        },
        {
          "name": "stderr",
          "output_type": "stream",
          "text": [
            "100%|██████████| 150/150 [00:19<00:00,  7.77it/s]"
          ]
        },
        {
          "name": "stdout",
          "output_type": "stream",
          "text": [
            "2022-08-13 20:48:16,707 Evaluating as a multi-label problem: False\n"
          ]
        },
        {
          "name": "stderr",
          "output_type": "stream",
          "text": [
            "\n"
          ]
        },
        {
          "name": "stdout",
          "output_type": "stream",
          "text": [
            "2022-08-13 20:48:16,805 DEV : loss 0.062401678413152695 - f1-score (micro avg)  0.8533\n",
            "2022-08-13 20:48:17,327 BAD EPOCHS (no improvement): 0\n",
            "2022-08-13 20:48:17,332 saving best model\n",
            "2022-08-13 20:48:22,049 ----------------------------------------------------------------------------------------------------\n",
            "2022-08-13 20:48:33,196 epoch 7 - iter 120/1205 - loss 0.08457559 - samples/sec: 345.02 - lr: 0.100000\n",
            "2022-08-13 20:48:44,310 epoch 7 - iter 240/1205 - loss 0.08426987 - samples/sec: 345.95 - lr: 0.100000\n",
            "2022-08-13 20:48:55,413 epoch 7 - iter 360/1205 - loss 0.08399592 - samples/sec: 346.26 - lr: 0.100000\n",
            "2022-08-13 20:49:06,220 epoch 7 - iter 480/1205 - loss 0.08436441 - samples/sec: 355.74 - lr: 0.100000\n",
            "2022-08-13 20:49:17,410 epoch 7 - iter 600/1205 - loss 0.08433151 - samples/sec: 343.57 - lr: 0.100000\n",
            "2022-08-13 20:49:28,499 epoch 7 - iter 720/1205 - loss 0.08497943 - samples/sec: 346.67 - lr: 0.100000\n",
            "2022-08-13 20:49:41,721 epoch 7 - iter 840/1205 - loss 0.08463825 - samples/sec: 290.70 - lr: 0.100000\n",
            "2022-08-13 20:49:52,530 epoch 7 - iter 960/1205 - loss 0.08460228 - samples/sec: 355.65 - lr: 0.100000\n",
            "2022-08-13 20:50:02,979 epoch 7 - iter 1080/1205 - loss 0.08442853 - samples/sec: 367.94 - lr: 0.100000\n",
            "2022-08-13 20:50:13,626 epoch 7 - iter 1200/1205 - loss 0.08464454 - samples/sec: 361.09 - lr: 0.100000\n",
            "2022-08-13 20:50:14,118 ----------------------------------------------------------------------------------------------------\n",
            "2022-08-13 20:50:14,120 EPOCH 7 done: loss 0.0847 - lr 0.100000\n"
          ]
        },
        {
          "name": "stderr",
          "output_type": "stream",
          "text": [
            "100%|██████████| 150/150 [00:19<00:00,  7.79it/s]"
          ]
        },
        {
          "name": "stdout",
          "output_type": "stream",
          "text": [
            "2022-08-13 20:50:33,419 Evaluating as a multi-label problem: False\n"
          ]
        },
        {
          "name": "stderr",
          "output_type": "stream",
          "text": [
            "\n"
          ]
        },
        {
          "name": "stdout",
          "output_type": "stream",
          "text": [
            "2022-08-13 20:50:33,517 DEV : loss 0.06309185922145844 - f1-score (micro avg)  0.8519\n",
            "2022-08-13 20:50:34,037 BAD EPOCHS (no improvement): 1\n",
            "2022-08-13 20:50:34,042 ----------------------------------------------------------------------------------------------------\n",
            "2022-08-13 20:50:45,009 epoch 8 - iter 120/1205 - loss 0.08316672 - samples/sec: 350.63 - lr: 0.100000\n",
            "2022-08-13 20:50:56,015 epoch 8 - iter 240/1205 - loss 0.08352176 - samples/sec: 349.29 - lr: 0.100000\n",
            "2022-08-13 20:51:07,076 epoch 8 - iter 360/1205 - loss 0.08322319 - samples/sec: 347.58 - lr: 0.100000\n",
            "2022-08-13 20:51:17,943 epoch 8 - iter 480/1205 - loss 0.08347517 - samples/sec: 353.74 - lr: 0.100000\n",
            "2022-08-13 20:51:28,789 epoch 8 - iter 600/1205 - loss 0.08265206 - samples/sec: 354.47 - lr: 0.100000\n",
            "2022-08-13 20:51:39,557 epoch 8 - iter 720/1205 - loss 0.08288901 - samples/sec: 356.99 - lr: 0.100000\n",
            "2022-08-13 20:51:49,970 epoch 8 - iter 840/1205 - loss 0.08287936 - samples/sec: 369.23 - lr: 0.100000\n",
            "2022-08-13 20:52:00,610 epoch 8 - iter 960/1205 - loss 0.08258762 - samples/sec: 361.30 - lr: 0.100000\n",
            "2022-08-13 20:52:11,251 epoch 8 - iter 1080/1205 - loss 0.08266237 - samples/sec: 361.30 - lr: 0.100000\n",
            "2022-08-13 20:52:22,321 epoch 8 - iter 1200/1205 - loss 0.08268535 - samples/sec: 347.32 - lr: 0.100000\n",
            "2022-08-13 20:52:22,786 ----------------------------------------------------------------------------------------------------\n",
            "2022-08-13 20:52:22,788 EPOCH 8 done: loss 0.0827 - lr 0.100000\n"
          ]
        },
        {
          "name": "stderr",
          "output_type": "stream",
          "text": [
            "100%|██████████| 150/150 [00:21<00:00,  6.93it/s]"
          ]
        },
        {
          "name": "stdout",
          "output_type": "stream",
          "text": [
            "2022-08-13 20:52:44,498 Evaluating as a multi-label problem: False\n"
          ]
        },
        {
          "name": "stderr",
          "output_type": "stream",
          "text": [
            "\n"
          ]
        },
        {
          "name": "stdout",
          "output_type": "stream",
          "text": [
            "2022-08-13 20:52:44,604 DEV : loss 0.06122210621833801 - f1-score (micro avg)  0.8525\n",
            "2022-08-13 20:52:45,088 BAD EPOCHS (no improvement): 2\n",
            "2022-08-13 20:52:45,093 ----------------------------------------------------------------------------------------------------\n",
            "2022-08-13 20:52:55,982 epoch 9 - iter 120/1205 - loss 0.08396467 - samples/sec: 353.16 - lr: 0.100000\n",
            "2022-08-13 20:53:06,666 epoch 9 - iter 240/1205 - loss 0.08116993 - samples/sec: 359.83 - lr: 0.100000\n",
            "2022-08-13 20:53:17,917 epoch 9 - iter 360/1205 - loss 0.07975624 - samples/sec: 341.69 - lr: 0.100000\n",
            "2022-08-13 20:53:29,070 epoch 9 - iter 480/1205 - loss 0.07998992 - samples/sec: 344.72 - lr: 0.100000\n",
            "2022-08-13 20:53:40,032 epoch 9 - iter 600/1205 - loss 0.08036901 - samples/sec: 350.69 - lr: 0.100000\n",
            "2022-08-13 20:53:50,910 epoch 9 - iter 720/1205 - loss 0.08071607 - samples/sec: 353.43 - lr: 0.100000\n",
            "2022-08-13 20:54:01,773 epoch 9 - iter 840/1205 - loss 0.08054095 - samples/sec: 353.90 - lr: 0.100000\n",
            "2022-08-13 20:54:12,545 epoch 9 - iter 960/1205 - loss 0.08054251 - samples/sec: 356.93 - lr: 0.100000\n",
            "2022-08-13 20:54:23,526 epoch 9 - iter 1080/1205 - loss 0.08061897 - samples/sec: 350.10 - lr: 0.100000\n",
            "2022-08-13 20:54:34,475 epoch 9 - iter 1200/1205 - loss 0.08075612 - samples/sec: 351.15 - lr: 0.100000\n",
            "2022-08-13 20:54:34,999 ----------------------------------------------------------------------------------------------------\n",
            "2022-08-13 20:54:35,001 EPOCH 9 done: loss 0.0807 - lr 0.100000\n"
          ]
        },
        {
          "name": "stderr",
          "output_type": "stream",
          "text": [
            "100%|██████████| 150/150 [00:19<00:00,  7.74it/s]\n"
          ]
        },
        {
          "name": "stdout",
          "output_type": "stream",
          "text": [
            "2022-08-13 20:54:54,425 Evaluating as a multi-label problem: False\n",
            "2022-08-13 20:54:54,518 DEV : loss 0.06174707040190697 - f1-score (micro avg)  0.8527\n",
            "2022-08-13 20:54:54,997 BAD EPOCHS (no improvement): 3\n",
            "2022-08-13 20:54:55,002 ----------------------------------------------------------------------------------------------------\n",
            "2022-08-13 20:55:06,259 epoch 10 - iter 120/1205 - loss 0.08100802 - samples/sec: 341.61 - lr: 0.100000\n",
            "2022-08-13 20:55:17,311 epoch 10 - iter 240/1205 - loss 0.08235311 - samples/sec: 347.85 - lr: 0.100000\n",
            "2022-08-13 20:55:28,284 epoch 10 - iter 360/1205 - loss 0.08040355 - samples/sec: 350.41 - lr: 0.100000\n",
            "2022-08-13 20:55:39,360 epoch 10 - iter 480/1205 - loss 0.07973625 - samples/sec: 347.13 - lr: 0.100000\n",
            "2022-08-13 20:55:50,093 epoch 10 - iter 600/1205 - loss 0.07943946 - samples/sec: 358.19 - lr: 0.100000\n",
            "2022-08-13 20:56:00,859 epoch 10 - iter 720/1205 - loss 0.07920709 - samples/sec: 357.11 - lr: 0.100000\n",
            "2022-08-13 20:56:11,939 epoch 10 - iter 840/1205 - loss 0.07927042 - samples/sec: 347.00 - lr: 0.100000\n",
            "2022-08-13 20:56:22,800 epoch 10 - iter 960/1205 - loss 0.07912408 - samples/sec: 353.99 - lr: 0.100000\n",
            "2022-08-13 20:56:33,570 epoch 10 - iter 1080/1205 - loss 0.07901702 - samples/sec: 356.98 - lr: 0.100000\n",
            "2022-08-13 20:56:44,449 epoch 10 - iter 1200/1205 - loss 0.07906226 - samples/sec: 353.41 - lr: 0.100000\n",
            "2022-08-13 20:56:44,900 ----------------------------------------------------------------------------------------------------\n",
            "2022-08-13 20:56:44,902 EPOCH 10 done: loss 0.0791 - lr 0.100000\n"
          ]
        },
        {
          "name": "stderr",
          "output_type": "stream",
          "text": [
            "100%|██████████| 150/150 [00:21<00:00,  6.99it/s]\n"
          ]
        },
        {
          "name": "stdout",
          "output_type": "stream",
          "text": [
            "2022-08-13 20:57:06,410 Evaluating as a multi-label problem: False\n",
            "2022-08-13 20:57:06,503 DEV : loss 0.06162280589342117 - f1-score (micro avg)  0.8511\n",
            "2022-08-13 20:57:06,994 Epoch    10: reducing learning rate of group 0 to 5.0000e-02.\n",
            "2022-08-13 20:57:06,996 BAD EPOCHS (no improvement): 4\n",
            "2022-08-13 20:57:07,000 ----------------------------------------------------------------------------------------------------\n",
            "2022-08-13 20:57:17,671 epoch 11 - iter 120/1205 - loss 0.07664922 - samples/sec: 360.37 - lr: 0.050000\n",
            "2022-08-13 20:57:28,262 epoch 11 - iter 240/1205 - loss 0.07545219 - samples/sec: 363.02 - lr: 0.050000\n",
            "2022-08-13 20:57:39,403 epoch 11 - iter 360/1205 - loss 0.07565182 - samples/sec: 345.08 - lr: 0.050000\n",
            "2022-08-13 20:57:50,494 epoch 11 - iter 480/1205 - loss 0.07478296 - samples/sec: 346.64 - lr: 0.050000\n",
            "2022-08-13 20:58:01,182 epoch 11 - iter 600/1205 - loss 0.07464596 - samples/sec: 359.72 - lr: 0.050000\n",
            "2022-08-13 20:58:12,117 epoch 11 - iter 720/1205 - loss 0.07457669 - samples/sec: 351.60 - lr: 0.050000\n",
            "2022-08-13 20:58:23,060 epoch 11 - iter 840/1205 - loss 0.07429779 - samples/sec: 351.33 - lr: 0.050000\n",
            "2022-08-13 20:58:33,849 epoch 11 - iter 960/1205 - loss 0.07467053 - samples/sec: 356.34 - lr: 0.050000\n",
            "2022-08-13 20:58:44,664 epoch 11 - iter 1080/1205 - loss 0.07452687 - samples/sec: 355.48 - lr: 0.050000\n",
            "2022-08-13 20:58:55,559 epoch 11 - iter 1200/1205 - loss 0.07430479 - samples/sec: 352.91 - lr: 0.050000\n",
            "2022-08-13 20:58:55,989 ----------------------------------------------------------------------------------------------------\n",
            "2022-08-13 20:58:55,991 EPOCH 11 done: loss 0.0743 - lr 0.050000\n"
          ]
        },
        {
          "name": "stderr",
          "output_type": "stream",
          "text": [
            "100%|██████████| 150/150 [00:19<00:00,  7.68it/s]\n"
          ]
        },
        {
          "name": "stdout",
          "output_type": "stream",
          "text": [
            "2022-08-13 20:59:15,581 Evaluating as a multi-label problem: False\n",
            "2022-08-13 20:59:15,678 DEV : loss 0.05881693214178085 - f1-score (micro avg)  0.8556\n",
            "2022-08-13 20:59:16,155 BAD EPOCHS (no improvement): 0\n",
            "2022-08-13 20:59:16,160 saving best model\n",
            "2022-08-13 20:59:20,734 ----------------------------------------------------------------------------------------------------\n",
            "2022-08-13 20:59:32,351 epoch 12 - iter 120/1205 - loss 0.07435081 - samples/sec: 331.04 - lr: 0.050000\n",
            "2022-08-13 20:59:43,886 epoch 12 - iter 240/1205 - loss 0.07414610 - samples/sec: 333.31 - lr: 0.050000\n",
            "2022-08-13 20:59:55,244 epoch 12 - iter 360/1205 - loss 0.07437278 - samples/sec: 338.51 - lr: 0.050000\n",
            "2022-08-13 21:00:05,935 epoch 12 - iter 480/1205 - loss 0.07352465 - samples/sec: 359.61 - lr: 0.050000\n",
            "2022-08-13 21:00:16,710 epoch 12 - iter 600/1205 - loss 0.07382324 - samples/sec: 356.78 - lr: 0.050000\n",
            "2022-08-13 21:00:27,418 epoch 12 - iter 720/1205 - loss 0.07419895 - samples/sec: 359.05 - lr: 0.050000\n",
            "2022-08-13 21:00:38,015 epoch 12 - iter 840/1205 - loss 0.07345617 - samples/sec: 362.78 - lr: 0.050000\n",
            "2022-08-13 21:00:48,566 epoch 12 - iter 960/1205 - loss 0.07305288 - samples/sec: 364.42 - lr: 0.050000\n",
            "2022-08-13 21:00:59,319 epoch 12 - iter 1080/1205 - loss 0.07283722 - samples/sec: 357.53 - lr: 0.050000\n",
            "2022-08-13 21:01:10,196 epoch 12 - iter 1200/1205 - loss 0.07295698 - samples/sec: 353.48 - lr: 0.050000\n",
            "2022-08-13 21:01:10,654 ----------------------------------------------------------------------------------------------------\n",
            "2022-08-13 21:01:10,656 EPOCH 12 done: loss 0.0729 - lr 0.050000\n"
          ]
        },
        {
          "name": "stderr",
          "output_type": "stream",
          "text": [
            "100%|██████████| 150/150 [00:21<00:00,  7.09it/s]"
          ]
        },
        {
          "name": "stdout",
          "output_type": "stream",
          "text": [
            "2022-08-13 21:01:31,853 Evaluating as a multi-label problem: False\n"
          ]
        },
        {
          "name": "stderr",
          "output_type": "stream",
          "text": [
            "\n"
          ]
        },
        {
          "name": "stdout",
          "output_type": "stream",
          "text": [
            "2022-08-13 21:01:31,947 DEV : loss 0.058544404804706573 - f1-score (micro avg)  0.8533\n",
            "2022-08-13 21:01:32,447 BAD EPOCHS (no improvement): 1\n",
            "2022-08-13 21:01:32,453 ----------------------------------------------------------------------------------------------------\n",
            "2022-08-13 21:01:42,994 epoch 13 - iter 120/1205 - loss 0.07383844 - samples/sec: 364.83 - lr: 0.050000\n",
            "2022-08-13 21:01:53,591 epoch 13 - iter 240/1205 - loss 0.07342220 - samples/sec: 362.81 - lr: 0.050000\n",
            "2022-08-13 21:02:04,203 epoch 13 - iter 360/1205 - loss 0.07185274 - samples/sec: 362.28 - lr: 0.050000\n",
            "2022-08-13 21:02:15,128 epoch 13 - iter 480/1205 - loss 0.07145693 - samples/sec: 351.92 - lr: 0.050000\n",
            "2022-08-13 21:02:25,894 epoch 13 - iter 600/1205 - loss 0.07143864 - samples/sec: 357.11 - lr: 0.050000\n",
            "2022-08-13 21:02:36,576 epoch 13 - iter 720/1205 - loss 0.07128239 - samples/sec: 359.92 - lr: 0.050000\n",
            "2022-08-13 21:02:47,579 epoch 13 - iter 840/1205 - loss 0.07120273 - samples/sec: 349.40 - lr: 0.050000\n",
            "2022-08-13 21:02:58,214 epoch 13 - iter 960/1205 - loss 0.07103660 - samples/sec: 361.44 - lr: 0.050000\n",
            "2022-08-13 21:03:09,255 epoch 13 - iter 1080/1205 - loss 0.07121803 - samples/sec: 348.17 - lr: 0.050000\n",
            "2022-08-13 21:03:20,045 epoch 13 - iter 1200/1205 - loss 0.07149272 - samples/sec: 356.31 - lr: 0.050000\n",
            "2022-08-13 21:03:20,438 ----------------------------------------------------------------------------------------------------\n",
            "2022-08-13 21:03:20,440 EPOCH 13 done: loss 0.0715 - lr 0.050000\n"
          ]
        },
        {
          "name": "stderr",
          "output_type": "stream",
          "text": [
            "100%|██████████| 150/150 [00:18<00:00,  7.92it/s]\n"
          ]
        },
        {
          "name": "stdout",
          "output_type": "stream",
          "text": [
            "2022-08-13 21:03:39,442 Evaluating as a multi-label problem: False\n",
            "2022-08-13 21:03:39,533 DEV : loss 0.05767440423369408 - f1-score (micro avg)  0.8575\n",
            "2022-08-13 21:03:40,041 BAD EPOCHS (no improvement): 0\n",
            "2022-08-13 21:03:40,045 saving best model\n",
            "2022-08-13 21:03:44,783 ----------------------------------------------------------------------------------------------------\n",
            "2022-08-13 21:03:55,773 epoch 14 - iter 120/1205 - loss 0.06804311 - samples/sec: 349.90 - lr: 0.050000\n",
            "2022-08-13 21:04:06,659 epoch 14 - iter 240/1205 - loss 0.06983718 - samples/sec: 353.15 - lr: 0.050000\n",
            "2022-08-13 21:04:17,477 epoch 14 - iter 360/1205 - loss 0.07090540 - samples/sec: 355.38 - lr: 0.050000\n",
            "2022-08-13 21:04:28,073 epoch 14 - iter 480/1205 - loss 0.07080972 - samples/sec: 362.83 - lr: 0.050000\n",
            "2022-08-13 21:04:38,829 epoch 14 - iter 600/1205 - loss 0.07120494 - samples/sec: 357.42 - lr: 0.050000\n",
            "2022-08-13 21:04:49,458 epoch 14 - iter 720/1205 - loss 0.07148670 - samples/sec: 361.69 - lr: 0.050000\n",
            "2022-08-13 21:05:00,253 epoch 14 - iter 840/1205 - loss 0.07116677 - samples/sec: 356.10 - lr: 0.050000\n",
            "2022-08-13 21:05:10,598 epoch 14 - iter 960/1205 - loss 0.07126086 - samples/sec: 371.58 - lr: 0.050000\n",
            "2022-08-13 21:05:23,326 epoch 14 - iter 1080/1205 - loss 0.07097487 - samples/sec: 301.98 - lr: 0.050000\n",
            "2022-08-13 21:05:34,269 epoch 14 - iter 1200/1205 - loss 0.07093782 - samples/sec: 351.30 - lr: 0.050000\n",
            "2022-08-13 21:05:34,697 ----------------------------------------------------------------------------------------------------\n",
            "2022-08-13 21:05:34,699 EPOCH 14 done: loss 0.0710 - lr 0.050000\n"
          ]
        },
        {
          "name": "stderr",
          "output_type": "stream",
          "text": [
            "100%|██████████| 150/150 [00:19<00:00,  7.82it/s]"
          ]
        },
        {
          "name": "stdout",
          "output_type": "stream",
          "text": [
            "2022-08-13 21:05:53,934 Evaluating as a multi-label problem: False\n"
          ]
        },
        {
          "name": "stderr",
          "output_type": "stream",
          "text": [
            "\n"
          ]
        },
        {
          "name": "stdout",
          "output_type": "stream",
          "text": [
            "2022-08-13 21:05:54,026 DEV : loss 0.05720987543463707 - f1-score (micro avg)  0.8569\n",
            "2022-08-13 21:05:54,502 BAD EPOCHS (no improvement): 1\n",
            "2022-08-13 21:05:54,507 ----------------------------------------------------------------------------------------------------\n",
            "2022-08-13 21:06:05,300 epoch 15 - iter 120/1205 - loss 0.07089660 - samples/sec: 356.26 - lr: 0.050000\n",
            "2022-08-13 21:06:15,641 epoch 15 - iter 240/1205 - loss 0.06946403 - samples/sec: 371.75 - lr: 0.050000\n",
            "2022-08-13 21:06:26,270 epoch 15 - iter 360/1205 - loss 0.06967043 - samples/sec: 361.67 - lr: 0.050000\n",
            "2022-08-13 21:06:37,004 epoch 15 - iter 480/1205 - loss 0.06882370 - samples/sec: 358.17 - lr: 0.050000\n",
            "2022-08-13 21:06:47,629 epoch 15 - iter 600/1205 - loss 0.06958285 - samples/sec: 361.79 - lr: 0.050000\n",
            "2022-08-13 21:06:58,021 epoch 15 - iter 720/1205 - loss 0.06954962 - samples/sec: 369.94 - lr: 0.050000\n",
            "2022-08-13 21:07:08,931 epoch 15 - iter 840/1205 - loss 0.06940313 - samples/sec: 352.36 - lr: 0.050000\n",
            "2022-08-13 21:07:19,647 epoch 15 - iter 960/1205 - loss 0.06922277 - samples/sec: 358.73 - lr: 0.050000\n",
            "2022-08-13 21:07:30,263 epoch 15 - iter 1080/1205 - loss 0.06939360 - samples/sec: 362.12 - lr: 0.050000\n",
            "2022-08-13 21:07:40,676 epoch 15 - iter 1200/1205 - loss 0.06981229 - samples/sec: 369.19 - lr: 0.050000\n",
            "2022-08-13 21:07:41,199 ----------------------------------------------------------------------------------------------------\n",
            "2022-08-13 21:07:41,201 EPOCH 15 done: loss 0.0698 - lr 0.050000\n"
          ]
        },
        {
          "name": "stderr",
          "output_type": "stream",
          "text": [
            "100%|██████████| 150/150 [00:18<00:00,  7.93it/s]\n"
          ]
        },
        {
          "name": "stdout",
          "output_type": "stream",
          "text": [
            "2022-08-13 21:08:00,172 Evaluating as a multi-label problem: False\n",
            "2022-08-13 21:08:00,262 DEV : loss 0.057569511234760284 - f1-score (micro avg)  0.858\n",
            "2022-08-13 21:08:00,740 BAD EPOCHS (no improvement): 0\n",
            "2022-08-13 21:08:00,745 saving best model\n",
            "2022-08-13 21:08:05,366 ----------------------------------------------------------------------------------------------------\n",
            "2022-08-13 21:08:18,185 epoch 16 - iter 120/1205 - loss 0.06897068 - samples/sec: 299.94 - lr: 0.050000\n",
            "2022-08-13 21:08:29,306 epoch 16 - iter 240/1205 - loss 0.06840350 - samples/sec: 345.70 - lr: 0.050000\n",
            "2022-08-13 21:08:40,425 epoch 16 - iter 360/1205 - loss 0.06908071 - samples/sec: 345.74 - lr: 0.050000\n",
            "2022-08-13 21:08:51,233 epoch 16 - iter 480/1205 - loss 0.06944080 - samples/sec: 355.66 - lr: 0.050000\n",
            "2022-08-13 21:09:01,668 epoch 16 - iter 600/1205 - loss 0.06932965 - samples/sec: 368.39 - lr: 0.050000\n",
            "2022-08-13 21:09:12,095 epoch 16 - iter 720/1205 - loss 0.06910729 - samples/sec: 368.73 - lr: 0.050000\n",
            "2022-08-13 21:09:22,811 epoch 16 - iter 840/1205 - loss 0.06886765 - samples/sec: 358.75 - lr: 0.050000\n",
            "2022-08-13 21:09:33,377 epoch 16 - iter 960/1205 - loss 0.06863321 - samples/sec: 363.82 - lr: 0.050000\n",
            "2022-08-13 21:09:44,058 epoch 16 - iter 1080/1205 - loss 0.06899540 - samples/sec: 359.90 - lr: 0.050000\n",
            "2022-08-13 21:09:54,833 epoch 16 - iter 1200/1205 - loss 0.06875629 - samples/sec: 356.79 - lr: 0.050000\n",
            "2022-08-13 21:09:55,307 ----------------------------------------------------------------------------------------------------\n",
            "2022-08-13 21:09:55,309 EPOCH 16 done: loss 0.0687 - lr 0.050000\n"
          ]
        },
        {
          "name": "stderr",
          "output_type": "stream",
          "text": [
            "100%|██████████| 150/150 [00:19<00:00,  7.89it/s]\n"
          ]
        },
        {
          "name": "stdout",
          "output_type": "stream",
          "text": [
            "2022-08-13 21:10:14,384 Evaluating as a multi-label problem: False\n",
            "2022-08-13 21:10:14,473 DEV : loss 0.057838182896375656 - f1-score (micro avg)  0.8592\n",
            "2022-08-13 21:10:14,950 BAD EPOCHS (no improvement): 0\n",
            "2022-08-13 21:10:14,955 saving best model\n",
            "2022-08-13 21:10:19,592 ----------------------------------------------------------------------------------------------------\n",
            "2022-08-13 21:10:30,446 epoch 17 - iter 120/1205 - loss 0.06755924 - samples/sec: 354.30 - lr: 0.050000\n",
            "2022-08-13 21:10:41,578 epoch 17 - iter 240/1205 - loss 0.06762376 - samples/sec: 345.38 - lr: 0.050000\n",
            "2022-08-13 21:10:52,607 epoch 17 - iter 360/1205 - loss 0.06792985 - samples/sec: 348.58 - lr: 0.050000\n",
            "2022-08-13 21:11:03,295 epoch 17 - iter 480/1205 - loss 0.06836285 - samples/sec: 359.68 - lr: 0.050000\n",
            "2022-08-13 21:11:13,951 epoch 17 - iter 600/1205 - loss 0.06845954 - samples/sec: 360.77 - lr: 0.050000\n",
            "2022-08-13 21:11:24,623 epoch 17 - iter 720/1205 - loss 0.06820054 - samples/sec: 360.24 - lr: 0.050000\n",
            "2022-08-13 21:11:35,169 epoch 17 - iter 840/1205 - loss 0.06811467 - samples/sec: 364.52 - lr: 0.050000\n",
            "2022-08-13 21:11:45,683 epoch 17 - iter 960/1205 - loss 0.06828806 - samples/sec: 365.64 - lr: 0.050000\n",
            "2022-08-13 21:11:56,265 epoch 17 - iter 1080/1205 - loss 0.06851887 - samples/sec: 363.30 - lr: 0.050000\n",
            "2022-08-13 21:12:06,897 epoch 17 - iter 1200/1205 - loss 0.06870442 - samples/sec: 361.57 - lr: 0.050000\n",
            "2022-08-13 21:12:07,355 ----------------------------------------------------------------------------------------------------\n",
            "2022-08-13 21:12:07,357 EPOCH 17 done: loss 0.0687 - lr 0.050000\n"
          ]
        },
        {
          "name": "stderr",
          "output_type": "stream",
          "text": [
            "100%|██████████| 150/150 [00:21<00:00,  7.01it/s]\n"
          ]
        },
        {
          "name": "stdout",
          "output_type": "stream",
          "text": [
            "2022-08-13 21:12:28,815 Evaluating as a multi-label problem: False\n",
            "2022-08-13 21:12:28,911 DEV : loss 0.05757070705294609 - f1-score (micro avg)  0.8573\n",
            "2022-08-13 21:12:29,408 BAD EPOCHS (no improvement): 1\n",
            "2022-08-13 21:12:29,413 ----------------------------------------------------------------------------------------------------\n",
            "2022-08-13 21:12:40,248 epoch 18 - iter 120/1205 - loss 0.06653984 - samples/sec: 354.89 - lr: 0.050000\n",
            "2022-08-13 21:12:50,853 epoch 18 - iter 240/1205 - loss 0.06764453 - samples/sec: 362.51 - lr: 0.050000\n",
            "2022-08-13 21:13:01,539 epoch 18 - iter 360/1205 - loss 0.06801787 - samples/sec: 359.74 - lr: 0.050000\n",
            "2022-08-13 21:13:12,455 epoch 18 - iter 480/1205 - loss 0.06766746 - samples/sec: 352.17 - lr: 0.050000\n",
            "2022-08-13 21:13:23,130 epoch 18 - iter 600/1205 - loss 0.06736858 - samples/sec: 360.11 - lr: 0.050000\n",
            "2022-08-13 21:13:33,855 epoch 18 - iter 720/1205 - loss 0.06759309 - samples/sec: 358.43 - lr: 0.050000\n",
            "2022-08-13 21:13:44,430 epoch 18 - iter 840/1205 - loss 0.06747489 - samples/sec: 363.54 - lr: 0.050000\n",
            "2022-08-13 21:13:55,329 epoch 18 - iter 960/1205 - loss 0.06735827 - samples/sec: 352.70 - lr: 0.050000\n",
            "2022-08-13 21:14:05,987 epoch 18 - iter 1080/1205 - loss 0.06758597 - samples/sec: 360.71 - lr: 0.050000\n",
            "2022-08-13 21:14:16,544 epoch 18 - iter 1200/1205 - loss 0.06761455 - samples/sec: 364.13 - lr: 0.050000\n",
            "2022-08-13 21:14:16,964 ----------------------------------------------------------------------------------------------------\n",
            "2022-08-13 21:14:16,966 EPOCH 18 done: loss 0.0676 - lr 0.050000\n"
          ]
        },
        {
          "name": "stderr",
          "output_type": "stream",
          "text": [
            "100%|██████████| 150/150 [00:18<00:00,  8.03it/s]"
          ]
        },
        {
          "name": "stdout",
          "output_type": "stream",
          "text": [
            "2022-08-13 21:14:35,691 Evaluating as a multi-label problem: False\n"
          ]
        },
        {
          "name": "stderr",
          "output_type": "stream",
          "text": [
            "\n"
          ]
        },
        {
          "name": "stdout",
          "output_type": "stream",
          "text": [
            "2022-08-13 21:14:35,782 DEV : loss 0.057493824511766434 - f1-score (micro avg)  0.8596\n",
            "2022-08-13 21:14:36,258 BAD EPOCHS (no improvement): 0\n",
            "2022-08-13 21:14:36,263 saving best model\n",
            "2022-08-13 21:14:40,872 ----------------------------------------------------------------------------------------------------\n",
            "2022-08-13 21:14:51,529 epoch 19 - iter 120/1205 - loss 0.06753613 - samples/sec: 360.86 - lr: 0.050000\n",
            "2022-08-13 21:15:02,752 epoch 19 - iter 240/1205 - loss 0.06845568 - samples/sec: 342.54 - lr: 0.050000\n",
            "2022-08-13 21:15:13,949 epoch 19 - iter 360/1205 - loss 0.06801073 - samples/sec: 343.38 - lr: 0.050000\n",
            "2022-08-13 21:15:24,687 epoch 19 - iter 480/1205 - loss 0.06793359 - samples/sec: 358.03 - lr: 0.050000\n",
            "2022-08-13 21:15:35,212 epoch 19 - iter 600/1205 - loss 0.06713050 - samples/sec: 365.24 - lr: 0.050000\n",
            "2022-08-13 21:15:45,765 epoch 19 - iter 720/1205 - loss 0.06672489 - samples/sec: 364.27 - lr: 0.050000\n",
            "2022-08-13 21:15:56,340 epoch 19 - iter 840/1205 - loss 0.06706213 - samples/sec: 363.53 - lr: 0.050000\n",
            "2022-08-13 21:16:07,009 epoch 19 - iter 960/1205 - loss 0.06717844 - samples/sec: 360.29 - lr: 0.050000\n",
            "2022-08-13 21:16:17,313 epoch 19 - iter 1080/1205 - loss 0.06729067 - samples/sec: 373.11 - lr: 0.050000\n",
            "2022-08-13 21:16:27,693 epoch 19 - iter 1200/1205 - loss 0.06728351 - samples/sec: 370.39 - lr: 0.050000\n",
            "2022-08-13 21:16:28,111 ----------------------------------------------------------------------------------------------------\n",
            "2022-08-13 21:16:28,113 EPOCH 19 done: loss 0.0673 - lr 0.050000\n"
          ]
        },
        {
          "name": "stderr",
          "output_type": "stream",
          "text": [
            "100%|██████████| 150/150 [00:21<00:00,  7.10it/s]\n"
          ]
        },
        {
          "name": "stdout",
          "output_type": "stream",
          "text": [
            "2022-08-13 21:16:49,303 Evaluating as a multi-label problem: False\n",
            "2022-08-13 21:16:49,394 DEV : loss 0.05721729248762131 - f1-score (micro avg)  0.8628\n",
            "2022-08-13 21:16:49,894 BAD EPOCHS (no improvement): 0\n",
            "2022-08-13 21:16:49,899 saving best model\n",
            "2022-08-13 21:16:54,411 ----------------------------------------------------------------------------------------------------\n",
            "2022-08-13 21:17:05,110 epoch 20 - iter 120/1205 - loss 0.06464398 - samples/sec: 359.46 - lr: 0.050000\n",
            "2022-08-13 21:17:15,913 epoch 20 - iter 240/1205 - loss 0.06615969 - samples/sec: 355.85 - lr: 0.050000\n",
            "2022-08-13 21:17:26,694 epoch 20 - iter 360/1205 - loss 0.06434200 - samples/sec: 356.59 - lr: 0.050000\n",
            "2022-08-13 21:17:37,379 epoch 20 - iter 480/1205 - loss 0.06482985 - samples/sec: 359.75 - lr: 0.050000\n",
            "2022-08-13 21:17:47,996 epoch 20 - iter 600/1205 - loss 0.06579428 - samples/sec: 362.08 - lr: 0.050000\n",
            "2022-08-13 21:17:58,724 epoch 20 - iter 720/1205 - loss 0.06594063 - samples/sec: 358.37 - lr: 0.050000\n",
            "2022-08-13 21:18:09,542 epoch 20 - iter 840/1205 - loss 0.06623674 - samples/sec: 355.38 - lr: 0.050000\n",
            "2022-08-13 21:18:20,303 epoch 20 - iter 960/1205 - loss 0.06618634 - samples/sec: 357.23 - lr: 0.050000\n",
            "2022-08-13 21:18:31,089 epoch 20 - iter 1080/1205 - loss 0.06625117 - samples/sec: 356.45 - lr: 0.050000\n",
            "2022-08-13 21:18:41,709 epoch 20 - iter 1200/1205 - loss 0.06642280 - samples/sec: 362.02 - lr: 0.050000\n",
            "2022-08-13 21:18:42,253 ----------------------------------------------------------------------------------------------------\n",
            "2022-08-13 21:18:42,255 EPOCH 20 done: loss 0.0664 - lr 0.050000\n"
          ]
        },
        {
          "name": "stderr",
          "output_type": "stream",
          "text": [
            "100%|██████████| 150/150 [00:18<00:00,  7.90it/s]"
          ]
        },
        {
          "name": "stdout",
          "output_type": "stream",
          "text": [
            "2022-08-13 21:19:01,288 Evaluating as a multi-label problem: False\n"
          ]
        },
        {
          "name": "stderr",
          "output_type": "stream",
          "text": [
            "\n"
          ]
        },
        {
          "name": "stdout",
          "output_type": "stream",
          "text": [
            "2022-08-13 21:19:01,385 DEV : loss 0.05667921528220177 - f1-score (micro avg)  0.8623\n",
            "2022-08-13 21:19:01,889 BAD EPOCHS (no improvement): 1\n",
            "2022-08-13 21:19:01,894 ----------------------------------------------------------------------------------------------------\n",
            "2022-08-13 21:19:12,896 epoch 21 - iter 120/1205 - loss 0.06253049 - samples/sec: 349.54 - lr: 0.050000\n",
            "2022-08-13 21:19:23,656 epoch 21 - iter 240/1205 - loss 0.06300379 - samples/sec: 357.29 - lr: 0.050000\n",
            "2022-08-13 21:19:34,170 epoch 21 - iter 360/1205 - loss 0.06510165 - samples/sec: 365.64 - lr: 0.050000\n",
            "2022-08-13 21:19:44,855 epoch 21 - iter 480/1205 - loss 0.06562751 - samples/sec: 359.77 - lr: 0.050000\n",
            "2022-08-13 21:19:55,454 epoch 21 - iter 600/1205 - loss 0.06548087 - samples/sec: 362.74 - lr: 0.050000\n",
            "2022-08-13 21:20:06,029 epoch 21 - iter 720/1205 - loss 0.06578804 - samples/sec: 363.51 - lr: 0.050000\n",
            "2022-08-13 21:20:16,801 epoch 21 - iter 840/1205 - loss 0.06582378 - samples/sec: 356.89 - lr: 0.050000\n",
            "2022-08-13 21:20:27,214 epoch 21 - iter 960/1205 - loss 0.06583955 - samples/sec: 369.17 - lr: 0.050000\n",
            "2022-08-13 21:20:37,944 epoch 21 - iter 1080/1205 - loss 0.06573736 - samples/sec: 358.29 - lr: 0.050000\n",
            "2022-08-13 21:20:48,706 epoch 21 - iter 1200/1205 - loss 0.06557832 - samples/sec: 357.22 - lr: 0.050000\n",
            "2022-08-13 21:20:49,179 ----------------------------------------------------------------------------------------------------\n",
            "2022-08-13 21:20:49,182 EPOCH 21 done: loss 0.0656 - lr 0.050000\n"
          ]
        },
        {
          "name": "stderr",
          "output_type": "stream",
          "text": [
            "100%|██████████| 150/150 [00:21<00:00,  7.14it/s]\n"
          ]
        },
        {
          "name": "stdout",
          "output_type": "stream",
          "text": [
            "2022-08-13 21:21:10,244 Evaluating as a multi-label problem: False\n",
            "2022-08-13 21:21:10,332 DEV : loss 0.0575009360909462 - f1-score (micro avg)  0.859\n",
            "2022-08-13 21:21:10,858 BAD EPOCHS (no improvement): 2\n",
            "2022-08-13 21:21:10,862 ----------------------------------------------------------------------------------------------------\n",
            "2022-08-13 21:21:21,611 epoch 22 - iter 120/1205 - loss 0.06432405 - samples/sec: 357.72 - lr: 0.050000\n",
            "2022-08-13 21:21:32,318 epoch 22 - iter 240/1205 - loss 0.06436332 - samples/sec: 359.06 - lr: 0.050000\n",
            "2022-08-13 21:21:42,640 epoch 22 - iter 360/1205 - loss 0.06486351 - samples/sec: 372.43 - lr: 0.050000\n",
            "2022-08-13 21:21:53,018 epoch 22 - iter 480/1205 - loss 0.06452592 - samples/sec: 370.41 - lr: 0.050000\n",
            "2022-08-13 21:22:03,902 epoch 22 - iter 600/1205 - loss 0.06520723 - samples/sec: 353.25 - lr: 0.050000\n",
            "2022-08-13 21:22:14,500 epoch 22 - iter 720/1205 - loss 0.06531856 - samples/sec: 362.74 - lr: 0.050000\n",
            "2022-08-13 21:22:25,866 epoch 22 - iter 840/1205 - loss 0.06528763 - samples/sec: 338.25 - lr: 0.050000\n",
            "2022-08-13 21:22:37,504 epoch 22 - iter 960/1205 - loss 0.06537511 - samples/sec: 330.37 - lr: 0.050000\n",
            "2022-08-13 21:22:48,785 epoch 22 - iter 1080/1205 - loss 0.06522777 - samples/sec: 340.82 - lr: 0.050000\n",
            "2022-08-13 21:23:00,006 epoch 22 - iter 1200/1205 - loss 0.06523137 - samples/sec: 342.65 - lr: 0.050000\n",
            "2022-08-13 21:23:00,484 ----------------------------------------------------------------------------------------------------\n",
            "2022-08-13 21:23:00,486 EPOCH 22 done: loss 0.0652 - lr 0.050000\n"
          ]
        },
        {
          "name": "stderr",
          "output_type": "stream",
          "text": [
            "100%|██████████| 150/150 [00:19<00:00,  7.51it/s]"
          ]
        },
        {
          "name": "stdout",
          "output_type": "stream",
          "text": [
            "2022-08-13 21:23:20,519 Evaluating as a multi-label problem: False\n"
          ]
        },
        {
          "name": "stderr",
          "output_type": "stream",
          "text": [
            "\n"
          ]
        },
        {
          "name": "stdout",
          "output_type": "stream",
          "text": [
            "2022-08-13 21:23:20,621 DEV : loss 0.05606365576386452 - f1-score (micro avg)  0.8597\n",
            "2022-08-13 21:23:21,116 BAD EPOCHS (no improvement): 3\n",
            "2022-08-13 21:23:21,121 ----------------------------------------------------------------------------------------------------\n",
            "2022-08-13 21:23:31,936 epoch 23 - iter 120/1205 - loss 0.06435397 - samples/sec: 355.58 - lr: 0.050000\n",
            "2022-08-13 21:23:42,735 epoch 23 - iter 240/1205 - loss 0.06426008 - samples/sec: 356.00 - lr: 0.050000\n",
            "2022-08-13 21:23:55,850 epoch 23 - iter 360/1205 - loss 0.06501116 - samples/sec: 293.10 - lr: 0.050000\n",
            "2022-08-13 21:24:06,532 epoch 23 - iter 480/1205 - loss 0.06443688 - samples/sec: 359.88 - lr: 0.050000\n",
            "2022-08-13 21:24:17,455 epoch 23 - iter 600/1205 - loss 0.06493843 - samples/sec: 351.96 - lr: 0.050000\n",
            "2022-08-13 21:24:28,189 epoch 23 - iter 720/1205 - loss 0.06525616 - samples/sec: 358.17 - lr: 0.050000\n",
            "2022-08-13 21:24:39,043 epoch 23 - iter 840/1205 - loss 0.06515262 - samples/sec: 354.23 - lr: 0.050000\n",
            "2022-08-13 21:24:50,076 epoch 23 - iter 960/1205 - loss 0.06504189 - samples/sec: 348.47 - lr: 0.050000\n",
            "2022-08-13 21:25:00,554 epoch 23 - iter 1080/1205 - loss 0.06481681 - samples/sec: 366.90 - lr: 0.050000\n",
            "2022-08-13 21:25:11,189 epoch 23 - iter 1200/1205 - loss 0.06467626 - samples/sec: 361.51 - lr: 0.050000\n",
            "2022-08-13 21:25:11,603 ----------------------------------------------------------------------------------------------------\n",
            "2022-08-13 21:25:11,604 EPOCH 23 done: loss 0.0647 - lr 0.050000\n"
          ]
        },
        {
          "name": "stderr",
          "output_type": "stream",
          "text": [
            "100%|██████████| 150/150 [00:19<00:00,  7.70it/s]\n"
          ]
        },
        {
          "name": "stdout",
          "output_type": "stream",
          "text": [
            "2022-08-13 21:25:31,143 Evaluating as a multi-label problem: False\n",
            "2022-08-13 21:25:31,238 DEV : loss 0.056868985295295715 - f1-score (micro avg)  0.8612\n",
            "2022-08-13 21:25:31,712 Epoch    23: reducing learning rate of group 0 to 2.5000e-02.\n",
            "2022-08-13 21:25:31,714 BAD EPOCHS (no improvement): 4\n",
            "2022-08-13 21:25:31,719 ----------------------------------------------------------------------------------------------------\n",
            "2022-08-13 21:25:42,310 epoch 24 - iter 120/1205 - loss 0.06307539 - samples/sec: 363.08 - lr: 0.025000\n",
            "2022-08-13 21:25:53,022 epoch 24 - iter 240/1205 - loss 0.06208678 - samples/sec: 358.92 - lr: 0.025000\n",
            "2022-08-13 21:26:03,737 epoch 24 - iter 360/1205 - loss 0.06218404 - samples/sec: 358.77 - lr: 0.025000\n",
            "2022-08-13 21:26:14,395 epoch 24 - iter 480/1205 - loss 0.06224115 - samples/sec: 360.72 - lr: 0.025000\n",
            "2022-08-13 21:26:24,914 epoch 24 - iter 600/1205 - loss 0.06213182 - samples/sec: 365.50 - lr: 0.025000\n",
            "2022-08-13 21:26:35,382 epoch 24 - iter 720/1205 - loss 0.06215720 - samples/sec: 367.24 - lr: 0.025000\n",
            "2022-08-13 21:26:46,105 epoch 24 - iter 840/1205 - loss 0.06231153 - samples/sec: 358.54 - lr: 0.025000\n",
            "2022-08-13 21:26:56,723 epoch 24 - iter 960/1205 - loss 0.06230122 - samples/sec: 362.09 - lr: 0.025000\n",
            "2022-08-13 21:27:07,317 epoch 24 - iter 1080/1205 - loss 0.06248209 - samples/sec: 362.90 - lr: 0.025000\n",
            "2022-08-13 21:27:17,998 epoch 24 - iter 1200/1205 - loss 0.06256258 - samples/sec: 359.97 - lr: 0.025000\n",
            "2022-08-13 21:27:18,406 ----------------------------------------------------------------------------------------------------\n",
            "2022-08-13 21:27:18,408 EPOCH 24 done: loss 0.0625 - lr 0.025000\n"
          ]
        },
        {
          "name": "stderr",
          "output_type": "stream",
          "text": [
            "100%|██████████| 150/150 [00:21<00:00,  7.02it/s]"
          ]
        },
        {
          "name": "stdout",
          "output_type": "stream",
          "text": [
            "2022-08-13 21:27:39,825 Evaluating as a multi-label problem: False\n"
          ]
        },
        {
          "name": "stderr",
          "output_type": "stream",
          "text": [
            "\n"
          ]
        },
        {
          "name": "stdout",
          "output_type": "stream",
          "text": [
            "2022-08-13 21:27:39,917 DEV : loss 0.055931542068719864 - f1-score (micro avg)  0.8629\n",
            "2022-08-13 21:27:40,398 BAD EPOCHS (no improvement): 0\n",
            "2022-08-13 21:27:40,402 saving best model\n",
            "2022-08-13 21:27:45,449 ----------------------------------------------------------------------------------------------------\n",
            "2022-08-13 21:27:56,098 epoch 25 - iter 120/1205 - loss 0.06440362 - samples/sec: 361.12 - lr: 0.025000\n",
            "2022-08-13 21:28:07,268 epoch 25 - iter 240/1205 - loss 0.06274999 - samples/sec: 344.19 - lr: 0.025000\n",
            "2022-08-13 21:28:17,948 epoch 25 - iter 360/1205 - loss 0.06225245 - samples/sec: 359.98 - lr: 0.025000\n",
            "2022-08-13 21:28:28,525 epoch 25 - iter 480/1205 - loss 0.06264710 - samples/sec: 363.47 - lr: 0.025000\n",
            "2022-08-13 21:28:39,306 epoch 25 - iter 600/1205 - loss 0.06232962 - samples/sec: 356.62 - lr: 0.025000\n",
            "2022-08-13 21:28:50,215 epoch 25 - iter 720/1205 - loss 0.06219949 - samples/sec: 352.39 - lr: 0.025000\n",
            "2022-08-13 21:29:00,972 epoch 25 - iter 840/1205 - loss 0.06214607 - samples/sec: 357.41 - lr: 0.025000\n",
            "2022-08-13 21:29:11,530 epoch 25 - iter 960/1205 - loss 0.06203824 - samples/sec: 364.14 - lr: 0.025000\n",
            "2022-08-13 21:29:22,137 epoch 25 - iter 1080/1205 - loss 0.06236652 - samples/sec: 362.44 - lr: 0.025000\n",
            "2022-08-13 21:29:32,668 epoch 25 - iter 1200/1205 - loss 0.06231988 - samples/sec: 365.06 - lr: 0.025000\n",
            "2022-08-13 21:29:33,138 ----------------------------------------------------------------------------------------------------\n",
            "2022-08-13 21:29:33,140 EPOCH 25 done: loss 0.0623 - lr 0.025000\n"
          ]
        },
        {
          "name": "stderr",
          "output_type": "stream",
          "text": [
            "100%|██████████| 150/150 [00:19<00:00,  7.85it/s]\n"
          ]
        },
        {
          "name": "stdout",
          "output_type": "stream",
          "text": [
            "2022-08-13 21:29:52,293 Evaluating as a multi-label problem: False\n",
            "2022-08-13 21:29:52,382 DEV : loss 0.05575476959347725 - f1-score (micro avg)  0.8636\n",
            "2022-08-13 21:29:52,884 BAD EPOCHS (no improvement): 0\n",
            "2022-08-13 21:29:52,889 saving best model\n",
            "2022-08-13 21:29:57,508 ----------------------------------------------------------------------------------------------------\n",
            "2022-08-13 21:30:08,565 epoch 26 - iter 120/1205 - loss 0.06216527 - samples/sec: 347.79 - lr: 0.025000\n",
            "2022-08-13 21:30:19,896 epoch 26 - iter 240/1205 - loss 0.05921100 - samples/sec: 339.32 - lr: 0.025000\n",
            "2022-08-13 21:30:30,528 epoch 26 - iter 360/1205 - loss 0.05995410 - samples/sec: 361.63 - lr: 0.025000\n",
            "2022-08-13 21:30:41,286 epoch 26 - iter 480/1205 - loss 0.06057518 - samples/sec: 357.38 - lr: 0.025000\n",
            "2022-08-13 21:30:52,039 epoch 26 - iter 600/1205 - loss 0.06099130 - samples/sec: 357.53 - lr: 0.025000\n",
            "2022-08-13 21:31:02,650 epoch 26 - iter 720/1205 - loss 0.06105050 - samples/sec: 362.33 - lr: 0.025000\n",
            "2022-08-13 21:31:13,083 epoch 26 - iter 840/1205 - loss 0.06121553 - samples/sec: 368.50 - lr: 0.025000\n",
            "2022-08-13 21:31:24,216 epoch 26 - iter 960/1205 - loss 0.06100399 - samples/sec: 345.32 - lr: 0.025000\n",
            "2022-08-13 21:31:35,142 epoch 26 - iter 1080/1205 - loss 0.06112341 - samples/sec: 351.86 - lr: 0.025000\n",
            "2022-08-13 21:31:45,703 epoch 26 - iter 1200/1205 - loss 0.06134035 - samples/sec: 364.08 - lr: 0.025000\n",
            "2022-08-13 21:31:46,123 ----------------------------------------------------------------------------------------------------\n",
            "2022-08-13 21:31:46,125 EPOCH 26 done: loss 0.0613 - lr 0.025000\n"
          ]
        },
        {
          "name": "stderr",
          "output_type": "stream",
          "text": [
            "100%|██████████| 150/150 [00:21<00:00,  7.14it/s]\n"
          ]
        },
        {
          "name": "stdout",
          "output_type": "stream",
          "text": [
            "2022-08-13 21:32:07,202 Evaluating as a multi-label problem: False\n",
            "2022-08-13 21:32:07,291 DEV : loss 0.05589861795306206 - f1-score (micro avg)  0.8638\n",
            "2022-08-13 21:32:07,778 BAD EPOCHS (no improvement): 0\n",
            "2022-08-13 21:32:07,783 saving best model\n",
            "2022-08-13 21:32:12,503 ----------------------------------------------------------------------------------------------------\n",
            "2022-08-13 21:32:23,734 epoch 27 - iter 120/1205 - loss 0.06306567 - samples/sec: 342.44 - lr: 0.025000\n",
            "2022-08-13 21:32:34,716 epoch 27 - iter 240/1205 - loss 0.06107159 - samples/sec: 350.10 - lr: 0.025000\n",
            "2022-08-13 21:32:45,884 epoch 27 - iter 360/1205 - loss 0.06072229 - samples/sec: 344.23 - lr: 0.025000\n",
            "2022-08-13 21:32:56,457 epoch 27 - iter 480/1205 - loss 0.06040141 - samples/sec: 363.62 - lr: 0.025000\n",
            "2022-08-13 21:33:07,211 epoch 27 - iter 600/1205 - loss 0.06057745 - samples/sec: 357.52 - lr: 0.025000\n",
            "2022-08-13 21:33:17,870 epoch 27 - iter 720/1205 - loss 0.06070015 - samples/sec: 360.68 - lr: 0.025000\n",
            "2022-08-13 21:33:28,497 epoch 27 - iter 840/1205 - loss 0.06049601 - samples/sec: 361.73 - lr: 0.025000\n",
            "2022-08-13 21:33:39,089 epoch 27 - iter 960/1205 - loss 0.06064270 - samples/sec: 362.99 - lr: 0.025000\n",
            "2022-08-13 21:33:49,726 epoch 27 - iter 1080/1205 - loss 0.06071506 - samples/sec: 361.44 - lr: 0.025000\n",
            "2022-08-13 21:34:00,503 epoch 27 - iter 1200/1205 - loss 0.06084237 - samples/sec: 356.73 - lr: 0.025000\n",
            "2022-08-13 21:34:01,012 ----------------------------------------------------------------------------------------------------\n",
            "2022-08-13 21:34:01,013 EPOCH 27 done: loss 0.0609 - lr 0.025000\n"
          ]
        },
        {
          "name": "stderr",
          "output_type": "stream",
          "text": [
            "100%|██████████| 150/150 [00:19<00:00,  7.68it/s]"
          ]
        },
        {
          "name": "stdout",
          "output_type": "stream",
          "text": [
            "2022-08-13 21:34:20,598 Evaluating as a multi-label problem: False\n"
          ]
        },
        {
          "name": "stderr",
          "output_type": "stream",
          "text": [
            "\n"
          ]
        },
        {
          "name": "stdout",
          "output_type": "stream",
          "text": [
            "2022-08-13 21:34:20,695 DEV : loss 0.055802635848522186 - f1-score (micro avg)  0.8624\n",
            "2022-08-13 21:34:21,187 BAD EPOCHS (no improvement): 1\n",
            "2022-08-13 21:34:21,191 ----------------------------------------------------------------------------------------------------\n",
            "2022-08-13 21:34:32,048 epoch 28 - iter 120/1205 - loss 0.05992977 - samples/sec: 354.22 - lr: 0.025000\n",
            "2022-08-13 21:34:42,675 epoch 28 - iter 240/1205 - loss 0.05995274 - samples/sec: 361.77 - lr: 0.025000\n",
            "2022-08-13 21:34:53,426 epoch 28 - iter 360/1205 - loss 0.06011989 - samples/sec: 357.61 - lr: 0.025000\n",
            "2022-08-13 21:35:04,039 epoch 28 - iter 480/1205 - loss 0.06017685 - samples/sec: 362.23 - lr: 0.025000\n",
            "2022-08-13 21:35:14,624 epoch 28 - iter 600/1205 - loss 0.05999473 - samples/sec: 363.23 - lr: 0.025000\n",
            "2022-08-13 21:35:25,480 epoch 28 - iter 720/1205 - loss 0.05966236 - samples/sec: 354.15 - lr: 0.025000\n",
            "2022-08-13 21:35:36,496 epoch 28 - iter 840/1205 - loss 0.06010745 - samples/sec: 348.98 - lr: 0.025000\n",
            "2022-08-13 21:35:47,467 epoch 28 - iter 960/1205 - loss 0.06020678 - samples/sec: 350.42 - lr: 0.025000\n",
            "2022-08-13 21:35:58,059 epoch 28 - iter 1080/1205 - loss 0.06033625 - samples/sec: 362.97 - lr: 0.025000\n",
            "2022-08-13 21:36:08,803 epoch 28 - iter 1200/1205 - loss 0.06046410 - samples/sec: 357.83 - lr: 0.025000\n",
            "2022-08-13 21:36:09,234 ----------------------------------------------------------------------------------------------------\n",
            "2022-08-13 21:36:09,237 EPOCH 28 done: loss 0.0605 - lr 0.025000\n"
          ]
        },
        {
          "name": "stderr",
          "output_type": "stream",
          "text": [
            "100%|██████████| 150/150 [00:21<00:00,  6.91it/s]\n"
          ]
        },
        {
          "name": "stdout",
          "output_type": "stream",
          "text": [
            "2022-08-13 21:36:30,993 Evaluating as a multi-label problem: False\n",
            "2022-08-13 21:36:31,088 DEV : loss 0.055728621780872345 - f1-score (micro avg)  0.8645\n",
            "2022-08-13 21:36:31,570 BAD EPOCHS (no improvement): 0\n",
            "2022-08-13 21:36:31,574 saving best model\n",
            "2022-08-13 21:36:36,190 ----------------------------------------------------------------------------------------------------\n",
            "2022-08-13 21:36:47,211 epoch 29 - iter 120/1205 - loss 0.05929777 - samples/sec: 348.97 - lr: 0.025000\n",
            "2022-08-13 21:36:58,326 epoch 29 - iter 240/1205 - loss 0.05931364 - samples/sec: 345.85 - lr: 0.025000\n",
            "2022-08-13 21:37:09,729 epoch 29 - iter 360/1205 - loss 0.05945295 - samples/sec: 337.16 - lr: 0.025000\n",
            "2022-08-13 21:37:20,626 epoch 29 - iter 480/1205 - loss 0.05959452 - samples/sec: 352.82 - lr: 0.025000\n",
            "2022-08-13 21:37:31,382 epoch 29 - iter 600/1205 - loss 0.05949731 - samples/sec: 357.43 - lr: 0.025000\n",
            "2022-08-13 21:37:42,005 epoch 29 - iter 720/1205 - loss 0.05982358 - samples/sec: 361.91 - lr: 0.025000\n",
            "2022-08-13 21:37:52,604 epoch 29 - iter 840/1205 - loss 0.05944359 - samples/sec: 362.74 - lr: 0.025000\n",
            "2022-08-13 21:38:03,576 epoch 29 - iter 960/1205 - loss 0.05955101 - samples/sec: 350.37 - lr: 0.025000\n",
            "2022-08-13 21:38:14,320 epoch 29 - iter 1080/1205 - loss 0.05943036 - samples/sec: 357.84 - lr: 0.025000\n",
            "2022-08-13 21:38:24,874 epoch 29 - iter 1200/1205 - loss 0.05977398 - samples/sec: 364.29 - lr: 0.025000\n",
            "2022-08-13 21:38:25,302 ----------------------------------------------------------------------------------------------------\n",
            "2022-08-13 21:38:25,304 EPOCH 29 done: loss 0.0598 - lr 0.025000\n"
          ]
        },
        {
          "name": "stderr",
          "output_type": "stream",
          "text": [
            "100%|██████████| 150/150 [00:19<00:00,  7.79it/s]"
          ]
        },
        {
          "name": "stdout",
          "output_type": "stream",
          "text": [
            "2022-08-13 21:38:44,619 Evaluating as a multi-label problem: False\n"
          ]
        },
        {
          "name": "stderr",
          "output_type": "stream",
          "text": [
            "\n"
          ]
        },
        {
          "name": "stdout",
          "output_type": "stream",
          "text": [
            "2022-08-13 21:38:44,710 DEV : loss 0.05567508935928345 - f1-score (micro avg)  0.8636\n",
            "2022-08-13 21:38:45,200 BAD EPOCHS (no improvement): 1\n",
            "2022-08-13 21:38:45,204 ----------------------------------------------------------------------------------------------------\n",
            "2022-08-13 21:38:55,815 epoch 30 - iter 120/1205 - loss 0.05950728 - samples/sec: 362.42 - lr: 0.025000\n",
            "2022-08-13 21:39:06,361 epoch 30 - iter 240/1205 - loss 0.05965369 - samples/sec: 364.57 - lr: 0.025000\n",
            "2022-08-13 21:39:17,057 epoch 30 - iter 360/1205 - loss 0.05917932 - samples/sec: 359.40 - lr: 0.025000\n",
            "2022-08-13 21:39:27,549 epoch 30 - iter 480/1205 - loss 0.05947141 - samples/sec: 366.43 - lr: 0.025000\n",
            "2022-08-13 21:39:38,481 epoch 30 - iter 600/1205 - loss 0.05941916 - samples/sec: 351.66 - lr: 0.025000\n",
            "2022-08-13 21:39:51,374 epoch 30 - iter 720/1205 - loss 0.05939362 - samples/sec: 298.12 - lr: 0.025000\n",
            "2022-08-13 21:40:02,003 epoch 30 - iter 840/1205 - loss 0.05928207 - samples/sec: 361.71 - lr: 0.025000\n",
            "2022-08-13 21:40:13,108 epoch 30 - iter 960/1205 - loss 0.05918596 - samples/sec: 346.22 - lr: 0.025000\n",
            "2022-08-13 21:40:23,788 epoch 30 - iter 1080/1205 - loss 0.05934489 - samples/sec: 359.97 - lr: 0.025000\n",
            "2022-08-13 21:40:34,161 epoch 30 - iter 1200/1205 - loss 0.05950992 - samples/sec: 370.64 - lr: 0.025000\n",
            "2022-08-13 21:40:34,642 ----------------------------------------------------------------------------------------------------\n",
            "2022-08-13 21:40:34,644 EPOCH 30 done: loss 0.0595 - lr 0.025000\n"
          ]
        },
        {
          "name": "stderr",
          "output_type": "stream",
          "text": [
            "100%|██████████| 150/150 [00:19<00:00,  7.72it/s]"
          ]
        },
        {
          "name": "stdout",
          "output_type": "stream",
          "text": [
            "2022-08-13 21:40:54,126 Evaluating as a multi-label problem: False\n"
          ]
        },
        {
          "name": "stderr",
          "output_type": "stream",
          "text": [
            "\n"
          ]
        },
        {
          "name": "stdout",
          "output_type": "stream",
          "text": [
            "2022-08-13 21:40:54,221 DEV : loss 0.056234367191791534 - f1-score (micro avg)  0.8643\n",
            "2022-08-13 21:40:54,716 BAD EPOCHS (no improvement): 2\n",
            "2022-08-13 21:40:54,722 ----------------------------------------------------------------------------------------------------\n",
            "2022-08-13 21:41:05,411 epoch 31 - iter 120/1205 - loss 0.06085641 - samples/sec: 359.79 - lr: 0.025000\n",
            "2022-08-13 21:41:16,110 epoch 31 - iter 240/1205 - loss 0.06199295 - samples/sec: 359.31 - lr: 0.025000\n",
            "2022-08-13 21:41:26,748 epoch 31 - iter 360/1205 - loss 0.06050573 - samples/sec: 361.40 - lr: 0.025000\n",
            "2022-08-13 21:41:37,210 epoch 31 - iter 480/1205 - loss 0.06005560 - samples/sec: 367.46 - lr: 0.025000\n",
            "2022-08-13 21:41:47,857 epoch 31 - iter 600/1205 - loss 0.05958234 - samples/sec: 361.08 - lr: 0.025000\n",
            "2022-08-13 21:41:58,594 epoch 31 - iter 720/1205 - loss 0.05997662 - samples/sec: 358.06 - lr: 0.025000\n",
            "2022-08-13 21:42:09,126 epoch 31 - iter 840/1205 - loss 0.06000786 - samples/sec: 365.05 - lr: 0.025000\n",
            "2022-08-13 21:42:19,786 epoch 31 - iter 960/1205 - loss 0.05970112 - samples/sec: 360.65 - lr: 0.025000\n",
            "2022-08-13 21:42:30,168 epoch 31 - iter 1080/1205 - loss 0.05979245 - samples/sec: 370.31 - lr: 0.025000\n",
            "2022-08-13 21:42:40,721 epoch 31 - iter 1200/1205 - loss 0.05977197 - samples/sec: 364.28 - lr: 0.025000\n",
            "2022-08-13 21:42:41,142 ----------------------------------------------------------------------------------------------------\n",
            "2022-08-13 21:42:41,144 EPOCH 31 done: loss 0.0598 - lr 0.025000\n"
          ]
        },
        {
          "name": "stderr",
          "output_type": "stream",
          "text": [
            "100%|██████████| 150/150 [00:21<00:00,  7.03it/s]"
          ]
        },
        {
          "name": "stdout",
          "output_type": "stream",
          "text": [
            "2022-08-13 21:43:02,528 Evaluating as a multi-label problem: False\n"
          ]
        },
        {
          "name": "stderr",
          "output_type": "stream",
          "text": [
            "\n"
          ]
        },
        {
          "name": "stdout",
          "output_type": "stream",
          "text": [
            "2022-08-13 21:43:02,626 DEV : loss 0.056088197976350784 - f1-score (micro avg)  0.8627\n",
            "2022-08-13 21:43:03,139 BAD EPOCHS (no improvement): 3\n",
            "2022-08-13 21:43:03,144 ----------------------------------------------------------------------------------------------------\n",
            "2022-08-13 21:43:13,593 epoch 32 - iter 120/1205 - loss 0.05954925 - samples/sec: 368.03 - lr: 0.025000\n",
            "2022-08-13 21:43:24,234 epoch 32 - iter 240/1205 - loss 0.05957543 - samples/sec: 361.26 - lr: 0.025000\n",
            "2022-08-13 21:43:35,062 epoch 32 - iter 360/1205 - loss 0.05886268 - samples/sec: 355.06 - lr: 0.025000\n",
            "2022-08-13 21:43:45,762 epoch 32 - iter 480/1205 - loss 0.05926203 - samples/sec: 359.29 - lr: 0.025000\n",
            "2022-08-13 21:43:56,421 epoch 32 - iter 600/1205 - loss 0.05916292 - samples/sec: 360.65 - lr: 0.025000\n",
            "2022-08-13 21:44:07,087 epoch 32 - iter 720/1205 - loss 0.05975844 - samples/sec: 360.42 - lr: 0.025000\n",
            "2022-08-13 21:44:17,806 epoch 32 - iter 840/1205 - loss 0.05960184 - samples/sec: 358.66 - lr: 0.025000\n",
            "2022-08-13 21:44:28,406 epoch 32 - iter 960/1205 - loss 0.05941101 - samples/sec: 362.71 - lr: 0.025000\n",
            "2022-08-13 21:44:39,342 epoch 32 - iter 1080/1205 - loss 0.05924008 - samples/sec: 351.50 - lr: 0.025000\n",
            "2022-08-13 21:44:49,977 epoch 32 - iter 1200/1205 - loss 0.05939949 - samples/sec: 361.52 - lr: 0.025000\n",
            "2022-08-13 21:44:50,425 ----------------------------------------------------------------------------------------------------\n",
            "2022-08-13 21:44:50,427 EPOCH 32 done: loss 0.0594 - lr 0.025000\n"
          ]
        },
        {
          "name": "stderr",
          "output_type": "stream",
          "text": [
            "100%|██████████| 150/150 [00:19<00:00,  7.81it/s]\n"
          ]
        },
        {
          "name": "stdout",
          "output_type": "stream",
          "text": [
            "2022-08-13 21:45:09,675 Evaluating as a multi-label problem: False\n",
            "2022-08-13 21:45:09,769 DEV : loss 0.05580268055200577 - f1-score (micro avg)  0.8645\n",
            "2022-08-13 21:45:10,249 Epoch    32: reducing learning rate of group 0 to 1.2500e-02.\n",
            "2022-08-13 21:45:10,252 BAD EPOCHS (no improvement): 4\n",
            "2022-08-13 21:45:10,272 ----------------------------------------------------------------------------------------------------\n",
            "2022-08-13 21:45:21,083 epoch 33 - iter 120/1205 - loss 0.05535085 - samples/sec: 355.70 - lr: 0.012500\n",
            "2022-08-13 21:45:32,036 epoch 33 - iter 240/1205 - loss 0.05699781 - samples/sec: 351.02 - lr: 0.012500\n",
            "2022-08-13 21:45:42,747 epoch 33 - iter 360/1205 - loss 0.05696065 - samples/sec: 358.90 - lr: 0.012500\n",
            "2022-08-13 21:45:53,168 epoch 33 - iter 480/1205 - loss 0.05670629 - samples/sec: 368.93 - lr: 0.012500\n",
            "2022-08-13 21:46:03,756 epoch 33 - iter 600/1205 - loss 0.05752862 - samples/sec: 363.12 - lr: 0.012500\n",
            "2022-08-13 21:46:14,598 epoch 33 - iter 720/1205 - loss 0.05791476 - samples/sec: 354.59 - lr: 0.012500\n",
            "2022-08-13 21:46:25,434 epoch 33 - iter 840/1205 - loss 0.05783788 - samples/sec: 354.80 - lr: 0.012500\n",
            "2022-08-13 21:46:36,181 epoch 33 - iter 960/1205 - loss 0.05811387 - samples/sec: 357.72 - lr: 0.012500\n",
            "2022-08-13 21:46:46,796 epoch 33 - iter 1080/1205 - loss 0.05776848 - samples/sec: 362.20 - lr: 0.012500\n",
            "2022-08-13 21:46:57,461 epoch 33 - iter 1200/1205 - loss 0.05780693 - samples/sec: 360.48 - lr: 0.012500\n",
            "2022-08-13 21:46:57,894 ----------------------------------------------------------------------------------------------------\n",
            "2022-08-13 21:46:57,895 EPOCH 33 done: loss 0.0578 - lr 0.012500\n"
          ]
        },
        {
          "name": "stderr",
          "output_type": "stream",
          "text": [
            "100%|██████████| 150/150 [00:21<00:00,  6.97it/s]\n"
          ]
        },
        {
          "name": "stdout",
          "output_type": "stream",
          "text": [
            "2022-08-13 21:47:19,476 Evaluating as a multi-label problem: False\n",
            "2022-08-13 21:47:19,573 DEV : loss 0.05570878088474274 - f1-score (micro avg)  0.8648\n",
            "2022-08-13 21:47:20,066 BAD EPOCHS (no improvement): 0\n",
            "2022-08-13 21:47:20,070 saving best model\n",
            "2022-08-13 21:47:24,731 ----------------------------------------------------------------------------------------------------\n",
            "2022-08-13 21:47:35,691 epoch 34 - iter 120/1205 - loss 0.05610952 - samples/sec: 350.93 - lr: 0.012500\n",
            "2022-08-13 21:47:46,853 epoch 34 - iter 240/1205 - loss 0.05642442 - samples/sec: 344.40 - lr: 0.012500\n",
            "2022-08-13 21:47:58,095 epoch 34 - iter 360/1205 - loss 0.05648418 - samples/sec: 342.00 - lr: 0.012500\n",
            "2022-08-13 21:48:08,936 epoch 34 - iter 480/1205 - loss 0.05721006 - samples/sec: 354.63 - lr: 0.012500\n",
            "2022-08-13 21:48:19,537 epoch 34 - iter 600/1205 - loss 0.05711619 - samples/sec: 362.65 - lr: 0.012500\n",
            "2022-08-13 21:48:30,310 epoch 34 - iter 720/1205 - loss 0.05776629 - samples/sec: 356.86 - lr: 0.012500\n",
            "2022-08-13 21:48:41,116 epoch 34 - iter 840/1205 - loss 0.05777676 - samples/sec: 355.77 - lr: 0.012500\n",
            "2022-08-13 21:48:51,636 epoch 34 - iter 960/1205 - loss 0.05774163 - samples/sec: 365.43 - lr: 0.012500\n",
            "2022-08-13 21:49:02,245 epoch 34 - iter 1080/1205 - loss 0.05788968 - samples/sec: 362.39 - lr: 0.012500\n",
            "2022-08-13 21:49:12,899 epoch 34 - iter 1200/1205 - loss 0.05780457 - samples/sec: 360.88 - lr: 0.012500\n",
            "2022-08-13 21:49:13,342 ----------------------------------------------------------------------------------------------------\n",
            "2022-08-13 21:49:13,344 EPOCH 34 done: loss 0.0578 - lr 0.012500\n"
          ]
        },
        {
          "name": "stderr",
          "output_type": "stream",
          "text": [
            "100%|██████████| 150/150 [00:19<00:00,  7.78it/s]"
          ]
        },
        {
          "name": "stdout",
          "output_type": "stream",
          "text": [
            "2022-08-13 21:49:32,669 Evaluating as a multi-label problem: False\n"
          ]
        },
        {
          "name": "stderr",
          "output_type": "stream",
          "text": [
            "\n"
          ]
        },
        {
          "name": "stdout",
          "output_type": "stream",
          "text": [
            "2022-08-13 21:49:32,764 DEV : loss 0.05579906702041626 - f1-score (micro avg)  0.8644\n",
            "2022-08-13 21:49:33,237 BAD EPOCHS (no improvement): 1\n",
            "2022-08-13 21:49:33,241 ----------------------------------------------------------------------------------------------------\n",
            "2022-08-13 21:49:43,826 epoch 35 - iter 120/1205 - loss 0.05814520 - samples/sec: 363.31 - lr: 0.012500\n",
            "2022-08-13 21:49:54,325 epoch 35 - iter 240/1205 - loss 0.05709820 - samples/sec: 366.19 - lr: 0.012500\n",
            "2022-08-13 21:50:04,740 epoch 35 - iter 360/1205 - loss 0.05741697 - samples/sec: 369.13 - lr: 0.012500\n",
            "2022-08-13 21:50:15,522 epoch 35 - iter 480/1205 - loss 0.05766526 - samples/sec: 356.54 - lr: 0.012500\n",
            "2022-08-13 21:50:26,167 epoch 35 - iter 600/1205 - loss 0.05784482 - samples/sec: 361.18 - lr: 0.012500\n",
            "2022-08-13 21:50:36,750 epoch 35 - iter 720/1205 - loss 0.05793514 - samples/sec: 363.26 - lr: 0.012500\n",
            "2022-08-13 21:50:47,310 epoch 35 - iter 840/1205 - loss 0.05791168 - samples/sec: 364.10 - lr: 0.012500\n",
            "2022-08-13 21:50:57,845 epoch 35 - iter 960/1205 - loss 0.05772821 - samples/sec: 364.92 - lr: 0.012500\n",
            "2022-08-13 21:51:08,457 epoch 35 - iter 1080/1205 - loss 0.05761120 - samples/sec: 362.26 - lr: 0.012500\n",
            "2022-08-13 21:51:19,376 epoch 35 - iter 1200/1205 - loss 0.05779019 - samples/sec: 352.10 - lr: 0.012500\n",
            "2022-08-13 21:51:19,804 ----------------------------------------------------------------------------------------------------\n",
            "2022-08-13 21:51:19,806 EPOCH 35 done: loss 0.0578 - lr 0.012500\n"
          ]
        },
        {
          "name": "stderr",
          "output_type": "stream",
          "text": [
            "100%|██████████| 150/150 [00:21<00:00,  6.93it/s]"
          ]
        },
        {
          "name": "stdout",
          "output_type": "stream",
          "text": [
            "2022-08-13 21:51:41,493 Evaluating as a multi-label problem: False\n"
          ]
        },
        {
          "name": "stderr",
          "output_type": "stream",
          "text": [
            "\n"
          ]
        },
        {
          "name": "stdout",
          "output_type": "stream",
          "text": [
            "2022-08-13 21:51:41,594 DEV : loss 0.05542166903614998 - f1-score (micro avg)  0.865\n",
            "2022-08-13 21:51:42,119 BAD EPOCHS (no improvement): 0\n",
            "2022-08-13 21:51:42,123 saving best model\n",
            "2022-08-13 21:51:46,715 ----------------------------------------------------------------------------------------------------\n",
            "2022-08-13 21:51:57,677 epoch 36 - iter 120/1205 - loss 0.05472939 - samples/sec: 350.84 - lr: 0.012500\n",
            "2022-08-13 21:52:08,657 epoch 36 - iter 240/1205 - loss 0.05649124 - samples/sec: 350.16 - lr: 0.012500\n",
            "2022-08-13 21:52:19,654 epoch 36 - iter 360/1205 - loss 0.05622538 - samples/sec: 349.60 - lr: 0.012500\n",
            "2022-08-13 21:52:30,295 epoch 36 - iter 480/1205 - loss 0.05612326 - samples/sec: 361.31 - lr: 0.012500\n",
            "2022-08-13 21:52:41,077 epoch 36 - iter 600/1205 - loss 0.05641856 - samples/sec: 356.56 - lr: 0.012500\n",
            "2022-08-13 21:52:52,096 epoch 36 - iter 720/1205 - loss 0.05638222 - samples/sec: 348.90 - lr: 0.012500\n",
            "2022-08-13 21:53:02,803 epoch 36 - iter 840/1205 - loss 0.05651774 - samples/sec: 359.09 - lr: 0.012500\n",
            "2022-08-13 21:53:13,515 epoch 36 - iter 960/1205 - loss 0.05671537 - samples/sec: 358.88 - lr: 0.012500\n",
            "2022-08-13 21:53:24,321 epoch 36 - iter 1080/1205 - loss 0.05710651 - samples/sec: 355.80 - lr: 0.012500\n",
            "2022-08-13 21:53:35,129 epoch 36 - iter 1200/1205 - loss 0.05698920 - samples/sec: 355.70 - lr: 0.012500\n",
            "2022-08-13 21:53:35,580 ----------------------------------------------------------------------------------------------------\n",
            "2022-08-13 21:53:35,582 EPOCH 36 done: loss 0.0570 - lr 0.012500\n"
          ]
        },
        {
          "name": "stderr",
          "output_type": "stream",
          "text": [
            "100%|██████████| 150/150 [00:19<00:00,  7.88it/s]\n"
          ]
        },
        {
          "name": "stdout",
          "output_type": "stream",
          "text": [
            "2022-08-13 21:53:54,675 Evaluating as a multi-label problem: False\n",
            "2022-08-13 21:53:54,768 DEV : loss 0.05563342943787575 - f1-score (micro avg)  0.8651\n",
            "2022-08-13 21:53:55,249 BAD EPOCHS (no improvement): 0\n",
            "2022-08-13 21:53:55,253 saving best model\n",
            "2022-08-13 21:53:59,846 ----------------------------------------------------------------------------------------------------\n",
            "2022-08-13 21:54:10,799 epoch 37 - iter 120/1205 - loss 0.05474782 - samples/sec: 351.11 - lr: 0.012500\n",
            "2022-08-13 21:54:21,864 epoch 37 - iter 240/1205 - loss 0.05663613 - samples/sec: 347.43 - lr: 0.012500\n",
            "2022-08-13 21:54:32,426 epoch 37 - iter 360/1205 - loss 0.05655349 - samples/sec: 364.04 - lr: 0.012500\n",
            "2022-08-13 21:54:43,110 epoch 37 - iter 480/1205 - loss 0.05630547 - samples/sec: 359.85 - lr: 0.012500\n",
            "2022-08-13 21:54:53,854 epoch 37 - iter 600/1205 - loss 0.05650537 - samples/sec: 357.78 - lr: 0.012500\n",
            "2022-08-13 21:55:04,686 epoch 37 - iter 720/1205 - loss 0.05659150 - samples/sec: 354.91 - lr: 0.012500\n",
            "2022-08-13 21:55:15,187 epoch 37 - iter 840/1205 - loss 0.05692988 - samples/sec: 366.10 - lr: 0.012500\n",
            "2022-08-13 21:55:27,790 epoch 37 - iter 960/1205 - loss 0.05701791 - samples/sec: 304.96 - lr: 0.012500\n",
            "2022-08-13 21:55:38,417 epoch 37 - iter 1080/1205 - loss 0.05735247 - samples/sec: 361.75 - lr: 0.012500\n",
            "2022-08-13 21:55:48,857 epoch 37 - iter 1200/1205 - loss 0.05719007 - samples/sec: 368.23 - lr: 0.012500\n",
            "2022-08-13 21:55:49,284 ----------------------------------------------------------------------------------------------------\n",
            "2022-08-13 21:55:49,286 EPOCH 37 done: loss 0.0572 - lr 0.012500\n"
          ]
        },
        {
          "name": "stderr",
          "output_type": "stream",
          "text": [
            "100%|██████████| 150/150 [00:19<00:00,  7.89it/s]\n"
          ]
        },
        {
          "name": "stdout",
          "output_type": "stream",
          "text": [
            "2022-08-13 21:56:08,362 Evaluating as a multi-label problem: False\n",
            "2022-08-13 21:56:08,451 DEV : loss 0.05568663775920868 - f1-score (micro avg)  0.8663\n",
            "2022-08-13 21:56:08,953 BAD EPOCHS (no improvement): 0\n",
            "2022-08-13 21:56:08,957 saving best model\n",
            "2022-08-13 21:56:13,585 ----------------------------------------------------------------------------------------------------\n",
            "2022-08-13 21:56:24,741 epoch 38 - iter 120/1205 - loss 0.05670007 - samples/sec: 344.69 - lr: 0.012500\n",
            "2022-08-13 21:56:35,651 epoch 38 - iter 240/1205 - loss 0.05630870 - samples/sec: 352.39 - lr: 0.012500\n",
            "2022-08-13 21:56:46,548 epoch 38 - iter 360/1205 - loss 0.05620173 - samples/sec: 352.82 - lr: 0.012500\n",
            "2022-08-13 21:56:57,158 epoch 38 - iter 480/1205 - loss 0.05684539 - samples/sec: 362.33 - lr: 0.012500\n",
            "2022-08-13 21:57:08,053 epoch 38 - iter 600/1205 - loss 0.05756546 - samples/sec: 352.84 - lr: 0.012500\n",
            "2022-08-13 21:57:18,602 epoch 38 - iter 720/1205 - loss 0.05756208 - samples/sec: 364.44 - lr: 0.012500\n",
            "2022-08-13 21:57:29,041 epoch 38 - iter 840/1205 - loss 0.05758957 - samples/sec: 368.29 - lr: 0.012500\n",
            "2022-08-13 21:57:39,535 epoch 38 - iter 960/1205 - loss 0.05756835 - samples/sec: 366.34 - lr: 0.012500\n",
            "2022-08-13 21:57:49,875 epoch 38 - iter 1080/1205 - loss 0.05728081 - samples/sec: 371.82 - lr: 0.012500\n",
            "2022-08-13 21:58:00,308 epoch 38 - iter 1200/1205 - loss 0.05717322 - samples/sec: 368.49 - lr: 0.012500\n",
            "2022-08-13 21:58:00,742 ----------------------------------------------------------------------------------------------------\n",
            "2022-08-13 21:58:00,744 EPOCH 38 done: loss 0.0572 - lr 0.012500\n"
          ]
        },
        {
          "name": "stderr",
          "output_type": "stream",
          "text": [
            "100%|██████████| 150/150 [00:19<00:00,  7.76it/s]\n"
          ]
        },
        {
          "name": "stdout",
          "output_type": "stream",
          "text": [
            "2022-08-13 21:58:20,117 Evaluating as a multi-label problem: False\n",
            "2022-08-13 21:58:20,210 DEV : loss 0.055623605847358704 - f1-score (micro avg)  0.8642\n",
            "2022-08-13 21:58:20,712 BAD EPOCHS (no improvement): 1\n",
            "2022-08-13 21:58:20,716 ----------------------------------------------------------------------------------------------------\n",
            "2022-08-13 21:58:33,679 epoch 39 - iter 120/1205 - loss 0.05514082 - samples/sec: 296.60 - lr: 0.012500\n",
            "2022-08-13 21:58:44,126 epoch 39 - iter 240/1205 - loss 0.05567805 - samples/sec: 367.97 - lr: 0.012500\n",
            "2022-08-13 21:58:54,726 epoch 39 - iter 360/1205 - loss 0.05639038 - samples/sec: 362.68 - lr: 0.012500\n",
            "2022-08-13 21:59:05,290 epoch 39 - iter 480/1205 - loss 0.05651483 - samples/sec: 363.90 - lr: 0.012500\n",
            "2022-08-13 21:59:15,836 epoch 39 - iter 600/1205 - loss 0.05674205 - samples/sec: 364.56 - lr: 0.012500\n",
            "2022-08-13 21:59:26,487 epoch 39 - iter 720/1205 - loss 0.05646306 - samples/sec: 360.93 - lr: 0.012500\n",
            "2022-08-13 21:59:36,961 epoch 39 - iter 840/1205 - loss 0.05674787 - samples/sec: 367.09 - lr: 0.012500\n",
            "2022-08-13 21:59:47,318 epoch 39 - iter 960/1205 - loss 0.05662787 - samples/sec: 371.21 - lr: 0.012500\n",
            "2022-08-13 21:59:57,883 epoch 39 - iter 1080/1205 - loss 0.05673578 - samples/sec: 363.87 - lr: 0.012500\n",
            "2022-08-13 22:00:08,335 epoch 39 - iter 1200/1205 - loss 0.05679376 - samples/sec: 367.80 - lr: 0.012500\n",
            "2022-08-13 22:00:08,779 ----------------------------------------------------------------------------------------------------\n",
            "2022-08-13 22:00:08,781 EPOCH 39 done: loss 0.0568 - lr 0.012500\n"
          ]
        },
        {
          "name": "stderr",
          "output_type": "stream",
          "text": [
            "100%|██████████| 150/150 [00:19<00:00,  7.85it/s]\n"
          ]
        },
        {
          "name": "stdout",
          "output_type": "stream",
          "text": [
            "2022-08-13 22:00:27,948 Evaluating as a multi-label problem: False\n",
            "2022-08-13 22:00:28,038 DEV : loss 0.055258192121982574 - f1-score (micro avg)  0.8644\n",
            "2022-08-13 22:00:28,521 BAD EPOCHS (no improvement): 2\n",
            "2022-08-13 22:00:28,525 ----------------------------------------------------------------------------------------------------\n",
            "2022-08-13 22:00:39,112 epoch 40 - iter 120/1205 - loss 0.05729100 - samples/sec: 363.22 - lr: 0.012500\n",
            "2022-08-13 22:00:49,452 epoch 40 - iter 240/1205 - loss 0.05609364 - samples/sec: 371.80 - lr: 0.012500\n",
            "2022-08-13 22:01:00,067 epoch 40 - iter 360/1205 - loss 0.05589829 - samples/sec: 362.16 - lr: 0.012500\n",
            "2022-08-13 22:01:10,571 epoch 40 - iter 480/1205 - loss 0.05591346 - samples/sec: 366.03 - lr: 0.012500\n",
            "2022-08-13 22:01:20,999 epoch 40 - iter 600/1205 - loss 0.05562333 - samples/sec: 368.63 - lr: 0.012500\n",
            "2022-08-13 22:01:31,662 epoch 40 - iter 720/1205 - loss 0.05589086 - samples/sec: 360.53 - lr: 0.012500\n",
            "2022-08-13 22:01:42,294 epoch 40 - iter 840/1205 - loss 0.05617824 - samples/sec: 361.60 - lr: 0.012500\n",
            "2022-08-13 22:01:52,758 epoch 40 - iter 960/1205 - loss 0.05615539 - samples/sec: 367.36 - lr: 0.012500\n",
            "2022-08-13 22:02:03,262 epoch 40 - iter 1080/1205 - loss 0.05616365 - samples/sec: 366.00 - lr: 0.012500\n",
            "2022-08-13 22:02:13,712 epoch 40 - iter 1200/1205 - loss 0.05636608 - samples/sec: 367.87 - lr: 0.012500\n",
            "2022-08-13 22:02:14,153 ----------------------------------------------------------------------------------------------------\n",
            "2022-08-13 22:02:14,155 EPOCH 40 done: loss 0.0564 - lr 0.012500\n"
          ]
        },
        {
          "name": "stderr",
          "output_type": "stream",
          "text": [
            "100%|██████████| 150/150 [00:21<00:00,  7.08it/s]"
          ]
        },
        {
          "name": "stdout",
          "output_type": "stream",
          "text": [
            "2022-08-13 22:02:35,379 Evaluating as a multi-label problem: False\n"
          ]
        },
        {
          "name": "stderr",
          "output_type": "stream",
          "text": [
            "\n"
          ]
        },
        {
          "name": "stdout",
          "output_type": "stream",
          "text": [
            "2022-08-13 22:02:35,470 DEV : loss 0.05560987815260887 - f1-score (micro avg)  0.865\n",
            "2022-08-13 22:02:35,944 BAD EPOCHS (no improvement): 3\n",
            "2022-08-13 22:02:35,948 ----------------------------------------------------------------------------------------------------\n",
            "2022-08-13 22:02:46,621 epoch 41 - iter 120/1205 - loss 0.05395575 - samples/sec: 360.31 - lr: 0.012500\n",
            "2022-08-13 22:02:57,121 epoch 41 - iter 240/1205 - loss 0.05513820 - samples/sec: 366.13 - lr: 0.012500\n",
            "2022-08-13 22:03:07,629 epoch 41 - iter 360/1205 - loss 0.05637064 - samples/sec: 365.85 - lr: 0.012500\n",
            "2022-08-13 22:03:18,289 epoch 41 - iter 480/1205 - loss 0.05665501 - samples/sec: 360.64 - lr: 0.012500\n",
            "2022-08-13 22:03:28,904 epoch 41 - iter 600/1205 - loss 0.05675572 - samples/sec: 362.14 - lr: 0.012500\n",
            "2022-08-13 22:03:39,336 epoch 41 - iter 720/1205 - loss 0.05663615 - samples/sec: 368.51 - lr: 0.012500\n",
            "2022-08-13 22:03:50,115 epoch 41 - iter 840/1205 - loss 0.05690449 - samples/sec: 356.66 - lr: 0.012500\n",
            "2022-08-13 22:04:00,799 epoch 41 - iter 960/1205 - loss 0.05660641 - samples/sec: 359.83 - lr: 0.012500\n",
            "2022-08-13 22:04:11,210 epoch 41 - iter 1080/1205 - loss 0.05672689 - samples/sec: 369.24 - lr: 0.012500\n",
            "2022-08-13 22:04:21,756 epoch 41 - iter 1200/1205 - loss 0.05667743 - samples/sec: 364.55 - lr: 0.012500\n",
            "2022-08-13 22:04:22,221 ----------------------------------------------------------------------------------------------------\n",
            "2022-08-13 22:04:22,224 EPOCH 41 done: loss 0.0566 - lr 0.012500\n"
          ]
        },
        {
          "name": "stderr",
          "output_type": "stream",
          "text": [
            "100%|██████████| 150/150 [00:18<00:00,  7.97it/s]"
          ]
        },
        {
          "name": "stdout",
          "output_type": "stream",
          "text": [
            "2022-08-13 22:04:41,090 Evaluating as a multi-label problem: False\n"
          ]
        },
        {
          "name": "stderr",
          "output_type": "stream",
          "text": [
            "\n"
          ]
        },
        {
          "name": "stdout",
          "output_type": "stream",
          "text": [
            "2022-08-13 22:04:41,190 DEV : loss 0.05560223385691643 - f1-score (micro avg)  0.8635\n",
            "2022-08-13 22:04:41,666 Epoch    41: reducing learning rate of group 0 to 6.2500e-03.\n",
            "2022-08-13 22:04:41,672 BAD EPOCHS (no improvement): 4\n",
            "2022-08-13 22:04:41,676 ----------------------------------------------------------------------------------------------------\n",
            "2022-08-13 22:04:52,165 epoch 42 - iter 120/1205 - loss 0.05605441 - samples/sec: 366.61 - lr: 0.006250\n",
            "2022-08-13 22:05:02,809 epoch 42 - iter 240/1205 - loss 0.05737174 - samples/sec: 361.17 - lr: 0.006250\n",
            "2022-08-13 22:05:13,524 epoch 42 - iter 360/1205 - loss 0.05630185 - samples/sec: 358.80 - lr: 0.006250\n",
            "2022-08-13 22:05:24,194 epoch 42 - iter 480/1205 - loss 0.05635888 - samples/sec: 360.29 - lr: 0.006250\n",
            "2022-08-13 22:05:34,665 epoch 42 - iter 600/1205 - loss 0.05582134 - samples/sec: 367.11 - lr: 0.006250\n",
            "2022-08-13 22:05:45,325 epoch 42 - iter 720/1205 - loss 0.05592171 - samples/sec: 360.63 - lr: 0.006250\n",
            "2022-08-13 22:05:55,779 epoch 42 - iter 840/1205 - loss 0.05592219 - samples/sec: 367.74 - lr: 0.006250\n",
            "2022-08-13 22:06:06,455 epoch 42 - iter 960/1205 - loss 0.05602242 - samples/sec: 360.10 - lr: 0.006250\n",
            "2022-08-13 22:06:16,975 epoch 42 - iter 1080/1205 - loss 0.05612148 - samples/sec: 365.41 - lr: 0.006250\n",
            "2022-08-13 22:06:27,513 epoch 42 - iter 1200/1205 - loss 0.05608550 - samples/sec: 364.81 - lr: 0.006250\n",
            "2022-08-13 22:06:27,960 ----------------------------------------------------------------------------------------------------\n",
            "2022-08-13 22:06:27,962 EPOCH 42 done: loss 0.0561 - lr 0.006250\n"
          ]
        },
        {
          "name": "stderr",
          "output_type": "stream",
          "text": [
            "100%|██████████| 150/150 [00:21<00:00,  6.98it/s]"
          ]
        },
        {
          "name": "stdout",
          "output_type": "stream",
          "text": [
            "2022-08-13 22:06:49,504 Evaluating as a multi-label problem: False\n"
          ]
        },
        {
          "name": "stderr",
          "output_type": "stream",
          "text": [
            "\n"
          ]
        },
        {
          "name": "stdout",
          "output_type": "stream",
          "text": [
            "2022-08-13 22:06:49,596 DEV : loss 0.05562462657690048 - f1-score (micro avg)  0.864\n",
            "2022-08-13 22:06:50,114 BAD EPOCHS (no improvement): 1\n",
            "2022-08-13 22:06:50,119 ----------------------------------------------------------------------------------------------------\n",
            "2022-08-13 22:07:00,799 epoch 43 - iter 120/1205 - loss 0.05321007 - samples/sec: 360.06 - lr: 0.006250\n",
            "2022-08-13 22:07:11,435 epoch 43 - iter 240/1205 - loss 0.05474937 - samples/sec: 361.45 - lr: 0.006250\n",
            "2022-08-13 22:07:21,818 epoch 43 - iter 360/1205 - loss 0.05530578 - samples/sec: 370.23 - lr: 0.006250\n",
            "2022-08-13 22:07:32,394 epoch 43 - iter 480/1205 - loss 0.05530414 - samples/sec: 363.48 - lr: 0.006250\n",
            "2022-08-13 22:07:42,746 epoch 43 - iter 600/1205 - loss 0.05520939 - samples/sec: 371.38 - lr: 0.006250\n",
            "2022-08-13 22:07:53,259 epoch 43 - iter 720/1205 - loss 0.05517727 - samples/sec: 365.68 - lr: 0.006250\n",
            "2022-08-13 22:08:03,514 epoch 43 - iter 840/1205 - loss 0.05505064 - samples/sec: 374.89 - lr: 0.006250\n",
            "2022-08-13 22:08:14,352 epoch 43 - iter 960/1205 - loss 0.05501825 - samples/sec: 354.71 - lr: 0.006250\n",
            "2022-08-13 22:08:25,085 epoch 43 - iter 1080/1205 - loss 0.05514159 - samples/sec: 358.17 - lr: 0.006250\n",
            "2022-08-13 22:08:35,781 epoch 43 - iter 1200/1205 - loss 0.05540443 - samples/sec: 359.41 - lr: 0.006250\n",
            "2022-08-13 22:08:36,196 ----------------------------------------------------------------------------------------------------\n",
            "2022-08-13 22:08:36,198 EPOCH 43 done: loss 0.0554 - lr 0.006250\n"
          ]
        },
        {
          "name": "stderr",
          "output_type": "stream",
          "text": [
            "100%|██████████| 150/150 [00:18<00:00,  7.94it/s]"
          ]
        },
        {
          "name": "stdout",
          "output_type": "stream",
          "text": [
            "2022-08-13 22:08:55,152 Evaluating as a multi-label problem: False\n"
          ]
        },
        {
          "name": "stderr",
          "output_type": "stream",
          "text": [
            "\n"
          ]
        },
        {
          "name": "stdout",
          "output_type": "stream",
          "text": [
            "2022-08-13 22:08:55,249 DEV : loss 0.05568724870681763 - f1-score (micro avg)  0.8642\n",
            "2022-08-13 22:08:55,721 BAD EPOCHS (no improvement): 2\n",
            "2022-08-13 22:08:55,726 ----------------------------------------------------------------------------------------------------\n",
            "2022-08-13 22:09:06,272 epoch 44 - iter 120/1205 - loss 0.05368857 - samples/sec: 364.64 - lr: 0.006250\n",
            "2022-08-13 22:09:16,830 epoch 44 - iter 240/1205 - loss 0.05419770 - samples/sec: 364.13 - lr: 0.006250\n",
            "2022-08-13 22:09:27,503 epoch 44 - iter 360/1205 - loss 0.05408829 - samples/sec: 360.18 - lr: 0.006250\n",
            "2022-08-13 22:09:37,974 epoch 44 - iter 480/1205 - loss 0.05431351 - samples/sec: 367.12 - lr: 0.006250\n",
            "2022-08-13 22:09:48,573 epoch 44 - iter 600/1205 - loss 0.05447714 - samples/sec: 362.70 - lr: 0.006250\n",
            "2022-08-13 22:09:59,161 epoch 44 - iter 720/1205 - loss 0.05500048 - samples/sec: 363.07 - lr: 0.006250\n",
            "2022-08-13 22:10:09,514 epoch 44 - iter 840/1205 - loss 0.05503293 - samples/sec: 371.35 - lr: 0.006250\n",
            "2022-08-13 22:10:19,887 epoch 44 - iter 960/1205 - loss 0.05528112 - samples/sec: 370.60 - lr: 0.006250\n",
            "2022-08-13 22:10:30,536 epoch 44 - iter 1080/1205 - loss 0.05536562 - samples/sec: 361.00 - lr: 0.006250\n",
            "2022-08-13 22:10:43,102 epoch 44 - iter 1200/1205 - loss 0.05549166 - samples/sec: 305.89 - lr: 0.006250\n",
            "2022-08-13 22:10:43,516 ----------------------------------------------------------------------------------------------------\n",
            "2022-08-13 22:10:43,518 EPOCH 44 done: loss 0.0555 - lr 0.006250\n"
          ]
        },
        {
          "name": "stderr",
          "output_type": "stream",
          "text": [
            "100%|██████████| 150/150 [00:19<00:00,  7.89it/s]\n"
          ]
        },
        {
          "name": "stdout",
          "output_type": "stream",
          "text": [
            "2022-08-13 22:11:02,577 Evaluating as a multi-label problem: False\n",
            "2022-08-13 22:11:02,668 DEV : loss 0.0558052659034729 - f1-score (micro avg)  0.8656\n",
            "2022-08-13 22:11:03,144 BAD EPOCHS (no improvement): 3\n",
            "2022-08-13 22:11:03,148 ----------------------------------------------------------------------------------------------------\n",
            "2022-08-13 22:11:13,591 epoch 45 - iter 120/1205 - loss 0.05488144 - samples/sec: 368.19 - lr: 0.006250\n",
            "2022-08-13 22:11:24,142 epoch 45 - iter 240/1205 - loss 0.05579483 - samples/sec: 364.37 - lr: 0.006250\n",
            "2022-08-13 22:11:34,668 epoch 45 - iter 360/1205 - loss 0.05527457 - samples/sec: 365.20 - lr: 0.006250\n",
            "2022-08-13 22:11:45,130 epoch 45 - iter 480/1205 - loss 0.05556782 - samples/sec: 367.46 - lr: 0.006250\n",
            "2022-08-13 22:11:56,041 epoch 45 - iter 600/1205 - loss 0.05587083 - samples/sec: 352.34 - lr: 0.006250\n",
            "2022-08-13 22:12:06,609 epoch 45 - iter 720/1205 - loss 0.05591934 - samples/sec: 363.79 - lr: 0.006250\n",
            "2022-08-13 22:12:16,920 epoch 45 - iter 840/1205 - loss 0.05576233 - samples/sec: 372.84 - lr: 0.006250\n",
            "2022-08-13 22:12:27,436 epoch 45 - iter 960/1205 - loss 0.05571326 - samples/sec: 365.56 - lr: 0.006250\n",
            "2022-08-13 22:12:38,286 epoch 45 - iter 1080/1205 - loss 0.05577284 - samples/sec: 354.32 - lr: 0.006250\n",
            "2022-08-13 22:12:48,804 epoch 45 - iter 1200/1205 - loss 0.05575894 - samples/sec: 365.52 - lr: 0.006250\n",
            "2022-08-13 22:12:49,225 ----------------------------------------------------------------------------------------------------\n",
            "2022-08-13 22:12:49,226 EPOCH 45 done: loss 0.0558 - lr 0.006250\n"
          ]
        },
        {
          "name": "stderr",
          "output_type": "stream",
          "text": [
            "100%|██████████| 150/150 [00:19<00:00,  7.79it/s]"
          ]
        },
        {
          "name": "stdout",
          "output_type": "stream",
          "text": [
            "2022-08-13 22:13:08,548 Evaluating as a multi-label problem: False\n"
          ]
        },
        {
          "name": "stderr",
          "output_type": "stream",
          "text": [
            "\n"
          ]
        },
        {
          "name": "stdout",
          "output_type": "stream",
          "text": [
            "2022-08-13 22:13:08,654 DEV : loss 0.0555744469165802 - f1-score (micro avg)  0.8655\n",
            "2022-08-13 22:13:09,150 Epoch    45: reducing learning rate of group 0 to 3.1250e-03.\n",
            "2022-08-13 22:13:09,153 BAD EPOCHS (no improvement): 4\n",
            "2022-08-13 22:13:09,157 ----------------------------------------------------------------------------------------------------\n",
            "2022-08-13 22:13:19,693 epoch 46 - iter 120/1205 - loss 0.05519704 - samples/sec: 364.98 - lr: 0.003125\n",
            "2022-08-13 22:13:32,279 epoch 46 - iter 240/1205 - loss 0.05437631 - samples/sec: 305.37 - lr: 0.003125\n",
            "2022-08-13 22:13:42,796 epoch 46 - iter 360/1205 - loss 0.05471030 - samples/sec: 365.52 - lr: 0.003125\n",
            "2022-08-13 22:13:53,214 epoch 46 - iter 480/1205 - loss 0.05464470 - samples/sec: 369.00 - lr: 0.003125\n",
            "2022-08-13 22:14:03,804 epoch 46 - iter 600/1205 - loss 0.05463281 - samples/sec: 363.02 - lr: 0.003125\n",
            "2022-08-13 22:14:14,581 epoch 46 - iter 720/1205 - loss 0.05483739 - samples/sec: 356.72 - lr: 0.003125\n",
            "2022-08-13 22:14:25,555 epoch 46 - iter 840/1205 - loss 0.05485124 - samples/sec: 350.32 - lr: 0.003125\n",
            "2022-08-13 22:14:36,521 epoch 46 - iter 960/1205 - loss 0.05487504 - samples/sec: 350.54 - lr: 0.003125\n",
            "2022-08-13 22:14:47,068 epoch 46 - iter 1080/1205 - loss 0.05514707 - samples/sec: 364.52 - lr: 0.003125\n",
            "2022-08-13 22:14:57,896 epoch 46 - iter 1200/1205 - loss 0.05520997 - samples/sec: 355.04 - lr: 0.003125\n",
            "2022-08-13 22:14:58,374 ----------------------------------------------------------------------------------------------------\n",
            "2022-08-13 22:14:58,376 EPOCH 46 done: loss 0.0552 - lr 0.003125\n"
          ]
        },
        {
          "name": "stderr",
          "output_type": "stream",
          "text": [
            "100%|██████████| 150/150 [00:19<00:00,  7.85it/s]"
          ]
        },
        {
          "name": "stdout",
          "output_type": "stream",
          "text": [
            "2022-08-13 22:15:17,546 Evaluating as a multi-label problem: False\n"
          ]
        },
        {
          "name": "stderr",
          "output_type": "stream",
          "text": [
            "\n"
          ]
        },
        {
          "name": "stdout",
          "output_type": "stream",
          "text": [
            "2022-08-13 22:15:17,639 DEV : loss 0.05577842891216278 - f1-score (micro avg)  0.865\n",
            "2022-08-13 22:15:18,159 BAD EPOCHS (no improvement): 1\n",
            "2022-08-13 22:15:18,164 ----------------------------------------------------------------------------------------------------\n",
            "2022-08-13 22:15:28,772 epoch 47 - iter 120/1205 - loss 0.05439383 - samples/sec: 362.50 - lr: 0.003125\n",
            "2022-08-13 22:15:39,465 epoch 47 - iter 240/1205 - loss 0.05550923 - samples/sec: 359.51 - lr: 0.003125\n",
            "2022-08-13 22:15:50,150 epoch 47 - iter 360/1205 - loss 0.05472903 - samples/sec: 359.79 - lr: 0.003125\n",
            "2022-08-13 22:16:00,923 epoch 47 - iter 480/1205 - loss 0.05479494 - samples/sec: 356.84 - lr: 0.003125\n",
            "2022-08-13 22:16:11,681 epoch 47 - iter 600/1205 - loss 0.05502485 - samples/sec: 357.33 - lr: 0.003125\n",
            "2022-08-13 22:16:22,388 epoch 47 - iter 720/1205 - loss 0.05532586 - samples/sec: 359.06 - lr: 0.003125\n",
            "2022-08-13 22:16:32,876 epoch 47 - iter 840/1205 - loss 0.05526553 - samples/sec: 366.61 - lr: 0.003125\n",
            "2022-08-13 22:16:43,580 epoch 47 - iter 960/1205 - loss 0.05514581 - samples/sec: 359.15 - lr: 0.003125\n",
            "2022-08-13 22:16:54,044 epoch 47 - iter 1080/1205 - loss 0.05521325 - samples/sec: 367.36 - lr: 0.003125\n",
            "2022-08-13 22:17:04,929 epoch 47 - iter 1200/1205 - loss 0.05523484 - samples/sec: 353.18 - lr: 0.003125\n",
            "2022-08-13 22:17:05,365 ----------------------------------------------------------------------------------------------------\n",
            "2022-08-13 22:17:05,367 EPOCH 47 done: loss 0.0553 - lr 0.003125\n"
          ]
        },
        {
          "name": "stderr",
          "output_type": "stream",
          "text": [
            "100%|██████████| 150/150 [00:21<00:00,  6.96it/s]"
          ]
        },
        {
          "name": "stdout",
          "output_type": "stream",
          "text": [
            "2022-08-13 22:17:26,961 Evaluating as a multi-label problem: False\n"
          ]
        },
        {
          "name": "stderr",
          "output_type": "stream",
          "text": [
            "\n"
          ]
        },
        {
          "name": "stdout",
          "output_type": "stream",
          "text": [
            "2022-08-13 22:17:27,054 DEV : loss 0.05579562112689018 - f1-score (micro avg)  0.8647\n",
            "2022-08-13 22:17:27,537 BAD EPOCHS (no improvement): 2\n",
            "2022-08-13 22:17:27,541 ----------------------------------------------------------------------------------------------------\n",
            "2022-08-13 22:17:37,961 epoch 48 - iter 120/1205 - loss 0.05477905 - samples/sec: 369.03 - lr: 0.003125\n",
            "2022-08-13 22:17:48,490 epoch 48 - iter 240/1205 - loss 0.05457345 - samples/sec: 365.12 - lr: 0.003125\n",
            "2022-08-13 22:17:58,962 epoch 48 - iter 360/1205 - loss 0.05479047 - samples/sec: 367.08 - lr: 0.003125\n",
            "2022-08-13 22:18:09,544 epoch 48 - iter 480/1205 - loss 0.05512752 - samples/sec: 363.30 - lr: 0.003125\n",
            "2022-08-13 22:18:20,282 epoch 48 - iter 600/1205 - loss 0.05516684 - samples/sec: 358.01 - lr: 0.003125\n",
            "2022-08-13 22:18:30,934 epoch 48 - iter 720/1205 - loss 0.05528832 - samples/sec: 360.91 - lr: 0.003125\n",
            "2022-08-13 22:18:41,730 epoch 48 - iter 840/1205 - loss 0.05500543 - samples/sec: 356.08 - lr: 0.003125\n",
            "2022-08-13 22:18:52,105 epoch 48 - iter 960/1205 - loss 0.05522702 - samples/sec: 370.54 - lr: 0.003125\n",
            "2022-08-13 22:19:02,963 epoch 48 - iter 1080/1205 - loss 0.05522195 - samples/sec: 354.08 - lr: 0.003125\n",
            "2022-08-13 22:19:13,295 epoch 48 - iter 1200/1205 - loss 0.05514118 - samples/sec: 372.09 - lr: 0.003125\n",
            "2022-08-13 22:19:13,718 ----------------------------------------------------------------------------------------------------\n",
            "2022-08-13 22:19:13,721 EPOCH 48 done: loss 0.0551 - lr 0.003125\n"
          ]
        },
        {
          "name": "stderr",
          "output_type": "stream",
          "text": [
            "100%|██████████| 150/150 [00:19<00:00,  7.82it/s]"
          ]
        },
        {
          "name": "stdout",
          "output_type": "stream",
          "text": [
            "2022-08-13 22:19:32,945 Evaluating as a multi-label problem: False\n"
          ]
        },
        {
          "name": "stderr",
          "output_type": "stream",
          "text": [
            "\n"
          ]
        },
        {
          "name": "stdout",
          "output_type": "stream",
          "text": [
            "2022-08-13 22:19:33,041 DEV : loss 0.05567995086312294 - f1-score (micro avg)  0.8655\n",
            "2022-08-13 22:19:33,515 BAD EPOCHS (no improvement): 3\n",
            "2022-08-13 22:19:33,521 ----------------------------------------------------------------------------------------------------\n",
            "2022-08-13 22:19:44,112 epoch 49 - iter 120/1205 - loss 0.05761990 - samples/sec: 363.06 - lr: 0.003125\n",
            "2022-08-13 22:19:54,953 epoch 49 - iter 240/1205 - loss 0.05668690 - samples/sec: 354.61 - lr: 0.003125\n",
            "2022-08-13 22:20:05,630 epoch 49 - iter 360/1205 - loss 0.05637216 - samples/sec: 360.03 - lr: 0.003125\n",
            "2022-08-13 22:20:16,231 epoch 49 - iter 480/1205 - loss 0.05570199 - samples/sec: 362.64 - lr: 0.003125\n",
            "2022-08-13 22:20:26,927 epoch 49 - iter 600/1205 - loss 0.05556196 - samples/sec: 359.44 - lr: 0.003125\n",
            "2022-08-13 22:20:37,742 epoch 49 - iter 720/1205 - loss 0.05539544 - samples/sec: 355.47 - lr: 0.003125\n",
            "2022-08-13 22:20:48,580 epoch 49 - iter 840/1205 - loss 0.05540642 - samples/sec: 354.71 - lr: 0.003125\n",
            "2022-08-13 22:20:59,084 epoch 49 - iter 960/1205 - loss 0.05513125 - samples/sec: 366.00 - lr: 0.003125\n",
            "2022-08-13 22:21:09,469 epoch 49 - iter 1080/1205 - loss 0.05505527 - samples/sec: 370.21 - lr: 0.003125\n",
            "2022-08-13 22:21:20,090 epoch 49 - iter 1200/1205 - loss 0.05519865 - samples/sec: 361.92 - lr: 0.003125\n",
            "2022-08-13 22:21:20,529 ----------------------------------------------------------------------------------------------------\n",
            "2022-08-13 22:21:20,531 EPOCH 49 done: loss 0.0552 - lr 0.003125\n"
          ]
        },
        {
          "name": "stderr",
          "output_type": "stream",
          "text": [
            "100%|██████████| 150/150 [00:21<00:00,  6.99it/s]\n"
          ]
        },
        {
          "name": "stdout",
          "output_type": "stream",
          "text": [
            "2022-08-13 22:21:42,054 Evaluating as a multi-label problem: False\n",
            "2022-08-13 22:21:42,150 DEV : loss 0.055716246366500854 - f1-score (micro avg)  0.8647\n",
            "2022-08-13 22:21:42,628 Epoch    49: reducing learning rate of group 0 to 1.5625e-03.\n",
            "2022-08-13 22:21:42,629 BAD EPOCHS (no improvement): 4\n",
            "2022-08-13 22:21:42,634 ----------------------------------------------------------------------------------------------------\n",
            "2022-08-13 22:21:53,016 epoch 50 - iter 120/1205 - loss 0.05350211 - samples/sec: 370.40 - lr: 0.001563\n",
            "2022-08-13 22:22:03,564 epoch 50 - iter 240/1205 - loss 0.05486759 - samples/sec: 364.44 - lr: 0.001563\n",
            "2022-08-13 22:22:14,368 epoch 50 - iter 360/1205 - loss 0.05563960 - samples/sec: 355.81 - lr: 0.001563\n",
            "2022-08-13 22:22:24,947 epoch 50 - iter 480/1205 - loss 0.05572831 - samples/sec: 363.40 - lr: 0.001563\n",
            "2022-08-13 22:22:35,377 epoch 50 - iter 600/1205 - loss 0.05538385 - samples/sec: 368.60 - lr: 0.001563\n",
            "2022-08-13 22:22:46,027 epoch 50 - iter 720/1205 - loss 0.05520770 - samples/sec: 360.99 - lr: 0.001563\n",
            "2022-08-13 22:22:56,438 epoch 50 - iter 840/1205 - loss 0.05530940 - samples/sec: 369.24 - lr: 0.001563\n",
            "2022-08-13 22:23:07,061 epoch 50 - iter 960/1205 - loss 0.05512510 - samples/sec: 361.90 - lr: 0.001563\n",
            "2022-08-13 22:23:17,543 epoch 50 - iter 1080/1205 - loss 0.05505322 - samples/sec: 366.72 - lr: 0.001563\n",
            "2022-08-13 22:23:28,037 epoch 50 - iter 1200/1205 - loss 0.05505066 - samples/sec: 366.35 - lr: 0.001563\n",
            "2022-08-13 22:23:28,453 ----------------------------------------------------------------------------------------------------\n",
            "2022-08-13 22:23:28,454 EPOCH 50 done: loss 0.0550 - lr 0.001563\n"
          ]
        },
        {
          "name": "stderr",
          "output_type": "stream",
          "text": [
            "100%|██████████| 150/150 [00:19<00:00,  7.85it/s]\n"
          ]
        },
        {
          "name": "stdout",
          "output_type": "stream",
          "text": [
            "2022-08-13 22:23:47,626 Evaluating as a multi-label problem: False\n",
            "2022-08-13 22:23:47,718 DEV : loss 0.055687516927719116 - f1-score (micro avg)  0.8648\n",
            "2022-08-13 22:23:48,194 BAD EPOCHS (no improvement): 1\n",
            "2022-08-13 22:23:48,199 ----------------------------------------------------------------------------------------------------\n",
            "2022-08-13 22:23:58,815 epoch 51 - iter 120/1205 - loss 0.05559108 - samples/sec: 362.25 - lr: 0.001563\n",
            "2022-08-13 22:24:09,439 epoch 51 - iter 240/1205 - loss 0.05346243 - samples/sec: 361.84 - lr: 0.001563\n",
            "2022-08-13 22:24:19,717 epoch 51 - iter 360/1205 - loss 0.05390300 - samples/sec: 374.03 - lr: 0.001563\n",
            "2022-08-13 22:24:30,458 epoch 51 - iter 480/1205 - loss 0.05410053 - samples/sec: 357.91 - lr: 0.001563\n",
            "2022-08-13 22:24:41,074 epoch 51 - iter 600/1205 - loss 0.05383140 - samples/sec: 362.12 - lr: 0.001563\n",
            "2022-08-13 22:24:51,706 epoch 51 - iter 720/1205 - loss 0.05436639 - samples/sec: 361.59 - lr: 0.001563\n",
            "2022-08-13 22:25:02,097 epoch 51 - iter 840/1205 - loss 0.05444523 - samples/sec: 369.99 - lr: 0.001563\n",
            "2022-08-13 22:25:12,839 epoch 51 - iter 960/1205 - loss 0.05451323 - samples/sec: 357.89 - lr: 0.001563\n",
            "2022-08-13 22:25:23,432 epoch 51 - iter 1080/1205 - loss 0.05453882 - samples/sec: 362.92 - lr: 0.001563\n",
            "2022-08-13 22:25:33,871 epoch 51 - iter 1200/1205 - loss 0.05452644 - samples/sec: 368.27 - lr: 0.001563\n",
            "2022-08-13 22:25:34,396 ----------------------------------------------------------------------------------------------------\n",
            "2022-08-13 22:25:34,398 EPOCH 51 done: loss 0.0545 - lr 0.001563\n"
          ]
        },
        {
          "name": "stderr",
          "output_type": "stream",
          "text": [
            "100%|██████████| 150/150 [00:21<00:00,  7.01it/s]"
          ]
        },
        {
          "name": "stdout",
          "output_type": "stream",
          "text": [
            "2022-08-13 22:25:55,851 Evaluating as a multi-label problem: False\n"
          ]
        },
        {
          "name": "stderr",
          "output_type": "stream",
          "text": [
            "\n"
          ]
        },
        {
          "name": "stdout",
          "output_type": "stream",
          "text": [
            "2022-08-13 22:25:55,944 DEV : loss 0.055730871856212616 - f1-score (micro avg)  0.8656\n",
            "2022-08-13 22:25:56,418 BAD EPOCHS (no improvement): 2\n",
            "2022-08-13 22:25:56,423 ----------------------------------------------------------------------------------------------------\n",
            "2022-08-13 22:26:07,069 epoch 52 - iter 120/1205 - loss 0.05332474 - samples/sec: 361.20 - lr: 0.001563\n",
            "2022-08-13 22:26:17,406 epoch 52 - iter 240/1205 - loss 0.05464633 - samples/sec: 371.91 - lr: 0.001563\n",
            "2022-08-13 22:26:28,001 epoch 52 - iter 360/1205 - loss 0.05450592 - samples/sec: 362.82 - lr: 0.001563\n",
            "2022-08-13 22:26:38,485 epoch 52 - iter 480/1205 - loss 0.05448082 - samples/sec: 366.69 - lr: 0.001563\n",
            "2022-08-13 22:26:48,946 epoch 52 - iter 600/1205 - loss 0.05414890 - samples/sec: 367.49 - lr: 0.001563\n",
            "2022-08-13 22:26:59,496 epoch 52 - iter 720/1205 - loss 0.05449824 - samples/sec: 364.41 - lr: 0.001563\n",
            "2022-08-13 22:27:10,022 epoch 52 - iter 840/1205 - loss 0.05463074 - samples/sec: 365.21 - lr: 0.001563\n",
            "2022-08-13 22:27:20,643 epoch 52 - iter 960/1205 - loss 0.05444053 - samples/sec: 361.96 - lr: 0.001563\n",
            "2022-08-13 22:27:31,484 epoch 52 - iter 1080/1205 - loss 0.05469066 - samples/sec: 354.61 - lr: 0.001563\n",
            "2022-08-13 22:27:41,818 epoch 52 - iter 1200/1205 - loss 0.05461634 - samples/sec: 372.02 - lr: 0.001563\n",
            "2022-08-13 22:27:42,258 ----------------------------------------------------------------------------------------------------\n",
            "2022-08-13 22:27:42,260 EPOCH 52 done: loss 0.0546 - lr 0.001563\n"
          ]
        },
        {
          "name": "stderr",
          "output_type": "stream",
          "text": [
            "100%|██████████| 150/150 [00:19<00:00,  7.76it/s]"
          ]
        },
        {
          "name": "stdout",
          "output_type": "stream",
          "text": [
            "2022-08-13 22:28:01,639 Evaluating as a multi-label problem: False\n"
          ]
        },
        {
          "name": "stderr",
          "output_type": "stream",
          "text": [
            "\n"
          ]
        },
        {
          "name": "stdout",
          "output_type": "stream",
          "text": [
            "2022-08-13 22:28:01,735 DEV : loss 0.05580023676156998 - f1-score (micro avg)  0.8651\n",
            "2022-08-13 22:28:02,222 BAD EPOCHS (no improvement): 3\n",
            "2022-08-13 22:28:02,226 ----------------------------------------------------------------------------------------------------\n",
            "2022-08-13 22:28:12,959 epoch 53 - iter 120/1205 - loss 0.05374605 - samples/sec: 358.28 - lr: 0.001563\n",
            "2022-08-13 22:28:23,625 epoch 53 - iter 240/1205 - loss 0.05405684 - samples/sec: 360.42 - lr: 0.001563\n",
            "2022-08-13 22:28:34,178 epoch 53 - iter 360/1205 - loss 0.05400014 - samples/sec: 364.25 - lr: 0.001563\n",
            "2022-08-13 22:28:46,971 epoch 53 - iter 480/1205 - loss 0.05469766 - samples/sec: 300.46 - lr: 0.001563\n",
            "2022-08-13 22:28:57,535 epoch 53 - iter 600/1205 - loss 0.05452122 - samples/sec: 363.91 - lr: 0.001563\n",
            "2022-08-13 22:29:08,202 epoch 53 - iter 720/1205 - loss 0.05473985 - samples/sec: 360.40 - lr: 0.001563\n",
            "2022-08-13 22:29:18,841 epoch 53 - iter 840/1205 - loss 0.05464134 - samples/sec: 361.34 - lr: 0.001563\n",
            "2022-08-13 22:29:29,877 epoch 53 - iter 960/1205 - loss 0.05477958 - samples/sec: 348.34 - lr: 0.001563\n",
            "2022-08-13 22:29:40,366 epoch 53 - iter 1080/1205 - loss 0.05452872 - samples/sec: 366.49 - lr: 0.001563\n",
            "2022-08-13 22:29:51,059 epoch 53 - iter 1200/1205 - loss 0.05455986 - samples/sec: 359.49 - lr: 0.001563\n",
            "2022-08-13 22:29:51,534 ----------------------------------------------------------------------------------------------------\n",
            "2022-08-13 22:29:51,537 EPOCH 53 done: loss 0.0546 - lr 0.001563\n"
          ]
        },
        {
          "name": "stderr",
          "output_type": "stream",
          "text": [
            "100%|██████████| 150/150 [00:18<00:00,  7.92it/s]"
          ]
        },
        {
          "name": "stdout",
          "output_type": "stream",
          "text": [
            "2022-08-13 22:30:10,538 Evaluating as a multi-label problem: False\n"
          ]
        },
        {
          "name": "stderr",
          "output_type": "stream",
          "text": [
            "\n"
          ]
        },
        {
          "name": "stdout",
          "output_type": "stream",
          "text": [
            "2022-08-13 22:30:10,633 DEV : loss 0.055807579308748245 - f1-score (micro avg)  0.8653\n",
            "2022-08-13 22:30:11,129 Epoch    53: reducing learning rate of group 0 to 7.8125e-04.\n",
            "2022-08-13 22:30:11,131 BAD EPOCHS (no improvement): 4\n",
            "2022-08-13 22:30:11,134 ----------------------------------------------------------------------------------------------------\n",
            "2022-08-13 22:30:21,762 epoch 54 - iter 120/1205 - loss 0.05440030 - samples/sec: 361.80 - lr: 0.000781\n",
            "2022-08-13 22:30:32,413 epoch 54 - iter 240/1205 - loss 0.05452124 - samples/sec: 360.93 - lr: 0.000781\n",
            "2022-08-13 22:30:43,115 epoch 54 - iter 360/1205 - loss 0.05498194 - samples/sec: 359.20 - lr: 0.000781\n",
            "2022-08-13 22:30:54,145 epoch 54 - iter 480/1205 - loss 0.05464100 - samples/sec: 348.52 - lr: 0.000781\n",
            "2022-08-13 22:31:04,701 epoch 54 - iter 600/1205 - loss 0.05473037 - samples/sec: 364.16 - lr: 0.000781\n",
            "2022-08-13 22:31:15,344 epoch 54 - iter 720/1205 - loss 0.05477313 - samples/sec: 361.21 - lr: 0.000781\n",
            "2022-08-13 22:31:25,897 epoch 54 - iter 840/1205 - loss 0.05463368 - samples/sec: 364.27 - lr: 0.000781\n",
            "2022-08-13 22:31:36,293 epoch 54 - iter 960/1205 - loss 0.05472611 - samples/sec: 369.80 - lr: 0.000781\n",
            "2022-08-13 22:31:46,746 epoch 54 - iter 1080/1205 - loss 0.05488671 - samples/sec: 367.78 - lr: 0.000781\n",
            "2022-08-13 22:31:57,369 epoch 54 - iter 1200/1205 - loss 0.05479939 - samples/sec: 361.88 - lr: 0.000781\n",
            "2022-08-13 22:31:57,830 ----------------------------------------------------------------------------------------------------\n",
            "2022-08-13 22:31:57,832 EPOCH 54 done: loss 0.0548 - lr 0.000781\n"
          ]
        },
        {
          "name": "stderr",
          "output_type": "stream",
          "text": [
            "100%|██████████| 150/150 [00:21<00:00,  6.98it/s]\n"
          ]
        },
        {
          "name": "stdout",
          "output_type": "stream",
          "text": [
            "2022-08-13 22:32:19,362 Evaluating as a multi-label problem: False\n",
            "2022-08-13 22:32:19,452 DEV : loss 0.05581478774547577 - f1-score (micro avg)  0.8659\n",
            "2022-08-13 22:32:19,949 BAD EPOCHS (no improvement): 1\n",
            "2022-08-13 22:32:19,954 ----------------------------------------------------------------------------------------------------\n",
            "2022-08-13 22:32:30,719 epoch 55 - iter 120/1205 - loss 0.05282029 - samples/sec: 357.21 - lr: 0.000781\n",
            "2022-08-13 22:32:41,266 epoch 55 - iter 240/1205 - loss 0.05429141 - samples/sec: 364.48 - lr: 0.000781\n",
            "2022-08-13 22:32:51,791 epoch 55 - iter 360/1205 - loss 0.05459484 - samples/sec: 365.26 - lr: 0.000781\n",
            "2022-08-13 22:33:02,252 epoch 55 - iter 480/1205 - loss 0.05447077 - samples/sec: 367.49 - lr: 0.000781\n",
            "2022-08-13 22:33:12,824 epoch 55 - iter 600/1205 - loss 0.05434838 - samples/sec: 363.63 - lr: 0.000781\n",
            "2022-08-13 22:33:23,449 epoch 55 - iter 720/1205 - loss 0.05433662 - samples/sec: 361.94 - lr: 0.000781\n",
            "2022-08-13 22:33:34,158 epoch 55 - iter 840/1205 - loss 0.05430228 - samples/sec: 359.01 - lr: 0.000781\n",
            "2022-08-13 22:33:44,816 epoch 55 - iter 960/1205 - loss 0.05435215 - samples/sec: 360.66 - lr: 0.000781\n",
            "2022-08-13 22:33:55,166 epoch 55 - iter 1080/1205 - loss 0.05454295 - samples/sec: 371.42 - lr: 0.000781\n",
            "2022-08-13 22:34:05,848 epoch 55 - iter 1200/1205 - loss 0.05476207 - samples/sec: 359.88 - lr: 0.000781\n",
            "2022-08-13 22:34:06,346 ----------------------------------------------------------------------------------------------------\n",
            "2022-08-13 22:34:06,348 EPOCH 55 done: loss 0.0548 - lr 0.000781\n"
          ]
        },
        {
          "name": "stderr",
          "output_type": "stream",
          "text": [
            "100%|██████████| 150/150 [00:19<00:00,  7.84it/s]"
          ]
        },
        {
          "name": "stdout",
          "output_type": "stream",
          "text": [
            "2022-08-13 22:34:25,531 Evaluating as a multi-label problem: False\n"
          ]
        },
        {
          "name": "stderr",
          "output_type": "stream",
          "text": [
            "\n"
          ]
        },
        {
          "name": "stdout",
          "output_type": "stream",
          "text": [
            "2022-08-13 22:34:25,631 DEV : loss 0.055718954652547836 - f1-score (micro avg)  0.8655\n",
            "2022-08-13 22:34:26,107 BAD EPOCHS (no improvement): 2\n",
            "2022-08-13 22:34:26,112 ----------------------------------------------------------------------------------------------------\n",
            "2022-08-13 22:34:36,627 epoch 56 - iter 120/1205 - loss 0.05616780 - samples/sec: 365.73 - lr: 0.000781\n",
            "2022-08-13 22:34:47,221 epoch 56 - iter 240/1205 - loss 0.05583678 - samples/sec: 362.92 - lr: 0.000781\n",
            "2022-08-13 22:34:58,156 epoch 56 - iter 360/1205 - loss 0.05482299 - samples/sec: 351.54 - lr: 0.000781\n",
            "2022-08-13 22:35:08,598 epoch 56 - iter 480/1205 - loss 0.05479733 - samples/sec: 368.14 - lr: 0.000781\n",
            "2022-08-13 22:35:19,119 epoch 56 - iter 600/1205 - loss 0.05477367 - samples/sec: 365.40 - lr: 0.000781\n",
            "2022-08-13 22:35:29,567 epoch 56 - iter 720/1205 - loss 0.05431034 - samples/sec: 367.94 - lr: 0.000781\n",
            "2022-08-13 22:35:40,299 epoch 56 - iter 840/1205 - loss 0.05447991 - samples/sec: 358.24 - lr: 0.000781\n",
            "2022-08-13 22:35:50,854 epoch 56 - iter 960/1205 - loss 0.05447877 - samples/sec: 364.20 - lr: 0.000781\n",
            "2022-08-13 22:36:01,462 epoch 56 - iter 1080/1205 - loss 0.05452173 - samples/sec: 362.40 - lr: 0.000781\n",
            "2022-08-13 22:36:11,886 epoch 56 - iter 1200/1205 - loss 0.05461004 - samples/sec: 368.80 - lr: 0.000781\n",
            "2022-08-13 22:36:12,322 ----------------------------------------------------------------------------------------------------\n",
            "2022-08-13 22:36:12,324 EPOCH 56 done: loss 0.0546 - lr 0.000781\n"
          ]
        },
        {
          "name": "stderr",
          "output_type": "stream",
          "text": [
            "100%|██████████| 150/150 [00:21<00:00,  7.14it/s]\n"
          ]
        },
        {
          "name": "stdout",
          "output_type": "stream",
          "text": [
            "2022-08-13 22:36:33,386 Evaluating as a multi-label problem: False\n",
            "2022-08-13 22:36:33,478 DEV : loss 0.05576802417635918 - f1-score (micro avg)  0.8656\n",
            "2022-08-13 22:36:33,975 BAD EPOCHS (no improvement): 3\n",
            "2022-08-13 22:36:33,979 ----------------------------------------------------------------------------------------------------\n",
            "2022-08-13 22:36:44,278 epoch 57 - iter 120/1205 - loss 0.05392434 - samples/sec: 373.42 - lr: 0.000781\n",
            "2022-08-13 22:36:54,703 epoch 57 - iter 240/1205 - loss 0.05307723 - samples/sec: 368.73 - lr: 0.000781\n",
            "2022-08-13 22:37:05,434 epoch 57 - iter 360/1205 - loss 0.05327596 - samples/sec: 358.26 - lr: 0.000781\n",
            "2022-08-13 22:37:15,907 epoch 57 - iter 480/1205 - loss 0.05366423 - samples/sec: 367.03 - lr: 0.000781\n",
            "2022-08-13 22:37:26,491 epoch 57 - iter 600/1205 - loss 0.05387628 - samples/sec: 363.22 - lr: 0.000781\n",
            "2022-08-13 22:37:36,958 epoch 57 - iter 720/1205 - loss 0.05442641 - samples/sec: 367.28 - lr: 0.000781\n",
            "2022-08-13 22:37:47,503 epoch 57 - iter 840/1205 - loss 0.05437920 - samples/sec: 364.57 - lr: 0.000781\n",
            "2022-08-13 22:37:58,095 epoch 57 - iter 960/1205 - loss 0.05463628 - samples/sec: 362.94 - lr: 0.000781\n",
            "2022-08-13 22:38:08,859 epoch 57 - iter 1080/1205 - loss 0.05447176 - samples/sec: 357.14 - lr: 0.000781\n",
            "2022-08-13 22:38:19,315 epoch 57 - iter 1200/1205 - loss 0.05442582 - samples/sec: 367.67 - lr: 0.000781\n",
            "2022-08-13 22:38:19,773 ----------------------------------------------------------------------------------------------------\n",
            "2022-08-13 22:38:19,775 EPOCH 57 done: loss 0.0544 - lr 0.000781\n"
          ]
        },
        {
          "name": "stderr",
          "output_type": "stream",
          "text": [
            "100%|██████████| 150/150 [00:18<00:00,  7.91it/s]\n"
          ]
        },
        {
          "name": "stdout",
          "output_type": "stream",
          "text": [
            "2022-08-13 22:38:38,800 Evaluating as a multi-label problem: False\n",
            "2022-08-13 22:38:38,888 DEV : loss 0.05577719956636429 - f1-score (micro avg)  0.8656\n",
            "2022-08-13 22:38:39,360 Epoch    57: reducing learning rate of group 0 to 3.9063e-04.\n",
            "2022-08-13 22:38:39,363 BAD EPOCHS (no improvement): 4\n",
            "2022-08-13 22:38:39,368 ----------------------------------------------------------------------------------------------------\n",
            "2022-08-13 22:38:50,009 epoch 58 - iter 120/1205 - loss 0.05611102 - samples/sec: 361.35 - lr: 0.000391\n",
            "2022-08-13 22:39:00,649 epoch 58 - iter 240/1205 - loss 0.05571545 - samples/sec: 361.27 - lr: 0.000391\n",
            "2022-08-13 22:39:11,269 epoch 58 - iter 360/1205 - loss 0.05449803 - samples/sec: 361.99 - lr: 0.000391\n",
            "2022-08-13 22:39:21,704 epoch 58 - iter 480/1205 - loss 0.05431634 - samples/sec: 368.37 - lr: 0.000391\n",
            "2022-08-13 22:39:32,440 epoch 58 - iter 600/1205 - loss 0.05484847 - samples/sec: 358.08 - lr: 0.000391\n",
            "2022-08-13 22:39:43,188 epoch 58 - iter 720/1205 - loss 0.05471618 - samples/sec: 357.66 - lr: 0.000391\n",
            "2022-08-13 22:39:53,826 epoch 58 - iter 840/1205 - loss 0.05482564 - samples/sec: 361.38 - lr: 0.000391\n",
            "2022-08-13 22:40:04,402 epoch 58 - iter 960/1205 - loss 0.05493929 - samples/sec: 363.50 - lr: 0.000391\n",
            "2022-08-13 22:40:14,812 epoch 58 - iter 1080/1205 - loss 0.05465255 - samples/sec: 369.31 - lr: 0.000391\n",
            "2022-08-13 22:40:25,416 epoch 58 - iter 1200/1205 - loss 0.05467455 - samples/sec: 362.55 - lr: 0.000391\n",
            "2022-08-13 22:40:25,844 ----------------------------------------------------------------------------------------------------\n",
            "2022-08-13 22:40:25,846 EPOCH 58 done: loss 0.0547 - lr 0.000391\n"
          ]
        },
        {
          "name": "stderr",
          "output_type": "stream",
          "text": [
            "100%|██████████| 150/150 [00:21<00:00,  7.01it/s]"
          ]
        },
        {
          "name": "stdout",
          "output_type": "stream",
          "text": [
            "2022-08-13 22:40:47,293 Evaluating as a multi-label problem: False\n"
          ]
        },
        {
          "name": "stderr",
          "output_type": "stream",
          "text": [
            "\n"
          ]
        },
        {
          "name": "stdout",
          "output_type": "stream",
          "text": [
            "2022-08-13 22:40:47,388 DEV : loss 0.055761683732271194 - f1-score (micro avg)  0.8651\n",
            "2022-08-13 22:40:47,878 BAD EPOCHS (no improvement): 1\n",
            "2022-08-13 22:40:47,882 ----------------------------------------------------------------------------------------------------\n",
            "2022-08-13 22:40:58,262 epoch 59 - iter 120/1205 - loss 0.05268976 - samples/sec: 370.45 - lr: 0.000391\n",
            "2022-08-13 22:41:08,736 epoch 59 - iter 240/1205 - loss 0.05504398 - samples/sec: 367.04 - lr: 0.000391\n",
            "2022-08-13 22:41:19,388 epoch 59 - iter 360/1205 - loss 0.05479344 - samples/sec: 360.91 - lr: 0.000391\n",
            "2022-08-13 22:41:30,171 epoch 59 - iter 480/1205 - loss 0.05502160 - samples/sec: 356.50 - lr: 0.000391\n",
            "2022-08-13 22:41:40,607 epoch 59 - iter 600/1205 - loss 0.05498931 - samples/sec: 368.39 - lr: 0.000391\n",
            "2022-08-13 22:41:51,265 epoch 59 - iter 720/1205 - loss 0.05484011 - samples/sec: 360.72 - lr: 0.000391\n",
            "2022-08-13 22:42:01,465 epoch 59 - iter 840/1205 - loss 0.05476799 - samples/sec: 376.92 - lr: 0.000391\n",
            "2022-08-13 22:42:12,264 epoch 59 - iter 960/1205 - loss 0.05456632 - samples/sec: 355.95 - lr: 0.000391\n",
            "2022-08-13 22:42:22,881 epoch 59 - iter 1080/1205 - loss 0.05451749 - samples/sec: 362.10 - lr: 0.000391\n",
            "2022-08-13 22:42:33,815 epoch 59 - iter 1200/1205 - loss 0.05446044 - samples/sec: 351.57 - lr: 0.000391\n",
            "2022-08-13 22:42:34,250 ----------------------------------------------------------------------------------------------------\n",
            "2022-08-13 22:42:34,252 EPOCH 59 done: loss 0.0545 - lr 0.000391\n"
          ]
        },
        {
          "name": "stderr",
          "output_type": "stream",
          "text": [
            "100%|██████████| 150/150 [00:18<00:00,  7.90it/s]"
          ]
        },
        {
          "name": "stdout",
          "output_type": "stream",
          "text": [
            "2022-08-13 22:42:53,306 Evaluating as a multi-label problem: False\n"
          ]
        },
        {
          "name": "stderr",
          "output_type": "stream",
          "text": [
            "\n"
          ]
        },
        {
          "name": "stdout",
          "output_type": "stream",
          "text": [
            "2022-08-13 22:42:53,405 DEV : loss 0.05577394738793373 - f1-score (micro avg)  0.8656\n",
            "2022-08-13 22:42:53,899 BAD EPOCHS (no improvement): 2\n",
            "2022-08-13 22:42:53,904 ----------------------------------------------------------------------------------------------------\n",
            "2022-08-13 22:43:04,584 epoch 60 - iter 120/1205 - loss 0.05468591 - samples/sec: 360.05 - lr: 0.000391\n",
            "2022-08-13 22:43:14,948 epoch 60 - iter 240/1205 - loss 0.05394080 - samples/sec: 370.90 - lr: 0.000391\n",
            "2022-08-13 22:43:25,338 epoch 60 - iter 360/1205 - loss 0.05382646 - samples/sec: 370.02 - lr: 0.000391\n",
            "2022-08-13 22:43:36,000 epoch 60 - iter 480/1205 - loss 0.05402481 - samples/sec: 360.53 - lr: 0.000391\n",
            "2022-08-13 22:43:46,520 epoch 60 - iter 600/1205 - loss 0.05428637 - samples/sec: 365.47 - lr: 0.000391\n",
            "2022-08-13 22:43:59,550 epoch 60 - iter 720/1205 - loss 0.05447030 - samples/sec: 294.97 - lr: 0.000391\n",
            "2022-08-13 22:44:10,028 epoch 60 - iter 840/1205 - loss 0.05415178 - samples/sec: 366.90 - lr: 0.000391\n",
            "2022-08-13 22:44:20,553 epoch 60 - iter 960/1205 - loss 0.05418717 - samples/sec: 365.27 - lr: 0.000391\n",
            "2022-08-13 22:44:31,105 epoch 60 - iter 1080/1205 - loss 0.05425443 - samples/sec: 364.34 - lr: 0.000391\n",
            "2022-08-13 22:44:41,527 epoch 60 - iter 1200/1205 - loss 0.05413518 - samples/sec: 368.87 - lr: 0.000391\n",
            "2022-08-13 22:44:41,939 ----------------------------------------------------------------------------------------------------\n",
            "2022-08-13 22:44:41,941 EPOCH 60 done: loss 0.0542 - lr 0.000391\n"
          ]
        },
        {
          "name": "stderr",
          "output_type": "stream",
          "text": [
            "100%|██████████| 150/150 [00:19<00:00,  7.85it/s]\n"
          ]
        },
        {
          "name": "stdout",
          "output_type": "stream",
          "text": [
            "2022-08-13 22:45:01,107 Evaluating as a multi-label problem: False\n",
            "2022-08-13 22:45:01,200 DEV : loss 0.05576576665043831 - f1-score (micro avg)  0.866\n",
            "2022-08-13 22:45:01,685 BAD EPOCHS (no improvement): 3\n",
            "2022-08-13 22:45:01,689 ----------------------------------------------------------------------------------------------------\n",
            "2022-08-13 22:45:12,322 epoch 61 - iter 120/1205 - loss 0.05162412 - samples/sec: 361.66 - lr: 0.000391\n",
            "2022-08-13 22:45:22,587 epoch 61 - iter 240/1205 - loss 0.05364669 - samples/sec: 374.52 - lr: 0.000391\n",
            "2022-08-13 22:45:33,339 epoch 61 - iter 360/1205 - loss 0.05415386 - samples/sec: 357.52 - lr: 0.000391\n",
            "2022-08-13 22:45:44,126 epoch 61 - iter 480/1205 - loss 0.05459319 - samples/sec: 356.41 - lr: 0.000391\n",
            "2022-08-13 22:45:54,480 epoch 61 - iter 600/1205 - loss 0.05445974 - samples/sec: 371.28 - lr: 0.000391\n",
            "2022-08-13 22:46:04,774 epoch 61 - iter 720/1205 - loss 0.05428569 - samples/sec: 373.45 - lr: 0.000391\n",
            "2022-08-13 22:46:15,350 epoch 61 - iter 840/1205 - loss 0.05424781 - samples/sec: 363.49 - lr: 0.000391\n",
            "2022-08-13 22:46:26,159 epoch 61 - iter 960/1205 - loss 0.05413935 - samples/sec: 355.66 - lr: 0.000391\n",
            "2022-08-13 22:46:36,940 epoch 61 - iter 1080/1205 - loss 0.05419607 - samples/sec: 356.55 - lr: 0.000391\n",
            "2022-08-13 22:46:47,676 epoch 61 - iter 1200/1205 - loss 0.05405650 - samples/sec: 358.10 - lr: 0.000391\n",
            "2022-08-13 22:46:48,137 ----------------------------------------------------------------------------------------------------\n",
            "2022-08-13 22:46:48,139 EPOCH 61 done: loss 0.0541 - lr 0.000391\n"
          ]
        },
        {
          "name": "stderr",
          "output_type": "stream",
          "text": [
            "100%|██████████| 150/150 [00:21<00:00,  7.04it/s]\n"
          ]
        },
        {
          "name": "stdout",
          "output_type": "stream",
          "text": [
            "2022-08-13 22:47:09,491 Evaluating as a multi-label problem: False\n",
            "2022-08-13 22:47:09,581 DEV : loss 0.055778324604034424 - f1-score (micro avg)  0.866\n",
            "2022-08-13 22:47:10,097 Epoch    61: reducing learning rate of group 0 to 1.9531e-04.\n",
            "2022-08-13 22:47:10,098 BAD EPOCHS (no improvement): 4\n",
            "2022-08-13 22:47:10,103 ----------------------------------------------------------------------------------------------------\n",
            "2022-08-13 22:47:20,628 epoch 62 - iter 120/1205 - loss 0.05416446 - samples/sec: 365.36 - lr: 0.000195\n",
            "2022-08-13 22:47:31,153 epoch 62 - iter 240/1205 - loss 0.05348975 - samples/sec: 365.25 - lr: 0.000195\n",
            "2022-08-13 22:47:41,574 epoch 62 - iter 360/1205 - loss 0.05366763 - samples/sec: 368.90 - lr: 0.000195\n",
            "2022-08-13 22:47:51,909 epoch 62 - iter 480/1205 - loss 0.05420358 - samples/sec: 371.97 - lr: 0.000195\n",
            "2022-08-13 22:48:02,297 epoch 62 - iter 600/1205 - loss 0.05426155 - samples/sec: 370.06 - lr: 0.000195\n",
            "2022-08-13 22:48:12,801 epoch 62 - iter 720/1205 - loss 0.05463118 - samples/sec: 366.00 - lr: 0.000195\n",
            "2022-08-13 22:48:23,447 epoch 62 - iter 840/1205 - loss 0.05465289 - samples/sec: 361.08 - lr: 0.000195\n",
            "2022-08-13 22:48:34,018 epoch 62 - iter 960/1205 - loss 0.05489757 - samples/sec: 363.69 - lr: 0.000195\n",
            "2022-08-13 22:48:44,801 epoch 62 - iter 1080/1205 - loss 0.05480833 - samples/sec: 356.48 - lr: 0.000195\n",
            "2022-08-13 22:48:55,363 epoch 62 - iter 1200/1205 - loss 0.05480255 - samples/sec: 363.99 - lr: 0.000195\n",
            "2022-08-13 22:48:55,814 ----------------------------------------------------------------------------------------------------\n",
            "2022-08-13 22:48:55,817 EPOCH 62 done: loss 0.0548 - lr 0.000195\n"
          ]
        },
        {
          "name": "stderr",
          "output_type": "stream",
          "text": [
            "100%|██████████| 150/150 [00:19<00:00,  7.78it/s]\n"
          ]
        },
        {
          "name": "stdout",
          "output_type": "stream",
          "text": [
            "2022-08-13 22:49:15,141 Evaluating as a multi-label problem: False\n",
            "2022-08-13 22:49:15,231 DEV : loss 0.05578499287366867 - f1-score (micro avg)  0.8659\n",
            "2022-08-13 22:49:15,719 BAD EPOCHS (no improvement): 1\n",
            "2022-08-13 22:49:15,724 ----------------------------------------------------------------------------------------------------\n",
            "2022-08-13 22:49:26,318 epoch 63 - iter 120/1205 - loss 0.05402916 - samples/sec: 362.97 - lr: 0.000195\n",
            "2022-08-13 22:49:36,963 epoch 63 - iter 240/1205 - loss 0.05503793 - samples/sec: 361.13 - lr: 0.000195\n",
            "2022-08-13 22:49:47,477 epoch 63 - iter 360/1205 - loss 0.05453398 - samples/sec: 365.63 - lr: 0.000195\n",
            "2022-08-13 22:49:57,803 epoch 63 - iter 480/1205 - loss 0.05455482 - samples/sec: 372.30 - lr: 0.000195\n",
            "2022-08-13 22:50:08,371 epoch 63 - iter 600/1205 - loss 0.05464011 - samples/sec: 363.77 - lr: 0.000195\n",
            "2022-08-13 22:50:18,802 epoch 63 - iter 720/1205 - loss 0.05457268 - samples/sec: 368.55 - lr: 0.000195\n",
            "2022-08-13 22:50:29,136 epoch 63 - iter 840/1205 - loss 0.05469723 - samples/sec: 372.03 - lr: 0.000195\n",
            "2022-08-13 22:50:39,805 epoch 63 - iter 960/1205 - loss 0.05492890 - samples/sec: 360.31 - lr: 0.000195\n",
            "2022-08-13 22:50:50,164 epoch 63 - iter 1080/1205 - loss 0.05443968 - samples/sec: 371.12 - lr: 0.000195\n",
            "2022-08-13 22:51:00,732 epoch 63 - iter 1200/1205 - loss 0.05422020 - samples/sec: 363.76 - lr: 0.000195\n",
            "2022-08-13 22:51:01,150 ----------------------------------------------------------------------------------------------------\n",
            "2022-08-13 22:51:01,152 EPOCH 63 done: loss 0.0542 - lr 0.000195\n"
          ]
        },
        {
          "name": "stderr",
          "output_type": "stream",
          "text": [
            "100%|██████████| 150/150 [00:21<00:00,  7.07it/s]"
          ]
        },
        {
          "name": "stdout",
          "output_type": "stream",
          "text": [
            "2022-08-13 22:51:22,432 Evaluating as a multi-label problem: False\n"
          ]
        },
        {
          "name": "stderr",
          "output_type": "stream",
          "text": [
            "\n"
          ]
        },
        {
          "name": "stdout",
          "output_type": "stream",
          "text": [
            "2022-08-13 22:51:22,526 DEV : loss 0.055778756737709045 - f1-score (micro avg)  0.866\n",
            "2022-08-13 22:51:23,012 BAD EPOCHS (no improvement): 2\n",
            "2022-08-13 22:51:23,017 ----------------------------------------------------------------------------------------------------\n",
            "2022-08-13 22:51:33,743 epoch 64 - iter 120/1205 - loss 0.05133007 - samples/sec: 358.53 - lr: 0.000195\n",
            "2022-08-13 22:51:44,085 epoch 64 - iter 240/1205 - loss 0.05371084 - samples/sec: 371.68 - lr: 0.000195\n",
            "2022-08-13 22:51:54,457 epoch 64 - iter 360/1205 - loss 0.05519582 - samples/sec: 370.66 - lr: 0.000195\n",
            "2022-08-13 22:52:04,763 epoch 64 - iter 480/1205 - loss 0.05489360 - samples/sec: 373.00 - lr: 0.000195\n",
            "2022-08-13 22:52:15,197 epoch 64 - iter 600/1205 - loss 0.05487143 - samples/sec: 368.46 - lr: 0.000195\n",
            "2022-08-13 22:52:25,878 epoch 64 - iter 720/1205 - loss 0.05491479 - samples/sec: 359.88 - lr: 0.000195\n",
            "2022-08-13 22:52:36,256 epoch 64 - iter 840/1205 - loss 0.05484554 - samples/sec: 370.44 - lr: 0.000195\n",
            "2022-08-13 22:52:46,579 epoch 64 - iter 960/1205 - loss 0.05465500 - samples/sec: 372.39 - lr: 0.000195\n",
            "2022-08-13 22:52:57,111 epoch 64 - iter 1080/1205 - loss 0.05443351 - samples/sec: 365.01 - lr: 0.000195\n",
            "2022-08-13 22:53:07,423 epoch 64 - iter 1200/1205 - loss 0.05442091 - samples/sec: 372.76 - lr: 0.000195\n",
            "2022-08-13 22:53:07,877 ----------------------------------------------------------------------------------------------------\n",
            "2022-08-13 22:53:07,879 EPOCH 64 done: loss 0.0544 - lr 0.000195\n"
          ]
        },
        {
          "name": "stderr",
          "output_type": "stream",
          "text": [
            "100%|██████████| 150/150 [00:18<00:00,  7.91it/s]\n"
          ]
        },
        {
          "name": "stdout",
          "output_type": "stream",
          "text": [
            "2022-08-13 22:53:26,906 Evaluating as a multi-label problem: False\n",
            "2022-08-13 22:53:26,994 DEV : loss 0.05577374994754791 - f1-score (micro avg)  0.8656\n",
            "2022-08-13 22:53:27,467 BAD EPOCHS (no improvement): 3\n",
            "2022-08-13 22:53:27,471 ----------------------------------------------------------------------------------------------------\n",
            "2022-08-13 22:53:38,129 epoch 65 - iter 120/1205 - loss 0.05463398 - samples/sec: 360.81 - lr: 0.000195\n",
            "2022-08-13 22:53:48,724 epoch 65 - iter 240/1205 - loss 0.05346690 - samples/sec: 362.84 - lr: 0.000195\n",
            "2022-08-13 22:53:59,055 epoch 65 - iter 360/1205 - loss 0.05385226 - samples/sec: 372.13 - lr: 0.000195\n",
            "2022-08-13 22:54:09,553 epoch 65 - iter 480/1205 - loss 0.05370343 - samples/sec: 366.20 - lr: 0.000195\n",
            "2022-08-13 22:54:20,142 epoch 65 - iter 600/1205 - loss 0.05405353 - samples/sec: 363.02 - lr: 0.000195\n",
            "2022-08-13 22:54:30,871 epoch 65 - iter 720/1205 - loss 0.05384380 - samples/sec: 358.32 - lr: 0.000195\n",
            "2022-08-13 22:54:41,138 epoch 65 - iter 840/1205 - loss 0.05350792 - samples/sec: 374.39 - lr: 0.000195\n",
            "2022-08-13 22:54:51,523 epoch 65 - iter 960/1205 - loss 0.05365626 - samples/sec: 370.22 - lr: 0.000195\n",
            "2022-08-13 22:55:02,388 epoch 65 - iter 1080/1205 - loss 0.05397348 - samples/sec: 353.81 - lr: 0.000195\n",
            "2022-08-13 22:55:12,762 epoch 65 - iter 1200/1205 - loss 0.05413626 - samples/sec: 370.56 - lr: 0.000195\n",
            "2022-08-13 22:55:13,220 ----------------------------------------------------------------------------------------------------\n",
            "2022-08-13 22:55:13,221 EPOCH 65 done: loss 0.0541 - lr 0.000195\n"
          ]
        },
        {
          "name": "stderr",
          "output_type": "stream",
          "text": [
            "100%|██████████| 150/150 [00:21<00:00,  7.06it/s]\n"
          ]
        },
        {
          "name": "stdout",
          "output_type": "stream",
          "text": [
            "2022-08-13 22:55:34,514 Evaluating as a multi-label problem: False\n",
            "2022-08-13 22:55:34,605 DEV : loss 0.05578828603029251 - f1-score (micro avg)  0.8659\n",
            "2022-08-13 22:55:35,083 Epoch    65: reducing learning rate of group 0 to 9.7656e-05.\n",
            "2022-08-13 22:55:35,085 BAD EPOCHS (no improvement): 4\n",
            "2022-08-13 22:55:35,089 ----------------------------------------------------------------------------------------------------\n",
            "2022-08-13 22:55:35,091 ----------------------------------------------------------------------------------------------------\n",
            "2022-08-13 22:55:35,092 learning rate too small - quitting training!\n",
            "2022-08-13 22:55:35,093 ----------------------------------------------------------------------------------------------------\n",
            "2022-08-13 22:55:39,727 ----------------------------------------------------------------------------------------------------\n",
            "2022-08-13 22:55:39,729 loading file /content/drive/My Drive/fourthbrain/flair/ontonotes-fast/best-model.pt\n",
            "2022-08-13 22:55:43,269 SequenceTagger predicts: Dictionary with 35 tags: O, S-geo, B-geo, E-geo, I-geo, S-tim, B-tim, E-tim, I-tim, S-org, B-org, E-org, I-org, S-per, B-per, E-per, I-per, S-gpe, B-gpe, E-gpe, I-gpe, S-art, B-art, E-art, I-art, S-eve, B-eve, E-eve, I-eve, S-nat, B-nat, E-nat, I-nat, <START>, <STOP>\n"
          ]
        },
        {
          "name": "stderr",
          "output_type": "stream",
          "text": [
            "100%|██████████| 145/145 [00:16<00:00,  8.67it/s]"
          ]
        },
        {
          "name": "stdout",
          "output_type": "stream",
          "text": [
            "2022-08-13 22:56:00,300 Evaluating as a multi-label problem: False\n"
          ]
        },
        {
          "name": "stderr",
          "output_type": "stream",
          "text": [
            "\n"
          ]
        },
        {
          "name": "stdout",
          "output_type": "stream",
          "text": [
            "2022-08-13 22:56:00,391 0.8552\t0.8522\t0.8537\t0.7922\n",
            "2022-08-13 22:56:00,393 \n",
            "Results:\n",
            "- F-score (micro) 0.8537\n",
            "- F-score (macro) 0.6707\n",
            "- Accuracy 0.7922\n",
            "\n",
            "By class:\n",
            "              precision    recall  f1-score   support\n",
            "\n",
            "         geo     0.8476    0.9088    0.8771      3562\n",
            "         tim     0.9028    0.8652    0.8836      1996\n",
            "         org     0.7802    0.7149    0.7461      2031\n",
            "         gpe     0.9593    0.9522    0.9558      1611\n",
            "         per     0.8097    0.8148    0.8122      1582\n",
            "         art     0.2857    0.0952    0.1429        42\n",
            "         eve     0.5500    0.4074    0.4681        27\n",
            "         nat     0.6000    0.4000    0.4800        15\n",
            "\n",
            "   micro avg     0.8552    0.8522    0.8537     10866\n",
            "   macro avg     0.7169    0.6448    0.6707     10866\n",
            "weighted avg     0.8529    0.8522    0.8516     10866\n",
            "\n",
            "2022-08-13 22:56:00,395 ----------------------------------------------------------------------------------------------------\n"
          ]
        },
        {
          "data": {
            "text/plain": [
              "{'dev_loss_history': [0.09992415457963943,\n",
              "  0.07995657622814178,\n",
              "  0.07152664661407471,\n",
              "  0.06745276600122452,\n",
              "  0.06392451375722885,\n",
              "  0.062401678413152695,\n",
              "  0.06309185922145844,\n",
              "  0.06122210621833801,\n",
              "  0.06174707040190697,\n",
              "  0.06162280589342117,\n",
              "  0.05881693214178085,\n",
              "  0.058544404804706573,\n",
              "  0.05767440423369408,\n",
              "  0.05720987543463707,\n",
              "  0.057569511234760284,\n",
              "  0.057838182896375656,\n",
              "  0.05757070705294609,\n",
              "  0.057493824511766434,\n",
              "  0.05721729248762131,\n",
              "  0.05667921528220177,\n",
              "  0.0575009360909462,\n",
              "  0.05606365576386452,\n",
              "  0.056868985295295715,\n",
              "  0.055931542068719864,\n",
              "  0.05575476959347725,\n",
              "  0.05589861795306206,\n",
              "  0.055802635848522186,\n",
              "  0.055728621780872345,\n",
              "  0.05567508935928345,\n",
              "  0.056234367191791534,\n",
              "  0.056088197976350784,\n",
              "  0.05580268055200577,\n",
              "  0.05570878088474274,\n",
              "  0.05579906702041626,\n",
              "  0.05542166903614998,\n",
              "  0.05563342943787575,\n",
              "  0.05568663775920868,\n",
              "  0.055623605847358704,\n",
              "  0.055258192121982574,\n",
              "  0.05560987815260887,\n",
              "  0.05560223385691643,\n",
              "  0.05562462657690048,\n",
              "  0.05568724870681763,\n",
              "  0.0558052659034729,\n",
              "  0.0555744469165802,\n",
              "  0.05577842891216278,\n",
              "  0.05579562112689018,\n",
              "  0.05567995086312294,\n",
              "  0.055716246366500854,\n",
              "  0.055687516927719116,\n",
              "  0.055730871856212616,\n",
              "  0.05580023676156998,\n",
              "  0.055807579308748245,\n",
              "  0.05581478774547577,\n",
              "  0.055718954652547836,\n",
              "  0.05576802417635918,\n",
              "  0.05577719956636429,\n",
              "  0.055761683732271194,\n",
              "  0.05577394738793373,\n",
              "  0.05576576665043831,\n",
              "  0.055778324604034424,\n",
              "  0.05578499287366867,\n",
              "  0.055778756737709045,\n",
              "  0.05577374994754791,\n",
              "  0.05578828603029251],\n",
              " 'dev_score_history': [0.8185793325004462,\n",
              "  0.8324368304479501,\n",
              "  0.83983666061706,\n",
              "  0.8451305334846764,\n",
              "  0.8511815666530594,\n",
              "  0.8532859032243352,\n",
              "  0.8519341526461384,\n",
              "  0.8524679327380682,\n",
              "  0.8527378570129162,\n",
              "  0.8511347262247838,\n",
              "  0.8555580813821323,\n",
              "  0.8532862254835348,\n",
              "  0.8575176406730596,\n",
              "  0.8568838115961738,\n",
              "  0.8579594429070453,\n",
              "  0.8591868151770352,\n",
              "  0.8573102050011263,\n",
              "  0.8596403822636896,\n",
              "  0.8628392768136299,\n",
              "  0.862299223966793,\n",
              "  0.8589749379092346,\n",
              "  0.8596507103429554,\n",
              "  0.8611526098963285,\n",
              "  0.8629119884099964,\n",
              "  0.863611664553523,\n",
              "  0.8638238093080165,\n",
              "  0.8623928133932218,\n",
              "  0.8645330203584164,\n",
              "  0.8636240152132574,\n",
              "  0.8643147896879241,\n",
              "  0.8627238198589257,\n",
              "  0.8644619137977771,\n",
              "  0.8647840079778796,\n",
              "  0.8643929799167722,\n",
              "  0.8650262348471142,\n",
              "  0.8650876319007291,\n",
              "  0.8662869541632763,\n",
              "  0.8642321251016902,\n",
              "  0.8643852978453738,\n",
              "  0.8649748948296919,\n",
              "  0.8634572709569313,\n",
              "  0.8640188184203383,\n",
              "  0.8641807909604519,\n",
              "  0.8655595275804335,\n",
              "  0.8655055417326397,\n",
              "  0.8649993216046312,\n",
              "  0.8647401980735314,\n",
              "  0.8654542164314151,\n",
              "  0.8646766169154229,\n",
              "  0.8648184161729456,\n",
              "  0.8655663576757856,\n",
              "  0.865065363911883,\n",
              "  0.8652584920168257,\n",
              "  0.8659038487630591,\n",
              "  0.8655055417326397,\n",
              "  0.8656176523783686,\n",
              "  0.8655811849841701,\n",
              "  0.8650775702202721,\n",
              "  0.8655541988875322,\n",
              "  0.8659793814432989,\n",
              "  0.86601853945286,\n",
              "  0.8659010760466589,\n",
              "  0.8659793814432989,\n",
              "  0.8656324906155307,\n",
              "  0.8658646888567294],\n",
              " 'test_score': 0.8536922651424357,\n",
              " 'train_loss_history': [0.2121036018309145,\n",
              "  0.11812881744964807,\n",
              "  0.10331388778022545,\n",
              "  0.09487236648712076,\n",
              "  0.0911389619352874,\n",
              "  0.08739630037250057,\n",
              "  0.08469033973851214,\n",
              "  0.08271948972153514,\n",
              "  0.0807357487831203,\n",
              "  0.07908811363502986,\n",
              "  0.07430417600647968,\n",
              "  0.07292701308258231,\n",
              "  0.07147986402654127,\n",
              "  0.07095211858145642,\n",
              "  0.06981894618361967,\n",
              "  0.06873737689145769,\n",
              "  0.06869997102283877,\n",
              "  0.06759752251336115,\n",
              "  0.06725260303460733,\n",
              "  0.06637465887332435,\n",
              "  0.0655771386334618,\n",
              "  0.06523126155379763,\n",
              "  0.06467194560168942,\n",
              "  0.06252937330113471,\n",
              "  0.06232420472863645,\n",
              "  0.061338961355026124,\n",
              "  0.06088126814626434,\n",
              "  0.060533264816573784,\n",
              "  0.05978358217000328,\n",
              "  0.059514080282388124,\n",
              "  0.05976011094110383,\n",
              "  0.05938198654465318,\n",
              "  0.05780441879439484,\n",
              "  0.05780172186516855,\n",
              "  0.057823430113797966,\n",
              "  0.05699176191037692,\n",
              "  0.057207263354509444,\n",
              "  0.05720631727634596,\n",
              "  0.056846855484590744,\n",
              "  0.05636581355192248,\n",
              "  0.05664733366451568,\n",
              "  0.05607306846450369,\n",
              "  0.05544517518767086,\n",
              "  0.05547466432273457,\n",
              "  0.05576492049683096,\n",
              "  0.05522156718789008,\n",
              "  0.05528189847108335,\n",
              "  0.05514978835891865,\n",
              "  0.05520313382521118,\n",
              "  0.05503621167539245,\n",
              "  0.054526384708139836,\n",
              "  0.05458673661098539,\n",
              "  0.054555636110741955,\n",
              "  0.05480911652853473,\n",
              "  0.054755196137819775,\n",
              "  0.05461414619347052,\n",
              "  0.05441442363501589,\n",
              "  0.05469856486929023,\n",
              "  0.05449555165691569,\n",
              "  0.054151309594385334,\n",
              "  0.05408363710851965,\n",
              "  0.05480518727185446,\n",
              "  0.054204818198515026,\n",
              "  0.0544103494343093,\n",
              "  0.05413991299127753]}"
            ]
          },
          "execution_count": 13,
          "metadata": {},
          "output_type": "execute_result"
        }
      ],
      "source": [
        "trainer.train('/content/drive/My Drive/fourthbrain/flair/ontonotes-fast',\n",
        "              learning_rate=0.1,\n",
        "              mini_batch_size=32,\n",
        "              max_epochs=150)"
      ]
    },
    {
      "cell_type": "code",
      "execution_count": null,
      "metadata": {
        "id": "V1G82GuO-tez"
      },
      "outputs": [],
      "source": [
        "# trained_model = SequenceTagger.load('/content/drive/My Drive/fourthbrain/flair/final-model.pt')"
      ]
    },
    {
      "cell_type": "code",
      "execution_count": null,
      "metadata": {
        "id": "FvikMifwfCse"
      },
      "outputs": [],
      "source": [
        "# path = '/content/drive/My Drive/fourthbrain/flair/'\n",
        "# trainer.resume(trained_model,\n",
        "              #  base_path=path + '-resume',\n",
        "              #  max_epochs=25,\n",
        "              #  )"
      ]
    },
    {
      "cell_type": "code",
      "execution_count": null,
      "metadata": {
        "colab": {
          "base_uri": "https://localhost:8080/"
        },
        "id": "JP3G4wtbnTrJ",
        "outputId": "ce0cb775-1331-4181-ef28-20e677afe835"
      },
      "outputs": [
        {
          "name": "stdout",
          "output_type": "stream",
          "text": [
            "2022-08-13 22:56:00,423 loading file /content/drive/My Drive/fourthbrain/flair/-resume/final-model.pt\n",
            "2022-08-13 22:56:04,015 SequenceTagger predicts: Dictionary with 35 tags: O, S-geo, B-geo, E-geo, I-geo, S-tim, B-tim, E-tim, I-tim, S-org, B-org, E-org, I-org, S-per, B-per, E-per, I-per, S-gpe, B-gpe, E-gpe, I-gpe, S-art, B-art, E-art, I-art, S-eve, B-eve, E-eve, I-eve, S-nat, B-nat, E-nat, I-nat, <START>, <STOP>\n"
          ]
        }
      ],
      "source": [
        "trained_model = SequenceTagger.load('/content/drive/My Drive/fourthbrain/flair/-resume/final-model.pt')"
      ]
    },
    {
      "cell_type": "code",
      "execution_count": null,
      "metadata": {
        "colab": {
          "background_save": true,
          "base_uri": "https://localhost:8080/"
        },
        "id": "WYZf5vR9tGGN",
        "outputId": "8055b8c5-3c1f-414b-9faf-9a7f9d910cb7"
      },
      "outputs": [
        {
          "name": "stderr",
          "output_type": "stream",
          "text": [
            "/usr/local/lib/python3.7/dist-packages/flair/trainers/trainer.py:65: UserWarning: There should be no best model saved at epoch 1 except there is a model from previous trainings in your training folder. All previous best models will be deleted.\n",
            "  \"There should be no best model saved at epoch 1 except there \"\n"
          ]
        },
        {
          "name": "stdout",
          "output_type": "stream",
          "text": [
            "2022-08-13 22:56:06,841 ----------------------------------------------------------------------------------------------------\n",
            "2022-08-13 22:56:06,843 Model: \"SequenceTagger(\n",
            "  (embeddings): StackedEmbeddings(\n",
            "    (list_embedding_0): WordEmbeddings(\n",
            "      'glove'\n",
            "      (embedding): Embedding(400001, 100)\n",
            "    )\n",
            "    (list_embedding_1): FlairEmbeddings(\n",
            "      (lm): LanguageModel(\n",
            "        (drop): Dropout(p=0.05, inplace=False)\n",
            "        (encoder): Embedding(300, 100)\n",
            "        (rnn): LSTM(100, 2048)\n",
            "        (decoder): Linear(in_features=2048, out_features=300, bias=True)\n",
            "      )\n",
            "    )\n",
            "    (list_embedding_2): FlairEmbeddings(\n",
            "      (lm): LanguageModel(\n",
            "        (drop): Dropout(p=0.05, inplace=False)\n",
            "        (encoder): Embedding(300, 100)\n",
            "        (rnn): LSTM(100, 2048)\n",
            "        (decoder): Linear(in_features=2048, out_features=300, bias=True)\n",
            "      )\n",
            "    )\n",
            "  )\n",
            "  (word_dropout): WordDropout(p=0.05)\n",
            "  (locked_dropout): LockedDropout(p=0.5)\n",
            "  (embedding2nn): Linear(in_features=4196, out_features=4196, bias=True)\n",
            "  (rnn): LSTM(4196, 256, batch_first=True, bidirectional=True)\n",
            "  (linear): Linear(in_features=512, out_features=35, bias=True)\n",
            "  (loss_function): ViterbiLoss()\n",
            "  (crf): CRF()\n",
            ")\"\n",
            "2022-08-13 22:56:06,845 ----------------------------------------------------------------------------------------------------\n",
            "2022-08-13 22:56:06,848 Corpus: \"Corpus: 38557 train + 4791 dev + 4610 test sentences\"\n",
            "2022-08-13 22:56:06,849 ----------------------------------------------------------------------------------------------------\n",
            "2022-08-13 22:56:06,850 Parameters:\n",
            "2022-08-13 22:56:06,852  - learning_rate: \"0.100000\"\n",
            "2022-08-13 22:56:06,853  - mini_batch_size: \"32\"\n",
            "2022-08-13 22:56:06,856  - patience: \"3\"\n",
            "2022-08-13 22:56:06,857  - anneal_factor: \"0.5\"\n",
            "2022-08-13 22:56:06,859  - max_epochs: \"150\"\n",
            "2022-08-13 22:56:06,861  - shuffle: \"True\"\n",
            "2022-08-13 22:56:06,862  - train_with_dev: \"False\"\n",
            "2022-08-13 22:56:06,864  - batch_growth_annealing: \"False\"\n",
            "2022-08-13 22:56:06,866 ----------------------------------------------------------------------------------------------------\n",
            "2022-08-13 22:56:06,869 Model training base path: \"/content/drive/My Drive/fourthbrain/flair/-resume2\"\n",
            "2022-08-13 22:56:06,872 ----------------------------------------------------------------------------------------------------\n",
            "2022-08-13 22:56:06,873 Device: cuda:0\n",
            "2022-08-13 22:56:06,875 ----------------------------------------------------------------------------------------------------\n",
            "2022-08-13 22:56:06,876 Embeddings storage mode: cpu\n",
            "2022-08-13 22:56:06,878 ----------------------------------------------------------------------------------------------------\n",
            "2022-08-13 22:56:28,357 epoch 26 - iter 120/1205 - loss 0.06678415 - samples/sec: 178.95 - lr: 0.100000\n",
            "2022-08-13 22:56:52,028 epoch 26 - iter 240/1205 - loss 0.06803087 - samples/sec: 162.32 - lr: 0.100000\n",
            "2022-08-13 22:57:13,223 epoch 26 - iter 360/1205 - loss 0.06864831 - samples/sec: 181.29 - lr: 0.100000\n",
            "2022-08-13 22:57:34,660 epoch 26 - iter 480/1205 - loss 0.06833232 - samples/sec: 179.23 - lr: 0.100000\n",
            "2022-08-13 22:57:56,844 epoch 26 - iter 600/1205 - loss 0.06813152 - samples/sec: 173.20 - lr: 0.100000\n",
            "2022-08-13 22:58:18,117 epoch 26 - iter 720/1205 - loss 0.06843541 - samples/sec: 180.62 - lr: 0.100000\n",
            "2022-08-13 22:58:39,635 epoch 26 - iter 840/1205 - loss 0.06885954 - samples/sec: 178.57 - lr: 0.100000\n",
            "2022-08-13 22:59:02,136 epoch 26 - iter 960/1205 - loss 0.06948794 - samples/sec: 170.76 - lr: 0.100000\n",
            "2022-08-13 22:59:23,163 epoch 26 - iter 1080/1205 - loss 0.06925979 - samples/sec: 182.74 - lr: 0.100000\n",
            "2022-08-13 22:59:47,294 epoch 26 - iter 1200/1205 - loss 0.06914003 - samples/sec: 159.22 - lr: 0.100000\n",
            "2022-08-13 22:59:48,199 ----------------------------------------------------------------------------------------------------\n",
            "2022-08-13 22:59:48,201 EPOCH 26 done: loss 0.0691 - lr 0.100000\n"
          ]
        },
        {
          "name": "stderr",
          "output_type": "stream",
          "text": [
            "100%|██████████| 150/150 [00:33<00:00,  4.46it/s]\n"
          ]
        },
        {
          "name": "stdout",
          "output_type": "stream",
          "text": [
            "2022-08-13 23:00:22,281 Evaluating as a multi-label problem: False\n",
            "2022-08-13 23:00:22,368 DEV : loss 0.05820433050394058 - f1-score (micro avg)  0.8601\n",
            "2022-08-13 23:00:23,215 BAD EPOCHS (no improvement): 0\n",
            "2022-08-13 23:00:23,223 saving best model\n",
            "2022-08-13 23:00:24,894 ----------------------------------------------------------------------------------------------------\n",
            "2022-08-13 23:00:37,178 epoch 27 - iter 120/1205 - loss 0.06910356 - samples/sec: 312.96 - lr: 0.100000\n",
            "2022-08-13 23:00:49,135 epoch 27 - iter 240/1205 - loss 0.06734562 - samples/sec: 321.46 - lr: 0.100000\n",
            "2022-08-13 23:01:00,964 epoch 27 - iter 360/1205 - loss 0.06707667 - samples/sec: 324.93 - lr: 0.100000\n",
            "2022-08-13 23:01:13,050 epoch 27 - iter 480/1205 - loss 0.06757922 - samples/sec: 318.03 - lr: 0.100000\n",
            "2022-08-13 23:01:24,890 epoch 27 - iter 600/1205 - loss 0.06764711 - samples/sec: 324.66 - lr: 0.100000\n",
            "2022-08-13 23:01:36,872 epoch 27 - iter 720/1205 - loss 0.06800134 - samples/sec: 320.78 - lr: 0.100000\n",
            "2022-08-13 23:01:48,950 epoch 27 - iter 840/1205 - loss 0.06795527 - samples/sec: 318.24 - lr: 0.100000\n",
            "2022-08-13 23:02:01,104 epoch 27 - iter 960/1205 - loss 0.06814290 - samples/sec: 316.25 - lr: 0.100000\n",
            "2022-08-13 23:02:13,018 epoch 27 - iter 1080/1205 - loss 0.06832127 - samples/sec: 322.60 - lr: 0.100000\n",
            "2022-08-13 23:02:24,853 epoch 27 - iter 1200/1205 - loss 0.06833394 - samples/sec: 324.77 - lr: 0.100000\n",
            "2022-08-13 23:02:25,339 ----------------------------------------------------------------------------------------------------\n",
            "2022-08-13 23:02:25,341 EPOCH 27 done: loss 0.0683 - lr 0.100000\n"
          ]
        },
        {
          "name": "stderr",
          "output_type": "stream",
          "text": [
            "100%|██████████| 150/150 [00:20<00:00,  7.30it/s]"
          ]
        },
        {
          "name": "stdout",
          "output_type": "stream",
          "text": [
            "2022-08-13 23:02:45,950 Evaluating as a multi-label problem: False\n"
          ]
        },
        {
          "name": "stderr",
          "output_type": "stream",
          "text": [
            "\n"
          ]
        },
        {
          "name": "stdout",
          "output_type": "stream",
          "text": [
            "2022-08-13 23:02:46,038 DEV : loss 0.059041332453489304 - f1-score (micro avg)  0.86\n",
            "2022-08-13 23:02:46,867 BAD EPOCHS (no improvement): 1\n",
            "2022-08-13 23:02:46,873 ----------------------------------------------------------------------------------------------------\n",
            "2022-08-13 23:02:59,067 epoch 28 - iter 120/1205 - loss 0.06588317 - samples/sec: 315.26 - lr: 0.100000\n",
            "2022-08-13 23:03:11,103 epoch 28 - iter 240/1205 - loss 0.06602912 - samples/sec: 319.35 - lr: 0.100000\n",
            "2022-08-13 23:03:23,188 epoch 28 - iter 360/1205 - loss 0.06614861 - samples/sec: 318.06 - lr: 0.100000\n",
            "2022-08-13 23:03:35,298 epoch 28 - iter 480/1205 - loss 0.06661527 - samples/sec: 317.37 - lr: 0.100000\n",
            "2022-08-13 23:03:47,315 epoch 28 - iter 600/1205 - loss 0.06710738 - samples/sec: 319.86 - lr: 0.100000\n",
            "2022-08-13 23:03:59,163 epoch 28 - iter 720/1205 - loss 0.06737958 - samples/sec: 324.39 - lr: 0.100000\n",
            "2022-08-13 23:04:11,188 epoch 28 - iter 840/1205 - loss 0.06705424 - samples/sec: 319.64 - lr: 0.100000\n",
            "2022-08-13 23:04:26,294 epoch 28 - iter 960/1205 - loss 0.06708054 - samples/sec: 254.39 - lr: 0.100000\n",
            "2022-08-13 23:04:38,181 epoch 28 - iter 1080/1205 - loss 0.06727583 - samples/sec: 323.35 - lr: 0.100000\n",
            "2022-08-13 23:04:50,088 epoch 28 - iter 1200/1205 - loss 0.06744451 - samples/sec: 322.84 - lr: 0.100000\n",
            "2022-08-13 23:04:50,653 ----------------------------------------------------------------------------------------------------\n",
            "2022-08-13 23:04:50,654 EPOCH 28 done: loss 0.0674 - lr 0.100000\n"
          ]
        },
        {
          "name": "stderr",
          "output_type": "stream",
          "text": [
            "100%|██████████| 150/150 [00:20<00:00,  7.31it/s]"
          ]
        },
        {
          "name": "stdout",
          "output_type": "stream",
          "text": [
            "2022-08-13 23:05:11,230 Evaluating as a multi-label problem: False\n"
          ]
        },
        {
          "name": "stderr",
          "output_type": "stream",
          "text": [
            "\n"
          ]
        },
        {
          "name": "stdout",
          "output_type": "stream",
          "text": [
            "2022-08-13 23:05:11,325 DEV : loss 0.05805521085858345 - f1-score (micro avg)  0.8589\n",
            "2022-08-13 23:05:12,135 BAD EPOCHS (no improvement): 2\n",
            "2022-08-13 23:05:12,139 ----------------------------------------------------------------------------------------------------\n",
            "2022-08-13 23:05:24,282 epoch 29 - iter 120/1205 - loss 0.06392612 - samples/sec: 316.58 - lr: 0.100000\n",
            "2022-08-13 23:05:36,227 epoch 29 - iter 240/1205 - loss 0.06465491 - samples/sec: 321.77 - lr: 0.100000\n",
            "2022-08-13 23:05:48,249 epoch 29 - iter 360/1205 - loss 0.06541975 - samples/sec: 319.70 - lr: 0.100000\n",
            "2022-08-13 23:06:00,293 epoch 29 - iter 480/1205 - loss 0.06540317 - samples/sec: 319.15 - lr: 0.100000\n",
            "2022-08-13 23:06:12,321 epoch 29 - iter 600/1205 - loss 0.06608001 - samples/sec: 319.55 - lr: 0.100000\n",
            "2022-08-13 23:06:24,226 epoch 29 - iter 720/1205 - loss 0.06635939 - samples/sec: 322.86 - lr: 0.100000\n",
            "2022-08-13 23:06:36,334 epoch 29 - iter 840/1205 - loss 0.06644036 - samples/sec: 317.44 - lr: 0.100000\n",
            "2022-08-13 23:06:48,383 epoch 29 - iter 960/1205 - loss 0.06685859 - samples/sec: 319.01 - lr: 0.100000\n",
            "2022-08-13 23:07:00,408 epoch 29 - iter 1080/1205 - loss 0.06702235 - samples/sec: 319.65 - lr: 0.100000\n",
            "2022-08-13 23:07:12,447 epoch 29 - iter 1200/1205 - loss 0.06745139 - samples/sec: 319.28 - lr: 0.100000\n",
            "2022-08-13 23:07:12,978 ----------------------------------------------------------------------------------------------------\n",
            "2022-08-13 23:07:12,980 EPOCH 29 done: loss 0.0674 - lr 0.100000\n"
          ]
        },
        {
          "name": "stderr",
          "output_type": "stream",
          "text": [
            "100%|██████████| 150/150 [00:20<00:00,  7.34it/s]"
          ]
        },
        {
          "name": "stdout",
          "output_type": "stream",
          "text": [
            "2022-08-13 23:07:33,481 Evaluating as a multi-label problem: False\n"
          ]
        },
        {
          "name": "stderr",
          "output_type": "stream",
          "text": [
            "\n"
          ]
        },
        {
          "name": "stdout",
          "output_type": "stream",
          "text": [
            "2022-08-13 23:07:33,571 DEV : loss 0.057976916432380676 - f1-score (micro avg)  0.8577\n",
            "2022-08-13 23:07:34,365 BAD EPOCHS (no improvement): 3\n",
            "2022-08-13 23:07:34,370 ----------------------------------------------------------------------------------------------------\n",
            "2022-08-13 23:07:46,518 epoch 30 - iter 120/1205 - loss 0.06622537 - samples/sec: 316.46 - lr: 0.100000\n",
            "2022-08-13 23:07:58,391 epoch 30 - iter 240/1205 - loss 0.06774670 - samples/sec: 323.72 - lr: 0.100000\n",
            "2022-08-13 23:08:10,258 epoch 30 - iter 360/1205 - loss 0.06752219 - samples/sec: 323.89 - lr: 0.100000\n",
            "2022-08-13 23:08:22,585 epoch 30 - iter 480/1205 - loss 0.06640779 - samples/sec: 311.79 - lr: 0.100000\n",
            "2022-08-13 23:08:34,755 epoch 30 - iter 600/1205 - loss 0.06634765 - samples/sec: 315.82 - lr: 0.100000\n",
            "2022-08-13 23:08:46,872 epoch 30 - iter 720/1205 - loss 0.06605316 - samples/sec: 317.23 - lr: 0.100000\n",
            "2022-08-13 23:08:58,698 epoch 30 - iter 840/1205 - loss 0.06640196 - samples/sec: 325.03 - lr: 0.100000\n",
            "2022-08-13 23:09:10,427 epoch 30 - iter 960/1205 - loss 0.06647285 - samples/sec: 327.69 - lr: 0.100000\n",
            "2022-08-13 23:09:22,620 epoch 30 - iter 1080/1205 - loss 0.06694268 - samples/sec: 315.24 - lr: 0.100000\n",
            "2022-08-13 23:09:34,514 epoch 30 - iter 1200/1205 - loss 0.06700652 - samples/sec: 323.16 - lr: 0.100000\n",
            "2022-08-13 23:09:34,988 ----------------------------------------------------------------------------------------------------\n",
            "2022-08-13 23:09:34,990 EPOCH 30 done: loss 0.0670 - lr 0.100000\n"
          ]
        },
        {
          "name": "stderr",
          "output_type": "stream",
          "text": [
            "100%|██████████| 150/150 [00:23<00:00,  6.34it/s]"
          ]
        },
        {
          "name": "stdout",
          "output_type": "stream",
          "text": [
            "2022-08-13 23:09:58,703 Evaluating as a multi-label problem: False\n"
          ]
        },
        {
          "name": "stderr",
          "output_type": "stream",
          "text": [
            "\n"
          ]
        },
        {
          "name": "stdout",
          "output_type": "stream",
          "text": [
            "2022-08-13 23:09:58,796 DEV : loss 0.05752614885568619 - f1-score (micro avg)  0.859\n",
            "2022-08-13 23:09:59,604 Epoch     5: reducing learning rate of group 0 to 5.0000e-02.\n",
            "2022-08-13 23:09:59,606 BAD EPOCHS (no improvement): 4\n",
            "2022-08-13 23:09:59,611 ----------------------------------------------------------------------------------------------------\n",
            "2022-08-13 23:10:11,555 epoch 31 - iter 120/1205 - loss 0.06436439 - samples/sec: 321.86 - lr: 0.050000\n",
            "2022-08-13 23:10:23,608 epoch 31 - iter 240/1205 - loss 0.06453710 - samples/sec: 318.87 - lr: 0.050000\n",
            "2022-08-13 23:10:35,624 epoch 31 - iter 360/1205 - loss 0.06415744 - samples/sec: 319.88 - lr: 0.050000\n",
            "2022-08-13 23:10:47,703 epoch 31 - iter 480/1205 - loss 0.06460287 - samples/sec: 318.19 - lr: 0.050000\n",
            "2022-08-13 23:10:59,610 epoch 31 - iter 600/1205 - loss 0.06394054 - samples/sec: 322.83 - lr: 0.050000\n",
            "2022-08-13 23:11:11,570 epoch 31 - iter 720/1205 - loss 0.06398803 - samples/sec: 321.38 - lr: 0.050000\n",
            "2022-08-13 23:11:23,792 epoch 31 - iter 840/1205 - loss 0.06385394 - samples/sec: 314.48 - lr: 0.050000\n",
            "2022-08-13 23:11:35,675 epoch 31 - iter 960/1205 - loss 0.06354068 - samples/sec: 323.43 - lr: 0.050000\n",
            "2022-08-13 23:11:47,499 epoch 31 - iter 1080/1205 - loss 0.06370226 - samples/sec: 325.08 - lr: 0.050000\n",
            "2022-08-13 23:11:59,621 epoch 31 - iter 1200/1205 - loss 0.06384793 - samples/sec: 317.07 - lr: 0.050000\n",
            "2022-08-13 23:12:00,101 ----------------------------------------------------------------------------------------------------\n",
            "2022-08-13 23:12:00,103 EPOCH 31 done: loss 0.0638 - lr 0.050000\n"
          ]
        },
        {
          "name": "stderr",
          "output_type": "stream",
          "text": [
            "100%|██████████| 150/150 [00:20<00:00,  7.30it/s]"
          ]
        },
        {
          "name": "stdout",
          "output_type": "stream",
          "text": [
            "2022-08-13 23:12:20,707 Evaluating as a multi-label problem: False\n"
          ]
        },
        {
          "name": "stderr",
          "output_type": "stream",
          "text": [
            "\n"
          ]
        },
        {
          "name": "stdout",
          "output_type": "stream",
          "text": [
            "2022-08-13 23:12:20,799 DEV : loss 0.05682947859168053 - f1-score (micro avg)  0.8619\n",
            "2022-08-13 23:12:21,601 BAD EPOCHS (no improvement): 0\n",
            "2022-08-13 23:12:21,606 saving best model\n",
            "2022-08-13 23:12:23,246 ----------------------------------------------------------------------------------------------------\n",
            "2022-08-13 23:12:35,601 epoch 32 - iter 120/1205 - loss 0.05983160 - samples/sec: 311.17 - lr: 0.050000\n",
            "2022-08-13 23:12:47,989 epoch 32 - iter 240/1205 - loss 0.06155893 - samples/sec: 310.29 - lr: 0.050000\n",
            "2022-08-13 23:13:00,005 epoch 32 - iter 360/1205 - loss 0.06180277 - samples/sec: 319.87 - lr: 0.050000\n",
            "2022-08-13 23:13:12,029 epoch 32 - iter 480/1205 - loss 0.06190072 - samples/sec: 319.64 - lr: 0.050000\n",
            "2022-08-13 23:13:24,015 epoch 32 - iter 600/1205 - loss 0.06172777 - samples/sec: 320.69 - lr: 0.050000\n",
            "2022-08-13 23:13:36,179 epoch 32 - iter 720/1205 - loss 0.06184895 - samples/sec: 315.96 - lr: 0.050000\n",
            "2022-08-13 23:13:48,344 epoch 32 - iter 840/1205 - loss 0.06177053 - samples/sec: 315.97 - lr: 0.050000\n",
            "2022-08-13 23:14:00,327 epoch 32 - iter 960/1205 - loss 0.06148692 - samples/sec: 320.76 - lr: 0.050000\n",
            "2022-08-13 23:14:12,161 epoch 32 - iter 1080/1205 - loss 0.06189820 - samples/sec: 324.79 - lr: 0.050000\n",
            "2022-08-13 23:14:24,250 epoch 32 - iter 1200/1205 - loss 0.06188035 - samples/sec: 317.97 - lr: 0.050000\n",
            "2022-08-13 23:14:24,712 ----------------------------------------------------------------------------------------------------\n",
            "2022-08-13 23:14:24,714 EPOCH 32 done: loss 0.0619 - lr 0.050000\n"
          ]
        },
        {
          "name": "stderr",
          "output_type": "stream",
          "text": [
            "100%|██████████| 150/150 [00:20<00:00,  7.22it/s]"
          ]
        },
        {
          "name": "stdout",
          "output_type": "stream",
          "text": [
            "2022-08-13 23:14:45,545 Evaluating as a multi-label problem: False\n"
          ]
        },
        {
          "name": "stderr",
          "output_type": "stream",
          "text": [
            "\n"
          ]
        },
        {
          "name": "stdout",
          "output_type": "stream",
          "text": [
            "2022-08-13 23:14:45,636 DEV : loss 0.056430552154779434 - f1-score (micro avg)  0.8616\n",
            "2022-08-13 23:14:46,456 BAD EPOCHS (no improvement): 1\n",
            "2022-08-13 23:14:46,460 ----------------------------------------------------------------------------------------------------\n",
            "2022-08-13 23:14:58,452 epoch 33 - iter 120/1205 - loss 0.06184552 - samples/sec: 320.58 - lr: 0.050000\n",
            "2022-08-13 23:15:10,244 epoch 33 - iter 240/1205 - loss 0.06063365 - samples/sec: 325.95 - lr: 0.050000\n",
            "2022-08-13 23:15:22,276 epoch 33 - iter 360/1205 - loss 0.06026384 - samples/sec: 319.44 - lr: 0.050000\n",
            "2022-08-13 23:15:34,329 epoch 33 - iter 480/1205 - loss 0.06064444 - samples/sec: 318.88 - lr: 0.050000\n",
            "2022-08-13 23:15:46,181 epoch 33 - iter 600/1205 - loss 0.06078922 - samples/sec: 324.28 - lr: 0.050000\n",
            "2022-08-13 23:15:58,165 epoch 33 - iter 720/1205 - loss 0.06112520 - samples/sec: 320.74 - lr: 0.050000\n",
            "2022-08-13 23:16:10,044 epoch 33 - iter 840/1205 - loss 0.06110686 - samples/sec: 323.54 - lr: 0.050000\n",
            "2022-08-13 23:16:24,898 epoch 33 - iter 960/1205 - loss 0.06123769 - samples/sec: 258.71 - lr: 0.050000\n",
            "2022-08-13 23:16:37,023 epoch 33 - iter 1080/1205 - loss 0.06139455 - samples/sec: 317.03 - lr: 0.050000\n",
            "2022-08-13 23:16:49,177 epoch 33 - iter 1200/1205 - loss 0.06141660 - samples/sec: 316.23 - lr: 0.050000\n",
            "2022-08-13 23:16:49,672 ----------------------------------------------------------------------------------------------------\n",
            "2022-08-13 23:16:49,674 EPOCH 33 done: loss 0.0614 - lr 0.050000\n"
          ]
        },
        {
          "name": "stderr",
          "output_type": "stream",
          "text": [
            "100%|██████████| 150/150 [00:20<00:00,  7.31it/s]"
          ]
        },
        {
          "name": "stdout",
          "output_type": "stream",
          "text": [
            "2022-08-13 23:17:10,235 Evaluating as a multi-label problem: False\n"
          ]
        },
        {
          "name": "stderr",
          "output_type": "stream",
          "text": [
            "\n"
          ]
        },
        {
          "name": "stdout",
          "output_type": "stream",
          "text": [
            "2022-08-13 23:17:10,335 DEV : loss 0.056281279772520065 - f1-score (micro avg)  0.8599\n",
            "2022-08-13 23:17:11,157 BAD EPOCHS (no improvement): 2\n",
            "2022-08-13 23:17:11,162 ----------------------------------------------------------------------------------------------------\n",
            "2022-08-13 23:17:23,321 epoch 34 - iter 120/1205 - loss 0.06215853 - samples/sec: 316.20 - lr: 0.050000\n",
            "2022-08-13 23:17:35,243 epoch 34 - iter 240/1205 - loss 0.06048609 - samples/sec: 322.39 - lr: 0.050000\n",
            "2022-08-13 23:17:47,086 epoch 34 - iter 360/1205 - loss 0.06102750 - samples/sec: 324.56 - lr: 0.050000\n",
            "2022-08-13 23:17:59,227 epoch 34 - iter 480/1205 - loss 0.06071620 - samples/sec: 316.58 - lr: 0.050000\n",
            "2022-08-13 23:18:11,705 epoch 34 - iter 600/1205 - loss 0.06059881 - samples/sec: 308.05 - lr: 0.050000\n",
            "2022-08-13 23:18:23,571 epoch 34 - iter 720/1205 - loss 0.06059760 - samples/sec: 323.90 - lr: 0.050000\n",
            "2022-08-13 23:18:35,611 epoch 34 - iter 840/1205 - loss 0.06095673 - samples/sec: 319.24 - lr: 0.050000\n",
            "2022-08-13 23:18:47,574 epoch 34 - iter 960/1205 - loss 0.06085672 - samples/sec: 321.30 - lr: 0.050000\n",
            "2022-08-13 23:18:59,460 epoch 34 - iter 1080/1205 - loss 0.06035397 - samples/sec: 323.38 - lr: 0.050000\n",
            "2022-08-13 23:19:11,354 epoch 34 - iter 1200/1205 - loss 0.06036832 - samples/sec: 323.17 - lr: 0.050000\n",
            "2022-08-13 23:19:11,860 ----------------------------------------------------------------------------------------------------\n",
            "2022-08-13 23:19:11,862 EPOCH 34 done: loss 0.0603 - lr 0.050000\n"
          ]
        },
        {
          "name": "stderr",
          "output_type": "stream",
          "text": [
            "100%|██████████| 150/150 [00:20<00:00,  7.28it/s]"
          ]
        },
        {
          "name": "stdout",
          "output_type": "stream",
          "text": [
            "2022-08-13 23:19:32,523 Evaluating as a multi-label problem: False\n"
          ]
        },
        {
          "name": "stderr",
          "output_type": "stream",
          "text": [
            "\n"
          ]
        },
        {
          "name": "stdout",
          "output_type": "stream",
          "text": [
            "2022-08-13 23:19:32,613 DEV : loss 0.05660238489508629 - f1-score (micro avg)  0.8586\n",
            "2022-08-13 23:19:33,421 BAD EPOCHS (no improvement): 3\n",
            "2022-08-13 23:19:33,425 ----------------------------------------------------------------------------------------------------\n",
            "2022-08-13 23:19:45,608 epoch 35 - iter 120/1205 - loss 0.06079828 - samples/sec: 315.56 - lr: 0.050000\n",
            "2022-08-13 23:19:57,601 epoch 35 - iter 240/1205 - loss 0.05905712 - samples/sec: 320.48 - lr: 0.050000\n",
            "2022-08-13 23:20:09,531 epoch 35 - iter 360/1205 - loss 0.05991871 - samples/sec: 322.18 - lr: 0.050000\n",
            "2022-08-13 23:20:21,414 epoch 35 - iter 480/1205 - loss 0.06011308 - samples/sec: 323.47 - lr: 0.050000\n",
            "2022-08-13 23:20:33,386 epoch 35 - iter 600/1205 - loss 0.06014597 - samples/sec: 321.03 - lr: 0.050000\n",
            "2022-08-13 23:20:45,530 epoch 35 - iter 720/1205 - loss 0.06023460 - samples/sec: 316.50 - lr: 0.050000\n",
            "2022-08-13 23:20:57,231 epoch 35 - iter 840/1205 - loss 0.05984598 - samples/sec: 328.50 - lr: 0.050000\n",
            "2022-08-13 23:21:09,287 epoch 35 - iter 960/1205 - loss 0.05982312 - samples/sec: 318.81 - lr: 0.050000\n",
            "2022-08-13 23:21:21,056 epoch 35 - iter 1080/1205 - loss 0.05978040 - samples/sec: 326.61 - lr: 0.050000\n",
            "2022-08-13 23:21:33,085 epoch 35 - iter 1200/1205 - loss 0.05992843 - samples/sec: 319.55 - lr: 0.050000\n",
            "2022-08-13 23:21:33,583 ----------------------------------------------------------------------------------------------------\n",
            "2022-08-13 23:21:33,586 EPOCH 35 done: loss 0.0599 - lr 0.050000\n"
          ]
        },
        {
          "name": "stderr",
          "output_type": "stream",
          "text": [
            "100%|██████████| 150/150 [00:23<00:00,  6.41it/s]"
          ]
        },
        {
          "name": "stdout",
          "output_type": "stream",
          "text": [
            "2022-08-13 23:21:57,036 Evaluating as a multi-label problem: False\n"
          ]
        },
        {
          "name": "stderr",
          "output_type": "stream",
          "text": [
            "\n"
          ]
        },
        {
          "name": "stdout",
          "output_type": "stream",
          "text": [
            "2022-08-13 23:21:57,129 DEV : loss 0.0574820339679718 - f1-score (micro avg)  0.8613\n",
            "2022-08-13 23:21:57,949 Epoch    10: reducing learning rate of group 0 to 2.5000e-02.\n",
            "2022-08-13 23:21:57,951 BAD EPOCHS (no improvement): 4\n",
            "2022-08-13 23:21:57,956 ----------------------------------------------------------------------------------------------------\n",
            "2022-08-13 23:22:10,103 epoch 36 - iter 120/1205 - loss 0.05891318 - samples/sec: 316.48 - lr: 0.025000\n",
            "2022-08-13 23:22:22,050 epoch 36 - iter 240/1205 - loss 0.05889842 - samples/sec: 321.74 - lr: 0.025000\n",
            "2022-08-13 23:22:34,086 epoch 36 - iter 360/1205 - loss 0.05907104 - samples/sec: 319.35 - lr: 0.025000\n",
            "2022-08-13 23:22:46,029 epoch 36 - iter 480/1205 - loss 0.05832728 - samples/sec: 321.84 - lr: 0.025000\n",
            "2022-08-13 23:22:57,699 epoch 36 - iter 600/1205 - loss 0.05799715 - samples/sec: 329.35 - lr: 0.025000\n",
            "2022-08-13 23:23:09,661 epoch 36 - iter 720/1205 - loss 0.05809920 - samples/sec: 321.34 - lr: 0.025000\n",
            "2022-08-13 23:23:21,553 epoch 36 - iter 840/1205 - loss 0.05807301 - samples/sec: 323.20 - lr: 0.025000\n",
            "2022-08-13 23:23:33,394 epoch 36 - iter 960/1205 - loss 0.05811498 - samples/sec: 324.61 - lr: 0.025000\n",
            "2022-08-13 23:23:45,453 epoch 36 - iter 1080/1205 - loss 0.05802374 - samples/sec: 318.72 - lr: 0.025000\n",
            "2022-08-13 23:23:57,546 epoch 36 - iter 1200/1205 - loss 0.05800533 - samples/sec: 317.84 - lr: 0.025000\n",
            "2022-08-13 23:23:58,035 ----------------------------------------------------------------------------------------------------\n",
            "2022-08-13 23:23:58,037 EPOCH 36 done: loss 0.0581 - lr 0.025000\n"
          ]
        },
        {
          "name": "stderr",
          "output_type": "stream",
          "text": [
            "100%|██████████| 150/150 [00:20<00:00,  7.29it/s]"
          ]
        },
        {
          "name": "stdout",
          "output_type": "stream",
          "text": [
            "2022-08-13 23:24:18,650 Evaluating as a multi-label problem: False\n"
          ]
        },
        {
          "name": "stderr",
          "output_type": "stream",
          "text": [
            "\n"
          ]
        },
        {
          "name": "stdout",
          "output_type": "stream",
          "text": [
            "2022-08-13 23:24:18,740 DEV : loss 0.056199561804533005 - f1-score (micro avg)  0.861\n",
            "2022-08-13 23:24:19,541 BAD EPOCHS (no improvement): 1\n",
            "2022-08-13 23:24:19,547 ----------------------------------------------------------------------------------------------------\n",
            "2022-08-13 23:24:31,781 epoch 37 - iter 120/1205 - loss 0.05395620 - samples/sec: 314.26 - lr: 0.025000\n",
            "2022-08-13 23:24:43,774 epoch 37 - iter 240/1205 - loss 0.05590122 - samples/sec: 320.48 - lr: 0.025000\n",
            "2022-08-13 23:24:55,663 epoch 37 - iter 360/1205 - loss 0.05659278 - samples/sec: 323.29 - lr: 0.025000\n",
            "2022-08-13 23:25:07,629 epoch 37 - iter 480/1205 - loss 0.05662919 - samples/sec: 321.21 - lr: 0.025000\n",
            "2022-08-13 23:25:19,577 epoch 37 - iter 600/1205 - loss 0.05680937 - samples/sec: 321.71 - lr: 0.025000\n",
            "2022-08-13 23:25:31,713 epoch 37 - iter 720/1205 - loss 0.05729461 - samples/sec: 316.70 - lr: 0.025000\n",
            "2022-08-13 23:25:43,649 epoch 37 - iter 840/1205 - loss 0.05723797 - samples/sec: 322.02 - lr: 0.025000\n",
            "2022-08-13 23:25:56,039 epoch 37 - iter 960/1205 - loss 0.05725456 - samples/sec: 310.22 - lr: 0.025000\n",
            "2022-08-13 23:26:07,855 epoch 37 - iter 1080/1205 - loss 0.05729843 - samples/sec: 325.28 - lr: 0.025000\n",
            "2022-08-13 23:26:19,882 epoch 37 - iter 1200/1205 - loss 0.05733581 - samples/sec: 319.60 - lr: 0.025000\n",
            "2022-08-13 23:26:20,347 ----------------------------------------------------------------------------------------------------\n",
            "2022-08-13 23:26:20,349 EPOCH 37 done: loss 0.0573 - lr 0.025000\n"
          ]
        },
        {
          "name": "stderr",
          "output_type": "stream",
          "text": [
            "100%|██████████| 150/150 [00:20<00:00,  7.28it/s]"
          ]
        },
        {
          "name": "stdout",
          "output_type": "stream",
          "text": [
            "2022-08-13 23:26:41,016 Evaluating as a multi-label problem: False\n"
          ]
        },
        {
          "name": "stderr",
          "output_type": "stream",
          "text": [
            "\n"
          ]
        },
        {
          "name": "stdout",
          "output_type": "stream",
          "text": [
            "2022-08-13 23:26:41,105 DEV : loss 0.05601949244737625 - f1-score (micro avg)  0.8588\n",
            "2022-08-13 23:26:41,922 BAD EPOCHS (no improvement): 2\n",
            "2022-08-13 23:26:41,927 ----------------------------------------------------------------------------------------------------\n",
            "2022-08-13 23:26:54,016 epoch 38 - iter 120/1205 - loss 0.05504138 - samples/sec: 317.99 - lr: 0.025000\n",
            "2022-08-13 23:27:05,771 epoch 38 - iter 240/1205 - loss 0.05622719 - samples/sec: 327.00 - lr: 0.025000\n",
            "2022-08-13 23:27:17,935 epoch 38 - iter 360/1205 - loss 0.05622266 - samples/sec: 315.99 - lr: 0.025000\n",
            "2022-08-13 23:27:29,852 epoch 38 - iter 480/1205 - loss 0.05654703 - samples/sec: 322.53 - lr: 0.025000\n",
            "2022-08-13 23:27:41,757 epoch 38 - iter 600/1205 - loss 0.05659587 - samples/sec: 322.84 - lr: 0.025000\n",
            "2022-08-13 23:27:53,898 epoch 38 - iter 720/1205 - loss 0.05699087 - samples/sec: 316.58 - lr: 0.025000\n",
            "2022-08-13 23:28:06,076 epoch 38 - iter 840/1205 - loss 0.05720460 - samples/sec: 315.63 - lr: 0.025000\n",
            "2022-08-13 23:28:17,767 epoch 38 - iter 960/1205 - loss 0.05693250 - samples/sec: 328.76 - lr: 0.025000\n",
            "2022-08-13 23:28:29,653 epoch 38 - iter 1080/1205 - loss 0.05676890 - samples/sec: 323.38 - lr: 0.025000\n",
            "2022-08-13 23:28:44,783 epoch 38 - iter 1200/1205 - loss 0.05681947 - samples/sec: 253.98 - lr: 0.025000\n",
            "2022-08-13 23:28:45,289 ----------------------------------------------------------------------------------------------------\n",
            "2022-08-13 23:28:45,291 EPOCH 38 done: loss 0.0568 - lr 0.025000\n"
          ]
        },
        {
          "name": "stderr",
          "output_type": "stream",
          "text": [
            "100%|██████████| 150/150 [00:20<00:00,  7.28it/s]"
          ]
        },
        {
          "name": "stdout",
          "output_type": "stream",
          "text": [
            "2022-08-13 23:29:05,938 Evaluating as a multi-label problem: False\n"
          ]
        },
        {
          "name": "stderr",
          "output_type": "stream",
          "text": [
            "\n"
          ]
        },
        {
          "name": "stdout",
          "output_type": "stream",
          "text": [
            "2022-08-13 23:29:06,027 DEV : loss 0.056344036012887955 - f1-score (micro avg)  0.8614\n",
            "2022-08-13 23:29:06,836 BAD EPOCHS (no improvement): 3\n",
            "2022-08-13 23:29:06,841 ----------------------------------------------------------------------------------------------------\n",
            "2022-08-13 23:29:19,007 epoch 39 - iter 120/1205 - loss 0.05625225 - samples/sec: 315.98 - lr: 0.025000\n",
            "2022-08-13 23:29:30,913 epoch 39 - iter 240/1205 - loss 0.05578992 - samples/sec: 322.82 - lr: 0.025000\n",
            "2022-08-13 23:29:42,868 epoch 39 - iter 360/1205 - loss 0.05570076 - samples/sec: 321.52 - lr: 0.025000\n",
            "2022-08-13 23:29:54,945 epoch 39 - iter 480/1205 - loss 0.05555047 - samples/sec: 318.23 - lr: 0.025000\n",
            "2022-08-13 23:30:06,983 epoch 39 - iter 600/1205 - loss 0.05625111 - samples/sec: 319.28 - lr: 0.025000\n",
            "2022-08-13 23:30:19,151 epoch 39 - iter 720/1205 - loss 0.05611179 - samples/sec: 315.87 - lr: 0.025000\n",
            "2022-08-13 23:30:30,991 epoch 39 - iter 840/1205 - loss 0.05655041 - samples/sec: 324.62 - lr: 0.025000\n",
            "2022-08-13 23:30:42,960 epoch 39 - iter 960/1205 - loss 0.05642280 - samples/sec: 321.14 - lr: 0.025000\n",
            "2022-08-13 23:30:54,752 epoch 39 - iter 1080/1205 - loss 0.05630227 - samples/sec: 325.98 - lr: 0.025000\n",
            "2022-08-13 23:31:06,781 epoch 39 - iter 1200/1205 - loss 0.05663274 - samples/sec: 319.53 - lr: 0.025000\n",
            "2022-08-13 23:31:07,261 ----------------------------------------------------------------------------------------------------\n",
            "2022-08-13 23:31:07,263 EPOCH 39 done: loss 0.0566 - lr 0.025000\n"
          ]
        },
        {
          "name": "stderr",
          "output_type": "stream",
          "text": [
            "100%|██████████| 150/150 [00:20<00:00,  7.34it/s]"
          ]
        },
        {
          "name": "stdout",
          "output_type": "stream",
          "text": [
            "2022-08-13 23:31:27,741 Evaluating as a multi-label problem: False\n"
          ]
        },
        {
          "name": "stderr",
          "output_type": "stream",
          "text": [
            "\n"
          ]
        },
        {
          "name": "stdout",
          "output_type": "stream",
          "text": [
            "2022-08-13 23:31:27,834 DEV : loss 0.05603581666946411 - f1-score (micro avg)  0.8616\n",
            "2022-08-13 23:31:28,684 Epoch    14: reducing learning rate of group 0 to 1.2500e-02.\n",
            "2022-08-13 23:31:28,686 BAD EPOCHS (no improvement): 4\n",
            "2022-08-13 23:31:28,689 ----------------------------------------------------------------------------------------------------\n",
            "2022-08-13 23:31:40,483 epoch 40 - iter 120/1205 - loss 0.05556421 - samples/sec: 325.98 - lr: 0.012500\n",
            "2022-08-13 23:31:52,441 epoch 40 - iter 240/1205 - loss 0.05646688 - samples/sec: 321.42 - lr: 0.012500\n",
            "2022-08-13 23:32:04,528 epoch 40 - iter 360/1205 - loss 0.05503671 - samples/sec: 317.99 - lr: 0.012500\n",
            "2022-08-13 23:32:16,539 epoch 40 - iter 480/1205 - loss 0.05551143 - samples/sec: 320.02 - lr: 0.012500\n",
            "2022-08-13 23:32:28,496 epoch 40 - iter 600/1205 - loss 0.05548015 - samples/sec: 321.45 - lr: 0.012500\n",
            "2022-08-13 23:32:40,505 epoch 40 - iter 720/1205 - loss 0.05560426 - samples/sec: 320.05 - lr: 0.012500\n",
            "2022-08-13 23:32:52,210 epoch 40 - iter 840/1205 - loss 0.05564216 - samples/sec: 328.40 - lr: 0.012500\n",
            "2022-08-13 23:33:03,988 epoch 40 - iter 960/1205 - loss 0.05567850 - samples/sec: 326.32 - lr: 0.012500\n",
            "2022-08-13 23:33:15,907 epoch 40 - iter 1080/1205 - loss 0.05553404 - samples/sec: 322.46 - lr: 0.012500\n",
            "2022-08-13 23:33:27,910 epoch 40 - iter 1200/1205 - loss 0.05522878 - samples/sec: 320.20 - lr: 0.012500\n",
            "2022-08-13 23:33:28,413 ----------------------------------------------------------------------------------------------------\n",
            "2022-08-13 23:33:28,415 EPOCH 40 done: loss 0.0553 - lr 0.012500\n"
          ]
        },
        {
          "name": "stderr",
          "output_type": "stream",
          "text": [
            "100%|██████████| 150/150 [00:23<00:00,  6.39it/s]"
          ]
        },
        {
          "name": "stdout",
          "output_type": "stream",
          "text": [
            "2022-08-13 23:33:51,954 Evaluating as a multi-label problem: False\n"
          ]
        },
        {
          "name": "stderr",
          "output_type": "stream",
          "text": [
            "\n"
          ]
        },
        {
          "name": "stdout",
          "output_type": "stream",
          "text": [
            "2022-08-13 23:33:52,046 DEV : loss 0.056239236146211624 - f1-score (micro avg)  0.8619\n",
            "2022-08-13 23:33:52,862 BAD EPOCHS (no improvement): 0\n",
            "2022-08-13 23:33:52,867 saving best model\n",
            "2022-08-13 23:33:54,383 ----------------------------------------------------------------------------------------------------\n",
            "2022-08-13 23:34:06,549 epoch 41 - iter 120/1205 - loss 0.05367227 - samples/sec: 315.98 - lr: 0.012500\n",
            "2022-08-13 23:34:18,758 epoch 41 - iter 240/1205 - loss 0.05452509 - samples/sec: 314.84 - lr: 0.012500\n",
            "2022-08-13 23:34:30,596 epoch 41 - iter 360/1205 - loss 0.05460079 - samples/sec: 324.67 - lr: 0.012500\n",
            "2022-08-13 23:34:42,535 epoch 41 - iter 480/1205 - loss 0.05489496 - samples/sec: 321.93 - lr: 0.012500\n",
            "2022-08-13 23:34:54,536 epoch 41 - iter 600/1205 - loss 0.05501514 - samples/sec: 320.28 - lr: 0.012500\n",
            "2022-08-13 23:35:05,984 epoch 41 - iter 720/1205 - loss 0.05489070 - samples/sec: 335.75 - lr: 0.012500\n",
            "2022-08-13 23:35:17,763 epoch 41 - iter 840/1205 - loss 0.05483982 - samples/sec: 326.32 - lr: 0.012500\n",
            "2022-08-13 23:35:29,586 epoch 41 - iter 960/1205 - loss 0.05501206 - samples/sec: 325.10 - lr: 0.012500\n",
            "2022-08-13 23:35:41,703 epoch 41 - iter 1080/1205 - loss 0.05517446 - samples/sec: 317.19 - lr: 0.012500\n",
            "2022-08-13 23:35:53,676 epoch 41 - iter 1200/1205 - loss 0.05505191 - samples/sec: 321.05 - lr: 0.012500\n",
            "2022-08-13 23:35:54,171 ----------------------------------------------------------------------------------------------------\n",
            "2022-08-13 23:35:54,173 EPOCH 41 done: loss 0.0550 - lr 0.012500\n"
          ]
        },
        {
          "name": "stderr",
          "output_type": "stream",
          "text": [
            "100%|██████████| 150/150 [00:20<00:00,  7.41it/s]"
          ]
        },
        {
          "name": "stdout",
          "output_type": "stream",
          "text": [
            "2022-08-13 23:36:14,472 Evaluating as a multi-label problem: False\n"
          ]
        },
        {
          "name": "stderr",
          "output_type": "stream",
          "text": [
            "\n"
          ]
        },
        {
          "name": "stdout",
          "output_type": "stream",
          "text": [
            "2022-08-13 23:36:14,563 DEV : loss 0.056075990200042725 - f1-score (micro avg)  0.8605\n",
            "2022-08-13 23:36:15,379 BAD EPOCHS (no improvement): 1\n",
            "2022-08-13 23:36:15,384 ----------------------------------------------------------------------------------------------------\n",
            "2022-08-13 23:36:27,399 epoch 42 - iter 120/1205 - loss 0.05334070 - samples/sec: 319.97 - lr: 0.012500\n",
            "2022-08-13 23:36:39,350 epoch 42 - iter 240/1205 - loss 0.05511891 - samples/sec: 321.61 - lr: 0.012500\n",
            "2022-08-13 23:36:51,285 epoch 42 - iter 360/1205 - loss 0.05476999 - samples/sec: 322.04 - lr: 0.012500\n",
            "2022-08-13 23:37:03,383 epoch 42 - iter 480/1205 - loss 0.05465212 - samples/sec: 317.69 - lr: 0.012500\n",
            "2022-08-13 23:37:15,210 epoch 42 - iter 600/1205 - loss 0.05477276 - samples/sec: 324.97 - lr: 0.012500\n",
            "2022-08-13 23:37:27,124 epoch 42 - iter 720/1205 - loss 0.05469504 - samples/sec: 322.61 - lr: 0.012500\n",
            "2022-08-13 23:37:39,053 epoch 42 - iter 840/1205 - loss 0.05502809 - samples/sec: 322.21 - lr: 0.012500\n",
            "2022-08-13 23:37:50,815 epoch 42 - iter 960/1205 - loss 0.05463083 - samples/sec: 326.78 - lr: 0.012500\n",
            "2022-08-13 23:38:02,574 epoch 42 - iter 1080/1205 - loss 0.05474046 - samples/sec: 326.86 - lr: 0.012500\n",
            "2022-08-13 23:38:14,422 epoch 42 - iter 1200/1205 - loss 0.05487675 - samples/sec: 324.40 - lr: 0.012500\n",
            "2022-08-13 23:38:14,939 ----------------------------------------------------------------------------------------------------\n",
            "2022-08-13 23:38:14,940 EPOCH 42 done: loss 0.0549 - lr 0.012500\n"
          ]
        },
        {
          "name": "stderr",
          "output_type": "stream",
          "text": [
            "100%|██████████| 150/150 [00:20<00:00,  7.34it/s]"
          ]
        },
        {
          "name": "stdout",
          "output_type": "stream",
          "text": [
            "2022-08-13 23:38:35,416 Evaluating as a multi-label problem: False\n"
          ]
        },
        {
          "name": "stderr",
          "output_type": "stream",
          "text": [
            "\n"
          ]
        },
        {
          "name": "stdout",
          "output_type": "stream",
          "text": [
            "2022-08-13 23:38:35,510 DEV : loss 0.0563606359064579 - f1-score (micro avg)  0.8621\n",
            "2022-08-13 23:38:36,349 BAD EPOCHS (no improvement): 0\n",
            "2022-08-13 23:38:36,353 saving best model\n",
            "2022-08-13 23:38:37,866 ----------------------------------------------------------------------------------------------------\n",
            "2022-08-13 23:38:49,990 epoch 43 - iter 120/1205 - loss 0.05496264 - samples/sec: 317.11 - lr: 0.012500\n",
            "2022-08-13 23:39:01,825 epoch 43 - iter 240/1205 - loss 0.05427414 - samples/sec: 324.77 - lr: 0.012500\n",
            "2022-08-13 23:39:13,648 epoch 43 - iter 360/1205 - loss 0.05445424 - samples/sec: 325.10 - lr: 0.012500\n",
            "2022-08-13 23:39:25,581 epoch 43 - iter 480/1205 - loss 0.05423819 - samples/sec: 322.09 - lr: 0.012500\n",
            "2022-08-13 23:39:37,552 epoch 43 - iter 600/1205 - loss 0.05439885 - samples/sec: 321.07 - lr: 0.012500\n",
            "2022-08-13 23:39:49,388 epoch 43 - iter 720/1205 - loss 0.05444234 - samples/sec: 324.76 - lr: 0.012500\n",
            "2022-08-13 23:40:01,442 epoch 43 - iter 840/1205 - loss 0.05435944 - samples/sec: 318.85 - lr: 0.012500\n",
            "2022-08-13 23:40:13,516 epoch 43 - iter 960/1205 - loss 0.05438059 - samples/sec: 318.33 - lr: 0.012500\n",
            "2022-08-13 23:40:25,378 epoch 43 - iter 1080/1205 - loss 0.05429248 - samples/sec: 324.05 - lr: 0.012500\n",
            "2022-08-13 23:40:37,259 epoch 43 - iter 1200/1205 - loss 0.05415526 - samples/sec: 323.52 - lr: 0.012500\n",
            "2022-08-13 23:40:37,793 ----------------------------------------------------------------------------------------------------\n",
            "2022-08-13 23:40:37,795 EPOCH 43 done: loss 0.0541 - lr 0.012500\n"
          ]
        },
        {
          "name": "stderr",
          "output_type": "stream",
          "text": [
            "100%|██████████| 150/150 [00:23<00:00,  6.37it/s]"
          ]
        },
        {
          "name": "stdout",
          "output_type": "stream",
          "text": [
            "2022-08-13 23:41:01,392 Evaluating as a multi-label problem: False\n"
          ]
        },
        {
          "name": "stderr",
          "output_type": "stream",
          "text": [
            "\n"
          ]
        },
        {
          "name": "stdout",
          "output_type": "stream",
          "text": [
            "2022-08-13 23:41:01,483 DEV : loss 0.055976249277591705 - f1-score (micro avg)  0.8633\n",
            "2022-08-13 23:41:02,300 BAD EPOCHS (no improvement): 0\n",
            "2022-08-13 23:41:02,305 saving best model\n",
            "2022-08-13 23:41:03,760 ----------------------------------------------------------------------------------------------------\n",
            "2022-08-13 23:41:15,783 epoch 44 - iter 120/1205 - loss 0.05527404 - samples/sec: 319.77 - lr: 0.012500\n",
            "2022-08-13 23:41:27,794 epoch 44 - iter 240/1205 - loss 0.05508395 - samples/sec: 320.01 - lr: 0.012500\n",
            "2022-08-13 23:41:39,536 epoch 44 - iter 360/1205 - loss 0.05426492 - samples/sec: 327.32 - lr: 0.012500\n",
            "2022-08-13 23:41:51,165 epoch 44 - iter 480/1205 - loss 0.05428498 - samples/sec: 330.52 - lr: 0.012500\n",
            "2022-08-13 23:42:02,731 epoch 44 - iter 600/1205 - loss 0.05463457 - samples/sec: 332.33 - lr: 0.012500\n",
            "2022-08-13 23:42:14,610 epoch 44 - iter 720/1205 - loss 0.05395968 - samples/sec: 323.55 - lr: 0.012500\n",
            "2022-08-13 23:42:27,007 epoch 44 - iter 840/1205 - loss 0.05389048 - samples/sec: 310.05 - lr: 0.012500\n",
            "2022-08-13 23:42:39,048 epoch 44 - iter 960/1205 - loss 0.05404446 - samples/sec: 319.21 - lr: 0.012500\n",
            "2022-08-13 23:42:50,870 epoch 44 - iter 1080/1205 - loss 0.05406594 - samples/sec: 325.14 - lr: 0.012500\n",
            "2022-08-13 23:43:02,897 epoch 44 - iter 1200/1205 - loss 0.05425809 - samples/sec: 319.59 - lr: 0.012500\n",
            "2022-08-13 23:43:03,373 ----------------------------------------------------------------------------------------------------\n",
            "2022-08-13 23:43:03,375 EPOCH 44 done: loss 0.0542 - lr 0.012500\n"
          ]
        },
        {
          "name": "stderr",
          "output_type": "stream",
          "text": [
            "100%|██████████| 150/150 [00:20<00:00,  7.40it/s]"
          ]
        },
        {
          "name": "stdout",
          "output_type": "stream",
          "text": [
            "2022-08-13 23:43:23,695 Evaluating as a multi-label problem: False\n"
          ]
        },
        {
          "name": "stderr",
          "output_type": "stream",
          "text": [
            "\n"
          ]
        },
        {
          "name": "stdout",
          "output_type": "stream",
          "text": [
            "2022-08-13 23:43:23,788 DEV : loss 0.05601213499903679 - f1-score (micro avg)  0.8625\n",
            "2022-08-13 23:43:24,592 BAD EPOCHS (no improvement): 1\n",
            "2022-08-13 23:43:24,597 ----------------------------------------------------------------------------------------------------\n",
            "2022-08-13 23:43:36,588 epoch 45 - iter 120/1205 - loss 0.05219419 - samples/sec: 320.62 - lr: 0.012500\n",
            "2022-08-13 23:43:48,643 epoch 45 - iter 240/1205 - loss 0.05406156 - samples/sec: 318.81 - lr: 0.012500\n",
            "2022-08-13 23:44:00,559 epoch 45 - iter 360/1205 - loss 0.05439851 - samples/sec: 322.58 - lr: 0.012500\n",
            "2022-08-13 23:44:12,349 epoch 45 - iter 480/1205 - loss 0.05397033 - samples/sec: 326.01 - lr: 0.012500\n",
            "2022-08-13 23:44:23,960 epoch 45 - iter 600/1205 - loss 0.05411285 - samples/sec: 331.02 - lr: 0.012500\n",
            "2022-08-13 23:44:35,820 epoch 45 - iter 720/1205 - loss 0.05403063 - samples/sec: 324.10 - lr: 0.012500\n",
            "2022-08-13 23:44:47,492 epoch 45 - iter 840/1205 - loss 0.05368593 - samples/sec: 329.29 - lr: 0.012500\n",
            "2022-08-13 23:44:59,562 epoch 45 - iter 960/1205 - loss 0.05352264 - samples/sec: 318.45 - lr: 0.012500\n",
            "2022-08-13 23:45:11,626 epoch 45 - iter 1080/1205 - loss 0.05407018 - samples/sec: 318.62 - lr: 0.012500\n",
            "2022-08-13 23:45:23,515 epoch 45 - iter 1200/1205 - loss 0.05388624 - samples/sec: 323.26 - lr: 0.012500\n",
            "2022-08-13 23:45:23,998 ----------------------------------------------------------------------------------------------------\n",
            "2022-08-13 23:45:24,001 EPOCH 45 done: loss 0.0538 - lr 0.012500\n"
          ]
        },
        {
          "name": "stderr",
          "output_type": "stream",
          "text": [
            "100%|██████████| 150/150 [00:23<00:00,  6.43it/s]"
          ]
        },
        {
          "name": "stdout",
          "output_type": "stream",
          "text": [
            "2022-08-13 23:45:47,395 Evaluating as a multi-label problem: False\n"
          ]
        },
        {
          "name": "stderr",
          "output_type": "stream",
          "text": [
            "\n"
          ]
        },
        {
          "name": "stdout",
          "output_type": "stream",
          "text": [
            "2022-08-13 23:45:47,485 DEV : loss 0.056176744401454926 - f1-score (micro avg)  0.8636\n",
            "2022-08-13 23:45:48,317 BAD EPOCHS (no improvement): 0\n",
            "2022-08-13 23:45:48,322 saving best model\n",
            "2022-08-13 23:45:49,818 ----------------------------------------------------------------------------------------------------\n",
            "2022-08-13 23:46:01,970 epoch 46 - iter 120/1205 - loss 0.05745802 - samples/sec: 316.38 - lr: 0.012500\n",
            "2022-08-13 23:46:13,902 epoch 46 - iter 240/1205 - loss 0.05519725 - samples/sec: 322.12 - lr: 0.012500\n",
            "2022-08-13 23:46:25,800 epoch 46 - iter 360/1205 - loss 0.05487143 - samples/sec: 323.07 - lr: 0.012500\n",
            "2022-08-13 23:46:37,626 epoch 46 - iter 480/1205 - loss 0.05427822 - samples/sec: 325.01 - lr: 0.012500\n",
            "2022-08-13 23:46:49,465 epoch 46 - iter 600/1205 - loss 0.05408980 - samples/sec: 324.67 - lr: 0.012500\n",
            "2022-08-13 23:47:01,337 epoch 46 - iter 720/1205 - loss 0.05442475 - samples/sec: 323.75 - lr: 0.012500\n",
            "2022-08-13 23:47:13,193 epoch 46 - iter 840/1205 - loss 0.05411166 - samples/sec: 324.26 - lr: 0.012500\n",
            "2022-08-13 23:47:25,122 epoch 46 - iter 960/1205 - loss 0.05417548 - samples/sec: 322.21 - lr: 0.012500\n",
            "2022-08-13 23:47:37,457 epoch 46 - iter 1080/1205 - loss 0.05393286 - samples/sec: 311.61 - lr: 0.012500\n",
            "2022-08-13 23:47:49,178 epoch 46 - iter 1200/1205 - loss 0.05398411 - samples/sec: 327.91 - lr: 0.012500\n",
            "2022-08-13 23:47:49,677 ----------------------------------------------------------------------------------------------------\n",
            "2022-08-13 23:47:49,679 EPOCH 46 done: loss 0.0539 - lr 0.012500\n"
          ]
        },
        {
          "name": "stderr",
          "output_type": "stream",
          "text": [
            "100%|██████████| 150/150 [00:20<00:00,  7.25it/s]"
          ]
        },
        {
          "name": "stdout",
          "output_type": "stream",
          "text": [
            "2022-08-13 23:48:10,422 Evaluating as a multi-label problem: False\n"
          ]
        },
        {
          "name": "stderr",
          "output_type": "stream",
          "text": [
            "\n"
          ]
        },
        {
          "name": "stdout",
          "output_type": "stream",
          "text": [
            "2022-08-13 23:48:10,512 DEV : loss 0.05610853061079979 - f1-score (micro avg)  0.8624\n",
            "2022-08-13 23:48:11,419 BAD EPOCHS (no improvement): 1\n",
            "2022-08-13 23:48:11,424 ----------------------------------------------------------------------------------------------------\n",
            "2022-08-13 23:48:23,348 epoch 47 - iter 120/1205 - loss 0.05420806 - samples/sec: 322.39 - lr: 0.012500\n",
            "2022-08-13 23:48:35,432 epoch 47 - iter 240/1205 - loss 0.05394709 - samples/sec: 318.08 - lr: 0.012500\n",
            "2022-08-13 23:48:47,309 epoch 47 - iter 360/1205 - loss 0.05299920 - samples/sec: 323.62 - lr: 0.012500\n",
            "2022-08-13 23:48:59,360 epoch 47 - iter 480/1205 - loss 0.05293901 - samples/sec: 318.95 - lr: 0.012500\n",
            "2022-08-13 23:49:11,448 epoch 47 - iter 600/1205 - loss 0.05350696 - samples/sec: 317.95 - lr: 0.012500\n",
            "2022-08-13 23:49:23,215 epoch 47 - iter 720/1205 - loss 0.05358311 - samples/sec: 326.65 - lr: 0.012500\n",
            "2022-08-13 23:49:35,103 epoch 47 - iter 840/1205 - loss 0.05356917 - samples/sec: 323.32 - lr: 0.012500\n",
            "2022-08-13 23:49:47,049 epoch 47 - iter 960/1205 - loss 0.05363675 - samples/sec: 321.77 - lr: 0.012500\n",
            "2022-08-13 23:49:58,677 epoch 47 - iter 1080/1205 - loss 0.05372642 - samples/sec: 330.54 - lr: 0.012500\n",
            "2022-08-13 23:50:10,723 epoch 47 - iter 1200/1205 - loss 0.05381031 - samples/sec: 319.08 - lr: 0.012500\n",
            "2022-08-13 23:50:11,209 ----------------------------------------------------------------------------------------------------\n",
            "2022-08-13 23:50:11,210 EPOCH 47 done: loss 0.0538 - lr 0.012500\n"
          ]
        },
        {
          "name": "stderr",
          "output_type": "stream",
          "text": [
            "100%|██████████| 150/150 [00:20<00:00,  7.23it/s]"
          ]
        },
        {
          "name": "stdout",
          "output_type": "stream",
          "text": [
            "2022-08-13 23:50:32,002 Evaluating as a multi-label problem: False\n"
          ]
        },
        {
          "name": "stderr",
          "output_type": "stream",
          "text": [
            "\n"
          ]
        },
        {
          "name": "stdout",
          "output_type": "stream",
          "text": [
            "2022-08-13 23:50:32,090 DEV : loss 0.05592404305934906 - f1-score (micro avg)  0.8614\n",
            "2022-08-13 23:50:32,895 BAD EPOCHS (no improvement): 2\n",
            "2022-08-13 23:50:32,899 ----------------------------------------------------------------------------------------------------\n",
            "2022-08-13 23:50:44,735 epoch 48 - iter 120/1205 - loss 0.05199522 - samples/sec: 324.81 - lr: 0.012500\n",
            "2022-08-13 23:50:56,625 epoch 48 - iter 240/1205 - loss 0.05423687 - samples/sec: 323.25 - lr: 0.012500\n",
            "2022-08-13 23:51:08,459 epoch 48 - iter 360/1205 - loss 0.05407780 - samples/sec: 324.79 - lr: 0.012500\n",
            "2022-08-13 23:51:20,183 epoch 48 - iter 480/1205 - loss 0.05414263 - samples/sec: 327.84 - lr: 0.012500\n",
            "2022-08-13 23:51:32,076 epoch 48 - iter 600/1205 - loss 0.05397192 - samples/sec: 323.18 - lr: 0.012500\n",
            "2022-08-13 23:51:44,110 epoch 48 - iter 720/1205 - loss 0.05372220 - samples/sec: 319.38 - lr: 0.012500\n",
            "2022-08-13 23:51:55,979 epoch 48 - iter 840/1205 - loss 0.05375216 - samples/sec: 323.85 - lr: 0.012500\n",
            "2022-08-13 23:52:07,487 epoch 48 - iter 960/1205 - loss 0.05367021 - samples/sec: 334.01 - lr: 0.012500\n",
            "2022-08-13 23:52:19,219 epoch 48 - iter 1080/1205 - loss 0.05381085 - samples/sec: 327.61 - lr: 0.012500\n",
            "2022-08-13 23:52:30,924 epoch 48 - iter 1200/1205 - loss 0.05391549 - samples/sec: 328.38 - lr: 0.012500\n",
            "2022-08-13 23:52:31,421 ----------------------------------------------------------------------------------------------------\n",
            "2022-08-13 23:52:31,423 EPOCH 48 done: loss 0.0539 - lr 0.012500\n"
          ]
        },
        {
          "name": "stderr",
          "output_type": "stream",
          "text": [
            "100%|██████████| 150/150 [00:23<00:00,  6.45it/s]"
          ]
        },
        {
          "name": "stdout",
          "output_type": "stream",
          "text": [
            "2022-08-13 23:52:54,736 Evaluating as a multi-label problem: False\n"
          ]
        },
        {
          "name": "stderr",
          "output_type": "stream",
          "text": [
            "\n"
          ]
        },
        {
          "name": "stdout",
          "output_type": "stream",
          "text": [
            "2022-08-13 23:52:54,830 DEV : loss 0.055765118449926376 - f1-score (micro avg)  0.863\n",
            "2022-08-13 23:52:55,635 BAD EPOCHS (no improvement): 3\n",
            "2022-08-13 23:52:55,640 ----------------------------------------------------------------------------------------------------\n",
            "2022-08-13 23:53:07,592 epoch 49 - iter 120/1205 - loss 0.05370759 - samples/sec: 321.68 - lr: 0.012500\n",
            "2022-08-13 23:53:19,570 epoch 49 - iter 240/1205 - loss 0.05317475 - samples/sec: 320.87 - lr: 0.012500\n",
            "2022-08-13 23:53:31,311 epoch 49 - iter 360/1205 - loss 0.05390389 - samples/sec: 327.37 - lr: 0.012500\n",
            "2022-08-13 23:53:43,235 epoch 49 - iter 480/1205 - loss 0.05333406 - samples/sec: 322.34 - lr: 0.012500\n",
            "2022-08-13 23:53:54,940 epoch 49 - iter 600/1205 - loss 0.05353609 - samples/sec: 328.36 - lr: 0.012500\n",
            "2022-08-13 23:54:06,747 epoch 49 - iter 720/1205 - loss 0.05362067 - samples/sec: 325.54 - lr: 0.012500\n",
            "2022-08-13 23:54:18,397 epoch 49 - iter 840/1205 - loss 0.05360930 - samples/sec: 329.95 - lr: 0.012500\n",
            "2022-08-13 23:54:30,574 epoch 49 - iter 960/1205 - loss 0.05361244 - samples/sec: 315.64 - lr: 0.012500\n",
            "2022-08-13 23:54:42,567 epoch 49 - iter 1080/1205 - loss 0.05338436 - samples/sec: 320.51 - lr: 0.012500\n",
            "2022-08-13 23:54:54,360 epoch 49 - iter 1200/1205 - loss 0.05311152 - samples/sec: 325.92 - lr: 0.012500\n",
            "2022-08-13 23:54:54,843 ----------------------------------------------------------------------------------------------------\n",
            "2022-08-13 23:54:54,845 EPOCH 49 done: loss 0.0531 - lr 0.012500\n"
          ]
        },
        {
          "name": "stderr",
          "output_type": "stream",
          "text": [
            "100%|██████████| 150/150 [00:20<00:00,  7.35it/s]"
          ]
        },
        {
          "name": "stdout",
          "output_type": "stream",
          "text": [
            "2022-08-13 23:55:15,296 Evaluating as a multi-label problem: False\n"
          ]
        },
        {
          "name": "stderr",
          "output_type": "stream",
          "text": [
            "\n"
          ]
        },
        {
          "name": "stdout",
          "output_type": "stream",
          "text": [
            "2022-08-13 23:55:15,385 DEV : loss 0.056612640619277954 - f1-score (micro avg)  0.861\n",
            "2022-08-13 23:55:16,226 Epoch    24: reducing learning rate of group 0 to 6.2500e-03.\n",
            "2022-08-13 23:55:16,228 BAD EPOCHS (no improvement): 4\n",
            "2022-08-13 23:55:16,232 ----------------------------------------------------------------------------------------------------\n",
            "2022-08-13 23:55:28,381 epoch 50 - iter 120/1205 - loss 0.05604185 - samples/sec: 316.45 - lr: 0.006250\n",
            "2022-08-13 23:55:40,287 epoch 50 - iter 240/1205 - loss 0.05422348 - samples/sec: 322.84 - lr: 0.006250\n",
            "2022-08-13 23:55:52,378 epoch 50 - iter 360/1205 - loss 0.05367693 - samples/sec: 317.87 - lr: 0.006250\n",
            "2022-08-13 23:56:04,024 epoch 50 - iter 480/1205 - loss 0.05322917 - samples/sec: 330.03 - lr: 0.006250\n",
            "2022-08-13 23:56:16,078 epoch 50 - iter 600/1205 - loss 0.05333791 - samples/sec: 318.85 - lr: 0.006250\n",
            "2022-08-13 23:56:27,933 epoch 50 - iter 720/1205 - loss 0.05321018 - samples/sec: 324.23 - lr: 0.006250\n",
            "2022-08-13 23:56:39,880 epoch 50 - iter 840/1205 - loss 0.05314228 - samples/sec: 321.72 - lr: 0.006250\n",
            "2022-08-13 23:56:51,777 epoch 50 - iter 960/1205 - loss 0.05302785 - samples/sec: 323.10 - lr: 0.006250\n",
            "2022-08-13 23:57:03,920 epoch 50 - iter 1080/1205 - loss 0.05301406 - samples/sec: 316.54 - lr: 0.006250\n",
            "2022-08-13 23:57:16,155 epoch 50 - iter 1200/1205 - loss 0.05284224 - samples/sec: 314.15 - lr: 0.006250\n",
            "2022-08-13 23:57:16,620 ----------------------------------------------------------------------------------------------------\n",
            "2022-08-13 23:57:16,622 EPOCH 50 done: loss 0.0528 - lr 0.006250\n"
          ]
        },
        {
          "name": "stderr",
          "output_type": "stream",
          "text": [
            "100%|██████████| 150/150 [00:23<00:00,  6.39it/s]"
          ]
        },
        {
          "name": "stdout",
          "output_type": "stream",
          "text": [
            "2022-08-13 23:57:40,132 Evaluating as a multi-label problem: False\n"
          ]
        },
        {
          "name": "stderr",
          "output_type": "stream",
          "text": [
            "\n"
          ]
        },
        {
          "name": "stdout",
          "output_type": "stream",
          "text": [
            "2022-08-13 23:57:40,220 DEV : loss 0.056188300251960754 - f1-score (micro avg)  0.8623\n",
            "2022-08-13 23:57:41,017 BAD EPOCHS (no improvement): 1\n",
            "2022-08-13 23:57:41,022 ----------------------------------------------------------------------------------------------------\n",
            "2022-08-13 23:57:52,984 epoch 51 - iter 120/1205 - loss 0.05168657 - samples/sec: 321.39 - lr: 0.006250\n",
            "2022-08-13 23:58:04,760 epoch 51 - iter 240/1205 - loss 0.05163895 - samples/sec: 326.39 - lr: 0.006250\n",
            "2022-08-13 23:58:16,395 epoch 51 - iter 360/1205 - loss 0.05162049 - samples/sec: 330.36 - lr: 0.006250\n",
            "2022-08-13 23:58:28,242 epoch 51 - iter 480/1205 - loss 0.05178456 - samples/sec: 324.42 - lr: 0.006250\n",
            "2022-08-13 23:58:40,004 epoch 51 - iter 600/1205 - loss 0.05173227 - samples/sec: 326.77 - lr: 0.006250\n",
            "2022-08-13 23:58:51,799 epoch 51 - iter 720/1205 - loss 0.05199970 - samples/sec: 325.87 - lr: 0.006250\n",
            "2022-08-13 23:59:03,845 epoch 51 - iter 840/1205 - loss 0.05210191 - samples/sec: 319.09 - lr: 0.006250\n",
            "2022-08-13 23:59:15,700 epoch 51 - iter 960/1205 - loss 0.05227758 - samples/sec: 324.21 - lr: 0.006250\n",
            "2022-08-13 23:59:27,551 epoch 51 - iter 1080/1205 - loss 0.05241805 - samples/sec: 324.33 - lr: 0.006250\n",
            "2022-08-13 23:59:39,516 epoch 51 - iter 1200/1205 - loss 0.05234746 - samples/sec: 321.24 - lr: 0.006250\n",
            "2022-08-13 23:59:39,994 ----------------------------------------------------------------------------------------------------\n",
            "2022-08-13 23:59:39,996 EPOCH 51 done: loss 0.0523 - lr 0.006250\n"
          ]
        },
        {
          "name": "stderr",
          "output_type": "stream",
          "text": [
            "100%|██████████| 150/150 [00:20<00:00,  7.27it/s]"
          ]
        },
        {
          "name": "stdout",
          "output_type": "stream",
          "text": [
            "2022-08-14 00:00:00,685 Evaluating as a multi-label problem: False\n"
          ]
        },
        {
          "name": "stderr",
          "output_type": "stream",
          "text": [
            "\n"
          ]
        },
        {
          "name": "stdout",
          "output_type": "stream",
          "text": [
            "2022-08-14 00:00:00,775 DEV : loss 0.05630332976579666 - f1-score (micro avg)  0.8624\n",
            "2022-08-14 00:00:01,605 BAD EPOCHS (no improvement): 2\n",
            "2022-08-14 00:00:01,609 ----------------------------------------------------------------------------------------------------\n",
            "2022-08-14 00:00:13,634 epoch 52 - iter 120/1205 - loss 0.05275936 - samples/sec: 319.69 - lr: 0.006250\n",
            "2022-08-14 00:00:25,544 epoch 52 - iter 240/1205 - loss 0.05265220 - samples/sec: 322.72 - lr: 0.006250\n",
            "2022-08-14 00:00:37,763 epoch 52 - iter 360/1205 - loss 0.05215238 - samples/sec: 314.53 - lr: 0.006250\n",
            "2022-08-14 00:00:49,827 epoch 52 - iter 480/1205 - loss 0.05202250 - samples/sec: 318.60 - lr: 0.006250\n",
            "2022-08-14 00:01:01,762 epoch 52 - iter 600/1205 - loss 0.05274464 - samples/sec: 322.03 - lr: 0.006250\n",
            "2022-08-14 00:01:13,817 epoch 52 - iter 720/1205 - loss 0.05271116 - samples/sec: 318.86 - lr: 0.006250\n",
            "2022-08-14 00:01:25,581 epoch 52 - iter 840/1205 - loss 0.05272286 - samples/sec: 326.71 - lr: 0.006250\n",
            "2022-08-14 00:01:37,553 epoch 52 - iter 960/1205 - loss 0.05253958 - samples/sec: 321.08 - lr: 0.006250\n",
            "2022-08-14 00:01:49,434 epoch 52 - iter 1080/1205 - loss 0.05249366 - samples/sec: 323.50 - lr: 0.006250\n",
            "2022-08-14 00:02:01,139 epoch 52 - iter 1200/1205 - loss 0.05234155 - samples/sec: 328.38 - lr: 0.006250\n",
            "2022-08-14 00:02:01,596 ----------------------------------------------------------------------------------------------------\n",
            "2022-08-14 00:02:01,598 EPOCH 52 done: loss 0.0523 - lr 0.006250\n"
          ]
        },
        {
          "name": "stderr",
          "output_type": "stream",
          "text": [
            "100%|██████████| 150/150 [00:20<00:00,  7.49it/s]"
          ]
        },
        {
          "name": "stdout",
          "output_type": "stream",
          "text": [
            "2022-08-14 00:02:21,682 Evaluating as a multi-label problem: False\n"
          ]
        },
        {
          "name": "stderr",
          "output_type": "stream",
          "text": [
            "\n"
          ]
        },
        {
          "name": "stdout",
          "output_type": "stream",
          "text": [
            "2022-08-14 00:02:21,780 DEV : loss 0.05614962428808212 - f1-score (micro avg)  0.8628\n",
            "2022-08-14 00:02:22,578 BAD EPOCHS (no improvement): 3\n",
            "2022-08-14 00:02:22,583 ----------------------------------------------------------------------------------------------------\n",
            "2022-08-14 00:02:34,549 epoch 53 - iter 120/1205 - loss 0.05435650 - samples/sec: 321.26 - lr: 0.006250\n",
            "2022-08-14 00:02:46,669 epoch 53 - iter 240/1205 - loss 0.05328803 - samples/sec: 317.14 - lr: 0.006250\n",
            "2022-08-14 00:02:58,604 epoch 53 - iter 360/1205 - loss 0.05185621 - samples/sec: 322.02 - lr: 0.006250\n",
            "2022-08-14 00:03:10,628 epoch 53 - iter 480/1205 - loss 0.05252955 - samples/sec: 319.67 - lr: 0.006250\n",
            "2022-08-14 00:03:22,545 epoch 53 - iter 600/1205 - loss 0.05244178 - samples/sec: 322.52 - lr: 0.006250\n",
            "2022-08-14 00:03:34,091 epoch 53 - iter 720/1205 - loss 0.05230462 - samples/sec: 332.91 - lr: 0.006250\n",
            "2022-08-14 00:03:46,036 epoch 53 - iter 840/1205 - loss 0.05211067 - samples/sec: 321.74 - lr: 0.006250\n",
            "2022-08-14 00:03:58,003 epoch 53 - iter 960/1205 - loss 0.05205394 - samples/sec: 321.21 - lr: 0.006250\n",
            "2022-08-14 00:04:09,993 epoch 53 - iter 1080/1205 - loss 0.05202863 - samples/sec: 320.57 - lr: 0.006250\n",
            "2022-08-14 00:04:21,737 epoch 53 - iter 1200/1205 - loss 0.05205140 - samples/sec: 327.28 - lr: 0.006250\n",
            "2022-08-14 00:04:22,232 ----------------------------------------------------------------------------------------------------\n",
            "2022-08-14 00:04:22,234 EPOCH 53 done: loss 0.0521 - lr 0.006250\n"
          ]
        },
        {
          "name": "stderr",
          "output_type": "stream",
          "text": [
            "100%|██████████| 150/150 [00:23<00:00,  6.46it/s]"
          ]
        },
        {
          "name": "stdout",
          "output_type": "stream",
          "text": [
            "2022-08-14 00:04:45,492 Evaluating as a multi-label problem: False\n"
          ]
        },
        {
          "name": "stderr",
          "output_type": "stream",
          "text": [
            "\n"
          ]
        },
        {
          "name": "stdout",
          "output_type": "stream",
          "text": [
            "2022-08-14 00:04:45,582 DEV : loss 0.05610695108771324 - f1-score (micro avg)  0.8632\n",
            "2022-08-14 00:04:46,401 Epoch    28: reducing learning rate of group 0 to 3.1250e-03.\n",
            "2022-08-14 00:04:46,403 BAD EPOCHS (no improvement): 4\n",
            "2022-08-14 00:04:46,408 ----------------------------------------------------------------------------------------------------\n",
            "2022-08-14 00:04:58,384 epoch 54 - iter 120/1205 - loss 0.04997789 - samples/sec: 321.03 - lr: 0.003125\n",
            "2022-08-14 00:05:10,365 epoch 54 - iter 240/1205 - loss 0.05158875 - samples/sec: 320.80 - lr: 0.003125\n",
            "2022-08-14 00:05:22,138 epoch 54 - iter 360/1205 - loss 0.05156514 - samples/sec: 326.48 - lr: 0.003125\n",
            "2022-08-14 00:05:33,904 epoch 54 - iter 480/1205 - loss 0.05150815 - samples/sec: 326.66 - lr: 0.003125\n",
            "2022-08-14 00:05:46,203 epoch 54 - iter 600/1205 - loss 0.05144930 - samples/sec: 312.50 - lr: 0.003125\n",
            "2022-08-14 00:05:58,131 epoch 54 - iter 720/1205 - loss 0.05181786 - samples/sec: 322.22 - lr: 0.003125\n",
            "2022-08-14 00:06:10,070 epoch 54 - iter 840/1205 - loss 0.05209410 - samples/sec: 321.94 - lr: 0.003125\n",
            "2022-08-14 00:06:21,680 epoch 54 - iter 960/1205 - loss 0.05228493 - samples/sec: 331.06 - lr: 0.003125\n",
            "2022-08-14 00:06:33,507 epoch 54 - iter 1080/1205 - loss 0.05230160 - samples/sec: 324.98 - lr: 0.003125\n",
            "2022-08-14 00:06:45,204 epoch 54 - iter 1200/1205 - loss 0.05214954 - samples/sec: 328.60 - lr: 0.003125\n",
            "2022-08-14 00:06:45,667 ----------------------------------------------------------------------------------------------------\n",
            "2022-08-14 00:06:45,669 EPOCH 54 done: loss 0.0521 - lr 0.003125\n"
          ]
        },
        {
          "name": "stderr",
          "output_type": "stream",
          "text": [
            "100%|██████████| 150/150 [00:19<00:00,  7.56it/s]"
          ]
        },
        {
          "name": "stdout",
          "output_type": "stream",
          "text": [
            "2022-08-14 00:07:05,559 Evaluating as a multi-label problem: False\n"
          ]
        },
        {
          "name": "stderr",
          "output_type": "stream",
          "text": [
            "\n"
          ]
        },
        {
          "name": "stdout",
          "output_type": "stream",
          "text": [
            "2022-08-14 00:07:05,661 DEV : loss 0.05616648867726326 - f1-score (micro avg)  0.8622\n",
            "2022-08-14 00:07:06,465 BAD EPOCHS (no improvement): 1\n",
            "2022-08-14 00:07:06,468 ----------------------------------------------------------------------------------------------------\n",
            "2022-08-14 00:07:18,599 epoch 55 - iter 120/1205 - loss 0.05106794 - samples/sec: 316.92 - lr: 0.003125\n",
            "2022-08-14 00:07:30,225 epoch 55 - iter 240/1205 - loss 0.05276899 - samples/sec: 330.59 - lr: 0.003125\n",
            "2022-08-14 00:07:41,860 epoch 55 - iter 360/1205 - loss 0.05278093 - samples/sec: 330.36 - lr: 0.003125\n",
            "2022-08-14 00:07:53,619 epoch 55 - iter 480/1205 - loss 0.05260365 - samples/sec: 326.86 - lr: 0.003125\n",
            "2022-08-14 00:08:05,339 epoch 55 - iter 600/1205 - loss 0.05253402 - samples/sec: 327.94 - lr: 0.003125\n",
            "2022-08-14 00:08:17,111 epoch 55 - iter 720/1205 - loss 0.05263796 - samples/sec: 326.50 - lr: 0.003125\n",
            "2022-08-14 00:08:28,902 epoch 55 - iter 840/1205 - loss 0.05238779 - samples/sec: 325.99 - lr: 0.003125\n",
            "2022-08-14 00:08:40,522 epoch 55 - iter 960/1205 - loss 0.05255939 - samples/sec: 330.77 - lr: 0.003125\n",
            "2022-08-14 00:08:52,354 epoch 55 - iter 1080/1205 - loss 0.05236272 - samples/sec: 324.86 - lr: 0.003125\n",
            "2022-08-14 00:09:04,102 epoch 55 - iter 1200/1205 - loss 0.05191625 - samples/sec: 327.18 - lr: 0.003125\n",
            "2022-08-14 00:09:04,604 ----------------------------------------------------------------------------------------------------\n",
            "2022-08-14 00:09:04,605 EPOCH 55 done: loss 0.0519 - lr 0.003125\n"
          ]
        },
        {
          "name": "stderr",
          "output_type": "stream",
          "text": [
            "100%|██████████| 150/150 [00:23<00:00,  6.52it/s]"
          ]
        },
        {
          "name": "stdout",
          "output_type": "stream",
          "text": [
            "2022-08-14 00:09:27,664 Evaluating as a multi-label problem: False\n"
          ]
        },
        {
          "name": "stderr",
          "output_type": "stream",
          "text": [
            "\n"
          ]
        },
        {
          "name": "stdout",
          "output_type": "stream",
          "text": [
            "2022-08-14 00:09:27,750 DEV : loss 0.05628083273768425 - f1-score (micro avg)  0.8629\n",
            "2022-08-14 00:09:28,536 BAD EPOCHS (no improvement): 2\n",
            "2022-08-14 00:09:28,540 ----------------------------------------------------------------------------------------------------\n",
            "2022-08-14 00:09:40,307 epoch 56 - iter 120/1205 - loss 0.05126147 - samples/sec: 326.72 - lr: 0.003125\n",
            "2022-08-14 00:09:51,949 epoch 56 - iter 240/1205 - loss 0.05071204 - samples/sec: 330.15 - lr: 0.003125\n",
            "2022-08-14 00:10:03,732 epoch 56 - iter 360/1205 - loss 0.05146588 - samples/sec: 326.18 - lr: 0.003125\n",
            "2022-08-14 00:10:15,526 epoch 56 - iter 480/1205 - loss 0.05186632 - samples/sec: 325.89 - lr: 0.003125\n",
            "2022-08-14 00:10:27,387 epoch 56 - iter 600/1205 - loss 0.05176225 - samples/sec: 324.05 - lr: 0.003125\n",
            "2022-08-14 00:10:39,183 epoch 56 - iter 720/1205 - loss 0.05193349 - samples/sec: 325.84 - lr: 0.003125\n",
            "2022-08-14 00:10:51,084 epoch 56 - iter 840/1205 - loss 0.05219050 - samples/sec: 322.96 - lr: 0.003125\n",
            "2022-08-14 00:11:03,353 epoch 56 - iter 960/1205 - loss 0.05203324 - samples/sec: 313.27 - lr: 0.003125\n",
            "2022-08-14 00:11:15,002 epoch 56 - iter 1080/1205 - loss 0.05206904 - samples/sec: 329.96 - lr: 0.003125\n",
            "2022-08-14 00:11:26,766 epoch 56 - iter 1200/1205 - loss 0.05206229 - samples/sec: 326.72 - lr: 0.003125\n",
            "2022-08-14 00:11:27,244 ----------------------------------------------------------------------------------------------------\n",
            "2022-08-14 00:11:27,246 EPOCH 56 done: loss 0.0520 - lr 0.003125\n"
          ]
        },
        {
          "name": "stderr",
          "output_type": "stream",
          "text": [
            "100%|██████████| 150/150 [00:20<00:00,  7.39it/s]"
          ]
        },
        {
          "name": "stdout",
          "output_type": "stream",
          "text": [
            "2022-08-14 00:11:47,607 Evaluating as a multi-label problem: False\n"
          ]
        },
        {
          "name": "stderr",
          "output_type": "stream",
          "text": [
            "\n"
          ]
        },
        {
          "name": "stdout",
          "output_type": "stream",
          "text": [
            "2022-08-14 00:11:47,703 DEV : loss 0.05622812360525131 - f1-score (micro avg)  0.8625\n",
            "2022-08-14 00:11:48,509 BAD EPOCHS (no improvement): 3\n",
            "2022-08-14 00:11:48,513 ----------------------------------------------------------------------------------------------------\n",
            "2022-08-14 00:12:00,714 epoch 57 - iter 120/1205 - loss 0.05202137 - samples/sec: 315.10 - lr: 0.003125\n",
            "2022-08-14 00:12:12,435 epoch 57 - iter 240/1205 - loss 0.05264349 - samples/sec: 327.94 - lr: 0.003125\n",
            "2022-08-14 00:12:24,399 epoch 57 - iter 360/1205 - loss 0.05232829 - samples/sec: 321.24 - lr: 0.003125\n",
            "2022-08-14 00:12:36,468 epoch 57 - iter 480/1205 - loss 0.05232683 - samples/sec: 318.45 - lr: 0.003125\n",
            "2022-08-14 00:12:48,342 epoch 57 - iter 600/1205 - loss 0.05214915 - samples/sec: 323.71 - lr: 0.003125\n",
            "2022-08-14 00:13:00,353 epoch 57 - iter 720/1205 - loss 0.05227001 - samples/sec: 320.02 - lr: 0.003125\n",
            "2022-08-14 00:13:12,088 epoch 57 - iter 840/1205 - loss 0.05179681 - samples/sec: 327.51 - lr: 0.003125\n",
            "2022-08-14 00:13:24,118 epoch 57 - iter 960/1205 - loss 0.05182037 - samples/sec: 319.51 - lr: 0.003125\n",
            "2022-08-14 00:13:35,830 epoch 57 - iter 1080/1205 - loss 0.05188776 - samples/sec: 328.16 - lr: 0.003125\n",
            "2022-08-14 00:13:47,591 epoch 57 - iter 1200/1205 - loss 0.05179542 - samples/sec: 326.81 - lr: 0.003125\n",
            "2022-08-14 00:13:48,082 ----------------------------------------------------------------------------------------------------\n",
            "2022-08-14 00:13:48,084 EPOCH 57 done: loss 0.0518 - lr 0.003125\n"
          ]
        },
        {
          "name": "stderr",
          "output_type": "stream",
          "text": [
            "100%|██████████| 150/150 [00:19<00:00,  7.55it/s]"
          ]
        },
        {
          "name": "stdout",
          "output_type": "stream",
          "text": [
            "2022-08-14 00:14:07,995 Evaluating as a multi-label problem: False\n"
          ]
        },
        {
          "name": "stderr",
          "output_type": "stream",
          "text": [
            "\n"
          ]
        },
        {
          "name": "stdout",
          "output_type": "stream",
          "text": [
            "2022-08-14 00:14:08,083 DEV : loss 0.05619088560342789 - f1-score (micro avg)  0.8629\n",
            "2022-08-14 00:14:08,878 Epoch    32: reducing learning rate of group 0 to 1.5625e-03.\n",
            "2022-08-14 00:14:08,880 BAD EPOCHS (no improvement): 4\n",
            "2022-08-14 00:14:08,884 ----------------------------------------------------------------------------------------------------\n",
            "2022-08-14 00:14:20,890 epoch 58 - iter 120/1205 - loss 0.05010531 - samples/sec: 320.19 - lr: 0.001563\n",
            "2022-08-14 00:14:32,628 epoch 58 - iter 240/1205 - loss 0.04990127 - samples/sec: 327.44 - lr: 0.001563\n",
            "2022-08-14 00:14:44,512 epoch 58 - iter 360/1205 - loss 0.05121372 - samples/sec: 323.42 - lr: 0.001563\n",
            "2022-08-14 00:14:56,237 epoch 58 - iter 480/1205 - loss 0.05132993 - samples/sec: 327.79 - lr: 0.001563\n",
            "2022-08-14 00:15:08,020 epoch 58 - iter 600/1205 - loss 0.05162488 - samples/sec: 326.18 - lr: 0.001563\n",
            "2022-08-14 00:15:20,003 epoch 58 - iter 720/1205 - loss 0.05174614 - samples/sec: 320.76 - lr: 0.001563\n",
            "2022-08-14 00:15:31,982 epoch 58 - iter 840/1205 - loss 0.05168471 - samples/sec: 320.84 - lr: 0.001563\n",
            "2022-08-14 00:15:43,827 epoch 58 - iter 960/1205 - loss 0.05173567 - samples/sec: 324.51 - lr: 0.001563\n",
            "2022-08-14 00:15:55,690 epoch 58 - iter 1080/1205 - loss 0.05193190 - samples/sec: 323.97 - lr: 0.001563\n",
            "2022-08-14 00:16:07,757 epoch 58 - iter 1200/1205 - loss 0.05196272 - samples/sec: 318.57 - lr: 0.001563\n",
            "2022-08-14 00:16:08,221 ----------------------------------------------------------------------------------------------------\n",
            "2022-08-14 00:16:08,222 EPOCH 58 done: loss 0.0520 - lr 0.001563\n"
          ]
        },
        {
          "name": "stderr",
          "output_type": "stream",
          "text": [
            "100%|██████████| 150/150 [00:23<00:00,  6.46it/s]"
          ]
        },
        {
          "name": "stdout",
          "output_type": "stream",
          "text": [
            "2022-08-14 00:16:31,487 Evaluating as a multi-label problem: False\n"
          ]
        },
        {
          "name": "stderr",
          "output_type": "stream",
          "text": [
            "\n"
          ]
        },
        {
          "name": "stdout",
          "output_type": "stream",
          "text": [
            "2022-08-14 00:16:31,576 DEV : loss 0.05621851235628128 - f1-score (micro avg)  0.8623\n",
            "2022-08-14 00:16:32,405 BAD EPOCHS (no improvement): 1\n",
            "2022-08-14 00:16:32,410 ----------------------------------------------------------------------------------------------------\n",
            "2022-08-14 00:16:44,527 epoch 59 - iter 120/1205 - loss 0.05010806 - samples/sec: 317.29 - lr: 0.001563\n",
            "2022-08-14 00:16:56,375 epoch 59 - iter 240/1205 - loss 0.05151074 - samples/sec: 324.40 - lr: 0.001563\n",
            "2022-08-14 00:17:08,234 epoch 59 - iter 360/1205 - loss 0.05167481 - samples/sec: 324.11 - lr: 0.001563\n",
            "2022-08-14 00:17:20,148 epoch 59 - iter 480/1205 - loss 0.05131880 - samples/sec: 322.62 - lr: 0.001563\n",
            "2022-08-14 00:17:31,786 epoch 59 - iter 600/1205 - loss 0.05141791 - samples/sec: 330.26 - lr: 0.001563\n",
            "2022-08-14 00:17:43,254 epoch 59 - iter 720/1205 - loss 0.05154418 - samples/sec: 335.16 - lr: 0.001563\n",
            "2022-08-14 00:17:54,944 epoch 59 - iter 840/1205 - loss 0.05182277 - samples/sec: 328.79 - lr: 0.001563\n",
            "2022-08-14 00:18:06,802 epoch 59 - iter 960/1205 - loss 0.05162796 - samples/sec: 324.15 - lr: 0.001563\n",
            "2022-08-14 00:18:18,730 epoch 59 - iter 1080/1205 - loss 0.05156682 - samples/sec: 322.22 - lr: 0.001563\n",
            "2022-08-14 00:18:30,679 epoch 59 - iter 1200/1205 - loss 0.05172358 - samples/sec: 321.68 - lr: 0.001563\n",
            "2022-08-14 00:18:31,184 ----------------------------------------------------------------------------------------------------\n",
            "2022-08-14 00:18:31,185 EPOCH 59 done: loss 0.0518 - lr 0.001563\n"
          ]
        },
        {
          "name": "stderr",
          "output_type": "stream",
          "text": [
            "100%|██████████| 150/150 [00:20<00:00,  7.44it/s]"
          ]
        },
        {
          "name": "stdout",
          "output_type": "stream",
          "text": [
            "2022-08-14 00:18:51,402 Evaluating as a multi-label problem: False\n"
          ]
        },
        {
          "name": "stderr",
          "output_type": "stream",
          "text": [
            "\n"
          ]
        },
        {
          "name": "stdout",
          "output_type": "stream",
          "text": [
            "2022-08-14 00:18:51,498 DEV : loss 0.056143078953027725 - f1-score (micro avg)  0.8623\n",
            "2022-08-14 00:18:52,308 BAD EPOCHS (no improvement): 2\n",
            "2022-08-14 00:18:52,323 ----------------------------------------------------------------------------------------------------\n",
            "2022-08-14 00:19:04,144 epoch 60 - iter 120/1205 - loss 0.05023172 - samples/sec: 325.21 - lr: 0.001563\n",
            "2022-08-14 00:19:16,007 epoch 60 - iter 240/1205 - loss 0.05084680 - samples/sec: 324.01 - lr: 0.001563\n",
            "2022-08-14 00:19:27,654 epoch 60 - iter 360/1205 - loss 0.05158599 - samples/sec: 330.03 - lr: 0.001563\n",
            "2022-08-14 00:19:39,555 epoch 60 - iter 480/1205 - loss 0.05149523 - samples/sec: 322.94 - lr: 0.001563\n",
            "2022-08-14 00:19:51,515 epoch 60 - iter 600/1205 - loss 0.05192050 - samples/sec: 321.37 - lr: 0.001563\n",
            "2022-08-14 00:20:03,874 epoch 60 - iter 720/1205 - loss 0.05189492 - samples/sec: 310.98 - lr: 0.001563\n",
            "2022-08-14 00:20:15,972 epoch 60 - iter 840/1205 - loss 0.05160888 - samples/sec: 317.71 - lr: 0.001563\n",
            "2022-08-14 00:20:27,832 epoch 60 - iter 960/1205 - loss 0.05154498 - samples/sec: 324.09 - lr: 0.001563\n",
            "2022-08-14 00:20:39,610 epoch 60 - iter 1080/1205 - loss 0.05160661 - samples/sec: 326.34 - lr: 0.001563\n",
            "2022-08-14 00:20:51,273 epoch 60 - iter 1200/1205 - loss 0.05174353 - samples/sec: 329.54 - lr: 0.001563\n",
            "2022-08-14 00:20:51,803 ----------------------------------------------------------------------------------------------------\n",
            "2022-08-14 00:20:51,805 EPOCH 60 done: loss 0.0517 - lr 0.001563\n"
          ]
        },
        {
          "name": "stderr",
          "output_type": "stream",
          "text": [
            "100%|██████████| 150/150 [00:20<00:00,  7.39it/s]"
          ]
        },
        {
          "name": "stdout",
          "output_type": "stream",
          "text": [
            "2022-08-14 00:21:12,155 Evaluating as a multi-label problem: False\n"
          ]
        },
        {
          "name": "stderr",
          "output_type": "stream",
          "text": [
            "\n"
          ]
        },
        {
          "name": "stdout",
          "output_type": "stream",
          "text": [
            "2022-08-14 00:21:12,247 DEV : loss 0.05612501502037048 - f1-score (micro avg)  0.8632\n",
            "2022-08-14 00:21:13,068 BAD EPOCHS (no improvement): 3\n",
            "2022-08-14 00:21:13,073 ----------------------------------------------------------------------------------------------------\n",
            "2022-08-14 00:21:25,132 epoch 61 - iter 120/1205 - loss 0.05476347 - samples/sec: 318.79 - lr: 0.001563\n",
            "2022-08-14 00:21:36,978 epoch 61 - iter 240/1205 - loss 0.05338728 - samples/sec: 324.49 - lr: 0.001563\n",
            "2022-08-14 00:21:51,530 epoch 61 - iter 360/1205 - loss 0.05230265 - samples/sec: 264.07 - lr: 0.001563\n",
            "2022-08-14 00:22:03,278 epoch 61 - iter 480/1205 - loss 0.05236344 - samples/sec: 327.15 - lr: 0.001563\n",
            "2022-08-14 00:22:14,791 epoch 61 - iter 600/1205 - loss 0.05244926 - samples/sec: 333.83 - lr: 0.001563\n",
            "2022-08-14 00:22:26,413 epoch 61 - iter 720/1205 - loss 0.05236355 - samples/sec: 330.73 - lr: 0.001563\n",
            "2022-08-14 00:22:38,410 epoch 61 - iter 840/1205 - loss 0.05240162 - samples/sec: 320.37 - lr: 0.001563\n",
            "2022-08-14 00:22:50,368 epoch 61 - iter 960/1205 - loss 0.05232088 - samples/sec: 321.42 - lr: 0.001563\n",
            "2022-08-14 00:23:01,986 epoch 61 - iter 1080/1205 - loss 0.05208143 - samples/sec: 330.82 - lr: 0.001563\n",
            "2022-08-14 00:23:13,698 epoch 61 - iter 1200/1205 - loss 0.05198002 - samples/sec: 328.19 - lr: 0.001563\n",
            "2022-08-14 00:23:14,197 ----------------------------------------------------------------------------------------------------\n",
            "2022-08-14 00:23:14,200 EPOCH 61 done: loss 0.0520 - lr 0.001563\n"
          ]
        },
        {
          "name": "stderr",
          "output_type": "stream",
          "text": [
            "100%|██████████| 150/150 [00:19<00:00,  7.52it/s]"
          ]
        },
        {
          "name": "stdout",
          "output_type": "stream",
          "text": [
            "2022-08-14 00:23:34,198 Evaluating as a multi-label problem: False\n"
          ]
        },
        {
          "name": "stderr",
          "output_type": "stream",
          "text": [
            "\n"
          ]
        },
        {
          "name": "stdout",
          "output_type": "stream",
          "text": [
            "2022-08-14 00:23:34,304 DEV : loss 0.05609551817178726 - f1-score (micro avg)  0.8632\n",
            "2022-08-14 00:23:35,120 Epoch    36: reducing learning rate of group 0 to 7.8125e-04.\n",
            "2022-08-14 00:23:35,123 BAD EPOCHS (no improvement): 4\n",
            "2022-08-14 00:23:35,127 ----------------------------------------------------------------------------------------------------\n",
            "2022-08-14 00:23:47,017 epoch 62 - iter 120/1205 - loss 0.05205103 - samples/sec: 323.34 - lr: 0.000781\n",
            "2022-08-14 00:23:58,951 epoch 62 - iter 240/1205 - loss 0.05254935 - samples/sec: 322.06 - lr: 0.000781\n",
            "2022-08-14 00:24:10,916 epoch 62 - iter 360/1205 - loss 0.05223726 - samples/sec: 321.22 - lr: 0.000781\n",
            "2022-08-14 00:24:22,746 epoch 62 - iter 480/1205 - loss 0.05179757 - samples/sec: 324.90 - lr: 0.000781\n",
            "2022-08-14 00:24:34,515 epoch 62 - iter 600/1205 - loss 0.05187549 - samples/sec: 326.59 - lr: 0.000781\n",
            "2022-08-14 00:24:46,406 epoch 62 - iter 720/1205 - loss 0.05193430 - samples/sec: 323.23 - lr: 0.000781\n",
            "2022-08-14 00:24:58,141 epoch 62 - iter 840/1205 - loss 0.05181872 - samples/sec: 327.53 - lr: 0.000781\n",
            "2022-08-14 00:25:09,962 epoch 62 - iter 960/1205 - loss 0.05190721 - samples/sec: 325.13 - lr: 0.000781\n",
            "2022-08-14 00:25:22,097 epoch 62 - iter 1080/1205 - loss 0.05186541 - samples/sec: 316.74 - lr: 0.000781\n",
            "2022-08-14 00:25:34,266 epoch 62 - iter 1200/1205 - loss 0.05159183 - samples/sec: 315.84 - lr: 0.000781\n",
            "2022-08-14 00:25:34,779 ----------------------------------------------------------------------------------------------------\n",
            "2022-08-14 00:25:34,780 EPOCH 62 done: loss 0.0516 - lr 0.000781\n"
          ]
        },
        {
          "name": "stderr",
          "output_type": "stream",
          "text": [
            "100%|██████████| 150/150 [00:20<00:00,  7.35it/s]"
          ]
        },
        {
          "name": "stdout",
          "output_type": "stream",
          "text": [
            "2022-08-14 00:25:55,242 Evaluating as a multi-label problem: False\n"
          ]
        },
        {
          "name": "stderr",
          "output_type": "stream",
          "text": [
            "\n"
          ]
        },
        {
          "name": "stdout",
          "output_type": "stream",
          "text": [
            "2022-08-14 00:25:55,331 DEV : loss 0.0560656376183033 - f1-score (micro avg)  0.8632\n",
            "2022-08-14 00:25:56,135 BAD EPOCHS (no improvement): 1\n",
            "2022-08-14 00:25:56,139 ----------------------------------------------------------------------------------------------------\n",
            "2022-08-14 00:26:07,856 epoch 63 - iter 120/1205 - loss 0.05088397 - samples/sec: 328.11 - lr: 0.000781\n",
            "2022-08-14 00:26:19,532 epoch 63 - iter 240/1205 - loss 0.05072253 - samples/sec: 329.18 - lr: 0.000781\n",
            "2022-08-14 00:26:31,721 epoch 63 - iter 360/1205 - loss 0.05105794 - samples/sec: 315.33 - lr: 0.000781\n",
            "2022-08-14 00:26:43,648 epoch 63 - iter 480/1205 - loss 0.05120811 - samples/sec: 322.24 - lr: 0.000781\n",
            "2022-08-14 00:26:55,960 epoch 63 - iter 600/1205 - loss 0.05119788 - samples/sec: 312.16 - lr: 0.000781\n",
            "2022-08-14 00:27:08,037 epoch 63 - iter 720/1205 - loss 0.05122546 - samples/sec: 318.27 - lr: 0.000781\n",
            "2022-08-14 00:27:19,694 epoch 63 - iter 840/1205 - loss 0.05114220 - samples/sec: 329.73 - lr: 0.000781\n",
            "2022-08-14 00:27:31,612 epoch 63 - iter 960/1205 - loss 0.05126348 - samples/sec: 322.50 - lr: 0.000781\n",
            "2022-08-14 00:27:43,473 epoch 63 - iter 1080/1205 - loss 0.05129771 - samples/sec: 324.04 - lr: 0.000781\n",
            "2022-08-14 00:27:55,387 epoch 63 - iter 1200/1205 - loss 0.05135345 - samples/sec: 322.60 - lr: 0.000781\n",
            "2022-08-14 00:27:55,876 ----------------------------------------------------------------------------------------------------\n",
            "2022-08-14 00:27:55,878 EPOCH 63 done: loss 0.0513 - lr 0.000781\n"
          ]
        },
        {
          "name": "stderr",
          "output_type": "stream",
          "text": [
            "100%|██████████| 150/150 [00:23<00:00,  6.36it/s]"
          ]
        },
        {
          "name": "stdout",
          "output_type": "stream",
          "text": [
            "2022-08-14 00:28:19,509 Evaluating as a multi-label problem: False\n"
          ]
        },
        {
          "name": "stderr",
          "output_type": "stream",
          "text": [
            "\n"
          ]
        },
        {
          "name": "stdout",
          "output_type": "stream",
          "text": [
            "2022-08-14 00:28:19,599 DEV : loss 0.056096166372299194 - f1-score (micro avg)  0.8633\n",
            "2022-08-14 00:28:20,451 BAD EPOCHS (no improvement): 2\n",
            "2022-08-14 00:28:20,455 ----------------------------------------------------------------------------------------------------\n",
            "2022-08-14 00:28:32,326 epoch 64 - iter 120/1205 - loss 0.05162596 - samples/sec: 323.86 - lr: 0.000781\n",
            "2022-08-14 00:28:44,229 epoch 64 - iter 240/1205 - loss 0.05078147 - samples/sec: 322.91 - lr: 0.000781\n",
            "2022-08-14 00:28:56,097 epoch 64 - iter 360/1205 - loss 0.05134929 - samples/sec: 323.84 - lr: 0.000781\n",
            "2022-08-14 00:29:08,119 epoch 64 - iter 480/1205 - loss 0.05124780 - samples/sec: 319.72 - lr: 0.000781\n",
            "2022-08-14 00:29:20,045 epoch 64 - iter 600/1205 - loss 0.05159815 - samples/sec: 322.28 - lr: 0.000781\n",
            "2022-08-14 00:29:31,973 epoch 64 - iter 720/1205 - loss 0.05153275 - samples/sec: 322.22 - lr: 0.000781\n",
            "2022-08-14 00:29:43,584 epoch 64 - iter 840/1205 - loss 0.05135512 - samples/sec: 331.04 - lr: 0.000781\n",
            "2022-08-14 00:29:55,396 epoch 64 - iter 960/1205 - loss 0.05138503 - samples/sec: 325.41 - lr: 0.000781\n",
            "2022-08-14 00:30:07,178 epoch 64 - iter 1080/1205 - loss 0.05149791 - samples/sec: 326.22 - lr: 0.000781\n",
            "2022-08-14 00:30:18,934 epoch 64 - iter 1200/1205 - loss 0.05146531 - samples/sec: 326.96 - lr: 0.000781\n",
            "2022-08-14 00:30:19,436 ----------------------------------------------------------------------------------------------------\n",
            "2022-08-14 00:30:19,438 EPOCH 64 done: loss 0.0515 - lr 0.000781\n"
          ]
        },
        {
          "name": "stderr",
          "output_type": "stream",
          "text": [
            "100%|██████████| 150/150 [00:20<00:00,  7.36it/s]"
          ]
        },
        {
          "name": "stdout",
          "output_type": "stream",
          "text": [
            "2022-08-14 00:30:39,868 Evaluating as a multi-label problem: False\n"
          ]
        },
        {
          "name": "stderr",
          "output_type": "stream",
          "text": [
            "\n"
          ]
        },
        {
          "name": "stdout",
          "output_type": "stream",
          "text": [
            "2022-08-14 00:30:39,964 DEV : loss 0.05611630901694298 - f1-score (micro avg)  0.863\n",
            "2022-08-14 00:30:40,756 BAD EPOCHS (no improvement): 3\n",
            "2022-08-14 00:30:40,760 ----------------------------------------------------------------------------------------------------\n",
            "2022-08-14 00:30:52,479 epoch 65 - iter 120/1205 - loss 0.05222069 - samples/sec: 328.07 - lr: 0.000781\n",
            "2022-08-14 00:31:04,370 epoch 65 - iter 240/1205 - loss 0.05166833 - samples/sec: 323.22 - lr: 0.000781\n",
            "2022-08-14 00:31:16,335 epoch 65 - iter 360/1205 - loss 0.05193398 - samples/sec: 321.24 - lr: 0.000781\n",
            "2022-08-14 00:31:28,279 epoch 65 - iter 480/1205 - loss 0.05191503 - samples/sec: 321.79 - lr: 0.000781\n",
            "2022-08-14 00:31:40,246 epoch 65 - iter 600/1205 - loss 0.05190614 - samples/sec: 321.18 - lr: 0.000781\n",
            "2022-08-14 00:31:52,176 epoch 65 - iter 720/1205 - loss 0.05184655 - samples/sec: 322.17 - lr: 0.000781\n",
            "2022-08-14 00:32:03,977 epoch 65 - iter 840/1205 - loss 0.05155582 - samples/sec: 325.72 - lr: 0.000781\n",
            "2022-08-14 00:32:15,973 epoch 65 - iter 960/1205 - loss 0.05129941 - samples/sec: 320.39 - lr: 0.000781\n",
            "2022-08-14 00:32:27,839 epoch 65 - iter 1080/1205 - loss 0.05148044 - samples/sec: 323.93 - lr: 0.000781\n",
            "2022-08-14 00:32:39,495 epoch 65 - iter 1200/1205 - loss 0.05168220 - samples/sec: 329.73 - lr: 0.000781\n",
            "2022-08-14 00:32:39,975 ----------------------------------------------------------------------------------------------------\n",
            "2022-08-14 00:32:39,977 EPOCH 65 done: loss 0.0517 - lr 0.000781\n"
          ]
        },
        {
          "name": "stderr",
          "output_type": "stream",
          "text": [
            "100%|██████████| 150/150 [00:20<00:00,  7.40it/s]"
          ]
        },
        {
          "name": "stdout",
          "output_type": "stream",
          "text": [
            "2022-08-14 00:33:00,309 Evaluating as a multi-label problem: False\n"
          ]
        },
        {
          "name": "stderr",
          "output_type": "stream",
          "text": [
            "\n"
          ]
        },
        {
          "name": "stdout",
          "output_type": "stream",
          "text": [
            "2022-08-14 00:33:00,413 DEV : loss 0.05613522604107857 - f1-score (micro avg)  0.8629\n",
            "2022-08-14 00:33:01,217 Epoch    40: reducing learning rate of group 0 to 3.9063e-04.\n",
            "2022-08-14 00:33:01,219 BAD EPOCHS (no improvement): 4\n",
            "2022-08-14 00:33:01,223 ----------------------------------------------------------------------------------------------------\n",
            "2022-08-14 00:33:12,890 epoch 66 - iter 120/1205 - loss 0.05155129 - samples/sec: 329.53 - lr: 0.000391\n",
            "2022-08-14 00:33:24,653 epoch 66 - iter 240/1205 - loss 0.05100421 - samples/sec: 326.75 - lr: 0.000391\n",
            "2022-08-14 00:33:36,752 epoch 66 - iter 360/1205 - loss 0.05154897 - samples/sec: 317.66 - lr: 0.000391\n",
            "2022-08-14 00:33:48,623 epoch 66 - iter 480/1205 - loss 0.05128628 - samples/sec: 323.77 - lr: 0.000391\n",
            "2022-08-14 00:34:03,422 epoch 66 - iter 600/1205 - loss 0.05112054 - samples/sec: 259.68 - lr: 0.000391\n",
            "2022-08-14 00:34:15,365 epoch 66 - iter 720/1205 - loss 0.05155049 - samples/sec: 321.82 - lr: 0.000391\n",
            "2022-08-14 00:34:27,108 epoch 66 - iter 840/1205 - loss 0.05166238 - samples/sec: 327.28 - lr: 0.000391\n",
            "2022-08-14 00:34:38,945 epoch 66 - iter 960/1205 - loss 0.05146921 - samples/sec: 324.71 - lr: 0.000391\n",
            "2022-08-14 00:34:50,683 epoch 66 - iter 1080/1205 - loss 0.05136679 - samples/sec: 327.45 - lr: 0.000391\n",
            "2022-08-14 00:35:02,522 epoch 66 - iter 1200/1205 - loss 0.05149764 - samples/sec: 324.66 - lr: 0.000391\n",
            "2022-08-14 00:35:03,065 ----------------------------------------------------------------------------------------------------\n",
            "2022-08-14 00:35:03,067 EPOCH 66 done: loss 0.0515 - lr 0.000391\n"
          ]
        },
        {
          "name": "stderr",
          "output_type": "stream",
          "text": [
            "100%|██████████| 150/150 [00:20<00:00,  7.43it/s]"
          ]
        },
        {
          "name": "stdout",
          "output_type": "stream",
          "text": [
            "2022-08-14 00:35:23,300 Evaluating as a multi-label problem: False\n"
          ]
        },
        {
          "name": "stderr",
          "output_type": "stream",
          "text": [
            "\n"
          ]
        },
        {
          "name": "stdout",
          "output_type": "stream",
          "text": [
            "2022-08-14 00:35:23,392 DEV : loss 0.05613693594932556 - f1-score (micro avg)  0.8632\n",
            "2022-08-14 00:35:24,197 BAD EPOCHS (no improvement): 1\n",
            "2022-08-14 00:35:24,201 ----------------------------------------------------------------------------------------------------\n",
            "2022-08-14 00:35:36,025 epoch 67 - iter 120/1205 - loss 0.05189277 - samples/sec: 325.13 - lr: 0.000391\n",
            "2022-08-14 00:35:47,826 epoch 67 - iter 240/1205 - loss 0.05372814 - samples/sec: 325.74 - lr: 0.000391\n",
            "2022-08-14 00:35:59,678 epoch 67 - iter 360/1205 - loss 0.05243947 - samples/sec: 324.29 - lr: 0.000391\n",
            "2022-08-14 00:36:11,263 epoch 67 - iter 480/1205 - loss 0.05231813 - samples/sec: 331.76 - lr: 0.000391\n",
            "2022-08-14 00:36:23,114 epoch 67 - iter 600/1205 - loss 0.05157331 - samples/sec: 324.35 - lr: 0.000391\n",
            "2022-08-14 00:36:34,781 epoch 67 - iter 720/1205 - loss 0.05178470 - samples/sec: 329.43 - lr: 0.000391\n",
            "2022-08-14 00:36:46,669 epoch 67 - iter 840/1205 - loss 0.05187581 - samples/sec: 323.33 - lr: 0.000391\n",
            "2022-08-14 00:36:58,572 epoch 67 - iter 960/1205 - loss 0.05173169 - samples/sec: 322.90 - lr: 0.000391\n",
            "2022-08-14 00:37:09,958 epoch 67 - iter 1080/1205 - loss 0.05182132 - samples/sec: 337.58 - lr: 0.000391\n",
            "2022-08-14 00:37:21,836 epoch 67 - iter 1200/1205 - loss 0.05192119 - samples/sec: 323.61 - lr: 0.000391\n",
            "2022-08-14 00:37:22,317 ----------------------------------------------------------------------------------------------------\n",
            "2022-08-14 00:37:22,318 EPOCH 67 done: loss 0.0519 - lr 0.000391\n"
          ]
        },
        {
          "name": "stderr",
          "output_type": "stream",
          "text": [
            "100%|██████████| 150/150 [00:20<00:00,  7.37it/s]"
          ]
        },
        {
          "name": "stdout",
          "output_type": "stream",
          "text": [
            "2022-08-14 00:37:42,718 Evaluating as a multi-label problem: False\n"
          ]
        },
        {
          "name": "stderr",
          "output_type": "stream",
          "text": [
            "\n"
          ]
        },
        {
          "name": "stdout",
          "output_type": "stream",
          "text": [
            "2022-08-14 00:37:42,807 DEV : loss 0.056115441024303436 - f1-score (micro avg)  0.8631\n",
            "2022-08-14 00:37:43,607 BAD EPOCHS (no improvement): 2\n",
            "2022-08-14 00:37:43,610 ----------------------------------------------------------------------------------------------------\n",
            "2022-08-14 00:37:55,489 epoch 68 - iter 120/1205 - loss 0.05139845 - samples/sec: 323.66 - lr: 0.000391\n",
            "2022-08-14 00:38:07,340 epoch 68 - iter 240/1205 - loss 0.05121254 - samples/sec: 324.32 - lr: 0.000391\n",
            "2022-08-14 00:38:19,127 epoch 68 - iter 360/1205 - loss 0.05175646 - samples/sec: 326.08 - lr: 0.000391\n",
            "2022-08-14 00:38:30,940 epoch 68 - iter 480/1205 - loss 0.05156616 - samples/sec: 325.36 - lr: 0.000391\n",
            "2022-08-14 00:38:42,786 epoch 68 - iter 600/1205 - loss 0.05163399 - samples/sec: 324.47 - lr: 0.000391\n",
            "2022-08-14 00:38:54,510 epoch 68 - iter 720/1205 - loss 0.05163442 - samples/sec: 327.85 - lr: 0.000391\n",
            "2022-08-14 00:39:06,579 epoch 68 - iter 840/1205 - loss 0.05159731 - samples/sec: 318.46 - lr: 0.000391\n",
            "2022-08-14 00:39:18,395 epoch 68 - iter 960/1205 - loss 0.05148422 - samples/sec: 325.29 - lr: 0.000391\n",
            "2022-08-14 00:39:30,004 epoch 68 - iter 1080/1205 - loss 0.05164177 - samples/sec: 331.12 - lr: 0.000391\n",
            "2022-08-14 00:39:41,660 epoch 68 - iter 1200/1205 - loss 0.05164482 - samples/sec: 329.76 - lr: 0.000391\n",
            "2022-08-14 00:39:42,162 ----------------------------------------------------------------------------------------------------\n",
            "2022-08-14 00:39:42,164 EPOCH 68 done: loss 0.0516 - lr 0.000391\n"
          ]
        },
        {
          "name": "stderr",
          "output_type": "stream",
          "text": [
            "100%|██████████| 150/150 [00:23<00:00,  6.51it/s]"
          ]
        },
        {
          "name": "stdout",
          "output_type": "stream",
          "text": [
            "2022-08-14 00:40:05,248 Evaluating as a multi-label problem: False\n"
          ]
        },
        {
          "name": "stderr",
          "output_type": "stream",
          "text": [
            "\n"
          ]
        },
        {
          "name": "stdout",
          "output_type": "stream",
          "text": [
            "2022-08-14 00:40:05,335 DEV : loss 0.05611653998494148 - f1-score (micro avg)  0.863\n",
            "2022-08-14 00:40:06,147 BAD EPOCHS (no improvement): 3\n",
            "2022-08-14 00:40:06,152 ----------------------------------------------------------------------------------------------------\n",
            "2022-08-14 00:40:18,123 epoch 69 - iter 120/1205 - loss 0.05183529 - samples/sec: 321.13 - lr: 0.000391\n",
            "2022-08-14 00:40:29,879 epoch 69 - iter 240/1205 - loss 0.05162133 - samples/sec: 326.92 - lr: 0.000391\n",
            "2022-08-14 00:40:41,656 epoch 69 - iter 360/1205 - loss 0.05172443 - samples/sec: 326.37 - lr: 0.000391\n",
            "2022-08-14 00:40:53,525 epoch 69 - iter 480/1205 - loss 0.05166047 - samples/sec: 323.83 - lr: 0.000391\n",
            "2022-08-14 00:41:05,185 epoch 69 - iter 600/1205 - loss 0.05138999 - samples/sec: 329.64 - lr: 0.000391\n",
            "2022-08-14 00:41:16,817 epoch 69 - iter 720/1205 - loss 0.05176622 - samples/sec: 330.43 - lr: 0.000391\n",
            "2022-08-14 00:41:28,434 epoch 69 - iter 840/1205 - loss 0.05136901 - samples/sec: 330.88 - lr: 0.000391\n",
            "2022-08-14 00:41:40,274 epoch 69 - iter 960/1205 - loss 0.05123888 - samples/sec: 324.64 - lr: 0.000391\n",
            "2022-08-14 00:41:51,945 epoch 69 - iter 1080/1205 - loss 0.05124787 - samples/sec: 329.32 - lr: 0.000391\n",
            "2022-08-14 00:42:03,789 epoch 69 - iter 1200/1205 - loss 0.05151906 - samples/sec: 324.53 - lr: 0.000391\n",
            "2022-08-14 00:42:04,252 ----------------------------------------------------------------------------------------------------\n",
            "2022-08-14 00:42:04,255 EPOCH 69 done: loss 0.0515 - lr 0.000391\n"
          ]
        },
        {
          "name": "stderr",
          "output_type": "stream",
          "text": [
            "100%|██████████| 150/150 [00:20<00:00,  7.49it/s]"
          ]
        },
        {
          "name": "stdout",
          "output_type": "stream",
          "text": [
            "2022-08-14 00:42:24,349 Evaluating as a multi-label problem: False\n"
          ]
        },
        {
          "name": "stderr",
          "output_type": "stream",
          "text": [
            "\n"
          ]
        },
        {
          "name": "stdout",
          "output_type": "stream",
          "text": [
            "2022-08-14 00:42:24,439 DEV : loss 0.056128960102796555 - f1-score (micro avg)  0.8632\n",
            "2022-08-14 00:42:25,246 Epoch    44: reducing learning rate of group 0 to 1.9531e-04.\n",
            "2022-08-14 00:42:25,248 BAD EPOCHS (no improvement): 4\n",
            "2022-08-14 00:42:25,252 ----------------------------------------------------------------------------------------------------\n",
            "2022-08-14 00:42:37,042 epoch 70 - iter 120/1205 - loss 0.05203090 - samples/sec: 326.05 - lr: 0.000195\n",
            "2022-08-14 00:42:48,775 epoch 70 - iter 240/1205 - loss 0.05243055 - samples/sec: 327.59 - lr: 0.000195\n",
            "2022-08-14 00:43:00,780 epoch 70 - iter 360/1205 - loss 0.05190737 - samples/sec: 320.17 - lr: 0.000195\n",
            "2022-08-14 00:43:12,567 epoch 70 - iter 480/1205 - loss 0.05161410 - samples/sec: 326.07 - lr: 0.000195\n",
            "2022-08-14 00:43:24,377 epoch 70 - iter 600/1205 - loss 0.05183267 - samples/sec: 325.47 - lr: 0.000195\n",
            "2022-08-14 00:43:36,107 epoch 70 - iter 720/1205 - loss 0.05207693 - samples/sec: 327.66 - lr: 0.000195\n",
            "2022-08-14 00:43:47,763 epoch 70 - iter 840/1205 - loss 0.05187919 - samples/sec: 329.77 - lr: 0.000195\n",
            "2022-08-14 00:43:59,456 epoch 70 - iter 960/1205 - loss 0.05185588 - samples/sec: 328.69 - lr: 0.000195\n",
            "2022-08-14 00:44:11,153 epoch 70 - iter 1080/1205 - loss 0.05183652 - samples/sec: 328.62 - lr: 0.000195\n",
            "2022-08-14 00:44:23,044 epoch 70 - iter 1200/1205 - loss 0.05178926 - samples/sec: 323.23 - lr: 0.000195\n",
            "2022-08-14 00:44:23,521 ----------------------------------------------------------------------------------------------------\n",
            "2022-08-14 00:44:23,523 EPOCH 70 done: loss 0.0518 - lr 0.000195\n"
          ]
        },
        {
          "name": "stderr",
          "output_type": "stream",
          "text": [
            "100%|██████████| 150/150 [00:20<00:00,  7.44it/s]"
          ]
        },
        {
          "name": "stdout",
          "output_type": "stream",
          "text": [
            "2022-08-14 00:44:43,728 Evaluating as a multi-label problem: False\n"
          ]
        },
        {
          "name": "stderr",
          "output_type": "stream",
          "text": [
            "\n"
          ]
        },
        {
          "name": "stdout",
          "output_type": "stream",
          "text": [
            "2022-08-14 00:44:43,820 DEV : loss 0.05612294003367424 - f1-score (micro avg)  0.863\n",
            "2022-08-14 00:44:44,651 BAD EPOCHS (no improvement): 1\n",
            "2022-08-14 00:44:44,656 ----------------------------------------------------------------------------------------------------\n",
            "2022-08-14 00:44:56,304 epoch 71 - iter 120/1205 - loss 0.05262864 - samples/sec: 330.05 - lr: 0.000195\n",
            "2022-08-14 00:45:08,074 epoch 71 - iter 240/1205 - loss 0.05203328 - samples/sec: 326.55 - lr: 0.000195\n",
            "2022-08-14 00:45:19,754 epoch 71 - iter 360/1205 - loss 0.05137545 - samples/sec: 329.09 - lr: 0.000195\n",
            "2022-08-14 00:45:31,691 epoch 71 - iter 480/1205 - loss 0.05116013 - samples/sec: 321.96 - lr: 0.000195\n",
            "2022-08-14 00:45:43,655 epoch 71 - iter 600/1205 - loss 0.05071271 - samples/sec: 321.26 - lr: 0.000195\n",
            "2022-08-14 00:45:55,330 epoch 71 - iter 720/1205 - loss 0.05109563 - samples/sec: 329.23 - lr: 0.000195\n",
            "2022-08-14 00:46:06,986 epoch 71 - iter 840/1205 - loss 0.05120713 - samples/sec: 329.75 - lr: 0.000195\n",
            "2022-08-14 00:46:21,641 epoch 71 - iter 960/1205 - loss 0.05113757 - samples/sec: 262.23 - lr: 0.000195\n",
            "2022-08-14 00:46:33,456 epoch 71 - iter 1080/1205 - loss 0.05123308 - samples/sec: 325.32 - lr: 0.000195\n",
            "2022-08-14 00:46:45,131 epoch 71 - iter 1200/1205 - loss 0.05131591 - samples/sec: 329.21 - lr: 0.000195\n",
            "2022-08-14 00:46:45,614 ----------------------------------------------------------------------------------------------------\n",
            "2022-08-14 00:46:45,616 EPOCH 71 done: loss 0.0513 - lr 0.000195\n"
          ]
        },
        {
          "name": "stderr",
          "output_type": "stream",
          "text": [
            "100%|██████████| 150/150 [00:20<00:00,  7.45it/s]"
          ]
        },
        {
          "name": "stdout",
          "output_type": "stream",
          "text": [
            "2022-08-14 00:47:05,802 Evaluating as a multi-label problem: False\n"
          ]
        },
        {
          "name": "stderr",
          "output_type": "stream",
          "text": [
            "\n"
          ]
        },
        {
          "name": "stdout",
          "output_type": "stream",
          "text": [
            "2022-08-14 00:47:05,894 DEV : loss 0.05613519623875618 - f1-score (micro avg)  0.8631\n",
            "2022-08-14 00:47:06,694 BAD EPOCHS (no improvement): 2\n",
            "2022-08-14 00:47:06,698 ----------------------------------------------------------------------------------------------------\n",
            "2022-08-14 00:47:18,299 epoch 72 - iter 120/1205 - loss 0.04985648 - samples/sec: 331.40 - lr: 0.000195\n",
            "2022-08-14 00:47:30,092 epoch 72 - iter 240/1205 - loss 0.05050445 - samples/sec: 325.93 - lr: 0.000195\n",
            "2022-08-14 00:47:42,003 epoch 72 - iter 360/1205 - loss 0.05150711 - samples/sec: 322.69 - lr: 0.000195\n",
            "2022-08-14 00:47:54,137 epoch 72 - iter 480/1205 - loss 0.05118968 - samples/sec: 316.75 - lr: 0.000195\n",
            "2022-08-14 00:48:05,735 epoch 72 - iter 600/1205 - loss 0.05131093 - samples/sec: 331.44 - lr: 0.000195\n",
            "2022-08-14 00:48:17,531 epoch 72 - iter 720/1205 - loss 0.05146882 - samples/sec: 325.83 - lr: 0.000195\n",
            "2022-08-14 00:48:29,622 epoch 72 - iter 840/1205 - loss 0.05152390 - samples/sec: 317.89 - lr: 0.000195\n",
            "2022-08-14 00:48:41,457 epoch 72 - iter 960/1205 - loss 0.05181936 - samples/sec: 324.78 - lr: 0.000195\n",
            "2022-08-14 00:48:53,273 epoch 72 - iter 1080/1205 - loss 0.05167133 - samples/sec: 325.29 - lr: 0.000195\n",
            "2022-08-14 00:49:05,044 epoch 72 - iter 1200/1205 - loss 0.05153255 - samples/sec: 326.56 - lr: 0.000195\n",
            "2022-08-14 00:49:05,500 ----------------------------------------------------------------------------------------------------\n",
            "2022-08-14 00:49:05,502 EPOCH 72 done: loss 0.0516 - lr 0.000195\n"
          ]
        },
        {
          "name": "stderr",
          "output_type": "stream",
          "text": [
            "100%|██████████| 150/150 [00:20<00:00,  7.47it/s]"
          ]
        },
        {
          "name": "stdout",
          "output_type": "stream",
          "text": [
            "2022-08-14 00:49:25,631 Evaluating as a multi-label problem: False\n"
          ]
        },
        {
          "name": "stderr",
          "output_type": "stream",
          "text": [
            "\n"
          ]
        },
        {
          "name": "stdout",
          "output_type": "stream",
          "text": [
            "2022-08-14 00:49:25,733 DEV : loss 0.056118179112672806 - f1-score (micro avg)  0.8629\n",
            "2022-08-14 00:49:26,530 BAD EPOCHS (no improvement): 3\n",
            "2022-08-14 00:49:26,534 ----------------------------------------------------------------------------------------------------\n",
            "2022-08-14 00:49:38,447 epoch 73 - iter 120/1205 - loss 0.05482793 - samples/sec: 322.71 - lr: 0.000195\n",
            "2022-08-14 00:49:50,383 epoch 73 - iter 240/1205 - loss 0.05344969 - samples/sec: 322.01 - lr: 0.000195\n",
            "2022-08-14 00:50:02,251 epoch 73 - iter 360/1205 - loss 0.05328165 - samples/sec: 323.86 - lr: 0.000195\n",
            "2022-08-14 00:50:14,101 epoch 73 - iter 480/1205 - loss 0.05269446 - samples/sec: 324.36 - lr: 0.000195\n",
            "2022-08-14 00:50:25,643 epoch 73 - iter 600/1205 - loss 0.05182308 - samples/sec: 333.00 - lr: 0.000195\n",
            "2022-08-14 00:50:37,424 epoch 73 - iter 720/1205 - loss 0.05221732 - samples/sec: 326.26 - lr: 0.000195\n",
            "2022-08-14 00:50:49,350 epoch 73 - iter 840/1205 - loss 0.05213421 - samples/sec: 322.31 - lr: 0.000195\n",
            "2022-08-14 00:51:01,206 epoch 73 - iter 960/1205 - loss 0.05177984 - samples/sec: 324.18 - lr: 0.000195\n",
            "2022-08-14 00:51:13,323 epoch 73 - iter 1080/1205 - loss 0.05151202 - samples/sec: 317.21 - lr: 0.000195\n",
            "2022-08-14 00:51:25,042 epoch 73 - iter 1200/1205 - loss 0.05154687 - samples/sec: 327.98 - lr: 0.000195\n",
            "2022-08-14 00:51:25,523 ----------------------------------------------------------------------------------------------------\n",
            "2022-08-14 00:51:25,525 EPOCH 73 done: loss 0.0515 - lr 0.000195\n"
          ]
        },
        {
          "name": "stderr",
          "output_type": "stream",
          "text": [
            "100%|██████████| 150/150 [00:22<00:00,  6.56it/s]"
          ]
        },
        {
          "name": "stdout",
          "output_type": "stream",
          "text": [
            "2022-08-14 00:51:48,456 Evaluating as a multi-label problem: False\n"
          ]
        },
        {
          "name": "stderr",
          "output_type": "stream",
          "text": [
            "\n"
          ]
        },
        {
          "name": "stdout",
          "output_type": "stream",
          "text": [
            "2022-08-14 00:51:48,543 DEV : loss 0.05611134693026543 - f1-score (micro avg)  0.8632\n",
            "2022-08-14 00:51:49,365 Epoch    48: reducing learning rate of group 0 to 9.7656e-05.\n",
            "2022-08-14 00:51:49,367 BAD EPOCHS (no improvement): 4\n",
            "2022-08-14 00:51:49,370 ----------------------------------------------------------------------------------------------------\n",
            "2022-08-14 00:51:49,372 ----------------------------------------------------------------------------------------------------\n",
            "2022-08-14 00:51:49,373 learning rate too small - quitting training!\n",
            "2022-08-14 00:51:49,375 ----------------------------------------------------------------------------------------------------\n",
            "2022-08-14 00:51:53,060 ----------------------------------------------------------------------------------------------------\n",
            "2022-08-14 00:51:53,063 loading file /content/drive/My Drive/fourthbrain/flair/-resume2/best-model.pt\n",
            "2022-08-14 00:51:54,284 SequenceTagger predicts: Dictionary with 35 tags: O, S-geo, B-geo, E-geo, I-geo, S-tim, B-tim, E-tim, I-tim, S-org, B-org, E-org, I-org, S-per, B-per, E-per, I-per, S-gpe, B-gpe, E-gpe, I-gpe, S-art, B-art, E-art, I-art, S-eve, B-eve, E-eve, I-eve, S-nat, B-nat, E-nat, I-nat, <START>, <STOP>\n"
          ]
        },
        {
          "name": "stderr",
          "output_type": "stream",
          "text": [
            "100%|██████████| 145/145 [00:22<00:00,  6.53it/s]"
          ]
        },
        {
          "name": "stdout",
          "output_type": "stream",
          "text": [
            "2022-08-14 00:52:16,860 Evaluating as a multi-label problem: False\n",
            "2022-08-14 00:52:16,961 0.853\t0.8487\t0.8509\t0.7885\n",
            "2022-08-14 00:52:16,963 \n",
            "Results:\n",
            "- F-score (micro) 0.8509\n",
            "- F-score (macro) 0.6593\n",
            "- Accuracy 0.7885\n",
            "\n",
            "By class:\n",
            "              precision    recall  f1-score   support\n",
            "\n",
            "         geo     0.8503    0.9071    0.8778      3562\n",
            "         tim     0.9020    0.8717    0.8866      1996\n",
            "         org     0.7721    0.7041    0.7365      2031\n",
            "         gpe     0.9551    0.9503    0.9527      1611\n",
            "         per     0.8062    0.8021    0.8042      1582\n",
            "         art     0.2632    0.1190    0.1639        42\n",
            "         eve     0.4545    0.3704    0.4082        27\n",
            "         nat     0.5000    0.4000    0.4444        15\n",
            "\n",
            "   micro avg     0.8530    0.8487    0.8509     10866\n",
            "   macro avg     0.6879    0.6406    0.6593     10866\n",
            "weighted avg     0.8506    0.8487    0.8489     10866\n",
            "\n"
          ]
        },
        {
          "name": "stderr",
          "output_type": "stream",
          "text": [
            "\n"
          ]
        },
        {
          "name": "stdout",
          "output_type": "stream",
          "text": [
            "2022-08-14 00:52:16,965 ----------------------------------------------------------------------------------------------------\n"
          ]
        }
      ],
      "source": [
        "path = '/content/drive/My Drive/fourthbrain/flair/'\n",
        "trainer.resume(trained_model,\n",
        "               base_path=path + '-resume2',\n",
        "               max_epochs=150,\n",
        "               )"
      ]
    },
    {
      "cell_type": "code",
      "execution_count": null,
      "metadata": {
        "colab": {
          "background_save": true
        },
        "id": "q9V-dfmLtMvl"
      },
      "outputs": [],
      "source": []
    }
  ],
  "metadata": {
    "colab": {
      "collapsed_sections": [],
      "name": "flair-custom-english-ontonotes-ner.ipynb",
      "provenance": []
    },
    "gpuClass": "standard",
    "kernelspec": {
      "display_name": "Python 3",
      "name": "python3"
    },
    "language_info": {
      "name": "python"
    }
  },
  "nbformat": 4,
  "nbformat_minor": 0
}