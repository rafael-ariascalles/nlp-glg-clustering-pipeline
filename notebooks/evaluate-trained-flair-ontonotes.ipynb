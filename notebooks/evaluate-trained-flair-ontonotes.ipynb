{
 "cells": [
  {
   "cell_type": "code",
   "execution_count": 112,
   "metadata": {},
   "outputs": [],
   "source": [
    "from flair.data import Corpus\n",
    "from flair.datasets import ColumnCorpus, CSVClassificationCorpus\n",
    "from flair.embeddings import WordEmbeddings, FlairEmbeddings, StackedEmbeddings\n",
    "from flair.models import SequenceTagger\n",
    "from flair.trainers import ModelTrainer"
   ]
  },
  {
   "cell_type": "code",
   "execution_count": 113,
   "metadata": {},
   "outputs": [],
   "source": [
    "from flair.data import Sentence"
   ]
  },
  {
   "cell_type": "code",
   "execution_count": 114,
   "metadata": {},
   "outputs": [
    {
     "name": "stdout",
     "output_type": "stream",
     "text": [
      "2022-08-15 13:33:29,866 loading file ./resume2/best-model.pt\n",
      "2022-08-15 13:33:33,404 SequenceTagger predicts: Dictionary with 35 tags: O, S-geo, B-geo, E-geo, I-geo, S-tim, B-tim, E-tim, I-tim, S-org, B-org, E-org, I-org, S-per, B-per, E-per, I-per, S-gpe, B-gpe, E-gpe, I-gpe, S-art, B-art, E-art, I-art, S-eve, B-eve, E-eve, I-eve, S-nat, B-nat, E-nat, I-nat, <START>, <STOP>\n"
     ]
    }
   ],
   "source": [
    "path = './resume2/'\n",
    "model = SequenceTagger.load(path + 'best-model.pt')"
   ]
  },
  {
   "cell_type": "code",
   "execution_count": 117,
   "metadata": {},
   "outputs": [
    {
     "data": {
      "text/plain": [
       "<bound method Module.modules of SequenceTagger(\n",
       "  (embeddings): StackedEmbeddings(\n",
       "    (list_embedding_0): WordEmbeddings(\n",
       "      'glove'\n",
       "      (embedding): Embedding(400001, 100)\n",
       "    )\n",
       "    (list_embedding_1): FlairEmbeddings(\n",
       "      (lm): LanguageModel(\n",
       "        (drop): Dropout(p=0.05, inplace=False)\n",
       "        (encoder): Embedding(300, 100)\n",
       "        (rnn): LSTM(100, 2048)\n",
       "        (decoder): Linear(in_features=2048, out_features=300, bias=True)\n",
       "      )\n",
       "    )\n",
       "    (list_embedding_2): FlairEmbeddings(\n",
       "      (lm): LanguageModel(\n",
       "        (drop): Dropout(p=0.05, inplace=False)\n",
       "        (encoder): Embedding(300, 100)\n",
       "        (rnn): LSTM(100, 2048)\n",
       "        (decoder): Linear(in_features=2048, out_features=300, bias=True)\n",
       "      )\n",
       "    )\n",
       "  )\n",
       "  (word_dropout): WordDropout(p=0.05)\n",
       "  (locked_dropout): LockedDropout(p=0.5)\n",
       "  (embedding2nn): Linear(in_features=4196, out_features=4196, bias=True)\n",
       "  (rnn): LSTM(4196, 256, batch_first=True, bidirectional=True)\n",
       "  (linear): Linear(in_features=512, out_features=35, bias=True)\n",
       "  (loss_function): ViterbiLoss()\n",
       "  (crf): CRF()\n",
       ")>"
      ]
     },
     "execution_count": 117,
     "metadata": {},
     "output_type": "execute_result"
    }
   ],
   "source": [
    "model.modules"
   ]
  },
  {
   "cell_type": "code",
   "execution_count": 105,
   "metadata": {},
   "outputs": [
    {
     "name": "stdout",
     "output_type": "stream",
     "text": [
      "2022-08-13 05:57:34,575 Reading data from utf8\n",
      "2022-08-13 05:57:34,575 Train: utf8/ner_train_utf8.txt\n",
      "2022-08-13 05:57:34,576 Dev: None\n",
      "2022-08-13 05:57:34,578 Test: utf8/ner_test_utf8.txt\n"
     ]
    }
   ],
   "source": [
    "# define columns\n",
    "columns = {0: 'text', 1: 'ner'}\n",
    "\n",
    "# this is the folder in which train, test and dev files reside\n",
    "data_folder = 'utf8/'\n",
    "\n",
    "# init a corpus using column format, data folder and the names of the train, dev and test files\n",
    "corpus: Corpus = ColumnCorpus(data_folder, columns,\n",
    "                              train_file=None,\n",
    "                              test_file='ner_test_utf8.txt',\n",
    "                              dev_file=None,\n",
    "                              skip_first_line=True)"
   ]
  },
  {
   "cell_type": "code",
   "execution_count": 106,
   "metadata": {},
   "outputs": [
    {
     "data": {
      "text/plain": [
       "'geo'"
      ]
     },
     "execution_count": 106,
     "metadata": {},
     "output_type": "execute_result"
    }
   ],
   "source": [
    "s = corpus.get_all_sentences()[0]\n",
    "s.get_label('ner').value"
   ]
  },
  {
   "cell_type": "code",
   "execution_count": 107,
   "metadata": {},
   "outputs": [
    {
     "name": "stderr",
     "output_type": "stream",
     "text": [
      "100%|██████████| 145/145 [23:46<00:00,  9.84s/it]"
     ]
    },
    {
     "name": "stdout",
     "output_type": "stream",
     "text": [
      "2022-08-13 06:21:36,853 Evaluating as a multi-label problem: False\n",
      "\n",
      "Results:\n",
      "- F-score (micro) 0.8514\n",
      "- F-score (macro) 0.6598\n",
      "- Accuracy 0.7887\n",
      "\n",
      "By class:\n",
      "              precision    recall  f1-score   support\n",
      "\n",
      "         geo     0.8495    0.9062    0.8769      3562\n",
      "         tim     0.8995    0.8657    0.8823      1996\n",
      "         org     0.7728    0.7134    0.7419      2031\n",
      "         gpe     0.9594    0.9528    0.9561      1611\n",
      "         per     0.8115    0.8003    0.8059      1582\n",
      "         art     0.2105    0.0952    0.1311        42\n",
      "         eve     0.4545    0.3704    0.4082        27\n",
      "         nat     0.8333    0.3333    0.4762        15\n",
      "\n",
      "   micro avg     0.8539    0.8490    0.8514     10866\n",
      "   macro avg     0.7239    0.6297    0.6598     10866\n",
      "weighted avg     0.8516    0.8490    0.8495     10866\n",
      "\n",
      "Loss: 0.06043708324432373'\n"
     ]
    },
    {
     "name": "stderr",
     "output_type": "stream",
     "text": [
      "\n"
     ]
    }
   ],
   "source": [
    "result =  model.evaluate(corpus.test, mini_batch_size=32, out_path=f\"{path}predictions.txt\", gold_label_type='ner')\n",
    "print(result)"
   ]
  },
  {
   "cell_type": "code",
   "execution_count": null,
   "metadata": {},
   "outputs": [],
   "source": []
  }
 ],
 "metadata": {
  "kernelspec": {
   "display_name": "Python 3.8.8 ('base')",
   "language": "python",
   "name": "python3"
  },
  "language_info": {
   "codemirror_mode": {
    "name": "ipython",
    "version": 3
   },
   "file_extension": ".py",
   "mimetype": "text/x-python",
   "name": "python",
   "nbconvert_exporter": "python",
   "pygments_lexer": "ipython3",
   "version": "3.8.8"
  },
  "orig_nbformat": 4,
  "vscode": {
   "interpreter": {
    "hash": "5de96e7bd8395409e1c7b7832f2239ec7bd9680ead0db1c40194c8a312bf7c20"
   }
  }
 },
 "nbformat": 4,
 "nbformat_minor": 2
}
