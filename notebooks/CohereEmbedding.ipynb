{
  "cells": [
    {
      "cell_type": "code",
      "execution_count": null,
      "metadata": {
        "id": "TOUlutBqBXj-"
      },
      "outputs": [],
      "source": [
        "%%capture\n",
        "!pip install cohere datasets"
      ]
    },
    {
      "cell_type": "code",
      "execution_count": null,
      "metadata": {
        "id": "Jb0Y2MzHBg6T"
      },
      "outputs": [],
      "source": [
        "import cohere\n",
        "from datasets import load_dataset\n",
        "import os\n",
        "import numpy as np\n",
        "from collections import Counter\n",
        "from sklearn.cluster import MiniBatchKMeans\n",
        "from scipy.cluster import hierarchy\n",
        "import matplotlib.pyplot as plt\n",
        "import pandas as pd\n",
        "import matplotlib.pyplot as plt\n",
        "import matplotlib.cm as cm\n",
        "import seaborn as sns\n",
        "\n",
        "from sklearn.metrics import silhouette_samples, silhouette_score"
      ]
    },
    {
      "cell_type": "code",
      "execution_count": null,
      "metadata": {
        "colab": {
          "base_uri": "https://localhost:8080/",
          "height": 104,
          "referenced_widgets": [
            "46dc33c155bc43d4bceb8ea649816f04",
            "9bb87cd00b2f424381843e97f059da81",
            "0c08b19a24094a90ae2b3346f2a6b6c0",
            "8311f7d195044f2181390a60efc3b24b",
            "a630ca9d7eab40e5b9fbe4443599a431",
            "bccb6b9ff2554f5c9cc0d95e2fa30450",
            "68f9a2886802439dba97af4d345c3c01",
            "2695902f5af24c39aa1de4a0f10ff2bb",
            "66f4e0d9a3a945239d89ff19563e7afe",
            "1eedaa5b2d864a639320011c80e3ca30",
            "fff64e5a2f6043528c800af6fdf55986"
          ]
        },
        "id": "xf4WD0nQByHU",
        "outputId": "6e6fbe51-83e3-4f2a-893f-e6fb34363eae"
      },
      "outputs": [
        {
          "name": "stderr",
          "output_type": "stream",
          "text": [
            "Using custom data configuration rjac--all-the-news-2-1-Component-one-embedding-f2c65fc4e73cbdb8\n",
            "Reusing dataset parquet (/root/.cache/huggingface/datasets/rjac___parquet/rjac--all-the-news-2-1-Component-one-embedding-f2c65fc4e73cbdb8/0.0.0/7328ef7ee03eaf3f86ae40594d46a1cec86161704e02dd19f232d81eee72ade8)\n"
          ]
        },
        {
          "data": {
            "application/vnd.jupyter.widget-view+json": {
              "model_id": "46dc33c155bc43d4bceb8ea649816f04",
              "version_major": 2,
              "version_minor": 0
            },
            "text/plain": [
              "  0%|          | 0/1 [00:00<?, ?it/s]"
            ]
          },
          "metadata": {},
          "output_type": "display_data"
        }
      ],
      "source": [
        "dataset = load_dataset(\"rjac/all-the-news-2-1-Component-one-embedding\")"
      ]
    },
    {
      "cell_type": "code",
      "execution_count": null,
      "metadata": {
        "colab": {
          "base_uri": "https://localhost:8080/"
        },
        "id": "Ouhk2_ZoFlCC",
        "outputId": "0026ff22-fa14-4eb3-d457-b750f5afa0cf"
      },
      "outputs": [
        {
          "name": "stderr",
          "output_type": "stream",
          "text": [
            "Loading cached shuffled indices for dataset at /root/.cache/huggingface/datasets/rjac___parquet/rjac--all-the-news-2-1-Component-one-embedding-f2c65fc4e73cbdb8/0.0.0/7328ef7ee03eaf3f86ae40594d46a1cec86161704e02dd19f232d81eee72ade8/cache-308dfeba6153ad99.arrow\n"
          ]
        }
      ],
      "source": [
        "dataset = dataset.shuffle(8564)"
      ]
    },
    {
      "cell_type": "markdown",
      "metadata": {
        "id": "VpgRiKqvtO4u"
      },
      "source": [
        "Number of cluster with a Small Sample"
      ]
    },
    {
      "cell_type": "code",
      "execution_count": null,
      "metadata": {
        "id": "5fhfUFwqFpYb"
      },
      "outputs": [],
      "source": [
        "subset = dataset.shuffle(74)[\"train\"].select(range(50_000))\n",
        "#subset = dataset[\"train\"]"
      ]
    },
    {
      "cell_type": "code",
      "execution_count": null,
      "metadata": {
        "colab": {
          "base_uri": "https://localhost:8080/"
        },
        "id": "EePa8ZD4F1_g",
        "outputId": "62a992bb-19d9-4749-9882-879046dad60d"
      },
      "outputs": [
        {
          "data": {
            "text/plain": [
              "Dataset({\n",
              "    features: ['article_idx', 'year', 'month', 'paragraph_position', 'paragraph', 'embedding'],\n",
              "    num_rows: 50000\n",
              "})"
            ]
          },
          "execution_count": 7,
          "metadata": {},
          "output_type": "execute_result"
        }
      ],
      "source": [
        "subset "
      ]
    },
    {
      "cell_type": "code",
      "execution_count": null,
      "metadata": {
        "id": "zxLf7-FbtdTO"
      },
      "outputs": [],
      "source": [
        "def visualize_elbow(X, ks):\n",
        "    fig, ax = plt.subplots()\n",
        "    inertias = []\n",
        "    silhouette = []\n",
        "    for k in ks:\n",
        "        kmeans = MiniBatchKMeans(n_clusters = k, max_iter = 10_000,n_init=20, batch_size= 256 * os.cpu_count() - 5 ,random_state = 654).fit(X)\n",
        "        inertias.append(kmeans.inertia_)\n",
        "        cluster_labels = kmeans.predict(X)\n",
        "        silhouette_avg = silhouette_score(X, cluster_labels)\n",
        "        silhouette.append(silhouette_avg)\n",
        "\n",
        "    plt.plot(ks, inertias)\n",
        "    plt.xticks(ks)\n",
        "    plt.xlabel('Number of clusters')\n",
        "    plt.ylabel('Inertia')\n",
        "    plt.title('Elbow plot')\n",
        "    plt.show()\n",
        "\n",
        "    plt.plot(ks, silhouette)\n",
        "    plt.xticks(ks)\n",
        "    plt.xlabel('Number of clusters')\n",
        "    plt.ylabel('silhouette')\n",
        "    plt.title('silhouette Score')"
      ]
    },
    {
      "cell_type": "code",
      "execution_count": null,
      "metadata": {
        "id": "aqO7fI2SSRn0"
      },
      "outputs": [],
      "source": [
        "#cluster_model = MiniBatchKMeans(n_clusters = 100, max_iter = 10_000,n_init=20, batch_size=batch_size ,random_state = 654)"
      ]
    },
    {
      "cell_type": "code",
      "execution_count": null,
      "metadata": {
        "id": "O1B94wpoS4zz"
      },
      "outputs": [],
      "source": [
        "subset.set_format(type='numpy', columns=['embedding'],output_all_columns=True)"
      ]
    },
    {
      "cell_type": "code",
      "execution_count": null,
      "metadata": {
        "colab": {
          "base_uri": "https://localhost:8080/",
          "height": 573
        },
        "id": "azopCxP1vcmX",
        "outputId": "16ee91ca-904a-4504-ab96-e649cff59af2"
      },
      "outputs": [
        {
          "data": {
            "image/png": "[encoded data removed]",
            "text/plain": [
              "<Figure size 432x288 with 1 Axes>"
            ]
          },
          "metadata": {
            "needs_background": "light"
          },
          "output_type": "display_data"
        },
        {
          "data": {
            "image/png": "[encoded data removed]",
            "text/plain": [
              "<Figure size 432x288 with 1 Axes>"
            ]
          },
          "metadata": {
            "needs_background": "light"
          },
          "output_type": "display_data"
        }
      ],
      "source": [
        "visualize_elbow(subset[\"embedding\"],range(2,120, 5))"
      ]
    },
    {
      "cell_type": "code",
      "execution_count": null,
      "metadata": {
        "id": "idAbheiwFKSC"
      },
      "outputs": [],
      "source": [
        "subset = dataset[\"train\"]"
      ]
    },
    {
      "cell_type": "code",
      "execution_count": null,
      "metadata": {
        "id": "jqwu9UuQFO29"
      },
      "outputs": [],
      "source": [
        "cluster_model = MiniBatchKMeans(n_clusters = 82, max_iter = 10_000,n_init=20, batch_size= 256 * os.cpu_count() - 5 ,random_state = 654)"
      ]
    },
    {
      "cell_type": "code",
      "execution_count": null,
      "metadata": {
        "colab": {
          "base_uri": "https://localhost:8080/"
        },
        "id": "YNlKurO2GOyQ",
        "outputId": "d8c5205d-3445-42cd-8981-84e39d6a5ee3"
      },
      "outputs": [
        {
          "data": {
            "text/plain": [
              "Dataset({\n",
              "    features: ['article_idx', 'year', 'month', 'paragraph_position', 'paragraph', 'embedding'],\n",
              "    num_rows: 2475520\n",
              "})"
            ]
          },
          "execution_count": 6,
          "metadata": {},
          "output_type": "execute_result"
        }
      ],
      "source": [
        "subset"
      ]
    },
    {
      "cell_type": "code",
      "execution_count": null,
      "metadata": {
        "id": "uVJ78uowH1qr"
      },
      "outputs": [],
      "source": [
        "subset.set_format(type='numpy', columns=['embedding'],output_all_columns=True)"
      ]
    },
    {
      "cell_type": "code",
      "execution_count": null,
      "metadata": {
        "colab": {
          "base_uri": "https://localhost:8080/"
        },
        "id": "qP6BlbhRSWyR",
        "outputId": "1c81d26d-7cf2-41bd-f542-edadbb6614b5"
      },
      "outputs": [
        {
          "name": "stdout",
          "output_type": "stream",
          "text": [
            "CPU times: user 18min 20s, sys: 1h 2min 16s, total: 1h 20min 36s\n",
            "Wall time: 3min 23s\n"
          ]
        },
        {
          "data": {
            "text/plain": [
              "MiniBatchKMeans(batch_size=10235, max_iter=10000, n_clusters=82, n_init=20,\n",
              "                random_state=654)"
            ]
          },
          "execution_count": 8,
          "metadata": {},
          "output_type": "execute_result"
        }
      ],
      "source": [
        "%%time\n",
        "cluster_model.fit(subset[\"embedding\"])"
      ]
    },
    {
      "cell_type": "code",
      "execution_count": null,
      "metadata": {
        "colab": {
          "base_uri": "https://localhost:8080/",
          "height": 1000
        },
        "id": "qegFkvQaT-Gq",
        "outputId": "d6aeb371-6f77-495f-8adb-2fd5635ad436"
      },
      "outputs": [
        {
          "data": {
            "image/png": "[encoded data removed]",
            "text/plain": [
              "<Figure size 1440x1440 with 1 Axes>"
            ]
          },
          "metadata": {
            "needs_background": "light"
          },
          "output_type": "display_data"
        }
      ],
      "source": [
        "plt.figure(figsize=(20, 20))\n",
        "plt.rcParams['font.size'] = 10\n",
        "hierarchy_cluster = hierarchy.linkage(cluster_model.cluster_centers_, 'single')\n",
        "dn = hierarchy.dendrogram(hierarchy_cluster, orientation='right',color_threshold=0.45)"
      ]
    },
    {
      "cell_type": "code",
      "execution_count": null,
      "metadata": {
        "id": "rOK0ltf3UjBW"
      },
      "outputs": [],
      "source": [
        "label_ = hierarchy.fcluster(hierarchy_cluster, 0.4225,criterion='distance')\n",
        "middle_cutpoint_cluster = {c:i for c,i in zip(np.unique(cluster_model.labels_),label_)}"
      ]
    },
    {
      "cell_type": "code",
      "execution_count": null,
      "metadata": {
        "id": "RmPW_f5AMvNQ"
      },
      "outputs": [],
      "source": [
        "label_ = hierarchy.fcluster(hierarchy_cluster, 0.45,criterion='distance')\n",
        "high_cutpoint_cluster = {c:i for c,i in zip(np.unique(cluster_model.labels_),label_)}"
      ]
    },
    {
      "cell_type": "code",
      "execution_count": null,
      "metadata": {
        "colab": {
          "base_uri": "https://localhost:8080/"
        },
        "id": "5twMWz_RY-i2",
        "outputId": "8f2b7fec-852c-4e95-8590-bf39aca85f8e"
      },
      "outputs": [
        {
          "data": {
            "text/plain": [
              "cluster\n",
              "25         71628\n",
              "42         55964\n",
              "49         53487\n",
              "16         53404\n",
              "14         47038\n",
              "           ...  \n",
              "64         17780\n",
              "44         17738\n",
              "58         15767\n",
              "35         15467\n",
              "61         13314\n",
              "Length: 82, dtype: int64"
            ]
          },
          "execution_count": 74,
          "metadata": {},
          "output_type": "execute_result"
        }
      ],
      "source": [
        "pd.DataFrame({\"cluster\":cluster_model.labels_}).value_counts()"
      ]
    },
    {
      "cell_type": "code",
      "execution_count": null,
      "metadata": {
        "id": "14FVoLXPb6DK"
      },
      "outputs": [],
      "source": [
        "cluster_num = cluster_model.labels_\n",
        "#def pro(batch,i):\n",
        "#    cluster = [cluster_num[idx] for idx in i]\n",
        "#    return {\"cluster\":cluster}"
      ]
    },
    {
      "cell_type": "code",
      "execution_count": null,
      "metadata": {
        "id": "PagqTC2XbLrj"
      },
      "outputs": [],
      "source": [
        "#subset = subset.map(pro,batched=True,num_proc=os.cpu_count(),with_indices=True)"
      ]
    },
    {
      "cell_type": "code",
      "execution_count": null,
      "metadata": {
        "colab": {
          "base_uri": "https://localhost:8080/"
        },
        "id": "g0oK59MLjqoG",
        "outputId": "c25c611a-d6d2-4094-a21b-e726bd45a583"
      },
      "outputs": [
        {
          "data": {
            "text/plain": [
              "Dataset({\n",
              "    features: ['article_idx', 'year', 'month', 'paragraph_position', 'paragraph', 'embedding'],\n",
              "    num_rows: 2475520\n",
              "})"
            ]
          },
          "execution_count": 77,
          "metadata": {},
          "output_type": "execute_result"
        }
      ],
      "source": [
        "subset"
      ]
    },
    {
      "cell_type": "code",
      "execution_count": null,
      "metadata": {
        "id": "goxMvLPZjiPM"
      },
      "outputs": [],
      "source": [
        "all_df = pd.DataFrame({\"paragraph\":subset[\"paragraph\"]})"
      ]
    },
    {
      "cell_type": "code",
      "execution_count": null,
      "metadata": {
        "id": "M_1HSccLjuyv"
      },
      "outputs": [],
      "source": [
        "all_df[\"cluster_lvl3\"] = cluster_num"
      ]
    },
    {
      "cell_type": "code",
      "execution_count": null,
      "metadata": {
        "id": "avRWRbTjRO8b"
      },
      "outputs": [],
      "source": [
        "all_df[\"cluster_lvl2\"] = all_df.cluster.map(middle_cutpoint_cluster)"
      ]
    },
    {
      "cell_type": "code",
      "execution_count": null,
      "metadata": {
        "id": "0RER2FYRRhrR"
      },
      "outputs": [],
      "source": [
        "all_df[\"cluster_lvl1\"] = all_df.cluster.map(high_cutpoint_cluster)"
      ]
    },
    {
      "cell_type": "code",
      "execution_count": null,
      "metadata": {
        "id": "rBuV9iQ-npZ6"
      },
      "outputs": [],
      "source": [
        "# iterate a list in batches of 50\n",
        "import itertools\n",
        "def batch_iter(iterable, batch_size):\n",
        "    iterator = iter(iterable)\n",
        "    for first in iterator:\n",
        "        yield itertools.chain([first], itertools.islice(iterator, batch_size - 1))"
      ]
    },
    {
      "cell_type": "code",
      "execution_count": null,
      "metadata": {
        "id": "JNIVkzoxSQsF"
      },
      "outputs": [],
      "source": [
        "word_frequency = Counter()\n",
        "for batch in batch_iter(all_df[\"paragraph\"],10_000):\n",
        "    word_frequency.update([w.lower() for p in list(batch) for w in p.split(\" \")])"
      ]
    },
    {
      "cell_type": "code",
      "execution_count": null,
      "metadata": {
        "colab": {
          "base_uri": "https://localhost:8080/"
        },
        "id": "bADK29MdkvEk",
        "outputId": "c3d536a3-2d2f-4875-cf92-01f7d0b10924"
      },
      "outputs": [
        {
          "name": "stdout",
          "output_type": "stream",
          "text": [
            "-------------------------------------------------------------------\n",
            "bown, , seade , lighthizer’s , ustr , guajardo , nafta’s , cptpp , lighthizer, , tpp-11 , 232” , lighthizer , wto’s , w.t.o. , seade, , ildefonso , rcep , malmstrom , (ustr) , bown , 301”\n",
            "------------------------------------------------------------------- 0\n",
            "wr, , rb, , pointsone , gase , maccagnan , nflpa , gruden , owned). , tunsil , foles , burfict , quarterbacks , garoppolo , all-pro , roethlisberger , hayden: , \n",
            "\n",
            "\n",
            "\n",
            "start: , mcadoo , clowney , belichick\n",
            "------------------------------------------------------------------- 1\n",
            "rajoy’s , puigdemont’s , junqueras , fayulu , bouteflika’s , puigdemont , bouteflika , karoui , torra , chamisa , podemos, , rajoy , dlamini-zuma , ciudadanos, , esquerra , fayulu, , catalans , fpo , fillon’s , ramazani\n",
            "------------------------------------------------------------------- 2\n",
            "gardendale , lockport , beutner , #nationalwalkoutday , no-excuses , here »\n",
            "\n",
            " , bump-fire , erpo , caputo-pearl , right-to-carry , loesch: , 2016you , campus-carry , bump-stock , clemon , non-gun , ehrhart , wintemute , population:state , large-capacity\n",
            "------------------------------------------------------------------- 3\n",
            "1.5°c , geoengineering , beccs , gcf , 1.5c , ipcc , hfcs , ghg , 2°c , decarbonization , zero-carbon , | email , nepa , lwcf , carbon-free , 1.5-degree , smrs , rggi , leiserowitz , hfcs,\n",
            "------------------------------------------------------------------- 4\n",
            "idr: , idrs, , --support , non-performance , 'bbb+'; , '5' , 'f1' , --short-term , peringkat , --long-term , '1' , 'a-'; , --senior , vrs , 'bbb-'; , 'aa-'; , idrs. , idrs , 'f1'; , 8256\n",
            "------------------------------------------------------------------- 5\n",
            "nakesha , hollinghurst , athill , ozick , kalnbērzs , drnaso , paulette's , provost: , gurba , mailhot , messud , amazon.\n",
            "\n",
            " , rokar , ketifa , irgit , avatara , sparsholt , buber , tizon , kubitschek\n",
            "------------------------------------------------------------------- 6\n",
            "game|life , \n",
            "\n",
            "podcast\n",
            "\n",
            " , (netflix)\n",
            "\n",
            "\n",
            "\n",
            "\n",
            "\n",
            "\n",
            "\n",
            "\n",
            "\n",
            "\n",
            "average , \n",
            "\n",
            "\n",
            "\n",
            "rss\n",
            "\n",
            "\n",
            "itunes\n",
            "\n",
            "\n",
            "download\n",
            "\n",
            "\n",
            "\n",
            "\n",
            " , airtv , insights here.\n",
            "\n",
            " , \n",
            "watch , 1)season , 3)season , reelgood , expressions: , bamtech , guasti , fubotv , 2)season , sling’s , universe)\n",
            "\n",
            "\n",
            "\n",
            "\n",
            "\n",
            "\n",
            "\n",
            "\n",
            "\n",
            "\n",
            "average , fubo , moviepass , \n",
            "\n",
            "\n",
            "\n",
            "rss\n",
            "\n",
            "\n",
            "itunes\n",
            "\n",
            "\n",
            "download\n",
            "\n",
            "\n",
            "\n",
            "\n",
            "\n",
            " \n",
            "it’s\n",
            "------------------------------------------------------------------- 7\n",
            "siatta , dassey , persky , schmack , syed’s , dassey’s , guyger , mujey , skalnik , dulos , urtula , dulos' , guyger’s , bulger’s , dassey's , troconis , salemme , mccullough's , deguerin , fotis\n",
            "------------------------------------------------------------------- 8\n",
            "crunchmatch , openstack , ignitionone , 2018-2019: , reporterbusiness , millionwhat , millionvaluation: , databricks , datacamp , dd: , headcount: , promo] , loizos:              , mcluckie , californiaindustry: , andela , proptech , thoughtspot , gigster , sparklabs\n",
            "------------------------------------------------------------------- 9\n",
            "kethledge , stras , thapar , scalia's , kavanaugh's , kavanaugh’s , blasey’s , ozerden , arberg , kavanaugh: , scalia’s , gorsuch’s , gorsuch's , bogren , kethledge, , fortas , amul , kavanaugh , gorsuch , court-packing\n",
            "------------------------------------------------------------------- 10\n",
            "ind-as; , 9-months , sept-quarter , (2018: , euros) , rupees; , dec-quarter , (py: , million)versus , (h1 , consol , ago , penceper , prelim. , (ras) , ‍h1 , epra , teur , end-dec. , krka\n",
            "------------------------------------------------------------------- 11\n",
            "palmieri: , nigatu: , beruff , lopez-cantera , cruztrump , bonnen , “cruz , scenario' , pro-cruz , beruff, , paduchik , (cnn)ted , lopez-cantera, , o’rourke’s , huelskamp’s , huelskamp , rubio’s , cruz’s , nrsc , supporting:\n",
            "------------------------------------------------------------------- 12\n",
            "corbally , nominations\n",
            "\n",
            "\n",
            "\n",
            "\n",
            "\n",
            "\n",
            "\n",
            "\n",
            "\n",
            "\n",
            "best , alig , mccullah , fogelson , pictures)· , lynche , gallin , (@twhiddleston) , (@carrieffisher) , #hairspraylive , donen , ludendorff , nyswaner , gatsiounis , #captainmarvel , maggetti , @john_boyega , chrises , alig's\n",
            "------------------------------------------------------------------- 13\n",
            "salter: , wuco , (ret.)  , #trumpbookreport , \"moron\" , sulzberger: , mcconney , haberman: , scaramuccithe , woodward: , scaramuccianthony , scaramucci's , scaramucci: , compagno: , wolff's ,  0 , d'antonio , trump\n",
            " , woodward's , spicerovernight\n",
            "------------------------------------------------------------------- 14\n",
            "nevils , berganza , tweeden , erdely , haleyi , tantaros , rotunno , zervos , maerov , viganò , stoynoff , ghomeshi , mackris , menz , (@garius) , harth , heslep , @virginmedia , nevils, , vigano\n",
            "------------------------------------------------------------------- 15\n",
            "rosenstein's , manafort's , 448-page , rosenstein , manafort’s , mueller's , rosenstein’s , (d)rep. , mueller’s , strzok , kilimnik, , papadopoulos , strzok's , sekulow , comey: , mccabe's , calk , counsel's , kilimnik , kislyak\n",
            "------------------------------------------------------------------- 16\n",
            "saffir-simpson , audemio , nhc , klotzbach , millibars , spillway , kapoho , pahoa, , (nhc) , puna , abaco , hennen , kilauea , lanipuna , nws , maue , \n",
            "\t\t\t9:00 , kincade , irma's , eyewall\n",
            "------------------------------------------------------------------- 17\n",
            "enlace. , eletrobras , [en , leernos. , sugerencias? , inglés]. , opinión? , nogueira; , ¿tienes , escríbenos , darte , dirección. , ¿quieres , suscrito, , queridos. , pierdas , hacernos , familiares, , mvll: , inglés]\n",
            "------------------------------------------------------------------- 18\n",
            "(pg-13, , (brantley) , (dargis) , (isherwood) , telecharge.com. , (soloski) , previews; , (1:30). , (genzlinger) , (2:20). , 212-239-6200, , (2:15). , (kenigsberg) , (previews , (r, , (2:30). , (pg, , (2:00). , (collins-hughes) , 877-250-2929,\n",
            "------------------------------------------------------------------- 19\n",
            "isps , ccpa , totok , webpass , eprivacy , crtc , locationsmart , isps, , zero-rating , duckduckgo , https , isp , netsweeper , isps. , (isps) , zumigo , ghostery , #googlewalkout , tcpa , https,\n",
            "------------------------------------------------------------------- 20\n",
            "tsx’s , s&p/tsx , —imbert , cpurl://apps.cp./cms/?pageid=livemarkets) , jun: , saut , (advisory- , vix , 30-stock , mar: , n-manufacturing , (vix), , dec: , suttmeier , feb: , link.reuters.com/mex49s) , (13:30 , jan: , (cnbc)* , decliner.\n",
            "------------------------------------------------------------------- 21\n",
            "associates); , metrix. , salmar, , yasuda: , makro's , existing-home , kgms , six-to-seven-month , handysize , inventory-to-sales , like-for-like , menear , currency-adjusted , (nhba) , (qv) , comparable-store , antad , eiendomsverdi. , men.\n",
            "\n",
            "\n",
            "\n",
            "\n",
            "\n",
            "\n",
            "\n",
            "\n",
            "\n",
            "\n",
            "number , decline.\n",
            "\n",
            "\n",
            "\n",
            "\n",
            "\n",
            "\n",
            "\n",
            "\n",
            "\n",
            "\n",
            "what\n",
            "------------------------------------------------------------------- 22\n",
            "repeal-only , cassidy-graham , graham-cassidy , repeal-and-replace , graham-cassidy, , ­obamacare , alexander-murray , graham-cassidy. , vote-a-rama , “skinny” , \"obamacare , “obamacare , obamacare,” , repeal\" , cr. , cr, , cr,” , ahca. , cassidyi'm , obamacare.\"\n",
            "------------------------------------------------------------------- 23\n",
            "hsce , chinext , h-shares , h-shares. , h-share , ssec , hk->shanghai , shanghai->hk , csi300 , cebm , luoyan , a-shares , (nbs) , zhengsheng , tsf , (tsf), , ex-japan , csi300’s , csi300's , jibun\n",
            "------------------------------------------------------------------- 24\n",
            "ред , 07/11 , 05/09 , 06/06 , 05/23 , 05/02 , 08/01 , 04/18 , 03/21 , 02/01 , рд░ , 05/30 , cxense , mgr: , director​ , offering; , 06/08 , 06/07 , suranjan: , 08/03\n",
            "------------------------------------------------------------------- 25\n",
            "tavernise: , injuredat , salamoni , douglas: , smithee , tsachas , cervera , legan , conditt , olango , oyeneyin , gahler , ghaisar , paddock's , dabadie , siyonbola , kerl , pfleger , ipra , minassian\n",
            "------------------------------------------------------------------- 26\n",
            "(cpi: , jgb , ioer , saphir; , boj , copom , jgbs , boj’s , bid-to-cover , saphir , mba’s , (ycc), , superlong , kataoka , longer-run , boj's , jgbs, , quarter-point , 2-percent , core-core\n",
            "------------------------------------------------------------------- 27\n",
            "rhp , rbis , lhp , two-out , two-run , innings. , walk-offs , strikeouts , era) , strikeouts. , homers , inning. , right-hander , rbis. , one-out , earned) , no-decision , innings , three-run , matchup:\n",
            "------------------------------------------------------------------- 28\n",
            "3-pointer , power-play , 3-pointers , game-high , layup , 3-pointers. , tip-ins , outrebounded , 3-pointers, , one-timer , empty-net , rebounds. , assists. , 3-pointer, , outshot , rebounds) , dubnyk , assists) , lw , bobrovsky\n",
            "------------------------------------------------------------------- 29\n",
            "tirschwell , greebel , polster , hardeman’s , multidistrict , wyly , hardeman's , westlawnext , nordlicht , breja , dicarmine , virnetx , balkman , jiampietro , ejd , westlaw , greebel's , aselage , ravich , lenkner\n",
            "------------------------------------------------------------------- 30\n",
            "rhaegar , theon , negan , lyanna , tyrion , negan’s , littlefinger , olenna , varys , dany’s , gendry , cersei, , cersei’s , tyrion, , tyrion’s , jorah , aerys , arya's , dany's , melisandre\n",
            "------------------------------------------------------------------- 31\n",
            "في , على , أن , من , إلى , التي , rakhine , كان , لم , عن , के , futhu , الذي , rakhine. , كانت , qunun , rakhine, , أو , rohingyas , में\n",
            "------------------------------------------------------------------- 32\n",
            "barnier , dup , eu-uk , “backstop” , 650-seat , starmer , brexiteers , dup, , backstop, , remainers , prorogation , (dup) , pro-brexit , chequers , brexit-supporting , brexiteer , coveney , eu-member , anti-brexit , dup’s\n",
            "------------------------------------------------------------------- 33\n",
            "triclosan , sunscreens , chromium-6 , terpenes , creambest , acne-prone , oxybenzone , scrubbest , salicylic , ultraprocessed , zeichner , foria , sebum , sunscreens, , exfoliator , evenflo , peanut-containing , uvb , vapers , aspartame\n",
            "------------------------------------------------------------------- 34\n",
            "frogmore , highnesses , anmer , sussexes , brooksbank , eugenie, , eugenie’s , royal streaming now , #royalwedding , william and kate , (@kensingtonroyal) , trooping , meghan: , harry‘s , mozzi , mapelli , brooksbank, , markle&aposs , patronages , elizabeth‘s\n",
            "------------------------------------------------------------------- 35\n",
            "kcna , yongbyon , inter-korean , musudan , 1950-53 , punggye-ri , sohae , panmunjom , dprk , kaesong , koreas , rodong , denuclearization , pyongyang's , pyongyang , thae , denuclearization,” , denuclearization, , north&aposs , icbm,\n",
            "------------------------------------------------------------------- 36\n",
            "zacks , overstock's , streetaccount , ackman: , anmuth , wachenheim: , billionclosing , streetaccount. , ellwanger , berkshire's , shwed , dvmt , $14-$16. , extended-hours , dusaniwsky, , bell: , gannett's , einhorn: , cloudera's , daryanani\n",
            "------------------------------------------------------------------- 37\n",
            "s.l.c.1 , cents/gallon , (state: , cent/gallon , ‘‘(i) , 1903a , ‘‘(ii) , ‘‘(b) , ‘‘(a) , w-4 , 18.40 , (moody's/s&p): , subparagraph , ·       , ‘‘(c) , ‘‘(2) , ‘‘(1) , ‘‘(iii) , aa1, , nmtc\n",
            "------------------------------------------------------------------- 38\n",
            "tv\n",
            "\n",
            "\n",
            "\n",
            "\n",
            "from , speaker\n",
            "\n",
            "\n",
            "\n",
            "\n",
            "from , amazon\n",
            "\n",
            "\n",
            "\n",
            "see , 15.6\" , — $11.99 , model)\n",
            "\n",
            "\n",
            "\n",
            "\n",
            "from , be.\n",
            "\n",
            "\n",
            "vox , verge-approved , headphones\n",
            "\n",
            "\n",
            "\n",
            "\n",
            "from , (16gb) , toothbrush\n",
            "\n",
            "\n",
            "\n",
            "\n",
            "from , vivobook , laptop\n",
            "\n",
            "\n",
            "\n",
            "\n",
            "from , 15.6-inch , gen) , inspiron , buy\n",
            "\n",
            "\n",
            "\n",
            "see , vostro , 75\" , tablet\n",
            "\n",
            "\n",
            "\n",
            "\n",
            "from\n",
            "------------------------------------------------------------------- 39\n",
            "qtrly , rgt; , i/b/e/s , ‍qtrly , non-gaap , $0.39 , $0.31 , $0.34 , rgt, , $0.42 , $0.56 , $0.44 , $0.43 , $0.27 , $0.09 , $0.19 , $0.41 , $0.29 , $0.18 , $0.21\n",
            "------------------------------------------------------------------- 40\n",
            "kyrgios , thiem , tsitsipas , cilic , halep , pliskova , vettel , konta , nishikori , djokovic , garros , 7-6(5) , barty , quarter-finals , potro , federer’s , nadal’s , kvitova , djokovic, , federer\n",
            "------------------------------------------------------------------- 41\n",
            "(notified , gmlp, , glng, , 22/deadline , ewm, , amza, , 8/deadline , eufn, , 7/deadline , 18/deadline , 24/deadline , ccj, , 1/deadline , 14/deadline , cgc, , 19/deadline , (approved , 5/deadline , 23/deadline , pypl,\n",
            "------------------------------------------------------------------- 42\n",
            "dravis , ‑‑ , harker: , chmielewski , 02/15 , clarida: , mester: , javers: , isaacson: , carlin: , minoli , kraninger , kraninger’s , \n",
            "\n",
            "senate , subcommittees: , chmielewski, , oira , pruitt's , apol , dravis,\n",
            "------------------------------------------------------------------- 43\n",
            "uberpop , levandowski , uberx , greyball , uberpool , drive.ai , disengagements , levandowski, , ride-hail , taxify , 516-233-8877. , hornsey , limebike , at johana@recode.net or , dockless , uberpool, , @jmbooyah. , levandowski’s , bike-share , waymo’s\n",
            "------------------------------------------------------------------- 44\n",
            "(chinen) , —colin , \"melodic.\" , pazz , tracklist: , | listen , christgau , jop , 212-255-4037, , obituary.) , *world , est/6 , villagevanguard.com. , 212-258-9595, , (caramanica) , dizzy’s , (pareles) , taborn , premiere* , **world\n",
            "------------------------------------------------------------------- 45\n",
            "callimachi: , province: , huzayfah: , [arabic] , kunduz , lashkar , faryab , nangarhar , ghazni , abdiasis , mosul’s , falluja , badghis , mills: , hawk: , takhar , baghlan , al-nuri , khogyani, , baghouz\n",
            "------------------------------------------------------------------- 46\n",
            "neutrinos , ligo , frbs , mu69 , exoplanets , [▫️] , ryugu , hayabusa2 , supermassive , osiris-rex , ngc , astrophysical , cassini , bennu , exoplanet , philae , protoplanetary , enceladus , gravitational-wave , interferometer\n",
            "------------------------------------------------------------------- 47\n",
            "che: , jost: , [audio , roe: , ej: , weaver: , (@vogtroberts) , (@brainmage) , sexhorn , yekutiel: , flannery: , altman: , venter: , iz: , mollenkopf: , yusaf , kennedy b. , sorda , 🚑nee-naw , ls:\n",
            "------------------------------------------------------------------- 48\n",
            "blogs? click , blogs? , catelynn , “khloé , baskett , carpinello , fedotowsky-manno , hilaria , kailyn , (duggar) , disick, , disick , haqq , kourtney. , pen: former , (@robkardashian) , oz., , disick’s , “kourtney , chyna,\n",
            "------------------------------------------------------------------- 49\n",
            "sabraw , dapa , tps , jadwat, , uscis , tornillo , gelernt, , 287(g) , mpp , reunifications , nseers , ostadhassan , vizguerra , tornillo, , tigar , apprehensions , fronteras, , sandweg , crossers , yale-loehr\n",
            "------------------------------------------------------------------- 50\n",
            "zittrain: , followers): , mosseri , onavo , six4three , battenhausen's , mosseri, , kogan’s , twttr , off-facebook , leathern , bickert , kogan , schroepfer , zuckerberg: , leathern, , #deletefacebook , hyp3r , bickert, , devumi\n",
            "------------------------------------------------------------------- 51\n",
            "medigap , obria , 340b , gavino , h.s.a. , healthcare.gov, , healthcare.gov , hsas , wichmann: , healthcare.gov. , coinsurance , avalere , aca’s , baby:vaginal , ahps , high-deductible , enrollees , guttmacher , fee-for-service , aca's\n",
            "------------------------------------------------------------------- 52\n",
            "borchetta , borchetta, , @adele , swifties , miyashiro , (@jamesblunt) , #grammys , pop/rock , (@amas) , bmlg , @taylorswift13 , “…ready , soul/r&b , “me!” , grammys’ , “swish , @recordingacad , culturecon , amas , (@adele)\n",
            "------------------------------------------------------------------- 53\n",
            "jcpoa , irgc , m.b.z. , araqchi , zarif , iaea , zarif’s , kamalvandi , jcpoa, , jcpoa. , erekat , zarif. , low-enriched , impero , gargash , fordow , irgc’s , irgc, , “iran’s , (irgc)\n",
            "------------------------------------------------------------------- 54\n",
            "benenson: , plouffe: , ranked-choice , endorsed: ,  first , http://politi.co/1ogcefv , dixville , electors , delegates) , gronke , upshot/siena , votecastr , likely-voter , nbc/wsj/marist , recanvass , http://politi.co/2faxmfw , live-interview , nonvoters , reduced' , johnsonprogressive\n",
            "------------------------------------------------------------------- 55\n",
            "cnex , skycom , futurewei , zhengfei , hongmeng , skycom, , \"huawei , canicula , zhengfei, , dipont , ren: , iflytek , “huawei , sloven , zhengfei: , huawei's , huaweis , tepper: , huawei’s , business)huawei\n",
            "------------------------------------------------------------------- 56\n",
            "r29.co/mdfaqs , expensesrent: , (2x/month): , expensed) , payment: , (biweekly): , indoors: , diarists , foot: , uhnw , total: , expensesmortgage: , one-bath , broker: , fluctuate? , expenseshousing: , managerindustry: , employment: 2018 , nysalary: , brat:\n",
            "------------------------------------------------------------------- 57\n",
            "pro-beijing , legco , vimvam , kongers , lam's , rthk , mini-constitution, , tiangong-1 , demosisto , anti-extradition , lam’s , mini-constitution , kowloon , sino-british , demosisto, , pro-establishment , bauhinia , minhai, , wukan , tuen\n",
            "------------------------------------------------------------------- 58\n",
            "fairphone , v30 , watchos , fold’s , bixby , s8's , truedepth , in-display , note7 , exynos , homekit , (@evleaks) , s8. , g5's , s7 , hole-punch , note7, , s10's , s8 , xda\n",
            "------------------------------------------------------------------- 59\n",
            "coronaviruses , h5n8 , h3n2 , messonnier , microcephaly , dengvaxia , messonnier, , 2019-ncov, , microcephaly. , h7n9 , r0 , vaccine-derived , mers , guillain-barre , mers, , tedros , microcephaly, , shincheonji , nipah , ghebreyesus\n",
            "------------------------------------------------------------------- 60\n",
            "offender): , weeksbreed: , vetdogs , adoptable , charles-donatien , mershin , \t \n",
            " , pup’s , irgo , dewormer , petcube , pet’s , lamby , slobodchikoff , inbox.  , canine’s , porsz , akc , rescue’s , (@joecraiguk)\n",
            "------------------------------------------------------------------- 61\n",
            "ex-right , off-floor , yuan(pre-tax) , yuan(before , won/share , chinese: , undistributed , paid-in , t$10 , accumulatively , tax)/10 , tax)/share , t$1 , t$0.5 , t$ , (pre-tax) , won/share, , (beijing , t$1.5 , 27(reuters)\n",
            "------------------------------------------------------------------- 62\n",
            "trades.......... , report:............................... , percentage)............ , percentage)............. , italy...... , sectors................... , equities............... , diary.......................... , it-len , index... , allshare , eurofirst , (*). , brackets: , (*) , (preliminary , tsakalotos , regling , esm , allstars\n",
            "------------------------------------------------------------------- 63\n",
            "akar , ypg , s-400s , hulusi , afrin , pyd , incirlik , cavusoglu , ypg, , afrin, , afrin. , ypg. , zapad , s-400 , mevlut , ocalan , s-400s, , tulay , karadeniz; , turkish-backed\n",
            "------------------------------------------------------------------- 64\n",
            "opec+ , opec+, , bpd, , druzhba , bpd , bpd. , ritterbusch , vlsfo , gasoil , million-barrel , (bpd) , crudes , non-opec , kilduff, , mcgillian, , distillate , opec's , pvm , ritterbusch, , ust-luga\n",
            "------------------------------------------------------------------- 65\n",
            "e-tron , id.3 , eqc , pound-feet , mach-e , polestar , taycan , four-cylinder , 0-60 , fisker , all-wheel-drive , supercharger , urus , xc40 , gt500 , i-pace , kba , superchargers , battery-electric , all-wheel\n",
            "------------------------------------------------------------------- 66\n",
            "zolgensma , valsartan , chmp , tecentriq , progression-free , 03/14 , aducanumab , zolgensma, , spinraza , spinraza, , pd-l1 , herceptin , pcsk9 , exondys , semaglutide , hemlibra , pdufa , monotherapy , nsclc , mabvax\n",
            "------------------------------------------------------------------- 67\n",
            "capricorn, , aries! , pisces! , sagittarius, , pisces , horoscope , capricorn , sagittarius! , aquarius! , gemini! , libra! , sagittarius. , taurus! , scorpio! , pisces. , aries. , virgo! , capricorn. , horoscopes , aries,\n",
            "------------------------------------------------------------------- 68\n",
            "(applause.)  , sarimsakci , burman: , [interruption] , (applause.) , doonbeg , niceta , drollinger , atkiss , leazott , (@petesouza) , doonbeg, , shnaider , leach: , kallstadt , prestwick , gmt+2: , https://t.co/el01y8zgyf , (@flotus) , drollinger’s\n",
            "------------------------------------------------------------------- 69\n",
            "quijano: , abramson: , mook: , kaine: , bacelar , steyerbiden , host krystal , buttigiegbiden , bidenas , steyertom , harpootlian , hallquist , canova , w.f.p. , maddow: , 'ugly, , buttigiegpete , obama' , dejear , bloombergbiden\n",
            "------------------------------------------------------------------- 70\n",
            "forwards............. , guide.... , rates.......... , ugx , t-bills.............. , bonds............. , ................ , guide............ , benchmark............. , prices....... , deposits..................... , guide....... , rate..... , café/bar: , medium-long , mangudya , lacunza , ctz/btpi , notes27-mar , maait\n",
            "------------------------------------------------------------------- 71\n",
            "mcas , a321xlr , mcas, , anti-stall , gebremariam , tewolde , balpa , angle-of-attack , mcas. , varsano , a350-1000 , a330neo , boeing&aposs , starliner , a350-900 , single-aisle , a321 , elwell , a321xlr, , stall-prevention\n",
            "------------------------------------------------------------------- 72\n",
            "salahi , falciani , voronenkov , skripal’s , skripals , enotiades , ­deutsche , kolpakov: , golunov , skripal , regeni’s , salahi’s , boshirov , novichok , litvinenko , levashov , assange’s , vashukevich , dpr2 , litvinenko,\n",
            "------------------------------------------------------------------- 73\n",
            " , damigo , fasces , \"alt-left\" , m.b.: , ciccariello-maher\n",
            "------------------------------------------------------------------- 74\n",
            "arpaio: , devine: , muslet , oghi , cerreti , pulinario , gililland , caswick , murt , jahi , jahi’s , pokora , ‌ , na’im , stinkbug , shyshy , arcentales , widman , giu­lianotti , karageorge\n",
            "------------------------------------------------------------------- 75\n",
            "(cotter) , (farago) , 212-570-3600, , painting’s , metmuseum.org , 212-535-7710, , announcement] , [artnews] , hv: , “untitled” , schwendener , farago) , gouzer , (smith) , cotter) , (roberta , (ongoing). , metmuseum.org. , dubuffet , whitney.org.\n",
            "------------------------------------------------------------------- 76\n",
            "gvasalia , revolve.com , kattan: , peoplestyle. , slimane’s , shapewear , kinonen , –sarah , demna , everlane.com , vetements , bralette , slimane , balayage , one-pieces , cfda/vogue , rykiel , amoruso: , slimane's , high-shine\n",
            "------------------------------------------------------------------- 77\n",
            "servings: , minutestotal: , tbsp. , cookingcare@nytimes.com. , divided\n",
            " , tsp. , minutestotal , 4prep: , tanis’s , medium-high. , salt\n",
            " , pepper\n",
            " , chopped\n",
            " , 4prep , cup|60 , tablespoons , sugar\n",
            " , oil1 , 350°f. , minutes\n",
            "\n",
            "------------------------------------------------------------------- 78\n",
            "xu: , shipt , amazonfresh , \n",
            "\n",
            "\n",
            "\n",
            "buy: , darkstore , jetblack , deliv , kidbox , b8ta , sears: , resy , lubarsky , \n",
            "learn , kmart: , cashierless , cashier-less , alphabot , sears*, , wegmans-brand , behzadzadeh\n",
            "------------------------------------------------------------------- 79\n",
            "denisovan , pterosaurs , willerslev , hozoji , denisovans , mashco , paleontologists , pterosaur , strandings , baleen , sauropods , brusatte , paleontologist , archaeopteryx , salamanders , vaquitas , iucn , hominin , pejeta , denisovans,\n",
            "------------------------------------------------------------------- 80\n",
            "shfe , graphic-2019 , gold-backed , comex , http://tmsnrt.rs/2jvdmxl , nickel: , data/events , aluminium: , autocatalyst , non-yielding , arbs , zinc: , (gmt) , bullion's , lme , bullion. , palladium , lme-registered , namboothiri , auto-catalyst\n",
            "------------------------------------------------------------------- 81\n"
          ]
        }
      ],
      "source": [
        "print(\"-------------------------------------------------------------------\")\n",
        "cluster_labels = {}\n",
        "for c, df in all_df.groupby(\"cluster_lvl3\"):\n",
        "    \n",
        "    term_frequency = Counter()\n",
        "    for batch in batch_iter(df[\"paragraph\"],10_000):\n",
        "        term_frequency.update([w.lower() for p in list(batch) for w in p.split(\" \")])\n",
        "\n",
        "    average_word_per_cluster = sum(term_frequency.values())/len(term_frequency.values())\n",
        "    c_idf = {w: np.log(1+(average_word_per_cluster/f)) for w,f in word_frequency.items()}\n",
        "    cTF_IDF = pd.DataFrame.from_dict({w:tf*c_idf.get(w,0) for w,tf in term_frequency.items()},orient=\"index\")\n",
        "    top20 = cTF_IDF.sort_values(by=0,ascending=False).head(20).reset_index()[\"index\"].values\n",
        "    labels = ' , '.join(top20)\n",
        "    print(labels)\n",
        "    cluster_labels[c] = labels\n",
        "    print(\"------------------------------------------------------------------- {}\".format(c))"
      ]
    },
    {
      "cell_type": "code",
      "execution_count": null,
      "metadata": {
        "id": "anLoPilQnP2y"
      },
      "outputs": [],
      "source": [
        "promt_template = 'Given some keywords of a cluster of documents, this program will generate the Category, Sub Category, and Topic description. Here are some examples:\\n\\nKeywords: tweets , twitter , twitters , timeline , users , feature , twttr , tweet , replies , algorithmic .\\nGeneration: the category is \\\"Technology\\\" , the Sub Category is \\\"Social Media\\\" and the topic should be \\\"twitter\\\".\\n--\\nKeywords: art , museum , artists , exhibition , paintings , artist , painting , gallery , museums , works .\\nGeneration: the category is \\\"Cultural\\\" , the Sub Category is \\\"Art\\\" and the topic should be \\\"museum\\\" .\\n--\\nKeywords: eur , million euros , euros , euros year , gdynia newsroom , gdynia , fy , year ago , h1 , euros versus dollars , gdynia .\\nGeneration: the category is \\\"Finance\\\" , the Sub Category is \\\"Economics\\\" and the topic should be \\\"EUR\\\" .\\n--\\nKeywords: hiv , aids , prep , living hiv , hivaids , antiretroviral , truvada , virus , infections , treatment .\\nGeneration: the category is \\\"Medicine\\\" , the Sub Category is \\\"Healthcare\\\" and the topic should be \\\"Hiv/Aids\\\" .\\n--\\nKeywords: {} .\\nGeneration:'"
      ]
    },
    {
      "cell_type": "code",
      "execution_count": null,
      "metadata": {
        "id": "_QhgqtHFnMPr"
      },
      "outputs": [],
      "source": [
        "string = \"ellaria , gendry , varys , olenna , melisandre , arya's , littlefinger , lyanna , theon , cersei. , cersei , arya’s , rhaegar , missandei , cersei’s\""
      ]
    },
    {
      "cell_type": "code",
      "execution_count": null,
      "metadata": {
        "id": "NQU13bCqd9A-"
      },
      "outputs": [],
      "source": [
        "import re\n",
        "def remove_non_alphanumeric(text):\n",
        "    text = re.sub(r'\\n', ' ', text)\n",
        "    text = re.sub(r'\\t', ' ', text)\n",
        "    text = re.sub(r'\\s+', ' ', text)\n",
        "    text = re.sub(r'\\'s', '', text)\n",
        "    text = re.sub(r'[^\\w-]', '', text)\n",
        "    return text"
      ]
    },
    {
      "cell_type": "code",
      "execution_count": null,
      "metadata": {
        "id": "a2GJoPO-fsU5"
      },
      "outputs": [],
      "source": []
    },
    {
      "cell_type": "code",
      "execution_count": null,
      "metadata": {
        "id": "h3XPD1BgfjlA"
      },
      "outputs": [],
      "source": [
        "import cohere\n",
        "co = cohere.Client('COHERE_API_KEY')\n",
        "cluster_description = {}\n",
        "for k in cluster_labels:\n",
        "    words = np.unique([remove_non_alphanumeric(w) for w in cluster_labels.get(k).split(\" , \")])\n",
        "    response = co.generate(\n",
        "        model='xlarge',\n",
        "        prompt=promt_template.format(' , '.join(words)),\n",
        "        max_tokens=30,\n",
        "        temperature=0.4,\n",
        "        k=0,\n",
        "        p=1,\n",
        "        frequency_penalty=0,\n",
        "        presence_penalty=0,\n",
        "        stop_sequences=[\"--\"],\n",
        "        return_likelihoods='NONE'\n",
        "    )\n",
        "    \n",
        "    cluster_description[k] = response.generations[0].text"
      ]
    },
    {
      "cell_type": "code",
      "execution_count": null,
      "metadata": {
        "colab": {
          "base_uri": "https://localhost:8080/"
        },
        "id": "aarHyrGAhMza",
        "outputId": "ad28b14f-9486-4073-e2be-550db83adeb2"
      },
      "outputs": [
        {
          "data": {
            "text/plain": [
              "{0: ' the category is \"Economy\" , the Sub Category is \"Trade\" and the topic should be \"TPP\" .\\n--',\n",
              " 1: ' the category is \"Sports\" , the Sub Category is \"Football\" and the topic should be \"NFL\" .\\n--',\n",
              " 2: ' the category is \"Politics\" , the Sub Category is \"Government\" and the topic should be \"Algeria\" .\\n--',\n",
              " 3: ' the category is \"Politics\" , the Sub Category is \"Law\" and the topic should be \"guns\" .\\n--',\n",
              " 4: ' the category is \"Environment\" , the Sub Category is \"Climate\" and the topic should be \"Carbon\" .\\n--',\n",
              " 5: ' the category is \"Finance\" , the Sub Category is \"Economics\" and the topic should be \"Non-performance\" .\\n--',\n",
              " 6: ' the category is \"Literature\" , the Sub Category is \"Fiction\" and the topic should be \"Fiction\" .\\n--',\n",
              " 7: ' the category is \"Entertainment\" , the Sub Category is \"Media\" and the topic should be \"streaming\" .\\n--',\n",
              " 8: ' the category is \"Crime\" , the Sub Category is \"Murder\" and the topic should be \"murder\" .\\n--',\n",
              " 9: ' the category is \"Technology\" , the Sub Category is \"IT\" and the topic should be \"2018-2019\" .\\n--',\n",
              " 10: ' the category is \"Politics\" , the Sub Category is \"Law\" and the topic should be \"Supreme Court\" .\\n--',\n",
              " 11: ' the category is \"Finance\" , the Sub Category is \"Economics\" and the topic should be \"2018\" .\\n--',\n",
              " 12: ' the category is \"Politics\" , the Sub Category is \"Elections\" and the topic should be \"Cruz\" .\\n--',\n",
              " 13: ' the category is \"Entertainment\" , the Sub Category is \"Movies\" and the topic should be \"Captain Marvel\" .\\n--',\n",
              " 14: ' the category is \"Politics\" , the Sub Category is \"US Politics\" and the topic should be \"Trump\" .\\n--',\n",
              " 15: ' the category is \"News\" , the Sub Category is \"Politics\" and the topic should be \"berganza\" .\\n--',\n",
              " 16: ' the category is \"Politics\" , the Sub Category is \"US Politics\" and the topic should be \"Mueller\" .\\n--',\n",
              " 17: ' the category is \"Natural Disasters\" , the Sub Category is \"Weather\" and the topic should be \"Hurricanes\" .\\n--',\n",
              " 18: ' the category is \"Education\" , the Sub Category is \"Language\" and the topic should be \"English\" .\\n--',\n",
              " 19: ' the category is \"Entertainment\" , the Sub Category is \"Movies\" and the topic should be \"R\" .\\n--',\n",
              " 20: ' the category is \"Law\" , the Sub Category is \"Privacy\" and the topic should be \"CCPA\" .\\n--',\n",
              " 21: ' the category is \"Finance\" , the Sub Category is \"Economics\" and the topic should be \"stocks\" .\\n--',\n",
              " 22: ' the category is \"Retail\" , the Sub Category is \"Retailers\" and the topic should be \"Antad\" .\\n--',\n",
              " 23: ' the category is \"Politics\" , the Sub Category is \"Government\" and the topic should be \"healthcare\" .\\n--',\n",
              " 24: ' the category is \"Finance\" , the Sub Category is \"Economics\" and the topic should be \"A-shares\" .\\n--',\n",
              " 25: ' the category is \"Technology\" , the Sub Category is \"Information Technology\" and the topic should be \"0201\" .\\n--',\n",
              " 26: ' the category is \"Crime\" , the Sub Category is \"Murder\" and the topic should be \"cervera\" .\\n--',\n",
              " 27: ' the category is \"Finance\" , the Sub Category is \"Economics\" and the topic should be \"inflation\" .\\n--',\n",
              " 28: ' the category is \"Sports\" , the Sub Category is \"Baseball\" and the topic should be \"Homerun\" .\\n--',\n",
              " 29: ' the category is \"Sports\" , the Sub Category is \"Basketball\" and the topic should be \"3-pointers\" .\\n--',\n",
              " 30: ' the category is \"Law\" , the Sub Category is \"Patent\" and the topic should be \"patent\" .\\n--',\n",
              " 31: ' the category is \"Entertainment\" , the Sub Category is \"TV Series\" and the topic should be \"Game of Thrones\" .\\n--',\n",
              " 32: ' the category is \"Politics\" , the Sub Category is \"Geopolitics\" and the topic should be \"Rohingya\" .\\n--',\n",
              " 33: ' the category is \"Politics\" , the Sub Category is \"Brexit\" and the topic should be \"Brexit\" .\\n\\nSee also\\n',\n",
              " 34: ' the category is \"Cosmetics\" , the Sub Category is \"Skincare\" and the topic should be \"acne\" .\\n--',\n",
              " 35: ' the category is \"News\" , the Sub Category is \"Royalty\" and the topic should be \"Kensingtonroyal\" .\\n--',\n",
              " 36: ' the category is \"Politics\" , the Sub Category is \"International Relations\" and the topic should be \"North Korea\" .\\n--',\n",
              " 37: ' the category is \"Finance\" , the Sub Category is \"Stock Market\" and the topic should be \"NYSE\" .\\n--',\n",
              " 38: ' the category is \"Law\" , the Sub Category is \"Taxation\" and the topic should be \"Income Tax\" .\\n--',\n",
              " 39: ' the category is \"Electronics\" , the Sub Category is \"Computers\" and the topic should be \"laptop\" .\\n--',\n",
              " 40: ' the category is \"Finance\" , the Sub Category is \"Accounting\" and the topic should be \"Non-GAAP\" .\\n--',\n",
              " 41: ' the category is \"Sports\" , the Sub Category is \"Tennis\" and the topic should be \"French Open\" .\\n--',\n",
              " 42: ' the category is \"Law\" , the Sub Category is \"Patents\" and the topic should be \"Patent\" .\\n--',\n",
              " 43: ' the category is \"Government\" , the Sub Category is \"Politics\" and the topic should be \"Federal Reserve\" .\\n--',\n",
              " 44: ' the category is \"Technology\" , the Sub Category is \"Transportation\" and the topic should be \"ride-hail\" .\\n--',\n",
              " 45: ' the category is \"Music\" , the Sub Category is \"Jazz\" and the topic should be \"Colin Chinen\" .\\n--',\n",
              " 46: ' the category is \"Geography\" , the Sub Category is \"Asia\" and the topic should be \"Afghanistan\" .\\n--',\n",
              " 47: ' the category is \"Science\" , the Sub Category is \"Space\" and the topic should be \"astrophysics\" .\\n--',\n",
              " 48: ' the category is \"Science\" , the Sub Category is \"Physics\" and the topic should be \"altman\" .\\n--',\n",
              " 49: ' the category is \"Entertainment\" , the Sub Category is \"Celebrity\" and the topic should be \"KhloÃ© Kardashian\" .\\n',\n",
              " 50: ' the category is \"Law\" , the Sub Category is \"Immigration\" and the topic should be \"287g\" .\\n--',\n",
              " 51: ' the category is \"Technology\" , the Sub Category is \"Social Media\" and the topic should be \"Facebook\" .\\n--',\n",
              " 52: ' the category is \"Healthcare\" , the Sub Category is \"Healthcare Policy\" and the topic should be \"340b\" .\\n--',\n",
              " 53: ' the category is \"Music\" , the Sub Category is \"Pop\" and the topic should be \"Adele\" .\\n--',\n",
              " 54: ' the category is \"Politics\" , the Sub Category is \"Iran\" and the topic should be \"Iran Nuclear\" .\\n--',\n",
              " 55: ' the category is \"Politics\" , the Sub Category is \"Elections\" and the topic should be \"Elections\" .\\n--',\n",
              " 56: ' the category is \"Technology\" , the Sub Category is \"Telecom\" and the topic should be \"Huawei\" .\\n--',\n",
              " 57: ' the category is \"Employment\" , the Sub Category is \"Work\" and the topic should be \"salary\" .\\n--',\n",
              " 58: ' the category is \"Politics\" , the Sub Category is \"China\" and the topic should be \"anti-extradition\" .\\n--',\n",
              " 59: ' the category is \"Technology\" , the Sub Category is \"Smartphone\" and the topic should be \"Bixby\".\\n--',\n",
              " 60: ' the category is \"Medicine\" , the Sub Category is \"Healthcare\" and the topic should be \"coronavirus\" .\\n--',\n",
              " 61: ' the category is \"Animals\" , the Sub Category is \"Pets\" and the topic should be \"dogs\" .\\n--',\n",
              " 62: ' the category is \"Finance\" , the Sub Category is \"Economics\" and the topic should be \"tax\" .\\n--',\n",
              " 63: ' the category is \"Finance\" , the Sub Category is \"Economics\" and the topic should be \"italy\" .\\n--',\n",
              " 64: ' the category is \"Politics\" , the Sub Category is \"International Relations\" and the topic should be \"Turkey\" .\\n--',\n",
              " 65: ' the category is \"Energy\" , the Sub Category is \"Oil\" and the topic should be \"crude\" .\\n--',\n",
              " 66: ' the category is \"Automotive\" , the Sub Category is \"Cars\" and the topic should be \"0-60\" .\\n--',\n",
              " 67: ' the category is \"Medicine\" , the Sub Category is \"Cancer\" and the topic should be \"Hematology\" .\\n--',\n",
              " 68: ' the category is \"Astrology\" , the Sub Category is \"Horoscope\" and the topic should be \"Aquarius\" .\\n--',\n",
              " 69: ' the category is \"News\" , the Sub Category is \"Politics\" and the topic should be \"US\" .\\n--',\n",
              " 70: ' the category is \"Politics\" , the Sub Category is \"US Presidential Election\" and the topic should be \"Biden\" .\\n--',\n",
              " 71: ' the category is \"Finance\" , the Sub Category is \"Economics\" and the topic should be \"Uganda\" .\\n--',\n",
              " 72: ' the category is \"Aircraft\" , the Sub Category is \"Aircraft Design\" and the topic should be \"A321\" .\\n--',\n",
              " 73: ' the category is \"Politics\" , the Sub Category is \"International Relations\" and the topic should be \"Russia\" .\\n--',\n",
              " 74: ' the category is \"Politics\" , the Sub Category is \"Social Issues\" and the topic should be \"alt-left\" .\\n--',\n",
              " 75: ' the category is \"Politics\" , the Sub Category is \"Government\" and the topic should be \"arpaio\" .\\n--',\n",
              " 76: ' the category is \"Art\" , the Sub Category is \"Painting\" and the topic should be \"painting\" .\\n--',\n",
              " 77: ' the category is \"Fashion\" , the Sub Category is \"Clothing\" and the topic should be \"Fashion\" .\\n--',\n",
              " 78: ' the category is \"Food\" , the Sub Category is \"Cooking\" and the topic should be \"350F\" .\\n--',\n",
              " 79: ' the category is \"Retail\" , the Sub Category is \"E-Commerce\" and the topic should be \"Amazon\" .\\n\\nSee also \\n',\n",
              " 80: ' the category is \"Science\" , the Sub Category is \"Biology\" and the topic should be \"Archaeopteryx\" .\\n--',\n",
              " 81: ' the category is \"Finance\" , the Sub Category is \"Economics\" and the topic should be \"aluminium\" .\\n--'}"
            ]
          },
          "execution_count": 155,
          "metadata": {},
          "output_type": "execute_result"
        }
      ],
      "source": [
        "cluster_description"
      ]
    },
    {
      "cell_type": "code",
      "execution_count": null,
      "metadata": {
        "colab": {
          "base_uri": "https://localhost:8080/"
        },
        "id": "OJKhpO4ViuoU",
        "outputId": "35fb3734-27f5-4053-893b-2946b4547a32"
      },
      "outputs": [
        {
          "name": "stdout",
          "output_type": "stream",
          "text": [
            "Prediction:  the category is \"Entertainment\" , the Sub Category is \"TV Series\" and the topic should be \"Game of Thrones\" .\n",
            "--\n"
          ]
        }
      ],
      "source": [
        "import cohere\n",
        "co = cohere.Client('APIKEY')\n",
        "response = co.generate(\n",
        "  model='xlarge',\n",
        "  prompt=promt_template.format(string),\n",
        "  max_tokens=30,\n",
        "  temperature=0.4,\n",
        "  k=0,\n",
        "  p=1,\n",
        "  frequency_penalty=0,\n",
        "  presence_penalty=0,\n",
        "  stop_sequences=[\"--\"],\n",
        "  return_likelihoods='NONE')\n",
        "print('Prediction: {}'.format(response.generations[0].text))"
      ]
    },
    {
      "cell_type": "code",
      "execution_count": null,
      "metadata": {
        "id": "Q-ESIxH4jdgF"
      },
      "outputs": [],
      "source": [
        "all_df = all_df.drop([\"cluster\",\"sub_cluster\"],axis=1)"
      ]
    },
    {
      "cell_type": "code",
      "execution_count": null,
      "metadata": {
        "colab": {
          "base_uri": "https://localhost:8080/"
        },
        "id": "jHYs2ryiwg9T",
        "outputId": "7886bd69-7383-4110-c343-b6ee9bed86cb"
      },
      "outputs": [
        {
          "data": {
            "text/plain": [
              "{0: ' the category is \"Economy\" , the Sub Category is \"Trade\" and the topic should be \"TPP\" .\\n--',\n",
              " 1: ' the category is \"Sports\" , the Sub Category is \"Football\" and the topic should be \"NFL\" .\\n--',\n",
              " 2: ' the category is \"Politics\" , the Sub Category is \"Government\" and the topic should be \"Algeria\" .\\n--',\n",
              " 3: ' the category is \"Politics\" , the Sub Category is \"Law\" and the topic should be \"guns\" .\\n--',\n",
              " 4: ' the category is \"Environment\" , the Sub Category is \"Climate\" and the topic should be \"Carbon\" .\\n--',\n",
              " 5: ' the category is \"Finance\" , the Sub Category is \"Economics\" and the topic should be \"Non-performance\" .\\n--',\n",
              " 6: ' the category is \"Literature\" , the Sub Category is \"Fiction\" and the topic should be \"Fiction\" .\\n--',\n",
              " 7: ' the category is \"Entertainment\" , the Sub Category is \"Media\" and the topic should be \"streaming\" .\\n--',\n",
              " 8: ' the category is \"Crime\" , the Sub Category is \"Murder\" and the topic should be \"murder\" .\\n--',\n",
              " 9: ' the category is \"Technology\" , the Sub Category is \"IT\" and the topic should be \"2018-2019\" .\\n--',\n",
              " 10: ' the category is \"Politics\" , the Sub Category is \"Law\" and the topic should be \"Supreme Court\" .\\n--',\n",
              " 11: ' the category is \"Finance\" , the Sub Category is \"Economics\" and the topic should be \"2018\" .\\n--',\n",
              " 12: ' the category is \"Politics\" , the Sub Category is \"Elections\" and the topic should be \"Cruz\" .\\n--',\n",
              " 13: ' the category is \"Entertainment\" , the Sub Category is \"Movies\" and the topic should be \"Captain Marvel\" .\\n--',\n",
              " 14: ' the category is \"Politics\" , the Sub Category is \"US Politics\" and the topic should be \"Trump\" .\\n--',\n",
              " 15: ' the category is \"News\" , the Sub Category is \"Politics\" and the topic should be \"berganza\" .\\n--',\n",
              " 16: ' the category is \"Politics\" , the Sub Category is \"US Politics\" and the topic should be \"Mueller\" .\\n--',\n",
              " 17: ' the category is \"Natural Disasters\" , the Sub Category is \"Weather\" and the topic should be \"Hurricanes\" .\\n--',\n",
              " 18: ' the category is \"Education\" , the Sub Category is \"Language\" and the topic should be \"English\" .\\n--',\n",
              " 19: ' the category is \"Entertainment\" , the Sub Category is \"Movies\" and the topic should be \"R\" .\\n--',\n",
              " 20: ' the category is \"Law\" , the Sub Category is \"Privacy\" and the topic should be \"CCPA\" .\\n--',\n",
              " 21: ' the category is \"Finance\" , the Sub Category is \"Economics\" and the topic should be \"stocks\" .\\n--',\n",
              " 22: ' the category is \"Retail\" , the Sub Category is \"Retailers\" and the topic should be \"Antad\" .\\n--',\n",
              " 23: ' the category is \"Politics\" , the Sub Category is \"Government\" and the topic should be \"healthcare\" .\\n--',\n",
              " 24: ' the category is \"Finance\" , the Sub Category is \"Economics\" and the topic should be \"A-shares\" .\\n--',\n",
              " 25: ' the category is \"Technology\" , the Sub Category is \"Information Technology\" and the topic should be \"0201\" .\\n--',\n",
              " 26: ' the category is \"Crime\" , the Sub Category is \"Murder\" and the topic should be \"cervera\" .\\n--',\n",
              " 27: ' the category is \"Finance\" , the Sub Category is \"Economics\" and the topic should be \"inflation\" .\\n--',\n",
              " 28: ' the category is \"Sports\" , the Sub Category is \"Baseball\" and the topic should be \"Homerun\" .\\n--',\n",
              " 29: ' the category is \"Sports\" , the Sub Category is \"Basketball\" and the topic should be \"3-pointers\" .\\n--',\n",
              " 30: ' the category is \"Law\" , the Sub Category is \"Patent\" and the topic should be \"patent\" .\\n--',\n",
              " 31: ' the category is \"Entertainment\" , the Sub Category is \"TV Series\" and the topic should be \"Game of Thrones\" .\\n--',\n",
              " 32: ' the category is \"Politics\" , the Sub Category is \"Geopolitics\" and the topic should be \"Rohingya\" .\\n--',\n",
              " 33: ' the category is \"Politics\" , the Sub Category is \"Brexit\" and the topic should be \"Brexit\" .\\n\\nSee also\\n',\n",
              " 34: ' the category is \"Cosmetics\" , the Sub Category is \"Skincare\" and the topic should be \"acne\" .\\n--',\n",
              " 35: ' the category is \"News\" , the Sub Category is \"Royalty\" and the topic should be \"Kensingtonroyal\" .\\n--',\n",
              " 36: ' the category is \"Politics\" , the Sub Category is \"International Relations\" and the topic should be \"North Korea\" .\\n--',\n",
              " 37: ' the category is \"Finance\" , the Sub Category is \"Stock Market\" and the topic should be \"NYSE\" .\\n--',\n",
              " 38: ' the category is \"Law\" , the Sub Category is \"Taxation\" and the topic should be \"Income Tax\" .\\n--',\n",
              " 39: ' the category is \"Electronics\" , the Sub Category is \"Computers\" and the topic should be \"laptop\" .\\n--',\n",
              " 40: ' the category is \"Finance\" , the Sub Category is \"Accounting\" and the topic should be \"Non-GAAP\" .\\n--',\n",
              " 41: ' the category is \"Sports\" , the Sub Category is \"Tennis\" and the topic should be \"French Open\" .\\n--',\n",
              " 42: ' the category is \"Law\" , the Sub Category is \"Patents\" and the topic should be \"Patent\" .\\n--',\n",
              " 43: ' the category is \"Government\" , the Sub Category is \"Politics\" and the topic should be \"Federal Reserve\" .\\n--',\n",
              " 44: ' the category is \"Technology\" , the Sub Category is \"Transportation\" and the topic should be \"ride-hail\" .\\n--',\n",
              " 45: ' the category is \"Music\" , the Sub Category is \"Jazz\" and the topic should be \"Colin Chinen\" .\\n--',\n",
              " 46: ' the category is \"Geography\" , the Sub Category is \"Asia\" and the topic should be \"Afghanistan\" .\\n--',\n",
              " 47: ' the category is \"Science\" , the Sub Category is \"Space\" and the topic should be \"astrophysics\" .\\n--',\n",
              " 48: ' the category is \"Science\" , the Sub Category is \"Physics\" and the topic should be \"altman\" .\\n--',\n",
              " 49: ' the category is \"Entertainment\" , the Sub Category is \"Celebrity\" and the topic should be \"KhloÃ© Kardashian\" .\\n',\n",
              " 50: ' the category is \"Law\" , the Sub Category is \"Immigration\" and the topic should be \"287g\" .\\n--',\n",
              " 51: ' the category is \"Technology\" , the Sub Category is \"Social Media\" and the topic should be \"Facebook\" .\\n--',\n",
              " 52: ' the category is \"Healthcare\" , the Sub Category is \"Healthcare Policy\" and the topic should be \"340b\" .\\n--',\n",
              " 53: ' the category is \"Music\" , the Sub Category is \"Pop\" and the topic should be \"Adele\" .\\n--',\n",
              " 54: ' the category is \"Politics\" , the Sub Category is \"Iran\" and the topic should be \"Iran Nuclear\" .\\n--',\n",
              " 55: ' the category is \"Politics\" , the Sub Category is \"Elections\" and the topic should be \"Elections\" .\\n--',\n",
              " 56: ' the category is \"Technology\" , the Sub Category is \"Telecom\" and the topic should be \"Huawei\" .\\n--',\n",
              " 57: ' the category is \"Employment\" , the Sub Category is \"Work\" and the topic should be \"salary\" .\\n--',\n",
              " 58: ' the category is \"Politics\" , the Sub Category is \"China\" and the topic should be \"anti-extradition\" .\\n--',\n",
              " 59: ' the category is \"Technology\" , the Sub Category is \"Smartphone\" and the topic should be \"Bixby\".\\n--',\n",
              " 60: ' the category is \"Medicine\" , the Sub Category is \"Healthcare\" and the topic should be \"coronavirus\" .\\n--',\n",
              " 61: ' the category is \"Animals\" , the Sub Category is \"Pets\" and the topic should be \"dogs\" .\\n--',\n",
              " 62: ' the category is \"Finance\" , the Sub Category is \"Economics\" and the topic should be \"tax\" .\\n--',\n",
              " 63: ' the category is \"Finance\" , the Sub Category is \"Economics\" and the topic should be \"italy\" .\\n--',\n",
              " 64: ' the category is \"Politics\" , the Sub Category is \"International Relations\" and the topic should be \"Turkey\" .\\n--',\n",
              " 65: ' the category is \"Energy\" , the Sub Category is \"Oil\" and the topic should be \"crude\" .\\n--',\n",
              " 66: ' the category is \"Automotive\" , the Sub Category is \"Cars\" and the topic should be \"0-60\" .\\n--',\n",
              " 67: ' the category is \"Medicine\" , the Sub Category is \"Cancer\" and the topic should be \"Hematology\" .\\n--',\n",
              " 68: ' the category is \"Astrology\" , the Sub Category is \"Horoscope\" and the topic should be \"Aquarius\" .\\n--',\n",
              " 69: ' the category is \"News\" , the Sub Category is \"Politics\" and the topic should be \"US\" .\\n--',\n",
              " 70: ' the category is \"Politics\" , the Sub Category is \"US Presidential Election\" and the topic should be \"Biden\" .\\n--',\n",
              " 71: ' the category is \"Finance\" , the Sub Category is \"Economics\" and the topic should be \"Uganda\" .\\n--',\n",
              " 72: ' the category is \"Aircraft\" , the Sub Category is \"Aircraft Design\" and the topic should be \"A321\" .\\n--',\n",
              " 73: ' the category is \"Politics\" , the Sub Category is \"International Relations\" and the topic should be \"Russia\" .\\n--',\n",
              " 74: ' the category is \"Politics\" , the Sub Category is \"Social Issues\" and the topic should be \"alt-left\" .\\n--',\n",
              " 75: ' the category is \"Politics\" , the Sub Category is \"Government\" and the topic should be \"arpaio\" .\\n--',\n",
              " 76: ' the category is \"Art\" , the Sub Category is \"Painting\" and the topic should be \"painting\" .\\n--',\n",
              " 77: ' the category is \"Fashion\" , the Sub Category is \"Clothing\" and the topic should be \"Fashion\" .\\n--',\n",
              " 78: ' the category is \"Food\" , the Sub Category is \"Cooking\" and the topic should be \"350F\" .\\n--',\n",
              " 79: ' the category is \"Retail\" , the Sub Category is \"E-Commerce\" and the topic should be \"Amazon\" .\\n\\nSee also \\n',\n",
              " 80: ' the category is \"Science\" , the Sub Category is \"Biology\" and the topic should be \"Archaeopteryx\" .\\n--',\n",
              " 81: ' the category is \"Finance\" , the Sub Category is \"Economics\" and the topic should be \"aluminium\" .\\n--'}"
            ]
          },
          "execution_count": 161,
          "metadata": {},
          "output_type": "execute_result"
        }
      ],
      "source": [
        "cluster_description"
      ]
    },
    {
      "cell_type": "code",
      "execution_count": null,
      "metadata": {
        "id": "-8rU8DpkwY5t"
      },
      "outputs": [],
      "source": [
        "import re\n",
        "def extract_text(text):\n",
        "    # Extract the text between \"\"\n",
        "    text = re.findall(r'\"([^\"]*)\"',text)\n",
        "    # If there is no text, return an empty string\n",
        "    if len(text) == 0:\n",
        "        return [\"None\",\"None\",\"None\"]\n",
        "    # If there is text, return the text\n",
        "    else:\n",
        "        return text"
      ]
    },
    {
      "cell_type": "code",
      "execution_count": null,
      "metadata": {
        "id": "Yix8pTTgxJP5"
      },
      "outputs": [],
      "source": [
        "vector_description = {k:extract_text(i) for k, i in cluster_description.items()}"
      ]
    },
    {
      "cell_type": "code",
      "execution_count": null,
      "metadata": {
        "id": "xr4TTxsgxTUS"
      },
      "outputs": [],
      "source": [
        "all_df[\"category_subCategory_topic\"] = all_df.cluster_lvl3.map(vector_description)"
      ]
    },
    {
      "cell_type": "code",
      "execution_count": null,
      "metadata": {
        "id": "Q-Fgbr-qywcp"
      },
      "outputs": [],
      "source": [
        "all_df.to_pickle(\"all_df.pickle\")"
      ]
    },
    {
      "cell_type": "code",
      "execution_count": null,
      "metadata": {
        "id": "cuGw-YanzPzu"
      },
      "outputs": [],
      "source": [
        "import pandas as pd\n",
        "import numpy as np"
      ]
    },
    {
      "cell_type": "code",
      "execution_count": null,
      "metadata": {
        "id": "1jrZedSD0JP6"
      },
      "outputs": [],
      "source": [
        "np.array_split"
      ]
    },
    {
      "cell_type": "code",
      "execution_count": null,
      "metadata": {
        "id": "tOg1c3szzROx"
      },
      "outputs": [],
      "source": [
        "all_df = pd.read_pickle(\"/content/all_df.pickle\")"
      ]
    },
    {
      "cell_type": "code",
      "execution_count": null,
      "metadata": {
        "id": "ONz1W-pb1cl0"
      },
      "outputs": [],
      "source": [
        "all_df = None"
      ]
    },
    {
      "cell_type": "code",
      "execution_count": null,
      "metadata": {
        "id": "6cpYJpSYz8gU"
      },
      "outputs": [],
      "source": [
        "for i,sdf in enumerate(np.array_split(all_df,20)):\n",
        "    sdf.to_json(\"data/all_df{}.json\".format(i),orient=\"records\",lines=True)"
      ]
    },
    {
      "cell_type": "code",
      "execution_count": null,
      "metadata": {
        "colab": {
          "base_uri": "https://localhost:8080/",
          "height": 217,
          "referenced_widgets": [
            "0240abdd7d4b4fdca42f873fe1dea644",
            "ca2321e7027845e99e5a89ad5507e270",
            "bcbc22af93d84eaaa28533145323e9ba",
            "dc759944850c4325acf766ef1b428913",
            "23a4e7d0405c42eebb73691a5f23e3d4",
            "19ce09a1f6b24916aec963d6ba0a1863",
            "bdc4911b28ee435d855eb531af5390c0",
            "51a9ea52c19046e4bf721674d52d08ee",
            "0beff91379444d75b760f5245f3484b1",
            "5df4a001965d4fa59a7b8857261eee5c",
            "15928fbb07cb44afa472d749ae46ac80",
            "806b94538424468da594919fedcf1e47",
            "cb71e7ab15ee414f961a36fd9586bf1b",
            "396f4fcfe8014c62ae4bc0731ca643e1",
            "4d2f3b4d2cf5450e97170a73a248061f",
            "1009633dfd4e490082962f580e712afd",
            "752d3da5ad354c968fca11fc621c19ec",
            "2f0121bb41454048b2db282192d71ffe",
            "ce26a8c44e2d4c1987e336d0c45e1bf8",
            "01395f49f1a74eacbfdd1414596eeed5",
            "f7a45e9e583b45d88906d4bb272c01ea",
            "a915d3767ac64b559d7070c91cf3eb3b",
            "acb09a2350cf4e299dc01796050c568a",
            "563bdc15ebeb444bb5b11426c2fd4299",
            "98943bff172e4fdca3f15841ccb33273",
            "6912cd3b7a5c4ee6b44197c6e1bbfe7d",
            "c92211d09f6c46eba5887eb27ba2e2c2",
            "f8116536dacc4066ae9dff79a27e9145",
            "1b08883f455a41cab9ed894e71c485ca",
            "c9033fd7363341d1bfc85f65cf736879",
            "7509f6b3eecb46a58283b9797b8e67a4",
            "446aea1511af4a5393f8214aae8c5387",
            "58e98a0c3e37473cb9f037c714312f7e",
            "cfb001f916fd4530b3af75a5c741a937",
            "7747d28715c144f9a722f8f97a89f80c",
            "d08c4eae5e7a434ebd3413dcda5e5feb",
            "6b379440a35e49eba7d7bc7a07de8402",
            "4247cb9ca5c54ec78a5b487d75ded277",
            "7e9958140a9848cdb649935c7d18a345",
            "4dba30a61d324bfd9e18e8f1fca0c585",
            "84c174820cac4ce486e44f937ddcf48d",
            "ef99da5e03b84091b5353126f74c4e24",
            "b6623d57530d4909ac748ae6c18f92c8",
            "cd4b53689072442cad1234478943c7e0",
            "cb09aefd79e649d1af06f11aad7794c5",
            "eaf9d9e0550c4bd2ae0ce80721f10db5",
            "7dd1b8a65cdf4997b17dd96ee8d21e9b",
            "a582189a265d4f29bf89bd5fbbd2d05a",
            "6c55664108a94d0fb5aaf16054ef25dd",
            "1eaa71c80f004a2ba08adb1403817416",
            "16601815116b44849dda2649c5e1e4d7",
            "55fd443c714e4c0d94f6c5dce5c900a5",
            "5de83a695b2842a7a089c993530f9095",
            "93dcd2aff07141609ee52d107b48055c",
            "9b133e7da2a8464c8e0366d563d5510f"
          ]
        },
        "id": "DRWLeEciyZ_-",
        "outputId": "b08ff918-5024-4a54-90d0-6a26bf537c05"
      },
      "outputs": [
        {
          "data": {
            "application/vnd.jupyter.widget-view+json": {
              "model_id": "0240abdd7d4b4fdca42f873fe1dea644",
              "version_major": 2,
              "version_minor": 0
            },
            "text/plain": [
              "Resolving data files:   0%|          | 0/20 [00:00<?, ?it/s]"
            ]
          },
          "metadata": {},
          "output_type": "display_data"
        },
        {
          "name": "stderr",
          "output_type": "stream",
          "text": [
            "Using custom data configuration default-bb1c632c967683cb\n"
          ]
        },
        {
          "name": "stdout",
          "output_type": "stream",
          "text": [
            "Downloading and preparing dataset json/default to /root/.cache/huggingface/datasets/json/default-bb1c632c967683cb/0.0.0/da492aad5680612e4028e7f6ddc04b1dfcec4b64db470ed7cc5f2bb265b9b6b5...\n"
          ]
        },
        {
          "data": {
            "application/vnd.jupyter.widget-view+json": {
              "model_id": "806b94538424468da594919fedcf1e47",
              "version_major": 2,
              "version_minor": 0
            },
            "text/plain": [
              "Downloading data files:   0%|          | 0/1 [00:00<?, ?it/s]"
            ]
          },
          "metadata": {},
          "output_type": "display_data"
        },
        {
          "data": {
            "application/vnd.jupyter.widget-view+json": {
              "model_id": "acb09a2350cf4e299dc01796050c568a",
              "version_major": 2,
              "version_minor": 0
            },
            "text/plain": [
              "Extracting data files:   0%|          | 0/1 [00:00<?, ?it/s]"
            ]
          },
          "metadata": {},
          "output_type": "display_data"
        },
        {
          "data": {
            "application/vnd.jupyter.widget-view+json": {
              "model_id": "cfb001f916fd4530b3af75a5c741a937",
              "version_major": 2,
              "version_minor": 0
            },
            "text/plain": [
              "0 tables [00:00, ? tables/s]"
            ]
          },
          "metadata": {},
          "output_type": "display_data"
        },
        {
          "name": "stdout",
          "output_type": "stream",
          "text": [
            "Dataset json downloaded and prepared to /root/.cache/huggingface/datasets/json/default-bb1c632c967683cb/0.0.0/da492aad5680612e4028e7f6ddc04b1dfcec4b64db470ed7cc5f2bb265b9b6b5. Subsequent calls will reuse this data.\n"
          ]
        },
        {
          "data": {
            "application/vnd.jupyter.widget-view+json": {
              "model_id": "cb09aefd79e649d1af06f11aad7794c5",
              "version_major": 2,
              "version_minor": 0
            },
            "text/plain": [
              "  0%|          | 0/1 [00:00<?, ?it/s]"
            ]
          },
          "metadata": {},
          "output_type": "display_data"
        }
      ],
      "source": [
        "from datasets import Dataset,load_dataset\n",
        "batch_df = load_dataset(\"json\",data_dir=\"/content/data/\")"
      ]
    },
    {
      "cell_type": "code",
      "execution_count": null,
      "metadata": {
        "colab": {
          "base_uri": "https://localhost:8080/"
        },
        "id": "80ETPMtl1OVc",
        "outputId": "b2fa7a20-67df-4bdb-83a8-21e122385a54"
      },
      "outputs": [
        {
          "data": {
            "text/plain": [
              "{'category_subCategory_topic': ['Politics', 'Government', 'Algeria'],\n",
              " 'cluster_lvl1': 10,\n",
              " 'cluster_lvl2': 27,\n",
              " 'cluster_lvl3': 2,\n",
              " 'paragraph': 'BRUSSELS — Belgian voters elected the first black mayor in their nation’s history on Sunday — a man originally from the huge swath of central Africa that Belgium brutalized for generations, in one of the harshest of the European colonial regimes. Pierre Kompany, 71, who fled the Democratic Republic of Congo as a refugee in 1975, will be sworn in before the end of the year as the mayor of one of Brussels’s 19 boroughs, Ganshoren, where he was elected by an overwhelmingly white community. “My success, my election, shows the direction of the march of history, which is towards a more peaceful history,” Mr. Kompany said on Monday. “I think one has to regard this as a victory for humanity as a whole.” His election, he said, shows that Belgium has made significant progress in integrating a people whom, not so long ago, it systematically suppressed, exploited and almost annihilated. For almost 80 years, until Congo won its independence in 1960, Belgium exercised a destructive colonial rule, extracting natural resources like ivory, rubber and minerals at a frightful human cost. Particularly in the late 19th and early 20th centuries, when the Belgian King, Leopold II, wielded personal control of the colony, his forces relied on violence, terror and torture to turn much of the black population into a slave labor force, and they killed millions of people. From the 1920s onward, Belgium installed a de facto apartheid system. But Belgium is, in fits and starts, reassessing its colonial past. This year, a square in Brussels was named for the Congolese independence leader, Patrice Lumumba, whom Belgium helped overthrow. The government has fully opened its colonial archives on Rwanda, another former Belgian possession — the first step of its kind among Europe’s former colonial powers. Later this year, Belgium will reopen its century-old Africa museum, which until five years ago presented a favorable image of colonialism. The revamped museum will tell a more critical story of European rule in Africa. While his election is historic, Mr. Kompany, who has been a city councilor in Ganshoren since 2006, ran a decidedly local campaign, promising to help the elderly, expand day care availability and improve soccer fields. His victory “marks the undeniable presence of the Congolese here in Belgium,” said Mathieu Zana Etambala, an emeritus professor of history at the Catholic University of Leuven, and an expert on African colonial history. “I’m especially proud, and so is the whole Congolese community, that a black man was directly elected by Belgians in a city like Ganshoren, which has maybe 100 people of Congolese origin.” But Belgium still has far to go in reckoning with its legacy in Africa, said Mr. Etambala. “Most people don’t realize anymore what happened, I know of no politician who cares, colonial history is barely taught in primary school or even in high school.” About 120,000 people of Congolese descent live in Belgium, which has a population of about 11 million. Colonial policies that restricted migration and impoverished Congo kept the figure low for decades, “but prevailing racist views and systematic suppression in Belgian society should not be underestimated either,” said Maarten Couttenier, who researches colonialism at the Royal Museum for Central Africa. As a university student in Kinshasa, Congo’s capital, Mr. Kompany was imprisoned for more than a year for supporting protests against the dictatorship of Mobutu Sese Seko, he said, while dozens of his fellow students were killed. Mr. Kompany fled to Belgium in 1975, completed his studies in engineering, worked as a taxi driver, and became a Belgian citizen. One of his three children, Vincent Kompany, is an international soccer star, who has served as the captain of both Manchester City and the Belgian national team. A handful of people with sub-Saharan roots have been elected to other offices in Belgium, including two women who won seats on city councils on Sunday, said Elena Matundu, 50, the president of the Group of Integrated and Active African Women. “This shows that we are part of this community,” she said, “that we are unerasable, that we are Belgian.”'}"
            ]
          },
          "execution_count": 19,
          "metadata": {},
          "output_type": "execute_result"
        }
      ],
      "source": [
        "batch_df[\"train\"][1040235]"
      ]
    },
    {
      "cell_type": "code",
      "execution_count": null,
      "metadata": {
        "colab": {
          "base_uri": "https://localhost:8080/",
          "height": 101,
          "referenced_widgets": [
            "4178f141ce88453ca76d1fc96b55d8cf",
            "fc9c641e9cb04a54ab966ae8cb448158",
            "731968ae17384f61a7266edcb9d4722a",
            "f4c750658470457fb3cea8ef75711a9c",
            "3b11ea4cef2241f68374e2ffb0f41978",
            "083d8fe55f40449b869e13fcf3bfaa05",
            "1e20237085664029a544c191a3ed4c5a",
            "480b1a55cd094bcca856f0a83d4c316b",
            "03ede010f53e4b03af418b16c1559c62",
            "96fb3766578145a5a67b73bbc0482e13",
            "25951b9efebc446194c86168dc73e154"
          ]
        },
        "id": "rDzj6TxZxURD",
        "outputId": "a507ed43-6ffe-42c6-b6c3-53c01599bfa4"
      },
      "outputs": [
        {
          "name": "stderr",
          "output_type": "stream",
          "text": [
            "Pushing split train to the Hub.\n"
          ]
        },
        {
          "data": {
            "application/vnd.jupyter.widget-view+json": {
              "model_id": "4178f141ce88453ca76d1fc96b55d8cf",
              "version_major": 2,
              "version_minor": 0
            },
            "text/plain": [
              "Pushing dataset shards to the dataset hub:   0%|          | 0/5 [00:00<?, ?it/s]"
            ]
          },
          "metadata": {},
          "output_type": "display_data"
        },
        {
          "name": "stderr",
          "output_type": "stream",
          "text": [
            "/usr/local/lib/python3.7/dist-packages/huggingface_hub/hf_api.py:1951: FutureWarning: `identical_ok` has no effect and is deprecated. It will be removed in 0.11.0.\n",
            "  FutureWarning,\n"
          ]
        }
      ],
      "source": [
        "batch_df.push_to_hub(\"rjac/all-the-news-2-1-Component-ones-cluster-labels\",max_shard_size=\"2GB\",private=False,token=\"HF_API_KEY\")"
      ]
    },
    {
      "cell_type": "code",
      "execution_count": null,
      "metadata": {
        "colab": {
          "base_uri": "https://localhost:8080/"
        },
        "id": "Mw6VWV8Hxxdc",
        "outputId": "6a5a16d6-c389-4a1b-a5a6-1612006a02c6"
      },
      "outputs": [
        {
          "data": {
            "text/plain": [
              "DatasetDict({\n",
              "    train: Dataset({\n",
              "        features: ['paragraph', 'cluster_lvl1', 'cluster_lvl3', 'cluster_lvl2', 'category_subCategory_topic'],\n",
              "        num_rows: 2475520\n",
              "    })\n",
              "})"
            ]
          },
          "execution_count": 21,
          "metadata": {},
          "output_type": "execute_result"
        }
      ],
      "source": [
        "batch_df"
      ]
    },
    {
      "cell_type": "code",
      "execution_count": null,
      "metadata": {
        "id": "NhvsArwA4XP3"
      },
      "outputs": [],
      "source": [
        "\n",
        "labels_df = pd.DataFrame(all_df.category_subCategory_topic.to_list(), columns = ['category', 'sub_category', 'cluster'])"
      ]
    },
    {
      "cell_type": "code",
      "execution_count": null,
      "metadata": {
        "id": "hYmgLSbjdrbs"
      },
      "outputs": [],
      "source": [
        "labeled_df = pd.concat([all_df,labels_df],axis=1)"
      ]
    },
    {
      "cell_type": "code",
      "execution_count": null,
      "metadata": {
        "colab": {
          "base_uri": "https://localhost:8080/"
        },
        "id": "I0nahQaSewU9",
        "outputId": "8cfeb0c3-7465-49c3-d5a2-498c9180e7de"
      },
      "outputs": [
        {
          "data": {
            "text/plain": [
              "category\n",
              "Aircraft                                             [Aircraft Design]\n",
              "Animals                                                         [Pets]\n",
              "Art                                                         [Painting]\n",
              "Astrology                                                  [Horoscope]\n",
              "Automotive                                                      [Cars]\n",
              "Cosmetics                                                   [Skincare]\n",
              "Crime                                                         [Murder]\n",
              "Economy                                                        [Trade]\n",
              "Education                                                   [Language]\n",
              "Electronics                                                [Computers]\n",
              "Employment                                                      [Work]\n",
              "Energy                                                           [Oil]\n",
              "Entertainment                    [Celebrity, Media, Movies, TV Series]\n",
              "Environment                                                  [Climate]\n",
              "Fashion                                                     [Clothing]\n",
              "Finance                          [Accounting, Economics, Stock Market]\n",
              "Food                                                         [Cooking]\n",
              "Geography                                                       [Asia]\n",
              "Government                                                  [Politics]\n",
              "Healthcare                                         [Healthcare Policy]\n",
              "Law                  [Immigration, Patent, Patents, Privacy, Taxation]\n",
              "Literature                                                   [Fiction]\n",
              "Medicine                                          [Cancer, Healthcare]\n",
              "Music                                                      [Jazz, Pop]\n",
              "Natural Disasters                                            [Weather]\n",
              "News                                               [Politics, Royalty]\n",
              "Politics             [Brexit, China, Elections, Geopolitics, Govern...\n",
              "Retail                                         [E-Commerce, Retailers]\n",
              "Science                                      [Biology, Physics, Space]\n",
              "Sports                        [Baseball, Basketball, Football, Tennis]\n",
              "Technology           [IT, Information Technology, Smartphone, Socia...\n",
              "dtype: object"
            ]
          },
          "execution_count": 91,
          "metadata": {},
          "output_type": "execute_result"
        }
      ],
      "source": [
        "labeled_df.groupby([\"category\"]).apply(lambda x: np.unique(x[\"sub_category\"].values) )"
      ]
    },
    {
      "cell_type": "code",
      "execution_count": null,
      "metadata": {
        "colab": {
          "base_uri": "https://localhost:8080/"
        },
        "id": "SRUNxut8fHat",
        "outputId": "b75a9b55-b0b7-4197-d62d-46a78b55b21b"
      },
      "outputs": [
        {
          "data": {
            "text/plain": [
              "array(['TORONTO, Dec 2 (Reuters) - The premiers of Canada\\'s provincial and territorial governments began meeting on Monday to discuss their demands to Prime Minister Justin Trudeau\\'s new government as frustration simmers in the Western oil patch. The group, known as the Council of the Federation, is gathering for the first time since Trudeau\\'s Liberals failed to win a seat in either Alberta or Saskatchewan, the heart of the country\\'s struggling oil industry, in the October national election. The sense of western alienation stems from the economic difficulties these provinces have faced since the 2014/15 global oil price crash, which has driven unemployment up higher than the national average. Alberta Premier Jason Kenney is pushing for changes to a federal program that funnels economic aid to the provinces, to allow higher transfers into his province. But he is not likely to find support in the council for this move, because it would likely mean cuts for other provinces. The premiers could find agreement on demands for more federal spending on health care, which is run at a provincial level but is partly funded federally. \"We\\'re focusing on three or four solid things,\" Ontario Premier Doug Ford said going into the meeting. \"Stay tuned.\" An end-meeting press conference is scheduled for 2 p.m. ET (1900 GMT). Right-leaning premiers are on the offensive, taking up the western cause in the hopes it will help them defeat Trudeau in the next election, which could be only a couple years away since the Liberals fell short of winning a majority of seats in parliament. Trudeau last month appointed his former foreign minister, Chrystia Freeland, as his deputy and put her in charge of relations with the provinces and territories. She was born in Alberta and often talks about her roots in the province. Trudeau will need to negotiate with the premiers if he wants to fulfill his election promise to introduce prescription drug coverage across the country. The new parliament will meet for the first time on Thursday, when the government\\'s priorities will be outlined in the so-called Throne Speech. Many of the premiers have met one-on-one with Trudeau since the election, and the full council is expected to sit down with the prime minister next year. (Reporting by Moira Warburton, writing by Steve Scherer in Ottawa Editing by Marguerita Choy)'],\n",
              "      dtype=object)"
            ]
          },
          "execution_count": 98,
          "metadata": {},
          "output_type": "execute_result"
        }
      ],
      "source": [
        "labeled_df.query(\"category == 'Environment'\").sample()[\"paragraph\"].values"
      ]
    },
    {
      "cell_type": "code",
      "execution_count": null,
      "metadata": {
        "id": "MjZL1WP-m2X-"
      },
      "outputs": [],
      "source": []
    }
  ],
  "metadata": {
    "accelerator": "TPU",
    "colab": {
      "background_execution": "on",
      "collapsed_sections": [],
      "machine_shape": "hm",
      "name": "CohereEmbedding.ipynb",
      "provenance": []
    },
    "gpuClass": "standard",
    "kernelspec": {
      "display_name": "Python 3.8.2 64-bit",
      "language": "python",
      "name": "python3"
    },
    "language_info": {
      "name": "python",
      "version": "3.8.2"
    },
    "vscode": {
      "interpreter": {
        "hash": "31f2aee4e71d21fbe5cf8b01ff0e069b9275f58929596ceb00d14d90e3e16cd6"
      }
    },
    "widgets": {
      "application/vnd.jupyter.widget-state+json": {
        "01395f49f1a74eacbfdd1414596eeed5": {
          "model_module": "@jupyter-widgets/controls",
          "model_module_version": "1.5.0",
          "model_name": "ProgressStyleModel",
          "state": {
            "_model_module": "@jupyter-widgets/controls",
            "_model_module_version": "1.5.0",
            "_model_name": "ProgressStyleModel",
            "_view_count": null,
            "_view_module": "@jupyter-widgets/base",
            "_view_module_version": "1.2.0",
            "_view_name": "StyleView",
            "bar_color": null,
            "description_width": ""
          }
        },
        "0240abdd7d4b4fdca42f873fe1dea644": {
          "model_module": "@jupyter-widgets/controls",
          "model_module_version": "1.5.0",
          "model_name": "HBoxModel",
          "state": {
            "_dom_classes": [],
            "_model_module": "@jupyter-widgets/controls",
            "_model_module_version": "1.5.0",
            "_model_name": "HBoxModel",
            "_view_count": null,
            "_view_module": "@jupyter-widgets/controls",
            "_view_module_version": "1.5.0",
            "_view_name": "HBoxView",
            "box_style": "",
            "children": [
              "IPY_MODEL_ca2321e7027845e99e5a89ad5507e270",
              "IPY_MODEL_bcbc22af93d84eaaa28533145323e9ba",
              "IPY_MODEL_dc759944850c4325acf766ef1b428913"
            ],
            "layout": "IPY_MODEL_23a4e7d0405c42eebb73691a5f23e3d4"
          }
        },
        "03ede010f53e4b03af418b16c1559c62": {
          "model_module": "@jupyter-widgets/controls",
          "model_module_version": "1.5.0",
          "model_name": "ProgressStyleModel",
          "state": {
            "_model_module": "@jupyter-widgets/controls",
            "_model_module_version": "1.5.0",
            "_model_name": "ProgressStyleModel",
            "_view_count": null,
            "_view_module": "@jupyter-widgets/base",
            "_view_module_version": "1.2.0",
            "_view_name": "StyleView",
            "bar_color": null,
            "description_width": ""
          }
        },
        "083d8fe55f40449b869e13fcf3bfaa05": {
          "model_module": "@jupyter-widgets/base",
          "model_module_version": "1.2.0",
          "model_name": "LayoutModel",
          "state": {
            "_model_module": "@jupyter-widgets/base",
            "_model_module_version": "1.2.0",
            "_model_name": "LayoutModel",
            "_view_count": null,
            "_view_module": "@jupyter-widgets/base",
            "_view_module_version": "1.2.0",
            "_view_name": "LayoutView",
            "align_content": null,
            "align_items": null,
            "align_self": null,
            "border": null,
            "bottom": null,
            "display": null,
            "flex": null,
            "flex_flow": null,
            "grid_area": null,
            "grid_auto_columns": null,
            "grid_auto_flow": null,
            "grid_auto_rows": null,
            "grid_column": null,
            "grid_gap": null,
            "grid_row": null,
            "grid_template_areas": null,
            "grid_template_columns": null,
            "grid_template_rows": null,
            "height": null,
            "justify_content": null,
            "justify_items": null,
            "left": null,
            "margin": null,
            "max_height": null,
            "max_width": null,
            "min_height": null,
            "min_width": null,
            "object_fit": null,
            "object_position": null,
            "order": null,
            "overflow": null,
            "overflow_x": null,
            "overflow_y": null,
            "padding": null,
            "right": null,
            "top": null,
            "visibility": null,
            "width": null
          }
        },
        "0beff91379444d75b760f5245f3484b1": {
          "model_module": "@jupyter-widgets/controls",
          "model_module_version": "1.5.0",
          "model_name": "ProgressStyleModel",
          "state": {
            "_model_module": "@jupyter-widgets/controls",
            "_model_module_version": "1.5.0",
            "_model_name": "ProgressStyleModel",
            "_view_count": null,
            "_view_module": "@jupyter-widgets/base",
            "_view_module_version": "1.2.0",
            "_view_name": "StyleView",
            "bar_color": null,
            "description_width": ""
          }
        },
        "0c08b19a24094a90ae2b3346f2a6b6c0": {
          "model_module": "@jupyter-widgets/controls",
          "model_module_version": "1.5.0",
          "model_name": "FloatProgressModel",
          "state": {
            "_dom_classes": [],
            "_model_module": "@jupyter-widgets/controls",
            "_model_module_version": "1.5.0",
            "_model_name": "FloatProgressModel",
            "_view_count": null,
            "_view_module": "@jupyter-widgets/controls",
            "_view_module_version": "1.5.0",
            "_view_name": "ProgressView",
            "bar_style": "success",
            "description": "",
            "description_tooltip": null,
            "layout": "IPY_MODEL_2695902f5af24c39aa1de4a0f10ff2bb",
            "max": 1,
            "min": 0,
            "orientation": "horizontal",
            "style": "IPY_MODEL_66f4e0d9a3a945239d89ff19563e7afe",
            "value": 1
          }
        },
        "1009633dfd4e490082962f580e712afd": {
          "model_module": "@jupyter-widgets/base",
          "model_module_version": "1.2.0",
          "model_name": "LayoutModel",
          "state": {
            "_model_module": "@jupyter-widgets/base",
            "_model_module_version": "1.2.0",
            "_model_name": "LayoutModel",
            "_view_count": null,
            "_view_module": "@jupyter-widgets/base",
            "_view_module_version": "1.2.0",
            "_view_name": "LayoutView",
            "align_content": null,
            "align_items": null,
            "align_self": null,
            "border": null,
            "bottom": null,
            "display": null,
            "flex": null,
            "flex_flow": null,
            "grid_area": null,
            "grid_auto_columns": null,
            "grid_auto_flow": null,
            "grid_auto_rows": null,
            "grid_column": null,
            "grid_gap": null,
            "grid_row": null,
            "grid_template_areas": null,
            "grid_template_columns": null,
            "grid_template_rows": null,
            "height": null,
            "justify_content": null,
            "justify_items": null,
            "left": null,
            "margin": null,
            "max_height": null,
            "max_width": null,
            "min_height": null,
            "min_width": null,
            "object_fit": null,
            "object_position": null,
            "order": null,
            "overflow": null,
            "overflow_x": null,
            "overflow_y": null,
            "padding": null,
            "right": null,
            "top": null,
            "visibility": null,
            "width": null
          }
        },
        "15928fbb07cb44afa472d749ae46ac80": {
          "model_module": "@jupyter-widgets/controls",
          "model_module_version": "1.5.0",
          "model_name": "DescriptionStyleModel",
          "state": {
            "_model_module": "@jupyter-widgets/controls",
            "_model_module_version": "1.5.0",
            "_model_name": "DescriptionStyleModel",
            "_view_count": null,
            "_view_module": "@jupyter-widgets/base",
            "_view_module_version": "1.2.0",
            "_view_name": "StyleView",
            "description_width": ""
          }
        },
        "16601815116b44849dda2649c5e1e4d7": {
          "model_module": "@jupyter-widgets/controls",
          "model_module_version": "1.5.0",
          "model_name": "DescriptionStyleModel",
          "state": {
            "_model_module": "@jupyter-widgets/controls",
            "_model_module_version": "1.5.0",
            "_model_name": "DescriptionStyleModel",
            "_view_count": null,
            "_view_module": "@jupyter-widgets/base",
            "_view_module_version": "1.2.0",
            "_view_name": "StyleView",
            "description_width": ""
          }
        },
        "19ce09a1f6b24916aec963d6ba0a1863": {
          "model_module": "@jupyter-widgets/base",
          "model_module_version": "1.2.0",
          "model_name": "LayoutModel",
          "state": {
            "_model_module": "@jupyter-widgets/base",
            "_model_module_version": "1.2.0",
            "_model_name": "LayoutModel",
            "_view_count": null,
            "_view_module": "@jupyter-widgets/base",
            "_view_module_version": "1.2.0",
            "_view_name": "LayoutView",
            "align_content": null,
            "align_items": null,
            "align_self": null,
            "border": null,
            "bottom": null,
            "display": null,
            "flex": null,
            "flex_flow": null,
            "grid_area": null,
            "grid_auto_columns": null,
            "grid_auto_flow": null,
            "grid_auto_rows": null,
            "grid_column": null,
            "grid_gap": null,
            "grid_row": null,
            "grid_template_areas": null,
            "grid_template_columns": null,
            "grid_template_rows": null,
            "height": null,
            "justify_content": null,
            "justify_items": null,
            "left": null,
            "margin": null,
            "max_height": null,
            "max_width": null,
            "min_height": null,
            "min_width": null,
            "object_fit": null,
            "object_position": null,
            "order": null,
            "overflow": null,
            "overflow_x": null,
            "overflow_y": null,
            "padding": null,
            "right": null,
            "top": null,
            "visibility": null,
            "width": null
          }
        },
        "1b08883f455a41cab9ed894e71c485ca": {
          "model_module": "@jupyter-widgets/controls",
          "model_module_version": "1.5.0",
          "model_name": "DescriptionStyleModel",
          "state": {
            "_model_module": "@jupyter-widgets/controls",
            "_model_module_version": "1.5.0",
            "_model_name": "DescriptionStyleModel",
            "_view_count": null,
            "_view_module": "@jupyter-widgets/base",
            "_view_module_version": "1.2.0",
            "_view_name": "StyleView",
            "description_width": ""
          }
        },
        "1e20237085664029a544c191a3ed4c5a": {
          "model_module": "@jupyter-widgets/controls",
          "model_module_version": "1.5.0",
          "model_name": "DescriptionStyleModel",
          "state": {
            "_model_module": "@jupyter-widgets/controls",
            "_model_module_version": "1.5.0",
            "_model_name": "DescriptionStyleModel",
            "_view_count": null,
            "_view_module": "@jupyter-widgets/base",
            "_view_module_version": "1.2.0",
            "_view_name": "StyleView",
            "description_width": ""
          }
        },
        "1eaa71c80f004a2ba08adb1403817416": {
          "model_module": "@jupyter-widgets/base",
          "model_module_version": "1.2.0",
          "model_name": "LayoutModel",
          "state": {
            "_model_module": "@jupyter-widgets/base",
            "_model_module_version": "1.2.0",
            "_model_name": "LayoutModel",
            "_view_count": null,
            "_view_module": "@jupyter-widgets/base",
            "_view_module_version": "1.2.0",
            "_view_name": "LayoutView",
            "align_content": null,
            "align_items": null,
            "align_self": null,
            "border": null,
            "bottom": null,
            "display": null,
            "flex": null,
            "flex_flow": null,
            "grid_area": null,
            "grid_auto_columns": null,
            "grid_auto_flow": null,
            "grid_auto_rows": null,
            "grid_column": null,
            "grid_gap": null,
            "grid_row": null,
            "grid_template_areas": null,
            "grid_template_columns": null,
            "grid_template_rows": null,
            "height": null,
            "justify_content": null,
            "justify_items": null,
            "left": null,
            "margin": null,
            "max_height": null,
            "max_width": null,
            "min_height": null,
            "min_width": null,
            "object_fit": null,
            "object_position": null,
            "order": null,
            "overflow": null,
            "overflow_x": null,
            "overflow_y": null,
            "padding": null,
            "right": null,
            "top": null,
            "visibility": null,
            "width": null
          }
        },
        "1eedaa5b2d864a639320011c80e3ca30": {
          "model_module": "@jupyter-widgets/base",
          "model_module_version": "1.2.0",
          "model_name": "LayoutModel",
          "state": {
            "_model_module": "@jupyter-widgets/base",
            "_model_module_version": "1.2.0",
            "_model_name": "LayoutModel",
            "_view_count": null,
            "_view_module": "@jupyter-widgets/base",
            "_view_module_version": "1.2.0",
            "_view_name": "LayoutView",
            "align_content": null,
            "align_items": null,
            "align_self": null,
            "border": null,
            "bottom": null,
            "display": null,
            "flex": null,
            "flex_flow": null,
            "grid_area": null,
            "grid_auto_columns": null,
            "grid_auto_flow": null,
            "grid_auto_rows": null,
            "grid_column": null,
            "grid_gap": null,
            "grid_row": null,
            "grid_template_areas": null,
            "grid_template_columns": null,
            "grid_template_rows": null,
            "height": null,
            "justify_content": null,
            "justify_items": null,
            "left": null,
            "margin": null,
            "max_height": null,
            "max_width": null,
            "min_height": null,
            "min_width": null,
            "object_fit": null,
            "object_position": null,
            "order": null,
            "overflow": null,
            "overflow_x": null,
            "overflow_y": null,
            "padding": null,
            "right": null,
            "top": null,
            "visibility": null,
            "width": null
          }
        },
        "23a4e7d0405c42eebb73691a5f23e3d4": {
          "model_module": "@jupyter-widgets/base",
          "model_module_version": "1.2.0",
          "model_name": "LayoutModel",
          "state": {
            "_model_module": "@jupyter-widgets/base",
            "_model_module_version": "1.2.0",
            "_model_name": "LayoutModel",
            "_view_count": null,
            "_view_module": "@jupyter-widgets/base",
            "_view_module_version": "1.2.0",
            "_view_name": "LayoutView",
            "align_content": null,
            "align_items": null,
            "align_self": null,
            "border": null,
            "bottom": null,
            "display": null,
            "flex": null,
            "flex_flow": null,
            "grid_area": null,
            "grid_auto_columns": null,
            "grid_auto_flow": null,
            "grid_auto_rows": null,
            "grid_column": null,
            "grid_gap": null,
            "grid_row": null,
            "grid_template_areas": null,
            "grid_template_columns": null,
            "grid_template_rows": null,
            "height": null,
            "justify_content": null,
            "justify_items": null,
            "left": null,
            "margin": null,
            "max_height": null,
            "max_width": null,
            "min_height": null,
            "min_width": null,
            "object_fit": null,
            "object_position": null,
            "order": null,
            "overflow": null,
            "overflow_x": null,
            "overflow_y": null,
            "padding": null,
            "right": null,
            "top": null,
            "visibility": null,
            "width": null
          }
        },
        "25951b9efebc446194c86168dc73e154": {
          "model_module": "@jupyter-widgets/controls",
          "model_module_version": "1.5.0",
          "model_name": "DescriptionStyleModel",
          "state": {
            "_model_module": "@jupyter-widgets/controls",
            "_model_module_version": "1.5.0",
            "_model_name": "DescriptionStyleModel",
            "_view_count": null,
            "_view_module": "@jupyter-widgets/base",
            "_view_module_version": "1.2.0",
            "_view_name": "StyleView",
            "description_width": ""
          }
        },
        "2695902f5af24c39aa1de4a0f10ff2bb": {
          "model_module": "@jupyter-widgets/base",
          "model_module_version": "1.2.0",
          "model_name": "LayoutModel",
          "state": {
            "_model_module": "@jupyter-widgets/base",
            "_model_module_version": "1.2.0",
            "_model_name": "LayoutModel",
            "_view_count": null,
            "_view_module": "@jupyter-widgets/base",
            "_view_module_version": "1.2.0",
            "_view_name": "LayoutView",
            "align_content": null,
            "align_items": null,
            "align_self": null,
            "border": null,
            "bottom": null,
            "display": null,
            "flex": null,
            "flex_flow": null,
            "grid_area": null,
            "grid_auto_columns": null,
            "grid_auto_flow": null,
            "grid_auto_rows": null,
            "grid_column": null,
            "grid_gap": null,
            "grid_row": null,
            "grid_template_areas": null,
            "grid_template_columns": null,
            "grid_template_rows": null,
            "height": null,
            "justify_content": null,
            "justify_items": null,
            "left": null,
            "margin": null,
            "max_height": null,
            "max_width": null,
            "min_height": null,
            "min_width": null,
            "object_fit": null,
            "object_position": null,
            "order": null,
            "overflow": null,
            "overflow_x": null,
            "overflow_y": null,
            "padding": null,
            "right": null,
            "top": null,
            "visibility": null,
            "width": null
          }
        },
        "2f0121bb41454048b2db282192d71ffe": {
          "model_module": "@jupyter-widgets/controls",
          "model_module_version": "1.5.0",
          "model_name": "DescriptionStyleModel",
          "state": {
            "_model_module": "@jupyter-widgets/controls",
            "_model_module_version": "1.5.0",
            "_model_name": "DescriptionStyleModel",
            "_view_count": null,
            "_view_module": "@jupyter-widgets/base",
            "_view_module_version": "1.2.0",
            "_view_name": "StyleView",
            "description_width": ""
          }
        },
        "396f4fcfe8014c62ae4bc0731ca643e1": {
          "model_module": "@jupyter-widgets/controls",
          "model_module_version": "1.5.0",
          "model_name": "FloatProgressModel",
          "state": {
            "_dom_classes": [],
            "_model_module": "@jupyter-widgets/controls",
            "_model_module_version": "1.5.0",
            "_model_name": "FloatProgressModel",
            "_view_count": null,
            "_view_module": "@jupyter-widgets/controls",
            "_view_module_version": "1.5.0",
            "_view_name": "ProgressView",
            "bar_style": "success",
            "description": "",
            "description_tooltip": null,
            "layout": "IPY_MODEL_ce26a8c44e2d4c1987e336d0c45e1bf8",
            "max": 1,
            "min": 0,
            "orientation": "horizontal",
            "style": "IPY_MODEL_01395f49f1a74eacbfdd1414596eeed5",
            "value": 1
          }
        },
        "3b11ea4cef2241f68374e2ffb0f41978": {
          "model_module": "@jupyter-widgets/base",
          "model_module_version": "1.2.0",
          "model_name": "LayoutModel",
          "state": {
            "_model_module": "@jupyter-widgets/base",
            "_model_module_version": "1.2.0",
            "_model_name": "LayoutModel",
            "_view_count": null,
            "_view_module": "@jupyter-widgets/base",
            "_view_module_version": "1.2.0",
            "_view_name": "LayoutView",
            "align_content": null,
            "align_items": null,
            "align_self": null,
            "border": null,
            "bottom": null,
            "display": null,
            "flex": null,
            "flex_flow": null,
            "grid_area": null,
            "grid_auto_columns": null,
            "grid_auto_flow": null,
            "grid_auto_rows": null,
            "grid_column": null,
            "grid_gap": null,
            "grid_row": null,
            "grid_template_areas": null,
            "grid_template_columns": null,
            "grid_template_rows": null,
            "height": null,
            "justify_content": null,
            "justify_items": null,
            "left": null,
            "margin": null,
            "max_height": null,
            "max_width": null,
            "min_height": null,
            "min_width": null,
            "object_fit": null,
            "object_position": null,
            "order": null,
            "overflow": null,
            "overflow_x": null,
            "overflow_y": null,
            "padding": null,
            "right": null,
            "top": null,
            "visibility": null,
            "width": null
          }
        },
        "4178f141ce88453ca76d1fc96b55d8cf": {
          "model_module": "@jupyter-widgets/controls",
          "model_module_version": "1.5.0",
          "model_name": "HBoxModel",
          "state": {
            "_dom_classes": [],
            "_model_module": "@jupyter-widgets/controls",
            "_model_module_version": "1.5.0",
            "_model_name": "HBoxModel",
            "_view_count": null,
            "_view_module": "@jupyter-widgets/controls",
            "_view_module_version": "1.5.0",
            "_view_name": "HBoxView",
            "box_style": "",
            "children": [
              "IPY_MODEL_fc9c641e9cb04a54ab966ae8cb448158",
              "IPY_MODEL_731968ae17384f61a7266edcb9d4722a",
              "IPY_MODEL_f4c750658470457fb3cea8ef75711a9c"
            ],
            "layout": "IPY_MODEL_3b11ea4cef2241f68374e2ffb0f41978"
          }
        },
        "4247cb9ca5c54ec78a5b487d75ded277": {
          "model_module": "@jupyter-widgets/base",
          "model_module_version": "1.2.0",
          "model_name": "LayoutModel",
          "state": {
            "_model_module": "@jupyter-widgets/base",
            "_model_module_version": "1.2.0",
            "_model_name": "LayoutModel",
            "_view_count": null,
            "_view_module": "@jupyter-widgets/base",
            "_view_module_version": "1.2.0",
            "_view_name": "LayoutView",
            "align_content": null,
            "align_items": null,
            "align_self": null,
            "border": null,
            "bottom": null,
            "display": null,
            "flex": null,
            "flex_flow": null,
            "grid_area": null,
            "grid_auto_columns": null,
            "grid_auto_flow": null,
            "grid_auto_rows": null,
            "grid_column": null,
            "grid_gap": null,
            "grid_row": null,
            "grid_template_areas": null,
            "grid_template_columns": null,
            "grid_template_rows": null,
            "height": null,
            "justify_content": null,
            "justify_items": null,
            "left": null,
            "margin": null,
            "max_height": null,
            "max_width": null,
            "min_height": null,
            "min_width": null,
            "object_fit": null,
            "object_position": null,
            "order": null,
            "overflow": null,
            "overflow_x": null,
            "overflow_y": null,
            "padding": null,
            "right": null,
            "top": null,
            "visibility": null,
            "width": null
          }
        },
        "446aea1511af4a5393f8214aae8c5387": {
          "model_module": "@jupyter-widgets/base",
          "model_module_version": "1.2.0",
          "model_name": "LayoutModel",
          "state": {
            "_model_module": "@jupyter-widgets/base",
            "_model_module_version": "1.2.0",
            "_model_name": "LayoutModel",
            "_view_count": null,
            "_view_module": "@jupyter-widgets/base",
            "_view_module_version": "1.2.0",
            "_view_name": "LayoutView",
            "align_content": null,
            "align_items": null,
            "align_self": null,
            "border": null,
            "bottom": null,
            "display": null,
            "flex": null,
            "flex_flow": null,
            "grid_area": null,
            "grid_auto_columns": null,
            "grid_auto_flow": null,
            "grid_auto_rows": null,
            "grid_column": null,
            "grid_gap": null,
            "grid_row": null,
            "grid_template_areas": null,
            "grid_template_columns": null,
            "grid_template_rows": null,
            "height": null,
            "justify_content": null,
            "justify_items": null,
            "left": null,
            "margin": null,
            "max_height": null,
            "max_width": null,
            "min_height": null,
            "min_width": null,
            "object_fit": null,
            "object_position": null,
            "order": null,
            "overflow": null,
            "overflow_x": null,
            "overflow_y": null,
            "padding": null,
            "right": null,
            "top": null,
            "visibility": null,
            "width": null
          }
        },
        "46dc33c155bc43d4bceb8ea649816f04": {
          "model_module": "@jupyter-widgets/controls",
          "model_module_version": "1.5.0",
          "model_name": "HBoxModel",
          "state": {
            "_dom_classes": [],
            "_model_module": "@jupyter-widgets/controls",
            "_model_module_version": "1.5.0",
            "_model_name": "HBoxModel",
            "_view_count": null,
            "_view_module": "@jupyter-widgets/controls",
            "_view_module_version": "1.5.0",
            "_view_name": "HBoxView",
            "box_style": "",
            "children": [
              "IPY_MODEL_9bb87cd00b2f424381843e97f059da81",
              "IPY_MODEL_0c08b19a24094a90ae2b3346f2a6b6c0",
              "IPY_MODEL_8311f7d195044f2181390a60efc3b24b"
            ],
            "layout": "IPY_MODEL_a630ca9d7eab40e5b9fbe4443599a431"
          }
        },
        "480b1a55cd094bcca856f0a83d4c316b": {
          "model_module": "@jupyter-widgets/base",
          "model_module_version": "1.2.0",
          "model_name": "LayoutModel",
          "state": {
            "_model_module": "@jupyter-widgets/base",
            "_model_module_version": "1.2.0",
            "_model_name": "LayoutModel",
            "_view_count": null,
            "_view_module": "@jupyter-widgets/base",
            "_view_module_version": "1.2.0",
            "_view_name": "LayoutView",
            "align_content": null,
            "align_items": null,
            "align_self": null,
            "border": null,
            "bottom": null,
            "display": null,
            "flex": null,
            "flex_flow": null,
            "grid_area": null,
            "grid_auto_columns": null,
            "grid_auto_flow": null,
            "grid_auto_rows": null,
            "grid_column": null,
            "grid_gap": null,
            "grid_row": null,
            "grid_template_areas": null,
            "grid_template_columns": null,
            "grid_template_rows": null,
            "height": null,
            "justify_content": null,
            "justify_items": null,
            "left": null,
            "margin": null,
            "max_height": null,
            "max_width": null,
            "min_height": null,
            "min_width": null,
            "object_fit": null,
            "object_position": null,
            "order": null,
            "overflow": null,
            "overflow_x": null,
            "overflow_y": null,
            "padding": null,
            "right": null,
            "top": null,
            "visibility": null,
            "width": null
          }
        },
        "4d2f3b4d2cf5450e97170a73a248061f": {
          "model_module": "@jupyter-widgets/controls",
          "model_module_version": "1.5.0",
          "model_name": "HTMLModel",
          "state": {
            "_dom_classes": [],
            "_model_module": "@jupyter-widgets/controls",
            "_model_module_version": "1.5.0",
            "_model_name": "HTMLModel",
            "_view_count": null,
            "_view_module": "@jupyter-widgets/controls",
            "_view_module_version": "1.5.0",
            "_view_name": "HTMLView",
            "description": "",
            "description_tooltip": null,
            "layout": "IPY_MODEL_f7a45e9e583b45d88906d4bb272c01ea",
            "placeholder": "​",
            "style": "IPY_MODEL_a915d3767ac64b559d7070c91cf3eb3b",
            "value": " 1/1 [00:00&lt;00:00, 32.04it/s]"
          }
        },
        "4dba30a61d324bfd9e18e8f1fca0c585": {
          "model_module": "@jupyter-widgets/controls",
          "model_module_version": "1.5.0",
          "model_name": "DescriptionStyleModel",
          "state": {
            "_model_module": "@jupyter-widgets/controls",
            "_model_module_version": "1.5.0",
            "_model_name": "DescriptionStyleModel",
            "_view_count": null,
            "_view_module": "@jupyter-widgets/base",
            "_view_module_version": "1.2.0",
            "_view_name": "StyleView",
            "description_width": ""
          }
        },
        "51a9ea52c19046e4bf721674d52d08ee": {
          "model_module": "@jupyter-widgets/base",
          "model_module_version": "1.2.0",
          "model_name": "LayoutModel",
          "state": {
            "_model_module": "@jupyter-widgets/base",
            "_model_module_version": "1.2.0",
            "_model_name": "LayoutModel",
            "_view_count": null,
            "_view_module": "@jupyter-widgets/base",
            "_view_module_version": "1.2.0",
            "_view_name": "LayoutView",
            "align_content": null,
            "align_items": null,
            "align_self": null,
            "border": null,
            "bottom": null,
            "display": null,
            "flex": null,
            "flex_flow": null,
            "grid_area": null,
            "grid_auto_columns": null,
            "grid_auto_flow": null,
            "grid_auto_rows": null,
            "grid_column": null,
            "grid_gap": null,
            "grid_row": null,
            "grid_template_areas": null,
            "grid_template_columns": null,
            "grid_template_rows": null,
            "height": null,
            "justify_content": null,
            "justify_items": null,
            "left": null,
            "margin": null,
            "max_height": null,
            "max_width": null,
            "min_height": null,
            "min_width": null,
            "object_fit": null,
            "object_position": null,
            "order": null,
            "overflow": null,
            "overflow_x": null,
            "overflow_y": null,
            "padding": null,
            "right": null,
            "top": null,
            "visibility": null,
            "width": null
          }
        },
        "55fd443c714e4c0d94f6c5dce5c900a5": {
          "model_module": "@jupyter-widgets/base",
          "model_module_version": "1.2.0",
          "model_name": "LayoutModel",
          "state": {
            "_model_module": "@jupyter-widgets/base",
            "_model_module_version": "1.2.0",
            "_model_name": "LayoutModel",
            "_view_count": null,
            "_view_module": "@jupyter-widgets/base",
            "_view_module_version": "1.2.0",
            "_view_name": "LayoutView",
            "align_content": null,
            "align_items": null,
            "align_self": null,
            "border": null,
            "bottom": null,
            "display": null,
            "flex": null,
            "flex_flow": null,
            "grid_area": null,
            "grid_auto_columns": null,
            "grid_auto_flow": null,
            "grid_auto_rows": null,
            "grid_column": null,
            "grid_gap": null,
            "grid_row": null,
            "grid_template_areas": null,
            "grid_template_columns": null,
            "grid_template_rows": null,
            "height": null,
            "justify_content": null,
            "justify_items": null,
            "left": null,
            "margin": null,
            "max_height": null,
            "max_width": null,
            "min_height": null,
            "min_width": null,
            "object_fit": null,
            "object_position": null,
            "order": null,
            "overflow": null,
            "overflow_x": null,
            "overflow_y": null,
            "padding": null,
            "right": null,
            "top": null,
            "visibility": null,
            "width": null
          }
        },
        "563bdc15ebeb444bb5b11426c2fd4299": {
          "model_module": "@jupyter-widgets/controls",
          "model_module_version": "1.5.0",
          "model_name": "HTMLModel",
          "state": {
            "_dom_classes": [],
            "_model_module": "@jupyter-widgets/controls",
            "_model_module_version": "1.5.0",
            "_model_name": "HTMLModel",
            "_view_count": null,
            "_view_module": "@jupyter-widgets/controls",
            "_view_module_version": "1.5.0",
            "_view_name": "HTMLView",
            "description": "",
            "description_tooltip": null,
            "layout": "IPY_MODEL_f8116536dacc4066ae9dff79a27e9145",
            "placeholder": "​",
            "style": "IPY_MODEL_1b08883f455a41cab9ed894e71c485ca",
            "value": "Extracting data files: 100%"
          }
        },
        "58e98a0c3e37473cb9f037c714312f7e": {
          "model_module": "@jupyter-widgets/controls",
          "model_module_version": "1.5.0",
          "model_name": "DescriptionStyleModel",
          "state": {
            "_model_module": "@jupyter-widgets/controls",
            "_model_module_version": "1.5.0",
            "_model_name": "DescriptionStyleModel",
            "_view_count": null,
            "_view_module": "@jupyter-widgets/base",
            "_view_module_version": "1.2.0",
            "_view_name": "StyleView",
            "description_width": ""
          }
        },
        "5de83a695b2842a7a089c993530f9095": {
          "model_module": "@jupyter-widgets/controls",
          "model_module_version": "1.5.0",
          "model_name": "ProgressStyleModel",
          "state": {
            "_model_module": "@jupyter-widgets/controls",
            "_model_module_version": "1.5.0",
            "_model_name": "ProgressStyleModel",
            "_view_count": null,
            "_view_module": "@jupyter-widgets/base",
            "_view_module_version": "1.2.0",
            "_view_name": "StyleView",
            "bar_color": null,
            "description_width": ""
          }
        },
        "5df4a001965d4fa59a7b8857261eee5c": {
          "model_module": "@jupyter-widgets/base",
          "model_module_version": "1.2.0",
          "model_name": "LayoutModel",
          "state": {
            "_model_module": "@jupyter-widgets/base",
            "_model_module_version": "1.2.0",
            "_model_name": "LayoutModel",
            "_view_count": null,
            "_view_module": "@jupyter-widgets/base",
            "_view_module_version": "1.2.0",
            "_view_name": "LayoutView",
            "align_content": null,
            "align_items": null,
            "align_self": null,
            "border": null,
            "bottom": null,
            "display": null,
            "flex": null,
            "flex_flow": null,
            "grid_area": null,
            "grid_auto_columns": null,
            "grid_auto_flow": null,
            "grid_auto_rows": null,
            "grid_column": null,
            "grid_gap": null,
            "grid_row": null,
            "grid_template_areas": null,
            "grid_template_columns": null,
            "grid_template_rows": null,
            "height": null,
            "justify_content": null,
            "justify_items": null,
            "left": null,
            "margin": null,
            "max_height": null,
            "max_width": null,
            "min_height": null,
            "min_width": null,
            "object_fit": null,
            "object_position": null,
            "order": null,
            "overflow": null,
            "overflow_x": null,
            "overflow_y": null,
            "padding": null,
            "right": null,
            "top": null,
            "visibility": null,
            "width": null
          }
        },
        "66f4e0d9a3a945239d89ff19563e7afe": {
          "model_module": "@jupyter-widgets/controls",
          "model_module_version": "1.5.0",
          "model_name": "ProgressStyleModel",
          "state": {
            "_model_module": "@jupyter-widgets/controls",
            "_model_module_version": "1.5.0",
            "_model_name": "ProgressStyleModel",
            "_view_count": null,
            "_view_module": "@jupyter-widgets/base",
            "_view_module_version": "1.2.0",
            "_view_name": "StyleView",
            "bar_color": null,
            "description_width": ""
          }
        },
        "68f9a2886802439dba97af4d345c3c01": {
          "model_module": "@jupyter-widgets/controls",
          "model_module_version": "1.5.0",
          "model_name": "DescriptionStyleModel",
          "state": {
            "_model_module": "@jupyter-widgets/controls",
            "_model_module_version": "1.5.0",
            "_model_name": "DescriptionStyleModel",
            "_view_count": null,
            "_view_module": "@jupyter-widgets/base",
            "_view_module_version": "1.2.0",
            "_view_name": "StyleView",
            "description_width": ""
          }
        },
        "6912cd3b7a5c4ee6b44197c6e1bbfe7d": {
          "model_module": "@jupyter-widgets/controls",
          "model_module_version": "1.5.0",
          "model_name": "HTMLModel",
          "state": {
            "_dom_classes": [],
            "_model_module": "@jupyter-widgets/controls",
            "_model_module_version": "1.5.0",
            "_model_name": "HTMLModel",
            "_view_count": null,
            "_view_module": "@jupyter-widgets/controls",
            "_view_module_version": "1.5.0",
            "_view_name": "HTMLView",
            "description": "",
            "description_tooltip": null,
            "layout": "IPY_MODEL_446aea1511af4a5393f8214aae8c5387",
            "placeholder": "​",
            "style": "IPY_MODEL_58e98a0c3e37473cb9f037c714312f7e",
            "value": " 1/1 [00:00&lt;00:00,  9.24it/s]"
          }
        },
        "6b379440a35e49eba7d7bc7a07de8402": {
          "model_module": "@jupyter-widgets/controls",
          "model_module_version": "1.5.0",
          "model_name": "HTMLModel",
          "state": {
            "_dom_classes": [],
            "_model_module": "@jupyter-widgets/controls",
            "_model_module_version": "1.5.0",
            "_model_name": "HTMLModel",
            "_view_count": null,
            "_view_module": "@jupyter-widgets/controls",
            "_view_module_version": "1.5.0",
            "_view_name": "HTMLView",
            "description": "",
            "description_tooltip": null,
            "layout": "IPY_MODEL_b6623d57530d4909ac748ae6c18f92c8",
            "placeholder": "​",
            "style": "IPY_MODEL_cd4b53689072442cad1234478943c7e0",
            "value": " 808/? [01:12&lt;00:00, 10.94 tables/s]"
          }
        },
        "6c55664108a94d0fb5aaf16054ef25dd": {
          "model_module": "@jupyter-widgets/base",
          "model_module_version": "1.2.0",
          "model_name": "LayoutModel",
          "state": {
            "_model_module": "@jupyter-widgets/base",
            "_model_module_version": "1.2.0",
            "_model_name": "LayoutModel",
            "_view_count": null,
            "_view_module": "@jupyter-widgets/base",
            "_view_module_version": "1.2.0",
            "_view_name": "LayoutView",
            "align_content": null,
            "align_items": null,
            "align_self": null,
            "border": null,
            "bottom": null,
            "display": null,
            "flex": null,
            "flex_flow": null,
            "grid_area": null,
            "grid_auto_columns": null,
            "grid_auto_flow": null,
            "grid_auto_rows": null,
            "grid_column": null,
            "grid_gap": null,
            "grid_row": null,
            "grid_template_areas": null,
            "grid_template_columns": null,
            "grid_template_rows": null,
            "height": null,
            "justify_content": null,
            "justify_items": null,
            "left": null,
            "margin": null,
            "max_height": null,
            "max_width": null,
            "min_height": null,
            "min_width": null,
            "object_fit": null,
            "object_position": null,
            "order": null,
            "overflow": null,
            "overflow_x": null,
            "overflow_y": null,
            "padding": null,
            "right": null,
            "top": null,
            "visibility": null,
            "width": null
          }
        },
        "731968ae17384f61a7266edcb9d4722a": {
          "model_module": "@jupyter-widgets/controls",
          "model_module_version": "1.5.0",
          "model_name": "FloatProgressModel",
          "state": {
            "_dom_classes": [],
            "_model_module": "@jupyter-widgets/controls",
            "_model_module_version": "1.5.0",
            "_model_name": "FloatProgressModel",
            "_view_count": null,
            "_view_module": "@jupyter-widgets/controls",
            "_view_module_version": "1.5.0",
            "_view_name": "ProgressView",
            "bar_style": "success",
            "description": "",
            "description_tooltip": null,
            "layout": "IPY_MODEL_480b1a55cd094bcca856f0a83d4c316b",
            "max": 5,
            "min": 0,
            "orientation": "horizontal",
            "style": "IPY_MODEL_03ede010f53e4b03af418b16c1559c62",
            "value": 5
          }
        },
        "7509f6b3eecb46a58283b9797b8e67a4": {
          "model_module": "@jupyter-widgets/controls",
          "model_module_version": "1.5.0",
          "model_name": "ProgressStyleModel",
          "state": {
            "_model_module": "@jupyter-widgets/controls",
            "_model_module_version": "1.5.0",
            "_model_name": "ProgressStyleModel",
            "_view_count": null,
            "_view_module": "@jupyter-widgets/base",
            "_view_module_version": "1.2.0",
            "_view_name": "StyleView",
            "bar_color": null,
            "description_width": ""
          }
        },
        "752d3da5ad354c968fca11fc621c19ec": {
          "model_module": "@jupyter-widgets/base",
          "model_module_version": "1.2.0",
          "model_name": "LayoutModel",
          "state": {
            "_model_module": "@jupyter-widgets/base",
            "_model_module_version": "1.2.0",
            "_model_name": "LayoutModel",
            "_view_count": null,
            "_view_module": "@jupyter-widgets/base",
            "_view_module_version": "1.2.0",
            "_view_name": "LayoutView",
            "align_content": null,
            "align_items": null,
            "align_self": null,
            "border": null,
            "bottom": null,
            "display": null,
            "flex": null,
            "flex_flow": null,
            "grid_area": null,
            "grid_auto_columns": null,
            "grid_auto_flow": null,
            "grid_auto_rows": null,
            "grid_column": null,
            "grid_gap": null,
            "grid_row": null,
            "grid_template_areas": null,
            "grid_template_columns": null,
            "grid_template_rows": null,
            "height": null,
            "justify_content": null,
            "justify_items": null,
            "left": null,
            "margin": null,
            "max_height": null,
            "max_width": null,
            "min_height": null,
            "min_width": null,
            "object_fit": null,
            "object_position": null,
            "order": null,
            "overflow": null,
            "overflow_x": null,
            "overflow_y": null,
            "padding": null,
            "right": null,
            "top": null,
            "visibility": null,
            "width": null
          }
        },
        "7747d28715c144f9a722f8f97a89f80c": {
          "model_module": "@jupyter-widgets/controls",
          "model_module_version": "1.5.0",
          "model_name": "HTMLModel",
          "state": {
            "_dom_classes": [],
            "_model_module": "@jupyter-widgets/controls",
            "_model_module_version": "1.5.0",
            "_model_name": "HTMLModel",
            "_view_count": null,
            "_view_module": "@jupyter-widgets/controls",
            "_view_module_version": "1.5.0",
            "_view_name": "HTMLView",
            "description": "",
            "description_tooltip": null,
            "layout": "IPY_MODEL_7e9958140a9848cdb649935c7d18a345",
            "placeholder": "​",
            "style": "IPY_MODEL_4dba30a61d324bfd9e18e8f1fca0c585",
            "value": ""
          }
        },
        "7dd1b8a65cdf4997b17dd96ee8d21e9b": {
          "model_module": "@jupyter-widgets/controls",
          "model_module_version": "1.5.0",
          "model_name": "FloatProgressModel",
          "state": {
            "_dom_classes": [],
            "_model_module": "@jupyter-widgets/controls",
            "_model_module_version": "1.5.0",
            "_model_name": "FloatProgressModel",
            "_view_count": null,
            "_view_module": "@jupyter-widgets/controls",
            "_view_module_version": "1.5.0",
            "_view_name": "ProgressView",
            "bar_style": "success",
            "description": "",
            "description_tooltip": null,
            "layout": "IPY_MODEL_55fd443c714e4c0d94f6c5dce5c900a5",
            "max": 1,
            "min": 0,
            "orientation": "horizontal",
            "style": "IPY_MODEL_5de83a695b2842a7a089c993530f9095",
            "value": 1
          }
        },
        "7e9958140a9848cdb649935c7d18a345": {
          "model_module": "@jupyter-widgets/base",
          "model_module_version": "1.2.0",
          "model_name": "LayoutModel",
          "state": {
            "_model_module": "@jupyter-widgets/base",
            "_model_module_version": "1.2.0",
            "_model_name": "LayoutModel",
            "_view_count": null,
            "_view_module": "@jupyter-widgets/base",
            "_view_module_version": "1.2.0",
            "_view_name": "LayoutView",
            "align_content": null,
            "align_items": null,
            "align_self": null,
            "border": null,
            "bottom": null,
            "display": null,
            "flex": null,
            "flex_flow": null,
            "grid_area": null,
            "grid_auto_columns": null,
            "grid_auto_flow": null,
            "grid_auto_rows": null,
            "grid_column": null,
            "grid_gap": null,
            "grid_row": null,
            "grid_template_areas": null,
            "grid_template_columns": null,
            "grid_template_rows": null,
            "height": null,
            "justify_content": null,
            "justify_items": null,
            "left": null,
            "margin": null,
            "max_height": null,
            "max_width": null,
            "min_height": null,
            "min_width": null,
            "object_fit": null,
            "object_position": null,
            "order": null,
            "overflow": null,
            "overflow_x": null,
            "overflow_y": null,
            "padding": null,
            "right": null,
            "top": null,
            "visibility": null,
            "width": null
          }
        },
        "806b94538424468da594919fedcf1e47": {
          "model_module": "@jupyter-widgets/controls",
          "model_module_version": "1.5.0",
          "model_name": "HBoxModel",
          "state": {
            "_dom_classes": [],
            "_model_module": "@jupyter-widgets/controls",
            "_model_module_version": "1.5.0",
            "_model_name": "HBoxModel",
            "_view_count": null,
            "_view_module": "@jupyter-widgets/controls",
            "_view_module_version": "1.5.0",
            "_view_name": "HBoxView",
            "box_style": "",
            "children": [
              "IPY_MODEL_cb71e7ab15ee414f961a36fd9586bf1b",
              "IPY_MODEL_396f4fcfe8014c62ae4bc0731ca643e1",
              "IPY_MODEL_4d2f3b4d2cf5450e97170a73a248061f"
            ],
            "layout": "IPY_MODEL_1009633dfd4e490082962f580e712afd"
          }
        },
        "8311f7d195044f2181390a60efc3b24b": {
          "model_module": "@jupyter-widgets/controls",
          "model_module_version": "1.5.0",
          "model_name": "HTMLModel",
          "state": {
            "_dom_classes": [],
            "_model_module": "@jupyter-widgets/controls",
            "_model_module_version": "1.5.0",
            "_model_name": "HTMLModel",
            "_view_count": null,
            "_view_module": "@jupyter-widgets/controls",
            "_view_module_version": "1.5.0",
            "_view_name": "HTMLView",
            "description": "",
            "description_tooltip": null,
            "layout": "IPY_MODEL_1eedaa5b2d864a639320011c80e3ca30",
            "placeholder": "​",
            "style": "IPY_MODEL_fff64e5a2f6043528c800af6fdf55986",
            "value": " 1/1 [00:02&lt;00:00,  2.24s/it]"
          }
        },
        "84c174820cac4ce486e44f937ddcf48d": {
          "model_module": "@jupyter-widgets/base",
          "model_module_version": "1.2.0",
          "model_name": "LayoutModel",
          "state": {
            "_model_module": "@jupyter-widgets/base",
            "_model_module_version": "1.2.0",
            "_model_name": "LayoutModel",
            "_view_count": null,
            "_view_module": "@jupyter-widgets/base",
            "_view_module_version": "1.2.0",
            "_view_name": "LayoutView",
            "align_content": null,
            "align_items": null,
            "align_self": null,
            "border": null,
            "bottom": null,
            "display": null,
            "flex": null,
            "flex_flow": null,
            "grid_area": null,
            "grid_auto_columns": null,
            "grid_auto_flow": null,
            "grid_auto_rows": null,
            "grid_column": null,
            "grid_gap": null,
            "grid_row": null,
            "grid_template_areas": null,
            "grid_template_columns": null,
            "grid_template_rows": null,
            "height": null,
            "justify_content": null,
            "justify_items": null,
            "left": null,
            "margin": null,
            "max_height": null,
            "max_width": null,
            "min_height": null,
            "min_width": null,
            "object_fit": null,
            "object_position": null,
            "order": null,
            "overflow": null,
            "overflow_x": null,
            "overflow_y": null,
            "padding": null,
            "right": null,
            "top": null,
            "visibility": null,
            "width": "20px"
          }
        },
        "93dcd2aff07141609ee52d107b48055c": {
          "model_module": "@jupyter-widgets/base",
          "model_module_version": "1.2.0",
          "model_name": "LayoutModel",
          "state": {
            "_model_module": "@jupyter-widgets/base",
            "_model_module_version": "1.2.0",
            "_model_name": "LayoutModel",
            "_view_count": null,
            "_view_module": "@jupyter-widgets/base",
            "_view_module_version": "1.2.0",
            "_view_name": "LayoutView",
            "align_content": null,
            "align_items": null,
            "align_self": null,
            "border": null,
            "bottom": null,
            "display": null,
            "flex": null,
            "flex_flow": null,
            "grid_area": null,
            "grid_auto_columns": null,
            "grid_auto_flow": null,
            "grid_auto_rows": null,
            "grid_column": null,
            "grid_gap": null,
            "grid_row": null,
            "grid_template_areas": null,
            "grid_template_columns": null,
            "grid_template_rows": null,
            "height": null,
            "justify_content": null,
            "justify_items": null,
            "left": null,
            "margin": null,
            "max_height": null,
            "max_width": null,
            "min_height": null,
            "min_width": null,
            "object_fit": null,
            "object_position": null,
            "order": null,
            "overflow": null,
            "overflow_x": null,
            "overflow_y": null,
            "padding": null,
            "right": null,
            "top": null,
            "visibility": null,
            "width": null
          }
        },
        "96fb3766578145a5a67b73bbc0482e13": {
          "model_module": "@jupyter-widgets/base",
          "model_module_version": "1.2.0",
          "model_name": "LayoutModel",
          "state": {
            "_model_module": "@jupyter-widgets/base",
            "_model_module_version": "1.2.0",
            "_model_name": "LayoutModel",
            "_view_count": null,
            "_view_module": "@jupyter-widgets/base",
            "_view_module_version": "1.2.0",
            "_view_name": "LayoutView",
            "align_content": null,
            "align_items": null,
            "align_self": null,
            "border": null,
            "bottom": null,
            "display": null,
            "flex": null,
            "flex_flow": null,
            "grid_area": null,
            "grid_auto_columns": null,
            "grid_auto_flow": null,
            "grid_auto_rows": null,
            "grid_column": null,
            "grid_gap": null,
            "grid_row": null,
            "grid_template_areas": null,
            "grid_template_columns": null,
            "grid_template_rows": null,
            "height": null,
            "justify_content": null,
            "justify_items": null,
            "left": null,
            "margin": null,
            "max_height": null,
            "max_width": null,
            "min_height": null,
            "min_width": null,
            "object_fit": null,
            "object_position": null,
            "order": null,
            "overflow": null,
            "overflow_x": null,
            "overflow_y": null,
            "padding": null,
            "right": null,
            "top": null,
            "visibility": null,
            "width": null
          }
        },
        "98943bff172e4fdca3f15841ccb33273": {
          "model_module": "@jupyter-widgets/controls",
          "model_module_version": "1.5.0",
          "model_name": "FloatProgressModel",
          "state": {
            "_dom_classes": [],
            "_model_module": "@jupyter-widgets/controls",
            "_model_module_version": "1.5.0",
            "_model_name": "FloatProgressModel",
            "_view_count": null,
            "_view_module": "@jupyter-widgets/controls",
            "_view_module_version": "1.5.0",
            "_view_name": "ProgressView",
            "bar_style": "success",
            "description": "",
            "description_tooltip": null,
            "layout": "IPY_MODEL_c9033fd7363341d1bfc85f65cf736879",
            "max": 1,
            "min": 0,
            "orientation": "horizontal",
            "style": "IPY_MODEL_7509f6b3eecb46a58283b9797b8e67a4",
            "value": 1
          }
        },
        "9b133e7da2a8464c8e0366d563d5510f": {
          "model_module": "@jupyter-widgets/controls",
          "model_module_version": "1.5.0",
          "model_name": "DescriptionStyleModel",
          "state": {
            "_model_module": "@jupyter-widgets/controls",
            "_model_module_version": "1.5.0",
            "_model_name": "DescriptionStyleModel",
            "_view_count": null,
            "_view_module": "@jupyter-widgets/base",
            "_view_module_version": "1.2.0",
            "_view_name": "StyleView",
            "description_width": ""
          }
        },
        "9bb87cd00b2f424381843e97f059da81": {
          "model_module": "@jupyter-widgets/controls",
          "model_module_version": "1.5.0",
          "model_name": "HTMLModel",
          "state": {
            "_dom_classes": [],
            "_model_module": "@jupyter-widgets/controls",
            "_model_module_version": "1.5.0",
            "_model_name": "HTMLModel",
            "_view_count": null,
            "_view_module": "@jupyter-widgets/controls",
            "_view_module_version": "1.5.0",
            "_view_name": "HTMLView",
            "description": "",
            "description_tooltip": null,
            "layout": "IPY_MODEL_bccb6b9ff2554f5c9cc0d95e2fa30450",
            "placeholder": "​",
            "style": "IPY_MODEL_68f9a2886802439dba97af4d345c3c01",
            "value": "100%"
          }
        },
        "a582189a265d4f29bf89bd5fbbd2d05a": {
          "model_module": "@jupyter-widgets/controls",
          "model_module_version": "1.5.0",
          "model_name": "HTMLModel",
          "state": {
            "_dom_classes": [],
            "_model_module": "@jupyter-widgets/controls",
            "_model_module_version": "1.5.0",
            "_model_name": "HTMLModel",
            "_view_count": null,
            "_view_module": "@jupyter-widgets/controls",
            "_view_module_version": "1.5.0",
            "_view_name": "HTMLView",
            "description": "",
            "description_tooltip": null,
            "layout": "IPY_MODEL_93dcd2aff07141609ee52d107b48055c",
            "placeholder": "​",
            "style": "IPY_MODEL_9b133e7da2a8464c8e0366d563d5510f",
            "value": " 1/1 [00:48&lt;00:00, 48.43s/it]"
          }
        },
        "a630ca9d7eab40e5b9fbe4443599a431": {
          "model_module": "@jupyter-widgets/base",
          "model_module_version": "1.2.0",
          "model_name": "LayoutModel",
          "state": {
            "_model_module": "@jupyter-widgets/base",
            "_model_module_version": "1.2.0",
            "_model_name": "LayoutModel",
            "_view_count": null,
            "_view_module": "@jupyter-widgets/base",
            "_view_module_version": "1.2.0",
            "_view_name": "LayoutView",
            "align_content": null,
            "align_items": null,
            "align_self": null,
            "border": null,
            "bottom": null,
            "display": null,
            "flex": null,
            "flex_flow": null,
            "grid_area": null,
            "grid_auto_columns": null,
            "grid_auto_flow": null,
            "grid_auto_rows": null,
            "grid_column": null,
            "grid_gap": null,
            "grid_row": null,
            "grid_template_areas": null,
            "grid_template_columns": null,
            "grid_template_rows": null,
            "height": null,
            "justify_content": null,
            "justify_items": null,
            "left": null,
            "margin": null,
            "max_height": null,
            "max_width": null,
            "min_height": null,
            "min_width": null,
            "object_fit": null,
            "object_position": null,
            "order": null,
            "overflow": null,
            "overflow_x": null,
            "overflow_y": null,
            "padding": null,
            "right": null,
            "top": null,
            "visibility": null,
            "width": null
          }
        },
        "a915d3767ac64b559d7070c91cf3eb3b": {
          "model_module": "@jupyter-widgets/controls",
          "model_module_version": "1.5.0",
          "model_name": "DescriptionStyleModel",
          "state": {
            "_model_module": "@jupyter-widgets/controls",
            "_model_module_version": "1.5.0",
            "_model_name": "DescriptionStyleModel",
            "_view_count": null,
            "_view_module": "@jupyter-widgets/base",
            "_view_module_version": "1.2.0",
            "_view_name": "StyleView",
            "description_width": ""
          }
        },
        "acb09a2350cf4e299dc01796050c568a": {
          "model_module": "@jupyter-widgets/controls",
          "model_module_version": "1.5.0",
          "model_name": "HBoxModel",
          "state": {
            "_dom_classes": [],
            "_model_module": "@jupyter-widgets/controls",
            "_model_module_version": "1.5.0",
            "_model_name": "HBoxModel",
            "_view_count": null,
            "_view_module": "@jupyter-widgets/controls",
            "_view_module_version": "1.5.0",
            "_view_name": "HBoxView",
            "box_style": "",
            "children": [
              "IPY_MODEL_563bdc15ebeb444bb5b11426c2fd4299",
              "IPY_MODEL_98943bff172e4fdca3f15841ccb33273",
              "IPY_MODEL_6912cd3b7a5c4ee6b44197c6e1bbfe7d"
            ],
            "layout": "IPY_MODEL_c92211d09f6c46eba5887eb27ba2e2c2"
          }
        },
        "b6623d57530d4909ac748ae6c18f92c8": {
          "model_module": "@jupyter-widgets/base",
          "model_module_version": "1.2.0",
          "model_name": "LayoutModel",
          "state": {
            "_model_module": "@jupyter-widgets/base",
            "_model_module_version": "1.2.0",
            "_model_name": "LayoutModel",
            "_view_count": null,
            "_view_module": "@jupyter-widgets/base",
            "_view_module_version": "1.2.0",
            "_view_name": "LayoutView",
            "align_content": null,
            "align_items": null,
            "align_self": null,
            "border": null,
            "bottom": null,
            "display": null,
            "flex": null,
            "flex_flow": null,
            "grid_area": null,
            "grid_auto_columns": null,
            "grid_auto_flow": null,
            "grid_auto_rows": null,
            "grid_column": null,
            "grid_gap": null,
            "grid_row": null,
            "grid_template_areas": null,
            "grid_template_columns": null,
            "grid_template_rows": null,
            "height": null,
            "justify_content": null,
            "justify_items": null,
            "left": null,
            "margin": null,
            "max_height": null,
            "max_width": null,
            "min_height": null,
            "min_width": null,
            "object_fit": null,
            "object_position": null,
            "order": null,
            "overflow": null,
            "overflow_x": null,
            "overflow_y": null,
            "padding": null,
            "right": null,
            "top": null,
            "visibility": null,
            "width": null
          }
        },
        "bcbc22af93d84eaaa28533145323e9ba": {
          "model_module": "@jupyter-widgets/controls",
          "model_module_version": "1.5.0",
          "model_name": "FloatProgressModel",
          "state": {
            "_dom_classes": [],
            "_model_module": "@jupyter-widgets/controls",
            "_model_module_version": "1.5.0",
            "_model_name": "FloatProgressModel",
            "_view_count": null,
            "_view_module": "@jupyter-widgets/controls",
            "_view_module_version": "1.5.0",
            "_view_name": "ProgressView",
            "bar_style": "success",
            "description": "",
            "description_tooltip": null,
            "layout": "IPY_MODEL_51a9ea52c19046e4bf721674d52d08ee",
            "max": 20,
            "min": 0,
            "orientation": "horizontal",
            "style": "IPY_MODEL_0beff91379444d75b760f5245f3484b1",
            "value": 20
          }
        },
        "bccb6b9ff2554f5c9cc0d95e2fa30450": {
          "model_module": "@jupyter-widgets/base",
          "model_module_version": "1.2.0",
          "model_name": "LayoutModel",
          "state": {
            "_model_module": "@jupyter-widgets/base",
            "_model_module_version": "1.2.0",
            "_model_name": "LayoutModel",
            "_view_count": null,
            "_view_module": "@jupyter-widgets/base",
            "_view_module_version": "1.2.0",
            "_view_name": "LayoutView",
            "align_content": null,
            "align_items": null,
            "align_self": null,
            "border": null,
            "bottom": null,
            "display": null,
            "flex": null,
            "flex_flow": null,
            "grid_area": null,
            "grid_auto_columns": null,
            "grid_auto_flow": null,
            "grid_auto_rows": null,
            "grid_column": null,
            "grid_gap": null,
            "grid_row": null,
            "grid_template_areas": null,
            "grid_template_columns": null,
            "grid_template_rows": null,
            "height": null,
            "justify_content": null,
            "justify_items": null,
            "left": null,
            "margin": null,
            "max_height": null,
            "max_width": null,
            "min_height": null,
            "min_width": null,
            "object_fit": null,
            "object_position": null,
            "order": null,
            "overflow": null,
            "overflow_x": null,
            "overflow_y": null,
            "padding": null,
            "right": null,
            "top": null,
            "visibility": null,
            "width": null
          }
        },
        "bdc4911b28ee435d855eb531af5390c0": {
          "model_module": "@jupyter-widgets/controls",
          "model_module_version": "1.5.0",
          "model_name": "DescriptionStyleModel",
          "state": {
            "_model_module": "@jupyter-widgets/controls",
            "_model_module_version": "1.5.0",
            "_model_name": "DescriptionStyleModel",
            "_view_count": null,
            "_view_module": "@jupyter-widgets/base",
            "_view_module_version": "1.2.0",
            "_view_name": "StyleView",
            "description_width": ""
          }
        },
        "c9033fd7363341d1bfc85f65cf736879": {
          "model_module": "@jupyter-widgets/base",
          "model_module_version": "1.2.0",
          "model_name": "LayoutModel",
          "state": {
            "_model_module": "@jupyter-widgets/base",
            "_model_module_version": "1.2.0",
            "_model_name": "LayoutModel",
            "_view_count": null,
            "_view_module": "@jupyter-widgets/base",
            "_view_module_version": "1.2.0",
            "_view_name": "LayoutView",
            "align_content": null,
            "align_items": null,
            "align_self": null,
            "border": null,
            "bottom": null,
            "display": null,
            "flex": null,
            "flex_flow": null,
            "grid_area": null,
            "grid_auto_columns": null,
            "grid_auto_flow": null,
            "grid_auto_rows": null,
            "grid_column": null,
            "grid_gap": null,
            "grid_row": null,
            "grid_template_areas": null,
            "grid_template_columns": null,
            "grid_template_rows": null,
            "height": null,
            "justify_content": null,
            "justify_items": null,
            "left": null,
            "margin": null,
            "max_height": null,
            "max_width": null,
            "min_height": null,
            "min_width": null,
            "object_fit": null,
            "object_position": null,
            "order": null,
            "overflow": null,
            "overflow_x": null,
            "overflow_y": null,
            "padding": null,
            "right": null,
            "top": null,
            "visibility": null,
            "width": null
          }
        },
        "c92211d09f6c46eba5887eb27ba2e2c2": {
          "model_module": "@jupyter-widgets/base",
          "model_module_version": "1.2.0",
          "model_name": "LayoutModel",
          "state": {
            "_model_module": "@jupyter-widgets/base",
            "_model_module_version": "1.2.0",
            "_model_name": "LayoutModel",
            "_view_count": null,
            "_view_module": "@jupyter-widgets/base",
            "_view_module_version": "1.2.0",
            "_view_name": "LayoutView",
            "align_content": null,
            "align_items": null,
            "align_self": null,
            "border": null,
            "bottom": null,
            "display": null,
            "flex": null,
            "flex_flow": null,
            "grid_area": null,
            "grid_auto_columns": null,
            "grid_auto_flow": null,
            "grid_auto_rows": null,
            "grid_column": null,
            "grid_gap": null,
            "grid_row": null,
            "grid_template_areas": null,
            "grid_template_columns": null,
            "grid_template_rows": null,
            "height": null,
            "justify_content": null,
            "justify_items": null,
            "left": null,
            "margin": null,
            "max_height": null,
            "max_width": null,
            "min_height": null,
            "min_width": null,
            "object_fit": null,
            "object_position": null,
            "order": null,
            "overflow": null,
            "overflow_x": null,
            "overflow_y": null,
            "padding": null,
            "right": null,
            "top": null,
            "visibility": null,
            "width": null
          }
        },
        "ca2321e7027845e99e5a89ad5507e270": {
          "model_module": "@jupyter-widgets/controls",
          "model_module_version": "1.5.0",
          "model_name": "HTMLModel",
          "state": {
            "_dom_classes": [],
            "_model_module": "@jupyter-widgets/controls",
            "_model_module_version": "1.5.0",
            "_model_name": "HTMLModel",
            "_view_count": null,
            "_view_module": "@jupyter-widgets/controls",
            "_view_module_version": "1.5.0",
            "_view_name": "HTMLView",
            "description": "",
            "description_tooltip": null,
            "layout": "IPY_MODEL_19ce09a1f6b24916aec963d6ba0a1863",
            "placeholder": "​",
            "style": "IPY_MODEL_bdc4911b28ee435d855eb531af5390c0",
            "value": "Resolving data files: 100%"
          }
        },
        "cb09aefd79e649d1af06f11aad7794c5": {
          "model_module": "@jupyter-widgets/controls",
          "model_module_version": "1.5.0",
          "model_name": "HBoxModel",
          "state": {
            "_dom_classes": [],
            "_model_module": "@jupyter-widgets/controls",
            "_model_module_version": "1.5.0",
            "_model_name": "HBoxModel",
            "_view_count": null,
            "_view_module": "@jupyter-widgets/controls",
            "_view_module_version": "1.5.0",
            "_view_name": "HBoxView",
            "box_style": "",
            "children": [
              "IPY_MODEL_eaf9d9e0550c4bd2ae0ce80721f10db5",
              "IPY_MODEL_7dd1b8a65cdf4997b17dd96ee8d21e9b",
              "IPY_MODEL_a582189a265d4f29bf89bd5fbbd2d05a"
            ],
            "layout": "IPY_MODEL_6c55664108a94d0fb5aaf16054ef25dd"
          }
        },
        "cb71e7ab15ee414f961a36fd9586bf1b": {
          "model_module": "@jupyter-widgets/controls",
          "model_module_version": "1.5.0",
          "model_name": "HTMLModel",
          "state": {
            "_dom_classes": [],
            "_model_module": "@jupyter-widgets/controls",
            "_model_module_version": "1.5.0",
            "_model_name": "HTMLModel",
            "_view_count": null,
            "_view_module": "@jupyter-widgets/controls",
            "_view_module_version": "1.5.0",
            "_view_name": "HTMLView",
            "description": "",
            "description_tooltip": null,
            "layout": "IPY_MODEL_752d3da5ad354c968fca11fc621c19ec",
            "placeholder": "​",
            "style": "IPY_MODEL_2f0121bb41454048b2db282192d71ffe",
            "value": "Downloading data files: 100%"
          }
        },
        "cd4b53689072442cad1234478943c7e0": {
          "model_module": "@jupyter-widgets/controls",
          "model_module_version": "1.5.0",
          "model_name": "DescriptionStyleModel",
          "state": {
            "_model_module": "@jupyter-widgets/controls",
            "_model_module_version": "1.5.0",
            "_model_name": "DescriptionStyleModel",
            "_view_count": null,
            "_view_module": "@jupyter-widgets/base",
            "_view_module_version": "1.2.0",
            "_view_name": "StyleView",
            "description_width": ""
          }
        },
        "ce26a8c44e2d4c1987e336d0c45e1bf8": {
          "model_module": "@jupyter-widgets/base",
          "model_module_version": "1.2.0",
          "model_name": "LayoutModel",
          "state": {
            "_model_module": "@jupyter-widgets/base",
            "_model_module_version": "1.2.0",
            "_model_name": "LayoutModel",
            "_view_count": null,
            "_view_module": "@jupyter-widgets/base",
            "_view_module_version": "1.2.0",
            "_view_name": "LayoutView",
            "align_content": null,
            "align_items": null,
            "align_self": null,
            "border": null,
            "bottom": null,
            "display": null,
            "flex": null,
            "flex_flow": null,
            "grid_area": null,
            "grid_auto_columns": null,
            "grid_auto_flow": null,
            "grid_auto_rows": null,
            "grid_column": null,
            "grid_gap": null,
            "grid_row": null,
            "grid_template_areas": null,
            "grid_template_columns": null,
            "grid_template_rows": null,
            "height": null,
            "justify_content": null,
            "justify_items": null,
            "left": null,
            "margin": null,
            "max_height": null,
            "max_width": null,
            "min_height": null,
            "min_width": null,
            "object_fit": null,
            "object_position": null,
            "order": null,
            "overflow": null,
            "overflow_x": null,
            "overflow_y": null,
            "padding": null,
            "right": null,
            "top": null,
            "visibility": null,
            "width": null
          }
        },
        "cfb001f916fd4530b3af75a5c741a937": {
          "model_module": "@jupyter-widgets/controls",
          "model_module_version": "1.5.0",
          "model_name": "HBoxModel",
          "state": {
            "_dom_classes": [],
            "_model_module": "@jupyter-widgets/controls",
            "_model_module_version": "1.5.0",
            "_model_name": "HBoxModel",
            "_view_count": null,
            "_view_module": "@jupyter-widgets/controls",
            "_view_module_version": "1.5.0",
            "_view_name": "HBoxView",
            "box_style": "",
            "children": [
              "IPY_MODEL_7747d28715c144f9a722f8f97a89f80c",
              "IPY_MODEL_d08c4eae5e7a434ebd3413dcda5e5feb",
              "IPY_MODEL_6b379440a35e49eba7d7bc7a07de8402"
            ],
            "layout": "IPY_MODEL_4247cb9ca5c54ec78a5b487d75ded277"
          }
        },
        "d08c4eae5e7a434ebd3413dcda5e5feb": {
          "model_module": "@jupyter-widgets/controls",
          "model_module_version": "1.5.0",
          "model_name": "FloatProgressModel",
          "state": {
            "_dom_classes": [],
            "_model_module": "@jupyter-widgets/controls",
            "_model_module_version": "1.5.0",
            "_model_name": "FloatProgressModel",
            "_view_count": null,
            "_view_module": "@jupyter-widgets/controls",
            "_view_module_version": "1.5.0",
            "_view_name": "ProgressView",
            "bar_style": "info",
            "description": "",
            "description_tooltip": null,
            "layout": "IPY_MODEL_84c174820cac4ce486e44f937ddcf48d",
            "max": 1,
            "min": 0,
            "orientation": "horizontal",
            "style": "IPY_MODEL_ef99da5e03b84091b5353126f74c4e24",
            "value": 1
          }
        },
        "dc759944850c4325acf766ef1b428913": {
          "model_module": "@jupyter-widgets/controls",
          "model_module_version": "1.5.0",
          "model_name": "HTMLModel",
          "state": {
            "_dom_classes": [],
            "_model_module": "@jupyter-widgets/controls",
            "_model_module_version": "1.5.0",
            "_model_name": "HTMLModel",
            "_view_count": null,
            "_view_module": "@jupyter-widgets/controls",
            "_view_module_version": "1.5.0",
            "_view_name": "HTMLView",
            "description": "",
            "description_tooltip": null,
            "layout": "IPY_MODEL_5df4a001965d4fa59a7b8857261eee5c",
            "placeholder": "​",
            "style": "IPY_MODEL_15928fbb07cb44afa472d749ae46ac80",
            "value": " 20/20 [00:00&lt;00:00, 660.23it/s]"
          }
        },
        "eaf9d9e0550c4bd2ae0ce80721f10db5": {
          "model_module": "@jupyter-widgets/controls",
          "model_module_version": "1.5.0",
          "model_name": "HTMLModel",
          "state": {
            "_dom_classes": [],
            "_model_module": "@jupyter-widgets/controls",
            "_model_module_version": "1.5.0",
            "_model_name": "HTMLModel",
            "_view_count": null,
            "_view_module": "@jupyter-widgets/controls",
            "_view_module_version": "1.5.0",
            "_view_name": "HTMLView",
            "description": "",
            "description_tooltip": null,
            "layout": "IPY_MODEL_1eaa71c80f004a2ba08adb1403817416",
            "placeholder": "​",
            "style": "IPY_MODEL_16601815116b44849dda2649c5e1e4d7",
            "value": "100%"
          }
        },
        "ef99da5e03b84091b5353126f74c4e24": {
          "model_module": "@jupyter-widgets/controls",
          "model_module_version": "1.5.0",
          "model_name": "ProgressStyleModel",
          "state": {
            "_model_module": "@jupyter-widgets/controls",
            "_model_module_version": "1.5.0",
            "_model_name": "ProgressStyleModel",
            "_view_count": null,
            "_view_module": "@jupyter-widgets/base",
            "_view_module_version": "1.2.0",
            "_view_name": "StyleView",
            "bar_color": null,
            "description_width": ""
          }
        },
        "f4c750658470457fb3cea8ef75711a9c": {
          "model_module": "@jupyter-widgets/controls",
          "model_module_version": "1.5.0",
          "model_name": "HTMLModel",
          "state": {
            "_dom_classes": [],
            "_model_module": "@jupyter-widgets/controls",
            "_model_module_version": "1.5.0",
            "_model_name": "HTMLModel",
            "_view_count": null,
            "_view_module": "@jupyter-widgets/controls",
            "_view_module_version": "1.5.0",
            "_view_name": "HTMLView",
            "description": "",
            "description_tooltip": null,
            "layout": "IPY_MODEL_96fb3766578145a5a67b73bbc0482e13",
            "placeholder": "​",
            "style": "IPY_MODEL_25951b9efebc446194c86168dc73e154",
            "value": " 5/5 [04:33&lt;00:00, 51.91s/it]"
          }
        },
        "f7a45e9e583b45d88906d4bb272c01ea": {
          "model_module": "@jupyter-widgets/base",
          "model_module_version": "1.2.0",
          "model_name": "LayoutModel",
          "state": {
            "_model_module": "@jupyter-widgets/base",
            "_model_module_version": "1.2.0",
            "_model_name": "LayoutModel",
            "_view_count": null,
            "_view_module": "@jupyter-widgets/base",
            "_view_module_version": "1.2.0",
            "_view_name": "LayoutView",
            "align_content": null,
            "align_items": null,
            "align_self": null,
            "border": null,
            "bottom": null,
            "display": null,
            "flex": null,
            "flex_flow": null,
            "grid_area": null,
            "grid_auto_columns": null,
            "grid_auto_flow": null,
            "grid_auto_rows": null,
            "grid_column": null,
            "grid_gap": null,
            "grid_row": null,
            "grid_template_areas": null,
            "grid_template_columns": null,
            "grid_template_rows": null,
            "height": null,
            "justify_content": null,
            "justify_items": null,
            "left": null,
            "margin": null,
            "max_height": null,
            "max_width": null,
            "min_height": null,
            "min_width": null,
            "object_fit": null,
            "object_position": null,
            "order": null,
            "overflow": null,
            "overflow_x": null,
            "overflow_y": null,
            "padding": null,
            "right": null,
            "top": null,
            "visibility": null,
            "width": null
          }
        },
        "f8116536dacc4066ae9dff79a27e9145": {
          "model_module": "@jupyter-widgets/base",
          "model_module_version": "1.2.0",
          "model_name": "LayoutModel",
          "state": {
            "_model_module": "@jupyter-widgets/base",
            "_model_module_version": "1.2.0",
            "_model_name": "LayoutModel",
            "_view_count": null,
            "_view_module": "@jupyter-widgets/base",
            "_view_module_version": "1.2.0",
            "_view_name": "LayoutView",
            "align_content": null,
            "align_items": null,
            "align_self": null,
            "border": null,
            "bottom": null,
            "display": null,
            "flex": null,
            "flex_flow": null,
            "grid_area": null,
            "grid_auto_columns": null,
            "grid_auto_flow": null,
            "grid_auto_rows": null,
            "grid_column": null,
            "grid_gap": null,
            "grid_row": null,
            "grid_template_areas": null,
            "grid_template_columns": null,
            "grid_template_rows": null,
            "height": null,
            "justify_content": null,
            "justify_items": null,
            "left": null,
            "margin": null,
            "max_height": null,
            "max_width": null,
            "min_height": null,
            "min_width": null,
            "object_fit": null,
            "object_position": null,
            "order": null,
            "overflow": null,
            "overflow_x": null,
            "overflow_y": null,
            "padding": null,
            "right": null,
            "top": null,
            "visibility": null,
            "width": null
          }
        },
        "fc9c641e9cb04a54ab966ae8cb448158": {
          "model_module": "@jupyter-widgets/controls",
          "model_module_version": "1.5.0",
          "model_name": "HTMLModel",
          "state": {
            "_dom_classes": [],
            "_model_module": "@jupyter-widgets/controls",
            "_model_module_version": "1.5.0",
            "_model_name": "HTMLModel",
            "_view_count": null,
            "_view_module": "@jupyter-widgets/controls",
            "_view_module_version": "1.5.0",
            "_view_name": "HTMLView",
            "description": "",
            "description_tooltip": null,
            "layout": "IPY_MODEL_083d8fe55f40449b869e13fcf3bfaa05",
            "placeholder": "​",
            "style": "IPY_MODEL_1e20237085664029a544c191a3ed4c5a",
            "value": "Pushing dataset shards to the dataset hub: 100%"
          }
        },
        "fff64e5a2f6043528c800af6fdf55986": {
          "model_module": "@jupyter-widgets/controls",
          "model_module_version": "1.5.0",
          "model_name": "DescriptionStyleModel",
          "state": {
            "_model_module": "@jupyter-widgets/controls",
            "_model_module_version": "1.5.0",
            "_model_name": "DescriptionStyleModel",
            "_view_count": null,
            "_view_module": "@jupyter-widgets/base",
            "_view_module_version": "1.2.0",
            "_view_name": "StyleView",
            "description_width": ""
          }
        }
      }
    }
  },
  "nbformat": 4,
  "nbformat_minor": 0
}
