{
 "cells": [
  {
   "cell_type": "code",
   "execution_count": 1,
   "metadata": {},
   "outputs": [],
   "source": [
    "import pandas as pd\n",
    "import numpy as np\n",
    "import re"
   ]
  },
  {
   "cell_type": "code",
   "execution_count": 2,
   "metadata": {},
   "outputs": [],
   "source": [
    "# Load file with prediction errors from the model\n",
    "ers = pd.read_csv('/Users/jason/svn/flair-custom/resume2/pred_errors.txt', sep='\\t')"
   ]
  },
  {
   "cell_type": "code",
   "execution_count": 3,
   "metadata": {},
   "outputs": [
    {
     "data": {
      "text/html": [
       "<div>\n",
       "<style scoped>\n",
       "    .dataframe tbody tr th:only-of-type {\n",
       "        vertical-align: middle;\n",
       "    }\n",
       "\n",
       "    .dataframe tbody tr th {\n",
       "        vertical-align: top;\n",
       "    }\n",
       "\n",
       "    .dataframe thead th {\n",
       "        text-align: right;\n",
       "    }\n",
       "</style>\n",
       "<table border=\"1\" class=\"dataframe\">\n",
       "  <thead>\n",
       "    <tr style=\"text-align: right;\">\n",
       "      <th></th>\n",
       "      <th>Unnamed: 0</th>\n",
       "      <th>text</th>\n",
       "      <th>gt</th>\n",
       "      <th>pred</th>\n",
       "    </tr>\n",
       "  </thead>\n",
       "  <tbody>\n",
       "    <tr>\n",
       "      <th>0</th>\n",
       "      <td>10</td>\n",
       "      <td>Muslim</td>\n",
       "      <td>B-geo</td>\n",
       "      <td>B-org</td>\n",
       "    </tr>\n",
       "    <tr>\n",
       "      <th>1</th>\n",
       "      <td>187</td>\n",
       "      <td>90</td>\n",
       "      <td>B-tim</td>\n",
       "      <td>O</td>\n",
       "    </tr>\n",
       "    <tr>\n",
       "      <th>2</th>\n",
       "      <td>191</td>\n",
       "      <td>current</td>\n",
       "      <td>B-tim</td>\n",
       "      <td>O</td>\n",
       "    </tr>\n",
       "    <tr>\n",
       "      <th>3</th>\n",
       "      <td>192</td>\n",
       "      <td>fiscal</td>\n",
       "      <td>I-tim</td>\n",
       "      <td>B-tim</td>\n",
       "    </tr>\n",
       "    <tr>\n",
       "      <th>4</th>\n",
       "      <td>322</td>\n",
       "      <td>Saudi</td>\n",
       "      <td>B-org</td>\n",
       "      <td>O</td>\n",
       "    </tr>\n",
       "  </tbody>\n",
       "</table>\n",
       "</div>"
      ],
      "text/plain": [
       "   Unnamed: 0     text     gt   pred\n",
       "0          10   Muslim  B-geo  B-org\n",
       "1         187       90  B-tim      O\n",
       "2         191  current  B-tim      O\n",
       "3         192   fiscal  I-tim  B-tim\n",
       "4         322    Saudi  B-org      O"
      ]
     },
     "execution_count": 3,
     "metadata": {},
     "output_type": "execute_result"
    }
   ],
   "source": [
    "ers.head()"
   ]
  },
  {
   "cell_type": "code",
   "execution_count": 4,
   "metadata": {},
   "outputs": [],
   "source": [
    "# Remove the location prefix (B-, I-, S-, etc) from the tags\n",
    "ers['gt_trim'] = ers['gt'].apply(lambda w: re.sub('[A-Z]\\-', '', w))\n",
    "ers['pred_trim'] = ers['pred'].apply(lambda w: re.sub('[A-Z]\\-', '', w))"
   ]
  },
  {
   "cell_type": "code",
   "execution_count": 5,
   "metadata": {},
   "outputs": [
    {
     "data": {
      "text/plain": [
       "array(['geo', 'tim', 'org', 'per', 'O', 'gpe', 'art', 'nat', 'eve'],\n",
       "      dtype=object)"
      ]
     },
     "execution_count": 5,
     "metadata": {},
     "output_type": "execute_result"
    }
   ],
   "source": [
    "ers['gt_trim'].unique()"
   ]
  },
  {
   "cell_type": "code",
   "execution_count": 7,
   "metadata": {},
   "outputs": [],
   "source": [
    "# Create a dataframe containing the observations\n",
    "# where the base tag does not match (i.e. ignore I-org vs B-org)\n",
    "ers_miss = ers[~(ers['gt_trim'] == ers['pred_trim'])]"
   ]
  },
  {
   "cell_type": "code",
   "execution_count": 9,
   "metadata": {},
   "outputs": [
    {
     "data": {
      "text/plain": [
       "(2430, 6)"
      ]
     },
     "execution_count": 9,
     "metadata": {},
     "output_type": "execute_result"
    }
   ],
   "source": [
    "ers_miss.shape"
   ]
  },
  {
   "cell_type": "code",
   "execution_count": 10,
   "metadata": {},
   "outputs": [
    {
     "data": {
      "text/plain": [
       "org    32.263374\n",
       "O      20.781893\n",
       "geo    15.473251\n",
       "tim    11.934156\n",
       "per    11.851852\n",
       "gpe     3.251029\n",
       "art     2.427984\n",
       "eve     1.481481\n",
       "nat     0.534979\n",
       "Name: gt_trim, dtype: float64"
      ]
     },
     "execution_count": 10,
     "metadata": {},
     "output_type": "execute_result"
    }
   ],
   "source": [
    "# Find the percentage of errors by Ground Truth base tag\n",
    "100 * (ers_miss['gt_trim'].value_counts() / ers_miss.shape[0])"
   ]
  },
  {
   "cell_type": "markdown",
   "metadata": {},
   "source": [
    "The above cell tells us that almost 1/3 of our errors are happening when the ground truth tag is 'org'. Let's look into this."
   ]
  },
  {
   "cell_type": "code",
   "execution_count": 11,
   "metadata": {},
   "outputs": [
    {
     "data": {
      "text/html": [
       "<div>\n",
       "<style scoped>\n",
       "    .dataframe tbody tr th:only-of-type {\n",
       "        vertical-align: middle;\n",
       "    }\n",
       "\n",
       "    .dataframe tbody tr th {\n",
       "        vertical-align: top;\n",
       "    }\n",
       "\n",
       "    .dataframe thead th {\n",
       "        text-align: right;\n",
       "    }\n",
       "</style>\n",
       "<table border=\"1\" class=\"dataframe\">\n",
       "  <thead>\n",
       "    <tr style=\"text-align: right;\">\n",
       "      <th></th>\n",
       "      <th>Unnamed: 0</th>\n",
       "      <th>text</th>\n",
       "      <th>gt</th>\n",
       "      <th>pred</th>\n",
       "      <th>gt_trim</th>\n",
       "      <th>pred_trim</th>\n",
       "    </tr>\n",
       "  </thead>\n",
       "  <tbody>\n",
       "    <tr>\n",
       "      <th>871</th>\n",
       "      <td>31805</td>\n",
       "      <td>Morocco</td>\n",
       "      <td>B-org</td>\n",
       "      <td>B-geo</td>\n",
       "      <td>org</td>\n",
       "      <td>geo</td>\n",
       "    </tr>\n",
       "    <tr>\n",
       "      <th>1648</th>\n",
       "      <td>59949</td>\n",
       "      <td>Gucht</td>\n",
       "      <td>I-org</td>\n",
       "      <td>I-per</td>\n",
       "      <td>org</td>\n",
       "      <td>per</td>\n",
       "    </tr>\n",
       "    <tr>\n",
       "      <th>1562</th>\n",
       "      <td>56743</td>\n",
       "      <td>Sweden</td>\n",
       "      <td>B-org</td>\n",
       "      <td>B-geo</td>\n",
       "      <td>org</td>\n",
       "      <td>geo</td>\n",
       "    </tr>\n",
       "    <tr>\n",
       "      <th>1797</th>\n",
       "      <td>66088</td>\n",
       "      <td>Ghraib</td>\n",
       "      <td>I-org</td>\n",
       "      <td>I-geo</td>\n",
       "      <td>org</td>\n",
       "      <td>geo</td>\n",
       "    </tr>\n",
       "    <tr>\n",
       "      <th>1054</th>\n",
       "      <td>39082</td>\n",
       "      <td>Berri</td>\n",
       "      <td>I-org</td>\n",
       "      <td>I-per</td>\n",
       "      <td>org</td>\n",
       "      <td>per</td>\n",
       "    </tr>\n",
       "    <tr>\n",
       "      <th>127</th>\n",
       "      <td>4285</td>\n",
       "      <td>International</td>\n",
       "      <td>I-org</td>\n",
       "      <td>O</td>\n",
       "      <td>org</td>\n",
       "      <td>O</td>\n",
       "    </tr>\n",
       "    <tr>\n",
       "      <th>755</th>\n",
       "      <td>27178</td>\n",
       "      <td>Abu</td>\n",
       "      <td>B-org</td>\n",
       "      <td>B-per</td>\n",
       "      <td>org</td>\n",
       "      <td>per</td>\n",
       "    </tr>\n",
       "    <tr>\n",
       "      <th>2518</th>\n",
       "      <td>90375</td>\n",
       "      <td>Babaker</td>\n",
       "      <td>B-org</td>\n",
       "      <td>B-per</td>\n",
       "      <td>org</td>\n",
       "      <td>per</td>\n",
       "    </tr>\n",
       "    <tr>\n",
       "      <th>2510</th>\n",
       "      <td>90096</td>\n",
       "      <td>Cerkez</td>\n",
       "      <td>B-org</td>\n",
       "      <td>B-per</td>\n",
       "      <td>org</td>\n",
       "      <td>per</td>\n",
       "    </tr>\n",
       "    <tr>\n",
       "      <th>2636</th>\n",
       "      <td>93411</td>\n",
       "      <td>Roman</td>\n",
       "      <td>B-org</td>\n",
       "      <td>B-per</td>\n",
       "      <td>org</td>\n",
       "      <td>per</td>\n",
       "    </tr>\n",
       "  </tbody>\n",
       "</table>\n",
       "</div>"
      ],
      "text/plain": [
       "      Unnamed: 0           text     gt   pred gt_trim pred_trim\n",
       "871        31805        Morocco  B-org  B-geo     org       geo\n",
       "1648       59949          Gucht  I-org  I-per     org       per\n",
       "1562       56743         Sweden  B-org  B-geo     org       geo\n",
       "1797       66088         Ghraib  I-org  I-geo     org       geo\n",
       "1054       39082          Berri  I-org  I-per     org       per\n",
       "127         4285  International  I-org      O     org         O\n",
       "755        27178            Abu  B-org  B-per     org       per\n",
       "2518       90375        Babaker  B-org  B-per     org       per\n",
       "2510       90096         Cerkez  B-org  B-per     org       per\n",
       "2636       93411          Roman  B-org  B-per     org       per"
      ]
     },
     "execution_count": 11,
     "metadata": {},
     "output_type": "execute_result"
    }
   ],
   "source": [
    "# Randomly sample 10 errors where the ground truth tag is 'org'\n",
    "tag = 'org'\n",
    "ers_miss[ers_miss['gt_trim'] == tag].sample(10, random_state=777)"
   ]
  },
  {
   "cell_type": "code",
   "execution_count": 13,
   "metadata": {},
   "outputs": [],
   "source": [
    "test = pd.read_csv('/Users/jason/svn/flair-custom/utf8/ner_test_utf8.txt', sep='\\t', header=None)"
   ]
  },
  {
   "cell_type": "markdown",
   "metadata": {},
   "source": [
    "When we look at the context for the first discrepency below, it appears that our model made a better choice than the ground truth test data provided."
   ]
  },
  {
   "cell_type": "code",
   "execution_count": 15,
   "metadata": {},
   "outputs": [
    {
     "data": {
      "text/html": [
       "<div>\n",
       "<style scoped>\n",
       "    .dataframe tbody tr th:only-of-type {\n",
       "        vertical-align: middle;\n",
       "    }\n",
       "\n",
       "    .dataframe tbody tr th {\n",
       "        vertical-align: top;\n",
       "    }\n",
       "\n",
       "    .dataframe thead th {\n",
       "        text-align: right;\n",
       "    }\n",
       "</style>\n",
       "<table border=\"1\" class=\"dataframe\">\n",
       "  <thead>\n",
       "    <tr style=\"text-align: right;\">\n",
       "      <th></th>\n",
       "      <th>0</th>\n",
       "      <th>1</th>\n",
       "    </tr>\n",
       "  </thead>\n",
       "  <tbody>\n",
       "    <tr>\n",
       "      <th>31800</th>\n",
       "      <td>in</td>\n",
       "      <td>O</td>\n",
       "    </tr>\n",
       "    <tr>\n",
       "      <th>31801</th>\n",
       "      <td>1957</td>\n",
       "      <td>B-tim</td>\n",
       "    </tr>\n",
       "    <tr>\n",
       "      <th>31802</th>\n",
       "      <td>assumed</td>\n",
       "      <td>O</td>\n",
       "    </tr>\n",
       "    <tr>\n",
       "      <th>31803</th>\n",
       "      <td>the</td>\n",
       "      <td>O</td>\n",
       "    </tr>\n",
       "    <tr>\n",
       "      <th>31804</th>\n",
       "      <td>title</td>\n",
       "      <td>O</td>\n",
       "    </tr>\n",
       "    <tr>\n",
       "      <th>31805</th>\n",
       "      <td>of</td>\n",
       "      <td>O</td>\n",
       "    </tr>\n",
       "    <tr>\n",
       "      <th>31806</th>\n",
       "      <td>king</td>\n",
       "      <td>O</td>\n",
       "    </tr>\n",
       "    <tr>\n",
       "      <th>31807</th>\n",
       "      <td>Morocco</td>\n",
       "      <td>B-org</td>\n",
       "    </tr>\n",
       "    <tr>\n",
       "      <th>31808</th>\n",
       "      <td>annexed</td>\n",
       "      <td>O</td>\n",
       "    </tr>\n",
       "    <tr>\n",
       "      <th>31809</th>\n",
       "      <td>Western</td>\n",
       "      <td>B-geo</td>\n",
       "    </tr>\n",
       "    <tr>\n",
       "      <th>31810</th>\n",
       "      <td>Sahara</td>\n",
       "      <td>I-geo</td>\n",
       "    </tr>\n",
       "    <tr>\n",
       "      <th>31811</th>\n",
       "      <td>during</td>\n",
       "      <td>O</td>\n",
       "    </tr>\n",
       "    <tr>\n",
       "      <th>31812</th>\n",
       "      <td>the</td>\n",
       "      <td>O</td>\n",
       "    </tr>\n",
       "    <tr>\n",
       "      <th>31813</th>\n",
       "      <td>late</td>\n",
       "      <td>O</td>\n",
       "    </tr>\n",
       "  </tbody>\n",
       "</table>\n",
       "</div>"
      ],
      "text/plain": [
       "             0      1\n",
       "31800       in      O\n",
       "31801     1957  B-tim\n",
       "31802  assumed      O\n",
       "31803      the      O\n",
       "31804    title      O\n",
       "31805       of      O\n",
       "31806     king      O\n",
       "31807  Morocco  B-org\n",
       "31808  annexed      O\n",
       "31809  Western  B-geo\n",
       "31810   Sahara  I-geo\n",
       "31811   during      O\n",
       "31812      the      O\n",
       "31813     late      O"
      ]
     },
     "execution_count": 15,
     "metadata": {},
     "output_type": "execute_result"
    }
   ],
   "source": [
    "# Find the context surrounding the tag with the discrepency\n",
    "test.iloc[31800:31814]"
   ]
  }
 ],
 "metadata": {
  "kernelspec": {
   "display_name": "Python 3.8.8 ('base')",
   "language": "python",
   "name": "python3"
  },
  "language_info": {
   "codemirror_mode": {
    "name": "ipython",
    "version": 3
   },
   "file_extension": ".py",
   "mimetype": "text/x-python",
   "name": "python",
   "nbconvert_exporter": "python",
   "pygments_lexer": "ipython3",
   "version": "3.8.8"
  },
  "orig_nbformat": 4,
  "vscode": {
   "interpreter": {
    "hash": "5de96e7bd8395409e1c7b7832f2239ec7bd9680ead0db1c40194c8a312bf7c20"
   }
  }
 },
 "nbformat": 4,
 "nbformat_minor": 2
}
