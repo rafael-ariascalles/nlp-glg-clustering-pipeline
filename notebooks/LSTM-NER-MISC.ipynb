{
 "cells": [
  {
   "cell_type": "code",
   "execution_count": 1,
   "id": "57cfce6b",
   "metadata": {},
   "outputs": [],
   "source": [
    "import pandas as pd\n",
    "import numpy as np\n",
    "np.random.seed(777)\n",
    "import re\n",
    "from sklearn.metrics import classification_report\n",
    "\n",
    "import tensorflow as tf\n",
    "from nerutils import NERTextPrepper"
   ]
  },
  {
   "cell_type": "code",
   "execution_count": 2,
   "id": "ffd2f805",
   "metadata": {},
   "outputs": [],
   "source": [
    "#Loading data\n",
    "data= pd.read_csv(\"../data/ner_dataset.zip\",encoding=\"latin1\")"
   ]
  },
  {
   "cell_type": "code",
   "execution_count": 3,
   "id": "db99bde9",
   "metadata": {},
   "outputs": [
    {
     "name": "stdout",
     "output_type": "stream",
     "text": [
      "Sentence #    1000616\n",
      "Word                0\n",
      "POS                 0\n",
      "Tag                 0\n",
      "dtype: int64\n"
     ]
    }
   ],
   "source": [
    "#Looking for null values\n",
    "print(data.isnull().sum())"
   ]
  },
  {
   "cell_type": "code",
   "execution_count": 4,
   "id": "875bd0df",
   "metadata": {},
   "outputs": [],
   "source": [
    "# Convert the 'Word' and 'Tag' columns\n",
    "# to numeric representation and create other\n",
    "# data we will need for the model.\n",
    "ner = NERTextPrepper(data)"
   ]
  },
  {
   "cell_type": "code",
   "execution_count": 5,
   "id": "2d638a31",
   "metadata": {},
   "outputs": [
    {
     "data": {
      "text/html": [
       "<div>\n",
       "<style scoped>\n",
       "    .dataframe tbody tr th:only-of-type {\n",
       "        vertical-align: middle;\n",
       "    }\n",
       "\n",
       "    .dataframe tbody tr th {\n",
       "        vertical-align: top;\n",
       "    }\n",
       "\n",
       "    .dataframe thead th {\n",
       "        text-align: right;\n",
       "    }\n",
       "</style>\n",
       "<table border=\"1\" class=\"dataframe\">\n",
       "  <thead>\n",
       "    <tr style=\"text-align: right;\">\n",
       "      <th></th>\n",
       "      <th>Sentence #</th>\n",
       "      <th>Word</th>\n",
       "      <th>POS</th>\n",
       "      <th>Tag</th>\n",
       "    </tr>\n",
       "  </thead>\n",
       "  <tbody>\n",
       "    <tr>\n",
       "      <th>0</th>\n",
       "      <td>Sentence: 1</td>\n",
       "      <td>thousands</td>\n",
       "      <td>NNS</td>\n",
       "      <td>O</td>\n",
       "    </tr>\n",
       "    <tr>\n",
       "      <th>1</th>\n",
       "      <td>Sentence: 1</td>\n",
       "      <td>of</td>\n",
       "      <td>IN</td>\n",
       "      <td>O</td>\n",
       "    </tr>\n",
       "    <tr>\n",
       "      <th>2</th>\n",
       "      <td>Sentence: 1</td>\n",
       "      <td>demonstrators</td>\n",
       "      <td>NNS</td>\n",
       "      <td>O</td>\n",
       "    </tr>\n",
       "    <tr>\n",
       "      <th>3</th>\n",
       "      <td>Sentence: 1</td>\n",
       "      <td>have</td>\n",
       "      <td>VBP</td>\n",
       "      <td>O</td>\n",
       "    </tr>\n",
       "    <tr>\n",
       "      <th>4</th>\n",
       "      <td>Sentence: 1</td>\n",
       "      <td>marched</td>\n",
       "      <td>VBN</td>\n",
       "      <td>O</td>\n",
       "    </tr>\n",
       "    <tr>\n",
       "      <th>5</th>\n",
       "      <td>Sentence: 1</td>\n",
       "      <td>through</td>\n",
       "      <td>IN</td>\n",
       "      <td>O</td>\n",
       "    </tr>\n",
       "    <tr>\n",
       "      <th>6</th>\n",
       "      <td>Sentence: 1</td>\n",
       "      <td>london</td>\n",
       "      <td>NNP</td>\n",
       "      <td>B-geo</td>\n",
       "    </tr>\n",
       "    <tr>\n",
       "      <th>7</th>\n",
       "      <td>Sentence: 1</td>\n",
       "      <td>to</td>\n",
       "      <td>TO</td>\n",
       "      <td>O</td>\n",
       "    </tr>\n",
       "  </tbody>\n",
       "</table>\n",
       "</div>"
      ],
      "text/plain": [
       "    Sentence #           Word  POS    Tag\n",
       "0  Sentence: 1      thousands  NNS      O\n",
       "1  Sentence: 1             of   IN      O\n",
       "2  Sentence: 1  demonstrators  NNS      O\n",
       "3  Sentence: 1           have  VBP      O\n",
       "4  Sentence: 1        marched  VBN      O\n",
       "5  Sentence: 1        through   IN      O\n",
       "6  Sentence: 1         london  NNP  B-geo\n",
       "7  Sentence: 1             to   TO      O"
      ]
     },
     "execution_count": 5,
     "metadata": {},
     "output_type": "execute_result"
    }
   ],
   "source": [
    "data.head(8)"
   ]
  },
  {
   "cell_type": "code",
   "execution_count": 6,
   "id": "42cecdf4",
   "metadata": {},
   "outputs": [
    {
     "data": {
      "text/plain": [
       "31817"
      ]
     },
     "execution_count": 6,
     "metadata": {},
     "output_type": "execute_result"
    }
   ],
   "source": [
    "ner.num_words"
   ]
  },
  {
   "cell_type": "code",
   "execution_count": 7,
   "id": "1eb690db",
   "metadata": {},
   "outputs": [
    {
     "name": "stdout",
     "output_type": "stream",
     "text": [
      "Unique Words in corpus: 31817\n",
      "Unique Tag in corpus: 13\n"
     ]
    }
   ],
   "source": [
    "print(\"Unique Words in corpus:\",ner.num_words)\n",
    "print(\"Unique Tag in corpus:\",ner.num_tags)"
   ]
  },
  {
   "cell_type": "code",
   "execution_count": 8,
   "id": "89af1793",
   "metadata": {},
   "outputs": [],
   "source": [
    "# Save word and tag dictionaries to use in deployment\n",
    "pd.DataFrame({'words': ner.word2idx.keys(), 'values': ner.word2idx.values()}).to_csv('word2dict2.csv')\n",
    "pd.DataFrame({'tag': ner.tag2idx.keys(), 'values': ner.tag2idx.values()}).to_csv('tag2dict2.csv')"
   ]
  },
  {
   "cell_type": "code",
   "execution_count": 9,
   "id": "1f581824",
   "metadata": {},
   "outputs": [],
   "source": [
    "from sklearn.model_selection import train_test_split\n",
    "x_train,x_test,y_train,y_test = train_test_split(ner.X, ner.y, test_size=0.1, random_state=1)"
   ]
  },
  {
   "cell_type": "code",
   "execution_count": 10,
   "id": "40b75107",
   "metadata": {},
   "outputs": [
    {
     "name": "stdout",
     "output_type": "stream",
     "text": [
      "Model: \"model\"\n",
      "_________________________________________________________________\n",
      " Layer (type)                Output Shape              Param #   \n",
      "=================================================================\n",
      " input_1 (InputLayer)        [(None, 50)]              0         \n",
      "                                                                 \n",
      " embedding (Embedding)       (None, 50, 50)            1590850   \n",
      "                                                                 \n",
      " spatial_dropout1d (SpatialD  (None, 50, 50)           0         \n",
      " ropout1D)                                                       \n",
      "                                                                 \n",
      " bidirectional (Bidirectiona  (None, 50, 200)          120800    \n",
      " l)                                                              \n",
      "                                                                 \n",
      " time_distributed (TimeDistr  (None, 50, 13)           2613      \n",
      " ibuted)                                                         \n",
      "                                                                 \n",
      "=================================================================\n",
      "Total params: 1,714,263\n",
      "Trainable params: 1,714,263\n",
      "Non-trainable params: 0\n",
      "_________________________________________________________________\n",
      "Epoch 1/10\n",
      "540/540 [==============================] - 39s 65ms/step - loss: 0.2698 - accuracy: 0.9425 - val_loss: 0.1168 - val_accuracy: 0.9684\n",
      "Epoch 2/10\n",
      "540/540 [==============================] - 36s 67ms/step - loss: 0.0845 - accuracy: 0.9758 - val_loss: 0.0702 - val_accuracy: 0.9789\n",
      "Epoch 3/10\n",
      "540/540 [==============================] - 43s 80ms/step - loss: 0.0583 - accuracy: 0.9825 - val_loss: 0.0631 - val_accuracy: 0.9808\n",
      "Epoch 4/10\n",
      "540/540 [==============================] - 43s 80ms/step - loss: 0.0477 - accuracy: 0.9854 - val_loss: 0.0602 - val_accuracy: 0.9817\n",
      "Epoch 5/10\n",
      "540/540 [==============================] - 40s 75ms/step - loss: 0.0411 - accuracy: 0.9870 - val_loss: 0.0605 - val_accuracy: 0.9824\n",
      "Epoch 6/10\n",
      "540/540 [==============================] - 39s 72ms/step - loss: 0.0362 - accuracy: 0.9884 - val_loss: 0.0596 - val_accuracy: 0.9825\n",
      "Epoch 7/10\n",
      "540/540 [==============================] - 38s 71ms/step - loss: 0.0327 - accuracy: 0.9894 - val_loss: 0.0615 - val_accuracy: 0.9825\n",
      "Epoch 8/10\n",
      "540/540 [==============================] - 39s 72ms/step - loss: 0.0298 - accuracy: 0.9904 - val_loss: 0.0638 - val_accuracy: 0.9823\n"
     ]
    }
   ],
   "source": [
    "history = ner.fit(x_train, y_train)"
   ]
  },
  {
   "cell_type": "code",
   "execution_count": 11,
   "id": "e852edfc",
   "metadata": {},
   "outputs": [
    {
     "name": "stdout",
     "output_type": "stream",
     "text": [
      "150/150 [==============================] - 1s 9ms/step - loss: 0.0621 - accuracy: 0.9828\n",
      "150/150 [==============================] - 2s 9ms/step\n",
      "['I-org', 'B-tim', 'B-geo', 'I-tim', 'O', 'B-misc', 'I-gpe', 'B-gpe', 'B-org', 'I-misc', 'I-per', 'I-geo', 'B-per']\n",
      "              precision    recall  f1-score   support\n",
      "\n",
      "       I-org       0.73      0.63      0.68      1629\n",
      "       B-tim       0.91      0.88      0.89      2114\n",
      "       B-geo       0.84      0.88      0.86      3765\n",
      "       I-tim       0.82      0.71      0.76       684\n",
      "           O       0.99      1.00      0.99    223746\n",
      "      B-misc       0.54      0.14      0.22        96\n",
      "       I-gpe       0.93      0.52      0.67        25\n",
      "       B-gpe       0.95      0.94      0.95      1604\n",
      "       B-org       0.75      0.63      0.69      1948\n",
      "      I-misc       0.25      0.02      0.04        83\n",
      "       I-per       0.84      0.86      0.85      1695\n",
      "       I-geo       0.77      0.75      0.76       760\n",
      "       B-per       0.83      0.81      0.82      1651\n",
      "\n",
      "    accuracy                           0.98    239800\n",
      "   macro avg       0.78      0.67      0.71    239800\n",
      "weighted avg       0.98      0.98      0.98    239800\n",
      "\n"
     ]
    }
   ],
   "source": [
    "ner.evaluate(x_test, y_test)"
   ]
  },
  {
   "cell_type": "code",
   "execution_count": 12,
   "id": "cff27a7e",
   "metadata": {},
   "outputs": [
    {
     "name": "stdout",
     "output_type": "stream",
     "text": [
      "INFO:tensorflow:Assets written to: ner-lstm-no-trailing-punct-misc/assets\n"
     ]
    }
   ],
   "source": [
    "ner.model.save('ner-lstm-no-trailing-punct-misc')"
   ]
  }
 ],
 "metadata": {
  "kernelspec": {
   "display_name": "Python 3.8.8 ('base')",
   "language": "python",
   "name": "python3"
  },
  "language_info": {
   "codemirror_mode": {
    "name": "ipython",
    "version": 3
   },
   "file_extension": ".py",
   "mimetype": "text/x-python",
   "name": "python",
   "nbconvert_exporter": "python",
   "pygments_lexer": "ipython3",
   "version": "3.8.8"
  },
  "vscode": {
   "interpreter": {
    "hash": "5de96e7bd8395409e1c7b7832f2239ec7bd9680ead0db1c40194c8a312bf7c20"
   }
  }
 },
 "nbformat": 4,
 "nbformat_minor": 5
}
